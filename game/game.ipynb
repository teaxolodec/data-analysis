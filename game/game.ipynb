{
 "cells": [
  {
   "cell_type": "markdown",
   "metadata": {},
   "source": [
    "   *«У нас нет времени для игр, мы должны воевать!»*\n",
    "\n",
    "   -- Орда, Шаман"
   ]
  },
  {
   "cell_type": "markdown",
   "metadata": {},
   "source": [
    "#  Исследование закономерностей определяющие успешность игры в 2017 году"
   ]
  },
  {
   "cell_type": "markdown",
   "metadata": {},
   "source": [
    "В данной работе по данным до 2016 интернет-магазина \"Стримчик\" будет произведена оценка параметров, определяющих успешность игр, которая позволит определить потенциально популярные продукты в 2017 году и спланировать рекламные кампании. Для анализа мы будем использовать данные количестве проданных копий разных игр от 1980 до 2016 года в разных регионах и на разных платформах. В ходе исследования мы определим популярнейшие игровые платформы и влияние отзывов критиков и пользователей на количество проданых копий."
   ]
  },
  {
   "cell_type": "markdown",
   "metadata": {},
   "source": [
    "**Цель исследования:** Провести анализ данных, который поможет разработать стратегию поведения рекламной кампании интернет-магазина \"Стримчик\" на 2017 год."
   ]
  },
  {
   "cell_type": "markdown",
   "metadata": {},
   "source": [
    "**Задачи исследования:** Определить параметры, свойственные наиболее популярным игровым продуктам и их поведение в разных регионах."
   ]
  },
  {
   "cell_type": "markdown",
   "metadata": {},
   "source": [
    "<a name=\"s1\"></a>\n",
    "## Данные"
   ]
  },
  {
   "cell_type": "markdown",
   "metadata": {},
   "source": [
    "Извлечём данные и посмотрим на них."
   ]
  },
  {
   "cell_type": "code",
   "execution_count": 1,
   "metadata": {},
   "outputs": [],
   "source": [
    "import math\n",
    "import pandas as pd\n",
    "import numpy as np\n",
    "import statistics\n",
    "from datetime import datetime\n",
    "import re\n",
    "import matplotlib.pyplot as plt\n",
    "import seaborn as sns\n",
    "import random\n",
    "from scipy.stats import pearsonr\n",
    "from scipy import stats as st"
   ]
  },
  {
   "cell_type": "markdown",
   "metadata": {},
   "source": [
    "Посмотрим на загружаемые данные."
   ]
  },
  {
   "cell_type": "code",
   "execution_count": 2,
   "metadata": {},
   "outputs": [
    {
     "data": {
      "text/html": [
       "<div>\n",
       "<style scoped>\n",
       "    .dataframe tbody tr th:only-of-type {\n",
       "        vertical-align: middle;\n",
       "    }\n",
       "\n",
       "    .dataframe tbody tr th {\n",
       "        vertical-align: top;\n",
       "    }\n",
       "\n",
       "    .dataframe thead th {\n",
       "        text-align: right;\n",
       "    }\n",
       "</style>\n",
       "<table border=\"1\" class=\"dataframe\">\n",
       "  <thead>\n",
       "    <tr style=\"text-align: right;\">\n",
       "      <th></th>\n",
       "      <th>Name</th>\n",
       "      <th>Platform</th>\n",
       "      <th>Year_of_Release</th>\n",
       "      <th>Genre</th>\n",
       "      <th>NA_sales</th>\n",
       "      <th>EU_sales</th>\n",
       "      <th>JP_sales</th>\n",
       "      <th>Other_sales</th>\n",
       "      <th>Critic_Score</th>\n",
       "      <th>User_Score</th>\n",
       "      <th>Rating</th>\n",
       "    </tr>\n",
       "  </thead>\n",
       "  <tbody>\n",
       "    <tr>\n",
       "      <th>0</th>\n",
       "      <td>Wii Sports</td>\n",
       "      <td>Wii</td>\n",
       "      <td>2006.0</td>\n",
       "      <td>Sports</td>\n",
       "      <td>41.36</td>\n",
       "      <td>28.96</td>\n",
       "      <td>3.77</td>\n",
       "      <td>8.45</td>\n",
       "      <td>76.0</td>\n",
       "      <td>8</td>\n",
       "      <td>E</td>\n",
       "    </tr>\n",
       "    <tr>\n",
       "      <th>1</th>\n",
       "      <td>Super Mario Bros.</td>\n",
       "      <td>NES</td>\n",
       "      <td>1985.0</td>\n",
       "      <td>Platform</td>\n",
       "      <td>29.08</td>\n",
       "      <td>3.58</td>\n",
       "      <td>6.81</td>\n",
       "      <td>0.77</td>\n",
       "      <td>NaN</td>\n",
       "      <td>NaN</td>\n",
       "      <td>NaN</td>\n",
       "    </tr>\n",
       "    <tr>\n",
       "      <th>2</th>\n",
       "      <td>Mario Kart Wii</td>\n",
       "      <td>Wii</td>\n",
       "      <td>2008.0</td>\n",
       "      <td>Racing</td>\n",
       "      <td>15.68</td>\n",
       "      <td>12.76</td>\n",
       "      <td>3.79</td>\n",
       "      <td>3.29</td>\n",
       "      <td>82.0</td>\n",
       "      <td>8.3</td>\n",
       "      <td>E</td>\n",
       "    </tr>\n",
       "    <tr>\n",
       "      <th>3</th>\n",
       "      <td>Wii Sports Resort</td>\n",
       "      <td>Wii</td>\n",
       "      <td>2009.0</td>\n",
       "      <td>Sports</td>\n",
       "      <td>15.61</td>\n",
       "      <td>10.93</td>\n",
       "      <td>3.28</td>\n",
       "      <td>2.95</td>\n",
       "      <td>80.0</td>\n",
       "      <td>8</td>\n",
       "      <td>E</td>\n",
       "    </tr>\n",
       "    <tr>\n",
       "      <th>4</th>\n",
       "      <td>Pokemon Red/Pokemon Blue</td>\n",
       "      <td>GB</td>\n",
       "      <td>1996.0</td>\n",
       "      <td>Role-Playing</td>\n",
       "      <td>11.27</td>\n",
       "      <td>8.89</td>\n",
       "      <td>10.22</td>\n",
       "      <td>1.00</td>\n",
       "      <td>NaN</td>\n",
       "      <td>NaN</td>\n",
       "      <td>NaN</td>\n",
       "    </tr>\n",
       "    <tr>\n",
       "      <th>5</th>\n",
       "      <td>Tetris</td>\n",
       "      <td>GB</td>\n",
       "      <td>1989.0</td>\n",
       "      <td>Puzzle</td>\n",
       "      <td>23.20</td>\n",
       "      <td>2.26</td>\n",
       "      <td>4.22</td>\n",
       "      <td>0.58</td>\n",
       "      <td>NaN</td>\n",
       "      <td>NaN</td>\n",
       "      <td>NaN</td>\n",
       "    </tr>\n",
       "    <tr>\n",
       "      <th>6</th>\n",
       "      <td>New Super Mario Bros.</td>\n",
       "      <td>DS</td>\n",
       "      <td>2006.0</td>\n",
       "      <td>Platform</td>\n",
       "      <td>11.28</td>\n",
       "      <td>9.14</td>\n",
       "      <td>6.50</td>\n",
       "      <td>2.88</td>\n",
       "      <td>89.0</td>\n",
       "      <td>8.5</td>\n",
       "      <td>E</td>\n",
       "    </tr>\n",
       "    <tr>\n",
       "      <th>7</th>\n",
       "      <td>Wii Play</td>\n",
       "      <td>Wii</td>\n",
       "      <td>2006.0</td>\n",
       "      <td>Misc</td>\n",
       "      <td>13.96</td>\n",
       "      <td>9.18</td>\n",
       "      <td>2.93</td>\n",
       "      <td>2.84</td>\n",
       "      <td>58.0</td>\n",
       "      <td>6.6</td>\n",
       "      <td>E</td>\n",
       "    </tr>\n",
       "    <tr>\n",
       "      <th>8</th>\n",
       "      <td>New Super Mario Bros. Wii</td>\n",
       "      <td>Wii</td>\n",
       "      <td>2009.0</td>\n",
       "      <td>Platform</td>\n",
       "      <td>14.44</td>\n",
       "      <td>6.94</td>\n",
       "      <td>4.70</td>\n",
       "      <td>2.24</td>\n",
       "      <td>87.0</td>\n",
       "      <td>8.4</td>\n",
       "      <td>E</td>\n",
       "    </tr>\n",
       "    <tr>\n",
       "      <th>9</th>\n",
       "      <td>Duck Hunt</td>\n",
       "      <td>NES</td>\n",
       "      <td>1984.0</td>\n",
       "      <td>Shooter</td>\n",
       "      <td>26.93</td>\n",
       "      <td>0.63</td>\n",
       "      <td>0.28</td>\n",
       "      <td>0.47</td>\n",
       "      <td>NaN</td>\n",
       "      <td>NaN</td>\n",
       "      <td>NaN</td>\n",
       "    </tr>\n",
       "  </tbody>\n",
       "</table>\n",
       "</div>"
      ],
      "text/plain": [
       "                        Name Platform  Year_of_Release         Genre  \\\n",
       "0                 Wii Sports      Wii           2006.0        Sports   \n",
       "1          Super Mario Bros.      NES           1985.0      Platform   \n",
       "2             Mario Kart Wii      Wii           2008.0        Racing   \n",
       "3          Wii Sports Resort      Wii           2009.0        Sports   \n",
       "4   Pokemon Red/Pokemon Blue       GB           1996.0  Role-Playing   \n",
       "5                     Tetris       GB           1989.0        Puzzle   \n",
       "6      New Super Mario Bros.       DS           2006.0      Platform   \n",
       "7                   Wii Play      Wii           2006.0          Misc   \n",
       "8  New Super Mario Bros. Wii      Wii           2009.0      Platform   \n",
       "9                  Duck Hunt      NES           1984.0       Shooter   \n",
       "\n",
       "   NA_sales  EU_sales  JP_sales  Other_sales  Critic_Score User_Score Rating  \n",
       "0     41.36     28.96      3.77         8.45          76.0          8      E  \n",
       "1     29.08      3.58      6.81         0.77           NaN        NaN    NaN  \n",
       "2     15.68     12.76      3.79         3.29          82.0        8.3      E  \n",
       "3     15.61     10.93      3.28         2.95          80.0          8      E  \n",
       "4     11.27      8.89     10.22         1.00           NaN        NaN    NaN  \n",
       "5     23.20      2.26      4.22         0.58           NaN        NaN    NaN  \n",
       "6     11.28      9.14      6.50         2.88          89.0        8.5      E  \n",
       "7     13.96      9.18      2.93         2.84          58.0        6.6      E  \n",
       "8     14.44      6.94      4.70         2.24          87.0        8.4      E  \n",
       "9     26.93      0.63      0.28         0.47           NaN        NaN    NaN  "
      ]
     },
     "execution_count": 2,
     "metadata": {},
     "output_type": "execute_result"
    }
   ],
   "source": [
    "data = pd.read_csv('/datasets/games.csv')\n",
    "\n",
    "data.head(10)"
   ]
  },
  {
   "cell_type": "markdown",
   "metadata": {},
   "source": [
    "Приведём названия столбцов данных к нижнему регистру."
   ]
  },
  {
   "cell_type": "code",
   "execution_count": 3,
   "metadata": {},
   "outputs": [],
   "source": [
    "i = 0; a = []\n",
    "while i < len(data.columns):\n",
    "    a.append(data.columns[i].lower())\n",
    "    i = i + 1\n",
    "\n",
    "data.columns = a\n",
    "del a"
   ]
  },
  {
   "cell_type": "markdown",
   "metadata": {},
   "source": [
    "И посмотрим общую информацию о данных."
   ]
  },
  {
   "cell_type": "code",
   "execution_count": 4,
   "metadata": {},
   "outputs": [
    {
     "name": "stdout",
     "output_type": "stream",
     "text": [
      "<class 'pandas.core.frame.DataFrame'>\n",
      "RangeIndex: 16715 entries, 0 to 16714\n",
      "Data columns (total 11 columns):\n",
      " #   Column           Non-Null Count  Dtype  \n",
      "---  ------           --------------  -----  \n",
      " 0   name             16713 non-null  object \n",
      " 1   platform         16715 non-null  object \n",
      " 2   year_of_release  16446 non-null  float64\n",
      " 3   genre            16713 non-null  object \n",
      " 4   na_sales         16715 non-null  float64\n",
      " 5   eu_sales         16715 non-null  float64\n",
      " 6   jp_sales         16715 non-null  float64\n",
      " 7   other_sales      16715 non-null  float64\n",
      " 8   critic_score     8137 non-null   float64\n",
      " 9   user_score       10014 non-null  object \n",
      " 10  rating           9949 non-null   object \n",
      "dtypes: float64(6), object(5)\n",
      "memory usage: 1.4+ MB\n"
     ]
    }
   ],
   "source": [
    "data.info()"
   ]
  },
  {
   "cell_type": "markdown",
   "metadata": {},
   "source": [
    "У нас есть данные по играм за 36 лет."
   ]
  },
  {
   "cell_type": "code",
   "execution_count": 5,
   "metadata": {},
   "outputs": [
    {
     "name": "stdout",
     "output_type": "stream",
     "text": [
      "1980.0 - 2016.0\n"
     ]
    }
   ],
   "source": [
    "print(min(data['year_of_release']), '-', max(data['year_of_release']))"
   ]
  },
  {
   "cell_type": "markdown",
   "metadata": {},
   "source": [
    "Количество платформ в указанных данных поражает воображение."
   ]
  },
  {
   "cell_type": "code",
   "execution_count": 6,
   "metadata": {},
   "outputs": [
    {
     "data": {
      "text/plain": [
       "PS2     2161\n",
       "DS      2151\n",
       "PS3     1331\n",
       "Wii     1320\n",
       "X360    1262\n",
       "PSP     1209\n",
       "PS      1197\n",
       "PC       974\n",
       "XB       824\n",
       "GBA      822\n",
       "GC       556\n",
       "3DS      520\n",
       "PSV      430\n",
       "PS4      392\n",
       "N64      319\n",
       "XOne     247\n",
       "SNES     239\n",
       "SAT      173\n",
       "WiiU     147\n",
       "2600     133\n",
       "GB        98\n",
       "NES       98\n",
       "DC        52\n",
       "GEN       29\n",
       "NG        12\n",
       "WS         6\n",
       "SCD        6\n",
       "3DO        3\n",
       "TG16       2\n",
       "PCFX       1\n",
       "GG         1\n",
       "Name: platform, dtype: int64"
      ]
     },
     "execution_count": 6,
     "metadata": {},
     "output_type": "execute_result"
    }
   ],
   "source": [
    "data['platform'].value_counts()"
   ]
  },
  {
   "cell_type": "markdown",
   "metadata": {},
   "source": [
    "Количество уникальных имён игр значительно меньше общего количичества релизов. Это не ошибка, ниже будет указано, почему так произошло."
   ]
  },
  {
   "cell_type": "code",
   "execution_count": 7,
   "metadata": {},
   "outputs": [
    {
     "data": {
      "text/plain": [
       "11560"
      ]
     },
     "execution_count": 7,
     "metadata": {},
     "output_type": "execute_result"
    }
   ],
   "source": [
    "len(data['name'].unique())"
   ]
  },
  {
   "cell_type": "markdown",
   "metadata": {},
   "source": [
    "Всего 12 жанров, каждой игре соответсвует только один."
   ]
  },
  {
   "cell_type": "code",
   "execution_count": 8,
   "metadata": {},
   "outputs": [
    {
     "data": {
      "text/plain": [
       "Action          3369\n",
       "Sports          2348\n",
       "Misc            1750\n",
       "Role-Playing    1498\n",
       "Shooter         1323\n",
       "Adventure       1303\n",
       "Racing          1249\n",
       "Platform         888\n",
       "Simulation       873\n",
       "Fighting         849\n",
       "Strategy         683\n",
       "Puzzle           580\n",
       "Name: genre, dtype: int64"
      ]
     },
     "execution_count": 8,
     "metadata": {},
     "output_type": "execute_result"
    }
   ],
   "source": [
    "data['genre'].value_counts()"
   ]
  },
  {
   "cell_type": "markdown",
   "metadata": {},
   "source": [
    "Далеко не у каждой игры из набора данных есть возрастной рейтинг. Лично мне знакома только одна категория возрастного рейтинга и это 'nsfw'. Так что неплохо было бы знать, что значат буквы ниже."
   ]
  },
  {
   "cell_type": "code",
   "execution_count": 9,
   "metadata": {},
   "outputs": [
    {
     "data": {
      "text/plain": [
       "NaN     6766\n",
       "E       3990\n",
       "T       2961\n",
       "M       1563\n",
       "E10+    1420\n",
       "EC         8\n",
       "K-A        3\n",
       "RP         3\n",
       "AO         1\n",
       "Name: rating, dtype: int64"
      ]
     },
     "execution_count": 9,
     "metadata": {},
     "output_type": "execute_result"
    }
   ],
   "source": [
    "data['rating'].value_counts(dropna=False)"
   ]
  },
  {
   "cell_type": "markdown",
   "metadata": {},
   "source": [
    "<a name=\"s2\"></a>\n",
    "## Предобработка"
   ]
  },
  {
   "cell_type": "markdown",
   "metadata": {},
   "source": [
    "<a name=\"s21\"></a>\n",
    "### Название"
   ]
  },
  {
   "cell_type": "markdown",
   "metadata": {},
   "source": [
    "Существуют две игры с неизвестным именем, кроме того это единственные строки с пропущенным жанром. Будем считать, что такого быть не может и существование этих строк есть результат некой технической ошибки."
   ]
  },
  {
   "cell_type": "code",
   "execution_count": 10,
   "metadata": {},
   "outputs": [
    {
     "data": {
      "text/html": [
       "<div>\n",
       "<style scoped>\n",
       "    .dataframe tbody tr th:only-of-type {\n",
       "        vertical-align: middle;\n",
       "    }\n",
       "\n",
       "    .dataframe tbody tr th {\n",
       "        vertical-align: top;\n",
       "    }\n",
       "\n",
       "    .dataframe thead th {\n",
       "        text-align: right;\n",
       "    }\n",
       "</style>\n",
       "<table border=\"1\" class=\"dataframe\">\n",
       "  <thead>\n",
       "    <tr style=\"text-align: right;\">\n",
       "      <th></th>\n",
       "      <th>name</th>\n",
       "      <th>platform</th>\n",
       "      <th>year_of_release</th>\n",
       "      <th>genre</th>\n",
       "      <th>na_sales</th>\n",
       "      <th>eu_sales</th>\n",
       "      <th>jp_sales</th>\n",
       "      <th>other_sales</th>\n",
       "      <th>critic_score</th>\n",
       "      <th>user_score</th>\n",
       "      <th>rating</th>\n",
       "    </tr>\n",
       "  </thead>\n",
       "  <tbody>\n",
       "    <tr>\n",
       "      <th>659</th>\n",
       "      <td>NaN</td>\n",
       "      <td>GEN</td>\n",
       "      <td>1993.0</td>\n",
       "      <td>NaN</td>\n",
       "      <td>1.78</td>\n",
       "      <td>0.53</td>\n",
       "      <td>0.00</td>\n",
       "      <td>0.08</td>\n",
       "      <td>NaN</td>\n",
       "      <td>NaN</td>\n",
       "      <td>NaN</td>\n",
       "    </tr>\n",
       "    <tr>\n",
       "      <th>14244</th>\n",
       "      <td>NaN</td>\n",
       "      <td>GEN</td>\n",
       "      <td>1993.0</td>\n",
       "      <td>NaN</td>\n",
       "      <td>0.00</td>\n",
       "      <td>0.00</td>\n",
       "      <td>0.03</td>\n",
       "      <td>0.00</td>\n",
       "      <td>NaN</td>\n",
       "      <td>NaN</td>\n",
       "      <td>NaN</td>\n",
       "    </tr>\n",
       "  </tbody>\n",
       "</table>\n",
       "</div>"
      ],
      "text/plain": [
       "      name platform  year_of_release genre  na_sales  eu_sales  jp_sales  \\\n",
       "659    NaN      GEN           1993.0   NaN      1.78      0.53      0.00   \n",
       "14244  NaN      GEN           1993.0   NaN      0.00      0.00      0.03   \n",
       "\n",
       "       other_sales  critic_score user_score rating  \n",
       "659           0.08           NaN        NaN    NaN  \n",
       "14244         0.00           NaN        NaN    NaN  "
      ]
     },
     "execution_count": 10,
     "metadata": {},
     "output_type": "execute_result"
    }
   ],
   "source": [
    "data[data['name'].isna()]"
   ]
  },
  {
   "cell_type": "markdown",
   "metadata": {},
   "source": [
    "Поскольку таких строк всего две, то удалим обе."
   ]
  },
  {
   "cell_type": "code",
   "execution_count": 11,
   "metadata": {},
   "outputs": [],
   "source": [
    "data = data.drop([659, 14244])"
   ]
  },
  {
   "cell_type": "markdown",
   "metadata": {},
   "source": [
    "Кроме того существуют сроки с повторяющимеся именами."
   ]
  },
  {
   "cell_type": "code",
   "execution_count": 12,
   "metadata": {},
   "outputs": [
    {
     "data": {
      "text/plain": [
       "Need for Speed: Most Wanted     12\n",
       "LEGO Marvel Super Heroes         9\n",
       "Madden NFL 07                    9\n",
       "FIFA 14                          9\n",
       "Ratatouille                      9\n",
       "Cars                             8\n",
       "LEGO The Hobbit                  8\n",
       "Lego Batman 3: Beyond Gotham     8\n",
       "Angry Birds Star Wars            8\n",
       "FIFA Soccer 13                   8\n",
       "Name: name, dtype: int64"
      ]
     },
     "execution_count": 12,
     "metadata": {},
     "output_type": "execute_result"
    }
   ],
   "source": [
    "data['name'].value_counts().head(10)"
   ]
  },
  {
   "cell_type": "markdown",
   "metadata": {},
   "source": [
    "<a name=\"m2\"></a>\n",
    "\n",
    "Может показаться, что это дубликаты, однако при детальном рассмотрении оказывается, что это переиздания одних и тех же игр на разных платформах и/или в разные годы, поэтому с такими \"дубликатами\" не требуется производить дополнительных действий на данном этапе."
   ]
  },
  {
   "cell_type": "code",
   "execution_count": 13,
   "metadata": {},
   "outputs": [
    {
     "data": {
      "text/html": [
       "<div>\n",
       "<style scoped>\n",
       "    .dataframe tbody tr th:only-of-type {\n",
       "        vertical-align: middle;\n",
       "    }\n",
       "\n",
       "    .dataframe tbody tr th {\n",
       "        vertical-align: top;\n",
       "    }\n",
       "\n",
       "    .dataframe thead th {\n",
       "        text-align: right;\n",
       "    }\n",
       "</style>\n",
       "<table border=\"1\" class=\"dataframe\">\n",
       "  <thead>\n",
       "    <tr style=\"text-align: right;\">\n",
       "      <th></th>\n",
       "      <th>name</th>\n",
       "      <th>platform</th>\n",
       "      <th>year_of_release</th>\n",
       "      <th>genre</th>\n",
       "      <th>na_sales</th>\n",
       "      <th>eu_sales</th>\n",
       "      <th>jp_sales</th>\n",
       "      <th>other_sales</th>\n",
       "      <th>critic_score</th>\n",
       "      <th>user_score</th>\n",
       "      <th>rating</th>\n",
       "    </tr>\n",
       "  </thead>\n",
       "  <tbody>\n",
       "    <tr>\n",
       "      <th>253</th>\n",
       "      <td>Need for Speed: Most Wanted</td>\n",
       "      <td>PS2</td>\n",
       "      <td>2005.0</td>\n",
       "      <td>Racing</td>\n",
       "      <td>2.03</td>\n",
       "      <td>1.79</td>\n",
       "      <td>0.08</td>\n",
       "      <td>0.47</td>\n",
       "      <td>82.0</td>\n",
       "      <td>9.1</td>\n",
       "      <td>T</td>\n",
       "    </tr>\n",
       "    <tr>\n",
       "      <th>523</th>\n",
       "      <td>Need for Speed: Most Wanted</td>\n",
       "      <td>PS3</td>\n",
       "      <td>2012.0</td>\n",
       "      <td>Racing</td>\n",
       "      <td>0.71</td>\n",
       "      <td>1.46</td>\n",
       "      <td>0.06</td>\n",
       "      <td>0.58</td>\n",
       "      <td>NaN</td>\n",
       "      <td>NaN</td>\n",
       "      <td>NaN</td>\n",
       "    </tr>\n",
       "    <tr>\n",
       "      <th>1190</th>\n",
       "      <td>Need for Speed: Most Wanted</td>\n",
       "      <td>X360</td>\n",
       "      <td>2012.0</td>\n",
       "      <td>Racing</td>\n",
       "      <td>0.62</td>\n",
       "      <td>0.78</td>\n",
       "      <td>0.01</td>\n",
       "      <td>0.15</td>\n",
       "      <td>83.0</td>\n",
       "      <td>8.5</td>\n",
       "      <td>T</td>\n",
       "    </tr>\n",
       "    <tr>\n",
       "      <th>1591</th>\n",
       "      <td>Need for Speed: Most Wanted</td>\n",
       "      <td>X360</td>\n",
       "      <td>2005.0</td>\n",
       "      <td>Racing</td>\n",
       "      <td>1.00</td>\n",
       "      <td>0.13</td>\n",
       "      <td>0.02</td>\n",
       "      <td>0.10</td>\n",
       "      <td>83.0</td>\n",
       "      <td>8.5</td>\n",
       "      <td>T</td>\n",
       "    </tr>\n",
       "    <tr>\n",
       "      <th>1998</th>\n",
       "      <td>Need for Speed: Most Wanted</td>\n",
       "      <td>XB</td>\n",
       "      <td>2005.0</td>\n",
       "      <td>Racing</td>\n",
       "      <td>0.53</td>\n",
       "      <td>0.46</td>\n",
       "      <td>0.00</td>\n",
       "      <td>0.05</td>\n",
       "      <td>83.0</td>\n",
       "      <td>8.8</td>\n",
       "      <td>T</td>\n",
       "    </tr>\n",
       "    <tr>\n",
       "      <th>2048</th>\n",
       "      <td>Need for Speed: Most Wanted</td>\n",
       "      <td>PSV</td>\n",
       "      <td>2012.0</td>\n",
       "      <td>Racing</td>\n",
       "      <td>0.33</td>\n",
       "      <td>0.45</td>\n",
       "      <td>0.01</td>\n",
       "      <td>0.22</td>\n",
       "      <td>NaN</td>\n",
       "      <td>NaN</td>\n",
       "      <td>NaN</td>\n",
       "    </tr>\n",
       "    <tr>\n",
       "      <th>3581</th>\n",
       "      <td>Need for Speed: Most Wanted</td>\n",
       "      <td>GC</td>\n",
       "      <td>2005.0</td>\n",
       "      <td>Racing</td>\n",
       "      <td>0.43</td>\n",
       "      <td>0.11</td>\n",
       "      <td>0.00</td>\n",
       "      <td>0.02</td>\n",
       "      <td>80.0</td>\n",
       "      <td>9.1</td>\n",
       "      <td>T</td>\n",
       "    </tr>\n",
       "    <tr>\n",
       "      <th>5972</th>\n",
       "      <td>Need for Speed: Most Wanted</td>\n",
       "      <td>PC</td>\n",
       "      <td>2005.0</td>\n",
       "      <td>Racing</td>\n",
       "      <td>0.02</td>\n",
       "      <td>0.23</td>\n",
       "      <td>0.00</td>\n",
       "      <td>0.04</td>\n",
       "      <td>82.0</td>\n",
       "      <td>8.5</td>\n",
       "      <td>T</td>\n",
       "    </tr>\n",
       "    <tr>\n",
       "      <th>6273</th>\n",
       "      <td>Need for Speed: Most Wanted</td>\n",
       "      <td>WiiU</td>\n",
       "      <td>2013.0</td>\n",
       "      <td>Racing</td>\n",
       "      <td>0.13</td>\n",
       "      <td>0.12</td>\n",
       "      <td>0.00</td>\n",
       "      <td>0.02</td>\n",
       "      <td>NaN</td>\n",
       "      <td>NaN</td>\n",
       "      <td>NaN</td>\n",
       "    </tr>\n",
       "    <tr>\n",
       "      <th>6410</th>\n",
       "      <td>Need for Speed: Most Wanted</td>\n",
       "      <td>DS</td>\n",
       "      <td>2005.0</td>\n",
       "      <td>Racing</td>\n",
       "      <td>0.24</td>\n",
       "      <td>0.01</td>\n",
       "      <td>0.00</td>\n",
       "      <td>0.02</td>\n",
       "      <td>45.0</td>\n",
       "      <td>6.1</td>\n",
       "      <td>E</td>\n",
       "    </tr>\n",
       "    <tr>\n",
       "      <th>6473</th>\n",
       "      <td>Need for Speed: Most Wanted</td>\n",
       "      <td>GBA</td>\n",
       "      <td>2005.0</td>\n",
       "      <td>Racing</td>\n",
       "      <td>0.19</td>\n",
       "      <td>0.07</td>\n",
       "      <td>0.00</td>\n",
       "      <td>0.00</td>\n",
       "      <td>NaN</td>\n",
       "      <td>8.3</td>\n",
       "      <td>E</td>\n",
       "    </tr>\n",
       "    <tr>\n",
       "      <th>11715</th>\n",
       "      <td>Need for Speed: Most Wanted</td>\n",
       "      <td>PC</td>\n",
       "      <td>2012.0</td>\n",
       "      <td>Racing</td>\n",
       "      <td>0.00</td>\n",
       "      <td>0.06</td>\n",
       "      <td>0.00</td>\n",
       "      <td>0.02</td>\n",
       "      <td>82.0</td>\n",
       "      <td>8.5</td>\n",
       "      <td>T</td>\n",
       "    </tr>\n",
       "  </tbody>\n",
       "</table>\n",
       "</div>"
      ],
      "text/plain": [
       "                              name platform  year_of_release   genre  \\\n",
       "253    Need for Speed: Most Wanted      PS2           2005.0  Racing   \n",
       "523    Need for Speed: Most Wanted      PS3           2012.0  Racing   \n",
       "1190   Need for Speed: Most Wanted     X360           2012.0  Racing   \n",
       "1591   Need for Speed: Most Wanted     X360           2005.0  Racing   \n",
       "1998   Need for Speed: Most Wanted       XB           2005.0  Racing   \n",
       "2048   Need for Speed: Most Wanted      PSV           2012.0  Racing   \n",
       "3581   Need for Speed: Most Wanted       GC           2005.0  Racing   \n",
       "5972   Need for Speed: Most Wanted       PC           2005.0  Racing   \n",
       "6273   Need for Speed: Most Wanted     WiiU           2013.0  Racing   \n",
       "6410   Need for Speed: Most Wanted       DS           2005.0  Racing   \n",
       "6473   Need for Speed: Most Wanted      GBA           2005.0  Racing   \n",
       "11715  Need for Speed: Most Wanted       PC           2012.0  Racing   \n",
       "\n",
       "       na_sales  eu_sales  jp_sales  other_sales  critic_score user_score  \\\n",
       "253        2.03      1.79      0.08         0.47          82.0        9.1   \n",
       "523        0.71      1.46      0.06         0.58           NaN        NaN   \n",
       "1190       0.62      0.78      0.01         0.15          83.0        8.5   \n",
       "1591       1.00      0.13      0.02         0.10          83.0        8.5   \n",
       "1998       0.53      0.46      0.00         0.05          83.0        8.8   \n",
       "2048       0.33      0.45      0.01         0.22           NaN        NaN   \n",
       "3581       0.43      0.11      0.00         0.02          80.0        9.1   \n",
       "5972       0.02      0.23      0.00         0.04          82.0        8.5   \n",
       "6273       0.13      0.12      0.00         0.02           NaN        NaN   \n",
       "6410       0.24      0.01      0.00         0.02          45.0        6.1   \n",
       "6473       0.19      0.07      0.00         0.00           NaN        8.3   \n",
       "11715      0.00      0.06      0.00         0.02          82.0        8.5   \n",
       "\n",
       "      rating  \n",
       "253        T  \n",
       "523      NaN  \n",
       "1190       T  \n",
       "1591       T  \n",
       "1998       T  \n",
       "2048     NaN  \n",
       "3581       T  \n",
       "5972       T  \n",
       "6273     NaN  \n",
       "6410       E  \n",
       "6473       E  \n",
       "11715      T  "
      ]
     },
     "execution_count": 13,
     "metadata": {},
     "output_type": "execute_result"
    }
   ],
   "source": [
    "data.loc[data['name'] == 'Need for Speed: Most Wanted']"
   ]
  },
  {
   "cell_type": "markdown",
   "metadata": {},
   "source": [
    "Стоит однако отметить некую странность: у одной и той же игры в разные года и на разных платформах разные возрастные рейтинги. Возможно, это результат некоторых изменений в играх для разных годов и для разных платформ, но также возможно, что в разные года менялась политика выставления оценок."
   ]
  },
  {
   "cell_type": "markdown",
   "metadata": {},
   "source": [
    "<a name=\"s22\"></a>\n",
    "### Год"
   ]
  },
  {
   "cell_type": "markdown",
   "metadata": {},
   "source": [
    "Было бы логично преобразовать года к `datetime`, но в данном анализе с годами крайне удобно работать в `int`. Отметим пропущенные года значением `-1`."
   ]
  },
  {
   "cell_type": "code",
   "execution_count": 14,
   "metadata": {},
   "outputs": [],
   "source": [
    "data.loc[data['year_of_release'].isna(), 'year_of_release'] = -1"
   ]
  },
  {
   "cell_type": "code",
   "execution_count": 15,
   "metadata": {},
   "outputs": [],
   "source": [
    "#data['year_of_release'] = pd.to_datetime(data['year_of_release'], format='%Y')\n",
    "data = data.astype({'year_of_release': 'int'})"
   ]
  },
  {
   "cell_type": "markdown",
   "metadata": {},
   "source": [
    "Некоторые года выхода в таблице пропущены, однако ряд таких пропусков можно восстановить по названию игры, если в ней указан год выпуска. Возможно, это не совсем корректно, поскольку в названии игры не обязательно указан год релиза, но лучшего решения тут нет."
   ]
  },
  {
   "cell_type": "code",
   "execution_count": 16,
   "metadata": {},
   "outputs": [],
   "source": [
    "a = data.loc[data['year_of_release'] < 0, 'name'].index; j = 0\n",
    "for i in data.loc[data['year_of_release'] < 0, 'name']:\n",
    "    y = re.search('\\d{4}', i)\n",
    "    if y != None and int(y[0]) >= 1980 and int(y[0]) <= 2016: # добавим проверку на год, чтобы исключить в наборе данных заведомо неверные года\n",
    "        data.loc[a[j], 'year_of_release'] = int(y[0])\n",
    "    j = j + 1\n",
    "\n",
    "del a"
   ]
  },
  {
   "cell_type": "code",
   "execution_count": 17,
   "metadata": {},
   "outputs": [
    {
     "data": {
      "text/plain": [
       "252"
      ]
     },
     "execution_count": 17,
     "metadata": {},
     "output_type": "execute_result"
    }
   ],
   "source": [
    "data.loc[data['year_of_release'] < 0, 'year_of_release'].count()"
   ]
  },
  {
   "cell_type": "markdown",
   "metadata": {},
   "source": [
    "Всё ещё имем большое количество пропусков, однако у нас нет информации о том, чем их можно было бы заполнить, поэтому оставим эти строки как есть, информация в них может быть полезна для анализа. Можно предположить, что результатом этих пропусков является некая техническая ошибка."
   ]
  },
  {
   "cell_type": "markdown",
   "metadata": {},
   "source": [
    "<a name=\"s23\"></a>\n",
    "### Оценки"
   ]
  },
  {
   "cell_type": "markdown",
   "metadata": {},
   "source": [
    "Существует большое количество пропусков в оценках критков, пользователей и в возрастном рейтинге."
   ]
  },
  {
   "cell_type": "code",
   "execution_count": 18,
   "metadata": {},
   "outputs": [
    {
     "data": {
      "text/plain": [
       "8576"
      ]
     },
     "execution_count": 18,
     "metadata": {},
     "output_type": "execute_result"
    }
   ],
   "source": [
    "data['critic_score'].isna().sum()"
   ]
  },
  {
   "cell_type": "code",
   "execution_count": 19,
   "metadata": {},
   "outputs": [
    {
     "data": {
      "text/plain": [
       "6699"
      ]
     },
     "execution_count": 19,
     "metadata": {},
     "output_type": "execute_result"
    }
   ],
   "source": [
    "data['user_score'].isna().sum()"
   ]
  },
  {
   "cell_type": "code",
   "execution_count": 20,
   "metadata": {},
   "outputs": [
    {
     "data": {
      "text/plain": [
       "6764"
      ]
     },
     "execution_count": 20,
     "metadata": {},
     "output_type": "execute_result"
    }
   ],
   "source": [
    "data['rating'].isna().sum()"
   ]
  },
  {
   "cell_type": "markdown",
   "metadata": {},
   "source": [
    "<a name=\"m1\"></a>\n",
    "\n",
    "Будем предполагать причиной этих пропусков тот факт, что не все игры были оценены пользователями, критиками или организацией, которая выдаёт возрастные рейтинги играм.\n",
    "\n",
    "Заметим также, что некоторые оценки от пользователей подлежат уточнению (`tbd` -> To Be Determined), что для нас равносильно незнанию оценки."
   ]
  },
  {
   "cell_type": "code",
   "execution_count": 21,
   "metadata": {},
   "outputs": [
    {
     "data": {
      "text/plain": [
       "Index(['tbd', '7.8', '8', '8.2', '8.3', '8.5', '7.5', '7.9', '8.1', '7.7',\n",
       "       '7.3', '8.4', '7.6', '7', '7.4', '8.6', '6.8', '8.7', '8.8', '7.1',\n",
       "       '7.2', '8.9', '6.6', '6.9', '6.3', '6.7', '6', '6.5', '9', '6.2', '6.4',\n",
       "       '5.8', '9.1', '6.1', '5.7', '5.9', '5.6', '5.4', '5.5', '5.3', '5',\n",
       "       '5.2', '4.8', '5.1', '9.2', '4.9', '4.6', '4.3', '4.5', '4.1', '4.4',\n",
       "       '9.3', '4.2', '3.8', '4', '3.5', '2.8', '4.7', '3.1', '3.4', '3', '3.6',\n",
       "       '3.7', '3.3', '3.2', '3.9', '2.5', '2.4', '9.4', '2', '2.1', '1.7',\n",
       "       '2.9', '2.7', '1.8', '9.5', '2.2', '1.4', '2.6', '1.2', '1.6', '2.3',\n",
       "       '0.3', '1.9', '1.3', '0.7', '0.5', '0.6', '0.2', '1', '1.5', '9.6',\n",
       "       '0.9', '1.1', '9.7', '0'],\n",
       "      dtype='object')"
      ]
     },
     "execution_count": 21,
     "metadata": {},
     "output_type": "execute_result"
    }
   ],
   "source": [
    "data['user_score'].value_counts().index"
   ]
  },
  {
   "cell_type": "markdown",
   "metadata": {},
   "source": [
    "Удалим \"уточнения\" из наших данных и преобразуем столбец к более удобному типу данных."
   ]
  },
  {
   "cell_type": "code",
   "execution_count": 22,
   "metadata": {},
   "outputs": [],
   "source": [
    "data.loc[data['user_score'] == 'tbd', 'user_score'] = math.nan\n",
    "data = data.astype({'user_score': 'float'})"
   ]
  },
  {
   "cell_type": "markdown",
   "metadata": {},
   "source": [
    "Существует соблазн заполнить хотябы некоторые из этих пропусков средними или медианными значениями повторяющихся игр, однако это может помешать корректной их оценке по определённым типам платформ, поэтому вместо того мы создадим отдельную `data2` в которой будем хранить значения среднего рейтинга критиков, среднего рейтинга пользователей, количество сборов по каждому из регионов, наиболее часто встречающегося жанра и наиболее часто встречающегося возрастного рейтинга для каждого уникального названия игры там где это возможно, а пропуски оценок в `data` оставим незаполненными."
   ]
  },
  {
   "cell_type": "code",
   "execution_count": 23,
   "metadata": {},
   "outputs": [
    {
     "data": {
      "text/plain": [
       "11559"
      ]
     },
     "execution_count": 23,
     "metadata": {},
     "output_type": "execute_result"
    }
   ],
   "source": [
    "len(data['name'].unique())"
   ]
  },
  {
   "cell_type": "markdown",
   "metadata": {},
   "source": [
    "Для того чтобы отслежить современные тенденции возьмём данные за последние 5 лет."
   ]
  },
  {
   "cell_type": "code",
   "execution_count": 24,
   "metadata": {},
   "outputs": [
    {
     "data": {
      "text/html": [
       "<div>\n",
       "<style scoped>\n",
       "    .dataframe tbody tr th:only-of-type {\n",
       "        vertical-align: middle;\n",
       "    }\n",
       "\n",
       "    .dataframe tbody tr th {\n",
       "        vertical-align: top;\n",
       "    }\n",
       "\n",
       "    .dataframe thead th {\n",
       "        text-align: right;\n",
       "    }\n",
       "</style>\n",
       "<table border=\"1\" class=\"dataframe\">\n",
       "  <thead>\n",
       "    <tr style=\"text-align: right;\">\n",
       "      <th></th>\n",
       "      <th>critic_score</th>\n",
       "      <th>eu_sales</th>\n",
       "      <th>genre</th>\n",
       "      <th>jp_sales</th>\n",
       "      <th>na_sales</th>\n",
       "      <th>other_sales</th>\n",
       "      <th>rating</th>\n",
       "      <th>user_score</th>\n",
       "    </tr>\n",
       "    <tr>\n",
       "      <th>name</th>\n",
       "      <th></th>\n",
       "      <th></th>\n",
       "      <th></th>\n",
       "      <th></th>\n",
       "      <th></th>\n",
       "      <th></th>\n",
       "      <th></th>\n",
       "      <th></th>\n",
       "    </tr>\n",
       "  </thead>\n",
       "  <tbody>\n",
       "    <tr>\n",
       "      <th>Beyblade Burst</th>\n",
       "      <td>NaN</td>\n",
       "      <td>0.00</td>\n",
       "      <td>Role-Playing</td>\n",
       "      <td>0.03</td>\n",
       "      <td>0.00</td>\n",
       "      <td>0.00</td>\n",
       "      <td>None</td>\n",
       "      <td>NaN</td>\n",
       "    </tr>\n",
       "    <tr>\n",
       "      <th>Fire Emblem Fates</th>\n",
       "      <td>NaN</td>\n",
       "      <td>0.23</td>\n",
       "      <td>Role-Playing</td>\n",
       "      <td>0.52</td>\n",
       "      <td>0.81</td>\n",
       "      <td>0.11</td>\n",
       "      <td>None</td>\n",
       "      <td>NaN</td>\n",
       "    </tr>\n",
       "    <tr>\n",
       "      <th>Frozen: Olaf's Quest</th>\n",
       "      <td>NaN</td>\n",
       "      <td>0.53</td>\n",
       "      <td>Platform</td>\n",
       "      <td>0.00</td>\n",
       "      <td>0.48</td>\n",
       "      <td>0.09</td>\n",
       "      <td>None</td>\n",
       "      <td>NaN</td>\n",
       "    </tr>\n",
       "    <tr>\n",
       "      <th>Haikyu!! Cross Team Match!</th>\n",
       "      <td>NaN</td>\n",
       "      <td>0.00</td>\n",
       "      <td>Adventure</td>\n",
       "      <td>0.04</td>\n",
       "      <td>0.00</td>\n",
       "      <td>0.00</td>\n",
       "      <td>None</td>\n",
       "      <td>NaN</td>\n",
       "    </tr>\n",
       "    <tr>\n",
       "      <th>Tales of Xillia 2</th>\n",
       "      <td>71.0</td>\n",
       "      <td>0.12</td>\n",
       "      <td>Role-Playing</td>\n",
       "      <td>0.45</td>\n",
       "      <td>0.20</td>\n",
       "      <td>0.07</td>\n",
       "      <td>T</td>\n",
       "      <td>7.9</td>\n",
       "    </tr>\n",
       "    <tr>\n",
       "      <th>.hack: Sekai no Mukou ni + Versus</th>\n",
       "      <td>NaN</td>\n",
       "      <td>0.00</td>\n",
       "      <td>Action</td>\n",
       "      <td>0.03</td>\n",
       "      <td>0.00</td>\n",
       "      <td>0.00</td>\n",
       "      <td>None</td>\n",
       "      <td>NaN</td>\n",
       "    </tr>\n",
       "    <tr>\n",
       "      <th>1/2 Summer +</th>\n",
       "      <td>NaN</td>\n",
       "      <td>0.00</td>\n",
       "      <td>Adventure</td>\n",
       "      <td>0.01</td>\n",
       "      <td>0.00</td>\n",
       "      <td>0.00</td>\n",
       "      <td>None</td>\n",
       "      <td>NaN</td>\n",
       "    </tr>\n",
       "    <tr>\n",
       "      <th>12-Sai. Honto no Kimochi</th>\n",
       "      <td>NaN</td>\n",
       "      <td>0.00</td>\n",
       "      <td>Adventure</td>\n",
       "      <td>0.07</td>\n",
       "      <td>0.00</td>\n",
       "      <td>0.00</td>\n",
       "      <td>None</td>\n",
       "      <td>NaN</td>\n",
       "    </tr>\n",
       "    <tr>\n",
       "      <th>12-Sai. Koisuru Diary</th>\n",
       "      <td>NaN</td>\n",
       "      <td>0.00</td>\n",
       "      <td>Adventure</td>\n",
       "      <td>0.05</td>\n",
       "      <td>0.00</td>\n",
       "      <td>0.00</td>\n",
       "      <td>None</td>\n",
       "      <td>NaN</td>\n",
       "    </tr>\n",
       "    <tr>\n",
       "      <th>2 in 1 Combo Pack: Sonic Heroes / Super Monkey Ball Deluxe</th>\n",
       "      <td>NaN</td>\n",
       "      <td>0.01</td>\n",
       "      <td>Misc</td>\n",
       "      <td>0.00</td>\n",
       "      <td>0.09</td>\n",
       "      <td>0.01</td>\n",
       "      <td>None</td>\n",
       "      <td>NaN</td>\n",
       "    </tr>\n",
       "  </tbody>\n",
       "</table>\n",
       "</div>"
      ],
      "text/plain": [
       "                                                    critic_score  eu_sales  \\\n",
       "name                                                                         \n",
       " Beyblade Burst                                              NaN      0.00   \n",
       " Fire Emblem Fates                                           NaN      0.23   \n",
       " Frozen: Olaf's Quest                                        NaN      0.53   \n",
       " Haikyu!! Cross Team Match!                                  NaN      0.00   \n",
       " Tales of Xillia 2                                          71.0      0.12   \n",
       ".hack: Sekai no Mukou ni + Versus                            NaN      0.00   \n",
       "1/2 Summer +                                                 NaN      0.00   \n",
       "12-Sai. Honto no Kimochi                                     NaN      0.00   \n",
       "12-Sai. Koisuru Diary                                        NaN      0.00   \n",
       "2 in 1 Combo Pack: Sonic Heroes / Super Monkey ...           NaN      0.01   \n",
       "\n",
       "                                                           genre  jp_sales  \\\n",
       "name                                                                         \n",
       " Beyblade Burst                                     Role-Playing      0.03   \n",
       " Fire Emblem Fates                                  Role-Playing      0.52   \n",
       " Frozen: Olaf's Quest                                   Platform      0.00   \n",
       " Haikyu!! Cross Team Match!                            Adventure      0.04   \n",
       " Tales of Xillia 2                                  Role-Playing      0.45   \n",
       ".hack: Sekai no Mukou ni + Versus                         Action      0.03   \n",
       "1/2 Summer +                                           Adventure      0.01   \n",
       "12-Sai. Honto no Kimochi                               Adventure      0.07   \n",
       "12-Sai. Koisuru Diary                                  Adventure      0.05   \n",
       "2 in 1 Combo Pack: Sonic Heroes / Super Monkey ...          Misc      0.00   \n",
       "\n",
       "                                                    na_sales  other_sales  \\\n",
       "name                                                                        \n",
       " Beyblade Burst                                         0.00         0.00   \n",
       " Fire Emblem Fates                                      0.81         0.11   \n",
       " Frozen: Olaf's Quest                                   0.48         0.09   \n",
       " Haikyu!! Cross Team Match!                             0.00         0.00   \n",
       " Tales of Xillia 2                                      0.20         0.07   \n",
       ".hack: Sekai no Mukou ni + Versus                       0.00         0.00   \n",
       "1/2 Summer +                                            0.00         0.00   \n",
       "12-Sai. Honto no Kimochi                                0.00         0.00   \n",
       "12-Sai. Koisuru Diary                                   0.00         0.00   \n",
       "2 in 1 Combo Pack: Sonic Heroes / Super Monkey ...      0.09         0.01   \n",
       "\n",
       "                                                   rating  user_score  \n",
       "name                                                                   \n",
       " Beyblade Burst                                      None         NaN  \n",
       " Fire Emblem Fates                                   None         NaN  \n",
       " Frozen: Olaf's Quest                                None         NaN  \n",
       " Haikyu!! Cross Team Match!                          None         NaN  \n",
       " Tales of Xillia 2                                      T         7.9  \n",
       ".hack: Sekai no Mukou ni + Versus                    None         NaN  \n",
       "1/2 Summer +                                         None         NaN  \n",
       "12-Sai. Honto no Kimochi                             None         NaN  \n",
       "12-Sai. Koisuru Diary                                None         NaN  \n",
       "2 in 1 Combo Pack: Sonic Heroes / Super Monkey ...   None         NaN  "
      ]
     },
     "execution_count": 24,
     "metadata": {},
     "output_type": "execute_result"
    }
   ],
   "source": [
    "nu = data['rating'].value_counts().index\n",
    "def aa(a): # распределяет рейтинги\n",
    "    if a.duplicated().sum() != 0:\n",
    "        if (a.mode().empty): # вот именно из-за таких ситуаций я ненавижу этот Богом проклятый подход к использованию большого количиства готовых ускоспециализированных функций\n",
    "            return None\n",
    "        if (a.mode()[0] == 'nan'): # ну вот по какой сюрреалистичной причине mode() при встрече с NaN возвращает то пустую строку, то считает его за реальное значение?\n",
    "            return None\n",
    "        return a.mode()\n",
    "    else:\n",
    "        global nu\n",
    "        a = a.tolist()\n",
    "        for i in nu: # если у нас нет частовстеречающегося рейтига игры, то берём тот который чаще всего встречается у других игр из существующих рейтингов для данной игры\n",
    "            if i in a:\n",
    "                return i\n",
    "    return None\n",
    "\n",
    "#для жанров тут будем использовать обчную моду а не функцию, подобную функцие выше, поскольку распределение жанров в представленных данных имеет боле `нормальный` вид и, соответсвенно, вероятность того, что случайно выбранная игра будет иметь наиболее встречающийся жанр меньше, чем вероятность того, что случайно выбранная игра будет иметь наиболее часто встречающийся возрастной рейтинг, кроме того будем полагать, что жанры распределены случайно, относительно индекс и если у какой-то игры будет две моды по жанрам не будет сильного перекоса в какой-либо из жанров\n",
    "data2 = pd.pivot_table(data[data['year_of_release'] >= 2012], values=['genre', 'na_sales', 'eu_sales', 'jp_sales', 'other_sales', 'critic_score', 'user_score', 'rating'], index=['name'], aggfunc={'genre' : statistics.mode, 'na_sales' : np.sum, 'eu_sales' : np.sum, 'jp_sales' : np.sum, 'other_sales' : np.sum, 'critic_score': np.mean, 'user_score': np.mean, 'rating' : aa})\n",
    "data2.head(10)"
   ]
  },
  {
   "cell_type": "markdown",
   "metadata": {},
   "source": [
    "Да, у нас всё ещё остались пропуски в оценках и возрастных рейтингах, но у нас слишком мало данных, чтобы было ясно чем их можно заполнить (медианное значение по жанрам для этих целей плохо подходит, поскольку оставит явные пики на соответсвующих распределениях, чего хотелось бы избежать), но и исключить соответсвующие строки из рассмотрения будет ошибкой, поскольку эти данные составляют значимую часть от всего массива информации."
   ]
  },
  {
   "cell_type": "markdown",
   "metadata": {},
   "source": [
    "<a name=\"s23.5\"></a>\n",
    "### Поиск дубликатов"
   ]
  },
  {
   "cell_type": "markdown",
   "metadata": {},
   "source": [
    "Как уже было сказано, в представленных данных существуют дубликаты."
   ]
  },
  {
   "cell_type": "code",
   "execution_count": 25,
   "metadata": {},
   "outputs": [
    {
     "data": {
      "text/html": [
       "<div>\n",
       "<style scoped>\n",
       "    .dataframe tbody tr th:only-of-type {\n",
       "        vertical-align: middle;\n",
       "    }\n",
       "\n",
       "    .dataframe tbody tr th {\n",
       "        vertical-align: top;\n",
       "    }\n",
       "\n",
       "    .dataframe thead th {\n",
       "        text-align: right;\n",
       "    }\n",
       "</style>\n",
       "<table border=\"1\" class=\"dataframe\">\n",
       "  <thead>\n",
       "    <tr style=\"text-align: right;\">\n",
       "      <th></th>\n",
       "      <th>name</th>\n",
       "      <th>platform</th>\n",
       "      <th>year_of_release</th>\n",
       "      <th>genre</th>\n",
       "      <th>na_sales</th>\n",
       "      <th>eu_sales</th>\n",
       "      <th>jp_sales</th>\n",
       "      <th>other_sales</th>\n",
       "      <th>critic_score</th>\n",
       "      <th>user_score</th>\n",
       "      <th>rating</th>\n",
       "    </tr>\n",
       "  </thead>\n",
       "  <tbody>\n",
       "    <tr>\n",
       "      <th>1591</th>\n",
       "      <td>Need for Speed: Most Wanted</td>\n",
       "      <td>X360</td>\n",
       "      <td>2005</td>\n",
       "      <td>Racing</td>\n",
       "      <td>1.0</td>\n",
       "      <td>0.13</td>\n",
       "      <td>0.02</td>\n",
       "      <td>0.10</td>\n",
       "      <td>83.0</td>\n",
       "      <td>8.5</td>\n",
       "      <td>T</td>\n",
       "    </tr>\n",
       "    <tr>\n",
       "      <th>4127</th>\n",
       "      <td>Sonic the Hedgehog</td>\n",
       "      <td>PS3</td>\n",
       "      <td>-1</td>\n",
       "      <td>Platform</td>\n",
       "      <td>0.0</td>\n",
       "      <td>0.48</td>\n",
       "      <td>0.00</td>\n",
       "      <td>0.00</td>\n",
       "      <td>43.0</td>\n",
       "      <td>4.1</td>\n",
       "      <td>E10+</td>\n",
       "    </tr>\n",
       "    <tr>\n",
       "      <th>11715</th>\n",
       "      <td>Need for Speed: Most Wanted</td>\n",
       "      <td>PC</td>\n",
       "      <td>2012</td>\n",
       "      <td>Racing</td>\n",
       "      <td>0.0</td>\n",
       "      <td>0.06</td>\n",
       "      <td>0.00</td>\n",
       "      <td>0.02</td>\n",
       "      <td>82.0</td>\n",
       "      <td>8.5</td>\n",
       "      <td>T</td>\n",
       "    </tr>\n",
       "    <tr>\n",
       "      <th>16230</th>\n",
       "      <td>Madden NFL 13</td>\n",
       "      <td>PS3</td>\n",
       "      <td>2012</td>\n",
       "      <td>Sports</td>\n",
       "      <td>0.0</td>\n",
       "      <td>0.01</td>\n",
       "      <td>0.00</td>\n",
       "      <td>0.00</td>\n",
       "      <td>83.0</td>\n",
       "      <td>5.5</td>\n",
       "      <td>E</td>\n",
       "    </tr>\n",
       "  </tbody>\n",
       "</table>\n",
       "</div>"
      ],
      "text/plain": [
       "                              name platform  year_of_release     genre  \\\n",
       "1591   Need for Speed: Most Wanted     X360             2005    Racing   \n",
       "4127            Sonic the Hedgehog      PS3               -1  Platform   \n",
       "11715  Need for Speed: Most Wanted       PC             2012    Racing   \n",
       "16230                Madden NFL 13      PS3             2012    Sports   \n",
       "\n",
       "       na_sales  eu_sales  jp_sales  other_sales  critic_score  user_score  \\\n",
       "1591        1.0      0.13      0.02         0.10          83.0         8.5   \n",
       "4127        0.0      0.48      0.00         0.00          43.0         4.1   \n",
       "11715       0.0      0.06      0.00         0.02          82.0         8.5   \n",
       "16230       0.0      0.01      0.00         0.00          83.0         5.5   \n",
       "\n",
       "      rating  \n",
       "1591       T  \n",
       "4127    E10+  \n",
       "11715      T  \n",
       "16230      E  "
      ]
     },
     "execution_count": 25,
     "metadata": {},
     "output_type": "execute_result"
    }
   ],
   "source": [
    "data[data[['name', 'platform']].duplicated()]"
   ]
  },
  {
   "cell_type": "markdown",
   "metadata": {},
   "source": [
    "Самая первая игра из этого списка, как уже было сказано, представляет из себя переиздание за другой год. Обратим наше внимание на вторую строку в которой дубликат представляет из себя данные за неизвестный год. Данну строку мы также оставим."
   ]
  },
  {
   "cell_type": "code",
   "execution_count": 26,
   "metadata": {},
   "outputs": [
    {
     "data": {
      "text/html": [
       "<div>\n",
       "<style scoped>\n",
       "    .dataframe tbody tr th:only-of-type {\n",
       "        vertical-align: middle;\n",
       "    }\n",
       "\n",
       "    .dataframe tbody tr th {\n",
       "        vertical-align: top;\n",
       "    }\n",
       "\n",
       "    .dataframe thead th {\n",
       "        text-align: right;\n",
       "    }\n",
       "</style>\n",
       "<table border=\"1\" class=\"dataframe\">\n",
       "  <thead>\n",
       "    <tr style=\"text-align: right;\">\n",
       "      <th></th>\n",
       "      <th>name</th>\n",
       "      <th>platform</th>\n",
       "      <th>year_of_release</th>\n",
       "      <th>genre</th>\n",
       "      <th>na_sales</th>\n",
       "      <th>eu_sales</th>\n",
       "      <th>jp_sales</th>\n",
       "      <th>other_sales</th>\n",
       "      <th>critic_score</th>\n",
       "      <th>user_score</th>\n",
       "      <th>rating</th>\n",
       "    </tr>\n",
       "  </thead>\n",
       "  <tbody>\n",
       "    <tr>\n",
       "      <th>257</th>\n",
       "      <td>Sonic the Hedgehog</td>\n",
       "      <td>GEN</td>\n",
       "      <td>1991</td>\n",
       "      <td>Platform</td>\n",
       "      <td>3.03</td>\n",
       "      <td>0.91</td>\n",
       "      <td>0.26</td>\n",
       "      <td>0.13</td>\n",
       "      <td>NaN</td>\n",
       "      <td>NaN</td>\n",
       "      <td>NaN</td>\n",
       "    </tr>\n",
       "    <tr>\n",
       "      <th>1745</th>\n",
       "      <td>Sonic the Hedgehog</td>\n",
       "      <td>PS3</td>\n",
       "      <td>2006</td>\n",
       "      <td>Platform</td>\n",
       "      <td>0.41</td>\n",
       "      <td>0.06</td>\n",
       "      <td>0.04</td>\n",
       "      <td>0.66</td>\n",
       "      <td>43.0</td>\n",
       "      <td>4.1</td>\n",
       "      <td>E10+</td>\n",
       "    </tr>\n",
       "    <tr>\n",
       "      <th>1996</th>\n",
       "      <td>Sonic the Hedgehog</td>\n",
       "      <td>X360</td>\n",
       "      <td>2006</td>\n",
       "      <td>Platform</td>\n",
       "      <td>0.44</td>\n",
       "      <td>0.48</td>\n",
       "      <td>0.00</td>\n",
       "      <td>0.11</td>\n",
       "      <td>46.0</td>\n",
       "      <td>4.4</td>\n",
       "      <td>E10+</td>\n",
       "    </tr>\n",
       "    <tr>\n",
       "      <th>4127</th>\n",
       "      <td>Sonic the Hedgehog</td>\n",
       "      <td>PS3</td>\n",
       "      <td>-1</td>\n",
       "      <td>Platform</td>\n",
       "      <td>0.00</td>\n",
       "      <td>0.48</td>\n",
       "      <td>0.00</td>\n",
       "      <td>0.00</td>\n",
       "      <td>43.0</td>\n",
       "      <td>4.1</td>\n",
       "      <td>E10+</td>\n",
       "    </tr>\n",
       "  </tbody>\n",
       "</table>\n",
       "</div>"
      ],
      "text/plain": [
       "                    name platform  year_of_release     genre  na_sales  \\\n",
       "257   Sonic the Hedgehog      GEN             1991  Platform      3.03   \n",
       "1745  Sonic the Hedgehog      PS3             2006  Platform      0.41   \n",
       "1996  Sonic the Hedgehog     X360             2006  Platform      0.44   \n",
       "4127  Sonic the Hedgehog      PS3               -1  Platform      0.00   \n",
       "\n",
       "      eu_sales  jp_sales  other_sales  critic_score  user_score rating  \n",
       "257       0.91      0.26         0.13           NaN         NaN    NaN  \n",
       "1745      0.06      0.04         0.66          43.0         4.1   E10+  \n",
       "1996      0.48      0.00         0.11          46.0         4.4   E10+  \n",
       "4127      0.48      0.00         0.00          43.0         4.1   E10+  "
      ]
     },
     "execution_count": 26,
     "metadata": {},
     "output_type": "execute_result"
    }
   ],
   "source": [
    "data[data['name'] == 'Sonic the Hedgehog']"
   ]
  },
  {
   "cell_type": "markdown",
   "metadata": {},
   "source": [
    "Последняя строка представляет из себя дубликат другой строки."
   ]
  },
  {
   "cell_type": "code",
   "execution_count": 27,
   "metadata": {
    "scrolled": true
   },
   "outputs": [
    {
     "data": {
      "text/html": [
       "<div>\n",
       "<style scoped>\n",
       "    .dataframe tbody tr th:only-of-type {\n",
       "        vertical-align: middle;\n",
       "    }\n",
       "\n",
       "    .dataframe tbody tr th {\n",
       "        vertical-align: top;\n",
       "    }\n",
       "\n",
       "    .dataframe thead th {\n",
       "        text-align: right;\n",
       "    }\n",
       "</style>\n",
       "<table border=\"1\" class=\"dataframe\">\n",
       "  <thead>\n",
       "    <tr style=\"text-align: right;\">\n",
       "      <th></th>\n",
       "      <th>name</th>\n",
       "      <th>platform</th>\n",
       "      <th>year_of_release</th>\n",
       "      <th>genre</th>\n",
       "      <th>na_sales</th>\n",
       "      <th>eu_sales</th>\n",
       "      <th>jp_sales</th>\n",
       "      <th>other_sales</th>\n",
       "      <th>critic_score</th>\n",
       "      <th>user_score</th>\n",
       "      <th>rating</th>\n",
       "    </tr>\n",
       "  </thead>\n",
       "  <tbody>\n",
       "    <tr>\n",
       "      <th>507</th>\n",
       "      <td>Madden NFL 13</td>\n",
       "      <td>X360</td>\n",
       "      <td>2012</td>\n",
       "      <td>Sports</td>\n",
       "      <td>2.53</td>\n",
       "      <td>0.15</td>\n",
       "      <td>0.0</td>\n",
       "      <td>0.17</td>\n",
       "      <td>81.0</td>\n",
       "      <td>5.8</td>\n",
       "      <td>E</td>\n",
       "    </tr>\n",
       "    <tr>\n",
       "      <th>604</th>\n",
       "      <td>Madden NFL 13</td>\n",
       "      <td>PS3</td>\n",
       "      <td>2012</td>\n",
       "      <td>Sports</td>\n",
       "      <td>2.11</td>\n",
       "      <td>0.22</td>\n",
       "      <td>0.0</td>\n",
       "      <td>0.23</td>\n",
       "      <td>83.0</td>\n",
       "      <td>5.5</td>\n",
       "      <td>E</td>\n",
       "    </tr>\n",
       "    <tr>\n",
       "      <th>3986</th>\n",
       "      <td>Madden NFL 13</td>\n",
       "      <td>Wii</td>\n",
       "      <td>2012</td>\n",
       "      <td>Sports</td>\n",
       "      <td>0.47</td>\n",
       "      <td>0.00</td>\n",
       "      <td>0.0</td>\n",
       "      <td>0.03</td>\n",
       "      <td>NaN</td>\n",
       "      <td>7.3</td>\n",
       "      <td>E</td>\n",
       "    </tr>\n",
       "    <tr>\n",
       "      <th>5887</th>\n",
       "      <td>Madden NFL 13</td>\n",
       "      <td>PSV</td>\n",
       "      <td>2012</td>\n",
       "      <td>Sports</td>\n",
       "      <td>0.28</td>\n",
       "      <td>0.00</td>\n",
       "      <td>0.0</td>\n",
       "      <td>0.02</td>\n",
       "      <td>63.0</td>\n",
       "      <td>7.3</td>\n",
       "      <td>E</td>\n",
       "    </tr>\n",
       "    <tr>\n",
       "      <th>7066</th>\n",
       "      <td>Madden NFL 13</td>\n",
       "      <td>WiiU</td>\n",
       "      <td>2012</td>\n",
       "      <td>Sports</td>\n",
       "      <td>0.21</td>\n",
       "      <td>0.00</td>\n",
       "      <td>0.0</td>\n",
       "      <td>0.02</td>\n",
       "      <td>75.0</td>\n",
       "      <td>6.7</td>\n",
       "      <td>E</td>\n",
       "    </tr>\n",
       "    <tr>\n",
       "      <th>16230</th>\n",
       "      <td>Madden NFL 13</td>\n",
       "      <td>PS3</td>\n",
       "      <td>2012</td>\n",
       "      <td>Sports</td>\n",
       "      <td>0.00</td>\n",
       "      <td>0.01</td>\n",
       "      <td>0.0</td>\n",
       "      <td>0.00</td>\n",
       "      <td>83.0</td>\n",
       "      <td>5.5</td>\n",
       "      <td>E</td>\n",
       "    </tr>\n",
       "  </tbody>\n",
       "</table>\n",
       "</div>"
      ],
      "text/plain": [
       "                name platform  year_of_release   genre  na_sales  eu_sales  \\\n",
       "507    Madden NFL 13     X360             2012  Sports      2.53      0.15   \n",
       "604    Madden NFL 13      PS3             2012  Sports      2.11      0.22   \n",
       "3986   Madden NFL 13      Wii             2012  Sports      0.47      0.00   \n",
       "5887   Madden NFL 13      PSV             2012  Sports      0.28      0.00   \n",
       "7066   Madden NFL 13     WiiU             2012  Sports      0.21      0.00   \n",
       "16230  Madden NFL 13      PS3             2012  Sports      0.00      0.01   \n",
       "\n",
       "       jp_sales  other_sales  critic_score  user_score rating  \n",
       "507         0.0         0.17          81.0         5.8      E  \n",
       "604         0.0         0.23          83.0         5.5      E  \n",
       "3986        0.0         0.03           NaN         7.3      E  \n",
       "5887        0.0         0.02          63.0         7.3      E  \n",
       "7066        0.0         0.02          75.0         6.7      E  \n",
       "16230       0.0         0.00          83.0         5.5      E  "
      ]
     },
     "execution_count": 27,
     "metadata": {},
     "output_type": "execute_result"
    }
   ],
   "source": [
    "data[data['name'] == 'Madden NFL 13']"
   ]
  },
  {
   "cell_type": "markdown",
   "metadata": {},
   "source": [
    "Можно добавить её копии к уже существующей и удалить её."
   ]
  },
  {
   "cell_type": "code",
   "execution_count": 28,
   "metadata": {},
   "outputs": [],
   "source": [
    "data.loc[604, 'eu_sales'] = data.loc[604, 'eu_sales'] + data.loc[16230, 'eu_sales']\n",
    "data = data.drop(16230)"
   ]
  },
  {
   "cell_type": "markdown",
   "metadata": {},
   "source": [
    "<a name=\"s24\"></a>\n",
    "### Сумма продаж"
   ]
  },
  {
   "cell_type": "markdown",
   "metadata": {},
   "source": [
    "Для дальнейшего анализа будет полезно добавить дополнительные столбцы с суммой количества проданных копий продаж по всем регионам для `data` и `data2`."
   ]
  },
  {
   "cell_type": "code",
   "execution_count": 29,
   "metadata": {},
   "outputs": [],
   "source": [
    "data['sales'] = data['na_sales'] + data['eu_sales'] + data['jp_sales'] + data['other_sales']\n",
    "data2['sales'] = data2['na_sales'] + data2['eu_sales'] + data2['jp_sales'] + data2['other_sales']"
   ]
  },
  {
   "cell_type": "markdown",
   "metadata": {},
   "source": [
    "<a name=\"s25\"></a>\n",
    "### Итог"
   ]
  },
  {
   "cell_type": "markdown",
   "metadata": {},
   "source": [
    "Данные приведены к удобному для анализа формату, некоторые пробелы в данных были заполнены, для других же подходящих данных не оказалось. Была создана дополнительная таблица в которой собрана информация об играх по уникальному имени. Кроме того был создан новый столбец с суммой средсв продаж по всем регионам."
   ]
  },
  {
   "cell_type": "code",
   "execution_count": 30,
   "metadata": {},
   "outputs": [
    {
     "name": "stdout",
     "output_type": "stream",
     "text": [
      "<class 'pandas.core.frame.DataFrame'>\n",
      "Int64Index: 16712 entries, 0 to 16714\n",
      "Data columns (total 12 columns):\n",
      " #   Column           Non-Null Count  Dtype  \n",
      "---  ------           --------------  -----  \n",
      " 0   name             16712 non-null  object \n",
      " 1   platform         16712 non-null  object \n",
      " 2   year_of_release  16712 non-null  int64  \n",
      " 3   genre            16712 non-null  object \n",
      " 4   na_sales         16712 non-null  float64\n",
      " 5   eu_sales         16712 non-null  float64\n",
      " 6   jp_sales         16712 non-null  float64\n",
      " 7   other_sales      16712 non-null  float64\n",
      " 8   critic_score     8136 non-null   float64\n",
      " 9   user_score       7589 non-null   float64\n",
      " 10  rating           9948 non-null   object \n",
      " 11  sales            16712 non-null  float64\n",
      "dtypes: float64(7), int64(1), object(4)\n",
      "memory usage: 1.7+ MB\n"
     ]
    }
   ],
   "source": [
    "data.info()"
   ]
  },
  {
   "cell_type": "code",
   "execution_count": 31,
   "metadata": {},
   "outputs": [
    {
     "name": "stdout",
     "output_type": "stream",
     "text": [
      "<class 'pandas.core.frame.DataFrame'>\n",
      "Index: 1671 entries,  Beyblade Burst to inFAMOUS: Second Son\n",
      "Data columns (total 9 columns):\n",
      " #   Column        Non-Null Count  Dtype  \n",
      "---  ------        --------------  -----  \n",
      " 0   critic_score  736 non-null    float64\n",
      " 1   eu_sales      1671 non-null   float64\n",
      " 2   genre         1671 non-null   object \n",
      " 3   jp_sales      1671 non-null   float64\n",
      " 4   na_sales      1671 non-null   float64\n",
      " 5   other_sales   1671 non-null   float64\n",
      " 6   rating        772 non-null    object \n",
      " 7   user_score    764 non-null    float64\n",
      " 8   sales         1671 non-null   float64\n",
      "dtypes: float64(7), object(2)\n",
      "memory usage: 130.5+ KB\n"
     ]
    }
   ],
   "source": [
    "data2.info()"
   ]
  },
  {
   "cell_type": "markdown",
   "metadata": {},
   "source": [
    "## Непосредственно анализ"
   ]
  },
  {
   "cell_type": "markdown",
   "metadata": {},
   "source": [
    "Видно, что за последние пять лет количество релизов игр сократилось по сравнению с предыдущем периодом. Цветами на графике показана доля проданых копий за указанный год."
   ]
  },
  {
   "cell_type": "code",
   "execution_count": 32,
   "metadata": {
    "scrolled": false
   },
   "outputs": [
    {
     "data": {
      "text/plain": [
       "Text(0.5, 0, 'год')"
      ]
     },
     "execution_count": 32,
     "metadata": {},
     "output_type": "execute_result"
    },
    {
     "data": {
      "image/png": "[encoded data removed]",
      "text/plain": [
       "<Figure size 720x432 with 1 Axes>"
      ]
     },
     "metadata": {
      "needs_background": "light"
     },
     "output_type": "display_data"
    }
   ],
   "source": [
    "palet = sns.color_palette(\"Spectral\", 31)\n",
    "random.shuffle(palet)\n",
    "\n",
    "(\n",
    "    pd.pivot_table(data[data['year_of_release'] > 0], index=['year_of_release'], values='sales', columns=['platform'], aggfunc='sum')\n",
    "    .plot(kind='bar', stacked=True, figsize=(10,6), align='center', legend=False, color=palet)\n",
    ")\n",
    "plt.title('Количество игр в разные годы')\n",
    "plt.ylabel('количество проданых копий, $10^6$ шт', style='italic')\n",
    "plt.xlabel('год', style='italic')"
   ]
  },
  {
   "cell_type": "markdown",
   "metadata": {},
   "source": [
    "Хоть тенденции заложенные 20+ лет назад безусловно находят отражение в 2017 году, в том смысле в котором вчерашний день является отражением сегодняшнего, сегодняшний является отражением завтрашнего, а завтрашний является отражением послезавтрашнего, стоит признать, что ближайшие по времени года яснее показывают текущее положение вещей. Например, на графике видно, что за последние 6 лет на некоторой платформе (обозначенной нижней с 2004 по 2010 года) продаётся намного меньше копий, чем за предудущие 6 лет, а к 2014 году оно и вовсе стало равно нулю. В данном анализе мы будем в основном рассматривать влияние последних пяти лет (с 2012 года включительно), чтобы строить прогнозы на будущие года. Такой промежуток обусловлен тем, что общее количество проданых копий за эти года примерно равно друг другу (исключая 2016 год, по которому имеется некоторый недостаток данных)."
   ]
  },
  {
   "cell_type": "markdown",
   "metadata": {},
   "source": [
    "Можно дополнительно убедиться в справедливости тезиса указанного выше сравнив 8 лидерующих платформ по количествам продаж за всё время"
   ]
  },
  {
   "cell_type": "code",
   "execution_count": 33,
   "metadata": {},
   "outputs": [
    {
     "data": {
      "text/html": [
       "<div>\n",
       "<style scoped>\n",
       "    .dataframe tbody tr th:only-of-type {\n",
       "        vertical-align: middle;\n",
       "    }\n",
       "\n",
       "    .dataframe tbody tr th {\n",
       "        vertical-align: top;\n",
       "    }\n",
       "\n",
       "    .dataframe thead th {\n",
       "        text-align: right;\n",
       "    }\n",
       "</style>\n",
       "<table border=\"1\" class=\"dataframe\">\n",
       "  <thead>\n",
       "    <tr style=\"text-align: right;\">\n",
       "      <th></th>\n",
       "      <th>sales</th>\n",
       "    </tr>\n",
       "    <tr>\n",
       "      <th>platform</th>\n",
       "      <th></th>\n",
       "    </tr>\n",
       "  </thead>\n",
       "  <tbody>\n",
       "    <tr>\n",
       "      <th>PS2</th>\n",
       "      <td>1255.77</td>\n",
       "    </tr>\n",
       "    <tr>\n",
       "      <th>X360</th>\n",
       "      <td>971.42</td>\n",
       "    </tr>\n",
       "    <tr>\n",
       "      <th>PS3</th>\n",
       "      <td>939.65</td>\n",
       "    </tr>\n",
       "    <tr>\n",
       "      <th>Wii</th>\n",
       "      <td>907.51</td>\n",
       "    </tr>\n",
       "    <tr>\n",
       "      <th>DS</th>\n",
       "      <td>806.12</td>\n",
       "    </tr>\n",
       "    <tr>\n",
       "      <th>PS</th>\n",
       "      <td>730.86</td>\n",
       "    </tr>\n",
       "    <tr>\n",
       "      <th>GBA</th>\n",
       "      <td>317.85</td>\n",
       "    </tr>\n",
       "    <tr>\n",
       "      <th>PS4</th>\n",
       "      <td>314.14</td>\n",
       "    </tr>\n",
       "  </tbody>\n",
       "</table>\n",
       "</div>"
      ],
      "text/plain": [
       "            sales\n",
       "platform         \n",
       "PS2       1255.77\n",
       "X360       971.42\n",
       "PS3        939.65\n",
       "Wii        907.51\n",
       "DS         806.12\n",
       "PS         730.86\n",
       "GBA        317.85\n",
       "PS4        314.14"
      ]
     },
     "execution_count": 33,
     "metadata": {},
     "output_type": "execute_result"
    }
   ],
   "source": [
    "pd.pivot_table(data, index=['platform'], values='sales', aggfunc='sum').sort_values(by='sales', ascending=False).head(8)"
   ]
  },
  {
   "cell_type": "markdown",
   "metadata": {},
   "source": [
    "и за последние пять лет."
   ]
  },
  {
   "cell_type": "code",
   "execution_count": 34,
   "metadata": {
    "scrolled": true
   },
   "outputs": [
    {
     "data": {
      "text/html": [
       "<div>\n",
       "<style scoped>\n",
       "    .dataframe tbody tr th:only-of-type {\n",
       "        vertical-align: middle;\n",
       "    }\n",
       "\n",
       "    .dataframe tbody tr th {\n",
       "        vertical-align: top;\n",
       "    }\n",
       "\n",
       "    .dataframe thead th {\n",
       "        text-align: right;\n",
       "    }\n",
       "</style>\n",
       "<table border=\"1\" class=\"dataframe\">\n",
       "  <thead>\n",
       "    <tr style=\"text-align: right;\">\n",
       "      <th></th>\n",
       "      <th>sales</th>\n",
       "    </tr>\n",
       "    <tr>\n",
       "      <th>platform</th>\n",
       "      <th></th>\n",
       "    </tr>\n",
       "  </thead>\n",
       "  <tbody>\n",
       "    <tr>\n",
       "      <th>PS4</th>\n",
       "      <td>314.14</td>\n",
       "    </tr>\n",
       "    <tr>\n",
       "      <th>PS3</th>\n",
       "      <td>288.79</td>\n",
       "    </tr>\n",
       "    <tr>\n",
       "      <th>X360</th>\n",
       "      <td>236.54</td>\n",
       "    </tr>\n",
       "    <tr>\n",
       "      <th>3DS</th>\n",
       "      <td>194.61</td>\n",
       "    </tr>\n",
       "    <tr>\n",
       "      <th>XOne</th>\n",
       "      <td>159.32</td>\n",
       "    </tr>\n",
       "    <tr>\n",
       "      <th>WiiU</th>\n",
       "      <td>82.19</td>\n",
       "    </tr>\n",
       "    <tr>\n",
       "      <th>PC</th>\n",
       "      <td>63.00</td>\n",
       "    </tr>\n",
       "    <tr>\n",
       "      <th>PSV</th>\n",
       "      <td>49.18</td>\n",
       "    </tr>\n",
       "  </tbody>\n",
       "</table>\n",
       "</div>"
      ],
      "text/plain": [
       "           sales\n",
       "platform        \n",
       "PS4       314.14\n",
       "PS3       288.79\n",
       "X360      236.54\n",
       "3DS       194.61\n",
       "XOne      159.32\n",
       "WiiU       82.19\n",
       "PC         63.00\n",
       "PSV        49.18"
      ]
     },
     "execution_count": 34,
     "metadata": {},
     "output_type": "execute_result"
    }
   ],
   "source": [
    "pd.pivot_table(data[data['year_of_release'] >= 2012], index=['platform'], values='sales', aggfunc='sum').sort_values(by='sales', ascending=False).head(8)"
   ]
  },
  {
   "cell_type": "markdown",
   "metadata": {},
   "source": [
    "Можно заметить, что список существенно изменился, многие платформы вовсе пропали из него."
   ]
  },
  {
   "cell_type": "markdown",
   "metadata": {},
   "source": [
    "---"
   ]
  },
  {
   "cell_type": "markdown",
   "metadata": {},
   "source": [
    "Как уже было замечено выше, для анализа мы будем в основном использовать данные последних пяти лет, но так как в анализе нам важны наиболее атуальные тенденции, а данные за 2016 отличаются некоторой неполнотой, то рассматривать мы будем наипопулярнейшие платформы за последние два года. Выберем 5 наипопулярнейших за это время платформ, которые ответсвенны за продажу более 90% копий за указаный период."
   ]
  },
  {
   "cell_type": "code",
   "execution_count": 35,
   "metadata": {},
   "outputs": [
    {
     "data": {
      "text/plain": [
       "sales    0.901513\n",
       "dtype: float64"
      ]
     },
     "execution_count": 35,
     "metadata": {},
     "output_type": "execute_result"
    }
   ],
   "source": [
    "pd.pivot_table(data[data['year_of_release'] >= 2015], index=['platform'], values='sales', aggfunc='sum').sort_values(by='sales', ascending=False).head(5).sum() / pd.pivot_table(data[data['year_of_release'] >= 2015], index=['platform'], values='sales', aggfunc='sum').sort_values(by='sales', ascending=False).sum()"
   ]
  },
  {
   "cell_type": "markdown",
   "metadata": {},
   "source": [
    "Из рисунка ниже видно, что наиболее большой рост продаж показывает `PS4` на второе место по данному показателю можно поставить `XOne`, остальные платформы либо снижаю количетсво продаж либо стагнируют."
   ]
  },
  {
   "cell_type": "code",
   "execution_count": 36,
   "metadata": {},
   "outputs": [
    {
     "data": {
      "text/plain": [
       "Text(0.5, 0, 'год')"
      ]
     },
     "execution_count": 36,
     "metadata": {},
     "output_type": "execute_result"
    },
    {
     "data": {
      "image/png": "[encoded data removed]",
      "text/plain": [
       "<Figure size 720x432 with 1 Axes>"
      ]
     },
     "metadata": {
      "needs_background": "light"
     },
     "output_type": "display_data"
    }
   ],
   "source": [
    "pltfrm = pd.pivot_table(data[data['year_of_release'] >= 2015], index=['platform'], values='sales', aggfunc='sum').sort_values(by='sales', ascending=False).head(5).index # самые популярные платформы\n",
    "tmp = data.copy(deep=True) # нужна, чтобы показать влияниние непопулярных в рассматриваемый период платформ\n",
    "tmp.loc[~tmp['platform'].isin(pltfrm), 'platform'] = 'Другое'\n",
    "\n",
    "#palet = sns.color_palette(\"Spectral\", 6)\n",
    "\n",
    "(\n",
    "    pd.pivot_table(tmp[(tmp['year_of_release'] >= 2012)], index=['year_of_release'], values='sales', columns=['platform'], aggfunc='sum')\n",
    "    .plot(kind='bar', stacked=True, figsize=(10,6), align='center')#, color=palet)\n",
    ")\n",
    "plt.title('Наиболее популярные платформы за последние 5 лет')\n",
    "plt.ylabel('количество проданых копий, $10^6$ шт', style='italic')\n",
    "plt.xlabel('год', style='italic')"
   ]
  },
  {
   "cell_type": "markdown",
   "metadata": {},
   "source": [
    "---"
   ]
  },
  {
   "cell_type": "markdown",
   "metadata": {},
   "source": [
    "Построим диаграмму размаха для отобраных самых популярных платформ. На рисунке видно, что за последние 2 года `PS4` имеет наибольшее количество продаж, чем другие популярные платформы на второе место по данному показателю можно поставить `XOne`."
   ]
  },
  {
   "cell_type": "code",
   "execution_count": 37,
   "metadata": {},
   "outputs": [
    {
     "data": {
      "text/plain": [
       "Text(0.5, 0, 'платформа')"
      ]
     },
     "execution_count": 37,
     "metadata": {},
     "output_type": "execute_result"
    },
    {
     "data": {
      "image/png": "[encoded data removed]",
      "text/plain": [
       "<Figure size 720x432 with 1 Axes>"
      ]
     },
     "metadata": {
      "needs_background": "light"
     },
     "output_type": "display_data"
    }
   ],
   "source": [
    "(\n",
    "    pd.pivot_table(data[data['platform'].isin(pltfrm) & (data['year_of_release'] >= 2012)], index=['year_of_release'], values='sales', columns=['platform'], aggfunc='sum')\n",
    "    .boxplot(figsize=(10,6), grid=False)\n",
    ")\n",
    "plt.title('Диаграмма размаха для наиболее популярных платформ за последние два года')\n",
    "plt.ylabel('количество проданых копий, $10^6$ шт', style='italic')\n",
    "plt.xlabel('платформа', style='italic')"
   ]
  },
  {
   "cell_type": "markdown",
   "metadata": {},
   "source": [
    "---"
   ]
  },
  {
   "cell_type": "markdown",
   "metadata": {},
   "source": [
    "Посмотрим, как влияют на продажи внутри популярных платформ отзывы пользователей и критиков. Для расчёта возьмём данные за пять лет. Из информации ниже видно, что наиболее значимы отзывы пользователей для платформы `WiiU` и `3DS`, на остальных же платформах количество проданых копий не зависит от отзывов пользователе. Оценка критиков имеет линейную связь для количества проданых копий для всех платформ, но наибольшее влияние можно наблюдать на `PS4` и `XOne`."
   ]
  },
  {
   "cell_type": "code",
   "execution_count": 38,
   "metadata": {},
   "outputs": [
    {
     "name": "stdout",
     "output_type": "stream",
     "text": [
      "Коэфициент Пирсона\n",
      "Для платформы PS4\n",
      "Для пользователей: -0.03195711020455645 | незначимый\n",
      "Для критиков: 0.40656790206178134 | значимый\n",
      "Для платформы XOne\n",
      "Для пользователей: -0.06892505328279416 | незначимый\n",
      "Для критиков: 0.41699832800840153 | значимый\n",
      "Для платформы 3DS\n",
      "Для пользователей: 0.197582634110386 | значимый\n",
      "Для критиков: 0.3208028695360786 | значимый\n",
      "Для платформы WiiU\n",
      "Для пользователей: 0.40021902021486166 | значимый\n",
      "Для критиков: 0.34837976012017485 | значимый\n",
      "Для платформы PS3\n",
      "Для пользователей: -0.00621785196055928 | незначимый\n",
      "Для критиков: 0.3341655878702379 | значимый\n"
     ]
    }
   ],
   "source": [
    "print('Коэфициент Пирсона')\n",
    "for i in pltfrm:\n",
    "    tmp = data[(data['platform'] == i) & (data['year_of_release'] >= 2012)]\n",
    "    print('Для платформы', i)\n",
    "    no = np.logical_or(tmp['user_score'].isna(), tmp['sales'].isna())\n",
    "    p = pearsonr(tmp.loc[~no, 'user_score'], tmp.loc[~no, 'sales'])\n",
    "    if p[1] < 0.05:\n",
    "        print('Для пользователей:', p[0], '| значимый')\n",
    "    else:\n",
    "        print('Для пользователей:', p[0], '| незначимый')\n",
    "    no = np.logical_or(tmp['critic_score'].isna(), tmp['sales'].isna())\n",
    "    p = pearsonr(tmp.loc[~no, 'critic_score'], tmp.loc[~no, 'sales'])\n",
    "    if p[1] < 0.05:\n",
    "        print('Для критиков:', p[0], '| значимый')\n",
    "    else:\n",
    "        print('Для критиков:', p[0], '| незначимый')"
   ]
  },
  {
   "cell_type": "markdown",
   "metadata": {},
   "source": [
    "---"
   ]
  },
  {
   "cell_type": "markdown",
   "metadata": {},
   "source": [
    "Попробуем узнать, как зависит количество проданых игр от оценок пользователей и критиков. Для анализа возьмём данные по всем играм за последние 5 лет."
   ]
  },
  {
   "cell_type": "code",
   "execution_count": 39,
   "metadata": {},
   "outputs": [
    {
     "data": {
      "text/plain": [
       "Text(0.5, 0, 'оценка по 100-бальной шкале')"
      ]
     },
     "execution_count": 39,
     "metadata": {},
     "output_type": "execute_result"
    },
    {
     "data": {
      "image/png": "[encoded data removed]",
      "text/plain": [
       "<Figure size 720x432 with 1 Axes>"
      ]
     },
     "metadata": {
      "needs_background": "light"
     },
     "output_type": "display_data"
    }
   ],
   "source": [
    "tmp = pd.pivot_table(data2, index=['user_score', 'critic_score'], values='sales', aggfunc='sum').reset_index()\n",
    "tmp['user_score'] = 10 * tmp['user_score'] # приведём данные к общей шкале\n",
    "\n",
    "fig = plt.figure(figsize=(10,6))\n",
    "ax = fig.add_subplot(111)\n",
    "\n",
    "ax.scatter(x=tmp['user_score'], y=tmp['sales'], label='пользователи', s=4)\n",
    "ax.scatter(x=tmp['critic_score'], y=tmp['sales'], label='критики', s=4)\n",
    "\n",
    "plt.title('Диаграмма рассеяния количества проданных копий от оценок пользователей и критиков')\n",
    "plt.legend()\n",
    "plt.ylim([-0.2, 10.2])\n",
    "plt.ylabel('количество проданых копий, $10^6$ шт', style='italic')\n",
    "plt.xlabel('оценка по 100-бальной шкале', style='italic')"
   ]
  },
  {
   "cell_type": "markdown",
   "metadata": {},
   "source": [
    "Красиво, но непонятно. Найдём коэфициенты Пирсона чтобы понять, есть ли зависимость между оценками и количеством продаж."
   ]
  },
  {
   "cell_type": "code",
   "execution_count": 40,
   "metadata": {},
   "outputs": [
    {
     "data": {
      "text/plain": [
       "PearsonRResult(statistic=-0.06082368521013816, pvalue=0.11766978203202)"
      ]
     },
     "execution_count": 40,
     "metadata": {},
     "output_type": "execute_result"
    }
   ],
   "source": [
    "pearsonr(tmp['user_score'], tmp['sales'])"
   ]
  },
  {
   "cell_type": "code",
   "execution_count": 41,
   "metadata": {
    "scrolled": true
   },
   "outputs": [
    {
     "data": {
      "text/plain": [
       "PearsonRResult(statistic=0.3014502509913008, pvalue=2.146196349878651e-15)"
      ]
     },
     "execution_count": 41,
     "metadata": {},
     "output_type": "execute_result"
    }
   ],
   "source": [
    "pearsonr(tmp['critic_score'], tmp['sales'])"
   ]
  },
  {
   "cell_type": "markdown",
   "metadata": {},
   "source": [
    "Из приведённых значений следует, что рейтинг пользователей почти не влияет на количество продаж. Однако оценка критиков имеет большее и статистически значимое влияние на продажи."
   ]
  },
  {
   "cell_type": "markdown",
   "metadata": {},
   "source": [
    "---"
   ]
  },
  {
   "cell_type": "markdown",
   "metadata": {},
   "source": [
    "Распределение проданых копий по жанрам имеет вид Пуассоновского распределения. Наиболее продаваемые игры с жанром `Action`, наимение продаваемые с жанром `Puzzle`."
   ]
  },
  {
   "cell_type": "code",
   "execution_count": 42,
   "metadata": {},
   "outputs": [
    {
     "data": {
      "text/plain": [
       "Text(0.5, 0, 'жанр')"
      ]
     },
     "execution_count": 42,
     "metadata": {},
     "output_type": "execute_result"
    },
    {
     "data": {
      "image/png": "[encoded data removed]",
      "text/plain": [
       "<Figure size 720x432 with 1 Axes>"
      ]
     },
     "metadata": {
      "needs_background": "light"
     },
     "output_type": "display_data"
    }
   ],
   "source": [
    "#palet = sns.color_palette(\"Spectral\", 6)\n",
    "\n",
    "(\n",
    "    data2.groupby('genre')['sales'].count().sort_values(ascending=False)\n",
    "    .plot(kind='bar', stacked=True, figsize=(10,6), align='center')#, color=palet)\n",
    ")\n",
    "plt.title('Распределение проданых копий за последние 5 лет по жанрам')\n",
    "plt.ylabel('количество проданых копий, $10^6$ шт', style='italic')\n",
    "plt.xlabel('жанр', style='italic')"
   ]
  },
  {
   "cell_type": "markdown",
   "metadata": {},
   "source": [
    "Посмотрим также на распределение средних проданных копий которое позволит понять, сколько приходиться проданных копий на одну игру в жанре. Тут мы наблюдаем иную ситуацию, однако вид рапределения всё также Пуассоновский. Наибольшуюю \"продаваемость\" здесь демонстрирует жанр `Shooter` в то время, как `Action` располагается лишь на пятом месте."
   ]
  },
  {
   "cell_type": "code",
   "execution_count": 76,
   "metadata": {},
   "outputs": [
    {
     "data": {
      "text/plain": [
       "Text(0.5, 0, 'жанр')"
      ]
     },
     "execution_count": 76,
     "metadata": {},
     "output_type": "execute_result"
    },
    {
     "data": {
      "image/png": "[encoded data removed]",
      "text/plain": [
       "<Figure size 720x432 with 1 Axes>"
      ]
     },
     "metadata": {
      "needs_background": "light"
     },
     "output_type": "display_data"
    }
   ],
   "source": [
    "#palet = sns.color_palette(\"Spectral\", 6)\n",
    "\n",
    "(\n",
    "    data2.groupby('genre')['sales'].mean().sort_values(ascending=False)\n",
    "    .plot(kind='bar', stacked=True, figsize=(10,6), align='center')#, color=palet)\n",
    ")\n",
    "plt.title('Распределение среднего количества проданых копий за последние 5 лет по жанрам')\n",
    "plt.ylabel('среднее количество проданых копий, $10^6 шт$', style='italic')\n",
    "plt.xlabel('жанр', style='italic')"
   ]
  },
  {
   "cell_type": "markdown",
   "metadata": {},
   "source": [
    "## Портреты регионов"
   ]
  },
  {
   "cell_type": "markdown",
   "metadata": {},
   "source": [
    "Посмотрим на количество проданных копий в каждом из регионов по данным за последние 5 лет. На графиках ниже видно, что в Северной Америке наибольшей популярностьюю пользуется `X360`, тогда как в Европе и Японии это `PS4` и c большим отрывом `3DS` соответсвенно. Распределения Европы и Северной Америки имеют больше схожего между собой, чем с распределением Японии."
   ]
  },
  {
   "cell_type": "code",
   "execution_count": 44,
   "metadata": {},
   "outputs": [
    {
     "data": {
      "text/plain": [
       "Text(0.5, 0, 'платформа')"
      ]
     },
     "execution_count": 44,
     "metadata": {},
     "output_type": "execute_result"
    },
    {
     "data": {
      "image/png": "[encoded data removed]",
      "text/plain": [
       "<Figure size 720x432 with 1 Axes>"
      ]
     },
     "metadata": {
      "needs_background": "light"
     },
     "output_type": "display_data"
    }
   ],
   "source": [
    "(\n",
    "    pd.pivot_table(data[(data['year_of_release'] >= 2012)], index=['platform'], values=['na_sales', 'eu_sales', 'jp_sales', 'sales'], aggfunc='sum').sort_values(by='sales', ascending=False).drop(columns='sales')\n",
    "    .plot(kind='bar', rot=0, figsize=(10,6), align='center')#, color=palet)\n",
    ")\n",
    "plt.legend(['Европа', 'Япония', 'Северная Америка'])\n",
    "plt.title('Наиболее популярные платформы за последние 5 лет по разным регионам')\n",
    "plt.ylabel('количество проданых копий, $10^6$ шт', style='italic')\n",
    "plt.xlabel('платформа', style='italic')"
   ]
  },
  {
   "cell_type": "markdown",
   "metadata": {},
   "source": [
    "Кроме того, можно построить отдельные рисунки для каждого из регионов."
   ]
  },
  {
   "cell_type": "code",
   "execution_count": 45,
   "metadata": {},
   "outputs": [
    {
     "data": {
      "text/plain": [
       "Text(0.5, 0, 'платформа')"
      ]
     },
     "execution_count": 45,
     "metadata": {},
     "output_type": "execute_result"
    },
    {
     "data": {
      "image/png": "[encoded data removed]",
      "text/plain": [
       "<Figure size 720x432 with 1 Axes>"
      ]
     },
     "metadata": {
      "needs_background": "light"
     },
     "output_type": "display_data"
    }
   ],
   "source": [
    "(\n",
    "    pd.pivot_table(data[(data['year_of_release'] >= 2012)], index=['platform'], values=['na_sales'], aggfunc='sum').sort_values(by='na_sales', ascending=False)\n",
    "    .plot(kind='bar', rot=0, figsize=(10,6), align='center')#, color=palet)\n",
    ")\n",
    "plt.legend(['Северная Америка'])\n",
    "plt.title('Наиболее популярные платформы за последние 5 лет в Северной Америке')\n",
    "plt.ylabel('количество проданых копий, $10^6$ шт', style='italic')\n",
    "plt.xlabel('платформа', style='italic')"
   ]
  },
  {
   "cell_type": "code",
   "execution_count": 46,
   "metadata": {},
   "outputs": [
    {
     "data": {
      "text/plain": [
       "Text(0.5, 0, 'платформа')"
      ]
     },
     "execution_count": 46,
     "metadata": {},
     "output_type": "execute_result"
    },
    {
     "data": {
      "image/png": "[encoded data removed]",
      "text/plain": [
       "<Figure size 720x432 with 1 Axes>"
      ]
     },
     "metadata": {
      "needs_background": "light"
     },
     "output_type": "display_data"
    }
   ],
   "source": [
    "(\n",
    "    pd.pivot_table(data[(data['year_of_release'] >= 2012)], index=['platform'], values=['eu_sales'], aggfunc='sum').sort_values(by='eu_sales', ascending=False)\n",
    "    .plot(kind='bar', rot=0, figsize=(10,6), align='center')#, color=palet)\n",
    ")\n",
    "plt.legend(['Европа'])\n",
    "plt.title('Наиболее популярные платформы за последние 5 лет в Европе')\n",
    "plt.ylabel('количество проданых копий, $10^6$ шт', style='italic')\n",
    "plt.xlabel('платформа', style='italic')"
   ]
  },
  {
   "cell_type": "code",
   "execution_count": 47,
   "metadata": {},
   "outputs": [
    {
     "data": {
      "text/plain": [
       "Text(0.5, 0, 'платформа')"
      ]
     },
     "execution_count": 47,
     "metadata": {},
     "output_type": "execute_result"
    },
    {
     "data": {
      "image/png": "[encoded data removed]",
      "text/plain": [
       "<Figure size 720x432 with 1 Axes>"
      ]
     },
     "metadata": {
      "needs_background": "light"
     },
     "output_type": "display_data"
    }
   ],
   "source": [
    "(\n",
    "    pd.pivot_table(data[(data['year_of_release'] >= 2012)], index=['platform'], values=['jp_sales'], aggfunc='sum').sort_values(by='jp_sales', ascending=False)\n",
    "    .plot(kind='bar', rot=0, figsize=(10,6), align='center')#, color=palet)\n",
    ")\n",
    "plt.legend(['Япония'])\n",
    "plt.title('Наиболее популярные платформы за последние 5 лет в Японии')\n",
    "plt.ylabel('количество проданых копий, $10^6$ шт', style='italic')\n",
    "plt.xlabel('платформа', style='italic')"
   ]
  },
  {
   "cell_type": "markdown",
   "metadata": {},
   "source": [
    "---"
   ]
  },
  {
   "cell_type": "markdown",
   "metadata": {},
   "source": [
    "Можно посмотреть на распределения самых популярных жанров в различных регионах по данным за последние 5 лет. На графиках ниже видно, что в Северной Америке и в Европе наибольшей популярностьюю пользуется `Action`, тогда как в Японии это `Role-Playing`, а `Action` лишь на втором месте. Распределения Европы и Северной Америки имеют больше схожего между собой, чем с распределением Японии."
   ]
  },
  {
   "cell_type": "code",
   "execution_count": 48,
   "metadata": {
    "scrolled": false
   },
   "outputs": [
    {
     "data": {
      "text/plain": [
       "Text(0.5, 0, 'жанр')"
      ]
     },
     "execution_count": 48,
     "metadata": {},
     "output_type": "execute_result"
    },
    {
     "data": {
      "image/png": "[encoded data removed]",
      "text/plain": [
       "<Figure size 864x432 with 1 Axes>"
      ]
     },
     "metadata": {
      "needs_background": "light"
     },
     "output_type": "display_data"
    }
   ],
   "source": [
    "(\n",
    "    pd.pivot_table(data2, index=['genre'], values=['na_sales', 'eu_sales', 'jp_sales', 'sales'], aggfunc='sum').sort_values(by='sales', ascending=False).drop(columns='sales')\n",
    "    .plot(kind='bar', rot=0, figsize=(12,6), align='center')#, color=palet)\n",
    ")\n",
    "plt.legend(['Европа', 'Япония', 'Северная Америка'])\n",
    "plt.title('Наиболее популярные жанры за последние 5 лет по разным регионам')\n",
    "plt.ylabel('количество проданых копий, $10^6$ шт', style='italic')\n",
    "plt.xlabel('жанр', style='italic')"
   ]
  },
  {
   "cell_type": "markdown",
   "metadata": {},
   "source": [
    "Кроме того, можно построить отдельные рисунки для каждого из регионов."
   ]
  },
  {
   "cell_type": "code",
   "execution_count": 49,
   "metadata": {},
   "outputs": [
    {
     "data": {
      "text/plain": [
       "Text(0.5, 0, 'жанр')"
      ]
     },
     "execution_count": 49,
     "metadata": {},
     "output_type": "execute_result"
    },
    {
     "data": {
      "image/png": "[encoded data removed]",
      "text/plain": [
       "<Figure size 864x432 with 1 Axes>"
      ]
     },
     "metadata": {
      "needs_background": "light"
     },
     "output_type": "display_data"
    }
   ],
   "source": [
    "(\n",
    "    pd.pivot_table(data2, index=['genre'], values=['na_sales'], aggfunc='sum').sort_values(by='na_sales', ascending=False)\n",
    "    .plot(kind='bar', rot=0, figsize=(12,6), align='center')#, color=palet)\n",
    ")\n",
    "plt.legend(['Северная Америка'])\n",
    "plt.title('Наиболее популярные жанры за последние 5 лет в Северной Америке')\n",
    "plt.ylabel('количество проданых копий, $10^6$ шт', style='italic')\n",
    "plt.xlabel('жанр', style='italic')"
   ]
  },
  {
   "cell_type": "code",
   "execution_count": 50,
   "metadata": {},
   "outputs": [
    {
     "data": {
      "text/plain": [
       "Text(0.5, 0, 'жанр')"
      ]
     },
     "execution_count": 50,
     "metadata": {},
     "output_type": "execute_result"
    },
    {
     "data": {
      "image/png": "[encoded data removed]",
      "text/plain": [
       "<Figure size 864x432 with 1 Axes>"
      ]
     },
     "metadata": {
      "needs_background": "light"
     },
     "output_type": "display_data"
    }
   ],
   "source": [
    "(\n",
    "    pd.pivot_table(data2, index=['genre'], values=['eu_sales'], aggfunc='sum').sort_values(by='eu_sales', ascending=False)\n",
    "    .plot(kind='bar', rot=0, figsize=(12,6), align='center')#, color=palet)\n",
    ")\n",
    "plt.legend(['Европа'])\n",
    "plt.title('Наиболее популярные жанры за последние 5 лет в Европе')\n",
    "plt.ylabel('количество проданых копий, $10^6$ шт', style='italic')\n",
    "plt.xlabel('жанр', style='italic')"
   ]
  },
  {
   "cell_type": "code",
   "execution_count": 51,
   "metadata": {},
   "outputs": [
    {
     "data": {
      "text/plain": [
       "Text(0.5, 0, 'жанр')"
      ]
     },
     "execution_count": 51,
     "metadata": {},
     "output_type": "execute_result"
    },
    {
     "data": {
      "image/png": "[encoded data removed]",
      "text/plain": [
       "<Figure size 864x432 with 1 Axes>"
      ]
     },
     "metadata": {
      "needs_background": "light"
     },
     "output_type": "display_data"
    }
   ],
   "source": [
    "(\n",
    "    pd.pivot_table(data2, index=['genre'], values=['jp_sales'], aggfunc='sum').sort_values(by='jp_sales', ascending=False)\n",
    "    .plot(kind='bar', rot=0, figsize=(12,6), align='center')#, color=palet)\n",
    ")\n",
    "plt.legend(['Япония'])\n",
    "plt.title('Наиболее популярные жанры за последние 5 лет в Японии')\n",
    "plt.ylabel('количество проданых копий, $10^6$ шт', style='italic')\n",
    "plt.xlabel('жанр', style='italic')"
   ]
  },
  {
   "cell_type": "markdown",
   "metadata": {},
   "source": [
    "---"
   ]
  },
  {
   "cell_type": "markdown",
   "metadata": {},
   "source": [
    "Далее посмотрим распределение влияние возрастного рейтинга на количество проданых копий игр для каждого из региона, основываясь на данных за последние 5 лет. Чтобы посмотреть именно на влияние рейтинга на продажу игр мы не можем полагаться на чистое количество проданых копий, поскольку количество игр для разных возрастных рейтингов будет разным. Для того, чтобы учесть это мы введём для каждого из рейтингов вес, который будет заключаться в деление количества копий для региона на общее количество игр в данной возрастной категории."
   ]
  },
  {
   "cell_type": "code",
   "execution_count": 52,
   "metadata": {
    "scrolled": false
   },
   "outputs": [
    {
     "data": {
      "text/plain": [
       "Text(0.5, 0, 'возрастной рейтинг')"
      ]
     },
     "execution_count": 52,
     "metadata": {},
     "output_type": "execute_result"
    },
    {
     "data": {
      "image/png": "[encoded data removed]",
      "text/plain": [
       "<Figure size 720x432 with 1 Axes>"
      ]
     },
     "metadata": {
      "needs_background": "light"
     },
     "output_type": "display_data"
    }
   ],
   "source": [
    "(\n",
    "    (pd.pivot_table(data2, index=['rating'], values=['na_sales', 'eu_sales', 'jp_sales', 'sales'], aggfunc='sum').sort_values(by='sales', ascending=False).drop(columns='sales').T / data2['rating'].value_counts()).T\n",
    "    .plot(kind='bar', rot=0, figsize=(10,6), align='center')#, color=palet)\n",
    ")\n",
    "plt.legend(['Европа', 'Япония', 'Северная Америка'])\n",
    "plt.title('Распределение веса популярности в зависимости от возрастного рейтига за 5 лет по разным регионам')\n",
    "plt.ylabel('вес, $10^6$ безразм.', style='italic')\n",
    "plt.xlabel('возрастной рейтинг', style='italic')"
   ]
  },
  {
   "cell_type": "markdown",
   "metadata": {},
   "source": [
    "Из рисунка следует, что наибольшей популярностью в Европе и Северной Америке пользуются игры с возрастным рейтингом `M`, тогда как для Японии это рейтиг `E`. Наимение популярный возрастной рейтинг также совпадает для Европы и Северной Америки (`T`), но является другим для Японии (`E10+`). Следует также отметить, что из-за особенности нашего расчёта было бы некорректно сравниванивать вес рейтинга между регионами, но можно сравнивать рейтинги в рамках одного региона."
   ]
  },
  {
   "cell_type": "markdown",
   "metadata": {},
   "source": [
    "Кроме того, можно рассмотреть соответветсвующее распределение с учётом неоценённых игр. Из которого видно, что для всех стран, кроме Японии факт отсутсвия рейтнига негативно сказывается на количестве проданых копий."
   ]
  },
  {
   "cell_type": "code",
   "execution_count": 54,
   "metadata": {},
   "outputs": [
    {
     "data": {
      "text/plain": [
       "Text(0.5, 0, 'возрастной рейтинг')"
      ]
     },
     "execution_count": 54,
     "metadata": {},
     "output_type": "execute_result"
    },
    {
     "data": {
      "image/png": "[encoded data removed]",
      "text/plain": [
       "<Figure size 720x432 with 1 Axes>"
      ]
     },
     "metadata": {
      "needs_background": "light"
     },
     "output_type": "display_data"
    }
   ],
   "source": [
    "data2.loc[data2['rating'].isna(), 'rating'] = 'Без оценки'\n",
    "(\n",
    "    (pd.pivot_table(data2, index=['rating'], values=['na_sales', 'eu_sales', 'jp_sales', 'sales'], aggfunc='sum').sort_values(by='sales', ascending=False).drop(columns='sales').T / data2['rating'].value_counts()).T\n",
    "    .plot(kind='bar', rot=0, figsize=(10,6), align='center')#, color=palet)\n",
    ")\n",
    "plt.legend(['Европа', 'Япония', 'Северная Америка'])\n",
    "plt.title('Распределение веса популярности в зависимости от возрастного рейтига за 5 лет по разным регионам')\n",
    "plt.ylabel('вес, $10^6$ безразм.', style='italic')\n",
    "plt.xlabel('возрастной рейтинг', style='italic')"
   ]
  },
  {
   "cell_type": "code",
   "execution_count": 58,
   "metadata": {},
   "outputs": [
    {
     "data": {
      "text/plain": [
       "Text(0.5, 0, 'возрастной рейтинг')"
      ]
     },
     "execution_count": 58,
     "metadata": {},
     "output_type": "execute_result"
    },
    {
     "data": {
      "image/png": "[encoded data removed]",
      "text/plain": [
       "<Figure size 720x432 with 1 Axes>"
      ]
     },
     "metadata": {
      "needs_background": "light"
     },
     "output_type": "display_data"
    }
   ],
   "source": [
    "data2.loc[data2['rating'].isna(), 'rating'] = 'Без оценки'\n",
    "(\n",
    "    pd.pivot_table(data2, index=['rating'], values=['na_sales', 'eu_sales', 'jp_sales', 'sales'], aggfunc='sum').sort_values(by='sales', ascending=False).drop(columns='sales')\n",
    "    .plot(kind='bar', rot=0, figsize=(10,6), align='center')#, color=palet)\n",
    ")\n",
    "plt.legend(['Европа', 'Япония', 'Северная Америка'])\n",
    "plt.title('Распределение количества проданых копий в зависимости от возрастного рейтига за 5 лет по разным регионам')\n",
    "plt.ylabel('Количество копий, $10^6$ шт.', style='italic')\n",
    "plt.xlabel('возрастной рейтинг', style='italic')"
   ]
  },
  {
   "cell_type": "code",
   "execution_count": 67,
   "metadata": {},
   "outputs": [
    {
     "data": {
      "text/plain": [
       "0.15082144730385938"
      ]
     },
     "execution_count": 67,
     "metadata": {},
     "output_type": "execute_result"
    }
   ],
   "source": [
    "data2.loc[data2['rating'] == 'Без оценки', 'na_sales'].sum() / data2['na_sales'].sum()"
   ]
  },
  {
   "cell_type": "code",
   "execution_count": 68,
   "metadata": {},
   "outputs": [
    {
     "data": {
      "text/plain": [
       "0.14775080363657878"
      ]
     },
     "execution_count": 68,
     "metadata": {},
     "output_type": "execute_result"
    }
   ],
   "source": [
    "data2.loc[data2['rating'] == 'Без оценки', 'eu_sales'].sum() / data2['eu_sales'].sum()"
   ]
  },
  {
   "cell_type": "code",
   "execution_count": 69,
   "metadata": {},
   "outputs": [
    {
     "data": {
      "text/plain": [
       "0.5511475750337522"
      ]
     },
     "execution_count": 69,
     "metadata": {},
     "output_type": "execute_result"
    }
   ],
   "source": [
    "data2.loc[data2['rating'] == 'Без оценки', 'jp_sales'].sum() / data2['jp_sales'].sum()"
   ]
  },
  {
   "cell_type": "markdown",
   "metadata": {},
   "source": [
    "## Гипотезы"
   ]
  },
  {
   "cell_type": "markdown",
   "metadata": {},
   "source": [
    "Проверим нулевую гипотезу: cредние пользовательские рейтинги платформ `XOne` и `PC` одинаковые\n",
    "\n",
    "Альтернативная гипотеза: cредние пользовательские рейтинги платформ `XOne` и `PC` НЕ одинаковые\n",
    "\n",
    "Для проверки гипотезы проведём t-тест для сравнения средних."
   ]
  },
  {
   "cell_type": "code",
   "execution_count": null,
   "metadata": {},
   "outputs": [],
   "source": [
    "# по-другому тут тяжело сдедать из-за пропусков в значениях\n",
    "tmp = data.loc[(data['year_of_release'] >= 2012) & (data['platform'] == 'XOne'), 'user_score']\n",
    "tmp = tmp[~tmp.isna()]\n",
    "tmp2 = data.loc[(data['year_of_release'] >= 2012) & (data['platform'] == 'PC'), 'user_score']\n",
    "tmp2 = tmp2[~tmp2.isna()]\n",
    "\n",
    "alpha = 0.05 \n",
    "\n",
    "results = st.ttest_ind(tmp, tmp2, equal_var=False)\n",
    "\n",
    "print('p-значение:', results.pvalue)\n",
    "\n",
    "if results.pvalue < alpha:\n",
    "    print('Средние пользовательские рейтинги платформ XOne и PC НЕ одинаковые')\n",
    "else:\n",
    "    print('Средние пользовательские рейтинги платформ XOne и PC одинаковые') "
   ]
  },
  {
   "cell_type": "markdown",
   "metadata": {},
   "source": [
    "---"
   ]
  },
  {
   "cell_type": "markdown",
   "metadata": {},
   "source": [
    "Проверим нулевую гипотезу: cредние пользовательские рейтинги жанров `Action` и `Sports` одинаковые\n",
    "\n",
    "Альтернативная гипотеза: cредние пользовательские рейтинги жанров `Action` и `Sports` НЕ одинаковые\n",
    "\n",
    "Для проверки гипотезы проведём t-тест для сравнения средних."
   ]
  },
  {
   "cell_type": "code",
   "execution_count": null,
   "metadata": {},
   "outputs": [],
   "source": [
    "# по-другому тут тяжело сдедать из-за пропусков в значениях\n",
    "tmp = data.loc[(data['year_of_release'] >= 2012) & (data['genre'] == 'Action'), 'user_score']\n",
    "tmp = tmp[~tmp.isna()]\n",
    "tmp2 = data.loc[(data['year_of_release'] >= 2012) & (data['genre'] == 'Sports'), 'user_score']\n",
    "tmp2 = tmp2[~tmp2.isna()]\n",
    "\n",
    "alpha = 0.05 \n",
    "\n",
    "results = st.ttest_ind(tmp, tmp2, equal_var=False)\n",
    "\n",
    "print('p-значение:', results.pvalue)\n",
    "\n",
    "if results.pvalue < alpha:\n",
    "    print('Средние пользовательские рейтинги жанров Action и Sports НЕ одинаковые')\n",
    "else:\n",
    "    print('Средние пользовательские рейтинги жанров Action и Sports одинаковые') "
   ]
  },
  {
   "cell_type": "markdown",
   "metadata": {},
   "source": [
    "## Вывод"
   ]
  },
  {
   "cell_type": "code",
   "execution_count": 70,
   "metadata": {},
   "outputs": [
    {
     "data": {
      "text/plain": [
       "genre\n",
       "Shooter         3.207684\n",
       "Sports          1.828990\n",
       "Platform        1.326087\n",
       "Racing          1.114583\n",
       "Action          0.769146\n",
       "Fighting        0.729344\n",
       "Role-Playing    0.727547\n",
       "Misc            0.654154\n",
       "Simulation      0.575738\n",
       "Strategy        0.247037\n",
       "Puzzle          0.212609\n",
       "Adventure       0.136791\n",
       "Name: sales, dtype: float64"
      ]
     },
     "execution_count": 70,
     "metadata": {},
     "output_type": "execute_result"
    }
   ],
   "source": [
    "data2.groupby('genre')['sales'].mean().sort_values(ascending=False)"
   ]
  },
  {
   "cell_type": "markdown",
   "metadata": {},
   "source": [
    "В данном анализе исследованы некоторые закономерности, влияющие на успешность игры в 2017 году.\n",
    "\n",
    "Самыми продающими копиии платформами являются, в порядке уменьшения популярности: `PS4`, `PS3`, `3DS`, `XOne`, `WiiU`. На этих платформах за 5 лет было продано 314.14, 288.79, 194.61, 159.32 и 82.19 млн. копий соответсвенно. Следует отметить, что наиболее быстро набирает популярность платформа `XOne`. Кроме того, при учитывание распределения продаж копий игр по платформам следует учитывать региональные особенности, например, в Японии самой продающей платформой с большим отрывом является `3DS` (87.79 млн. копий / 5 лет), а не `PS4`.\n",
    "\n",
    "Наиболее значимы отзывы пользователей для платформы `WiiU` и `3DS`, на остальных же платформах количество проданых копий не зависит от отзывов пользователе. Оценка критиков оказывает влияние на количество проданых копий для всех платформ, но наибольшее влияние оказывает на `PS4` и `XOne`.\n",
    "\n",
    "Жанром с наибольшим количеством проданых копий является `Action` (574 млн. копий / 5 лет), следом за ним идут `Role-Playing` (265 млн. копий / 5 лет) и `Adventure` (215 млн. копий / 5 лет). Жанром с наименьшим количество проданых копий является `Puzzle` (23 млн. копий / 5 лет). Для исследования способностей разных жанров 'продавать' копии игр также стоит учитывать региональные особенности.\n",
    "\n",
    "Однако иной обстоит ситуация со среднеми значениями проданных копий по жанрам. Наибольшуюю \"продаваемость\" здесь демонстрирует жанр `Shooter` (3.2 млн. копий / 5 лет) в то время, как `Action`, лидер предыдущего списка располагается лишь на пятом месте (0.77 млн. копий / 5 лет).\n",
    "\n",
    "Наибольшей популярностью в Европе и Северной Америке пользуются игры с возрастным рейтингом `M`, тогда как для Японии это рейтиг `E`. Наимение популярный возрастной рейтинг также совпадает для Европы и Северной Америки (`T`), но является другим для Японии (`E10+`) и безрейтинговые игры, которые составляют наибольшую категорию продаж копий игр в Японии.\n",
    "\n",
    "**Рекомендации:** Наибольшее количество копий продаётся в Северной Америке и Европе, а не в Японии. Кроме того первые два рынка наиболее похожи, поэтому ориентироваться следует в первую очередь на них. Также для данных регионов можно организовать общую рекламную компанию, но отдельную для Японии. Самой популярной консолью будет `PS4` (и `3DS` для Японии), однако наиболее набирающей популярность является платформа `XOne`, все эти платформы стоят внимания при проведении рекламных копманий. В случае, если есть возможность с помощью рекламы продвигать целый жанр, то стоит обратить внимание не `Action`, в отсутсвии такой возможности наиболее предпочтительно продвигать отдельные игры из жанра `Shooter`. Для Европы и Северной Америки лучше всего продвигать игры с возрастным рейтингом `M`, тогда как в Японии не стоит обращать внимание на данный показатель."
   ]
  }
 ],
 "metadata": {
  "ExecuteTimeLog": [
   {
    "duration": 419,
    "start_time": "2023-08-13T14:04:41.703Z"
   },
   {
    "duration": 210,
    "start_time": "2023-08-13T14:04:43.772Z"
   },
   {
    "duration": 67,
    "start_time": "2023-08-13T14:07:17.439Z"
   },
   {
    "duration": 3,
    "start_time": "2023-08-13T14:07:48.527Z"
   },
   {
    "duration": 17,
    "start_time": "2023-08-13T14:08:00.928Z"
   },
   {
    "duration": 151,
    "start_time": "2023-08-13T14:08:13.055Z"
   },
   {
    "duration": 125,
    "start_time": "2023-08-13T14:08:27.309Z"
   },
   {
    "duration": 120,
    "start_time": "2023-08-13T14:08:35.024Z"
   },
   {
    "duration": 3,
    "start_time": "2023-08-13T14:09:17.944Z"
   },
   {
    "duration": 5,
    "start_time": "2023-08-13T14:10:33.076Z"
   },
   {
    "duration": 4,
    "start_time": "2023-08-13T14:10:40.616Z"
   },
   {
    "duration": 1878,
    "start_time": "2023-08-13T14:11:44.229Z"
   },
   {
    "duration": 378,
    "start_time": "2023-08-13T14:12:16.716Z"
   },
   {
    "duration": 74,
    "start_time": "2023-08-13T14:12:17.096Z"
   },
   {
    "duration": 2137,
    "start_time": "2023-08-13T14:12:17.172Z"
   },
   {
    "duration": 0,
    "start_time": "2023-08-13T14:12:19.311Z"
   },
   {
    "duration": 19,
    "start_time": "2023-08-13T14:12:24.184Z"
   },
   {
    "duration": 134,
    "start_time": "2023-08-13T14:12:37.059Z"
   },
   {
    "duration": 8,
    "start_time": "2023-08-13T14:12:47.001Z"
   },
   {
    "duration": 5,
    "start_time": "2023-08-13T14:14:34.536Z"
   },
   {
    "duration": 3,
    "start_time": "2023-08-13T14:14:48.031Z"
   },
   {
    "duration": 427,
    "start_time": "2023-08-13T14:14:58.472Z"
   },
   {
    "duration": 102,
    "start_time": "2023-08-13T14:14:58.901Z"
   },
   {
    "duration": 4,
    "start_time": "2023-08-13T14:14:59.005Z"
   },
   {
    "duration": 23,
    "start_time": "2023-08-13T14:14:59.010Z"
   },
   {
    "duration": 17,
    "start_time": "2023-08-13T14:16:17.172Z"
   },
   {
    "duration": 976,
    "start_time": "2023-08-13T14:53:47.998Z"
   },
   {
    "duration": 6,
    "start_time": "2023-08-13T14:53:58.000Z"
   },
   {
    "duration": 14,
    "start_time": "2023-08-13T14:54:05.128Z"
   },
   {
    "duration": 21,
    "start_time": "2023-08-13T15:05:40.903Z"
   },
   {
    "duration": 8,
    "start_time": "2023-08-13T15:07:17.699Z"
   },
   {
    "duration": 16,
    "start_time": "2023-08-13T15:07:24.676Z"
   },
   {
    "duration": 24,
    "start_time": "2023-08-13T15:08:41.817Z"
   },
   {
    "duration": 8,
    "start_time": "2023-08-13T15:09:44.104Z"
   },
   {
    "duration": 27,
    "start_time": "2023-08-13T15:12:31.878Z"
   },
   {
    "duration": 34,
    "start_time": "2023-08-13T15:17:10.430Z"
   },
   {
    "duration": 3,
    "start_time": "2023-08-13T15:17:41.983Z"
   },
   {
    "duration": 52,
    "start_time": "2023-08-13T15:18:51.411Z"
   },
   {
    "duration": 9,
    "start_time": "2023-08-13T15:19:15.413Z"
   },
   {
    "duration": 12,
    "start_time": "2023-08-13T15:19:20.473Z"
   },
   {
    "duration": 132,
    "start_time": "2023-08-13T15:20:12.608Z"
   },
   {
    "duration": 53,
    "start_time": "2023-08-13T15:20:17.044Z"
   },
   {
    "duration": 155,
    "start_time": "2023-08-13T15:20:39.261Z"
   },
   {
    "duration": 37,
    "start_time": "2023-08-13T15:20:44.904Z"
   },
   {
    "duration": 11,
    "start_time": "2023-08-13T15:21:03.528Z"
   },
   {
    "duration": 60,
    "start_time": "2023-08-13T15:21:10.469Z"
   },
   {
    "duration": 58,
    "start_time": "2023-08-13T15:24:21.555Z"
   },
   {
    "duration": 24,
    "start_time": "2023-08-13T15:24:27.235Z"
   },
   {
    "duration": 28,
    "start_time": "2023-08-13T15:24:54.795Z"
   },
   {
    "duration": 136,
    "start_time": "2023-08-13T15:25:23.806Z"
   },
   {
    "duration": 9,
    "start_time": "2023-08-13T15:28:50.175Z"
   },
   {
    "duration": 7,
    "start_time": "2023-08-13T15:29:08.516Z"
   },
   {
    "duration": 6,
    "start_time": "2023-08-13T15:29:29.252Z"
   },
   {
    "duration": 8,
    "start_time": "2023-08-13T15:30:43.920Z"
   },
   {
    "duration": 461,
    "start_time": "2023-08-13T15:31:50.141Z"
   },
   {
    "duration": 73,
    "start_time": "2023-08-13T15:31:50.605Z"
   },
   {
    "duration": 4,
    "start_time": "2023-08-13T15:31:50.680Z"
   },
   {
    "duration": 28,
    "start_time": "2023-08-13T15:31:50.687Z"
   },
   {
    "duration": 13,
    "start_time": "2023-08-13T15:31:50.717Z"
   },
   {
    "duration": 32,
    "start_time": "2023-08-13T15:31:50.732Z"
   },
   {
    "duration": 49,
    "start_time": "2023-08-13T15:31:50.766Z"
   },
   {
    "duration": 42,
    "start_time": "2023-08-13T15:31:50.817Z"
   },
   {
    "duration": 2,
    "start_time": "2023-08-13T15:31:50.861Z"
   },
   {
    "duration": 5,
    "start_time": "2023-08-13T15:31:50.865Z"
   },
   {
    "duration": 8,
    "start_time": "2023-08-13T15:31:58.704Z"
   },
   {
    "duration": 52,
    "start_time": "2023-08-13T15:32:27.712Z"
   },
   {
    "duration": 1801,
    "start_time": "2023-08-13T15:32:46.000Z"
   },
   {
    "duration": 6,
    "start_time": "2023-08-13T15:32:52.639Z"
   },
   {
    "duration": 5,
    "start_time": "2023-08-13T15:32:56.271Z"
   },
   {
    "duration": 29,
    "start_time": "2023-08-13T15:33:05.251Z"
   },
   {
    "duration": 6,
    "start_time": "2023-08-13T15:33:12.132Z"
   },
   {
    "duration": 435,
    "start_time": "2023-08-13T15:33:39.331Z"
   },
   {
    "duration": 84,
    "start_time": "2023-08-13T15:33:39.768Z"
   },
   {
    "duration": 4,
    "start_time": "2023-08-13T15:33:39.854Z"
   },
   {
    "duration": 23,
    "start_time": "2023-08-13T15:33:39.861Z"
   },
   {
    "duration": 10,
    "start_time": "2023-08-13T15:33:39.887Z"
   },
   {
    "duration": 25,
    "start_time": "2023-08-13T15:33:39.899Z"
   },
   {
    "duration": 80,
    "start_time": "2023-08-13T15:33:39.927Z"
   },
   {
    "duration": 10,
    "start_time": "2023-08-13T15:33:40.009Z"
   },
   {
    "duration": 37,
    "start_time": "2023-08-13T15:33:40.022Z"
   },
   {
    "duration": 5,
    "start_time": "2023-08-13T15:33:40.062Z"
   },
   {
    "duration": 83,
    "start_time": "2023-08-13T15:34:30.199Z"
   },
   {
    "duration": 80,
    "start_time": "2023-08-13T15:34:38.768Z"
   },
   {
    "duration": 83,
    "start_time": "2023-08-13T15:35:53.031Z"
   },
   {
    "duration": 79,
    "start_time": "2023-08-13T15:36:09.715Z"
   },
   {
    "duration": 19,
    "start_time": "2023-08-13T15:36:28.928Z"
   },
   {
    "duration": 8,
    "start_time": "2023-08-13T15:36:31.429Z"
   },
   {
    "duration": 20,
    "start_time": "2023-08-13T15:36:56.206Z"
   },
   {
    "duration": 27,
    "start_time": "2023-08-13T15:37:27.172Z"
   },
   {
    "duration": 25,
    "start_time": "2023-08-13T15:37:30.356Z"
   },
   {
    "duration": 8,
    "start_time": "2023-08-13T15:37:42.628Z"
   },
   {
    "duration": 399,
    "start_time": "2023-08-13T15:37:48.114Z"
   },
   {
    "duration": 82,
    "start_time": "2023-08-13T15:37:48.515Z"
   },
   {
    "duration": 4,
    "start_time": "2023-08-13T15:37:48.599Z"
   },
   {
    "duration": 22,
    "start_time": "2023-08-13T15:37:48.606Z"
   },
   {
    "duration": 9,
    "start_time": "2023-08-13T15:37:48.630Z"
   },
   {
    "duration": 22,
    "start_time": "2023-08-13T15:37:48.660Z"
   },
   {
    "duration": 20,
    "start_time": "2023-08-13T15:37:48.684Z"
   },
   {
    "duration": 9,
    "start_time": "2023-08-13T15:37:48.706Z"
   },
   {
    "duration": 3,
    "start_time": "2023-08-13T15:37:48.717Z"
   },
   {
    "duration": 37,
    "start_time": "2023-08-13T15:37:48.723Z"
   },
   {
    "duration": 17,
    "start_time": "2023-08-13T15:38:50.967Z"
   },
   {
    "duration": 73,
    "start_time": "2023-08-13T15:46:07.005Z"
   },
   {
    "duration": 20,
    "start_time": "2023-08-13T15:46:11.338Z"
   },
   {
    "duration": 13,
    "start_time": "2023-08-13T15:46:45.908Z"
   },
   {
    "duration": 48,
    "start_time": "2023-08-13T15:46:51.708Z"
   },
   {
    "duration": 14,
    "start_time": "2023-08-13T15:47:13.028Z"
   },
   {
    "duration": 7,
    "start_time": "2023-08-13T15:48:57.276Z"
   },
   {
    "duration": 10,
    "start_time": "2023-08-13T15:51:06.043Z"
   },
   {
    "duration": 4,
    "start_time": "2023-08-13T15:51:15.717Z"
   },
   {
    "duration": 21,
    "start_time": "2023-08-13T15:51:22.295Z"
   },
   {
    "duration": 20,
    "start_time": "2023-08-13T15:51:46.201Z"
   },
   {
    "duration": 13,
    "start_time": "2023-08-13T15:52:01.406Z"
   },
   {
    "duration": 22,
    "start_time": "2023-08-13T15:52:06.210Z"
   },
   {
    "duration": 6,
    "start_time": "2023-08-13T15:52:16.920Z"
   },
   {
    "duration": 10,
    "start_time": "2023-08-13T15:52:19.235Z"
   },
   {
    "duration": 12,
    "start_time": "2023-08-13T15:55:18.656Z"
   },
   {
    "duration": 9,
    "start_time": "2023-08-13T15:55:40.502Z"
   },
   {
    "duration": 11,
    "start_time": "2023-08-13T15:56:03.301Z"
   },
   {
    "duration": 31,
    "start_time": "2023-08-13T15:56:22.103Z"
   },
   {
    "duration": 12,
    "start_time": "2023-08-13T15:59:17.891Z"
   },
   {
    "duration": 10,
    "start_time": "2023-08-13T15:59:40.334Z"
   },
   {
    "duration": 18,
    "start_time": "2023-08-13T15:59:48.348Z"
   },
   {
    "duration": 26,
    "start_time": "2023-08-13T16:00:38.052Z"
   },
   {
    "duration": 10,
    "start_time": "2023-08-13T16:05:23.253Z"
   },
   {
    "duration": 13,
    "start_time": "2023-08-13T16:05:28.957Z"
   },
   {
    "duration": 133,
    "start_time": "2023-08-13T16:06:44.705Z"
   },
   {
    "duration": 5,
    "start_time": "2023-08-13T16:06:48.793Z"
   },
   {
    "duration": 6,
    "start_time": "2023-08-13T16:06:54.520Z"
   },
   {
    "duration": 923,
    "start_time": "2023-08-13T16:11:45.304Z"
   },
   {
    "duration": 6,
    "start_time": "2023-08-13T16:12:04.420Z"
   },
   {
    "duration": 1035,
    "start_time": "2023-08-13T16:12:07.620Z"
   },
   {
    "duration": 1014,
    "start_time": "2023-08-13T16:12:18.297Z"
   },
   {
    "duration": 1130,
    "start_time": "2023-08-13T16:12:24.849Z"
   },
   {
    "duration": 5,
    "start_time": "2023-08-13T16:12:42.724Z"
   },
   {
    "duration": 414,
    "start_time": "2023-08-13T16:15:27.876Z"
   },
   {
    "duration": 79,
    "start_time": "2023-08-13T16:15:28.292Z"
   },
   {
    "duration": 5,
    "start_time": "2023-08-13T16:15:28.382Z"
   },
   {
    "duration": 18,
    "start_time": "2023-08-13T16:15:28.388Z"
   },
   {
    "duration": 5,
    "start_time": "2023-08-13T16:15:28.408Z"
   },
   {
    "duration": 20,
    "start_time": "2023-08-13T16:15:28.414Z"
   },
   {
    "duration": 15,
    "start_time": "2023-08-13T16:15:28.436Z"
   },
   {
    "duration": 32,
    "start_time": "2023-08-13T16:15:28.452Z"
   },
   {
    "duration": 18,
    "start_time": "2023-08-13T16:15:28.486Z"
   },
   {
    "duration": 16,
    "start_time": "2023-08-13T16:15:28.506Z"
   },
   {
    "duration": 14,
    "start_time": "2023-08-13T16:15:28.523Z"
   },
   {
    "duration": 36,
    "start_time": "2023-08-13T16:15:28.539Z"
   },
   {
    "duration": 13,
    "start_time": "2023-08-13T16:15:28.576Z"
   },
   {
    "duration": 54,
    "start_time": "2023-08-13T16:15:28.592Z"
   },
   {
    "duration": 14,
    "start_time": "2023-08-13T16:15:28.648Z"
   },
   {
    "duration": 12,
    "start_time": "2023-08-13T16:15:28.670Z"
   },
   {
    "duration": 39,
    "start_time": "2023-08-13T16:15:28.687Z"
   },
   {
    "duration": 12,
    "start_time": "2023-08-13T16:15:28.728Z"
   },
   {
    "duration": 9,
    "start_time": "2023-08-13T16:17:24.394Z"
   },
   {
    "duration": 6,
    "start_time": "2023-08-13T16:19:47.397Z"
   },
   {
    "duration": 72,
    "start_time": "2023-08-13T16:19:52.478Z"
   },
   {
    "duration": 9,
    "start_time": "2023-08-13T16:20:03.136Z"
   },
   {
    "duration": 7,
    "start_time": "2023-08-13T16:21:39.799Z"
   },
   {
    "duration": 388,
    "start_time": "2023-08-13T16:26:51.899Z"
   },
   {
    "duration": 88,
    "start_time": "2023-08-13T16:26:52.289Z"
   },
   {
    "duration": 6,
    "start_time": "2023-08-13T16:26:52.379Z"
   },
   {
    "duration": 20,
    "start_time": "2023-08-13T16:26:52.386Z"
   },
   {
    "duration": 6,
    "start_time": "2023-08-13T16:26:52.409Z"
   },
   {
    "duration": 9,
    "start_time": "2023-08-13T16:26:52.416Z"
   },
   {
    "duration": 7,
    "start_time": "2023-08-13T16:26:52.427Z"
   },
   {
    "duration": 35,
    "start_time": "2023-08-13T16:26:52.436Z"
   },
   {
    "duration": 19,
    "start_time": "2023-08-13T16:26:52.472Z"
   },
   {
    "duration": 16,
    "start_time": "2023-08-13T16:26:52.493Z"
   },
   {
    "duration": 10,
    "start_time": "2023-08-13T16:26:52.512Z"
   },
   {
    "duration": 19,
    "start_time": "2023-08-13T16:26:52.523Z"
   },
   {
    "duration": 27,
    "start_time": "2023-08-13T16:26:52.544Z"
   },
   {
    "duration": 67,
    "start_time": "2023-08-13T16:26:52.583Z"
   },
   {
    "duration": 0,
    "start_time": "2023-08-13T16:26:52.652Z"
   },
   {
    "duration": 0,
    "start_time": "2023-08-13T16:26:52.653Z"
   },
   {
    "duration": 0,
    "start_time": "2023-08-13T16:26:52.654Z"
   },
   {
    "duration": 0,
    "start_time": "2023-08-13T16:26:52.655Z"
   },
   {
    "duration": 13,
    "start_time": "2023-08-13T16:27:31.507Z"
   },
   {
    "duration": 6,
    "start_time": "2023-08-13T16:27:35.055Z"
   },
   {
    "duration": 381,
    "start_time": "2023-08-13T16:27:38.829Z"
   },
   {
    "duration": 79,
    "start_time": "2023-08-13T16:27:39.212Z"
   },
   {
    "duration": 3,
    "start_time": "2023-08-13T16:27:39.293Z"
   },
   {
    "duration": 21,
    "start_time": "2023-08-13T16:27:39.298Z"
   },
   {
    "duration": 6,
    "start_time": "2023-08-13T16:27:39.321Z"
   },
   {
    "duration": 9,
    "start_time": "2023-08-13T16:27:39.329Z"
   },
   {
    "duration": 21,
    "start_time": "2023-08-13T16:27:39.339Z"
   },
   {
    "duration": 11,
    "start_time": "2023-08-13T16:27:39.361Z"
   },
   {
    "duration": 23,
    "start_time": "2023-08-13T16:27:39.374Z"
   },
   {
    "duration": 9,
    "start_time": "2023-08-13T16:27:39.400Z"
   },
   {
    "duration": 11,
    "start_time": "2023-08-13T16:27:39.410Z"
   },
   {
    "duration": 19,
    "start_time": "2023-08-13T16:27:39.422Z"
   },
   {
    "duration": 17,
    "start_time": "2023-08-13T16:27:39.463Z"
   },
   {
    "duration": 15,
    "start_time": "2023-08-13T16:27:39.484Z"
   },
   {
    "duration": 5,
    "start_time": "2023-08-13T16:27:39.500Z"
   },
   {
    "duration": 10,
    "start_time": "2023-08-13T16:27:39.506Z"
   },
   {
    "duration": 3,
    "start_time": "2023-08-13T16:27:39.518Z"
   },
   {
    "duration": 16,
    "start_time": "2023-08-13T16:27:39.522Z"
   },
   {
    "duration": 7,
    "start_time": "2023-08-13T16:28:51.348Z"
   },
   {
    "duration": 698,
    "start_time": "2023-08-13T16:30:16.416Z"
   },
   {
    "duration": 8,
    "start_time": "2023-08-13T16:30:24.336Z"
   },
   {
    "duration": 7,
    "start_time": "2023-08-13T16:32:22.245Z"
   },
   {
    "duration": 7,
    "start_time": "2023-08-13T16:32:39.793Z"
   },
   {
    "duration": 96,
    "start_time": "2023-08-13T16:43:01.284Z"
   },
   {
    "duration": 83,
    "start_time": "2023-08-13T16:51:37.948Z"
   },
   {
    "duration": 6,
    "start_time": "2023-08-13T16:54:33.968Z"
   },
   {
    "duration": 5,
    "start_time": "2023-08-13T16:54:39.884Z"
   },
   {
    "duration": 5,
    "start_time": "2023-08-13T16:56:45.620Z"
   },
   {
    "duration": 5,
    "start_time": "2023-08-13T16:59:56.721Z"
   },
   {
    "duration": 6,
    "start_time": "2023-08-13T17:03:40.807Z"
   },
   {
    "duration": 21,
    "start_time": "2023-08-13T17:12:38.808Z"
   },
   {
    "duration": 30,
    "start_time": "2023-08-13T17:13:08.328Z"
   },
   {
    "duration": 28,
    "start_time": "2023-08-13T17:14:18.413Z"
   },
   {
    "duration": 16,
    "start_time": "2023-08-13T17:14:35.884Z"
   },
   {
    "duration": 9,
    "start_time": "2023-08-13T17:15:29.698Z"
   },
   {
    "duration": 8,
    "start_time": "2023-08-13T17:15:48.308Z"
   },
   {
    "duration": 7,
    "start_time": "2023-08-13T17:16:01.151Z"
   },
   {
    "duration": 10,
    "start_time": "2023-08-13T17:16:26.721Z"
   },
   {
    "duration": 7,
    "start_time": "2023-08-13T17:20:53.958Z"
   },
   {
    "duration": 6,
    "start_time": "2023-08-13T17:21:15.890Z"
   },
   {
    "duration": 7,
    "start_time": "2023-08-13T17:21:23.912Z"
   },
   {
    "duration": 7,
    "start_time": "2023-08-13T17:21:37.707Z"
   },
   {
    "duration": 9,
    "start_time": "2023-08-13T17:22:43.421Z"
   },
   {
    "duration": 15,
    "start_time": "2023-08-13T17:23:04.721Z"
   },
   {
    "duration": 7,
    "start_time": "2023-08-13T17:23:06.651Z"
   },
   {
    "duration": 14,
    "start_time": "2023-08-13T17:24:41.160Z"
   },
   {
    "duration": 6,
    "start_time": "2023-08-13T17:24:47.406Z"
   },
   {
    "duration": 415,
    "start_time": "2023-08-13T17:25:18.526Z"
   },
   {
    "duration": 74,
    "start_time": "2023-08-13T17:25:18.943Z"
   },
   {
    "duration": 4,
    "start_time": "2023-08-13T17:25:19.018Z"
   },
   {
    "duration": 28,
    "start_time": "2023-08-13T17:25:19.024Z"
   },
   {
    "duration": 6,
    "start_time": "2023-08-13T17:25:19.054Z"
   },
   {
    "duration": 9,
    "start_time": "2023-08-13T17:25:19.062Z"
   },
   {
    "duration": 9,
    "start_time": "2023-08-13T17:25:19.073Z"
   },
   {
    "duration": 18,
    "start_time": "2023-08-13T17:25:19.083Z"
   },
   {
    "duration": 15,
    "start_time": "2023-08-13T17:25:19.102Z"
   },
   {
    "duration": 22,
    "start_time": "2023-08-13T17:25:19.119Z"
   },
   {
    "duration": 16,
    "start_time": "2023-08-13T17:25:19.142Z"
   },
   {
    "duration": 10,
    "start_time": "2023-08-13T17:25:19.160Z"
   },
   {
    "duration": 24,
    "start_time": "2023-08-13T17:25:19.172Z"
   },
   {
    "duration": 11,
    "start_time": "2023-08-13T17:25:19.197Z"
   },
   {
    "duration": 22,
    "start_time": "2023-08-13T17:25:19.209Z"
   },
   {
    "duration": 5,
    "start_time": "2023-08-13T17:25:19.233Z"
   },
   {
    "duration": 22,
    "start_time": "2023-08-13T17:25:19.240Z"
   },
   {
    "duration": 15,
    "start_time": "2023-08-13T17:25:19.263Z"
   },
   {
    "duration": 20,
    "start_time": "2023-08-13T17:25:19.280Z"
   },
   {
    "duration": 16,
    "start_time": "2023-08-13T17:25:19.302Z"
   },
   {
    "duration": 7,
    "start_time": "2023-08-13T17:25:19.319Z"
   },
   {
    "duration": 94,
    "start_time": "2023-08-13T17:25:19.328Z"
   },
   {
    "duration": 0,
    "start_time": "2023-08-13T17:25:19.424Z"
   },
   {
    "duration": 0,
    "start_time": "2023-08-13T17:25:19.426Z"
   },
   {
    "duration": 0,
    "start_time": "2023-08-13T17:25:19.427Z"
   },
   {
    "duration": 0,
    "start_time": "2023-08-13T17:25:19.428Z"
   },
   {
    "duration": 25,
    "start_time": "2023-08-13T17:25:47.238Z"
   },
   {
    "duration": 11,
    "start_time": "2023-08-13T17:25:58.461Z"
   },
   {
    "duration": 6,
    "start_time": "2023-08-13T17:25:59.879Z"
   },
   {
    "duration": 30,
    "start_time": "2023-08-13T17:26:02.480Z"
   },
   {
    "duration": 8,
    "start_time": "2023-08-13T17:30:26.897Z"
   },
   {
    "duration": 368,
    "start_time": "2023-08-13T17:30:33.587Z"
   },
   {
    "duration": 73,
    "start_time": "2023-08-13T17:30:33.960Z"
   },
   {
    "duration": 4,
    "start_time": "2023-08-13T17:30:34.035Z"
   },
   {
    "duration": 21,
    "start_time": "2023-08-13T17:30:34.041Z"
   },
   {
    "duration": 7,
    "start_time": "2023-08-13T17:30:34.065Z"
   },
   {
    "duration": 18,
    "start_time": "2023-08-13T17:30:34.074Z"
   },
   {
    "duration": 10,
    "start_time": "2023-08-13T17:30:34.096Z"
   },
   {
    "duration": 9,
    "start_time": "2023-08-13T17:30:34.108Z"
   },
   {
    "duration": 11,
    "start_time": "2023-08-13T17:30:34.120Z"
   },
   {
    "duration": 46,
    "start_time": "2023-08-13T17:30:34.132Z"
   },
   {
    "duration": 11,
    "start_time": "2023-08-13T17:30:34.180Z"
   },
   {
    "duration": 14,
    "start_time": "2023-08-13T17:30:34.193Z"
   },
   {
    "duration": 22,
    "start_time": "2023-08-13T17:30:34.209Z"
   },
   {
    "duration": 8,
    "start_time": "2023-08-13T17:30:34.261Z"
   },
   {
    "duration": 35,
    "start_time": "2023-08-13T17:30:34.271Z"
   },
   {
    "duration": 8,
    "start_time": "2023-08-13T17:30:34.308Z"
   },
   {
    "duration": 6,
    "start_time": "2023-08-13T17:30:34.318Z"
   },
   {
    "duration": 21,
    "start_time": "2023-08-13T17:30:34.326Z"
   },
   {
    "duration": 19,
    "start_time": "2023-08-13T17:30:34.349Z"
   },
   {
    "duration": 18,
    "start_time": "2023-08-13T17:30:34.370Z"
   },
   {
    "duration": 5,
    "start_time": "2023-08-13T17:30:34.390Z"
   },
   {
    "duration": 39,
    "start_time": "2023-08-13T17:30:34.396Z"
   },
   {
    "duration": 5,
    "start_time": "2023-08-13T17:30:34.436Z"
   },
   {
    "duration": 17,
    "start_time": "2023-08-13T17:30:34.442Z"
   },
   {
    "duration": 4,
    "start_time": "2023-08-13T17:30:34.460Z"
   },
   {
    "duration": 17,
    "start_time": "2023-08-13T17:30:34.465Z"
   },
   {
    "duration": 4,
    "start_time": "2023-08-13T17:30:50.418Z"
   },
   {
    "duration": 4,
    "start_time": "2023-08-13T17:30:57.400Z"
   },
   {
    "duration": 5,
    "start_time": "2023-08-13T17:32:44.752Z"
   },
   {
    "duration": 63,
    "start_time": "2023-08-13T17:33:07.854Z"
   },
   {
    "duration": 9,
    "start_time": "2023-08-13T17:33:11.065Z"
   },
   {
    "duration": 9,
    "start_time": "2023-08-13T17:33:13.715Z"
   },
   {
    "duration": 11,
    "start_time": "2023-08-13T17:33:17.148Z"
   },
   {
    "duration": 12,
    "start_time": "2023-08-13T17:33:20.194Z"
   },
   {
    "duration": 12,
    "start_time": "2023-08-13T17:34:01.430Z"
   },
   {
    "duration": 7,
    "start_time": "2023-08-13T17:34:10.464Z"
   },
   {
    "duration": 6,
    "start_time": "2023-08-13T17:34:29.428Z"
   },
   {
    "duration": 6,
    "start_time": "2023-08-13T17:34:35.476Z"
   },
   {
    "duration": 159,
    "start_time": "2023-08-13T17:35:36.330Z"
   },
   {
    "duration": 101,
    "start_time": "2023-08-13T17:39:49.332Z"
   },
   {
    "duration": 8,
    "start_time": "2023-08-13T17:39:54.313Z"
   },
   {
    "duration": 5844,
    "start_time": "2023-08-13T17:41:54.555Z"
   },
   {
    "duration": 8,
    "start_time": "2023-08-13T17:46:31.601Z"
   },
   {
    "duration": 8,
    "start_time": "2023-08-13T17:49:21.246Z"
   },
   {
    "duration": 10598,
    "start_time": "2023-08-13T17:50:36.547Z"
   },
   {
    "duration": 12777,
    "start_time": "2023-08-13T17:51:10.829Z"
   },
   {
    "duration": 49,
    "start_time": "2023-08-13T17:53:35.134Z"
   },
   {
    "duration": 1020,
    "start_time": "2023-08-13T17:53:55.817Z"
   },
   {
    "duration": 1029,
    "start_time": "2023-08-13T17:54:55.714Z"
   },
   {
    "duration": 7,
    "start_time": "2023-08-13T17:56:30.093Z"
   },
   {
    "duration": 7,
    "start_time": "2023-08-13T17:56:52.213Z"
   },
   {
    "duration": 940,
    "start_time": "2023-08-13T17:57:35.287Z"
   },
   {
    "duration": 12662,
    "start_time": "2023-08-13T17:57:55.051Z"
   },
   {
    "duration": 1845,
    "start_time": "2023-08-13T17:59:14.534Z"
   },
   {
    "duration": 12417,
    "start_time": "2023-08-13T17:59:37.215Z"
   },
   {
    "duration": 13271,
    "start_time": "2023-08-13T18:00:01.070Z"
   },
   {
    "duration": 7,
    "start_time": "2023-08-13T18:01:13.085Z"
   },
   {
    "duration": 8,
    "start_time": "2023-08-13T18:01:47.584Z"
   },
   {
    "duration": 3,
    "start_time": "2023-08-13T18:02:33.157Z"
   },
   {
    "duration": 7,
    "start_time": "2023-08-13T18:02:40.073Z"
   },
   {
    "duration": 7,
    "start_time": "2023-08-13T18:02:51.529Z"
   },
   {
    "duration": 7,
    "start_time": "2023-08-13T18:02:55.933Z"
   },
   {
    "duration": 8,
    "start_time": "2023-08-13T18:03:02.593Z"
   },
   {
    "duration": 6,
    "start_time": "2023-08-13T18:03:23.636Z"
   },
   {
    "duration": 5,
    "start_time": "2023-08-13T18:03:36.580Z"
   },
   {
    "duration": 6,
    "start_time": "2023-08-13T18:03:47.642Z"
   },
   {
    "duration": 8,
    "start_time": "2023-08-13T18:03:53.131Z"
   },
   {
    "duration": 6,
    "start_time": "2023-08-13T18:03:56.782Z"
   },
   {
    "duration": 7,
    "start_time": "2023-08-13T18:05:23.685Z"
   },
   {
    "duration": 6,
    "start_time": "2023-08-13T18:05:31.596Z"
   },
   {
    "duration": 7,
    "start_time": "2023-08-13T18:07:01.100Z"
   },
   {
    "duration": 7,
    "start_time": "2023-08-13T18:07:11.844Z"
   },
   {
    "duration": 7,
    "start_time": "2023-08-13T18:07:15.241Z"
   },
   {
    "duration": 10,
    "start_time": "2023-08-13T18:07:23.209Z"
   },
   {
    "duration": 8,
    "start_time": "2023-08-13T18:07:32.036Z"
   },
   {
    "duration": 8,
    "start_time": "2023-08-13T18:07:52.029Z"
   },
   {
    "duration": 6,
    "start_time": "2023-08-13T18:07:58.372Z"
   },
   {
    "duration": 9,
    "start_time": "2023-08-13T18:08:06.957Z"
   },
   {
    "duration": 7,
    "start_time": "2023-08-13T18:08:15.931Z"
   },
   {
    "duration": 8,
    "start_time": "2023-08-13T18:08:25.197Z"
   },
   {
    "duration": 10,
    "start_time": "2023-08-13T18:08:50.442Z"
   },
   {
    "duration": 11,
    "start_time": "2023-08-13T18:09:00.272Z"
   },
   {
    "duration": 8,
    "start_time": "2023-08-13T18:09:07.648Z"
   },
   {
    "duration": 13,
    "start_time": "2023-08-13T18:09:20.953Z"
   },
   {
    "duration": 8,
    "start_time": "2023-08-13T18:09:25.352Z"
   },
   {
    "duration": 967,
    "start_time": "2023-08-13T18:09:39.501Z"
   },
   {
    "duration": 943,
    "start_time": "2023-08-13T18:10:27.773Z"
   },
   {
    "duration": 20,
    "start_time": "2023-08-13T18:11:15.647Z"
   },
   {
    "duration": 13,
    "start_time": "2023-08-13T18:11:21.605Z"
   },
   {
    "duration": 7,
    "start_time": "2023-08-13T18:11:25.292Z"
   },
   {
    "duration": 7,
    "start_time": "2023-08-13T18:12:19.861Z"
   },
   {
    "duration": 12,
    "start_time": "2023-08-13T18:12:29.704Z"
   },
   {
    "duration": 7,
    "start_time": "2023-08-13T18:13:09.306Z"
   },
   {
    "duration": 13667,
    "start_time": "2023-08-13T18:13:20.261Z"
   },
   {
    "duration": 2509,
    "start_time": "2023-08-13T18:14:03.182Z"
   },
   {
    "duration": 2248,
    "start_time": "2023-08-13T18:14:44.188Z"
   },
   {
    "duration": 6,
    "start_time": "2023-08-13T18:16:53.024Z"
   },
   {
    "duration": 14,
    "start_time": "2023-08-13T18:17:49.452Z"
   },
   {
    "duration": 2781,
    "start_time": "2023-08-13T18:17:55.715Z"
   },
   {
    "duration": 2246,
    "start_time": "2023-08-13T18:18:05.347Z"
   },
   {
    "duration": 2422,
    "start_time": "2023-08-13T18:33:42.189Z"
   },
   {
    "duration": 19,
    "start_time": "2023-08-13T18:35:05.020Z"
   },
   {
    "duration": 2108,
    "start_time": "2023-08-13T18:35:25.876Z"
   },
   {
    "duration": 14,
    "start_time": "2023-08-13T18:35:31.918Z"
   },
   {
    "duration": 2240,
    "start_time": "2023-08-13T18:35:51.080Z"
   },
   {
    "duration": 9,
    "start_time": "2023-08-13T18:36:41.036Z"
   },
   {
    "duration": 7,
    "start_time": "2023-08-13T18:36:44.442Z"
   },
   {
    "duration": 7,
    "start_time": "2023-08-13T18:36:53.550Z"
   },
   {
    "duration": 2253,
    "start_time": "2023-08-13T18:45:29.613Z"
   },
   {
    "duration": 9,
    "start_time": "2023-08-13T19:03:19.918Z"
   },
   {
    "duration": 134,
    "start_time": "2023-08-13T19:03:39.551Z"
   },
   {
    "duration": 7,
    "start_time": "2023-08-13T19:03:46.520Z"
   },
   {
    "duration": 13,
    "start_time": "2023-08-13T19:03:58.404Z"
   },
   {
    "duration": 15,
    "start_time": "2023-08-13T19:04:00.304Z"
   },
   {
    "duration": 679,
    "start_time": "2023-08-13T19:28:05.488Z"
   },
   {
    "duration": 176,
    "start_time": "2023-08-13T19:31:28.348Z"
   },
   {
    "duration": 4,
    "start_time": "2023-08-13T19:31:50.236Z"
   },
   {
    "duration": 218,
    "start_time": "2023-08-13T19:31:59.043Z"
   },
   {
    "duration": 157,
    "start_time": "2023-08-13T19:32:07.393Z"
   },
   {
    "duration": 147,
    "start_time": "2023-08-13T19:32:28.671Z"
   },
   {
    "duration": 358,
    "start_time": "2023-08-13T19:32:54.287Z"
   },
   {
    "duration": 7,
    "start_time": "2023-08-13T19:36:16.046Z"
   },
   {
    "duration": 10,
    "start_time": "2023-08-13T19:37:59.332Z"
   },
   {
    "duration": 13,
    "start_time": "2023-08-13T19:38:17.390Z"
   },
   {
    "duration": 13,
    "start_time": "2023-08-13T19:38:29.833Z"
   },
   {
    "duration": 10,
    "start_time": "2023-08-13T19:38:55.290Z"
   },
   {
    "duration": 8,
    "start_time": "2023-08-13T19:39:03.491Z"
   },
   {
    "duration": 13,
    "start_time": "2023-08-13T19:39:48.014Z"
   },
   {
    "duration": 13,
    "start_time": "2023-08-13T19:40:01.264Z"
   },
   {
    "duration": 5,
    "start_time": "2023-08-13T19:40:07.184Z"
   },
   {
    "duration": 7,
    "start_time": "2023-08-13T19:40:13.657Z"
   },
   {
    "duration": 10,
    "start_time": "2023-08-13T19:40:24.016Z"
   },
   {
    "duration": 6,
    "start_time": "2023-08-13T19:40:27.666Z"
   },
   {
    "duration": 5,
    "start_time": "2023-08-13T19:40:35.594Z"
   },
   {
    "duration": 456,
    "start_time": "2023-08-13T19:41:03.958Z"
   },
   {
    "duration": 7,
    "start_time": "2023-08-13T19:41:30.958Z"
   },
   {
    "duration": 6,
    "start_time": "2023-08-13T19:41:34.831Z"
   },
   {
    "duration": 5,
    "start_time": "2023-08-13T19:41:42.352Z"
   },
   {
    "duration": 334,
    "start_time": "2023-08-13T19:41:54.750Z"
   },
   {
    "duration": 744,
    "start_time": "2023-08-13T19:42:54.343Z"
   },
   {
    "duration": 69,
    "start_time": "2023-08-13T19:42:55.089Z"
   },
   {
    "duration": 19,
    "start_time": "2023-08-13T19:42:55.160Z"
   },
   {
    "duration": 23,
    "start_time": "2023-08-13T19:42:55.181Z"
   },
   {
    "duration": 5,
    "start_time": "2023-08-13T19:42:55.206Z"
   },
   {
    "duration": 8,
    "start_time": "2023-08-13T19:42:55.213Z"
   },
   {
    "duration": 10,
    "start_time": "2023-08-13T19:42:55.223Z"
   },
   {
    "duration": 9,
    "start_time": "2023-08-13T19:42:55.235Z"
   },
   {
    "duration": 20,
    "start_time": "2023-08-13T19:42:55.260Z"
   },
   {
    "duration": 15,
    "start_time": "2023-08-13T19:42:55.283Z"
   },
   {
    "duration": 7,
    "start_time": "2023-08-13T19:42:55.300Z"
   },
   {
    "duration": 11,
    "start_time": "2023-08-13T19:42:55.309Z"
   },
   {
    "duration": 44,
    "start_time": "2023-08-13T19:42:55.323Z"
   },
   {
    "duration": 8,
    "start_time": "2023-08-13T19:42:55.369Z"
   },
   {
    "duration": 17,
    "start_time": "2023-08-13T19:42:55.379Z"
   },
   {
    "duration": 5,
    "start_time": "2023-08-13T19:42:55.397Z"
   },
   {
    "duration": 4,
    "start_time": "2023-08-13T19:42:55.404Z"
   },
   {
    "duration": 5,
    "start_time": "2023-08-13T19:42:55.410Z"
   },
   {
    "duration": 7,
    "start_time": "2023-08-13T19:42:55.416Z"
   },
   {
    "duration": 8,
    "start_time": "2023-08-13T19:42:55.460Z"
   },
   {
    "duration": 12,
    "start_time": "2023-08-13T19:42:55.469Z"
   },
   {
    "duration": 5,
    "start_time": "2023-08-13T19:42:55.483Z"
   },
   {
    "duration": 2321,
    "start_time": "2023-08-13T19:42:55.490Z"
   },
   {
    "duration": 8,
    "start_time": "2023-08-13T19:42:57.813Z"
   },
   {
    "duration": 37,
    "start_time": "2023-08-13T19:42:57.823Z"
   },
   {
    "duration": 19,
    "start_time": "2023-08-13T19:42:57.862Z"
   },
   {
    "duration": 97,
    "start_time": "2023-08-13T19:42:57.884Z"
   },
   {
    "duration": 0,
    "start_time": "2023-08-13T19:42:57.983Z"
   },
   {
    "duration": 0,
    "start_time": "2023-08-13T19:42:57.984Z"
   },
   {
    "duration": 0,
    "start_time": "2023-08-13T19:42:57.985Z"
   },
   {
    "duration": 0,
    "start_time": "2023-08-13T19:42:57.987Z"
   },
   {
    "duration": 710,
    "start_time": "2023-08-13T19:43:41.800Z"
   },
   {
    "duration": 75,
    "start_time": "2023-08-13T19:43:42.512Z"
   },
   {
    "duration": 5,
    "start_time": "2023-08-13T19:43:42.589Z"
   },
   {
    "duration": 41,
    "start_time": "2023-08-13T19:43:42.596Z"
   },
   {
    "duration": 18,
    "start_time": "2023-08-13T19:43:42.639Z"
   },
   {
    "duration": 26,
    "start_time": "2023-08-13T19:43:42.659Z"
   },
   {
    "duration": 15,
    "start_time": "2023-08-13T19:43:42.686Z"
   },
   {
    "duration": 9,
    "start_time": "2023-08-13T19:43:42.702Z"
   },
   {
    "duration": 8,
    "start_time": "2023-08-13T19:43:42.713Z"
   },
   {
    "duration": 17,
    "start_time": "2023-08-13T19:43:42.724Z"
   },
   {
    "duration": 16,
    "start_time": "2023-08-13T19:43:42.743Z"
   },
   {
    "duration": 13,
    "start_time": "2023-08-13T19:43:42.761Z"
   },
   {
    "duration": 32,
    "start_time": "2023-08-13T19:43:42.777Z"
   },
   {
    "duration": 7,
    "start_time": "2023-08-13T19:43:42.811Z"
   },
   {
    "duration": 42,
    "start_time": "2023-08-13T19:43:42.820Z"
   },
   {
    "duration": 5,
    "start_time": "2023-08-13T19:43:42.864Z"
   },
   {
    "duration": 11,
    "start_time": "2023-08-13T19:43:42.871Z"
   },
   {
    "duration": 6,
    "start_time": "2023-08-13T19:43:42.884Z"
   },
   {
    "duration": 8,
    "start_time": "2023-08-13T19:43:42.892Z"
   },
   {
    "duration": 7,
    "start_time": "2023-08-13T19:43:42.902Z"
   },
   {
    "duration": 20,
    "start_time": "2023-08-13T19:43:42.911Z"
   },
   {
    "duration": 31,
    "start_time": "2023-08-13T19:43:42.933Z"
   },
   {
    "duration": 2418,
    "start_time": "2023-08-13T19:43:42.966Z"
   },
   {
    "duration": 7,
    "start_time": "2023-08-13T19:43:45.386Z"
   },
   {
    "duration": 21,
    "start_time": "2023-08-13T19:43:45.395Z"
   },
   {
    "duration": 12,
    "start_time": "2023-08-13T19:43:45.417Z"
   },
   {
    "duration": 30,
    "start_time": "2023-08-13T19:43:45.431Z"
   },
   {
    "duration": 7,
    "start_time": "2023-08-13T19:43:45.465Z"
   },
   {
    "duration": 88,
    "start_time": "2023-08-13T19:43:45.474Z"
   },
   {
    "duration": 0,
    "start_time": "2023-08-13T19:43:45.563Z"
   },
   {
    "duration": 0,
    "start_time": "2023-08-13T19:43:45.565Z"
   },
   {
    "duration": 17,
    "start_time": "2023-08-13T19:45:55.563Z"
   },
   {
    "duration": 21,
    "start_time": "2023-08-13T19:46:14.344Z"
   },
   {
    "duration": 28,
    "start_time": "2023-08-13T19:46:24.383Z"
   },
   {
    "duration": 18,
    "start_time": "2023-08-13T19:46:40.836Z"
   },
   {
    "duration": 18,
    "start_time": "2023-08-13T19:46:46.835Z"
   },
   {
    "duration": 359,
    "start_time": "2023-08-13T19:47:30.560Z"
   },
   {
    "duration": 349,
    "start_time": "2023-08-13T19:47:36.644Z"
   },
   {
    "duration": 700,
    "start_time": "2023-08-13T19:51:01.713Z"
   },
   {
    "duration": 71,
    "start_time": "2023-08-13T19:51:02.415Z"
   },
   {
    "duration": 4,
    "start_time": "2023-08-13T19:51:02.488Z"
   },
   {
    "duration": 15,
    "start_time": "2023-08-13T19:51:02.995Z"
   },
   {
    "duration": 8,
    "start_time": "2023-08-13T19:51:03.020Z"
   },
   {
    "duration": 20,
    "start_time": "2023-08-13T19:51:03.031Z"
   },
   {
    "duration": 27,
    "start_time": "2023-08-13T19:51:03.053Z"
   },
   {
    "duration": 25,
    "start_time": "2023-08-13T19:51:03.082Z"
   },
   {
    "duration": 16,
    "start_time": "2023-08-13T19:51:03.111Z"
   },
   {
    "duration": 15,
    "start_time": "2023-08-13T19:51:03.128Z"
   },
   {
    "duration": 19,
    "start_time": "2023-08-13T19:51:03.144Z"
   },
   {
    "duration": 34,
    "start_time": "2023-08-13T19:51:03.164Z"
   },
   {
    "duration": 25,
    "start_time": "2023-08-13T19:51:03.199Z"
   },
   {
    "duration": 79,
    "start_time": "2023-08-13T19:51:03.226Z"
   },
   {
    "duration": 0,
    "start_time": "2023-08-13T19:51:03.306Z"
   },
   {
    "duration": 0,
    "start_time": "2023-08-13T19:51:03.308Z"
   },
   {
    "duration": 1,
    "start_time": "2023-08-13T19:51:03.308Z"
   },
   {
    "duration": 0,
    "start_time": "2023-08-13T19:51:03.309Z"
   },
   {
    "duration": 0,
    "start_time": "2023-08-13T19:51:03.310Z"
   },
   {
    "duration": 0,
    "start_time": "2023-08-13T19:51:03.312Z"
   },
   {
    "duration": 0,
    "start_time": "2023-08-13T19:51:03.313Z"
   },
   {
    "duration": 0,
    "start_time": "2023-08-13T19:51:03.314Z"
   },
   {
    "duration": 0,
    "start_time": "2023-08-13T19:51:03.315Z"
   },
   {
    "duration": 0,
    "start_time": "2023-08-13T19:51:03.316Z"
   },
   {
    "duration": 0,
    "start_time": "2023-08-13T19:51:03.317Z"
   },
   {
    "duration": 0,
    "start_time": "2023-08-13T19:51:03.318Z"
   },
   {
    "duration": 0,
    "start_time": "2023-08-13T19:51:03.318Z"
   },
   {
    "duration": 1,
    "start_time": "2023-08-13T19:51:03.319Z"
   },
   {
    "duration": 6,
    "start_time": "2023-08-13T19:52:00.098Z"
   },
   {
    "duration": 7,
    "start_time": "2023-08-13T19:52:16.016Z"
   },
   {
    "duration": 4,
    "start_time": "2023-08-13T19:52:21.497Z"
   },
   {
    "duration": 14,
    "start_time": "2023-08-13T19:52:24.535Z"
   },
   {
    "duration": 7,
    "start_time": "2023-08-13T19:52:43.208Z"
   },
   {
    "duration": 31,
    "start_time": "2023-08-13T19:53:59.640Z"
   },
   {
    "duration": 21,
    "start_time": "2023-08-13T19:54:17.193Z"
   },
   {
    "duration": 25,
    "start_time": "2023-08-13T19:54:50.036Z"
   },
   {
    "duration": 22,
    "start_time": "2023-08-13T19:55:08.298Z"
   },
   {
    "duration": 19,
    "start_time": "2023-08-13T19:55:16.581Z"
   },
   {
    "duration": 11,
    "start_time": "2023-08-13T19:55:18.638Z"
   },
   {
    "duration": 457,
    "start_time": "2023-08-13T19:55:20.826Z"
   },
   {
    "duration": 689,
    "start_time": "2023-08-13T19:55:57.666Z"
   },
   {
    "duration": 71,
    "start_time": "2023-08-13T19:55:58.357Z"
   },
   {
    "duration": 3,
    "start_time": "2023-08-13T19:55:58.430Z"
   },
   {
    "duration": 34,
    "start_time": "2023-08-13T19:55:58.435Z"
   },
   {
    "duration": 13,
    "start_time": "2023-08-13T19:55:58.473Z"
   },
   {
    "duration": 30,
    "start_time": "2023-08-13T19:55:58.488Z"
   },
   {
    "duration": 11,
    "start_time": "2023-08-13T19:55:58.521Z"
   },
   {
    "duration": 8,
    "start_time": "2023-08-13T19:55:58.534Z"
   },
   {
    "duration": 7,
    "start_time": "2023-08-13T19:55:58.544Z"
   },
   {
    "duration": 16,
    "start_time": "2023-08-13T19:55:58.552Z"
   },
   {
    "duration": 6,
    "start_time": "2023-08-13T19:55:58.569Z"
   },
   {
    "duration": 20,
    "start_time": "2023-08-13T19:55:58.576Z"
   },
   {
    "duration": 20,
    "start_time": "2023-08-13T19:55:58.597Z"
   },
   {
    "duration": 18,
    "start_time": "2023-08-13T19:55:58.620Z"
   },
   {
    "duration": 21,
    "start_time": "2023-08-13T19:55:58.640Z"
   },
   {
    "duration": 6,
    "start_time": "2023-08-13T19:55:58.662Z"
   },
   {
    "duration": 12,
    "start_time": "2023-08-13T19:55:58.669Z"
   },
   {
    "duration": 11,
    "start_time": "2023-08-13T19:55:58.683Z"
   },
   {
    "duration": 8,
    "start_time": "2023-08-13T19:55:58.695Z"
   },
   {
    "duration": 44,
    "start_time": "2023-08-13T19:55:58.705Z"
   },
   {
    "duration": 9,
    "start_time": "2023-08-13T19:55:58.750Z"
   },
   {
    "duration": 11,
    "start_time": "2023-08-13T19:55:58.760Z"
   },
   {
    "duration": 6,
    "start_time": "2023-08-13T19:55:58.772Z"
   },
   {
    "duration": 2299,
    "start_time": "2023-08-13T19:55:58.780Z"
   },
   {
    "duration": 7,
    "start_time": "2023-08-13T19:56:01.080Z"
   },
   {
    "duration": 53,
    "start_time": "2023-08-13T19:56:01.088Z"
   },
   {
    "duration": 18,
    "start_time": "2023-08-13T19:56:01.144Z"
   },
   {
    "duration": 352,
    "start_time": "2023-08-13T19:56:01.164Z"
   },
   {
    "duration": 82,
    "start_time": "2023-08-13T19:56:01.518Z"
   },
   {
    "duration": 913,
    "start_time": "2023-08-13T19:57:23.669Z"
   },
   {
    "duration": 6,
    "start_time": "2023-08-13T19:57:30.446Z"
   },
   {
    "duration": 5,
    "start_time": "2023-08-13T19:57:39.186Z"
   },
   {
    "duration": 722,
    "start_time": "2023-08-13T19:57:46.828Z"
   },
   {
    "duration": 71,
    "start_time": "2023-08-13T19:57:47.552Z"
   },
   {
    "duration": 3,
    "start_time": "2023-08-13T19:57:47.625Z"
   },
   {
    "duration": 17,
    "start_time": "2023-08-13T19:57:47.630Z"
   },
   {
    "duration": 6,
    "start_time": "2023-08-13T19:57:47.649Z"
   },
   {
    "duration": 9,
    "start_time": "2023-08-13T19:57:47.656Z"
   },
   {
    "duration": 8,
    "start_time": "2023-08-13T19:57:47.666Z"
   },
   {
    "duration": 12,
    "start_time": "2023-08-13T19:57:47.676Z"
   },
   {
    "duration": 8,
    "start_time": "2023-08-13T19:57:47.689Z"
   },
   {
    "duration": 14,
    "start_time": "2023-08-13T19:57:47.699Z"
   },
   {
    "duration": 6,
    "start_time": "2023-08-13T19:57:47.714Z"
   },
   {
    "duration": 38,
    "start_time": "2023-08-13T19:57:47.722Z"
   },
   {
    "duration": 19,
    "start_time": "2023-08-13T19:57:47.762Z"
   },
   {
    "duration": 6,
    "start_time": "2023-08-13T19:57:47.782Z"
   },
   {
    "duration": 9,
    "start_time": "2023-08-13T19:57:47.789Z"
   },
   {
    "duration": 5,
    "start_time": "2023-08-13T19:57:47.799Z"
   },
   {
    "duration": 8,
    "start_time": "2023-08-13T19:57:47.805Z"
   },
   {
    "duration": 4,
    "start_time": "2023-08-13T19:57:47.814Z"
   },
   {
    "duration": 6,
    "start_time": "2023-08-13T19:57:47.819Z"
   },
   {
    "duration": 35,
    "start_time": "2023-08-13T19:57:47.826Z"
   },
   {
    "duration": 6,
    "start_time": "2023-08-13T19:57:47.863Z"
   },
   {
    "duration": 10,
    "start_time": "2023-08-13T19:57:47.871Z"
   },
   {
    "duration": 6,
    "start_time": "2023-08-13T19:57:47.882Z"
   },
   {
    "duration": 2286,
    "start_time": "2023-08-13T19:57:47.890Z"
   },
   {
    "duration": 6,
    "start_time": "2023-08-13T19:57:50.178Z"
   },
   {
    "duration": 15,
    "start_time": "2023-08-13T19:57:50.186Z"
   },
   {
    "duration": 10,
    "start_time": "2023-08-13T19:57:50.202Z"
   },
   {
    "duration": 355,
    "start_time": "2023-08-13T19:57:50.215Z"
   },
   {
    "duration": 73,
    "start_time": "2023-08-13T19:57:50.572Z"
   },
   {
    "duration": 294,
    "start_time": "2023-08-13T19:59:06.591Z"
   },
   {
    "duration": 373,
    "start_time": "2023-08-13T20:00:05.580Z"
   },
   {
    "duration": 1844,
    "start_time": "2023-08-13T20:00:25.625Z"
   },
   {
    "duration": 316,
    "start_time": "2023-08-13T20:00:35.340Z"
   },
   {
    "duration": 21,
    "start_time": "2023-08-13T20:04:49.552Z"
   },
   {
    "duration": 7,
    "start_time": "2023-08-13T20:05:07.928Z"
   },
   {
    "duration": 7,
    "start_time": "2023-08-13T20:05:15.912Z"
   },
   {
    "duration": 6,
    "start_time": "2023-08-13T20:05:21.637Z"
   },
   {
    "duration": 7,
    "start_time": "2023-08-13T20:05:25.561Z"
   },
   {
    "duration": 8,
    "start_time": "2023-08-13T20:05:57.384Z"
   },
   {
    "duration": 8,
    "start_time": "2023-08-13T20:06:03.702Z"
   },
   {
    "duration": 7,
    "start_time": "2023-08-13T20:15:24.222Z"
   },
   {
    "duration": 5,
    "start_time": "2023-08-13T20:15:32.862Z"
   },
   {
    "duration": 7,
    "start_time": "2023-08-13T20:15:53.678Z"
   },
   {
    "duration": 5,
    "start_time": "2023-08-13T20:16:10.084Z"
   },
   {
    "duration": 8,
    "start_time": "2023-08-13T20:16:15.342Z"
   },
   {
    "duration": 8,
    "start_time": "2023-08-13T20:16:21.332Z"
   },
   {
    "duration": 7,
    "start_time": "2023-08-13T20:16:38.535Z"
   },
   {
    "duration": 8,
    "start_time": "2023-08-13T20:16:44.138Z"
   },
   {
    "duration": 10,
    "start_time": "2023-08-13T20:16:52.665Z"
   },
   {
    "duration": 6,
    "start_time": "2023-08-13T20:17:01.451Z"
   },
   {
    "duration": 6,
    "start_time": "2023-08-13T20:17:11.097Z"
   },
   {
    "duration": 5,
    "start_time": "2023-08-13T20:17:16.392Z"
   },
   {
    "duration": 117,
    "start_time": "2023-08-13T20:17:21.601Z"
   },
   {
    "duration": 6,
    "start_time": "2023-08-13T20:17:26.953Z"
   },
   {
    "duration": 6,
    "start_time": "2023-08-13T20:18:16.304Z"
   },
   {
    "duration": 6,
    "start_time": "2023-08-13T20:18:30.897Z"
   },
   {
    "duration": 6,
    "start_time": "2023-08-13T20:18:47.500Z"
   },
   {
    "duration": 6,
    "start_time": "2023-08-13T20:18:55.043Z"
   },
   {
    "duration": 7,
    "start_time": "2023-08-13T20:19:15.083Z"
   },
   {
    "duration": 7,
    "start_time": "2023-08-13T20:19:39.634Z"
   },
   {
    "duration": 7,
    "start_time": "2023-08-13T20:20:03.560Z"
   },
   {
    "duration": 6,
    "start_time": "2023-08-13T20:20:27.013Z"
   },
   {
    "duration": 7,
    "start_time": "2023-08-13T20:20:53.122Z"
   },
   {
    "duration": 7,
    "start_time": "2023-08-13T20:21:34.574Z"
   },
   {
    "duration": 1908,
    "start_time": "2023-08-13T20:32:02.810Z"
   },
   {
    "duration": 7,
    "start_time": "2023-08-13T20:32:11.074Z"
   },
   {
    "duration": 7,
    "start_time": "2023-08-13T20:32:26.437Z"
   },
   {
    "duration": 9,
    "start_time": "2023-08-13T20:33:01.508Z"
   },
   {
    "duration": 32,
    "start_time": "2023-08-13T20:34:00.057Z"
   },
   {
    "duration": 15,
    "start_time": "2023-08-13T20:34:08.535Z"
   },
   {
    "duration": 21,
    "start_time": "2023-08-13T20:34:26.857Z"
   },
   {
    "duration": 20,
    "start_time": "2023-08-13T20:35:07.042Z"
   },
   {
    "duration": 20,
    "start_time": "2023-08-13T20:35:33.297Z"
   },
   {
    "duration": 21,
    "start_time": "2023-08-13T20:35:42.315Z"
   },
   {
    "duration": 16,
    "start_time": "2023-08-13T20:35:56.205Z"
   },
   {
    "duration": 15,
    "start_time": "2023-08-13T20:37:27.459Z"
   },
   {
    "duration": 17,
    "start_time": "2023-08-13T20:37:52.501Z"
   },
   {
    "duration": 33,
    "start_time": "2023-08-13T20:50:55.884Z"
   },
   {
    "duration": 25,
    "start_time": "2023-08-13T20:51:15.306Z"
   },
   {
    "duration": 35,
    "start_time": "2023-08-13T20:51:23.909Z"
   },
   {
    "duration": 69,
    "start_time": "2023-08-13T20:51:41.345Z"
   },
   {
    "duration": 59,
    "start_time": "2023-08-13T20:51:49.025Z"
   },
   {
    "duration": 62,
    "start_time": "2023-08-13T20:52:21.925Z"
   },
   {
    "duration": 1831,
    "start_time": "2023-08-13T20:54:05.801Z"
   },
   {
    "duration": 1943,
    "start_time": "2023-08-13T20:54:45.770Z"
   },
   {
    "duration": 2012,
    "start_time": "2023-08-13T20:56:23.028Z"
   },
   {
    "duration": 832,
    "start_time": "2023-08-13T21:01:16.831Z"
   },
   {
    "duration": 176,
    "start_time": "2023-08-13T21:01:55.276Z"
   },
   {
    "duration": 2030,
    "start_time": "2023-08-13T21:03:39.544Z"
   },
   {
    "duration": 2015,
    "start_time": "2023-08-13T21:04:11.936Z"
   },
   {
    "duration": 2211,
    "start_time": "2023-08-13T21:05:06.955Z"
   },
   {
    "duration": 6,
    "start_time": "2023-08-13T21:06:58.357Z"
   },
   {
    "duration": 5,
    "start_time": "2023-08-13T21:07:59.099Z"
   },
   {
    "duration": 1841,
    "start_time": "2023-08-13T21:08:22.404Z"
   },
   {
    "duration": 3170,
    "start_time": "2023-08-13T21:09:15.892Z"
   },
   {
    "duration": 2454,
    "start_time": "2023-08-13T21:09:43.350Z"
   },
   {
    "duration": 24,
    "start_time": "2023-08-13T21:20:17.706Z"
   },
   {
    "duration": 23,
    "start_time": "2023-08-13T21:20:25.652Z"
   },
   {
    "duration": 24,
    "start_time": "2023-08-13T21:20:29.515Z"
   },
   {
    "duration": 31,
    "start_time": "2023-08-13T21:20:51.998Z"
   },
   {
    "duration": 25,
    "start_time": "2023-08-13T21:36:49.323Z"
   },
   {
    "duration": 24,
    "start_time": "2023-08-13T21:37:17.670Z"
   },
   {
    "duration": 18,
    "start_time": "2023-08-13T21:37:43.090Z"
   },
   {
    "duration": 229,
    "start_time": "2023-08-13T21:41:32.176Z"
   },
   {
    "duration": 223,
    "start_time": "2023-08-13T21:41:43.066Z"
   },
   {
    "duration": 183,
    "start_time": "2023-08-13T21:42:30.524Z"
   },
   {
    "duration": 224,
    "start_time": "2023-08-13T21:42:54.908Z"
   },
   {
    "duration": 348,
    "start_time": "2023-08-13T21:43:08.384Z"
   },
   {
    "duration": 53,
    "start_time": "2023-08-14T08:45:05.021Z"
   },
   {
    "duration": 2010,
    "start_time": "2023-08-14T08:45:10.010Z"
   },
   {
    "duration": 118,
    "start_time": "2023-08-14T08:45:12.023Z"
   },
   {
    "duration": 4,
    "start_time": "2023-08-14T08:45:12.142Z"
   },
   {
    "duration": 37,
    "start_time": "2023-08-14T08:45:12.147Z"
   },
   {
    "duration": 24,
    "start_time": "2023-08-14T08:45:12.186Z"
   },
   {
    "duration": 17,
    "start_time": "2023-08-14T08:45:12.212Z"
   },
   {
    "duration": 23,
    "start_time": "2023-08-14T08:45:12.231Z"
   },
   {
    "duration": 60,
    "start_time": "2023-08-14T08:45:12.256Z"
   },
   {
    "duration": 16,
    "start_time": "2023-08-14T08:45:12.318Z"
   },
   {
    "duration": 72,
    "start_time": "2023-08-14T08:45:12.335Z"
   },
   {
    "duration": 38,
    "start_time": "2023-08-14T08:45:12.409Z"
   },
   {
    "duration": 16,
    "start_time": "2023-08-14T08:45:12.450Z"
   },
   {
    "duration": 23,
    "start_time": "2023-08-14T08:45:12.468Z"
   },
   {
    "duration": 8,
    "start_time": "2023-08-14T08:45:12.494Z"
   },
   {
    "duration": 13,
    "start_time": "2023-08-14T08:45:12.504Z"
   },
   {
    "duration": 15,
    "start_time": "2023-08-14T08:45:12.519Z"
   },
   {
    "duration": 25,
    "start_time": "2023-08-14T08:45:12.536Z"
   },
   {
    "duration": 19,
    "start_time": "2023-08-14T08:45:12.563Z"
   },
   {
    "duration": 19,
    "start_time": "2023-08-14T08:45:12.583Z"
   },
   {
    "duration": 14,
    "start_time": "2023-08-14T08:45:12.603Z"
   },
   {
    "duration": 18,
    "start_time": "2023-08-14T08:45:12.619Z"
   },
   {
    "duration": 18,
    "start_time": "2023-08-14T08:45:12.639Z"
   },
   {
    "duration": 12,
    "start_time": "2023-08-14T08:45:12.659Z"
   },
   {
    "duration": 2429,
    "start_time": "2023-08-14T08:45:12.673Z"
   },
   {
    "duration": 10,
    "start_time": "2023-08-14T08:45:15.104Z"
   },
   {
    "duration": 24,
    "start_time": "2023-08-14T08:45:15.116Z"
   },
   {
    "duration": 31,
    "start_time": "2023-08-14T08:45:15.143Z"
   },
   {
    "duration": 2045,
    "start_time": "2023-08-14T08:45:15.176Z"
   },
   {
    "duration": 16,
    "start_time": "2023-08-14T08:45:17.223Z"
   },
   {
    "duration": 33,
    "start_time": "2023-08-14T08:45:17.240Z"
   },
   {
    "duration": 22,
    "start_time": "2023-08-14T08:45:17.275Z"
   },
   {
    "duration": 31,
    "start_time": "2023-08-14T08:45:17.299Z"
   },
   {
    "duration": 383,
    "start_time": "2023-08-14T08:45:17.331Z"
   },
   {
    "duration": 16,
    "start_time": "2023-08-14T08:46:03.182Z"
   },
   {
    "duration": 113,
    "start_time": "2023-08-14T08:46:47.782Z"
   },
   {
    "duration": 14,
    "start_time": "2023-08-14T08:46:53.891Z"
   },
   {
    "duration": 5,
    "start_time": "2023-08-14T08:50:21.893Z"
   },
   {
    "duration": 7,
    "start_time": "2023-08-14T08:50:39.254Z"
   },
   {
    "duration": 6,
    "start_time": "2023-08-14T08:50:43.079Z"
   },
   {
    "duration": 25,
    "start_time": "2023-08-14T08:50:48.668Z"
   },
   {
    "duration": 26,
    "start_time": "2023-08-14T08:51:18.023Z"
   },
   {
    "duration": 268,
    "start_time": "2023-08-14T08:51:36.595Z"
   },
   {
    "duration": 239,
    "start_time": "2023-08-14T08:52:30.321Z"
   },
   {
    "duration": 28,
    "start_time": "2023-08-14T08:53:05.327Z"
   },
   {
    "duration": 379,
    "start_time": "2023-08-14T09:13:41.666Z"
   },
   {
    "duration": 103,
    "start_time": "2023-08-14T09:14:22.520Z"
   },
   {
    "duration": 110,
    "start_time": "2023-08-14T09:15:27.837Z"
   },
   {
    "duration": 108,
    "start_time": "2023-08-14T09:15:37.845Z"
   },
   {
    "duration": 185,
    "start_time": "2023-08-14T09:17:12.363Z"
   },
   {
    "duration": 151,
    "start_time": "2023-08-14T09:17:36.275Z"
   },
   {
    "duration": 184,
    "start_time": "2023-08-14T09:17:45.125Z"
   },
   {
    "duration": 199,
    "start_time": "2023-08-14T09:18:02.470Z"
   },
   {
    "duration": 33,
    "start_time": "2023-08-14T09:27:35.254Z"
   },
   {
    "duration": 191,
    "start_time": "2023-08-14T09:28:04.351Z"
   },
   {
    "duration": 254,
    "start_time": "2023-08-14T09:28:12.354Z"
   },
   {
    "duration": 24,
    "start_time": "2023-08-14T09:29:15.028Z"
   },
   {
    "duration": 171,
    "start_time": "2023-08-14T09:29:43.021Z"
   },
   {
    "duration": 25,
    "start_time": "2023-08-14T09:29:46.758Z"
   },
   {
    "duration": 36,
    "start_time": "2023-08-14T09:31:26.961Z"
   },
   {
    "duration": 43,
    "start_time": "2023-08-14T09:31:46.421Z"
   },
   {
    "duration": 47,
    "start_time": "2023-08-14T09:32:06.994Z"
   },
   {
    "duration": 36,
    "start_time": "2023-08-14T09:32:24.366Z"
   },
   {
    "duration": 26,
    "start_time": "2023-08-14T09:32:35.178Z"
   },
   {
    "duration": 28,
    "start_time": "2023-08-14T09:32:44.929Z"
   },
   {
    "duration": 38,
    "start_time": "2023-08-14T09:32:52.932Z"
   },
   {
    "duration": 27,
    "start_time": "2023-08-14T09:32:57.810Z"
   },
   {
    "duration": 35,
    "start_time": "2023-08-14T09:33:07.590Z"
   },
   {
    "duration": 39,
    "start_time": "2023-08-14T09:33:13.590Z"
   },
   {
    "duration": 22,
    "start_time": "2023-08-14T09:33:21.943Z"
   },
   {
    "duration": 29,
    "start_time": "2023-08-14T09:34:07.345Z"
   },
   {
    "duration": 24,
    "start_time": "2023-08-14T09:34:22.159Z"
   },
   {
    "duration": 31,
    "start_time": "2023-08-14T09:35:11.340Z"
   },
   {
    "duration": 30,
    "start_time": "2023-08-14T09:35:39.810Z"
   },
   {
    "duration": 36,
    "start_time": "2023-08-14T09:36:05.082Z"
   },
   {
    "duration": 24,
    "start_time": "2023-08-14T09:36:32.772Z"
   },
   {
    "duration": 50,
    "start_time": "2023-08-14T09:37:09.460Z"
   },
   {
    "duration": 24,
    "start_time": "2023-08-14T09:37:33.226Z"
   },
   {
    "duration": 26,
    "start_time": "2023-08-14T09:37:38.384Z"
   },
   {
    "duration": 24,
    "start_time": "2023-08-14T09:38:17.126Z"
   },
   {
    "duration": 15,
    "start_time": "2023-08-14T09:38:26.676Z"
   },
   {
    "duration": 26,
    "start_time": "2023-08-14T09:39:08.975Z"
   },
   {
    "duration": 22,
    "start_time": "2023-08-14T09:39:21.598Z"
   },
   {
    "duration": 18,
    "start_time": "2023-08-14T09:39:38.487Z"
   },
   {
    "duration": 15,
    "start_time": "2023-08-14T09:45:38.121Z"
   },
   {
    "duration": 25,
    "start_time": "2023-08-14T09:45:46.226Z"
   },
   {
    "duration": 22,
    "start_time": "2023-08-14T09:45:52.921Z"
   },
   {
    "duration": 230,
    "start_time": "2023-08-14T09:46:17.537Z"
   },
   {
    "duration": 263,
    "start_time": "2023-08-14T09:46:33.769Z"
   },
   {
    "duration": 23,
    "start_time": "2023-08-14T09:46:48.025Z"
   },
   {
    "duration": 209,
    "start_time": "2023-08-14T09:47:13.236Z"
   },
   {
    "duration": 26,
    "start_time": "2023-08-14T09:54:22.109Z"
   },
   {
    "duration": 322,
    "start_time": "2023-08-14T09:57:19.162Z"
   },
   {
    "duration": 287,
    "start_time": "2023-08-14T09:57:28.255Z"
   },
   {
    "duration": 484,
    "start_time": "2023-08-14T09:57:57.257Z"
   },
   {
    "duration": 295,
    "start_time": "2023-08-14T09:58:31.188Z"
   },
   {
    "duration": 98,
    "start_time": "2023-08-14T10:00:34.454Z"
   },
   {
    "duration": 225,
    "start_time": "2023-08-14T10:00:43.759Z"
   },
   {
    "duration": 201,
    "start_time": "2023-08-14T10:01:29.133Z"
   },
   {
    "duration": 195,
    "start_time": "2023-08-14T10:01:38.593Z"
   },
   {
    "duration": 200,
    "start_time": "2023-08-14T10:01:43.751Z"
   },
   {
    "duration": 28,
    "start_time": "2023-08-14T10:02:08.994Z"
   },
   {
    "duration": 1273,
    "start_time": "2023-08-14T10:04:09.469Z"
   },
   {
    "duration": 82,
    "start_time": "2023-08-14T10:04:10.744Z"
   },
   {
    "duration": 3,
    "start_time": "2023-08-14T10:04:10.828Z"
   },
   {
    "duration": 33,
    "start_time": "2023-08-14T10:04:10.834Z"
   },
   {
    "duration": 29,
    "start_time": "2023-08-14T10:04:10.869Z"
   },
   {
    "duration": 39,
    "start_time": "2023-08-14T10:04:10.899Z"
   },
   {
    "duration": 33,
    "start_time": "2023-08-14T10:04:10.939Z"
   },
   {
    "duration": 29,
    "start_time": "2023-08-14T10:04:10.974Z"
   },
   {
    "duration": 65,
    "start_time": "2023-08-14T10:04:11.006Z"
   },
   {
    "duration": 43,
    "start_time": "2023-08-14T10:04:11.075Z"
   },
   {
    "duration": 52,
    "start_time": "2023-08-14T10:04:11.119Z"
   },
   {
    "duration": 74,
    "start_time": "2023-08-14T10:04:11.173Z"
   },
   {
    "duration": 160,
    "start_time": "2023-08-14T10:04:11.249Z"
   },
   {
    "duration": 50,
    "start_time": "2023-08-14T10:04:11.411Z"
   },
   {
    "duration": 37,
    "start_time": "2023-08-14T10:04:11.463Z"
   },
   {
    "duration": 48,
    "start_time": "2023-08-14T10:04:11.502Z"
   },
   {
    "duration": 84,
    "start_time": "2023-08-14T10:04:11.553Z"
   },
   {
    "duration": 64,
    "start_time": "2023-08-14T10:04:11.639Z"
   },
   {
    "duration": 43,
    "start_time": "2023-08-14T10:04:11.705Z"
   },
   {
    "duration": 23,
    "start_time": "2023-08-14T10:04:11.750Z"
   },
   {
    "duration": 33,
    "start_time": "2023-08-14T10:04:11.775Z"
   },
   {
    "duration": 38,
    "start_time": "2023-08-14T10:04:11.810Z"
   },
   {
    "duration": 27,
    "start_time": "2023-08-14T10:04:11.850Z"
   },
   {
    "duration": 2577,
    "start_time": "2023-08-14T10:04:11.878Z"
   },
   {
    "duration": 7,
    "start_time": "2023-08-14T10:04:14.457Z"
   },
   {
    "duration": 68,
    "start_time": "2023-08-14T10:04:14.465Z"
   },
   {
    "duration": 26,
    "start_time": "2023-08-14T10:04:14.535Z"
   },
   {
    "duration": 2077,
    "start_time": "2023-08-14T10:04:14.564Z"
   },
   {
    "duration": 18,
    "start_time": "2023-08-14T10:04:16.643Z"
   },
   {
    "duration": 68,
    "start_time": "2023-08-14T10:04:16.663Z"
   },
   {
    "duration": 42,
    "start_time": "2023-08-14T10:04:16.733Z"
   },
   {
    "duration": 309,
    "start_time": "2023-08-14T10:04:16.777Z"
   },
   {
    "duration": 40,
    "start_time": "2023-08-14T10:04:17.088Z"
   },
   {
    "duration": 232,
    "start_time": "2023-08-14T10:04:17.130Z"
   },
   {
    "duration": 202,
    "start_time": "2023-08-14T10:04:17.364Z"
   },
   {
    "duration": 203,
    "start_time": "2023-08-14T10:10:46.357Z"
   },
   {
    "duration": 2368,
    "start_time": "2023-08-14T10:11:26.574Z"
   },
   {
    "duration": 291,
    "start_time": "2023-08-14T10:11:43.621Z"
   },
   {
    "duration": 217,
    "start_time": "2023-08-14T10:11:52.932Z"
   },
   {
    "duration": 232,
    "start_time": "2023-08-14T10:13:10.322Z"
   },
   {
    "duration": 1327,
    "start_time": "2023-08-14T10:15:31.095Z"
   },
   {
    "duration": 88,
    "start_time": "2023-08-14T10:15:32.425Z"
   },
   {
    "duration": 4,
    "start_time": "2023-08-14T10:15:32.515Z"
   },
   {
    "duration": 41,
    "start_time": "2023-08-14T10:15:32.521Z"
   },
   {
    "duration": 72,
    "start_time": "2023-08-14T10:15:32.564Z"
   },
   {
    "duration": 104,
    "start_time": "2023-08-14T10:15:32.639Z"
   },
   {
    "duration": 63,
    "start_time": "2023-08-14T10:15:32.745Z"
   },
   {
    "duration": 81,
    "start_time": "2023-08-14T10:15:32.810Z"
   },
   {
    "duration": 38,
    "start_time": "2023-08-14T10:15:32.893Z"
   },
   {
    "duration": 51,
    "start_time": "2023-08-14T10:15:32.933Z"
   },
   {
    "duration": 38,
    "start_time": "2023-08-14T10:15:32.986Z"
   },
   {
    "duration": 48,
    "start_time": "2023-08-14T10:15:33.026Z"
   },
   {
    "duration": 60,
    "start_time": "2023-08-14T10:15:33.076Z"
   },
   {
    "duration": 39,
    "start_time": "2023-08-14T10:15:33.139Z"
   },
   {
    "duration": 36,
    "start_time": "2023-08-14T10:15:33.180Z"
   },
   {
    "duration": 84,
    "start_time": "2023-08-14T10:15:33.218Z"
   },
   {
    "duration": 48,
    "start_time": "2023-08-14T10:15:33.304Z"
   },
   {
    "duration": 58,
    "start_time": "2023-08-14T10:15:33.354Z"
   },
   {
    "duration": 34,
    "start_time": "2023-08-14T10:15:33.414Z"
   },
   {
    "duration": 22,
    "start_time": "2023-08-14T10:15:33.450Z"
   },
   {
    "duration": 18,
    "start_time": "2023-08-14T10:15:33.473Z"
   },
   {
    "duration": 24,
    "start_time": "2023-08-14T10:15:33.493Z"
   },
   {
    "duration": 12,
    "start_time": "2023-08-14T10:15:33.520Z"
   },
   {
    "duration": 2580,
    "start_time": "2023-08-14T10:15:33.533Z"
   },
   {
    "duration": 7,
    "start_time": "2023-08-14T10:15:36.116Z"
   },
   {
    "duration": 68,
    "start_time": "2023-08-14T10:15:36.124Z"
   },
   {
    "duration": 47,
    "start_time": "2023-08-14T10:15:36.194Z"
   },
   {
    "duration": 2179,
    "start_time": "2023-08-14T10:15:36.243Z"
   },
   {
    "duration": 19,
    "start_time": "2023-08-14T10:15:38.424Z"
   },
   {
    "duration": 170,
    "start_time": "2023-08-14T10:15:38.445Z"
   },
   {
    "duration": 370,
    "start_time": "2023-08-14T10:15:38.696Z"
   },
   {
    "duration": 240,
    "start_time": "2023-08-14T10:15:39.068Z"
   },
   {
    "duration": 228,
    "start_time": "2023-08-14T10:16:48.986Z"
   },
   {
    "duration": 431,
    "start_time": "2023-08-14T10:16:55.801Z"
   },
   {
    "duration": 411,
    "start_time": "2023-08-14T10:19:30.868Z"
   },
   {
    "duration": 12,
    "start_time": "2023-08-14T10:19:42.836Z"
   },
   {
    "duration": 22,
    "start_time": "2023-08-14T10:35:31.134Z"
   },
   {
    "duration": 109,
    "start_time": "2023-08-14T10:35:31.431Z"
   },
   {
    "duration": 12,
    "start_time": "2023-08-14T10:37:36.457Z"
   },
   {
    "duration": 28,
    "start_time": "2023-08-14T10:37:53.334Z"
   },
   {
    "duration": 8,
    "start_time": "2023-08-14T10:38:05.797Z"
   },
   {
    "duration": 21,
    "start_time": "2023-08-14T10:38:14.567Z"
   },
   {
    "duration": 20,
    "start_time": "2023-08-14T10:38:20.957Z"
   },
   {
    "duration": 4114,
    "start_time": "2023-08-14T10:38:28.929Z"
   },
   {
    "duration": 23,
    "start_time": "2023-08-14T10:38:58.191Z"
   },
   {
    "duration": 20,
    "start_time": "2023-08-14T10:39:17.205Z"
   },
   {
    "duration": 158,
    "start_time": "2023-08-14T10:39:59.676Z"
   },
   {
    "duration": 380,
    "start_time": "2023-08-14T10:40:10.964Z"
   },
   {
    "duration": 22,
    "start_time": "2023-08-14T10:40:48.405Z"
   },
   {
    "duration": 1838,
    "start_time": "2023-08-14T10:41:51.970Z"
   },
   {
    "duration": 197,
    "start_time": "2023-08-14T10:42:12.064Z"
   },
   {
    "duration": 1977,
    "start_time": "2023-08-14T10:42:26.013Z"
   },
   {
    "duration": 353,
    "start_time": "2023-08-14T10:42:46.461Z"
   },
   {
    "duration": 489,
    "start_time": "2023-08-14T10:44:45.727Z"
   },
   {
    "duration": 23,
    "start_time": "2023-08-14T10:49:49.901Z"
   },
   {
    "duration": 24,
    "start_time": "2023-08-14T10:50:04.961Z"
   },
   {
    "duration": 144,
    "start_time": "2023-08-14T10:51:19.511Z"
   },
   {
    "duration": 202,
    "start_time": "2023-08-14T10:51:25.167Z"
   },
   {
    "duration": 212,
    "start_time": "2023-08-14T10:51:32.664Z"
   },
   {
    "duration": 189,
    "start_time": "2023-08-14T10:51:58.591Z"
   },
   {
    "duration": 187,
    "start_time": "2023-08-14T10:52:04.665Z"
   },
   {
    "duration": 246,
    "start_time": "2023-08-14T10:52:32.632Z"
   },
   {
    "duration": 234,
    "start_time": "2023-08-14T10:52:44.572Z"
   },
   {
    "duration": 240,
    "start_time": "2023-08-14T10:53:00.832Z"
   },
   {
    "duration": 12,
    "start_time": "2023-08-14T10:59:07.968Z"
   },
   {
    "duration": 5,
    "start_time": "2023-08-14T10:59:12.634Z"
   },
   {
    "duration": 4,
    "start_time": "2023-08-14T11:01:04.084Z"
   },
   {
    "duration": 4,
    "start_time": "2023-08-14T11:01:16.971Z"
   },
   {
    "duration": 10,
    "start_time": "2023-08-14T11:01:21.285Z"
   },
   {
    "duration": 3,
    "start_time": "2023-08-14T11:01:35.574Z"
   },
   {
    "duration": 5,
    "start_time": "2023-08-14T11:02:08.571Z"
   },
   {
    "duration": 238,
    "start_time": "2023-08-14T11:06:47.975Z"
   },
   {
    "duration": 223,
    "start_time": "2023-08-14T11:06:55.137Z"
   },
   {
    "duration": 243,
    "start_time": "2023-08-14T11:07:01.304Z"
   },
   {
    "duration": 235,
    "start_time": "2023-08-14T11:07:07.499Z"
   },
   {
    "duration": 240,
    "start_time": "2023-08-14T11:07:17.111Z"
   },
   {
    "duration": 27,
    "start_time": "2023-08-14T11:15:38.420Z"
   },
   {
    "duration": 9,
    "start_time": "2023-08-14T11:16:38.305Z"
   },
   {
    "duration": 23,
    "start_time": "2023-08-14T11:16:46.468Z"
   },
   {
    "duration": 8,
    "start_time": "2023-08-14T11:17:13.468Z"
   },
   {
    "duration": 12,
    "start_time": "2023-08-14T11:17:29.380Z"
   },
   {
    "duration": 26,
    "start_time": "2023-08-14T11:20:25.262Z"
   },
   {
    "duration": 20,
    "start_time": "2023-08-14T11:23:23.771Z"
   },
   {
    "duration": 40,
    "start_time": "2023-08-14T11:24:02.498Z"
   },
   {
    "duration": 26,
    "start_time": "2023-08-14T11:25:38.922Z"
   },
   {
    "duration": 24,
    "start_time": "2023-08-14T11:32:38.177Z"
   },
   {
    "duration": 20,
    "start_time": "2023-08-14T11:33:22.432Z"
   },
   {
    "duration": 22,
    "start_time": "2023-08-14T11:33:31.269Z"
   },
   {
    "duration": 22,
    "start_time": "2023-08-14T11:36:41.526Z"
   },
   {
    "duration": 26,
    "start_time": "2023-08-14T11:37:05.967Z"
   },
   {
    "duration": 25,
    "start_time": "2023-08-14T11:37:16.974Z"
   },
   {
    "duration": 24,
    "start_time": "2023-08-14T11:38:33.705Z"
   },
   {
    "duration": 29,
    "start_time": "2023-08-14T11:38:57.393Z"
   },
   {
    "duration": 42,
    "start_time": "2023-08-14T11:39:15.711Z"
   },
   {
    "duration": 43,
    "start_time": "2023-08-14T11:39:42.730Z"
   },
   {
    "duration": 40,
    "start_time": "2023-08-14T11:39:49.378Z"
   },
   {
    "duration": 47,
    "start_time": "2023-08-14T11:39:57.406Z"
   },
   {
    "duration": 8,
    "start_time": "2023-08-14T12:03:21.720Z"
   },
   {
    "duration": 10,
    "start_time": "2023-08-14T12:04:03.443Z"
   },
   {
    "duration": 12,
    "start_time": "2023-08-14T12:04:12.308Z"
   },
   {
    "duration": 22,
    "start_time": "2023-08-14T12:04:27.021Z"
   },
   {
    "duration": 13,
    "start_time": "2023-08-14T12:04:49.737Z"
   },
   {
    "duration": 23,
    "start_time": "2023-08-14T12:05:08.944Z"
   },
   {
    "duration": 16,
    "start_time": "2023-08-14T12:05:16.224Z"
   },
   {
    "duration": 14,
    "start_time": "2023-08-14T12:05:26.503Z"
   },
   {
    "duration": 15,
    "start_time": "2023-08-14T12:05:57.131Z"
   },
   {
    "duration": 8,
    "start_time": "2023-08-14T12:06:00.650Z"
   },
   {
    "duration": 11,
    "start_time": "2023-08-14T12:06:30.001Z"
   },
   {
    "duration": 264,
    "start_time": "2023-08-14T12:06:41.875Z"
   },
   {
    "duration": 227,
    "start_time": "2023-08-14T12:10:29.727Z"
   },
   {
    "duration": 29,
    "start_time": "2023-08-14T12:47:23.570Z"
   },
   {
    "duration": 24,
    "start_time": "2023-08-14T12:47:34.621Z"
   },
   {
    "duration": 45,
    "start_time": "2023-08-14T12:48:17.140Z"
   },
   {
    "duration": 1068,
    "start_time": "2023-08-14T12:49:26.578Z"
   },
   {
    "duration": 816,
    "start_time": "2023-08-14T12:50:33.186Z"
   },
   {
    "duration": 864,
    "start_time": "2023-08-14T13:01:28.792Z"
   },
   {
    "duration": 1118,
    "start_time": "2023-08-14T13:01:37.784Z"
   },
   {
    "duration": 24,
    "start_time": "2023-08-14T13:03:33.669Z"
   },
   {
    "duration": 21,
    "start_time": "2023-08-14T13:04:31.768Z"
   },
   {
    "duration": 29,
    "start_time": "2023-08-14T13:05:10.190Z"
   },
   {
    "duration": 372,
    "start_time": "2023-08-14T13:05:35.964Z"
   },
   {
    "duration": 26,
    "start_time": "2023-08-14T13:06:28.261Z"
   },
   {
    "duration": 25,
    "start_time": "2023-08-14T13:06:47.744Z"
   },
   {
    "duration": 22,
    "start_time": "2023-08-14T13:07:24.742Z"
   },
   {
    "duration": 297,
    "start_time": "2023-08-14T13:07:28.705Z"
   },
   {
    "duration": 346,
    "start_time": "2023-08-14T13:09:32.305Z"
   },
   {
    "duration": 36,
    "start_time": "2023-08-14T13:11:58.808Z"
   },
   {
    "duration": 266,
    "start_time": "2023-08-14T13:12:11.723Z"
   },
   {
    "duration": 186,
    "start_time": "2023-08-14T13:13:38.838Z"
   },
   {
    "duration": 341,
    "start_time": "2023-08-14T13:13:59.378Z"
   },
   {
    "duration": 266,
    "start_time": "2023-08-14T13:14:37.894Z"
   },
   {
    "duration": 384,
    "start_time": "2023-08-14T13:17:39.333Z"
   },
   {
    "duration": 353,
    "start_time": "2023-08-14T13:17:54.541Z"
   },
   {
    "duration": 368,
    "start_time": "2023-08-14T13:18:15.644Z"
   },
   {
    "duration": 269,
    "start_time": "2023-08-14T13:30:38.926Z"
   },
   {
    "duration": 274,
    "start_time": "2023-08-14T13:30:46.589Z"
   },
   {
    "duration": 268,
    "start_time": "2023-08-14T13:31:23.546Z"
   },
   {
    "duration": 276,
    "start_time": "2023-08-14T13:32:06.375Z"
   },
   {
    "duration": 279,
    "start_time": "2023-08-14T13:32:13.967Z"
   },
   {
    "duration": 271,
    "start_time": "2023-08-14T13:32:50.403Z"
   },
   {
    "duration": 689,
    "start_time": "2023-08-14T13:37:33.027Z"
   },
   {
    "duration": 349,
    "start_time": "2023-08-14T13:37:49.637Z"
   },
   {
    "duration": 384,
    "start_time": "2023-08-14T13:37:59.403Z"
   },
   {
    "duration": 302,
    "start_time": "2023-08-14T13:38:06.083Z"
   },
   {
    "duration": 280,
    "start_time": "2023-08-14T13:38:11.266Z"
   },
   {
    "duration": 288,
    "start_time": "2023-08-14T13:38:22.296Z"
   },
   {
    "duration": 25,
    "start_time": "2023-08-14T13:38:52.535Z"
   },
   {
    "duration": 316,
    "start_time": "2023-08-14T13:39:05.834Z"
   },
   {
    "duration": 235,
    "start_time": "2023-08-14T13:41:21.363Z"
   },
   {
    "duration": 8,
    "start_time": "2023-08-14T13:48:21.365Z"
   },
   {
    "duration": 8,
    "start_time": "2023-08-14T13:48:29.334Z"
   },
   {
    "duration": 17,
    "start_time": "2023-08-14T13:49:10.204Z"
   },
   {
    "duration": 6,
    "start_time": "2023-08-14T13:49:11.700Z"
   },
   {
    "duration": 14,
    "start_time": "2023-08-14T13:49:13.902Z"
   },
   {
    "duration": 10,
    "start_time": "2023-08-14T16:23:31.807Z"
   },
   {
    "duration": 24,
    "start_time": "2023-08-14T16:23:55.827Z"
   },
   {
    "duration": 26,
    "start_time": "2023-08-14T16:24:37.290Z"
   },
   {
    "duration": 18,
    "start_time": "2023-08-14T16:24:55.287Z"
   },
   {
    "duration": 19,
    "start_time": "2023-08-14T16:25:12.851Z"
   },
   {
    "duration": 6,
    "start_time": "2023-08-14T16:26:29.021Z"
   },
   {
    "duration": 21,
    "start_time": "2023-08-14T16:26:50.670Z"
   },
   {
    "duration": 20,
    "start_time": "2023-08-14T16:27:06.147Z"
   },
   {
    "duration": 237,
    "start_time": "2023-08-14T16:27:34.897Z"
   },
   {
    "duration": 230,
    "start_time": "2023-08-14T16:35:45.723Z"
   },
   {
    "duration": 265,
    "start_time": "2023-08-14T16:35:55.160Z"
   },
   {
    "duration": 222,
    "start_time": "2023-08-14T16:36:35.555Z"
   },
   {
    "duration": 28,
    "start_time": "2023-08-14T16:47:21.421Z"
   },
   {
    "duration": 21,
    "start_time": "2023-08-14T16:47:39.898Z"
   },
   {
    "duration": 18,
    "start_time": "2023-08-14T16:47:54.557Z"
   },
   {
    "duration": 17,
    "start_time": "2023-08-14T16:48:02.866Z"
   },
   {
    "duration": 16,
    "start_time": "2023-08-14T16:48:23.335Z"
   },
   {
    "duration": 25,
    "start_time": "2023-08-14T16:52:29.935Z"
   },
   {
    "duration": 28,
    "start_time": "2023-08-14T16:53:52.905Z"
   },
   {
    "duration": 8,
    "start_time": "2023-08-14T16:54:19.255Z"
   },
   {
    "duration": 10,
    "start_time": "2023-08-14T16:54:41.602Z"
   },
   {
    "duration": 9,
    "start_time": "2023-08-14T16:55:04.421Z"
   },
   {
    "duration": 21,
    "start_time": "2023-08-14T16:55:38.183Z"
   },
   {
    "duration": 1320,
    "start_time": "2023-08-14T16:56:21.636Z"
   },
   {
    "duration": 90,
    "start_time": "2023-08-14T16:56:22.959Z"
   },
   {
    "duration": 4,
    "start_time": "2023-08-14T16:56:23.051Z"
   },
   {
    "duration": 19,
    "start_time": "2023-08-14T16:56:23.057Z"
   },
   {
    "duration": 6,
    "start_time": "2023-08-14T16:56:23.078Z"
   },
   {
    "duration": 34,
    "start_time": "2023-08-14T16:56:23.085Z"
   },
   {
    "duration": 12,
    "start_time": "2023-08-14T16:56:23.123Z"
   },
   {
    "duration": 10,
    "start_time": "2023-08-14T16:56:23.136Z"
   },
   {
    "duration": 11,
    "start_time": "2023-08-14T16:56:23.148Z"
   },
   {
    "duration": 17,
    "start_time": "2023-08-14T16:56:23.162Z"
   },
   {
    "duration": 28,
    "start_time": "2023-08-14T16:56:23.181Z"
   },
   {
    "duration": 23,
    "start_time": "2023-08-14T16:56:23.211Z"
   },
   {
    "duration": 23,
    "start_time": "2023-08-14T16:56:23.236Z"
   },
   {
    "duration": 6,
    "start_time": "2023-08-14T16:56:23.261Z"
   },
   {
    "duration": 11,
    "start_time": "2023-08-14T16:56:23.269Z"
   },
   {
    "duration": 35,
    "start_time": "2023-08-14T16:56:23.282Z"
   },
   {
    "duration": 6,
    "start_time": "2023-08-14T16:56:23.321Z"
   },
   {
    "duration": 11,
    "start_time": "2023-08-14T16:56:23.328Z"
   },
   {
    "duration": 7,
    "start_time": "2023-08-14T16:56:23.341Z"
   },
   {
    "duration": 8,
    "start_time": "2023-08-14T16:56:23.350Z"
   },
   {
    "duration": 9,
    "start_time": "2023-08-14T16:56:23.359Z"
   },
   {
    "duration": 16,
    "start_time": "2023-08-14T16:56:23.369Z"
   },
   {
    "duration": 29,
    "start_time": "2023-08-14T16:56:23.409Z"
   },
   {
    "duration": 455,
    "start_time": "2023-08-14T16:56:23.440Z"
   },
   {
    "duration": 16,
    "start_time": "2023-08-14T16:56:23.897Z"
   },
   {
    "duration": 26,
    "start_time": "2023-08-14T16:56:23.915Z"
   },
   {
    "duration": 13,
    "start_time": "2023-08-14T16:56:23.944Z"
   },
   {
    "duration": 2139,
    "start_time": "2023-08-14T16:56:23.962Z"
   },
   {
    "duration": 24,
    "start_time": "2023-08-14T16:56:26.103Z"
   },
   {
    "duration": 17,
    "start_time": "2023-08-14T16:56:26.129Z"
   },
   {
    "duration": 23,
    "start_time": "2023-08-14T16:56:26.148Z"
   },
   {
    "duration": 328,
    "start_time": "2023-08-14T16:56:26.173Z"
   },
   {
    "duration": 233,
    "start_time": "2023-08-14T16:56:26.503Z"
   },
   {
    "duration": 36,
    "start_time": "2023-08-14T16:56:26.738Z"
   },
   {
    "duration": 273,
    "start_time": "2023-08-14T16:56:26.776Z"
   },
   {
    "duration": 6,
    "start_time": "2023-08-14T16:56:27.052Z"
   },
   {
    "duration": 9,
    "start_time": "2023-08-14T16:56:27.060Z"
   },
   {
    "duration": 404,
    "start_time": "2023-08-14T16:56:27.071Z"
   },
   {
    "duration": 311,
    "start_time": "2023-08-14T16:56:27.477Z"
   },
   {
    "duration": 273,
    "start_time": "2023-08-14T16:56:27.790Z"
   },
   {
    "duration": 238,
    "start_time": "2023-08-14T16:56:28.065Z"
   },
   {
    "duration": 229,
    "start_time": "2023-08-14T16:56:28.305Z"
   },
   {
    "duration": 318,
    "start_time": "2023-08-14T16:56:28.536Z"
   },
   {
    "duration": 261,
    "start_time": "2023-08-14T16:56:28.856Z"
   },
   {
    "duration": 254,
    "start_time": "2023-08-14T16:56:29.120Z"
   },
   {
    "duration": 286,
    "start_time": "2023-08-14T16:56:29.376Z"
   },
   {
    "duration": 224,
    "start_time": "2023-08-14T16:56:29.663Z"
   },
   {
    "duration": 9,
    "start_time": "2023-08-14T16:56:29.889Z"
   },
   {
    "duration": 28,
    "start_time": "2023-08-14T16:56:29.899Z"
   },
   {
    "duration": 20,
    "start_time": "2023-08-14T16:56:29.928Z"
   },
   {
    "duration": 9,
    "start_time": "2023-08-14T16:57:28.879Z"
   },
   {
    "duration": 115,
    "start_time": "2023-08-14T16:57:56.857Z"
   },
   {
    "duration": 10,
    "start_time": "2023-08-14T16:58:03.294Z"
   },
   {
    "duration": 9,
    "start_time": "2023-08-14T16:58:25.283Z"
   },
   {
    "duration": 6,
    "start_time": "2023-08-14T16:58:44.479Z"
   },
   {
    "duration": 8,
    "start_time": "2023-08-14T16:58:59.037Z"
   },
   {
    "duration": 10,
    "start_time": "2023-08-14T16:59:07.091Z"
   },
   {
    "duration": 10,
    "start_time": "2023-08-14T16:59:13.721Z"
   },
   {
    "duration": 10,
    "start_time": "2023-08-14T16:59:38.971Z"
   },
   {
    "duration": 14,
    "start_time": "2023-08-14T17:01:09.584Z"
   },
   {
    "duration": 13,
    "start_time": "2023-08-14T17:01:16.132Z"
   },
   {
    "duration": 12,
    "start_time": "2023-08-14T17:01:34.092Z"
   },
   {
    "duration": 12,
    "start_time": "2023-08-14T17:01:44.166Z"
   },
   {
    "duration": 10,
    "start_time": "2023-08-14T17:01:53.376Z"
   },
   {
    "duration": 11,
    "start_time": "2023-08-14T17:02:08.296Z"
   },
   {
    "duration": 14,
    "start_time": "2023-08-14T17:02:31.379Z"
   },
   {
    "duration": 14,
    "start_time": "2023-08-14T17:07:16.163Z"
   },
   {
    "duration": 13,
    "start_time": "2023-08-14T17:09:05.202Z"
   },
   {
    "duration": 12,
    "start_time": "2023-08-14T17:14:34.798Z"
   },
   {
    "duration": 12,
    "start_time": "2023-08-14T17:18:07.882Z"
   },
   {
    "duration": 27,
    "start_time": "2023-08-14T17:18:13.445Z"
   },
   {
    "duration": 28,
    "start_time": "2023-08-14T17:18:24.798Z"
   },
   {
    "duration": 17,
    "start_time": "2023-08-14T17:18:34.317Z"
   },
   {
    "duration": 26,
    "start_time": "2023-08-14T17:29:00.323Z"
   },
   {
    "duration": 20,
    "start_time": "2023-08-14T17:29:18.031Z"
   },
   {
    "duration": 9,
    "start_time": "2023-08-14T17:33:42.523Z"
   },
   {
    "duration": 18,
    "start_time": "2023-08-14T17:40:13.690Z"
   },
   {
    "duration": 1296,
    "start_time": "2023-08-14T17:56:22.608Z"
   },
   {
    "duration": 96,
    "start_time": "2023-08-14T17:56:23.907Z"
   },
   {
    "duration": 5,
    "start_time": "2023-08-14T17:56:24.005Z"
   },
   {
    "duration": 37,
    "start_time": "2023-08-14T17:56:24.012Z"
   },
   {
    "duration": 7,
    "start_time": "2023-08-14T17:56:24.052Z"
   },
   {
    "duration": 23,
    "start_time": "2023-08-14T17:56:24.068Z"
   },
   {
    "duration": 54,
    "start_time": "2023-08-14T17:56:24.093Z"
   },
   {
    "duration": 31,
    "start_time": "2023-08-14T17:56:24.151Z"
   },
   {
    "duration": 38,
    "start_time": "2023-08-14T17:56:24.185Z"
   },
   {
    "duration": 40,
    "start_time": "2023-08-14T17:56:24.226Z"
   },
   {
    "duration": 6,
    "start_time": "2023-08-14T17:56:24.269Z"
   },
   {
    "duration": 13,
    "start_time": "2023-08-14T17:56:24.277Z"
   },
   {
    "duration": 18,
    "start_time": "2023-08-14T17:56:24.292Z"
   },
   {
    "duration": 11,
    "start_time": "2023-08-14T17:56:24.312Z"
   },
   {
    "duration": 11,
    "start_time": "2023-08-14T17:56:24.325Z"
   },
   {
    "duration": 43,
    "start_time": "2023-08-14T17:56:24.338Z"
   },
   {
    "duration": 5,
    "start_time": "2023-08-14T17:56:24.383Z"
   },
   {
    "duration": 11,
    "start_time": "2023-08-14T17:56:24.389Z"
   },
   {
    "duration": 6,
    "start_time": "2023-08-14T17:56:24.401Z"
   },
   {
    "duration": 9,
    "start_time": "2023-08-14T17:56:24.409Z"
   },
   {
    "duration": 19,
    "start_time": "2023-08-14T17:56:24.419Z"
   },
   {
    "duration": 34,
    "start_time": "2023-08-14T17:56:24.440Z"
   },
   {
    "duration": 16,
    "start_time": "2023-08-14T17:56:24.476Z"
   },
   {
    "duration": 518,
    "start_time": "2023-08-14T17:56:24.494Z"
   },
   {
    "duration": 10,
    "start_time": "2023-08-14T17:56:25.014Z"
   },
   {
    "duration": 32,
    "start_time": "2023-08-14T17:56:25.027Z"
   },
   {
    "duration": 39,
    "start_time": "2023-08-14T17:56:25.061Z"
   },
   {
    "duration": 2108,
    "start_time": "2023-08-14T17:56:25.105Z"
   },
   {
    "duration": 20,
    "start_time": "2023-08-14T17:56:27.215Z"
   },
   {
    "duration": 35,
    "start_time": "2023-08-14T17:56:27.237Z"
   },
   {
    "duration": 21,
    "start_time": "2023-08-14T17:56:27.275Z"
   },
   {
    "duration": 321,
    "start_time": "2023-08-14T17:56:27.300Z"
   },
   {
    "duration": 211,
    "start_time": "2023-08-14T17:56:27.623Z"
   },
   {
    "duration": 51,
    "start_time": "2023-08-14T17:56:27.836Z"
   },
   {
    "duration": 253,
    "start_time": "2023-08-14T17:56:27.890Z"
   },
   {
    "duration": 20,
    "start_time": "2023-08-14T17:56:28.146Z"
   },
   {
    "duration": 6,
    "start_time": "2023-08-14T17:56:28.169Z"
   },
   {
    "duration": 427,
    "start_time": "2023-08-14T17:56:28.177Z"
   },
   {
    "duration": 311,
    "start_time": "2023-08-14T17:56:28.606Z"
   },
   {
    "duration": 240,
    "start_time": "2023-08-14T17:56:28.919Z"
   },
   {
    "duration": 227,
    "start_time": "2023-08-14T17:56:29.167Z"
   },
   {
    "duration": 226,
    "start_time": "2023-08-14T17:56:29.399Z"
   },
   {
    "duration": 311,
    "start_time": "2023-08-14T17:56:29.627Z"
   },
   {
    "duration": 263,
    "start_time": "2023-08-14T17:56:29.940Z"
   },
   {
    "duration": 280,
    "start_time": "2023-08-14T17:56:30.205Z"
   },
   {
    "duration": 248,
    "start_time": "2023-08-14T17:56:30.487Z"
   },
   {
    "duration": 244,
    "start_time": "2023-08-14T17:56:30.738Z"
   },
   {
    "duration": 12,
    "start_time": "2023-08-14T17:56:30.984Z"
   },
   {
    "duration": 52,
    "start_time": "2023-08-14T17:56:30.998Z"
   },
   {
    "duration": 1504,
    "start_time": "2023-08-15T10:28:15.393Z"
   },
   {
    "duration": 129,
    "start_time": "2023-08-15T10:28:19.484Z"
   },
   {
    "duration": 16,
    "start_time": "2023-08-15T10:28:27.861Z"
   },
   {
    "duration": 106,
    "start_time": "2023-08-15T10:29:06.127Z"
   },
   {
    "duration": 11,
    "start_time": "2023-08-15T10:31:02.335Z"
   },
   {
    "duration": 5,
    "start_time": "2023-08-15T10:31:07.090Z"
   },
   {
    "duration": 1885,
    "start_time": "2023-08-15T10:36:04.362Z"
   },
   {
    "duration": 4,
    "start_time": "2023-08-15T10:36:12.129Z"
   },
   {
    "duration": 70,
    "start_time": "2023-08-15T10:36:14.714Z"
   },
   {
    "duration": 4,
    "start_time": "2023-08-15T10:36:16.965Z"
   },
   {
    "duration": 15,
    "start_time": "2023-08-15T10:36:18.863Z"
   },
   {
    "duration": 7,
    "start_time": "2023-08-15T10:36:20.812Z"
   },
   {
    "duration": 8,
    "start_time": "2023-08-15T10:36:21.938Z"
   },
   {
    "duration": 6,
    "start_time": "2023-08-15T10:36:24.499Z"
   },
   {
    "duration": 6,
    "start_time": "2023-08-15T10:36:26.189Z"
   },
   {
    "duration": 7,
    "start_time": "2023-08-15T10:36:27.647Z"
   },
   {
    "duration": 10,
    "start_time": "2023-08-15T11:16:32.063Z"
   },
   {
    "duration": 1382,
    "start_time": "2023-08-18T16:59:44.754Z"
   },
   {
    "duration": 214,
    "start_time": "2023-08-18T16:59:48.180Z"
   },
   {
    "duration": 4,
    "start_time": "2023-08-18T16:59:50.587Z"
   },
   {
    "duration": 17,
    "start_time": "2023-08-18T16:59:52.188Z"
   },
   {
    "duration": 6,
    "start_time": "2023-08-18T16:59:54.051Z"
   },
   {
    "duration": 8,
    "start_time": "2023-08-18T16:59:55.081Z"
   },
   {
    "duration": 6,
    "start_time": "2023-08-18T16:59:57.388Z"
   },
   {
    "duration": 6,
    "start_time": "2023-08-18T16:59:58.036Z"
   },
   {
    "duration": 8,
    "start_time": "2023-08-18T16:59:59.646Z"
   },
   {
    "duration": 14,
    "start_time": "2023-08-18T17:00:01.942Z"
   },
   {
    "duration": 5,
    "start_time": "2023-08-18T17:00:04.758Z"
   },
   {
    "duration": 11,
    "start_time": "2023-08-18T17:00:05.693Z"
   },
   {
    "duration": 19,
    "start_time": "2023-08-18T17:00:07.093Z"
   },
   {
    "duration": 4,
    "start_time": "2023-08-18T17:00:09.522Z"
   },
   {
    "duration": 10,
    "start_time": "2023-08-18T17:00:10.285Z"
   },
   {
    "duration": 45,
    "start_time": "2023-08-18T17:00:11.513Z"
   },
   {
    "duration": 5,
    "start_time": "2023-08-18T17:00:13.394Z"
   },
   {
    "duration": 5,
    "start_time": "2023-08-18T17:00:15.244Z"
   },
   {
    "duration": 5,
    "start_time": "2023-08-18T17:00:15.987Z"
   },
   {
    "duration": 6,
    "start_time": "2023-08-18T17:00:16.795Z"
   },
   {
    "duration": 7,
    "start_time": "2023-08-18T17:00:18.791Z"
   },
   {
    "duration": 12,
    "start_time": "2023-08-18T17:00:20.500Z"
   },
   {
    "duration": 6,
    "start_time": "2023-08-18T17:00:22.964Z"
   },
   {
    "duration": 445,
    "start_time": "2023-08-18T17:00:23.913Z"
   },
   {
    "duration": 13,
    "start_time": "2023-08-18T17:02:45.816Z"
   },
   {
    "duration": 1491,
    "start_time": "2023-08-18T17:04:37.098Z"
   },
   {
    "duration": 21,
    "start_time": "2023-08-18T17:05:10.410Z"
   },
   {
    "duration": 10,
    "start_time": "2023-08-18T17:05:13.686Z"
   },
   {
    "duration": 25,
    "start_time": "2023-08-18T17:05:26.253Z"
   },
   {
    "duration": 10,
    "start_time": "2023-08-18T17:05:47.621Z"
   },
   {
    "duration": 24,
    "start_time": "2023-08-18T17:05:56.987Z"
   },
   {
    "duration": 12,
    "start_time": "2023-08-18T17:09:30.565Z"
   },
   {
    "duration": 12,
    "start_time": "2023-08-18T17:09:43.903Z"
   },
   {
    "duration": 11,
    "start_time": "2023-08-18T17:10:26.886Z"
   },
   {
    "duration": 10,
    "start_time": "2023-08-18T17:10:31.152Z"
   },
   {
    "duration": 12,
    "start_time": "2023-08-18T17:11:08.053Z"
   },
   {
    "duration": 21,
    "start_time": "2023-08-18T17:11:23.851Z"
   },
   {
    "duration": 18,
    "start_time": "2023-08-18T17:12:12.811Z"
   },
   {
    "duration": 10,
    "start_time": "2023-08-18T17:15:19.420Z"
   },
   {
    "duration": 15,
    "start_time": "2023-08-18T17:15:24.586Z"
   },
   {
    "duration": 15,
    "start_time": "2023-08-18T17:15:45.424Z"
   },
   {
    "duration": 10,
    "start_time": "2023-08-18T17:17:51.337Z"
   },
   {
    "duration": 11,
    "start_time": "2023-08-18T17:17:54.542Z"
   },
   {
    "duration": 10,
    "start_time": "2023-08-18T17:18:18.454Z"
   },
   {
    "duration": 15,
    "start_time": "2023-08-18T17:19:04.949Z"
   },
   {
    "duration": 14,
    "start_time": "2023-08-18T17:22:54.022Z"
   },
   {
    "duration": 1753,
    "start_time": "2023-08-18T17:27:05.336Z"
   },
   {
    "duration": 6,
    "start_time": "2023-08-18T17:27:14.521Z"
   },
   {
    "duration": 1352,
    "start_time": "2023-08-18T17:27:31.585Z"
   },
   {
    "duration": 4,
    "start_time": "2023-08-18T17:27:39.811Z"
   },
   {
    "duration": 18,
    "start_time": "2023-08-18T17:28:29.086Z"
   },
   {
    "duration": 7,
    "start_time": "2023-08-18T17:28:48.394Z"
   },
   {
    "duration": 7,
    "start_time": "2023-08-18T17:28:51.868Z"
   },
   {
    "duration": 20,
    "start_time": "2023-08-18T17:28:57.885Z"
   },
   {
    "duration": 13,
    "start_time": "2023-08-18T17:28:59.518Z"
   },
   {
    "duration": 1690,
    "start_time": "2023-08-18T17:29:11.205Z"
   },
   {
    "duration": 1757,
    "start_time": "2023-08-18T17:31:04.731Z"
   },
   {
    "duration": 14,
    "start_time": "2023-08-18T17:35:34.939Z"
   },
   {
    "duration": 14,
    "start_time": "2023-08-18T17:35:36.435Z"
   },
   {
    "duration": 22,
    "start_time": "2023-08-18T17:41:10.784Z"
   },
   {
    "duration": 465,
    "start_time": "2023-08-18T17:41:11.969Z"
   },
   {
    "duration": 179,
    "start_time": "2023-08-18T17:44:48.235Z"
   },
   {
    "duration": 219,
    "start_time": "2023-08-18T17:44:56.157Z"
   },
   {
    "duration": 42,
    "start_time": "2023-08-18T18:13:20.071Z"
   },
   {
    "duration": 199,
    "start_time": "2023-08-18T18:13:22.189Z"
   },
   {
    "duration": 246,
    "start_time": "2023-08-18T18:13:26.368Z"
   },
   {
    "duration": 5,
    "start_time": "2023-08-18T18:13:28.259Z"
   },
   {
    "duration": 5,
    "start_time": "2023-08-18T18:13:29.272Z"
   },
   {
    "duration": 205,
    "start_time": "2023-08-18T18:13:31.953Z"
   },
   {
    "duration": 201,
    "start_time": "2023-08-18T18:14:15.269Z"
   },
   {
    "duration": 213,
    "start_time": "2023-08-18T18:16:00.976Z"
   },
   {
    "duration": 236,
    "start_time": "2023-08-18T18:22:51.208Z"
   },
   {
    "duration": 341,
    "start_time": "2023-08-18T18:23:20.228Z"
   },
   {
    "duration": 275,
    "start_time": "2023-08-18T18:23:28.395Z"
   },
   {
    "duration": 313,
    "start_time": "2023-08-18T18:23:33.748Z"
   },
   {
    "duration": 222,
    "start_time": "2023-08-18T18:23:52.699Z"
   },
   {
    "duration": 203,
    "start_time": "2023-08-18T18:23:57.852Z"
   },
   {
    "duration": 195,
    "start_time": "2023-08-18T18:24:00.912Z"
   },
   {
    "duration": 227,
    "start_time": "2023-08-18T18:24:07.935Z"
   },
   {
    "duration": 415,
    "start_time": "2023-08-18T18:24:10.895Z"
   },
   {
    "duration": 199,
    "start_time": "2023-08-18T18:24:21.830Z"
   },
   {
    "duration": 201,
    "start_time": "2023-08-18T18:24:28.176Z"
   },
   {
    "duration": 6,
    "start_time": "2023-08-18T19:07:06.566Z"
   },
   {
    "duration": 7,
    "start_time": "2023-08-18T19:07:15.503Z"
   },
   {
    "duration": 6,
    "start_time": "2023-08-18T19:07:21.047Z"
   },
   {
    "duration": 6,
    "start_time": "2023-08-18T19:07:40.153Z"
   },
   {
    "duration": 16,
    "start_time": "2023-08-18T19:07:48.470Z"
   },
   {
    "duration": 16,
    "start_time": "2023-08-18T19:10:31.942Z"
   },
   {
    "duration": 22,
    "start_time": "2023-08-18T19:11:23.464Z"
   },
   {
    "duration": 39,
    "start_time": "2023-08-18T19:12:00.917Z"
   },
   {
    "duration": 48,
    "start_time": "2023-08-18T19:12:08.773Z"
   },
   {
    "duration": 8,
    "start_time": "2023-08-18T19:12:43.730Z"
   },
   {
    "duration": 5,
    "start_time": "2023-08-18T19:12:49.210Z"
   },
   {
    "duration": 7,
    "start_time": "2023-08-18T19:14:03.682Z"
   },
   {
    "duration": 32,
    "start_time": "2023-08-18T19:14:42.705Z"
   },
   {
    "duration": 15,
    "start_time": "2023-08-18T19:14:55.720Z"
   },
   {
    "duration": 1305,
    "start_time": "2023-08-18T19:15:15.506Z"
   },
   {
    "duration": 83,
    "start_time": "2023-08-18T19:15:16.814Z"
   },
   {
    "duration": 4,
    "start_time": "2023-08-18T19:15:16.899Z"
   },
   {
    "duration": 25,
    "start_time": "2023-08-18T19:15:16.905Z"
   },
   {
    "duration": 9,
    "start_time": "2023-08-18T19:15:16.932Z"
   },
   {
    "duration": 35,
    "start_time": "2023-08-18T19:15:16.943Z"
   },
   {
    "duration": 11,
    "start_time": "2023-08-18T19:15:16.981Z"
   },
   {
    "duration": 30,
    "start_time": "2023-08-18T19:15:16.994Z"
   },
   {
    "duration": 40,
    "start_time": "2023-08-18T19:15:17.027Z"
   },
   {
    "duration": 41,
    "start_time": "2023-08-18T19:15:17.071Z"
   },
   {
    "duration": 7,
    "start_time": "2023-08-18T19:15:17.115Z"
   },
   {
    "duration": 12,
    "start_time": "2023-08-18T19:15:17.123Z"
   },
   {
    "duration": 31,
    "start_time": "2023-08-18T19:15:17.137Z"
   },
   {
    "duration": 6,
    "start_time": "2023-08-18T19:15:17.170Z"
   },
   {
    "duration": 15,
    "start_time": "2023-08-18T19:15:17.179Z"
   },
   {
    "duration": 14,
    "start_time": "2023-08-18T19:15:17.197Z"
   },
   {
    "duration": 15,
    "start_time": "2023-08-18T19:15:17.212Z"
   },
   {
    "duration": 19,
    "start_time": "2023-08-18T19:15:17.229Z"
   },
   {
    "duration": 15,
    "start_time": "2023-08-18T19:15:17.249Z"
   },
   {
    "duration": 32,
    "start_time": "2023-08-18T19:15:17.265Z"
   },
   {
    "duration": 18,
    "start_time": "2023-08-18T19:15:17.299Z"
   },
   {
    "duration": 35,
    "start_time": "2023-08-18T19:15:17.318Z"
   },
   {
    "duration": 19,
    "start_time": "2023-08-18T19:15:17.355Z"
   },
   {
    "duration": 462,
    "start_time": "2023-08-18T19:15:17.376Z"
   },
   {
    "duration": 18,
    "start_time": "2023-08-18T19:15:17.840Z"
   },
   {
    "duration": 32,
    "start_time": "2023-08-18T19:15:17.860Z"
   },
   {
    "duration": 26,
    "start_time": "2023-08-18T19:15:17.895Z"
   },
   {
    "duration": 11,
    "start_time": "2023-08-18T19:15:17.927Z"
   },
   {
    "duration": 34,
    "start_time": "2023-08-18T19:15:17.940Z"
   },
   {
    "duration": 22,
    "start_time": "2023-08-18T19:15:17.977Z"
   },
   {
    "duration": 16,
    "start_time": "2023-08-18T19:15:18.001Z"
   },
   {
    "duration": 1940,
    "start_time": "2023-08-18T19:15:18.019Z"
   },
   {
    "duration": 19,
    "start_time": "2023-08-18T19:15:19.961Z"
   },
   {
    "duration": 16,
    "start_time": "2023-08-18T19:15:19.982Z"
   },
   {
    "duration": 22,
    "start_time": "2023-08-18T19:15:19.999Z"
   },
   {
    "duration": 315,
    "start_time": "2023-08-18T19:15:20.023Z"
   },
   {
    "duration": 273,
    "start_time": "2023-08-18T19:15:20.340Z"
   },
   {
    "duration": 38,
    "start_time": "2023-08-18T19:15:20.615Z"
   },
   {
    "duration": 311,
    "start_time": "2023-08-18T19:15:20.655Z"
   },
   {
    "duration": 6,
    "start_time": "2023-08-18T19:15:20.975Z"
   },
   {
    "duration": 13,
    "start_time": "2023-08-18T19:15:20.983Z"
   },
   {
    "duration": 332,
    "start_time": "2023-08-18T19:15:20.998Z"
   },
   {
    "duration": 213,
    "start_time": "2023-08-18T19:15:21.331Z"
   },
   {
    "duration": 263,
    "start_time": "2023-08-18T19:15:21.546Z"
   },
   {
    "duration": 241,
    "start_time": "2023-08-18T19:15:21.811Z"
   },
   {
    "duration": 239,
    "start_time": "2023-08-18T19:15:22.054Z"
   },
   {
    "duration": 202,
    "start_time": "2023-08-18T19:15:22.295Z"
   },
   {
    "duration": 298,
    "start_time": "2023-08-18T19:15:22.499Z"
   },
   {
    "duration": 235,
    "start_time": "2023-08-18T19:15:22.799Z"
   },
   {
    "duration": 228,
    "start_time": "2023-08-18T19:15:23.036Z"
   },
   {
    "duration": 228,
    "start_time": "2023-08-18T19:15:23.266Z"
   },
   {
    "duration": 232,
    "start_time": "2023-08-18T19:15:23.496Z"
   },
   {
    "duration": 120,
    "start_time": "2023-08-18T19:15:23.731Z"
   },
   {
    "duration": 0,
    "start_time": "2023-08-18T19:15:23.853Z"
   },
   {
    "duration": 0,
    "start_time": "2023-08-18T19:15:23.856Z"
   },
   {
    "duration": 0,
    "start_time": "2023-08-18T19:15:23.857Z"
   },
   {
    "duration": 0,
    "start_time": "2023-08-18T19:15:23.859Z"
   },
   {
    "duration": 0,
    "start_time": "2023-08-18T19:15:23.861Z"
   },
   {
    "duration": 228,
    "start_time": "2023-08-18T19:15:52.351Z"
   },
   {
    "duration": 1761,
    "start_time": "2023-08-18T19:17:26.579Z"
   },
   {
    "duration": 154,
    "start_time": "2023-08-18T19:17:38.843Z"
   },
   {
    "duration": 190,
    "start_time": "2023-08-18T19:18:19.717Z"
   },
   {
    "duration": 489,
    "start_time": "2023-08-18T19:22:50.159Z"
   },
   {
    "duration": 6,
    "start_time": "2023-08-18T19:29:25.028Z"
   },
   {
    "duration": 7,
    "start_time": "2023-08-18T19:30:02.457Z"
   },
   {
    "duration": 7,
    "start_time": "2023-08-18T19:30:05.062Z"
   },
   {
    "duration": 7,
    "start_time": "2023-08-18T19:30:08.630Z"
   },
   {
    "duration": 5,
    "start_time": "2023-08-18T19:30:24.110Z"
   },
   {
    "duration": 6,
    "start_time": "2023-08-18T19:30:28.811Z"
   },
   {
    "duration": 5,
    "start_time": "2023-08-18T19:30:33.111Z"
   },
   {
    "duration": 1889,
    "start_time": "2023-08-18T19:30:56.958Z"
   },
   {
    "duration": 8,
    "start_time": "2023-08-18T19:31:03.348Z"
   },
   {
    "duration": 6,
    "start_time": "2023-08-18T19:31:33.682Z"
   },
   {
    "duration": 7,
    "start_time": "2023-08-18T19:31:34.934Z"
   },
   {
    "duration": 8,
    "start_time": "2023-08-18T19:45:47.313Z"
   },
   {
    "duration": 127,
    "start_time": "2023-08-18T19:47:33.066Z"
   },
   {
    "duration": 137,
    "start_time": "2023-08-18T19:47:39.069Z"
   },
   {
    "duration": 193,
    "start_time": "2023-08-18T19:47:43.317Z"
   },
   {
    "duration": 249,
    "start_time": "2023-08-18T19:47:54.576Z"
   },
   {
    "duration": 204,
    "start_time": "2023-08-18T20:06:03.110Z"
   },
   {
    "duration": 194,
    "start_time": "2023-08-18T20:06:19.820Z"
   },
   {
    "duration": 92,
    "start_time": "2023-08-19T14:28:01.711Z"
   }
  ],
  "kernelspec": {
   "display_name": "Python 3 (ipykernel)",
   "language": "python",
   "name": "python3"
  },
  "language_info": {
   "codemirror_mode": {
    "name": "ipython",
    "version": 3
   },
   "file_extension": ".py",
   "mimetype": "text/x-python",
   "name": "python",
   "nbconvert_exporter": "python",
   "pygments_lexer": "ipython3",
   "version": "3.9.5"
  },
  "toc": {
   "base_numbering": 1,
   "nav_menu": {},
   "number_sections": true,
   "sideBar": true,
   "skip_h1_title": true,
   "title_cell": "Table of Contents",
   "title_sidebar": "Contents",
   "toc_cell": false,
   "toc_position": {},
   "toc_section_display": true,
   "toc_window_display": true
  }
 },
 "nbformat": 4,
 "nbformat_minor": 2
}
