{
 "cells": [
  {
   "cell_type": "markdown",
   "id": "77d7beae",
   "metadata": {},
   "source": [
    "   *«Потребитель — это не просто тот, кто потребляет. Потребитель — это тот, кто осуществляется как личность только через потребление. Чем больше удаётся ему потребить, тем больше он себя чувствует личностью.»*\n",
    "\n",
    "   --  Юлий Кагарлицкий"
   ]
  },
  {
   "cell_type": "markdown",
   "id": "8accd263",
   "metadata": {},
   "source": [
    "# Исследование прибыли для различных типов пользователей"
   ]
  },
  {
   "cell_type": "markdown",
   "id": "4f8f0e34",
   "metadata": {},
   "source": [
    "В данной работе будут проанализированы данные о некоторых пользователях сервиса аренды самокатов GoFast из нескольких городов и проверены некоторые гипотезы, которые могут помочь бизнесу вырасти."
   ]
  },
  {
   "cell_type": "code",
   "execution_count": 1,
   "id": "99b5806e",
   "metadata": {},
   "outputs": [],
   "source": [
    "import pandas as pd\n",
    "import numpy as np\n",
    "import matplotlib.pyplot as plt\n",
    "from scipy import stats as st\n",
    "from scipy.stats import binom"
   ]
  },
  {
   "cell_type": "markdown",
   "id": "005af7e1",
   "metadata": {},
   "source": [
    "#### Шаг 1. Загрузка данных"
   ]
  },
  {
   "cell_type": "markdown",
   "id": "e1c0f9a2",
   "metadata": {},
   "source": [
    "Загрузим данные и посмотрим на них."
   ]
  },
  {
   "cell_type": "code",
   "execution_count": 2,
   "id": "fc2ce422",
   "metadata": {},
   "outputs": [],
   "source": [
    "user = pd.read_csv('/datasets/users_go.csv')\n",
    "rides = pd.read_csv('/datasets/rides_go.csv')\n",
    "sub = pd.read_csv('/datasets/subscriptions_go.csv')"
   ]
  },
  {
   "cell_type": "code",
   "execution_count": 3,
   "id": "3a89ebf5",
   "metadata": {},
   "outputs": [
    {
     "data": {
      "text/html": [
       "<div>\n",
       "<style scoped>\n",
       "    .dataframe tbody tr th:only-of-type {\n",
       "        vertical-align: middle;\n",
       "    }\n",
       "\n",
       "    .dataframe tbody tr th {\n",
       "        vertical-align: top;\n",
       "    }\n",
       "\n",
       "    .dataframe thead th {\n",
       "        text-align: right;\n",
       "    }\n",
       "</style>\n",
       "<table border=\"1\" class=\"dataframe\">\n",
       "  <thead>\n",
       "    <tr style=\"text-align: right;\">\n",
       "      <th></th>\n",
       "      <th>user_id</th>\n",
       "      <th>name</th>\n",
       "      <th>age</th>\n",
       "      <th>city</th>\n",
       "      <th>subscription_type</th>\n",
       "    </tr>\n",
       "  </thead>\n",
       "  <tbody>\n",
       "    <tr>\n",
       "      <th>0</th>\n",
       "      <td>1</td>\n",
       "      <td>Кира</td>\n",
       "      <td>22</td>\n",
       "      <td>Тюмень</td>\n",
       "      <td>ultra</td>\n",
       "    </tr>\n",
       "    <tr>\n",
       "      <th>1</th>\n",
       "      <td>2</td>\n",
       "      <td>Станислав</td>\n",
       "      <td>31</td>\n",
       "      <td>Омск</td>\n",
       "      <td>ultra</td>\n",
       "    </tr>\n",
       "    <tr>\n",
       "      <th>2</th>\n",
       "      <td>3</td>\n",
       "      <td>Алексей</td>\n",
       "      <td>20</td>\n",
       "      <td>Москва</td>\n",
       "      <td>ultra</td>\n",
       "    </tr>\n",
       "    <tr>\n",
       "      <th>3</th>\n",
       "      <td>4</td>\n",
       "      <td>Константин</td>\n",
       "      <td>26</td>\n",
       "      <td>Ростов-на-Дону</td>\n",
       "      <td>ultra</td>\n",
       "    </tr>\n",
       "    <tr>\n",
       "      <th>4</th>\n",
       "      <td>5</td>\n",
       "      <td>Адель</td>\n",
       "      <td>28</td>\n",
       "      <td>Омск</td>\n",
       "      <td>ultra</td>\n",
       "    </tr>\n",
       "    <tr>\n",
       "      <th>5</th>\n",
       "      <td>6</td>\n",
       "      <td>Регина</td>\n",
       "      <td>25</td>\n",
       "      <td>Краснодар</td>\n",
       "      <td>ultra</td>\n",
       "    </tr>\n",
       "    <tr>\n",
       "      <th>6</th>\n",
       "      <td>7</td>\n",
       "      <td>Игорь</td>\n",
       "      <td>23</td>\n",
       "      <td>Омск</td>\n",
       "      <td>ultra</td>\n",
       "    </tr>\n",
       "    <tr>\n",
       "      <th>7</th>\n",
       "      <td>8</td>\n",
       "      <td>Юрий</td>\n",
       "      <td>23</td>\n",
       "      <td>Краснодар</td>\n",
       "      <td>ultra</td>\n",
       "    </tr>\n",
       "    <tr>\n",
       "      <th>8</th>\n",
       "      <td>9</td>\n",
       "      <td>Ян</td>\n",
       "      <td>21</td>\n",
       "      <td>Пятигорск</td>\n",
       "      <td>ultra</td>\n",
       "    </tr>\n",
       "    <tr>\n",
       "      <th>9</th>\n",
       "      <td>10</td>\n",
       "      <td>Валерий</td>\n",
       "      <td>18</td>\n",
       "      <td>Екатеринбург</td>\n",
       "      <td>ultra</td>\n",
       "    </tr>\n",
       "  </tbody>\n",
       "</table>\n",
       "</div>"
      ],
      "text/plain": [
       "   user_id        name  age            city subscription_type\n",
       "0        1        Кира   22          Тюмень             ultra\n",
       "1        2   Станислав   31            Омск             ultra\n",
       "2        3     Алексей   20          Москва             ultra\n",
       "3        4  Константин   26  Ростов-на-Дону             ultra\n",
       "4        5       Адель   28            Омск             ultra\n",
       "5        6      Регина   25       Краснодар             ultra\n",
       "6        7       Игорь   23            Омск             ultra\n",
       "7        8        Юрий   23       Краснодар             ultra\n",
       "8        9          Ян   21       Пятигорск             ultra\n",
       "9       10     Валерий   18    Екатеринбург             ultra"
      ]
     },
     "execution_count": 3,
     "metadata": {},
     "output_type": "execute_result"
    }
   ],
   "source": [
    "user.head(10)"
   ]
  },
  {
   "cell_type": "code",
   "execution_count": 4,
   "id": "8d36dd4c",
   "metadata": {},
   "outputs": [
    {
     "name": "stdout",
     "output_type": "stream",
     "text": [
      "<class 'pandas.core.frame.DataFrame'>\n",
      "RangeIndex: 1565 entries, 0 to 1564\n",
      "Data columns (total 5 columns):\n",
      " #   Column             Non-Null Count  Dtype \n",
      "---  ------             --------------  ----- \n",
      " 0   user_id            1565 non-null   int64 \n",
      " 1   name               1565 non-null   object\n",
      " 2   age                1565 non-null   int64 \n",
      " 3   city               1565 non-null   object\n",
      " 4   subscription_type  1565 non-null   object\n",
      "dtypes: int64(2), object(3)\n",
      "memory usage: 61.3+ KB\n"
     ]
    }
   ],
   "source": [
    "user.info()"
   ]
  },
  {
   "cell_type": "code",
   "execution_count": 5,
   "id": "6e711046",
   "metadata": {},
   "outputs": [
    {
     "data": {
      "text/html": [
       "<div>\n",
       "<style scoped>\n",
       "    .dataframe tbody tr th:only-of-type {\n",
       "        vertical-align: middle;\n",
       "    }\n",
       "\n",
       "    .dataframe tbody tr th {\n",
       "        vertical-align: top;\n",
       "    }\n",
       "\n",
       "    .dataframe thead th {\n",
       "        text-align: right;\n",
       "    }\n",
       "</style>\n",
       "<table border=\"1\" class=\"dataframe\">\n",
       "  <thead>\n",
       "    <tr style=\"text-align: right;\">\n",
       "      <th></th>\n",
       "      <th>user_id</th>\n",
       "      <th>distance</th>\n",
       "      <th>duration</th>\n",
       "      <th>date</th>\n",
       "    </tr>\n",
       "  </thead>\n",
       "  <tbody>\n",
       "    <tr>\n",
       "      <th>0</th>\n",
       "      <td>1</td>\n",
       "      <td>4409.919140</td>\n",
       "      <td>25.599769</td>\n",
       "      <td>2021-01-01</td>\n",
       "    </tr>\n",
       "    <tr>\n",
       "      <th>1</th>\n",
       "      <td>1</td>\n",
       "      <td>2617.592153</td>\n",
       "      <td>15.816871</td>\n",
       "      <td>2021-01-18</td>\n",
       "    </tr>\n",
       "    <tr>\n",
       "      <th>2</th>\n",
       "      <td>1</td>\n",
       "      <td>754.159807</td>\n",
       "      <td>6.232113</td>\n",
       "      <td>2021-04-20</td>\n",
       "    </tr>\n",
       "    <tr>\n",
       "      <th>3</th>\n",
       "      <td>1</td>\n",
       "      <td>2694.783254</td>\n",
       "      <td>18.511000</td>\n",
       "      <td>2021-08-11</td>\n",
       "    </tr>\n",
       "    <tr>\n",
       "      <th>4</th>\n",
       "      <td>1</td>\n",
       "      <td>4028.687306</td>\n",
       "      <td>26.265803</td>\n",
       "      <td>2021-08-28</td>\n",
       "    </tr>\n",
       "    <tr>\n",
       "      <th>5</th>\n",
       "      <td>1</td>\n",
       "      <td>2770.890808</td>\n",
       "      <td>16.650138</td>\n",
       "      <td>2021-10-09</td>\n",
       "    </tr>\n",
       "    <tr>\n",
       "      <th>6</th>\n",
       "      <td>1</td>\n",
       "      <td>3039.020292</td>\n",
       "      <td>14.927879</td>\n",
       "      <td>2021-10-19</td>\n",
       "    </tr>\n",
       "    <tr>\n",
       "      <th>7</th>\n",
       "      <td>1</td>\n",
       "      <td>2842.118050</td>\n",
       "      <td>23.117468</td>\n",
       "      <td>2021-11-06</td>\n",
       "    </tr>\n",
       "    <tr>\n",
       "      <th>8</th>\n",
       "      <td>1</td>\n",
       "      <td>3412.690668</td>\n",
       "      <td>15.238072</td>\n",
       "      <td>2021-11-14</td>\n",
       "    </tr>\n",
       "    <tr>\n",
       "      <th>9</th>\n",
       "      <td>1</td>\n",
       "      <td>748.690645</td>\n",
       "      <td>15.041884</td>\n",
       "      <td>2021-11-22</td>\n",
       "    </tr>\n",
       "  </tbody>\n",
       "</table>\n",
       "</div>"
      ],
      "text/plain": [
       "   user_id     distance   duration        date\n",
       "0        1  4409.919140  25.599769  2021-01-01\n",
       "1        1  2617.592153  15.816871  2021-01-18\n",
       "2        1   754.159807   6.232113  2021-04-20\n",
       "3        1  2694.783254  18.511000  2021-08-11\n",
       "4        1  4028.687306  26.265803  2021-08-28\n",
       "5        1  2770.890808  16.650138  2021-10-09\n",
       "6        1  3039.020292  14.927879  2021-10-19\n",
       "7        1  2842.118050  23.117468  2021-11-06\n",
       "8        1  3412.690668  15.238072  2021-11-14\n",
       "9        1   748.690645  15.041884  2021-11-22"
      ]
     },
     "execution_count": 5,
     "metadata": {},
     "output_type": "execute_result"
    }
   ],
   "source": [
    "rides.head(10)"
   ]
  },
  {
   "cell_type": "code",
   "execution_count": 6,
   "id": "2443654f",
   "metadata": {},
   "outputs": [
    {
     "name": "stdout",
     "output_type": "stream",
     "text": [
      "<class 'pandas.core.frame.DataFrame'>\n",
      "RangeIndex: 18068 entries, 0 to 18067\n",
      "Data columns (total 4 columns):\n",
      " #   Column    Non-Null Count  Dtype  \n",
      "---  ------    --------------  -----  \n",
      " 0   user_id   18068 non-null  int64  \n",
      " 1   distance  18068 non-null  float64\n",
      " 2   duration  18068 non-null  float64\n",
      " 3   date      18068 non-null  object \n",
      "dtypes: float64(2), int64(1), object(1)\n",
      "memory usage: 564.8+ KB\n"
     ]
    }
   ],
   "source": [
    "rides.info()"
   ]
  },
  {
   "cell_type": "code",
   "execution_count": 7,
   "id": "b67dc5d6",
   "metadata": {},
   "outputs": [
    {
     "data": {
      "text/html": [
       "<div>\n",
       "<style scoped>\n",
       "    .dataframe tbody tr th:only-of-type {\n",
       "        vertical-align: middle;\n",
       "    }\n",
       "\n",
       "    .dataframe tbody tr th {\n",
       "        vertical-align: top;\n",
       "    }\n",
       "\n",
       "    .dataframe thead th {\n",
       "        text-align: right;\n",
       "    }\n",
       "</style>\n",
       "<table border=\"1\" class=\"dataframe\">\n",
       "  <thead>\n",
       "    <tr style=\"text-align: right;\">\n",
       "      <th></th>\n",
       "      <th>subscription_type</th>\n",
       "      <th>minute_price</th>\n",
       "      <th>start_ride_price</th>\n",
       "      <th>subscription_fee</th>\n",
       "    </tr>\n",
       "  </thead>\n",
       "  <tbody>\n",
       "    <tr>\n",
       "      <th>0</th>\n",
       "      <td>free</td>\n",
       "      <td>8</td>\n",
       "      <td>50</td>\n",
       "      <td>0</td>\n",
       "    </tr>\n",
       "    <tr>\n",
       "      <th>1</th>\n",
       "      <td>ultra</td>\n",
       "      <td>6</td>\n",
       "      <td>0</td>\n",
       "      <td>199</td>\n",
       "    </tr>\n",
       "  </tbody>\n",
       "</table>\n",
       "</div>"
      ],
      "text/plain": [
       "  subscription_type  minute_price  start_ride_price  subscription_fee\n",
       "0              free             8                50                 0\n",
       "1             ultra             6                 0               199"
      ]
     },
     "execution_count": 7,
     "metadata": {},
     "output_type": "execute_result"
    }
   ],
   "source": [
    "sub.head(10)"
   ]
  },
  {
   "cell_type": "code",
   "execution_count": 8,
   "id": "891d5a7d",
   "metadata": {},
   "outputs": [
    {
     "name": "stdout",
     "output_type": "stream",
     "text": [
      "<class 'pandas.core.frame.DataFrame'>\n",
      "RangeIndex: 2 entries, 0 to 1\n",
      "Data columns (total 4 columns):\n",
      " #   Column             Non-Null Count  Dtype \n",
      "---  ------             --------------  ----- \n",
      " 0   subscription_type  2 non-null      object\n",
      " 1   minute_price       2 non-null      int64 \n",
      " 2   start_ride_price   2 non-null      int64 \n",
      " 3   subscription_fee   2 non-null      int64 \n",
      "dtypes: int64(3), object(1)\n",
      "memory usage: 192.0+ bytes\n"
     ]
    }
   ],
   "source": [
    "sub.info()"
   ]
  },
  {
   "cell_type": "markdown",
   "id": "becebc69",
   "metadata": {},
   "source": [
    "Явных пропусков нет ни в одной таблице, за исключением `rides['data']` все столбцы приведены к удобному формату данных."
   ]
  },
  {
   "cell_type": "markdown",
   "id": "0e9a91e6",
   "metadata": {},
   "source": [
    "---"
   ]
  },
  {
   "cell_type": "markdown",
   "id": "3a5cad4a",
   "metadata": {},
   "source": [
    "В указанных данных представленны поездки пользователя, которые должны однозначно определятся уникальным идентификатором пользователя и датой, кроме того каждый пользователь имеет имя и возраст и однозначно определяется идентификатором пользователя. Судя по данным таблицы пользователи совершают поездки на неотрицательное расстояние за понеотрицательное время, что позволяет повысить степень доверия к данным. Каждому пользователю соответсвует один из двух тарифных планов, которые отличаются стоимостью старта, стоимотью минуты поездки и обонентской платой."
   ]
  },
  {
   "cell_type": "markdown",
   "id": "d91beea8",
   "metadata": {},
   "source": [
    "#### Шаг 2. Предобработка данных"
   ]
  },
  {
   "cell_type": "markdown",
   "id": "92e388f6",
   "metadata": {},
   "source": [
    "В таблице с поездками приведём столбец `date` к удобному для работы виду."
   ]
  },
  {
   "cell_type": "code",
   "execution_count": 9,
   "id": "60566411",
   "metadata": {},
   "outputs": [],
   "source": [
    "rides['date'] = pd.to_datetime(rides['date'], format='%Y-%m-%d')"
   ]
  },
  {
   "cell_type": "markdown",
   "id": "fdac14b7",
   "metadata": {},
   "source": [
    "А также создадим новый столбец с номером месяца."
   ]
  },
  {
   "cell_type": "code",
   "execution_count": 10,
   "id": "006475bd",
   "metadata": {},
   "outputs": [],
   "source": [
    "rides['month'] = rides['date'].dt.month"
   ]
  },
  {
   "cell_type": "markdown",
   "id": "654bea2f",
   "metadata": {},
   "source": [
    "Существующие данные охватывают период 2021 года."
   ]
  },
  {
   "cell_type": "code",
   "execution_count": 11,
   "id": "2a2bd013",
   "metadata": {},
   "outputs": [
    {
     "name": "stdout",
     "output_type": "stream",
     "text": [
      "2021-01-01 00:00:00  -  2021-12-30 00:00:00\n"
     ]
    }
   ],
   "source": [
    "print(min(rides['date']), ' - ', max(rides['date']))"
   ]
  },
  {
   "cell_type": "markdown",
   "id": "14eefbbb",
   "metadata": {},
   "source": [
    "Некоторые строки в `user` повторяются."
   ]
  },
  {
   "cell_type": "code",
   "execution_count": 12,
   "id": "b4d8ac21",
   "metadata": {
    "scrolled": true
   },
   "outputs": [
    {
     "data": {
      "text/plain": [
       "user_id  name       age  city            subscription_type\n",
       "209      Андрей     23   Омск            ultra                2\n",
       "807      Александр  28   Екатеринбург    free                 2\n",
       "611      Владимир   28   Омск            ultra                2\n",
       "43       Стефания   22   Омск            ultra                2\n",
       "737      Мелания    27   Ростов-на-Дону  free                 2\n",
       "                                                             ..\n",
       "520      Анжелика   30   Екатеринбург    ultra                1\n",
       "519      Даниэль    22   Ростов-на-Дону  ultra                1\n",
       "518      Алиса      22   Ростов-на-Дону  ultra                1\n",
       "517      Олег       25   Краснодар       ultra                1\n",
       "1534     Альберт    25   Краснодар       free                 1\n",
       "Length: 1534, dtype: int64"
      ]
     },
     "execution_count": 12,
     "metadata": {},
     "output_type": "execute_result"
    }
   ],
   "source": [
    "user.value_counts()"
   ]
  },
  {
   "cell_type": "code",
   "execution_count": 13,
   "id": "ccb0135b",
   "metadata": {},
   "outputs": [
    {
     "data": {
      "text/plain": [
       "31"
      ]
     },
     "execution_count": 13,
     "metadata": {},
     "output_type": "execute_result"
    }
   ],
   "source": [
    "user.duplicated().sum()"
   ]
  },
  {
   "cell_type": "markdown",
   "id": "b8999c5a",
   "metadata": {},
   "source": [
    "Можно избавиться от повторов."
   ]
  },
  {
   "cell_type": "code",
   "execution_count": 14,
   "id": "76db2829",
   "metadata": {},
   "outputs": [],
   "source": [
    "user = user.drop_duplicates() "
   ]
  },
  {
   "cell_type": "markdown",
   "id": "4bce40c7",
   "metadata": {},
   "source": [
    "Теперь количества уникальных пользователей в таблицах `user` и `rides` совпадают."
   ]
  },
  {
   "cell_type": "code",
   "execution_count": 15,
   "id": "99d94bd5",
   "metadata": {},
   "outputs": [
    {
     "data": {
      "text/plain": [
       "1534"
      ]
     },
     "execution_count": 15,
     "metadata": {},
     "output_type": "execute_result"
    }
   ],
   "source": [
    "len(rides['user_id'].unique())"
   ]
  },
  {
   "cell_type": "markdown",
   "id": "bc031eeb",
   "metadata": {},
   "source": [
    "Другие таблицы не имеют дубликатов, для таблицы `rides` это можно продемонстрировать выводом ниже, для таблицы `sub` это можно заметить в явном виде, поскольку данная таблица имеет всего две строки."
   ]
  },
  {
   "cell_type": "code",
   "execution_count": 16,
   "id": "ecd64dfc",
   "metadata": {},
   "outputs": [
    {
     "data": {
      "text/plain": [
       "0"
      ]
     },
     "execution_count": 16,
     "metadata": {},
     "output_type": "execute_result"
    }
   ],
   "source": [
    "rides.duplicated().sum()"
   ]
  },
  {
   "cell_type": "code",
   "execution_count": 17,
   "id": "76bd5eee",
   "metadata": {},
   "outputs": [
    {
     "data": {
      "text/plain": [
       "0.9846136816471109"
      ]
     },
     "execution_count": 17,
     "metadata": {},
     "output_type": "execute_result"
    }
   ],
   "source": [
    "(rides['duration'] > 5).sum() / rides['duration'].count()"
   ]
  },
  {
   "cell_type": "markdown",
   "id": "361e0b4f",
   "metadata": {},
   "source": [
    "Кроме того, были обнаружены странные, выбивающиеся значения в значениях продолжительности поездки таблицы `rides`."
   ]
  },
  {
   "cell_type": "code",
   "execution_count": 18,
   "id": "618c1ddc",
   "metadata": {},
   "outputs": [
    {
     "data": {
      "text/html": [
       "<div>\n",
       "<style scoped>\n",
       "    .dataframe tbody tr th:only-of-type {\n",
       "        vertical-align: middle;\n",
       "    }\n",
       "\n",
       "    .dataframe tbody tr th {\n",
       "        vertical-align: top;\n",
       "    }\n",
       "\n",
       "    .dataframe thead th {\n",
       "        text-align: right;\n",
       "    }\n",
       "</style>\n",
       "<table border=\"1\" class=\"dataframe\">\n",
       "  <thead>\n",
       "    <tr style=\"text-align: right;\">\n",
       "      <th></th>\n",
       "      <th>index</th>\n",
       "      <th>duration</th>\n",
       "    </tr>\n",
       "  </thead>\n",
       "  <tbody>\n",
       "    <tr>\n",
       "      <th>0</th>\n",
       "      <td>0.500000</td>\n",
       "      <td>95</td>\n",
       "    </tr>\n",
       "    <tr>\n",
       "      <th>5956</th>\n",
       "      <td>2.035632</td>\n",
       "      <td>1</td>\n",
       "    </tr>\n",
       "    <tr>\n",
       "      <th>2316</th>\n",
       "      <td>2.053251</td>\n",
       "      <td>1</td>\n",
       "    </tr>\n",
       "    <tr>\n",
       "      <th>12510</th>\n",
       "      <td>2.180879</td>\n",
       "      <td>1</td>\n",
       "    </tr>\n",
       "    <tr>\n",
       "      <th>9751</th>\n",
       "      <td>2.222598</td>\n",
       "      <td>1</td>\n",
       "    </tr>\n",
       "    <tr>\n",
       "      <th>...</th>\n",
       "      <td>...</td>\n",
       "      <td>...</td>\n",
       "    </tr>\n",
       "    <tr>\n",
       "      <th>1982</th>\n",
       "      <td>38.265229</td>\n",
       "      <td>1</td>\n",
       "    </tr>\n",
       "    <tr>\n",
       "      <th>15085</th>\n",
       "      <td>38.352763</td>\n",
       "      <td>1</td>\n",
       "    </tr>\n",
       "    <tr>\n",
       "      <th>17218</th>\n",
       "      <td>39.526602</td>\n",
       "      <td>1</td>\n",
       "    </tr>\n",
       "    <tr>\n",
       "      <th>13406</th>\n",
       "      <td>39.873856</td>\n",
       "      <td>1</td>\n",
       "    </tr>\n",
       "    <tr>\n",
       "      <th>12251</th>\n",
       "      <td>40.823963</td>\n",
       "      <td>1</td>\n",
       "    </tr>\n",
       "  </tbody>\n",
       "</table>\n",
       "<p>17974 rows × 2 columns</p>\n",
       "</div>"
      ],
      "text/plain": [
       "           index  duration\n",
       "0       0.500000        95\n",
       "5956    2.035632         1\n",
       "2316    2.053251         1\n",
       "12510   2.180879         1\n",
       "9751    2.222598         1\n",
       "...          ...       ...\n",
       "1982   38.265229         1\n",
       "15085  38.352763         1\n",
       "17218  39.526602         1\n",
       "13406  39.873856         1\n",
       "12251  40.823963         1\n",
       "\n",
       "[17974 rows x 2 columns]"
      ]
     },
     "execution_count": 18,
     "metadata": {},
     "output_type": "execute_result"
    }
   ],
   "source": [
    "rides['duration'].value_counts().reset_index().sort_values(by='index')"
   ]
  },
  {
   "cell_type": "markdown",
   "id": "90f6b226",
   "metadata": {},
   "source": [
    "Предположим, что причиной появления таких значений является некая техническая ошибка. Поскольку строк, порождённых такой ошибкой на три порядка меньше, чем общее количество строк, мы можем их удалить из нашего анализа."
   ]
  },
  {
   "cell_type": "code",
   "execution_count": 19,
   "id": "781db68a",
   "metadata": {},
   "outputs": [],
   "source": [
    "rides = rides[rides['duration'] != 0.5]"
   ]
  },
  {
   "cell_type": "markdown",
   "id": "e995610e",
   "metadata": {},
   "source": [
    "В данном разделе был произведён предварительный анализ данных, были удалены явные дубликаты из `user` и потенциально некорректные данные из `rides`. Кроме того, был приведён `rides[date]` к удобному для работы виду и создан столбец в котором указаны месяца поездок."
   ]
  },
  {
   "cell_type": "markdown",
   "id": "ccfe7d7c",
   "metadata": {},
   "source": [
    "#### Шаг 3. Исследовательский анализ данных"
   ]
  },
  {
   "cell_type": "markdown",
   "id": "dd338988",
   "metadata": {},
   "source": [
    "Отобразим на графике частоту встречаемости городов. Больше всего данных из Пятигорска, в то время, как данных из Москвы наименьшее количество."
   ]
  },
  {
   "cell_type": "code",
   "execution_count": 20,
   "id": "441809aa",
   "metadata": {},
   "outputs": [
    {
     "data": {
      "text/plain": [
       "Text(0, 0.5, 'город')"
      ]
     },
     "execution_count": 20,
     "metadata": {},
     "output_type": "execute_result"
    },
    {
     "data": {
      "image/png": "[encoded data removed]",
      "text/plain": [
       "<Figure size 576x360 with 1 Axes>"
      ]
     },
     "metadata": {
      "needs_background": "light"
     },
     "output_type": "display_data"
    }
   ],
   "source": [
    "(\n",
    "    (user['city'].value_counts() / user['city'].count())\n",
    "    .plot\n",
    "    .barh(figsize=(8,5))\n",
    ")\n",
    "plt.title('Частота встречаемости городов')\n",
    "plt.xlabel('частота встречаемости', style='italic')\n",
    "plt.ylabel('город', style='italic')"
   ]
  },
  {
   "cell_type": "markdown",
   "id": "3e8f1aa0",
   "metadata": {},
   "source": [
    "Большее количество людей из имеющихся данных пользуются приложением без подписки."
   ]
  },
  {
   "cell_type": "code",
   "execution_count": 21,
   "id": "260ca7e6",
   "metadata": {},
   "outputs": [
    {
     "data": {
      "text/plain": [
       "Text(0.5, 0, '')"
      ]
     },
     "execution_count": 21,
     "metadata": {},
     "output_type": "execute_result"
    },
    {
     "data": {
      "image/png": "[encoded data removed]",
      "text/plain": [
       "<Figure size 432x432 with 1 Axes>"
      ]
     },
     "metadata": {},
     "output_type": "display_data"
    }
   ],
   "source": [
    "i = 0\n",
    "def func(pct, val):\n",
    "    global i\n",
    "    absolute = val[i]\n",
    "    i = i + 1\n",
    "    return f\"{pct:.1f}%\\n({absolute:d} шт)\"\n",
    "\n",
    "t = (user['subscription_type'].value_counts() / user['subscription_type'].count())\n",
    "t.index = ['Без подписки', 'С подпиской']\n",
    "t.plot(kind='pie', figsize=(6,6), autopct=lambda pct: func(pct, user['subscription_type'].value_counts()))\n",
    "plt.title('Отношение пользователей по наличию подписки')\n",
    "plt.ylabel('', style='italic')\n",
    "plt.xlabel('', style='italic')"
   ]
  },
  {
   "cell_type": "markdown",
   "id": "e0963ad9",
   "metadata": {},
   "source": [
    "Возраст пользователей из имеющихся данных распределён нормально."
   ]
  },
  {
   "cell_type": "code",
   "execution_count": 22,
   "id": "53fb3b78",
   "metadata": {
    "scrolled": false
   },
   "outputs": [
    {
     "data": {
      "text/plain": [
       "Text(0.5, 0, 'возраст, год')"
      ]
     },
     "execution_count": 22,
     "metadata": {},
     "output_type": "execute_result"
    },
    {
     "data": {
      "image/png": "[encoded data removed]",
      "text/plain": [
       "<Figure size 720x432 with 1 Axes>"
      ]
     },
     "metadata": {
      "needs_background": "light"
     },
     "output_type": "display_data"
    }
   ],
   "source": [
    "(\n",
    "    user['age']\n",
    "    .plot(kind='hist', density=True, histtype='step', bins=user['age'].value_counts().index.max() - user['age'].value_counts().index.min(), linewidth=2, figsize=(10,6))\n",
    ")\n",
    "plt.axvline(user['age'].median(), color='k', linestyle='dashed', linewidth=1)\n",
    "plt.title('Распределение встречаемости возраста пользователей')\n",
    "plt.ylabel('частота встречаемости', style='italic')\n",
    "plt.xlabel('возраст, год', style='italic')"
   ]
  },
  {
   "cell_type": "markdown",
   "id": "fe82bc2f",
   "metadata": {},
   "source": [
    "Распределение расстояний, которое проезжают пользователи за одну поездку имеет два ярковыраженных пика, меньший из которых соответсвует меньшему расстоянию и несколько неярковыраженных, которые начинаются от 4000 м."
   ]
  },
  {
   "cell_type": "code",
   "execution_count": 23,
   "id": "997dcf41",
   "metadata": {},
   "outputs": [
    {
     "data": {
      "text/plain": [
       "count    1534.000000\n",
       "mean       24.903520\n",
       "std         4.572367\n",
       "min        12.000000\n",
       "25%        22.000000\n",
       "50%        25.000000\n",
       "75%        28.000000\n",
       "max        43.000000\n",
       "Name: age, dtype: float64"
      ]
     },
     "execution_count": 23,
     "metadata": {},
     "output_type": "execute_result"
    }
   ],
   "source": [
    "user['age'].describe()"
   ]
  },
  {
   "cell_type": "code",
   "execution_count": 24,
   "id": "db18fb6a",
   "metadata": {},
   "outputs": [
    {
     "data": {
      "text/plain": [
       "Text(0.5, 0, 'расстояние, м')"
      ]
     },
     "execution_count": 24,
     "metadata": {},
     "output_type": "execute_result"
    },
    {
     "data": {
      "image/png": "[encoded data removed]",
      "text/plain": [
       "<Figure size 720x432 with 1 Axes>"
      ]
     },
     "metadata": {
      "needs_background": "light"
     },
     "output_type": "display_data"
    }
   ],
   "source": [
    "(\n",
    "    rides['distance']\n",
    "    .plot(kind='hist', density=True, histtype='step', bins=80, linewidth=2, figsize=(10,6))\n",
    ")\n",
    "plt.axvline(rides.loc[rides['distance'] < 1500, 'distance'].median(), color='k', linestyle='dashed', linewidth=1)\n",
    "plt.axvline(rides.loc[rides['distance'] >= 1500, 'distance'].median(), color='k', linestyle='dashed', linewidth=1)\n",
    "plt.title('Распределение расстояний одной поездки')\n",
    "plt.ylabel('частота', style='italic')\n",
    "plt.xlabel('расстояние, м', style='italic')"
   ]
  },
  {
   "cell_type": "markdown",
   "id": "5f7366e3",
   "metadata": {},
   "source": [
    "Продолжительность поездок пользователей распределена нормально."
   ]
  },
  {
   "cell_type": "code",
   "execution_count": 25,
   "id": "e63d68cb",
   "metadata": {},
   "outputs": [
    {
     "data": {
      "text/plain": [
       "Text(0.5, 0, 'время, мин')"
      ]
     },
     "execution_count": 25,
     "metadata": {},
     "output_type": "execute_result"
    },
    {
     "data": {
      "image/png": "[encoded data removed]",
      "text/plain": [
       "<Figure size 720x432 with 1 Axes>"
      ]
     },
     "metadata": {
      "needs_background": "light"
     },
     "output_type": "display_data"
    }
   ],
   "source": [
    "(\n",
    "    rides['duration']\n",
    "    .plot(kind='hist', density=True, histtype='step', bins=40, linewidth=2, figsize=(10,6))\n",
    ")\n",
    "plt.axvline(rides['duration'].median(), color='k', linestyle='dashed', linewidth=1)\n",
    "plt.title('Распределение продолжительности поездок')\n",
    "plt.ylabel('частота', style='italic')\n",
    "plt.xlabel('время, мин', style='italic')"
   ]
  },
  {
   "cell_type": "markdown",
   "id": "760d62bb",
   "metadata": {},
   "source": [
    "#### Шаг 4. Объединение данных"
   ]
  },
  {
   "cell_type": "markdown",
   "id": "04edf605",
   "metadata": {},
   "source": [
    "Объеденим данные о пользователях, поездках и подписках в один датафрейм."
   ]
  },
  {
   "cell_type": "code",
   "execution_count": 26,
   "id": "3f7f49e4",
   "metadata": {},
   "outputs": [],
   "source": [
    "data = user.merge(rides, how='inner', on='user_id')\n",
    "data = data.merge(sub, how='inner', on='subscription_type')"
   ]
  },
  {
   "cell_type": "code",
   "execution_count": 27,
   "id": "6a756471",
   "metadata": {},
   "outputs": [
    {
     "name": "stdout",
     "output_type": "stream",
     "text": [
      "<class 'pandas.core.frame.DataFrame'>\n",
      "Int64Index: 17973 entries, 0 to 18067\n",
      "Data columns (total 5 columns):\n",
      " #   Column    Non-Null Count  Dtype         \n",
      "---  ------    --------------  -----         \n",
      " 0   user_id   17973 non-null  int64         \n",
      " 1   distance  17973 non-null  float64       \n",
      " 2   duration  17973 non-null  float64       \n",
      " 3   date      17973 non-null  datetime64[ns]\n",
      " 4   month     17973 non-null  int64         \n",
      "dtypes: datetime64[ns](1), float64(2), int64(2)\n",
      "memory usage: 842.5 KB\n"
     ]
    }
   ],
   "source": [
    "rides.info()"
   ]
  },
  {
   "cell_type": "code",
   "execution_count": 28,
   "id": "9f34b439",
   "metadata": {},
   "outputs": [
    {
     "name": "stdout",
     "output_type": "stream",
     "text": [
      "<class 'pandas.core.frame.DataFrame'>\n",
      "Int64Index: 17973 entries, 0 to 17972\n",
      "Data columns (total 12 columns):\n",
      " #   Column             Non-Null Count  Dtype         \n",
      "---  ------             --------------  -----         \n",
      " 0   user_id            17973 non-null  int64         \n",
      " 1   name               17973 non-null  object        \n",
      " 2   age                17973 non-null  int64         \n",
      " 3   city               17973 non-null  object        \n",
      " 4   subscription_type  17973 non-null  object        \n",
      " 5   distance           17973 non-null  float64       \n",
      " 6   duration           17973 non-null  float64       \n",
      " 7   date               17973 non-null  datetime64[ns]\n",
      " 8   month              17973 non-null  int64         \n",
      " 9   minute_price       17973 non-null  int64         \n",
      " 10  start_ride_price   17973 non-null  int64         \n",
      " 11  subscription_fee   17973 non-null  int64         \n",
      "dtypes: datetime64[ns](1), float64(2), int64(6), object(3)\n",
      "memory usage: 1.8+ MB\n"
     ]
    }
   ],
   "source": [
    "data.info()"
   ]
  },
  {
   "cell_type": "markdown",
   "id": "47a1146c",
   "metadata": {},
   "source": [
    "Создадим два отдельных датафрейма с данными о пользователях с подпиской и без неё."
   ]
  },
  {
   "cell_type": "code",
   "execution_count": 29,
   "id": "8dc7b47d",
   "metadata": {},
   "outputs": [],
   "source": [
    "data_free = data[data['subscription_type'] == 'free'].drop(columns=['subscription_type']).reset_index(drop=True)\n",
    "data_ultra = data[data['subscription_type'] == 'ultra'].drop(columns=['subscription_type']).reset_index(drop=True)"
   ]
  },
  {
   "cell_type": "markdown",
   "id": "ab34c37c",
   "metadata": {},
   "source": [
    "При этом распределение расстояний, проезжаемых пользователями с разными типами поездок, будет различным. Пользователи без подписки демонстрируют более 'расплывающуюся' картину распределения, мода их центрального пика в два раза меньше моды аналогичного пика для пользователей с подпиской `ultra`, и дисперсия этого пика больше. Другой ярковыраженный пик более ярковыраженн у пользователей без подписки: у него больше мода и больше расстояние до медианы большего пика, однако у пользователей с подпиской `ultra` этот пик также обладает меньшей дисперсией."
   ]
  },
  {
   "cell_type": "code",
   "execution_count": 30,
   "id": "b2d7c946",
   "metadata": {},
   "outputs": [
    {
     "data": {
      "text/plain": [
       "Text(0.5, 0, 'расстояние, м')"
      ]
     },
     "execution_count": 30,
     "metadata": {},
     "output_type": "execute_result"
    },
    {
     "data": {
      "image/png": "[encoded data removed]",
      "text/plain": [
       "<Figure size 720x432 with 1 Axes>"
      ]
     },
     "metadata": {
      "needs_background": "light"
     },
     "output_type": "display_data"
    }
   ],
   "source": [
    "(\n",
    "    data_free['distance']\n",
    "    .plot(kind='hist', density=True, histtype='step', color='#2EC4B6', bins=80, linewidth=2, figsize=(10,6))\n",
    ")\n",
    "(\n",
    "    data_ultra['distance']\n",
    "    .plot(kind='hist', density=True, histtype='step', color='#FF9F1C', bins=80, linewidth=2, figsize=(10,6))\n",
    ")\n",
    "plt.legend(['free', 'ultra'])\n",
    "plt.title('Распределения расстояний одной поездки пользователей с различным типом подписки')\n",
    "plt.axvline(data_free.loc[data_free['distance'] < 1500, 'distance'].median(), color='#2EC4B6', linestyle='dashed', linewidth=1)\n",
    "plt.axvline(data_free.loc[data_free['distance'] >= 1500, 'distance'].median(), color='#2EC4B6', linestyle='dashed', linewidth=1)\n",
    "plt.axvline(data_ultra.loc[data_ultra['distance'] < 1900, 'distance'].median(), color='#FF9F1C', linestyle='dashed', linewidth=1)\n",
    "plt.axvline(data_ultra.loc[data_ultra['distance'] >= 1900, 'distance'].median(), color='#FF9F1C', linestyle='dashed', linewidth=1)\n",
    "plt.ylabel('частота', style='italic')\n",
    "plt.xlabel('расстояние, м', style='italic')"
   ]
  },
  {
   "cell_type": "markdown",
   "id": "1051d9b5",
   "metadata": {},
   "source": [
    "Распределение продолжительности поездок у пользоваелей имеют сходие медианы, но мода для распределения пользователей с подпиской `ultra` выше, чем для распределения пользователей без подписки."
   ]
  },
  {
   "cell_type": "code",
   "execution_count": 31,
   "id": "ca0f86d4",
   "metadata": {},
   "outputs": [
    {
     "data": {
      "text/plain": [
       "Text(0.5, 0, 'время, мин')"
      ]
     },
     "execution_count": 31,
     "metadata": {},
     "output_type": "execute_result"
    },
    {
     "data": {
      "image/png": "[encoded data removed]",
      "text/plain": [
       "<Figure size 720x432 with 1 Axes>"
      ]
     },
     "metadata": {
      "needs_background": "light"
     },
     "output_type": "display_data"
    }
   ],
   "source": [
    "(\n",
    "    data_free['duration']\n",
    "    .plot(kind='hist', density=True, histtype='step', color='#2EC4B6', bins=40, linewidth=2, figsize=(10,6))\n",
    ")\n",
    "(\n",
    "    data_ultra['duration']\n",
    "    .plot(kind='hist', density=True, histtype='step', color='#FF9F1C', bins=40, linewidth=2, figsize=(10,6))\n",
    ")\n",
    "plt.legend(['free', 'ultra'])\n",
    "plt.title('Распределения времени одной поездки пользователей с различным типом подписки')\n",
    "plt.axvline(data_free['duration'].median(), color='#2EC4B6', linestyle='dashed', linewidth=1)\n",
    "plt.axvline(data_ultra['duration'].median(), color='#FF9F1C', linestyle='dashed', linewidth=1)\n",
    "plt.ylabel('частота', style='italic')\n",
    "plt.xlabel('время, мин', style='italic')"
   ]
  },
  {
   "cell_type": "markdown",
   "id": "012e50eb",
   "metadata": {},
   "source": [
    "#### Шаг 5. Подсчёт выручки"
   ]
  },
  {
   "cell_type": "markdown",
   "id": "b88fe7dd",
   "metadata": {},
   "source": [
    "Подсчитаем помесячную выручку для каждого пользователя и сохраним информацию о ней в новую таблицу."
   ]
  },
  {
   "cell_type": "code",
   "execution_count": 34,
   "id": "ac62f262",
   "metadata": {},
   "outputs": [
    {
     "data": {
      "text/html": [
       "<div>\n",
       "<style scoped>\n",
       "    .dataframe tbody tr th:only-of-type {\n",
       "        vertical-align: middle;\n",
       "    }\n",
       "\n",
       "    .dataframe tbody tr th {\n",
       "        vertical-align: top;\n",
       "    }\n",
       "\n",
       "    .dataframe thead th {\n",
       "        text-align: right;\n",
       "    }\n",
       "</style>\n",
       "<table border=\"1\" class=\"dataframe\">\n",
       "  <thead>\n",
       "    <tr style=\"text-align: right;\">\n",
       "      <th></th>\n",
       "      <th></th>\n",
       "      <th>distance</th>\n",
       "      <th>duration</th>\n",
       "      <th>count</th>\n",
       "      <th>cash</th>\n",
       "      <th>subscription_type</th>\n",
       "    </tr>\n",
       "    <tr>\n",
       "      <th>month</th>\n",
       "      <th>user_id</th>\n",
       "      <th></th>\n",
       "      <th></th>\n",
       "      <th></th>\n",
       "      <th></th>\n",
       "      <th></th>\n",
       "    </tr>\n",
       "  </thead>\n",
       "  <tbody>\n",
       "    <tr>\n",
       "      <th rowspan=\"5\" valign=\"top\">1</th>\n",
       "      <th>1</th>\n",
       "      <td>7027.511294</td>\n",
       "      <td>41.416640</td>\n",
       "      <td>2</td>\n",
       "      <td>451.0</td>\n",
       "      <td>ultra</td>\n",
       "    </tr>\n",
       "    <tr>\n",
       "      <th>3</th>\n",
       "      <td>3061.777147</td>\n",
       "      <td>12.654443</td>\n",
       "      <td>1</td>\n",
       "      <td>277.0</td>\n",
       "      <td>ultra</td>\n",
       "    </tr>\n",
       "    <tr>\n",
       "      <th>5</th>\n",
       "      <td>3914.646990</td>\n",
       "      <td>12.395153</td>\n",
       "      <td>1</td>\n",
       "      <td>277.0</td>\n",
       "      <td>ultra</td>\n",
       "    </tr>\n",
       "    <tr>\n",
       "      <th>7</th>\n",
       "      <td>6478.080979</td>\n",
       "      <td>27.653450</td>\n",
       "      <td>2</td>\n",
       "      <td>367.0</td>\n",
       "      <td>ultra</td>\n",
       "    </tr>\n",
       "    <tr>\n",
       "      <th>12</th>\n",
       "      <td>3577.151148</td>\n",
       "      <td>32.462907</td>\n",
       "      <td>1</td>\n",
       "      <td>397.0</td>\n",
       "      <td>ultra</td>\n",
       "    </tr>\n",
       "    <tr>\n",
       "      <th>...</th>\n",
       "      <th>...</th>\n",
       "      <td>...</td>\n",
       "      <td>...</td>\n",
       "      <td>...</td>\n",
       "      <td>...</td>\n",
       "      <td>...</td>\n",
       "    </tr>\n",
       "    <tr>\n",
       "      <th rowspan=\"5\" valign=\"top\">12</th>\n",
       "      <th>1525</th>\n",
       "      <td>4597.854350</td>\n",
       "      <td>33.220866</td>\n",
       "      <td>1</td>\n",
       "      <td>322.0</td>\n",
       "      <td>free</td>\n",
       "    </tr>\n",
       "    <tr>\n",
       "      <th>1526</th>\n",
       "      <td>3644.121544</td>\n",
       "      <td>22.665456</td>\n",
       "      <td>1</td>\n",
       "      <td>234.0</td>\n",
       "      <td>free</td>\n",
       "    </tr>\n",
       "    <tr>\n",
       "      <th>1528</th>\n",
       "      <td>3998.569324</td>\n",
       "      <td>10.272902</td>\n",
       "      <td>1</td>\n",
       "      <td>138.0</td>\n",
       "      <td>free</td>\n",
       "    </tr>\n",
       "    <tr>\n",
       "      <th>1532</th>\n",
       "      <td>6111.889853</td>\n",
       "      <td>40.128222</td>\n",
       "      <td>2</td>\n",
       "      <td>436.0</td>\n",
       "      <td>free</td>\n",
       "    </tr>\n",
       "    <tr>\n",
       "      <th>1534</th>\n",
       "      <td>2371.711192</td>\n",
       "      <td>15.893917</td>\n",
       "      <td>1</td>\n",
       "      <td>178.0</td>\n",
       "      <td>free</td>\n",
       "    </tr>\n",
       "  </tbody>\n",
       "</table>\n",
       "<p>11300 rows × 5 columns</p>\n",
       "</div>"
      ],
      "text/plain": [
       "                  distance   duration  count   cash subscription_type\n",
       "month user_id                                                        \n",
       "1     1        7027.511294  41.416640      2  451.0             ultra\n",
       "      3        3061.777147  12.654443      1  277.0             ultra\n",
       "      5        3914.646990  12.395153      1  277.0             ultra\n",
       "      7        6478.080979  27.653450      2  367.0             ultra\n",
       "      12       3577.151148  32.462907      1  397.0             ultra\n",
       "...                    ...        ...    ...    ...               ...\n",
       "12    1525     4597.854350  33.220866      1  322.0              free\n",
       "      1526     3644.121544  22.665456      1  234.0              free\n",
       "      1528     3998.569324  10.272902      1  138.0              free\n",
       "      1532     6111.889853  40.128222      2  436.0              free\n",
       "      1534     2371.711192  15.893917      1  178.0              free\n",
       "\n",
       "[11300 rows x 5 columns]"
      ]
     },
     "execution_count": 34,
     "metadata": {},
     "output_type": "execute_result"
    }
   ],
   "source": [
    "d_cash = pd.pivot_table(data, index=['month', 'user_id'], values=['distance', 'duration'], aggfunc=np.sum)\n",
    "d_cash['count'] = pd.pivot_table(data, index=['month', 'user_id'], values='distance', aggfunc='count')\n",
    "\n",
    "data['cash_time'] = np.ceil(data['duration']) * data['minute_price']\n",
    "t = pd.pivot_table(data, index=['month', 'user_id'], values=['cash_time', 'start_ride_price'], aggfunc=np.sum)\n",
    "t['subscription_fee'] = pd.pivot_table(data, index=['month', 'user_id'], values=['subscription_fee'], aggfunc='first')\n",
    "data.drop(columns='cash_time')\n",
    "\n",
    "d_cash['cash'] = t['start_ride_price'] + t['subscription_fee'] + t['cash_time']\n",
    "del t\n",
    "d_cash['subscription_type'] = pd.pivot_table(data, index=['month', 'user_id'], values=['subscription_type'], aggfunc='first')\n",
    "d_cash"
   ]
  },
  {
   "cell_type": "markdown",
   "id": "48f43725",
   "metadata": {},
   "source": [
    "#### Шаг 6. Проверка гипотез"
   ]
  },
  {
   "cell_type": "markdown",
   "id": "5f560bca",
   "metadata": {},
   "source": [
    "Сравним средние времена поездок пользователей с подпиской `ultra` и без неё. В качестве погрешности будем использовать одно стандартное отклонение, примерно оценённое поправкой Бесселя."
   ]
  },
  {
   "cell_type": "code",
   "execution_count": 35,
   "id": "0cb7ae78",
   "metadata": {},
   "outputs": [
    {
     "name": "stdout",
     "output_type": "stream",
     "text": [
      "18.54198516280583 31.04772258362432\n"
     ]
    }
   ],
   "source": [
    "s = 0\n",
    "for i in data_ultra['duration']:\n",
    "    s = s + (i - data_ultra['duration'].mean()) ** 2\n",
    "print(data_ultra['duration'].mean(), s / (len(data_ultra['duration']) - 1))"
   ]
  },
  {
   "cell_type": "code",
   "execution_count": 36,
   "id": "55667407",
   "metadata": {},
   "outputs": [
    {
     "name": "stdout",
     "output_type": "stream",
     "text": [
      "17.530771268800226 37.97774631872502\n"
     ]
    }
   ],
   "source": [
    "s = 0\n",
    "for i in data_free['duration']:\n",
    "    s = s + (i - data_free['duration'].mean()) ** 2\n",
    "print(data_free['duration'].mean(), s / (len(data_free['duration']) - 1))"
   ]
  },
  {
   "cell_type": "markdown",
   "id": "9959f099",
   "metadata": {},
   "source": [
    "Средние времена поездок различаются не сильно. Проверим также тратят ли пользователи с подпиской больше времени на поездки, поскольку такие пользователи могут принести большую прибыль компании.\n",
    "Нулевая гипотеза такой проверки будет заключаться в том что среднее время поездки пользователей с подпиской `ultra` будет равно среднму времени поездки пользователей без подписки. Альтернативная гипотеза будет заключаться в том, что среднее время поездки пользователей с подпиской `ultra` будет больше среднего времени поездки пользователей без подписки."
   ]
  },
  {
   "cell_type": "code",
   "execution_count": 37,
   "id": "b493751f",
   "metadata": {},
   "outputs": [
    {
     "name": "stdout",
     "output_type": "stream",
     "text": [
      "p-значение: 1.6162210195311063e-29\n",
      "В среднем пользователи с подпиской `ultra` тратят больше времени на поездки, чем пользователи без подписки.\n"
     ]
    }
   ],
   "source": [
    "alpha = 0.05 \n",
    "\n",
    "results = st.ttest_ind(data_ultra['duration'], data_free['duration'], equal_var=False, alternative='greater')\n",
    "\n",
    "print('p-значение:', results.pvalue)\n",
    "\n",
    "if results.pvalue < alpha:\n",
    "    print('В среднем пользователи с подпиской `ultra` тратят больше времени на поездки, чем пользователи без подписки.')\n",
    "else:\n",
    "    print('В среднем пользователи с подпиской `ultra` тратят НЕ больше времени на поездки, чем пользователи без подписки.') "
   ]
  },
  {
   "cell_type": "markdown",
   "id": "d9d61505",
   "metadata": {},
   "source": [
    "Кроме того найдём среднюю по пользоватетелям и среднюю по поездкам разницу во времени поездок между людьми с подпиской `ultra` и без неё."
   ]
  },
  {
   "cell_type": "code",
   "execution_count": 38,
   "id": "0950b5dc",
   "metadata": {},
   "outputs": [
    {
     "data": {
      "text/plain": [
       "Text(0.5, 0, 'месяц')"
      ]
     },
     "execution_count": 38,
     "metadata": {},
     "output_type": "execute_result"
    },
    {
     "data": {
      "image/png": "[encoded data removed]",
      "text/plain": [
       "<Figure size 720x432 with 1 Axes>"
      ]
     },
     "metadata": {
      "needs_background": "light"
     },
     "output_type": "display_data"
    }
   ],
   "source": [
    "(\n",
    "    (pd.pivot_table(d_cash[d_cash['subscription_type'] == 'ultra'], index=['month'], values='duration', aggfunc='mean') - pd.pivot_table(d_cash[d_cash['subscription_type'] == 'free'], index=['month'], values='duration', aggfunc='mean'))\n",
    "    .plot(kind='bar', figsize=(10,6), align='center')\n",
    ")\n",
    "plt.legend(['ultra - free'])\n",
    "plt.title('Разница во времени поездок между людьми с подпиской ultra и без неё')\n",
    "plt.axhline((pd.pivot_table(d_cash[d_cash['subscription_type'] == 'ultra'], index=['month'], values='duration', aggfunc='mean') - pd.pivot_table(d_cash[d_cash['subscription_type'] == 'free'], index=['month'], values='duration', aggfunc='mean')).mean()['duration'], color='k', linestyle='dashed', linewidth=1)\n",
    "plt.ylabel('разница среднего по пользователям, мин', style='italic')\n",
    "plt.xlabel('месяц', style='italic')"
   ]
  },
  {
   "cell_type": "markdown",
   "id": "7f4b7655",
   "metadata": {},
   "source": [
    "В среднем пользователи без подписки проводят больше времени в поездке, чем пользователи без неё. Это справедливо для каждого из представленных месяцев."
   ]
  },
  {
   "cell_type": "code",
   "execution_count": 39,
   "id": "5de2f37a",
   "metadata": {},
   "outputs": [
    {
     "data": {
      "text/plain": [
       "Text(0.5, 0, 'месяц')"
      ]
     },
     "execution_count": 39,
     "metadata": {},
     "output_type": "execute_result"
    },
    {
     "data": {
      "image/png": "[encoded data removed]",
      "text/plain": [
       "<Figure size 720x432 with 1 Axes>"
      ]
     },
     "metadata": {
      "needs_background": "light"
     },
     "output_type": "display_data"
    }
   ],
   "source": [
    "(\n",
    "    (pd.pivot_table(d_cash[d_cash['subscription_type'] == 'ultra'], index=['month'], values='duration', aggfunc='sum')['duration'] / pd.pivot_table(d_cash[d_cash['subscription_type'] == 'ultra'], index=['month'], values='count', aggfunc='sum')['count'] - pd.pivot_table(d_cash[d_cash['subscription_type'] == 'free'], index=['month'], values='duration', aggfunc='sum')['duration'] / pd.pivot_table(d_cash[d_cash['subscription_type'] == 'free'], index=['month'], values='count', aggfunc='sum')['count'])\n",
    "    .plot(kind='bar', figsize=(10,6), align='center')\n",
    ")\n",
    "plt.legend(['ultra - free'])\n",
    "plt.title('Разница во времени поездок между поездками для людей с подпиской ultra и без неё')\n",
    "plt.axhline((pd.pivot_table(d_cash[d_cash['subscription_type'] == 'ultra'], index=['month'], values='duration', aggfunc='sum')['duration'] / pd.pivot_table(d_cash[d_cash['subscription_type'] == 'ultra'], index=['month'], values='count', aggfunc='sum')['count'] - pd.pivot_table(d_cash[d_cash['subscription_type'] == 'free'], index=['month'], values='duration', aggfunc='sum')['duration'] / pd.pivot_table(d_cash[d_cash['subscription_type'] == 'free'], index=['month'], values='count', aggfunc='sum')['count']).mean(), color='k', linestyle='dashed', linewidth=1)\n",
    "plt.ylabel('разница среднего по поездкам, мин', style='italic')\n",
    "plt.xlabel('месяц', style='italic')"
   ]
  },
  {
   "cell_type": "markdown",
   "id": "dbfdc5a9",
   "metadata": {},
   "source": [
    "Хоть пользователи без подписки и проводят больше времени в поездках, чем пользователи с подпиской, но сами их поездки в среднем короче по времени, чем поездки пользователей с подпиской. Это справедливо для каждого из месяцев."
   ]
  },
  {
   "cell_type": "markdown",
   "id": "4aacbcd7",
   "metadata": {},
   "source": [
    "---"
   ]
  },
  {
   "cell_type": "markdown",
   "id": "b3ff69c3",
   "metadata": {},
   "source": [
    "Для каждого месяца проверим, приносят ли пользователи с подпиской больше прибыли, чем пользователи без неё. Нулевая гипотеза такой проверки будет заключаться в том что для каждого месяца средняя прибыль пользователей с подпиской `ultra` будет равна средней прибыли пользователей без подписки. Альтернативная гипотеза будет заключаться в том, что для каждого месяца средняя время прибыль пользователей с подпиской `ultra` будет больше средней прибыли пользователей без подписки."
   ]
  },
  {
   "cell_type": "code",
   "execution_count": 40,
   "id": "9790854c",
   "metadata": {
    "scrolled": true
   },
   "outputs": [
    {
     "name": "stdout",
     "output_type": "stream",
     "text": [
      "p-значение: 2.4970242872858465e-38\n",
      "В среднем пользователи с подпиской `ultra` приносят больше прибыли, чем пользователи без подписки.\n"
     ]
    }
   ],
   "source": [
    "alpha = 0.05\n",
    "\n",
    "results = st.ttest_ind(d_cash.reset_index().loc[(d_cash.reset_index()['subscription_type'] == 'ultra'), 'cash'], d_cash.reset_index().loc[(d_cash.reset_index()['subscription_type'] == 'free'), 'cash'], equal_var=False, alternative='greater')\n",
    "    \n",
    "print('p-значение:', results.pvalue)\n",
    "\n",
    "if results.pvalue < alpha:\n",
    "    print('В среднем пользователи с подпиской `ultra` приносят больше прибыли, чем пользователи без подписки.')\n",
    "else:\n",
    "    print('В среднем пользователи с подпиской `ultra` приносят НЕ больше прибыли, чем пользователи без подписки.') "
   ]
  },
  {
   "cell_type": "code",
   "execution_count": 41,
   "id": "9e2ea697",
   "metadata": {},
   "outputs": [
    {
     "name": "stdout",
     "output_type": "stream",
     "text": [
      "в 1 месяце p-значение: 2.197135572336625e-07\n",
      "Для 1 месяца в среднем пользователи с подпиской `ultra` приносят больше прибыли, чем пользователи без подписки.\n",
      "в 2 месяце p-значение: 3.071554863065948e-05\n",
      "Для 2 месяца в среднем пользователи с подпиской `ultra` приносят больше прибыли, чем пользователи без подписки.\n",
      "в 3 месяце p-значение: 0.009707921212132712\n",
      "Для 3 месяца в среднем пользователи с подпиской `ultra` приносят больше прибыли, чем пользователи без подписки.\n",
      "в 4 месяце p-значение: 0.00025364856368637317\n",
      "Для 4 месяца в среднем пользователи с подпиской `ultra` приносят больше прибыли, чем пользователи без подписки.\n",
      "в 5 месяце p-значение: 4.949306507837134e-06\n",
      "Для 5 месяца в среднем пользователи с подпиской `ultra` приносят больше прибыли, чем пользователи без подписки.\n",
      "в 6 месяце p-значение: 3.514168315971436e-05\n",
      "Для 6 месяца в среднем пользователи с подпиской `ultra` приносят больше прибыли, чем пользователи без подписки.\n",
      "в 7 месяце p-значение: 1.2287779732537339e-05\n",
      "Для 7 месяца в среднем пользователи с подпиской `ultra` приносят больше прибыли, чем пользователи без подписки.\n",
      "в 8 месяце p-значение: 0.0006547051424848554\n",
      "Для 8 месяца в среднем пользователи с подпиской `ultra` приносят больше прибыли, чем пользователи без подписки.\n",
      "в 9 месяце p-значение: 0.0004574089861131934\n",
      "Для 9 месяца в среднем пользователи с подпиской `ultra` приносят больше прибыли, чем пользователи без подписки.\n",
      "в 10 месяце p-значение: 0.0010522289999791326\n",
      "Для 10 месяца в среднем пользователи с подпиской `ultra` приносят больше прибыли, чем пользователи без подписки.\n",
      "в 11 месяце p-значение: 1.858611983713534e-05\n",
      "Для 11 месяца в среднем пользователи с подпиской `ultra` приносят больше прибыли, чем пользователи без подписки.\n",
      "в 12 месяце p-значение: 0.0003191923346535597\n",
      "Для 12 месяца в среднем пользователи с подпиской `ultra` приносят больше прибыли, чем пользователи без подписки.\n"
     ]
    }
   ],
   "source": [
    "alpha = 0.05 \n",
    "\n",
    "for i in range(1,13):\n",
    "    results = st.ttest_ind(d_cash.reset_index().loc[(d_cash.reset_index()['month'] == i) & (d_cash.reset_index()['subscription_type'] == 'ultra'), 'cash'], d_cash.reset_index().loc[(d_cash.reset_index()['month'] == i) & (d_cash.reset_index()['subscription_type'] == 'free'), 'cash'], equal_var=False, alternative='greater')\n",
    "    \n",
    "    print('в', i, 'месяце p-значение:', results.pvalue)\n",
    "\n",
    "    if results.pvalue < alpha:\n",
    "        print('Для', i, 'месяца в среднем пользователи с подпиской `ultra` приносят больше прибыли, чем пользователи без подписки.')\n",
    "    else:\n",
    "        print('Для', i, 'месяца в среднем пользователи с подпиской `ultra` приносят НЕ больше прибыли, чем пользователи без подписки.') "
   ]
  },
  {
   "cell_type": "markdown",
   "id": "1e5f8a4f",
   "metadata": {},
   "source": [
    "Кроме того найдём среднюю по пользоватетелям и среднюю по поездкам разницу в принесённой прибыли между людьми с подпиской `ultra` и без неё."
   ]
  },
  {
   "cell_type": "code",
   "execution_count": 42,
   "id": "a7edc093",
   "metadata": {
    "scrolled": false
   },
   "outputs": [
    {
     "data": {
      "text/plain": [
       "Text(0.5, 0, 'месяц')"
      ]
     },
     "execution_count": 42,
     "metadata": {},
     "output_type": "execute_result"
    },
    {
     "data": {
      "image/png": "[encoded data removed]",
      "text/plain": [
       "<Figure size 720x432 with 1 Axes>"
      ]
     },
     "metadata": {
      "needs_background": "light"
     },
     "output_type": "display_data"
    }
   ],
   "source": [
    "(\n",
    "    (pd.pivot_table(d_cash[d_cash['subscription_type'] == 'ultra'], index=['month'], values='cash', aggfunc='mean') - pd.pivot_table(d_cash[d_cash['subscription_type'] == 'free'], index=['month'], values='cash', aggfunc='mean'))\n",
    "    .plot(kind='bar', figsize=(10,6), align='center')\n",
    ")\n",
    "plt.legend(['ultra - free'])\n",
    "plt.title('Разница в прибылипоездок для людей с подпиской ultra и без неё')\n",
    "plt.axhline((pd.pivot_table(d_cash[d_cash['subscription_type'] == 'ultra'], index=['month'], values='cash', aggfunc='mean') - pd.pivot_table(d_cash[d_cash['subscription_type'] == 'free'], index=['month'], values='cash', aggfunc='mean')).mean()['cash'], color='k', linestyle='dashed', linewidth=1)\n",
    "plt.ylabel('разница среднего по пользователям, руб', style='italic')\n",
    "plt.xlabel('месяц', style='italic')"
   ]
  },
  {
   "cell_type": "markdown",
   "id": "262e3fc1",
   "metadata": {},
   "source": [
    "В среднем пользователи с подпиской приносят больше прибыли, чем пользователи без подписки. Это справедливо для каждого месяца, в особенности для Января."
   ]
  },
  {
   "cell_type": "code",
   "execution_count": 43,
   "id": "76cd562c",
   "metadata": {},
   "outputs": [
    {
     "data": {
      "text/plain": [
       "Text(0.5, 0, 'месяц')"
      ]
     },
     "execution_count": 43,
     "metadata": {},
     "output_type": "execute_result"
    },
    {
     "data": {
      "image/png": "[encoded data removed]",
      "text/plain": [
       "<Figure size 720x432 with 1 Axes>"
      ]
     },
     "metadata": {
      "needs_background": "light"
     },
     "output_type": "display_data"
    }
   ],
   "source": [
    "(\n",
    "    (pd.pivot_table(d_cash[d_cash['subscription_type'] == 'ultra'], index=['month'], values='cash', aggfunc='sum')['cash'] / pd.pivot_table(d_cash[d_cash['subscription_type'] == 'ultra'], index=['month'], values='count', aggfunc='sum')['count'] - pd.pivot_table(d_cash[d_cash['subscription_type'] == 'free'], index=['month'], values='cash', aggfunc='sum')['cash'] / pd.pivot_table(d_cash[d_cash['subscription_type'] == 'free'], index=['month'], values='count', aggfunc='sum')['count'])\n",
    "    .plot(kind='bar', figsize=(10,6), align='center')\n",
    ")\n",
    "plt.legend(['ultra - free'])\n",
    "plt.title('Разница в прибыли между поездками для людей с подпиской ultra и без неё')\n",
    "plt.axhline((pd.pivot_table(d_cash[d_cash['subscription_type'] == 'ultra'], index=['month'], values='cash', aggfunc='sum')['cash'] / pd.pivot_table(d_cash[d_cash['subscription_type'] == 'ultra'], index=['month'], values='count', aggfunc='sum')['count'] - pd.pivot_table(d_cash[d_cash['subscription_type'] == 'free'], index=['month'], values='cash', aggfunc='sum')['cash'] / pd.pivot_table(d_cash[d_cash['subscription_type'] == 'free'], index=['month'], values='count', aggfunc='sum')['count']).mean(), color='k', linestyle='dashed', linewidth=1)\n",
    "plt.ylabel('разница среднего по поездкам, руб', style='italic')\n",
    "plt.xlabel('месяц', style='italic')"
   ]
  },
  {
   "cell_type": "markdown",
   "id": "d548c577",
   "metadata": {},
   "source": [
    "В среднем пользователи с подпиской совершают поездки, приносящие большую прибыль, чем пользователи без подписки."
   ]
  },
  {
   "cell_type": "markdown",
   "id": "972bd031",
   "metadata": {},
   "source": [
    "---"
   ]
  },
  {
   "cell_type": "markdown",
   "id": "322e79dd",
   "metadata": {},
   "source": [
    "Расстояние одной поездки в 3130 метров является оптимальным с точки зрения износа самоката. Проверим, превышают ли пользователи с подпиской это расстояние за одну поездку. Нулевая гипотеза такой проверки будет заключаться в том что среднее расстояние, которое проезжают пользователей с подпиской `ultra` за одну поездку будет равно 3130 метрам. Альтернативная гипотеза будет заключаться в том, что среднее расстояние, которое проезжают пользователей с подпиской `ultra` за одну поездку будет больше 3130 метров."
   ]
  },
  {
   "cell_type": "code",
   "execution_count": 44,
   "id": "d4c3ea72",
   "metadata": {},
   "outputs": [
    {
     "name": "stdout",
     "output_type": "stream",
     "text": [
      "p-значение: 1.061917530430858e-99\n",
      "В среднем пользователи с подпиской `ultra` проезжают расстояние большее 3130 метров\n"
     ]
    }
   ],
   "source": [
    "alpha = 0.05\n",
    "\n",
    "results = st.ttest_1samp(data_ultra.loc[data_ultra['distance'] >= 1900, 'distance'], 3130, alternative = 'greater')\n",
    "\n",
    "print('p-значение:', results.pvalue)\n",
    "\n",
    "if results.pvalue < alpha:\n",
    "    print('В среднем пользователи с подпиской `ultra` проезжают расстояние большее 3130 метров')\n",
    "else:\n",
    "    print('В среднем пользователи с подпиской `ultra` проезжают расстояние НЕ большее 3130 метров')"
   ]
  },
  {
   "cell_type": "code",
   "execution_count": 45,
   "id": "9885093e",
   "metadata": {},
   "outputs": [
    {
     "name": "stdout",
     "output_type": "stream",
     "text": [
      "p-значение: 0.9195368847849785\n",
      "В среднем пользователи с подпиской `ultra` проезжают расстояние НЕ большее 3130 метров\n"
     ]
    }
   ],
   "source": [
    "alpha = 0.05\n",
    "\n",
    "results = st.ttest_1samp(data_ultra['distance'], 3130, alternative = 'greater')\n",
    "\n",
    "print('p-значение:', results.pvalue)\n",
    "\n",
    "if results.pvalue < alpha:\n",
    "    print('В среднем пользователи с подпиской `ultra` проезжают расстояние большее 3130 метров')\n",
    "else:\n",
    "    print('В среднем пользователи с подпиской `ultra` проезжают расстояние НЕ большее 3130 метров')"
   ]
  },
  {
   "cell_type": "markdown",
   "id": "af44b197",
   "metadata": {},
   "source": [
    "Кроме того можено отметить на графике средние величины расстояний, которые проезжают пользователи, превышающие оптимальное значение расстояния с точки зрения износа самоката."
   ]
  },
  {
   "cell_type": "code",
   "execution_count": 46,
   "id": "479c832d",
   "metadata": {},
   "outputs": [
    {
     "data": {
      "text/plain": [
       "Text(0.5, 0, 'расстояние, м')"
      ]
     },
     "execution_count": 46,
     "metadata": {},
     "output_type": "execute_result"
    },
    {
     "data": {
      "image/png": "[encoded data removed]",
      "text/plain": [
       "<Figure size 720x432 with 1 Axes>"
      ]
     },
     "metadata": {
      "needs_background": "light"
     },
     "output_type": "display_data"
    }
   ],
   "source": [
    "(\n",
    "    data_free['distance']\n",
    "    .plot(kind='hist', density=True, histtype='step', color='#2EC4B6', bins=80, linewidth=2, figsize=(10,6))\n",
    ")\n",
    "(\n",
    "    data_ultra['distance']\n",
    "    .plot(kind='hist', density=True, histtype='step', color='#FF9F1C', bins=80, linewidth=2, figsize=(10,6))\n",
    ")\n",
    "plt.legend(['free', 'ultra'])\n",
    "plt.title('Распределения расстояний, которые проезжают пользователи за одну поездку')\n",
    "plt.axvline(data_free.loc[data_free['distance'] < 1500, 'distance'].median(), color='#2EC4B6', linestyle='dashed', linewidth=1)\n",
    "plt.axvline(data_free.loc[data_free['distance'] >= 1500, 'distance'].median(), color='#2EC4B6', linestyle='dashed', linewidth=1)\n",
    "plt.axvline(data_ultra.loc[data_ultra['distance'] < 1900, 'distance'].median(), color='#FF9F1C', linestyle='dashed', linewidth=1)\n",
    "plt.axvline(data_ultra.loc[data_ultra['distance'] >= 1900, 'distance'].median(), color='#FF9F1C', linestyle='dashed', linewidth=1)\n",
    "plt.axvline(3130, color='#E81A1A', linestyle='dashed', linewidth=2)\n",
    "plt.axvline(data_free[data_free['distance'] > 3130].groupby('user_id')['distance'].mean().mean(), color='#2EC4B6', linestyle='dashed', linewidth=2)\n",
    "plt.axvline(data_ultra[data_ultra['distance'] > 3130].groupby('user_id')['distance'].mean().mean(), color='#FF9F1C', linestyle='dashed', linewidth=2)\n",
    "plt.ylabel('частота', style='italic')\n",
    "plt.xlabel('расстояние, м', style='italic')"
   ]
  },
  {
   "cell_type": "markdown",
   "id": "194e64cc",
   "metadata": {},
   "source": [
    "---"
   ]
  },
  {
   "cell_type": "markdown",
   "id": "98d4d90b",
   "metadata": {},
   "source": [
    "Техническая команда сервиса обновила сервера, с которыми взаимодействует мобильное приложение. Она надеется, что из-за этого количество обращений в техподдержку значимо снизилось. Некоторый файл содержит для каждого пользователя данные о количестве обращений до обновления и после него.\n",
    "\n",
    "Для проверки гипотезы об улучшении работы серверов приложения и последующего уменьшения количества обращений в техподдержку необходимо проверить гипотезу о равенстве средних для зависимых выборок данных о количстве обращений до обновления работы серверов и после этого обновлени. Чтобы это сделать можно воспользоваться функцией `st.ttest_rel()`."
   ]
  },
  {
   "cell_type": "markdown",
   "id": "c2b418ef",
   "metadata": {},
   "source": [
    "#### Шаг 7. Распределения"
   ]
  },
  {
   "cell_type": "markdown",
   "id": "5b7804e1",
   "metadata": {},
   "source": [
    "Отделу маркетинга GoFast поставили задачу: нужно провести акцию с раздачей промокодов на один бесплатный месяц подписки, в рамках которой как минимум 100 существующих клиентов должны продлить эту подписку. То есть по завершении периода действия подписки пользователь может либо отказаться от неё, либо продлить, совершив соответствующий платёж. \n",
    "Эта акция уже проводилась ранее и по итогу выяснилось, что после бесплатного пробного периода подписку продлевают 10 % пользователей. Выясним, какое минимальное количество промокодов нужно разослать, чтобы вероятность не выполнить план была примерно 5 %."
   ]
  },
  {
   "cell_type": "code",
   "execution_count": 57,
   "id": "5fec6e5a",
   "metadata": {},
   "outputs": [
    {
     "name": "stdout",
     "output_type": "stream",
     "text": [
      "Для того, чтобы вероятность невыполнения плана в 100 подписок была менее 5% необходимо разослать 1169 промокодов\n"
     ]
    },
    {
     "data": {
      "text/plain": [
       "Text(0.5, 0, 'промокоды, шт.')"
      ]
     },
     "execution_count": 57,
     "metadata": {},
     "output_type": "execute_result"
    },
    {
     "data": {
      "image/png": "[encoded data removed]",
      "text/plain": [
       "<Figure size 720x432 with 1 Axes>"
      ]
     },
     "metadata": {
      "needs_background": "light"
     },
     "output_type": "display_data"
    }
   ],
   "source": [
    "p = 0.1\n",
    "\n",
    "for n in range(200,1800):\n",
    "    mu = n * p\n",
    "    sigma = np.sqrt(n * p * (1 - p))\n",
    "\n",
    "    x = st.norm(mu, sigma) \n",
    "    if (1 - x.cdf(100)) >= 0.95:\n",
    "        print('Для того, чтобы вероятность невыполнения плана в 100 подписок была менее 5% необходимо разослать', n, 'промокодов')\n",
    "        break\n",
    "\n",
    "fig, ax = plt.subplots(figsize=(10,6))\n",
    "x = np.arange(binom.ppf(0.01, n, p), binom.ppf(0.99, n, p))\n",
    "plt.plot(x, binom.pmf(x, n, p))\n",
    "plt.title('Распределение плотности вероятности приобретения пользователями подписки при вероятности невыполнения плана менее 5 %')\n",
    "plt.axvline(100, linestyle='dashed', linewidth=1)\n",
    "plt.ylabel('плотность вероятности', style='italic')\n",
    "plt.xlabel('промокоды, шт.', style='italic')"
   ]
  },
  {
   "cell_type": "markdown",
   "id": "b62783ce",
   "metadata": {},
   "source": [
    "Отдел маркетинга рассылает клиентам push-уведомления в мобильном приложении. Клиенты могут открыть его или не открывать. Известно, что уведомления открывают около 40 % получивших клиентов. Отдел планирует разослать 1 млн уведомлений. С помощью аппроксимации построим график распределения и оценем вероятность того, что уведомление откроют не более 399,5 тыс. пользователей."
   ]
  },
  {
   "cell_type": "code",
   "execution_count": 48,
   "id": "97397798",
   "metadata": {},
   "outputs": [
    {
     "name": "stdout",
     "output_type": "stream",
     "text": [
      "Вероятность того, что уведомление откроет не более 399.5 пользователей равна: 0.48712642829977193\n"
     ]
    },
    {
     "data": {
      "image/png": "[encoded data removed]",
      "text/plain": [
       "<Figure size 720x432 with 1 Axes>"
      ]
     },
     "metadata": {
      "needs_background": "light"
     },
     "output_type": "display_data"
    }
   ],
   "source": [
    "n = 1000\n",
    "p = 0.4\n",
    "\n",
    "x = np.arange(binom.ppf(0.01, n, p), binom.ppf(0.99, n, p))\n",
    "fig, ax = plt.subplots(figsize=(10,6))\n",
    "plt.plot(x, binom.pmf(x, n, p))\n",
    "plt.title('Распределение плотности вероятности открытия клиентами push-уведомлений')\n",
    "plt.axvline(399.5, linestyle='dashed', linewidth=1)\n",
    "plt.ylabel('плотность вероятности', style='italic')\n",
    "plt.xlabel('уведомления, $10^3$ шт.', style='italic')\n",
    "\n",
    "mu = n * p\n",
    "sigma = np.sqrt(n * p * (1 - p))\n",
    "\n",
    "x = st.norm(mu, sigma) \n",
    "\n",
    "print('Вероятность того, что уведомление откроет не более 399.5 пользователей равна:', x.cdf(399.5))"
   ]
  },
  {
   "cell_type": "markdown",
   "id": "f4ddcda1",
   "metadata": {},
   "source": [
    "# Вывод"
   ]
  },
  {
   "cell_type": "markdown",
   "id": "5b417c79",
   "metadata": {},
   "source": [
    "В данной работе были исследованы распределения расстояний, времён и прибыли для пользователей с подпиской `ultra` и без неё.\n",
    "\n",
    "Пользователи с подпиской `ultra` тратят больше денег, но не тратят больше времени на поездки, чем пользователи без такой подписки. Это справедливо для каждого месяца 2021 года. В среднем пользователи с подпиской проезжают расстояние не критичное для износа самоката.\n",
    "\n",
    "Тезисно можно сделать следующие выводы, которые можно сделать после анализа:\n",
    "- В среднем пользователи с подпиской `ultra` тратят больше времени на поездки, чем пользователи без подписки.\n",
    "- Хоть пользователи без подписки и проводят больше времени в поездках, чем пользователи с подпиской, но сами их поездки в среднем короче по времени, чем поездки пользователей с подпиской.\n",
    "- В среднем пользователи с подпиской `ultra` приносят больше прибыли, чем пользователи без подписки.\n",
    "- В среднем пользователи с подпиской совершают поездки, приносящие большую прибыль, чем пользователи без подписки.\n",
    "- В среднем пользователи с подпиской `ultra` проезжают расстояние НЕ большее 3130 метров"
   ]
  }
 ],
 "metadata": {
  "ExecuteTimeLog": [
   {
    "duration": 437,
    "start_time": "2023-08-09T09:32:57.349Z"
   },
   {
    "duration": 136,
    "start_time": "2023-08-09T09:32:57.788Z"
   },
   {
    "duration": 0,
    "start_time": "2023-08-09T09:32:57.927Z"
   },
   {
    "duration": 0,
    "start_time": "2023-08-09T09:32:57.928Z"
   },
   {
    "duration": 0,
    "start_time": "2023-08-09T09:32:57.929Z"
   },
   {
    "duration": 0,
    "start_time": "2023-08-09T09:32:57.930Z"
   },
   {
    "duration": 0,
    "start_time": "2023-08-09T09:32:57.931Z"
   },
   {
    "duration": 0,
    "start_time": "2023-08-09T09:32:57.932Z"
   },
   {
    "duration": 470,
    "start_time": "2023-08-09T09:33:26.248Z"
   },
   {
    "duration": 256,
    "start_time": "2023-08-09T09:33:26.720Z"
   },
   {
    "duration": 18,
    "start_time": "2023-08-09T09:33:26.981Z"
   },
   {
    "duration": 12,
    "start_time": "2023-08-09T09:33:27.001Z"
   },
   {
    "duration": 12,
    "start_time": "2023-08-09T09:33:27.014Z"
   },
   {
    "duration": 29,
    "start_time": "2023-08-09T09:33:27.028Z"
   },
   {
    "duration": 33,
    "start_time": "2023-08-09T09:33:27.063Z"
   },
   {
    "duration": 27,
    "start_time": "2023-08-09T09:33:27.098Z"
   },
   {
    "duration": 47,
    "start_time": "2023-08-09T14:44:38.777Z"
   },
   {
    "duration": 465,
    "start_time": "2023-08-09T14:44:53.458Z"
   },
   {
    "duration": 194,
    "start_time": "2023-08-09T14:44:53.926Z"
   },
   {
    "duration": 20,
    "start_time": "2023-08-09T14:44:54.121Z"
   },
   {
    "duration": 25,
    "start_time": "2023-08-09T14:44:54.143Z"
   },
   {
    "duration": 24,
    "start_time": "2023-08-09T14:44:54.170Z"
   },
   {
    "duration": 45,
    "start_time": "2023-08-09T14:44:54.196Z"
   },
   {
    "duration": 18,
    "start_time": "2023-08-09T14:44:54.244Z"
   },
   {
    "duration": 41,
    "start_time": "2023-08-09T14:44:54.264Z"
   },
   {
    "duration": 63,
    "start_time": "2023-08-09T14:49:39.206Z"
   },
   {
    "duration": 13,
    "start_time": "2023-08-09T14:49:59.974Z"
   },
   {
    "duration": 1441,
    "start_time": "2023-08-09T14:51:35.949Z"
   },
   {
    "duration": 98,
    "start_time": "2023-08-09T14:51:53.271Z"
   },
   {
    "duration": 1472,
    "start_time": "2023-08-09T14:52:02.013Z"
   },
   {
    "duration": 16,
    "start_time": "2023-08-09T14:52:12.744Z"
   },
   {
    "duration": 12,
    "start_time": "2023-08-09T14:52:36.872Z"
   },
   {
    "duration": 6,
    "start_time": "2023-08-09T14:52:59.112Z"
   },
   {
    "duration": 13,
    "start_time": "2023-08-09T14:54:14.315Z"
   },
   {
    "duration": 6,
    "start_time": "2023-08-09T15:04:30.969Z"
   },
   {
    "duration": 23,
    "start_time": "2023-08-09T15:04:49.945Z"
   },
   {
    "duration": 8,
    "start_time": "2023-08-09T15:09:12.987Z"
   },
   {
    "duration": 12,
    "start_time": "2023-08-09T15:09:19.619Z"
   },
   {
    "duration": 8,
    "start_time": "2023-08-09T15:09:47.540Z"
   },
   {
    "duration": 12,
    "start_time": "2023-08-09T15:11:31.299Z"
   },
   {
    "duration": 4,
    "start_time": "2023-08-09T15:12:01.701Z"
   },
   {
    "duration": 5,
    "start_time": "2023-08-09T15:12:06.361Z"
   },
   {
    "duration": 9,
    "start_time": "2023-08-09T15:12:28.869Z"
   },
   {
    "duration": 8,
    "start_time": "2023-08-09T15:12:53.146Z"
   },
   {
    "duration": 12,
    "start_time": "2023-08-09T15:16:03.076Z"
   },
   {
    "duration": 14,
    "start_time": "2023-08-09T15:18:06.625Z"
   },
   {
    "duration": 6,
    "start_time": "2023-08-09T15:18:31.998Z"
   },
   {
    "duration": 13,
    "start_time": "2023-08-09T15:18:39.315Z"
   },
   {
    "duration": 33,
    "start_time": "2023-08-09T15:21:51.845Z"
   },
   {
    "duration": 12,
    "start_time": "2023-08-09T15:22:26.920Z"
   },
   {
    "duration": 20,
    "start_time": "2023-08-09T15:24:26.751Z"
   },
   {
    "duration": 5,
    "start_time": "2023-08-09T15:25:02.368Z"
   },
   {
    "duration": 8,
    "start_time": "2023-08-09T15:25:08.688Z"
   },
   {
    "duration": 4,
    "start_time": "2023-08-09T15:25:25.402Z"
   },
   {
    "duration": 6,
    "start_time": "2023-08-09T15:30:28.991Z"
   },
   {
    "duration": 642,
    "start_time": "2023-08-09T15:49:04.805Z"
   },
   {
    "duration": 133,
    "start_time": "2023-08-09T15:49:21.850Z"
   },
   {
    "duration": 143,
    "start_time": "2023-08-09T15:53:23.352Z"
   },
   {
    "duration": 6,
    "start_time": "2023-08-09T15:54:39.458Z"
   },
   {
    "duration": 9,
    "start_time": "2023-08-09T15:54:52.459Z"
   },
   {
    "duration": 7,
    "start_time": "2023-08-09T15:55:12.360Z"
   },
   {
    "duration": 162,
    "start_time": "2023-08-09T15:55:25.236Z"
   },
   {
    "duration": 230,
    "start_time": "2023-08-09T15:55:57.890Z"
   },
   {
    "duration": 5,
    "start_time": "2023-08-09T16:06:03.709Z"
   },
   {
    "duration": 138,
    "start_time": "2023-08-09T16:06:19.661Z"
   },
   {
    "duration": 6,
    "start_time": "2023-08-09T16:06:30.491Z"
   },
   {
    "duration": 134,
    "start_time": "2023-08-09T16:06:43.963Z"
   },
   {
    "duration": 168,
    "start_time": "2023-08-09T16:07:32.441Z"
   },
   {
    "duration": 120,
    "start_time": "2023-08-09T16:09:02.197Z"
   },
   {
    "duration": 140,
    "start_time": "2023-08-09T16:09:09.186Z"
   },
   {
    "duration": 126,
    "start_time": "2023-08-09T16:09:16.948Z"
   },
   {
    "duration": 112,
    "start_time": "2023-08-09T16:09:23.478Z"
   },
   {
    "duration": 5,
    "start_time": "2023-08-09T16:09:54.903Z"
   },
   {
    "duration": 82,
    "start_time": "2023-08-09T16:10:23.372Z"
   },
   {
    "duration": 109,
    "start_time": "2023-08-09T16:11:24.680Z"
   },
   {
    "duration": 219,
    "start_time": "2023-08-09T16:12:32.526Z"
   },
   {
    "duration": 3,
    "start_time": "2023-08-09T16:12:56.259Z"
   },
   {
    "duration": 162,
    "start_time": "2023-08-09T16:13:00.801Z"
   },
   {
    "duration": 228,
    "start_time": "2023-08-09T16:13:38.436Z"
   },
   {
    "duration": 118,
    "start_time": "2023-08-09T16:14:02.016Z"
   },
   {
    "duration": 6,
    "start_time": "2023-08-09T16:16:00.308Z"
   },
   {
    "duration": 7,
    "start_time": "2023-08-09T16:16:10.508Z"
   },
   {
    "duration": 7,
    "start_time": "2023-08-09T16:16:32.650Z"
   },
   {
    "duration": 5,
    "start_time": "2023-08-09T16:17:37.628Z"
   },
   {
    "duration": 258,
    "start_time": "2023-08-09T16:18:17.570Z"
   },
   {
    "duration": 125,
    "start_time": "2023-08-09T16:20:05.715Z"
   },
   {
    "duration": 77,
    "start_time": "2023-08-09T16:20:15.814Z"
   },
   {
    "duration": 71,
    "start_time": "2023-08-09T16:20:29.004Z"
   },
   {
    "duration": 10,
    "start_time": "2023-08-09T16:22:16.433Z"
   },
   {
    "duration": 119,
    "start_time": "2023-08-09T16:22:37.109Z"
   },
   {
    "duration": 84,
    "start_time": "2023-08-09T16:22:43.503Z"
   },
   {
    "duration": 152,
    "start_time": "2023-08-09T16:24:15.045Z"
   },
   {
    "duration": 102,
    "start_time": "2023-08-09T16:24:19.253Z"
   },
   {
    "duration": 101,
    "start_time": "2023-08-09T16:24:52.953Z"
   },
   {
    "duration": 87,
    "start_time": "2023-08-09T16:25:07.005Z"
   },
   {
    "duration": 83,
    "start_time": "2023-08-09T16:26:29.937Z"
   },
   {
    "duration": 95,
    "start_time": "2023-08-09T16:27:59.317Z"
   },
   {
    "duration": 170,
    "start_time": "2023-08-09T16:32:45.510Z"
   },
   {
    "duration": 326,
    "start_time": "2023-08-09T16:33:42.396Z"
   },
   {
    "duration": 163,
    "start_time": "2023-08-09T16:34:02.003Z"
   },
   {
    "duration": 159,
    "start_time": "2023-08-09T16:34:22.680Z"
   },
   {
    "duration": 79,
    "start_time": "2023-08-09T16:35:29.260Z"
   },
   {
    "duration": 81,
    "start_time": "2023-08-09T16:36:03.208Z"
   },
   {
    "duration": 95,
    "start_time": "2023-08-09T16:36:51.808Z"
   },
   {
    "duration": 107,
    "start_time": "2023-08-09T16:37:26.209Z"
   },
   {
    "duration": 178,
    "start_time": "2023-08-09T16:40:23.885Z"
   },
   {
    "duration": 99,
    "start_time": "2023-08-09T16:40:29.721Z"
   },
   {
    "duration": 78,
    "start_time": "2023-08-09T16:41:21.182Z"
   },
   {
    "duration": 82,
    "start_time": "2023-08-09T16:41:29.977Z"
   },
   {
    "duration": 85,
    "start_time": "2023-08-09T16:41:42.840Z"
   },
   {
    "duration": 79,
    "start_time": "2023-08-09T16:41:58.839Z"
   },
   {
    "duration": 75,
    "start_time": "2023-08-09T16:42:44.817Z"
   },
   {
    "duration": 79,
    "start_time": "2023-08-09T16:43:20.207Z"
   },
   {
    "duration": 14,
    "start_time": "2023-08-09T16:45:09.743Z"
   },
   {
    "duration": 11,
    "start_time": "2023-08-09T16:45:17.632Z"
   },
   {
    "duration": 250,
    "start_time": "2023-08-09T16:45:23.043Z"
   },
   {
    "duration": 7,
    "start_time": "2023-08-09T16:45:41.686Z"
   },
   {
    "duration": 12,
    "start_time": "2023-08-09T16:46:06.026Z"
   },
   {
    "duration": 8,
    "start_time": "2023-08-09T16:46:44.614Z"
   },
   {
    "duration": 338,
    "start_time": "2023-08-09T16:46:54.345Z"
   },
   {
    "duration": 337,
    "start_time": "2023-08-09T16:47:22.603Z"
   },
   {
    "duration": 208,
    "start_time": "2023-08-09T16:47:32.287Z"
   },
   {
    "duration": 289,
    "start_time": "2023-08-09T16:48:13.727Z"
   },
   {
    "duration": 245,
    "start_time": "2023-08-09T16:50:57.200Z"
   },
   {
    "duration": 140,
    "start_time": "2023-08-09T16:51:06.357Z"
   },
   {
    "duration": 247,
    "start_time": "2023-08-09T16:52:15.475Z"
   },
   {
    "duration": 257,
    "start_time": "2023-08-09T16:55:47.427Z"
   },
   {
    "duration": 159,
    "start_time": "2023-08-09T16:57:44.782Z"
   },
   {
    "duration": 129,
    "start_time": "2023-08-09T16:58:03.095Z"
   },
   {
    "duration": 150,
    "start_time": "2023-08-09T16:58:11.460Z"
   },
   {
    "duration": 173,
    "start_time": "2023-08-09T16:58:18.253Z"
   },
   {
    "duration": 204,
    "start_time": "2023-08-09T16:58:51.506Z"
   },
   {
    "duration": 141,
    "start_time": "2023-08-09T16:59:08.119Z"
   },
   {
    "duration": 260,
    "start_time": "2023-08-09T16:59:35.244Z"
   },
   {
    "duration": 137,
    "start_time": "2023-08-09T17:00:00.148Z"
   },
   {
    "duration": 267,
    "start_time": "2023-08-09T17:00:04.904Z"
   },
   {
    "duration": 244,
    "start_time": "2023-08-09T17:02:28.040Z"
   },
   {
    "duration": 248,
    "start_time": "2023-08-09T17:02:35.832Z"
   },
   {
    "duration": 247,
    "start_time": "2023-08-09T17:02:46.451Z"
   },
   {
    "duration": 247,
    "start_time": "2023-08-09T17:03:03.577Z"
   },
   {
    "duration": 258,
    "start_time": "2023-08-09T17:04:09.479Z"
   },
   {
    "duration": 284,
    "start_time": "2023-08-09T17:04:15.595Z"
   },
   {
    "duration": 272,
    "start_time": "2023-08-09T17:04:26.090Z"
   },
   {
    "duration": 279,
    "start_time": "2023-08-09T17:05:00.557Z"
   },
   {
    "duration": 267,
    "start_time": "2023-08-09T17:06:28.709Z"
   },
   {
    "duration": 266,
    "start_time": "2023-08-09T17:06:52.046Z"
   },
   {
    "duration": 257,
    "start_time": "2023-08-09T17:07:15.958Z"
   },
   {
    "duration": 411,
    "start_time": "2023-08-09T17:11:30.069Z"
   },
   {
    "duration": 11,
    "start_time": "2023-08-09T17:14:46.632Z"
   },
   {
    "duration": 170,
    "start_time": "2023-08-09T17:14:54.743Z"
   },
   {
    "duration": 150,
    "start_time": "2023-08-09T17:15:04.541Z"
   },
   {
    "duration": 11,
    "start_time": "2023-08-09T17:15:41.923Z"
   },
   {
    "duration": 249,
    "start_time": "2023-08-09T17:15:47.076Z"
   },
   {
    "duration": 265,
    "start_time": "2023-08-09T17:15:51.677Z"
   },
   {
    "duration": 274,
    "start_time": "2023-08-09T17:16:54.600Z"
   },
   {
    "duration": 322,
    "start_time": "2023-08-09T17:17:04.067Z"
   },
   {
    "duration": 271,
    "start_time": "2023-08-09T17:17:49.505Z"
   },
   {
    "duration": 91,
    "start_time": "2023-08-09T17:19:35.672Z"
   },
   {
    "duration": 164,
    "start_time": "2023-08-09T17:19:41.719Z"
   },
   {
    "duration": 153,
    "start_time": "2023-08-09T17:19:50.868Z"
   },
   {
    "duration": 274,
    "start_time": "2023-08-09T17:20:19.379Z"
   },
   {
    "duration": 8,
    "start_time": "2023-08-09T17:21:41.156Z"
   },
   {
    "duration": 674,
    "start_time": "2023-08-09T17:22:45.094Z"
   },
   {
    "duration": 68,
    "start_time": "2023-08-09T17:22:45.775Z"
   },
   {
    "duration": 29,
    "start_time": "2023-08-09T17:22:45.845Z"
   },
   {
    "duration": 35,
    "start_time": "2023-08-09T17:22:45.876Z"
   },
   {
    "duration": 60,
    "start_time": "2023-08-09T17:22:45.914Z"
   },
   {
    "duration": 38,
    "start_time": "2023-08-09T17:22:45.976Z"
   },
   {
    "duration": 9,
    "start_time": "2023-08-09T17:22:46.016Z"
   },
   {
    "duration": 33,
    "start_time": "2023-08-09T17:22:46.027Z"
   },
   {
    "duration": 58,
    "start_time": "2023-08-09T17:22:46.066Z"
   },
   {
    "duration": 7,
    "start_time": "2023-08-09T17:22:46.126Z"
   },
   {
    "duration": 15,
    "start_time": "2023-08-09T17:22:46.136Z"
   },
   {
    "duration": 27,
    "start_time": "2023-08-09T17:22:46.152Z"
   },
   {
    "duration": 20,
    "start_time": "2023-08-09T17:22:46.181Z"
   },
   {
    "duration": 217,
    "start_time": "2023-08-09T17:22:46.204Z"
   },
   {
    "duration": 98,
    "start_time": "2023-08-09T17:22:46.423Z"
   },
   {
    "duration": 7,
    "start_time": "2023-08-09T17:22:46.523Z"
   },
   {
    "duration": 302,
    "start_time": "2023-08-09T17:22:46.532Z"
   },
   {
    "duration": 88,
    "start_time": "2023-08-09T17:22:46.836Z"
   },
   {
    "duration": 9,
    "start_time": "2023-08-09T17:23:03.017Z"
   },
   {
    "duration": 171,
    "start_time": "2023-08-09T17:23:23.146Z"
   },
   {
    "duration": 218,
    "start_time": "2023-08-09T17:23:40.530Z"
   },
   {
    "duration": 153,
    "start_time": "2023-08-09T17:23:45.980Z"
   },
   {
    "duration": 188,
    "start_time": "2023-08-09T17:24:19.521Z"
   },
   {
    "duration": 178,
    "start_time": "2023-08-09T17:24:23.546Z"
   },
   {
    "duration": 6,
    "start_time": "2023-08-09T17:25:11.489Z"
   },
   {
    "duration": 5,
    "start_time": "2023-08-09T17:26:04.406Z"
   },
   {
    "duration": 6,
    "start_time": "2023-08-09T17:26:10.081Z"
   },
   {
    "duration": 158,
    "start_time": "2023-08-09T17:26:21.875Z"
   },
   {
    "duration": 175,
    "start_time": "2023-08-09T17:28:13.420Z"
   },
   {
    "duration": 159,
    "start_time": "2023-08-09T17:28:38.711Z"
   },
   {
    "duration": 144,
    "start_time": "2023-08-09T17:29:38.122Z"
   },
   {
    "duration": 144,
    "start_time": "2023-08-09T17:29:47.190Z"
   },
   {
    "duration": 157,
    "start_time": "2023-08-09T17:30:06.020Z"
   },
   {
    "duration": 162,
    "start_time": "2023-08-09T17:30:57.905Z"
   },
   {
    "duration": 355,
    "start_time": "2023-08-09T17:31:40.032Z"
   },
   {
    "duration": 169,
    "start_time": "2023-08-09T17:31:52.380Z"
   },
   {
    "duration": 147,
    "start_time": "2023-08-09T17:32:21.384Z"
   },
   {
    "duration": 146,
    "start_time": "2023-08-09T17:32:28.963Z"
   },
   {
    "duration": 149,
    "start_time": "2023-08-09T17:32:39.846Z"
   },
   {
    "duration": 159,
    "start_time": "2023-08-09T17:33:29.568Z"
   },
   {
    "duration": 167,
    "start_time": "2023-08-09T17:34:39.709Z"
   },
   {
    "duration": 160,
    "start_time": "2023-08-09T17:34:58.545Z"
   },
   {
    "duration": 168,
    "start_time": "2023-08-09T17:35:03.595Z"
   },
   {
    "duration": 151,
    "start_time": "2023-08-09T17:35:55.769Z"
   },
   {
    "duration": 152,
    "start_time": "2023-08-09T17:37:50.797Z"
   },
   {
    "duration": 180,
    "start_time": "2023-08-09T17:37:58.988Z"
   },
   {
    "duration": 183,
    "start_time": "2023-08-09T17:38:17.308Z"
   },
   {
    "duration": 333,
    "start_time": "2023-08-09T17:44:07.479Z"
   },
   {
    "duration": 220,
    "start_time": "2023-08-09T17:44:16.204Z"
   },
   {
    "duration": 251,
    "start_time": "2023-08-09T17:44:30.711Z"
   },
   {
    "duration": 268,
    "start_time": "2023-08-09T17:44:45.277Z"
   },
   {
    "duration": 276,
    "start_time": "2023-08-09T17:44:54.940Z"
   },
   {
    "duration": 302,
    "start_time": "2023-08-09T17:45:12.376Z"
   },
   {
    "duration": 293,
    "start_time": "2023-08-09T17:45:23.713Z"
   },
   {
    "duration": 160,
    "start_time": "2023-08-09T17:47:00.800Z"
   },
   {
    "duration": 224,
    "start_time": "2023-08-09T17:47:29.798Z"
   },
   {
    "duration": 270,
    "start_time": "2023-08-09T17:47:49.473Z"
   },
   {
    "duration": 302,
    "start_time": "2023-08-09T17:48:33.136Z"
   },
   {
    "duration": 7,
    "start_time": "2023-08-09T17:51:56.893Z"
   },
   {
    "duration": 5,
    "start_time": "2023-08-09T17:52:18.539Z"
   },
   {
    "duration": 7,
    "start_time": "2023-08-09T17:53:11.601Z"
   },
   {
    "duration": 7,
    "start_time": "2023-08-09T17:54:04.538Z"
   },
   {
    "duration": 97,
    "start_time": "2023-08-09T17:54:31.036Z"
   },
   {
    "duration": 108,
    "start_time": "2023-08-09T17:58:06.437Z"
   },
   {
    "duration": 99,
    "start_time": "2023-08-09T17:58:15.030Z"
   },
   {
    "duration": 255,
    "start_time": "2023-08-09T18:00:46.590Z"
   },
   {
    "duration": 317,
    "start_time": "2023-08-09T18:01:02.711Z"
   },
   {
    "duration": 308,
    "start_time": "2023-08-09T18:01:12.466Z"
   },
   {
    "duration": 415,
    "start_time": "2023-08-09T18:01:18.625Z"
   },
   {
    "duration": 304,
    "start_time": "2023-08-09T18:01:49.832Z"
   },
   {
    "duration": 258,
    "start_time": "2023-08-09T18:04:37.402Z"
   },
   {
    "duration": 13,
    "start_time": "2023-08-09T18:10:00.736Z"
   },
   {
    "duration": 9,
    "start_time": "2023-08-09T18:10:08.777Z"
   },
   {
    "duration": 9,
    "start_time": "2023-08-09T18:10:43.204Z"
   },
   {
    "duration": 7,
    "start_time": "2023-08-09T18:10:52.190Z"
   },
   {
    "duration": 26,
    "start_time": "2023-08-09T18:12:59.373Z"
   },
   {
    "duration": 646,
    "start_time": "2023-08-09T18:14:54.379Z"
   },
   {
    "duration": 84,
    "start_time": "2023-08-09T18:14:55.028Z"
   },
   {
    "duration": 14,
    "start_time": "2023-08-09T18:14:55.114Z"
   },
   {
    "duration": 19,
    "start_time": "2023-08-09T18:14:55.130Z"
   },
   {
    "duration": 40,
    "start_time": "2023-08-09T18:14:55.152Z"
   },
   {
    "duration": 12,
    "start_time": "2023-08-09T18:14:55.193Z"
   },
   {
    "duration": 10,
    "start_time": "2023-08-09T18:14:55.207Z"
   },
   {
    "duration": 12,
    "start_time": "2023-08-09T18:14:55.218Z"
   },
   {
    "duration": 56,
    "start_time": "2023-08-09T18:14:55.232Z"
   },
   {
    "duration": 16,
    "start_time": "2023-08-09T18:14:55.289Z"
   },
   {
    "duration": 21,
    "start_time": "2023-08-09T18:14:55.307Z"
   },
   {
    "duration": 12,
    "start_time": "2023-08-09T18:14:55.330Z"
   },
   {
    "duration": 38,
    "start_time": "2023-08-09T18:14:55.344Z"
   },
   {
    "duration": 221,
    "start_time": "2023-08-09T18:14:55.385Z"
   },
   {
    "duration": 100,
    "start_time": "2023-08-09T18:14:55.607Z"
   },
   {
    "duration": 309,
    "start_time": "2023-08-09T18:14:55.709Z"
   },
   {
    "duration": 302,
    "start_time": "2023-08-09T18:14:56.020Z"
   },
   {
    "duration": 321,
    "start_time": "2023-08-09T18:14:56.324Z"
   },
   {
    "duration": 28,
    "start_time": "2023-08-09T18:14:56.655Z"
   },
   {
    "duration": 37,
    "start_time": "2023-08-09T18:15:31.647Z"
   },
   {
    "duration": 684,
    "start_time": "2023-08-09T18:16:24.520Z"
   },
   {
    "duration": 79,
    "start_time": "2023-08-09T18:16:25.206Z"
   },
   {
    "duration": 12,
    "start_time": "2023-08-09T18:16:25.287Z"
   },
   {
    "duration": 12,
    "start_time": "2023-08-09T18:16:25.302Z"
   },
   {
    "duration": 12,
    "start_time": "2023-08-09T18:16:25.316Z"
   },
   {
    "duration": 12,
    "start_time": "2023-08-09T18:16:25.330Z"
   },
   {
    "duration": 7,
    "start_time": "2023-08-09T18:16:25.344Z"
   },
   {
    "duration": 42,
    "start_time": "2023-08-09T18:16:25.353Z"
   },
   {
    "duration": 12,
    "start_time": "2023-08-09T18:16:25.397Z"
   },
   {
    "duration": 5,
    "start_time": "2023-08-09T18:16:25.412Z"
   },
   {
    "duration": 11,
    "start_time": "2023-08-09T18:16:25.419Z"
   },
   {
    "duration": 4,
    "start_time": "2023-08-09T18:16:25.432Z"
   },
   {
    "duration": 6,
    "start_time": "2023-08-09T18:16:25.437Z"
   },
   {
    "duration": 215,
    "start_time": "2023-08-09T18:16:25.444Z"
   },
   {
    "duration": 124,
    "start_time": "2023-08-09T18:16:25.664Z"
   },
   {
    "duration": 317,
    "start_time": "2023-08-09T18:16:25.791Z"
   },
   {
    "duration": 316,
    "start_time": "2023-08-09T18:16:26.110Z"
   },
   {
    "duration": 334,
    "start_time": "2023-08-09T18:16:26.428Z"
   },
   {
    "duration": 22,
    "start_time": "2023-08-09T18:16:26.766Z"
   },
   {
    "duration": 21,
    "start_time": "2023-08-09T18:21:01.708Z"
   },
   {
    "duration": 22,
    "start_time": "2023-08-09T18:21:54.480Z"
   },
   {
    "duration": 10,
    "start_time": "2023-08-09T18:22:37.192Z"
   },
   {
    "duration": 16,
    "start_time": "2023-08-09T18:43:50.716Z"
   },
   {
    "duration": 19,
    "start_time": "2023-08-09T18:44:06.793Z"
   },
   {
    "duration": 31,
    "start_time": "2023-08-09T18:44:11.547Z"
   },
   {
    "duration": 87,
    "start_time": "2023-08-09T18:44:57.420Z"
   },
   {
    "duration": 13,
    "start_time": "2023-08-09T18:45:12.892Z"
   },
   {
    "duration": 18,
    "start_time": "2023-08-09T18:45:16.096Z"
   },
   {
    "duration": 295,
    "start_time": "2023-08-09T18:52:55.545Z"
   },
   {
    "duration": 317,
    "start_time": "2023-08-09T18:54:06.034Z"
   },
   {
    "duration": 285,
    "start_time": "2023-08-09T18:58:03.372Z"
   },
   {
    "duration": 319,
    "start_time": "2023-08-09T18:58:19.547Z"
   },
   {
    "duration": 307,
    "start_time": "2023-08-09T18:58:39.021Z"
   },
   {
    "duration": 315,
    "start_time": "2023-08-09T18:59:37.098Z"
   },
   {
    "duration": 280,
    "start_time": "2023-08-09T18:59:44.790Z"
   },
   {
    "duration": 377,
    "start_time": "2023-08-09T19:02:15.628Z"
   },
   {
    "duration": 310,
    "start_time": "2023-08-09T19:06:14.575Z"
   },
   {
    "duration": 320,
    "start_time": "2023-08-09T19:07:51.576Z"
   },
   {
    "duration": 396,
    "start_time": "2023-08-09T19:12:21.800Z"
   },
   {
    "duration": 375,
    "start_time": "2023-08-09T19:21:20.819Z"
   },
   {
    "duration": 70,
    "start_time": "2023-08-10T06:57:49.673Z"
   },
   {
    "duration": 956,
    "start_time": "2023-08-10T06:57:55.449Z"
   },
   {
    "duration": 264,
    "start_time": "2023-08-10T06:57:56.408Z"
   },
   {
    "duration": 18,
    "start_time": "2023-08-10T06:57:56.675Z"
   },
   {
    "duration": 55,
    "start_time": "2023-08-10T06:57:56.696Z"
   },
   {
    "duration": 24,
    "start_time": "2023-08-10T06:57:56.754Z"
   },
   {
    "duration": 34,
    "start_time": "2023-08-10T06:57:56.780Z"
   },
   {
    "duration": 35,
    "start_time": "2023-08-10T06:57:56.818Z"
   },
   {
    "duration": 24,
    "start_time": "2023-08-10T06:57:56.855Z"
   },
   {
    "duration": 10,
    "start_time": "2023-08-10T06:57:56.881Z"
   },
   {
    "duration": 32,
    "start_time": "2023-08-10T06:57:56.894Z"
   },
   {
    "duration": 16,
    "start_time": "2023-08-10T06:57:56.933Z"
   },
   {
    "duration": 5,
    "start_time": "2023-08-10T06:57:56.951Z"
   },
   {
    "duration": 9,
    "start_time": "2023-08-10T06:57:56.958Z"
   },
   {
    "duration": 250,
    "start_time": "2023-08-10T06:57:56.968Z"
   },
   {
    "duration": 113,
    "start_time": "2023-08-10T06:57:57.220Z"
   },
   {
    "duration": 311,
    "start_time": "2023-08-10T06:57:57.339Z"
   },
   {
    "duration": 278,
    "start_time": "2023-08-10T06:57:57.651Z"
   },
   {
    "duration": 366,
    "start_time": "2023-08-10T06:57:57.934Z"
   },
   {
    "duration": 24,
    "start_time": "2023-08-10T06:57:58.309Z"
   },
   {
    "duration": 13,
    "start_time": "2023-08-10T06:57:58.335Z"
   },
   {
    "duration": 344,
    "start_time": "2023-08-10T06:57:58.350Z"
   },
   {
    "duration": 350,
    "start_time": "2023-08-10T06:57:58.697Z"
   },
   {
    "duration": 17,
    "start_time": "2023-08-10T06:57:59.049Z"
   },
   {
    "duration": 102,
    "start_time": "2023-08-10T07:07:04.131Z"
   },
   {
    "duration": 828,
    "start_time": "2023-08-10T07:07:10.336Z"
   },
   {
    "duration": 85,
    "start_time": "2023-08-10T07:07:11.166Z"
   },
   {
    "duration": 13,
    "start_time": "2023-08-10T07:07:11.253Z"
   },
   {
    "duration": 14,
    "start_time": "2023-08-10T07:07:11.268Z"
   },
   {
    "duration": 45,
    "start_time": "2023-08-10T07:07:11.284Z"
   },
   {
    "duration": 20,
    "start_time": "2023-08-10T07:07:11.332Z"
   },
   {
    "duration": 7,
    "start_time": "2023-08-10T07:07:11.354Z"
   },
   {
    "duration": 14,
    "start_time": "2023-08-10T07:07:11.362Z"
   },
   {
    "duration": 13,
    "start_time": "2023-08-10T07:07:11.377Z"
   },
   {
    "duration": 16,
    "start_time": "2023-08-10T07:07:11.392Z"
   },
   {
    "duration": 44,
    "start_time": "2023-08-10T07:07:11.413Z"
   },
   {
    "duration": 6,
    "start_time": "2023-08-10T07:07:11.461Z"
   },
   {
    "duration": 19,
    "start_time": "2023-08-10T07:07:11.469Z"
   },
   {
    "duration": 270,
    "start_time": "2023-08-10T07:07:11.490Z"
   },
   {
    "duration": 114,
    "start_time": "2023-08-10T07:07:11.762Z"
   },
   {
    "duration": 312,
    "start_time": "2023-08-10T07:07:11.878Z"
   },
   {
    "duration": 332,
    "start_time": "2023-08-10T07:07:12.195Z"
   },
   {
    "duration": 372,
    "start_time": "2023-08-10T07:07:12.529Z"
   },
   {
    "duration": 29,
    "start_time": "2023-08-10T07:07:12.903Z"
   },
   {
    "duration": 32,
    "start_time": "2023-08-10T07:07:12.939Z"
   },
   {
    "duration": 395,
    "start_time": "2023-08-10T07:07:12.973Z"
   },
   {
    "duration": 370,
    "start_time": "2023-08-10T07:07:13.370Z"
   },
   {
    "duration": 76,
    "start_time": "2023-08-10T07:07:57.181Z"
   },
   {
    "duration": 800,
    "start_time": "2023-08-10T07:08:03.284Z"
   },
   {
    "duration": 264,
    "start_time": "2023-08-10T07:08:04.086Z"
   },
   {
    "duration": 17,
    "start_time": "2023-08-10T07:08:04.352Z"
   },
   {
    "duration": 69,
    "start_time": "2023-08-10T07:08:04.370Z"
   },
   {
    "duration": 31,
    "start_time": "2023-08-10T07:08:04.442Z"
   },
   {
    "duration": 22,
    "start_time": "2023-08-10T07:08:04.475Z"
   },
   {
    "duration": 43,
    "start_time": "2023-08-10T07:08:04.500Z"
   },
   {
    "duration": 25,
    "start_time": "2023-08-10T07:08:04.546Z"
   },
   {
    "duration": 67,
    "start_time": "2023-08-10T07:08:04.573Z"
   },
   {
    "duration": 34,
    "start_time": "2023-08-10T07:08:04.642Z"
   },
   {
    "duration": 20,
    "start_time": "2023-08-10T07:08:04.678Z"
   },
   {
    "duration": 7,
    "start_time": "2023-08-10T07:08:04.700Z"
   },
   {
    "duration": 25,
    "start_time": "2023-08-10T07:08:04.717Z"
   },
   {
    "duration": 237,
    "start_time": "2023-08-10T07:08:04.745Z"
   },
   {
    "duration": 126,
    "start_time": "2023-08-10T07:08:04.984Z"
   },
   {
    "duration": 301,
    "start_time": "2023-08-10T07:08:05.112Z"
   },
   {
    "duration": 320,
    "start_time": "2023-08-10T07:08:05.415Z"
   },
   {
    "duration": 351,
    "start_time": "2023-08-10T07:08:05.737Z"
   },
   {
    "duration": 23,
    "start_time": "2023-08-10T07:08:06.094Z"
   },
   {
    "duration": 26,
    "start_time": "2023-08-10T07:08:06.119Z"
   },
   {
    "duration": 398,
    "start_time": "2023-08-10T07:08:06.147Z"
   },
   {
    "duration": 399,
    "start_time": "2023-08-10T07:08:06.548Z"
   },
   {
    "duration": 31,
    "start_time": "2023-08-10T07:08:06.951Z"
   },
   {
    "duration": 24,
    "start_time": "2023-08-10T07:09:06.223Z"
   },
   {
    "duration": 124,
    "start_time": "2023-08-10T07:14:44.415Z"
   },
   {
    "duration": 26,
    "start_time": "2023-08-10T07:15:05.987Z"
   },
   {
    "duration": 36,
    "start_time": "2023-08-10T07:15:18.623Z"
   },
   {
    "duration": 42,
    "start_time": "2023-08-10T07:15:44.852Z"
   },
   {
    "duration": 50,
    "start_time": "2023-08-10T07:15:53.582Z"
   },
   {
    "duration": 60,
    "start_time": "2023-08-10T07:16:24.492Z"
   },
   {
    "duration": 26,
    "start_time": "2023-08-10T07:17:04.465Z"
   },
   {
    "duration": 33,
    "start_time": "2023-08-10T07:17:44.271Z"
   },
   {
    "duration": 42,
    "start_time": "2023-08-10T07:19:38.691Z"
   },
   {
    "duration": 46,
    "start_time": "2023-08-10T07:19:54.414Z"
   },
   {
    "duration": 2429,
    "start_time": "2023-08-10T07:20:20.330Z"
   },
   {
    "duration": 56,
    "start_time": "2023-08-10T07:20:26.782Z"
   },
   {
    "duration": 32,
    "start_time": "2023-08-10T07:21:15.572Z"
   },
   {
    "duration": 23,
    "start_time": "2023-08-10T07:21:51.962Z"
   },
   {
    "duration": 31,
    "start_time": "2023-08-10T07:23:20.334Z"
   },
   {
    "duration": 12698,
    "start_time": "2023-08-10T07:29:52.469Z"
   },
   {
    "duration": 20,
    "start_time": "2023-08-10T07:30:16.165Z"
   },
   {
    "duration": 13978,
    "start_time": "2023-08-10T07:31:17.534Z"
   },
   {
    "duration": 7,
    "start_time": "2023-08-10T07:35:20.273Z"
   },
   {
    "duration": 6,
    "start_time": "2023-08-10T07:36:13.680Z"
   },
   {
    "duration": 6,
    "start_time": "2023-08-10T07:36:30.840Z"
   },
   {
    "duration": 5,
    "start_time": "2023-08-10T07:37:16.864Z"
   },
   {
    "duration": 8,
    "start_time": "2023-08-10T07:37:32.062Z"
   },
   {
    "duration": 43,
    "start_time": "2023-08-10T07:50:18.980Z"
   },
   {
    "duration": 23,
    "start_time": "2023-08-10T07:57:17.172Z"
   },
   {
    "duration": 44,
    "start_time": "2023-08-10T07:58:13.477Z"
   },
   {
    "duration": 1797,
    "start_time": "2023-08-10T08:05:24.071Z"
   },
   {
    "duration": 727,
    "start_time": "2023-08-10T08:05:42.122Z"
   },
   {
    "duration": 90,
    "start_time": "2023-08-10T08:05:42.851Z"
   },
   {
    "duration": 14,
    "start_time": "2023-08-10T08:05:42.945Z"
   },
   {
    "duration": 80,
    "start_time": "2023-08-10T08:05:42.962Z"
   },
   {
    "duration": 18,
    "start_time": "2023-08-10T08:05:43.044Z"
   },
   {
    "duration": 13,
    "start_time": "2023-08-10T08:05:43.064Z"
   },
   {
    "duration": 79,
    "start_time": "2023-08-10T08:05:43.079Z"
   },
   {
    "duration": 18,
    "start_time": "2023-08-10T08:05:43.159Z"
   },
   {
    "duration": 11,
    "start_time": "2023-08-10T08:05:43.178Z"
   },
   {
    "duration": 46,
    "start_time": "2023-08-10T08:05:43.191Z"
   },
   {
    "duration": 11,
    "start_time": "2023-08-10T08:05:43.239Z"
   },
   {
    "duration": 4,
    "start_time": "2023-08-10T08:05:43.252Z"
   },
   {
    "duration": 4,
    "start_time": "2023-08-10T08:05:43.259Z"
   },
   {
    "duration": 209,
    "start_time": "2023-08-10T08:05:43.264Z"
   },
   {
    "duration": 106,
    "start_time": "2023-08-10T08:05:43.475Z"
   },
   {
    "duration": 277,
    "start_time": "2023-08-10T08:05:43.582Z"
   },
   {
    "duration": 325,
    "start_time": "2023-08-10T08:05:43.860Z"
   },
   {
    "duration": 312,
    "start_time": "2023-08-10T08:05:44.187Z"
   },
   {
    "duration": 23,
    "start_time": "2023-08-10T08:05:44.501Z"
   },
   {
    "duration": 29,
    "start_time": "2023-08-10T08:05:44.526Z"
   },
   {
    "duration": 389,
    "start_time": "2023-08-10T08:05:44.556Z"
   },
   {
    "duration": 377,
    "start_time": "2023-08-10T08:05:44.947Z"
   },
   {
    "duration": 31,
    "start_time": "2023-08-10T08:05:45.328Z"
   },
   {
    "duration": 1860,
    "start_time": "2023-08-10T08:05:45.360Z"
   },
   {
    "duration": 32,
    "start_time": "2023-08-10T08:06:08.679Z"
   },
   {
    "duration": 28,
    "start_time": "2023-08-10T08:06:48.425Z"
   },
   {
    "duration": 37,
    "start_time": "2023-08-10T08:08:39.435Z"
   },
   {
    "duration": 45,
    "start_time": "2023-08-10T08:09:49.817Z"
   },
   {
    "duration": 17,
    "start_time": "2023-08-10T08:09:59.837Z"
   },
   {
    "duration": 44,
    "start_time": "2023-08-10T08:10:05.977Z"
   },
   {
    "duration": 64,
    "start_time": "2023-08-10T08:11:14.792Z"
   },
   {
    "duration": 42,
    "start_time": "2023-08-10T08:11:23.935Z"
   },
   {
    "duration": 83,
    "start_time": "2023-08-10T08:14:18.291Z"
   },
   {
    "duration": 907,
    "start_time": "2023-08-10T08:17:30.670Z"
   },
   {
    "duration": 92,
    "start_time": "2023-08-10T08:17:31.579Z"
   },
   {
    "duration": 16,
    "start_time": "2023-08-10T08:17:31.673Z"
   },
   {
    "duration": 72,
    "start_time": "2023-08-10T08:17:31.691Z"
   },
   {
    "duration": 25,
    "start_time": "2023-08-10T08:17:31.766Z"
   },
   {
    "duration": 84,
    "start_time": "2023-08-10T08:17:31.794Z"
   },
   {
    "duration": 98,
    "start_time": "2023-08-10T08:17:31.880Z"
   },
   {
    "duration": 37,
    "start_time": "2023-08-10T08:17:31.980Z"
   },
   {
    "duration": 72,
    "start_time": "2023-08-10T08:17:32.019Z"
   },
   {
    "duration": 94,
    "start_time": "2023-08-10T08:17:32.093Z"
   },
   {
    "duration": 81,
    "start_time": "2023-08-10T08:17:32.190Z"
   },
   {
    "duration": 11,
    "start_time": "2023-08-10T08:17:32.274Z"
   },
   {
    "duration": 40,
    "start_time": "2023-08-10T08:17:32.287Z"
   },
   {
    "duration": 414,
    "start_time": "2023-08-10T08:17:32.330Z"
   },
   {
    "duration": 146,
    "start_time": "2023-08-10T08:17:32.747Z"
   },
   {
    "duration": 358,
    "start_time": "2023-08-10T08:17:32.897Z"
   },
   {
    "duration": 362,
    "start_time": "2023-08-10T08:17:33.258Z"
   },
   {
    "duration": 426,
    "start_time": "2023-08-10T08:17:33.630Z"
   },
   {
    "duration": 21,
    "start_time": "2023-08-10T08:17:34.058Z"
   },
   {
    "duration": 13,
    "start_time": "2023-08-10T08:17:34.081Z"
   },
   {
    "duration": 398,
    "start_time": "2023-08-10T08:17:34.096Z"
   },
   {
    "duration": 400,
    "start_time": "2023-08-10T08:17:34.505Z"
   },
   {
    "duration": 117,
    "start_time": "2023-08-10T08:17:34.911Z"
   },
   {
    "duration": 33,
    "start_time": "2023-08-10T08:37:04.826Z"
   },
   {
    "duration": 15,
    "start_time": "2023-08-10T08:37:38.777Z"
   },
   {
    "duration": 41,
    "start_time": "2023-08-10T08:38:33.590Z"
   },
   {
    "duration": 474,
    "start_time": "2023-08-10T08:42:17.252Z"
   },
   {
    "duration": 473,
    "start_time": "2023-08-10T08:43:16.792Z"
   },
   {
    "duration": 824,
    "start_time": "2023-08-10T08:44:22.338Z"
   },
   {
    "duration": 92,
    "start_time": "2023-08-10T08:44:23.165Z"
   },
   {
    "duration": 14,
    "start_time": "2023-08-10T08:44:23.258Z"
   },
   {
    "duration": 15,
    "start_time": "2023-08-10T08:44:23.273Z"
   },
   {
    "duration": 42,
    "start_time": "2023-08-10T08:44:23.291Z"
   },
   {
    "duration": 34,
    "start_time": "2023-08-10T08:44:23.336Z"
   },
   {
    "duration": 7,
    "start_time": "2023-08-10T08:44:23.372Z"
   },
   {
    "duration": 11,
    "start_time": "2023-08-10T08:44:23.381Z"
   },
   {
    "duration": 58,
    "start_time": "2023-08-10T08:44:23.393Z"
   },
   {
    "duration": 49,
    "start_time": "2023-08-10T08:44:23.455Z"
   },
   {
    "duration": 76,
    "start_time": "2023-08-10T08:44:23.507Z"
   },
   {
    "duration": 7,
    "start_time": "2023-08-10T08:44:23.585Z"
   },
   {
    "duration": 66,
    "start_time": "2023-08-10T08:44:23.593Z"
   },
   {
    "duration": 322,
    "start_time": "2023-08-10T08:44:23.664Z"
   },
   {
    "duration": 134,
    "start_time": "2023-08-10T08:44:23.988Z"
   },
   {
    "duration": 265,
    "start_time": "2023-08-10T08:44:24.128Z"
   },
   {
    "duration": 370,
    "start_time": "2023-08-10T08:44:24.395Z"
   },
   {
    "duration": 361,
    "start_time": "2023-08-10T08:44:24.771Z"
   },
   {
    "duration": 24,
    "start_time": "2023-08-10T08:44:25.138Z"
   },
   {
    "duration": 13,
    "start_time": "2023-08-10T08:44:25.164Z"
   },
   {
    "duration": 441,
    "start_time": "2023-08-10T08:44:25.179Z"
   },
   {
    "duration": 393,
    "start_time": "2023-08-10T08:44:25.622Z"
   },
   {
    "duration": 91,
    "start_time": "2023-08-10T08:44:26.018Z"
   },
   {
    "duration": 21,
    "start_time": "2023-08-10T08:44:26.112Z"
   },
   {
    "duration": 482,
    "start_time": "2023-08-10T08:44:26.135Z"
   },
   {
    "duration": 24,
    "start_time": "2023-08-10T08:44:37.577Z"
   },
   {
    "duration": 448,
    "start_time": "2023-08-10T08:46:03.014Z"
   },
   {
    "duration": 503,
    "start_time": "2023-08-10T08:46:21.330Z"
   },
   {
    "duration": 495,
    "start_time": "2023-08-10T08:46:59.392Z"
   },
   {
    "duration": 287,
    "start_time": "2023-08-10T08:51:09.319Z"
   },
   {
    "duration": 27,
    "start_time": "2023-08-10T08:52:25.787Z"
   },
   {
    "duration": 26,
    "start_time": "2023-08-10T08:54:24.587Z"
   },
   {
    "duration": 50,
    "start_time": "2023-08-10T08:54:52.190Z"
   },
   {
    "duration": 13,
    "start_time": "2023-08-10T08:55:02.579Z"
   },
   {
    "duration": 399,
    "start_time": "2023-08-10T08:55:39.419Z"
   },
   {
    "duration": 373,
    "start_time": "2023-08-10T08:56:26.687Z"
   },
   {
    "duration": 335,
    "start_time": "2023-08-10T08:57:26.576Z"
   },
   {
    "duration": 336,
    "start_time": "2023-08-10T08:58:07.040Z"
   },
   {
    "duration": 392,
    "start_time": "2023-08-10T09:04:08.835Z"
   },
   {
    "duration": 111,
    "start_time": "2023-08-10T09:04:36.494Z"
   },
   {
    "duration": 34,
    "start_time": "2023-08-10T09:04:48.637Z"
   },
   {
    "duration": 34,
    "start_time": "2023-08-10T09:04:57.074Z"
   },
   {
    "duration": 74,
    "start_time": "2023-08-10T09:05:14.793Z"
   },
   {
    "duration": 33,
    "start_time": "2023-08-10T09:06:07.153Z"
   },
   {
    "duration": 350,
    "start_time": "2023-08-10T09:06:59.885Z"
   },
   {
    "duration": 52,
    "start_time": "2023-08-10T09:08:17.110Z"
   },
   {
    "duration": 29,
    "start_time": "2023-08-10T09:08:40.032Z"
   },
   {
    "duration": 32,
    "start_time": "2023-08-10T09:09:07.810Z"
   },
   {
    "duration": 17,
    "start_time": "2023-08-10T09:28:21.511Z"
   },
   {
    "duration": 518,
    "start_time": "2023-08-10T09:28:28.438Z"
   },
   {
    "duration": 440,
    "start_time": "2023-08-10T09:28:53.919Z"
   },
   {
    "duration": 398,
    "start_time": "2023-08-10T09:29:03.075Z"
   },
   {
    "duration": 408,
    "start_time": "2023-08-10T09:29:15.405Z"
   },
   {
    "duration": 120,
    "start_time": "2023-08-10T09:31:42.782Z"
   },
   {
    "duration": 17,
    "start_time": "2023-08-10T09:32:02.152Z"
   },
   {
    "duration": 33,
    "start_time": "2023-08-10T09:33:07.017Z"
   },
   {
    "duration": 18,
    "start_time": "2023-08-10T09:33:25.222Z"
   },
   {
    "duration": 43,
    "start_time": "2023-08-10T09:36:12.927Z"
   },
   {
    "duration": 18,
    "start_time": "2023-08-10T09:36:31.957Z"
   },
   {
    "duration": 12,
    "start_time": "2023-08-10T09:38:17.187Z"
   },
   {
    "duration": 12,
    "start_time": "2023-08-10T09:38:24.150Z"
   },
   {
    "duration": 23,
    "start_time": "2023-08-10T09:38:53.416Z"
   },
   {
    "duration": 29,
    "start_time": "2023-08-10T09:39:13.650Z"
   },
   {
    "duration": 19,
    "start_time": "2023-08-10T09:39:20.406Z"
   },
   {
    "duration": 15,
    "start_time": "2023-08-10T09:39:48.686Z"
   },
   {
    "duration": 492,
    "start_time": "2023-08-10T09:40:56.994Z"
   },
   {
    "duration": 541,
    "start_time": "2023-08-10T09:41:07.163Z"
   },
   {
    "duration": 379,
    "start_time": "2023-08-10T09:42:00.312Z"
   },
   {
    "duration": 421,
    "start_time": "2023-08-10T09:42:19.912Z"
   },
   {
    "duration": 33,
    "start_time": "2023-08-10T09:49:26.801Z"
   },
   {
    "duration": 356,
    "start_time": "2023-08-10T09:50:31.922Z"
   },
   {
    "duration": 319,
    "start_time": "2023-08-10T09:50:36.020Z"
   },
   {
    "duration": 328,
    "start_time": "2023-08-10T09:51:28.789Z"
   },
   {
    "duration": 328,
    "start_time": "2023-08-10T09:51:55.321Z"
   },
   {
    "duration": 339,
    "start_time": "2023-08-10T09:53:07.344Z"
   },
   {
    "duration": 70,
    "start_time": "2023-08-10T09:54:29.388Z"
   },
   {
    "duration": 2293,
    "start_time": "2023-08-10T09:55:24.273Z"
   },
   {
    "duration": 47,
    "start_time": "2023-08-10T09:55:31.413Z"
   },
   {
    "duration": 5,
    "start_time": "2023-08-10T10:14:20.890Z"
   },
   {
    "duration": 1304,
    "start_time": "2023-08-10T10:19:48.080Z"
   },
   {
    "duration": 12,
    "start_time": "2023-08-10T10:20:09.030Z"
   },
   {
    "duration": 15,
    "start_time": "2023-08-10T10:20:52.291Z"
   },
   {
    "duration": 1239,
    "start_time": "2023-08-10T10:20:55.327Z"
   },
   {
    "duration": 653,
    "start_time": "2023-08-10T10:21:32.361Z"
   },
   {
    "duration": 607,
    "start_time": "2023-08-10T10:32:43.584Z"
   },
   {
    "duration": 6,
    "start_time": "2023-08-10T10:35:29.896Z"
   },
   {
    "duration": 6,
    "start_time": "2023-08-10T10:35:35.480Z"
   },
   {
    "duration": 10,
    "start_time": "2023-08-10T10:35:45.032Z"
   },
   {
    "duration": 11,
    "start_time": "2023-08-10T10:35:50.623Z"
   },
   {
    "duration": 9,
    "start_time": "2023-08-10T10:35:58.288Z"
   },
   {
    "duration": 9,
    "start_time": "2023-08-10T10:36:08.320Z"
   },
   {
    "duration": 5,
    "start_time": "2023-08-10T10:36:13.946Z"
   },
   {
    "duration": 154,
    "start_time": "2023-08-10T10:36:55.193Z"
   },
   {
    "duration": 2452,
    "start_time": "2023-08-10T10:37:11.716Z"
   },
   {
    "duration": 6,
    "start_time": "2023-08-10T10:37:29.340Z"
   },
   {
    "duration": 8,
    "start_time": "2023-08-10T10:38:00.921Z"
   },
   {
    "duration": 10,
    "start_time": "2023-08-10T10:41:24.626Z"
   },
   {
    "duration": 6,
    "start_time": "2023-08-10T10:42:41.743Z"
   },
   {
    "duration": 11,
    "start_time": "2023-08-10T10:43:04.792Z"
   },
   {
    "duration": 11,
    "start_time": "2023-08-10T10:43:16.139Z"
   },
   {
    "duration": 7,
    "start_time": "2023-08-10T10:56:16.582Z"
   },
   {
    "duration": 17,
    "start_time": "2023-08-10T11:03:47.046Z"
   },
   {
    "duration": 311,
    "start_time": "2023-08-10T11:21:17.675Z"
   },
   {
    "duration": 300,
    "start_time": "2023-08-10T11:21:43.527Z"
   },
   {
    "duration": 12,
    "start_time": "2023-08-10T11:33:03.286Z"
   },
   {
    "duration": 16,
    "start_time": "2023-08-10T11:35:25.013Z"
   },
   {
    "duration": 272,
    "start_time": "2023-08-10T11:43:38.870Z"
   },
   {
    "duration": 244,
    "start_time": "2023-08-10T11:43:41.238Z"
   },
   {
    "duration": 246,
    "start_time": "2023-08-10T11:46:43.364Z"
   },
   {
    "duration": 234,
    "start_time": "2023-08-10T11:46:48.553Z"
   },
   {
    "duration": 238,
    "start_time": "2023-08-10T11:47:19.413Z"
   },
   {
    "duration": 385,
    "start_time": "2023-08-10T11:47:34.856Z"
   },
   {
    "duration": 428,
    "start_time": "2023-08-10T11:48:33.446Z"
   },
   {
    "duration": 7,
    "start_time": "2023-08-10T11:49:40.567Z"
   },
   {
    "duration": 412,
    "start_time": "2023-08-10T11:50:09.336Z"
   },
   {
    "duration": 390,
    "start_time": "2023-08-10T11:50:53.118Z"
   },
   {
    "duration": 4,
    "start_time": "2023-08-10T11:53:47.761Z"
   },
   {
    "duration": 7,
    "start_time": "2023-08-10T11:54:03.022Z"
   },
   {
    "duration": 12,
    "start_time": "2023-08-10T11:54:13.322Z"
   },
   {
    "duration": 2103,
    "start_time": "2023-08-10T11:54:57.065Z"
   },
   {
    "duration": 18,
    "start_time": "2023-08-10T11:55:10.260Z"
   },
   {
    "duration": 2429,
    "start_time": "2023-08-10T11:55:39.468Z"
   },
   {
    "duration": 12,
    "start_time": "2023-08-10T11:56:47.875Z"
   },
   {
    "duration": 31,
    "start_time": "2023-08-10T11:56:54.092Z"
   },
   {
    "duration": 24,
    "start_time": "2023-08-10T11:57:37.689Z"
   },
   {
    "duration": 189,
    "start_time": "2023-08-10T11:57:49.813Z"
   },
   {
    "duration": 19,
    "start_time": "2023-08-10T11:57:58.656Z"
   },
   {
    "duration": 21,
    "start_time": "2023-08-10T11:58:04.738Z"
   },
   {
    "duration": 11,
    "start_time": "2023-08-10T11:59:11.568Z"
   },
   {
    "duration": 208,
    "start_time": "2023-08-10T12:02:13.924Z"
   },
   {
    "duration": 163,
    "start_time": "2023-08-10T12:31:28.322Z"
   },
   {
    "duration": 155,
    "start_time": "2023-08-10T12:33:48.365Z"
   },
   {
    "duration": 166,
    "start_time": "2023-08-10T12:35:09.420Z"
   },
   {
    "duration": 7,
    "start_time": "2023-08-10T12:35:33.655Z"
   },
   {
    "duration": 20,
    "start_time": "2023-08-10T12:44:50.624Z"
   },
   {
    "duration": 5,
    "start_time": "2023-08-10T14:44:38.793Z"
   },
   {
    "duration": 8,
    "start_time": "2023-08-10T14:58:05.515Z"
   },
   {
    "duration": 6,
    "start_time": "2023-08-10T14:58:20.134Z"
   },
   {
    "duration": 14,
    "start_time": "2023-08-10T14:59:04.294Z"
   },
   {
    "duration": 11,
    "start_time": "2023-08-10T14:59:15.189Z"
   },
   {
    "duration": 7,
    "start_time": "2023-08-10T14:59:19.422Z"
   },
   {
    "duration": 5,
    "start_time": "2023-08-10T14:59:24.742Z"
   },
   {
    "duration": 9,
    "start_time": "2023-08-10T14:59:28.190Z"
   },
   {
    "duration": 9,
    "start_time": "2023-08-10T14:59:35.320Z"
   },
   {
    "duration": 15,
    "start_time": "2023-08-10T15:02:03.519Z"
   },
   {
    "duration": 10,
    "start_time": "2023-08-10T15:02:11.720Z"
   },
   {
    "duration": 14,
    "start_time": "2023-08-10T15:02:17.623Z"
   },
   {
    "duration": 240,
    "start_time": "2023-08-10T15:03:39.408Z"
   },
   {
    "duration": 141,
    "start_time": "2023-08-10T15:04:11.011Z"
   },
   {
    "duration": 232,
    "start_time": "2023-08-10T15:04:59.327Z"
   },
   {
    "duration": 369,
    "start_time": "2023-08-10T15:06:59.995Z"
   },
   {
    "duration": 246,
    "start_time": "2023-08-10T15:07:07.314Z"
   },
   {
    "duration": 94,
    "start_time": "2023-08-10T15:07:32.419Z"
   },
   {
    "duration": 247,
    "start_time": "2023-08-10T15:07:37.013Z"
   },
   {
    "duration": 12,
    "start_time": "2023-08-10T15:19:22.020Z"
   },
   {
    "duration": 150,
    "start_time": "2023-08-10T15:19:39.943Z"
   },
   {
    "duration": 152,
    "start_time": "2023-08-10T15:20:14.524Z"
   },
   {
    "duration": 155,
    "start_time": "2023-08-10T15:20:32.519Z"
   },
   {
    "duration": 144,
    "start_time": "2023-08-10T15:20:46.592Z"
   },
   {
    "duration": 85,
    "start_time": "2023-08-10T15:31:56.614Z"
   },
   {
    "duration": 11,
    "start_time": "2023-08-10T15:32:50.930Z"
   },
   {
    "duration": 12,
    "start_time": "2023-08-10T15:33:09.318Z"
   },
   {
    "duration": 1150,
    "start_time": "2023-08-10T15:33:22.148Z"
   },
   {
    "duration": 75,
    "start_time": "2023-08-10T15:33:23.307Z"
   },
   {
    "duration": 21,
    "start_time": "2023-08-10T15:33:23.383Z"
   },
   {
    "duration": 64,
    "start_time": "2023-08-10T15:33:23.408Z"
   },
   {
    "duration": 53,
    "start_time": "2023-08-10T15:33:23.473Z"
   },
   {
    "duration": 41,
    "start_time": "2023-08-10T15:33:23.528Z"
   },
   {
    "duration": 20,
    "start_time": "2023-08-10T15:33:23.571Z"
   },
   {
    "duration": 65,
    "start_time": "2023-08-10T15:33:23.592Z"
   },
   {
    "duration": 66,
    "start_time": "2023-08-10T15:33:23.659Z"
   },
   {
    "duration": 44,
    "start_time": "2023-08-10T15:33:23.727Z"
   },
   {
    "duration": 56,
    "start_time": "2023-08-10T15:33:23.772Z"
   },
   {
    "duration": 16,
    "start_time": "2023-08-10T15:33:23.830Z"
   },
   {
    "duration": 57,
    "start_time": "2023-08-10T15:33:23.848Z"
   },
   {
    "duration": 243,
    "start_time": "2023-08-10T15:33:23.907Z"
   },
   {
    "duration": 153,
    "start_time": "2023-08-10T15:33:24.151Z"
   },
   {
    "duration": 275,
    "start_time": "2023-08-10T15:33:24.308Z"
   },
   {
    "duration": 295,
    "start_time": "2023-08-10T15:33:24.584Z"
   },
   {
    "duration": 300,
    "start_time": "2023-08-10T15:33:24.881Z"
   },
   {
    "duration": 24,
    "start_time": "2023-08-10T15:33:25.183Z"
   },
   {
    "duration": 19,
    "start_time": "2023-08-10T15:33:25.219Z"
   },
   {
    "duration": 344,
    "start_time": "2023-08-10T15:33:25.240Z"
   },
   {
    "duration": 347,
    "start_time": "2023-08-10T15:33:25.585Z"
   },
   {
    "duration": 85,
    "start_time": "2023-08-10T15:33:25.934Z"
   },
   {
    "duration": 528,
    "start_time": "2023-08-10T15:33:26.021Z"
   },
   {
    "duration": 1136,
    "start_time": "2023-08-10T15:33:26.551Z"
   },
   {
    "duration": 17,
    "start_time": "2023-08-10T15:33:27.690Z"
   },
   {
    "duration": 428,
    "start_time": "2023-08-10T15:33:27.710Z"
   },
   {
    "duration": 397,
    "start_time": "2023-08-10T15:33:28.141Z"
   },
   {
    "duration": 152,
    "start_time": "2023-08-10T15:33:28.539Z"
   },
   {
    "duration": 416,
    "start_time": "2023-08-10T15:33:28.704Z"
   },
   {
    "duration": 409,
    "start_time": "2023-08-10T15:33:29.122Z"
   },
   {
    "duration": 5,
    "start_time": "2023-08-10T15:33:29.533Z"
   },
   {
    "duration": 377,
    "start_time": "2023-08-10T15:33:29.540Z"
   },
   {
    "duration": 139,
    "start_time": "2023-08-10T15:33:29.920Z"
   },
   {
    "duration": 12,
    "start_time": "2023-08-10T15:34:11.182Z"
   },
   {
    "duration": 134,
    "start_time": "2023-08-10T15:34:23.519Z"
   },
   {
    "duration": 274,
    "start_time": "2023-08-10T15:34:37.743Z"
   },
   {
    "duration": 136,
    "start_time": "2023-08-10T15:34:46.720Z"
   },
   {
    "duration": 170,
    "start_time": "2023-08-10T15:35:07.883Z"
   },
   {
    "duration": 233,
    "start_time": "2023-08-10T15:35:19.584Z"
   },
   {
    "duration": 841,
    "start_time": "2023-08-10T15:35:25.280Z"
   },
   {
    "duration": 209,
    "start_time": "2023-08-10T15:35:31.138Z"
   },
   {
    "duration": 215,
    "start_time": "2023-08-10T15:36:01.640Z"
   },
   {
    "duration": 1880,
    "start_time": "2023-08-10T15:36:35.388Z"
   },
   {
    "duration": 228,
    "start_time": "2023-08-10T15:36:44.883Z"
   },
   {
    "duration": 221,
    "start_time": "2023-08-10T15:36:50.940Z"
   },
   {
    "duration": 137,
    "start_time": "2023-08-10T15:37:44.181Z"
   },
   {
    "duration": 239,
    "start_time": "2023-08-10T15:38:23.625Z"
   },
   {
    "duration": 195,
    "start_time": "2023-08-10T15:39:13.850Z"
   },
   {
    "duration": 262,
    "start_time": "2023-08-10T15:39:18.714Z"
   },
   {
    "duration": 256,
    "start_time": "2023-08-10T15:39:23.600Z"
   },
   {
    "duration": 139,
    "start_time": "2023-08-10T15:39:35.589Z"
   },
   {
    "duration": 208,
    "start_time": "2023-08-10T15:39:45.541Z"
   },
   {
    "duration": 130,
    "start_time": "2023-08-10T15:40:04.727Z"
   },
   {
    "duration": 236,
    "start_time": "2023-08-10T15:40:12.122Z"
   },
   {
    "duration": 228,
    "start_time": "2023-08-10T15:40:19.638Z"
   },
   {
    "duration": 11,
    "start_time": "2023-08-10T15:45:22.867Z"
   },
   {
    "duration": 26,
    "start_time": "2023-08-10T15:45:43.198Z"
   },
   {
    "duration": 14,
    "start_time": "2023-08-10T15:46:16.534Z"
   },
   {
    "duration": 26,
    "start_time": "2023-08-10T15:46:37.268Z"
   },
   {
    "duration": 230,
    "start_time": "2023-08-10T15:46:51.436Z"
   },
   {
    "duration": 261,
    "start_time": "2023-08-10T15:47:24.502Z"
   },
   {
    "duration": 34,
    "start_time": "2023-08-10T15:49:35.116Z"
   },
   {
    "duration": 40780,
    "start_time": "2023-08-10T15:49:40.393Z"
   },
   {
    "duration": 5472,
    "start_time": "2023-08-10T15:50:56.083Z"
   },
   {
    "duration": 5039,
    "start_time": "2023-08-10T15:51:10.221Z"
   },
   {
    "duration": 5392,
    "start_time": "2023-08-10T15:51:59.322Z"
   },
   {
    "duration": 5279,
    "start_time": "2023-08-10T15:52:43.682Z"
   },
   {
    "duration": 5477,
    "start_time": "2023-08-10T15:53:00.096Z"
   },
   {
    "duration": 19831,
    "start_time": "2023-08-10T15:53:37.213Z"
   },
   {
    "duration": 5170,
    "start_time": "2023-08-10T15:54:11.209Z"
   },
   {
    "duration": 150,
    "start_time": "2023-08-10T15:55:45.198Z"
   },
   {
    "duration": 134,
    "start_time": "2023-08-10T15:55:54.574Z"
   },
   {
    "duration": 1311,
    "start_time": "2023-08-10T15:56:05.422Z"
   },
   {
    "duration": 1143,
    "start_time": "2023-08-10T15:56:17.330Z"
   },
   {
    "duration": 10461,
    "start_time": "2023-08-10T15:56:31.539Z"
   },
   {
    "duration": 10446,
    "start_time": "2023-08-10T15:56:45.214Z"
   },
   {
    "duration": 9290,
    "start_time": "2023-08-10T15:57:22.245Z"
   },
   {
    "duration": 20561,
    "start_time": "2023-08-10T15:57:49.340Z"
   },
   {
    "duration": 21910,
    "start_time": "2023-08-10T15:58:11.970Z"
   },
   {
    "duration": 24151,
    "start_time": "2023-08-10T15:58:54.469Z"
   },
   {
    "duration": 19780,
    "start_time": "2023-08-10T15:59:36.174Z"
   },
   {
    "duration": 290,
    "start_time": "2023-08-10T16:04:16.223Z"
   },
   {
    "duration": 5242,
    "start_time": "2023-08-10T16:04:23.417Z"
   },
   {
    "duration": 8403,
    "start_time": "2023-08-10T16:04:33.563Z"
   },
   {
    "duration": 18777,
    "start_time": "2023-08-10T16:04:48.291Z"
   },
   {
    "duration": 36445,
    "start_time": "2023-08-10T16:05:37.317Z"
   },
   {
    "duration": 67,
    "start_time": "2023-08-10T17:05:15.130Z"
   },
   {
    "duration": 1217,
    "start_time": "2023-08-10T17:05:34.489Z"
   },
   {
    "duration": 73,
    "start_time": "2023-08-10T17:05:35.709Z"
   },
   {
    "duration": 14,
    "start_time": "2023-08-10T17:05:35.784Z"
   },
   {
    "duration": 13,
    "start_time": "2023-08-10T17:05:35.800Z"
   },
   {
    "duration": 12,
    "start_time": "2023-08-10T17:05:35.814Z"
   },
   {
    "duration": 13,
    "start_time": "2023-08-10T17:05:35.828Z"
   },
   {
    "duration": 21,
    "start_time": "2023-08-10T17:05:35.843Z"
   },
   {
    "duration": 13,
    "start_time": "2023-08-10T17:05:35.866Z"
   },
   {
    "duration": 8,
    "start_time": "2023-08-10T17:05:35.881Z"
   },
   {
    "duration": 12,
    "start_time": "2023-08-10T17:05:35.892Z"
   },
   {
    "duration": 12,
    "start_time": "2023-08-10T17:05:35.906Z"
   },
   {
    "duration": 6,
    "start_time": "2023-08-10T17:05:35.919Z"
   },
   {
    "duration": 38,
    "start_time": "2023-08-10T17:05:35.926Z"
   },
   {
    "duration": 213,
    "start_time": "2023-08-10T17:05:35.969Z"
   },
   {
    "duration": 105,
    "start_time": "2023-08-10T17:05:36.184Z"
   },
   {
    "duration": 229,
    "start_time": "2023-08-10T17:05:36.291Z"
   },
   {
    "duration": 316,
    "start_time": "2023-08-10T17:05:36.521Z"
   },
   {
    "duration": 287,
    "start_time": "2023-08-10T17:05:36.839Z"
   },
   {
    "duration": 30,
    "start_time": "2023-08-10T17:05:37.128Z"
   },
   {
    "duration": 19,
    "start_time": "2023-08-10T17:05:37.160Z"
   },
   {
    "duration": 322,
    "start_time": "2023-08-10T17:05:37.181Z"
   },
   {
    "duration": 360,
    "start_time": "2023-08-10T17:05:37.505Z"
   },
   {
    "duration": 70,
    "start_time": "2023-08-10T17:05:37.867Z"
   },
   {
    "duration": 19,
    "start_time": "2023-08-10T17:05:37.939Z"
   },
   {
    "duration": 529,
    "start_time": "2023-08-10T17:05:37.961Z"
   },
   {
    "duration": 1102,
    "start_time": "2023-08-10T17:05:38.493Z"
   },
   {
    "duration": 6,
    "start_time": "2023-08-10T17:05:39.597Z"
   },
   {
    "duration": 372,
    "start_time": "2023-08-10T17:05:39.606Z"
   },
   {
    "duration": 404,
    "start_time": "2023-08-10T17:05:39.980Z"
   },
   {
    "duration": 141,
    "start_time": "2023-08-10T17:05:40.386Z"
   },
   {
    "duration": 439,
    "start_time": "2023-08-10T17:05:40.529Z"
   },
   {
    "duration": 411,
    "start_time": "2023-08-10T17:05:40.970Z"
   },
   {
    "duration": 8,
    "start_time": "2023-08-10T17:05:41.383Z"
   },
   {
    "duration": 396,
    "start_time": "2023-08-10T17:05:41.393Z"
   },
   {
    "duration": 27419,
    "start_time": "2023-08-10T17:05:41.791Z"
   },
   {
    "duration": 1216,
    "start_time": "2023-08-10T17:14:41.891Z"
   },
   {
    "duration": 78,
    "start_time": "2023-08-10T17:14:43.109Z"
   },
   {
    "duration": 47,
    "start_time": "2023-08-10T17:14:43.189Z"
   },
   {
    "duration": 27,
    "start_time": "2023-08-10T17:14:43.240Z"
   },
   {
    "duration": 23,
    "start_time": "2023-08-10T17:14:43.270Z"
   },
   {
    "duration": 21,
    "start_time": "2023-08-10T17:14:43.295Z"
   },
   {
    "duration": 19,
    "start_time": "2023-08-10T17:14:43.319Z"
   },
   {
    "duration": 31,
    "start_time": "2023-08-10T17:14:43.340Z"
   },
   {
    "duration": 12,
    "start_time": "2023-08-10T17:14:43.373Z"
   },
   {
    "duration": 8,
    "start_time": "2023-08-10T17:14:43.390Z"
   },
   {
    "duration": 21,
    "start_time": "2023-08-10T17:14:43.400Z"
   },
   {
    "duration": 38,
    "start_time": "2023-08-10T17:14:43.423Z"
   },
   {
    "duration": 8,
    "start_time": "2023-08-10T17:14:43.464Z"
   },
   {
    "duration": 321,
    "start_time": "2023-08-10T17:14:43.475Z"
   },
   {
    "duration": 141,
    "start_time": "2023-08-10T17:14:43.799Z"
   },
   {
    "duration": 301,
    "start_time": "2023-08-10T17:14:43.942Z"
   },
   {
    "duration": 343,
    "start_time": "2023-08-10T17:14:44.246Z"
   },
   {
    "duration": 281,
    "start_time": "2023-08-10T17:14:44.591Z"
   },
   {
    "duration": 26,
    "start_time": "2023-08-10T17:14:44.874Z"
   },
   {
    "duration": 14,
    "start_time": "2023-08-10T17:14:44.903Z"
   },
   {
    "duration": 386,
    "start_time": "2023-08-10T17:14:44.919Z"
   },
   {
    "duration": 393,
    "start_time": "2023-08-10T17:14:45.308Z"
   },
   {
    "duration": 109,
    "start_time": "2023-08-10T17:14:45.703Z"
   },
   {
    "duration": 564,
    "start_time": "2023-08-10T17:14:45.814Z"
   },
   {
    "duration": 1094,
    "start_time": "2023-08-10T17:14:46.380Z"
   },
   {
    "duration": 8,
    "start_time": "2023-08-10T17:14:47.476Z"
   },
   {
    "duration": 408,
    "start_time": "2023-08-10T17:14:47.487Z"
   },
   {
    "duration": 396,
    "start_time": "2023-08-10T17:14:47.899Z"
   },
   {
    "duration": 223,
    "start_time": "2023-08-10T17:14:48.297Z"
   },
   {
    "duration": 458,
    "start_time": "2023-08-10T17:14:48.522Z"
   },
   {
    "duration": 493,
    "start_time": "2023-08-10T17:14:48.983Z"
   },
   {
    "duration": 10,
    "start_time": "2023-08-10T17:14:49.479Z"
   },
   {
    "duration": 421,
    "start_time": "2023-08-10T17:14:49.491Z"
   },
   {
    "duration": 27431,
    "start_time": "2023-08-10T17:14:49.914Z"
   },
   {
    "duration": 68,
    "start_time": "2023-08-11T15:57:16.932Z"
   },
   {
    "duration": 1419,
    "start_time": "2023-08-11T15:57:35.857Z"
   },
   {
    "duration": 195,
    "start_time": "2023-08-11T15:57:39.417Z"
   },
   {
    "duration": 17,
    "start_time": "2023-08-11T15:57:42.249Z"
   },
   {
    "duration": 15,
    "start_time": "2023-08-11T15:57:44.548Z"
   },
   {
    "duration": 9,
    "start_time": "2023-08-11T15:57:51.450Z"
   },
   {
    "duration": 12,
    "start_time": "2023-08-11T15:57:53.652Z"
   },
   {
    "duration": 10,
    "start_time": "2023-08-11T15:57:55.369Z"
   },
   {
    "duration": 12,
    "start_time": "2023-08-11T15:57:56.882Z"
   },
   {
    "duration": 11,
    "start_time": "2023-08-11T15:57:59.261Z"
   },
   {
    "duration": 12,
    "start_time": "2023-08-11T15:58:10.983Z"
   },
   {
    "duration": 6,
    "start_time": "2023-08-11T16:17:05.549Z"
   },
   {
    "duration": 6,
    "start_time": "2023-08-11T16:18:12.935Z"
   },
   {
    "duration": 111,
    "start_time": "2023-08-11T16:18:22.713Z"
   },
   {
    "duration": 6,
    "start_time": "2023-08-11T16:18:27.509Z"
   },
   {
    "duration": 12,
    "start_time": "2023-08-11T16:18:58.095Z"
   },
   {
    "duration": 7,
    "start_time": "2023-08-11T16:19:02.148Z"
   },
   {
    "duration": 6,
    "start_time": "2023-08-11T16:19:04.223Z"
   },
   {
    "duration": 46,
    "start_time": "2023-08-11T16:19:07.110Z"
   },
   {
    "duration": 13,
    "start_time": "2023-08-11T16:30:59.970Z"
   },
   {
    "duration": 9,
    "start_time": "2023-08-11T16:31:02.065Z"
   },
   {
    "duration": 7,
    "start_time": "2023-08-11T16:31:17.371Z"
   },
   {
    "duration": 10,
    "start_time": "2023-08-11T16:37:24.685Z"
   },
   {
    "duration": 26,
    "start_time": "2023-08-11T16:37:42.078Z"
   },
   {
    "duration": 8,
    "start_time": "2023-08-11T16:37:56.550Z"
   },
   {
    "duration": 6,
    "start_time": "2023-08-11T16:37:57.756Z"
   },
   {
    "duration": 5,
    "start_time": "2023-08-11T16:38:01.006Z"
   },
   {
    "duration": 22,
    "start_time": "2023-08-11T16:38:01.969Z"
   },
   {
    "duration": 10,
    "start_time": "2023-08-11T16:38:12.719Z"
   },
   {
    "duration": 6,
    "start_time": "2023-08-11T16:38:14.649Z"
   },
   {
    "duration": 7,
    "start_time": "2023-08-11T16:38:16.383Z"
   },
   {
    "duration": 7,
    "start_time": "2023-08-11T16:38:17.304Z"
   },
   {
    "duration": 7,
    "start_time": "2023-08-11T16:38:21.950Z"
   },
   {
    "duration": 6,
    "start_time": "2023-08-11T16:38:34.563Z"
   },
   {
    "duration": 9,
    "start_time": "2023-08-11T16:38:40.967Z"
   },
   {
    "duration": 7,
    "start_time": "2023-08-11T16:58:36.364Z"
   },
   {
    "duration": 5,
    "start_time": "2023-08-11T16:58:45.961Z"
   },
   {
    "duration": 6,
    "start_time": "2023-08-11T16:59:04.574Z"
   },
   {
    "duration": 4,
    "start_time": "2023-08-11T16:59:39.380Z"
   },
   {
    "duration": 10,
    "start_time": "2023-08-11T16:59:40.008Z"
   },
   {
    "duration": 5,
    "start_time": "2023-08-11T16:59:41.150Z"
   },
   {
    "duration": 8,
    "start_time": "2023-08-11T17:00:00.884Z"
   },
   {
    "duration": 14,
    "start_time": "2023-08-11T17:05:28.408Z"
   },
   {
    "duration": 72,
    "start_time": "2023-08-11T17:05:49.288Z"
   },
   {
    "duration": 15,
    "start_time": "2023-08-11T17:05:53.915Z"
   },
   {
    "duration": 12,
    "start_time": "2023-08-11T17:06:01.085Z"
   },
   {
    "duration": 14,
    "start_time": "2023-08-11T17:06:04.887Z"
   },
   {
    "duration": 14,
    "start_time": "2023-08-11T17:06:10.757Z"
   },
   {
    "duration": 18,
    "start_time": "2023-08-11T17:06:17.966Z"
   },
   {
    "duration": 12,
    "start_time": "2023-08-11T17:11:14.406Z"
   },
   {
    "duration": 12,
    "start_time": "2023-08-11T17:11:18.995Z"
   },
   {
    "duration": 5,
    "start_time": "2023-08-11T17:11:28.974Z"
   },
   {
    "duration": 9,
    "start_time": "2023-08-11T17:16:50.421Z"
   },
   {
    "duration": 262,
    "start_time": "2023-08-11T17:21:16.675Z"
   },
   {
    "duration": 189,
    "start_time": "2023-08-11T17:34:09.322Z"
   },
   {
    "duration": 163,
    "start_time": "2023-08-11T17:34:23.966Z"
   },
   {
    "duration": 173,
    "start_time": "2023-08-11T17:34:50.347Z"
   },
   {
    "duration": 203,
    "start_time": "2023-08-11T17:35:37.770Z"
   },
   {
    "duration": 14,
    "start_time": "2023-08-11T17:37:17.398Z"
   },
   {
    "duration": 13,
    "start_time": "2023-08-11T17:37:51.879Z"
   },
   {
    "duration": 7,
    "start_time": "2023-08-11T17:38:08.382Z"
   },
   {
    "duration": 12,
    "start_time": "2023-08-11T17:38:22.091Z"
   },
   {
    "duration": 244,
    "start_time": "2023-08-11T17:38:53.187Z"
   },
   {
    "duration": 211,
    "start_time": "2023-08-11T17:39:11.045Z"
   },
   {
    "duration": 166,
    "start_time": "2023-08-11T17:39:20.526Z"
   },
   {
    "duration": 164,
    "start_time": "2023-08-11T17:39:27.733Z"
   },
   {
    "duration": 181,
    "start_time": "2023-08-11T17:39:57.380Z"
   },
   {
    "duration": 109,
    "start_time": "2023-08-11T17:44:27.140Z"
   },
   {
    "duration": 338,
    "start_time": "2023-08-11T17:45:17.540Z"
   },
   {
    "duration": 253,
    "start_time": "2023-08-11T17:46:20.309Z"
   },
   {
    "duration": 1414,
    "start_time": "2023-08-11T20:41:20.350Z"
   },
   {
    "duration": 1302,
    "start_time": "2023-08-11T20:41:33.780Z"
   },
   {
    "duration": 274,
    "start_time": "2023-08-11T20:45:55.154Z"
   },
   {
    "duration": 9,
    "start_time": "2023-08-11T20:49:50.076Z"
   },
   {
    "duration": 15,
    "start_time": "2023-08-11T20:49:53.824Z"
   },
   {
    "duration": 14,
    "start_time": "2023-08-11T20:49:55.603Z"
   },
   {
    "duration": 11,
    "start_time": "2023-08-11T20:50:20.118Z"
   },
   {
    "duration": 10,
    "start_time": "2023-08-11T20:50:41.989Z"
   },
   {
    "duration": 4,
    "start_time": "2023-08-11T20:56:35.736Z"
   },
   {
    "duration": 4,
    "start_time": "2023-08-11T20:57:53.631Z"
   },
   {
    "duration": 79,
    "start_time": "2023-08-11T21:04:37.278Z"
   },
   {
    "duration": 10,
    "start_time": "2023-08-11T21:20:46.582Z"
   },
   {
    "duration": 15,
    "start_time": "2023-08-11T21:37:39.017Z"
   },
   {
    "duration": 140,
    "start_time": "2023-08-11T21:37:53.726Z"
   },
   {
    "duration": 9,
    "start_time": "2023-08-11T21:49:00.755Z"
   },
   {
    "duration": 11,
    "start_time": "2023-08-11T21:49:23.812Z"
   },
   {
    "duration": 10,
    "start_time": "2023-08-11T21:50:14.013Z"
   },
   {
    "duration": 106,
    "start_time": "2023-08-11T21:50:20.788Z"
   },
   {
    "duration": 492,
    "start_time": "2023-08-11T21:50:41.705Z"
   },
   {
    "duration": 392,
    "start_time": "2023-08-11T21:50:48.807Z"
   },
   {
    "duration": 1221,
    "start_time": "2023-08-12T06:52:08.523Z"
   },
   {
    "duration": 210,
    "start_time": "2023-08-12T06:52:09.745Z"
   },
   {
    "duration": 12,
    "start_time": "2023-08-12T06:52:09.956Z"
   },
   {
    "duration": 10,
    "start_time": "2023-08-12T06:52:09.969Z"
   },
   {
    "duration": 15,
    "start_time": "2023-08-12T06:52:09.981Z"
   },
   {
    "duration": 54,
    "start_time": "2023-08-12T06:52:09.998Z"
   },
   {
    "duration": 11,
    "start_time": "2023-08-12T06:52:10.054Z"
   },
   {
    "duration": 26,
    "start_time": "2023-08-12T06:52:10.066Z"
   },
   {
    "duration": 28,
    "start_time": "2023-08-12T06:52:10.093Z"
   },
   {
    "duration": 10,
    "start_time": "2023-08-12T06:52:10.123Z"
   },
   {
    "duration": 51,
    "start_time": "2023-08-12T06:52:10.134Z"
   },
   {
    "duration": 48,
    "start_time": "2023-08-12T06:52:10.186Z"
   },
   {
    "duration": 21,
    "start_time": "2023-08-12T06:52:10.235Z"
   },
   {
    "duration": 10,
    "start_time": "2023-08-12T06:52:10.258Z"
   },
   {
    "duration": 16,
    "start_time": "2023-08-12T06:52:10.269Z"
   },
   {
    "duration": 37,
    "start_time": "2023-08-12T06:52:10.286Z"
   },
   {
    "duration": 11,
    "start_time": "2023-08-12T06:52:10.324Z"
   },
   {
    "duration": 25,
    "start_time": "2023-08-12T06:52:10.336Z"
   },
   {
    "duration": 5,
    "start_time": "2023-08-12T06:52:10.363Z"
   },
   {
    "duration": 175,
    "start_time": "2023-08-12T06:52:10.369Z"
   },
   {
    "duration": 98,
    "start_time": "2023-08-12T06:52:10.546Z"
   },
   {
    "duration": 275,
    "start_time": "2023-08-12T06:52:10.646Z"
   },
   {
    "duration": 7,
    "start_time": "2023-08-12T06:52:10.923Z"
   },
   {
    "duration": 229,
    "start_time": "2023-08-12T06:52:10.931Z"
   },
   {
    "duration": 292,
    "start_time": "2023-08-12T06:52:11.161Z"
   },
   {
    "duration": 13,
    "start_time": "2023-08-12T06:52:11.454Z"
   },
   {
    "duration": 24,
    "start_time": "2023-08-12T06:52:11.468Z"
   },
   {
    "duration": 40,
    "start_time": "2023-08-12T06:52:11.495Z"
   },
   {
    "duration": 37,
    "start_time": "2023-08-12T06:52:11.537Z"
   },
   {
    "duration": 299,
    "start_time": "2023-08-12T06:52:11.576Z"
   },
   {
    "duration": 294,
    "start_time": "2023-08-12T06:52:11.876Z"
   },
   {
    "duration": 3,
    "start_time": "2023-08-12T06:52:12.172Z"
   },
   {
    "duration": 6,
    "start_time": "2023-08-12T06:52:12.176Z"
   },
   {
    "duration": 65,
    "start_time": "2023-08-12T06:52:12.199Z"
   },
   {
    "duration": 420,
    "start_time": "2023-08-12T06:52:12.266Z"
   },
   {
    "duration": 841,
    "start_time": "2023-08-12T06:52:12.687Z"
   },
   {
    "duration": 4,
    "start_time": "2023-08-12T06:52:13.529Z"
   },
   {
    "duration": 279,
    "start_time": "2023-08-12T06:52:13.535Z"
   },
   {
    "duration": 313,
    "start_time": "2023-08-12T06:52:13.815Z"
   },
   {
    "duration": 11,
    "start_time": "2023-08-12T06:52:14.130Z"
   },
   {
    "duration": 134,
    "start_time": "2023-08-12T06:52:14.142Z"
   },
   {
    "duration": 302,
    "start_time": "2023-08-12T06:52:14.278Z"
   },
   {
    "duration": 305,
    "start_time": "2023-08-12T06:52:14.581Z"
   },
   {
    "duration": 15,
    "start_time": "2023-08-12T06:52:14.887Z"
   },
   {
    "duration": 32,
    "start_time": "2023-08-12T06:52:14.903Z"
   },
   {
    "duration": 331,
    "start_time": "2023-08-12T06:52:14.936Z"
   },
   {
    "duration": 25899,
    "start_time": "2023-08-12T06:52:15.269Z"
   },
   {
    "duration": 434,
    "start_time": "2023-08-12T06:52:41.200Z"
   },
   {
    "duration": 183,
    "start_time": "2023-08-12T06:53:37.056Z"
   },
   {
    "duration": 543,
    "start_time": "2023-08-12T06:54:26.797Z"
   },
   {
    "duration": 103,
    "start_time": "2023-08-12T06:59:09.122Z"
   },
   {
    "duration": 183,
    "start_time": "2023-08-12T07:04:26.814Z"
   },
   {
    "duration": 106,
    "start_time": "2023-08-12T07:04:34.626Z"
   },
   {
    "duration": 217,
    "start_time": "2023-08-12T07:06:28.506Z"
   },
   {
    "duration": 182,
    "start_time": "2023-08-12T07:06:38.843Z"
   },
   {
    "duration": 166,
    "start_time": "2023-08-12T07:08:06.261Z"
   },
   {
    "duration": 96,
    "start_time": "2023-08-12T07:08:42.112Z"
   },
   {
    "duration": 157,
    "start_time": "2023-08-12T07:08:53.762Z"
   },
   {
    "duration": 187,
    "start_time": "2023-08-12T07:09:58.243Z"
   },
   {
    "duration": 301,
    "start_time": "2023-08-12T07:11:37.565Z"
   },
   {
    "duration": 261,
    "start_time": "2023-08-12T07:11:52.395Z"
   },
   {
    "duration": 180,
    "start_time": "2023-08-12T07:13:43.343Z"
   },
   {
    "duration": 2147,
    "start_time": "2023-08-12T07:14:17.570Z"
   },
   {
    "duration": 2190,
    "start_time": "2023-08-12T07:14:27.044Z"
   },
   {
    "duration": 96,
    "start_time": "2023-08-12T07:15:29.291Z"
   },
   {
    "duration": 1955,
    "start_time": "2023-08-12T07:15:36.112Z"
   },
   {
    "duration": 1018,
    "start_time": "2023-08-12T07:15:56.811Z"
   },
   {
    "duration": 626,
    "start_time": "2023-08-12T07:17:18.353Z"
   },
   {
    "duration": 723,
    "start_time": "2023-08-12T07:17:26.513Z"
   },
   {
    "duration": 926,
    "start_time": "2023-08-12T07:19:25.340Z"
   },
   {
    "duration": 267,
    "start_time": "2023-08-12T07:21:16.819Z"
   },
   {
    "duration": 277,
    "start_time": "2023-08-12T07:22:14.805Z"
   },
   {
    "duration": 335,
    "start_time": "2023-08-12T07:23:15.943Z"
   },
   {
    "duration": 342,
    "start_time": "2023-08-12T07:24:40.649Z"
   },
   {
    "duration": 320,
    "start_time": "2023-08-12T07:31:16.223Z"
   },
   {
    "duration": 357,
    "start_time": "2023-08-12T07:33:06.632Z"
   },
   {
    "duration": 850,
    "start_time": "2023-08-12T07:33:58.437Z"
   },
   {
    "duration": 1055,
    "start_time": "2023-08-12T07:34:08.566Z"
   },
   {
    "duration": 65,
    "start_time": "2023-08-12T07:34:09.623Z"
   },
   {
    "duration": 12,
    "start_time": "2023-08-12T07:34:09.689Z"
   },
   {
    "duration": 11,
    "start_time": "2023-08-12T07:34:09.703Z"
   },
   {
    "duration": 17,
    "start_time": "2023-08-12T07:34:09.715Z"
   },
   {
    "duration": 11,
    "start_time": "2023-08-12T07:34:09.733Z"
   },
   {
    "duration": 5,
    "start_time": "2023-08-12T07:34:09.745Z"
   },
   {
    "duration": 9,
    "start_time": "2023-08-12T07:34:09.751Z"
   },
   {
    "duration": 19,
    "start_time": "2023-08-12T07:34:09.761Z"
   },
   {
    "duration": 4,
    "start_time": "2023-08-12T07:34:09.782Z"
   },
   {
    "duration": 35,
    "start_time": "2023-08-12T07:34:09.787Z"
   },
   {
    "duration": 10,
    "start_time": "2023-08-12T07:34:09.823Z"
   },
   {
    "duration": 5,
    "start_time": "2023-08-12T07:34:09.834Z"
   },
   {
    "duration": 6,
    "start_time": "2023-08-12T07:34:09.840Z"
   },
   {
    "duration": 7,
    "start_time": "2023-08-12T07:34:09.847Z"
   },
   {
    "duration": 16,
    "start_time": "2023-08-12T07:34:09.855Z"
   },
   {
    "duration": 31,
    "start_time": "2023-08-12T07:34:09.872Z"
   },
   {
    "duration": 16,
    "start_time": "2023-08-12T07:34:09.905Z"
   },
   {
    "duration": 4,
    "start_time": "2023-08-12T07:34:09.922Z"
   },
   {
    "duration": 174,
    "start_time": "2023-08-12T07:34:09.928Z"
   },
   {
    "duration": 77,
    "start_time": "2023-08-12T07:34:10.103Z"
   },
   {
    "duration": 254,
    "start_time": "2023-08-12T07:34:10.182Z"
   },
   {
    "duration": 7,
    "start_time": "2023-08-12T07:34:10.437Z"
   },
   {
    "duration": 234,
    "start_time": "2023-08-12T07:34:10.445Z"
   },
   {
    "duration": 269,
    "start_time": "2023-08-12T07:34:10.681Z"
   },
   {
    "duration": 13,
    "start_time": "2023-08-12T07:34:10.951Z"
   },
   {
    "duration": 8,
    "start_time": "2023-08-12T07:34:10.965Z"
   },
   {
    "duration": 30,
    "start_time": "2023-08-12T07:34:10.976Z"
   },
   {
    "duration": 11,
    "start_time": "2023-08-12T07:34:11.008Z"
   },
   {
    "duration": 379,
    "start_time": "2023-08-12T07:34:11.020Z"
   },
   {
    "duration": 291,
    "start_time": "2023-08-12T07:34:11.400Z"
   },
   {
    "duration": 3,
    "start_time": "2023-08-12T07:34:11.699Z"
   },
   {
    "duration": 6,
    "start_time": "2023-08-12T07:34:11.703Z"
   },
   {
    "duration": 59,
    "start_time": "2023-08-12T07:34:11.710Z"
   },
   {
    "duration": 413,
    "start_time": "2023-08-12T07:34:11.770Z"
   },
   {
    "duration": 778,
    "start_time": "2023-08-12T07:34:12.184Z"
   },
   {
    "duration": 6,
    "start_time": "2023-08-12T07:34:12.963Z"
   },
   {
    "duration": 310,
    "start_time": "2023-08-12T07:34:12.971Z"
   },
   {
    "duration": 318,
    "start_time": "2023-08-12T07:34:13.283Z"
   },
   {
    "duration": 12,
    "start_time": "2023-08-12T07:34:13.602Z"
   },
   {
    "duration": 120,
    "start_time": "2023-08-12T07:34:13.615Z"
   },
   {
    "duration": 333,
    "start_time": "2023-08-12T07:34:13.737Z"
   },
   {
    "duration": 318,
    "start_time": "2023-08-12T07:34:14.072Z"
   },
   {
    "duration": 11,
    "start_time": "2023-08-12T07:34:14.391Z"
   },
   {
    "duration": 7,
    "start_time": "2023-08-12T07:34:14.403Z"
   },
   {
    "duration": 301,
    "start_time": "2023-08-12T07:34:14.411Z"
   },
   {
    "duration": 929,
    "start_time": "2023-08-12T07:34:14.713Z"
   },
   {
    "duration": 406,
    "start_time": "2023-08-12T07:34:15.643Z"
   },
   {
    "duration": 1437,
    "start_time": "2023-08-12T12:32:21.763Z"
   },
   {
    "duration": 221,
    "start_time": "2023-08-12T12:32:23.202Z"
   },
   {
    "duration": 17,
    "start_time": "2023-08-12T12:32:23.425Z"
   },
   {
    "duration": 37,
    "start_time": "2023-08-12T12:32:23.444Z"
   },
   {
    "duration": 73,
    "start_time": "2023-08-12T12:32:23.482Z"
   },
   {
    "duration": 61,
    "start_time": "2023-08-12T12:32:23.557Z"
   },
   {
    "duration": 10,
    "start_time": "2023-08-12T12:32:23.620Z"
   },
   {
    "duration": 73,
    "start_time": "2023-08-12T12:32:23.632Z"
   },
   {
    "duration": 122,
    "start_time": "2023-08-12T12:32:23.707Z"
   },
   {
    "duration": 74,
    "start_time": "2023-08-12T12:32:23.833Z"
   },
   {
    "duration": 127,
    "start_time": "2023-08-12T12:32:23.908Z"
   },
   {
    "duration": 50,
    "start_time": "2023-08-12T12:32:24.037Z"
   },
   {
    "duration": 54,
    "start_time": "2023-08-12T12:32:24.089Z"
   },
   {
    "duration": 81,
    "start_time": "2023-08-12T12:32:24.145Z"
   },
   {
    "duration": 44,
    "start_time": "2023-08-12T12:32:24.230Z"
   },
   {
    "duration": 63,
    "start_time": "2023-08-12T12:32:24.276Z"
   },
   {
    "duration": 46,
    "start_time": "2023-08-12T12:32:24.341Z"
   },
   {
    "duration": 74,
    "start_time": "2023-08-12T12:32:24.388Z"
   },
   {
    "duration": 34,
    "start_time": "2023-08-12T12:32:24.464Z"
   },
   {
    "duration": 265,
    "start_time": "2023-08-12T12:32:24.500Z"
   },
   {
    "duration": 115,
    "start_time": "2023-08-12T12:32:24.767Z"
   },
   {
    "duration": 313,
    "start_time": "2023-08-12T12:32:24.884Z"
   },
   {
    "duration": 22,
    "start_time": "2023-08-12T12:32:25.199Z"
   },
   {
    "duration": 371,
    "start_time": "2023-08-12T12:32:25.225Z"
   },
   {
    "duration": 328,
    "start_time": "2023-08-12T12:32:25.610Z"
   },
   {
    "duration": 21,
    "start_time": "2023-08-12T12:32:25.941Z"
   },
   {
    "duration": 88,
    "start_time": "2023-08-12T12:32:25.964Z"
   },
   {
    "duration": 35,
    "start_time": "2023-08-12T12:32:26.057Z"
   },
   {
    "duration": 60,
    "start_time": "2023-08-12T12:32:26.094Z"
   },
   {
    "duration": 418,
    "start_time": "2023-08-12T12:32:26.156Z"
   },
   {
    "duration": 356,
    "start_time": "2023-08-12T12:32:26.576Z"
   },
   {
    "duration": 4,
    "start_time": "2023-08-12T12:32:26.934Z"
   },
   {
    "duration": 145,
    "start_time": "2023-08-12T12:32:26.939Z"
   },
   {
    "duration": 118,
    "start_time": "2023-08-12T12:32:27.086Z"
   },
   {
    "duration": 515,
    "start_time": "2023-08-12T12:32:27.206Z"
   },
   {
    "duration": 996,
    "start_time": "2023-08-12T12:32:27.728Z"
   },
   {
    "duration": 9,
    "start_time": "2023-08-12T12:32:28.726Z"
   },
   {
    "duration": 393,
    "start_time": "2023-08-12T12:32:28.737Z"
   },
   {
    "duration": 434,
    "start_time": "2023-08-12T12:32:29.133Z"
   },
   {
    "duration": 15,
    "start_time": "2023-08-12T12:32:29.568Z"
   },
   {
    "duration": 198,
    "start_time": "2023-08-12T12:32:29.585Z"
   },
   {
    "duration": 386,
    "start_time": "2023-08-12T12:32:29.786Z"
   },
   {
    "duration": 369,
    "start_time": "2023-08-12T12:32:30.174Z"
   },
   {
    "duration": 7,
    "start_time": "2023-08-12T12:32:30.545Z"
   },
   {
    "duration": 158,
    "start_time": "2023-08-12T12:32:30.554Z"
   },
   {
    "duration": 616,
    "start_time": "2023-08-12T12:32:30.726Z"
   },
   {
    "duration": 1101,
    "start_time": "2023-08-12T12:32:31.343Z"
   },
   {
    "duration": 476,
    "start_time": "2023-08-12T12:32:32.449Z"
   },
   {
    "duration": 5,
    "start_time": "2023-08-12T13:05:38.733Z"
   },
   {
    "duration": 5,
    "start_time": "2023-08-12T13:06:39.899Z"
   },
   {
    "duration": 4,
    "start_time": "2023-08-12T13:06:42.873Z"
   },
   {
    "duration": 5,
    "start_time": "2023-08-12T13:06:52.500Z"
   },
   {
    "duration": 5,
    "start_time": "2023-08-12T13:07:00.038Z"
   },
   {
    "duration": 5,
    "start_time": "2023-08-12T13:07:10.223Z"
   },
   {
    "duration": 5,
    "start_time": "2023-08-12T13:07:10.990Z"
   },
   {
    "duration": 1151,
    "start_time": "2023-08-12T13:40:24.550Z"
   },
   {
    "duration": 1184,
    "start_time": "2023-08-12T13:40:31.236Z"
   },
   {
    "duration": 154,
    "start_time": "2023-08-12T13:41:11.768Z"
   }
  ],
  "kernelspec": {
   "display_name": "Python 3 (ipykernel)",
   "language": "python",
   "name": "python3"
  },
  "language_info": {
   "codemirror_mode": {
    "name": "ipython",
    "version": 3
   },
   "file_extension": ".py",
   "mimetype": "text/x-python",
   "name": "python",
   "nbconvert_exporter": "python",
   "pygments_lexer": "ipython3",
   "version": "3.9.5"
  },
  "toc": {
   "base_numbering": 1,
   "nav_menu": {},
   "number_sections": true,
   "sideBar": true,
   "skip_h1_title": true,
   "title_cell": "Table of Contents",
   "title_sidebar": "Contents",
   "toc_cell": false,
   "toc_position": {},
   "toc_section_display": true,
   "toc_window_display": false
  }
 },
 "nbformat": 4,
 "nbformat_minor": 5
}
