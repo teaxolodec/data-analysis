{
 "cells": [
  {
   "cell_type": "markdown",
   "metadata": {},
   "source": [
    "   *«Нужно больше золота.»*\n",
    "\n",
    "   -- Нежить, Послушник"
   ]
  },
  {
   "cell_type": "markdown",
   "metadata": {},
   "source": [
    "# Восстановление золота из руды"
   ]
  },
  {
   "cell_type": "markdown",
   "metadata": {},
   "source": [
    "В данной работе будет подготовлена модель машинного обучения, способная предсказывать коэффициент восстановления золота из золотосодержащей руды, используя данные с параметрами добычи."
   ]
  },
  {
   "cell_type": "markdown",
   "metadata": {},
   "source": [
    "## Подготовка данных"
   ]
  },
  {
   "cell_type": "code",
   "execution_count": 1,
   "metadata": {},
   "outputs": [],
   "source": [
    "import pandas as pd\n",
    "import numpy as np\n",
    "import matplotlib.pyplot as plt\n",
    "from sklearn.metrics import mean_absolute_error as mae\n",
    "\n",
    "from sklearn.tree import DecisionTreeRegressor\n",
    "from sklearn.neighbors import KNeighborsRegressor\n",
    "from sklearn.linear_model import LinearRegression\n",
    "from sklearn.ensemble import RandomForestRegressor\n",
    "from sklearn.svm import SVR"
   ]
  },
  {
   "cell_type": "markdown",
   "metadata": {},
   "source": [
    "Извлечём данные и посмотрим на них."
   ]
  },
  {
   "cell_type": "code",
   "execution_count": 2,
   "metadata": {},
   "outputs": [],
   "source": [
    "train = pd.read_csv('/datasets/gold_industry_train.csv')\n",
    "test = pd.read_csv('/datasets/gold_industry_test.csv')\n",
    "full = pd.read_csv('/datasets/gold_industry_full.csv')"
   ]
  },
  {
   "cell_type": "markdown",
   "metadata": {},
   "source": [
    "### Проверка эффективности обогащения"
   ]
  },
  {
   "cell_type": "markdown",
   "metadata": {},
   "source": [
    "<a name=\"m1\"></a>\n",
    "\n",
    "Проверим расчёт эффективности обогащения золотом после флотации и после всех процессов в обучающей выборке."
   ]
  },
  {
   "cell_type": "code",
   "execution_count": 3,
   "metadata": {},
   "outputs": [
    {
     "data": {
      "text/plain": [
       "82.52119968211336"
      ]
     },
     "execution_count": 3,
     "metadata": {},
     "output_type": "execute_result"
    }
   ],
   "source": [
    "# функция расчитывает эффективность обогащения после флотации или любого этапа очистки\n",
    "# доля вещества на выходе, доля вещества на входе, доля вещества в отвальных хвостах\n",
    "def bogat(c,f,t):\n",
    "    return c * (f - t) / f / (c - t)\n",
    "\n",
    "(bogat(train['rougher.output.concentrate_au'],\n",
    "      train['rougher.input.feed_au'],\n",
    "      train['rougher.output.tail_au']\n",
    "     ) * 100).mean()"
   ]
  },
  {
   "cell_type": "markdown",
   "metadata": {},
   "source": [
    "Среднеквадратичное отклонение между расчитанными данными и оригинальными пренебрежимо мало, что свидетельтсвует о правильности расчётов эффективности обогащения золотом после флотации в обучающей выборке."
   ]
  },
  {
   "cell_type": "code",
   "execution_count": 4,
   "metadata": {},
   "outputs": [
    {
     "data": {
      "text/plain": [
       "1.0851689485498649e-14"
      ]
     },
     "execution_count": 4,
     "metadata": {},
     "output_type": "execute_result"
    }
   ],
   "source": [
    "mae(train['rougher.output.recovery'],\n",
    "    bogat(train['rougher.output.concentrate_au'],\n",
    "      train['rougher.input.feed_au'],\n",
    "      train['rougher.output.tail_au']\n",
    "     ) * 100\n",
    "   )"
   ]
  },
  {
   "cell_type": "markdown",
   "metadata": {},
   "source": [
    "Тоже самое можно сказать и о расчёте эффективности всего процесса обогащения."
   ]
  },
  {
   "cell_type": "code",
   "execution_count": 5,
   "metadata": {},
   "outputs": [
    {
     "data": {
      "text/plain": [
       "9.218759616408752e-15"
      ]
     },
     "execution_count": 5,
     "metadata": {},
     "output_type": "execute_result"
    }
   ],
   "source": [
    "mae(train['final.output.recovery'],\n",
    "    bogat(train['final.output.concentrate_au'],\n",
    "      train['rougher.input.feed_au'],\n",
    "      train['final.output.tail_au']\n",
    "     ) * 100\n",
    "   )"
   ]
  },
  {
   "cell_type": "markdown",
   "metadata": {},
   "source": [
    "### Тестовая выборка"
   ]
  },
  {
   "cell_type": "markdown",
   "metadata": {},
   "source": [
    "Сначала посмотрим на состав тестовой выборки."
   ]
  },
  {
   "cell_type": "code",
   "execution_count": 6,
   "metadata": {
    "scrolled": false
   },
   "outputs": [
    {
     "name": "stdout",
     "output_type": "stream",
     "text": [
      "<class 'pandas.core.frame.DataFrame'>\n",
      "RangeIndex: 4860 entries, 0 to 4859\n",
      "Data columns (total 53 columns):\n",
      " #   Column                                      Non-Null Count  Dtype  \n",
      "---  ------                                      --------------  -----  \n",
      " 0   date                                        4860 non-null   object \n",
      " 1   rougher.input.feed_au                       4860 non-null   float64\n",
      " 2   rougher.input.feed_ag                       4860 non-null   float64\n",
      " 3   rougher.input.feed_pb                       4832 non-null   float64\n",
      " 4   rougher.input.feed_sol                      4838 non-null   float64\n",
      " 5   rougher.input.feed_rate                     4856 non-null   float64\n",
      " 6   rougher.input.feed_size                     4816 non-null   float64\n",
      " 7   rougher.input.floatbank10_sulfate           4857 non-null   float64\n",
      " 8   rougher.input.floatbank10_xanthate          4859 non-null   float64\n",
      " 9   rougher.state.floatbank10_a_air             4859 non-null   float64\n",
      " 10  rougher.state.floatbank10_a_level           4859 non-null   float64\n",
      " 11  rougher.state.floatbank10_b_air             4859 non-null   float64\n",
      " 12  rougher.state.floatbank10_b_level           4859 non-null   float64\n",
      " 13  rougher.state.floatbank10_c_air             4859 non-null   float64\n",
      " 14  rougher.state.floatbank10_c_level           4859 non-null   float64\n",
      " 15  rougher.state.floatbank10_d_air             4860 non-null   float64\n",
      " 16  rougher.state.floatbank10_d_level           4860 non-null   float64\n",
      " 17  rougher.state.floatbank10_e_air             4853 non-null   float64\n",
      " 18  rougher.state.floatbank10_e_level           4860 non-null   float64\n",
      " 19  rougher.state.floatbank10_f_air             4860 non-null   float64\n",
      " 20  rougher.state.floatbank10_f_level           4860 non-null   float64\n",
      " 21  rougher.input.floatbank11_sulfate           4852 non-null   float64\n",
      " 22  rougher.input.floatbank11_xanthate          4814 non-null   float64\n",
      " 23  primary_cleaner.input.sulfate               4859 non-null   float64\n",
      " 24  primary_cleaner.input.depressant            4851 non-null   float64\n",
      " 25  primary_cleaner.input.feed_size             4860 non-null   float64\n",
      " 26  primary_cleaner.input.xanthate              4817 non-null   float64\n",
      " 27  primary_cleaner.state.floatbank8_a_air      4859 non-null   float64\n",
      " 28  primary_cleaner.state.floatbank8_a_level    4859 non-null   float64\n",
      " 29  primary_cleaner.state.floatbank8_b_air      4859 non-null   float64\n",
      " 30  primary_cleaner.state.floatbank8_b_level    4859 non-null   float64\n",
      " 31  primary_cleaner.state.floatbank8_c_air      4858 non-null   float64\n",
      " 32  primary_cleaner.state.floatbank8_c_level    4859 non-null   float64\n",
      " 33  primary_cleaner.state.floatbank8_d_air      4858 non-null   float64\n",
      " 34  primary_cleaner.state.floatbank8_d_level    4859 non-null   float64\n",
      " 35  secondary_cleaner.state.floatbank2_a_air    4734 non-null   float64\n",
      " 36  secondary_cleaner.state.floatbank2_a_level  4859 non-null   float64\n",
      " 37  secondary_cleaner.state.floatbank2_b_air    4859 non-null   float64\n",
      " 38  secondary_cleaner.state.floatbank2_b_level  4859 non-null   float64\n",
      " 39  secondary_cleaner.state.floatbank3_a_air    4859 non-null   float64\n",
      " 40  secondary_cleaner.state.floatbank3_a_level  4859 non-null   float64\n",
      " 41  secondary_cleaner.state.floatbank3_b_air    4859 non-null   float64\n",
      " 42  secondary_cleaner.state.floatbank3_b_level  4859 non-null   float64\n",
      " 43  secondary_cleaner.state.floatbank4_a_air    4859 non-null   float64\n",
      " 44  secondary_cleaner.state.floatbank4_a_level  4859 non-null   float64\n",
      " 45  secondary_cleaner.state.floatbank4_b_air    4859 non-null   float64\n",
      " 46  secondary_cleaner.state.floatbank4_b_level  4859 non-null   float64\n",
      " 47  secondary_cleaner.state.floatbank5_a_air    4859 non-null   float64\n",
      " 48  secondary_cleaner.state.floatbank5_a_level  4859 non-null   float64\n",
      " 49  secondary_cleaner.state.floatbank5_b_air    4859 non-null   float64\n",
      " 50  secondary_cleaner.state.floatbank5_b_level  4859 non-null   float64\n",
      " 51  secondary_cleaner.state.floatbank6_a_air    4859 non-null   float64\n",
      " 52  secondary_cleaner.state.floatbank6_a_level  4859 non-null   float64\n",
      "dtypes: float64(52), object(1)\n",
      "memory usage: 2.0+ MB\n"
     ]
    }
   ],
   "source": [
    "test.info()"
   ]
  },
  {
   "cell_type": "markdown",
   "metadata": {},
   "source": [
    "Переведём данные о времени в более подходящий для работы вид."
   ]
  },
  {
   "cell_type": "code",
   "execution_count": 7,
   "metadata": {},
   "outputs": [],
   "source": [
    "test['date'] = pd.to_datetime(\n",
    "    test['date'], format='%Y-%m-%d %H:%M:%S'\n",
    ")"
   ]
  },
  {
   "cell_type": "markdown",
   "metadata": {},
   "source": [
    "В данных большое количество пропусков в которых не удалось найти какой-либо системы. Исходя из предположения, что пропущенные значения являются результатом некой технической ошибки, можно было бы удалить все строки, содержащие пропуски, но это приведёт к некоторому сокращению объёма имеющихся данных, так что попробуем рассмотреть ситуацию более детально."
   ]
  },
  {
   "cell_type": "code",
   "execution_count": 8,
   "metadata": {},
   "outputs": [
    {
     "data": {
      "text/plain": [
       "0.9335390946502058"
      ]
     },
     "execution_count": 8,
     "metadata": {},
     "output_type": "execute_result"
    }
   ],
   "source": [
    "test.dropna()['date'].count() / test['date'].count()"
   ]
  },
  {
   "cell_type": "markdown",
   "metadata": {},
   "source": [
    "За отсутвием лучшего варианта, интерпритируем знание о том, что \"Соседние по времени параметры часто похожи.\", таким образом, что станет возможно линейно заполнить недостающие значения."
   ]
  },
  {
   "cell_type": "code",
   "execution_count": 9,
   "metadata": {
    "scrolled": true
   },
   "outputs": [
    {
     "name": "stderr",
     "output_type": "stream",
     "text": [
      "/tmp/ipykernel_116/1416461612.py:15: SettingWithCopyWarning: \n",
      "A value is trying to be set on a copy of a slice from a DataFrame\n",
      "\n",
      "See the caveats in the documentation: https://pandas.pydata.org/pandas-docs/stable/user_guide/indexing.html#returning-a-view-versus-a-copy\n",
      "  a[index[i + n - 1]] = (a[index[i] + j] - a[index[i] - 1]) * (n / (j + 1)) + a[index[i] - 1]\n"
     ]
    }
   ],
   "source": [
    "# берёт на вход series, линейно заполняет в нём пропуски, надеется, что пропусков нет в начале и конце series\n",
    "def nospace_line(a):\n",
    "    index = a[a.isna()].index\n",
    "    i = 0\n",
    "    while (i < len(index)):\n",
    "        n = 0\n",
    "        while True:\n",
    "            n = n + 1\n",
    "            if (i + n == len(index)):\n",
    "                break\n",
    "            if (index[i] + n != index[i + n]):\n",
    "                break\n",
    "        j = n\n",
    "        while (n != 0):\n",
    "            a[index[i + n - 1]] = (a[index[i] + j] - a[index[i] - 1]) * (n / (j + 1)) + a[index[i] - 1]\n",
    "            n = n - 1\n",
    "        i = i + j\n",
    "\n",
    "\n",
    "for i in test.isna().sum()[test.isna().sum() != 0].index:\n",
    "    nospace_line(test[i])"
   ]
  },
  {
   "cell_type": "markdown",
   "metadata": {},
   "source": [
    "Таким образом пропуски в данных оказались заполнены."
   ]
  },
  {
   "cell_type": "code",
   "execution_count": 10,
   "metadata": {},
   "outputs": [
    {
     "name": "stdout",
     "output_type": "stream",
     "text": [
      "<class 'pandas.core.frame.DataFrame'>\n",
      "RangeIndex: 4860 entries, 0 to 4859\n",
      "Data columns (total 53 columns):\n",
      " #   Column                                      Non-Null Count  Dtype         \n",
      "---  ------                                      --------------  -----         \n",
      " 0   date                                        4860 non-null   datetime64[ns]\n",
      " 1   rougher.input.feed_au                       4860 non-null   float64       \n",
      " 2   rougher.input.feed_ag                       4860 non-null   float64       \n",
      " 3   rougher.input.feed_pb                       4860 non-null   float64       \n",
      " 4   rougher.input.feed_sol                      4860 non-null   float64       \n",
      " 5   rougher.input.feed_rate                     4860 non-null   float64       \n",
      " 6   rougher.input.feed_size                     4860 non-null   float64       \n",
      " 7   rougher.input.floatbank10_sulfate           4860 non-null   float64       \n",
      " 8   rougher.input.floatbank10_xanthate          4860 non-null   float64       \n",
      " 9   rougher.state.floatbank10_a_air             4860 non-null   float64       \n",
      " 10  rougher.state.floatbank10_a_level           4860 non-null   float64       \n",
      " 11  rougher.state.floatbank10_b_air             4860 non-null   float64       \n",
      " 12  rougher.state.floatbank10_b_level           4860 non-null   float64       \n",
      " 13  rougher.state.floatbank10_c_air             4860 non-null   float64       \n",
      " 14  rougher.state.floatbank10_c_level           4860 non-null   float64       \n",
      " 15  rougher.state.floatbank10_d_air             4860 non-null   float64       \n",
      " 16  rougher.state.floatbank10_d_level           4860 non-null   float64       \n",
      " 17  rougher.state.floatbank10_e_air             4860 non-null   float64       \n",
      " 18  rougher.state.floatbank10_e_level           4860 non-null   float64       \n",
      " 19  rougher.state.floatbank10_f_air             4860 non-null   float64       \n",
      " 20  rougher.state.floatbank10_f_level           4860 non-null   float64       \n",
      " 21  rougher.input.floatbank11_sulfate           4860 non-null   float64       \n",
      " 22  rougher.input.floatbank11_xanthate          4860 non-null   float64       \n",
      " 23  primary_cleaner.input.sulfate               4860 non-null   float64       \n",
      " 24  primary_cleaner.input.depressant            4860 non-null   float64       \n",
      " 25  primary_cleaner.input.feed_size             4860 non-null   float64       \n",
      " 26  primary_cleaner.input.xanthate              4860 non-null   float64       \n",
      " 27  primary_cleaner.state.floatbank8_a_air      4860 non-null   float64       \n",
      " 28  primary_cleaner.state.floatbank8_a_level    4860 non-null   float64       \n",
      " 29  primary_cleaner.state.floatbank8_b_air      4860 non-null   float64       \n",
      " 30  primary_cleaner.state.floatbank8_b_level    4860 non-null   float64       \n",
      " 31  primary_cleaner.state.floatbank8_c_air      4860 non-null   float64       \n",
      " 32  primary_cleaner.state.floatbank8_c_level    4860 non-null   float64       \n",
      " 33  primary_cleaner.state.floatbank8_d_air      4860 non-null   float64       \n",
      " 34  primary_cleaner.state.floatbank8_d_level    4860 non-null   float64       \n",
      " 35  secondary_cleaner.state.floatbank2_a_air    4860 non-null   float64       \n",
      " 36  secondary_cleaner.state.floatbank2_a_level  4860 non-null   float64       \n",
      " 37  secondary_cleaner.state.floatbank2_b_air    4860 non-null   float64       \n",
      " 38  secondary_cleaner.state.floatbank2_b_level  4860 non-null   float64       \n",
      " 39  secondary_cleaner.state.floatbank3_a_air    4860 non-null   float64       \n",
      " 40  secondary_cleaner.state.floatbank3_a_level  4860 non-null   float64       \n",
      " 41  secondary_cleaner.state.floatbank3_b_air    4860 non-null   float64       \n",
      " 42  secondary_cleaner.state.floatbank3_b_level  4860 non-null   float64       \n",
      " 43  secondary_cleaner.state.floatbank4_a_air    4860 non-null   float64       \n",
      " 44  secondary_cleaner.state.floatbank4_a_level  4860 non-null   float64       \n",
      " 45  secondary_cleaner.state.floatbank4_b_air    4860 non-null   float64       \n",
      " 46  secondary_cleaner.state.floatbank4_b_level  4860 non-null   float64       \n",
      " 47  secondary_cleaner.state.floatbank5_a_air    4860 non-null   float64       \n",
      " 48  secondary_cleaner.state.floatbank5_a_level  4860 non-null   float64       \n",
      " 49  secondary_cleaner.state.floatbank5_b_air    4860 non-null   float64       \n",
      " 50  secondary_cleaner.state.floatbank5_b_level  4860 non-null   float64       \n",
      " 51  secondary_cleaner.state.floatbank6_a_air    4860 non-null   float64       \n",
      " 52  secondary_cleaner.state.floatbank6_a_level  4860 non-null   float64       \n",
      "dtypes: datetime64[ns](1), float64(52)\n",
      "memory usage: 2.0 MB\n"
     ]
    }
   ],
   "source": [
    "test.info()"
   ]
  },
  {
   "cell_type": "markdown",
   "metadata": {},
   "source": [
    "---"
   ]
  },
  {
   "cell_type": "markdown",
   "metadata": {},
   "source": [
    "Существуют признаки, показывающие внушительную суммарную корреляцию с остальными признаками имеющихся данных. Из вывода ниже видно, что особенно большие числа данного показателя получаются при рассмотрении статуса \"воздуха\" и \"уровня\"."
   ]
  },
  {
   "cell_type": "code",
   "execution_count": 11,
   "metadata": {},
   "outputs": [
    {
     "data": {
      "text/plain": [
       "rougher.state.floatbank10_c_air               13.017274\n",
       "rougher.state.floatbank10_c_level             12.846421\n",
       "rougher.state.floatbank10_e_level             12.709060\n",
       "rougher.state.floatbank10_d_level             12.698248\n",
       "secondary_cleaner.state.floatbank6_a_air      12.682838\n",
       "rougher.state.floatbank10_f_level             12.615922\n",
       "rougher.state.floatbank10_b_level             12.607859\n",
       "rougher.state.floatbank10_d_air               12.600829\n",
       "rougher.state.floatbank10_b_air               12.541253\n",
       "secondary_cleaner.state.floatbank5_b_air      12.425363\n",
       "secondary_cleaner.state.floatbank5_a_air      12.347645\n",
       "secondary_cleaner.state.floatbank4_a_air      12.205562\n",
       "primary_cleaner.state.floatbank8_a_air        11.829809\n",
       "secondary_cleaner.state.floatbank4_b_air      11.794457\n",
       "primary_cleaner.state.floatbank8_c_air        11.766593\n",
       "rougher.state.floatbank10_e_air               10.871534\n",
       "primary_cleaner.state.floatbank8_b_air        10.863286\n",
       "rougher.state.floatbank10_a_level             10.829845\n",
       "secondary_cleaner.state.floatbank2_a_air      10.774348\n",
       "rougher.state.floatbank10_f_air               10.735705\n",
       "secondary_cleaner.state.floatbank4_a_level    10.658996\n",
       "secondary_cleaner.state.floatbank2_b_air      10.527205\n",
       "secondary_cleaner.state.floatbank5_a_level    10.394065\n",
       "secondary_cleaner.state.floatbank3_a_air      10.326369\n",
       "rougher.state.floatbank10_a_air               10.208750\n",
       "secondary_cleaner.state.floatbank3_a_level     9.808316\n",
       "secondary_cleaner.state.floatbank3_b_air       9.677017\n",
       "rougher.input.floatbank10_sulfate              8.792566\n",
       "primary_cleaner.input.xanthate                 8.727097\n",
       "secondary_cleaner.state.floatbank5_b_level     8.698256\n",
       "rougher.input.floatbank11_sulfate              8.665405\n",
       "primary_cleaner.input.sulfate                  8.571100\n",
       "primary_cleaner.state.floatbank8_c_level       8.528576\n",
       "primary_cleaner.state.floatbank8_a_level       8.514366\n",
       "rougher.input.floatbank10_xanthate             8.485578\n",
       "primary_cleaner.state.floatbank8_b_level       8.356916\n",
       "rougher.input.feed_au                          8.163576\n",
       "rougher.input.floatbank11_xanthate             8.129535\n",
       "primary_cleaner.state.floatbank8_d_air         7.984826\n",
       "secondary_cleaner.state.floatbank3_b_level     7.888816\n",
       "rougher.input.feed_rate                        7.733444\n",
       "rougher.input.feed_ag                          7.345267\n",
       "rougher.input.feed_sol                         7.237164\n",
       "primary_cleaner.input.depressant               6.929982\n",
       "primary_cleaner.state.floatbank8_d_level       6.818566\n",
       "rougher.input.feed_pb                          6.708091\n",
       "secondary_cleaner.state.floatbank4_b_level     6.666612\n",
       "primary_cleaner.input.feed_size                6.156590\n",
       "secondary_cleaner.state.floatbank2_a_level     5.809862\n",
       "rougher.input.feed_size                        5.601286\n",
       "secondary_cleaner.state.floatbank2_b_level     5.585961\n",
       "secondary_cleaner.state.floatbank6_a_level     4.610831\n",
       "dtype: float64"
      ]
     },
     "execution_count": 11,
     "metadata": {},
     "output_type": "execute_result"
    }
   ],
   "source": [
    "(test.corr().abs().sum() - 1).sort_values(ascending=False)"
   ]
  },
  {
   "cell_type": "markdown",
   "metadata": {},
   "source": [
    "Рассмотрим некоторые строки матрицы корреляции более детально. Из выводов ниже не следует, что первые три признака, несмотря на большую корреляцию друг между другом не являются одним и тем же признаком, поскольку имеют разные кореляции с другими признаками, поэтому в дальнейшем анализе имеет смысл не исключать такие столбцы из рассматриваемых данных. В дальнейшем анализе мы будем предполагать, что все рассматриваемые данные имеют друг между другом корреляции подобного рода или не имеют корреляций вовсе, если явно не будет указано иного."
   ]
  },
  {
   "cell_type": "code",
   "execution_count": 12,
   "metadata": {},
   "outputs": [
    {
     "data": {
      "text/plain": [
       "primary_cleaner.state.floatbank8_a_air      1.000000\n",
       "primary_cleaner.state.floatbank8_b_air      0.921953\n",
       "primary_cleaner.state.floatbank8_c_air      0.899784\n",
       "secondary_cleaner.state.floatbank5_a_air    0.514782\n",
       "secondary_cleaner.state.floatbank4_a_air    0.485548\n",
       "secondary_cleaner.state.floatbank5_b_air    0.480122\n",
       "secondary_cleaner.state.floatbank4_b_air    0.475223\n",
       "secondary_cleaner.state.floatbank3_a_air    0.434888\n",
       "rougher.state.floatbank10_a_air             0.373165\n",
       "secondary_cleaner.state.floatbank3_b_air    0.361719\n",
       "rougher.state.floatbank10_b_level           0.357625\n",
       "secondary_cleaner.state.floatbank6_a_air    0.352898\n",
       "Name: primary_cleaner.state.floatbank8_a_air, dtype: float64"
      ]
     },
     "execution_count": 12,
     "metadata": {},
     "output_type": "execute_result"
    }
   ],
   "source": [
    "test.corr()['primary_cleaner.state.floatbank8_a_air'].abs().sort_values(ascending=False).head(12)"
   ]
  },
  {
   "cell_type": "code",
   "execution_count": 13,
   "metadata": {},
   "outputs": [
    {
     "data": {
      "text/plain": [
       "primary_cleaner.state.floatbank8_b_air      1.000000\n",
       "primary_cleaner.state.floatbank8_a_air      0.921953\n",
       "primary_cleaner.state.floatbank8_c_air      0.907184\n",
       "secondary_cleaner.state.floatbank5_a_air    0.460774\n",
       "secondary_cleaner.state.floatbank4_a_air    0.410043\n",
       "secondary_cleaner.state.floatbank4_b_air    0.409528\n",
       "rougher.state.floatbank10_a_air             0.399532\n",
       "secondary_cleaner.state.floatbank5_b_air    0.391698\n",
       "primary_cleaner.state.floatbank8_d_air      0.362273\n",
       "secondary_cleaner.state.floatbank3_a_air    0.357407\n",
       "rougher.state.floatbank10_b_level           0.356039\n",
       "rougher.state.floatbank10_e_level           0.354788\n",
       "Name: primary_cleaner.state.floatbank8_b_air, dtype: float64"
      ]
     },
     "execution_count": 13,
     "metadata": {},
     "output_type": "execute_result"
    }
   ],
   "source": [
    "test.corr()['primary_cleaner.state.floatbank8_b_air'].abs().sort_values(ascending=False).head(12)"
   ]
  },
  {
   "cell_type": "code",
   "execution_count": 14,
   "metadata": {
    "scrolled": true
   },
   "outputs": [
    {
     "data": {
      "text/plain": [
       "primary_cleaner.state.floatbank8_c_air      1.000000\n",
       "primary_cleaner.state.floatbank8_b_air      0.907184\n",
       "primary_cleaner.state.floatbank8_a_air      0.899784\n",
       "secondary_cleaner.state.floatbank5_a_air    0.552216\n",
       "secondary_cleaner.state.floatbank5_b_air    0.509491\n",
       "secondary_cleaner.state.floatbank4_a_air    0.503327\n",
       "secondary_cleaner.state.floatbank4_b_air    0.492605\n",
       "secondary_cleaner.state.floatbank3_a_air    0.438425\n",
       "rougher.state.floatbank10_a_air             0.408262\n",
       "secondary_cleaner.state.floatbank3_b_air    0.348870\n",
       "primary_cleaner.state.floatbank8_d_air      0.346264\n",
       "rougher.state.floatbank10_e_level           0.330885\n",
       "Name: primary_cleaner.state.floatbank8_c_air, dtype: float64"
      ]
     },
     "execution_count": 14,
     "metadata": {},
     "output_type": "execute_result"
    }
   ],
   "source": [
    "test.corr()['primary_cleaner.state.floatbank8_c_air'].abs().sort_values(ascending=False).head(12)"
   ]
  },
  {
   "cell_type": "markdown",
   "metadata": {},
   "source": [
    "### Обучающая выборка"
   ]
  },
  {
   "cell_type": "markdown",
   "metadata": {},
   "source": [
    "Далее взглянем на обучающую выборку."
   ]
  },
  {
   "cell_type": "code",
   "execution_count": 15,
   "metadata": {},
   "outputs": [
    {
     "name": "stdout",
     "output_type": "stream",
     "text": [
      "<class 'pandas.core.frame.DataFrame'>\n",
      "RangeIndex: 14579 entries, 0 to 14578\n",
      "Data columns (total 87 columns):\n",
      " #   Column                                              Non-Null Count  Dtype  \n",
      "---  ------                                              --------------  -----  \n",
      " 0   date                                                14579 non-null  object \n",
      " 1   rougher.input.feed_au                               14579 non-null  float64\n",
      " 2   rougher.input.feed_ag                               14579 non-null  float64\n",
      " 3   rougher.input.feed_pb                               14507 non-null  float64\n",
      " 4   rougher.input.feed_sol                              14502 non-null  float64\n",
      " 5   rougher.input.feed_rate                             14572 non-null  float64\n",
      " 6   rougher.input.feed_size                             14478 non-null  float64\n",
      " 7   rougher.input.floatbank10_sulfate                   14548 non-null  float64\n",
      " 8   rougher.input.floatbank10_xanthate                  14572 non-null  float64\n",
      " 9   rougher.state.floatbank10_a_air                     14579 non-null  float64\n",
      " 10  rougher.state.floatbank10_a_level                   14579 non-null  float64\n",
      " 11  rougher.state.floatbank10_b_air                     14579 non-null  float64\n",
      " 12  rougher.state.floatbank10_b_level                   14579 non-null  float64\n",
      " 13  rougher.state.floatbank10_c_air                     14579 non-null  float64\n",
      " 14  rougher.state.floatbank10_c_level                   14579 non-null  float64\n",
      " 15  rougher.state.floatbank10_d_air                     14579 non-null  float64\n",
      " 16  rougher.state.floatbank10_d_level                   14579 non-null  float64\n",
      " 17  rougher.state.floatbank10_e_air                     14150 non-null  float64\n",
      " 18  rougher.state.floatbank10_e_level                   14579 non-null  float64\n",
      " 19  rougher.state.floatbank10_f_air                     14579 non-null  float64\n",
      " 20  rougher.state.floatbank10_f_level                   14579 non-null  float64\n",
      " 21  rougher.input.floatbank11_sulfate                   14543 non-null  float64\n",
      " 22  rougher.input.floatbank11_xanthate                  14172 non-null  float64\n",
      " 23  rougher.calculation.sulfate_to_au_concentrate       14578 non-null  float64\n",
      " 24  rougher.calculation.floatbank10_sulfate_to_au_feed  14578 non-null  float64\n",
      " 25  rougher.calculation.floatbank11_sulfate_to_au_feed  14578 non-null  float64\n",
      " 26  rougher.calculation.au_pb_ratio                     14579 non-null  float64\n",
      " 27  rougher.output.concentrate_au                       14579 non-null  float64\n",
      " 28  rougher.output.concentrate_ag                       14579 non-null  float64\n",
      " 29  rougher.output.concentrate_pb                       14579 non-null  float64\n",
      " 30  rougher.output.concentrate_sol                      14561 non-null  float64\n",
      " 31  rougher.output.recovery                             14579 non-null  float64\n",
      " 32  rougher.output.tail_au                              14579 non-null  float64\n",
      " 33  rougher.output.tail_ag                              14578 non-null  float64\n",
      " 34  rougher.output.tail_pb                              14579 non-null  float64\n",
      " 35  rougher.output.tail_sol                             14579 non-null  float64\n",
      " 36  primary_cleaner.input.sulfate                       14556 non-null  float64\n",
      " 37  primary_cleaner.input.depressant                    14551 non-null  float64\n",
      " 38  primary_cleaner.input.feed_size                     14579 non-null  float64\n",
      " 39  primary_cleaner.input.xanthate                      14518 non-null  float64\n",
      " 40  primary_cleaner.state.floatbank8_a_air              14576 non-null  float64\n",
      " 41  primary_cleaner.state.floatbank8_a_level            14579 non-null  float64\n",
      " 42  primary_cleaner.state.floatbank8_b_air              14576 non-null  float64\n",
      " 43  primary_cleaner.state.floatbank8_b_level            14579 non-null  float64\n",
      " 44  primary_cleaner.state.floatbank8_c_air              14579 non-null  float64\n",
      " 45  primary_cleaner.state.floatbank8_c_level            14579 non-null  float64\n",
      " 46  primary_cleaner.state.floatbank8_d_air              14578 non-null  float64\n",
      " 47  primary_cleaner.state.floatbank8_d_level            14579 non-null  float64\n",
      " 48  primary_cleaner.output.concentrate_au               14579 non-null  float64\n",
      " 49  primary_cleaner.output.concentrate_ag               14579 non-null  float64\n",
      " 50  primary_cleaner.output.concentrate_pb               14491 non-null  float64\n",
      " 51  primary_cleaner.output.concentrate_sol              14314 non-null  float64\n",
      " 52  primary_cleaner.output.tail_au                      14579 non-null  float64\n",
      " 53  primary_cleaner.output.tail_ag                      14575 non-null  float64\n",
      " 54  primary_cleaner.output.tail_pb                      14573 non-null  float64\n",
      " 55  primary_cleaner.output.tail_sol                     14534 non-null  float64\n",
      " 56  secondary_cleaner.state.floatbank2_a_air            14485 non-null  float64\n",
      " 57  secondary_cleaner.state.floatbank2_a_level          14579 non-null  float64\n",
      " 58  secondary_cleaner.state.floatbank2_b_air            14557 non-null  float64\n",
      " 59  secondary_cleaner.state.floatbank2_b_level          14579 non-null  float64\n",
      " 60  secondary_cleaner.state.floatbank3_a_air            14567 non-null  float64\n",
      " 61  secondary_cleaner.state.floatbank3_a_level          14579 non-null  float64\n",
      " 62  secondary_cleaner.state.floatbank3_b_air            14579 non-null  float64\n",
      " 63  secondary_cleaner.state.floatbank3_b_level          14579 non-null  float64\n",
      " 64  secondary_cleaner.state.floatbank4_a_air            14574 non-null  float64\n",
      " 65  secondary_cleaner.state.floatbank4_a_level          14579 non-null  float64\n",
      " 66  secondary_cleaner.state.floatbank4_b_air            14579 non-null  float64\n",
      " 67  secondary_cleaner.state.floatbank4_b_level          14579 non-null  float64\n",
      " 68  secondary_cleaner.state.floatbank5_a_air            14579 non-null  float64\n",
      " 69  secondary_cleaner.state.floatbank5_a_level          14579 non-null  float64\n",
      " 70  secondary_cleaner.state.floatbank5_b_air            14579 non-null  float64\n",
      " 71  secondary_cleaner.state.floatbank5_b_level          14579 non-null  float64\n",
      " 72  secondary_cleaner.state.floatbank6_a_air            14578 non-null  float64\n",
      " 73  secondary_cleaner.state.floatbank6_a_level          14579 non-null  float64\n",
      " 74  secondary_cleaner.output.tail_au                    14579 non-null  float64\n",
      " 75  secondary_cleaner.output.tail_ag                    14578 non-null  float64\n",
      " 76  secondary_cleaner.output.tail_pb                    14575 non-null  float64\n",
      " 77  secondary_cleaner.output.tail_sol                   13659 non-null  float64\n",
      " 78  final.output.concentrate_au                         14579 non-null  float64\n",
      " 79  final.output.concentrate_ag                         14578 non-null  float64\n",
      " 80  final.output.concentrate_pb                         14578 non-null  float64\n",
      " 81  final.output.concentrate_sol                        14387 non-null  float64\n",
      " 82  final.output.recovery                               14579 non-null  float64\n",
      " 83  final.output.tail_au                                14579 non-null  float64\n",
      " 84  final.output.tail_ag                                14578 non-null  float64\n",
      " 85  final.output.tail_pb                                14504 non-null  float64\n",
      " 86  final.output.tail_sol                               14574 non-null  float64\n",
      "dtypes: float64(86), object(1)\n",
      "memory usage: 9.7+ MB\n"
     ]
    }
   ],
   "source": [
    "train.info()"
   ]
  },
  {
   "cell_type": "markdown",
   "metadata": {},
   "source": [
    "Переведём данные о времени в более подходящий для работы вид."
   ]
  },
  {
   "cell_type": "code",
   "execution_count": 16,
   "metadata": {},
   "outputs": [],
   "source": [
    "train['date'] = pd.to_datetime(\n",
    "    train['date'], format='%Y-%m-%d %H:%M:%S'\n",
    ")"
   ]
  },
  {
   "cell_type": "markdown",
   "metadata": {},
   "source": [
    "Стоит исключить все посчитанные данные (calculation), поскольку они могут быть получены из других данных из обучающей выборки. Исходя из названий можно предположить, что у них нет линейной зависимости с другими данными, но есть нелинейная зависимость с ними, что может несколько запутать модели, которые будут в дальнейшем работать с этими данными."
   ]
  },
  {
   "cell_type": "code",
   "execution_count": 17,
   "metadata": {},
   "outputs": [],
   "source": [
    "train = train.drop(['rougher.calculation.sulfate_to_au_concentrate',\n",
    "                    'rougher.calculation.floatbank10_sulfate_to_au_feed',\n",
    "                    'rougher.calculation.floatbank11_sulfate_to_au_feed',\n",
    "                    'rougher.calculation.au_pb_ratio'\n",
    "                   ], axis=1)"
   ]
  },
  {
   "cell_type": "markdown",
   "metadata": {},
   "source": [
    "В данных большое количество пропусков в которых не удалось найти какой-либо системы. Исходя из предположения, что пропущенные значения являются результатом некой технической ошибки, можно было бы удалить все строки, содержащие пропуски, но это приведёт к некоторому сокращению объёма имеющихся данных, так что попробуем рассмотреть ситуацию более детально."
   ]
  },
  {
   "cell_type": "code",
   "execution_count": 18,
   "metadata": {},
   "outputs": [
    {
     "data": {
      "text/plain": [
       "0.8462171616708964"
      ]
     },
     "execution_count": 18,
     "metadata": {},
     "output_type": "execute_result"
    }
   ],
   "source": [
    "train.dropna()['date'].count() / train['date'].count()"
   ]
  },
  {
   "cell_type": "markdown",
   "metadata": {},
   "source": [
    "За отсутвием лучшего варианта, интерпритируем знание о том, что \"Соседние по времени параметры часто похожи.\", таким образом, что станет возможно линейно заполнить недостающие значения."
   ]
  },
  {
   "cell_type": "code",
   "execution_count": 19,
   "metadata": {},
   "outputs": [
    {
     "name": "stderr",
     "output_type": "stream",
     "text": [
      "/tmp/ipykernel_116/1416461612.py:15: SettingWithCopyWarning: \n",
      "A value is trying to be set on a copy of a slice from a DataFrame\n",
      "\n",
      "See the caveats in the documentation: https://pandas.pydata.org/pandas-docs/stable/user_guide/indexing.html#returning-a-view-versus-a-copy\n",
      "  a[index[i + n - 1]] = (a[index[i] + j] - a[index[i] - 1]) * (n / (j + 1)) + a[index[i] - 1]\n"
     ]
    }
   ],
   "source": [
    "for i in train.isna().sum()[train.isna().sum() != 0].index:\n",
    "    nospace_line(train[i])"
   ]
  },
  {
   "cell_type": "markdown",
   "metadata": {},
   "source": [
    "Таким образом пропуски в данных оказались заполнены."
   ]
  },
  {
   "cell_type": "code",
   "execution_count": 20,
   "metadata": {
    "scrolled": false
   },
   "outputs": [
    {
     "name": "stdout",
     "output_type": "stream",
     "text": [
      "<class 'pandas.core.frame.DataFrame'>\n",
      "RangeIndex: 14579 entries, 0 to 14578\n",
      "Data columns (total 83 columns):\n",
      " #   Column                                      Non-Null Count  Dtype         \n",
      "---  ------                                      --------------  -----         \n",
      " 0   date                                        14579 non-null  datetime64[ns]\n",
      " 1   rougher.input.feed_au                       14579 non-null  float64       \n",
      " 2   rougher.input.feed_ag                       14579 non-null  float64       \n",
      " 3   rougher.input.feed_pb                       14579 non-null  float64       \n",
      " 4   rougher.input.feed_sol                      14579 non-null  float64       \n",
      " 5   rougher.input.feed_rate                     14579 non-null  float64       \n",
      " 6   rougher.input.feed_size                     14579 non-null  float64       \n",
      " 7   rougher.input.floatbank10_sulfate           14579 non-null  float64       \n",
      " 8   rougher.input.floatbank10_xanthate          14579 non-null  float64       \n",
      " 9   rougher.state.floatbank10_a_air             14579 non-null  float64       \n",
      " 10  rougher.state.floatbank10_a_level           14579 non-null  float64       \n",
      " 11  rougher.state.floatbank10_b_air             14579 non-null  float64       \n",
      " 12  rougher.state.floatbank10_b_level           14579 non-null  float64       \n",
      " 13  rougher.state.floatbank10_c_air             14579 non-null  float64       \n",
      " 14  rougher.state.floatbank10_c_level           14579 non-null  float64       \n",
      " 15  rougher.state.floatbank10_d_air             14579 non-null  float64       \n",
      " 16  rougher.state.floatbank10_d_level           14579 non-null  float64       \n",
      " 17  rougher.state.floatbank10_e_air             14579 non-null  float64       \n",
      " 18  rougher.state.floatbank10_e_level           14579 non-null  float64       \n",
      " 19  rougher.state.floatbank10_f_air             14579 non-null  float64       \n",
      " 20  rougher.state.floatbank10_f_level           14579 non-null  float64       \n",
      " 21  rougher.input.floatbank11_sulfate           14579 non-null  float64       \n",
      " 22  rougher.input.floatbank11_xanthate          14579 non-null  float64       \n",
      " 23  rougher.output.concentrate_au               14579 non-null  float64       \n",
      " 24  rougher.output.concentrate_ag               14579 non-null  float64       \n",
      " 25  rougher.output.concentrate_pb               14579 non-null  float64       \n",
      " 26  rougher.output.concentrate_sol              14579 non-null  float64       \n",
      " 27  rougher.output.recovery                     14579 non-null  float64       \n",
      " 28  rougher.output.tail_au                      14579 non-null  float64       \n",
      " 29  rougher.output.tail_ag                      14579 non-null  float64       \n",
      " 30  rougher.output.tail_pb                      14579 non-null  float64       \n",
      " 31  rougher.output.tail_sol                     14579 non-null  float64       \n",
      " 32  primary_cleaner.input.sulfate               14579 non-null  float64       \n",
      " 33  primary_cleaner.input.depressant            14579 non-null  float64       \n",
      " 34  primary_cleaner.input.feed_size             14579 non-null  float64       \n",
      " 35  primary_cleaner.input.xanthate              14579 non-null  float64       \n",
      " 36  primary_cleaner.state.floatbank8_a_air      14579 non-null  float64       \n",
      " 37  primary_cleaner.state.floatbank8_a_level    14579 non-null  float64       \n",
      " 38  primary_cleaner.state.floatbank8_b_air      14579 non-null  float64       \n",
      " 39  primary_cleaner.state.floatbank8_b_level    14579 non-null  float64       \n",
      " 40  primary_cleaner.state.floatbank8_c_air      14579 non-null  float64       \n",
      " 41  primary_cleaner.state.floatbank8_c_level    14579 non-null  float64       \n",
      " 42  primary_cleaner.state.floatbank8_d_air      14579 non-null  float64       \n",
      " 43  primary_cleaner.state.floatbank8_d_level    14579 non-null  float64       \n",
      " 44  primary_cleaner.output.concentrate_au       14579 non-null  float64       \n",
      " 45  primary_cleaner.output.concentrate_ag       14579 non-null  float64       \n",
      " 46  primary_cleaner.output.concentrate_pb       14579 non-null  float64       \n",
      " 47  primary_cleaner.output.concentrate_sol      14579 non-null  float64       \n",
      " 48  primary_cleaner.output.tail_au              14579 non-null  float64       \n",
      " 49  primary_cleaner.output.tail_ag              14579 non-null  float64       \n",
      " 50  primary_cleaner.output.tail_pb              14579 non-null  float64       \n",
      " 51  primary_cleaner.output.tail_sol             14579 non-null  float64       \n",
      " 52  secondary_cleaner.state.floatbank2_a_air    14579 non-null  float64       \n",
      " 53  secondary_cleaner.state.floatbank2_a_level  14579 non-null  float64       \n",
      " 54  secondary_cleaner.state.floatbank2_b_air    14579 non-null  float64       \n",
      " 55  secondary_cleaner.state.floatbank2_b_level  14579 non-null  float64       \n",
      " 56  secondary_cleaner.state.floatbank3_a_air    14579 non-null  float64       \n",
      " 57  secondary_cleaner.state.floatbank3_a_level  14579 non-null  float64       \n",
      " 58  secondary_cleaner.state.floatbank3_b_air    14579 non-null  float64       \n",
      " 59  secondary_cleaner.state.floatbank3_b_level  14579 non-null  float64       \n",
      " 60  secondary_cleaner.state.floatbank4_a_air    14579 non-null  float64       \n",
      " 61  secondary_cleaner.state.floatbank4_a_level  14579 non-null  float64       \n",
      " 62  secondary_cleaner.state.floatbank4_b_air    14579 non-null  float64       \n",
      " 63  secondary_cleaner.state.floatbank4_b_level  14579 non-null  float64       \n",
      " 64  secondary_cleaner.state.floatbank5_a_air    14579 non-null  float64       \n",
      " 65  secondary_cleaner.state.floatbank5_a_level  14579 non-null  float64       \n",
      " 66  secondary_cleaner.state.floatbank5_b_air    14579 non-null  float64       \n",
      " 67  secondary_cleaner.state.floatbank5_b_level  14579 non-null  float64       \n",
      " 68  secondary_cleaner.state.floatbank6_a_air    14579 non-null  float64       \n",
      " 69  secondary_cleaner.state.floatbank6_a_level  14579 non-null  float64       \n",
      " 70  secondary_cleaner.output.tail_au            14579 non-null  float64       \n",
      " 71  secondary_cleaner.output.tail_ag            14579 non-null  float64       \n",
      " 72  secondary_cleaner.output.tail_pb            14579 non-null  float64       \n",
      " 73  secondary_cleaner.output.tail_sol           14579 non-null  float64       \n",
      " 74  final.output.concentrate_au                 14579 non-null  float64       \n",
      " 75  final.output.concentrate_ag                 14579 non-null  float64       \n",
      " 76  final.output.concentrate_pb                 14579 non-null  float64       \n",
      " 77  final.output.concentrate_sol                14579 non-null  float64       \n",
      " 78  final.output.recovery                       14579 non-null  float64       \n",
      " 79  final.output.tail_au                        14579 non-null  float64       \n",
      " 80  final.output.tail_ag                        14579 non-null  float64       \n",
      " 81  final.output.tail_pb                        14579 non-null  float64       \n",
      " 82  final.output.tail_sol                       14579 non-null  float64       \n",
      "dtypes: datetime64[ns](1), float64(82)\n",
      "memory usage: 9.2 MB\n"
     ]
    }
   ],
   "source": [
    "train.info()"
   ]
  },
  {
   "cell_type": "markdown",
   "metadata": {},
   "source": [
    "Можно также показать высокую суммарную корреляцию у ряда признаков друг между другом."
   ]
  },
  {
   "cell_type": "code",
   "execution_count": 21,
   "metadata": {},
   "outputs": [
    {
     "data": {
      "text/plain": [
       "rougher.state.floatbank10_c_air               18.760035\n",
       "rougher.state.floatbank10_d_air               18.740545\n",
       "rougher.state.floatbank10_c_level             18.707545\n",
       "rougher.state.floatbank10_b_level             18.615291\n",
       "rougher.state.floatbank10_b_air               18.503336\n",
       "                                                ...    \n",
       "primary_cleaner.state.floatbank8_d_level       7.775185\n",
       "final.output.concentrate_pb                    6.807348\n",
       "secondary_cleaner.state.floatbank6_a_level     6.485972\n",
       "rougher.input.feed_size                        6.425859\n",
       "final.output.concentrate_au                    5.768116\n",
       "Length: 82, dtype: float64"
      ]
     },
     "execution_count": 21,
     "metadata": {},
     "output_type": "execute_result"
    }
   ],
   "source": [
    "(train.corr().abs().sum() - 1).sort_values(ascending=False)"
   ]
  },
  {
   "cell_type": "markdown",
   "metadata": {},
   "source": [
    "### Исходные данные"
   ]
  },
  {
   "cell_type": "markdown",
   "metadata": {},
   "source": [
    "Посмотрим на исходные данные."
   ]
  },
  {
   "cell_type": "code",
   "execution_count": 22,
   "metadata": {
    "scrolled": false
   },
   "outputs": [
    {
     "name": "stdout",
     "output_type": "stream",
     "text": [
      "<class 'pandas.core.frame.DataFrame'>\n",
      "RangeIndex: 19439 entries, 0 to 19438\n",
      "Data columns (total 87 columns):\n",
      " #   Column                                              Non-Null Count  Dtype  \n",
      "---  ------                                              --------------  -----  \n",
      " 0   date                                                19439 non-null  object \n",
      " 1   rougher.input.feed_au                               19439 non-null  float64\n",
      " 2   rougher.input.feed_ag                               19439 non-null  float64\n",
      " 3   rougher.input.feed_pb                               19339 non-null  float64\n",
      " 4   rougher.input.feed_sol                              19340 non-null  float64\n",
      " 5   rougher.input.feed_rate                             19428 non-null  float64\n",
      " 6   rougher.input.feed_size                             19294 non-null  float64\n",
      " 7   rougher.input.floatbank10_sulfate                   19405 non-null  float64\n",
      " 8   rougher.input.floatbank10_xanthate                  19431 non-null  float64\n",
      " 9   rougher.state.floatbank10_a_air                     19438 non-null  float64\n",
      " 10  rougher.state.floatbank10_a_level                   19438 non-null  float64\n",
      " 11  rougher.state.floatbank10_b_air                     19438 non-null  float64\n",
      " 12  rougher.state.floatbank10_b_level                   19438 non-null  float64\n",
      " 13  rougher.state.floatbank10_c_air                     19438 non-null  float64\n",
      " 14  rougher.state.floatbank10_c_level                   19438 non-null  float64\n",
      " 15  rougher.state.floatbank10_d_air                     19439 non-null  float64\n",
      " 16  rougher.state.floatbank10_d_level                   19439 non-null  float64\n",
      " 17  rougher.state.floatbank10_e_air                     19003 non-null  float64\n",
      " 18  rougher.state.floatbank10_e_level                   19439 non-null  float64\n",
      " 19  rougher.state.floatbank10_f_air                     19439 non-null  float64\n",
      " 20  rougher.state.floatbank10_f_level                   19439 non-null  float64\n",
      " 21  rougher.input.floatbank11_sulfate                   19395 non-null  float64\n",
      " 22  rougher.input.floatbank11_xanthate                  18986 non-null  float64\n",
      " 23  rougher.calculation.sulfate_to_au_concentrate       19437 non-null  float64\n",
      " 24  rougher.calculation.floatbank10_sulfate_to_au_feed  19437 non-null  float64\n",
      " 25  rougher.calculation.floatbank11_sulfate_to_au_feed  19437 non-null  float64\n",
      " 26  rougher.calculation.au_pb_ratio                     19439 non-null  float64\n",
      " 27  rougher.output.concentrate_au                       19439 non-null  float64\n",
      " 28  rougher.output.concentrate_ag                       19439 non-null  float64\n",
      " 29  rougher.output.concentrate_pb                       19439 non-null  float64\n",
      " 30  rougher.output.concentrate_sol                      19416 non-null  float64\n",
      " 31  rougher.output.recovery                             19439 non-null  float64\n",
      " 32  rougher.output.tail_au                              19439 non-null  float64\n",
      " 33  rougher.output.tail_ag                              19438 non-null  float64\n",
      " 34  rougher.output.tail_pb                              19439 non-null  float64\n",
      " 35  rougher.output.tail_sol                             19439 non-null  float64\n",
      " 36  primary_cleaner.input.sulfate                       19415 non-null  float64\n",
      " 37  primary_cleaner.input.depressant                    19402 non-null  float64\n",
      " 38  primary_cleaner.input.feed_size                     19439 non-null  float64\n",
      " 39  primary_cleaner.input.xanthate                      19335 non-null  float64\n",
      " 40  primary_cleaner.state.floatbank8_a_air              19435 non-null  float64\n",
      " 41  primary_cleaner.state.floatbank8_a_level            19438 non-null  float64\n",
      " 42  primary_cleaner.state.floatbank8_b_air              19435 non-null  float64\n",
      " 43  primary_cleaner.state.floatbank8_b_level            19438 non-null  float64\n",
      " 44  primary_cleaner.state.floatbank8_c_air              19437 non-null  float64\n",
      " 45  primary_cleaner.state.floatbank8_c_level            19438 non-null  float64\n",
      " 46  primary_cleaner.state.floatbank8_d_air              19436 non-null  float64\n",
      " 47  primary_cleaner.state.floatbank8_d_level            19438 non-null  float64\n",
      " 48  primary_cleaner.output.concentrate_au               19439 non-null  float64\n",
      " 49  primary_cleaner.output.concentrate_ag               19439 non-null  float64\n",
      " 50  primary_cleaner.output.concentrate_pb               19323 non-null  float64\n",
      " 51  primary_cleaner.output.concentrate_sol              19069 non-null  float64\n",
      " 52  primary_cleaner.output.tail_au                      19439 non-null  float64\n",
      " 53  primary_cleaner.output.tail_ag                      19435 non-null  float64\n",
      " 54  primary_cleaner.output.tail_pb                      19418 non-null  float64\n",
      " 55  primary_cleaner.output.tail_sol                     19377 non-null  float64\n",
      " 56  secondary_cleaner.state.floatbank2_a_air            19219 non-null  float64\n",
      " 57  secondary_cleaner.state.floatbank2_a_level          19438 non-null  float64\n",
      " 58  secondary_cleaner.state.floatbank2_b_air            19416 non-null  float64\n",
      " 59  secondary_cleaner.state.floatbank2_b_level          19438 non-null  float64\n",
      " 60  secondary_cleaner.state.floatbank3_a_air            19426 non-null  float64\n",
      " 61  secondary_cleaner.state.floatbank3_a_level          19438 non-null  float64\n",
      " 62  secondary_cleaner.state.floatbank3_b_air            19438 non-null  float64\n",
      " 63  secondary_cleaner.state.floatbank3_b_level          19438 non-null  float64\n",
      " 64  secondary_cleaner.state.floatbank4_a_air            19433 non-null  float64\n",
      " 65  secondary_cleaner.state.floatbank4_a_level          19438 non-null  float64\n",
      " 66  secondary_cleaner.state.floatbank4_b_air            19438 non-null  float64\n",
      " 67  secondary_cleaner.state.floatbank4_b_level          19438 non-null  float64\n",
      " 68  secondary_cleaner.state.floatbank5_a_air            19438 non-null  float64\n",
      " 69  secondary_cleaner.state.floatbank5_a_level          19438 non-null  float64\n",
      " 70  secondary_cleaner.state.floatbank5_b_air            19438 non-null  float64\n",
      " 71  secondary_cleaner.state.floatbank5_b_level          19438 non-null  float64\n",
      " 72  secondary_cleaner.state.floatbank6_a_air            19437 non-null  float64\n",
      " 73  secondary_cleaner.state.floatbank6_a_level          19438 non-null  float64\n",
      " 74  secondary_cleaner.output.tail_au                    19439 non-null  float64\n",
      " 75  secondary_cleaner.output.tail_ag                    19437 non-null  float64\n",
      " 76  secondary_cleaner.output.tail_pb                    19427 non-null  float64\n",
      " 77  secondary_cleaner.output.tail_sol                   17691 non-null  float64\n",
      " 78  final.output.concentrate_au                         19439 non-null  float64\n",
      " 79  final.output.concentrate_ag                         19438 non-null  float64\n",
      " 80  final.output.concentrate_pb                         19438 non-null  float64\n",
      " 81  final.output.concentrate_sol                        19228 non-null  float64\n",
      " 82  final.output.recovery                               19439 non-null  float64\n",
      " 83  final.output.tail_au                                19439 non-null  float64\n",
      " 84  final.output.tail_ag                                19438 non-null  float64\n",
      " 85  final.output.tail_pb                                19338 non-null  float64\n",
      " 86  final.output.tail_sol                               19433 non-null  float64\n",
      "dtypes: float64(86), object(1)\n",
      "memory usage: 12.9+ MB\n"
     ]
    }
   ],
   "source": [
    "full.info()"
   ]
  },
  {
   "cell_type": "markdown",
   "metadata": {},
   "source": [
    "Переведём данные о времени в более подходящий для работы вид."
   ]
  },
  {
   "cell_type": "code",
   "execution_count": 23,
   "metadata": {},
   "outputs": [],
   "source": [
    "full['date'] = pd.to_datetime(\n",
    "    full['date'], format='%Y-%m-%d %H:%M:%S'\n",
    ")"
   ]
  },
  {
   "cell_type": "markdown",
   "metadata": {},
   "source": [
    "В данных большое количество пропусков в которых не удалось найти какой-либо системы. Исходя из предположения, что пропущенные значения являются результатом некой технической ошибки, можно было бы удалить все строки, содержащие пропуски, но это приведёт к некоторому сокращению объёма имеющихся данных, так что попробуем рассмотреть ситуацию более детально."
   ]
  },
  {
   "cell_type": "code",
   "execution_count": 24,
   "metadata": {},
   "outputs": [
    {
     "data": {
      "text/plain": [
       "0.8279232470806112"
      ]
     },
     "execution_count": 24,
     "metadata": {},
     "output_type": "execute_result"
    }
   ],
   "source": [
    "full.dropna()['date'].count() / full['date'].count()"
   ]
  },
  {
   "cell_type": "markdown",
   "metadata": {},
   "source": [
    "За отсутвием лучшего варианта, интерпритируем знание о том, что \"Соседние по времени параметры часто похожи.\", таким образом, что станет возможно линейно заполнить недостающие значения."
   ]
  },
  {
   "cell_type": "code",
   "execution_count": 25,
   "metadata": {},
   "outputs": [
    {
     "name": "stderr",
     "output_type": "stream",
     "text": [
      "/tmp/ipykernel_116/1416461612.py:15: SettingWithCopyWarning: \n",
      "A value is trying to be set on a copy of a slice from a DataFrame\n",
      "\n",
      "See the caveats in the documentation: https://pandas.pydata.org/pandas-docs/stable/user_guide/indexing.html#returning-a-view-versus-a-copy\n",
      "  a[index[i + n - 1]] = (a[index[i] + j] - a[index[i] - 1]) * (n / (j + 1)) + a[index[i] - 1]\n"
     ]
    }
   ],
   "source": [
    "for i in full.isna().sum()[full.isna().sum() != 0].index:\n",
    "    nospace_line(full[i])"
   ]
  },
  {
   "cell_type": "markdown",
   "metadata": {},
   "source": [
    "Таким образом пропуски в данных оказались заполнены."
   ]
  },
  {
   "cell_type": "code",
   "execution_count": 26,
   "metadata": {},
   "outputs": [
    {
     "name": "stdout",
     "output_type": "stream",
     "text": [
      "<class 'pandas.core.frame.DataFrame'>\n",
      "RangeIndex: 19439 entries, 0 to 19438\n",
      "Data columns (total 87 columns):\n",
      " #   Column                                              Non-Null Count  Dtype         \n",
      "---  ------                                              --------------  -----         \n",
      " 0   date                                                19439 non-null  datetime64[ns]\n",
      " 1   rougher.input.feed_au                               19439 non-null  float64       \n",
      " 2   rougher.input.feed_ag                               19439 non-null  float64       \n",
      " 3   rougher.input.feed_pb                               19439 non-null  float64       \n",
      " 4   rougher.input.feed_sol                              19439 non-null  float64       \n",
      " 5   rougher.input.feed_rate                             19439 non-null  float64       \n",
      " 6   rougher.input.feed_size                             19439 non-null  float64       \n",
      " 7   rougher.input.floatbank10_sulfate                   19439 non-null  float64       \n",
      " 8   rougher.input.floatbank10_xanthate                  19439 non-null  float64       \n",
      " 9   rougher.state.floatbank10_a_air                     19439 non-null  float64       \n",
      " 10  rougher.state.floatbank10_a_level                   19439 non-null  float64       \n",
      " 11  rougher.state.floatbank10_b_air                     19439 non-null  float64       \n",
      " 12  rougher.state.floatbank10_b_level                   19439 non-null  float64       \n",
      " 13  rougher.state.floatbank10_c_air                     19439 non-null  float64       \n",
      " 14  rougher.state.floatbank10_c_level                   19439 non-null  float64       \n",
      " 15  rougher.state.floatbank10_d_air                     19439 non-null  float64       \n",
      " 16  rougher.state.floatbank10_d_level                   19439 non-null  float64       \n",
      " 17  rougher.state.floatbank10_e_air                     19439 non-null  float64       \n",
      " 18  rougher.state.floatbank10_e_level                   19439 non-null  float64       \n",
      " 19  rougher.state.floatbank10_f_air                     19439 non-null  float64       \n",
      " 20  rougher.state.floatbank10_f_level                   19439 non-null  float64       \n",
      " 21  rougher.input.floatbank11_sulfate                   19439 non-null  float64       \n",
      " 22  rougher.input.floatbank11_xanthate                  19439 non-null  float64       \n",
      " 23  rougher.calculation.sulfate_to_au_concentrate       19439 non-null  float64       \n",
      " 24  rougher.calculation.floatbank10_sulfate_to_au_feed  19439 non-null  float64       \n",
      " 25  rougher.calculation.floatbank11_sulfate_to_au_feed  19439 non-null  float64       \n",
      " 26  rougher.calculation.au_pb_ratio                     19439 non-null  float64       \n",
      " 27  rougher.output.concentrate_au                       19439 non-null  float64       \n",
      " 28  rougher.output.concentrate_ag                       19439 non-null  float64       \n",
      " 29  rougher.output.concentrate_pb                       19439 non-null  float64       \n",
      " 30  rougher.output.concentrate_sol                      19439 non-null  float64       \n",
      " 31  rougher.output.recovery                             19439 non-null  float64       \n",
      " 32  rougher.output.tail_au                              19439 non-null  float64       \n",
      " 33  rougher.output.tail_ag                              19439 non-null  float64       \n",
      " 34  rougher.output.tail_pb                              19439 non-null  float64       \n",
      " 35  rougher.output.tail_sol                             19439 non-null  float64       \n",
      " 36  primary_cleaner.input.sulfate                       19439 non-null  float64       \n",
      " 37  primary_cleaner.input.depressant                    19439 non-null  float64       \n",
      " 38  primary_cleaner.input.feed_size                     19439 non-null  float64       \n",
      " 39  primary_cleaner.input.xanthate                      19439 non-null  float64       \n",
      " 40  primary_cleaner.state.floatbank8_a_air              19439 non-null  float64       \n",
      " 41  primary_cleaner.state.floatbank8_a_level            19439 non-null  float64       \n",
      " 42  primary_cleaner.state.floatbank8_b_air              19439 non-null  float64       \n",
      " 43  primary_cleaner.state.floatbank8_b_level            19439 non-null  float64       \n",
      " 44  primary_cleaner.state.floatbank8_c_air              19439 non-null  float64       \n",
      " 45  primary_cleaner.state.floatbank8_c_level            19439 non-null  float64       \n",
      " 46  primary_cleaner.state.floatbank8_d_air              19439 non-null  float64       \n",
      " 47  primary_cleaner.state.floatbank8_d_level            19439 non-null  float64       \n",
      " 48  primary_cleaner.output.concentrate_au               19439 non-null  float64       \n",
      " 49  primary_cleaner.output.concentrate_ag               19439 non-null  float64       \n",
      " 50  primary_cleaner.output.concentrate_pb               19439 non-null  float64       \n",
      " 51  primary_cleaner.output.concentrate_sol              19439 non-null  float64       \n",
      " 52  primary_cleaner.output.tail_au                      19439 non-null  float64       \n",
      " 53  primary_cleaner.output.tail_ag                      19439 non-null  float64       \n",
      " 54  primary_cleaner.output.tail_pb                      19439 non-null  float64       \n",
      " 55  primary_cleaner.output.tail_sol                     19439 non-null  float64       \n",
      " 56  secondary_cleaner.state.floatbank2_a_air            19439 non-null  float64       \n",
      " 57  secondary_cleaner.state.floatbank2_a_level          19439 non-null  float64       \n",
      " 58  secondary_cleaner.state.floatbank2_b_air            19439 non-null  float64       \n",
      " 59  secondary_cleaner.state.floatbank2_b_level          19439 non-null  float64       \n",
      " 60  secondary_cleaner.state.floatbank3_a_air            19439 non-null  float64       \n",
      " 61  secondary_cleaner.state.floatbank3_a_level          19439 non-null  float64       \n",
      " 62  secondary_cleaner.state.floatbank3_b_air            19439 non-null  float64       \n",
      " 63  secondary_cleaner.state.floatbank3_b_level          19439 non-null  float64       \n",
      " 64  secondary_cleaner.state.floatbank4_a_air            19439 non-null  float64       \n",
      " 65  secondary_cleaner.state.floatbank4_a_level          19439 non-null  float64       \n",
      " 66  secondary_cleaner.state.floatbank4_b_air            19439 non-null  float64       \n",
      " 67  secondary_cleaner.state.floatbank4_b_level          19439 non-null  float64       \n",
      " 68  secondary_cleaner.state.floatbank5_a_air            19439 non-null  float64       \n",
      " 69  secondary_cleaner.state.floatbank5_a_level          19439 non-null  float64       \n",
      " 70  secondary_cleaner.state.floatbank5_b_air            19439 non-null  float64       \n",
      " 71  secondary_cleaner.state.floatbank5_b_level          19439 non-null  float64       \n",
      " 72  secondary_cleaner.state.floatbank6_a_air            19439 non-null  float64       \n",
      " 73  secondary_cleaner.state.floatbank6_a_level          19439 non-null  float64       \n",
      " 74  secondary_cleaner.output.tail_au                    19439 non-null  float64       \n",
      " 75  secondary_cleaner.output.tail_ag                    19439 non-null  float64       \n",
      " 76  secondary_cleaner.output.tail_pb                    19439 non-null  float64       \n",
      " 77  secondary_cleaner.output.tail_sol                   19439 non-null  float64       \n",
      " 78  final.output.concentrate_au                         19439 non-null  float64       \n",
      " 79  final.output.concentrate_ag                         19439 non-null  float64       \n",
      " 80  final.output.concentrate_pb                         19439 non-null  float64       \n",
      " 81  final.output.concentrate_sol                        19439 non-null  float64       \n",
      " 82  final.output.recovery                               19439 non-null  float64       \n",
      " 83  final.output.tail_au                                19439 non-null  float64       \n",
      " 84  final.output.tail_ag                                19439 non-null  float64       \n",
      " 85  final.output.tail_pb                                19439 non-null  float64       \n",
      " 86  final.output.tail_sol                               19439 non-null  float64       \n",
      "dtypes: datetime64[ns](1), float64(86)\n",
      "memory usage: 12.9 MB\n"
     ]
    }
   ],
   "source": [
    "full.info()"
   ]
  },
  {
   "cell_type": "markdown",
   "metadata": {},
   "source": [
    "Можно также показать высокую суммарную корреляцию у ряда признаков друг между другом."
   ]
  },
  {
   "cell_type": "code",
   "execution_count": 27,
   "metadata": {},
   "outputs": [
    {
     "data": {
      "text/plain": [
       "primary_cleaner.output.tail_pb                        19.133651\n",
       "rougher.state.floatbank10_c_air                       18.920251\n",
       "secondary_cleaner.output.tail_pb                      18.907617\n",
       "rougher.state.floatbank10_d_air                       18.789020\n",
       "rougher.state.floatbank10_b_air                       18.519469\n",
       "                                                        ...    \n",
       "secondary_cleaner.state.floatbank6_a_level             6.548981\n",
       "final.output.concentrate_au                            5.914409\n",
       "rougher.calculation.floatbank10_sulfate_to_au_feed     3.932719\n",
       "rougher.calculation.floatbank11_sulfate_to_au_feed     2.930938\n",
       "rougher.calculation.sulfate_to_au_concentrate          0.576996\n",
       "Length: 86, dtype: float64"
      ]
     },
     "execution_count": 27,
     "metadata": {},
     "output_type": "execute_result"
    }
   ],
   "source": [
    "(full.corr().abs().sum() - 1).sort_values(ascending=False)"
   ]
  },
  {
   "cell_type": "markdown",
   "metadata": {},
   "source": [
    "---"
   ]
  },
  {
   "cell_type": "markdown",
   "metadata": {},
   "source": [
    "Можно заметить, что в тестовой выборке не указаны расчётные характеристики. Это связано с тем, что данные величины расчитываются или замеряются несколько позже сбора данных тестовой выборки и не могут быть доступны из неё. Кроме того в тестовой выборке не указаны параметры сырья на всех этапах очистки и финальные характеристики продукта, поскольку данные признаки являются целевыми и не могут быть отнесены к состовляющей тестовой выборки. Они сами являются объектом предсказания, а не признаком данного анализа."
   ]
  },
  {
   "cell_type": "markdown",
   "metadata": {},
   "source": [
    "## Анализ данных"
   ]
  },
  {
   "cell_type": "markdown",
   "metadata": {},
   "source": [
    "Чтобы лучше представлять себе суть происходящих с сырьём процессов проанализируем изменение концентраций различных металов в сырье и сравним распределения размеров гранул в обучающей и тестовой выборках."
   ]
  },
  {
   "cell_type": "markdown",
   "metadata": {},
   "source": [
    "### Концентрации металлов"
   ]
  },
  {
   "cell_type": "markdown",
   "metadata": {},
   "source": [
    "Проанализируем изменение распределений концетраций металлов на различных этапах обработки. Эта часть анализа будет произведена на полных данных, чтобы получить наиболее ёмкое представление о происходящем."
   ]
  },
  {
   "cell_type": "markdown",
   "metadata": {},
   "source": [
    "#### Свинец"
   ]
  },
  {
   "cell_type": "markdown",
   "metadata": {},
   "source": [
    "Входящее распределение концентрации свинца имеет нормальный вид с медианой в ~3,5%."
   ]
  },
  {
   "cell_type": "code",
   "execution_count": 28,
   "metadata": {},
   "outputs": [
    {
     "data": {
      "text/plain": [
       "Text(0.5, 0, 'концентрация, %')"
      ]
     },
     "execution_count": 28,
     "metadata": {},
     "output_type": "execute_result"
    },
    {
     "data": {
      "image/png": "[encoded data removed]",
      "text/plain": [
       "<Figure size 720x432 with 1 Axes>"
      ]
     },
     "metadata": {
      "needs_background": "light"
     },
     "output_type": "display_data"
    }
   ],
   "source": [
    "full['rougher.input.feed_pb'].hist(figsize=(10,6), grid=False, density=True)\n",
    "plt.axvline(x=full['rougher.input.feed_pb'].median(), color='#000000', ls='--', linewidth=1)\n",
    "plt.title('Распределение концентрации Pb в сырье')\n",
    "plt.ylabel('доля записей', style='italic')\n",
    "plt.xlabel('концентрация, %', style='italic')"
   ]
  },
  {
   "cell_type": "markdown",
   "metadata": {},
   "source": [
    "Видно, что после обработки распределение сместилось \"вправо\", в сторону увеличения концентрации металла. медиана при этом выросла до ~8%. Однако заметно, что в отдельных случаях после этапа флотации концентрация падает почти до нуля."
   ]
  },
  {
   "cell_type": "code",
   "execution_count": 29,
   "metadata": {},
   "outputs": [
    {
     "data": {
      "text/plain": [
       "Text(0.5, 0, 'концентрация, %')"
      ]
     },
     "execution_count": 29,
     "metadata": {},
     "output_type": "execute_result"
    },
    {
     "data": {
      "image/png": "[encoded data removed]",
      "text/plain": [
       "<Figure size 720x432 with 1 Axes>"
      ]
     },
     "metadata": {
      "needs_background": "light"
     },
     "output_type": "display_data"
    }
   ],
   "source": [
    "full['rougher.output.concentrate_pb'].hist(figsize=(10,6), grid=False, density=True)\n",
    "plt.axvline(x=full['rougher.output.concentrate_pb'].median(), color='#000000', ls='--', linewidth=1)\n",
    "plt.title('Распределение концентрации Pb в сырье после этапа флотации')\n",
    "plt.ylabel('доля записей', style='italic')\n",
    "plt.xlabel('концентрация, %', style='italic')"
   ]
  },
  {
   "cell_type": "markdown",
   "metadata": {},
   "source": [
    "Распределение концентрации в отвальном хвосте имеет больше Пуассоновский вид с медианой ~0.5%."
   ]
  },
  {
   "cell_type": "code",
   "execution_count": 30,
   "metadata": {},
   "outputs": [
    {
     "data": {
      "text/plain": [
       "Text(0.5, 0, 'концентрация, %')"
      ]
     },
     "execution_count": 30,
     "metadata": {},
     "output_type": "execute_result"
    },
    {
     "data": {
      "image/png": "[encoded data removed]",
      "text/plain": [
       "<Figure size 720x432 with 1 Axes>"
      ]
     },
     "metadata": {
      "needs_background": "light"
     },
     "output_type": "display_data"
    }
   ],
   "source": [
    "full['rougher.output.tail_pb'].hist(figsize=(10,6), grid=False, density=True)\n",
    "plt.axvline(x=full['rougher.output.tail_pb'].median(), color='#000000', ls='--', linewidth=1)\n",
    "plt.title('Распределение концентрации Pb в отвальном хвосте после этапа флотации')\n",
    "plt.ylabel('доля записей', style='italic')\n",
    "plt.xlabel('концентрация, %', style='italic')"
   ]
  },
  {
   "cell_type": "markdown",
   "metadata": {},
   "source": [
    "Грубая очистка повышает концентрацию свинца, но в отдельных случаях может понизить её до нуля."
   ]
  },
  {
   "cell_type": "markdown",
   "metadata": {},
   "source": [
    "---"
   ]
  },
  {
   "cell_type": "markdown",
   "metadata": {},
   "source": [
    "После первого этапа очистки распределение снова \"двигается\" в сторогну увеличения концентрации, медиана при этом ~10%."
   ]
  },
  {
   "cell_type": "code",
   "execution_count": 31,
   "metadata": {},
   "outputs": [
    {
     "data": {
      "text/plain": [
       "Text(0.5, 0, 'концентрация, %')"
      ]
     },
     "execution_count": 31,
     "metadata": {},
     "output_type": "execute_result"
    },
    {
     "data": {
      "image/png": "[encoded data removed]",
      "text/plain": [
       "<Figure size 720x432 with 1 Axes>"
      ]
     },
     "metadata": {
      "needs_background": "light"
     },
     "output_type": "display_data"
    }
   ],
   "source": [
    "full['primary_cleaner.output.concentrate_pb'].hist(figsize=(10,6), grid=False, density=True)\n",
    "plt.axvline(x=full['primary_cleaner.output.concentrate_pb'].median(), color='#000000', ls='--', linewidth=1)\n",
    "plt.title('Распределение концентрации Pb в сырье после первого этапа очистки')\n",
    "plt.ylabel('доля записей', style='italic')\n",
    "plt.xlabel('концентрация, %', style='italic')"
   ]
  },
  {
   "cell_type": "markdown",
   "metadata": {},
   "source": [
    "Распределение концентрации в отвальном хвосте имеет более нормальный вид, чем распределение концентрации в отвальном хвосте после грубой очистки, также можно заметить увеличение медианы этого распределения в ~6 раз."
   ]
  },
  {
   "cell_type": "code",
   "execution_count": 32,
   "metadata": {},
   "outputs": [
    {
     "data": {
      "text/plain": [
       "Text(0.5, 0, 'концентрация, %')"
      ]
     },
     "execution_count": 32,
     "metadata": {},
     "output_type": "execute_result"
    },
    {
     "data": {
      "image/png": "[encoded data removed]",
      "text/plain": [
       "<Figure size 720x432 with 1 Axes>"
      ]
     },
     "metadata": {
      "needs_background": "light"
     },
     "output_type": "display_data"
    }
   ],
   "source": [
    "full['primary_cleaner.output.tail_pb'].hist(figsize=(10,6), grid=False, density=True)\n",
    "plt.axvline(x=full['primary_cleaner.output.tail_pb'].median(), color='#000000', ls='--', linewidth=1)\n",
    "plt.title('Распределение концентрации Pb в отвальном хвосте после первого этапа очистки')\n",
    "plt.ylabel('доля записей', style='italic')\n",
    "plt.xlabel('концентрация, %', style='italic')"
   ]
  },
  {
   "cell_type": "markdown",
   "metadata": {},
   "source": [
    "Первый этап очистки также как и грубыая очистка повышает концентрацию свинца в сырье. "
   ]
  },
  {
   "cell_type": "markdown",
   "metadata": {},
   "source": [
    "---"
   ]
  },
  {
   "cell_type": "markdown",
   "metadata": {},
   "source": [
    "Второй этап очистки почти никак не затрагивает медиану распределения концентрации свинца, однако уменьшает его дисперсию."
   ]
  },
  {
   "cell_type": "code",
   "execution_count": 33,
   "metadata": {},
   "outputs": [
    {
     "data": {
      "text/plain": [
       "Text(0.5, 0, 'концентрация, %')"
      ]
     },
     "execution_count": 33,
     "metadata": {},
     "output_type": "execute_result"
    },
    {
     "data": {
      "image/png": "[encoded data removed]",
      "text/plain": [
       "<Figure size 720x432 with 1 Axes>"
      ]
     },
     "metadata": {
      "needs_background": "light"
     },
     "output_type": "display_data"
    }
   ],
   "source": [
    "full['final.output.concentrate_pb'].hist(figsize=(10,6), grid=False, density=True)\n",
    "plt.axvline(x=full['final.output.concentrate_pb'].median(), color='#000000', ls='--', linewidth=1)\n",
    "plt.title('Распределение концентрации Pb в сырье после второго этапа очистки')\n",
    "plt.ylabel('доля записей', style='italic')\n",
    "plt.xlabel('концентрация, %', style='italic')"
   ]
  },
  {
   "cell_type": "markdown",
   "metadata": {},
   "source": [
    "Последнее распределение отвального хвоста более всего близко к нормальному из всех распределений отвальных хвостов свинца, медиана данного распределения несколько ниже медианы распределения отвального хвоста на предыдущем этапе."
   ]
  },
  {
   "cell_type": "code",
   "execution_count": 34,
   "metadata": {},
   "outputs": [
    {
     "data": {
      "text/plain": [
       "Text(0.5, 0, 'концентрация, %')"
      ]
     },
     "execution_count": 34,
     "metadata": {},
     "output_type": "execute_result"
    },
    {
     "data": {
      "image/png": "[encoded data removed]",
      "text/plain": [
       "<Figure size 720x432 with 1 Axes>"
      ]
     },
     "metadata": {
      "needs_background": "light"
     },
     "output_type": "display_data"
    }
   ],
   "source": [
    "full['final.output.tail_pb'].hist(figsize=(10,6), grid=False, density=True)\n",
    "plt.axvline(x=full['final.output.tail_pb'].median(), color='#000000', ls='--', linewidth=1)\n",
    "plt.title('Распределение концентрации Pb в отвальном хвосте после второго этапа очистки')\n",
    "plt.ylabel('доля записей', style='italic')\n",
    "plt.xlabel('концентрация, %', style='italic')"
   ]
  },
  {
   "cell_type": "markdown",
   "metadata": {},
   "source": [
    "Второй этап очистки не влияет на медиану распределения концентрации свинца, но делает это распределение менее дисперсным. Итоговая концентрация свинца после всех циклов очистки выше, чем концентрация свинца в оригинальном сырье."
   ]
  },
  {
   "cell_type": "markdown",
   "metadata": {},
   "source": [
    "#### Серебро"
   ]
  },
  {
   "cell_type": "markdown",
   "metadata": {},
   "source": [
    "Входящее распределение концентрации серебра похоже на нормальное распределение с медианой ~8%."
   ]
  },
  {
   "cell_type": "code",
   "execution_count": 35,
   "metadata": {},
   "outputs": [
    {
     "data": {
      "text/plain": [
       "Text(0.5, 0, 'концентрация, %')"
      ]
     },
     "execution_count": 35,
     "metadata": {},
     "output_type": "execute_result"
    },
    {
     "data": {
      "image/png": "[encoded data removed]",
      "text/plain": [
       "<Figure size 720x432 with 1 Axes>"
      ]
     },
     "metadata": {
      "needs_background": "light"
     },
     "output_type": "display_data"
    }
   ],
   "source": [
    "full['rougher.input.feed_ag'].hist(figsize=(10,6), grid=False, density=True)\n",
    "plt.axvline(x=full['rougher.input.feed_ag'].median(), color='#000000', ls='--', linewidth=1)\n",
    "plt.title('Распределение концентрации Ag в сырье')\n",
    "plt.ylabel('доля записей', style='italic')\n",
    "plt.xlabel('концентрация, %', style='italic')"
   ]
  },
  {
   "cell_type": "markdown",
   "metadata": {},
   "source": [
    "После грубой очистки распределение сместилось в сторону увеличения концентрации, таким образом, что медианная концентрация серебра стала равна ~12%. Однако в некоторых случаях концентрация серебра падает почти до нуля, как это происходит со свинцом."
   ]
  },
  {
   "cell_type": "code",
   "execution_count": 36,
   "metadata": {},
   "outputs": [
    {
     "data": {
      "text/plain": [
       "Text(0.5, 0, 'концентрация, %')"
      ]
     },
     "execution_count": 36,
     "metadata": {},
     "output_type": "execute_result"
    },
    {
     "data": {
      "image/png": "[encoded data removed]",
      "text/plain": [
       "<Figure size 720x432 with 1 Axes>"
      ]
     },
     "metadata": {
      "needs_background": "light"
     },
     "output_type": "display_data"
    }
   ],
   "source": [
    "full['rougher.output.concentrate_ag'].hist(figsize=(10,6), grid=False, density=True)\n",
    "plt.axvline(x=full['rougher.output.concentrate_ag'].median(), color='#000000', ls='--', linewidth=1)\n",
    "plt.title('Распределение концентрации Ag в сырье после этапа флотации')\n",
    "plt.ylabel('доля записей', style='italic')\n",
    "plt.xlabel('концентрация, %', style='italic')"
   ]
  },
  {
   "cell_type": "markdown",
   "metadata": {},
   "source": [
    "В отвальном хвосте наблюдается ненулевая концентрация серебра с медианой ~6%."
   ]
  },
  {
   "cell_type": "code",
   "execution_count": 37,
   "metadata": {},
   "outputs": [
    {
     "data": {
      "text/plain": [
       "Text(0.5, 0, 'концентрация, %')"
      ]
     },
     "execution_count": 37,
     "metadata": {},
     "output_type": "execute_result"
    },
    {
     "data": {
      "image/png": "[encoded data removed]",
      "text/plain": [
       "<Figure size 720x432 with 1 Axes>"
      ]
     },
     "metadata": {
      "needs_background": "light"
     },
     "output_type": "display_data"
    }
   ],
   "source": [
    "full['rougher.output.tail_ag'].hist(figsize=(10,6), grid=False, density=True)\n",
    "plt.axvline(x=full['rougher.output.tail_ag'].median(), color='#000000', ls='--', linewidth=1)\n",
    "plt.title('Распределение концентрации Ag в отвальном хвосте после этапа флотации')\n",
    "plt.ylabel('доля записей', style='italic')\n",
    "plt.xlabel('концентрация, %', style='italic')"
   ]
  },
  {
   "cell_type": "markdown",
   "metadata": {},
   "source": [
    "После грубой очистки концентрация серебра в сырье повышается."
   ]
  },
  {
   "cell_type": "markdown",
   "metadata": {},
   "source": [
    "---"
   ]
  },
  {
   "cell_type": "markdown",
   "metadata": {},
   "source": [
    "После первого этапа очистки распределение концентрации серебра сдвигается в сторону уменьшения и принамет более нормальный вид. Медиана распределения после данного этапа становится равной ~8%."
   ]
  },
  {
   "cell_type": "code",
   "execution_count": 38,
   "metadata": {},
   "outputs": [
    {
     "data": {
      "text/plain": [
       "Text(0.5, 0, 'концентрация, %')"
      ]
     },
     "execution_count": 38,
     "metadata": {},
     "output_type": "execute_result"
    },
    {
     "data": {
      "image/png": "[encoded data removed]",
      "text/plain": [
       "<Figure size 720x432 with 1 Axes>"
      ]
     },
     "metadata": {
      "needs_background": "light"
     },
     "output_type": "display_data"
    }
   ],
   "source": [
    "full['primary_cleaner.output.concentrate_ag'].hist(figsize=(10,6), grid=False, density=True)\n",
    "plt.axvline(x=full['primary_cleaner.output.concentrate_ag'].median(), color='#000000', ls='--', linewidth=1)\n",
    "plt.title('Распределение концентрации Ag в сырье после первого этапа очистки')\n",
    "plt.ylabel('доля записей', style='italic')\n",
    "plt.xlabel('концентрация, %', style='italic')"
   ]
  },
  {
   "cell_type": "markdown",
   "metadata": {},
   "source": [
    "Распределение концентрации серебра в отвальном хвосте напротив, сильно смещается в сторону увеличения, таким образом медиана распределения концентрации серебра в отвальном хвосте становится выше медианы распределения концентрации в сырье."
   ]
  },
  {
   "cell_type": "code",
   "execution_count": 39,
   "metadata": {},
   "outputs": [
    {
     "data": {
      "text/plain": [
       "Text(0.5, 0, 'концентрация, %')"
      ]
     },
     "execution_count": 39,
     "metadata": {},
     "output_type": "execute_result"
    },
    {
     "data": {
      "image/png": "[encoded data removed]",
      "text/plain": [
       "<Figure size 720x432 with 1 Axes>"
      ]
     },
     "metadata": {
      "needs_background": "light"
     },
     "output_type": "display_data"
    }
   ],
   "source": [
    "full['primary_cleaner.output.tail_ag'].hist(figsize=(10,6), grid=False, density=True)\n",
    "plt.axvline(x=full['primary_cleaner.output.tail_ag'].median(), color='#000000', ls='--', linewidth=1)\n",
    "plt.title('Распределение концентрации Ag в отвальном хвосте после первого этапа очистки')\n",
    "plt.ylabel('доля записей', style='italic')\n",
    "plt.xlabel('концентрация, %', style='italic')"
   ]
  },
  {
   "cell_type": "markdown",
   "metadata": {},
   "source": [
    "На этапе первой очистки концентрация серебра в сырье снижается."
   ]
  },
  {
   "cell_type": "markdown",
   "metadata": {},
   "source": [
    "---"
   ]
  },
  {
   "cell_type": "markdown",
   "metadata": {},
   "source": [
    "Второй этап очистки также сдвигает распределение концентрации серебра в сторону уменьшения, делая медиану такого распределения ~5%. Кроме того данный этап уменьшает дисперсию распределния."
   ]
  },
  {
   "cell_type": "code",
   "execution_count": 40,
   "metadata": {},
   "outputs": [
    {
     "data": {
      "text/plain": [
       "Text(0.5, 0, 'концентрация, %')"
      ]
     },
     "execution_count": 40,
     "metadata": {},
     "output_type": "execute_result"
    },
    {
     "data": {
      "image/png": "[encoded data removed]",
      "text/plain": [
       "<Figure size 720x432 with 1 Axes>"
      ]
     },
     "metadata": {
      "needs_background": "light"
     },
     "output_type": "display_data"
    }
   ],
   "source": [
    "full['final.output.concentrate_ag'].hist(figsize=(10,6), grid=False, density=True)\n",
    "plt.axvline(x=full['final.output.concentrate_ag'].median(), color='#000000', ls='--', linewidth=1)\n",
    "plt.title('Распределение концентрации Ag в сырье после второго этапа очистки')\n",
    "plt.ylabel('доля записей', style='italic')\n",
    "plt.xlabel('концентрация, %', style='italic')"
   ]
  },
  {
   "cell_type": "markdown",
   "metadata": {},
   "source": [
    "Распределение концентрации серебра в отвальном хвосте при этом имеет нормальный вид с медианой ~10%."
   ]
  },
  {
   "cell_type": "code",
   "execution_count": 41,
   "metadata": {
    "scrolled": false
   },
   "outputs": [
    {
     "data": {
      "text/plain": [
       "Text(0.5, 0, 'концентрация, %')"
      ]
     },
     "execution_count": 41,
     "metadata": {},
     "output_type": "execute_result"
    },
    {
     "data": {
      "image/png": "[encoded data removed]",
      "text/plain": [
       "<Figure size 720x432 with 1 Axes>"
      ]
     },
     "metadata": {
      "needs_background": "light"
     },
     "output_type": "display_data"
    }
   ],
   "source": [
    "full['final.output.tail_ag'].hist(figsize=(10,6), grid=False, density=True)\n",
    "plt.axvline(x=full['final.output.tail_ag'].median(), color='#000000', ls='--', linewidth=1)\n",
    "plt.title('Распределение концентрации Ag в отвальном хвосте после второго этапа очистки')\n",
    "plt.ylabel('доля записей', style='italic')\n",
    "plt.xlabel('концентрация, %', style='italic')"
   ]
  },
  {
   "cell_type": "markdown",
   "metadata": {},
   "source": [
    "Также как и первый, второй этап очистки снижает концентрацию серебра в сырье. Итоговая концентрация серебра меньше, концентрации серебра в изначальном сырье."
   ]
  },
  {
   "cell_type": "markdown",
   "metadata": {},
   "source": [
    "#### Золото"
   ]
  },
  {
   "cell_type": "markdown",
   "metadata": {},
   "source": [
    "Входящее распределение концентрации золота в образце похоже на входящее распределение серебра, однако медиана распределения золота несколько ниже медианы распределения серебра и составляеет ~8%."
   ]
  },
  {
   "cell_type": "code",
   "execution_count": 42,
   "metadata": {},
   "outputs": [
    {
     "data": {
      "text/plain": [
       "Text(0.5, 0, 'концентрация, %')"
      ]
     },
     "execution_count": 42,
     "metadata": {},
     "output_type": "execute_result"
    },
    {
     "data": {
      "image/png": "[encoded data removed]",
      "text/plain": [
       "<Figure size 720x432 with 1 Axes>"
      ]
     },
     "metadata": {
      "needs_background": "light"
     },
     "output_type": "display_data"
    }
   ],
   "source": [
    "full['rougher.input.feed_au'].hist(figsize=(10,6), grid=False, density=True)\n",
    "plt.axvline(x=full['rougher.input.feed_au'].median(), color='#000000', ls='--', linewidth=1)\n",
    "plt.title('Распределение концентрации Au в сырье')\n",
    "plt.ylabel('доля записей', style='italic')\n",
    "plt.xlabel('концентрация, %', style='italic')"
   ]
  },
  {
   "cell_type": "markdown",
   "metadata": {},
   "source": [
    "После этапа грубой очистки распределение концентрации золота в сырье стремится в сторону увеличения, дисперсия распределения становится меньше, а медиана становится равной ~20%. Также, как и с предыдущими металлами в отдельных случаях концентрация золота в сырье становится близкой к нулевой."
   ]
  },
  {
   "cell_type": "code",
   "execution_count": 43,
   "metadata": {},
   "outputs": [
    {
     "data": {
      "text/plain": [
       "Text(0.5, 0, 'концентрация, %')"
      ]
     },
     "execution_count": 43,
     "metadata": {},
     "output_type": "execute_result"
    },
    {
     "data": {
      "image/png": "[encoded data removed]",
      "text/plain": [
       "<Figure size 720x432 with 1 Axes>"
      ]
     },
     "metadata": {
      "needs_background": "light"
     },
     "output_type": "display_data"
    }
   ],
   "source": [
    "full['rougher.output.concentrate_au'].hist(figsize=(10,6), grid=False, density=True)\n",
    "plt.axvline(x=full['rougher.output.concentrate_au'].median(), color='#000000', ls='--', linewidth=1)\n",
    "plt.title('Распределение концентрации Au в сырье после этапа флотации')\n",
    "plt.ylabel('доля записей', style='italic')\n",
    "plt.xlabel('концентрация, %', style='italic')"
   ]
  },
  {
   "cell_type": "markdown",
   "metadata": {},
   "source": [
    "Концентрация золота в отвальном хвосте имеет медиану ~2%."
   ]
  },
  {
   "cell_type": "code",
   "execution_count": 44,
   "metadata": {},
   "outputs": [
    {
     "data": {
      "text/plain": [
       "Text(0.5, 0, 'концентрация, %')"
      ]
     },
     "execution_count": 44,
     "metadata": {},
     "output_type": "execute_result"
    },
    {
     "data": {
      "image/png": "[encoded data removed]",
      "text/plain": [
       "<Figure size 720x432 with 1 Axes>"
      ]
     },
     "metadata": {
      "needs_background": "light"
     },
     "output_type": "display_data"
    }
   ],
   "source": [
    "full['rougher.output.tail_au'].hist(figsize=(10,6), grid=False, density=True)\n",
    "plt.axvline(x=full['rougher.output.tail_au'].median(), color='#000000', ls='--', linewidth=1)\n",
    "plt.title('Распределение концентрации Au в отвальном хвосте после этапа флотации')\n",
    "plt.ylabel('доля записей', style='italic')\n",
    "plt.xlabel('концентрация, %', style='italic')"
   ]
  },
  {
   "cell_type": "markdown",
   "metadata": {},
   "source": [
    "После этапа грубой очистки концентрация золота в сырье значительно повышается."
   ]
  },
  {
   "cell_type": "markdown",
   "metadata": {},
   "source": [
    "---"
   ]
  },
  {
   "cell_type": "markdown",
   "metadata": {},
   "source": [
    "После первого этапа очистки распределение концентрации золота в сырье продолжает сдвигаться в сторону увеличения, имея медиану ~33%."
   ]
  },
  {
   "cell_type": "code",
   "execution_count": 45,
   "metadata": {},
   "outputs": [
    {
     "data": {
      "text/plain": [
       "Text(0.5, 0, 'концентрация, %')"
      ]
     },
     "execution_count": 45,
     "metadata": {},
     "output_type": "execute_result"
    },
    {
     "data": {
      "image/png": "[encoded data removed]",
      "text/plain": [
       "<Figure size 720x432 with 1 Axes>"
      ]
     },
     "metadata": {
      "needs_background": "light"
     },
     "output_type": "display_data"
    }
   ],
   "source": [
    "full['primary_cleaner.output.concentrate_au'].hist(figsize=(10,6), grid=False, density=True)\n",
    "plt.axvline(x=full['primary_cleaner.output.concentrate_au'].median(), color='#000000', ls='--', linewidth=1)\n",
    "plt.title('Распределение концентрации Au в сырье после первого этапа очистки')\n",
    "plt.ylabel('доля записей', style='italic')\n",
    "plt.xlabel('концентрация, %', style='italic')"
   ]
  },
  {
   "cell_type": "markdown",
   "metadata": {},
   "source": [
    "После первого этапа очистки распределение золота в отвальном хвосте имеет медиану ~3%."
   ]
  },
  {
   "cell_type": "code",
   "execution_count": 46,
   "metadata": {},
   "outputs": [
    {
     "data": {
      "text/plain": [
       "Text(0.5, 0, 'концентрация, %')"
      ]
     },
     "execution_count": 46,
     "metadata": {},
     "output_type": "execute_result"
    },
    {
     "data": {
      "image/png": "[encoded data removed]",
      "text/plain": [
       "<Figure size 720x432 with 1 Axes>"
      ]
     },
     "metadata": {
      "needs_background": "light"
     },
     "output_type": "display_data"
    }
   ],
   "source": [
    "full['primary_cleaner.output.tail_au'].hist(figsize=(10,6), grid=False, density=True)\n",
    "plt.axvline(x=full['primary_cleaner.output.tail_au'].median(), color='#000000', ls='--', linewidth=1)\n",
    "plt.title('Распределение концентрации Au в отвальном хвосте после первого этапа очистки')\n",
    "plt.ylabel('доля записей', style='italic')\n",
    "plt.xlabel('концентрация, %', style='italic')"
   ]
  },
  {
   "cell_type": "markdown",
   "metadata": {},
   "source": [
    "После первого этапа очистки концентрация золота продолжает повышатся."
   ]
  },
  {
   "cell_type": "markdown",
   "metadata": {},
   "source": [
    "---"
   ]
  },
  {
   "cell_type": "markdown",
   "metadata": {},
   "source": [
    "После второго этапа очистки распределение концентрации золота имеет меньшую дисперсию, чем распределение концентрации предыдущего этапа и увеличенную медиану, значение которой становится равным ~45%"
   ]
  },
  {
   "cell_type": "code",
   "execution_count": 47,
   "metadata": {
    "scrolled": false
   },
   "outputs": [
    {
     "data": {
      "text/plain": [
       "Text(0.5, 0, 'концентрация, %')"
      ]
     },
     "execution_count": 47,
     "metadata": {},
     "output_type": "execute_result"
    },
    {
     "data": {
      "image/png": "[encoded data removed]",
      "text/plain": [
       "<Figure size 720x432 with 1 Axes>"
      ]
     },
     "metadata": {
      "needs_background": "light"
     },
     "output_type": "display_data"
    }
   ],
   "source": [
    "full['final.output.concentrate_au'].hist(figsize=(10,6), grid=False, density=True)\n",
    "plt.axvline(x=full['final.output.concentrate_au'].median(), color='#000000', ls='--', linewidth=1)\n",
    "plt.title('Распределение концентрации Au в сырье после второго этапа очистки')\n",
    "plt.ylabel('доля записей', style='italic')\n",
    "plt.xlabel('концентрация, %', style='italic')"
   ]
  },
  {
   "cell_type": "markdown",
   "metadata": {},
   "source": [
    "Распределение золота в отвальном хвосте второго этапа имеет большую дисперсию, чем аналогичное распределение на предыдущем этапе и примерно такую же медиану."
   ]
  },
  {
   "cell_type": "code",
   "execution_count": 48,
   "metadata": {},
   "outputs": [
    {
     "data": {
      "text/plain": [
       "Text(0.5, 0, 'концентрация, %')"
      ]
     },
     "execution_count": 48,
     "metadata": {},
     "output_type": "execute_result"
    },
    {
     "data": {
      "image/png": "[encoded data removed]",
      "text/plain": [
       "<Figure size 720x432 with 1 Axes>"
      ]
     },
     "metadata": {
      "needs_background": "light"
     },
     "output_type": "display_data"
    }
   ],
   "source": [
    "full['final.output.tail_au'].hist(figsize=(10,6), grid=False, density=True)\n",
    "plt.axvline(x=full['final.output.tail_au'].median(), color='#000000', ls='--', linewidth=1)\n",
    "plt.title('Распределение концентрации Au в отвальном хвосте после второго этапа очистки')\n",
    "plt.ylabel('доля записей', style='italic')\n",
    "plt.xlabel('концентрация, %', style='italic')"
   ]
  },
  {
   "cell_type": "markdown",
   "metadata": {},
   "source": [
    "Второй этап очистки продолжает увеличивать концентрацию золота в сырье. Концентрация золота непрерывно увеличивается на протяжении всех этапов обработки."
   ]
  },
  {
   "cell_type": "markdown",
   "metadata": {},
   "source": [
    "#### Суммарная концентрация"
   ]
  },
  {
   "cell_type": "markdown",
   "metadata": {},
   "source": [
    "Можно взглянуть на распределения суммарных концентраций металов на различных этапах очистки. Медиана входящего распределения ~20%."
   ]
  },
  {
   "cell_type": "code",
   "execution_count": 49,
   "metadata": {},
   "outputs": [
    {
     "data": {
      "text/plain": [
       "Text(0.5, 0, 'концентрация, %')"
      ]
     },
     "execution_count": 49,
     "metadata": {},
     "output_type": "execute_result"
    },
    {
     "data": {
      "image/png": "[encoded data removed]",
      "text/plain": [
       "<Figure size 720x432 with 1 Axes>"
      ]
     },
     "metadata": {
      "needs_background": "light"
     },
     "output_type": "display_data"
    }
   ],
   "source": [
    "(full['rougher.input.feed_pb'] + full['rougher.input.feed_ag'] + full['rougher.input.feed_au']).hist(figsize=(10,6), grid=False, density=True)\n",
    "plt.axvline(x=(full['rougher.input.feed_pb'] + full['rougher.input.feed_ag'] + full['rougher.input.feed_au']).median(), color='#000000', ls='--', linewidth=1)\n",
    "plt.title('Распределение концентрации металлов в сырье')\n",
    "plt.ylabel('доля записей', style='italic')\n",
    "plt.xlabel('концентрация, %', style='italic')"
   ]
  },
  {
   "cell_type": "markdown",
   "metadata": {},
   "source": [
    "Грубая обработка повышает концентрацию металов, однако в части сырья их концентрация падает почти до нуля."
   ]
  },
  {
   "cell_type": "code",
   "execution_count": 50,
   "metadata": {},
   "outputs": [
    {
     "data": {
      "text/plain": [
       "Text(0.5, 0, 'концентрация, %')"
      ]
     },
     "execution_count": 50,
     "metadata": {},
     "output_type": "execute_result"
    },
    {
     "data": {
      "image/png": "[encoded data removed]",
      "text/plain": [
       "<Figure size 720x432 with 1 Axes>"
      ]
     },
     "metadata": {
      "needs_background": "light"
     },
     "output_type": "display_data"
    }
   ],
   "source": [
    "(full['rougher.output.concentrate_pb'] + full['rougher.output.concentrate_au'] + full['rougher.output.concentrate_ag']).hist(figsize=(10,6), grid=False, density=True)\n",
    "plt.axvline(x=(full['rougher.output.concentrate_pb'] + full['rougher.output.concentrate_au'] + full['rougher.output.concentrate_ag']).median(), color='#000000', ls='--', linewidth=1)\n",
    "plt.title('Распределение концентрации металлов в сырье после этапа флотации')\n",
    "plt.ylabel('доля записей', style='italic')\n",
    "plt.xlabel('концентрация, %', style='italic')"
   ]
  },
  {
   "cell_type": "markdown",
   "metadata": {},
   "source": [
    "Первый этап очистки также увеличивает концентрацию, но кроме того увеличивает и дисперсию распределения металов."
   ]
  },
  {
   "cell_type": "code",
   "execution_count": 51,
   "metadata": {},
   "outputs": [
    {
     "data": {
      "text/plain": [
       "Text(0.5, 0, 'концентрация, %')"
      ]
     },
     "execution_count": 51,
     "metadata": {},
     "output_type": "execute_result"
    },
    {
     "data": {
      "image/png": "[encoded data removed]",
      "text/plain": [
       "<Figure size 720x432 with 1 Axes>"
      ]
     },
     "metadata": {
      "needs_background": "light"
     },
     "output_type": "display_data"
    }
   ],
   "source": [
    "(full['primary_cleaner.output.concentrate_pb'] + full['primary_cleaner.output.concentrate_au'] + full['primary_cleaner.output.concentrate_ag']).hist(figsize=(10,6), grid=False, density=True)\n",
    "plt.axvline(x=(full['primary_cleaner.output.concentrate_pb'] + full['primary_cleaner.output.concentrate_au'] + full['primary_cleaner.output.concentrate_ag']).median(), color='#000000', ls='--', linewidth=1)\n",
    "plt.title('Распределение концентрации металлов в сырье после первого этапа очистки')\n",
    "plt.ylabel('доля записей', style='italic')\n",
    "plt.xlabel('концентрация, %', style='italic')"
   ]
  },
  {
   "cell_type": "markdown",
   "metadata": {},
   "source": [
    "Второй этап очистки продолжает увеличивать суммарную концентрацию металлов, но кроме этого значительно уменьшает дисперсию распределения, можно предположить, что последнее является главной задачей этого этапа."
   ]
  },
  {
   "cell_type": "code",
   "execution_count": 52,
   "metadata": {
    "scrolled": false
   },
   "outputs": [
    {
     "data": {
      "text/plain": [
       "Text(0.5, 0, 'концентрация, %')"
      ]
     },
     "execution_count": 52,
     "metadata": {},
     "output_type": "execute_result"
    },
    {
     "data": {
      "image/png": "[encoded data removed]",
      "text/plain": [
       "<Figure size 720x432 with 1 Axes>"
      ]
     },
     "metadata": {
      "needs_background": "light"
     },
     "output_type": "display_data"
    }
   ],
   "source": [
    "(full['final.output.concentrate_pb'] + full['final.output.concentrate_au'] + full['final.output.concentrate_ag']).hist(figsize=(10,6), grid=False, density=True)\n",
    "plt.axvline(x=(full['final.output.concentrate_pb'] + full['final.output.concentrate_au'] + full['final.output.concentrate_ag']).median(), color='#000000', ls='--', linewidth=1)\n",
    "plt.title('Распределение концентрации металлов в сырье после второго этапа очистки')\n",
    "plt.ylabel('доля записей', style='italic')\n",
    "plt.xlabel('концентрация, %', style='italic')"
   ]
  },
  {
   "cell_type": "markdown",
   "metadata": {},
   "source": [
    "---"
   ]
  },
  {
   "cell_type": "markdown",
   "metadata": {},
   "source": [
    "Для большей наглядности можно взглянуть на медианы концентраций сырья на каждом из этапов, чтобы можно было удобнее их сравнивать друг между другом и отслеживать динамику распределений."
   ]
  },
  {
   "cell_type": "markdown",
   "metadata": {},
   "source": [
    "Из рисунка видно, что в изначальном сырье концентрация серебра наибольшая, а концентрация золота лишь на втором месте из всех металлов. После грубой очистки ситуация изменяется и концентрация золота становится наибольшей, кроме того на данном этапе увеличивается концентрация всех металлов в сырье. После первого этапа очистки концентрация серебра уменьшается, но концентрации свинца и золота вырастают, последняя при этом демонстрирует наибольший рост. После этапа второй очистки суммарная концетрация металлов ~60%, при этом значительную часть этой концентрации занимает золото, которая повысилась по сравнению с предыдущем этапом. Также на данном этапе продолжает уменьшаться концентрация серебра, но концентрация свинца остаётся неизменной по сравнению с предыдущем этапом."
   ]
  },
  {
   "cell_type": "code",
   "execution_count": 53,
   "metadata": {},
   "outputs": [
    {
     "data": {
      "text/plain": [
       "Text(0.5, 0, 'этап')"
      ]
     },
     "execution_count": 53,
     "metadata": {},
     "output_type": "execute_result"
    },
    {
     "data": {
      "image/png": "[encoded data removed]",
      "text/plain": [
       "<Figure size 720x432 with 1 Axes>"
      ]
     },
     "metadata": {
      "needs_background": "light"
     },
     "output_type": "display_data"
    }
   ],
   "source": [
    "(\n",
    "    pd.DataFrame(data={'Pb' : [full['rougher.input.feed_pb'].median(), full['rougher.output.concentrate_pb'].median(), full['primary_cleaner.output.concentrate_pb'].median(), full['final.output.concentrate_pb'].median()],\n",
    "                       'Ag' : [full['rougher.input.feed_ag'].median(), full['rougher.output.concentrate_ag'].median(), full['primary_cleaner.output.concentrate_ag'].median(), full['final.output.concentrate_ag'].median()],\n",
    "                       'Au' : [full['rougher.input.feed_au'].median(), full['rougher.output.concentrate_au'].median(), full['primary_cleaner.output.concentrate_au'].median(), full['final.output.concentrate_au'].median()]\n",
    "                      },\n",
    "                 index=['сырьё', 'флотация', 'первая очистка', 'вторая очистка'])\n",
    "    .plot(kind='bar', stacked=True, figsize=(10,6), align='center')\n",
    ")\n",
    "plt.title('Сравнение медиан концентраций сырья на каждом из этапов')\n",
    "plt.ylabel('концентрация, %', style='italic')\n",
    "plt.xlabel('этап', style='italic')"
   ]
  },
  {
   "cell_type": "markdown",
   "metadata": {},
   "source": [
    "### Размеры гранул"
   ]
  },
  {
   "cell_type": "markdown",
   "metadata": {},
   "source": [
    "Можно также сравнить между собой распределения размеров гранул оригинального сырья в обучающей и тестовой выборках, чтобы убедиться в том, что они различаются несильно или не различаются совсем, потому что в противном случая оценка модели будет некорректной."
   ]
  },
  {
   "cell_type": "code",
   "execution_count": 54,
   "metadata": {},
   "outputs": [
    {
     "data": {
      "text/plain": [
       "(0.0, 120.0)"
      ]
     },
     "execution_count": 54,
     "metadata": {},
     "output_type": "execute_result"
    },
    {
     "data": {
      "image/png": "[encoded data removed]",
      "text/plain": [
       "<Figure size 720x432 with 1 Axes>"
      ]
     },
     "metadata": {
      "needs_background": "light"
     },
     "output_type": "display_data"
    }
   ],
   "source": [
    "test['rougher.input.feed_size'].hist(\n",
    "                                        figsize=(10,6),\n",
    "                                        grid=False, bins=round(test['rougher.input.feed_size'].max() / 2),\n",
    "                                        density=True,\n",
    "                                        alpha=0.6,\n",
    "                                        color='#EEC643'\n",
    "                                    )\n",
    "train['rougher.input.feed_size'].hist(\n",
    "                                        figsize=(10,6),\n",
    "                                        grid=False,\n",
    "                                        bins=round(train['rougher.input.feed_size'].max() / 2),\n",
    "                                        density=True,\n",
    "                                        alpha=0.4,\n",
    "                                        color='#0D21A1'\n",
    "                                     )\n",
    "plt.title('Распределение среднего? размера вдоль произвольного направления? гранул\\nв сырье для различных выборок')\n",
    "plt.ylabel('доля записей', style='italic')\n",
    "plt.xlabel('размер, мкм?', style='italic')\n",
    "plt.legend(['тестовая','обучающая'])\n",
    "plt.axvline(x=test['rougher.input.feed_size'].median(), color='#EEC643', ls='--', linewidth=1)\n",
    "plt.axvline(x=train['rougher.input.feed_size'].median(), color='#0D21A1', ls='--', linewidth=1)\n",
    "plt.xlim(0, 120)"
   ]
  },
  {
   "cell_type": "markdown",
   "metadata": {},
   "source": [
    "<div class=\"alert alert-block alert-info\">\n",
    "<b>Комментарий:</b>\n",
    "Я не нашёл информации о том что в указанных данных означает \"размер гранул\" (очевидно, что гранулы имеют разный размер и неправильную форму, но в имеющихся данных мы имеем только одну цифру размера, связанную с конкретной датой), причём указание на единицы измерения этой величины также отсутсвуют, поэтому на данных графиках присутсвует ряд смелых предположений относительно этих данных. \n",
    "</div>"
   ]
  },
  {
   "cell_type": "markdown",
   "metadata": {},
   "source": [
    "Хотя распределение размеров гранул тестовой выборки, как видно из приведённого рисунка и имеет небольшой дополнительный пик, мы не будем считать это за сильное различе между выборками, что позволяет нам быть в большей уверенности относительно корректности последующих оценок моделей."
   ]
  },
  {
   "cell_type": "markdown",
   "metadata": {},
   "source": [
    "## Модель"
   ]
  },
  {
   "cell_type": "markdown",
   "metadata": {},
   "source": [
    "В процессе подбора наиболее подходящей модели будет необходимо каким-либо образом оценивать качество этих моделей. Для этого можно ввести подходящуюю метрику качества и вычислять её в процентах."
   ]
  },
  {
   "cell_type": "code",
   "execution_count": 55,
   "metadata": {},
   "outputs": [],
   "source": [
    "# симметричное среднее абсолютное процентное отклонение\n",
    "# целевой признак, предсказание\n",
    "def smape(a,b):\n",
    "    return (2 * np.abs(a - b) / (np.abs(a) + np.abs(b))).mean()\n",
    "\n",
    "# итоговое симметричное среднее абсолютное процентное отклонение\n",
    "# целевой признак чернового, предсказание чернового, целевой признак финальный, предсказание финальный\n",
    "def proba(rv,rp,fv,fp):\n",
    "    return smape(rv,rp) * 25 + smape(fp,fv) * 75 # проценты"
   ]
  },
  {
   "cell_type": "markdown",
   "metadata": {},
   "source": [
    "### Поиск"
   ]
  },
  {
   "cell_type": "markdown",
   "metadata": {},
   "source": [
    "#### Первый вариант"
   ]
  },
  {
   "cell_type": "markdown",
   "metadata": {},
   "source": [
    "Обучим множество моделей и сравним их качество кросс-валидацией. Поскольку, как указано в функции выше, в данном анализе для определения качества моделей нам потребуются две величины: обогащение сырья после флотации и финальное обогащени сырья, то и в процессе сравнения моделей нам придётся их находить. Обогащение сырья после какого либо этапа мы можем найти, зная концентрации вещества в сырье перед этим этапом, после этого этапа и в отвальном хвосте, через функцию, описанную в [начале данного анализа](#m1), но тестовые данные не предполагают наличия знания о каких-либо концентрациях после процесса, поэтому задачей наших моделей будет предсказать недостающие данные:\n",
    "\n",
    "1. Концентрацию золота в сырье после флотации (`rougher.output.concentrate_au`)\n",
    "2. Концентрацию золота в отвальном хвосте после флотации (`rougher.output.tail_au`)\n",
    "3. Концентрацию золота в финальном сырье (`final.output.concentrate_au`)\n",
    "4. Концентрацию золота в итоговом отвальном хвосте (`final.output.tail_au`)\n",
    "\n",
    "После этого, у нас появится возможность вычислить метрики качества моделей и сравнить их друг с другом. Учитывая, что нам требуется предсказать сразу четыре величины, будем подбирать модель под каждую из них, чтобы найти лучшее сочетание."
   ]
  },
  {
   "cell_type": "code",
   "execution_count": 56,
   "metadata": {
    "scrolled": false
   },
   "outputs": [
    {
     "name": "stdout",
     "output_type": "stream",
     "text": [
      "0 : LinearRegression()\n",
      "*....\n",
      ".*...\n",
      "..*..\n",
      "...*.\n",
      "....*\n",
      "0 : RandomForestRegressor(max_features='sqrt', n_estimators=10, random_state=42)\n",
      "*....\n",
      ".*...\n",
      "..*..\n",
      "...*.\n",
      "....*\n",
      "0 : DecisionTreeRegressor(random_state=42)\n",
      "*....\n",
      ".*...\n",
      "..*..\n",
      "...*.\n",
      "....*\n",
      "0 : KNeighborsRegressor(n_neighbors=4)\n",
      "*....\n",
      ".*...\n",
      "..*..\n",
      "...*.\n",
      "....*\n",
      "0 : SVR()\n",
      "*....\n",
      ".*...\n",
      "..*..\n",
      "...*.\n",
      "....*\n",
      "1 : LinearRegression()\n",
      "*....\n",
      ".*...\n",
      "..*..\n",
      "...*.\n",
      "....*\n",
      "1 : RandomForestRegressor(max_features='sqrt', n_estimators=10, random_state=42)\n",
      "*....\n",
      ".*...\n",
      "..*..\n",
      "...*.\n",
      "....*\n",
      "1 : DecisionTreeRegressor(random_state=42)\n",
      "*....\n",
      ".*...\n",
      "..*..\n",
      "...*.\n",
      "....*\n",
      "1 : KNeighborsRegressor(n_neighbors=4)\n",
      "*....\n",
      ".*...\n",
      "..*..\n",
      "...*.\n",
      "....*\n",
      "1 : SVR()\n",
      "*....\n",
      ".*...\n",
      "..*..\n",
      "...*.\n",
      "....*\n",
      "2 : LinearRegression()\n",
      "*....\n",
      ".*...\n",
      "..*..\n",
      "...*.\n",
      "....*\n",
      "2 : RandomForestRegressor(max_features='sqrt', n_estimators=10, random_state=42)\n",
      "*....\n",
      ".*...\n",
      "..*..\n",
      "...*.\n",
      "....*\n",
      "2 : DecisionTreeRegressor(random_state=42)\n",
      "*....\n",
      ".*...\n",
      "..*..\n",
      "...*.\n",
      "....*\n",
      "2 : KNeighborsRegressor(n_neighbors=4)\n",
      "*....\n",
      ".*...\n",
      "..*..\n",
      "...*.\n",
      "....*\n",
      "2 : SVR()\n",
      "*....\n",
      ".*...\n",
      "..*..\n",
      "...*.\n",
      "....*\n",
      "3 : LinearRegression()\n",
      "*....\n",
      ".*...\n",
      "..*..\n",
      "...*.\n",
      "....*\n",
      "3 : RandomForestRegressor(max_features='sqrt', n_estimators=10, random_state=42)\n",
      "*....\n",
      ".*...\n",
      "..*..\n",
      "...*.\n",
      "....*\n",
      "3 : DecisionTreeRegressor(random_state=42)\n",
      "*....\n",
      ".*...\n",
      "..*..\n",
      "...*.\n",
      "....*\n",
      "3 : KNeighborsRegressor(n_neighbors=4)\n",
      "*....\n",
      ".*...\n",
      "..*..\n",
      "...*.\n",
      "....*\n",
      "3 : SVR()\n",
      "*....\n",
      ".*...\n",
      "..*..\n",
      "...*.\n",
      "....*\n"
     ]
    }
   ],
   "source": [
    "rrrr = 42 # random_state\n",
    "\n",
    "model = [LinearRegression(), # метод наименьших квадратов\n",
    "         RandomForestRegressor(random_state=rrrr, n_estimators=10, max_features ='sqrt'), # случайный лес\n",
    "         DecisionTreeRegressor(random_state=rrrr), # дерево решений\n",
    "         KNeighborsRegressor(n_neighbors=4), # метод ближайших соседей\n",
    "         SVR(), # метод опорных векторов\n",
    "        ]\n",
    "\n",
    "# конечная цель - получить модель, которая будет предсказывать на основании тестовых данных, поэтому обучающие данные должны содержать те признаки, которые есть в тестовых данных (наверное)\n",
    "f = train[train.columns.intersection(test.columns)]\n",
    "# признаки (предпологается, что целевые признаки не зависят от даты)\n",
    "f = f.drop(['date'], axis=1)\n",
    "# целевые признаки\n",
    "t = [\n",
    "        train['rougher.output.concentrate_au'], # концентрация в сырье после флотации\n",
    "        train['rougher.output.tail_au'],        # концентрация в отвальном хвосте после флотации\n",
    "        train['final.output.concentrate_au'],   # концентрация в финальном сырье\n",
    "        train['final.output.tail_au']           # концентрация в финальном отвальном хвосте\n",
    "    ]\n",
    "\n",
    "\n",
    "pp = [] # предсказанные концентрации\n",
    "q = 0   # их счётчик\n",
    "\n",
    "# делаем все предсказания\n",
    "n = int(len(train) / 5) # размер одного блока; 5 блоков кросс-валидации\n",
    "for p in t:\n",
    "    pp.append([])\n",
    "    for m in model:\n",
    "        pp[q].append(0)\n",
    "        \n",
    "        print(q, ':', str(m))\n",
    "        d = 0\n",
    "        for i in range(0, len(train) - n, n):\n",
    "            print('.' * d + '*' + '.' * (5 - d - 1)); d = d + 1\n",
    "\n",
    "            # *\n",
    "            vld_index = [j for j in range(i,i + n)]\n",
    "            f_vld = f.loc[vld_index]\n",
    "            \n",
    "            # .\n",
    "            trn_index = [j for j in range(0,i)] + [k for k in range(i + n,len(train))]\n",
    "            f_trn = f.loc[trn_index]\n",
    "            t_trn = p.loc[trn_index]\n",
    "            \n",
    "            m = m.fit(f_trn,t_trn)\n",
    "            \n",
    "            pp[q][-1] = pp[q][-1] + m.predict(f_vld)\n",
    "            \n",
    "        pp[q][-1] = pp[q][-1] / 5 # возможно, это не совсем правильно с точки зрения математики, но искать потом все эти данные в трёхмерном массиве из перебора по одной переменной мне представляет проблематичным\n",
    "    q = q + 1"
   ]
  },
  {
   "cell_type": "code",
   "execution_count": 57,
   "metadata": {
    "scrolled": false
   },
   "outputs": [
    {
     "name": "stdout",
     "output_type": "stream",
     "text": [
      "LinearRegression() + SVR() + LinearRegression() + LinearRegression() \n",
      "> 14.499041214029882\n"
     ]
    }
   ],
   "source": [
    "best_score = 101 # лучшее качество\n",
    "\n",
    "# высчитываем по предсказаному целевые значения\n",
    "k = 0\n",
    "while True:\n",
    "    if (int(int(int(k / len(pp[0])) / len(pp[0])) / len(pp[0])) == len(pp[0])):\n",
    "        break\n",
    "\n",
    "    score = []\n",
    "    for i in range(0, len(train) - n, n): # тот же цикл\n",
    "        # *\n",
    "        # оригинальные значения\n",
    "        vld_index = [j for j in range(i,i + n)]\n",
    "        tr_vld = train.loc[vld_index, 'rougher.output.recovery'] # обогащение сырья после флотации\n",
    "        tf_vld = train.loc[vld_index, 'final.output.recovery']   # итоговое обогащение сырья\n",
    "\n",
    "        # предсказания\n",
    "        tr_prd = (bogat(\n",
    "                            pp[0][int(int(int(k / len(pp[0])) / len(pp[0])) / len(pp[0]))],\n",
    "                            f.loc[vld_index, 'rougher.input.feed_au'], # знаем в тестовой выборке\n",
    "                            pp[1][int(int(k / len(pp[0])) / len(pp[0])) % len(pp[0])]\n",
    "                        ) * 100)\n",
    "        tf_prd = (bogat(\n",
    "                            pp[2][int(k / len(pp[0])) % len(pp[0])],\n",
    "                            f.loc[vld_index, 'rougher.input.feed_au'], # знаем в тестовой выборке\n",
    "                            pp[3][k % len(pp[0])]\n",
    "                        ) * 100)\n",
    "        \n",
    "        score.append(proba(tr_vld, tr_prd, tf_vld, tf_prd))\n",
    "    score = pd.Series(score).mean()\n",
    "#    print(k, ' : ', score, '\\n',\n",
    "#              int(int(int(k / len(pp[0])) / len(pp[0])) / len(pp[0])),\n",
    "#              int(int(k / len(pp[0])) / len(pp[0])) % len(pp[0]),\n",
    "#              int(k / len(pp[0])) % len(pp[0]),\n",
    "#              k % len(pp[0])\n",
    "#         )\n",
    "    if (score < best_score):\n",
    "        best_score = score # лучшее качество\n",
    "        # название моделей\n",
    "        name = str(model[int(int(int(k / len(pp[0])) / len(pp[0])) / len(pp[0]))]) + ' + ' + str(model[int(int(k / len(pp[0])) / len(pp[0])) % len(pp[0])]) + ' + ' + str(model[int(k / len(pp[0])) % len(pp[0])]) + ' + ' + str(model[k % len(pp[0])])\n",
    "    k = k + 1\n",
    "\n",
    "print(name, '\\n>', best_score)"
   ]
  },
  {
   "cell_type": "markdown",
   "metadata": {},
   "source": [
    "Получаем, что оптимальной моделью для всех величин является модель наименьших квадратов, кроме концентрации золота в отвальном хвосте после флотации, для которой лучшей моделью является метод опорных векторов. Среднее отклонение при сочетании выбора таких методов составляет ~14.5%."
   ]
  },
  {
   "cell_type": "markdown",
   "metadata": {},
   "source": [
    "#### Второй вариант"
   ]
  },
  {
   "cell_type": "markdown",
   "metadata": {},
   "source": [
    "Кроме обозначенного выше способа можно попробовать вычислить обогащение сырья после флотации и итоговое обогащение сырья напрямую, не прибегая к опосредованым вычислениям."
   ]
  },
  {
   "cell_type": "code",
   "execution_count": 58,
   "metadata": {
    "scrolled": false
   },
   "outputs": [
    {
     "name": "stdout",
     "output_type": "stream",
     "text": [
      "LinearRegression() + LinearRegression()\n",
      "*....\n",
      ".*...\n",
      "..*..\n",
      "...*.\n",
      "....*\n",
      "> 15.57288517348763\n",
      "LinearRegression() + RandomForestRegressor(max_features='sqrt', n_estimators=10, random_state=42)\n",
      "*....\n",
      ".*...\n",
      "..*..\n",
      "...*.\n",
      "....*\n",
      "> 12.691242822352024\n",
      "LinearRegression() + DecisionTreeRegressor(random_state=42)\n",
      "*....\n",
      ".*...\n",
      "..*..\n",
      "...*.\n",
      "....*\n",
      "> 19.955692058740944\n",
      "LinearRegression() + KNeighborsRegressor(n_neighbors=4)\n",
      "*....\n",
      ".*...\n",
      "..*..\n",
      "...*.\n",
      "....*\n",
      "> 13.926034351349267\n",
      "LinearRegression() + SVR()\n",
      "*....\n",
      ".*...\n",
      "..*..\n",
      "...*.\n",
      "....*\n",
      "> 11.888001954221172\n",
      "RandomForestRegressor(max_features='sqrt', n_estimators=10, random_state=42) + LinearRegression()\n",
      "*....\n",
      ".*...\n",
      "..*..\n",
      "...*.\n",
      "....*\n",
      "> 12.108054674065077\n",
      "RandomForestRegressor(max_features='sqrt', n_estimators=10, random_state=42) + RandomForestRegressor(max_features='sqrt', n_estimators=10, random_state=42)\n",
      "*....\n",
      ".*...\n",
      "..*..\n",
      "...*.\n",
      "....*\n",
      "> 17.160018981457725\n",
      "RandomForestRegressor(max_features='sqrt', n_estimators=10, random_state=42) + DecisionTreeRegressor(random_state=42)\n",
      "*....\n",
      ".*...\n",
      "..*..\n",
      "...*.\n",
      "....*\n",
      "> 20.125176214798508\n",
      "RandomForestRegressor(max_features='sqrt', n_estimators=10, random_state=42) + KNeighborsRegressor(n_neighbors=4)\n",
      "*....\n",
      ".*...\n",
      "..*..\n",
      "...*.\n",
      "....*\n",
      "> 14.095518507406826\n",
      "RandomForestRegressor(max_features='sqrt', n_estimators=10, random_state=42) + SVR()\n",
      "*....\n",
      ".*...\n",
      "..*..\n",
      "...*.\n",
      "....*\n",
      "> 12.057486110278735\n",
      "DecisionTreeRegressor(random_state=42) + LinearRegression()\n",
      "*....\n",
      ".*...\n",
      "..*..\n",
      "...*.\n",
      "....*\n",
      "> 16.37704992962356\n",
      "DecisionTreeRegressor(random_state=42) + RandomForestRegressor(max_features='sqrt', n_estimators=10, random_state=42)\n",
      "*....\n",
      ".*...\n",
      "..*..\n",
      "...*.\n",
      "....*\n",
      "> 17.129722233968064\n",
      "DecisionTreeRegressor(random_state=42) + DecisionTreeRegressor(random_state=42)\n",
      "*....\n",
      ".*...\n",
      "..*..\n",
      "...*.\n",
      "....*\n",
      "> 25.725817155045814\n",
      "DecisionTreeRegressor(random_state=42) + KNeighborsRegressor(n_neighbors=4)\n",
      "*....\n",
      ".*...\n",
      "..*..\n",
      "...*.\n",
      "....*\n",
      "> 18.36451376296531\n",
      "DecisionTreeRegressor(random_state=42) + SVR()\n",
      "*....\n",
      ".*...\n",
      "..*..\n",
      "...*.\n",
      "....*\n",
      "> 16.326481365837218\n",
      "KNeighborsRegressor(n_neighbors=4) + LinearRegression()\n",
      "*....\n",
      ".*...\n",
      "..*..\n",
      "...*.\n",
      "....*\n",
      "> 12.69279888592598\n",
      "KNeighborsRegressor(n_neighbors=4) + RandomForestRegressor(max_features='sqrt', n_estimators=10, random_state=42)\n",
      "*....\n",
      ".*...\n",
      "..*..\n",
      "...*.\n",
      "....*\n",
      "> 13.445471190270485\n",
      "KNeighborsRegressor(n_neighbors=4) + DecisionTreeRegressor(random_state=42)\n",
      "*....\n",
      ".*...\n",
      "..*..\n",
      "...*.\n",
      "....*\n",
      "> 20.709920426659405\n",
      "KNeighborsRegressor(n_neighbors=4) + KNeighborsRegressor(n_neighbors=4)\n",
      "*....\n",
      ".*...\n",
      "..*..\n",
      "...*.\n",
      "....*\n",
      "> 17.898303639902533\n",
      "KNeighborsRegressor(n_neighbors=4) + SVR()\n",
      "*....\n",
      ".*...\n",
      "..*..\n",
      "...*.\n",
      "....*\n",
      "> 12.642230322139635\n",
      "SVR() + LinearRegression()\n",
      "*....\n",
      ".*...\n",
      "..*..\n",
      "...*.\n",
      "....*\n",
      "> 11.521517706724698\n",
      "SVR() + RandomForestRegressor(max_features='sqrt', n_estimators=10, random_state=42)\n",
      "*....\n",
      ".*...\n",
      "..*..\n",
      "...*.\n",
      "....*\n",
      "> 12.274190011069203\n",
      "SVR() + DecisionTreeRegressor(random_state=42)\n",
      "*....\n",
      ".*...\n",
      "..*..\n",
      "...*.\n",
      "....*\n",
      "> 19.538639247458125\n",
      "SVR() + KNeighborsRegressor(n_neighbors=4)\n",
      "*....\n",
      ".*...\n",
      "..*..\n",
      "...*.\n",
      "....*\n",
      "> 13.508981540066447\n",
      "SVR() + SVR()\n",
      "*....\n",
      ".*...\n",
      "..*..\n",
      "...*.\n",
      "....*\n",
      "> 15.34443418332901\n",
      "---\n",
      " SVR() + LinearRegression() \n",
      " 11.521517706724698\n"
     ]
    }
   ],
   "source": [
    "rrrr = 42 # random_state\n",
    "\n",
    "model = [LinearRegression(), # метод наименьших квадратов\n",
    "         RandomForestRegressor(random_state=rrrr, n_estimators=10, max_features ='sqrt'), # случайный лес\n",
    "         DecisionTreeRegressor(random_state=rrrr), # дерево решений\n",
    "         KNeighborsRegressor(n_neighbors=4), # метод ближайших соседей\n",
    "         SVR(), # метод опорных векторов\n",
    "        ]\n",
    "\n",
    "# конечная цель - получить модель, которая будет предсказывать на основании тестовых данных, поэтому обучающие данные должны содержать те признаки, которые есть в тестовых данных (наверное)\n",
    "f = train[train.columns.intersection(test.columns)]\n",
    "# признаки (предпологается, что целевые признаки не зависят от даты)\n",
    "f = f.drop(['date'], axis=1)\n",
    "# целевые признаки\n",
    "tr = train['rougher.output.recovery'] # обогащение сырья после флотации\n",
    "tf = train['final.output.recovery']   # итоговое обогащение сырья\n",
    "\n",
    "\n",
    "best_score = 101 # лучшее качество\n",
    "\n",
    "# очевидно можно сделать оптимальнее, а не перебирать одни и те же модели, но пока это выполняется за разумное время, пусть это будут проблемы компьютера\n",
    "for mr in model:\n",
    "    for mf in model:\n",
    "        m_name = str(mr) + ' + ' + str(mf)\n",
    "        print(m_name)\n",
    "        \n",
    "        score = [] # качество\n",
    "        n = int(len(train) / 5) # размер одного блока; 5 блоков кросс-валидации\n",
    "        \n",
    "        d = 0\n",
    "        for i in range(0, len(train) - n, n):\n",
    "            print('.' * d + '*' + '.' * (5 - d - 1)); d = d + 1\n",
    "            \n",
    "            vld_index = [j for j in range(i,i + n)] # *\n",
    "            trn_index = [j for j in range(0,i)] + [k for k in range(i + n,len(train))] # .\n",
    "            \n",
    "            # .\n",
    "            f_trn = f.loc[trn_index]\n",
    "            tr_trn = tr.loc[trn_index]\n",
    "            tf_trn = tf.loc[trn_index]\n",
    "            # *\n",
    "            f_vld = f.loc[vld_index]\n",
    "            tr_vld = tr.loc[vld_index]\n",
    "            tf_vld = tf.loc[vld_index]\n",
    "            \n",
    "            mr = mr.fit(f_trn,tr_trn)\n",
    "            mf = mf.fit(f_trn,tf_trn)\n",
    "            \n",
    "            score.append(proba(tr_vld,mr.predict(f_vld),tf_vld,mf.predict(f_vld)))\n",
    "        \n",
    "        score = pd.Series(score).mean()\n",
    "        print('>', score)\n",
    "        if score < best_score:\n",
    "            best_name = m_name # сохраним название\n",
    "            best_score = score # лучшее качество\n",
    "\n",
    "print('---\\n', best_name, '\\n', best_score)"
   ]
  },
  {
   "cell_type": "markdown",
   "metadata": {},
   "source": [
    "Самым оптимальным для предсказания обогащения сырья после флотации оказался метод опорных векторов, а для предсказания итогового обогащения сырья метод наименьших квадратов. Среднее отклонение при сочетании выбора таких методов составляет ~11.5%."
   ]
  },
  {
   "cell_type": "markdown",
   "metadata": {},
   "source": [
    "### Тест"
   ]
  },
  {
   "cell_type": "markdown",
   "metadata": {},
   "source": [
    "Поскольку поиск подходящих методов вторым вариантом показал чуть меньшее отклонение дальнейшие рассуждения будем проводить с данными из второго варианта. Обучим модели на всех обучающих данных и проверим их на второй половине полных данных (которые соответсвуют тестовым)."
   ]
  },
  {
   "cell_type": "code",
   "execution_count": 59,
   "metadata": {},
   "outputs": [
    {
     "data": {
      "text/plain": [
       "7.4891303655163375"
      ]
     },
     "execution_count": 59,
     "metadata": {},
     "output_type": "execute_result"
    }
   ],
   "source": [
    "# конечная цель - получить модель, которая будет предсказывать на основании тестовых данных, поэтому обучающие данные должны содержать те признаки, которые есть в тестовых данных (наверное)\n",
    "f = train[train.columns.intersection(test.columns)]\n",
    "# признаки (предпологается, что целевые признаки не зависят от даты)\n",
    "f = f.drop(['date'], axis=1)\n",
    "# целевые признаки\n",
    "tr = train['rougher.output.recovery'] # обогащение сырья после флотации\n",
    "tf = train['final.output.recovery']   # итоговое обогащение сырья\n",
    "\n",
    "\n",
    "# применяем лучшие модели\n",
    "mr = SVR() # метод опорных векторов\n",
    "mf = LinearRegression() # метод наименьших квадратов\n",
    "\n",
    "# тренируем лучшие модели на всей обучающей выборке\n",
    "mr = mr.fit(f,tr)\n",
    "mf = mf.fit(f,tf)\n",
    "\n",
    "\n",
    "# признаки тестовых данных (предпологается, что целевые признаки не зависят от даты)\n",
    "t = test.drop(['date'], axis=1)\n",
    "\n",
    "# проверяем на полных данных\n",
    "# целевые признаки\n",
    "tr = full.loc[full['date'] >= test['date'].min(), 'rougher.output.recovery'] # обогащение сырья после флотации\n",
    "tf = full.loc[full['date'] >= test['date'].min(), 'final.output.recovery']   # итоговое обогащение сырья\n",
    "\n",
    "proba(tr,mr.predict(t),tf,mf.predict(t))"
   ]
  },
  {
   "cell_type": "markdown",
   "metadata": {},
   "source": [
    "Симметричное среднее абсолютное процентное отклонение посчитанное на тестовых данных ~7.5%."
   ]
  },
  {
   "cell_type": "markdown",
   "metadata": {},
   "source": [
    "## Вывод"
   ]
  },
  {
   "cell_type": "markdown",
   "metadata": {},
   "source": [
    "В ходе данного исследования была получена модель, способная предсказать обогащение сырья золотом после флотации и итоговое обогащение золотом сырья по предварительным параметрам сырья, ещё не прошедшего этап грубой обработки. Симметричное среднее абсолютное процентное отклонение между предсказанными данными и тестовыми составило ~7.5%. Данная модель поможет успешно анализировать эффективность производства, чтобы не запускать предприятие с убыточными характеристиками."
   ]
  },
  {
   "cell_type": "markdown",
   "metadata": {},
   "source": [
    "## Чек-лист готовности проекта"
   ]
  },
  {
   "cell_type": "markdown",
   "metadata": {},
   "source": [
    "- [x]  Jupyter Notebook открыт\n",
    "- [x]  Весь код выполняется без ошибок\n",
    "- [x]  Ячейки с кодом расположены в порядке выполнения\n",
    "- [x]  Выполнен шаг 1: данные подготовлены\n",
    "    - [x]  Проверена формула вычисления эффективности обогащения\n",
    "    - [x]  Проанализированы признаки, недоступные в тестовой выборке\n",
    "    - [x]  Проведена предобработка данных\n",
    "- [x]  Выполнен шаг 2: данные проанализированы\n",
    "    - [x]  Исследовано изменение концентрации элементов на каждом этапе\n",
    "    - [x]  Проанализированы распределения размеров гранул на обучающей и тестовой выборках\n",
    "    - [x]  Исследованы суммарные концентрации\n",
    "- [x]  Выполнен шаг 3: построена модель прогнозирования\n",
    "    - [x]  Написана функция для вычисления итогового *sMAPE*\n",
    "    - [x]  Обучено и проверено несколько моделей\n",
    "    - [x]  Выбрана лучшая модель, её качество проверено на тестовой выборке"
   ]
  }
 ],
 "metadata": {
  "ExecuteTimeLog": [
   {
    "duration": 368,
    "start_time": "2023-09-13T08:52:05.077Z"
   },
   {
    "duration": 128,
    "start_time": "2023-09-13T08:52:06.177Z"
   },
   {
    "duration": 2397,
    "start_time": "2023-09-13T08:52:43.715Z"
   },
   {
    "duration": 31,
    "start_time": "2023-09-13T08:53:00.717Z"
   },
   {
    "duration": 21,
    "start_time": "2023-09-13T08:53:30.252Z"
   },
   {
    "duration": 13,
    "start_time": "2023-09-13T08:53:49.606Z"
   },
   {
    "duration": 17,
    "start_time": "2023-09-13T08:54:16.667Z"
   },
   {
    "duration": 36,
    "start_time": "2023-09-13T08:59:01.641Z"
   },
   {
    "duration": 37,
    "start_time": "2023-09-13T08:59:09.080Z"
   },
   {
    "duration": 15,
    "start_time": "2023-09-13T09:01:05.586Z"
   },
   {
    "duration": 21,
    "start_time": "2023-09-13T09:01:29.384Z"
   },
   {
    "duration": 15,
    "start_time": "2023-09-13T09:03:33.005Z"
   },
   {
    "duration": 9,
    "start_time": "2023-09-13T09:09:12.412Z"
   },
   {
    "duration": 12,
    "start_time": "2023-09-13T09:09:21.388Z"
   },
   {
    "duration": 107,
    "start_time": "2023-09-13T09:10:41.563Z"
   },
   {
    "duration": 37,
    "start_time": "2023-09-13T09:11:12.050Z"
   },
   {
    "duration": 41,
    "start_time": "2023-09-13T09:12:01.574Z"
   },
   {
    "duration": 42,
    "start_time": "2023-09-13T09:12:06.071Z"
   },
   {
    "duration": 37,
    "start_time": "2023-09-13T09:12:26.347Z"
   },
   {
    "duration": 38,
    "start_time": "2023-09-13T09:13:03.275Z"
   },
   {
    "duration": 42,
    "start_time": "2023-09-13T09:13:18.253Z"
   },
   {
    "duration": 42,
    "start_time": "2023-09-13T09:14:48.145Z"
   },
   {
    "duration": 81,
    "start_time": "2023-09-13T09:15:07.658Z"
   },
   {
    "duration": 35,
    "start_time": "2023-09-13T09:15:43.839Z"
   },
   {
    "duration": 37,
    "start_time": "2023-09-13T09:15:57.139Z"
   },
   {
    "duration": 37,
    "start_time": "2023-09-13T09:16:44.282Z"
   },
   {
    "duration": 38,
    "start_time": "2023-09-13T09:22:31.963Z"
   },
   {
    "duration": 36,
    "start_time": "2023-09-13T09:24:13.222Z"
   },
   {
    "duration": 37,
    "start_time": "2023-09-13T09:24:21.750Z"
   },
   {
    "duration": 42,
    "start_time": "2023-09-13T09:24:35.877Z"
   },
   {
    "duration": 38,
    "start_time": "2023-09-13T09:25:00.126Z"
   },
   {
    "duration": 45,
    "start_time": "2023-09-13T09:30:26.227Z"
   },
   {
    "duration": 37,
    "start_time": "2023-09-13T09:30:37.530Z"
   },
   {
    "duration": 13,
    "start_time": "2023-09-13T09:38:24.711Z"
   },
   {
    "duration": 14,
    "start_time": "2023-09-13T09:40:08.924Z"
   },
   {
    "duration": 4,
    "start_time": "2023-09-13T09:40:26.853Z"
   },
   {
    "duration": 12,
    "start_time": "2023-09-13T09:40:31.692Z"
   },
   {
    "duration": 40,
    "start_time": "2023-09-13T09:41:48.773Z"
   },
   {
    "duration": 37,
    "start_time": "2023-09-13T09:44:59.259Z"
   },
   {
    "duration": 37,
    "start_time": "2023-09-13T09:51:13.219Z"
   },
   {
    "duration": 36,
    "start_time": "2023-09-13T09:51:40.208Z"
   },
   {
    "duration": 38,
    "start_time": "2023-09-13T09:51:54.202Z"
   },
   {
    "duration": 6,
    "start_time": "2023-09-13T09:56:28.334Z"
   },
   {
    "duration": 32,
    "start_time": "2023-09-13T09:56:45.278Z"
   },
   {
    "duration": 36,
    "start_time": "2023-09-13T09:57:38.521Z"
   },
   {
    "duration": 9,
    "start_time": "2023-09-13T10:00:02.688Z"
   },
   {
    "duration": 5,
    "start_time": "2023-09-13T10:10:26.369Z"
   },
   {
    "duration": 6,
    "start_time": "2023-09-13T10:16:36.019Z"
   },
   {
    "duration": 15,
    "start_time": "2023-09-13T10:17:09.144Z"
   },
   {
    "duration": 12,
    "start_time": "2023-09-13T10:20:36.958Z"
   },
   {
    "duration": 10,
    "start_time": "2023-09-13T10:20:48.889Z"
   },
   {
    "duration": 8,
    "start_time": "2023-09-13T10:26:56.743Z"
   },
   {
    "duration": 905,
    "start_time": "2023-09-13T10:27:00.698Z"
   },
   {
    "duration": 8,
    "start_time": "2023-09-13T10:27:03.819Z"
   },
   {
    "duration": 8,
    "start_time": "2023-09-13T10:35:47.861Z"
   },
   {
    "duration": 6,
    "start_time": "2023-09-13T10:38:00.477Z"
   },
   {
    "duration": 1617,
    "start_time": "2023-09-13T10:38:17.218Z"
   },
   {
    "duration": 6,
    "start_time": "2023-09-13T10:38:25.641Z"
   },
   {
    "duration": 6,
    "start_time": "2023-09-13T10:38:39.905Z"
   },
   {
    "duration": 105,
    "start_time": "2023-09-13T10:39:14.259Z"
   },
   {
    "duration": 7,
    "start_time": "2023-09-13T10:39:26.998Z"
   },
   {
    "duration": 31,
    "start_time": "2023-09-13T10:49:33.135Z"
   },
   {
    "duration": 22,
    "start_time": "2023-09-13T10:51:04.066Z"
   },
   {
    "duration": 29,
    "start_time": "2023-09-13T10:51:19.659Z"
   },
   {
    "duration": 34,
    "start_time": "2023-09-13T10:51:43.758Z"
   },
   {
    "duration": 1824,
    "start_time": "2023-09-13T10:52:23.282Z"
   },
   {
    "duration": 6,
    "start_time": "2023-09-13T10:52:35.046Z"
   },
   {
    "duration": 5,
    "start_time": "2023-09-13T10:56:11.525Z"
   },
   {
    "duration": 14,
    "start_time": "2023-09-13T10:56:28.936Z"
   },
   {
    "duration": 27,
    "start_time": "2023-09-13T10:58:17.053Z"
   },
   {
    "duration": 27,
    "start_time": "2023-09-13T10:58:47.353Z"
   },
   {
    "duration": 6,
    "start_time": "2023-09-13T11:01:27.334Z"
   },
   {
    "duration": 6,
    "start_time": "2023-09-13T11:01:34.258Z"
   },
   {
    "duration": 602,
    "start_time": "2023-09-13T11:02:19.673Z"
   },
   {
    "duration": 6,
    "start_time": "2023-09-13T11:06:55.749Z"
   },
   {
    "duration": 6,
    "start_time": "2023-09-13T11:07:22.955Z"
   },
   {
    "duration": 5,
    "start_time": "2023-09-13T11:07:30.001Z"
   },
   {
    "duration": 6,
    "start_time": "2023-09-13T11:07:37.843Z"
   },
   {
    "duration": 26,
    "start_time": "2023-09-13T11:27:58.670Z"
   },
   {
    "duration": 15,
    "start_time": "2023-09-13T11:28:27.485Z"
   },
   {
    "duration": 21,
    "start_time": "2023-09-13T11:28:45.331Z"
   },
   {
    "duration": 12593,
    "start_time": "2023-09-13T11:29:26.063Z"
   },
   {
    "duration": 18,
    "start_time": "2023-09-13T11:30:05.941Z"
   },
   {
    "duration": 5338,
    "start_time": "2023-09-13T11:35:04.357Z"
   },
   {
    "duration": 17,
    "start_time": "2023-09-13T11:35:21.051Z"
   },
   {
    "duration": 19,
    "start_time": "2023-09-13T11:35:53.312Z"
   },
   {
    "duration": 5610,
    "start_time": "2023-09-13T11:39:40.349Z"
   },
   {
    "duration": 3863,
    "start_time": "2023-09-13T11:40:34.591Z"
   },
   {
    "duration": 4294,
    "start_time": "2023-09-13T11:40:50.368Z"
   },
   {
    "duration": 9,
    "start_time": "2023-09-13T11:41:40.583Z"
   },
   {
    "duration": 18,
    "start_time": "2023-09-13T11:42:42.858Z"
   },
   {
    "duration": 16,
    "start_time": "2023-09-13T11:43:34.498Z"
   },
   {
    "duration": 17,
    "start_time": "2023-09-13T11:44:04.171Z"
   },
   {
    "duration": 4,
    "start_time": "2023-09-13T11:44:31.646Z"
   },
   {
    "duration": 13,
    "start_time": "2023-09-13T11:44:36.920Z"
   },
   {
    "duration": 23,
    "start_time": "2023-09-13T11:45:06.222Z"
   },
   {
    "duration": 17,
    "start_time": "2023-09-13T11:45:37.202Z"
   },
   {
    "duration": 5,
    "start_time": "2023-09-13T11:45:47.355Z"
   },
   {
    "duration": 6,
    "start_time": "2023-09-13T11:45:54.641Z"
   },
   {
    "duration": 18,
    "start_time": "2023-09-13T11:46:02.962Z"
   },
   {
    "duration": 166,
    "start_time": "2023-09-13T11:46:10.831Z"
   },
   {
    "duration": 15,
    "start_time": "2023-09-13T11:46:16.778Z"
   },
   {
    "duration": 14,
    "start_time": "2023-09-13T11:46:25.781Z"
   },
   {
    "duration": 12,
    "start_time": "2023-09-13T11:47:05.489Z"
   },
   {
    "duration": 13,
    "start_time": "2023-09-13T11:47:24.911Z"
   },
   {
    "duration": 37,
    "start_time": "2023-09-13T11:47:34.298Z"
   },
   {
    "duration": 38,
    "start_time": "2023-09-13T11:47:49.855Z"
   },
   {
    "duration": 40,
    "start_time": "2023-09-13T11:48:26.554Z"
   },
   {
    "duration": 21,
    "start_time": "2023-09-13T11:48:43.319Z"
   },
   {
    "duration": 43,
    "start_time": "2023-09-13T11:49:26.151Z"
   },
   {
    "duration": 45,
    "start_time": "2023-09-13T11:49:35.254Z"
   },
   {
    "duration": 45,
    "start_time": "2023-09-13T11:49:55.318Z"
   },
   {
    "duration": 42,
    "start_time": "2023-09-13T11:50:17.829Z"
   },
   {
    "duration": 42,
    "start_time": "2023-09-13T11:50:36.471Z"
   },
   {
    "duration": 42,
    "start_time": "2023-09-13T11:51:19.046Z"
   },
   {
    "duration": 50,
    "start_time": "2023-09-13T11:51:26.557Z"
   },
   {
    "duration": 48,
    "start_time": "2023-09-13T11:51:36.591Z"
   },
   {
    "duration": 50,
    "start_time": "2023-09-13T11:52:02.014Z"
   },
   {
    "duration": 25,
    "start_time": "2023-09-13T11:52:30.032Z"
   },
   {
    "duration": 954,
    "start_time": "2023-09-13T11:53:20.586Z"
   },
   {
    "duration": 48,
    "start_time": "2023-09-13T11:53:26.437Z"
   },
   {
    "duration": 918,
    "start_time": "2023-09-13T11:53:51.537Z"
   },
   {
    "duration": 63,
    "start_time": "2023-09-13T11:53:55.968Z"
   },
   {
    "duration": 840,
    "start_time": "2023-09-13T11:54:23.227Z"
   },
   {
    "duration": 45,
    "start_time": "2023-09-13T11:55:28.473Z"
   },
   {
    "duration": 890,
    "start_time": "2023-09-13T11:57:17.539Z"
   },
   {
    "duration": 45,
    "start_time": "2023-09-13T11:57:22.051Z"
   },
   {
    "duration": 844,
    "start_time": "2023-09-13T11:58:53.280Z"
   },
   {
    "duration": 45,
    "start_time": "2023-09-13T11:58:57.077Z"
   },
   {
    "duration": 818,
    "start_time": "2023-09-13T12:00:50.880Z"
   },
   {
    "duration": 53,
    "start_time": "2023-09-13T12:00:54.041Z"
   },
   {
    "duration": 892,
    "start_time": "2023-09-13T12:01:37.994Z"
   },
   {
    "duration": 49,
    "start_time": "2023-09-13T12:01:42.945Z"
   },
   {
    "duration": 19,
    "start_time": "2023-09-13T12:03:09.552Z"
   },
   {
    "duration": 798,
    "start_time": "2023-09-13T12:03:31.232Z"
   },
   {
    "duration": 3,
    "start_time": "2023-09-13T12:03:35.292Z"
   },
   {
    "duration": 6,
    "start_time": "2023-09-13T12:03:45.484Z"
   },
   {
    "duration": 6,
    "start_time": "2023-09-13T12:03:50.864Z"
   },
   {
    "duration": 63,
    "start_time": "2023-09-13T12:03:52.601Z"
   },
   {
    "duration": 303,
    "start_time": "2023-09-13T12:04:28.579Z"
   },
   {
    "duration": 304,
    "start_time": "2023-09-13T12:04:34.047Z"
   },
   {
    "duration": 321,
    "start_time": "2023-09-13T12:04:41.906Z"
   },
   {
    "duration": 88,
    "start_time": "2023-09-13T12:04:48.956Z"
   },
   {
    "duration": 881,
    "start_time": "2023-09-13T12:05:25.804Z"
   },
   {
    "duration": 55,
    "start_time": "2023-09-13T12:05:30.177Z"
   },
   {
    "duration": 853,
    "start_time": "2023-09-13T12:05:41.866Z"
   },
   {
    "duration": 5,
    "start_time": "2023-09-13T12:05:50.212Z"
   },
   {
    "duration": 755,
    "start_time": "2023-09-13T12:06:27.820Z"
   },
   {
    "duration": 60,
    "start_time": "2023-09-13T12:06:30.283Z"
   },
   {
    "duration": 849,
    "start_time": "2023-09-13T12:12:05.933Z"
   },
   {
    "duration": 48,
    "start_time": "2023-09-13T12:12:09.517Z"
   },
   {
    "duration": 5,
    "start_time": "2023-09-13T12:13:01.033Z"
   },
   {
    "duration": 757,
    "start_time": "2023-09-13T12:13:16.354Z"
   },
   {
    "duration": 6,
    "start_time": "2023-09-13T12:13:20.443Z"
   },
   {
    "duration": 6,
    "start_time": "2023-09-13T12:13:33.374Z"
   },
   {
    "duration": 44,
    "start_time": "2023-09-13T12:13:35.546Z"
   },
   {
    "duration": 6,
    "start_time": "2023-09-13T12:13:52.627Z"
   },
   {
    "duration": 4,
    "start_time": "2023-09-13T12:14:26.220Z"
   },
   {
    "duration": 4,
    "start_time": "2023-09-13T12:14:35.592Z"
   },
   {
    "duration": 4,
    "start_time": "2023-09-13T12:14:41.139Z"
   },
   {
    "duration": 5,
    "start_time": "2023-09-13T12:14:51.769Z"
   },
   {
    "duration": 4,
    "start_time": "2023-09-13T12:15:04.150Z"
   },
   {
    "duration": 22,
    "start_time": "2023-09-13T12:17:27.953Z"
   },
   {
    "duration": 27,
    "start_time": "2023-09-13T12:17:41.791Z"
   },
   {
    "duration": 7,
    "start_time": "2023-09-13T12:17:54.990Z"
   },
   {
    "duration": 7,
    "start_time": "2023-09-13T12:18:21.269Z"
   },
   {
    "duration": 10,
    "start_time": "2023-09-13T12:18:28.129Z"
   },
   {
    "duration": 8,
    "start_time": "2023-09-13T12:19:22.609Z"
   },
   {
    "duration": 7,
    "start_time": "2023-09-13T12:19:29.363Z"
   },
   {
    "duration": 7,
    "start_time": "2023-09-13T12:19:41.124Z"
   },
   {
    "duration": 6,
    "start_time": "2023-09-13T12:20:03.266Z"
   },
   {
    "duration": 7,
    "start_time": "2023-09-13T12:20:07.768Z"
   },
   {
    "duration": 9,
    "start_time": "2023-09-13T12:22:22.929Z"
   },
   {
    "duration": 9,
    "start_time": "2023-09-13T12:22:34.198Z"
   },
   {
    "duration": 3,
    "start_time": "2023-09-13T12:23:04.216Z"
   },
   {
    "duration": 769,
    "start_time": "2023-09-13T12:23:04.984Z"
   },
   {
    "duration": 8,
    "start_time": "2023-09-13T12:23:06.508Z"
   },
   {
    "duration": 8,
    "start_time": "2023-09-13T12:23:08.748Z"
   },
   {
    "duration": 14,
    "start_time": "2023-09-13T12:23:11.060Z"
   },
   {
    "duration": 5,
    "start_time": "2023-09-13T12:23:14.664Z"
   },
   {
    "duration": 24,
    "start_time": "2023-09-13T12:23:16.025Z"
   },
   {
    "duration": 150,
    "start_time": "2023-09-13T12:23:42.087Z"
   },
   {
    "duration": 14,
    "start_time": "2023-09-13T12:23:53.520Z"
   },
   {
    "duration": 2,
    "start_time": "2023-09-13T12:40:58.406Z"
   },
   {
    "duration": 761,
    "start_time": "2023-09-13T12:40:59.336Z"
   },
   {
    "duration": 9,
    "start_time": "2023-09-13T12:41:01.081Z"
   },
   {
    "duration": 8,
    "start_time": "2023-09-13T12:41:02.589Z"
   },
   {
    "duration": 12,
    "start_time": "2023-09-13T12:41:03.917Z"
   },
   {
    "duration": 5,
    "start_time": "2023-09-13T12:41:06.777Z"
   },
   {
    "duration": 8,
    "start_time": "2023-09-13T12:43:49.685Z"
   },
   {
    "duration": 129,
    "start_time": "2023-09-13T12:43:51.432Z"
   },
   {
    "duration": 17559,
    "start_time": "2023-09-13T12:44:09.832Z"
   },
   {
    "duration": 155,
    "start_time": "2023-09-13T12:44:31.457Z"
   },
   {
    "duration": 3,
    "start_time": "2023-09-13T12:44:36.648Z"
   },
   {
    "duration": 744,
    "start_time": "2023-09-13T12:44:37.181Z"
   },
   {
    "duration": 8,
    "start_time": "2023-09-13T12:44:38.250Z"
   },
   {
    "duration": 8,
    "start_time": "2023-09-13T12:44:39.888Z"
   },
   {
    "duration": 13,
    "start_time": "2023-09-13T12:44:41.284Z"
   },
   {
    "duration": 5,
    "start_time": "2023-09-13T12:44:43.242Z"
   },
   {
    "duration": 11,
    "start_time": "2023-09-13T12:44:44.107Z"
   },
   {
    "duration": 201,
    "start_time": "2023-09-13T12:44:46.338Z"
   },
   {
    "duration": 11,
    "start_time": "2023-09-13T12:44:48.443Z"
   },
   {
    "duration": 16,
    "start_time": "2023-09-13T12:54:19.037Z"
   },
   {
    "duration": 22,
    "start_time": "2023-09-13T12:54:38.887Z"
   },
   {
    "duration": 7,
    "start_time": "2023-09-13T12:57:56.162Z"
   },
   {
    "duration": 7,
    "start_time": "2023-09-13T12:58:25.746Z"
   },
   {
    "duration": 11,
    "start_time": "2023-09-13T13:09:02.201Z"
   },
   {
    "duration": 13,
    "start_time": "2023-09-13T13:09:24.557Z"
   },
   {
    "duration": 9,
    "start_time": "2023-09-13T13:10:50.438Z"
   },
   {
    "duration": 1550,
    "start_time": "2023-09-13T13:11:21.210Z"
   },
   {
    "duration": 1133,
    "start_time": "2023-09-13T13:11:49.856Z"
   },
   {
    "duration": 15,
    "start_time": "2023-09-13T13:12:59.066Z"
   },
   {
    "duration": 16,
    "start_time": "2023-09-13T13:13:15.721Z"
   },
   {
    "duration": 37,
    "start_time": "2023-09-13T13:14:02.884Z"
   },
   {
    "duration": 247,
    "start_time": "2023-09-13T13:14:44.583Z"
   },
   {
    "duration": 322,
    "start_time": "2023-09-13T13:17:43.959Z"
   },
   {
    "duration": 13,
    "start_time": "2023-09-13T13:22:52.286Z"
   },
   {
    "duration": 1213,
    "start_time": "2023-09-13T13:35:06.643Z"
   },
   {
    "duration": 908,
    "start_time": "2023-09-13T13:35:07.858Z"
   },
   {
    "duration": 14,
    "start_time": "2023-09-13T13:35:08.768Z"
   },
   {
    "duration": 26,
    "start_time": "2023-09-13T13:35:08.784Z"
   },
   {
    "duration": 151,
    "start_time": "2023-09-13T13:35:08.812Z"
   },
   {
    "duration": 34,
    "start_time": "2023-09-13T13:35:08.966Z"
   },
   {
    "duration": 44,
    "start_time": "2023-09-13T13:35:09.002Z"
   },
   {
    "duration": 205,
    "start_time": "2023-09-13T13:35:09.048Z"
   },
   {
    "duration": 12,
    "start_time": "2023-09-13T13:35:09.255Z"
   },
   {
    "duration": 64,
    "start_time": "2023-09-13T13:35:09.269Z"
   },
   {
    "duration": 36,
    "start_time": "2023-09-13T13:35:09.335Z"
   },
   {
    "duration": 78,
    "start_time": "2023-09-13T13:35:09.373Z"
   },
   {
    "duration": 51,
    "start_time": "2023-09-13T13:35:09.453Z"
   },
   {
    "duration": 21,
    "start_time": "2023-09-13T13:35:09.506Z"
   },
   {
    "duration": 54,
    "start_time": "2023-09-13T13:35:09.529Z"
   },
   {
    "duration": 33,
    "start_time": "2023-09-13T13:35:09.585Z"
   },
   {
    "duration": 1198,
    "start_time": "2023-09-13T13:35:09.620Z"
   },
   {
    "duration": 21,
    "start_time": "2023-09-13T13:35:10.820Z"
   },
   {
    "duration": 283,
    "start_time": "2023-09-13T13:35:10.843Z"
   },
   {
    "duration": 17,
    "start_time": "2023-09-13T13:35:11.127Z"
   },
   {
    "duration": 35,
    "start_time": "2023-09-13T13:35:11.145Z"
   },
   {
    "duration": 56,
    "start_time": "2023-09-13T13:35:11.182Z"
   },
   {
    "duration": 1603,
    "start_time": "2023-09-13T13:35:11.240Z"
   },
   {
    "duration": 14,
    "start_time": "2023-09-13T13:35:12.845Z"
   },
   {
    "duration": 383,
    "start_time": "2023-09-13T13:35:12.861Z"
   },
   {
    "duration": 1129,
    "start_time": "2023-09-14T09:01:03.834Z"
   },
   {
    "duration": 2329,
    "start_time": "2023-09-14T09:01:04.966Z"
   },
   {
    "duration": 13,
    "start_time": "2023-09-14T09:01:07.296Z"
   },
   {
    "duration": 58,
    "start_time": "2023-09-14T09:01:07.310Z"
   },
   {
    "duration": 92,
    "start_time": "2023-09-14T09:01:07.369Z"
   },
   {
    "duration": 128,
    "start_time": "2023-09-14T09:01:07.462Z"
   },
   {
    "duration": 53,
    "start_time": "2023-09-14T09:01:07.591Z"
   },
   {
    "duration": 195,
    "start_time": "2023-09-14T09:01:07.646Z"
   },
   {
    "duration": 12,
    "start_time": "2023-09-14T09:01:07.843Z"
   },
   {
    "duration": 88,
    "start_time": "2023-09-14T09:01:07.857Z"
   },
   {
    "duration": 48,
    "start_time": "2023-09-14T09:01:07.947Z"
   },
   {
    "duration": 50,
    "start_time": "2023-09-14T09:01:07.997Z"
   },
   {
    "duration": 37,
    "start_time": "2023-09-14T09:01:08.049Z"
   },
   {
    "duration": 67,
    "start_time": "2023-09-14T09:01:08.087Z"
   },
   {
    "duration": 6,
    "start_time": "2023-09-14T09:01:08.155Z"
   },
   {
    "duration": 27,
    "start_time": "2023-09-14T09:01:08.162Z"
   },
   {
    "duration": 1154,
    "start_time": "2023-09-14T09:01:08.190Z"
   },
   {
    "duration": 14,
    "start_time": "2023-09-14T09:01:09.346Z"
   },
   {
    "duration": 265,
    "start_time": "2023-09-14T09:01:09.361Z"
   },
   {
    "duration": 20,
    "start_time": "2023-09-14T09:01:09.628Z"
   },
   {
    "duration": 10,
    "start_time": "2023-09-14T09:01:09.650Z"
   },
   {
    "duration": 32,
    "start_time": "2023-09-14T09:01:09.661Z"
   },
   {
    "duration": 1697,
    "start_time": "2023-09-14T09:01:09.695Z"
   },
   {
    "duration": 14,
    "start_time": "2023-09-14T09:01:11.394Z"
   },
   {
    "duration": 348,
    "start_time": "2023-09-14T09:01:11.410Z"
   },
   {
    "duration": 682,
    "start_time": "2023-09-14T09:04:48.438Z"
   },
   {
    "duration": 157,
    "start_time": "2023-09-14T09:05:41.348Z"
   },
   {
    "duration": 137,
    "start_time": "2023-09-14T09:06:31.238Z"
   },
   {
    "duration": 149,
    "start_time": "2023-09-14T09:07:38.789Z"
   },
   {
    "duration": 153,
    "start_time": "2023-09-14T09:08:27.070Z"
   },
   {
    "duration": 146,
    "start_time": "2023-09-14T09:09:03.929Z"
   },
   {
    "duration": 207,
    "start_time": "2023-09-14T09:09:25.450Z"
   },
   {
    "duration": 298,
    "start_time": "2023-09-14T09:26:15.829Z"
   },
   {
    "duration": 3,
    "start_time": "2023-09-14T09:31:57.948Z"
   },
   {
    "duration": 262,
    "start_time": "2023-09-14T09:32:04.265Z"
   },
   {
    "duration": 161,
    "start_time": "2023-09-14T09:33:07.694Z"
   },
   {
    "duration": 180,
    "start_time": "2023-09-14T09:34:25.941Z"
   },
   {
    "duration": 176,
    "start_time": "2023-09-14T09:35:23.360Z"
   },
   {
    "duration": 185,
    "start_time": "2023-09-14T09:35:36.771Z"
   },
   {
    "duration": 178,
    "start_time": "2023-09-14T09:35:42.416Z"
   },
   {
    "duration": 1617,
    "start_time": "2023-09-14T09:38:10.959Z"
   },
   {
    "duration": 163,
    "start_time": "2023-09-14T09:38:29.792Z"
   },
   {
    "duration": 185,
    "start_time": "2023-09-14T09:39:25.567Z"
   },
   {
    "duration": 147,
    "start_time": "2023-09-14T09:45:35.154Z"
   },
   {
    "duration": 459,
    "start_time": "2023-09-14T09:45:41.001Z"
   },
   {
    "duration": 5,
    "start_time": "2023-09-14T09:45:53.252Z"
   },
   {
    "duration": 300,
    "start_time": "2023-09-14T09:46:46.536Z"
   },
   {
    "duration": 7,
    "start_time": "2023-09-14T09:53:25.872Z"
   },
   {
    "duration": 292,
    "start_time": "2023-09-14T09:55:48.546Z"
   },
   {
    "duration": 335,
    "start_time": "2023-09-14T09:59:15.923Z"
   },
   {
    "duration": 296,
    "start_time": "2023-09-14T10:17:48.309Z"
   },
   {
    "duration": 318,
    "start_time": "2023-09-14T10:18:11.109Z"
   },
   {
    "duration": 285,
    "start_time": "2023-09-14T10:20:19.903Z"
   },
   {
    "duration": 252,
    "start_time": "2023-09-14T10:21:08.976Z"
   },
   {
    "duration": 288,
    "start_time": "2023-09-14T10:21:14.039Z"
   },
   {
    "duration": 279,
    "start_time": "2023-09-14T10:21:22.011Z"
   },
   {
    "duration": 310,
    "start_time": "2023-09-14T10:22:03.808Z"
   },
   {
    "duration": 332,
    "start_time": "2023-09-14T10:22:28.675Z"
   },
   {
    "duration": 267,
    "start_time": "2023-09-14T10:22:37.883Z"
   },
   {
    "duration": 356,
    "start_time": "2023-09-14T10:25:20.470Z"
   },
   {
    "duration": 244,
    "start_time": "2023-09-14T10:25:44.065Z"
   },
   {
    "duration": 281,
    "start_time": "2023-09-14T10:27:02.921Z"
   },
   {
    "duration": 315,
    "start_time": "2023-09-14T10:27:35.713Z"
   },
   {
    "duration": 282,
    "start_time": "2023-09-14T10:28:31.721Z"
   },
   {
    "duration": 274,
    "start_time": "2023-09-14T10:30:13.318Z"
   },
   {
    "duration": 229,
    "start_time": "2023-09-14T10:30:25.963Z"
   },
   {
    "duration": 229,
    "start_time": "2023-09-14T10:31:32.372Z"
   },
   {
    "duration": 235,
    "start_time": "2023-09-14T10:32:04.262Z"
   },
   {
    "duration": 295,
    "start_time": "2023-09-14T10:32:25.211Z"
   },
   {
    "duration": 272,
    "start_time": "2023-09-14T10:33:43.186Z"
   },
   {
    "duration": 221,
    "start_time": "2023-09-14T10:34:03.862Z"
   },
   {
    "duration": 248,
    "start_time": "2023-09-14T10:35:03.459Z"
   },
   {
    "duration": 269,
    "start_time": "2023-09-14T10:36:24.437Z"
   },
   {
    "duration": 279,
    "start_time": "2023-09-14T10:36:38.934Z"
   },
   {
    "duration": 292,
    "start_time": "2023-09-14T10:43:10.215Z"
   },
   {
    "duration": 247,
    "start_time": "2023-09-14T10:43:29.585Z"
   },
   {
    "duration": 383,
    "start_time": "2023-09-14T10:44:10.527Z"
   },
   {
    "duration": 279,
    "start_time": "2023-09-14T10:44:45.394Z"
   },
   {
    "duration": 266,
    "start_time": "2023-09-14T10:44:49.887Z"
   },
   {
    "duration": 220,
    "start_time": "2023-09-14T10:44:57.379Z"
   },
   {
    "duration": 304,
    "start_time": "2023-09-14T10:45:49.414Z"
   },
   {
    "duration": 265,
    "start_time": "2023-09-14T10:46:21.870Z"
   },
   {
    "duration": 2406,
    "start_time": "2023-09-14T10:47:12.278Z"
   },
   {
    "duration": 290,
    "start_time": "2023-09-14T10:47:21.721Z"
   },
   {
    "duration": 319,
    "start_time": "2023-09-14T10:47:57.398Z"
   },
   {
    "duration": 271,
    "start_time": "2023-09-14T10:49:15.884Z"
   },
   {
    "duration": 311,
    "start_time": "2023-09-14T10:49:41.108Z"
   },
   {
    "duration": 160,
    "start_time": "2023-09-14T10:50:52.098Z"
   },
   {
    "duration": 484,
    "start_time": "2023-09-14T10:53:28.136Z"
   },
   {
    "duration": 0,
    "start_time": "2023-09-14T10:53:57.509Z"
   },
   {
    "duration": 387,
    "start_time": "2023-09-14T10:54:01.405Z"
   },
   {
    "duration": 17,
    "start_time": "2023-09-14T10:54:30.844Z"
   },
   {
    "duration": 16,
    "start_time": "2023-09-14T10:54:37.102Z"
   },
   {
    "duration": 19,
    "start_time": "2023-09-14T10:54:49.336Z"
   },
   {
    "duration": 12,
    "start_time": "2023-09-14T10:55:42.738Z"
   },
   {
    "duration": 11,
    "start_time": "2023-09-14T10:57:39.435Z"
   },
   {
    "duration": 236,
    "start_time": "2023-09-14T10:57:43.313Z"
   },
   {
    "duration": 245,
    "start_time": "2023-09-14T10:58:10.516Z"
   },
   {
    "duration": 12,
    "start_time": "2023-09-14T10:59:32.629Z"
   },
   {
    "duration": 234,
    "start_time": "2023-09-14T10:59:45.420Z"
   },
   {
    "duration": 244,
    "start_time": "2023-09-14T11:00:01.589Z"
   },
   {
    "duration": 233,
    "start_time": "2023-09-14T11:00:07.591Z"
   },
   {
    "duration": 248,
    "start_time": "2023-09-14T11:00:16.226Z"
   },
   {
    "duration": 242,
    "start_time": "2023-09-14T11:00:21.566Z"
   },
   {
    "duration": 173,
    "start_time": "2023-09-14T11:02:02.386Z"
   },
   {
    "duration": 113,
    "start_time": "2023-09-14T11:02:21.762Z"
   },
   {
    "duration": 147,
    "start_time": "2023-09-14T11:02:57.461Z"
   },
   {
    "duration": 140,
    "start_time": "2023-09-14T11:03:07.054Z"
   },
   {
    "duration": 497,
    "start_time": "2023-09-14T11:06:56.464Z"
   },
   {
    "duration": 148,
    "start_time": "2023-09-14T11:07:48.885Z"
   },
   {
    "duration": 33,
    "start_time": "2023-09-14T11:11:53.818Z"
   },
   {
    "duration": 21,
    "start_time": "2023-09-14T11:12:04.558Z"
   },
   {
    "duration": 26,
    "start_time": "2023-09-14T11:12:09.689Z"
   },
   {
    "duration": 170,
    "start_time": "2023-09-14T11:12:48.758Z"
   },
   {
    "duration": 208,
    "start_time": "2023-09-14T11:19:33.618Z"
   },
   {
    "duration": 202,
    "start_time": "2023-09-14T11:19:58.937Z"
   },
   {
    "duration": 149,
    "start_time": "2023-09-14T11:21:16.322Z"
   },
   {
    "duration": 202,
    "start_time": "2023-09-14T11:21:27.606Z"
   },
   {
    "duration": 196,
    "start_time": "2023-09-14T11:22:33.759Z"
   },
   {
    "duration": 195,
    "start_time": "2023-09-14T11:38:57.551Z"
   },
   {
    "duration": 296,
    "start_time": "2023-09-14T11:45:23.321Z"
   },
   {
    "duration": 5,
    "start_time": "2023-09-14T11:45:58.268Z"
   },
   {
    "duration": 6,
    "start_time": "2023-09-14T12:26:16.309Z"
   },
   {
    "duration": 304,
    "start_time": "2023-09-14T12:26:50.383Z"
   },
   {
    "duration": 5,
    "start_time": "2023-09-14T12:33:39.553Z"
   },
   {
    "duration": 13,
    "start_time": "2023-09-14T12:45:32.982Z"
   },
   {
    "duration": 16,
    "start_time": "2023-09-14T12:45:50.806Z"
   },
   {
    "duration": 275,
    "start_time": "2023-09-14T12:55:17.741Z"
   },
   {
    "duration": 311,
    "start_time": "2023-09-14T13:03:56.519Z"
   },
   {
    "duration": 335,
    "start_time": "2023-09-14T13:05:00.623Z"
   },
   {
    "duration": 335,
    "start_time": "2023-09-14T13:05:07.491Z"
   },
   {
    "duration": 332,
    "start_time": "2023-09-14T13:05:14.634Z"
   },
   {
    "duration": 364,
    "start_time": "2023-09-14T13:05:20.606Z"
   },
   {
    "duration": 356,
    "start_time": "2023-09-14T13:06:17.610Z"
   },
   {
    "duration": 335,
    "start_time": "2023-09-14T13:06:36.641Z"
   },
   {
    "duration": 378,
    "start_time": "2023-09-14T13:07:02.594Z"
   },
   {
    "duration": 395,
    "start_time": "2023-09-14T13:07:31.490Z"
   },
   {
    "duration": 341,
    "start_time": "2023-09-14T13:10:05.046Z"
   },
   {
    "duration": 361,
    "start_time": "2023-09-14T13:10:34.475Z"
   },
   {
    "duration": 364,
    "start_time": "2023-09-14T13:10:58.827Z"
   },
   {
    "duration": 4,
    "start_time": "2023-09-14T13:36:45.210Z"
   },
   {
    "duration": 1509,
    "start_time": "2023-09-15T08:19:02.739Z"
   },
   {
    "duration": 2149,
    "start_time": "2023-09-15T08:19:04.250Z"
   },
   {
    "duration": 9,
    "start_time": "2023-09-15T08:19:06.401Z"
   },
   {
    "duration": 17,
    "start_time": "2023-09-15T08:19:06.412Z"
   },
   {
    "duration": 27,
    "start_time": "2023-09-15T08:19:06.431Z"
   },
   {
    "duration": 10,
    "start_time": "2023-09-15T08:19:06.459Z"
   },
   {
    "duration": 36,
    "start_time": "2023-09-15T08:19:06.470Z"
   },
   {
    "duration": 156,
    "start_time": "2023-09-15T08:19:06.508Z"
   },
   {
    "duration": 11,
    "start_time": "2023-09-15T08:19:06.665Z"
   },
   {
    "duration": 42,
    "start_time": "2023-09-15T08:19:06.678Z"
   },
   {
    "duration": 42,
    "start_time": "2023-09-15T08:19:06.722Z"
   },
   {
    "duration": 33,
    "start_time": "2023-09-15T08:19:06.766Z"
   },
   {
    "duration": 50,
    "start_time": "2023-09-15T08:19:06.801Z"
   },
   {
    "duration": 15,
    "start_time": "2023-09-15T08:19:06.853Z"
   },
   {
    "duration": 14,
    "start_time": "2023-09-15T08:19:06.870Z"
   },
   {
    "duration": 18,
    "start_time": "2023-09-15T08:19:06.886Z"
   },
   {
    "duration": 1042,
    "start_time": "2023-09-15T08:19:06.906Z"
   },
   {
    "duration": 15,
    "start_time": "2023-09-15T08:19:07.949Z"
   },
   {
    "duration": 245,
    "start_time": "2023-09-15T08:19:07.965Z"
   },
   {
    "duration": 16,
    "start_time": "2023-09-15T08:19:08.212Z"
   },
   {
    "duration": 17,
    "start_time": "2023-09-15T08:19:08.229Z"
   },
   {
    "duration": 25,
    "start_time": "2023-09-15T08:19:08.247Z"
   },
   {
    "duration": 1463,
    "start_time": "2023-09-15T08:19:08.274Z"
   },
   {
    "duration": 15,
    "start_time": "2023-09-15T08:19:09.739Z"
   },
   {
    "duration": 315,
    "start_time": "2023-09-15T08:19:09.756Z"
   },
   {
    "duration": 339,
    "start_time": "2023-09-15T08:19:10.073Z"
   },
   {
    "duration": 288,
    "start_time": "2023-09-15T08:19:10.413Z"
   },
   {
    "duration": 290,
    "start_time": "2023-09-15T08:19:10.705Z"
   },
   {
    "duration": 263,
    "start_time": "2023-09-15T08:19:10.997Z"
   },
   {
    "duration": 341,
    "start_time": "2023-09-15T08:19:11.262Z"
   },
   {
    "duration": 264,
    "start_time": "2023-09-15T08:19:11.604Z"
   },
   {
    "duration": 249,
    "start_time": "2023-09-15T08:19:11.869Z"
   },
   {
    "duration": 285,
    "start_time": "2023-09-15T08:19:12.119Z"
   },
   {
    "duration": 323,
    "start_time": "2023-09-15T08:19:12.405Z"
   },
   {
    "duration": 282,
    "start_time": "2023-09-15T08:19:12.729Z"
   },
   {
    "duration": 303,
    "start_time": "2023-09-15T08:19:13.012Z"
   },
   {
    "duration": 295,
    "start_time": "2023-09-15T08:19:13.317Z"
   },
   {
    "duration": 310,
    "start_time": "2023-09-15T08:19:13.613Z"
   },
   {
    "duration": 291,
    "start_time": "2023-09-15T08:19:13.925Z"
   },
   {
    "duration": 309,
    "start_time": "2023-09-15T08:19:14.218Z"
   },
   {
    "duration": 384,
    "start_time": "2023-09-15T08:19:14.529Z"
   },
   {
    "duration": 278,
    "start_time": "2023-09-15T08:19:14.915Z"
   },
   {
    "duration": 227,
    "start_time": "2023-09-15T08:19:15.195Z"
   },
   {
    "duration": 283,
    "start_time": "2023-09-15T08:19:15.423Z"
   },
   {
    "duration": 289,
    "start_time": "2023-09-15T08:19:15.708Z"
   },
   {
    "duration": 253,
    "start_time": "2023-09-15T08:19:15.999Z"
   },
   {
    "duration": 267,
    "start_time": "2023-09-15T08:19:16.254Z"
   },
   {
    "duration": 280,
    "start_time": "2023-09-15T08:19:16.523Z"
   },
   {
    "duration": 302,
    "start_time": "2023-09-15T08:19:16.805Z"
   },
   {
    "duration": 298,
    "start_time": "2023-09-15T08:19:17.109Z"
   },
   {
    "duration": 189,
    "start_time": "2023-09-15T08:19:17.409Z"
   },
   {
    "duration": 364,
    "start_time": "2023-09-15T08:19:17.599Z"
   },
   {
    "duration": 309,
    "start_time": "2023-09-15T08:19:17.964Z"
   },
   {
    "duration": 4,
    "start_time": "2023-09-15T08:19:18.275Z"
   },
   {
    "duration": 14,
    "start_time": "2023-09-15T08:22:19.662Z"
   },
   {
    "duration": 3,
    "start_time": "2023-09-15T08:25:54.189Z"
   },
   {
    "duration": 3,
    "start_time": "2023-09-15T09:15:04.672Z"
   },
   {
    "duration": 256,
    "start_time": "2023-09-15T09:15:33.950Z"
   },
   {
    "duration": 3,
    "start_time": "2023-09-15T09:15:56.744Z"
   },
   {
    "duration": 5,
    "start_time": "2023-09-15T09:16:05.682Z"
   },
   {
    "duration": 106,
    "start_time": "2023-09-15T09:19:01.056Z"
   },
   {
    "duration": 18,
    "start_time": "2023-09-15T09:19:14.092Z"
   },
   {
    "duration": 15,
    "start_time": "2023-09-15T09:19:26.098Z"
   },
   {
    "duration": 25,
    "start_time": "2023-09-15T09:19:37.781Z"
   },
   {
    "duration": 169,
    "start_time": "2023-09-15T09:19:46.973Z"
   },
   {
    "duration": 183,
    "start_time": "2023-09-15T09:21:18.360Z"
   },
   {
    "duration": 142,
    "start_time": "2023-09-15T09:22:05.839Z"
   },
   {
    "duration": 220,
    "start_time": "2023-09-15T09:22:15.608Z"
   },
   {
    "duration": 237,
    "start_time": "2023-09-15T09:22:43.253Z"
   },
   {
    "duration": 713,
    "start_time": "2023-09-15T09:23:12.444Z"
   },
   {
    "duration": 5,
    "start_time": "2023-09-15T09:25:05.323Z"
   },
   {
    "duration": 5348,
    "start_time": "2023-09-15T09:25:07.140Z"
   },
   {
    "duration": 4087,
    "start_time": "2023-09-15T09:27:19.276Z"
   },
   {
    "duration": 19,
    "start_time": "2023-09-15T09:27:55.908Z"
   },
   {
    "duration": 3966,
    "start_time": "2023-09-15T09:28:09.305Z"
   },
   {
    "duration": 5185,
    "start_time": "2023-09-15T09:37:24.505Z"
   },
   {
    "duration": 4973,
    "start_time": "2023-09-15T09:42:18.303Z"
   },
   {
    "duration": 31693,
    "start_time": "2023-09-15T09:47:34.315Z"
   },
   {
    "duration": 3578,
    "start_time": "2023-09-15T09:48:16.204Z"
   },
   {
    "duration": 21714,
    "start_time": "2023-09-15T09:48:51.363Z"
   },
   {
    "duration": 17931,
    "start_time": "2023-09-15T09:51:26.599Z"
   },
   {
    "duration": 9487,
    "start_time": "2023-09-15T09:52:58.914Z"
   },
   {
    "duration": 6667,
    "start_time": "2023-09-15T09:53:33.483Z"
   },
   {
    "duration": 45991,
    "start_time": "2023-09-15T09:53:49.583Z"
   },
   {
    "duration": 59416,
    "start_time": "2023-09-15T09:54:38.530Z"
   },
   {
    "duration": 3,
    "start_time": "2023-09-15T10:01:17.463Z"
   },
   {
    "duration": 65559,
    "start_time": "2023-09-15T10:01:23.665Z"
   },
   {
    "duration": 34615,
    "start_time": "2023-09-15T10:02:30.698Z"
   },
   {
    "duration": 1409,
    "start_time": "2023-09-15T10:06:17.753Z"
   },
   {
    "duration": 829,
    "start_time": "2023-09-15T10:06:19.164Z"
   },
   {
    "duration": 10,
    "start_time": "2023-09-15T10:06:19.995Z"
   },
   {
    "duration": 60,
    "start_time": "2023-09-15T10:06:20.008Z"
   },
   {
    "duration": 55,
    "start_time": "2023-09-15T10:06:20.069Z"
   },
   {
    "duration": 34,
    "start_time": "2023-09-15T10:06:20.126Z"
   },
   {
    "duration": 51,
    "start_time": "2023-09-15T10:06:20.161Z"
   },
   {
    "duration": 216,
    "start_time": "2023-09-15T10:06:20.214Z"
   },
   {
    "duration": 12,
    "start_time": "2023-09-15T10:06:20.432Z"
   },
   {
    "duration": 100,
    "start_time": "2023-09-15T10:06:20.447Z"
   },
   {
    "duration": 108,
    "start_time": "2023-09-15T10:06:20.548Z"
   },
   {
    "duration": 51,
    "start_time": "2023-09-15T10:06:20.657Z"
   },
   {
    "duration": 40,
    "start_time": "2023-09-15T10:06:20.711Z"
   },
   {
    "duration": 40,
    "start_time": "2023-09-15T10:06:20.753Z"
   },
   {
    "duration": 57,
    "start_time": "2023-09-15T10:06:20.795Z"
   },
   {
    "duration": 64,
    "start_time": "2023-09-15T10:06:20.854Z"
   },
   {
    "duration": 1096,
    "start_time": "2023-09-15T10:06:20.920Z"
   },
   {
    "duration": 14,
    "start_time": "2023-09-15T10:06:22.018Z"
   },
   {
    "duration": 260,
    "start_time": "2023-09-15T10:06:22.034Z"
   },
   {
    "duration": 20,
    "start_time": "2023-09-15T10:06:22.295Z"
   },
   {
    "duration": 8,
    "start_time": "2023-09-15T10:06:22.317Z"
   },
   {
    "duration": 25,
    "start_time": "2023-09-15T10:06:22.343Z"
   },
   {
    "duration": 1677,
    "start_time": "2023-09-15T10:06:22.370Z"
   },
   {
    "duration": 16,
    "start_time": "2023-09-15T10:06:24.048Z"
   },
   {
    "duration": 352,
    "start_time": "2023-09-15T10:06:24.066Z"
   },
   {
    "duration": 340,
    "start_time": "2023-09-15T10:06:24.420Z"
   },
   {
    "duration": 275,
    "start_time": "2023-09-15T10:06:24.762Z"
   },
   {
    "duration": 280,
    "start_time": "2023-09-15T10:06:25.043Z"
   },
   {
    "duration": 307,
    "start_time": "2023-09-15T10:06:25.326Z"
   },
   {
    "duration": 361,
    "start_time": "2023-09-15T10:06:25.644Z"
   },
   {
    "duration": 357,
    "start_time": "2023-09-15T10:06:26.007Z"
   },
   {
    "duration": 261,
    "start_time": "2023-09-15T10:06:26.366Z"
   },
   {
    "duration": 292,
    "start_time": "2023-09-15T10:06:26.629Z"
   },
   {
    "duration": 323,
    "start_time": "2023-09-15T10:06:26.923Z"
   },
   {
    "duration": 267,
    "start_time": "2023-09-15T10:06:27.249Z"
   },
   {
    "duration": 306,
    "start_time": "2023-09-15T10:06:27.517Z"
   },
   {
    "duration": 299,
    "start_time": "2023-09-15T10:06:27.824Z"
   },
   {
    "duration": 308,
    "start_time": "2023-09-15T10:06:28.125Z"
   },
   {
    "duration": 282,
    "start_time": "2023-09-15T10:06:28.444Z"
   },
   {
    "duration": 288,
    "start_time": "2023-09-15T10:06:28.728Z"
   },
   {
    "duration": 329,
    "start_time": "2023-09-15T10:06:29.017Z"
   },
   {
    "duration": 384,
    "start_time": "2023-09-15T10:06:29.348Z"
   },
   {
    "duration": 287,
    "start_time": "2023-09-15T10:06:29.734Z"
   },
   {
    "duration": 294,
    "start_time": "2023-09-15T10:06:30.023Z"
   },
   {
    "duration": 298,
    "start_time": "2023-09-15T10:06:30.319Z"
   },
   {
    "duration": 295,
    "start_time": "2023-09-15T10:06:30.618Z"
   },
   {
    "duration": 308,
    "start_time": "2023-09-15T10:06:30.915Z"
   },
   {
    "duration": 321,
    "start_time": "2023-09-15T10:06:31.225Z"
   },
   {
    "duration": 298,
    "start_time": "2023-09-15T10:06:31.548Z"
   },
   {
    "duration": 331,
    "start_time": "2023-09-15T10:06:31.847Z"
   },
   {
    "duration": 226,
    "start_time": "2023-09-15T10:06:32.180Z"
   },
   {
    "duration": 343,
    "start_time": "2023-09-15T10:06:32.408Z"
   },
   {
    "duration": 337,
    "start_time": "2023-09-15T10:06:32.752Z"
   },
   {
    "duration": 4,
    "start_time": "2023-09-15T10:06:33.091Z"
   },
   {
    "duration": 73223,
    "start_time": "2023-09-15T10:06:33.096Z"
   },
   {
    "duration": 0,
    "start_time": "2023-09-15T10:07:46.321Z"
   },
   {
    "duration": 0,
    "start_time": "2023-09-15T10:17:34.861Z"
   },
   {
    "duration": 0,
    "start_time": "2023-09-15T10:17:34.944Z"
   },
   {
    "duration": 5,
    "start_time": "2023-09-15T10:17:37.506Z"
   },
   {
    "duration": 153637,
    "start_time": "2023-09-15T10:17:38.961Z"
   },
   {
    "duration": 4,
    "start_time": "2023-09-15T10:22:29.128Z"
   },
   {
    "duration": 114544,
    "start_time": "2023-09-15T10:22:30.802Z"
   },
   {
    "duration": 5,
    "start_time": "2023-09-15T10:24:26.708Z"
   },
   {
    "duration": 153802,
    "start_time": "2023-09-15T10:24:27.721Z"
   },
   {
    "duration": 790503,
    "start_time": "2023-09-15T10:28:10.568Z"
   },
   {
    "duration": 146266,
    "start_time": "2023-09-15T11:02:47.162Z"
   },
   {
    "duration": 102181,
    "start_time": "2023-09-15T11:05:31.100Z"
   },
   {
    "duration": 837223,
    "start_time": "2023-09-15T11:07:14.538Z"
   },
   {
    "duration": 11,
    "start_time": "2023-09-15T11:29:50.490Z"
   },
   {
    "duration": 14,
    "start_time": "2023-09-15T11:30:40.464Z"
   },
   {
    "duration": 284,
    "start_time": "2023-09-15T11:35:00.687Z"
   },
   {
    "duration": 7,
    "start_time": "2023-09-15T11:43:20.130Z"
   },
   {
    "duration": 1577,
    "start_time": "2023-09-15T11:44:02.659Z"
   },
   {
    "duration": 918,
    "start_time": "2023-09-15T11:44:04.238Z"
   },
   {
    "duration": 9,
    "start_time": "2023-09-15T11:44:05.159Z"
   },
   {
    "duration": 7,
    "start_time": "2023-09-15T11:44:05.170Z"
   },
   {
    "duration": 31,
    "start_time": "2023-09-15T11:44:05.179Z"
   },
   {
    "duration": 8,
    "start_time": "2023-09-15T11:44:05.212Z"
   },
   {
    "duration": 25,
    "start_time": "2023-09-15T11:44:05.221Z"
   },
   {
    "duration": 155,
    "start_time": "2023-09-15T11:44:05.253Z"
   },
   {
    "duration": 10,
    "start_time": "2023-09-15T11:44:05.410Z"
   },
   {
    "duration": 90,
    "start_time": "2023-09-15T11:44:05.423Z"
   },
   {
    "duration": 53,
    "start_time": "2023-09-15T11:44:05.514Z"
   },
   {
    "duration": 44,
    "start_time": "2023-09-15T11:44:05.569Z"
   },
   {
    "duration": 45,
    "start_time": "2023-09-15T11:44:05.615Z"
   },
   {
    "duration": 16,
    "start_time": "2023-09-15T11:44:05.661Z"
   },
   {
    "duration": 25,
    "start_time": "2023-09-15T11:44:05.678Z"
   },
   {
    "duration": 10,
    "start_time": "2023-09-15T11:44:05.704Z"
   },
   {
    "duration": 44,
    "start_time": "2023-09-15T11:44:05.715Z"
   },
   {
    "duration": 1054,
    "start_time": "2023-09-15T11:44:05.762Z"
   },
   {
    "duration": 13,
    "start_time": "2023-09-15T11:44:06.818Z"
   },
   {
    "duration": 257,
    "start_time": "2023-09-15T11:44:06.832Z"
   },
   {
    "duration": 16,
    "start_time": "2023-09-15T11:44:07.091Z"
   },
   {
    "duration": 17,
    "start_time": "2023-09-15T11:44:07.108Z"
   },
   {
    "duration": 36,
    "start_time": "2023-09-15T11:44:07.127Z"
   },
   {
    "duration": 1548,
    "start_time": "2023-09-15T11:44:07.165Z"
   },
   {
    "duration": 14,
    "start_time": "2023-09-15T11:44:08.714Z"
   },
   {
    "duration": 363,
    "start_time": "2023-09-15T11:44:08.729Z"
   },
   {
    "duration": 288,
    "start_time": "2023-09-15T11:44:09.094Z"
   },
   {
    "duration": 267,
    "start_time": "2023-09-15T11:44:09.385Z"
   },
   {
    "duration": 268,
    "start_time": "2023-09-15T11:44:09.658Z"
   },
   {
    "duration": 308,
    "start_time": "2023-09-15T11:44:09.928Z"
   },
   {
    "duration": 369,
    "start_time": "2023-09-15T11:44:10.238Z"
   },
   {
    "duration": 322,
    "start_time": "2023-09-15T11:44:10.608Z"
   },
   {
    "duration": 291,
    "start_time": "2023-09-15T11:44:10.932Z"
   },
   {
    "duration": 298,
    "start_time": "2023-09-15T11:44:11.225Z"
   },
   {
    "duration": 302,
    "start_time": "2023-09-15T11:44:11.525Z"
   },
   {
    "duration": 289,
    "start_time": "2023-09-15T11:44:11.828Z"
   },
   {
    "duration": 328,
    "start_time": "2023-09-15T11:44:12.118Z"
   },
   {
    "duration": 300,
    "start_time": "2023-09-15T11:44:12.447Z"
   },
   {
    "duration": 297,
    "start_time": "2023-09-15T11:44:12.750Z"
   },
   {
    "duration": 298,
    "start_time": "2023-09-15T11:44:13.051Z"
   },
   {
    "duration": 280,
    "start_time": "2023-09-15T11:44:13.353Z"
   },
   {
    "duration": 302,
    "start_time": "2023-09-15T11:44:13.634Z"
   },
   {
    "duration": 382,
    "start_time": "2023-09-15T11:44:13.943Z"
   },
   {
    "duration": 294,
    "start_time": "2023-09-15T11:44:14.327Z"
   },
   {
    "duration": 305,
    "start_time": "2023-09-15T11:44:14.626Z"
   },
   {
    "duration": 293,
    "start_time": "2023-09-15T11:44:14.933Z"
   },
   {
    "duration": 327,
    "start_time": "2023-09-15T11:44:15.228Z"
   },
   {
    "duration": 290,
    "start_time": "2023-09-15T11:44:15.559Z"
   },
   {
    "duration": 272,
    "start_time": "2023-09-15T11:44:15.856Z"
   },
   {
    "duration": 304,
    "start_time": "2023-09-15T11:44:16.130Z"
   },
   {
    "duration": 295,
    "start_time": "2023-09-15T11:44:16.444Z"
   },
   {
    "duration": 188,
    "start_time": "2023-09-15T11:44:16.749Z"
   },
   {
    "duration": 342,
    "start_time": "2023-09-15T11:44:16.938Z"
   },
   {
    "duration": 413,
    "start_time": "2023-09-15T11:44:17.282Z"
   },
   {
    "duration": 5,
    "start_time": "2023-09-15T11:44:17.696Z"
   },
   {
    "duration": 28,
    "start_time": "2023-09-15T11:44:17.703Z"
   },
   {
    "duration": 16,
    "start_time": "2023-09-15T11:44:17.749Z"
   },
   {
    "duration": 126826,
    "start_time": "2023-09-15T11:44:17.766Z"
   },
   {
    "duration": 0,
    "start_time": "2023-09-15T11:46:24.595Z"
   },
   {
    "duration": 0,
    "start_time": "2023-09-15T11:46:24.597Z"
   },
   {
    "duration": 11,
    "start_time": "2023-09-15T11:46:29.148Z"
   },
   {
    "duration": 4,
    "start_time": "2023-09-15T11:46:45.704Z"
   },
   {
    "duration": 29,
    "start_time": "2023-09-15T11:48:18.092Z"
   },
   {
    "duration": 14,
    "start_time": "2023-09-15T11:48:30.688Z"
   },
   {
    "duration": 95,
    "start_time": "2023-09-15T11:48:53.127Z"
   },
   {
    "duration": 117,
    "start_time": "2023-09-15T11:49:01.756Z"
   },
   {
    "duration": 96,
    "start_time": "2023-09-15T11:49:09.059Z"
   },
   {
    "duration": 6,
    "start_time": "2023-09-15T11:50:02.230Z"
   },
   {
    "duration": 12,
    "start_time": "2023-09-15T11:50:14.223Z"
   },
   {
    "duration": 20,
    "start_time": "2023-09-15T11:51:32.868Z"
   },
   {
    "duration": 1539,
    "start_time": "2023-09-15T11:55:02.920Z"
   },
   {
    "duration": 968,
    "start_time": "2023-09-15T11:55:04.461Z"
   },
   {
    "duration": 25,
    "start_time": "2023-09-15T11:55:05.430Z"
   },
   {
    "duration": 9,
    "start_time": "2023-09-15T11:55:05.459Z"
   },
   {
    "duration": 75,
    "start_time": "2023-09-15T11:55:05.471Z"
   },
   {
    "duration": 34,
    "start_time": "2023-09-15T11:55:05.552Z"
   },
   {
    "duration": 78,
    "start_time": "2023-09-15T11:55:05.588Z"
   },
   {
    "duration": 195,
    "start_time": "2023-09-15T11:55:05.667Z"
   },
   {
    "duration": 12,
    "start_time": "2023-09-15T11:55:05.870Z"
   },
   {
    "duration": 37,
    "start_time": "2023-09-15T11:55:05.884Z"
   },
   {
    "duration": 49,
    "start_time": "2023-09-15T11:55:05.923Z"
   },
   {
    "duration": 36,
    "start_time": "2023-09-15T11:55:05.973Z"
   },
   {
    "duration": 61,
    "start_time": "2023-09-15T11:55:06.011Z"
   },
   {
    "duration": 16,
    "start_time": "2023-09-15T11:55:06.074Z"
   },
   {
    "duration": 69,
    "start_time": "2023-09-15T11:55:06.092Z"
   },
   {
    "duration": 25,
    "start_time": "2023-09-15T11:55:06.162Z"
   },
   {
    "duration": 67,
    "start_time": "2023-09-15T11:55:06.188Z"
   },
   {
    "duration": 1070,
    "start_time": "2023-09-15T11:55:06.256Z"
   },
   {
    "duration": 25,
    "start_time": "2023-09-15T11:55:07.328Z"
   },
   {
    "duration": 231,
    "start_time": "2023-09-15T11:55:07.360Z"
   },
   {
    "duration": 17,
    "start_time": "2023-09-15T11:55:07.592Z"
   },
   {
    "duration": 10,
    "start_time": "2023-09-15T11:55:07.611Z"
   },
   {
    "duration": 34,
    "start_time": "2023-09-15T11:55:07.623Z"
   },
   {
    "duration": 1509,
    "start_time": "2023-09-15T11:55:07.660Z"
   },
   {
    "duration": 14,
    "start_time": "2023-09-15T11:55:09.171Z"
   },
   {
    "duration": 351,
    "start_time": "2023-09-15T11:55:09.186Z"
   },
   {
    "duration": 295,
    "start_time": "2023-09-15T11:55:09.539Z"
   },
   {
    "duration": 304,
    "start_time": "2023-09-15T11:55:09.845Z"
   },
   {
    "duration": 330,
    "start_time": "2023-09-15T11:55:10.154Z"
   },
   {
    "duration": 263,
    "start_time": "2023-09-15T11:55:10.486Z"
   },
   {
    "duration": 395,
    "start_time": "2023-09-15T11:55:10.750Z"
   },
   {
    "duration": 297,
    "start_time": "2023-09-15T11:55:11.147Z"
   },
   {
    "duration": 284,
    "start_time": "2023-09-15T11:55:11.445Z"
   },
   {
    "duration": 313,
    "start_time": "2023-09-15T11:55:11.731Z"
   },
   {
    "duration": 305,
    "start_time": "2023-09-15T11:55:12.047Z"
   },
   {
    "duration": 281,
    "start_time": "2023-09-15T11:55:12.354Z"
   },
   {
    "duration": 290,
    "start_time": "2023-09-15T11:55:12.643Z"
   },
   {
    "duration": 314,
    "start_time": "2023-09-15T11:55:12.934Z"
   },
   {
    "duration": 322,
    "start_time": "2023-09-15T11:55:13.250Z"
   },
   {
    "duration": 312,
    "start_time": "2023-09-15T11:55:13.574Z"
   },
   {
    "duration": 257,
    "start_time": "2023-09-15T11:55:13.888Z"
   },
   {
    "duration": 312,
    "start_time": "2023-09-15T11:55:14.147Z"
   },
   {
    "duration": 406,
    "start_time": "2023-09-15T11:55:14.460Z"
   },
   {
    "duration": 279,
    "start_time": "2023-09-15T11:55:14.868Z"
   },
   {
    "duration": 279,
    "start_time": "2023-09-15T11:55:15.149Z"
   },
   {
    "duration": 317,
    "start_time": "2023-09-15T11:55:15.430Z"
   },
   {
    "duration": 276,
    "start_time": "2023-09-15T11:55:15.753Z"
   },
   {
    "duration": 354,
    "start_time": "2023-09-15T11:55:16.031Z"
   },
   {
    "duration": 278,
    "start_time": "2023-09-15T11:55:16.388Z"
   },
   {
    "duration": 279,
    "start_time": "2023-09-15T11:55:16.668Z"
   },
   {
    "duration": 304,
    "start_time": "2023-09-15T11:55:16.948Z"
   },
   {
    "duration": 217,
    "start_time": "2023-09-15T11:55:17.255Z"
   },
   {
    "duration": 333,
    "start_time": "2023-09-15T11:55:17.474Z"
   },
   {
    "duration": 377,
    "start_time": "2023-09-15T11:55:17.810Z"
   },
   {
    "duration": 6,
    "start_time": "2023-09-15T11:55:18.189Z"
   },
   {
    "duration": 752521,
    "start_time": "2023-09-15T11:55:18.197Z"
   },
   {
    "duration": 138,
    "start_time": "2023-09-15T12:07:50.720Z"
   },
   {
    "duration": 12,
    "start_time": "2023-09-15T12:16:34.534Z"
   },
   {
    "duration": 1363,
    "start_time": "2023-09-15T12:16:41.417Z"
   },
   {
    "duration": 907,
    "start_time": "2023-09-15T12:16:42.782Z"
   },
   {
    "duration": 17,
    "start_time": "2023-09-15T12:16:43.690Z"
   },
   {
    "duration": 8,
    "start_time": "2023-09-15T12:16:43.711Z"
   },
   {
    "duration": 39,
    "start_time": "2023-09-15T12:16:43.722Z"
   },
   {
    "duration": 16,
    "start_time": "2023-09-15T12:16:43.763Z"
   },
   {
    "duration": 7,
    "start_time": "2023-09-15T12:16:43.781Z"
   },
   {
    "duration": 19,
    "start_time": "2023-09-15T12:16:43.791Z"
   },
   {
    "duration": 183,
    "start_time": "2023-09-15T12:16:43.812Z"
   },
   {
    "duration": 12,
    "start_time": "2023-09-15T12:16:43.998Z"
   },
   {
    "duration": 72,
    "start_time": "2023-09-15T12:16:44.011Z"
   },
   {
    "duration": 36,
    "start_time": "2023-09-15T12:16:44.085Z"
   },
   {
    "duration": 54,
    "start_time": "2023-09-15T12:16:44.124Z"
   },
   {
    "duration": 35,
    "start_time": "2023-09-15T12:16:44.180Z"
   },
   {
    "duration": 40,
    "start_time": "2023-09-15T12:16:44.217Z"
   },
   {
    "duration": 9,
    "start_time": "2023-09-15T12:16:44.259Z"
   },
   {
    "duration": 19,
    "start_time": "2023-09-15T12:16:44.270Z"
   },
   {
    "duration": 38,
    "start_time": "2023-09-15T12:16:44.291Z"
   },
   {
    "duration": 1168,
    "start_time": "2023-09-15T12:16:44.331Z"
   },
   {
    "duration": 14,
    "start_time": "2023-09-15T12:16:45.501Z"
   },
   {
    "duration": 251,
    "start_time": "2023-09-15T12:16:45.516Z"
   },
   {
    "duration": 16,
    "start_time": "2023-09-15T12:16:45.769Z"
   },
   {
    "duration": 7,
    "start_time": "2023-09-15T12:16:45.786Z"
   },
   {
    "duration": 31,
    "start_time": "2023-09-15T12:16:45.795Z"
   },
   {
    "duration": 1649,
    "start_time": "2023-09-15T12:16:45.828Z"
   },
   {
    "duration": 13,
    "start_time": "2023-09-15T12:16:47.479Z"
   },
   {
    "duration": 345,
    "start_time": "2023-09-15T12:16:47.494Z"
   },
   {
    "duration": 316,
    "start_time": "2023-09-15T12:16:47.845Z"
   },
   {
    "duration": 311,
    "start_time": "2023-09-15T12:16:48.163Z"
   },
   {
    "duration": 258,
    "start_time": "2023-09-15T12:16:48.476Z"
   },
   {
    "duration": 316,
    "start_time": "2023-09-15T12:16:48.736Z"
   },
   {
    "duration": 360,
    "start_time": "2023-09-15T12:16:49.061Z"
   },
   {
    "duration": 331,
    "start_time": "2023-09-15T12:16:49.423Z"
   },
   {
    "duration": 268,
    "start_time": "2023-09-15T12:16:49.758Z"
   },
   {
    "duration": 327,
    "start_time": "2023-09-15T12:16:50.028Z"
   },
   {
    "duration": 299,
    "start_time": "2023-09-15T12:16:50.357Z"
   },
   {
    "duration": 266,
    "start_time": "2023-09-15T12:16:50.662Z"
   },
   {
    "duration": 374,
    "start_time": "2023-09-15T12:16:50.929Z"
   },
   {
    "duration": 333,
    "start_time": "2023-09-15T12:16:51.304Z"
   },
   {
    "duration": 303,
    "start_time": "2023-09-15T12:16:51.645Z"
   },
   {
    "duration": 305,
    "start_time": "2023-09-15T12:16:51.952Z"
   },
   {
    "duration": 269,
    "start_time": "2023-09-15T12:16:52.259Z"
   },
   {
    "duration": 319,
    "start_time": "2023-09-15T12:16:52.531Z"
   },
   {
    "duration": 401,
    "start_time": "2023-09-15T12:16:52.853Z"
   },
   {
    "duration": 281,
    "start_time": "2023-09-15T12:16:53.255Z"
   },
   {
    "duration": 324,
    "start_time": "2023-09-15T12:16:53.543Z"
   },
   {
    "duration": 267,
    "start_time": "2023-09-15T12:16:53.869Z"
   },
   {
    "duration": 324,
    "start_time": "2023-09-15T12:16:54.138Z"
   },
   {
    "duration": 313,
    "start_time": "2023-09-15T12:16:54.465Z"
   },
   {
    "duration": 289,
    "start_time": "2023-09-15T12:16:54.781Z"
   },
   {
    "duration": 288,
    "start_time": "2023-09-15T12:16:55.072Z"
   },
   {
    "duration": 292,
    "start_time": "2023-09-15T12:16:55.362Z"
   },
   {
    "duration": 207,
    "start_time": "2023-09-15T12:16:55.656Z"
   },
   {
    "duration": 321,
    "start_time": "2023-09-15T12:16:55.865Z"
   },
   {
    "duration": 402,
    "start_time": "2023-09-15T12:16:56.188Z"
   },
   {
    "duration": 4,
    "start_time": "2023-09-15T12:16:56.592Z"
   },
   {
    "duration": 1522,
    "start_time": "2023-09-15T12:19:10.735Z"
   },
   {
    "duration": 913,
    "start_time": "2023-09-15T12:19:12.259Z"
   },
   {
    "duration": 12,
    "start_time": "2023-09-15T12:19:13.179Z"
   },
   {
    "duration": 24,
    "start_time": "2023-09-15T12:19:13.193Z"
   },
   {
    "duration": 144,
    "start_time": "2023-09-15T12:19:13.219Z"
   },
   {
    "duration": 0,
    "start_time": "2023-09-15T12:19:13.367Z"
   },
   {
    "duration": 0,
    "start_time": "2023-09-15T12:19:13.368Z"
   },
   {
    "duration": 0,
    "start_time": "2023-09-15T12:19:13.369Z"
   },
   {
    "duration": 0,
    "start_time": "2023-09-15T12:19:13.370Z"
   },
   {
    "duration": 0,
    "start_time": "2023-09-15T12:19:13.371Z"
   },
   {
    "duration": 0,
    "start_time": "2023-09-15T12:19:13.373Z"
   },
   {
    "duration": 0,
    "start_time": "2023-09-15T12:19:13.374Z"
   },
   {
    "duration": 0,
    "start_time": "2023-09-15T12:19:13.376Z"
   },
   {
    "duration": 0,
    "start_time": "2023-09-15T12:19:13.377Z"
   },
   {
    "duration": 0,
    "start_time": "2023-09-15T12:19:13.378Z"
   },
   {
    "duration": 0,
    "start_time": "2023-09-15T12:19:13.380Z"
   },
   {
    "duration": 0,
    "start_time": "2023-09-15T12:19:13.381Z"
   },
   {
    "duration": 0,
    "start_time": "2023-09-15T12:19:13.382Z"
   },
   {
    "duration": 0,
    "start_time": "2023-09-15T12:19:13.383Z"
   },
   {
    "duration": 0,
    "start_time": "2023-09-15T12:19:13.384Z"
   },
   {
    "duration": 0,
    "start_time": "2023-09-15T12:19:13.385Z"
   },
   {
    "duration": 0,
    "start_time": "2023-09-15T12:19:13.387Z"
   },
   {
    "duration": 0,
    "start_time": "2023-09-15T12:19:13.388Z"
   },
   {
    "duration": 0,
    "start_time": "2023-09-15T12:19:13.389Z"
   },
   {
    "duration": 0,
    "start_time": "2023-09-15T12:19:13.390Z"
   },
   {
    "duration": 0,
    "start_time": "2023-09-15T12:19:13.391Z"
   },
   {
    "duration": 0,
    "start_time": "2023-09-15T12:19:13.393Z"
   },
   {
    "duration": 0,
    "start_time": "2023-09-15T12:19:13.394Z"
   },
   {
    "duration": 0,
    "start_time": "2023-09-15T12:19:13.395Z"
   },
   {
    "duration": 0,
    "start_time": "2023-09-15T12:19:13.396Z"
   },
   {
    "duration": 0,
    "start_time": "2023-09-15T12:19:13.397Z"
   },
   {
    "duration": 0,
    "start_time": "2023-09-15T12:19:13.399Z"
   },
   {
    "duration": 0,
    "start_time": "2023-09-15T12:19:13.400Z"
   },
   {
    "duration": 0,
    "start_time": "2023-09-15T12:19:13.443Z"
   },
   {
    "duration": 0,
    "start_time": "2023-09-15T12:19:13.444Z"
   },
   {
    "duration": 0,
    "start_time": "2023-09-15T12:19:13.445Z"
   },
   {
    "duration": 0,
    "start_time": "2023-09-15T12:19:13.446Z"
   },
   {
    "duration": 0,
    "start_time": "2023-09-15T12:19:13.447Z"
   },
   {
    "duration": 0,
    "start_time": "2023-09-15T12:19:13.447Z"
   },
   {
    "duration": 0,
    "start_time": "2023-09-15T12:19:13.448Z"
   },
   {
    "duration": 0,
    "start_time": "2023-09-15T12:19:13.449Z"
   },
   {
    "duration": 0,
    "start_time": "2023-09-15T12:19:13.450Z"
   },
   {
    "duration": 0,
    "start_time": "2023-09-15T12:19:13.452Z"
   },
   {
    "duration": 0,
    "start_time": "2023-09-15T12:19:13.453Z"
   },
   {
    "duration": 0,
    "start_time": "2023-09-15T12:19:13.454Z"
   },
   {
    "duration": 0,
    "start_time": "2023-09-15T12:19:13.454Z"
   },
   {
    "duration": 0,
    "start_time": "2023-09-15T12:19:13.457Z"
   },
   {
    "duration": 0,
    "start_time": "2023-09-15T12:19:13.457Z"
   },
   {
    "duration": 0,
    "start_time": "2023-09-15T12:19:13.458Z"
   },
   {
    "duration": 0,
    "start_time": "2023-09-15T12:19:13.459Z"
   },
   {
    "duration": 0,
    "start_time": "2023-09-15T12:19:13.459Z"
   },
   {
    "duration": 0,
    "start_time": "2023-09-15T12:19:13.460Z"
   },
   {
    "duration": 0,
    "start_time": "2023-09-15T12:19:13.461Z"
   },
   {
    "duration": 0,
    "start_time": "2023-09-15T12:19:13.461Z"
   },
   {
    "duration": 0,
    "start_time": "2023-09-15T12:19:13.466Z"
   },
   {
    "duration": 0,
    "start_time": "2023-09-15T12:19:13.467Z"
   },
   {
    "duration": 0,
    "start_time": "2023-09-15T12:19:13.469Z"
   },
   {
    "duration": 0,
    "start_time": "2023-09-15T12:19:13.471Z"
   },
   {
    "duration": 1583,
    "start_time": "2023-09-15T12:19:37.573Z"
   },
   {
    "duration": 891,
    "start_time": "2023-09-15T12:19:39.158Z"
   },
   {
    "duration": 12,
    "start_time": "2023-09-15T12:19:40.051Z"
   },
   {
    "duration": 40,
    "start_time": "2023-09-15T12:19:40.065Z"
   },
   {
    "duration": 45,
    "start_time": "2023-09-15T12:19:40.106Z"
   },
   {
    "duration": 19,
    "start_time": "2023-09-15T12:19:40.153Z"
   },
   {
    "duration": 19,
    "start_time": "2023-09-15T12:19:40.174Z"
   },
   {
    "duration": 26,
    "start_time": "2023-09-15T12:19:40.195Z"
   },
   {
    "duration": 196,
    "start_time": "2023-09-15T12:19:40.224Z"
   },
   {
    "duration": 12,
    "start_time": "2023-09-15T12:19:40.424Z"
   },
   {
    "duration": 44,
    "start_time": "2023-09-15T12:19:40.447Z"
   },
   {
    "duration": 37,
    "start_time": "2023-09-15T12:19:40.492Z"
   },
   {
    "duration": 52,
    "start_time": "2023-09-15T12:19:40.531Z"
   },
   {
    "duration": 38,
    "start_time": "2023-09-15T12:19:40.585Z"
   },
   {
    "duration": 34,
    "start_time": "2023-09-15T12:19:40.624Z"
   },
   {
    "duration": 6,
    "start_time": "2023-09-15T12:19:40.663Z"
   },
   {
    "duration": 21,
    "start_time": "2023-09-15T12:19:40.671Z"
   },
   {
    "duration": 49,
    "start_time": "2023-09-15T12:19:40.694Z"
   },
   {
    "duration": 1109,
    "start_time": "2023-09-15T12:19:40.752Z"
   },
   {
    "duration": 14,
    "start_time": "2023-09-15T12:19:41.862Z"
   },
   {
    "duration": 253,
    "start_time": "2023-09-15T12:19:41.877Z"
   },
   {
    "duration": 29,
    "start_time": "2023-09-15T12:19:42.131Z"
   },
   {
    "duration": 7,
    "start_time": "2023-09-15T12:19:42.162Z"
   },
   {
    "duration": 52,
    "start_time": "2023-09-15T12:19:42.171Z"
   },
   {
    "duration": 1719,
    "start_time": "2023-09-15T12:19:42.225Z"
   },
   {
    "duration": 20,
    "start_time": "2023-09-15T12:19:43.950Z"
   },
   {
    "duration": 352,
    "start_time": "2023-09-15T12:19:43.971Z"
   },
   {
    "duration": 346,
    "start_time": "2023-09-15T12:19:44.327Z"
   },
   {
    "duration": 323,
    "start_time": "2023-09-15T12:19:44.675Z"
   },
   {
    "duration": 278,
    "start_time": "2023-09-15T12:19:45.000Z"
   },
   {
    "duration": 286,
    "start_time": "2023-09-15T12:19:45.279Z"
   },
   {
    "duration": 394,
    "start_time": "2023-09-15T12:19:45.566Z"
   },
   {
    "duration": 304,
    "start_time": "2023-09-15T12:19:45.962Z"
   },
   {
    "duration": 279,
    "start_time": "2023-09-15T12:19:46.268Z"
   },
   {
    "duration": 280,
    "start_time": "2023-09-15T12:19:46.557Z"
   },
   {
    "duration": 326,
    "start_time": "2023-09-15T12:19:46.844Z"
   },
   {
    "duration": 275,
    "start_time": "2023-09-15T12:19:47.172Z"
   },
   {
    "duration": 290,
    "start_time": "2023-09-15T12:19:47.448Z"
   },
   {
    "duration": 315,
    "start_time": "2023-09-15T12:19:47.743Z"
   },
   {
    "duration": 318,
    "start_time": "2023-09-15T12:19:48.060Z"
   },
   {
    "duration": 306,
    "start_time": "2023-09-15T12:19:48.380Z"
   },
   {
    "duration": 269,
    "start_time": "2023-09-15T12:19:48.689Z"
   },
   {
    "duration": 290,
    "start_time": "2023-09-15T12:19:48.959Z"
   },
   {
    "duration": 389,
    "start_time": "2023-09-15T12:19:49.251Z"
   },
   {
    "duration": 286,
    "start_time": "2023-09-15T12:19:49.644Z"
   },
   {
    "duration": 294,
    "start_time": "2023-09-15T12:19:49.932Z"
   },
   {
    "duration": 321,
    "start_time": "2023-09-15T12:19:50.228Z"
   },
   {
    "duration": 280,
    "start_time": "2023-09-15T12:19:50.551Z"
   },
   {
    "duration": 313,
    "start_time": "2023-09-15T12:19:50.834Z"
   },
   {
    "duration": 303,
    "start_time": "2023-09-15T12:19:51.148Z"
   },
   {
    "duration": 282,
    "start_time": "2023-09-15T12:19:51.455Z"
   },
   {
    "duration": 306,
    "start_time": "2023-09-15T12:19:51.739Z"
   },
   {
    "duration": 195,
    "start_time": "2023-09-15T12:19:52.054Z"
   },
   {
    "duration": 331,
    "start_time": "2023-09-15T12:19:52.251Z"
   },
   {
    "duration": 389,
    "start_time": "2023-09-15T12:19:52.584Z"
   },
   {
    "duration": 4,
    "start_time": "2023-09-15T12:19:52.974Z"
   },
   {
    "duration": 1512,
    "start_time": "2023-09-15T12:28:20.617Z"
   },
   {
    "duration": 969,
    "start_time": "2023-09-15T12:28:22.131Z"
   },
   {
    "duration": 388,
    "start_time": "2023-09-15T12:28:23.101Z"
   },
   {
    "duration": 229,
    "start_time": "2023-09-15T12:28:23.492Z"
   },
   {
    "duration": 160,
    "start_time": "2023-09-15T12:28:23.724Z"
   },
   {
    "duration": 0,
    "start_time": "2023-09-15T12:28:23.888Z"
   },
   {
    "duration": 0,
    "start_time": "2023-09-15T12:28:23.890Z"
   },
   {
    "duration": 0,
    "start_time": "2023-09-15T12:28:23.891Z"
   },
   {
    "duration": 0,
    "start_time": "2023-09-15T12:28:23.893Z"
   },
   {
    "duration": 0,
    "start_time": "2023-09-15T12:28:23.894Z"
   },
   {
    "duration": 0,
    "start_time": "2023-09-15T12:28:23.895Z"
   },
   {
    "duration": 0,
    "start_time": "2023-09-15T12:28:23.897Z"
   },
   {
    "duration": 0,
    "start_time": "2023-09-15T12:28:23.898Z"
   },
   {
    "duration": 0,
    "start_time": "2023-09-15T12:28:23.899Z"
   },
   {
    "duration": 0,
    "start_time": "2023-09-15T12:28:23.902Z"
   },
   {
    "duration": 0,
    "start_time": "2023-09-15T12:28:23.902Z"
   },
   {
    "duration": 0,
    "start_time": "2023-09-15T12:28:23.903Z"
   },
   {
    "duration": 0,
    "start_time": "2023-09-15T12:28:23.905Z"
   },
   {
    "duration": 0,
    "start_time": "2023-09-15T12:28:23.906Z"
   },
   {
    "duration": 0,
    "start_time": "2023-09-15T12:28:23.907Z"
   },
   {
    "duration": 0,
    "start_time": "2023-09-15T12:28:23.908Z"
   },
   {
    "duration": 0,
    "start_time": "2023-09-15T12:28:23.943Z"
   },
   {
    "duration": 0,
    "start_time": "2023-09-15T12:28:23.944Z"
   },
   {
    "duration": 0,
    "start_time": "2023-09-15T12:28:23.945Z"
   },
   {
    "duration": 0,
    "start_time": "2023-09-15T12:28:23.946Z"
   },
   {
    "duration": 0,
    "start_time": "2023-09-15T12:28:23.946Z"
   },
   {
    "duration": 0,
    "start_time": "2023-09-15T12:28:23.947Z"
   },
   {
    "duration": 0,
    "start_time": "2023-09-15T12:28:23.948Z"
   },
   {
    "duration": 0,
    "start_time": "2023-09-15T12:28:23.948Z"
   },
   {
    "duration": 0,
    "start_time": "2023-09-15T12:28:23.949Z"
   },
   {
    "duration": 0,
    "start_time": "2023-09-15T12:28:23.950Z"
   },
   {
    "duration": 0,
    "start_time": "2023-09-15T12:28:23.950Z"
   },
   {
    "duration": 0,
    "start_time": "2023-09-15T12:28:23.951Z"
   },
   {
    "duration": 0,
    "start_time": "2023-09-15T12:28:23.951Z"
   },
   {
    "duration": 0,
    "start_time": "2023-09-15T12:28:23.952Z"
   },
   {
    "duration": 0,
    "start_time": "2023-09-15T12:28:23.953Z"
   },
   {
    "duration": 0,
    "start_time": "2023-09-15T12:28:23.953Z"
   },
   {
    "duration": 0,
    "start_time": "2023-09-15T12:28:23.956Z"
   },
   {
    "duration": 0,
    "start_time": "2023-09-15T12:28:23.957Z"
   },
   {
    "duration": 0,
    "start_time": "2023-09-15T12:28:23.958Z"
   },
   {
    "duration": 0,
    "start_time": "2023-09-15T12:28:23.964Z"
   },
   {
    "duration": 0,
    "start_time": "2023-09-15T12:28:23.965Z"
   },
   {
    "duration": 0,
    "start_time": "2023-09-15T12:28:23.967Z"
   },
   {
    "duration": 0,
    "start_time": "2023-09-15T12:28:23.968Z"
   },
   {
    "duration": 0,
    "start_time": "2023-09-15T12:28:23.971Z"
   },
   {
    "duration": 0,
    "start_time": "2023-09-15T12:28:23.973Z"
   },
   {
    "duration": 0,
    "start_time": "2023-09-15T12:28:23.975Z"
   },
   {
    "duration": 0,
    "start_time": "2023-09-15T12:28:23.977Z"
   },
   {
    "duration": 0,
    "start_time": "2023-09-15T12:28:23.978Z"
   },
   {
    "duration": 0,
    "start_time": "2023-09-15T12:28:23.979Z"
   },
   {
    "duration": 0,
    "start_time": "2023-09-15T12:28:23.981Z"
   },
   {
    "duration": 0,
    "start_time": "2023-09-15T12:28:23.982Z"
   },
   {
    "duration": 0,
    "start_time": "2023-09-15T12:28:23.983Z"
   },
   {
    "duration": 0,
    "start_time": "2023-09-15T12:28:23.984Z"
   },
   {
    "duration": 0,
    "start_time": "2023-09-15T12:28:23.985Z"
   },
   {
    "duration": 0,
    "start_time": "2023-09-15T12:28:23.986Z"
   },
   {
    "duration": 0,
    "start_time": "2023-09-15T12:28:23.987Z"
   },
   {
    "duration": 0,
    "start_time": "2023-09-15T12:28:23.989Z"
   },
   {
    "duration": 23,
    "start_time": "2023-09-15T12:28:44.473Z"
   },
   {
    "duration": 7,
    "start_time": "2023-09-15T12:30:48.818Z"
   },
   {
    "duration": 6,
    "start_time": "2023-09-15T12:30:50.632Z"
   },
   {
    "duration": 9,
    "start_time": "2023-09-15T12:32:36.865Z"
   },
   {
    "duration": 1536,
    "start_time": "2023-09-15T13:27:53.604Z"
   },
   {
    "duration": 882,
    "start_time": "2023-09-15T13:27:55.142Z"
   },
   {
    "duration": 11,
    "start_time": "2023-09-15T13:27:56.025Z"
   },
   {
    "duration": 23,
    "start_time": "2023-09-15T13:27:56.044Z"
   },
   {
    "duration": 25,
    "start_time": "2023-09-15T13:27:56.069Z"
   },
   {
    "duration": 33,
    "start_time": "2023-09-15T13:27:56.096Z"
   },
   {
    "duration": 16,
    "start_time": "2023-09-15T13:27:56.131Z"
   },
   {
    "duration": 27,
    "start_time": "2023-09-15T13:27:56.149Z"
   },
   {
    "duration": 211,
    "start_time": "2023-09-15T13:27:56.179Z"
   },
   {
    "duration": 10,
    "start_time": "2023-09-15T13:27:56.394Z"
   },
   {
    "duration": 57,
    "start_time": "2023-09-15T13:27:56.406Z"
   },
   {
    "duration": 58,
    "start_time": "2023-09-15T13:27:56.465Z"
   },
   {
    "duration": 56,
    "start_time": "2023-09-15T13:27:56.525Z"
   },
   {
    "duration": 34,
    "start_time": "2023-09-15T13:27:56.583Z"
   },
   {
    "duration": 41,
    "start_time": "2023-09-15T13:27:56.620Z"
   },
   {
    "duration": 7,
    "start_time": "2023-09-15T13:27:56.664Z"
   },
   {
    "duration": 21,
    "start_time": "2023-09-15T13:27:56.672Z"
   },
   {
    "duration": 32,
    "start_time": "2023-09-15T13:27:56.696Z"
   },
   {
    "duration": 1095,
    "start_time": "2023-09-15T13:27:56.730Z"
   },
   {
    "duration": 25,
    "start_time": "2023-09-15T13:27:57.827Z"
   },
   {
    "duration": 236,
    "start_time": "2023-09-15T13:27:57.856Z"
   },
   {
    "duration": 16,
    "start_time": "2023-09-15T13:27:58.094Z"
   },
   {
    "duration": 9,
    "start_time": "2023-09-15T13:27:58.111Z"
   },
   {
    "duration": 44,
    "start_time": "2023-09-15T13:27:58.122Z"
   },
   {
    "duration": 1630,
    "start_time": "2023-09-15T13:27:58.168Z"
   },
   {
    "duration": 14,
    "start_time": "2023-09-15T13:27:59.800Z"
   },
   {
    "duration": 356,
    "start_time": "2023-09-15T13:27:59.815Z"
   },
   {
    "duration": 289,
    "start_time": "2023-09-15T13:28:00.176Z"
   },
   {
    "duration": 290,
    "start_time": "2023-09-15T13:28:00.466Z"
   },
   {
    "duration": 363,
    "start_time": "2023-09-15T13:28:00.759Z"
   },
   {
    "duration": 325,
    "start_time": "2023-09-15T13:28:01.124Z"
   },
   {
    "duration": 428,
    "start_time": "2023-09-15T13:28:01.450Z"
   },
   {
    "duration": 281,
    "start_time": "2023-09-15T13:28:01.880Z"
   },
   {
    "duration": 283,
    "start_time": "2023-09-15T13:28:02.163Z"
   },
   {
    "duration": 333,
    "start_time": "2023-09-15T13:28:02.449Z"
   },
   {
    "duration": 274,
    "start_time": "2023-09-15T13:28:02.783Z"
   },
   {
    "duration": 270,
    "start_time": "2023-09-15T13:28:03.059Z"
   },
   {
    "duration": 399,
    "start_time": "2023-09-15T13:28:03.331Z"
   },
   {
    "duration": 341,
    "start_time": "2023-09-15T13:28:03.733Z"
   },
   {
    "duration": 302,
    "start_time": "2023-09-15T13:28:04.076Z"
   },
   {
    "duration": 318,
    "start_time": "2023-09-15T13:28:04.380Z"
   },
   {
    "duration": 350,
    "start_time": "2023-09-15T13:28:04.701Z"
   },
   {
    "duration": 330,
    "start_time": "2023-09-15T13:28:05.052Z"
   },
   {
    "duration": 420,
    "start_time": "2023-09-15T13:28:05.384Z"
   },
   {
    "duration": 327,
    "start_time": "2023-09-15T13:28:05.805Z"
   },
   {
    "duration": 318,
    "start_time": "2023-09-15T13:28:06.134Z"
   },
   {
    "duration": 313,
    "start_time": "2023-09-15T13:28:06.454Z"
   },
   {
    "duration": 339,
    "start_time": "2023-09-15T13:28:06.769Z"
   },
   {
    "duration": 346,
    "start_time": "2023-09-15T13:28:07.110Z"
   },
   {
    "duration": 415,
    "start_time": "2023-09-15T13:28:07.465Z"
   },
   {
    "duration": 526,
    "start_time": "2023-09-15T13:28:07.881Z"
   },
   {
    "duration": 355,
    "start_time": "2023-09-15T13:28:08.410Z"
   },
   {
    "duration": 206,
    "start_time": "2023-09-15T13:28:08.767Z"
   },
   {
    "duration": 322,
    "start_time": "2023-09-15T13:28:08.975Z"
   },
   {
    "duration": 393,
    "start_time": "2023-09-15T13:28:09.299Z"
   },
   {
    "duration": 3,
    "start_time": "2023-09-15T13:28:09.695Z"
   },
   {
    "duration": 550,
    "start_time": "2023-09-15T13:28:09.700Z"
   },
   {
    "duration": 0,
    "start_time": "2023-09-15T13:28:10.252Z"
   },
   {
    "duration": 0,
    "start_time": "2023-09-15T13:28:10.254Z"
   },
   {
    "duration": 26070,
    "start_time": "2023-09-15T13:29:40.290Z"
   },
   {
    "duration": 29318,
    "start_time": "2023-09-15T13:30:07.981Z"
   },
   {
    "duration": 59552,
    "start_time": "2023-09-15T13:30:37.896Z"
   },
   {
    "duration": 3133,
    "start_time": "2023-09-15T13:31:38.679Z"
   },
   {
    "duration": 76366,
    "start_time": "2023-09-15T13:31:51.137Z"
   },
   {
    "duration": 19,
    "start_time": "2023-09-15T13:49:40.402Z"
   },
   {
    "duration": 23,
    "start_time": "2023-09-15T13:49:54.312Z"
   },
   {
    "duration": 24,
    "start_time": "2023-09-15T13:51:57.134Z"
   },
   {
    "duration": 15,
    "start_time": "2023-09-15T13:52:09.422Z"
   },
   {
    "duration": 9,
    "start_time": "2023-09-15T13:52:19.918Z"
   },
   {
    "duration": 227,
    "start_time": "2023-09-15T13:52:34.481Z"
   },
   {
    "duration": 11,
    "start_time": "2023-09-15T13:52:40.886Z"
   },
   {
    "duration": 11,
    "start_time": "2023-09-15T13:56:35.669Z"
   },
   {
    "duration": 12,
    "start_time": "2023-09-15T13:57:00.494Z"
   },
   {
    "duration": 7,
    "start_time": "2023-09-15T13:57:16.016Z"
   },
   {
    "duration": 9,
    "start_time": "2023-09-15T13:57:31.725Z"
   },
   {
    "duration": 10,
    "start_time": "2023-09-15T14:00:36.164Z"
   },
   {
    "duration": 9,
    "start_time": "2023-09-15T14:06:20.520Z"
   },
   {
    "duration": 13,
    "start_time": "2023-09-15T14:06:39.606Z"
   },
   {
    "duration": 174,
    "start_time": "2023-09-15T14:09:44.624Z"
   },
   {
    "duration": 12,
    "start_time": "2023-09-15T14:09:54.677Z"
   },
   {
    "duration": 105,
    "start_time": "2023-09-15T14:10:57.390Z"
   },
   {
    "duration": 8,
    "start_time": "2023-09-15T14:11:04.701Z"
   },
   {
    "duration": 213,
    "start_time": "2023-09-15T14:13:06.063Z"
   },
   {
    "duration": 109,
    "start_time": "2023-09-15T14:13:46.263Z"
   },
   {
    "duration": 30,
    "start_time": "2023-09-15T14:14:00.039Z"
   },
   {
    "duration": 27,
    "start_time": "2023-09-15T14:14:17.162Z"
   },
   {
    "duration": 28,
    "start_time": "2023-09-15T14:14:45.990Z"
   },
   {
    "duration": 33,
    "start_time": "2023-09-15T14:15:11.133Z"
   },
   {
    "duration": 40,
    "start_time": "2023-09-15T14:15:28.532Z"
   },
   {
    "duration": 17,
    "start_time": "2023-09-15T14:15:39.614Z"
   },
   {
    "duration": 19,
    "start_time": "2023-09-15T14:15:46.564Z"
   },
   {
    "duration": 19,
    "start_time": "2023-09-15T14:16:00.183Z"
   },
   {
    "duration": 32,
    "start_time": "2023-09-15T14:16:43.281Z"
   },
   {
    "duration": 27,
    "start_time": "2023-09-15T14:16:56.371Z"
   },
   {
    "duration": 27,
    "start_time": "2023-09-15T14:17:35.059Z"
   },
   {
    "duration": 19,
    "start_time": "2023-09-15T14:17:43.908Z"
   },
   {
    "duration": 34,
    "start_time": "2023-09-15T14:17:55.614Z"
   },
   {
    "duration": 30,
    "start_time": "2023-09-15T14:18:12.629Z"
   },
   {
    "duration": 38,
    "start_time": "2023-09-15T14:19:09.523Z"
   },
   {
    "duration": 35,
    "start_time": "2023-09-15T14:19:31.645Z"
   },
   {
    "duration": 33,
    "start_time": "2023-09-15T14:20:20.696Z"
   },
   {
    "duration": 23,
    "start_time": "2023-09-15T14:21:40.761Z"
   },
   {
    "duration": 20,
    "start_time": "2023-09-15T14:22:02.592Z"
   },
   {
    "duration": 33,
    "start_time": "2023-09-15T14:22:20.443Z"
   },
   {
    "duration": 43,
    "start_time": "2023-09-15T14:22:53.400Z"
   },
   {
    "duration": 48,
    "start_time": "2023-09-15T14:23:44.068Z"
   },
   {
    "duration": 13,
    "start_time": "2023-09-15T14:26:23.187Z"
   },
   {
    "duration": 23,
    "start_time": "2023-09-15T14:26:41.696Z"
   },
   {
    "duration": 28,
    "start_time": "2023-09-15T14:27:07.760Z"
   },
   {
    "duration": 43,
    "start_time": "2023-09-15T14:27:49.827Z"
   },
   {
    "duration": 69,
    "start_time": "2023-09-15T14:28:04.785Z"
   },
   {
    "duration": 48,
    "start_time": "2023-09-15T14:28:52.074Z"
   },
   {
    "duration": 47,
    "start_time": "2023-09-15T14:29:10.452Z"
   },
   {
    "duration": 32,
    "start_time": "2023-09-15T14:29:22.090Z"
   },
   {
    "duration": 42,
    "start_time": "2023-09-15T14:29:37.137Z"
   },
   {
    "duration": 37,
    "start_time": "2023-09-15T14:29:49.714Z"
   },
   {
    "duration": 37,
    "start_time": "2023-09-15T14:30:00.914Z"
   },
   {
    "duration": 25,
    "start_time": "2023-09-15T14:31:00.290Z"
   },
   {
    "duration": 24,
    "start_time": "2023-09-15T14:32:14.629Z"
   },
   {
    "duration": 15891,
    "start_time": "2023-09-15T14:32:39.902Z"
   },
   {
    "duration": 22,
    "start_time": "2023-09-15T14:33:42.855Z"
   },
   {
    "duration": 31,
    "start_time": "2023-09-15T14:34:15.000Z"
   },
   {
    "duration": 28,
    "start_time": "2023-09-15T14:34:22.981Z"
   },
   {
    "duration": 29,
    "start_time": "2023-09-15T14:34:56.234Z"
   },
   {
    "duration": 33,
    "start_time": "2023-09-15T14:35:05.607Z"
   },
   {
    "duration": 4007,
    "start_time": "2023-09-15T14:35:48.758Z"
   },
   {
    "duration": 3882,
    "start_time": "2023-09-15T14:36:30.760Z"
   },
   {
    "duration": 22,
    "start_time": "2023-09-15T14:37:12.159Z"
   },
   {
    "duration": 30,
    "start_time": "2023-09-15T14:37:50.135Z"
   },
   {
    "duration": 28,
    "start_time": "2023-09-15T14:38:01.793Z"
   },
   {
    "duration": 93,
    "start_time": "2023-09-15T14:38:42.383Z"
   },
   {
    "duration": 81,
    "start_time": "2023-09-15T14:39:24.618Z"
   },
   {
    "duration": 21,
    "start_time": "2023-09-15T14:40:24.107Z"
   },
   {
    "duration": 405,
    "start_time": "2023-09-15T14:41:30.796Z"
   },
   {
    "duration": 361,
    "start_time": "2023-09-15T14:42:30.228Z"
   },
   {
    "duration": 342,
    "start_time": "2023-09-15T14:43:15.261Z"
   },
   {
    "duration": 392,
    "start_time": "2023-09-15T14:44:04.921Z"
   },
   {
    "duration": 537,
    "start_time": "2023-09-15T14:44:36.756Z"
   },
   {
    "duration": 816,
    "start_time": "2023-09-15T14:45:52.653Z"
   },
   {
    "duration": 784,
    "start_time": "2023-09-15T14:46:56.686Z"
   },
   {
    "duration": 649,
    "start_time": "2023-09-15T14:48:13.730Z"
   },
   {
    "duration": 372,
    "start_time": "2023-09-15T14:51:23.584Z"
   },
   {
    "duration": 272,
    "start_time": "2023-09-15T14:57:23.480Z"
   },
   {
    "duration": 509,
    "start_time": "2023-09-15T15:49:31.071Z"
   },
   {
    "duration": 610,
    "start_time": "2023-09-15T15:50:13.477Z"
   },
   {
    "duration": 647,
    "start_time": "2023-09-15T15:50:28.141Z"
   },
   {
    "duration": 602,
    "start_time": "2023-09-15T15:53:26.052Z"
   },
   {
    "duration": 527,
    "start_time": "2023-09-15T15:54:04.875Z"
   },
   {
    "duration": 93,
    "start_time": "2023-09-15T15:55:53.601Z"
   },
   {
    "duration": 194,
    "start_time": "2023-09-15T15:56:07.089Z"
   },
   {
    "duration": 93,
    "start_time": "2023-09-15T15:56:43.721Z"
   },
   {
    "duration": 104,
    "start_time": "2023-09-15T15:57:20.110Z"
   },
   {
    "duration": 66910,
    "start_time": "2023-09-15T15:57:28.387Z"
   },
   {
    "duration": 66337,
    "start_time": "2023-09-15T15:59:45.890Z"
   },
   {
    "duration": 68405,
    "start_time": "2023-09-15T16:01:40.833Z"
   },
   {
    "duration": 66616,
    "start_time": "2023-09-15T16:03:17.700Z"
   },
   {
    "duration": 14,
    "start_time": "2023-09-15T16:06:42.900Z"
   },
   {
    "duration": 91395,
    "start_time": "2023-09-15T16:07:11.151Z"
   },
   {
    "duration": 95,
    "start_time": "2023-09-15T16:11:18.990Z"
   },
   {
    "duration": 93039,
    "start_time": "2023-09-15T16:11:32.587Z"
   },
   {
    "duration": 66988,
    "start_time": "2023-09-15T16:13:40.612Z"
   },
   {
    "duration": 7549,
    "start_time": "2023-09-15T16:16:57.119Z"
   },
   {
    "duration": 67023,
    "start_time": "2023-09-15T16:18:29.379Z"
   },
   {
    "duration": 124,
    "start_time": "2023-09-15T16:19:47.900Z"
   },
   {
    "duration": 4,
    "start_time": "2023-09-15T16:20:26.176Z"
   },
   {
    "duration": 120,
    "start_time": "2023-09-15T16:20:38.264Z"
   },
   {
    "duration": 3,
    "start_time": "2023-09-15T16:20:43.201Z"
   },
   {
    "duration": 3,
    "start_time": "2023-09-15T16:20:50.858Z"
   },
   {
    "duration": 67882,
    "start_time": "2023-09-15T16:22:01.517Z"
   },
   {
    "duration": 3,
    "start_time": "2023-09-15T16:23:12.831Z"
   },
   {
    "duration": 25529,
    "start_time": "2023-09-15T16:23:20.634Z"
   },
   {
    "duration": 57012,
    "start_time": "2023-09-15T16:24:59.637Z"
   },
   {
    "duration": 0,
    "start_time": "2023-09-15T16:25:56.654Z"
   },
   {
    "duration": 276897,
    "start_time": "2023-09-15T16:26:00.375Z"
   },
   {
    "duration": 4,
    "start_time": "2023-09-15T16:31:31.557Z"
   },
   {
    "duration": 26981,
    "start_time": "2023-09-15T16:31:32.729Z"
   },
   {
    "duration": 60223,
    "start_time": "2023-09-15T16:33:38.845Z"
   },
   {
    "duration": 58666,
    "start_time": "2023-09-15T16:35:06.014Z"
   },
   {
    "duration": 725667,
    "start_time": "2023-09-15T16:38:13.304Z"
   },
   {
    "duration": 15,
    "start_time": "2023-09-15T17:05:30.154Z"
   },
   {
    "duration": 5,
    "start_time": "2023-09-15T17:06:05.083Z"
   },
   {
    "duration": 8,
    "start_time": "2023-09-15T17:06:15.953Z"
   },
   {
    "duration": 5,
    "start_time": "2023-09-15T17:06:24.260Z"
   },
   {
    "duration": 7,
    "start_time": "2023-09-15T17:06:28.546Z"
   },
   {
    "duration": 7,
    "start_time": "2023-09-15T17:06:45.957Z"
   },
   {
    "duration": 7,
    "start_time": "2023-09-15T17:06:56.593Z"
   },
   {
    "duration": 36,
    "start_time": "2023-09-15T17:08:02.276Z"
   },
   {
    "duration": 14,
    "start_time": "2023-09-15T17:08:15.925Z"
   },
   {
    "duration": 34,
    "start_time": "2023-09-15T17:08:25.033Z"
   },
   {
    "duration": 33,
    "start_time": "2023-09-15T17:08:33.260Z"
   },
   {
    "duration": 12596,
    "start_time": "2023-09-15T17:14:50.360Z"
   },
   {
    "duration": 19207,
    "start_time": "2023-09-15T17:15:33.240Z"
   },
   {
    "duration": 18449,
    "start_time": "2023-09-15T17:18:46.304Z"
   },
   {
    "duration": 12526,
    "start_time": "2023-09-15T17:19:45.518Z"
   },
   {
    "duration": 18167,
    "start_time": "2023-09-15T17:20:08.594Z"
   },
   {
    "duration": 1605,
    "start_time": "2023-09-17T08:49:30.312Z"
   },
   {
    "duration": 2354,
    "start_time": "2023-09-17T08:49:31.919Z"
   },
   {
    "duration": 9,
    "start_time": "2023-09-17T08:49:34.275Z"
   },
   {
    "duration": 17,
    "start_time": "2023-09-17T08:49:34.286Z"
   },
   {
    "duration": 14,
    "start_time": "2023-09-17T08:49:34.304Z"
   },
   {
    "duration": 32,
    "start_time": "2023-09-17T08:49:34.319Z"
   },
   {
    "duration": 12,
    "start_time": "2023-09-17T08:49:34.353Z"
   },
   {
    "duration": 16,
    "start_time": "2023-09-17T08:49:34.366Z"
   },
   {
    "duration": 181,
    "start_time": "2023-09-17T08:49:34.384Z"
   },
   {
    "duration": 12,
    "start_time": "2023-09-17T08:49:34.570Z"
   },
   {
    "duration": 54,
    "start_time": "2023-09-17T08:49:34.583Z"
   },
   {
    "duration": 46,
    "start_time": "2023-09-17T08:49:34.639Z"
   },
   {
    "duration": 39,
    "start_time": "2023-09-17T08:49:34.687Z"
   },
   {
    "duration": 38,
    "start_time": "2023-09-17T08:49:34.745Z"
   },
   {
    "duration": 16,
    "start_time": "2023-09-17T08:49:34.785Z"
   },
   {
    "duration": 15,
    "start_time": "2023-09-17T08:49:34.803Z"
   },
   {
    "duration": 40,
    "start_time": "2023-09-17T08:49:34.820Z"
   },
   {
    "duration": 42,
    "start_time": "2023-09-17T08:49:34.861Z"
   },
   {
    "duration": 1054,
    "start_time": "2023-09-17T08:49:34.904Z"
   },
   {
    "duration": 13,
    "start_time": "2023-09-17T08:49:35.960Z"
   },
   {
    "duration": 237,
    "start_time": "2023-09-17T08:49:35.974Z"
   },
   {
    "duration": 16,
    "start_time": "2023-09-17T08:49:36.213Z"
   },
   {
    "duration": 29,
    "start_time": "2023-09-17T08:49:36.230Z"
   },
   {
    "duration": 16,
    "start_time": "2023-09-17T08:49:36.261Z"
   },
   {
    "duration": 1616,
    "start_time": "2023-09-17T08:49:36.279Z"
   },
   {
    "duration": 14,
    "start_time": "2023-09-17T08:49:37.896Z"
   },
   {
    "duration": 344,
    "start_time": "2023-09-17T08:49:37.912Z"
   },
   {
    "duration": 111,
    "start_time": "2023-09-17T08:49:38.260Z"
   },
   {
    "duration": 1,
    "start_time": "2023-09-17T08:49:38.372Z"
   },
   {
    "duration": 0,
    "start_time": "2023-09-17T08:49:38.375Z"
   },
   {
    "duration": 0,
    "start_time": "2023-09-17T08:49:38.376Z"
   },
   {
    "duration": 0,
    "start_time": "2023-09-17T08:49:38.377Z"
   },
   {
    "duration": 0,
    "start_time": "2023-09-17T08:49:38.379Z"
   },
   {
    "duration": 0,
    "start_time": "2023-09-17T08:49:38.380Z"
   },
   {
    "duration": 0,
    "start_time": "2023-09-17T08:49:38.382Z"
   },
   {
    "duration": 0,
    "start_time": "2023-09-17T08:49:38.384Z"
   },
   {
    "duration": 0,
    "start_time": "2023-09-17T08:49:38.385Z"
   },
   {
    "duration": 0,
    "start_time": "2023-09-17T08:49:38.386Z"
   },
   {
    "duration": 0,
    "start_time": "2023-09-17T08:49:38.388Z"
   },
   {
    "duration": 0,
    "start_time": "2023-09-17T08:49:38.389Z"
   },
   {
    "duration": 1,
    "start_time": "2023-09-17T08:49:38.390Z"
   },
   {
    "duration": 1,
    "start_time": "2023-09-17T08:49:38.391Z"
   },
   {
    "duration": 0,
    "start_time": "2023-09-17T08:49:38.393Z"
   },
   {
    "duration": 0,
    "start_time": "2023-09-17T08:49:38.394Z"
   },
   {
    "duration": 0,
    "start_time": "2023-09-17T08:49:38.395Z"
   },
   {
    "duration": 0,
    "start_time": "2023-09-17T08:49:38.396Z"
   },
   {
    "duration": 0,
    "start_time": "2023-09-17T08:49:38.397Z"
   },
   {
    "duration": 0,
    "start_time": "2023-09-17T08:49:38.398Z"
   },
   {
    "duration": 0,
    "start_time": "2023-09-17T08:49:38.443Z"
   },
   {
    "duration": 0,
    "start_time": "2023-09-17T08:49:38.444Z"
   },
   {
    "duration": 0,
    "start_time": "2023-09-17T08:49:38.445Z"
   },
   {
    "duration": 0,
    "start_time": "2023-09-17T08:49:38.446Z"
   },
   {
    "duration": 0,
    "start_time": "2023-09-17T08:49:38.447Z"
   },
   {
    "duration": 0,
    "start_time": "2023-09-17T08:49:38.448Z"
   },
   {
    "duration": 0,
    "start_time": "2023-09-17T08:49:38.449Z"
   },
   {
    "duration": 0,
    "start_time": "2023-09-17T08:49:38.450Z"
   },
   {
    "duration": 0,
    "start_time": "2023-09-17T08:49:38.451Z"
   },
   {
    "duration": 0,
    "start_time": "2023-09-17T08:49:38.452Z"
   },
   {
    "duration": 0,
    "start_time": "2023-09-17T08:49:38.454Z"
   },
   {
    "duration": 0,
    "start_time": "2023-09-17T08:49:38.458Z"
   },
   {
    "duration": 0,
    "start_time": "2023-09-17T08:49:38.458Z"
   },
   {
    "duration": 359,
    "start_time": "2023-09-17T08:49:55.111Z"
   },
   {
    "duration": 260,
    "start_time": "2023-09-17T08:54:14.010Z"
   },
   {
    "duration": 279,
    "start_time": "2023-09-17T08:54:18.051Z"
   },
   {
    "duration": 323,
    "start_time": "2023-09-17T08:54:24.522Z"
   },
   {
    "duration": 329,
    "start_time": "2023-09-17T08:54:34.999Z"
   },
   {
    "duration": 248,
    "start_time": "2023-09-17T08:54:39.804Z"
   },
   {
    "duration": 250,
    "start_time": "2023-09-17T08:54:44.899Z"
   },
   {
    "duration": 287,
    "start_time": "2023-09-17T08:54:50.616Z"
   },
   {
    "duration": 249,
    "start_time": "2023-09-17T08:54:55.099Z"
   },
   {
    "duration": 284,
    "start_time": "2023-09-17T08:54:59.224Z"
   },
   {
    "duration": 295,
    "start_time": "2023-09-17T08:55:04.951Z"
   },
   {
    "duration": 281,
    "start_time": "2023-09-17T08:55:08.620Z"
   },
   {
    "duration": 224,
    "start_time": "2023-09-17T08:55:19.495Z"
   },
   {
    "duration": 290,
    "start_time": "2023-09-17T08:55:25.931Z"
   },
   {
    "duration": 273,
    "start_time": "2023-09-17T08:55:43.955Z"
   },
   {
    "duration": 224,
    "start_time": "2023-09-17T08:55:52.792Z"
   },
   {
    "duration": 354,
    "start_time": "2023-09-17T08:56:00.527Z"
   },
   {
    "duration": 268,
    "start_time": "2023-09-17T08:56:04.555Z"
   },
   {
    "duration": 298,
    "start_time": "2023-09-17T08:56:08.914Z"
   },
   {
    "duration": 300,
    "start_time": "2023-09-17T08:56:12.116Z"
   },
   {
    "duration": 256,
    "start_time": "2023-09-17T08:56:15.739Z"
   },
   {
    "duration": 223,
    "start_time": "2023-09-17T08:56:24.695Z"
   },
   {
    "duration": 217,
    "start_time": "2023-09-17T08:56:31.495Z"
   },
   {
    "duration": 284,
    "start_time": "2023-09-17T08:56:38.817Z"
   },
   {
    "duration": 273,
    "start_time": "2023-09-17T08:56:44.951Z"
   },
   {
    "duration": 189,
    "start_time": "2023-09-17T08:56:48.892Z"
   },
   {
    "duration": 313,
    "start_time": "2023-09-17T08:57:22.045Z"
   },
   {
    "duration": 314,
    "start_time": "2023-09-17T08:57:24.847Z"
   },
   {
    "duration": 466,
    "start_time": "2023-09-17T08:58:08.744Z"
   },
   {
    "duration": 391,
    "start_time": "2023-09-17T09:00:07.323Z"
   },
   {
    "duration": 612,
    "start_time": "2023-09-17T09:00:32.519Z"
   },
   {
    "duration": 5,
    "start_time": "2023-09-17T09:01:21.695Z"
   },
   {
    "duration": 5,
    "start_time": "2023-09-17T09:01:33.027Z"
   },
   {
    "duration": 537,
    "start_time": "2023-09-17T09:02:00.833Z"
   },
   {
    "duration": 649,
    "start_time": "2023-09-17T09:02:07.235Z"
   },
   {
    "duration": 821,
    "start_time": "2023-09-17T09:03:58.932Z"
   },
   {
    "duration": 281,
    "start_time": "2023-09-17T09:04:18.432Z"
   },
   {
    "duration": 666,
    "start_time": "2023-09-17T09:04:27.300Z"
   },
   {
    "duration": 5,
    "start_time": "2023-09-17T09:04:37.883Z"
   },
   {
    "duration": 471,
    "start_time": "2023-09-17T09:05:17.800Z"
   },
   {
    "duration": 471,
    "start_time": "2023-09-17T09:05:42.021Z"
   },
   {
    "duration": 880,
    "start_time": "2023-09-17T09:05:58.521Z"
   },
   {
    "duration": 693,
    "start_time": "2023-09-17T09:06:27.112Z"
   },
   {
    "duration": 1019,
    "start_time": "2023-09-17T09:07:35.045Z"
   },
   {
    "duration": 762,
    "start_time": "2023-09-17T09:07:50.026Z"
   },
   {
    "duration": 1049,
    "start_time": "2023-09-17T09:07:55.808Z"
   },
   {
    "duration": 870,
    "start_time": "2023-09-17T09:08:32.684Z"
   },
   {
    "duration": 5,
    "start_time": "2023-09-17T09:12:29.991Z"
   },
   {
    "duration": 262646,
    "start_time": "2023-09-17T09:12:32.416Z"
   },
   {
    "duration": 55055,
    "start_time": "2023-09-17T09:17:02.114Z"
   },
   {
    "duration": 676275,
    "start_time": "2023-09-17T09:18:11.999Z"
   },
   {
    "duration": 18516,
    "start_time": "2023-09-17T09:31:19.450Z"
   },
   {
    "duration": 4,
    "start_time": "2023-09-17T09:37:02.983Z"
   },
   {
    "duration": 2543,
    "start_time": "2023-09-17T09:37:08.903Z"
   },
   {
    "duration": 5,
    "start_time": "2023-09-17T09:38:44.005Z"
   },
   {
    "duration": 10730,
    "start_time": "2023-09-17T09:38:47.723Z"
   },
   {
    "duration": 709707,
    "start_time": "2023-09-17T09:39:02.199Z"
   },
   {
    "duration": 1373,
    "start_time": "2023-09-17T09:51:08.587Z"
   },
   {
    "duration": 839,
    "start_time": "2023-09-17T09:51:09.962Z"
   },
   {
    "duration": 10,
    "start_time": "2023-09-17T09:51:10.803Z"
   },
   {
    "duration": 16,
    "start_time": "2023-09-17T09:51:10.815Z"
   },
   {
    "duration": 22,
    "start_time": "2023-09-17T09:51:10.832Z"
   },
   {
    "duration": 21,
    "start_time": "2023-09-17T09:51:10.856Z"
   },
   {
    "duration": 5,
    "start_time": "2023-09-17T09:51:10.878Z"
   },
   {
    "duration": 17,
    "start_time": "2023-09-17T09:51:10.884Z"
   },
   {
    "duration": 156,
    "start_time": "2023-09-17T09:51:10.902Z"
   },
   {
    "duration": 11,
    "start_time": "2023-09-17T09:51:11.060Z"
   },
   {
    "duration": 36,
    "start_time": "2023-09-17T09:51:11.072Z"
   },
   {
    "duration": 56,
    "start_time": "2023-09-17T09:51:11.110Z"
   },
   {
    "duration": 34,
    "start_time": "2023-09-17T09:51:11.167Z"
   },
   {
    "duration": 48,
    "start_time": "2023-09-17T09:51:11.202Z"
   },
   {
    "duration": 14,
    "start_time": "2023-09-17T09:51:11.252Z"
   },
   {
    "duration": 6,
    "start_time": "2023-09-17T09:51:11.267Z"
   },
   {
    "duration": 12,
    "start_time": "2023-09-17T09:51:11.274Z"
   },
   {
    "duration": 28,
    "start_time": "2023-09-17T09:51:11.288Z"
   },
   {
    "duration": 1068,
    "start_time": "2023-09-17T09:51:11.318Z"
   },
   {
    "duration": 14,
    "start_time": "2023-09-17T09:51:12.388Z"
   },
   {
    "duration": 229,
    "start_time": "2023-09-17T09:51:12.404Z"
   },
   {
    "duration": 23,
    "start_time": "2023-09-17T09:51:12.636Z"
   },
   {
    "duration": 22,
    "start_time": "2023-09-17T09:51:12.661Z"
   },
   {
    "duration": 23,
    "start_time": "2023-09-17T09:51:12.684Z"
   },
   {
    "duration": 1558,
    "start_time": "2023-09-17T09:51:12.709Z"
   },
   {
    "duration": 14,
    "start_time": "2023-09-17T09:51:14.269Z"
   },
   {
    "duration": 380,
    "start_time": "2023-09-17T09:51:14.285Z"
   },
   {
    "duration": 278,
    "start_time": "2023-09-17T09:51:14.668Z"
   },
   {
    "duration": 285,
    "start_time": "2023-09-17T09:51:14.948Z"
   },
   {
    "duration": 303,
    "start_time": "2023-09-17T09:51:15.243Z"
   },
   {
    "duration": 279,
    "start_time": "2023-09-17T09:51:15.547Z"
   },
   {
    "duration": 327,
    "start_time": "2023-09-17T09:51:15.827Z"
   },
   {
    "duration": 260,
    "start_time": "2023-09-17T09:51:16.156Z"
   },
   {
    "duration": 303,
    "start_time": "2023-09-17T09:51:16.418Z"
   },
   {
    "duration": 332,
    "start_time": "2023-09-17T09:51:16.723Z"
   },
   {
    "duration": 289,
    "start_time": "2023-09-17T09:51:17.056Z"
   },
   {
    "duration": 300,
    "start_time": "2023-09-17T09:51:17.346Z"
   },
   {
    "duration": 309,
    "start_time": "2023-09-17T09:51:17.648Z"
   },
   {
    "duration": 286,
    "start_time": "2023-09-17T09:51:17.959Z"
   },
   {
    "duration": 300,
    "start_time": "2023-09-17T09:51:18.246Z"
   },
   {
    "duration": 297,
    "start_time": "2023-09-17T09:51:18.548Z"
   },
   {
    "duration": 286,
    "start_time": "2023-09-17T09:51:18.847Z"
   },
   {
    "duration": 277,
    "start_time": "2023-09-17T09:51:19.135Z"
   },
   {
    "duration": 361,
    "start_time": "2023-09-17T09:51:19.413Z"
   },
   {
    "duration": 239,
    "start_time": "2023-09-17T09:51:19.776Z"
   },
   {
    "duration": 305,
    "start_time": "2023-09-17T09:51:20.016Z"
   },
   {
    "duration": 293,
    "start_time": "2023-09-17T09:51:20.322Z"
   },
   {
    "duration": 280,
    "start_time": "2023-09-17T09:51:20.617Z"
   },
   {
    "duration": 321,
    "start_time": "2023-09-17T09:51:20.900Z"
   },
   {
    "duration": 297,
    "start_time": "2023-09-17T09:51:21.223Z"
   },
   {
    "duration": 308,
    "start_time": "2023-09-17T09:51:21.522Z"
   },
   {
    "duration": 303,
    "start_time": "2023-09-17T09:51:21.832Z"
   },
   {
    "duration": 204,
    "start_time": "2023-09-17T09:51:22.137Z"
   },
   {
    "duration": 1068,
    "start_time": "2023-09-17T09:51:22.344Z"
   },
   {
    "duration": 4,
    "start_time": "2023-09-17T09:51:23.413Z"
   },
   {
    "duration": 271169,
    "start_time": "2023-09-17T09:51:23.418Z"
   },
   {
    "duration": 22169,
    "start_time": "2023-09-17T09:55:54.590Z"
   },
   {
    "duration": 692682,
    "start_time": "2023-09-17T09:56:16.761Z"
   },
   {
    "duration": 21602,
    "start_time": "2023-09-17T10:07:49.446Z"
   }
  ],
  "kernelspec": {
   "display_name": "Python 3 (ipykernel)",
   "language": "python",
   "name": "python3"
  },
  "language_info": {
   "codemirror_mode": {
    "name": "ipython",
    "version": 3
   },
   "file_extension": ".py",
   "mimetype": "text/x-python",
   "name": "python",
   "nbconvert_exporter": "python",
   "pygments_lexer": "ipython3",
   "version": "3.9.5"
  },
  "toc": {
   "base_numbering": 1,
   "nav_menu": {},
   "number_sections": true,
   "sideBar": true,
   "skip_h1_title": true,
   "title_cell": "Содержание",
   "title_sidebar": "Contents",
   "toc_cell": true,
   "toc_position": {
    "height": "calc(100% - 180px)",
    "left": "10px",
    "top": "150px",
    "width": "260.25px"
   },
   "toc_section_display": true,
   "toc_window_display": false
  }
 },
 "nbformat": 4,
 "nbformat_minor": 2
}
