{
 "cells": [
  {
   "cell_type": "markdown",
   "metadata": {},
   "source": [
    "   *«Я говорил о том, что при определенном уровне цены на нефть новые месторождения вряд ли будут вводиться.»*\n",
    "\n",
    "   -- Владимир Путин"
   ]
  },
  {
   "cell_type": "markdown",
   "metadata": {},
   "source": [
    "# Выбор локации для скважины"
   ]
  },
  {
   "cell_type": "markdown",
   "metadata": {},
   "source": [
    "Добывающая компания «ГлавРосГосНефть» решает, где бурить новую скважину. Для этого предоставлены пробы нефти в трёх регионах: в каждом 10 000 месторождений, где измерили качество нефти и объём её запасов. Построим модель машинного обучения, которая поможет определить регион, где добыча принесёт наибольшую прибыль."
   ]
  },
  {
   "cell_type": "markdown",
   "metadata": {},
   "source": [
    "## Загрузка и подготовка данных"
   ]
  },
  {
   "cell_type": "code",
   "execution_count": 1,
   "metadata": {},
   "outputs": [],
   "source": [
    "import pandas as pd\n",
    "import numpy as np\n",
    "import random\n",
    "import matplotlib.pyplot as plt\n",
    "from sklearn.linear_model import LinearRegression\n",
    "from sklearn.metrics import mean_squared_error"
   ]
  },
  {
   "cell_type": "markdown",
   "metadata": {},
   "source": [
    "Извлечём данные и посмотрим на них, начнём с первого региона."
   ]
  },
  {
   "cell_type": "code",
   "execution_count": 2,
   "metadata": {},
   "outputs": [
    {
     "data": {
      "text/html": [
       "<div>\n",
       "<style scoped>\n",
       "    .dataframe tbody tr th:only-of-type {\n",
       "        vertical-align: middle;\n",
       "    }\n",
       "\n",
       "    .dataframe tbody tr th {\n",
       "        vertical-align: top;\n",
       "    }\n",
       "\n",
       "    .dataframe thead th {\n",
       "        text-align: right;\n",
       "    }\n",
       "</style>\n",
       "<table border=\"1\" class=\"dataframe\">\n",
       "  <thead>\n",
       "    <tr style=\"text-align: right;\">\n",
       "      <th></th>\n",
       "      <th>id</th>\n",
       "      <th>f0</th>\n",
       "      <th>f1</th>\n",
       "      <th>f2</th>\n",
       "      <th>product</th>\n",
       "    </tr>\n",
       "  </thead>\n",
       "  <tbody>\n",
       "    <tr>\n",
       "      <th>0</th>\n",
       "      <td>txEyH</td>\n",
       "      <td>0.705745</td>\n",
       "      <td>-0.497823</td>\n",
       "      <td>1.221170</td>\n",
       "      <td>105.280062</td>\n",
       "    </tr>\n",
       "    <tr>\n",
       "      <th>1</th>\n",
       "      <td>2acmU</td>\n",
       "      <td>1.334711</td>\n",
       "      <td>-0.340164</td>\n",
       "      <td>4.365080</td>\n",
       "      <td>73.037750</td>\n",
       "    </tr>\n",
       "    <tr>\n",
       "      <th>2</th>\n",
       "      <td>409Wp</td>\n",
       "      <td>1.022732</td>\n",
       "      <td>0.151990</td>\n",
       "      <td>1.419926</td>\n",
       "      <td>85.265647</td>\n",
       "    </tr>\n",
       "    <tr>\n",
       "      <th>3</th>\n",
       "      <td>iJLyR</td>\n",
       "      <td>-0.032172</td>\n",
       "      <td>0.139033</td>\n",
       "      <td>2.978566</td>\n",
       "      <td>168.620776</td>\n",
       "    </tr>\n",
       "    <tr>\n",
       "      <th>4</th>\n",
       "      <td>Xdl7t</td>\n",
       "      <td>1.988431</td>\n",
       "      <td>0.155413</td>\n",
       "      <td>4.751769</td>\n",
       "      <td>154.036647</td>\n",
       "    </tr>\n",
       "    <tr>\n",
       "      <th>5</th>\n",
       "      <td>wX4Hy</td>\n",
       "      <td>0.969570</td>\n",
       "      <td>0.489775</td>\n",
       "      <td>-0.735383</td>\n",
       "      <td>64.741541</td>\n",
       "    </tr>\n",
       "    <tr>\n",
       "      <th>6</th>\n",
       "      <td>tL6pL</td>\n",
       "      <td>0.645075</td>\n",
       "      <td>0.530656</td>\n",
       "      <td>1.780266</td>\n",
       "      <td>49.055285</td>\n",
       "    </tr>\n",
       "    <tr>\n",
       "      <th>7</th>\n",
       "      <td>BYPU6</td>\n",
       "      <td>-0.400648</td>\n",
       "      <td>0.808337</td>\n",
       "      <td>-5.624670</td>\n",
       "      <td>72.943292</td>\n",
       "    </tr>\n",
       "    <tr>\n",
       "      <th>8</th>\n",
       "      <td>j9Oui</td>\n",
       "      <td>0.643105</td>\n",
       "      <td>-0.551583</td>\n",
       "      <td>2.372141</td>\n",
       "      <td>113.356160</td>\n",
       "    </tr>\n",
       "    <tr>\n",
       "      <th>9</th>\n",
       "      <td>OLuZU</td>\n",
       "      <td>2.173381</td>\n",
       "      <td>0.563698</td>\n",
       "      <td>9.441852</td>\n",
       "      <td>127.910945</td>\n",
       "    </tr>\n",
       "  </tbody>\n",
       "</table>\n",
       "</div>"
      ],
      "text/plain": [
       "      id        f0        f1        f2     product\n",
       "0  txEyH  0.705745 -0.497823  1.221170  105.280062\n",
       "1  2acmU  1.334711 -0.340164  4.365080   73.037750\n",
       "2  409Wp  1.022732  0.151990  1.419926   85.265647\n",
       "3  iJLyR -0.032172  0.139033  2.978566  168.620776\n",
       "4  Xdl7t  1.988431  0.155413  4.751769  154.036647\n",
       "5  wX4Hy  0.969570  0.489775 -0.735383   64.741541\n",
       "6  tL6pL  0.645075  0.530656  1.780266   49.055285\n",
       "7  BYPU6 -0.400648  0.808337 -5.624670   72.943292\n",
       "8  j9Oui  0.643105 -0.551583  2.372141  113.356160\n",
       "9  OLuZU  2.173381  0.563698  9.441852  127.910945"
      ]
     },
     "execution_count": 2,
     "metadata": {},
     "output_type": "execute_result"
    }
   ],
   "source": [
    "data1 = pd.read_csv('/datasets/geo_data_0.csv')\n",
    "\n",
    "data1.head(10)"
   ]
  },
  {
   "cell_type": "code",
   "execution_count": 3,
   "metadata": {},
   "outputs": [
    {
     "name": "stdout",
     "output_type": "stream",
     "text": [
      "<class 'pandas.core.frame.DataFrame'>\n",
      "RangeIndex: 100000 entries, 0 to 99999\n",
      "Data columns (total 5 columns):\n",
      " #   Column   Non-Null Count   Dtype  \n",
      "---  ------   --------------   -----  \n",
      " 0   id       100000 non-null  object \n",
      " 1   f0       100000 non-null  float64\n",
      " 2   f1       100000 non-null  float64\n",
      " 3   f2       100000 non-null  float64\n",
      " 4   product  100000 non-null  float64\n",
      "dtypes: float64(4), object(1)\n",
      "memory usage: 3.8+ MB\n"
     ]
    }
   ],
   "source": [
    "data1.info()"
   ]
  },
  {
   "cell_type": "markdown",
   "metadata": {},
   "source": [
    "В имеющихся данных отсутсвуют явные пропуски. Из-за характера данных будет затруднительно найти повторы для всех данных, кроме столбца `id`."
   ]
  },
  {
   "cell_type": "code",
   "execution_count": 4,
   "metadata": {},
   "outputs": [
    {
     "data": {
      "text/plain": [
       "99990"
      ]
     },
     "execution_count": 4,
     "metadata": {},
     "output_type": "execute_result"
    }
   ],
   "source": [
    "len(data1['id'].unique())"
   ]
  },
  {
   "cell_type": "code",
   "execution_count": 5,
   "metadata": {},
   "outputs": [
    {
     "data": {
      "text/plain": [
       "Tdehs    2\n",
       "HZww2    2\n",
       "QcMuo    2\n",
       "bsk9y    2\n",
       "AGS9W    2\n",
       "A5aEY    2\n",
       "fiKDv    2\n",
       "74z30    2\n",
       "TtcGQ    2\n",
       "bxg6G    2\n",
       "CVa9q    1\n",
       "Name: id, dtype: int64"
      ]
     },
     "execution_count": 5,
     "metadata": {},
     "output_type": "execute_result"
    }
   ],
   "source": [
    "data1['id'].value_counts().head(11)"
   ]
  },
  {
   "cell_type": "markdown",
   "metadata": {},
   "source": [
    "Предположим, что повторение повторение `id` скважен связано с тем, что на некоторых из них замеры производились несколько раз. Запишем среднее арифметическое повторяющихся строк в наши данные, а повторы удалим."
   ]
  },
  {
   "cell_type": "code",
   "execution_count": 6,
   "metadata": {},
   "outputs": [],
   "source": [
    "for i in data1['id'].value_counts().head(10).index:\n",
    "    index = data1[data1['id'] == i].index[0]\n",
    "\n",
    "    data1.loc[index] = data1[data1['id'] == i].mean()\n",
    "    data1.loc[index, 'id'] = i\n",
    "\n",
    "data1 = data1.drop_duplicates(subset=['id']).reset_index(drop=True)"
   ]
  },
  {
   "cell_type": "markdown",
   "metadata": {},
   "source": [
    "В контексте построения модели нам не нужен `id` конкретной скважины. Сохраним их в отдельную пременную и удалим из оригинальных данных."
   ]
  },
  {
   "cell_type": "code",
   "execution_count": 7,
   "metadata": {},
   "outputs": [],
   "source": [
    "id1 = data1['id']\n",
    "data1 = data1.drop(columns='id')"
   ]
  },
  {
   "cell_type": "markdown",
   "metadata": {},
   "source": [
    "Ряд признаков имеют некоторую корреляцию друг между другом, что может негативно сказаться на качестве обучаемой на этих данных модели."
   ]
  },
  {
   "cell_type": "code",
   "execution_count": 8,
   "metadata": {},
   "outputs": [
    {
     "data": {
      "text/html": [
       "<div>\n",
       "<style scoped>\n",
       "    .dataframe tbody tr th:only-of-type {\n",
       "        vertical-align: middle;\n",
       "    }\n",
       "\n",
       "    .dataframe tbody tr th {\n",
       "        vertical-align: top;\n",
       "    }\n",
       "\n",
       "    .dataframe thead th {\n",
       "        text-align: right;\n",
       "    }\n",
       "</style>\n",
       "<table border=\"1\" class=\"dataframe\">\n",
       "  <thead>\n",
       "    <tr style=\"text-align: right;\">\n",
       "      <th></th>\n",
       "      <th>f0</th>\n",
       "      <th>f1</th>\n",
       "      <th>f2</th>\n",
       "      <th>product</th>\n",
       "    </tr>\n",
       "  </thead>\n",
       "  <tbody>\n",
       "    <tr>\n",
       "      <th>f0</th>\n",
       "      <td>1.000000</td>\n",
       "      <td>-0.440724</td>\n",
       "      <td>-0.003184</td>\n",
       "      <td>0.143507</td>\n",
       "    </tr>\n",
       "    <tr>\n",
       "      <th>f1</th>\n",
       "      <td>-0.440724</td>\n",
       "      <td>1.000000</td>\n",
       "      <td>0.001792</td>\n",
       "      <td>-0.192333</td>\n",
       "    </tr>\n",
       "    <tr>\n",
       "      <th>f2</th>\n",
       "      <td>-0.003184</td>\n",
       "      <td>0.001792</td>\n",
       "      <td>1.000000</td>\n",
       "      <td>0.483645</td>\n",
       "    </tr>\n",
       "    <tr>\n",
       "      <th>product</th>\n",
       "      <td>0.143507</td>\n",
       "      <td>-0.192333</td>\n",
       "      <td>0.483645</td>\n",
       "      <td>1.000000</td>\n",
       "    </tr>\n",
       "  </tbody>\n",
       "</table>\n",
       "</div>"
      ],
      "text/plain": [
       "               f0        f1        f2   product\n",
       "f0       1.000000 -0.440724 -0.003184  0.143507\n",
       "f1      -0.440724  1.000000  0.001792 -0.192333\n",
       "f2      -0.003184  0.001792  1.000000  0.483645\n",
       "product  0.143507 -0.192333  0.483645  1.000000"
      ]
     },
     "execution_count": 8,
     "metadata": {},
     "output_type": "execute_result"
    }
   ],
   "source": [
    "data1.corr()"
   ]
  },
  {
   "cell_type": "code",
   "execution_count": 9,
   "metadata": {},
   "outputs": [
    {
     "data": {
      "text/plain": [
       "array([[<AxesSubplot:title={'center':'f0'}>,\n",
       "        <AxesSubplot:title={'center':'f1'}>],\n",
       "       [<AxesSubplot:title={'center':'f2'}>,\n",
       "        <AxesSubplot:title={'center':'product'}>]], dtype=object)"
      ]
     },
     "execution_count": 9,
     "metadata": {},
     "output_type": "execute_result"
    },
    {
     "data": {
      "image/png": "[encoded data removed]",
      "text/plain": [
       "<Figure size 1080x1080 with 4 Axes>"
      ]
     },
     "metadata": {
      "needs_background": "light"
     },
     "output_type": "display_data"
    }
   ],
   "source": [
    "data1.hist(figsize=(15, 15), grid=False)"
   ]
  },
  {
   "cell_type": "markdown",
   "metadata": {},
   "source": [
    "---"
   ]
  },
  {
   "cell_type": "markdown",
   "metadata": {},
   "source": [
    "Далее взглянем на данные второго региона."
   ]
  },
  {
   "cell_type": "code",
   "execution_count": 10,
   "metadata": {},
   "outputs": [
    {
     "data": {
      "text/html": [
       "<div>\n",
       "<style scoped>\n",
       "    .dataframe tbody tr th:only-of-type {\n",
       "        vertical-align: middle;\n",
       "    }\n",
       "\n",
       "    .dataframe tbody tr th {\n",
       "        vertical-align: top;\n",
       "    }\n",
       "\n",
       "    .dataframe thead th {\n",
       "        text-align: right;\n",
       "    }\n",
       "</style>\n",
       "<table border=\"1\" class=\"dataframe\">\n",
       "  <thead>\n",
       "    <tr style=\"text-align: right;\">\n",
       "      <th></th>\n",
       "      <th>f0</th>\n",
       "      <th>f1</th>\n",
       "      <th>f2</th>\n",
       "      <th>product</th>\n",
       "    </tr>\n",
       "  </thead>\n",
       "  <tbody>\n",
       "    <tr>\n",
       "      <th>0</th>\n",
       "      <td>0.705745</td>\n",
       "      <td>-0.497823</td>\n",
       "      <td>1.221170</td>\n",
       "      <td>105.280062</td>\n",
       "    </tr>\n",
       "    <tr>\n",
       "      <th>1</th>\n",
       "      <td>1.334711</td>\n",
       "      <td>-0.340164</td>\n",
       "      <td>4.365080</td>\n",
       "      <td>73.037750</td>\n",
       "    </tr>\n",
       "    <tr>\n",
       "      <th>2</th>\n",
       "      <td>1.022732</td>\n",
       "      <td>0.151990</td>\n",
       "      <td>1.419926</td>\n",
       "      <td>85.265647</td>\n",
       "    </tr>\n",
       "    <tr>\n",
       "      <th>3</th>\n",
       "      <td>-0.032172</td>\n",
       "      <td>0.139033</td>\n",
       "      <td>2.978566</td>\n",
       "      <td>168.620776</td>\n",
       "    </tr>\n",
       "    <tr>\n",
       "      <th>4</th>\n",
       "      <td>1.988431</td>\n",
       "      <td>0.155413</td>\n",
       "      <td>4.751769</td>\n",
       "      <td>154.036647</td>\n",
       "    </tr>\n",
       "    <tr>\n",
       "      <th>5</th>\n",
       "      <td>0.969570</td>\n",
       "      <td>0.489775</td>\n",
       "      <td>-0.735383</td>\n",
       "      <td>64.741541</td>\n",
       "    </tr>\n",
       "    <tr>\n",
       "      <th>6</th>\n",
       "      <td>0.645075</td>\n",
       "      <td>0.530656</td>\n",
       "      <td>1.780266</td>\n",
       "      <td>49.055285</td>\n",
       "    </tr>\n",
       "    <tr>\n",
       "      <th>7</th>\n",
       "      <td>-0.400648</td>\n",
       "      <td>0.808337</td>\n",
       "      <td>-5.624670</td>\n",
       "      <td>72.943292</td>\n",
       "    </tr>\n",
       "    <tr>\n",
       "      <th>8</th>\n",
       "      <td>0.643105</td>\n",
       "      <td>-0.551583</td>\n",
       "      <td>2.372141</td>\n",
       "      <td>113.356160</td>\n",
       "    </tr>\n",
       "    <tr>\n",
       "      <th>9</th>\n",
       "      <td>2.173381</td>\n",
       "      <td>0.563698</td>\n",
       "      <td>9.441852</td>\n",
       "      <td>127.910945</td>\n",
       "    </tr>\n",
       "  </tbody>\n",
       "</table>\n",
       "</div>"
      ],
      "text/plain": [
       "         f0        f1        f2     product\n",
       "0  0.705745 -0.497823  1.221170  105.280062\n",
       "1  1.334711 -0.340164  4.365080   73.037750\n",
       "2  1.022732  0.151990  1.419926   85.265647\n",
       "3 -0.032172  0.139033  2.978566  168.620776\n",
       "4  1.988431  0.155413  4.751769  154.036647\n",
       "5  0.969570  0.489775 -0.735383   64.741541\n",
       "6  0.645075  0.530656  1.780266   49.055285\n",
       "7 -0.400648  0.808337 -5.624670   72.943292\n",
       "8  0.643105 -0.551583  2.372141  113.356160\n",
       "9  2.173381  0.563698  9.441852  127.910945"
      ]
     },
     "execution_count": 10,
     "metadata": {},
     "output_type": "execute_result"
    }
   ],
   "source": [
    "data2 = pd.read_csv('/datasets/geo_data_1.csv')\n",
    "\n",
    "data1.head(10)"
   ]
  },
  {
   "cell_type": "code",
   "execution_count": 11,
   "metadata": {},
   "outputs": [
    {
     "name": "stdout",
     "output_type": "stream",
     "text": [
      "<class 'pandas.core.frame.DataFrame'>\n",
      "RangeIndex: 100000 entries, 0 to 99999\n",
      "Data columns (total 5 columns):\n",
      " #   Column   Non-Null Count   Dtype  \n",
      "---  ------   --------------   -----  \n",
      " 0   id       100000 non-null  object \n",
      " 1   f0       100000 non-null  float64\n",
      " 2   f1       100000 non-null  float64\n",
      " 3   f2       100000 non-null  float64\n",
      " 4   product  100000 non-null  float64\n",
      "dtypes: float64(4), object(1)\n",
      "memory usage: 3.8+ MB\n"
     ]
    }
   ],
   "source": [
    "data2.info()"
   ]
  },
  {
   "cell_type": "markdown",
   "metadata": {},
   "source": [
    "Как и в предыдущем случае в данных отсутсвуют явные пропуски, но имеются повторы индексов."
   ]
  },
  {
   "cell_type": "code",
   "execution_count": 12,
   "metadata": {},
   "outputs": [
    {
     "data": {
      "text/plain": [
       "99996"
      ]
     },
     "execution_count": 12,
     "metadata": {},
     "output_type": "execute_result"
    }
   ],
   "source": [
    "len(data2['id'].unique())"
   ]
  },
  {
   "cell_type": "code",
   "execution_count": 13,
   "metadata": {},
   "outputs": [
    {
     "data": {
      "text/plain": [
       "LHZR0    2\n",
       "wt4Uk    2\n",
       "bfPNe    2\n",
       "5ltQ6    2\n",
       "qOYRe    1\n",
       "n8vHF    1\n",
       "FiRIG    1\n",
       "MH1RW    1\n",
       "sTo8R    1\n",
       "TNPXf    1\n",
       "sNuBo    1\n",
       "Name: id, dtype: int64"
      ]
     },
     "execution_count": 13,
     "metadata": {},
     "output_type": "execute_result"
    }
   ],
   "source": [
    "data2['id'].value_counts().head(11)"
   ]
  },
  {
   "cell_type": "markdown",
   "metadata": {},
   "source": [
    "Также будем считать, что повторение `id` скважен связано с тем, что на некоторых из них замеры производились несколько раз. Запишем среднее арифметическое повторяющихся строк в наши данные, а повторы удалим."
   ]
  },
  {
   "cell_type": "code",
   "execution_count": 14,
   "metadata": {},
   "outputs": [],
   "source": [
    "for i in data2['id'].value_counts().head(4).index:\n",
    "    index = data2[data2['id'] == i].index[0]\n",
    "\n",
    "    data2.loc[index] = data2[data2['id'] == i].mean()\n",
    "    data2.loc[index, 'id'] = i\n",
    "\n",
    "data2 = data2.drop_duplicates(subset=['id']).reset_index(drop=True)"
   ]
  },
  {
   "cell_type": "markdown",
   "metadata": {},
   "source": [
    "В контексте построения модели нам не нужен `id` конкретной скважины. Сохраним их в отдельную пременную и удалим из оригинальных данных."
   ]
  },
  {
   "cell_type": "code",
   "execution_count": 15,
   "metadata": {},
   "outputs": [],
   "source": [
    "id2 = data2['id']\n",
    "data2 = data2.drop(columns='id')"
   ]
  },
  {
   "cell_type": "markdown",
   "metadata": {},
   "source": [
    "Ряд признаков имеют некоторую корреляцию друг между другом, что может негативно сказаться на качестве обучаемой на этих данных модели. Особенно хочется отметить крайне высокую положительную корреляцию между `product` и `f2`."
   ]
  },
  {
   "cell_type": "code",
   "execution_count": 16,
   "metadata": {},
   "outputs": [
    {
     "data": {
      "text/html": [
       "<div>\n",
       "<style scoped>\n",
       "    .dataframe tbody tr th:only-of-type {\n",
       "        vertical-align: middle;\n",
       "    }\n",
       "\n",
       "    .dataframe tbody tr th {\n",
       "        vertical-align: top;\n",
       "    }\n",
       "\n",
       "    .dataframe thead th {\n",
       "        text-align: right;\n",
       "    }\n",
       "</style>\n",
       "<table border=\"1\" class=\"dataframe\">\n",
       "  <thead>\n",
       "    <tr style=\"text-align: right;\">\n",
       "      <th></th>\n",
       "      <th>f0</th>\n",
       "      <th>f1</th>\n",
       "      <th>f2</th>\n",
       "      <th>product</th>\n",
       "    </tr>\n",
       "  </thead>\n",
       "  <tbody>\n",
       "    <tr>\n",
       "      <th>f0</th>\n",
       "      <td>1.000000</td>\n",
       "      <td>0.182262</td>\n",
       "      <td>-0.001825</td>\n",
       "      <td>-0.030538</td>\n",
       "    </tr>\n",
       "    <tr>\n",
       "      <th>f1</th>\n",
       "      <td>0.182262</td>\n",
       "      <td>1.000000</td>\n",
       "      <td>-0.002609</td>\n",
       "      <td>-0.010168</td>\n",
       "    </tr>\n",
       "    <tr>\n",
       "      <th>f2</th>\n",
       "      <td>-0.001825</td>\n",
       "      <td>-0.002609</td>\n",
       "      <td>1.000000</td>\n",
       "      <td>0.999397</td>\n",
       "    </tr>\n",
       "    <tr>\n",
       "      <th>product</th>\n",
       "      <td>-0.030538</td>\n",
       "      <td>-0.010168</td>\n",
       "      <td>0.999397</td>\n",
       "      <td>1.000000</td>\n",
       "    </tr>\n",
       "  </tbody>\n",
       "</table>\n",
       "</div>"
      ],
      "text/plain": [
       "               f0        f1        f2   product\n",
       "f0       1.000000  0.182262 -0.001825 -0.030538\n",
       "f1       0.182262  1.000000 -0.002609 -0.010168\n",
       "f2      -0.001825 -0.002609  1.000000  0.999397\n",
       "product -0.030538 -0.010168  0.999397  1.000000"
      ]
     },
     "execution_count": 16,
     "metadata": {},
     "output_type": "execute_result"
    }
   ],
   "source": [
    "data2.corr()"
   ]
  },
  {
   "cell_type": "code",
   "execution_count": 17,
   "metadata": {},
   "outputs": [
    {
     "data": {
      "text/plain": [
       "array([[<AxesSubplot:title={'center':'f0'}>,\n",
       "        <AxesSubplot:title={'center':'f1'}>],\n",
       "       [<AxesSubplot:title={'center':'f2'}>,\n",
       "        <AxesSubplot:title={'center':'product'}>]], dtype=object)"
      ]
     },
     "execution_count": 17,
     "metadata": {},
     "output_type": "execute_result"
    },
    {
     "data": {
      "image/png": "[encoded data removed]",
      "text/plain": [
       "<Figure size 1080x1080 with 4 Axes>"
      ]
     },
     "metadata": {
      "needs_background": "light"
     },
     "output_type": "display_data"
    }
   ],
   "source": [
    "data2.hist(figsize=(15, 15), grid=False)"
   ]
  },
  {
   "cell_type": "markdown",
   "metadata": {},
   "source": [
    "---"
   ]
  },
  {
   "cell_type": "markdown",
   "metadata": {},
   "source": [
    "Далее рассмотрим данные из третьей скважины."
   ]
  },
  {
   "cell_type": "code",
   "execution_count": 18,
   "metadata": {},
   "outputs": [
    {
     "data": {
      "text/html": [
       "<div>\n",
       "<style scoped>\n",
       "    .dataframe tbody tr th:only-of-type {\n",
       "        vertical-align: middle;\n",
       "    }\n",
       "\n",
       "    .dataframe tbody tr th {\n",
       "        vertical-align: top;\n",
       "    }\n",
       "\n",
       "    .dataframe thead th {\n",
       "        text-align: right;\n",
       "    }\n",
       "</style>\n",
       "<table border=\"1\" class=\"dataframe\">\n",
       "  <thead>\n",
       "    <tr style=\"text-align: right;\">\n",
       "      <th></th>\n",
       "      <th>id</th>\n",
       "      <th>f0</th>\n",
       "      <th>f1</th>\n",
       "      <th>f2</th>\n",
       "      <th>product</th>\n",
       "    </tr>\n",
       "  </thead>\n",
       "  <tbody>\n",
       "    <tr>\n",
       "      <th>0</th>\n",
       "      <td>fwXo0</td>\n",
       "      <td>-1.146987</td>\n",
       "      <td>0.963328</td>\n",
       "      <td>-0.828965</td>\n",
       "      <td>27.758673</td>\n",
       "    </tr>\n",
       "    <tr>\n",
       "      <th>1</th>\n",
       "      <td>WJtFt</td>\n",
       "      <td>0.262778</td>\n",
       "      <td>0.269839</td>\n",
       "      <td>-2.530187</td>\n",
       "      <td>56.069697</td>\n",
       "    </tr>\n",
       "    <tr>\n",
       "      <th>2</th>\n",
       "      <td>ovLUW</td>\n",
       "      <td>0.194587</td>\n",
       "      <td>0.289035</td>\n",
       "      <td>-5.586433</td>\n",
       "      <td>62.871910</td>\n",
       "    </tr>\n",
       "    <tr>\n",
       "      <th>3</th>\n",
       "      <td>q6cA6</td>\n",
       "      <td>2.236060</td>\n",
       "      <td>-0.553760</td>\n",
       "      <td>0.930038</td>\n",
       "      <td>114.572842</td>\n",
       "    </tr>\n",
       "    <tr>\n",
       "      <th>4</th>\n",
       "      <td>WPMUX</td>\n",
       "      <td>-0.515993</td>\n",
       "      <td>1.716266</td>\n",
       "      <td>5.899011</td>\n",
       "      <td>149.600746</td>\n",
       "    </tr>\n",
       "    <tr>\n",
       "      <th>5</th>\n",
       "      <td>LzZXx</td>\n",
       "      <td>-0.758092</td>\n",
       "      <td>0.710691</td>\n",
       "      <td>2.585887</td>\n",
       "      <td>90.222465</td>\n",
       "    </tr>\n",
       "    <tr>\n",
       "      <th>6</th>\n",
       "      <td>WBHRv</td>\n",
       "      <td>-0.574891</td>\n",
       "      <td>0.317727</td>\n",
       "      <td>1.773745</td>\n",
       "      <td>45.641478</td>\n",
       "    </tr>\n",
       "    <tr>\n",
       "      <th>7</th>\n",
       "      <td>XO8fn</td>\n",
       "      <td>-1.906649</td>\n",
       "      <td>-2.458350</td>\n",
       "      <td>-0.177097</td>\n",
       "      <td>72.480640</td>\n",
       "    </tr>\n",
       "    <tr>\n",
       "      <th>8</th>\n",
       "      <td>ybmQ5</td>\n",
       "      <td>1.776292</td>\n",
       "      <td>-0.279356</td>\n",
       "      <td>3.004156</td>\n",
       "      <td>106.616832</td>\n",
       "    </tr>\n",
       "    <tr>\n",
       "      <th>9</th>\n",
       "      <td>OilcN</td>\n",
       "      <td>-1.214452</td>\n",
       "      <td>-0.439314</td>\n",
       "      <td>5.922514</td>\n",
       "      <td>52.954532</td>\n",
       "    </tr>\n",
       "  </tbody>\n",
       "</table>\n",
       "</div>"
      ],
      "text/plain": [
       "      id        f0        f1        f2     product\n",
       "0  fwXo0 -1.146987  0.963328 -0.828965   27.758673\n",
       "1  WJtFt  0.262778  0.269839 -2.530187   56.069697\n",
       "2  ovLUW  0.194587  0.289035 -5.586433   62.871910\n",
       "3  q6cA6  2.236060 -0.553760  0.930038  114.572842\n",
       "4  WPMUX -0.515993  1.716266  5.899011  149.600746\n",
       "5  LzZXx -0.758092  0.710691  2.585887   90.222465\n",
       "6  WBHRv -0.574891  0.317727  1.773745   45.641478\n",
       "7  XO8fn -1.906649 -2.458350 -0.177097   72.480640\n",
       "8  ybmQ5  1.776292 -0.279356  3.004156  106.616832\n",
       "9  OilcN -1.214452 -0.439314  5.922514   52.954532"
      ]
     },
     "execution_count": 18,
     "metadata": {},
     "output_type": "execute_result"
    }
   ],
   "source": [
    "data3 = pd.read_csv('/datasets/geo_data_2.csv')\n",
    "\n",
    "data3.head(10)"
   ]
  },
  {
   "cell_type": "code",
   "execution_count": 19,
   "metadata": {},
   "outputs": [
    {
     "name": "stdout",
     "output_type": "stream",
     "text": [
      "<class 'pandas.core.frame.DataFrame'>\n",
      "RangeIndex: 100000 entries, 0 to 99999\n",
      "Data columns (total 5 columns):\n",
      " #   Column   Non-Null Count   Dtype  \n",
      "---  ------   --------------   -----  \n",
      " 0   id       100000 non-null  object \n",
      " 1   f0       100000 non-null  float64\n",
      " 2   f1       100000 non-null  float64\n",
      " 3   f2       100000 non-null  float64\n",
      " 4   product  100000 non-null  float64\n",
      "dtypes: float64(4), object(1)\n",
      "memory usage: 3.8+ MB\n"
     ]
    }
   ],
   "source": [
    "data3.info()"
   ]
  },
  {
   "cell_type": "markdown",
   "metadata": {},
   "source": [
    "В данных отсутсвуют явные пропуски, но имеются повторения в признаке `id`."
   ]
  },
  {
   "cell_type": "code",
   "execution_count": 20,
   "metadata": {},
   "outputs": [
    {
     "data": {
      "text/plain": [
       "99996"
      ]
     },
     "execution_count": 20,
     "metadata": {},
     "output_type": "execute_result"
    }
   ],
   "source": [
    "len(data3['id'].unique())"
   ]
  },
  {
   "cell_type": "code",
   "execution_count": 21,
   "metadata": {},
   "outputs": [
    {
     "data": {
      "text/plain": [
       "xCHr8    2\n",
       "VF7Jo    2\n",
       "Vcm5J    2\n",
       "KUPhW    2\n",
       "AF8Gm    1\n",
       "4sfTn    1\n",
       "OPnHM    1\n",
       "Vwaek    1\n",
       "k71HR    1\n",
       "qdOdr    1\n",
       "15YSo    1\n",
       "Name: id, dtype: int64"
      ]
     },
     "execution_count": 21,
     "metadata": {},
     "output_type": "execute_result"
    }
   ],
   "source": [
    "data3['id'].value_counts().head(11)"
   ]
  },
  {
   "cell_type": "markdown",
   "metadata": {},
   "source": [
    "Исправим пропуски способом, аналогичным ранним способам."
   ]
  },
  {
   "cell_type": "code",
   "execution_count": 22,
   "metadata": {},
   "outputs": [],
   "source": [
    "for i in data3['id'].value_counts().head(4).index:\n",
    "    index = data3[data3['id'] == i].index[0]\n",
    "\n",
    "    data3.loc[index] = data3[data3['id'] == i].mean()\n",
    "    data3.loc[index, 'id'] = i\n",
    "\n",
    "data3 = data3.drop_duplicates(subset=['id']).reset_index(drop=True)"
   ]
  },
  {
   "cell_type": "markdown",
   "metadata": {},
   "source": [
    "В контексте построения модели нам не нужен `id` конкретной скважины. Сохраним их в отдельную пременную и удалим из оригинальных данных."
   ]
  },
  {
   "cell_type": "code",
   "execution_count": 23,
   "metadata": {},
   "outputs": [],
   "source": [
    "id3 = data3['id']\n",
    "data3 = data3.drop(columns='id')"
   ]
  },
  {
   "cell_type": "markdown",
   "metadata": {},
   "source": [
    "Эти данные не имеют сильных кореляций друг между другом, если не считать столбцов `product` и `f2`."
   ]
  },
  {
   "cell_type": "code",
   "execution_count": 24,
   "metadata": {},
   "outputs": [
    {
     "data": {
      "text/html": [
       "<div>\n",
       "<style scoped>\n",
       "    .dataframe tbody tr th:only-of-type {\n",
       "        vertical-align: middle;\n",
       "    }\n",
       "\n",
       "    .dataframe tbody tr th {\n",
       "        vertical-align: top;\n",
       "    }\n",
       "\n",
       "    .dataframe thead th {\n",
       "        text-align: right;\n",
       "    }\n",
       "</style>\n",
       "<table border=\"1\" class=\"dataframe\">\n",
       "  <thead>\n",
       "    <tr style=\"text-align: right;\">\n",
       "      <th></th>\n",
       "      <th>f0</th>\n",
       "      <th>f1</th>\n",
       "      <th>f2</th>\n",
       "      <th>product</th>\n",
       "    </tr>\n",
       "  </thead>\n",
       "  <tbody>\n",
       "    <tr>\n",
       "      <th>f0</th>\n",
       "      <td>1.000000</td>\n",
       "      <td>0.000504</td>\n",
       "      <td>-0.000451</td>\n",
       "      <td>-0.001969</td>\n",
       "    </tr>\n",
       "    <tr>\n",
       "      <th>f1</th>\n",
       "      <td>0.000504</td>\n",
       "      <td>1.000000</td>\n",
       "      <td>0.000765</td>\n",
       "      <td>-0.001049</td>\n",
       "    </tr>\n",
       "    <tr>\n",
       "      <th>f2</th>\n",
       "      <td>-0.000451</td>\n",
       "      <td>0.000765</td>\n",
       "      <td>1.000000</td>\n",
       "      <td>0.445863</td>\n",
       "    </tr>\n",
       "    <tr>\n",
       "      <th>product</th>\n",
       "      <td>-0.001969</td>\n",
       "      <td>-0.001049</td>\n",
       "      <td>0.445863</td>\n",
       "      <td>1.000000</td>\n",
       "    </tr>\n",
       "  </tbody>\n",
       "</table>\n",
       "</div>"
      ],
      "text/plain": [
       "               f0        f1        f2   product\n",
       "f0       1.000000  0.000504 -0.000451 -0.001969\n",
       "f1       0.000504  1.000000  0.000765 -0.001049\n",
       "f2      -0.000451  0.000765  1.000000  0.445863\n",
       "product -0.001969 -0.001049  0.445863  1.000000"
      ]
     },
     "execution_count": 24,
     "metadata": {},
     "output_type": "execute_result"
    }
   ],
   "source": [
    "data3.corr()"
   ]
  },
  {
   "cell_type": "code",
   "execution_count": 25,
   "metadata": {
    "scrolled": false
   },
   "outputs": [
    {
     "data": {
      "text/plain": [
       "array([[<AxesSubplot:title={'center':'f0'}>,\n",
       "        <AxesSubplot:title={'center':'f1'}>],\n",
       "       [<AxesSubplot:title={'center':'f2'}>,\n",
       "        <AxesSubplot:title={'center':'product'}>]], dtype=object)"
      ]
     },
     "execution_count": 25,
     "metadata": {},
     "output_type": "execute_result"
    },
    {
     "data": {
      "image/png": "[encoded data removed]",
      "text/plain": [
       "<Figure size 1080x1080 with 4 Axes>"
      ]
     },
     "metadata": {
      "needs_background": "light"
     },
     "output_type": "display_data"
    }
   ],
   "source": [
    "data3.hist(figsize=(15, 15), grid=False)"
   ]
  },
  {
   "cell_type": "markdown",
   "metadata": {},
   "source": [
    "---"
   ]
  },
  {
   "cell_type": "markdown",
   "metadata": {},
   "source": [
    "В ходе подготовки данных была проанализирована информация о возможных регионах возведения нефтяных вышек. Объеденена у идулена информация о дублирующихсф идентификаторов скважин. Получено представление о корреляциях признаков в каждом из регионов."
   ]
  },
  {
   "cell_type": "markdown",
   "metadata": {},
   "source": [
    "## Обучение и проверка модели"
   ]
  },
  {
   "cell_type": "markdown",
   "metadata": {},
   "source": [
    "Целевым признаком в нашем исследовании является запас нефти в регионе. Отделим целевые признаки от нецелевых."
   ]
  },
  {
   "cell_type": "code",
   "execution_count": 26,
   "metadata": {},
   "outputs": [],
   "source": [
    "# первый регион\n",
    "f1 = data1.drop(['product'], axis=1)\n",
    "t1 = data1['product']\n",
    "\n",
    "# второй регион\n",
    "f2 = data2.drop(['product'], axis=1)\n",
    "t2 = data2['product']\n",
    "\n",
    "# третий регион\n",
    "f3 = data3.drop(['product'], axis=1)\n",
    "t3 = data3['product']"
   ]
  },
  {
   "cell_type": "markdown",
   "metadata": {},
   "source": [
    "Разделим исходные данные на обучающую и валидационную выборки в соотношение 3:1 (75%:25%)."
   ]
  },
  {
   "cell_type": "code",
   "execution_count": 27,
   "metadata": {},
   "outputs": [],
   "source": [
    "rrrr = 42 # random_state\n",
    "\n",
    "# разбиение признаков\n",
    "f1_trn, f1_vld = \\\n",
    "              np.split(f1.sample(frac=1, random_state=rrrr), \n",
    "                       [int(.75*len(f1))])\n",
    "f2_trn, f2_vld = \\\n",
    "              np.split(f2.sample(frac=1, random_state=rrrr), \n",
    "                       [int(.75*len(f2))])\n",
    "f3_trn, f3_vld = \\\n",
    "              np.split(f3.sample(frac=1, random_state=rrrr), \n",
    "                       [int(.75*len(f3))])\n",
    "\n",
    "# разбиение целевого признака\n",
    "t1_trn, t1_vld = \\\n",
    "              np.split(t1.sample(frac=1, random_state=rrrr), \n",
    "                       [int(.75*len(t1))])\n",
    "t2_trn, t2_vld = \\\n",
    "              np.split(t2.sample(frac=1, random_state=rrrr), \n",
    "                       [int(.75*len(t2))])\n",
    "t3_trn, t3_vld = \\\n",
    "              np.split(t3.sample(frac=1, random_state=rrrr), \n",
    "                       [int(.75*len(t3))])"
   ]
  },
  {
   "cell_type": "markdown",
   "metadata": {},
   "source": [
    "Для обучения моделей восползуемся линейной регрессией. Сделаем предсказания про валидационной выбоке для каждой модели."
   ]
  },
  {
   "cell_type": "code",
   "execution_count": 28,
   "metadata": {},
   "outputs": [],
   "source": [
    "m1 = LinearRegression()\n",
    "m1.fit(f1_trn,t1_trn)\n",
    "p1_vld = m1.predict(f1_vld) # предсказания по валидационной выборке\n",
    "\n",
    "m2 = LinearRegression()\n",
    "m2.fit(f2_trn,t2_trn)\n",
    "p2_vld = m2.predict(f2_vld) # предсказания по валидационной выборке\n",
    "\n",
    "m3 = LinearRegression()\n",
    "m3.fit(f3_trn,t3_trn)\n",
    "p3_vld = m3.predict(f3_vld) # предсказания по валидационной выборке"
   ]
  },
  {
   "cell_type": "markdown",
   "metadata": {},
   "source": [
    "Найдём средний запас углеводородов в каждом из регионов и посчитаем погрешность для каждого."
   ]
  },
  {
   "cell_type": "code",
   "execution_count": 29,
   "metadata": {
    "scrolled": false
   },
   "outputs": [
    {
     "name": "stdout",
     "output_type": "stream",
     "text": [
      "Первый регион: 90 ± 40\n",
      "Второй регион: 69.1 ± 0.9\n",
      "Третий регион: 100 ± 40\n"
     ]
    },
    {
     "data": {
      "text/plain": [
       "[Text(0, 0, 'Первый'), Text(1, 0, 'Второй'), Text(2, 0, 'Третий')]"
      ]
     },
     "execution_count": 29,
     "metadata": {},
     "output_type": "execute_result"
    },
    {
     "data": {
      "image/png": "[encoded data removed]",
      "text/plain": [
       "<Figure size 720x432 with 1 Axes>"
      ]
     },
     "metadata": {
      "needs_background": "light"
     },
     "output_type": "display_data"
    }
   ],
   "source": [
    "# в соответсвии с правилами округления\n",
    "print('Первый регион:', round(p1_vld.mean() / 10) * 10, '±', round(mean_squared_error(t1_vld,p1_vld) ** 0.5 / 10) * 10)\n",
    "print('Второй регион:', round(p2_vld.mean() * 10) / 10, '±', round(mean_squared_error(t2_vld,p2_vld) ** 0.5 * 10) / 10)\n",
    "print('Третий регион:', round(p3_vld.mean() / 10) * 10, '±', round(mean_squared_error(t3_vld,p3_vld) ** 0.5 / 10) * 10)\n",
    "\n",
    "means = [p1_vld.mean(), p2_vld.mean(), p3_vld.mean()]\n",
    "errors = [mean_squared_error(t1_vld,p1_vld) ** 0.5, mean_squared_error(t2_vld,p2_vld) ** 0.5, mean_squared_error(t3_vld,p3_vld) ** 0.5]\n",
    "\n",
    "fig, ax = plt.subplots(figsize=(10,6))\n",
    "ax.bar(np.arange(len(means)), means, yerr=errors, align='center', ecolor='black')\n",
    "ax.set_title('Средний запас нефти по регионам')\n",
    "ax.set_ylabel('объём запасов в скважине, $10^3$ баррель', style='italic')\n",
    "ax.set_xlabel('Регионы', style='italic')\n",
    "ax.set_xticks(np.arange(len(means)))\n",
    "ax.set_xticklabels(['Первый','Второй','Третий'])"
   ]
  },
  {
   "cell_type": "markdown",
   "metadata": {},
   "source": [
    "Спрогнозированные средние запасы нефти в первом и третьем регионе одинаковы в пределах погрешности и являются наибольшими из указанных, однако оценка запасов нефти второго региона произведена на два порядка точнее, первого и третьего регионов."
   ]
  },
  {
   "cell_type": "markdown",
   "metadata": {},
   "source": [
    "## Подготовка к расчёту прибыли"
   ]
  },
  {
   "cell_type": "markdown",
   "metadata": {},
   "source": [
    "Найдём объём сырья, необходимый для безубыточной разработки региона."
   ]
  },
  {
   "cell_type": "code",
   "execution_count": 30,
   "metadata": {},
   "outputs": [
    {
     "data": {
      "text/plain": [
       "111112"
      ]
     },
     "execution_count": 30,
     "metadata": {},
     "output_type": "execute_result"
    }
   ],
   "source": [
    "# разработка региона\n",
    "stroy = 10 ** 10\n",
    "\n",
    "# задействованое количество скважин региона\n",
    "skv = 200\n",
    "\n",
    "# один баррель нефти\n",
    "oil_one = 450\n",
    "\n",
    "stroy_oil = (int(stroy / (oil_one * skv)) + 1)\n",
    "stroy_oil # баррели"
   ]
  },
  {
   "cell_type": "markdown",
   "metadata": {},
   "source": [
    "Сравним данный показатель с предсказанными средними запасами нефти в каждом регионе и найдём наиболее вероятную выручку для каждого из них."
   ]
  },
  {
   "cell_type": "code",
   "execution_count": 31,
   "metadata": {},
   "outputs": [
    {
     "name": "stdout",
     "output_type": "stream",
     "text": [
      "Первый регион: 18416675.61525212 ± 7506413.020452151\n",
      "Второй регион: 13701500.212002972 ± 178518.59848366128\n",
      "Третий регион: 18892071.694171954 ± 8045947.391013227\n"
     ]
    },
    {
     "data": {
      "text/plain": [
       "[Text(0, 0, 'Первый'), Text(1, 0, 'Второй'), Text(2, 0, 'Третий')]"
      ]
     },
     "execution_count": 31,
     "metadata": {},
     "output_type": "execute_result"
    },
    {
     "data": {
      "image/png": "[encoded data removed]",
      "text/plain": [
       "<Figure size 720x432 with 1 Axes>"
      ]
     },
     "metadata": {
      "needs_background": "light"
     },
     "output_type": "display_data"
    }
   ],
   "source": [
    "# возвращает доход в баррелях нефти с учётом погрешности\n",
    "# среднее значение, погрешность\n",
    "def income_oil(mean,err):\n",
    "    global stroy_oil, skv\n",
    "    return skv * mean * 10 ** 3 - stroy_oil, skv * err * 10 ** 3 # вроде правильно погрешность посчитал\n",
    "\n",
    "# прибыль первого региона\n",
    "incom1_mean, incom1_err = income_oil(means[0],errors[0])\n",
    "# прибыль второго региона\n",
    "incom2_mean, incom2_err = income_oil(means[1],errors[1])\n",
    "# прибыль третьего региона\n",
    "incom3_mean, incom3_err = income_oil(means[2],errors[2])\n",
    "\n",
    "\n",
    "print('Первый регион:', incom1_mean, '±', incom1_err)\n",
    "print('Второй регион:', incom2_mean, '±', incom2_err)\n",
    "print('Третий регион:', incom3_mean, '±', incom3_err)\n",
    "\n",
    "means_i = [incom1_mean, incom2_mean, incom3_mean]\n",
    "errors_i = [incom1_err, incom2_err, incom3_err]\n",
    "\n",
    "fig, ax = plt.subplots(figsize=(10,6))\n",
    "ax.bar(np.arange(len(means_i)), means_i, yerr=errors_i, align='center', ecolor='black')\n",
    "ax.set_title('Распределение прибыли, выраженной в баррелях нефти, в случае полной добычи нефти в регионе, основываясь\\nна средних показателях прибыльности скважин каждого региона.')\n",
    "ax.set_ylabel('прибыль, баррель', style='italic')\n",
    "ax.set_xlabel('Регионы', style='italic')\n",
    "ax.set_xticks(np.arange(len(means_i)))\n",
    "ax.set_xticklabels(['Первый','Второй','Третий'])"
   ]
  },
  {
   "cell_type": "markdown",
   "metadata": {},
   "source": [
    "В каждом регионе достаточно нефти для проведения безубыточной добычи при разработки средних по прибыльности скважин. Анализ характера прибыльности региона совпадает со средним запасом нефти по регионам, поскольку, по-сути, это одни и те же рисунки, за исключением того, что на данном графике учтёна стоимость разработки региона, которая является постоянной вне зависимости от региона. "
   ]
  },
  {
   "cell_type": "markdown",
   "metadata": {},
   "source": [
    "---"
   ]
  },
  {
   "cell_type": "markdown",
   "metadata": {},
   "source": [
    "Найдём распределение прибыли в рублях по регионам, в случае, если будут выбраны наиболее выгодные для добычи скважины в каждом из них."
   ]
  },
  {
   "cell_type": "code",
   "execution_count": 32,
   "metadata": {},
   "outputs": [
    {
     "data": {
      "text/plain": [
       "[Text(0, 0, 'Первый'), Text(1, 0, 'Второй'), Text(2, 0, 'Третий')]"
      ]
     },
     "execution_count": 32,
     "metadata": {},
     "output_type": "execute_result"
    },
    {
     "data": {
      "image/png": "[encoded data removed]",
      "text/plain": [
       "<Figure size 720x432 with 1 Axes>"
      ]
     },
     "metadata": {
      "needs_background": "light"
     },
     "output_type": "display_data"
    }
   ],
   "source": [
    "# возвращает количество нефти выработанное богатейшими из выбранных скважин с учётом предсказанных значений\n",
    "# настоящие значения, предсказанные значения, выбираемое количество скважин\n",
    "def incom(t,p,skv):\n",
    "    p = pd.Series(data=p)\n",
    "    return np.sum(t[p.sort_values(ascending=False).index[:skv]]) * 10 ** 3\n",
    "\n",
    "\n",
    "# первый регион\n",
    "d_incom1 = incom(t1_vld.to_numpy(),p1_vld,skv) * oil_one # рубли\n",
    "# второй регион\n",
    "d_incom2 = incom(t2_vld.to_numpy(),p2_vld,skv) * oil_one # рубли\n",
    "# третий регион\n",
    "d_incom3 = incom(t3_vld.to_numpy(),p3_vld,skv) * oil_one # рубли\n",
    "\n",
    "\n",
    "doxod = [d_incom1 - stroy, d_incom2 - stroy, d_incom3 - stroy]\n",
    "\n",
    "fig, ax = plt.subplots(figsize=(10,6))\n",
    "ax.bar(np.arange(len(doxod)), doxod, align='center')\n",
    "ax.set_title('Распределение прибыли в случае полной добычи нефти в регионе при использовании самых богатых скважин.\\n')\n",
    "ax.set_ylabel('прибыль, руб', style='italic')\n",
    "ax.set_xlabel('Регионы', style='italic')\n",
    "ax.set_xticks(np.arange(len(doxod)))\n",
    "ax.set_xticklabels(['Первый','Второй','Третий'])"
   ]
  },
  {
   "cell_type": "markdown",
   "metadata": {},
   "source": [
    "Из рисунка можно видеть, что, в случае разработки наиболее выгодных скважин самым прибыльным оказывается первый регион."
   ]
  },
  {
   "cell_type": "markdown",
   "metadata": {},
   "source": [
    "## Расчёт прибыли и рисков "
   ]
  },
  {
   "cell_type": "markdown",
   "metadata": {},
   "source": [
    "Применим к имеющимся данным технику Bootstrap, чтобы найти распределение прибыли регионов и составить представление о рисках."
   ]
  },
  {
   "cell_type": "code",
   "execution_count": 33,
   "metadata": {},
   "outputs": [
    {
     "name": "stdout",
     "output_type": "stream",
     "text": [
      "Первый регион:\n",
      " - Средннее: 454213603.98156834 руб.\n",
      " - Вероятность убытка: 3.2 %\n",
      "Второй регион:\n",
      " - Средннее: 473100642.1353928 руб.\n",
      " - Вероятность убытка: 0.4 %\n",
      "Третий регион:\n",
      " - Средннее: 364714094.62741405 руб.\n",
      " - Вероятность убытка: 8.7 %\n"
     ]
    },
    {
     "data": {
      "text/plain": [
       "[Text(0, 0, 'Первый'), Text(1, 0, 'Второй'), Text(2, 0, 'Третий')]"
      ]
     },
     "execution_count": 33,
     "metadata": {},
     "output_type": "execute_result"
    },
    {
     "data": {
      "image/png": "[encoded data removed]",
      "text/plain": [
       "<Figure size 720x432 with 1 Axes>"
      ]
     },
     "metadata": {
      "needs_background": "light"
     },
     "output_type": "display_data"
    }
   ],
   "source": [
    "# считает вероятность уйти в убыток при разработки региона\n",
    "# средние значения прибыли в рублях\n",
    "def ubiitok(a):\n",
    "    q = 0.001\n",
    "    i = a.quantile(q)\n",
    "    while i < 0:\n",
    "        i = a.quantile(0.001 + q)\n",
    "        q = q + 0.001\n",
    "    return q\n",
    "\n",
    "\n",
    "# первый регион\n",
    "incom1 = []\n",
    "random.seed(rrrr)\n",
    "for i in range(0,1000):\n",
    "    index_500 = random.choices(range(0,len(p1_vld)), k=500)\n",
    "    \n",
    "    p1_500 = p1_vld[index_500]\n",
    "    t1_500 = t1_vld.reset_index(drop=True)[index_500].to_numpy()\n",
    "    \n",
    "    incom1.append(incom(t1_500,p1_500,skv) * oil_one - stroy) # рубли\n",
    "\n",
    "incom1 = pd.Series(data=incom1)\n",
    "\n",
    "mean1 = incom1.mean() \n",
    "lower1 = incom1.quantile(0.025)\n",
    "upper1 = incom1.quantile(0.975)\n",
    "\n",
    "ubiitok1 = ubiitok(incom1)\n",
    "\n",
    "\n",
    "# второй регион\n",
    "incom2 = []\n",
    "random.seed(rrrr + 1)\n",
    "for i in range(0,1000):\n",
    "    index_500 = random.choices(range(0,len(p2_vld)), k=500)\n",
    "    \n",
    "    p2_500 = p2_vld[index_500]\n",
    "    t2_500 = t2_vld.reset_index(drop=True)[index_500].to_numpy()\n",
    "    \n",
    "    incom2.append(incom(t2_500,p2_500,skv) * oil_one - stroy) # рубли\n",
    "\n",
    "incom2 = pd.Series(data=incom2)\n",
    "\n",
    "mean2 = incom2.mean() \n",
    "lower2 = incom2.quantile(0.025)\n",
    "upper2 = incom2.quantile(0.975)\n",
    "\n",
    "ubiitok2 = ubiitok(incom2)\n",
    "\n",
    "\n",
    "# третий регион\n",
    "incom3 = []\n",
    "random.seed(rrrr + 3)\n",
    "for i in range(0,1000):\n",
    "    index_500 = random.choices(range(0,len(p3_vld)), k=500)\n",
    "    \n",
    "    p3_500 = p3_vld[index_500]\n",
    "    t3_500 = t3_vld.reset_index(drop=True)[index_500].to_numpy()\n",
    "    \n",
    "    incom3.append(incom(t3_500,p3_500,skv) * oil_one - stroy) # рубли\n",
    "\n",
    "incom3 = pd.Series(data=incom3)\n",
    "\n",
    "mean3 = incom3.mean() \n",
    "lower3 = incom3.quantile(0.025)\n",
    "upper3 = incom3.quantile(0.975)\n",
    "\n",
    "ubiitok3 = ubiitok(incom3)\n",
    "\n",
    "\n",
    "print('Первый регион:\\n - Средннее:', mean1, 'руб.\\n - Вероятность убытка:', round(ubiitok1 * 1000) / 10, '%')\n",
    "print('Второй регион:\\n - Средннее:', mean2, 'руб.\\n - Вероятность убытка:', round(ubiitok2 * 1000) / 10, '%')\n",
    "print('Третий регион:\\n - Средннее:', mean3, 'руб.\\n - Вероятность убытка:', round(ubiitok3 * 1000) / 10, '%')\n",
    "\n",
    "\n",
    "doxod = [mean1, mean2, mean3]\n",
    "quant_5 = [[mean1 - lower1, mean2 - lower2, mean3 - lower3],\n",
    "           [upper1 - mean1, upper2 - mean2, upper3 - mean2]]\n",
    "\n",
    "fig, ax = plt.subplots(figsize=(10,6))\n",
    "ax.bar(np.arange(len(doxod)), doxod, yerr=quant_5, align='center', ecolor='black')\n",
    "ax.set_title('Распределение прибыли в случае полной добычи нефти, используя случайные скважины.\\n')\n",
    "ax.set_ylabel('прибыль, руб', style='italic')\n",
    "ax.set_xlabel('Регионы', style='italic')\n",
    "ax.set_xticks(np.arange(len(doxod)))\n",
    "ax.set_xticklabels(['Первый','Второй','Третий'])"
   ]
  },
  {
   "cell_type": "markdown",
   "metadata": {},
   "source": [
    "Из анализа видно, что при выборе случайных скважин наибольшая средняя прибыль и наименьшаяя вероятность понести убытки будет наблюдаться во втором регионе. На втором месте по данным показателям находится первый регион."
   ]
  },
  {
   "cell_type": "markdown",
   "metadata": {},
   "source": [
    "## Вывод"
   ]
  },
  {
   "cell_type": "markdown",
   "metadata": {},
   "source": [
    "В данном анализе были изучены три региона на предмет безубыточной добычи нефти в них. В ходе анализа было обнаружено, что при возможности точного определения объёмов нефти в каждой скважин регионов самым доходным после завершения добычи будет первый регион. Однако при невозможности такого анализа и вынужденного выбора случайных скважин в регионе наиболее **целесообразным будет выбор второго региона**, как региона с наименьшей веротностью убытка и наибольшей средней прибылью. Выбор третьего региона является нежелательным с точки зрения максимизации дохода и сокращения рисков в любом случае."
   ]
  }
 ],
 "metadata": {
  "ExecuteTimeLog": [
   {
    "duration": 488,
    "start_time": "2023-09-06T10:30:13.768Z"
   },
   {
    "duration": 544,
    "start_time": "2023-09-06T10:31:12.437Z"
   },
   {
    "duration": 161,
    "start_time": "2023-09-06T10:31:26.867Z"
   },
   {
    "duration": 17,
    "start_time": "2023-09-06T10:42:36.119Z"
   },
   {
    "duration": 80,
    "start_time": "2023-09-06T10:43:10.064Z"
   },
   {
    "duration": 16,
    "start_time": "2023-09-06T10:43:23.659Z"
   },
   {
    "duration": 11,
    "start_time": "2023-09-06T10:43:45.603Z"
   },
   {
    "duration": 63,
    "start_time": "2023-09-06T10:43:50.696Z"
   },
   {
    "duration": 72,
    "start_time": "2023-09-06T10:44:04.429Z"
   },
   {
    "duration": 311,
    "start_time": "2023-09-06T10:44:19.729Z"
   },
   {
    "duration": 62,
    "start_time": "2023-09-06T10:44:26.415Z"
   },
   {
    "duration": 583,
    "start_time": "2023-09-06T10:46:20.068Z"
   },
   {
    "duration": 16,
    "start_time": "2023-09-06T10:46:33.182Z"
   },
   {
    "duration": 55,
    "start_time": "2023-09-06T10:46:48.776Z"
   },
   {
    "duration": 8,
    "start_time": "2023-09-06T10:47:15.424Z"
   },
   {
    "duration": 578,
    "start_time": "2023-09-06T10:47:27.955Z"
   },
   {
    "duration": 16,
    "start_time": "2023-09-06T10:48:43.478Z"
   },
   {
    "duration": 978,
    "start_time": "2023-09-06T10:49:15.781Z"
   },
   {
    "duration": 19,
    "start_time": "2023-09-06T10:53:47.177Z"
   },
   {
    "duration": 17,
    "start_time": "2023-09-06T10:53:50.580Z"
   },
   {
    "duration": 15,
    "start_time": "2023-09-06T10:54:46.818Z"
   },
   {
    "duration": 606,
    "start_time": "2023-09-06T10:54:57.867Z"
   },
   {
    "duration": 64,
    "start_time": "2023-09-06T11:01:33.648Z"
   },
   {
    "duration": 70,
    "start_time": "2023-09-06T11:08:33.025Z"
   },
   {
    "duration": 47,
    "start_time": "2023-09-06T11:08:49.794Z"
   },
   {
    "duration": 136,
    "start_time": "2023-09-06T11:36:39.243Z"
   },
   {
    "duration": 135,
    "start_time": "2023-09-06T11:37:28.032Z"
   },
   {
    "duration": 202,
    "start_time": "2023-09-06T11:37:56.028Z"
   },
   {
    "duration": 5,
    "start_time": "2023-09-06T11:38:22.424Z"
   },
   {
    "duration": 5,
    "start_time": "2023-09-06T11:38:39.771Z"
   },
   {
    "duration": 130,
    "start_time": "2023-09-06T12:04:56.803Z"
   },
   {
    "duration": 548,
    "start_time": "2023-09-06T12:05:02.235Z"
   },
   {
    "duration": 354,
    "start_time": "2023-09-06T12:05:56.397Z"
   },
   {
    "duration": 380,
    "start_time": "2023-09-06T12:06:22.429Z"
   },
   {
    "duration": 403,
    "start_time": "2023-09-06T12:06:32.774Z"
   },
   {
    "duration": 165,
    "start_time": "2023-09-06T12:06:33.179Z"
   },
   {
    "duration": 16,
    "start_time": "2023-09-06T12:06:33.346Z"
   },
   {
    "duration": 19,
    "start_time": "2023-09-06T12:06:33.363Z"
   },
   {
    "duration": 89,
    "start_time": "2023-09-06T12:06:33.384Z"
   },
   {
    "duration": 4,
    "start_time": "2023-09-06T12:06:33.475Z"
   },
   {
    "duration": 439,
    "start_time": "2023-09-06T12:06:33.481Z"
   },
   {
    "duration": 23,
    "start_time": "2023-09-06T12:06:33.922Z"
   },
   {
    "duration": 864,
    "start_time": "2023-09-06T12:06:33.947Z"
   },
   {
    "duration": 146,
    "start_time": "2023-09-06T12:06:34.813Z"
   },
   {
    "duration": 17,
    "start_time": "2023-09-06T12:06:34.960Z"
   },
   {
    "duration": 75,
    "start_time": "2023-09-06T12:06:34.978Z"
   },
   {
    "duration": 16,
    "start_time": "2023-09-06T12:06:35.054Z"
   },
   {
    "duration": 565,
    "start_time": "2023-09-06T12:06:35.072Z"
   },
   {
    "duration": 135,
    "start_time": "2023-09-06T12:06:35.639Z"
   },
   {
    "duration": 15,
    "start_time": "2023-09-06T12:06:35.776Z"
   },
   {
    "duration": 56,
    "start_time": "2023-09-06T12:06:35.792Z"
   },
   {
    "duration": 446,
    "start_time": "2023-09-06T12:07:16.519Z"
   },
   {
    "duration": 162,
    "start_time": "2023-09-06T12:07:16.968Z"
   },
   {
    "duration": 19,
    "start_time": "2023-09-06T12:07:17.132Z"
   },
   {
    "duration": 26,
    "start_time": "2023-09-06T12:07:17.153Z"
   },
   {
    "duration": 75,
    "start_time": "2023-09-06T12:07:17.181Z"
   },
   {
    "duration": 6,
    "start_time": "2023-09-06T12:07:17.258Z"
   },
   {
    "duration": 411,
    "start_time": "2023-09-06T12:07:17.266Z"
   },
   {
    "duration": 16,
    "start_time": "2023-09-06T12:07:17.679Z"
   },
   {
    "duration": 807,
    "start_time": "2023-09-06T12:07:17.696Z"
   },
   {
    "duration": 153,
    "start_time": "2023-09-06T12:07:18.506Z"
   },
   {
    "duration": 17,
    "start_time": "2023-09-06T12:07:18.661Z"
   },
   {
    "duration": 71,
    "start_time": "2023-09-06T12:07:18.679Z"
   },
   {
    "duration": 15,
    "start_time": "2023-09-06T12:07:18.752Z"
   },
   {
    "duration": 570,
    "start_time": "2023-09-06T12:07:18.768Z"
   },
   {
    "duration": 136,
    "start_time": "2023-09-06T12:07:19.339Z"
   },
   {
    "duration": 13,
    "start_time": "2023-09-06T12:07:19.477Z"
   },
   {
    "duration": 73,
    "start_time": "2023-09-06T12:07:19.492Z"
   },
   {
    "duration": 452,
    "start_time": "2023-09-06T12:08:01.028Z"
   },
   {
    "duration": 510,
    "start_time": "2023-09-06T12:15:15.980Z"
   },
   {
    "duration": 390,
    "start_time": "2023-09-06T12:16:22.297Z"
   },
   {
    "duration": 172,
    "start_time": "2023-09-06T12:16:22.689Z"
   },
   {
    "duration": 16,
    "start_time": "2023-09-06T12:16:22.863Z"
   },
   {
    "duration": 24,
    "start_time": "2023-09-06T12:16:22.881Z"
   },
   {
    "duration": 88,
    "start_time": "2023-09-06T12:16:22.907Z"
   },
   {
    "duration": 5,
    "start_time": "2023-09-06T12:16:22.996Z"
   },
   {
    "duration": 560,
    "start_time": "2023-09-06T12:16:23.002Z"
   },
   {
    "duration": 16,
    "start_time": "2023-09-06T12:16:23.564Z"
   },
   {
    "duration": 904,
    "start_time": "2023-09-06T12:16:23.582Z"
   },
   {
    "duration": 154,
    "start_time": "2023-09-06T12:16:24.488Z"
   },
   {
    "duration": 16,
    "start_time": "2023-09-06T12:16:24.644Z"
   },
   {
    "duration": 73,
    "start_time": "2023-09-06T12:16:24.661Z"
   },
   {
    "duration": 19,
    "start_time": "2023-09-06T12:16:24.735Z"
   },
   {
    "duration": 610,
    "start_time": "2023-09-06T12:16:24.757Z"
   },
   {
    "duration": 164,
    "start_time": "2023-09-06T12:16:25.369Z"
   },
   {
    "duration": 18,
    "start_time": "2023-09-06T12:16:25.535Z"
   },
   {
    "duration": 83,
    "start_time": "2023-09-06T12:16:25.555Z"
   },
   {
    "duration": 387,
    "start_time": "2023-09-06T12:16:54.307Z"
   },
   {
    "duration": 157,
    "start_time": "2023-09-06T12:16:54.696Z"
   },
   {
    "duration": 14,
    "start_time": "2023-09-06T12:16:54.855Z"
   },
   {
    "duration": 17,
    "start_time": "2023-09-06T12:16:54.871Z"
   },
   {
    "duration": 81,
    "start_time": "2023-09-06T12:16:54.891Z"
   },
   {
    "duration": 5,
    "start_time": "2023-09-06T12:16:54.974Z"
   },
   {
    "duration": 2003,
    "start_time": "2023-09-06T12:16:54.981Z"
   },
   {
    "duration": 0,
    "start_time": "2023-09-06T12:16:56.986Z"
   },
   {
    "duration": 0,
    "start_time": "2023-09-06T12:16:56.987Z"
   },
   {
    "duration": 0,
    "start_time": "2023-09-06T12:16:56.988Z"
   },
   {
    "duration": 0,
    "start_time": "2023-09-06T12:16:56.989Z"
   },
   {
    "duration": 0,
    "start_time": "2023-09-06T12:16:56.990Z"
   },
   {
    "duration": 0,
    "start_time": "2023-09-06T12:16:56.990Z"
   },
   {
    "duration": 0,
    "start_time": "2023-09-06T12:16:56.991Z"
   },
   {
    "duration": 0,
    "start_time": "2023-09-06T12:16:56.992Z"
   },
   {
    "duration": 0,
    "start_time": "2023-09-06T12:16:56.993Z"
   },
   {
    "duration": 0,
    "start_time": "2023-09-06T12:16:56.994Z"
   },
   {
    "duration": 434,
    "start_time": "2023-09-06T12:17:13.436Z"
   },
   {
    "duration": 175,
    "start_time": "2023-09-06T12:17:13.872Z"
   },
   {
    "duration": 19,
    "start_time": "2023-09-06T12:17:14.049Z"
   },
   {
    "duration": 46,
    "start_time": "2023-09-06T12:17:14.070Z"
   },
   {
    "duration": 89,
    "start_time": "2023-09-06T12:17:14.119Z"
   },
   {
    "duration": 5,
    "start_time": "2023-09-06T12:17:14.210Z"
   },
   {
    "duration": 448,
    "start_time": "2023-09-06T12:17:14.217Z"
   },
   {
    "duration": 15,
    "start_time": "2023-09-06T12:17:14.667Z"
   },
   {
    "duration": 825,
    "start_time": "2023-09-06T12:17:14.683Z"
   },
   {
    "duration": 156,
    "start_time": "2023-09-06T12:17:15.510Z"
   },
   {
    "duration": 16,
    "start_time": "2023-09-06T12:17:15.668Z"
   },
   {
    "duration": 75,
    "start_time": "2023-09-06T12:17:15.686Z"
   },
   {
    "duration": 15,
    "start_time": "2023-09-06T12:17:15.763Z"
   },
   {
    "duration": 600,
    "start_time": "2023-09-06T12:17:15.780Z"
   },
   {
    "duration": 134,
    "start_time": "2023-09-06T12:17:16.383Z"
   },
   {
    "duration": 13,
    "start_time": "2023-09-06T12:17:16.519Z"
   },
   {
    "duration": 62,
    "start_time": "2023-09-06T12:17:16.534Z"
   },
   {
    "duration": 496,
    "start_time": "2023-09-06T12:17:47.458Z"
   },
   {
    "duration": 395,
    "start_time": "2023-09-06T12:18:02.192Z"
   },
   {
    "duration": 183,
    "start_time": "2023-09-06T12:18:02.589Z"
   },
   {
    "duration": 17,
    "start_time": "2023-09-06T12:18:02.774Z"
   },
   {
    "duration": 16,
    "start_time": "2023-09-06T12:18:02.794Z"
   },
   {
    "duration": 80,
    "start_time": "2023-09-06T12:18:02.812Z"
   },
   {
    "duration": 4,
    "start_time": "2023-09-06T12:18:02.894Z"
   },
   {
    "duration": 553,
    "start_time": "2023-09-06T12:18:02.900Z"
   },
   {
    "duration": 16,
    "start_time": "2023-09-06T12:18:03.455Z"
   },
   {
    "duration": 898,
    "start_time": "2023-09-06T12:18:03.472Z"
   },
   {
    "duration": 150,
    "start_time": "2023-09-06T12:18:04.373Z"
   },
   {
    "duration": 19,
    "start_time": "2023-09-06T12:18:04.525Z"
   },
   {
    "duration": 61,
    "start_time": "2023-09-06T12:18:04.546Z"
   },
   {
    "duration": 40,
    "start_time": "2023-09-06T12:18:04.609Z"
   },
   {
    "duration": 601,
    "start_time": "2023-09-06T12:18:04.651Z"
   },
   {
    "duration": 135,
    "start_time": "2023-09-06T12:18:05.254Z"
   },
   {
    "duration": 14,
    "start_time": "2023-09-06T12:18:05.391Z"
   },
   {
    "duration": 62,
    "start_time": "2023-09-06T12:18:05.406Z"
   },
   {
    "duration": 431,
    "start_time": "2023-09-06T12:20:41.822Z"
   },
   {
    "duration": 173,
    "start_time": "2023-09-06T12:20:42.255Z"
   },
   {
    "duration": 18,
    "start_time": "2023-09-06T12:20:42.430Z"
   },
   {
    "duration": 16,
    "start_time": "2023-09-06T12:20:42.450Z"
   },
   {
    "duration": 75,
    "start_time": "2023-09-06T12:20:42.469Z"
   },
   {
    "duration": 579,
    "start_time": "2023-09-06T12:20:42.546Z"
   },
   {
    "duration": 59,
    "start_time": "2023-09-06T12:20:43.126Z"
   },
   {
    "duration": 15,
    "start_time": "2023-09-06T12:20:43.187Z"
   },
   {
    "duration": 930,
    "start_time": "2023-09-06T12:20:43.204Z"
   },
   {
    "duration": 185,
    "start_time": "2023-09-06T12:20:44.136Z"
   },
   {
    "duration": 23,
    "start_time": "2023-09-06T12:20:44.323Z"
   },
   {
    "duration": 63,
    "start_time": "2023-09-06T12:20:44.348Z"
   },
   {
    "duration": 32,
    "start_time": "2023-09-06T12:20:44.413Z"
   },
   {
    "duration": 556,
    "start_time": "2023-09-06T12:20:44.448Z"
   },
   {
    "duration": 141,
    "start_time": "2023-09-06T12:20:45.006Z"
   },
   {
    "duration": 15,
    "start_time": "2023-09-06T12:20:45.148Z"
   },
   {
    "duration": 47,
    "start_time": "2023-09-06T12:20:45.164Z"
   },
   {
    "duration": 403,
    "start_time": "2023-09-06T12:21:25.152Z"
   },
   {
    "duration": 159,
    "start_time": "2023-09-06T12:21:25.557Z"
   },
   {
    "duration": 15,
    "start_time": "2023-09-06T12:21:25.718Z"
   },
   {
    "duration": 24,
    "start_time": "2023-09-06T12:21:25.734Z"
   },
   {
    "duration": 48,
    "start_time": "2023-09-06T12:21:25.760Z"
   },
   {
    "duration": 586,
    "start_time": "2023-09-06T12:21:25.809Z"
   },
   {
    "duration": 68,
    "start_time": "2023-09-06T12:21:26.397Z"
   },
   {
    "duration": 15,
    "start_time": "2023-09-06T12:21:26.467Z"
   },
   {
    "duration": 807,
    "start_time": "2023-09-06T12:21:26.483Z"
   },
   {
    "duration": 154,
    "start_time": "2023-09-06T12:21:27.292Z"
   },
   {
    "duration": 15,
    "start_time": "2023-09-06T12:21:27.448Z"
   },
   {
    "duration": 66,
    "start_time": "2023-09-06T12:21:27.465Z"
   },
   {
    "duration": 59,
    "start_time": "2023-09-06T12:21:27.545Z"
   },
   {
    "duration": 569,
    "start_time": "2023-09-06T12:21:27.607Z"
   },
   {
    "duration": 149,
    "start_time": "2023-09-06T12:21:28.178Z"
   },
   {
    "duration": 20,
    "start_time": "2023-09-06T12:21:28.328Z"
   },
   {
    "duration": 67,
    "start_time": "2023-09-06T12:21:28.349Z"
   },
   {
    "duration": 363,
    "start_time": "2023-09-06T12:25:28.699Z"
   },
   {
    "duration": 160,
    "start_time": "2023-09-06T12:25:29.064Z"
   },
   {
    "duration": 23,
    "start_time": "2023-09-06T12:25:29.226Z"
   },
   {
    "duration": 17,
    "start_time": "2023-09-06T12:25:29.251Z"
   },
   {
    "duration": 78,
    "start_time": "2023-09-06T12:25:29.270Z"
   },
   {
    "duration": 300,
    "start_time": "2023-09-06T12:25:29.350Z"
   },
   {
    "duration": 15,
    "start_time": "2023-09-06T12:25:29.652Z"
   },
   {
    "duration": 820,
    "start_time": "2023-09-06T12:25:29.669Z"
   },
   {
    "duration": 154,
    "start_time": "2023-09-06T12:25:30.491Z"
   },
   {
    "duration": 15,
    "start_time": "2023-09-06T12:25:30.648Z"
   },
   {
    "duration": 100,
    "start_time": "2023-09-06T12:25:30.665Z"
   },
   {
    "duration": 36,
    "start_time": "2023-09-06T12:25:30.767Z"
   },
   {
    "duration": 593,
    "start_time": "2023-09-06T12:25:30.805Z"
   },
   {
    "duration": 143,
    "start_time": "2023-09-06T12:25:31.400Z"
   },
   {
    "duration": 13,
    "start_time": "2023-09-06T12:25:31.545Z"
   },
   {
    "duration": 66,
    "start_time": "2023-09-06T12:25:31.559Z"
   },
   {
    "duration": 16,
    "start_time": "2023-09-06T12:27:59.097Z"
   },
   {
    "duration": 146,
    "start_time": "2023-09-06T12:28:02.125Z"
   },
   {
    "duration": 271,
    "start_time": "2023-09-06T12:28:11.381Z"
   },
   {
    "duration": 15,
    "start_time": "2023-09-06T12:28:20.309Z"
   },
   {
    "duration": 566,
    "start_time": "2023-09-06T12:28:23.383Z"
   },
   {
    "duration": 390,
    "start_time": "2023-09-06T12:29:31.405Z"
   },
   {
    "duration": 169,
    "start_time": "2023-09-06T12:29:31.797Z"
   },
   {
    "duration": 15,
    "start_time": "2023-09-06T12:29:31.968Z"
   },
   {
    "duration": 26,
    "start_time": "2023-09-06T12:29:31.985Z"
   },
   {
    "duration": 69,
    "start_time": "2023-09-06T12:29:32.013Z"
   },
   {
    "duration": 324,
    "start_time": "2023-09-06T12:29:32.083Z"
   },
   {
    "duration": 17,
    "start_time": "2023-09-06T12:29:32.409Z"
   },
   {
    "duration": 874,
    "start_time": "2023-09-06T12:29:32.428Z"
   },
   {
    "duration": 164,
    "start_time": "2023-09-06T12:29:33.304Z"
   },
   {
    "duration": 18,
    "start_time": "2023-09-06T12:29:33.471Z"
   },
   {
    "duration": 21,
    "start_time": "2023-09-06T12:29:33.491Z"
   },
   {
    "duration": 86,
    "start_time": "2023-09-06T12:29:33.515Z"
   },
   {
    "duration": 184,
    "start_time": "2023-09-06T12:29:33.604Z"
   },
   {
    "duration": 17,
    "start_time": "2023-09-06T12:29:33.789Z"
   },
   {
    "duration": 633,
    "start_time": "2023-09-06T12:29:33.808Z"
   },
   {
    "duration": 160,
    "start_time": "2023-09-06T12:29:34.444Z"
   },
   {
    "duration": 14,
    "start_time": "2023-09-06T12:29:34.605Z"
   },
   {
    "duration": 96,
    "start_time": "2023-09-06T12:29:34.621Z"
   },
   {
    "duration": 307,
    "start_time": "2023-09-06T12:29:34.718Z"
   },
   {
    "duration": 19,
    "start_time": "2023-09-06T12:55:47.628Z"
   },
   {
    "duration": 16,
    "start_time": "2023-09-06T12:56:27.323Z"
   },
   {
    "duration": 620,
    "start_time": "2023-09-06T12:58:23.393Z"
   },
   {
    "duration": 68,
    "start_time": "2023-09-06T13:10:23.325Z"
   },
   {
    "duration": 13,
    "start_time": "2023-09-06T13:10:26.812Z"
   },
   {
    "duration": 5,
    "start_time": "2023-09-06T13:11:06.393Z"
   },
   {
    "duration": 405,
    "start_time": "2023-09-06T13:14:14.080Z"
   },
   {
    "duration": 167,
    "start_time": "2023-09-06T13:14:14.487Z"
   },
   {
    "duration": 15,
    "start_time": "2023-09-06T13:14:14.656Z"
   },
   {
    "duration": 16,
    "start_time": "2023-09-06T13:14:14.673Z"
   },
   {
    "duration": 79,
    "start_time": "2023-09-06T13:14:14.691Z"
   },
   {
    "duration": 299,
    "start_time": "2023-09-06T13:14:14.772Z"
   },
   {
    "duration": 6,
    "start_time": "2023-09-06T13:14:15.073Z"
   },
   {
    "duration": 43,
    "start_time": "2023-09-06T13:14:15.080Z"
   },
   {
    "duration": 838,
    "start_time": "2023-09-06T13:14:15.125Z"
   },
   {
    "duration": 153,
    "start_time": "2023-09-06T13:14:15.966Z"
   },
   {
    "duration": 17,
    "start_time": "2023-09-06T13:14:16.120Z"
   },
   {
    "duration": 23,
    "start_time": "2023-09-06T13:14:16.144Z"
   },
   {
    "duration": 72,
    "start_time": "2023-09-06T13:14:16.169Z"
   },
   {
    "duration": 177,
    "start_time": "2023-09-06T13:14:16.243Z"
   },
   {
    "duration": 4,
    "start_time": "2023-09-06T13:14:16.421Z"
   },
   {
    "duration": 23,
    "start_time": "2023-09-06T13:14:16.427Z"
   },
   {
    "duration": 518,
    "start_time": "2023-09-06T13:14:16.451Z"
   },
   {
    "duration": 139,
    "start_time": "2023-09-06T13:14:16.971Z"
   },
   {
    "duration": 14,
    "start_time": "2023-09-06T13:14:17.111Z"
   },
   {
    "duration": 24,
    "start_time": "2023-09-06T13:14:17.127Z"
   },
   {
    "duration": 60,
    "start_time": "2023-09-06T13:14:17.153Z"
   },
   {
    "duration": 183,
    "start_time": "2023-09-06T13:14:17.215Z"
   },
   {
    "duration": 5,
    "start_time": "2023-09-06T13:14:17.399Z"
   },
   {
    "duration": 20,
    "start_time": "2023-09-06T13:14:17.405Z"
   },
   {
    "duration": 598,
    "start_time": "2023-09-06T13:14:17.427Z"
   },
   {
    "duration": 502,
    "start_time": "2023-09-06T13:32:13.291Z"
   },
   {
    "duration": 516,
    "start_time": "2023-09-06T13:32:24.999Z"
   },
   {
    "duration": 504,
    "start_time": "2023-09-06T13:32:33.422Z"
   },
   {
    "duration": 70,
    "start_time": "2023-09-06T13:41:20.565Z"
   },
   {
    "duration": 7,
    "start_time": "2023-09-06T13:41:25.050Z"
   },
   {
    "duration": 16,
    "start_time": "2023-09-06T13:41:26.102Z"
   },
   {
    "duration": 10,
    "start_time": "2023-09-06T13:41:46.148Z"
   },
   {
    "duration": 10,
    "start_time": "2023-09-06T13:41:55.845Z"
   },
   {
    "duration": 11,
    "start_time": "2023-09-06T13:42:04.145Z"
   },
   {
    "duration": 4,
    "start_time": "2023-09-06T13:42:16.728Z"
   },
   {
    "duration": 5,
    "start_time": "2023-09-06T13:42:26.755Z"
   },
   {
    "duration": 10,
    "start_time": "2023-09-06T13:42:38.988Z"
   },
   {
    "duration": 27,
    "start_time": "2023-09-06T13:46:24.663Z"
   },
   {
    "duration": 7,
    "start_time": "2023-09-06T13:46:36.159Z"
   },
   {
    "duration": 35,
    "start_time": "2023-09-06T13:46:37.167Z"
   },
   {
    "duration": 888,
    "start_time": "2023-09-06T13:50:37.918Z"
   },
   {
    "duration": 46,
    "start_time": "2023-09-06T14:00:19.857Z"
   },
   {
    "duration": 26,
    "start_time": "2023-09-06T14:00:42.177Z"
   },
   {
    "duration": 19,
    "start_time": "2023-09-06T14:02:04.006Z"
   },
   {
    "duration": 151,
    "start_time": "2023-09-06T14:02:12.594Z"
   },
   {
    "duration": 3,
    "start_time": "2023-09-06T14:07:28.660Z"
   },
   {
    "duration": 9,
    "start_time": "2023-09-06T14:09:41.916Z"
   },
   {
    "duration": 5,
    "start_time": "2023-09-06T14:09:49.715Z"
   },
   {
    "duration": 15,
    "start_time": "2023-09-06T14:10:11.976Z"
   },
   {
    "duration": 4,
    "start_time": "2023-09-06T14:10:44.933Z"
   },
   {
    "duration": 4,
    "start_time": "2023-09-06T14:11:25.051Z"
   },
   {
    "duration": 8,
    "start_time": "2023-09-06T14:11:58.413Z"
   },
   {
    "duration": 112,
    "start_time": "2023-09-06T14:55:37.169Z"
   },
   {
    "duration": 139,
    "start_time": "2023-09-06T14:58:32.099Z"
   },
   {
    "duration": 138,
    "start_time": "2023-09-06T14:58:40.796Z"
   },
   {
    "duration": 3,
    "start_time": "2023-09-06T15:00:22.781Z"
   },
   {
    "duration": 131,
    "start_time": "2023-09-06T15:01:53.689Z"
   },
   {
    "duration": 5,
    "start_time": "2023-09-06T15:03:15.131Z"
   },
   {
    "duration": 484,
    "start_time": "2023-09-06T15:03:23.983Z"
   },
   {
    "duration": 184,
    "start_time": "2023-09-06T15:03:45.405Z"
   },
   {
    "duration": 202,
    "start_time": "2023-09-06T15:12:53.398Z"
   },
   {
    "duration": 189,
    "start_time": "2023-09-06T15:13:05.782Z"
   },
   {
    "duration": 203,
    "start_time": "2023-09-06T15:13:42.788Z"
   },
   {
    "duration": 173,
    "start_time": "2023-09-06T15:14:59.184Z"
   },
   {
    "duration": 164,
    "start_time": "2023-09-06T15:15:19.447Z"
   },
   {
    "duration": 167,
    "start_time": "2023-09-06T15:15:55.031Z"
   },
   {
    "duration": 154,
    "start_time": "2023-09-06T15:16:18.445Z"
   },
   {
    "duration": 153,
    "start_time": "2023-09-06T15:17:13.000Z"
   },
   {
    "duration": 144,
    "start_time": "2023-09-06T15:21:59.904Z"
   },
   {
    "duration": 127,
    "start_time": "2023-09-06T15:22:19.772Z"
   },
   {
    "duration": 147,
    "start_time": "2023-09-06T15:22:25.465Z"
   },
   {
    "duration": 129,
    "start_time": "2023-09-06T15:22:46.011Z"
   },
   {
    "duration": 157,
    "start_time": "2023-09-06T15:23:04.460Z"
   },
   {
    "duration": 3,
    "start_time": "2023-09-06T15:37:39.817Z"
   },
   {
    "duration": 5,
    "start_time": "2023-09-06T15:43:27.333Z"
   },
   {
    "duration": 4,
    "start_time": "2023-09-06T15:44:01.240Z"
   },
   {
    "duration": 4,
    "start_time": "2023-09-06T15:44:07.821Z"
   },
   {
    "duration": 6,
    "start_time": "2023-09-06T15:47:51.705Z"
   },
   {
    "duration": 6,
    "start_time": "2023-09-06T15:48:07.617Z"
   },
   {
    "duration": 166,
    "start_time": "2023-09-06T15:54:55.252Z"
   },
   {
    "duration": 159,
    "start_time": "2023-09-06T15:55:11.359Z"
   },
   {
    "duration": 165,
    "start_time": "2023-09-06T15:55:21.483Z"
   },
   {
    "duration": 146,
    "start_time": "2023-09-06T15:55:53.475Z"
   },
   {
    "duration": 267,
    "start_time": "2023-09-06T15:57:52.555Z"
   },
   {
    "duration": 164,
    "start_time": "2023-09-06T16:01:51.721Z"
   },
   {
    "duration": 5,
    "start_time": "2023-09-06T16:05:53.989Z"
   },
   {
    "duration": 4,
    "start_time": "2023-09-06T16:07:04.274Z"
   },
   {
    "duration": 4,
    "start_time": "2023-09-06T16:07:14.611Z"
   },
   {
    "duration": 4,
    "start_time": "2023-09-06T16:08:30.846Z"
   },
   {
    "duration": 194,
    "start_time": "2023-09-06T16:08:34.109Z"
   },
   {
    "duration": 4,
    "start_time": "2023-09-06T16:12:59.648Z"
   },
   {
    "duration": 140,
    "start_time": "2023-09-06T16:17:19.247Z"
   },
   {
    "duration": 128,
    "start_time": "2023-09-06T16:27:10.487Z"
   },
   {
    "duration": 1704,
    "start_time": "2023-09-07T07:35:35.541Z"
   },
   {
    "duration": 556,
    "start_time": "2023-09-07T07:35:37.247Z"
   },
   {
    "duration": 18,
    "start_time": "2023-09-07T07:35:37.805Z"
   },
   {
    "duration": 28,
    "start_time": "2023-09-07T07:35:37.824Z"
   },
   {
    "duration": 69,
    "start_time": "2023-09-07T07:35:37.853Z"
   },
   {
    "duration": 338,
    "start_time": "2023-09-07T07:35:37.924Z"
   },
   {
    "duration": 6,
    "start_time": "2023-09-07T07:35:38.264Z"
   },
   {
    "duration": 38,
    "start_time": "2023-09-07T07:35:38.272Z"
   },
   {
    "duration": 582,
    "start_time": "2023-09-07T07:35:38.311Z"
   },
   {
    "duration": 618,
    "start_time": "2023-09-07T07:35:38.896Z"
   },
   {
    "duration": 16,
    "start_time": "2023-09-07T07:35:39.517Z"
   },
   {
    "duration": 21,
    "start_time": "2023-09-07T07:35:39.534Z"
   },
   {
    "duration": 71,
    "start_time": "2023-09-07T07:35:39.557Z"
   },
   {
    "duration": 202,
    "start_time": "2023-09-07T07:35:39.630Z"
   },
   {
    "duration": 5,
    "start_time": "2023-09-07T07:35:39.834Z"
   },
   {
    "duration": 48,
    "start_time": "2023-09-07T07:35:39.841Z"
   },
   {
    "duration": 593,
    "start_time": "2023-09-07T07:35:39.890Z"
   },
   {
    "duration": 605,
    "start_time": "2023-09-07T07:35:40.486Z"
   },
   {
    "duration": 17,
    "start_time": "2023-09-07T07:35:41.093Z"
   },
   {
    "duration": 83,
    "start_time": "2023-09-07T07:35:41.111Z"
   },
   {
    "duration": 189,
    "start_time": "2023-09-07T07:35:41.196Z"
   },
   {
    "duration": 209,
    "start_time": "2023-09-07T07:35:41.387Z"
   },
   {
    "duration": 5,
    "start_time": "2023-09-07T07:35:41.598Z"
   },
   {
    "duration": 50,
    "start_time": "2023-09-07T07:35:41.605Z"
   },
   {
    "duration": 672,
    "start_time": "2023-09-07T07:35:41.657Z"
   },
   {
    "duration": 16,
    "start_time": "2023-09-07T07:35:42.331Z"
   },
   {
    "duration": 79,
    "start_time": "2023-09-07T07:35:42.349Z"
   },
   {
    "duration": 150,
    "start_time": "2023-09-07T07:35:42.431Z"
   },
   {
    "duration": 365,
    "start_time": "2023-09-07T07:35:42.673Z"
   },
   {
    "duration": 4,
    "start_time": "2023-09-07T07:35:43.041Z"
   },
   {
    "duration": 169,
    "start_time": "2023-09-07T07:35:43.046Z"
   },
   {
    "duration": 4,
    "start_time": "2023-09-07T08:07:50.154Z"
   },
   {
    "duration": 1873,
    "start_time": "2023-09-07T12:04:27.140Z"
   },
   {
    "duration": 610,
    "start_time": "2023-09-07T12:04:30.686Z"
   },
   {
    "duration": 29,
    "start_time": "2023-09-07T12:04:33.189Z"
   },
   {
    "duration": 21,
    "start_time": "2023-09-07T12:04:35.509Z"
   },
   {
    "duration": 79,
    "start_time": "2023-09-07T12:04:37.004Z"
   },
   {
    "duration": 367,
    "start_time": "2023-09-07T12:04:38.785Z"
   },
   {
    "duration": 7,
    "start_time": "2023-09-07T12:04:40.686Z"
   },
   {
    "duration": 22,
    "start_time": "2023-09-07T12:04:41.564Z"
   },
   {
    "duration": 660,
    "start_time": "2023-09-07T12:04:43.403Z"
   },
   {
    "duration": 650,
    "start_time": "2023-09-07T12:04:47.268Z"
   },
   {
    "duration": 26,
    "start_time": "2023-09-07T12:04:50.133Z"
   },
   {
    "duration": 21,
    "start_time": "2023-09-07T12:04:52.097Z"
   },
   {
    "duration": 94,
    "start_time": "2023-09-07T12:04:53.339Z"
   },
   {
    "duration": 191,
    "start_time": "2023-09-07T12:04:55.786Z"
   },
   {
    "duration": 6,
    "start_time": "2023-09-07T12:04:57.310Z"
   },
   {
    "duration": 22,
    "start_time": "2023-09-07T12:04:58.966Z"
   },
   {
    "duration": 596,
    "start_time": "2023-09-07T12:05:00.818Z"
   },
   {
    "duration": 721,
    "start_time": "2023-09-07T12:05:03.989Z"
   },
   {
    "duration": 15,
    "start_time": "2023-09-07T12:05:06.703Z"
   },
   {
    "duration": 21,
    "start_time": "2023-09-07T12:05:08.312Z"
   },
   {
    "duration": 75,
    "start_time": "2023-09-07T12:05:09.430Z"
   },
   {
    "duration": 187,
    "start_time": "2023-09-07T12:05:11.187Z"
   },
   {
    "duration": 5,
    "start_time": "2023-09-07T12:05:13.137Z"
   },
   {
    "duration": 23,
    "start_time": "2023-09-07T12:05:14.090Z"
   },
   {
    "duration": 686,
    "start_time": "2023-09-07T12:05:15.700Z"
   },
   {
    "duration": 3,
    "start_time": "2023-09-07T15:44:41.786Z"
   },
   {
    "duration": 179,
    "start_time": "2023-09-07T15:44:44.143Z"
   },
   {
    "duration": 17,
    "start_time": "2023-09-07T15:44:45.347Z"
   },
   {
    "duration": 20,
    "start_time": "2023-09-07T15:44:47.124Z"
   },
   {
    "duration": 76,
    "start_time": "2023-09-07T15:44:48.407Z"
   },
   {
    "duration": 332,
    "start_time": "2023-09-07T15:44:50.516Z"
   },
   {
    "duration": 6,
    "start_time": "2023-09-07T15:44:51.740Z"
   },
   {
    "duration": 19,
    "start_time": "2023-09-07T15:44:53.367Z"
   },
   {
    "duration": 602,
    "start_time": "2023-09-07T15:44:54.625Z"
   },
   {
    "duration": 171,
    "start_time": "2023-09-07T15:44:57.456Z"
   },
   {
    "duration": 19,
    "start_time": "2023-09-07T15:44:59.176Z"
   },
   {
    "duration": 27,
    "start_time": "2023-09-07T15:45:01.456Z"
   },
   {
    "duration": 65,
    "start_time": "2023-09-07T15:45:03.285Z"
   },
   {
    "duration": 192,
    "start_time": "2023-09-07T15:45:04.888Z"
   },
   {
    "duration": 6,
    "start_time": "2023-09-07T15:45:07.257Z"
   },
   {
    "duration": 22,
    "start_time": "2023-09-07T15:45:08.953Z"
   },
   {
    "duration": 539,
    "start_time": "2023-09-07T15:45:10.708Z"
   },
   {
    "duration": 180,
    "start_time": "2023-09-07T15:45:13.714Z"
   },
   {
    "duration": 17,
    "start_time": "2023-09-07T15:45:15.882Z"
   },
   {
    "duration": 21,
    "start_time": "2023-09-07T15:45:17.598Z"
   },
   {
    "duration": 82,
    "start_time": "2023-09-07T15:45:18.638Z"
   },
   {
    "duration": 193,
    "start_time": "2023-09-07T15:45:20.206Z"
   },
   {
    "duration": 7,
    "start_time": "2023-09-07T15:45:21.684Z"
   },
   {
    "duration": 23,
    "start_time": "2023-09-07T15:45:23.258Z"
   },
   {
    "duration": 583,
    "start_time": "2023-09-07T15:45:24.754Z"
   },
   {
    "duration": 13,
    "start_time": "2023-09-07T15:54:10.819Z"
   },
   {
    "duration": 62,
    "start_time": "2023-09-07T15:54:11.971Z"
   },
   {
    "duration": 201,
    "start_time": "2023-09-07T15:54:13.888Z"
   },
   {
    "duration": 525,
    "start_time": "2023-09-07T15:54:14.852Z"
   },
   {
    "duration": 7,
    "start_time": "2023-09-07T15:54:19.250Z"
   },
   {
    "duration": 5,
    "start_time": "2023-09-07T15:55:25.314Z"
   },
   {
    "duration": 1493,
    "start_time": "2023-09-08T07:21:16.879Z"
   },
   {
    "duration": 547,
    "start_time": "2023-09-08T07:21:20.202Z"
   },
   {
    "duration": 25,
    "start_time": "2023-09-08T07:21:23.076Z"
   },
   {
    "duration": 23,
    "start_time": "2023-09-08T07:21:25.287Z"
   },
   {
    "duration": 44,
    "start_time": "2023-09-08T07:21:26.750Z"
   },
   {
    "duration": 248,
    "start_time": "2023-09-08T07:21:27.855Z"
   },
   {
    "duration": 7,
    "start_time": "2023-09-08T07:21:29.142Z"
   },
   {
    "duration": 17,
    "start_time": "2023-09-08T07:21:30.666Z"
   },
   {
    "duration": 663,
    "start_time": "2023-09-08T07:21:32.199Z"
   },
   {
    "duration": 244,
    "start_time": "2023-09-08T07:21:35.343Z"
   },
   {
    "duration": 14,
    "start_time": "2023-09-08T07:21:40.072Z"
   },
   {
    "duration": 15,
    "start_time": "2023-09-08T07:21:41.525Z"
   },
   {
    "duration": 49,
    "start_time": "2023-09-08T07:21:43.010Z"
   },
   {
    "duration": 143,
    "start_time": "2023-09-08T07:21:44.638Z"
   },
   {
    "duration": 4,
    "start_time": "2023-09-08T07:21:46.406Z"
   },
   {
    "duration": 14,
    "start_time": "2023-09-08T07:21:47.791Z"
   },
   {
    "duration": 444,
    "start_time": "2023-09-08T07:21:48.974Z"
   },
   {
    "duration": 218,
    "start_time": "2023-09-08T07:21:51.796Z"
   },
   {
    "duration": 13,
    "start_time": "2023-09-08T07:21:53.238Z"
   },
   {
    "duration": 15,
    "start_time": "2023-09-08T07:21:54.496Z"
   },
   {
    "duration": 44,
    "start_time": "2023-09-08T07:21:55.653Z"
   },
   {
    "duration": 139,
    "start_time": "2023-09-08T07:21:57.413Z"
   },
   {
    "duration": 5,
    "start_time": "2023-09-08T07:21:58.994Z"
   },
   {
    "duration": 14,
    "start_time": "2023-09-08T07:22:00.048Z"
   },
   {
    "duration": 538,
    "start_time": "2023-09-08T07:22:01.869Z"
   },
   {
    "duration": 9,
    "start_time": "2023-09-08T07:22:15.589Z"
   },
   {
    "duration": 37,
    "start_time": "2023-09-08T07:22:16.469Z"
   },
   {
    "duration": 190,
    "start_time": "2023-09-08T07:22:18.463Z"
   },
   {
    "duration": 226,
    "start_time": "2023-09-08T07:22:20.077Z"
   },
   {
    "duration": 97,
    "start_time": "2023-09-08T07:25:48.727Z"
   },
   {
    "duration": 9,
    "start_time": "2023-09-08T07:26:20.711Z"
   },
   {
    "duration": 4,
    "start_time": "2023-09-08T07:26:33.616Z"
   },
   {
    "duration": 9,
    "start_time": "2023-09-08T07:28:28.898Z"
   },
   {
    "duration": 4,
    "start_time": "2023-09-08T07:30:45.122Z"
   },
   {
    "duration": 8,
    "start_time": "2023-09-08T07:31:17.571Z"
   },
   {
    "duration": 4,
    "start_time": "2023-09-08T07:31:31.987Z"
   },
   {
    "duration": 5,
    "start_time": "2023-09-08T07:33:00.208Z"
   },
   {
    "duration": 4,
    "start_time": "2023-09-08T07:33:11.399Z"
   },
   {
    "duration": 7,
    "start_time": "2023-09-08T07:33:32.493Z"
   },
   {
    "duration": 4,
    "start_time": "2023-09-08T07:33:44.776Z"
   },
   {
    "duration": 4,
    "start_time": "2023-09-08T07:33:59.660Z"
   },
   {
    "duration": 4,
    "start_time": "2023-09-08T07:34:06.281Z"
   },
   {
    "duration": 8,
    "start_time": "2023-09-08T07:37:01.501Z"
   },
   {
    "duration": 9,
    "start_time": "2023-09-08T07:37:13.019Z"
   },
   {
    "duration": 8,
    "start_time": "2023-09-08T07:38:11.151Z"
   },
   {
    "duration": 2,
    "start_time": "2023-09-08T07:39:03.424Z"
   },
   {
    "duration": 6,
    "start_time": "2023-09-08T07:40:14.853Z"
   },
   {
    "duration": 5,
    "start_time": "2023-09-08T07:41:44.841Z"
   },
   {
    "duration": 7,
    "start_time": "2023-09-08T07:41:59.043Z"
   },
   {
    "duration": 3,
    "start_time": "2023-09-08T07:42:01.625Z"
   },
   {
    "duration": 8,
    "start_time": "2023-09-08T07:42:05.984Z"
   },
   {
    "duration": 7,
    "start_time": "2023-09-08T07:42:09.101Z"
   },
   {
    "duration": 35,
    "start_time": "2023-09-08T07:42:26.923Z"
   },
   {
    "duration": 7,
    "start_time": "2023-09-08T07:42:30.511Z"
   },
   {
    "duration": 8,
    "start_time": "2023-09-08T07:42:31.127Z"
   },
   {
    "duration": 7,
    "start_time": "2023-09-08T07:42:31.746Z"
   },
   {
    "duration": 5,
    "start_time": "2023-09-08T07:42:56.879Z"
   },
   {
    "duration": 10,
    "start_time": "2023-09-08T07:44:37.213Z"
   },
   {
    "duration": 7,
    "start_time": "2023-09-08T07:44:37.917Z"
   },
   {
    "duration": 7,
    "start_time": "2023-09-08T07:44:38.576Z"
   },
   {
    "duration": 8,
    "start_time": "2023-09-08T07:44:39.139Z"
   },
   {
    "duration": 7,
    "start_time": "2023-09-08T07:44:39.702Z"
   },
   {
    "duration": 7,
    "start_time": "2023-09-08T07:44:40.295Z"
   },
   {
    "duration": 5,
    "start_time": "2023-09-08T07:47:45.483Z"
   },
   {
    "duration": 9,
    "start_time": "2023-09-08T07:47:54.105Z"
   },
   {
    "duration": 11,
    "start_time": "2023-09-08T07:48:02.300Z"
   },
   {
    "duration": 9,
    "start_time": "2023-09-08T07:48:42.233Z"
   },
   {
    "duration": 5,
    "start_time": "2023-09-08T07:49:08.226Z"
   },
   {
    "duration": 79,
    "start_time": "2023-09-08T07:50:30.230Z"
   },
   {
    "duration": 6,
    "start_time": "2023-09-08T07:53:22.470Z"
   },
   {
    "duration": 6,
    "start_time": "2023-09-08T07:53:25.193Z"
   },
   {
    "duration": 5,
    "start_time": "2023-09-08T07:53:25.705Z"
   },
   {
    "duration": 13,
    "start_time": "2023-09-08T07:54:33.974Z"
   },
   {
    "duration": 6,
    "start_time": "2023-09-08T07:55:50.683Z"
   },
   {
    "duration": 9,
    "start_time": "2023-09-08T07:56:20.579Z"
   },
   {
    "duration": 9,
    "start_time": "2023-09-08T07:57:17.584Z"
   },
   {
    "duration": 7,
    "start_time": "2023-09-08T07:58:41.793Z"
   },
   {
    "duration": 8,
    "start_time": "2023-09-08T07:59:07.782Z"
   },
   {
    "duration": 10,
    "start_time": "2023-09-08T07:59:50.737Z"
   },
   {
    "duration": 9,
    "start_time": "2023-09-08T08:00:58.438Z"
   },
   {
    "duration": 9,
    "start_time": "2023-09-08T08:02:22.338Z"
   },
   {
    "duration": 10,
    "start_time": "2023-09-08T08:02:42.007Z"
   },
   {
    "duration": 8,
    "start_time": "2023-09-08T08:03:07.814Z"
   },
   {
    "duration": 11,
    "start_time": "2023-09-08T08:03:59.001Z"
   },
   {
    "duration": 7,
    "start_time": "2023-09-08T08:04:33.524Z"
   },
   {
    "duration": 8,
    "start_time": "2023-09-08T08:05:40.169Z"
   },
   {
    "duration": 8,
    "start_time": "2023-09-08T08:05:57.570Z"
   },
   {
    "duration": 115,
    "start_time": "2023-09-08T08:20:07.582Z"
   },
   {
    "duration": 139,
    "start_time": "2023-09-08T08:24:05.231Z"
   },
   {
    "duration": 127,
    "start_time": "2023-09-08T08:25:07.505Z"
   },
   {
    "duration": 134,
    "start_time": "2023-09-08T08:25:42.851Z"
   },
   {
    "duration": 5,
    "start_time": "2023-09-08T08:26:24.335Z"
   },
   {
    "duration": 128,
    "start_time": "2023-09-08T08:26:45.599Z"
   },
   {
    "duration": 121,
    "start_time": "2023-09-08T08:27:01.296Z"
   },
   {
    "duration": 138,
    "start_time": "2023-09-08T08:33:19.985Z"
   },
   {
    "duration": 151,
    "start_time": "2023-09-08T08:33:36.546Z"
   },
   {
    "duration": 150,
    "start_time": "2023-09-08T08:34:00.666Z"
   },
   {
    "duration": 20,
    "start_time": "2023-09-08T08:48:08.297Z"
   },
   {
    "duration": 9,
    "start_time": "2023-09-08T08:48:37.678Z"
   },
   {
    "duration": 14,
    "start_time": "2023-09-08T08:48:53.675Z"
   },
   {
    "duration": 7,
    "start_time": "2023-09-08T08:48:59.868Z"
   },
   {
    "duration": 8,
    "start_time": "2023-09-08T08:50:05.920Z"
   },
   {
    "duration": 8,
    "start_time": "2023-09-08T08:54:55.873Z"
   },
   {
    "duration": 136,
    "start_time": "2023-09-08T08:59:17.919Z"
   },
   {
    "duration": 155,
    "start_time": "2023-09-08T08:59:29.738Z"
   },
   {
    "duration": 224,
    "start_time": "2023-09-08T08:59:47.919Z"
   },
   {
    "duration": 151,
    "start_time": "2023-09-08T09:03:17.929Z"
   },
   {
    "duration": 1486,
    "start_time": "2023-09-08T09:44:25.881Z"
   },
   {
    "duration": 1085,
    "start_time": "2023-09-08T09:51:40.471Z"
   },
   {
    "duration": 1148,
    "start_time": "2023-09-08T09:52:01.469Z"
   },
   {
    "duration": 2247,
    "start_time": "2023-09-08T09:54:19.717Z"
   },
   {
    "duration": 2182,
    "start_time": "2023-09-08T09:54:51.228Z"
   },
   {
    "duration": 3434,
    "start_time": "2023-09-08T09:56:24.530Z"
   },
   {
    "duration": 3775,
    "start_time": "2023-09-08T10:07:03.045Z"
   },
   {
    "duration": 3594,
    "start_time": "2023-09-08T10:09:05.135Z"
   },
   {
    "duration": 3580,
    "start_time": "2023-09-08T10:11:58.525Z"
   },
   {
    "duration": 3523,
    "start_time": "2023-09-08T10:12:25.478Z"
   },
   {
    "duration": 3393,
    "start_time": "2023-09-08T10:12:48.421Z"
   },
   {
    "duration": 3473,
    "start_time": "2023-09-08T10:14:45.327Z"
   },
   {
    "duration": 3434,
    "start_time": "2023-09-08T10:16:23.961Z"
   },
   {
    "duration": 3542,
    "start_time": "2023-09-08T10:16:32.562Z"
   },
   {
    "duration": 3618,
    "start_time": "2023-09-08T10:20:46.352Z"
   },
   {
    "duration": 3673,
    "start_time": "2023-09-08T10:20:59.787Z"
   },
   {
    "duration": 3680,
    "start_time": "2023-09-08T10:21:57.093Z"
   },
   {
    "duration": 3517,
    "start_time": "2023-09-08T10:22:50.959Z"
   },
   {
    "duration": 3633,
    "start_time": "2023-09-08T10:24:10.297Z"
   },
   {
    "duration": 3486,
    "start_time": "2023-09-08T10:25:41.845Z"
   },
   {
    "duration": 3656,
    "start_time": "2023-09-08T10:25:55.173Z"
   },
   {
    "duration": 3492,
    "start_time": "2023-09-08T10:26:22.237Z"
   },
   {
    "duration": 3578,
    "start_time": "2023-09-08T10:27:16.290Z"
   },
   {
    "duration": 3676,
    "start_time": "2023-09-08T10:29:13.253Z"
   },
   {
    "duration": 3836,
    "start_time": "2023-09-08T10:29:54.191Z"
   },
   {
    "duration": 3555,
    "start_time": "2023-09-08T10:31:01.461Z"
   },
   {
    "duration": 3433,
    "start_time": "2023-09-08T10:31:23.104Z"
   },
   {
    "duration": 3512,
    "start_time": "2023-09-08T10:44:46.493Z"
   },
   {
    "duration": 3420,
    "start_time": "2023-09-08T10:49:16.240Z"
   },
   {
    "duration": 3624,
    "start_time": "2023-09-08T10:49:30.835Z"
   },
   {
    "duration": 3444,
    "start_time": "2023-09-08T10:49:50.413Z"
   },
   {
    "duration": 3566,
    "start_time": "2023-09-08T10:50:03.973Z"
   },
   {
    "duration": 3414,
    "start_time": "2023-09-08T10:51:10.492Z"
   },
   {
    "duration": 52,
    "start_time": "2023-09-09T07:37:44.670Z"
   },
   {
    "duration": 1599,
    "start_time": "2023-09-09T07:37:55.501Z"
   },
   {
    "duration": 471,
    "start_time": "2023-09-09T07:37:57.102Z"
   },
   {
    "duration": 16,
    "start_time": "2023-09-09T07:37:57.575Z"
   },
   {
    "duration": 14,
    "start_time": "2023-09-09T07:37:57.593Z"
   },
   {
    "duration": 60,
    "start_time": "2023-09-09T07:37:57.609Z"
   },
   {
    "duration": 295,
    "start_time": "2023-09-09T07:37:57.671Z"
   },
   {
    "duration": 6,
    "start_time": "2023-09-09T07:37:57.968Z"
   },
   {
    "duration": 31,
    "start_time": "2023-09-09T07:37:57.975Z"
   },
   {
    "duration": 492,
    "start_time": "2023-09-09T07:37:58.007Z"
   },
   {
    "duration": 245,
    "start_time": "2023-09-09T07:37:58.502Z"
   },
   {
    "duration": 16,
    "start_time": "2023-09-09T07:37:58.748Z"
   },
   {
    "duration": 163,
    "start_time": "2023-09-09T07:37:58.765Z"
   },
   {
    "duration": 160,
    "start_time": "2023-09-09T07:37:58.930Z"
   },
   {
    "duration": 179,
    "start_time": "2023-09-09T07:37:59.093Z"
   },
   {
    "duration": 13,
    "start_time": "2023-09-09T07:37:59.274Z"
   },
   {
    "duration": 71,
    "start_time": "2023-09-09T07:37:59.289Z"
   },
   {
    "duration": 501,
    "start_time": "2023-09-09T07:37:59.362Z"
   },
   {
    "duration": 218,
    "start_time": "2023-09-09T07:37:59.865Z"
   },
   {
    "duration": 15,
    "start_time": "2023-09-09T07:38:00.085Z"
   },
   {
    "duration": 175,
    "start_time": "2023-09-09T07:38:00.102Z"
   },
   {
    "duration": 111,
    "start_time": "2023-09-09T07:38:00.279Z"
   },
   {
    "duration": 166,
    "start_time": "2023-09-09T07:38:00.392Z"
   },
   {
    "duration": 36,
    "start_time": "2023-09-09T07:38:00.559Z"
   },
   {
    "duration": 63,
    "start_time": "2023-09-09T07:38:00.597Z"
   },
   {
    "duration": 645,
    "start_time": "2023-09-09T07:38:00.661Z"
   },
   {
    "duration": 16,
    "start_time": "2023-09-09T07:38:01.308Z"
   },
   {
    "duration": 246,
    "start_time": "2023-09-09T07:38:01.326Z"
   },
   {
    "duration": 251,
    "start_time": "2023-09-09T07:38:01.575Z"
   },
   {
    "duration": 425,
    "start_time": "2023-09-09T07:38:01.829Z"
   },
   {
    "duration": 4,
    "start_time": "2023-09-09T07:38:02.256Z"
   },
   {
    "duration": 170,
    "start_time": "2023-09-09T07:38:02.262Z"
   },
   {
    "duration": 173,
    "start_time": "2023-09-09T07:38:02.434Z"
   },
   {
    "duration": 3188,
    "start_time": "2023-09-09T07:38:02.610Z"
   }
  ],
  "kernelspec": {
   "display_name": "Python 3 (ipykernel)",
   "language": "python",
   "name": "python3"
  },
  "language_info": {
   "codemirror_mode": {
    "name": "ipython",
    "version": 3
   },
   "file_extension": ".py",
   "mimetype": "text/x-python",
   "name": "python",
   "nbconvert_exporter": "python",
   "pygments_lexer": "ipython3",
   "version": "3.9.5"
  },
  "toc": {
   "base_numbering": 1,
   "nav_menu": {},
   "number_sections": true,
   "sideBar": true,
   "skip_h1_title": true,
   "title_cell": "Table of Contents",
   "title_sidebar": "Contents",
   "toc_cell": false,
   "toc_position": {},
   "toc_section_display": true,
   "toc_window_display": false
  }
 },
 "nbformat": 4,
 "nbformat_minor": 2
}
