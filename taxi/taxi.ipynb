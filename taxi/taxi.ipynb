{
 "cells": [
  {
   "cell_type": "markdown",
   "metadata": {},
   "source": [
    "   *«Никто не ждёт тебя так сильно, как таксисты в аэропортах.»*\n",
    "\n",
    "   -- Народный афоризм"
   ]
  },
  {
   "cell_type": "markdown",
   "metadata": {
    "toc": true
   },
   "source": [
    "<h1>Содержание<span class=\"tocSkip\"></span></h1>\n",
    "<div class=\"toc\"><ul class=\"toc-item\"><li><span><a href=\"#Подготовка\" data-toc-modified-id=\"Подготовка-1\"><span class=\"toc-item-num\">1&nbsp;&nbsp;</span>Подготовка</a></span></li><li><span><a href=\"#Анализ\" data-toc-modified-id=\"Анализ-2\"><span class=\"toc-item-num\">2&nbsp;&nbsp;</span>Анализ</a></span></li><li><span><a href=\"#Смелая-гипотеза\" data-toc-modified-id=\"Смелая-гипотеза-3\"><span class=\"toc-item-num\">3&nbsp;&nbsp;</span>Смелая гипотеза</a></span><ul class=\"toc-item\"><li><span><a href=\"#Обучение\" data-toc-modified-id=\"Обучение-3.1\"><span class=\"toc-item-num\">3.1&nbsp;&nbsp;</span>Обучение</a></span></li><li><span><a href=\"#Тестирование\" data-toc-modified-id=\"Тестирование-3.2\"><span class=\"toc-item-num\">3.2&nbsp;&nbsp;</span>Тестирование</a></span></li></ul></li><li><span><a href=\"#Никакая-гипотеза\" data-toc-modified-id=\"Никакая-гипотеза-4\"><span class=\"toc-item-num\">4&nbsp;&nbsp;</span>Никакая гипотеза</a></span></li><li><span><a href=\"#Обучение-моделей\" data-toc-modified-id=\"Обучение-моделей-5\"><span class=\"toc-item-num\">5&nbsp;&nbsp;</span>Обучение моделей</a></span><ul class=\"toc-item\"><li><span><a href=\"#Линейная-регрессия\" data-toc-modified-id=\"Линейная-регрессия-5.1\"><span class=\"toc-item-num\">5.1&nbsp;&nbsp;</span>Линейная регрессия</a></span></li><li><span><a href=\"#Дерево-решений\" data-toc-modified-id=\"Дерево-решений-5.2\"><span class=\"toc-item-num\">5.2&nbsp;&nbsp;</span>Дерево решений</a></span></li><li><span><a href=\"#Итог\" data-toc-modified-id=\"Итог-5.3\"><span class=\"toc-item-num\">5.3&nbsp;&nbsp;</span>Итог</a></span></li><li><span><a href=\"#Вывод\" data-toc-modified-id=\"Вывод-5.4\"><span class=\"toc-item-num\">5.4&nbsp;&nbsp;</span>Вывод</a></span></li></ul></li><li><span><a href=\"#Вывод\" data-toc-modified-id=\"Вывод-6\"><span class=\"toc-item-num\">6&nbsp;&nbsp;</span>Вывод</a></span></li><li><span><a href=\"#Чек-лист-проверки\" data-toc-modified-id=\"Чек-лист-проверки-7\"><span class=\"toc-item-num\">7&nbsp;&nbsp;</span>Чек-лист проверки</a></span></li></ul></div>"
   ]
  },
  {
   "cell_type": "markdown",
   "metadata": {},
   "source": [
    "#  Прогнозирование заказов такси"
   ]
  },
  {
   "cell_type": "markdown",
   "metadata": {},
   "source": [
    "Компания «Чётенькое такси» собрала исторические данные о заказах такси в аэропортах. Чтобы привлекать больше водителей в период пиковой нагрузки, нужно спрогнозировать количество заказов такси на следующий час. Построим модель для такого предсказания."
   ]
  },
  {
   "cell_type": "markdown",
   "metadata": {},
   "source": [
    "## Подготовка"
   ]
  },
  {
   "cell_type": "code",
   "execution_count": 1,
   "metadata": {},
   "outputs": [],
   "source": [
    "import numpy as np\n",
    "import pandas as pd\n",
    "from sklearn.linear_model import LinearRegression\n",
    "from sklearn import tree\n",
    "from statsmodels.tsa.seasonal import seasonal_decompose\n",
    "from sklearn.model_selection import train_test_split\n",
    "from sklearn.metrics import mean_squared_error"
   ]
  },
  {
   "cell_type": "code",
   "execution_count": 2,
   "metadata": {},
   "outputs": [],
   "source": [
    "data = pd.read_csv('/datasets/taxi.csv')"
   ]
  },
  {
   "cell_type": "markdown",
   "metadata": {},
   "source": [
    "Посмотрим на загружаемые данные."
   ]
  },
  {
   "cell_type": "code",
   "execution_count": 3,
   "metadata": {
    "scrolled": true
   },
   "outputs": [
    {
     "data": {
      "text/html": [
       "<div>\n",
       "<style scoped>\n",
       "    .dataframe tbody tr th:only-of-type {\n",
       "        vertical-align: middle;\n",
       "    }\n",
       "\n",
       "    .dataframe tbody tr th {\n",
       "        vertical-align: top;\n",
       "    }\n",
       "\n",
       "    .dataframe thead th {\n",
       "        text-align: right;\n",
       "    }\n",
       "</style>\n",
       "<table border=\"1\" class=\"dataframe\">\n",
       "  <thead>\n",
       "    <tr style=\"text-align: right;\">\n",
       "      <th></th>\n",
       "      <th>datetime</th>\n",
       "      <th>num_orders</th>\n",
       "    </tr>\n",
       "  </thead>\n",
       "  <tbody>\n",
       "    <tr>\n",
       "      <th>0</th>\n",
       "      <td>2018-03-01 00:00:00</td>\n",
       "      <td>9</td>\n",
       "    </tr>\n",
       "    <tr>\n",
       "      <th>1</th>\n",
       "      <td>2018-03-01 00:10:00</td>\n",
       "      <td>14</td>\n",
       "    </tr>\n",
       "    <tr>\n",
       "      <th>2</th>\n",
       "      <td>2018-03-01 00:20:00</td>\n",
       "      <td>28</td>\n",
       "    </tr>\n",
       "    <tr>\n",
       "      <th>3</th>\n",
       "      <td>2018-03-01 00:30:00</td>\n",
       "      <td>20</td>\n",
       "    </tr>\n",
       "    <tr>\n",
       "      <th>4</th>\n",
       "      <td>2018-03-01 00:40:00</td>\n",
       "      <td>32</td>\n",
       "    </tr>\n",
       "    <tr>\n",
       "      <th>5</th>\n",
       "      <td>2018-03-01 00:50:00</td>\n",
       "      <td>21</td>\n",
       "    </tr>\n",
       "    <tr>\n",
       "      <th>6</th>\n",
       "      <td>2018-03-01 01:00:00</td>\n",
       "      <td>7</td>\n",
       "    </tr>\n",
       "    <tr>\n",
       "      <th>7</th>\n",
       "      <td>2018-03-01 01:10:00</td>\n",
       "      <td>5</td>\n",
       "    </tr>\n",
       "    <tr>\n",
       "      <th>8</th>\n",
       "      <td>2018-03-01 01:20:00</td>\n",
       "      <td>17</td>\n",
       "    </tr>\n",
       "    <tr>\n",
       "      <th>9</th>\n",
       "      <td>2018-03-01 01:30:00</td>\n",
       "      <td>12</td>\n",
       "    </tr>\n",
       "  </tbody>\n",
       "</table>\n",
       "</div>"
      ],
      "text/plain": [
       "              datetime  num_orders\n",
       "0  2018-03-01 00:00:00           9\n",
       "1  2018-03-01 00:10:00          14\n",
       "2  2018-03-01 00:20:00          28\n",
       "3  2018-03-01 00:30:00          20\n",
       "4  2018-03-01 00:40:00          32\n",
       "5  2018-03-01 00:50:00          21\n",
       "6  2018-03-01 01:00:00           7\n",
       "7  2018-03-01 01:10:00           5\n",
       "8  2018-03-01 01:20:00          17\n",
       "9  2018-03-01 01:30:00          12"
      ]
     },
     "execution_count": 3,
     "metadata": {},
     "output_type": "execute_result"
    }
   ],
   "source": [
    "data.head(10)"
   ]
  },
  {
   "cell_type": "markdown",
   "metadata": {},
   "source": [
    "Переведём информацию о дате в более удобный формат и установим нужный столбец в индекс."
   ]
  },
  {
   "cell_type": "code",
   "execution_count": 4,
   "metadata": {},
   "outputs": [],
   "source": [
    "data['datetime'] = pd.to_datetime(\n",
    "    data['datetime'], format='%Y-%m-%d %H:%M:%S'\n",
    ")\n",
    "\n",
    "data = data.set_index('datetime')"
   ]
  },
  {
   "cell_type": "markdown",
   "metadata": {},
   "source": [
    "Данные расположены в хронологическом порятке."
   ]
  },
  {
   "cell_type": "code",
   "execution_count": 5,
   "metadata": {},
   "outputs": [
    {
     "data": {
      "text/plain": [
       "True"
      ]
     },
     "execution_count": 5,
     "metadata": {},
     "output_type": "execute_result"
    }
   ],
   "source": [
    "data.index.is_monotonic"
   ]
  },
  {
   "cell_type": "code",
   "execution_count": 6,
   "metadata": {},
   "outputs": [],
   "source": [
    "data1h = data.resample('1H').sum()"
   ]
  },
  {
   "cell_type": "markdown",
   "metadata": {},
   "source": [
    "Кроме того можем посмотреть на полную информацию по данным."
   ]
  },
  {
   "cell_type": "code",
   "execution_count": 7,
   "metadata": {},
   "outputs": [
    {
     "name": "stdout",
     "output_type": "stream",
     "text": [
      "<class 'pandas.core.frame.DataFrame'>\n",
      "DatetimeIndex: 26496 entries, 2018-03-01 00:00:00 to 2018-08-31 23:50:00\n",
      "Data columns (total 1 columns):\n",
      " #   Column      Non-Null Count  Dtype\n",
      "---  ------      --------------  -----\n",
      " 0   num_orders  26496 non-null  int64\n",
      "dtypes: int64(1)\n",
      "memory usage: 414.0 KB\n"
     ]
    }
   ],
   "source": [
    "data.info()"
   ]
  },
  {
   "cell_type": "markdown",
   "metadata": {},
   "source": [
    "## Анализ"
   ]
  },
  {
   "cell_type": "markdown",
   "metadata": {},
   "source": [
    "Разделим временные данные предоставляемые графиком на сезонные, тред и шум. Сезонная составляющая графика демонстрирует некоторую зависимость от времени с периодом в один день."
   ]
  },
  {
   "cell_type": "code",
   "execution_count": 8,
   "metadata": {},
   "outputs": [
    {
     "data": {
      "text/plain": [
       "<AxesSubplot:xlabel='datetime'>"
      ]
     },
     "execution_count": 8,
     "metadata": {},
     "output_type": "execute_result"
    },
    {
     "data": {
      "image/png": "[encoded data removed]",
      "text/plain": [
       "<Figure size 432x288 with 1 Axes>"
      ]
     },
     "metadata": {
      "needs_background": "light"
     },
     "output_type": "display_data"
    }
   ],
   "source": [
    "de1h = seasonal_decompose(data1h)\n",
    "#de1h.trend.plot()\n",
    "de1h.seasonal['2018-08-01':'2018-08-04'].plot()\n",
    "#de1h.resid.plot()"
   ]
  },
  {
   "cell_type": "markdown",
   "metadata": {},
   "source": [
    "В то время как график тренда похож на динамику изменения среднего за сутки (по скользящему среднему)."
   ]
  },
  {
   "cell_type": "code",
   "execution_count": 9,
   "metadata": {},
   "outputs": [
    {
     "data": {
      "text/plain": [
       "<AxesSubplot:xlabel='datetime'>"
      ]
     },
     "execution_count": 9,
     "metadata": {},
     "output_type": "execute_result"
    },
    {
     "data": {
      "image/png": "[encoded data removed]",
      "text/plain": [
       "<Figure size 432x288 with 1 Axes>"
      ]
     },
     "metadata": {
      "needs_background": "light"
     },
     "output_type": "display_data"
    },
    {
     "data": {
      "image/png": "[encoded data removed]",
      "text/plain": [
       "<Figure size 432x288 with 1 Axes>"
      ]
     },
     "metadata": {
      "needs_background": "light"
     },
     "output_type": "display_data"
    }
   ],
   "source": [
    "de1h = seasonal_decompose(data1h)\n",
    "de1h.trend.plot()\n",
    "#de1h.seasonal['2018-08-01':'2018-08-04'].plot()\n",
    "#de1h.resid.plot()\n",
    "data1h.rolling(24).mean().plot()"
   ]
  },
  {
   "cell_type": "markdown",
   "metadata": {},
   "source": [
    "Кроме того, можно показать периодическую структуру сезонности на больших масштабах, это позволит нам сильнее убедиться в её периодической структуре. Месяц сезонности выглядит так:"
   ]
  },
  {
   "cell_type": "code",
   "execution_count": 10,
   "metadata": {},
   "outputs": [
    {
     "data": {
      "text/plain": [
       "<AxesSubplot:xlabel='datetime'>"
      ]
     },
     "execution_count": 10,
     "metadata": {},
     "output_type": "execute_result"
    },
    {
     "data": {
      "image/png": "[encoded data removed]",
      "text/plain": [
       "<Figure size 432x288 with 1 Axes>"
      ]
     },
     "metadata": {
      "needs_background": "light"
     },
     "output_type": "display_data"
    }
   ],
   "source": [
    "de1h = seasonal_decompose(data1h)\n",
    "#de1h.trend.plot()\n",
    "de1h.seasonal['2018-08':'2018-09'].plot()\n",
    "#de1h.resid.plot()"
   ]
  },
  {
   "cell_type": "markdown",
   "metadata": {},
   "source": [
    "При этом неделя сезонности выглядит так:"
   ]
  },
  {
   "cell_type": "code",
   "execution_count": 11,
   "metadata": {},
   "outputs": [
    {
     "data": {
      "text/plain": [
       "<AxesSubplot:xlabel='datetime'>"
      ]
     },
     "execution_count": 11,
     "metadata": {},
     "output_type": "execute_result"
    },
    {
     "data": {
      "image/png": "[encoded data removed]",
      "text/plain": [
       "<Figure size 432x288 with 1 Axes>"
      ]
     },
     "metadata": {
      "needs_background": "light"
     },
     "output_type": "display_data"
    }
   ],
   "source": [
    "de1h = seasonal_decompose(data1h)\n",
    "#de1h.trend.plot()\n",
    "de1h.seasonal['2018-08-01':'2018-08-07'].plot()\n",
    "#de1h.resid.plot()"
   ]
  },
  {
   "cell_type": "markdown",
   "metadata": {},
   "source": [
    "## Смелая гипотеза"
   ]
  },
  {
   "cell_type": "markdown",
   "metadata": {},
   "source": [
    "Предположим, что для того чтобы предсказать количество заказов такси на следующий день в каждый час нужно взять среднее количество заказов по часам за предыдущий день и прибавить к нему сезонную составляющую за соответсвующий час. Проверим данную смелую гипотезу, подготовив соответсвующие выборки и узнав среднеквадратичную ошибку."
   ]
  },
  {
   "cell_type": "markdown",
   "metadata": {},
   "source": [
    "### Обучение"
   ]
  },
  {
   "cell_type": "markdown",
   "metadata": {},
   "source": [
    "Предскажем следующее значение среднего количества заказов за день по предыдущему для тренировочной выборки."
   ]
  },
  {
   "cell_type": "code",
   "execution_count": 12,
   "metadata": {},
   "outputs": [
    {
     "name": "stdout",
     "output_type": "stream",
     "text": [
      "RMSE: 1.5960015071264109\n"
     ]
    }
   ],
   "source": [
    "#trend = de1h.trend.dropna()\n",
    "#sesonal = de1h.seasonal[de1h.trend.dropna().index.min():de1h.trend.dropna().index.max()]\n",
    "trend = data.resample('1D').mean().reset_index(drop=True)\n",
    "sesonal_min = de1h.seasonal['2018-08-01'].reset_index(drop=True) # насколько я понимаю, нас устроит любой день\n",
    "\n",
    "train, test = train_test_split(trend, shuffle=False, test_size=0.1)\n",
    "# train: 2018-03-02 -- 2018-08-12\n",
    "# test: 2018-08-13 -- 2018-08-31\n",
    "\n",
    "pred = train.shift()\n",
    "\n",
    "pred = pred.iloc[1:].reset_index(drop=True)\n",
    "train = train.iloc[1:].reset_index(drop=True)\n",
    "print(\"RMSE:\", mean_squared_error(pred, train) ** 0.5)"
   ]
  },
  {
   "cell_type": "markdown",
   "metadata": {},
   "source": [
    "Добавим к среднему значению сезонную составляющую."
   ]
  },
  {
   "cell_type": "code",
   "execution_count": 13,
   "metadata": {},
   "outputs": [
    {
     "name": "stdout",
     "output_type": "stream",
     "text": [
      "RMSE: 1.5960015071264109\n"
     ]
    }
   ],
   "source": [
    "def to24_plusperiod(a,p):\n",
    "    b = []\n",
    "    for i in a['num_orders']:\n",
    "        for j in range(0,24):\n",
    "            b.append(i + p[j])\n",
    "    q = { # тут этот промежуток времени как-нибудь автоматически бы вычислять\n",
    "        'datetime' : data.resample('1H').mean()['2018-03-02':'2018-08-12'].reset_index()['datetime'],\n",
    "        'num_orders' : b\n",
    "        }\n",
    "    return pd.DataFrame(q).set_index('datetime')\n",
    "\n",
    "\n",
    "pred24 = to24_plusperiod(pred,sesonal_min)\n",
    "train24 = to24_plusperiod(train,sesonal_min)\n",
    "print(\"RMSE:\", mean_squared_error(pred24, train24) ** 0.5)"
   ]
  },
  {
   "cell_type": "markdown",
   "metadata": {},
   "source": [
    "### Тестирование"
   ]
  },
  {
   "cell_type": "markdown",
   "metadata": {},
   "source": [
    "Проделаем ту же процедуру с тестовой выборкой найдём среднее количество заказаов за день."
   ]
  },
  {
   "cell_type": "code",
   "execution_count": 14,
   "metadata": {},
   "outputs": [
    {
     "name": "stdout",
     "output_type": "stream",
     "text": [
      "RMSE: 2.9819491940300513\n"
     ]
    }
   ],
   "source": [
    "pred = test.shift()\n",
    "\n",
    "pred.iloc[0] = train.tail(1) # есть в тренировочной выборке\n",
    "pred = pred.reset_index(drop=True)\n",
    "test = test.reset_index(drop=True)\n",
    "print(\"RMSE:\", mean_squared_error(pred, test) ** 0.5)"
   ]
  },
  {
   "cell_type": "markdown",
   "metadata": {},
   "source": [
    "Добавим к этим значениям сезонную составляющую."
   ]
  },
  {
   "cell_type": "code",
   "execution_count": 15,
   "metadata": {},
   "outputs": [
    {
     "name": "stdout",
     "output_type": "stream",
     "text": [
      "RMSE: 2.981949194030052\n"
     ]
    }
   ],
   "source": [
    "def to24_plusperiod(a,p):\n",
    "    b = []\n",
    "    for i in a['num_orders']:\n",
    "        for j in range(0,24):\n",
    "            b.append(i + p[j])\n",
    "    q = { # тут этот промежуток времени как-нибудь автоматически бы вычислять\n",
    "        'datetime' : data.resample('1H').mean()['2018-08-13':'2018-08-31'].reset_index()['datetime'],\n",
    "        'num_orders' : b\n",
    "        }\n",
    "    return pd.DataFrame(q).set_index('datetime')\n",
    "\n",
    "\n",
    "pred24 = to24_plusperiod(pred,sesonal_min)\n",
    "test24 = to24_plusperiod(test,sesonal_min)\n",
    "print(\"RMSE:\", mean_squared_error(pred24, test24) ** 0.5)"
   ]
  },
  {
   "cell_type": "markdown",
   "metadata": {},
   "source": [
    "## Никакая гипотеза"
   ]
  },
  {
   "cell_type": "markdown",
   "metadata": {},
   "source": [
    "Проверим среднеквадратичное отклонени при применении метода, описанного в смелой гипотезе, но без вычесления среднего по дням."
   ]
  },
  {
   "cell_type": "code",
   "execution_count": 16,
   "metadata": {},
   "outputs": [
    {
     "name": "stdout",
     "output_type": "stream",
     "text": [
      "RMSE: 36.1452484171318\n"
     ]
    }
   ],
   "source": [
    "##trend = de1h.trend.dropna()\n",
    "##sesonal = de1h.seasonal[de1h.trend.dropna().index.min():de1h.trend.dropna().index.max()]\n",
    "train, test = train_test_split(data1h, shuffle=False, test_size=0.1)\n",
    "\n",
    "pred = train.shift()\n",
    "\n",
    "pred = pred.iloc[1:].reset_index(drop=True)\n",
    "train = train.iloc[1:].reset_index(drop=True)\n",
    "print(\"RMSE:\", mean_squared_error(pred, train) ** 0.5)"
   ]
  },
  {
   "cell_type": "markdown",
   "metadata": {},
   "source": [
    "Результат оставляет желать лучшего."
   ]
  },
  {
   "cell_type": "markdown",
   "metadata": {},
   "source": [
    "## Обучение моделей"
   ]
  },
  {
   "cell_type": "markdown",
   "metadata": {},
   "source": [
    "Обучим ряд моделей, подготовив для них необходимые признаки. Найдём лучшую модель, узнав среднеквадратичную ошибку полученых на этапе обучения предсказаний."
   ]
  },
  {
   "cell_type": "markdown",
   "metadata": {},
   "source": [
    "### Линейная регрессия"
   ]
  },
  {
   "cell_type": "markdown",
   "metadata": {},
   "source": [
    "Начнём с модели линейной регрессии."
   ]
  },
  {
   "cell_type": "code",
   "execution_count": 17,
   "metadata": {},
   "outputs": [
    {
     "name": "stdout",
     "output_type": "stream",
     "text": [
      "20 1\n",
      "20 2\n",
      "20 3\n"
     ]
    },
    {
     "name": "stderr",
     "output_type": "stream",
     "text": [
      "/tmp/ipykernel_123/1182562633.py:2: SettingWithCopyWarning: \n",
      "A value is trying to be set on a copy of a slice from a DataFrame.\n",
      "Try using .loc[row_indexer,col_indexer] = value instead\n",
      "\n",
      "See the caveats in the documentation: https://pandas.pydata.org/pandas-docs/stable/user_guide/indexing.html#returning-a-view-versus-a-copy\n",
      "  df['month'] = df.index.month\n",
      "/tmp/ipykernel_123/1182562633.py:3: SettingWithCopyWarning: \n",
      "A value is trying to be set on a copy of a slice from a DataFrame.\n",
      "Try using .loc[row_indexer,col_indexer] = value instead\n",
      "\n",
      "See the caveats in the documentation: https://pandas.pydata.org/pandas-docs/stable/user_guide/indexing.html#returning-a-view-versus-a-copy\n",
      "  df['day'] = df.index.day\n",
      "/tmp/ipykernel_123/1182562633.py:4: SettingWithCopyWarning: \n",
      "A value is trying to be set on a copy of a slice from a DataFrame.\n",
      "Try using .loc[row_indexer,col_indexer] = value instead\n",
      "\n",
      "See the caveats in the documentation: https://pandas.pydata.org/pandas-docs/stable/user_guide/indexing.html#returning-a-view-versus-a-copy\n",
      "  df['dayofweek'] = df.index.dayofweek\n",
      "/tmp/ipykernel_123/1182562633.py:7: SettingWithCopyWarning: \n",
      "A value is trying to be set on a copy of a slice from a DataFrame.\n",
      "Try using .loc[row_indexer,col_indexer] = value instead\n",
      "\n",
      "See the caveats in the documentation: https://pandas.pydata.org/pandas-docs/stable/user_guide/indexing.html#returning-a-view-versus-a-copy\n",
      "  df['lag_{}'.format(lag)] = df['num_orders'].shift(lag)\n",
      "/tmp/ipykernel_123/1182562633.py:9: SettingWithCopyWarning: \n",
      "A value is trying to be set on a copy of a slice from a DataFrame.\n",
      "Try using .loc[row_indexer,col_indexer] = value instead\n",
      "\n",
      "See the caveats in the documentation: https://pandas.pydata.org/pandas-docs/stable/user_guide/indexing.html#returning-a-view-versus-a-copy\n",
      "  df['roll'] = df['num_orders'].shift().rolling(rolling_mean_size).mean()\n"
     ]
    },
    {
     "name": "stdout",
     "output_type": "stream",
     "text": [
      "20 4\n",
      "20 5\n",
      "20 6\n",
      "20 7\n",
      "21 1\n",
      "21 2\n",
      "21 3\n",
      "21 4\n",
      "21 5\n",
      "21 6\n",
      "21 7\n",
      "22 1\n",
      "22 2\n",
      "22 3\n",
      "22 4\n",
      "22 5\n",
      "22 6\n",
      "22 7\n",
      "23 1\n",
      "23 2\n",
      "23 3\n",
      "23 4\n",
      "23 5\n",
      "23 6\n",
      "23 7\n",
      "24 1\n",
      "24 2\n",
      "24 3\n",
      "24 4\n",
      "24 5\n",
      "24 6\n",
      "24 7\n",
      "25 1\n",
      "25 2\n",
      "25 3\n",
      "25 4\n",
      "25 5\n",
      "25 6\n",
      "25 7\n",
      "best\n",
      "RMSE: 36.08091780964268\n",
      "i: 25\n",
      "j: 7\n"
     ]
    }
   ],
   "source": [
    "def make_features(df, max_lag, rolling_mean_size):\n",
    "    df['month'] = df.index.month\n",
    "    df['day'] = df.index.day\n",
    "    df['dayofweek'] = df.index.dayofweek\n",
    "    \n",
    "    for lag in range(1, max_lag + 1):\n",
    "        df['lag_{}'.format(lag)] = df['num_orders'].shift(lag)\n",
    "\n",
    "    df['roll'] = df['num_orders'].shift().rolling(rolling_mean_size).mean() \n",
    "\n",
    "rr = 48\n",
    "data1ht = data1h\n",
    "for (i,j) in [(i,j) for i in range(20,26) for j in range(1,8)]:\n",
    "    print(i,j)\n",
    "    make_features(data1ht, i, j)\n",
    "    data1ht = data1ht.dropna()\n",
    "\n",
    "    f = data1ht.drop('num_orders', axis=1)\n",
    "    t = data1ht['num_orders']\n",
    "\n",
    "    # разбиение признаков\n",
    "    f_trn, f_vld, f_tst = \\\n",
    "              np.split(f, # насколько я могу понять тут не нужно перемешивать\n",
    "                       [int(.8*len(f)), int(.9*len(f))])\n",
    "\n",
    "    # разбиение целевого признака\n",
    "    t_trn, t_vld, t_tst = \\\n",
    "              np.split(t, # насколько я могу понять тут не нужно перемешивать\n",
    "                       [int(.8*len(t)), int(.9*len(t))])\n",
    "\n",
    "    model = LinearRegression()\n",
    "    model.fit(f_trn, t_trn)\n",
    "    pred = model.predict(f_vld)\n",
    "    \n",
    "    r = mean_squared_error(pred,t_vld) ** 0.5\n",
    "    if (r < rr):\n",
    "        rr = r\n",
    "        mm = model\n",
    "        iir = i\n",
    "        jjr = j\n",
    "\n",
    "print(\"best\\nRMSE: \" + str(rr) + \"\\ni: \" + str(i) + \"\\nj: \" + str(j))"
   ]
  },
  {
   "cell_type": "markdown",
   "metadata": {},
   "source": [
    "Проверим модель на тестовых данных. Выведем название модели."
   ]
  },
  {
   "cell_type": "code",
   "execution_count": 18,
   "metadata": {},
   "outputs": [
    {
     "name": "stdout",
     "output_type": "stream",
     "text": [
      "Название модели: LinearRegression()\n",
      "RMSE: 46.17282778300395\n"
     ]
    }
   ],
   "source": [
    "data1ht = data1h\n",
    "make_features(data1ht, iir, jjr)\n",
    "data1ht = data1ht.dropna()\n",
    "\n",
    "f = data1ht.drop('num_orders', axis=1)\n",
    "t = data1ht['num_orders']\n",
    "\n",
    "# разбиение признаков\n",
    "f_trn, f_vld, f_tst = \\\n",
    "              np.split(f, # насколько я могу понять тут не нужно перемешивать\n",
    "                       [int(.8*len(f)), int(.9*len(f))])\n",
    "\n",
    "# разбиение целевого признака\n",
    "t_trn, t_vld, t_tst = \\\n",
    "              np.split(t, # насколько я могу понять тут не нужно перемешивать\n",
    "                       [int(.8*len(t)), int(.9*len(t))])\n",
    "\n",
    "mm.fit(f_trn, t_trn)\n",
    "pred = mm.predict(f_tst)\n",
    "\n",
    "bmlr = mm \n",
    "print(\"Название модели:\", str(bmlr))\n",
    "print(\"RMSE:\", mean_squared_error(pred,t_tst) ** 0.5)"
   ]
  },
  {
   "cell_type": "markdown",
   "metadata": {},
   "source": [
    "### Дерево решений"
   ]
  },
  {
   "cell_type": "code",
   "execution_count": 19,
   "metadata": {},
   "outputs": [
    {
     "name": "stdout",
     "output_type": "stream",
     "text": [
      "20 1 1 1\n",
      "20 1 1 2\n",
      "20 1 1 3\n",
      "20 1 2 1\n",
      "20 1 2 2\n",
      "20 1 2 3\n",
      "20 1 3 1\n",
      "20 1 3 2\n",
      "20 1 3 3\n",
      "20 2 1 1\n"
     ]
    },
    {
     "name": "stderr",
     "output_type": "stream",
     "text": [
      "/tmp/ipykernel_123/1757542226.py:2: SettingWithCopyWarning: \n",
      "A value is trying to be set on a copy of a slice from a DataFrame.\n",
      "Try using .loc[row_indexer,col_indexer] = value instead\n",
      "\n",
      "See the caveats in the documentation: https://pandas.pydata.org/pandas-docs/stable/user_guide/indexing.html#returning-a-view-versus-a-copy\n",
      "  df['month'] = df.index.month\n",
      "/tmp/ipykernel_123/1757542226.py:3: SettingWithCopyWarning: \n",
      "A value is trying to be set on a copy of a slice from a DataFrame.\n",
      "Try using .loc[row_indexer,col_indexer] = value instead\n",
      "\n",
      "See the caveats in the documentation: https://pandas.pydata.org/pandas-docs/stable/user_guide/indexing.html#returning-a-view-versus-a-copy\n",
      "  df['day'] = df.index.day\n",
      "/tmp/ipykernel_123/1757542226.py:4: SettingWithCopyWarning: \n",
      "A value is trying to be set on a copy of a slice from a DataFrame.\n",
      "Try using .loc[row_indexer,col_indexer] = value instead\n",
      "\n",
      "See the caveats in the documentation: https://pandas.pydata.org/pandas-docs/stable/user_guide/indexing.html#returning-a-view-versus-a-copy\n",
      "  df['dayofweek'] = df.index.dayofweek\n",
      "/tmp/ipykernel_123/1757542226.py:7: SettingWithCopyWarning: \n",
      "A value is trying to be set on a copy of a slice from a DataFrame.\n",
      "Try using .loc[row_indexer,col_indexer] = value instead\n",
      "\n",
      "See the caveats in the documentation: https://pandas.pydata.org/pandas-docs/stable/user_guide/indexing.html#returning-a-view-versus-a-copy\n",
      "  df['lag_{}'.format(lag)] = df['num_orders'].shift(lag)\n",
      "/tmp/ipykernel_123/1757542226.py:9: SettingWithCopyWarning: \n",
      "A value is trying to be set on a copy of a slice from a DataFrame.\n",
      "Try using .loc[row_indexer,col_indexer] = value instead\n",
      "\n",
      "See the caveats in the documentation: https://pandas.pydata.org/pandas-docs/stable/user_guide/indexing.html#returning-a-view-versus-a-copy\n",
      "  df['roll'] = df['num_orders'].shift().rolling(rolling_mean_size).mean()\n"
     ]
    },
    {
     "name": "stdout",
     "output_type": "stream",
     "text": [
      "20 2 1 2\n",
      "20 2 1 3\n",
      "20 2 2 1\n",
      "20 2 2 2\n",
      "20 2 2 3\n",
      "20 2 3 1\n",
      "20 2 3 2\n",
      "20 2 3 3\n",
      "20 3 1 1\n",
      "20 3 1 2\n",
      "20 3 1 3\n",
      "20 3 2 1\n",
      "20 3 2 2\n",
      "20 3 2 3\n",
      "20 3 3 1\n",
      "20 3 3 2\n",
      "20 3 3 3\n",
      "21 1 1 1\n",
      "21 1 1 2\n",
      "21 1 1 3\n",
      "21 1 2 1\n",
      "21 1 2 2\n",
      "21 1 2 3\n",
      "21 1 3 1\n",
      "21 1 3 2\n",
      "21 1 3 3\n",
      "21 2 1 1\n",
      "21 2 1 2\n",
      "21 2 1 3\n",
      "21 2 2 1\n",
      "21 2 2 2\n",
      "21 2 2 3\n",
      "21 2 3 1\n",
      "21 2 3 2\n",
      "21 2 3 3\n",
      "21 3 1 1\n",
      "21 3 1 2\n",
      "21 3 1 3\n",
      "21 3 2 1\n",
      "21 3 2 2\n",
      "21 3 2 3\n",
      "21 3 3 1\n",
      "21 3 3 2\n",
      "21 3 3 3\n",
      "22 1 1 1\n",
      "22 1 1 2\n",
      "22 1 1 3\n",
      "22 1 2 1\n",
      "22 1 2 2\n",
      "22 1 2 3\n",
      "22 1 3 1\n",
      "22 1 3 2\n",
      "22 1 3 3\n",
      "22 2 1 1\n",
      "22 2 1 2\n",
      "22 2 1 3\n",
      "22 2 2 1\n",
      "22 2 2 2\n",
      "22 2 2 3\n",
      "22 2 3 1\n",
      "22 2 3 2\n",
      "22 2 3 3\n",
      "22 3 1 1\n",
      "22 3 1 2\n",
      "22 3 1 3\n",
      "22 3 2 1\n",
      "22 3 2 2\n",
      "22 3 2 3\n",
      "22 3 3 1\n",
      "22 3 3 2\n",
      "22 3 3 3\n",
      "23 1 1 1\n",
      "23 1 1 2\n",
      "23 1 1 3\n",
      "23 1 2 1\n",
      "23 1 2 2\n",
      "23 1 2 3\n",
      "23 1 3 1\n",
      "23 1 3 2\n",
      "23 1 3 3\n",
      "23 2 1 1\n",
      "23 2 1 2\n",
      "23 2 1 3\n",
      "23 2 2 1\n",
      "23 2 2 2\n",
      "23 2 2 3\n",
      "23 2 3 1\n",
      "23 2 3 2\n",
      "23 2 3 3\n",
      "23 3 1 1\n",
      "23 3 1 2\n",
      "23 3 1 3\n",
      "23 3 2 1\n",
      "23 3 2 2\n",
      "23 3 2 3\n",
      "23 3 3 1\n",
      "23 3 3 2\n",
      "23 3 3 3\n",
      "24 1 1 1\n",
      "24 1 1 2\n",
      "24 1 1 3\n",
      "24 1 2 1\n",
      "24 1 2 2\n",
      "24 1 2 3\n",
      "24 1 3 1\n",
      "24 1 3 2\n",
      "24 1 3 3\n",
      "24 2 1 1\n",
      "24 2 1 2\n",
      "24 2 1 3\n",
      "24 2 2 1\n",
      "24 2 2 2\n",
      "24 2 2 3\n",
      "24 2 3 1\n",
      "24 2 3 2\n",
      "24 2 3 3\n",
      "24 3 1 1\n",
      "24 3 1 2\n",
      "24 3 1 3\n",
      "24 3 2 1\n",
      "24 3 2 2\n",
      "24 3 2 3\n",
      "24 3 3 1\n",
      "24 3 3 2\n",
      "24 3 3 3\n",
      "25 1 1 1\n",
      "25 1 1 2\n",
      "25 1 1 3\n",
      "25 1 2 1\n",
      "25 1 2 2\n",
      "25 1 2 3\n",
      "25 1 3 1\n",
      "25 1 3 2\n",
      "25 1 3 3\n",
      "25 2 1 1\n",
      "25 2 1 2\n",
      "25 2 1 3\n",
      "25 2 2 1\n",
      "25 2 2 2\n",
      "25 2 2 3\n",
      "25 2 3 1\n",
      "25 2 3 2\n",
      "25 2 3 3\n",
      "25 3 1 1\n",
      "25 3 1 2\n",
      "25 3 1 3\n",
      "25 3 2 1\n",
      "25 3 2 2\n",
      "25 3 2 3\n",
      "25 3 3 1\n",
      "25 3 3 2\n",
      "25 3 3 3\n",
      "best\n",
      "RMSE: 41.2136885358697\n",
      "i: 25\n",
      "j: 3\n"
     ]
    }
   ],
   "source": [
    "def make_features(df, max_lag, rolling_mean_size):\n",
    "    df['month'] = df.index.month\n",
    "    df['day'] = df.index.day\n",
    "    df['dayofweek'] = df.index.dayofweek\n",
    "    \n",
    "    for lag in range(1, max_lag + 1):\n",
    "        df['lag_{}'.format(lag)] = df['num_orders'].shift(lag)\n",
    "\n",
    "    df['roll'] = df['num_orders'].shift().rolling(rolling_mean_size).mean() \n",
    "\n",
    "rr = 100000\n",
    "data1ht = data1h\n",
    "for (i,j,k,p) in [(i,j,k,p) for i in range(20,26) for j in range(1,4) for k in range(1,4) for p in range(1,4)]:\n",
    "    print(i,j,k,p)\n",
    "    make_features(data1ht, i, j)\n",
    "    data1ht = data1ht.dropna()\n",
    "\n",
    "    f = data1ht.drop('num_orders', axis=1)\n",
    "    t = data1ht['num_orders']\n",
    "\n",
    "    # разбиение признаков\n",
    "    f_trn, f_vld, f_tst = \\\n",
    "              np.split(f, # насколько я могу понять тут не нужно перемешивать\n",
    "                       [int(.8*len(f)), int(.9*len(f))])\n",
    "\n",
    "    # разбиение целевого признака\n",
    "    t_trn, t_vld, t_tst = \\\n",
    "              np.split(t, # насколько я могу понять тут не нужно перемешивать\n",
    "                       [int(.8*len(t)), int(.9*len(t))])\n",
    "\n",
    "    model = tree.DecisionTreeRegressor(max_depth=k, min_samples_leaf=p) # ПОСМОТРИ СЮДА, Я ТЕБЯ ОЧЕНЬ ПРОШУ\n",
    "    model.fit(f_trn, t_trn)\n",
    "    pred = model.predict(f_vld)\n",
    "    \n",
    "    r = mean_squared_error(pred,t_vld) ** 0.5\n",
    "    if (r < rr):\n",
    "        rr = r\n",
    "        mm = model\n",
    "        iid = i\n",
    "        jjd = j\n",
    "\n",
    "print(\"best\\nRMSE: \" + str(rr) + \"\\ni: \" + str(i) + \"\\nj: \" + str(j))"
   ]
  },
  {
   "cell_type": "markdown",
   "metadata": {},
   "source": [
    "Проверим модель на тестовых данных. Выведем название модели."
   ]
  },
  {
   "cell_type": "code",
   "execution_count": 20,
   "metadata": {},
   "outputs": [
    {
     "name": "stdout",
     "output_type": "stream",
     "text": [
      "Название модели: DecisionTreeRegressor(max_depth=3)\n",
      "RMSE: 63.4866267854205\n"
     ]
    }
   ],
   "source": [
    "data1ht = data1h\n",
    "make_features(data1ht, iid, jjd)\n",
    "data1ht = data1ht.dropna()\n",
    "\n",
    "f = data1ht.drop('num_orders', axis=1)\n",
    "t = data1ht['num_orders']\n",
    "\n",
    "# разбиение признаков\n",
    "f_trn, f_vld, f_tst = \\\n",
    "              np.split(f, # насколько я могу понять тут не нужно перемешивать\n",
    "                       [int(.8*len(f)), int(.9*len(f))])\n",
    "\n",
    "# разбиение целевого признака\n",
    "t_trn, t_vld, t_tst = \\\n",
    "              np.split(t, # насколько я могу понять тут не нужно перемешивать\n",
    "                       [int(.8*len(t)), int(.9*len(t))])\n",
    "\n",
    "mm.fit(f_trn, t_trn)\n",
    "pred = mm.predict(f_tst)\n",
    "\n",
    "bmtr = mm \n",
    "print(\"Название модели:\", str(bmtr))\n",
    "print(\"RMSE:\", mean_squared_error(pred,t_tst) ** 0.5)"
   ]
  },
  {
   "cell_type": "markdown",
   "metadata": {},
   "source": [
    "### Итог"
   ]
  },
  {
   "cell_type": "markdown",
   "metadata": {},
   "source": [
    "Полученные значения минимального RMSE для линейной регрессии и дерева решений довольно близки, но значение для линейной регрессии меньше, поэтому для тестирования на следующем этапе мы возьмём именно эту модель."
   ]
  },
  {
   "cell_type": "code",
   "execution_count": 21,
   "metadata": {},
   "outputs": [
    {
     "name": "stdout",
     "output_type": "stream",
     "text": [
      "Название модели: LinearRegression()\n",
      "RMSE: 46.17282778300395\n"
     ]
    }
   ],
   "source": [
    "data1ht = data1h\n",
    "make_features(data1ht, iir, jjr)\n",
    "data1ht = data1ht.dropna()\n",
    "\n",
    "f = data1ht.drop('num_orders', axis=1)\n",
    "t = data1ht['num_orders']\n",
    "\n",
    "# разбиение признаков\n",
    "f_trn, f_vld, f_tst = \\\n",
    "              np.split(f, # насколько я могу понять тут не нужно перемешивать\n",
    "                       [int(.8*len(f)), int(.9*len(f))])\n",
    "\n",
    "# разбиение целевого признака\n",
    "t_trn, t_vld, t_tst = \\\n",
    "              np.split(t, # насколько я могу понять тут не нужно перемешивать\n",
    "                       [int(.8*len(t)), int(.9*len(t))])\n",
    "\n",
    "bmlr.fit(f_trn, t_trn)\n",
    "pred = bmlr.predict(f_tst)\n",
    "\n",
    "print(\"Название модели:\", str(bmlr))\n",
    "print(\"RMSE:\", mean_squared_error(pred,t_tst) ** 0.5)"
   ]
  },
  {
   "cell_type": "markdown",
   "metadata": {},
   "source": [
    "### Вывод"
   ]
  },
  {
   "cell_type": "markdown",
   "metadata": {},
   "source": [
    "В данных разделах были построены и проанализированы модели линейной регрессии и дерева решений, в ходе анализа были перебраны различные параметры таких моделей. Была выбрана лучшая с точки зрения наименьшей среднеквадратичной ошибки модель, которая была проверена на тестовых данных. Было получено минимальное среднеквадратичное отклонение соответсвующее условием поставленной задачи."
   ]
  },
  {
   "cell_type": "markdown",
   "metadata": {},
   "source": [
    "## Вывод"
   ]
  },
  {
   "cell_type": "markdown",
   "metadata": {},
   "source": [
    "В данной работе была построена модель для предсказания количества заказов такси в аэропортах (Смелая гипотеза). Получено низкое значение квадрата среднеквадратичной ошибки говорит о высокой точности такой модели. Следует также сказать, что точность такой модели будет тем выше, чем ближе промежуток времени, который необходимо предсказать, к известным нам данным."
   ]
  }
 ],
 "metadata": {
  "ExecuteTimeLog": [
   {
    "duration": 421,
    "start_time": "2023-10-16T16:02:20.260Z"
   },
   {
    "duration": 111,
    "start_time": "2023-10-16T16:02:20.684Z"
   },
   {
    "duration": 12,
    "start_time": "2023-10-16T16:02:20.797Z"
   },
   {
    "duration": 14,
    "start_time": "2023-10-16T16:03:10.160Z"
   },
   {
    "duration": 8,
    "start_time": "2023-10-16T16:07:00.580Z"
   },
   {
    "duration": 10,
    "start_time": "2023-10-16T16:07:02.725Z"
   },
   {
    "duration": 410,
    "start_time": "2023-10-16T16:08:23.464Z"
   },
   {
    "duration": 43,
    "start_time": "2023-10-16T16:08:23.875Z"
   },
   {
    "duration": 12,
    "start_time": "2023-10-16T16:08:23.919Z"
   },
   {
    "duration": 78,
    "start_time": "2023-10-16T16:08:23.932Z"
   },
   {
    "duration": 0,
    "start_time": "2023-10-16T16:08:24.011Z"
   },
   {
    "duration": 12,
    "start_time": "2023-10-16T16:08:33.793Z"
   },
   {
    "duration": 9,
    "start_time": "2023-10-16T16:08:35.402Z"
   },
   {
    "duration": 8,
    "start_time": "2023-10-16T16:08:56.941Z"
   },
   {
    "duration": 700,
    "start_time": "2023-10-16T16:15:05.345Z"
   },
   {
    "duration": 388,
    "start_time": "2023-10-16T16:15:30.814Z"
   },
   {
    "duration": 47,
    "start_time": "2023-10-16T16:15:31.206Z"
   },
   {
    "duration": 45,
    "start_time": "2023-10-16T16:15:31.254Z"
   },
   {
    "duration": 48,
    "start_time": "2023-10-16T16:15:31.301Z"
   },
   {
    "duration": 27,
    "start_time": "2023-10-16T16:15:31.351Z"
   },
   {
    "duration": 392,
    "start_time": "2023-10-16T16:16:14.150Z"
   },
   {
    "duration": 43,
    "start_time": "2023-10-16T16:16:14.544Z"
   },
   {
    "duration": 12,
    "start_time": "2023-10-16T16:16:14.588Z"
   },
   {
    "duration": 9,
    "start_time": "2023-10-16T16:16:14.601Z"
   },
   {
    "duration": 5,
    "start_time": "2023-10-16T16:16:14.612Z"
   },
   {
    "duration": 463,
    "start_time": "2023-10-16T16:16:14.618Z"
   },
   {
    "duration": 10,
    "start_time": "2023-10-16T16:16:15.083Z"
   },
   {
    "duration": 482,
    "start_time": "2023-10-16T16:16:34.922Z"
   },
   {
    "duration": 11,
    "start_time": "2023-10-16T16:17:09.198Z"
   },
   {
    "duration": 253,
    "start_time": "2023-10-16T16:17:17.181Z"
   },
   {
    "duration": 219,
    "start_time": "2023-10-16T16:17:38.208Z"
   },
   {
    "duration": 12,
    "start_time": "2023-10-16T16:18:52.133Z"
   },
   {
    "duration": 6,
    "start_time": "2023-10-16T16:20:11.937Z"
   },
   {
    "duration": 66,
    "start_time": "2023-10-16T16:29:15.789Z"
   },
   {
    "duration": 199,
    "start_time": "2023-10-16T16:29:31.477Z"
   },
   {
    "duration": 199,
    "start_time": "2023-10-16T16:29:37.491Z"
   },
   {
    "duration": 187,
    "start_time": "2023-10-16T16:29:43.394Z"
   },
   {
    "duration": 230,
    "start_time": "2023-10-16T16:29:49.914Z"
   },
   {
    "duration": 196,
    "start_time": "2023-10-16T16:34:36.608Z"
   },
   {
    "duration": 362,
    "start_time": "2023-10-16T16:34:42.955Z"
   },
   {
    "duration": 41,
    "start_time": "2023-10-16T16:34:43.319Z"
   },
   {
    "duration": 12,
    "start_time": "2023-10-16T16:34:43.362Z"
   },
   {
    "duration": 9,
    "start_time": "2023-10-16T16:34:43.375Z"
   },
   {
    "duration": 4,
    "start_time": "2023-10-16T16:34:43.385Z"
   },
   {
    "duration": 19,
    "start_time": "2023-10-16T16:34:43.390Z"
   },
   {
    "duration": 523,
    "start_time": "2023-10-16T16:34:43.410Z"
   },
   {
    "duration": 6,
    "start_time": "2023-10-16T16:34:43.934Z"
   },
   {
    "duration": 189,
    "start_time": "2023-10-16T16:34:43.942Z"
   },
   {
    "duration": 66,
    "start_time": "2023-10-16T16:36:27.328Z"
   },
   {
    "duration": 849,
    "start_time": "2023-10-16T16:36:48.819Z"
   },
   {
    "duration": 41,
    "start_time": "2023-10-16T16:36:49.669Z"
   },
   {
    "duration": 13,
    "start_time": "2023-10-16T16:36:49.712Z"
   },
   {
    "duration": 15,
    "start_time": "2023-10-16T16:36:49.726Z"
   },
   {
    "duration": 4,
    "start_time": "2023-10-16T16:36:49.742Z"
   },
   {
    "duration": 10,
    "start_time": "2023-10-16T16:36:49.747Z"
   },
   {
    "duration": 453,
    "start_time": "2023-10-16T16:36:49.758Z"
   },
   {
    "duration": 5,
    "start_time": "2023-10-16T16:36:50.212Z"
   },
   {
    "duration": 199,
    "start_time": "2023-10-16T16:36:50.219Z"
   },
   {
    "duration": 182,
    "start_time": "2023-10-16T16:36:50.421Z"
   },
   {
    "duration": 209,
    "start_time": "2023-10-16T16:37:26.889Z"
   },
   {
    "duration": 248,
    "start_time": "2023-10-16T16:37:33.974Z"
   },
   {
    "duration": 217,
    "start_time": "2023-10-16T16:38:09.757Z"
   },
   {
    "duration": 233,
    "start_time": "2023-10-16T16:39:15.649Z"
   },
   {
    "duration": 228,
    "start_time": "2023-10-16T16:39:35.505Z"
   },
   {
    "duration": 136,
    "start_time": "2023-10-16T16:40:11.877Z"
   },
   {
    "duration": 121,
    "start_time": "2023-10-16T16:40:35.384Z"
   },
   {
    "duration": 177,
    "start_time": "2023-10-16T16:44:23.895Z"
   },
   {
    "duration": 191,
    "start_time": "2023-10-16T16:46:23.579Z"
   },
   {
    "duration": 261,
    "start_time": "2023-10-16T16:47:09.558Z"
   },
   {
    "duration": 186,
    "start_time": "2023-10-16T16:53:36.499Z"
   },
   {
    "duration": 240,
    "start_time": "2023-10-16T16:54:07.516Z"
   },
   {
    "duration": 197,
    "start_time": "2023-10-16T16:54:11.983Z"
   },
   {
    "duration": 243,
    "start_time": "2023-10-16T16:54:20.729Z"
   },
   {
    "duration": 224,
    "start_time": "2023-10-16T17:01:43.554Z"
   },
   {
    "duration": 246,
    "start_time": "2023-10-16T17:02:39.857Z"
   },
   {
    "duration": 250,
    "start_time": "2023-10-16T17:02:47.668Z"
   },
   {
    "duration": 11,
    "start_time": "2023-10-16T17:03:12.546Z"
   },
   {
    "duration": 751,
    "start_time": "2023-10-16T17:04:01.698Z"
   },
   {
    "duration": 96,
    "start_time": "2023-10-16T17:04:06.398Z"
   },
   {
    "duration": 574,
    "start_time": "2023-10-16T17:05:11.123Z"
   },
   {
    "duration": 187,
    "start_time": "2023-10-16T17:05:35.407Z"
   },
   {
    "duration": 11,
    "start_time": "2023-10-16T17:06:00.204Z"
   },
   {
    "duration": 9,
    "start_time": "2023-10-16T17:06:19.956Z"
   },
   {
    "duration": 9,
    "start_time": "2023-10-16T17:06:47.663Z"
   },
   {
    "duration": 11,
    "start_time": "2023-10-16T17:06:48.147Z"
   },
   {
    "duration": 7,
    "start_time": "2023-10-16T17:06:57.731Z"
   },
   {
    "duration": 190,
    "start_time": "2023-10-16T17:07:02.756Z"
   },
   {
    "duration": 6,
    "start_time": "2023-10-16T17:07:07.349Z"
   },
   {
    "duration": 4,
    "start_time": "2023-10-16T17:07:37.533Z"
   },
   {
    "duration": 8,
    "start_time": "2023-10-16T17:07:44.615Z"
   },
   {
    "duration": 168,
    "start_time": "2023-10-16T17:07:48.168Z"
   },
   {
    "duration": 248,
    "start_time": "2023-10-16T17:07:59.492Z"
   },
   {
    "duration": 270,
    "start_time": "2023-10-16T17:08:03.973Z"
   },
   {
    "duration": 178,
    "start_time": "2023-10-16T17:08:38.229Z"
   },
   {
    "duration": 6,
    "start_time": "2023-10-16T17:09:03.901Z"
   },
   {
    "duration": 11,
    "start_time": "2023-10-16T17:09:32.720Z"
   },
   {
    "duration": 7,
    "start_time": "2023-10-16T17:09:57.302Z"
   },
   {
    "duration": 8,
    "start_time": "2023-10-16T17:10:27.270Z"
   },
   {
    "duration": 5,
    "start_time": "2023-10-16T17:11:39.618Z"
   },
   {
    "duration": 7,
    "start_time": "2023-10-16T17:11:55.963Z"
   },
   {
    "duration": 563,
    "start_time": "2023-10-16T17:15:22.375Z"
   },
   {
    "duration": 11,
    "start_time": "2023-10-16T17:15:58.558Z"
   },
   {
    "duration": 7,
    "start_time": "2023-10-16T17:17:57.000Z"
   },
   {
    "duration": 12,
    "start_time": "2023-10-16T17:18:02.232Z"
   },
   {
    "duration": 9,
    "start_time": "2023-10-16T17:18:30.195Z"
   },
   {
    "duration": 8,
    "start_time": "2023-10-16T17:21:02.396Z"
   },
   {
    "duration": 11,
    "start_time": "2023-10-16T17:27:54.893Z"
   },
   {
    "duration": 230,
    "start_time": "2023-10-16T17:27:59.673Z"
   },
   {
    "duration": 12,
    "start_time": "2023-10-16T17:30:09.826Z"
   },
   {
    "duration": 303,
    "start_time": "2023-10-16T17:30:26.613Z"
   },
   {
    "duration": 34,
    "start_time": "2023-10-16T17:30:30.258Z"
   },
   {
    "duration": 15,
    "start_time": "2023-10-16T17:30:50.000Z"
   },
   {
    "duration": 15,
    "start_time": "2023-10-16T17:31:01.791Z"
   },
   {
    "duration": 16,
    "start_time": "2023-10-16T17:31:10.900Z"
   },
   {
    "duration": 18,
    "start_time": "2023-10-16T17:31:19.884Z"
   },
   {
    "duration": 12,
    "start_time": "2023-10-16T17:31:39.216Z"
   },
   {
    "duration": 4,
    "start_time": "2023-10-16T17:32:32.745Z"
   },
   {
    "duration": 8,
    "start_time": "2023-10-16T17:33:09.630Z"
   },
   {
    "duration": 6,
    "start_time": "2023-10-16T17:33:24.444Z"
   },
   {
    "duration": 5,
    "start_time": "2023-10-16T17:33:30.994Z"
   },
   {
    "duration": 2557,
    "start_time": "2023-10-16T17:33:35.424Z"
   },
   {
    "duration": 5,
    "start_time": "2023-10-16T17:34:07.225Z"
   },
   {
    "duration": 15,
    "start_time": "2023-10-16T17:34:21.771Z"
   },
   {
    "duration": 8,
    "start_time": "2023-10-16T17:34:33.226Z"
   },
   {
    "duration": 5,
    "start_time": "2023-10-16T17:34:40.408Z"
   },
   {
    "duration": 4,
    "start_time": "2023-10-16T17:34:56.104Z"
   },
   {
    "duration": 7,
    "start_time": "2023-10-16T17:35:14.171Z"
   },
   {
    "duration": 9,
    "start_time": "2023-10-16T17:35:19.557Z"
   },
   {
    "duration": 7,
    "start_time": "2023-10-16T17:36:00.506Z"
   },
   {
    "duration": 19,
    "start_time": "2023-10-16T17:38:09.258Z"
   },
   {
    "duration": 9,
    "start_time": "2023-10-16T17:38:27.224Z"
   },
   {
    "duration": 10,
    "start_time": "2023-10-16T17:38:34.824Z"
   },
   {
    "duration": 11,
    "start_time": "2023-10-16T17:38:42.759Z"
   },
   {
    "duration": 17,
    "start_time": "2023-10-16T17:38:51.368Z"
   },
   {
    "duration": 13,
    "start_time": "2023-10-16T17:39:10.265Z"
   },
   {
    "duration": 8,
    "start_time": "2023-10-16T17:39:20.930Z"
   },
   {
    "duration": 5,
    "start_time": "2023-10-16T17:39:27.126Z"
   },
   {
    "duration": 6,
    "start_time": "2023-10-16T17:39:32.299Z"
   },
   {
    "duration": 5,
    "start_time": "2023-10-16T17:43:03.083Z"
   },
   {
    "duration": 14,
    "start_time": "2023-10-16T17:43:06.364Z"
   },
   {
    "duration": 12,
    "start_time": "2023-10-16T17:43:08.467Z"
   },
   {
    "duration": 5,
    "start_time": "2023-10-16T17:43:18.713Z"
   },
   {
    "duration": 8,
    "start_time": "2023-10-16T17:43:25.690Z"
   },
   {
    "duration": 6,
    "start_time": "2023-10-16T17:43:27.481Z"
   },
   {
    "duration": 4,
    "start_time": "2023-10-16T17:43:33.022Z"
   },
   {
    "duration": 11,
    "start_time": "2023-10-16T17:47:21.904Z"
   },
   {
    "duration": 7,
    "start_time": "2023-10-16T17:47:30.791Z"
   },
   {
    "duration": 30,
    "start_time": "2023-10-16T17:47:43.027Z"
   },
   {
    "duration": 14,
    "start_time": "2023-10-16T17:47:51.585Z"
   },
   {
    "duration": 19,
    "start_time": "2023-10-16T17:47:52.637Z"
   },
   {
    "duration": 30,
    "start_time": "2023-10-16T17:49:18.635Z"
   },
   {
    "duration": 20,
    "start_time": "2023-10-16T17:49:34.860Z"
   },
   {
    "duration": 12,
    "start_time": "2023-10-16T17:49:40.811Z"
   },
   {
    "duration": 9,
    "start_time": "2023-10-16T17:49:42.440Z"
   },
   {
    "duration": 10,
    "start_time": "2023-10-16T17:49:57.120Z"
   },
   {
    "duration": 6,
    "start_time": "2023-10-16T17:49:58.014Z"
   },
   {
    "duration": 11,
    "start_time": "2023-10-16T17:50:25.419Z"
   },
   {
    "duration": 8,
    "start_time": "2023-10-16T17:50:26.412Z"
   },
   {
    "duration": 11,
    "start_time": "2023-10-16T17:50:50.415Z"
   },
   {
    "duration": 8,
    "start_time": "2023-10-16T17:50:51.376Z"
   },
   {
    "duration": 11,
    "start_time": "2023-10-16T17:51:34.089Z"
   },
   {
    "duration": 8,
    "start_time": "2023-10-16T17:51:34.983Z"
   },
   {
    "duration": 3,
    "start_time": "2023-10-16T17:53:12.480Z"
   },
   {
    "duration": 12,
    "start_time": "2023-10-16T17:54:24.285Z"
   },
   {
    "duration": 620,
    "start_time": "2023-10-16T17:55:17.486Z"
   },
   {
    "duration": 12,
    "start_time": "2023-10-16T17:57:58.430Z"
   },
   {
    "duration": 14,
    "start_time": "2023-10-16T17:58:22.561Z"
   },
   {
    "duration": 5,
    "start_time": "2023-10-16T17:58:40.762Z"
   },
   {
    "duration": 5,
    "start_time": "2023-10-16T17:58:52.850Z"
   },
   {
    "duration": 23,
    "start_time": "2023-10-16T17:58:57.656Z"
   },
   {
    "duration": 7,
    "start_time": "2023-10-16T17:59:09.089Z"
   },
   {
    "duration": 6,
    "start_time": "2023-10-16T17:59:56.211Z"
   },
   {
    "duration": 4,
    "start_time": "2023-10-16T18:00:24.033Z"
   },
   {
    "duration": 6,
    "start_time": "2023-10-16T18:00:56.086Z"
   },
   {
    "duration": 7,
    "start_time": "2023-10-16T18:01:21.976Z"
   },
   {
    "duration": 5,
    "start_time": "2023-10-16T18:01:27.782Z"
   },
   {
    "duration": 12,
    "start_time": "2023-10-16T18:01:36.983Z"
   },
   {
    "duration": 10,
    "start_time": "2023-10-16T18:01:41.451Z"
   },
   {
    "duration": 4,
    "start_time": "2023-10-16T18:02:41.692Z"
   },
   {
    "duration": 16,
    "start_time": "2023-10-16T18:02:50.328Z"
   },
   {
    "duration": 21,
    "start_time": "2023-10-16T18:03:06.633Z"
   },
   {
    "duration": 13,
    "start_time": "2023-10-16T18:06:44.566Z"
   },
   {
    "duration": 14,
    "start_time": "2023-10-16T18:07:20.435Z"
   },
   {
    "duration": 14,
    "start_time": "2023-10-16T18:07:38.214Z"
   },
   {
    "duration": 11,
    "start_time": "2023-10-16T18:07:54.626Z"
   },
   {
    "duration": 29,
    "start_time": "2023-10-16T18:09:24.506Z"
   },
   {
    "duration": 28,
    "start_time": "2023-10-16T18:11:07.762Z"
   },
   {
    "duration": 32,
    "start_time": "2023-10-16T18:11:36.491Z"
   },
   {
    "duration": 28,
    "start_time": "2023-10-16T18:13:24.534Z"
   },
   {
    "duration": 89,
    "start_time": "2023-10-16T18:13:41.093Z"
   },
   {
    "duration": 44,
    "start_time": "2023-10-16T18:13:47.237Z"
   },
   {
    "duration": 23,
    "start_time": "2023-10-16T18:14:02.084Z"
   },
   {
    "duration": 23,
    "start_time": "2023-10-16T18:14:58.676Z"
   },
   {
    "duration": 37,
    "start_time": "2023-10-16T18:17:12.359Z"
   },
   {
    "duration": 36,
    "start_time": "2023-10-16T18:17:19.585Z"
   },
   {
    "duration": 20,
    "start_time": "2023-10-16T18:21:38.375Z"
   },
   {
    "duration": 25,
    "start_time": "2023-10-16T18:25:33.261Z"
   },
   {
    "duration": 7,
    "start_time": "2023-10-16T18:25:54.128Z"
   },
   {
    "duration": 11,
    "start_time": "2023-10-16T18:26:16.623Z"
   },
   {
    "duration": 7,
    "start_time": "2023-10-16T18:26:22.387Z"
   },
   {
    "duration": 13,
    "start_time": "2023-10-16T18:26:37.045Z"
   },
   {
    "duration": 7,
    "start_time": "2023-10-16T18:26:38.779Z"
   },
   {
    "duration": 10,
    "start_time": "2023-10-16T18:28:19.188Z"
   },
   {
    "duration": 6,
    "start_time": "2023-10-16T18:31:37.508Z"
   },
   {
    "duration": 36,
    "start_time": "2023-10-16T18:31:38.781Z"
   },
   {
    "duration": 10,
    "start_time": "2023-10-16T18:32:22.450Z"
   },
   {
    "duration": 35,
    "start_time": "2023-10-16T18:32:23.441Z"
   },
   {
    "duration": 1242,
    "start_time": "2023-10-16T18:32:31.277Z"
   },
   {
    "duration": 76,
    "start_time": "2023-10-16T18:32:32.521Z"
   },
   {
    "duration": 18,
    "start_time": "2023-10-16T18:32:32.599Z"
   },
   {
    "duration": 10,
    "start_time": "2023-10-16T18:32:32.619Z"
   },
   {
    "duration": 5,
    "start_time": "2023-10-16T18:32:32.631Z"
   },
   {
    "duration": 24,
    "start_time": "2023-10-16T18:32:32.637Z"
   },
   {
    "duration": 600,
    "start_time": "2023-10-16T18:32:32.672Z"
   },
   {
    "duration": 6,
    "start_time": "2023-10-16T18:32:33.283Z"
   },
   {
    "duration": 160,
    "start_time": "2023-10-16T18:32:33.291Z"
   },
   {
    "duration": 216,
    "start_time": "2023-10-16T18:32:33.453Z"
   },
   {
    "duration": 292,
    "start_time": "2023-10-16T18:32:33.671Z"
   },
   {
    "duration": 214,
    "start_time": "2023-10-16T18:32:33.965Z"
   },
   {
    "duration": 15,
    "start_time": "2023-10-16T18:32:34.180Z"
   },
   {
    "duration": 31,
    "start_time": "2023-10-16T18:32:34.197Z"
   },
   {
    "duration": 27,
    "start_time": "2023-10-16T18:32:34.230Z"
   },
   {
    "duration": 32,
    "start_time": "2023-10-16T18:32:34.258Z"
   },
   {
    "duration": 421,
    "start_time": "2023-10-16T18:38:14.984Z"
   },
   {
    "duration": 446,
    "start_time": "2023-10-16T18:38:25.309Z"
   },
   {
    "duration": 131,
    "start_time": "2023-10-16T18:47:30.731Z"
   },
   {
    "duration": 1052,
    "start_time": "2023-10-16T18:47:38.506Z"
   },
   {
    "duration": 43,
    "start_time": "2023-10-16T18:47:39.560Z"
   },
   {
    "duration": 13,
    "start_time": "2023-10-16T18:47:39.608Z"
   },
   {
    "duration": 11,
    "start_time": "2023-10-16T18:47:39.623Z"
   },
   {
    "duration": 6,
    "start_time": "2023-10-16T18:47:39.636Z"
   },
   {
    "duration": 10,
    "start_time": "2023-10-16T18:47:39.644Z"
   },
   {
    "duration": 126,
    "start_time": "2023-10-16T18:47:39.656Z"
   },
   {
    "duration": 0,
    "start_time": "2023-10-16T18:47:39.784Z"
   },
   {
    "duration": 0,
    "start_time": "2023-10-16T18:47:39.785Z"
   },
   {
    "duration": 0,
    "start_time": "2023-10-16T18:47:39.786Z"
   },
   {
    "duration": 0,
    "start_time": "2023-10-16T18:47:39.787Z"
   },
   {
    "duration": 0,
    "start_time": "2023-10-16T18:47:39.788Z"
   },
   {
    "duration": 0,
    "start_time": "2023-10-16T18:47:39.789Z"
   },
   {
    "duration": 1167,
    "start_time": "2023-10-16T18:49:42.224Z"
   },
   {
    "duration": 42,
    "start_time": "2023-10-16T18:49:43.392Z"
   },
   {
    "duration": 18,
    "start_time": "2023-10-16T18:49:43.436Z"
   },
   {
    "duration": 13,
    "start_time": "2023-10-16T18:49:43.456Z"
   },
   {
    "duration": 9,
    "start_time": "2023-10-16T18:49:43.470Z"
   },
   {
    "duration": 10,
    "start_time": "2023-10-16T18:49:43.480Z"
   },
   {
    "duration": 12,
    "start_time": "2023-10-16T18:49:43.491Z"
   },
   {
    "duration": 419,
    "start_time": "2023-10-16T18:49:43.504Z"
   },
   {
    "duration": 405,
    "start_time": "2023-10-16T18:49:43.924Z"
   },
   {
    "duration": 188,
    "start_time": "2023-10-16T18:49:44.331Z"
   },
   {
    "duration": 25,
    "start_time": "2023-10-16T18:49:44.521Z"
   },
   {
    "duration": 201,
    "start_time": "2023-10-16T18:49:44.547Z"
   },
   {
    "duration": 0,
    "start_time": "2023-10-16T18:49:44.749Z"
   },
   {
    "duration": 0,
    "start_time": "2023-10-16T18:49:44.750Z"
   },
   {
    "duration": 47,
    "start_time": "2023-10-16T18:50:08.218Z"
   },
   {
    "duration": 1117,
    "start_time": "2023-10-16T18:51:33.499Z"
   },
   {
    "duration": 56,
    "start_time": "2023-10-16T18:51:34.618Z"
   },
   {
    "duration": 13,
    "start_time": "2023-10-16T18:51:34.675Z"
   },
   {
    "duration": 9,
    "start_time": "2023-10-16T18:51:34.689Z"
   },
   {
    "duration": 7,
    "start_time": "2023-10-16T18:51:34.699Z"
   },
   {
    "duration": 11,
    "start_time": "2023-10-16T18:51:34.708Z"
   },
   {
    "duration": 10,
    "start_time": "2023-10-16T18:51:34.720Z"
   },
   {
    "duration": 391,
    "start_time": "2023-10-16T18:51:34.739Z"
   },
   {
    "duration": 393,
    "start_time": "2023-10-16T18:51:35.132Z"
   },
   {
    "duration": 192,
    "start_time": "2023-10-16T18:51:35.527Z"
   },
   {
    "duration": 13,
    "start_time": "2023-10-16T18:51:35.721Z"
   },
   {
    "duration": 126,
    "start_time": "2023-10-16T18:51:35.735Z"
   },
   {
    "duration": 14,
    "start_time": "2023-10-16T18:51:35.865Z"
   },
   {
    "duration": 22,
    "start_time": "2023-10-16T18:51:35.881Z"
   },
   {
    "duration": 1139,
    "start_time": "2023-10-17T11:28:28.672Z"
   },
   {
    "duration": 147,
    "start_time": "2023-10-17T11:28:29.813Z"
   },
   {
    "duration": 15,
    "start_time": "2023-10-17T11:28:29.965Z"
   },
   {
    "duration": 13,
    "start_time": "2023-10-17T11:28:29.981Z"
   },
   {
    "duration": 11,
    "start_time": "2023-10-17T11:28:29.996Z"
   },
   {
    "duration": 9,
    "start_time": "2023-10-17T11:28:30.009Z"
   },
   {
    "duration": 47,
    "start_time": "2023-10-17T11:28:30.020Z"
   },
   {
    "duration": 634,
    "start_time": "2023-10-17T11:28:30.069Z"
   },
   {
    "duration": 459,
    "start_time": "2023-10-17T11:28:30.706Z"
   },
   {
    "duration": 15,
    "start_time": "2023-10-17T11:28:31.167Z"
   },
   {
    "duration": 108,
    "start_time": "2023-10-17T11:28:31.183Z"
   },
   {
    "duration": 89,
    "start_time": "2023-10-17T11:28:31.293Z"
   },
   {
    "duration": 145,
    "start_time": "2023-10-17T11:28:31.383Z"
   },
   {
    "duration": 1426,
    "start_time": "2023-10-17T11:33:06.431Z"
   },
   {
    "duration": 59,
    "start_time": "2023-10-17T11:33:07.859Z"
   },
   {
    "duration": 21,
    "start_time": "2023-10-17T11:33:07.920Z"
   },
   {
    "duration": 20,
    "start_time": "2023-10-17T11:33:07.944Z"
   },
   {
    "duration": 22,
    "start_time": "2023-10-17T11:33:07.966Z"
   },
   {
    "duration": 11,
    "start_time": "2023-10-17T11:33:07.989Z"
   },
   {
    "duration": 36,
    "start_time": "2023-10-17T11:33:08.001Z"
   },
   {
    "duration": 513,
    "start_time": "2023-10-17T11:33:08.039Z"
   },
   {
    "duration": 520,
    "start_time": "2023-10-17T11:33:08.554Z"
   },
   {
    "duration": 18,
    "start_time": "2023-10-17T11:33:09.088Z"
   },
   {
    "duration": 170,
    "start_time": "2023-10-17T11:33:09.110Z"
   },
   {
    "duration": 0,
    "start_time": "2023-10-17T11:33:09.282Z"
   },
   {
    "duration": 0,
    "start_time": "2023-10-17T11:33:09.283Z"
   },
   {
    "duration": 19,
    "start_time": "2023-10-17T11:34:12.100Z"
   },
   {
    "duration": 15,
    "start_time": "2023-10-17T11:34:29.911Z"
   },
   {
    "duration": 1294,
    "start_time": "2023-10-17T11:35:17.370Z"
   },
   {
    "duration": 48,
    "start_time": "2023-10-17T11:35:18.668Z"
   },
   {
    "duration": 22,
    "start_time": "2023-10-17T11:35:18.718Z"
   },
   {
    "duration": 30,
    "start_time": "2023-10-17T11:35:18.742Z"
   },
   {
    "duration": 5,
    "start_time": "2023-10-17T11:35:18.779Z"
   },
   {
    "duration": 10,
    "start_time": "2023-10-17T11:35:18.793Z"
   },
   {
    "duration": 18,
    "start_time": "2023-10-17T11:35:18.805Z"
   },
   {
    "duration": 483,
    "start_time": "2023-10-17T11:35:18.825Z"
   },
   {
    "duration": 503,
    "start_time": "2023-10-17T11:35:19.310Z"
   },
   {
    "duration": 14,
    "start_time": "2023-10-17T11:35:19.815Z"
   },
   {
    "duration": 75,
    "start_time": "2023-10-17T11:35:19.831Z"
   },
   {
    "duration": 7,
    "start_time": "2023-10-17T11:35:19.908Z"
   },
   {
    "duration": 159,
    "start_time": "2023-10-17T11:35:19.916Z"
   },
   {
    "duration": 1242,
    "start_time": "2023-10-17T11:36:15.491Z"
   },
   {
    "duration": 61,
    "start_time": "2023-10-17T11:36:16.735Z"
   },
   {
    "duration": 14,
    "start_time": "2023-10-17T11:36:16.800Z"
   },
   {
    "duration": 11,
    "start_time": "2023-10-17T11:36:16.815Z"
   },
   {
    "duration": 23,
    "start_time": "2023-10-17T11:36:16.828Z"
   },
   {
    "duration": 26,
    "start_time": "2023-10-17T11:36:16.857Z"
   },
   {
    "duration": 11,
    "start_time": "2023-10-17T11:36:16.885Z"
   },
   {
    "duration": 474,
    "start_time": "2023-10-17T11:36:16.898Z"
   },
   {
    "duration": 500,
    "start_time": "2023-10-17T11:36:17.377Z"
   },
   {
    "duration": 14,
    "start_time": "2023-10-17T11:36:17.879Z"
   },
   {
    "duration": 77,
    "start_time": "2023-10-17T11:36:17.895Z"
   },
   {
    "duration": 30,
    "start_time": "2023-10-17T11:36:17.975Z"
   },
   {
    "duration": 197,
    "start_time": "2023-10-17T11:36:18.006Z"
   },
   {
    "duration": 20,
    "start_time": "2023-10-17T11:37:03.728Z"
   },
   {
    "duration": 20,
    "start_time": "2023-10-17T11:37:12.267Z"
   },
   {
    "duration": 1348,
    "start_time": "2023-10-17T11:37:43.679Z"
   },
   {
    "duration": 63,
    "start_time": "2023-10-17T11:37:45.029Z"
   },
   {
    "duration": 69,
    "start_time": "2023-10-17T11:37:45.094Z"
   },
   {
    "duration": 28,
    "start_time": "2023-10-17T11:37:45.169Z"
   },
   {
    "duration": 25,
    "start_time": "2023-10-17T11:37:45.199Z"
   },
   {
    "duration": 81,
    "start_time": "2023-10-17T11:37:45.226Z"
   },
   {
    "duration": 31,
    "start_time": "2023-10-17T11:37:45.309Z"
   },
   {
    "duration": 491,
    "start_time": "2023-10-17T11:37:45.342Z"
   },
   {
    "duration": 514,
    "start_time": "2023-10-17T11:37:45.835Z"
   },
   {
    "duration": 113,
    "start_time": "2023-10-17T11:37:46.351Z"
   },
   {
    "duration": 0,
    "start_time": "2023-10-17T11:37:46.473Z"
   },
   {
    "duration": 0,
    "start_time": "2023-10-17T11:37:46.474Z"
   },
   {
    "duration": 0,
    "start_time": "2023-10-17T11:37:46.475Z"
   },
   {
    "duration": 14,
    "start_time": "2023-10-17T11:38:08.281Z"
   },
   {
    "duration": 1320,
    "start_time": "2023-10-17T11:38:12.136Z"
   },
   {
    "duration": 49,
    "start_time": "2023-10-17T11:38:13.458Z"
   },
   {
    "duration": 25,
    "start_time": "2023-10-17T11:38:13.512Z"
   },
   {
    "duration": 20,
    "start_time": "2023-10-17T11:38:13.538Z"
   },
   {
    "duration": 17,
    "start_time": "2023-10-17T11:38:13.560Z"
   },
   {
    "duration": 18,
    "start_time": "2023-10-17T11:38:13.579Z"
   },
   {
    "duration": 10,
    "start_time": "2023-10-17T11:38:13.599Z"
   },
   {
    "duration": 470,
    "start_time": "2023-10-17T11:38:13.610Z"
   },
   {
    "duration": 538,
    "start_time": "2023-10-17T11:38:14.089Z"
   },
   {
    "duration": 22,
    "start_time": "2023-10-17T11:38:14.629Z"
   },
   {
    "duration": 65,
    "start_time": "2023-10-17T11:38:14.656Z"
   },
   {
    "duration": 7,
    "start_time": "2023-10-17T11:38:14.723Z"
   },
   {
    "duration": 38,
    "start_time": "2023-10-17T11:38:14.732Z"
   },
   {
    "duration": 126,
    "start_time": "2023-10-17T11:47:40.879Z"
   },
   {
    "duration": 12,
    "start_time": "2023-10-17T11:48:09.520Z"
   },
   {
    "duration": 243,
    "start_time": "2023-10-17T11:48:22.709Z"
   },
   {
    "duration": 13,
    "start_time": "2023-10-17T13:55:14.073Z"
   },
   {
    "duration": 98,
    "start_time": "2023-10-17T13:57:42.497Z"
   },
   {
    "duration": 39,
    "start_time": "2023-10-17T13:58:28.516Z"
   },
   {
    "duration": 22,
    "start_time": "2023-10-17T13:58:37.387Z"
   },
   {
    "duration": 198,
    "start_time": "2023-10-17T14:06:44.574Z"
   },
   {
    "duration": 2634,
    "start_time": "2023-10-17T14:06:54.923Z"
   },
   {
    "duration": 3310,
    "start_time": "2023-10-17T14:07:09.771Z"
   },
   {
    "duration": 20,
    "start_time": "2023-10-17T14:16:04.048Z"
   },
   {
    "duration": 11497,
    "start_time": "2023-10-17T14:16:40.077Z"
   },
   {
    "duration": 12,
    "start_time": "2023-10-17T14:16:55.604Z"
   },
   {
    "duration": 31,
    "start_time": "2023-10-17T14:17:51.253Z"
   },
   {
    "duration": 22,
    "start_time": "2023-10-17T14:28:20.787Z"
   },
   {
    "duration": 121,
    "start_time": "2023-10-17T15:56:13.030Z"
   },
   {
    "duration": 84,
    "start_time": "2023-10-17T15:56:55.106Z"
   },
   {
    "duration": 12,
    "start_time": "2023-10-17T15:57:01.067Z"
   },
   {
    "duration": 317,
    "start_time": "2023-10-17T15:57:29.739Z"
   },
   {
    "duration": 1218,
    "start_time": "2023-10-18T12:05:06.754Z"
   },
   {
    "duration": 130,
    "start_time": "2023-10-18T12:05:07.974Z"
   },
   {
    "duration": 13,
    "start_time": "2023-10-18T12:05:08.106Z"
   },
   {
    "duration": 10,
    "start_time": "2023-10-18T12:05:08.121Z"
   },
   {
    "duration": 16,
    "start_time": "2023-10-18T12:05:08.132Z"
   },
   {
    "duration": 13,
    "start_time": "2023-10-18T12:05:08.149Z"
   },
   {
    "duration": 10,
    "start_time": "2023-10-18T12:05:08.164Z"
   },
   {
    "duration": 671,
    "start_time": "2023-10-18T12:05:08.175Z"
   },
   {
    "duration": 464,
    "start_time": "2023-10-18T12:05:08.848Z"
   },
   {
    "duration": 132,
    "start_time": "2023-10-18T12:05:09.314Z"
   },
   {
    "duration": 15,
    "start_time": "2023-10-18T12:05:09.447Z"
   },
   {
    "duration": 129,
    "start_time": "2023-10-18T12:05:09.463Z"
   },
   {
    "duration": 8,
    "start_time": "2023-10-18T12:05:09.593Z"
   },
   {
    "duration": 23,
    "start_time": "2023-10-18T12:05:09.602Z"
   },
   {
    "duration": 11826,
    "start_time": "2023-10-18T12:05:09.627Z"
   },
   {
    "duration": 114,
    "start_time": "2023-10-18T12:05:21.546Z"
   },
   {
    "duration": 127,
    "start_time": "2023-10-18T12:13:46.417Z"
   },
   {
    "duration": 1200,
    "start_time": "2023-10-18T12:13:52.007Z"
   },
   {
    "duration": 44,
    "start_time": "2023-10-18T12:13:53.209Z"
   },
   {
    "duration": 17,
    "start_time": "2023-10-18T12:13:53.255Z"
   },
   {
    "duration": 27,
    "start_time": "2023-10-18T12:13:53.274Z"
   },
   {
    "duration": 12,
    "start_time": "2023-10-18T12:13:53.302Z"
   },
   {
    "duration": 19,
    "start_time": "2023-10-18T12:13:53.316Z"
   },
   {
    "duration": 12,
    "start_time": "2023-10-18T12:13:53.338Z"
   },
   {
    "duration": 412,
    "start_time": "2023-10-18T12:13:53.352Z"
   },
   {
    "duration": 620,
    "start_time": "2023-10-18T12:13:53.766Z"
   },
   {
    "duration": 241,
    "start_time": "2023-10-18T12:13:54.390Z"
   },
   {
    "duration": 20,
    "start_time": "2023-10-18T12:13:54.633Z"
   },
   {
    "duration": 120,
    "start_time": "2023-10-18T12:13:54.655Z"
   },
   {
    "duration": 7,
    "start_time": "2023-10-18T12:13:54.777Z"
   },
   {
    "duration": 27,
    "start_time": "2023-10-18T12:13:54.786Z"
   },
   {
    "duration": 13140,
    "start_time": "2023-10-18T12:13:54.814Z"
   },
   {
    "duration": 23,
    "start_time": "2023-10-18T12:14:08.045Z"
   },
   {
    "duration": 139,
    "start_time": "2023-10-18T12:23:13.981Z"
   },
   {
    "duration": 11,
    "start_time": "2023-10-18T12:23:18.302Z"
   },
   {
    "duration": 1147,
    "start_time": "2023-10-18T12:24:28.835Z"
   },
   {
    "duration": 46,
    "start_time": "2023-10-18T12:24:29.984Z"
   },
   {
    "duration": 153,
    "start_time": "2023-10-18T12:24:30.031Z"
   },
   {
    "duration": 65,
    "start_time": "2023-10-18T12:24:30.186Z"
   },
   {
    "duration": 44,
    "start_time": "2023-10-18T12:24:30.253Z"
   },
   {
    "duration": 34,
    "start_time": "2023-10-18T12:24:30.299Z"
   },
   {
    "duration": 52,
    "start_time": "2023-10-18T12:24:30.335Z"
   },
   {
    "duration": 417,
    "start_time": "2023-10-18T12:24:30.389Z"
   },
   {
    "duration": 439,
    "start_time": "2023-10-18T12:24:30.807Z"
   },
   {
    "duration": 201,
    "start_time": "2023-10-18T12:24:31.249Z"
   },
   {
    "duration": 264,
    "start_time": "2023-10-18T12:24:31.451Z"
   },
   {
    "duration": 13,
    "start_time": "2023-10-18T12:24:31.716Z"
   },
   {
    "duration": 70,
    "start_time": "2023-10-18T12:24:31.730Z"
   },
   {
    "duration": 20,
    "start_time": "2023-10-18T12:24:31.802Z"
   },
   {
    "duration": 37,
    "start_time": "2023-10-18T12:24:31.823Z"
   },
   {
    "duration": 11490,
    "start_time": "2023-10-18T12:24:31.861Z"
   },
   {
    "duration": 109,
    "start_time": "2023-10-18T12:24:43.444Z"
   },
   {
    "duration": 1214,
    "start_time": "2023-10-18T12:26:28.814Z"
   },
   {
    "duration": 45,
    "start_time": "2023-10-18T12:26:30.030Z"
   },
   {
    "duration": 30,
    "start_time": "2023-10-18T12:26:30.077Z"
   },
   {
    "duration": 62,
    "start_time": "2023-10-18T12:26:30.109Z"
   },
   {
    "duration": 39,
    "start_time": "2023-10-18T12:26:30.173Z"
   },
   {
    "duration": 49,
    "start_time": "2023-10-18T12:26:30.214Z"
   },
   {
    "duration": 57,
    "start_time": "2023-10-18T12:26:30.265Z"
   },
   {
    "duration": 480,
    "start_time": "2023-10-18T12:26:30.324Z"
   },
   {
    "duration": 448,
    "start_time": "2023-10-18T12:26:30.806Z"
   },
   {
    "duration": 242,
    "start_time": "2023-10-18T12:26:31.256Z"
   },
   {
    "duration": 233,
    "start_time": "2023-10-18T12:26:31.500Z"
   },
   {
    "duration": 18,
    "start_time": "2023-10-18T12:26:31.734Z"
   },
   {
    "duration": 57,
    "start_time": "2023-10-18T12:26:31.753Z"
   },
   {
    "duration": 7,
    "start_time": "2023-10-18T12:26:31.812Z"
   },
   {
    "duration": 49,
    "start_time": "2023-10-18T12:26:31.821Z"
   },
   {
    "duration": 11574,
    "start_time": "2023-10-18T12:26:31.872Z"
   },
   {
    "duration": 107,
    "start_time": "2023-10-18T12:26:43.449Z"
   },
   {
    "duration": 3,
    "start_time": "2023-10-19T13:16:41.078Z"
   },
   {
    "duration": 1217,
    "start_time": "2023-10-19T13:16:45.625Z"
   },
   {
    "duration": 175,
    "start_time": "2023-10-19T13:16:46.845Z"
   },
   {
    "duration": 17,
    "start_time": "2023-10-19T13:16:47.022Z"
   },
   {
    "duration": 30,
    "start_time": "2023-10-19T13:16:47.042Z"
   },
   {
    "duration": 27,
    "start_time": "2023-10-19T13:16:47.073Z"
   },
   {
    "duration": 36,
    "start_time": "2023-10-19T13:16:47.102Z"
   },
   {
    "duration": 26,
    "start_time": "2023-10-19T13:16:47.140Z"
   },
   {
    "duration": 617,
    "start_time": "2023-10-19T13:16:47.168Z"
   },
   {
    "duration": 486,
    "start_time": "2023-10-19T13:16:47.787Z"
   },
   {
    "duration": 229,
    "start_time": "2023-10-19T13:16:48.277Z"
   },
   {
    "duration": 245,
    "start_time": "2023-10-19T13:16:48.508Z"
   },
   {
    "duration": 15,
    "start_time": "2023-10-19T13:16:48.755Z"
   },
   {
    "duration": 54,
    "start_time": "2023-10-19T13:16:48.772Z"
   },
   {
    "duration": 25,
    "start_time": "2023-10-19T13:16:48.828Z"
   },
   {
    "duration": 38,
    "start_time": "2023-10-19T13:16:48.855Z"
   },
   {
    "duration": 18,
    "start_time": "2023-10-19T13:16:48.895Z"
   },
   {
    "duration": 9241,
    "start_time": "2023-10-19T13:16:48.914Z"
   },
   {
    "duration": 291,
    "start_time": "2023-10-19T13:16:58.157Z"
   },
   {
    "duration": 180,
    "start_time": "2023-10-19T13:17:30.170Z"
   },
   {
    "duration": 8,
    "start_time": "2023-10-19T13:24:26.143Z"
   },
   {
    "duration": 9358,
    "start_time": "2023-10-19T13:28:31.493Z"
   },
   {
    "duration": 1214,
    "start_time": "2023-10-19T13:33:02.994Z"
   },
   {
    "duration": 45,
    "start_time": "2023-10-19T13:33:04.210Z"
   },
   {
    "duration": 17,
    "start_time": "2023-10-19T13:33:04.257Z"
   },
   {
    "duration": 40,
    "start_time": "2023-10-19T13:33:04.277Z"
   },
   {
    "duration": 43,
    "start_time": "2023-10-19T13:33:04.318Z"
   },
   {
    "duration": 53,
    "start_time": "2023-10-19T13:33:04.363Z"
   },
   {
    "duration": 20,
    "start_time": "2023-10-19T13:33:04.418Z"
   },
   {
    "duration": 479,
    "start_time": "2023-10-19T13:33:04.439Z"
   },
   {
    "duration": 546,
    "start_time": "2023-10-19T13:33:04.920Z"
   },
   {
    "duration": 257,
    "start_time": "2023-10-19T13:33:05.469Z"
   },
   {
    "duration": 241,
    "start_time": "2023-10-19T13:33:05.728Z"
   },
   {
    "duration": 15,
    "start_time": "2023-10-19T13:33:05.971Z"
   },
   {
    "duration": 61,
    "start_time": "2023-10-19T13:33:05.988Z"
   },
   {
    "duration": 9,
    "start_time": "2023-10-19T13:33:06.051Z"
   },
   {
    "duration": 28,
    "start_time": "2023-10-19T13:33:06.062Z"
   },
   {
    "duration": 142,
    "start_time": "2023-10-19T13:33:06.092Z"
   },
   {
    "duration": 0,
    "start_time": "2023-10-19T13:33:06.236Z"
   },
   {
    "duration": 1,
    "start_time": "2023-10-19T13:33:06.246Z"
   },
   {
    "duration": 0,
    "start_time": "2023-10-19T13:33:06.248Z"
   },
   {
    "duration": 0,
    "start_time": "2023-10-19T13:33:06.249Z"
   },
   {
    "duration": 15,
    "start_time": "2023-10-19T13:33:49.345Z"
   },
   {
    "duration": 13,
    "start_time": "2023-10-19T13:34:12.654Z"
   },
   {
    "duration": 6,
    "start_time": "2023-10-19T13:34:19.137Z"
   },
   {
    "duration": 9,
    "start_time": "2023-10-19T13:34:24.886Z"
   },
   {
    "duration": 10,
    "start_time": "2023-10-19T13:35:04.495Z"
   },
   {
    "duration": 1180,
    "start_time": "2023-10-19T13:35:13.664Z"
   },
   {
    "duration": 45,
    "start_time": "2023-10-19T13:35:14.846Z"
   },
   {
    "duration": 15,
    "start_time": "2023-10-19T13:35:14.896Z"
   },
   {
    "duration": 11,
    "start_time": "2023-10-19T13:35:14.912Z"
   },
   {
    "duration": 8,
    "start_time": "2023-10-19T13:35:14.925Z"
   },
   {
    "duration": 41,
    "start_time": "2023-10-19T13:35:14.935Z"
   },
   {
    "duration": 17,
    "start_time": "2023-10-19T13:35:14.978Z"
   },
   {
    "duration": 576,
    "start_time": "2023-10-19T13:35:14.997Z"
   },
   {
    "duration": 482,
    "start_time": "2023-10-19T13:35:15.575Z"
   },
   {
    "duration": 230,
    "start_time": "2023-10-19T13:35:16.059Z"
   },
   {
    "duration": 238,
    "start_time": "2023-10-19T13:35:16.291Z"
   },
   {
    "duration": 19,
    "start_time": "2023-10-19T13:35:16.531Z"
   },
   {
    "duration": 51,
    "start_time": "2023-10-19T13:35:16.552Z"
   },
   {
    "duration": 8,
    "start_time": "2023-10-19T13:35:16.605Z"
   },
   {
    "duration": 43,
    "start_time": "2023-10-19T13:35:16.615Z"
   },
   {
    "duration": 22,
    "start_time": "2023-10-19T13:35:16.659Z"
   },
   {
    "duration": 139,
    "start_time": "2023-10-19T13:35:16.683Z"
   },
   {
    "duration": 0,
    "start_time": "2023-10-19T13:35:16.823Z"
   },
   {
    "duration": 0,
    "start_time": "2023-10-19T13:35:16.825Z"
   },
   {
    "duration": 0,
    "start_time": "2023-10-19T13:35:16.826Z"
   },
   {
    "duration": 12,
    "start_time": "2023-10-19T13:35:33.490Z"
   },
   {
    "duration": 5,
    "start_time": "2023-10-19T13:35:46.774Z"
   },
   {
    "duration": 4,
    "start_time": "2023-10-19T13:36:13.225Z"
   },
   {
    "duration": 12,
    "start_time": "2023-10-19T13:36:26.042Z"
   },
   {
    "duration": 5,
    "start_time": "2023-10-19T13:36:37.024Z"
   },
   {
    "duration": 4,
    "start_time": "2023-10-19T13:36:47.599Z"
   },
   {
    "duration": 4,
    "start_time": "2023-10-19T13:36:53.933Z"
   },
   {
    "duration": 5,
    "start_time": "2023-10-19T13:37:01.074Z"
   },
   {
    "duration": 4,
    "start_time": "2023-10-19T13:37:02.081Z"
   },
   {
    "duration": 39,
    "start_time": "2023-10-19T13:41:08.261Z"
   },
   {
    "duration": 35,
    "start_time": "2023-10-19T13:42:16.365Z"
   },
   {
    "duration": 49,
    "start_time": "2023-10-19T13:43:01.948Z"
   },
   {
    "duration": 42,
    "start_time": "2023-10-19T13:43:32.881Z"
   },
   {
    "duration": 44,
    "start_time": "2023-10-19T13:44:08.875Z"
   },
   {
    "duration": 45,
    "start_time": "2023-10-19T13:44:29.696Z"
   },
   {
    "duration": 1367,
    "start_time": "2023-10-19T13:44:51.130Z"
   },
   {
    "duration": 47,
    "start_time": "2023-10-19T13:44:52.499Z"
   },
   {
    "duration": 70,
    "start_time": "2023-10-19T13:44:52.553Z"
   },
   {
    "duration": 106,
    "start_time": "2023-10-19T13:44:52.625Z"
   },
   {
    "duration": 39,
    "start_time": "2023-10-19T13:44:52.733Z"
   },
   {
    "duration": 50,
    "start_time": "2023-10-19T13:44:52.774Z"
   },
   {
    "duration": 73,
    "start_time": "2023-10-19T13:44:52.826Z"
   },
   {
    "duration": 624,
    "start_time": "2023-10-19T13:44:52.901Z"
   },
   {
    "duration": 542,
    "start_time": "2023-10-19T13:44:53.527Z"
   },
   {
    "duration": 266,
    "start_time": "2023-10-19T13:44:54.073Z"
   },
   {
    "duration": 288,
    "start_time": "2023-10-19T13:44:54.341Z"
   },
   {
    "duration": 21,
    "start_time": "2023-10-19T13:44:54.631Z"
   },
   {
    "duration": 63,
    "start_time": "2023-10-19T13:44:54.655Z"
   },
   {
    "duration": 9,
    "start_time": "2023-10-19T13:44:54.720Z"
   },
   {
    "duration": 56,
    "start_time": "2023-10-19T13:44:54.731Z"
   },
   {
    "duration": 55,
    "start_time": "2023-10-19T13:44:54.789Z"
   },
   {
    "duration": 193,
    "start_time": "2023-10-19T13:44:54.846Z"
   },
   {
    "duration": 0,
    "start_time": "2023-10-19T13:44:55.041Z"
   },
   {
    "duration": 13,
    "start_time": "2023-10-19T13:45:40.974Z"
   },
   {
    "duration": 1350,
    "start_time": "2023-10-19T13:45:44.911Z"
   },
   {
    "duration": 50,
    "start_time": "2023-10-19T13:45:46.264Z"
   },
   {
    "duration": 15,
    "start_time": "2023-10-19T13:45:46.316Z"
   },
   {
    "duration": 48,
    "start_time": "2023-10-19T13:45:46.334Z"
   },
   {
    "duration": 20,
    "start_time": "2023-10-19T13:45:46.384Z"
   },
   {
    "duration": 39,
    "start_time": "2023-10-19T13:45:46.406Z"
   },
   {
    "duration": 30,
    "start_time": "2023-10-19T13:45:46.451Z"
   },
   {
    "duration": 522,
    "start_time": "2023-10-19T13:45:46.483Z"
   },
   {
    "duration": 533,
    "start_time": "2023-10-19T13:45:47.007Z"
   },
   {
    "duration": 255,
    "start_time": "2023-10-19T13:45:47.552Z"
   },
   {
    "duration": 273,
    "start_time": "2023-10-19T13:45:47.809Z"
   },
   {
    "duration": 16,
    "start_time": "2023-10-19T13:45:48.083Z"
   },
   {
    "duration": 75,
    "start_time": "2023-10-19T13:45:48.102Z"
   },
   {
    "duration": 9,
    "start_time": "2023-10-19T13:45:48.179Z"
   },
   {
    "duration": 32,
    "start_time": "2023-10-19T13:45:48.189Z"
   },
   {
    "duration": 16,
    "start_time": "2023-10-19T13:45:48.223Z"
   },
   {
    "duration": 51,
    "start_time": "2023-10-19T13:45:48.251Z"
   },
   {
    "duration": 197,
    "start_time": "2023-10-19T13:45:48.304Z"
   },
   {
    "duration": 0,
    "start_time": "2023-10-19T13:45:48.503Z"
   },
   {
    "duration": 9413,
    "start_time": "2023-10-19T13:46:24.448Z"
   },
   {
    "duration": 151,
    "start_time": "2023-10-19T13:49:51.606Z"
   },
   {
    "duration": 22,
    "start_time": "2023-10-19T13:58:43.248Z"
   },
   {
    "duration": 23078,
    "start_time": "2023-10-19T13:59:01.042Z"
   },
   {
    "duration": 224,
    "start_time": "2023-10-19T13:59:26.424Z"
   },
   {
    "duration": 1179,
    "start_time": "2023-10-20T14:05:54.684Z"
   },
   {
    "duration": 119,
    "start_time": "2023-10-20T14:05:55.866Z"
   },
   {
    "duration": 19,
    "start_time": "2023-10-20T14:05:55.988Z"
   },
   {
    "duration": 13,
    "start_time": "2023-10-20T14:05:56.010Z"
   },
   {
    "duration": 18,
    "start_time": "2023-10-20T14:05:56.026Z"
   },
   {
    "duration": 15,
    "start_time": "2023-10-20T14:05:56.045Z"
   },
   {
    "duration": 15,
    "start_time": "2023-10-20T14:05:56.062Z"
   },
   {
    "duration": 695,
    "start_time": "2023-10-20T14:05:56.079Z"
   },
   {
    "duration": 486,
    "start_time": "2023-10-20T14:05:56.776Z"
   },
   {
    "duration": 322,
    "start_time": "2023-10-20T14:05:57.264Z"
   },
   {
    "duration": 162,
    "start_time": "2023-10-20T14:05:57.588Z"
   },
   {
    "duration": 15,
    "start_time": "2023-10-20T14:05:57.752Z"
   },
   {
    "duration": 68,
    "start_time": "2023-10-20T14:05:57.769Z"
   },
   {
    "duration": 8,
    "start_time": "2023-10-20T14:05:57.842Z"
   },
   {
    "duration": 25,
    "start_time": "2023-10-20T14:05:57.853Z"
   },
   {
    "duration": 9,
    "start_time": "2023-10-20T14:05:57.880Z"
   },
   {
    "duration": 9951,
    "start_time": "2023-10-20T14:05:57.891Z"
   },
   {
    "duration": 314,
    "start_time": "2023-10-20T14:06:07.928Z"
   },
   {
    "duration": 0,
    "start_time": "2023-10-20T14:06:08.244Z"
   },
   {
    "duration": 0,
    "start_time": "2023-10-20T14:06:08.245Z"
   },
   {
    "duration": 156,
    "start_time": "2023-10-20T14:08:42.694Z"
   },
   {
    "duration": 247,
    "start_time": "2023-10-20T14:08:57.182Z"
   },
   {
    "duration": 23091,
    "start_time": "2023-10-20T14:09:05.151Z"
   },
   {
    "duration": 618,
    "start_time": "2023-10-20T14:09:31.034Z"
   },
   {
    "duration": 5005,
    "start_time": "2023-10-20T14:23:06.224Z"
   },
   {
    "duration": 118,
    "start_time": "2023-10-20T14:23:14.224Z"
   },
   {
    "duration": 1114,
    "start_time": "2023-10-20T14:44:24.100Z"
   },
   {
    "duration": 63,
    "start_time": "2023-10-20T14:44:25.216Z"
   },
   {
    "duration": 13,
    "start_time": "2023-10-20T14:44:25.281Z"
   },
   {
    "duration": 16,
    "start_time": "2023-10-20T14:44:25.295Z"
   },
   {
    "duration": 23,
    "start_time": "2023-10-20T14:44:25.312Z"
   },
   {
    "duration": 34,
    "start_time": "2023-10-20T14:44:25.337Z"
   },
   {
    "duration": 15,
    "start_time": "2023-10-20T14:44:25.372Z"
   },
   {
    "duration": 497,
    "start_time": "2023-10-20T14:44:25.389Z"
   },
   {
    "duration": 491,
    "start_time": "2023-10-20T14:44:25.888Z"
   },
   {
    "duration": 225,
    "start_time": "2023-10-20T14:44:26.382Z"
   },
   {
    "duration": 245,
    "start_time": "2023-10-20T14:44:26.608Z"
   },
   {
    "duration": 15,
    "start_time": "2023-10-20T14:44:26.854Z"
   },
   {
    "duration": 81,
    "start_time": "2023-10-20T14:44:26.871Z"
   },
   {
    "duration": 8,
    "start_time": "2023-10-20T14:44:26.954Z"
   },
   {
    "duration": 37,
    "start_time": "2023-10-20T14:44:26.964Z"
   },
   {
    "duration": 23,
    "start_time": "2023-10-20T14:44:27.003Z"
   },
   {
    "duration": 10715,
    "start_time": "2023-10-20T14:44:27.027Z"
   },
   {
    "duration": 2112,
    "start_time": "2023-10-20T14:44:37.744Z"
   },
   {
    "duration": 32,
    "start_time": "2023-10-20T14:44:39.858Z"
   },
   {
    "duration": 5,
    "start_time": "2023-10-21T07:40:42.747Z"
   },
   {
    "duration": 5,
    "start_time": "2023-10-21T07:41:32.128Z"
   },
   {
    "duration": 52,
    "start_time": "2023-10-21T07:44:09.807Z"
   },
   {
    "duration": 4,
    "start_time": "2023-10-21T07:46:28.600Z"
   },
   {
    "duration": 1251,
    "start_time": "2023-10-21T12:10:53.276Z"
   },
   {
    "duration": 144,
    "start_time": "2023-10-21T12:10:54.529Z"
   },
   {
    "duration": 13,
    "start_time": "2023-10-21T12:10:54.675Z"
   },
   {
    "duration": 9,
    "start_time": "2023-10-21T12:10:54.690Z"
   },
   {
    "duration": 7,
    "start_time": "2023-10-21T12:10:54.701Z"
   },
   {
    "duration": 10,
    "start_time": "2023-10-21T12:10:54.709Z"
   },
   {
    "duration": 9,
    "start_time": "2023-10-21T12:10:54.721Z"
   },
   {
    "duration": 630,
    "start_time": "2023-10-21T12:10:54.731Z"
   },
   {
    "duration": 433,
    "start_time": "2023-10-21T12:10:55.363Z"
   },
   {
    "duration": 289,
    "start_time": "2023-10-21T12:10:55.799Z"
   },
   {
    "duration": 148,
    "start_time": "2023-10-21T12:10:56.089Z"
   },
   {
    "duration": 25,
    "start_time": "2023-10-21T12:10:56.239Z"
   },
   {
    "duration": 50,
    "start_time": "2023-10-21T12:10:56.267Z"
   },
   {
    "duration": 31,
    "start_time": "2023-10-21T12:10:56.319Z"
   },
   {
    "duration": 29,
    "start_time": "2023-10-21T12:10:56.355Z"
   },
   {
    "duration": 9,
    "start_time": "2023-10-21T12:10:56.385Z"
   },
   {
    "duration": 128,
    "start_time": "2023-10-21T12:10:56.396Z"
   },
   {
    "duration": 0,
    "start_time": "2023-10-21T12:10:56.526Z"
   },
   {
    "duration": 0,
    "start_time": "2023-10-21T12:10:56.527Z"
   },
   {
    "duration": 0,
    "start_time": "2023-10-21T12:10:56.528Z"
   },
   {
    "duration": 7,
    "start_time": "2023-10-21T12:11:35.540Z"
   },
   {
    "duration": 13,
    "start_time": "2023-10-21T12:11:49.569Z"
   },
   {
    "duration": 22,
    "start_time": "2023-10-21T12:11:58.435Z"
   },
   {
    "duration": 21,
    "start_time": "2023-10-21T12:15:42.041Z"
   },
   {
    "duration": 9,
    "start_time": "2023-10-21T12:15:56.417Z"
   },
   {
    "duration": 14,
    "start_time": "2023-10-21T12:16:01.813Z"
   },
   {
    "duration": 8,
    "start_time": "2023-10-21T12:16:06.026Z"
   },
   {
    "duration": 16,
    "start_time": "2023-10-21T12:16:09.420Z"
   },
   {
    "duration": 13,
    "start_time": "2023-10-21T12:17:10.891Z"
   },
   {
    "duration": 5,
    "start_time": "2023-10-21T12:17:24.662Z"
   },
   {
    "duration": 12,
    "start_time": "2023-10-21T12:17:29.950Z"
   },
   {
    "duration": 1355,
    "start_time": "2023-10-21T12:24:01.936Z"
   },
   {
    "duration": 3268,
    "start_time": "2023-10-21T12:25:15.304Z"
   },
   {
    "duration": 15,
    "start_time": "2023-10-21T12:28:17.525Z"
   },
   {
    "duration": 1239,
    "start_time": "2023-10-21T12:28:53.511Z"
   },
   {
    "duration": 43,
    "start_time": "2023-10-21T12:28:54.752Z"
   },
   {
    "duration": 14,
    "start_time": "2023-10-21T12:28:54.796Z"
   },
   {
    "duration": 16,
    "start_time": "2023-10-21T12:28:54.813Z"
   },
   {
    "duration": 10,
    "start_time": "2023-10-21T12:28:54.831Z"
   },
   {
    "duration": 12,
    "start_time": "2023-10-21T12:28:54.843Z"
   },
   {
    "duration": 15,
    "start_time": "2023-10-21T12:28:54.857Z"
   },
   {
    "duration": 448,
    "start_time": "2023-10-21T12:28:54.875Z"
   },
   {
    "duration": 421,
    "start_time": "2023-10-21T12:28:55.325Z"
   },
   {
    "duration": 214,
    "start_time": "2023-10-21T12:28:55.750Z"
   },
   {
    "duration": 232,
    "start_time": "2023-10-21T12:28:55.965Z"
   },
   {
    "duration": 14,
    "start_time": "2023-10-21T12:28:56.199Z"
   },
   {
    "duration": 57,
    "start_time": "2023-10-21T12:28:56.215Z"
   },
   {
    "duration": 8,
    "start_time": "2023-10-21T12:28:56.274Z"
   },
   {
    "duration": 26,
    "start_time": "2023-10-21T12:28:56.284Z"
   },
   {
    "duration": 34,
    "start_time": "2023-10-21T12:28:56.312Z"
   },
   {
    "duration": 10300,
    "start_time": "2023-10-21T12:28:56.347Z"
   },
   {
    "duration": 297,
    "start_time": "2023-10-21T12:29:06.649Z"
   },
   {
    "duration": 4606,
    "start_time": "2023-10-21T12:29:06.950Z"
   },
   {
    "duration": 38,
    "start_time": "2023-10-21T12:29:11.558Z"
   },
   {
    "duration": 54,
    "start_time": "2023-10-21T12:29:11.597Z"
   },
   {
    "duration": 45,
    "start_time": "2023-10-21T12:33:25.411Z"
   },
   {
    "duration": 9102,
    "start_time": "2023-10-21T12:34:15.855Z"
   },
   {
    "duration": 124,
    "start_time": "2023-10-21T12:34:29.626Z"
   },
   {
    "duration": 3321,
    "start_time": "2023-10-21T12:35:43.815Z"
   },
   {
    "duration": 48,
    "start_time": "2023-10-21T12:36:18.691Z"
   },
   {
    "duration": 41,
    "start_time": "2023-10-21T12:39:13.011Z"
   },
   {
    "duration": 34,
    "start_time": "2023-10-21T12:39:31.068Z"
   },
   {
    "duration": 1203,
    "start_time": "2023-10-21T12:43:23.025Z"
   },
   {
    "duration": 59,
    "start_time": "2023-10-21T12:43:24.231Z"
   },
   {
    "duration": 17,
    "start_time": "2023-10-21T12:43:24.293Z"
   },
   {
    "duration": 17,
    "start_time": "2023-10-21T12:43:24.313Z"
   },
   {
    "duration": 4,
    "start_time": "2023-10-21T12:43:24.332Z"
   },
   {
    "duration": 17,
    "start_time": "2023-10-21T12:43:24.338Z"
   },
   {
    "duration": 11,
    "start_time": "2023-10-21T12:43:24.362Z"
   },
   {
    "duration": 399,
    "start_time": "2023-10-21T12:43:24.374Z"
   },
   {
    "duration": 454,
    "start_time": "2023-10-21T12:43:24.775Z"
   },
   {
    "duration": 207,
    "start_time": "2023-10-21T12:43:25.233Z"
   },
   {
    "duration": 218,
    "start_time": "2023-10-21T12:43:25.441Z"
   },
   {
    "duration": 13,
    "start_time": "2023-10-21T12:43:25.662Z"
   },
   {
    "duration": 39,
    "start_time": "2023-10-21T12:43:25.677Z"
   },
   {
    "duration": 38,
    "start_time": "2023-10-21T12:43:25.718Z"
   },
   {
    "duration": 21,
    "start_time": "2023-10-21T12:43:25.758Z"
   },
   {
    "duration": 8,
    "start_time": "2023-10-21T12:43:25.781Z"
   },
   {
    "duration": 8382,
    "start_time": "2023-10-21T12:43:25.790Z"
   },
   {
    "duration": 203,
    "start_time": "2023-10-21T12:43:34.254Z"
   },
   {
    "duration": 3361,
    "start_time": "2023-10-21T12:43:34.462Z"
   },
   {
    "duration": 47,
    "start_time": "2023-10-21T12:43:37.825Z"
   },
   {
    "duration": 172,
    "start_time": "2023-10-21T12:43:37.874Z"
   },
   {
    "duration": 34,
    "start_time": "2023-10-22T06:55:29.868Z"
   }
  ],
  "kernelspec": {
   "display_name": "Python 3 (ipykernel)",
   "language": "python",
   "name": "python3"
  },
  "language_info": {
   "codemirror_mode": {
    "name": "ipython",
    "version": 3
   },
   "file_extension": ".py",
   "mimetype": "text/x-python",
   "name": "python",
   "nbconvert_exporter": "python",
   "pygments_lexer": "ipython3",
   "version": "3.9.5"
  },
  "toc": {
   "base_numbering": 1,
   "nav_menu": {},
   "number_sections": true,
   "sideBar": true,
   "skip_h1_title": true,
   "title_cell": "Содержание",
   "title_sidebar": "Contents",
   "toc_cell": true,
   "toc_position": {
    "height": "calc(100% - 180px)",
    "left": "10px",
    "top": "150px",
    "width": "206px"
   },
   "toc_section_display": true,
   "toc_window_display": true
  }
 },
 "nbformat": 4,
 "nbformat_minor": 2
}
