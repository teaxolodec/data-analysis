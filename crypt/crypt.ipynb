{
 "cells": [
  {
   "cell_type": "markdown",
   "metadata": {},
   "source": [
    "   *«В математическом анализе всё должно быть точно. Какой смысл в неточном утверждении? Вот у Вас есть номер телефона. Какой в нём смысл, если Вы знаете его неточно?»*\n",
    "\n",
    "   -- Дмитрий Беклемишев"
   ]
  },
  {
   "cell_type": "markdown",
   "metadata": {
    "toc": true
   },
   "source": [
    "<h1>Содержание<span class=\"tocSkip\"></span></h1>\n",
    "<div class=\"toc\"><ul class=\"toc-item\"><li><span><a href=\"#Загрузка-данных\" data-toc-modified-id=\"Загрузка-данных-1\"><span class=\"toc-item-num\">1&nbsp;&nbsp;</span>Загрузка данных</a></span></li><li><span><a href=\"#Умножение-матриц\" data-toc-modified-id=\"Умножение-матриц-2\"><span class=\"toc-item-num\">2&nbsp;&nbsp;</span>Умножение матриц</a></span></li><li><span><a href=\"#Алгоритм-преобразования\" data-toc-modified-id=\"Алгоритм-преобразования-3\"><span class=\"toc-item-num\">3&nbsp;&nbsp;</span>Алгоритм преобразования</a></span></li><li><span><a href=\"#Вывод\" data-toc-modified-id=\"Вывод-4\"><span class=\"toc-item-num\">4&nbsp;&nbsp;</span>Вывод</a></span></li></ul></div>"
   ]
  },
  {
   "cell_type": "markdown",
   "metadata": {},
   "source": [
    "# Защита персональных данных клиентов"
   ]
  },
  {
   "cell_type": "markdown",
   "metadata": {},
   "source": [
    "Необходимо защитить данные клиентов страховой компании «Хоть потоп». В данной работе будет разработан метод преобразования данных, чтобы по ним было сложно восстановить персональную информацию."
   ]
  },
  {
   "cell_type": "markdown",
   "metadata": {},
   "source": [
    "<div class=\"alert alert-info\">\n",
    "<b>Комментарий:</b>\n",
    "То что сделано в данном проекте является одним из самых странных и непрактичных решений, которое я видел в своей жизни, хотя видел я не так уж и много. На мой взгляд подобныее задачи лучше решать другими средствами. Например, хранить указанные данные в зашифрованом архиве и/или в зашифрованом разделе диска.\n",
    "\n",
    "Тем не менее всё это представляет занятную тонкость, однако я не могу представить ситуации, где она действительно могла бы пригодиться.\n",
    "</div>"
   ]
  },
  {
   "cell_type": "markdown",
   "metadata": {},
   "source": [
    "## Загрузка данных"
   ]
  },
  {
   "cell_type": "code",
   "execution_count": 1,
   "metadata": {},
   "outputs": [],
   "source": [
    "import random\n",
    "import numpy as np\n",
    "import pandas as pd\n",
    "from sklearn.metrics import r2_score"
   ]
  },
  {
   "cell_type": "code",
   "execution_count": 2,
   "metadata": {},
   "outputs": [],
   "source": [
    "data = pd.read_csv('/datasets/insurance.csv')"
   ]
  },
  {
   "cell_type": "markdown",
   "metadata": {},
   "source": [
    "Посмотрим на загружаемые данные."
   ]
  },
  {
   "cell_type": "code",
   "execution_count": 3,
   "metadata": {},
   "outputs": [
    {
     "data": {
      "text/html": [
       "<div>\n",
       "<style scoped>\n",
       "    .dataframe tbody tr th:only-of-type {\n",
       "        vertical-align: middle;\n",
       "    }\n",
       "\n",
       "    .dataframe tbody tr th {\n",
       "        vertical-align: top;\n",
       "    }\n",
       "\n",
       "    .dataframe thead th {\n",
       "        text-align: right;\n",
       "    }\n",
       "</style>\n",
       "<table border=\"1\" class=\"dataframe\">\n",
       "  <thead>\n",
       "    <tr style=\"text-align: right;\">\n",
       "      <th></th>\n",
       "      <th>Пол</th>\n",
       "      <th>Возраст</th>\n",
       "      <th>Зарплата</th>\n",
       "      <th>Члены семьи</th>\n",
       "      <th>Страховые выплаты</th>\n",
       "    </tr>\n",
       "  </thead>\n",
       "  <tbody>\n",
       "    <tr>\n",
       "      <th>0</th>\n",
       "      <td>1</td>\n",
       "      <td>41.0</td>\n",
       "      <td>49600.0</td>\n",
       "      <td>1</td>\n",
       "      <td>0</td>\n",
       "    </tr>\n",
       "    <tr>\n",
       "      <th>1</th>\n",
       "      <td>0</td>\n",
       "      <td>46.0</td>\n",
       "      <td>38000.0</td>\n",
       "      <td>1</td>\n",
       "      <td>1</td>\n",
       "    </tr>\n",
       "    <tr>\n",
       "      <th>2</th>\n",
       "      <td>0</td>\n",
       "      <td>29.0</td>\n",
       "      <td>21000.0</td>\n",
       "      <td>0</td>\n",
       "      <td>0</td>\n",
       "    </tr>\n",
       "    <tr>\n",
       "      <th>3</th>\n",
       "      <td>0</td>\n",
       "      <td>21.0</td>\n",
       "      <td>41700.0</td>\n",
       "      <td>2</td>\n",
       "      <td>0</td>\n",
       "    </tr>\n",
       "    <tr>\n",
       "      <th>4</th>\n",
       "      <td>1</td>\n",
       "      <td>28.0</td>\n",
       "      <td>26100.0</td>\n",
       "      <td>0</td>\n",
       "      <td>0</td>\n",
       "    </tr>\n",
       "    <tr>\n",
       "      <th>5</th>\n",
       "      <td>1</td>\n",
       "      <td>43.0</td>\n",
       "      <td>41000.0</td>\n",
       "      <td>2</td>\n",
       "      <td>1</td>\n",
       "    </tr>\n",
       "    <tr>\n",
       "      <th>6</th>\n",
       "      <td>1</td>\n",
       "      <td>39.0</td>\n",
       "      <td>39700.0</td>\n",
       "      <td>2</td>\n",
       "      <td>0</td>\n",
       "    </tr>\n",
       "    <tr>\n",
       "      <th>7</th>\n",
       "      <td>1</td>\n",
       "      <td>25.0</td>\n",
       "      <td>38600.0</td>\n",
       "      <td>4</td>\n",
       "      <td>0</td>\n",
       "    </tr>\n",
       "    <tr>\n",
       "      <th>8</th>\n",
       "      <td>1</td>\n",
       "      <td>36.0</td>\n",
       "      <td>49700.0</td>\n",
       "      <td>1</td>\n",
       "      <td>0</td>\n",
       "    </tr>\n",
       "    <tr>\n",
       "      <th>9</th>\n",
       "      <td>1</td>\n",
       "      <td>32.0</td>\n",
       "      <td>51700.0</td>\n",
       "      <td>1</td>\n",
       "      <td>0</td>\n",
       "    </tr>\n",
       "  </tbody>\n",
       "</table>\n",
       "</div>"
      ],
      "text/plain": [
       "   Пол  Возраст  Зарплата  Члены семьи  Страховые выплаты\n",
       "0    1     41.0   49600.0            1                  0\n",
       "1    0     46.0   38000.0            1                  1\n",
       "2    0     29.0   21000.0            0                  0\n",
       "3    0     21.0   41700.0            2                  0\n",
       "4    1     28.0   26100.0            0                  0\n",
       "5    1     43.0   41000.0            2                  1\n",
       "6    1     39.0   39700.0            2                  0\n",
       "7    1     25.0   38600.0            4                  0\n",
       "8    1     36.0   49700.0            1                  0\n",
       "9    1     32.0   51700.0            1                  0"
      ]
     },
     "execution_count": 3,
     "metadata": {},
     "output_type": "execute_result"
    }
   ],
   "source": [
    "data.head(10)"
   ]
  },
  {
   "cell_type": "markdown",
   "metadata": {},
   "source": [
    "Для удобства переименуем названия столбцов."
   ]
  },
  {
   "cell_type": "code",
   "execution_count": 4,
   "metadata": {},
   "outputs": [],
   "source": [
    "data = data.rename(columns={'Пол': 'sex',\n",
    "                            'Возраст': 'age',\n",
    "                            'Зарплата' : 'cash',\n",
    "                            'Члены семьи' : 'family',\n",
    "                            'Страховые выплаты' : 'count'\n",
    "                           })"
   ]
  },
  {
   "cell_type": "markdown",
   "metadata": {},
   "source": [
    "И изменим тип данных в столбце о возрасте на более подходящий."
   ]
  },
  {
   "cell_type": "code",
   "execution_count": 5,
   "metadata": {},
   "outputs": [],
   "source": [
    "data['age'] = data['age'].astype(int)"
   ]
  },
  {
   "cell_type": "markdown",
   "metadata": {},
   "source": [
    "В указанных данных нет явных пропусков. Поиск дубликатов затруднён форматом указанных данных, поэтому будем считать, что в указанных данных их нет."
   ]
  },
  {
   "cell_type": "code",
   "execution_count": 6,
   "metadata": {
    "scrolled": false
   },
   "outputs": [
    {
     "name": "stdout",
     "output_type": "stream",
     "text": [
      "<class 'pandas.core.frame.DataFrame'>\n",
      "RangeIndex: 5000 entries, 0 to 4999\n",
      "Data columns (total 5 columns):\n",
      " #   Column  Non-Null Count  Dtype  \n",
      "---  ------  --------------  -----  \n",
      " 0   sex     5000 non-null   int64  \n",
      " 1   age     5000 non-null   int64  \n",
      " 2   cash    5000 non-null   float64\n",
      " 3   family  5000 non-null   int64  \n",
      " 4   count   5000 non-null   int64  \n",
      "dtypes: float64(1), int64(4)\n",
      "memory usage: 195.4 KB\n"
     ]
    }
   ],
   "source": [
    "data.info()"
   ]
  },
  {
   "cell_type": "markdown",
   "metadata": {},
   "source": [
    "## Умножение матриц"
   ]
  },
  {
   "cell_type": "markdown",
   "metadata": {},
   "source": [
    "Ответим на вопрос о качестве линейной регрессии при умножении матрицы признаков на матрицу, имеющую обратную матрицу."
   ]
  },
  {
   "cell_type": "markdown",
   "metadata": {},
   "source": [
    "Обозначения:\n",
    "\n",
    "- $X$ — матрица признаков (нулевой столбец состоит из единиц)\n",
    "\n",
    "- $y$ — вектор целевого признака\n",
    "\n",
    "- $P^{-1}$ — матрица, на которую умножаются признаки\n",
    "\n",
    "- $w$ — вектор весов линейной регрессии (нулевой элемент равен сдвигу)"
   ]
  },
  {
   "cell_type": "markdown",
   "metadata": {},
   "source": [
    "Предсказания:\n",
    "\n",
    "$$\n",
    "a = Xw\n",
    "$$\n",
    "\n",
    "Задача обучения:\n",
    "\n",
    "$$\n",
    "w = \\arg\\min_w MSE(Xw, y)\n",
    "$$\n",
    "\n",
    "Формула обучения:\n",
    "\n",
    "$$\n",
    "w = (X^T X)^{-1} X^T y\n",
    "$$"
   ]
  },
  {
   "cell_type": "markdown",
   "metadata": {},
   "source": [
    "---"
   ]
  },
  {
   "cell_type": "markdown",
   "metadata": {},
   "source": [
    "**Ответ:** В обеих задачах параметры линейной регрессии определяются на основе матрицы признаков $X$ и вектора целевого признака $\\vec{y}$. Если мы умножим исходную матрицу признаков на обратимую матрицу, то такая формула обучения:\n",
    "\n",
    "$$\n",
    "w = (X^T X)^{-1} X^T y\n",
    "$$\n",
    "\n",
    "Превратиться в следующуюю:\n",
    "\n",
    "$$\n",
    "w' = ((XP^{-1})^T XP^{-1})^{-1} (XP^{-1})^T y\n",
    "$$\n",
    "\n",
    "Далее, применяя, свойства обратой матрицы можем получить:\n",
    "\n",
    "$$\n",
    "w' = ((P^{-1})^T X^T X P^{-1})^{-1} (P^{-1})^T X^T y\n",
    "$$\n",
    "\n",
    "$$\n",
    "w' = P (X^T X)^{-1} P^T (P^{-1})^T X^T y\n",
    "$$\n",
    "\n",
    "$$\n",
    "w' = P (X^T X)^{-1} (E)^T X^T y\n",
    "$$\n",
    "\n",
    "$$\n",
    "w' = P (X^T X)^{-1} (E X)^T y\n",
    "$$\n",
    "\n",
    "$$\n",
    "w' = P (X^T X)^{-1} (X)^T y\n",
    "$$\n",
    "\n",
    "Учитывая выражение для $w$:\n",
    "\n",
    "$$\n",
    "w' = (P^{-1})^{-1} w\n",
    "$$\n",
    "\n",
    "Таким образом задача обучения для $w'$ может быть поставлена следующим образом:\n",
    "\n",
    "$$\n",
    "w' = \\arg\\min_w MSE(XP^{-1}w, y)\n",
    "$$\n",
    "\n",
    "Для того, чтобы из новой задачи получить старые предсказания ($a = a'$), можно прибегнуть к следующему выражению.\n",
    "\n",
    "$$\n",
    "a' = Xw' = X(P^{-1})^{-1} w\n",
    "$$"
   ]
  },
  {
   "cell_type": "markdown",
   "metadata": {},
   "source": [
    "## Алгоритм преобразования"
   ]
  },
  {
   "cell_type": "markdown",
   "metadata": {},
   "source": [
    "Для востановления персональной информации обучим модель, которая бы могла востанавливать её по остальным данным. Для этого разделим исходные данные на неперсональные данные, по которым мы будем обучать модель и персональные данные, которые мы будем восстанавливать."
   ]
  },
  {
   "cell_type": "code",
   "execution_count": 7,
   "metadata": {},
   "outputs": [],
   "source": [
    "features = data.drop('count', axis=1)\n",
    "target = data['count']"
   ]
  },
  {
   "cell_type": "markdown",
   "metadata": {},
   "source": [
    "Для восстановления будем применять модель линейной регрессии. Найдём среднеквадратичную ошибку такой модели на указанных данных."
   ]
  },
  {
   "cell_type": "code",
   "execution_count": 8,
   "metadata": {},
   "outputs": [
    {
     "name": "stdout",
     "output_type": "stream",
     "text": [
      "0.42494550286668\n"
     ]
    }
   ],
   "source": [
    "class LinearRegression:\n",
    "    def fit(self, train_features, train_target):\n",
    "        X = np.concatenate((np.ones((train_features.shape[0], 1)), train_features), axis=1)\n",
    "        y = train_target\n",
    "        w = np.dot(np.dot(np.linalg.inv(np.dot(X.T,X)),X.T),y)\n",
    "        self.w = w[1:]\n",
    "        self.w0 = w[0]\n",
    "\n",
    "    def predict(self, test_features):\n",
    "        return np.dot(test_features,self.w) + self.w0\n",
    "    \n",
    "model = LinearRegression()\n",
    "model.fit(features, target)\n",
    "predictions = model.predict(features)\n",
    "print(r2_score(target, predictions))"
   ]
  },
  {
   "cell_type": "markdown",
   "metadata": {},
   "source": [
    "Для большей сложности восстановления введём ключ -- квадратную матрицу, подставляемую в задачу обучения таким образом, чтобы из $w$ получить $w'$, а именно, умножив $X$ на эту матрицу квадратную матрицу на этапе обучения с последующем домножением этой квадратной матрицы на $w$ этапе предсказаний."
   ]
  },
  {
   "cell_type": "code",
   "execution_count": 9,
   "metadata": {},
   "outputs": [
    {
     "data": {
      "text/plain": [
       "array([[0.00988591, 0.91403186, 0.36156845, 0.88658255, 0.28022072],\n",
       "       [0.45284271, 0.66672081, 0.92205821, 0.0555644 , 0.33581081],\n",
       "       [0.055686  , 0.91208412, 0.79756448, 0.80432457, 0.19752541],\n",
       "       [0.80854408, 0.77053618, 0.0726572 , 0.14558914, 0.87222955],\n",
       "       [0.07675279, 0.1892761 , 0.99087406, 0.97346773, 0.55246787]])"
      ]
     },
     "execution_count": 9,
     "metadata": {},
     "output_type": "execute_result"
    }
   ],
   "source": [
    "rrrr = 42 # фиксируем последовательность\n",
    "random.seed(rrrr)\n",
    "\n",
    "s = len(data.columns)\n",
    "key = np.random.rand(s,s)\n",
    "while np.linalg.det(key) == 0:\n",
    "    key = np.random.rand(s,s)\n",
    "\n",
    "key"
   ]
  },
  {
   "cell_type": "markdown",
   "metadata": {},
   "source": [
    "Новый метод даёт тоже самое среднее квадратичное отклонение, что и старый, без ключа."
   ]
  },
  {
   "cell_type": "code",
   "execution_count": 10,
   "metadata": {},
   "outputs": [
    {
     "name": "stdout",
     "output_type": "stream",
     "text": [
      "0.4249391124904376\n"
     ]
    }
   ],
   "source": [
    "class KeyLinearRegression:\n",
    "    def fit(self, train_features, train_target, key):\n",
    "        X = np.concatenate((np.ones((train_features.shape[0], 1)), train_features), axis=1)\n",
    "        X = np.dot(X,key)\n",
    "        y = train_target\n",
    "        self.w = np.dot(np.dot(np.linalg.inv(np.dot(X.T,X)),X.T),y)\n",
    "\n",
    "    def predict(self, test_features, key):\n",
    "        ww = np.dot(key,self.w)\n",
    "        w = ww[1:]\n",
    "        w0 = ww[0]\n",
    "        return np.dot(test_features,w) + w0\n",
    "    \n",
    "model = KeyLinearRegression()\n",
    "model.fit(features, target, key)\n",
    "predictions = model.predict(features, key)\n",
    "print(r2_score(target, predictions))"
   ]
  },
  {
   "cell_type": "markdown",
   "metadata": {},
   "source": [
    "При этом, если попытаться подставить в этап предсказаний неправильный ключ, то можно получить совершенно неожиданный результаты."
   ]
  },
  {
   "cell_type": "code",
   "execution_count": 11,
   "metadata": {},
   "outputs": [
    {
     "data": {
      "text/plain": [
       "array([[0.49749235, 0.53833892, 0.29968431, 0.53741985, 0.90438962],\n",
       "       [0.81011997, 0.31524245, 0.33408013, 0.47968869, 0.52124193],\n",
       "       [0.76169138, 0.1724569 , 0.23677016, 0.9391132 , 0.78519702],\n",
       "       [0.03532556, 0.00880531, 0.77336012, 0.30141145, 0.3542815 ],\n",
       "       [0.18297066, 0.2156985 , 0.80136748, 0.1712449 , 0.99835233]])"
      ]
     },
     "execution_count": 11,
     "metadata": {},
     "output_type": "execute_result"
    }
   ],
   "source": [
    "rrrr = 14 # фиксируем последовательность\n",
    "random.seed(rrrr)\n",
    "\n",
    "s = len(data.columns)\n",
    "nekey = np.random.rand(s,s)\n",
    "while np.linalg.det(nekey) == 0:\n",
    "    nekey = np.random.rand(s,s)\n",
    "\n",
    "nekey"
   ]
  },
  {
   "cell_type": "code",
   "execution_count": 12,
   "metadata": {},
   "outputs": [
    {
     "name": "stdout",
     "output_type": "stream",
     "text": [
      "-61174831784.225784\n"
     ]
    }
   ],
   "source": [
    "model = KeyLinearRegression()\n",
    "model.fit(features, target, key)\n",
    "predictions = model.predict(features, nekey)\n",
    "print(r2_score(target, predictions))"
   ]
  },
  {
   "cell_type": "markdown",
   "metadata": {},
   "source": [
    "## Вывод"
   ]
  },
  {
   "cell_type": "markdown",
   "metadata": {},
   "source": [
    "В данном анализе был предложен механизм шифрования персональной информации клиентов страховой компании. Данный метод позволит не только скрыть персональную информацию, но и остальные столбцы в указанных данных, если применять его к таковым. Стоит отметить, что данный алгоритм будет успешно работать только в том случае, если всместо указанных фиксированных последовательностей использовать более длинные. В противном случае ключи можно легко подобрать."
   ]
  }
 ],
 "metadata": {
  "ExecuteTimeLog": [
   {
    "duration": 542,
    "start_time": "2023-10-01T15:10:58.474Z"
   },
   {
    "duration": 17,
    "start_time": "2023-10-01T15:12:12.405Z"
   },
   {
    "duration": 15,
    "start_time": "2023-10-01T15:12:23.831Z"
   },
   {
    "duration": 7,
    "start_time": "2023-10-01T15:14:59.411Z"
   },
   {
    "duration": 6,
    "start_time": "2023-10-01T15:18:52.455Z"
   },
   {
    "duration": 72,
    "start_time": "2023-10-01T15:23:16.807Z"
   },
   {
    "duration": 4,
    "start_time": "2023-10-01T15:23:26.528Z"
   },
   {
    "duration": 381,
    "start_time": "2023-10-01T15:24:58.297Z"
   },
   {
    "duration": 17,
    "start_time": "2023-10-01T15:24:58.680Z"
   },
   {
    "duration": 5,
    "start_time": "2023-10-01T15:24:58.699Z"
   },
   {
    "duration": 5,
    "start_time": "2023-10-01T15:24:58.707Z"
   },
   {
    "duration": 21,
    "start_time": "2023-10-01T15:24:58.714Z"
   },
   {
    "duration": 7,
    "start_time": "2023-10-01T15:50:40.694Z"
   },
   {
    "duration": 60,
    "start_time": "2023-10-02T13:07:44.221Z"
   },
   {
    "duration": 374,
    "start_time": "2023-10-02T13:08:48.388Z"
   },
   {
    "duration": 3,
    "start_time": "2023-10-02T13:10:49.550Z"
   },
   {
    "duration": 9,
    "start_time": "2023-10-02T13:12:55.401Z"
   },
   {
    "duration": 4,
    "start_time": "2023-10-02T13:12:57.081Z"
   },
   {
    "duration": 3,
    "start_time": "2023-10-02T13:12:57.615Z"
   },
   {
    "duration": 4,
    "start_time": "2023-10-02T13:12:58.100Z"
   },
   {
    "duration": 5,
    "start_time": "2023-10-02T13:13:04.592Z"
   },
   {
    "duration": 4,
    "start_time": "2023-10-02T13:13:05.215Z"
   },
   {
    "duration": 28,
    "start_time": "2023-10-02T13:15:27.907Z"
   },
   {
    "duration": 409,
    "start_time": "2023-10-02T13:15:35.757Z"
   },
   {
    "duration": 130,
    "start_time": "2023-10-02T13:15:36.168Z"
   },
   {
    "duration": 17,
    "start_time": "2023-10-02T13:15:36.300Z"
   },
   {
    "duration": 16,
    "start_time": "2023-10-02T13:15:36.319Z"
   },
   {
    "duration": 9,
    "start_time": "2023-10-02T13:15:36.337Z"
   },
   {
    "duration": 26,
    "start_time": "2023-10-02T13:15:36.349Z"
   },
   {
    "duration": 9,
    "start_time": "2023-10-02T13:15:36.377Z"
   },
   {
    "duration": 612,
    "start_time": "2023-10-02T13:16:24.754Z"
   },
   {
    "duration": 30,
    "start_time": "2023-10-02T13:17:10.084Z"
   },
   {
    "duration": 609,
    "start_time": "2023-10-02T13:17:58.983Z"
   },
   {
    "duration": 620,
    "start_time": "2023-10-02T13:18:09.861Z"
   },
   {
    "duration": 9,
    "start_time": "2023-10-02T13:18:12.986Z"
   },
   {
    "duration": 583,
    "start_time": "2023-10-02T13:18:18.062Z"
   },
   {
    "duration": 9,
    "start_time": "2023-10-02T13:18:28.124Z"
   },
   {
    "duration": 597,
    "start_time": "2023-10-02T13:18:29.255Z"
   },
   {
    "duration": 14,
    "start_time": "2023-10-02T13:18:55.606Z"
   },
   {
    "duration": 9,
    "start_time": "2023-10-02T13:19:07.183Z"
   },
   {
    "duration": 9,
    "start_time": "2023-10-02T13:19:22.115Z"
   },
   {
    "duration": 13,
    "start_time": "2023-10-02T13:27:57.298Z"
   },
   {
    "duration": 14,
    "start_time": "2023-10-02T13:28:26.832Z"
   },
   {
    "duration": 10,
    "start_time": "2023-10-02T13:28:36.315Z"
   },
   {
    "duration": 9,
    "start_time": "2023-10-02T13:28:50.909Z"
   },
   {
    "duration": 394,
    "start_time": "2023-10-02T13:50:27.905Z"
   },
   {
    "duration": 29,
    "start_time": "2023-10-02T13:50:28.301Z"
   },
   {
    "duration": 35,
    "start_time": "2023-10-02T13:50:28.332Z"
   },
   {
    "duration": 15,
    "start_time": "2023-10-02T13:50:28.368Z"
   },
   {
    "duration": 8,
    "start_time": "2023-10-02T13:50:28.385Z"
   },
   {
    "duration": 19,
    "start_time": "2023-10-02T13:50:28.395Z"
   },
   {
    "duration": 10,
    "start_time": "2023-10-02T13:50:28.416Z"
   },
   {
    "duration": 15,
    "start_time": "2023-10-02T13:50:28.428Z"
   },
   {
    "duration": 24,
    "start_time": "2023-10-02T13:50:28.445Z"
   },
   {
    "duration": 14,
    "start_time": "2023-10-02T13:50:28.470Z"
   },
   {
    "duration": 21,
    "start_time": "2023-10-02T13:50:28.485Z"
   },
   {
    "duration": 1190,
    "start_time": "2023-10-04T13:42:40.332Z"
   },
   {
    "duration": 74,
    "start_time": "2023-10-04T13:42:43.281Z"
   },
   {
    "duration": 19,
    "start_time": "2023-10-04T13:42:44.882Z"
   },
   {
    "duration": 5,
    "start_time": "2023-10-04T13:42:46.500Z"
   },
   {
    "duration": 5,
    "start_time": "2023-10-04T13:42:48.761Z"
   },
   {
    "duration": 12,
    "start_time": "2023-10-04T13:42:49.934Z"
   },
   {
    "duration": 5,
    "start_time": "2023-10-04T13:48:54.214Z"
   },
   {
    "duration": 6,
    "start_time": "2023-10-04T13:49:29.263Z"
   },
   {
    "duration": 959,
    "start_time": "2023-10-04T13:50:43.175Z"
   },
   {
    "duration": 703,
    "start_time": "2023-10-04T13:51:01.636Z"
   },
   {
    "duration": 6,
    "start_time": "2023-10-04T13:51:12.025Z"
   },
   {
    "duration": 1084,
    "start_time": "2023-10-04T13:51:19.877Z"
   },
   {
    "duration": 6,
    "start_time": "2023-10-04T13:51:39.395Z"
   },
   {
    "duration": 6,
    "start_time": "2023-10-04T13:52:29.240Z"
   },
   {
    "duration": 11,
    "start_time": "2023-10-04T13:54:52.684Z"
   },
   {
    "duration": 5,
    "start_time": "2023-10-04T14:01:16.704Z"
   },
   {
    "duration": 11,
    "start_time": "2023-10-04T14:01:17.925Z"
   },
   {
    "duration": 11,
    "start_time": "2023-10-04T14:01:26.724Z"
   },
   {
    "duration": 13,
    "start_time": "2023-10-04T14:09:19.735Z"
   },
   {
    "duration": 12,
    "start_time": "2023-10-04T14:09:32.900Z"
   },
   {
    "duration": 10,
    "start_time": "2023-10-04T14:09:46.931Z"
   },
   {
    "duration": 10,
    "start_time": "2023-10-04T14:10:04.040Z"
   },
   {
    "duration": 12,
    "start_time": "2023-10-04T14:10:09.078Z"
   },
   {
    "duration": 12,
    "start_time": "2023-10-04T14:10:45.280Z"
   },
   {
    "duration": 8,
    "start_time": "2023-10-04T14:11:00.095Z"
   },
   {
    "duration": 9,
    "start_time": "2023-10-04T14:11:12.658Z"
   },
   {
    "duration": 4,
    "start_time": "2023-10-04T14:11:17.972Z"
   },
   {
    "duration": 4,
    "start_time": "2023-10-04T14:11:25.135Z"
   },
   {
    "duration": 5,
    "start_time": "2023-10-04T14:11:33.704Z"
   },
   {
    "duration": 17,
    "start_time": "2023-10-04T14:12:19.901Z"
   },
   {
    "duration": 129,
    "start_time": "2023-10-04T14:12:30.803Z"
   },
   {
    "duration": 18,
    "start_time": "2023-10-04T14:12:38.938Z"
   },
   {
    "duration": 12,
    "start_time": "2023-10-04T14:12:45.448Z"
   },
   {
    "duration": 13,
    "start_time": "2023-10-04T14:13:06.943Z"
   },
   {
    "duration": 10,
    "start_time": "2023-10-04T14:13:13.234Z"
   },
   {
    "duration": 4,
    "start_time": "2023-10-04T14:25:35.973Z"
   },
   {
    "duration": 9,
    "start_time": "2023-10-04T14:29:28.615Z"
   },
   {
    "duration": 5,
    "start_time": "2023-10-04T14:29:30.791Z"
   },
   {
    "duration": 11,
    "start_time": "2023-10-04T14:34:21.695Z"
   },
   {
    "duration": 10,
    "start_time": "2023-10-04T14:35:08.281Z"
   },
   {
    "duration": 23,
    "start_time": "2023-10-04T14:35:48.231Z"
   },
   {
    "duration": 18,
    "start_time": "2023-10-04T14:39:50.442Z"
   },
   {
    "duration": 46,
    "start_time": "2023-10-04T14:40:22.702Z"
   },
   {
    "duration": 115,
    "start_time": "2023-10-04T14:40:34.843Z"
   },
   {
    "duration": 6,
    "start_time": "2023-10-04T14:44:21.001Z"
   },
   {
    "duration": 8,
    "start_time": "2023-10-04T14:44:27.398Z"
   },
   {
    "duration": 68,
    "start_time": "2023-10-05T14:02:26.561Z"
   },
   {
    "duration": 1004,
    "start_time": "2023-10-05T14:02:34.402Z"
   },
   {
    "duration": 92,
    "start_time": "2023-10-05T14:02:35.408Z"
   },
   {
    "duration": 16,
    "start_time": "2023-10-05T14:02:35.502Z"
   },
   {
    "duration": 18,
    "start_time": "2023-10-05T14:02:35.520Z"
   },
   {
    "duration": 32,
    "start_time": "2023-10-05T14:02:35.540Z"
   },
   {
    "duration": 36,
    "start_time": "2023-10-05T14:02:35.573Z"
   },
   {
    "duration": 37,
    "start_time": "2023-10-05T14:02:35.610Z"
   },
   {
    "duration": 113,
    "start_time": "2023-10-05T14:02:35.649Z"
   },
   {
    "duration": 5,
    "start_time": "2023-10-05T14:02:35.849Z"
   },
   {
    "duration": 40,
    "start_time": "2023-10-05T14:02:35.856Z"
   },
   {
    "duration": 156,
    "start_time": "2023-10-05T14:02:35.897Z"
   },
   {
    "duration": 59,
    "start_time": "2023-10-05T14:02:36.055Z"
   },
   {
    "duration": 1113,
    "start_time": "2023-10-05T14:06:27.953Z"
   },
   {
    "duration": 34,
    "start_time": "2023-10-05T14:06:29.069Z"
   },
   {
    "duration": 23,
    "start_time": "2023-10-05T14:06:29.105Z"
   },
   {
    "duration": 33,
    "start_time": "2023-10-05T14:06:29.130Z"
   },
   {
    "duration": 32,
    "start_time": "2023-10-05T14:06:29.165Z"
   },
   {
    "duration": 42,
    "start_time": "2023-10-05T14:06:29.199Z"
   },
   {
    "duration": 32,
    "start_time": "2023-10-05T14:06:29.243Z"
   },
   {
    "duration": 73,
    "start_time": "2023-10-05T14:06:29.277Z"
   },
   {
    "duration": 122,
    "start_time": "2023-10-05T14:06:29.352Z"
   },
   {
    "duration": 37,
    "start_time": "2023-10-05T14:06:29.478Z"
   },
   {
    "duration": 135,
    "start_time": "2023-10-05T14:06:29.518Z"
   },
   {
    "duration": 53,
    "start_time": "2023-10-05T14:06:29.655Z"
   }
  ],
  "kernelspec": {
   "display_name": "Python 3 (ipykernel)",
   "language": "python",
   "name": "python3"
  },
  "language_info": {
   "codemirror_mode": {
    "name": "ipython",
    "version": 3
   },
   "file_extension": ".py",
   "mimetype": "text/x-python",
   "name": "python",
   "nbconvert_exporter": "python",
   "pygments_lexer": "ipython3",
   "version": "3.9.5"
  },
  "toc": {
   "base_numbering": 1,
   "nav_menu": {},
   "number_sections": true,
   "sideBar": true,
   "skip_h1_title": true,
   "title_cell": "Содержание",
   "title_sidebar": "Contents",
   "toc_cell": true,
   "toc_position": {},
   "toc_section_display": true,
   "toc_window_display": false
  }
 },
 "nbformat": 4,
 "nbformat_minor": 2
}
