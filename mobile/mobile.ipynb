{
 "cells": [
  {
   "cell_type": "markdown",
   "metadata": {},
   "source": [
    "   *«Труднее всего дать хорошую рекомендацию человеку, которого очень хорошо знаешь.»*\n",
    "\n",
    "   -- Френк Хаббард"
   ]
  },
  {
   "cell_type": "markdown",
   "metadata": {},
   "source": [
    "# Рекомендация тарифов"
   ]
  },
  {
   "cell_type": "markdown",
   "metadata": {},
   "source": [
    "В ходе данного анализа будет построена модель, прогнозирующая удобный новый тариф для перехода на него с архивного тарифного плана для соответсвующих клиентов оператора мобильной связи \"Мегалайн\". Для этого с помощью алгоритмов случайного леса и решающего дерева будут построены и сравнены модели для задачи классификации выбора подходящего тарифа."
   ]
  },
  {
   "cell_type": "markdown",
   "metadata": {},
   "source": [
    "## Данные"
   ]
  },
  {
   "cell_type": "code",
   "execution_count": 11,
   "metadata": {},
   "outputs": [],
   "source": [
    "import pandas as pd\n",
    "import numpy as np\n",
    "from sklearn.tree import DecisionTreeClassifier\n",
    "from sklearn.ensemble import RandomForestClassifier\n",
    "from sklearn.metrics import accuracy_score\n",
    "from sklearn.datasets import make_classification"
   ]
  },
  {
   "cell_type": "markdown",
   "metadata": {},
   "source": [
    "Извлечём данные и посмотрим на них."
   ]
  },
  {
   "cell_type": "code",
   "execution_count": 5,
   "metadata": {},
   "outputs": [
    {
     "data": {
      "text/html": [
       "<div>\n",
       "<style scoped>\n",
       "    .dataframe tbody tr th:only-of-type {\n",
       "        vertical-align: middle;\n",
       "    }\n",
       "\n",
       "    .dataframe tbody tr th {\n",
       "        vertical-align: top;\n",
       "    }\n",
       "\n",
       "    .dataframe thead th {\n",
       "        text-align: right;\n",
       "    }\n",
       "</style>\n",
       "<table border=\"1\" class=\"dataframe\">\n",
       "  <thead>\n",
       "    <tr style=\"text-align: right;\">\n",
       "      <th></th>\n",
       "      <th>calls</th>\n",
       "      <th>minutes</th>\n",
       "      <th>messages</th>\n",
       "      <th>mb_used</th>\n",
       "      <th>is_ultra</th>\n",
       "    </tr>\n",
       "  </thead>\n",
       "  <tbody>\n",
       "    <tr>\n",
       "      <th>0</th>\n",
       "      <td>40.0</td>\n",
       "      <td>311.90</td>\n",
       "      <td>83.0</td>\n",
       "      <td>19915.42</td>\n",
       "      <td>0</td>\n",
       "    </tr>\n",
       "    <tr>\n",
       "      <th>1</th>\n",
       "      <td>85.0</td>\n",
       "      <td>516.75</td>\n",
       "      <td>56.0</td>\n",
       "      <td>22696.96</td>\n",
       "      <td>0</td>\n",
       "    </tr>\n",
       "    <tr>\n",
       "      <th>2</th>\n",
       "      <td>77.0</td>\n",
       "      <td>467.66</td>\n",
       "      <td>86.0</td>\n",
       "      <td>21060.45</td>\n",
       "      <td>0</td>\n",
       "    </tr>\n",
       "    <tr>\n",
       "      <th>3</th>\n",
       "      <td>106.0</td>\n",
       "      <td>745.53</td>\n",
       "      <td>81.0</td>\n",
       "      <td>8437.39</td>\n",
       "      <td>1</td>\n",
       "    </tr>\n",
       "    <tr>\n",
       "      <th>4</th>\n",
       "      <td>66.0</td>\n",
       "      <td>418.74</td>\n",
       "      <td>1.0</td>\n",
       "      <td>14502.75</td>\n",
       "      <td>0</td>\n",
       "    </tr>\n",
       "    <tr>\n",
       "      <th>5</th>\n",
       "      <td>58.0</td>\n",
       "      <td>344.56</td>\n",
       "      <td>21.0</td>\n",
       "      <td>15823.37</td>\n",
       "      <td>0</td>\n",
       "    </tr>\n",
       "    <tr>\n",
       "      <th>6</th>\n",
       "      <td>57.0</td>\n",
       "      <td>431.64</td>\n",
       "      <td>20.0</td>\n",
       "      <td>3738.90</td>\n",
       "      <td>1</td>\n",
       "    </tr>\n",
       "    <tr>\n",
       "      <th>7</th>\n",
       "      <td>15.0</td>\n",
       "      <td>132.40</td>\n",
       "      <td>6.0</td>\n",
       "      <td>21911.60</td>\n",
       "      <td>0</td>\n",
       "    </tr>\n",
       "    <tr>\n",
       "      <th>8</th>\n",
       "      <td>7.0</td>\n",
       "      <td>43.39</td>\n",
       "      <td>3.0</td>\n",
       "      <td>2538.67</td>\n",
       "      <td>1</td>\n",
       "    </tr>\n",
       "    <tr>\n",
       "      <th>9</th>\n",
       "      <td>90.0</td>\n",
       "      <td>665.41</td>\n",
       "      <td>38.0</td>\n",
       "      <td>17358.61</td>\n",
       "      <td>0</td>\n",
       "    </tr>\n",
       "  </tbody>\n",
       "</table>\n",
       "</div>"
      ],
      "text/plain": [
       "   calls  minutes  messages   mb_used  is_ultra\n",
       "0   40.0   311.90      83.0  19915.42         0\n",
       "1   85.0   516.75      56.0  22696.96         0\n",
       "2   77.0   467.66      86.0  21060.45         0\n",
       "3  106.0   745.53      81.0   8437.39         1\n",
       "4   66.0   418.74       1.0  14502.75         0\n",
       "5   58.0   344.56      21.0  15823.37         0\n",
       "6   57.0   431.64      20.0   3738.90         1\n",
       "7   15.0   132.40       6.0  21911.60         0\n",
       "8    7.0    43.39       3.0   2538.67         1\n",
       "9   90.0   665.41      38.0  17358.61         0"
      ]
     },
     "execution_count": 5,
     "metadata": {},
     "output_type": "execute_result"
    }
   ],
   "source": [
    "data = pd.read_csv('/datasets/users_behavior.csv')\n",
    "\n",
    "data.head(10)"
   ]
  },
  {
   "cell_type": "markdown",
   "metadata": {},
   "source": [
    "Каждая строчка данных соответсвует поведению одного из пользователей за месяц. В данных присутствует информация о количестве звонков, суммарной длительности этих звонков в минутах, количестве смс-сообщений, израсходованный интернет-трафик и информация о выбранном тарифе."
   ]
  },
  {
   "cell_type": "code",
   "execution_count": 6,
   "metadata": {},
   "outputs": [
    {
     "name": "stdout",
     "output_type": "stream",
     "text": [
      "<class 'pandas.core.frame.DataFrame'>\n",
      "RangeIndex: 3214 entries, 0 to 3213\n",
      "Data columns (total 5 columns):\n",
      " #   Column    Non-Null Count  Dtype  \n",
      "---  ------    --------------  -----  \n",
      " 0   calls     3214 non-null   float64\n",
      " 1   minutes   3214 non-null   float64\n",
      " 2   messages  3214 non-null   float64\n",
      " 3   mb_used   3214 non-null   float64\n",
      " 4   is_ultra  3214 non-null   int64  \n",
      "dtypes: float64(4), int64(1)\n",
      "memory usage: 125.7 KB\n"
     ]
    }
   ],
   "source": [
    "data.info()"
   ]
  },
  {
   "cell_type": "markdown",
   "metadata": {},
   "source": [
    "В приведённых данных отсутсвуют проспуски. Кроме того можно заменить тип данных в столбцах с количеством звонков и количеством минут на более подходящий для хранения информации о количестве."
   ]
  },
  {
   "cell_type": "code",
   "execution_count": 7,
   "metadata": {},
   "outputs": [],
   "source": [
    "data = data.astype({'calls': 'int'})\n",
    "data = data.astype({'messages': 'int'})"
   ]
  },
  {
   "cell_type": "markdown",
   "metadata": {},
   "source": [
    "Явных повторов в присутсвующих данных земечено не было. Искать неявные повторы в указанных данных искать не имеет смысла из-за характера представленных данных, поэтому будем считать, что в приведённых данных нет повторов."
   ]
  },
  {
   "cell_type": "code",
   "execution_count": 8,
   "metadata": {},
   "outputs": [
    {
     "data": {
      "text/plain": [
       "0"
      ]
     },
     "execution_count": 8,
     "metadata": {},
     "output_type": "execute_result"
    }
   ],
   "source": [
    "data.duplicated().sum()"
   ]
  },
  {
   "cell_type": "markdown",
   "metadata": {},
   "source": [
    "По данным можно видеть, что сильная кореляция наблюдается между количеством звонков и суммарной длительности всех звонков за указанный период."
   ]
  },
  {
   "cell_type": "code",
   "execution_count": 13,
   "metadata": {},
   "outputs": [
    {
     "data": {
      "text/html": [
       "<div>\n",
       "<style scoped>\n",
       "    .dataframe tbody tr th:only-of-type {\n",
       "        vertical-align: middle;\n",
       "    }\n",
       "\n",
       "    .dataframe tbody tr th {\n",
       "        vertical-align: top;\n",
       "    }\n",
       "\n",
       "    .dataframe thead th {\n",
       "        text-align: right;\n",
       "    }\n",
       "</style>\n",
       "<table border=\"1\" class=\"dataframe\">\n",
       "  <thead>\n",
       "    <tr style=\"text-align: right;\">\n",
       "      <th></th>\n",
       "      <th>calls</th>\n",
       "      <th>minutes</th>\n",
       "      <th>messages</th>\n",
       "      <th>mb_used</th>\n",
       "      <th>is_ultra</th>\n",
       "    </tr>\n",
       "  </thead>\n",
       "  <tbody>\n",
       "    <tr>\n",
       "      <th>calls</th>\n",
       "      <td>1.000000</td>\n",
       "      <td>0.982083</td>\n",
       "      <td>0.177385</td>\n",
       "      <td>0.286442</td>\n",
       "      <td>0.207122</td>\n",
       "    </tr>\n",
       "    <tr>\n",
       "      <th>minutes</th>\n",
       "      <td>0.982083</td>\n",
       "      <td>1.000000</td>\n",
       "      <td>0.173110</td>\n",
       "      <td>0.280967</td>\n",
       "      <td>0.206955</td>\n",
       "    </tr>\n",
       "    <tr>\n",
       "      <th>messages</th>\n",
       "      <td>0.177385</td>\n",
       "      <td>0.173110</td>\n",
       "      <td>1.000000</td>\n",
       "      <td>0.195721</td>\n",
       "      <td>0.203830</td>\n",
       "    </tr>\n",
       "    <tr>\n",
       "      <th>mb_used</th>\n",
       "      <td>0.286442</td>\n",
       "      <td>0.280967</td>\n",
       "      <td>0.195721</td>\n",
       "      <td>1.000000</td>\n",
       "      <td>0.198568</td>\n",
       "    </tr>\n",
       "    <tr>\n",
       "      <th>is_ultra</th>\n",
       "      <td>0.207122</td>\n",
       "      <td>0.206955</td>\n",
       "      <td>0.203830</td>\n",
       "      <td>0.198568</td>\n",
       "      <td>1.000000</td>\n",
       "    </tr>\n",
       "  </tbody>\n",
       "</table>\n",
       "</div>"
      ],
      "text/plain": [
       "             calls   minutes  messages   mb_used  is_ultra\n",
       "calls     1.000000  0.982083  0.177385  0.286442  0.207122\n",
       "minutes   0.982083  1.000000  0.173110  0.280967  0.206955\n",
       "messages  0.177385  0.173110  1.000000  0.195721  0.203830\n",
       "mb_used   0.286442  0.280967  0.195721  1.000000  0.198568\n",
       "is_ultra  0.207122  0.206955  0.203830  0.198568  1.000000"
      ]
     },
     "execution_count": 13,
     "metadata": {},
     "output_type": "execute_result"
    }
   ],
   "source": [
    "data.corr()"
   ]
  },
  {
   "cell_type": "markdown",
   "metadata": {},
   "source": [
    "Кроме того, можно построить гистограммы распределений признаков."
   ]
  },
  {
   "cell_type": "code",
   "execution_count": 9,
   "metadata": {},
   "outputs": [
    {
     "data": {
      "image/png": "[encoded data removed]",
      "text/plain": [
       "<Figure size 1080x1440 with 6 Axes>"
      ]
     },
     "metadata": {
      "needs_background": "light"
     },
     "output_type": "display_data"
    }
   ],
   "source": [
    "data.hist(figsize=(15, 20), grid=False)"
   ]
  },
  {
   "cell_type": "markdown",
   "metadata": {},
   "source": [
    "## Выборки"
   ]
  },
  {
   "cell_type": "markdown",
   "metadata": {},
   "source": [
    "Целевым признаком в нашем исследовании является тариф, на который перешёл пользователь. Отделим целевые признаки от нецелевых."
   ]
  },
  {
   "cell_type": "code",
   "execution_count": 6,
   "metadata": {},
   "outputs": [],
   "source": [
    "f = data.drop(['is_ultra'], axis=1)\n",
    "t = data['is_ultra']"
   ]
  },
  {
   "cell_type": "markdown",
   "metadata": {},
   "source": [
    "Разделим исходные данные на обучающую, валидационную и тестовую выборки в соотношение 3:1:1 (60%:20%:20%)."
   ]
  },
  {
   "cell_type": "code",
   "execution_count": 7,
   "metadata": {},
   "outputs": [],
   "source": [
    "rrrr = 42 # random_state\n",
    "\n",
    "# разбиение признаков\n",
    "f_trn, f_vld, f_tst = \\\n",
    "              np.split(f.sample(frac=1, random_state=rrrr), \n",
    "                       [int(.6*len(f)), int(.8*len(f))])\n",
    "\n",
    "# разбиение целевого признака\n",
    "t_trn, t_vld, t_tst = \\\n",
    "              np.split(t.sample(frac=1, random_state=rrrr), \n",
    "                       [int(.6*len(t)), int(.8*len(t))])"
   ]
  },
  {
   "cell_type": "markdown",
   "metadata": {},
   "source": [
    "## Модели"
   ]
  },
  {
   "cell_type": "markdown",
   "metadata": {},
   "source": [
    "Поскольку целевые признаки имеют категориальную природу, то мы будем решать задачу классификации, а не регрессии. Т.е. мы постараемся определить по нецелевым признакам к какому тарифу они могут относится."
   ]
  },
  {
   "cell_type": "markdown",
   "metadata": {},
   "source": [
    "Первой моделью, которую мы задействуем будет модель решающего дерева. Её отличительными особенностями является низкая точность результатов, но более высокая скорость работы по сравнению с другими моделями. Последний фактор даёт нам возможность больше эксперементировать с различными параметрами модели и при этом быть уверенными, что задача будет решена за разумное время. В данном анализе мы задействуем такие параметры данной модели как:\n",
    "- минимальное количество примеров для разделения\n",
    "- минимальное количество объектов в листе\n",
    "- глубина дерева\n",
    "\n",
    "Также, мы рассмотрим влияние выбора функции для оценки качества распределения, а именно критерия Джини и критерия Шеннона."
   ]
  },
  {
   "cell_type": "code",
   "execution_count": 8,
   "metadata": {},
   "outputs": [
    {
     "data": {
      "text/plain": [
       "0.7573872472783826"
      ]
     },
     "execution_count": 8,
     "metadata": {},
     "output_type": "execute_result"
    }
   ],
   "source": [
    "b_dtc_m_gini = None  # лучшая модель\n",
    "b_dtc_acc_gini = 0   # точность лучшей модели\n",
    "for a in np.arange(0.1,1,0.1):\n",
    "    for b in np.arange(0.1,0.5,0.1):\n",
    "        for i in range(1,11):\n",
    "            # обучаем модель с заданными\n",
    "            # - глубиной деревьев\n",
    "            # - минимальными количеством примеров для разделения\n",
    "            # - минимальным количеством объектов в листе\n",
    "            m = DecisionTreeClassifier(random_state=rrrr, criterion='gini',\n",
    "                                       min_samples_split=a, min_samples_leaf=b,\n",
    "                                       max_depth=i)\n",
    "            m.fit(f_trn,t_trn) # тренируем модель по тренировочной выборке\n",
    "            acc = m.score(f_vld,t_vld) # точность по валидационной выборке\n",
    "            if acc > b_dtc_acc_gini:\n",
    "                b_dtc_m_gini = m\n",
    "                b_dtc_acc_gini = acc\n",
    "b_dtc_acc_gini"
   ]
  },
  {
   "cell_type": "code",
   "execution_count": 9,
   "metadata": {},
   "outputs": [
    {
     "data": {
      "text/plain": [
       "0.7573872472783826"
      ]
     },
     "execution_count": 9,
     "metadata": {},
     "output_type": "execute_result"
    }
   ],
   "source": [
    "b_dtc_m_etp = None  # лучшая модель\n",
    "b_dtc_acc_etp = 0   # точность лучшей модели\n",
    "for a in np.arange(0.1,1,0.1):\n",
    "    for b in np.arange(0.1,0.5,0.1):\n",
    "        for i in range(1,11):\n",
    "            # обучаем модель с заданными\n",
    "            # - глубиной деревьев\n",
    "            # - минимальными количеством примеров для разделения\n",
    "            # - минимальным количеством объектов в листе\n",
    "            m = DecisionTreeClassifier(random_state=rrrr, criterion='entropy',\n",
    "                                       min_samples_split=a, min_samples_leaf=b,\n",
    "                                       max_depth=i)\n",
    "            m.fit(f_trn,t_trn) # тренируем модель по тренировочной выборке\n",
    "            acc = m.score(f_vld,t_vld) # точность по валидационной выборке\n",
    "            if acc > b_dtc_acc_etp:\n",
    "                b_dtc_m_etp = m\n",
    "                b_dtc_acc_etp = acc\n",
    "b_dtc_acc_etp"
   ]
  },
  {
   "cell_type": "markdown",
   "metadata": {},
   "source": [
    "Можно убедиться в том, что в данном анализе выбор функции для оценки распределения не влияет на максимальную точность модели. Максимальная точность, которую можно получить из данного алгоритма при переборе данных параметров ~76%."
   ]
  },
  {
   "cell_type": "markdown",
   "metadata": {},
   "source": [
    "---"
   ]
  },
  {
   "cell_type": "markdown",
   "metadata": {},
   "source": [
    "Кроме можно рассмотреть ещё одну модель, модель случайного леса. Её отличительными особенностями являются высокая получаемая точность, но более низкая скорость обучения. Поэтому, чтобы избежать лишней траты времени, ограничимся рассмотрением изменения только одного параметра -- количества деревьев."
   ]
  },
  {
   "cell_type": "code",
   "execution_count": 10,
   "metadata": {},
   "outputs": [
    {
     "data": {
      "text/plain": [
       "0.8009331259720062"
      ]
     },
     "execution_count": 10,
     "metadata": {},
     "output_type": "execute_result"
    }
   ],
   "source": [
    "b_rfc_m = None  # лучшая модель\n",
    "b_rfc_acc = 0   # точность лучшей модели\n",
    "for i in range(1, 11):\n",
    "    m = RandomForestClassifier(random_state=rrrr, n_estimators=i) # обучаем модель с заданным количеством деревьев\n",
    "    m.fit(f_trn,t_trn) # тренируем модель по тренировочной выборке\n",
    "    acc = m.score(f_vld,t_vld) # точность по валидационной выборке\n",
    "    if acc > b_rfc_acc:\n",
    "        b_rfc_m = m\n",
    "        b_rfc_acc = acc\n",
    "b_rfc_acc"
   ]
  },
  {
   "cell_type": "markdown",
   "metadata": {},
   "source": [
    "Модель случайного леса является более точной по сравнению с моделью решаюшего дерева даже с учётом возможности перебора большего количества параметров в последней."
   ]
  },
  {
   "cell_type": "markdown",
   "metadata": {},
   "source": [
    "## Тест"
   ]
  },
  {
   "cell_type": "markdown",
   "metadata": {},
   "source": [
    "Проверим модели с наилучшими параметрами на тестовой выбоке и сравним их точности, получененные на валидационной выборке и тестовой."
   ]
  },
  {
   "cell_type": "code",
   "execution_count": 11,
   "metadata": {},
   "outputs": [
    {
     "name": "stdout",
     "output_type": "stream",
     "text": [
      "Валидационная выборка: 0.7573872472783826\n",
      "Тестовая выборка: 0.7729393468118196\n"
     ]
    }
   ],
   "source": [
    "m = b_dtc_m_gini       # берём наиболее удачную модель\n",
    "m.fit(f_trn,t_trn)     # тренируем модель по тренировочной выборке\n",
    "\n",
    "p_vld = m.predict(f_vld) # предсказания по валидационной выборке\n",
    "p_tst = m.predict(f_tst) # предсказания по тестовой выборке\n",
    "\n",
    "print(\"Валидационная выборка:\", accuracy_score(t_vld,p_vld))\n",
    "print(\"Тестовая выборка:\", accuracy_score(t_tst,p_tst))"
   ]
  },
  {
   "cell_type": "code",
   "execution_count": 12,
   "metadata": {},
   "outputs": [
    {
     "name": "stdout",
     "output_type": "stream",
     "text": [
      "Валидационная выборка: 0.7573872472783826\n",
      "Тестовая выборка: 0.7729393468118196\n"
     ]
    }
   ],
   "source": [
    "m = b_dtc_m_etp        # берём наиболее удачную модель\n",
    "m.fit(f_trn,t_trn)     # тренируем модель по тренировочной выборке\n",
    "\n",
    "p_vld = m.predict(f_vld) # предсказания по валидационной выборке\n",
    "p_tst = m.predict(f_tst) # предсказания по тестовой выборке\n",
    "\n",
    "print(\"Валидационная выборка:\", accuracy_score(t_vld,p_vld))\n",
    "print(\"Тестовая выборка:\", accuracy_score(t_tst,p_tst))"
   ]
  },
  {
   "cell_type": "markdown",
   "metadata": {},
   "source": [
    "Как можно заметить, для модели решающего дерева точность тестовой выборки несколько выше точности валидационной."
   ]
  },
  {
   "cell_type": "code",
   "execution_count": 13,
   "metadata": {},
   "outputs": [
    {
     "name": "stdout",
     "output_type": "stream",
     "text": [
      "Валидационная выборка: 0.8009331259720062\n",
      "Тестовая выборка: 0.7838258164852255\n"
     ]
    }
   ],
   "source": [
    "m = b_rfc_m        # берём наиболее удачную модель\n",
    "m.fit(f_trn,t_trn) # тренируем модель по тренировочной выборке\n",
    "\n",
    "p_vld = m.predict(f_vld) # предсказания по валидационной выборке\n",
    "p_tst = m.predict(f_tst) # предсказания по тестовой выборке\n",
    "\n",
    "print(\"Валидационная выборка:\", accuracy_score(t_vld,p_vld))\n",
    "print(\"Тестовая выборка:\", accuracy_score(t_tst,p_tst))"
   ]
  },
  {
   "cell_type": "markdown",
   "metadata": {},
   "source": [
    "При этом точность для тестовой выборке в моделе случайного леса несколько ниже чем для валидационной, но попрежнему выше, чем любая полученная для модели решающего дерева."
   ]
  },
  {
   "cell_type": "markdown",
   "metadata": {},
   "source": [
    "## Вывод"
   ]
  },
  {
   "cell_type": "markdown",
   "metadata": {},
   "source": [
    "В ходе данного исследования была получена модель, способная предсказать наиболее удобный для клиента тариф по его активности за месяц. Точность такой модели составила ~78%, однако следует отметить, что данная цифра справедлива, если мы исходим из предположения, что каждый пользователь выбрал для себя удобный тариф, что, строго говоря, может оказаться неверным, также следует иметь ввиду отсутствие некоторых потенциально важных параметров в данной модели, например разница цены тарифа при переходе с архивного тарифа на один из текущих, что также может влиять на качество предсказаний для новых клиентов. Негативно на точность предсказаний может влиять и то, что для её построения используются данные за определённый непродолжительный период, соответсвенно чтобы сохранять актуальность предсказаний и отслеживать их динамику следует регулярно перестраивать данную модель."
   ]
  }
 ],
 "metadata": {
  "ExecuteTimeLog": [
   {
    "duration": 413,
    "start_time": "2023-08-26T21:44:46.261Z"
   },
   {
    "duration": 154,
    "start_time": "2023-08-26T21:44:47.301Z"
   },
   {
    "duration": 11,
    "start_time": "2023-08-26T21:48:31.826Z"
   },
   {
    "duration": 89,
    "start_time": "2023-08-26T21:56:41.560Z"
   },
   {
    "duration": 22,
    "start_time": "2023-08-26T21:56:47.430Z"
   },
   {
    "duration": 9,
    "start_time": "2023-08-26T22:05:13.527Z"
   },
   {
    "duration": 19,
    "start_time": "2023-08-26T22:05:14.768Z"
   },
   {
    "duration": 13,
    "start_time": "2023-08-26T22:07:39.752Z"
   },
   {
    "duration": 8,
    "start_time": "2023-08-26T22:07:57.571Z"
   },
   {
    "duration": 9,
    "start_time": "2023-08-26T22:08:03.802Z"
   },
   {
    "duration": 4,
    "start_time": "2023-08-26T22:14:27.524Z"
   },
   {
    "duration": 11,
    "start_time": "2023-08-26T22:14:33.678Z"
   },
   {
    "duration": 940,
    "start_time": "2023-08-26T22:14:51.538Z"
   },
   {
    "duration": 7,
    "start_time": "2023-08-26T22:14:55.616Z"
   },
   {
    "duration": 6,
    "start_time": "2023-08-26T22:22:34.548Z"
   },
   {
    "duration": 6,
    "start_time": "2023-08-26T22:24:30.488Z"
   },
   {
    "duration": 16,
    "start_time": "2023-08-26T22:24:42.712Z"
   },
   {
    "duration": 16,
    "start_time": "2023-08-26T22:24:59.270Z"
   },
   {
    "duration": 1404,
    "start_time": "2023-08-26T22:25:37.191Z"
   },
   {
    "duration": 45,
    "start_time": "2023-08-26T22:25:38.599Z"
   },
   {
    "duration": 18,
    "start_time": "2023-08-26T22:25:38.646Z"
   },
   {
    "duration": 12,
    "start_time": "2023-08-26T22:25:38.666Z"
   },
   {
    "duration": 16,
    "start_time": "2023-08-26T22:25:38.679Z"
   },
   {
    "duration": 9,
    "start_time": "2023-08-26T22:25:38.696Z"
   },
   {
    "duration": 10,
    "start_time": "2023-08-26T22:25:38.706Z"
   },
   {
    "duration": 13,
    "start_time": "2023-08-26T22:25:38.719Z"
   },
   {
    "duration": 11,
    "start_time": "2023-08-26T22:25:53.034Z"
   },
   {
    "duration": 9,
    "start_time": "2023-08-26T22:25:59.908Z"
   },
   {
    "duration": 17,
    "start_time": "2023-08-26T22:26:19.984Z"
   },
   {
    "duration": 6,
    "start_time": "2023-08-26T22:26:42.411Z"
   },
   {
    "duration": 12,
    "start_time": "2023-08-26T22:27:28.776Z"
   },
   {
    "duration": 152,
    "start_time": "2023-08-26T22:27:36.258Z"
   },
   {
    "duration": 29,
    "start_time": "2023-08-26T22:27:54.246Z"
   },
   {
    "duration": 9,
    "start_time": "2023-08-26T23:08:42.211Z"
   },
   {
    "duration": 19,
    "start_time": "2023-08-26T23:08:48.380Z"
   },
   {
    "duration": 12,
    "start_time": "2023-08-26T23:08:53.112Z"
   },
   {
    "duration": 3,
    "start_time": "2023-08-26T23:09:16.831Z"
   },
   {
    "duration": 13,
    "start_time": "2023-08-26T23:09:28.809Z"
   },
   {
    "duration": 1279,
    "start_time": "2023-08-26T23:09:36.629Z"
   },
   {
    "duration": 59,
    "start_time": "2023-08-26T23:09:37.913Z"
   },
   {
    "duration": 22,
    "start_time": "2023-08-26T23:09:37.975Z"
   },
   {
    "duration": 8,
    "start_time": "2023-08-26T23:09:38.000Z"
   },
   {
    "duration": 33,
    "start_time": "2023-08-26T23:09:38.009Z"
   },
   {
    "duration": 62,
    "start_time": "2023-08-26T23:09:38.043Z"
   },
   {
    "duration": 59,
    "start_time": "2023-08-26T23:09:38.107Z"
   },
   {
    "duration": 49,
    "start_time": "2023-08-26T23:09:38.168Z"
   },
   {
    "duration": 342,
    "start_time": "2023-08-26T23:09:38.218Z"
   },
   {
    "duration": 1141,
    "start_time": "2023-08-26T23:12:49.509Z"
   },
   {
    "duration": 70,
    "start_time": "2023-08-26T23:12:50.652Z"
   },
   {
    "duration": 14,
    "start_time": "2023-08-26T23:12:50.724Z"
   },
   {
    "duration": 22,
    "start_time": "2023-08-26T23:12:50.741Z"
   },
   {
    "duration": 39,
    "start_time": "2023-08-26T23:12:50.766Z"
   },
   {
    "duration": 17,
    "start_time": "2023-08-26T23:12:50.807Z"
   },
   {
    "duration": 18,
    "start_time": "2023-08-26T23:12:50.826Z"
   },
   {
    "duration": 145,
    "start_time": "2023-08-26T23:12:50.845Z"
   },
   {
    "duration": 0,
    "start_time": "2023-08-26T23:12:50.992Z"
   },
   {
    "duration": 74,
    "start_time": "2023-08-26T23:13:05.809Z"
   },
   {
    "duration": 278,
    "start_time": "2023-08-26T23:13:08.011Z"
   },
   {
    "duration": 10,
    "start_time": "2023-08-26T23:20:15.822Z"
   },
   {
    "duration": 1420,
    "start_time": "2023-08-26T23:20:59.732Z"
   },
   {
    "duration": 76,
    "start_time": "2023-08-26T23:21:01.154Z"
   },
   {
    "duration": 25,
    "start_time": "2023-08-26T23:21:01.232Z"
   },
   {
    "duration": 46,
    "start_time": "2023-08-26T23:21:01.259Z"
   },
   {
    "duration": 37,
    "start_time": "2023-08-26T23:21:01.307Z"
   },
   {
    "duration": 60,
    "start_time": "2023-08-26T23:21:01.346Z"
   },
   {
    "duration": 46,
    "start_time": "2023-08-26T23:21:01.408Z"
   },
   {
    "duration": 127,
    "start_time": "2023-08-26T23:21:01.459Z"
   },
   {
    "duration": 297,
    "start_time": "2023-08-26T23:21:01.588Z"
   },
   {
    "duration": 231,
    "start_time": "2023-08-26T23:21:01.889Z"
   },
   {
    "duration": 3,
    "start_time": "2023-08-26T23:21:02.124Z"
   },
   {
    "duration": 81,
    "start_time": "2023-08-26T23:26:52.224Z"
   },
   {
    "duration": 97,
    "start_time": "2023-08-26T23:26:54.605Z"
   },
   {
    "duration": 130,
    "start_time": "2023-08-26T23:49:15.575Z"
   },
   {
    "duration": 14,
    "start_time": "2023-08-26T23:50:06.180Z"
   },
   {
    "duration": 17,
    "start_time": "2023-08-26T23:50:13.149Z"
   },
   {
    "duration": 3,
    "start_time": "2023-08-26T23:50:55.220Z"
   },
   {
    "duration": 14,
    "start_time": "2023-08-26T23:51:06.332Z"
   },
   {
    "duration": 3,
    "start_time": "2023-08-26T23:51:21.940Z"
   },
   {
    "duration": 13,
    "start_time": "2023-08-26T23:51:24.709Z"
   },
   {
    "duration": 34,
    "start_time": "2023-08-26T23:51:33.478Z"
   },
   {
    "duration": 1644,
    "start_time": "2023-08-26T23:52:09.681Z"
   },
   {
    "duration": 1843,
    "start_time": "2023-08-26T23:53:18.425Z"
   },
   {
    "duration": 18,
    "start_time": "2023-08-26T23:53:55.548Z"
   },
   {
    "duration": 1565,
    "start_time": "2023-08-27T00:26:23.910Z"
   },
   {
    "duration": 1675,
    "start_time": "2023-08-27T00:26:42.173Z"
   },
   {
    "duration": 1616,
    "start_time": "2023-08-27T00:26:46.248Z"
   },
   {
    "duration": 1665,
    "start_time": "2023-08-27T00:27:02.083Z"
   },
   {
    "duration": 1510,
    "start_time": "2023-08-27T00:27:06.559Z"
   },
   {
    "duration": 1455,
    "start_time": "2023-08-27T00:27:10.107Z"
   },
   {
    "duration": 1446,
    "start_time": "2023-08-27T00:27:19.997Z"
   },
   {
    "duration": 1595,
    "start_time": "2023-08-27T00:27:41.400Z"
   },
   {
    "duration": 67,
    "start_time": "2023-08-27T00:49:45.095Z"
   },
   {
    "duration": 3,
    "start_time": "2023-08-27T00:49:50.976Z"
   },
   {
    "duration": 65,
    "start_time": "2023-08-27T00:49:55.918Z"
   },
   {
    "duration": 9,
    "start_time": "2023-08-27T00:57:23.404Z"
   },
   {
    "duration": 11,
    "start_time": "2023-08-27T00:58:10.932Z"
   },
   {
    "duration": 12,
    "start_time": "2023-08-27T00:58:13.427Z"
   },
   {
    "duration": 11,
    "start_time": "2023-08-27T01:18:26.972Z"
   },
   {
    "duration": 1053,
    "start_time": "2023-08-27T01:25:31.412Z"
   },
   {
    "duration": 43,
    "start_time": "2023-08-27T01:25:32.468Z"
   },
   {
    "duration": 10,
    "start_time": "2023-08-27T01:25:32.512Z"
   },
   {
    "duration": 9,
    "start_time": "2023-08-27T01:25:32.523Z"
   },
   {
    "duration": 7,
    "start_time": "2023-08-27T01:25:32.533Z"
   },
   {
    "duration": 4,
    "start_time": "2023-08-27T01:25:32.542Z"
   },
   {
    "duration": 10,
    "start_time": "2023-08-27T01:25:32.547Z"
   },
   {
    "duration": 1482,
    "start_time": "2023-08-27T01:25:32.558Z"
   },
   {
    "duration": 1472,
    "start_time": "2023-08-27T01:25:34.041Z"
   },
   {
    "duration": 262,
    "start_time": "2023-08-27T01:25:35.515Z"
   },
   {
    "duration": 10,
    "start_time": "2023-08-27T01:25:35.778Z"
   },
   {
    "duration": 27,
    "start_time": "2023-08-27T01:25:35.789Z"
   },
   {
    "duration": 50,
    "start_time": "2023-08-27T01:25:35.817Z"
   },
   {
    "duration": 48,
    "start_time": "2023-08-27T23:47:41.394Z"
   },
   {
    "duration": 1081,
    "start_time": "2023-08-27T23:47:56.847Z"
   },
   {
    "duration": 129,
    "start_time": "2023-08-27T23:47:59.518Z"
   },
   {
    "duration": 37,
    "start_time": "2023-08-27T23:48:01.468Z"
   },
   {
    "duration": 37,
    "start_time": "2023-08-27T23:48:03.976Z"
   },
   {
    "duration": 11,
    "start_time": "2023-08-27T23:48:07.747Z"
   },
   {
    "duration": 6,
    "start_time": "2023-08-27T23:48:09.293Z"
   },
   {
    "duration": 7,
    "start_time": "2023-08-27T23:48:10.813Z"
   },
   {
    "duration": 986,
    "start_time": "2023-08-27T23:48:12.863Z"
   },
   {
    "duration": 73,
    "start_time": "2023-08-27T23:55:02.954Z"
   },
   {
    "duration": 35,
    "start_time": "2023-08-27T23:55:07.740Z"
   },
   {
    "duration": 18,
    "start_time": "2023-08-27T23:55:10.783Z"
   },
   {
    "duration": 11,
    "start_time": "2023-08-27T23:57:31.938Z"
   }
  ],
  "kernelspec": {
   "display_name": "Python 3 (ipykernel)",
   "language": "python",
   "name": "python3"
  },
  "language_info": {
   "codemirror_mode": {
    "name": "ipython",
    "version": 3
   },
   "file_extension": ".py",
   "mimetype": "text/x-python",
   "name": "python",
   "nbconvert_exporter": "python",
   "pygments_lexer": "ipython3",
   "version": "3.9.5"
  },
  "toc": {
   "base_numbering": 1,
   "nav_menu": {},
   "number_sections": true,
   "sideBar": true,
   "skip_h1_title": true,
   "title_cell": "Table of Contents",
   "title_sidebar": "Contents",
   "toc_cell": false,
   "toc_position": {},
   "toc_section_display": true,
   "toc_window_display": false
  }
 },
 "nbformat": 4,
 "nbformat_minor": 2
}
