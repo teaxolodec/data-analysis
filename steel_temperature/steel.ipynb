{
 "cells": [
  {
   "cell_type": "markdown",
   "id": "1867ffcf",
   "metadata": {},
   "source": [
    "   *«Золото твёрже стали, поскольку сталь подчиняется ему.»*\n",
    "\n",
    "   -- Японская пословица"
   ]
  },
  {
   "cell_type": "markdown",
   "id": "0da1852f",
   "metadata": {},
   "source": [
    "# Температура при легировании"
   ]
  },
  {
   "cell_type": "markdown",
   "id": "0bef7790",
   "metadata": {},
   "source": [
    "В данной работе будут исследоваться возможности уменьшения электропотребления этапа обработки стали металургического комбината «Стальная птица». В ходе выполнения этого анализа будет построена модель предсказания температуры сплава, находящегося на этапе легирования. Далее будет произведён анализ факторов влияющих на данную модель на основании которого можно будет сделать выводы о возможных способах уменьшения электропотребления. Кроме того, построенную модель можно будет использовать для предсказания температуры датчика в данном ковше."
   ]
  },
  {
   "cell_type": "markdown",
   "id": "66b7cd08",
   "metadata": {},
   "source": [
    "## Данные"
   ]
  },
  {
   "cell_type": "code",
   "execution_count": 108,
   "id": "3ffcc07f",
   "metadata": {},
   "outputs": [],
   "source": [
    "import time\n",
    "\n",
    "import pandas as pd\n",
    "import numpy as np\n",
    "import matplotlib.pyplot as plt\n",
    "\n",
    "from sklearn.linear_model import LinearRegression\n",
    "from sklearn.ensemble import RandomForestRegressor\n",
    "from catboost import CatBoostRegressor\n",
    "\n",
    "from sklearn.model_selection import GridSearchCV\n",
    "from sklearn.model_selection import cross_val_score\n",
    "\n",
    "from sklearn.metrics import mean_absolute_error\n",
    "\n",
    "from sklearn.preprocessing import StandardScaler"
   ]
  },
  {
   "cell_type": "markdown",
   "id": "75d81204",
   "metadata": {},
   "source": [
    "Извлечём имеющиеся данные и посмотрим на них."
   ]
  },
  {
   "cell_type": "markdown",
   "id": "1c0d08f6",
   "metadata": {},
   "source": [
    "### Электроды"
   ]
  },
  {
   "cell_type": "markdown",
   "id": "42cd7c0a",
   "metadata": {},
   "source": [
    "Данные об электродах содержат информацию о времени нагрева при соответсвующей мощности для каждой партии. Многии партии подвергались нагреву несколько раз."
   ]
  },
  {
   "cell_type": "code",
   "execution_count": 2,
   "id": "44d95759",
   "metadata": {},
   "outputs": [
    {
     "data": {
      "text/html": [
       "<div>\n",
       "<style scoped>\n",
       "    .dataframe tbody tr th:only-of-type {\n",
       "        vertical-align: middle;\n",
       "    }\n",
       "\n",
       "    .dataframe tbody tr th {\n",
       "        vertical-align: top;\n",
       "    }\n",
       "\n",
       "    .dataframe thead th {\n",
       "        text-align: right;\n",
       "    }\n",
       "</style>\n",
       "<table border=\"1\" class=\"dataframe\">\n",
       "  <thead>\n",
       "    <tr style=\"text-align: right;\">\n",
       "      <th></th>\n",
       "      <th>key</th>\n",
       "      <th>Начало нагрева дугой</th>\n",
       "      <th>Конец нагрева дугой</th>\n",
       "      <th>Активная мощность</th>\n",
       "      <th>Реактивная мощность</th>\n",
       "    </tr>\n",
       "  </thead>\n",
       "  <tbody>\n",
       "    <tr>\n",
       "      <th>0</th>\n",
       "      <td>1</td>\n",
       "      <td>2019-05-03 11:02:14</td>\n",
       "      <td>2019-05-03 11:06:02</td>\n",
       "      <td>0.305130</td>\n",
       "      <td>0.211253</td>\n",
       "    </tr>\n",
       "    <tr>\n",
       "      <th>1</th>\n",
       "      <td>1</td>\n",
       "      <td>2019-05-03 11:07:28</td>\n",
       "      <td>2019-05-03 11:10:33</td>\n",
       "      <td>0.765658</td>\n",
       "      <td>0.477438</td>\n",
       "    </tr>\n",
       "    <tr>\n",
       "      <th>2</th>\n",
       "      <td>1</td>\n",
       "      <td>2019-05-03 11:11:44</td>\n",
       "      <td>2019-05-03 11:14:36</td>\n",
       "      <td>0.580313</td>\n",
       "      <td>0.430460</td>\n",
       "    </tr>\n",
       "    <tr>\n",
       "      <th>3</th>\n",
       "      <td>1</td>\n",
       "      <td>2019-05-03 11:18:14</td>\n",
       "      <td>2019-05-03 11:24:19</td>\n",
       "      <td>0.518496</td>\n",
       "      <td>0.379979</td>\n",
       "    </tr>\n",
       "    <tr>\n",
       "      <th>4</th>\n",
       "      <td>1</td>\n",
       "      <td>2019-05-03 11:26:09</td>\n",
       "      <td>2019-05-03 11:28:37</td>\n",
       "      <td>0.867133</td>\n",
       "      <td>0.643691</td>\n",
       "    </tr>\n",
       "    <tr>\n",
       "      <th>5</th>\n",
       "      <td>2</td>\n",
       "      <td>2019-05-03 11:34:14</td>\n",
       "      <td>2019-05-03 11:36:31</td>\n",
       "      <td>0.381124</td>\n",
       "      <td>0.220351</td>\n",
       "    </tr>\n",
       "    <tr>\n",
       "      <th>6</th>\n",
       "      <td>2</td>\n",
       "      <td>2019-05-03 11:38:50</td>\n",
       "      <td>2019-05-03 11:44:28</td>\n",
       "      <td>0.261665</td>\n",
       "      <td>0.205527</td>\n",
       "    </tr>\n",
       "    <tr>\n",
       "      <th>7</th>\n",
       "      <td>2</td>\n",
       "      <td>2019-05-03 11:46:19</td>\n",
       "      <td>2019-05-03 11:48:25</td>\n",
       "      <td>0.710297</td>\n",
       "      <td>0.484962</td>\n",
       "    </tr>\n",
       "    <tr>\n",
       "      <th>8</th>\n",
       "      <td>2</td>\n",
       "      <td>2019-05-03 11:49:48</td>\n",
       "      <td>2019-05-03 11:53:18</td>\n",
       "      <td>0.786322</td>\n",
       "      <td>0.542517</td>\n",
       "    </tr>\n",
       "    <tr>\n",
       "      <th>9</th>\n",
       "      <td>3</td>\n",
       "      <td>2019-05-03 12:06:54</td>\n",
       "      <td>2019-05-03 12:11:34</td>\n",
       "      <td>1.101678</td>\n",
       "      <td>0.820856</td>\n",
       "    </tr>\n",
       "  </tbody>\n",
       "</table>\n",
       "</div>"
      ],
      "text/plain": [
       "   key Начало нагрева дугой  Конец нагрева дугой  Активная мощность  \\\n",
       "0    1  2019-05-03 11:02:14  2019-05-03 11:06:02           0.305130   \n",
       "1    1  2019-05-03 11:07:28  2019-05-03 11:10:33           0.765658   \n",
       "2    1  2019-05-03 11:11:44  2019-05-03 11:14:36           0.580313   \n",
       "3    1  2019-05-03 11:18:14  2019-05-03 11:24:19           0.518496   \n",
       "4    1  2019-05-03 11:26:09  2019-05-03 11:28:37           0.867133   \n",
       "5    2  2019-05-03 11:34:14  2019-05-03 11:36:31           0.381124   \n",
       "6    2  2019-05-03 11:38:50  2019-05-03 11:44:28           0.261665   \n",
       "7    2  2019-05-03 11:46:19  2019-05-03 11:48:25           0.710297   \n",
       "8    2  2019-05-03 11:49:48  2019-05-03 11:53:18           0.786322   \n",
       "9    3  2019-05-03 12:06:54  2019-05-03 12:11:34           1.101678   \n",
       "\n",
       "   Реактивная мощность  \n",
       "0             0.211253  \n",
       "1             0.477438  \n",
       "2             0.430460  \n",
       "3             0.379979  \n",
       "4             0.643691  \n",
       "5             0.220351  \n",
       "6             0.205527  \n",
       "7             0.484962  \n",
       "8             0.542517  \n",
       "9             0.820856  "
      ]
     },
     "execution_count": 2,
     "metadata": {},
     "output_type": "execute_result"
    }
   ],
   "source": [
    "data_e = pd.read_csv('/datasets/data_arc_new.csv') # данные об электродах\n",
    "\n",
    "data_e.head(10)"
   ]
  },
  {
   "cell_type": "markdown",
   "id": "d2ca8d31",
   "metadata": {},
   "source": [
    "Существуют данные о нагреве для 3214 партий."
   ]
  },
  {
   "cell_type": "code",
   "execution_count": 3,
   "id": "caab116e",
   "metadata": {},
   "outputs": [
    {
     "data": {
      "text/plain": [
       "3214"
      ]
     },
     "execution_count": 3,
     "metadata": {},
     "output_type": "execute_result"
    }
   ],
   "source": [
    "len(data_e['key'].unique())"
   ]
  },
  {
   "cell_type": "markdown",
   "id": "0ff6f4a7",
   "metadata": {},
   "source": [
    "Однако максимальный номер партии 3241. Это значит, что 27 партий пропущено."
   ]
  },
  {
   "cell_type": "code",
   "execution_count": 4,
   "id": "58d953b4",
   "metadata": {},
   "outputs": [
    {
     "data": {
      "text/plain": [
       "array([   1,    2,    3, ..., 3239, 3240, 3241])"
      ]
     },
     "execution_count": 4,
     "metadata": {},
     "output_type": "execute_result"
    }
   ],
   "source": [
    "data_e['key'].unique()"
   ]
  },
  {
   "cell_type": "markdown",
   "id": "036c1190",
   "metadata": {},
   "source": [
    "Существует одна запись с отрицательным значением мощности, что будем считать ошибкой."
   ]
  },
  {
   "cell_type": "code",
   "execution_count": 5,
   "id": "92696757",
   "metadata": {},
   "outputs": [
    {
     "data": {
      "text/html": [
       "<div>\n",
       "<style scoped>\n",
       "    .dataframe tbody tr th:only-of-type {\n",
       "        vertical-align: middle;\n",
       "    }\n",
       "\n",
       "    .dataframe tbody tr th {\n",
       "        vertical-align: top;\n",
       "    }\n",
       "\n",
       "    .dataframe thead th {\n",
       "        text-align: right;\n",
       "    }\n",
       "</style>\n",
       "<table border=\"1\" class=\"dataframe\">\n",
       "  <thead>\n",
       "    <tr style=\"text-align: right;\">\n",
       "      <th></th>\n",
       "      <th>key</th>\n",
       "      <th>Начало нагрева дугой</th>\n",
       "      <th>Конец нагрева дугой</th>\n",
       "      <th>Активная мощность</th>\n",
       "      <th>Реактивная мощность</th>\n",
       "    </tr>\n",
       "  </thead>\n",
       "  <tbody>\n",
       "    <tr>\n",
       "      <th>9780</th>\n",
       "      <td>2116</td>\n",
       "      <td>2019-07-28 02:22:08</td>\n",
       "      <td>2019-07-28 02:23:57</td>\n",
       "      <td>0.705344</td>\n",
       "      <td>-715.479924</td>\n",
       "    </tr>\n",
       "  </tbody>\n",
       "</table>\n",
       "</div>"
      ],
      "text/plain": [
       "       key Начало нагрева дугой  Конец нагрева дугой  Активная мощность  \\\n",
       "9780  2116  2019-07-28 02:22:08  2019-07-28 02:23:57           0.705344   \n",
       "\n",
       "      Реактивная мощность  \n",
       "9780          -715.479924  "
      ]
     },
     "execution_count": 5,
     "metadata": {},
     "output_type": "execute_result"
    }
   ],
   "source": [
    "data_e.loc[(data_e['Реактивная мощность'] < 0) | (data_e['Активная мощность'] < 0)]"
   ]
  },
  {
   "cell_type": "markdown",
   "id": "4d1100f6",
   "metadata": {},
   "source": [
    "Исключим из рассмотрения партию, где встретилась данная ошибка."
   ]
  },
  {
   "cell_type": "code",
   "execution_count": 6,
   "id": "e0048283",
   "metadata": {},
   "outputs": [
    {
     "data": {
      "text/html": [
       "<div>\n",
       "<style scoped>\n",
       "    .dataframe tbody tr th:only-of-type {\n",
       "        vertical-align: middle;\n",
       "    }\n",
       "\n",
       "    .dataframe tbody tr th {\n",
       "        vertical-align: top;\n",
       "    }\n",
       "\n",
       "    .dataframe thead th {\n",
       "        text-align: right;\n",
       "    }\n",
       "</style>\n",
       "<table border=\"1\" class=\"dataframe\">\n",
       "  <thead>\n",
       "    <tr style=\"text-align: right;\">\n",
       "      <th></th>\n",
       "      <th>key</th>\n",
       "      <th>Начало нагрева дугой</th>\n",
       "      <th>Конец нагрева дугой</th>\n",
       "      <th>Активная мощность</th>\n",
       "      <th>Реактивная мощность</th>\n",
       "    </tr>\n",
       "  </thead>\n",
       "  <tbody>\n",
       "    <tr>\n",
       "      <th>9778</th>\n",
       "      <td>2116</td>\n",
       "      <td>2019-07-28 02:07:12</td>\n",
       "      <td>2019-07-28 02:09:14</td>\n",
       "      <td>0.787549</td>\n",
       "      <td>0.693881</td>\n",
       "    </tr>\n",
       "    <tr>\n",
       "      <th>9779</th>\n",
       "      <td>2116</td>\n",
       "      <td>2019-07-28 02:13:10</td>\n",
       "      <td>2019-07-28 02:15:25</td>\n",
       "      <td>0.580263</td>\n",
       "      <td>0.411498</td>\n",
       "    </tr>\n",
       "    <tr>\n",
       "      <th>9780</th>\n",
       "      <td>2116</td>\n",
       "      <td>2019-07-28 02:22:08</td>\n",
       "      <td>2019-07-28 02:23:57</td>\n",
       "      <td>0.705344</td>\n",
       "      <td>-715.479924</td>\n",
       "    </tr>\n",
       "    <tr>\n",
       "      <th>9781</th>\n",
       "      <td>2116</td>\n",
       "      <td>2019-07-28 02:29:11</td>\n",
       "      <td>2019-07-28 02:30:18</td>\n",
       "      <td>0.563641</td>\n",
       "      <td>0.408513</td>\n",
       "    </tr>\n",
       "  </tbody>\n",
       "</table>\n",
       "</div>"
      ],
      "text/plain": [
       "       key Начало нагрева дугой  Конец нагрева дугой  Активная мощность  \\\n",
       "9778  2116  2019-07-28 02:07:12  2019-07-28 02:09:14           0.787549   \n",
       "9779  2116  2019-07-28 02:13:10  2019-07-28 02:15:25           0.580263   \n",
       "9780  2116  2019-07-28 02:22:08  2019-07-28 02:23:57           0.705344   \n",
       "9781  2116  2019-07-28 02:29:11  2019-07-28 02:30:18           0.563641   \n",
       "\n",
       "      Реактивная мощность  \n",
       "9778             0.693881  \n",
       "9779             0.411498  \n",
       "9780          -715.479924  \n",
       "9781             0.408513  "
      ]
     },
     "execution_count": 6,
     "metadata": {},
     "output_type": "execute_result"
    }
   ],
   "source": [
    "data_e[data_e['key'] == data_e.loc[data_e['Реактивная мощность'] < 0, 'key'].values[0]]"
   ]
  },
  {
   "cell_type": "code",
   "execution_count": 7,
   "id": "b69f9eab",
   "metadata": {},
   "outputs": [],
   "source": [
    "data_e = data_e.drop(\n",
    "    data_e[data_e['key'] == data_e.loc[data_e['Реактивная мощность'] < 0, 'key'].values[0]].index\n",
    ").reset_index(drop=True)"
   ]
  },
  {
   "cell_type": "markdown",
   "id": "cbd3cab4",
   "metadata": {},
   "source": [
    "Ожидаемо активная и реактивная мощности имеют высокую положительную корреляцию."
   ]
  },
  {
   "cell_type": "code",
   "execution_count": 8,
   "id": "e6886054",
   "metadata": {},
   "outputs": [
    {
     "data": {
      "text/plain": [
       "0.9663821708188477"
      ]
     },
     "execution_count": 8,
     "metadata": {},
     "output_type": "execute_result"
    }
   ],
   "source": [
    "data_e['Активная мощность'].corr(data_e['Реактивная мощность'])"
   ]
  },
  {
   "cell_type": "code",
   "execution_count": 9,
   "id": "afe0696e",
   "metadata": {},
   "outputs": [
    {
     "data": {
      "text/plain": [
       "0.9925177522419708"
      ]
     },
     "execution_count": 9,
     "metadata": {},
     "output_type": "execute_result"
    }
   ],
   "source": [
    "data_e.groupby(data_e['key']).sum()['Активная мощность'].corr(data_e.groupby(data_e['key']).sum()['Реактивная мощность'])"
   ]
  },
  {
   "cell_type": "markdown",
   "id": "ed81a38f",
   "metadata": {},
   "source": [
    "И схожие распределения. Отдельно стоит отметить, что суммарное по партиям распределения мощностей выглядят ближе к нормальному, чем распределения мощностей по партиям."
   ]
  },
  {
   "cell_type": "markdown",
   "id": "f4ec1e89",
   "metadata": {},
   "source": [
    "<div class=\"alert alert-info\">\n",
    "<b>Комментарий:</b>\n",
    "<br>Я сомневаюсь, что мощностью нагревателя в ~1 Вт можно нагреть даже стакан с водой, но по условию задачи данные даны в СИ, так что..\n",
    "</div>"
   ]
  },
  {
   "cell_type": "code",
   "execution_count": 10,
   "id": "995055d9",
   "metadata": {},
   "outputs": [
    {
     "data": {
      "text/plain": [
       "Text(0.5, 0, 'мощность, Вт')"
      ]
     },
     "execution_count": 10,
     "metadata": {},
     "output_type": "execute_result"
    },
    {
     "data": {
      "image/png": "[encoded data removed]",
      "text/plain": [
       "<Figure size 720x432 with 1 Axes>"
      ]
     },
     "metadata": {
      "needs_background": "light"
     },
     "output_type": "display_data"
    }
   ],
   "source": [
    "data_e['Активная мощность'].hist(\n",
    "    bins=40,\n",
    "    figsize=(10,6),\n",
    "    grid=False\n",
    ")\n",
    "plt.axvline(x=data_e['Активная мощность'].median(), color='#000000', ls='--', linewidth=1)\n",
    "plt.title('Распределение записей для активной мощности')\n",
    "plt.ylabel('количество записей, шт', style='italic')\n",
    "plt.xlabel('мощность, Вт', style='italic')"
   ]
  },
  {
   "cell_type": "code",
   "execution_count": 11,
   "id": "58ad32d2",
   "metadata": {},
   "outputs": [
    {
     "data": {
      "text/plain": [
       "Text(0.5, 0, 'мощность, Вт')"
      ]
     },
     "execution_count": 11,
     "metadata": {},
     "output_type": "execute_result"
    },
    {
     "data": {
      "image/png": "[encoded data removed]",
      "text/plain": [
       "<Figure size 720x432 with 1 Axes>"
      ]
     },
     "metadata": {
      "needs_background": "light"
     },
     "output_type": "display_data"
    }
   ],
   "source": [
    "data_e.groupby(data_e['key']).sum()['Активная мощность'].hist(\n",
    "    bins=40,\n",
    "    figsize=(10,6),\n",
    "    grid=False\n",
    ")\n",
    "plt.axvline(x=data_e.groupby(data_e['key']).sum()['Активная мощность'].median(), color='#000000', ls='--', linewidth=1)\n",
    "plt.title('Распределение партий для активной мощности')\n",
    "plt.ylabel('количество партий, шт', style='italic')\n",
    "plt.xlabel('мощность, Вт', style='italic')"
   ]
  },
  {
   "cell_type": "code",
   "execution_count": 12,
   "id": "cba6dc38",
   "metadata": {},
   "outputs": [
    {
     "data": {
      "text/plain": [
       "Text(0.5, 0, 'мощность, Вт')"
      ]
     },
     "execution_count": 12,
     "metadata": {},
     "output_type": "execute_result"
    },
    {
     "data": {
      "image/png": "[encoded data removed]",
      "text/plain": [
       "<Figure size 720x432 with 1 Axes>"
      ]
     },
     "metadata": {
      "needs_background": "light"
     },
     "output_type": "display_data"
    }
   ],
   "source": [
    "data_e['Реактивная мощность'].hist(\n",
    "    bins=40,\n",
    "    figsize=(10,6),\n",
    "    grid=False\n",
    ")\n",
    "plt.axvline(x=data_e['Реактивная мощность'].median(), color='#000000', ls='--', linewidth=1)\n",
    "plt.title('Распределение записей для реактивной мощности')\n",
    "plt.ylabel('количество записей, шт', style='italic')\n",
    "plt.xlabel('мощность, Вт', style='italic')"
   ]
  },
  {
   "cell_type": "code",
   "execution_count": 13,
   "id": "e2fe2843",
   "metadata": {},
   "outputs": [
    {
     "data": {
      "text/plain": [
       "Text(0.5, 0, 'мощность, Вт')"
      ]
     },
     "execution_count": 13,
     "metadata": {},
     "output_type": "execute_result"
    },
    {
     "data": {
      "image/png": "[encoded data removed]",
      "text/plain": [
       "<Figure size 720x432 with 1 Axes>"
      ]
     },
     "metadata": {
      "needs_background": "light"
     },
     "output_type": "display_data"
    }
   ],
   "source": [
    "data_e.groupby(data_e['key']).sum()['Реактивная мощность'].hist(\n",
    "    bins=40,\n",
    "    figsize=(10,6),\n",
    "    grid=False\n",
    ")\n",
    "plt.axvline(x=data_e.groupby(data_e['key']).sum()['Реактивная мощность'].median(), color='#000000', ls='--', linewidth=1)\n",
    "plt.title('Распределение партий для реактивной мощности')\n",
    "plt.ylabel('количество партий, шт', style='italic')\n",
    "plt.xlabel('мощность, Вт', style='italic')"
   ]
  },
  {
   "cell_type": "markdown",
   "id": "618dcf78",
   "metadata": {},
   "source": [
    "Преобразуем данные о времени в более подходящий тип данных."
   ]
  },
  {
   "cell_type": "code",
   "execution_count": 14,
   "id": "1ad48225",
   "metadata": {},
   "outputs": [],
   "source": [
    "data_e['Начало нагрева дугой'] = pd.to_datetime(data_e['Начало нагрева дугой'], format='%Y-%m-%d %H:%M:%S')\n",
    "data_e['Конец нагрева дугой'] = pd.to_datetime(data_e['Конец нагрева дугой'], format='%Y-%m-%d %H:%M:%S')"
   ]
  },
  {
   "cell_type": "markdown",
   "id": "600a1ca2",
   "metadata": {},
   "source": [
    "Для текущих данных не найдены пропуски или повторы."
   ]
  },
  {
   "cell_type": "code",
   "execution_count": 15,
   "id": "2a679784",
   "metadata": {},
   "outputs": [
    {
     "name": "stdout",
     "output_type": "stream",
     "text": [
      "<class 'pandas.core.frame.DataFrame'>\n",
      "RangeIndex: 14872 entries, 0 to 14871\n",
      "Data columns (total 5 columns):\n",
      " #   Column                Non-Null Count  Dtype         \n",
      "---  ------                --------------  -----         \n",
      " 0   key                   14872 non-null  int64         \n",
      " 1   Начало нагрева дугой  14872 non-null  datetime64[ns]\n",
      " 2   Конец нагрева дугой   14872 non-null  datetime64[ns]\n",
      " 3   Активная мощность     14872 non-null  float64       \n",
      " 4   Реактивная мощность   14872 non-null  float64       \n",
      "dtypes: datetime64[ns](2), float64(2), int64(1)\n",
      "memory usage: 581.1 KB\n"
     ]
    }
   ],
   "source": [
    "data_e.info()"
   ]
  },
  {
   "cell_type": "markdown",
   "id": "7b3b183a",
   "metadata": {},
   "source": [
    "### Сыпучие материалы"
   ]
  },
  {
   "cell_type": "markdown",
   "id": "83c5e238",
   "metadata": {},
   "source": [
    "#### Объём"
   ]
  },
  {
   "cell_type": "code",
   "execution_count": 16,
   "id": "7f969875",
   "metadata": {},
   "outputs": [
    {
     "data": {
      "text/html": [
       "<div>\n",
       "<style scoped>\n",
       "    .dataframe tbody tr th:only-of-type {\n",
       "        vertical-align: middle;\n",
       "    }\n",
       "\n",
       "    .dataframe tbody tr th {\n",
       "        vertical-align: top;\n",
       "    }\n",
       "\n",
       "    .dataframe thead th {\n",
       "        text-align: right;\n",
       "    }\n",
       "</style>\n",
       "<table border=\"1\" class=\"dataframe\">\n",
       "  <thead>\n",
       "    <tr style=\"text-align: right;\">\n",
       "      <th></th>\n",
       "      <th>key</th>\n",
       "      <th>Bulk 1</th>\n",
       "      <th>Bulk 2</th>\n",
       "      <th>Bulk 3</th>\n",
       "      <th>Bulk 4</th>\n",
       "      <th>Bulk 5</th>\n",
       "      <th>Bulk 6</th>\n",
       "      <th>Bulk 7</th>\n",
       "      <th>Bulk 8</th>\n",
       "      <th>Bulk 9</th>\n",
       "      <th>Bulk 10</th>\n",
       "      <th>Bulk 11</th>\n",
       "      <th>Bulk 12</th>\n",
       "      <th>Bulk 13</th>\n",
       "      <th>Bulk 14</th>\n",
       "      <th>Bulk 15</th>\n",
       "    </tr>\n",
       "  </thead>\n",
       "  <tbody>\n",
       "    <tr>\n",
       "      <th>0</th>\n",
       "      <td>1</td>\n",
       "      <td>NaN</td>\n",
       "      <td>NaN</td>\n",
       "      <td>NaN</td>\n",
       "      <td>43.0</td>\n",
       "      <td>NaN</td>\n",
       "      <td>NaN</td>\n",
       "      <td>NaN</td>\n",
       "      <td>NaN</td>\n",
       "      <td>NaN</td>\n",
       "      <td>NaN</td>\n",
       "      <td>NaN</td>\n",
       "      <td>206.0</td>\n",
       "      <td>NaN</td>\n",
       "      <td>150.0</td>\n",
       "      <td>154.0</td>\n",
       "    </tr>\n",
       "    <tr>\n",
       "      <th>1</th>\n",
       "      <td>2</td>\n",
       "      <td>NaN</td>\n",
       "      <td>NaN</td>\n",
       "      <td>NaN</td>\n",
       "      <td>73.0</td>\n",
       "      <td>NaN</td>\n",
       "      <td>NaN</td>\n",
       "      <td>NaN</td>\n",
       "      <td>NaN</td>\n",
       "      <td>NaN</td>\n",
       "      <td>NaN</td>\n",
       "      <td>NaN</td>\n",
       "      <td>206.0</td>\n",
       "      <td>NaN</td>\n",
       "      <td>149.0</td>\n",
       "      <td>154.0</td>\n",
       "    </tr>\n",
       "    <tr>\n",
       "      <th>2</th>\n",
       "      <td>3</td>\n",
       "      <td>NaN</td>\n",
       "      <td>NaN</td>\n",
       "      <td>NaN</td>\n",
       "      <td>34.0</td>\n",
       "      <td>NaN</td>\n",
       "      <td>NaN</td>\n",
       "      <td>NaN</td>\n",
       "      <td>NaN</td>\n",
       "      <td>NaN</td>\n",
       "      <td>NaN</td>\n",
       "      <td>NaN</td>\n",
       "      <td>205.0</td>\n",
       "      <td>NaN</td>\n",
       "      <td>152.0</td>\n",
       "      <td>153.0</td>\n",
       "    </tr>\n",
       "    <tr>\n",
       "      <th>3</th>\n",
       "      <td>4</td>\n",
       "      <td>NaN</td>\n",
       "      <td>NaN</td>\n",
       "      <td>NaN</td>\n",
       "      <td>81.0</td>\n",
       "      <td>NaN</td>\n",
       "      <td>NaN</td>\n",
       "      <td>NaN</td>\n",
       "      <td>NaN</td>\n",
       "      <td>NaN</td>\n",
       "      <td>NaN</td>\n",
       "      <td>NaN</td>\n",
       "      <td>207.0</td>\n",
       "      <td>NaN</td>\n",
       "      <td>153.0</td>\n",
       "      <td>154.0</td>\n",
       "    </tr>\n",
       "    <tr>\n",
       "      <th>4</th>\n",
       "      <td>5</td>\n",
       "      <td>NaN</td>\n",
       "      <td>NaN</td>\n",
       "      <td>NaN</td>\n",
       "      <td>78.0</td>\n",
       "      <td>NaN</td>\n",
       "      <td>NaN</td>\n",
       "      <td>NaN</td>\n",
       "      <td>NaN</td>\n",
       "      <td>NaN</td>\n",
       "      <td>NaN</td>\n",
       "      <td>NaN</td>\n",
       "      <td>203.0</td>\n",
       "      <td>NaN</td>\n",
       "      <td>151.0</td>\n",
       "      <td>152.0</td>\n",
       "    </tr>\n",
       "    <tr>\n",
       "      <th>5</th>\n",
       "      <td>6</td>\n",
       "      <td>NaN</td>\n",
       "      <td>NaN</td>\n",
       "      <td>NaN</td>\n",
       "      <td>117.0</td>\n",
       "      <td>NaN</td>\n",
       "      <td>NaN</td>\n",
       "      <td>NaN</td>\n",
       "      <td>NaN</td>\n",
       "      <td>NaN</td>\n",
       "      <td>NaN</td>\n",
       "      <td>NaN</td>\n",
       "      <td>204.0</td>\n",
       "      <td>NaN</td>\n",
       "      <td>201.0</td>\n",
       "      <td>154.0</td>\n",
       "    </tr>\n",
       "    <tr>\n",
       "      <th>6</th>\n",
       "      <td>7</td>\n",
       "      <td>NaN</td>\n",
       "      <td>NaN</td>\n",
       "      <td>NaN</td>\n",
       "      <td>117.0</td>\n",
       "      <td>NaN</td>\n",
       "      <td>NaN</td>\n",
       "      <td>NaN</td>\n",
       "      <td>NaN</td>\n",
       "      <td>NaN</td>\n",
       "      <td>NaN</td>\n",
       "      <td>NaN</td>\n",
       "      <td>204.0</td>\n",
       "      <td>NaN</td>\n",
       "      <td>152.0</td>\n",
       "      <td>154.0</td>\n",
       "    </tr>\n",
       "    <tr>\n",
       "      <th>7</th>\n",
       "      <td>8</td>\n",
       "      <td>NaN</td>\n",
       "      <td>NaN</td>\n",
       "      <td>NaN</td>\n",
       "      <td>99.0</td>\n",
       "      <td>NaN</td>\n",
       "      <td>NaN</td>\n",
       "      <td>NaN</td>\n",
       "      <td>NaN</td>\n",
       "      <td>NaN</td>\n",
       "      <td>NaN</td>\n",
       "      <td>NaN</td>\n",
       "      <td>410.0</td>\n",
       "      <td>NaN</td>\n",
       "      <td>252.0</td>\n",
       "      <td>153.0</td>\n",
       "    </tr>\n",
       "    <tr>\n",
       "      <th>8</th>\n",
       "      <td>9</td>\n",
       "      <td>NaN</td>\n",
       "      <td>NaN</td>\n",
       "      <td>NaN</td>\n",
       "      <td>117.0</td>\n",
       "      <td>NaN</td>\n",
       "      <td>NaN</td>\n",
       "      <td>NaN</td>\n",
       "      <td>NaN</td>\n",
       "      <td>NaN</td>\n",
       "      <td>NaN</td>\n",
       "      <td>NaN</td>\n",
       "      <td>107.0</td>\n",
       "      <td>NaN</td>\n",
       "      <td>99.0</td>\n",
       "      <td>203.0</td>\n",
       "    </tr>\n",
       "    <tr>\n",
       "      <th>9</th>\n",
       "      <td>10</td>\n",
       "      <td>NaN</td>\n",
       "      <td>NaN</td>\n",
       "      <td>NaN</td>\n",
       "      <td>NaN</td>\n",
       "      <td>NaN</td>\n",
       "      <td>NaN</td>\n",
       "      <td>NaN</td>\n",
       "      <td>NaN</td>\n",
       "      <td>NaN</td>\n",
       "      <td>NaN</td>\n",
       "      <td>NaN</td>\n",
       "      <td>203.0</td>\n",
       "      <td>NaN</td>\n",
       "      <td>102.0</td>\n",
       "      <td>204.0</td>\n",
       "    </tr>\n",
       "  </tbody>\n",
       "</table>\n",
       "</div>"
      ],
      "text/plain": [
       "   key  Bulk 1  Bulk 2  Bulk 3  Bulk 4  Bulk 5  Bulk 6  Bulk 7  Bulk 8  \\\n",
       "0    1     NaN     NaN     NaN    43.0     NaN     NaN     NaN     NaN   \n",
       "1    2     NaN     NaN     NaN    73.0     NaN     NaN     NaN     NaN   \n",
       "2    3     NaN     NaN     NaN    34.0     NaN     NaN     NaN     NaN   \n",
       "3    4     NaN     NaN     NaN    81.0     NaN     NaN     NaN     NaN   \n",
       "4    5     NaN     NaN     NaN    78.0     NaN     NaN     NaN     NaN   \n",
       "5    6     NaN     NaN     NaN   117.0     NaN     NaN     NaN     NaN   \n",
       "6    7     NaN     NaN     NaN   117.0     NaN     NaN     NaN     NaN   \n",
       "7    8     NaN     NaN     NaN    99.0     NaN     NaN     NaN     NaN   \n",
       "8    9     NaN     NaN     NaN   117.0     NaN     NaN     NaN     NaN   \n",
       "9   10     NaN     NaN     NaN     NaN     NaN     NaN     NaN     NaN   \n",
       "\n",
       "   Bulk 9  Bulk 10  Bulk 11  Bulk 12  Bulk 13  Bulk 14  Bulk 15  \n",
       "0     NaN      NaN      NaN    206.0      NaN    150.0    154.0  \n",
       "1     NaN      NaN      NaN    206.0      NaN    149.0    154.0  \n",
       "2     NaN      NaN      NaN    205.0      NaN    152.0    153.0  \n",
       "3     NaN      NaN      NaN    207.0      NaN    153.0    154.0  \n",
       "4     NaN      NaN      NaN    203.0      NaN    151.0    152.0  \n",
       "5     NaN      NaN      NaN    204.0      NaN    201.0    154.0  \n",
       "6     NaN      NaN      NaN    204.0      NaN    152.0    154.0  \n",
       "7     NaN      NaN      NaN    410.0      NaN    252.0    153.0  \n",
       "8     NaN      NaN      NaN    107.0      NaN     99.0    203.0  \n",
       "9     NaN      NaN      NaN    203.0      NaN    102.0    204.0  "
      ]
     },
     "execution_count": 16,
     "metadata": {},
     "output_type": "execute_result"
    }
   ],
   "source": [
    "data_mv = pd.read_csv('/datasets/data_bulk_new.csv') # данные об объёмах сыпучих материалов\n",
    "\n",
    "data_mv.head(10)"
   ]
  },
  {
   "cell_type": "markdown",
   "id": "9fea005e",
   "metadata": {},
   "source": [
    "Существуют данные о засыпках для 3129 партий."
   ]
  },
  {
   "cell_type": "code",
   "execution_count": 17,
   "id": "bba2b551",
   "metadata": {},
   "outputs": [
    {
     "data": {
      "text/plain": [
       "3129"
      ]
     },
     "execution_count": 17,
     "metadata": {},
     "output_type": "execute_result"
    }
   ],
   "source": [
    "len(data_mv['key'].unique())"
   ]
  },
  {
   "cell_type": "markdown",
   "id": "e04bbc65",
   "metadata": {},
   "source": [
    "Однако максимальная партия с номером 3241. В этот раз пропущенно 112 партий."
   ]
  },
  {
   "cell_type": "code",
   "execution_count": 18,
   "id": "4402c1f1",
   "metadata": {},
   "outputs": [
    {
     "data": {
      "text/plain": [
       "array([   1,    2,    3, ..., 3239, 3240, 3241])"
      ]
     },
     "execution_count": 18,
     "metadata": {},
     "output_type": "execute_result"
    }
   ],
   "source": [
    "data_mv['key'].unique()"
   ]
  },
  {
   "cell_type": "markdown",
   "id": "cc1ae5fc",
   "metadata": {},
   "source": [
    "Ни для одной из партий не требовалось засыпать материалы несколько раз. (или в данной таблице представлены суммарные объёмы всех засыпок для каждой партии)"
   ]
  },
  {
   "cell_type": "code",
   "execution_count": 19,
   "id": "767e0ba2",
   "metadata": {},
   "outputs": [
    {
     "data": {
      "text/plain": [
       "0"
      ]
     },
     "execution_count": 19,
     "metadata": {},
     "output_type": "execute_result"
    }
   ],
   "source": [
    "data_mv['key'].duplicated().sum()"
   ]
  },
  {
   "cell_type": "markdown",
   "id": "8bcbc77b",
   "metadata": {},
   "source": [
    "В данной таблице пропуски означают, что для указанной партии засыпка соответсвующих материалов не проводилась, т.о. объём добавленого материала равен нулю."
   ]
  },
  {
   "cell_type": "code",
   "execution_count": 20,
   "id": "11902615",
   "metadata": {},
   "outputs": [],
   "source": [
    "data_mv = data_mv.fillna(0)"
   ]
  },
  {
   "cell_type": "markdown",
   "id": "61018ee0",
   "metadata": {},
   "source": [
    "В данных нет засыпок с отрицательным объёмом."
   ]
  },
  {
   "cell_type": "code",
   "execution_count": 21,
   "id": "02e3d53e",
   "metadata": {},
   "outputs": [
    {
     "data": {
      "text/plain": [
       "Bulk 1     0\n",
       "Bulk 2     0\n",
       "Bulk 3     0\n",
       "Bulk 4     0\n",
       "Bulk 5     0\n",
       "Bulk 6     0\n",
       "Bulk 7     0\n",
       "Bulk 8     0\n",
       "Bulk 9     0\n",
       "Bulk 10    0\n",
       "Bulk 11    0\n",
       "Bulk 12    0\n",
       "Bulk 13    0\n",
       "Bulk 14    0\n",
       "Bulk 15    0\n",
       "dtype: int64"
      ]
     },
     "execution_count": 21,
     "metadata": {},
     "output_type": "execute_result"
    }
   ],
   "source": [
    "(data_mv[data_mv.columns.drop('key')] < 0).sum()"
   ]
  },
  {
   "cell_type": "markdown",
   "id": "ac9c9adf",
   "metadata": {},
   "source": [
    "Для каждой из партий требовалась засыпка хотябы одного сыпучего материала."
   ]
  },
  {
   "cell_type": "code",
   "execution_count": 22,
   "id": "ec11448e",
   "metadata": {},
   "outputs": [
    {
     "data": {
      "text/plain": [
       "0"
      ]
     },
     "execution_count": 22,
     "metadata": {},
     "output_type": "execute_result"
    }
   ],
   "source": [
    "(data_mv[data_mv.columns.drop('key')].T.sum() <= 0).sum()"
   ]
  },
  {
   "cell_type": "markdown",
   "id": "d6173b56",
   "metadata": {},
   "source": [
    "Распределения объёмов засыпаемых сыпучих материалов выглядит следующим образом:"
   ]
  },
  {
   "cell_type": "code",
   "execution_count": 23,
   "id": "c156673a",
   "metadata": {},
   "outputs": [
    {
     "data": {
      "text/plain": [
       "array([[<AxesSubplot:title={'center':'Bulk 1'}>,\n",
       "        <AxesSubplot:title={'center':'Bulk 2'}>,\n",
       "        <AxesSubplot:title={'center':'Bulk 3'}>,\n",
       "        <AxesSubplot:title={'center':'Bulk 4'}>],\n",
       "       [<AxesSubplot:title={'center':'Bulk 5'}>,\n",
       "        <AxesSubplot:title={'center':'Bulk 6'}>,\n",
       "        <AxesSubplot:title={'center':'Bulk 7'}>,\n",
       "        <AxesSubplot:title={'center':'Bulk 8'}>],\n",
       "       [<AxesSubplot:title={'center':'Bulk 9'}>,\n",
       "        <AxesSubplot:title={'center':'Bulk 10'}>,\n",
       "        <AxesSubplot:title={'center':'Bulk 11'}>,\n",
       "        <AxesSubplot:title={'center':'Bulk 12'}>],\n",
       "       [<AxesSubplot:title={'center':'Bulk 13'}>,\n",
       "        <AxesSubplot:title={'center':'Bulk 14'}>,\n",
       "        <AxesSubplot:title={'center':'Bulk 15'}>, <AxesSubplot:>]],\n",
       "      dtype=object)"
      ]
     },
     "execution_count": 23,
     "metadata": {},
     "output_type": "execute_result"
    },
    {
     "data": {
      "image/png": "[encoded data removed]",
      "text/plain": [
       "<Figure size 1440x1440 with 16 Axes>"
      ]
     },
     "metadata": {
      "needs_background": "light"
     },
     "output_type": "display_data"
    }
   ],
   "source": [
    "data_mv[data_mv[data_mv.columns.drop('key')] > 0].drop('key', axis=1).hist(\n",
    "    bins=20,\n",
    "    figsize=(20, 20),\n",
    "    grid=False\n",
    ")"
   ]
  },
  {
   "cell_type": "code",
   "execution_count": 24,
   "id": "eb73e9aa",
   "metadata": {},
   "outputs": [
    {
     "name": "stdout",
     "output_type": "stream",
     "text": [
      "<class 'pandas.core.frame.DataFrame'>\n",
      "RangeIndex: 3129 entries, 0 to 3128\n",
      "Data columns (total 16 columns):\n",
      " #   Column   Non-Null Count  Dtype  \n",
      "---  ------   --------------  -----  \n",
      " 0   key      3129 non-null   int64  \n",
      " 1   Bulk 1   3129 non-null   float64\n",
      " 2   Bulk 2   3129 non-null   float64\n",
      " 3   Bulk 3   3129 non-null   float64\n",
      " 4   Bulk 4   3129 non-null   float64\n",
      " 5   Bulk 5   3129 non-null   float64\n",
      " 6   Bulk 6   3129 non-null   float64\n",
      " 7   Bulk 7   3129 non-null   float64\n",
      " 8   Bulk 8   3129 non-null   float64\n",
      " 9   Bulk 9   3129 non-null   float64\n",
      " 10  Bulk 10  3129 non-null   float64\n",
      " 11  Bulk 11  3129 non-null   float64\n",
      " 12  Bulk 12  3129 non-null   float64\n",
      " 13  Bulk 13  3129 non-null   float64\n",
      " 14  Bulk 14  3129 non-null   float64\n",
      " 15  Bulk 15  3129 non-null   float64\n",
      "dtypes: float64(15), int64(1)\n",
      "memory usage: 391.2 KB\n"
     ]
    }
   ],
   "source": [
    "data_mv.info()"
   ]
  },
  {
   "cell_type": "markdown",
   "id": "737a7150",
   "metadata": {},
   "source": [
    "#### Время"
   ]
  },
  {
   "cell_type": "markdown",
   "id": "c4752496",
   "metadata": {},
   "source": [
    "Данная таблица не понадобится нам для анализа, однако мы можем проанализировать данные в ней."
   ]
  },
  {
   "cell_type": "code",
   "execution_count": 25,
   "id": "93d7a214",
   "metadata": {
    "scrolled": false
   },
   "outputs": [
    {
     "data": {
      "text/html": [
       "<div>\n",
       "<style scoped>\n",
       "    .dataframe tbody tr th:only-of-type {\n",
       "        vertical-align: middle;\n",
       "    }\n",
       "\n",
       "    .dataframe tbody tr th {\n",
       "        vertical-align: top;\n",
       "    }\n",
       "\n",
       "    .dataframe thead th {\n",
       "        text-align: right;\n",
       "    }\n",
       "</style>\n",
       "<table border=\"1\" class=\"dataframe\">\n",
       "  <thead>\n",
       "    <tr style=\"text-align: right;\">\n",
       "      <th></th>\n",
       "      <th>key</th>\n",
       "      <th>Bulk 1</th>\n",
       "      <th>Bulk 2</th>\n",
       "      <th>Bulk 3</th>\n",
       "      <th>Bulk 4</th>\n",
       "      <th>Bulk 5</th>\n",
       "      <th>Bulk 6</th>\n",
       "      <th>Bulk 7</th>\n",
       "      <th>Bulk 8</th>\n",
       "      <th>Bulk 9</th>\n",
       "      <th>Bulk 10</th>\n",
       "      <th>Bulk 11</th>\n",
       "      <th>Bulk 12</th>\n",
       "      <th>Bulk 13</th>\n",
       "      <th>Bulk 14</th>\n",
       "      <th>Bulk 15</th>\n",
       "    </tr>\n",
       "  </thead>\n",
       "  <tbody>\n",
       "    <tr>\n",
       "      <th>0</th>\n",
       "      <td>1</td>\n",
       "      <td>NaN</td>\n",
       "      <td>NaN</td>\n",
       "      <td>NaN</td>\n",
       "      <td>2019-05-03 11:28:48</td>\n",
       "      <td>NaN</td>\n",
       "      <td>NaN</td>\n",
       "      <td>NaN</td>\n",
       "      <td>NaN</td>\n",
       "      <td>NaN</td>\n",
       "      <td>NaN</td>\n",
       "      <td>NaN</td>\n",
       "      <td>2019-05-03 11:24:31</td>\n",
       "      <td>NaN</td>\n",
       "      <td>2019-05-03 11:14:50</td>\n",
       "      <td>2019-05-03 11:10:43</td>\n",
       "    </tr>\n",
       "    <tr>\n",
       "      <th>1</th>\n",
       "      <td>2</td>\n",
       "      <td>NaN</td>\n",
       "      <td>NaN</td>\n",
       "      <td>NaN</td>\n",
       "      <td>2019-05-03 11:36:50</td>\n",
       "      <td>NaN</td>\n",
       "      <td>NaN</td>\n",
       "      <td>NaN</td>\n",
       "      <td>NaN</td>\n",
       "      <td>NaN</td>\n",
       "      <td>NaN</td>\n",
       "      <td>NaN</td>\n",
       "      <td>2019-05-03 11:53:30</td>\n",
       "      <td>NaN</td>\n",
       "      <td>2019-05-03 11:48:37</td>\n",
       "      <td>2019-05-03 11:44:39</td>\n",
       "    </tr>\n",
       "    <tr>\n",
       "      <th>2</th>\n",
       "      <td>3</td>\n",
       "      <td>NaN</td>\n",
       "      <td>NaN</td>\n",
       "      <td>NaN</td>\n",
       "      <td>2019-05-03 12:32:39</td>\n",
       "      <td>NaN</td>\n",
       "      <td>NaN</td>\n",
       "      <td>NaN</td>\n",
       "      <td>NaN</td>\n",
       "      <td>NaN</td>\n",
       "      <td>NaN</td>\n",
       "      <td>NaN</td>\n",
       "      <td>2019-05-03 12:27:13</td>\n",
       "      <td>NaN</td>\n",
       "      <td>2019-05-03 12:21:01</td>\n",
       "      <td>2019-05-03 12:16:16</td>\n",
       "    </tr>\n",
       "    <tr>\n",
       "      <th>3</th>\n",
       "      <td>4</td>\n",
       "      <td>NaN</td>\n",
       "      <td>NaN</td>\n",
       "      <td>NaN</td>\n",
       "      <td>2019-05-03 12:43:22</td>\n",
       "      <td>NaN</td>\n",
       "      <td>NaN</td>\n",
       "      <td>NaN</td>\n",
       "      <td>NaN</td>\n",
       "      <td>NaN</td>\n",
       "      <td>NaN</td>\n",
       "      <td>NaN</td>\n",
       "      <td>2019-05-03 12:58:00</td>\n",
       "      <td>NaN</td>\n",
       "      <td>2019-05-03 12:51:11</td>\n",
       "      <td>2019-05-03 12:46:36</td>\n",
       "    </tr>\n",
       "    <tr>\n",
       "      <th>4</th>\n",
       "      <td>5</td>\n",
       "      <td>NaN</td>\n",
       "      <td>NaN</td>\n",
       "      <td>NaN</td>\n",
       "      <td>2019-05-03 13:30:47</td>\n",
       "      <td>NaN</td>\n",
       "      <td>NaN</td>\n",
       "      <td>NaN</td>\n",
       "      <td>NaN</td>\n",
       "      <td>NaN</td>\n",
       "      <td>NaN</td>\n",
       "      <td>NaN</td>\n",
       "      <td>2019-05-03 13:30:47</td>\n",
       "      <td>NaN</td>\n",
       "      <td>2019-05-03 13:34:12</td>\n",
       "      <td>2019-05-03 13:30:47</td>\n",
       "    </tr>\n",
       "    <tr>\n",
       "      <th>5</th>\n",
       "      <td>6</td>\n",
       "      <td>NaN</td>\n",
       "      <td>NaN</td>\n",
       "      <td>NaN</td>\n",
       "      <td>2019-05-03 13:57:27</td>\n",
       "      <td>NaN</td>\n",
       "      <td>NaN</td>\n",
       "      <td>NaN</td>\n",
       "      <td>NaN</td>\n",
       "      <td>NaN</td>\n",
       "      <td>NaN</td>\n",
       "      <td>NaN</td>\n",
       "      <td>2019-05-03 13:48:52</td>\n",
       "      <td>NaN</td>\n",
       "      <td>2019-05-03 14:09:42</td>\n",
       "      <td>2019-05-03 14:03:15</td>\n",
       "    </tr>\n",
       "    <tr>\n",
       "      <th>6</th>\n",
       "      <td>7</td>\n",
       "      <td>NaN</td>\n",
       "      <td>NaN</td>\n",
       "      <td>NaN</td>\n",
       "      <td>2019-05-03 14:18:58</td>\n",
       "      <td>NaN</td>\n",
       "      <td>NaN</td>\n",
       "      <td>NaN</td>\n",
       "      <td>NaN</td>\n",
       "      <td>NaN</td>\n",
       "      <td>NaN</td>\n",
       "      <td>NaN</td>\n",
       "      <td>2019-05-03 14:41:26</td>\n",
       "      <td>NaN</td>\n",
       "      <td>2019-05-03 14:30:50</td>\n",
       "      <td>2019-05-03 14:27:16</td>\n",
       "    </tr>\n",
       "    <tr>\n",
       "      <th>7</th>\n",
       "      <td>8</td>\n",
       "      <td>NaN</td>\n",
       "      <td>NaN</td>\n",
       "      <td>NaN</td>\n",
       "      <td>2019-05-03 15:17:58</td>\n",
       "      <td>NaN</td>\n",
       "      <td>NaN</td>\n",
       "      <td>NaN</td>\n",
       "      <td>NaN</td>\n",
       "      <td>NaN</td>\n",
       "      <td>NaN</td>\n",
       "      <td>NaN</td>\n",
       "      <td>2019-05-03 15:17:58</td>\n",
       "      <td>NaN</td>\n",
       "      <td>2019-05-03 15:13:18</td>\n",
       "      <td>2019-05-03 15:05:33</td>\n",
       "    </tr>\n",
       "    <tr>\n",
       "      <th>8</th>\n",
       "      <td>9</td>\n",
       "      <td>NaN</td>\n",
       "      <td>NaN</td>\n",
       "      <td>NaN</td>\n",
       "      <td>2019-05-03 16:03:08</td>\n",
       "      <td>NaN</td>\n",
       "      <td>NaN</td>\n",
       "      <td>NaN</td>\n",
       "      <td>NaN</td>\n",
       "      <td>NaN</td>\n",
       "      <td>NaN</td>\n",
       "      <td>NaN</td>\n",
       "      <td>2019-05-03 16:03:08</td>\n",
       "      <td>NaN</td>\n",
       "      <td>2019-05-03 16:00:16</td>\n",
       "      <td>2019-05-03 15:52:39</td>\n",
       "    </tr>\n",
       "    <tr>\n",
       "      <th>9</th>\n",
       "      <td>10</td>\n",
       "      <td>NaN</td>\n",
       "      <td>NaN</td>\n",
       "      <td>NaN</td>\n",
       "      <td>NaN</td>\n",
       "      <td>NaN</td>\n",
       "      <td>NaN</td>\n",
       "      <td>NaN</td>\n",
       "      <td>NaN</td>\n",
       "      <td>NaN</td>\n",
       "      <td>NaN</td>\n",
       "      <td>NaN</td>\n",
       "      <td>2019-05-03 16:38:11</td>\n",
       "      <td>NaN</td>\n",
       "      <td>2019-05-03 16:34:24</td>\n",
       "      <td>2019-05-03 16:29:56</td>\n",
       "    </tr>\n",
       "  </tbody>\n",
       "</table>\n",
       "</div>"
      ],
      "text/plain": [
       "   key Bulk 1 Bulk 2 Bulk 3               Bulk 4 Bulk 5 Bulk 6 Bulk 7 Bulk 8  \\\n",
       "0    1    NaN    NaN    NaN  2019-05-03 11:28:48    NaN    NaN    NaN    NaN   \n",
       "1    2    NaN    NaN    NaN  2019-05-03 11:36:50    NaN    NaN    NaN    NaN   \n",
       "2    3    NaN    NaN    NaN  2019-05-03 12:32:39    NaN    NaN    NaN    NaN   \n",
       "3    4    NaN    NaN    NaN  2019-05-03 12:43:22    NaN    NaN    NaN    NaN   \n",
       "4    5    NaN    NaN    NaN  2019-05-03 13:30:47    NaN    NaN    NaN    NaN   \n",
       "5    6    NaN    NaN    NaN  2019-05-03 13:57:27    NaN    NaN    NaN    NaN   \n",
       "6    7    NaN    NaN    NaN  2019-05-03 14:18:58    NaN    NaN    NaN    NaN   \n",
       "7    8    NaN    NaN    NaN  2019-05-03 15:17:58    NaN    NaN    NaN    NaN   \n",
       "8    9    NaN    NaN    NaN  2019-05-03 16:03:08    NaN    NaN    NaN    NaN   \n",
       "9   10    NaN    NaN    NaN                  NaN    NaN    NaN    NaN    NaN   \n",
       "\n",
       "  Bulk 9 Bulk 10 Bulk 11              Bulk 12 Bulk 13              Bulk 14  \\\n",
       "0    NaN     NaN     NaN  2019-05-03 11:24:31     NaN  2019-05-03 11:14:50   \n",
       "1    NaN     NaN     NaN  2019-05-03 11:53:30     NaN  2019-05-03 11:48:37   \n",
       "2    NaN     NaN     NaN  2019-05-03 12:27:13     NaN  2019-05-03 12:21:01   \n",
       "3    NaN     NaN     NaN  2019-05-03 12:58:00     NaN  2019-05-03 12:51:11   \n",
       "4    NaN     NaN     NaN  2019-05-03 13:30:47     NaN  2019-05-03 13:34:12   \n",
       "5    NaN     NaN     NaN  2019-05-03 13:48:52     NaN  2019-05-03 14:09:42   \n",
       "6    NaN     NaN     NaN  2019-05-03 14:41:26     NaN  2019-05-03 14:30:50   \n",
       "7    NaN     NaN     NaN  2019-05-03 15:17:58     NaN  2019-05-03 15:13:18   \n",
       "8    NaN     NaN     NaN  2019-05-03 16:03:08     NaN  2019-05-03 16:00:16   \n",
       "9    NaN     NaN     NaN  2019-05-03 16:38:11     NaN  2019-05-03 16:34:24   \n",
       "\n",
       "               Bulk 15  \n",
       "0  2019-05-03 11:10:43  \n",
       "1  2019-05-03 11:44:39  \n",
       "2  2019-05-03 12:16:16  \n",
       "3  2019-05-03 12:46:36  \n",
       "4  2019-05-03 13:30:47  \n",
       "5  2019-05-03 14:03:15  \n",
       "6  2019-05-03 14:27:16  \n",
       "7  2019-05-03 15:05:33  \n",
       "8  2019-05-03 15:52:39  \n",
       "9  2019-05-03 16:29:56  "
      ]
     },
     "execution_count": 25,
     "metadata": {},
     "output_type": "execute_result"
    }
   ],
   "source": [
    "data_mt = pd.read_csv('/datasets/data_bulk_time_new.csv') # данные о времени сыпучих материалов\n",
    "\n",
    "data_mt.head(10)"
   ]
  },
  {
   "cell_type": "markdown",
   "id": "558bd40a",
   "metadata": {},
   "source": [
    "Существуют данные о засыпках для 3129 партий."
   ]
  },
  {
   "cell_type": "code",
   "execution_count": 26,
   "id": "c61b9d40",
   "metadata": {
    "scrolled": true
   },
   "outputs": [
    {
     "data": {
      "text/plain": [
       "3129"
      ]
     },
     "execution_count": 26,
     "metadata": {},
     "output_type": "execute_result"
    }
   ],
   "source": [
    "len(data_mt['key'].unique())"
   ]
  },
  {
   "cell_type": "markdown",
   "id": "bdb94d22",
   "metadata": {},
   "source": [
    "Однако максимальная партия с номером 3241. В этот раз пропущенно 112 партий."
   ]
  },
  {
   "cell_type": "code",
   "execution_count": 27,
   "id": "38da72dd",
   "metadata": {},
   "outputs": [
    {
     "data": {
      "text/plain": [
       "array([   1,    2,    3, ..., 3239, 3240, 3241])"
      ]
     },
     "execution_count": 27,
     "metadata": {},
     "output_type": "execute_result"
    }
   ],
   "source": [
    "data_mt['key'].unique()"
   ]
  },
  {
   "cell_type": "markdown",
   "id": "ee58b1c5",
   "metadata": {},
   "source": [
    "Ни для одной из партий не требовалось засыпать материалы несколько раз. (или в данной таблице представлено начальное/конечное/среднее/примерное время для всех засыпок на каждой партии)"
   ]
  },
  {
   "cell_type": "code",
   "execution_count": 28,
   "id": "5ee360f9",
   "metadata": {},
   "outputs": [
    {
     "data": {
      "text/plain": [
       "0"
      ]
     },
     "execution_count": 28,
     "metadata": {},
     "output_type": "execute_result"
    }
   ],
   "source": [
    "data_mt['key'].duplicated().sum()"
   ]
  },
  {
   "cell_type": "markdown",
   "id": "ae87ac0d",
   "metadata": {},
   "source": [
    "Можно заполнить пропуски нулями, также как было сделано с соответсвующей таблицей по объёму."
   ]
  },
  {
   "cell_type": "code",
   "execution_count": 29,
   "id": "4d47038c",
   "metadata": {},
   "outputs": [],
   "source": [
    "data_mt = data_mt.fillna(0)"
   ]
  },
  {
   "cell_type": "markdown",
   "id": "13a60a86",
   "metadata": {},
   "source": [
    "Для каждой из партий требовалась засыпка хотябы одного сыпучего материала."
   ]
  },
  {
   "cell_type": "code",
   "execution_count": 30,
   "id": "d8769439",
   "metadata": {},
   "outputs": [
    {
     "data": {
      "text/plain": [
       "0"
      ]
     },
     "execution_count": 30,
     "metadata": {},
     "output_type": "execute_result"
    }
   ],
   "source": [
    "(data_mt[data_mt.columns.drop('key')].T.sum() <= 0).sum()"
   ]
  },
  {
   "cell_type": "code",
   "execution_count": 31,
   "id": "52ca9224",
   "metadata": {},
   "outputs": [
    {
     "name": "stdout",
     "output_type": "stream",
     "text": [
      "<class 'pandas.core.frame.DataFrame'>\n",
      "RangeIndex: 3129 entries, 0 to 3128\n",
      "Data columns (total 16 columns):\n",
      " #   Column   Non-Null Count  Dtype \n",
      "---  ------   --------------  ----- \n",
      " 0   key      3129 non-null   int64 \n",
      " 1   Bulk 1   3129 non-null   object\n",
      " 2   Bulk 2   3129 non-null   object\n",
      " 3   Bulk 3   3129 non-null   object\n",
      " 4   Bulk 4   3129 non-null   object\n",
      " 5   Bulk 5   3129 non-null   object\n",
      " 6   Bulk 6   3129 non-null   object\n",
      " 7   Bulk 7   3129 non-null   object\n",
      " 8   Bulk 8   3129 non-null   object\n",
      " 9   Bulk 9   3129 non-null   object\n",
      " 10  Bulk 10  3129 non-null   object\n",
      " 11  Bulk 11  3129 non-null   object\n",
      " 12  Bulk 12  3129 non-null   object\n",
      " 13  Bulk 13  3129 non-null   object\n",
      " 14  Bulk 14  3129 non-null   object\n",
      " 15  Bulk 15  3129 non-null   object\n",
      "dtypes: int64(1), object(15)\n",
      "memory usage: 391.2+ KB\n"
     ]
    }
   ],
   "source": [
    "data_mt.info()"
   ]
  },
  {
   "cell_type": "markdown",
   "id": "fae40c07",
   "metadata": {},
   "source": [
    "### Газ"
   ]
  },
  {
   "cell_type": "code",
   "execution_count": 32,
   "id": "11a0b880",
   "metadata": {},
   "outputs": [
    {
     "data": {
      "text/html": [
       "<div>\n",
       "<style scoped>\n",
       "    .dataframe tbody tr th:only-of-type {\n",
       "        vertical-align: middle;\n",
       "    }\n",
       "\n",
       "    .dataframe tbody tr th {\n",
       "        vertical-align: top;\n",
       "    }\n",
       "\n",
       "    .dataframe thead th {\n",
       "        text-align: right;\n",
       "    }\n",
       "</style>\n",
       "<table border=\"1\" class=\"dataframe\">\n",
       "  <thead>\n",
       "    <tr style=\"text-align: right;\">\n",
       "      <th></th>\n",
       "      <th>key</th>\n",
       "      <th>Газ 1</th>\n",
       "    </tr>\n",
       "  </thead>\n",
       "  <tbody>\n",
       "    <tr>\n",
       "      <th>0</th>\n",
       "      <td>1</td>\n",
       "      <td>29.749986</td>\n",
       "    </tr>\n",
       "    <tr>\n",
       "      <th>1</th>\n",
       "      <td>2</td>\n",
       "      <td>12.555561</td>\n",
       "    </tr>\n",
       "    <tr>\n",
       "      <th>2</th>\n",
       "      <td>3</td>\n",
       "      <td>28.554793</td>\n",
       "    </tr>\n",
       "    <tr>\n",
       "      <th>3</th>\n",
       "      <td>4</td>\n",
       "      <td>18.841219</td>\n",
       "    </tr>\n",
       "    <tr>\n",
       "      <th>4</th>\n",
       "      <td>5</td>\n",
       "      <td>5.413692</td>\n",
       "    </tr>\n",
       "    <tr>\n",
       "      <th>5</th>\n",
       "      <td>6</td>\n",
       "      <td>11.273392</td>\n",
       "    </tr>\n",
       "    <tr>\n",
       "      <th>6</th>\n",
       "      <td>7</td>\n",
       "      <td>9.836267</td>\n",
       "    </tr>\n",
       "    <tr>\n",
       "      <th>7</th>\n",
       "      <td>8</td>\n",
       "      <td>15.171553</td>\n",
       "    </tr>\n",
       "    <tr>\n",
       "      <th>8</th>\n",
       "      <td>9</td>\n",
       "      <td>8.216623</td>\n",
       "    </tr>\n",
       "    <tr>\n",
       "      <th>9</th>\n",
       "      <td>10</td>\n",
       "      <td>6.529891</td>\n",
       "    </tr>\n",
       "  </tbody>\n",
       "</table>\n",
       "</div>"
      ],
      "text/plain": [
       "   key      Газ 1\n",
       "0    1  29.749986\n",
       "1    2  12.555561\n",
       "2    3  28.554793\n",
       "3    4  18.841219\n",
       "4    5   5.413692\n",
       "5    6  11.273392\n",
       "6    7   9.836267\n",
       "7    8  15.171553\n",
       "8    9   8.216623\n",
       "9   10   6.529891"
      ]
     },
     "execution_count": 32,
     "metadata": {},
     "output_type": "execute_result"
    }
   ],
   "source": [
    "data_g = pd.read_csv('/datasets/data_gas_new.csv') # данные о продувке сплава газом\n",
    "\n",
    "data_g.head(10)"
   ]
  },
  {
   "cell_type": "markdown",
   "id": "3edc2e6c",
   "metadata": {},
   "source": [
    "Существуют данные о засыпках для 3239 партий."
   ]
  },
  {
   "cell_type": "code",
   "execution_count": 33,
   "id": "59ebe550",
   "metadata": {},
   "outputs": [
    {
     "data": {
      "text/plain": [
       "3239"
      ]
     },
     "execution_count": 33,
     "metadata": {},
     "output_type": "execute_result"
    }
   ],
   "source": [
    "len(data_g['key'].unique())"
   ]
  },
  {
   "cell_type": "markdown",
   "id": "9957fc44",
   "metadata": {},
   "source": [
    "Однако максимальная партия с номером 3241. Пропущенно всего 2 партии."
   ]
  },
  {
   "cell_type": "code",
   "execution_count": 34,
   "id": "248539d4",
   "metadata": {},
   "outputs": [
    {
     "data": {
      "text/plain": [
       "array([   1,    2,    3, ..., 3239, 3240, 3241])"
      ]
     },
     "execution_count": 34,
     "metadata": {},
     "output_type": "execute_result"
    }
   ],
   "source": [
    "data_g['key'].unique()"
   ]
  },
  {
   "cell_type": "markdown",
   "id": "adb000be",
   "metadata": {},
   "source": [
    "Продувка газом использовалась для каждой из указанных в данных партий."
   ]
  },
  {
   "cell_type": "code",
   "execution_count": 35,
   "id": "10bd2555",
   "metadata": {},
   "outputs": [
    {
     "data": {
      "text/plain": [
       "0"
      ]
     },
     "execution_count": 35,
     "metadata": {},
     "output_type": "execute_result"
    }
   ],
   "source": [
    "(data_g['Газ 1'] <= 0).sum()"
   ]
  },
  {
   "cell_type": "markdown",
   "id": "dc475f8a",
   "metadata": {},
   "source": [
    "Распределение объёма газа для продувки приближено к нормальному виду. Существуют отдельные значения для которых объёмы затраченного газа превышают медианное значение по объёмам газа для остальных партий, однако такие значения будут рассматриваться нами как имеющие смысл."
   ]
  },
  {
   "cell_type": "code",
   "execution_count": 36,
   "id": "71b121b4",
   "metadata": {},
   "outputs": [
    {
     "data": {
      "text/plain": [
       "Text(0.5, 0, 'Объём, $м^3$')"
      ]
     },
     "execution_count": 36,
     "metadata": {},
     "output_type": "execute_result"
    },
    {
     "data": {
      "image/png": "[encoded data removed]",
      "text/plain": [
       "<Figure size 720x432 with 1 Axes>"
      ]
     },
     "metadata": {
      "needs_background": "light"
     },
     "output_type": "display_data"
    }
   ],
   "source": [
    "data_g['Газ 1'].hist(\n",
    "    bins=40,\n",
    "    figsize=(10,6),\n",
    "    grid=False\n",
    ")\n",
    "plt.axvline(x=data_g['Газ 1'].median(), color='#000000', ls='--', linewidth=1)\n",
    "plt.title('Распределение объёма газа для продувки стали по партиям')\n",
    "plt.ylabel('количество партий, шт', style='italic')\n",
    "plt.xlabel('Объём, $м^3$', style='italic')"
   ]
  },
  {
   "cell_type": "markdown",
   "id": "518fbbf7",
   "metadata": {},
   "source": [
    "Данные о газе не имеют пропусков или повторов."
   ]
  },
  {
   "cell_type": "code",
   "execution_count": 37,
   "id": "f2602bc6",
   "metadata": {},
   "outputs": [
    {
     "name": "stdout",
     "output_type": "stream",
     "text": [
      "<class 'pandas.core.frame.DataFrame'>\n",
      "RangeIndex: 3239 entries, 0 to 3238\n",
      "Data columns (total 2 columns):\n",
      " #   Column  Non-Null Count  Dtype  \n",
      "---  ------  --------------  -----  \n",
      " 0   key     3239 non-null   int64  \n",
      " 1   Газ 1   3239 non-null   float64\n",
      "dtypes: float64(1), int64(1)\n",
      "memory usage: 50.7 KB\n"
     ]
    }
   ],
   "source": [
    "data_g.info()"
   ]
  },
  {
   "cell_type": "markdown",
   "id": "3cc71492",
   "metadata": {},
   "source": [
    "### Температура"
   ]
  },
  {
   "cell_type": "markdown",
   "id": "e094472d",
   "metadata": {},
   "source": [
    "Также как и в таблице об электродах данные о температуре содержат несколько записей для каждой партии."
   ]
  },
  {
   "cell_type": "code",
   "execution_count": 38,
   "id": "2e45acae",
   "metadata": {},
   "outputs": [
    {
     "data": {
      "text/html": [
       "<div>\n",
       "<style scoped>\n",
       "    .dataframe tbody tr th:only-of-type {\n",
       "        vertical-align: middle;\n",
       "    }\n",
       "\n",
       "    .dataframe tbody tr th {\n",
       "        vertical-align: top;\n",
       "    }\n",
       "\n",
       "    .dataframe thead th {\n",
       "        text-align: right;\n",
       "    }\n",
       "</style>\n",
       "<table border=\"1\" class=\"dataframe\">\n",
       "  <thead>\n",
       "    <tr style=\"text-align: right;\">\n",
       "      <th></th>\n",
       "      <th>key</th>\n",
       "      <th>Время замера</th>\n",
       "      <th>Температура</th>\n",
       "    </tr>\n",
       "  </thead>\n",
       "  <tbody>\n",
       "    <tr>\n",
       "      <th>0</th>\n",
       "      <td>1</td>\n",
       "      <td>2019-05-03 11:02:04</td>\n",
       "      <td>1571.0</td>\n",
       "    </tr>\n",
       "    <tr>\n",
       "      <th>1</th>\n",
       "      <td>1</td>\n",
       "      <td>2019-05-03 11:07:18</td>\n",
       "      <td>1604.0</td>\n",
       "    </tr>\n",
       "    <tr>\n",
       "      <th>2</th>\n",
       "      <td>1</td>\n",
       "      <td>2019-05-03 11:11:34</td>\n",
       "      <td>1618.0</td>\n",
       "    </tr>\n",
       "    <tr>\n",
       "      <th>3</th>\n",
       "      <td>1</td>\n",
       "      <td>2019-05-03 11:18:04</td>\n",
       "      <td>1601.0</td>\n",
       "    </tr>\n",
       "    <tr>\n",
       "      <th>4</th>\n",
       "      <td>1</td>\n",
       "      <td>2019-05-03 11:25:59</td>\n",
       "      <td>1606.0</td>\n",
       "    </tr>\n",
       "    <tr>\n",
       "      <th>5</th>\n",
       "      <td>1</td>\n",
       "      <td>2019-05-03 11:30:38</td>\n",
       "      <td>1613.0</td>\n",
       "    </tr>\n",
       "    <tr>\n",
       "      <th>6</th>\n",
       "      <td>2</td>\n",
       "      <td>2019-05-03 11:34:04</td>\n",
       "      <td>1581.0</td>\n",
       "    </tr>\n",
       "    <tr>\n",
       "      <th>7</th>\n",
       "      <td>2</td>\n",
       "      <td>2019-05-03 11:38:40</td>\n",
       "      <td>1577.0</td>\n",
       "    </tr>\n",
       "    <tr>\n",
       "      <th>8</th>\n",
       "      <td>2</td>\n",
       "      <td>2019-05-03 11:46:09</td>\n",
       "      <td>1589.0</td>\n",
       "    </tr>\n",
       "    <tr>\n",
       "      <th>9</th>\n",
       "      <td>2</td>\n",
       "      <td>2019-05-03 11:49:38</td>\n",
       "      <td>1604.0</td>\n",
       "    </tr>\n",
       "  </tbody>\n",
       "</table>\n",
       "</div>"
      ],
      "text/plain": [
       "   key         Время замера  Температура\n",
       "0    1  2019-05-03 11:02:04       1571.0\n",
       "1    1  2019-05-03 11:07:18       1604.0\n",
       "2    1  2019-05-03 11:11:34       1618.0\n",
       "3    1  2019-05-03 11:18:04       1601.0\n",
       "4    1  2019-05-03 11:25:59       1606.0\n",
       "5    1  2019-05-03 11:30:38       1613.0\n",
       "6    2  2019-05-03 11:34:04       1581.0\n",
       "7    2  2019-05-03 11:38:40       1577.0\n",
       "8    2  2019-05-03 11:46:09       1589.0\n",
       "9    2  2019-05-03 11:49:38       1604.0"
      ]
     },
     "execution_count": 38,
     "metadata": {},
     "output_type": "execute_result"
    }
   ],
   "source": [
    "data_t = pd.read_csv('/datasets/data_temp_new.csv') # данные о температуре\n",
    "\n",
    "data_t.head(10)"
   ]
  },
  {
   "cell_type": "markdown",
   "id": "10c3f8a3",
   "metadata": {},
   "source": [
    "В данной таблице собраны данные о 3216 партиях."
   ]
  },
  {
   "cell_type": "code",
   "execution_count": 39,
   "id": "b9fc115f",
   "metadata": {},
   "outputs": [
    {
     "data": {
      "text/plain": [
       "3216"
      ]
     },
     "execution_count": 39,
     "metadata": {},
     "output_type": "execute_result"
    }
   ],
   "source": [
    "len(data_t['key'].unique())"
   ]
  },
  {
   "cell_type": "markdown",
   "id": "3aeb85dc",
   "metadata": {},
   "source": [
    "Преобразуем данные о времени в более подходящий тип данных."
   ]
  },
  {
   "cell_type": "code",
   "execution_count": 40,
   "id": "7bfb3b2e",
   "metadata": {},
   "outputs": [],
   "source": [
    "data_t['Время замера'] = pd.to_datetime(data_t['Время замера'], format='%Y-%m-%d %H:%M:%S')"
   ]
  },
  {
   "cell_type": "markdown",
   "id": "4a4b03ea",
   "metadata": {},
   "source": [
    "Температура кристализации данной стали ~1400 °C, однако в данных существуют записи с температурой ниже."
   ]
  },
  {
   "cell_type": "code",
   "execution_count": 41,
   "id": "7cebb777",
   "metadata": {},
   "outputs": [
    {
     "data": {
      "text/html": [
       "<div>\n",
       "<style scoped>\n",
       "    .dataframe tbody tr th:only-of-type {\n",
       "        vertical-align: middle;\n",
       "    }\n",
       "\n",
       "    .dataframe tbody tr th {\n",
       "        vertical-align: top;\n",
       "    }\n",
       "\n",
       "    .dataframe thead th {\n",
       "        text-align: right;\n",
       "    }\n",
       "</style>\n",
       "<table border=\"1\" class=\"dataframe\">\n",
       "  <thead>\n",
       "    <tr style=\"text-align: right;\">\n",
       "      <th></th>\n",
       "      <th>key</th>\n",
       "      <th>Время замера</th>\n",
       "      <th>Температура</th>\n",
       "    </tr>\n",
       "  </thead>\n",
       "  <tbody>\n",
       "    <tr>\n",
       "      <th>4883</th>\n",
       "      <td>867</td>\n",
       "      <td>2019-06-06 08:03:39</td>\n",
       "      <td>1191.0</td>\n",
       "    </tr>\n",
       "    <tr>\n",
       "      <th>4884</th>\n",
       "      <td>867</td>\n",
       "      <td>2019-06-06 08:18:52</td>\n",
       "      <td>1575.0</td>\n",
       "    </tr>\n",
       "    <tr>\n",
       "      <th>4885</th>\n",
       "      <td>867</td>\n",
       "      <td>2019-06-06 08:22:38</td>\n",
       "      <td>1576.0</td>\n",
       "    </tr>\n",
       "    <tr>\n",
       "      <th>4886</th>\n",
       "      <td>867</td>\n",
       "      <td>2019-06-06 08:25:11</td>\n",
       "      <td>1571.0</td>\n",
       "    </tr>\n",
       "    <tr>\n",
       "      <th>4887</th>\n",
       "      <td>867</td>\n",
       "      <td>2019-06-06 08:29:49</td>\n",
       "      <td>1600.0</td>\n",
       "    </tr>\n",
       "    <tr>\n",
       "      <th>4888</th>\n",
       "      <td>867</td>\n",
       "      <td>2019-06-06 08:36:49</td>\n",
       "      <td>1522.0</td>\n",
       "    </tr>\n",
       "    <tr>\n",
       "      <th>4889</th>\n",
       "      <td>867</td>\n",
       "      <td>2019-06-06 08:43:02</td>\n",
       "      <td>1521.0</td>\n",
       "    </tr>\n",
       "    <tr>\n",
       "      <th>4890</th>\n",
       "      <td>867</td>\n",
       "      <td>2019-06-06 08:48:23</td>\n",
       "      <td>1599.0</td>\n",
       "    </tr>\n",
       "  </tbody>\n",
       "</table>\n",
       "</div>"
      ],
      "text/plain": [
       "      key        Время замера  Температура\n",
       "4883  867 2019-06-06 08:03:39       1191.0\n",
       "4884  867 2019-06-06 08:18:52       1575.0\n",
       "4885  867 2019-06-06 08:22:38       1576.0\n",
       "4886  867 2019-06-06 08:25:11       1571.0\n",
       "4887  867 2019-06-06 08:29:49       1600.0\n",
       "4888  867 2019-06-06 08:36:49       1522.0\n",
       "4889  867 2019-06-06 08:43:02       1521.0\n",
       "4890  867 2019-06-06 08:48:23       1599.0"
      ]
     },
     "metadata": {},
     "output_type": "display_data"
    },
    {
     "data": {
      "text/html": [
       "<div>\n",
       "<style scoped>\n",
       "    .dataframe tbody tr th:only-of-type {\n",
       "        vertical-align: middle;\n",
       "    }\n",
       "\n",
       "    .dataframe tbody tr th {\n",
       "        vertical-align: top;\n",
       "    }\n",
       "\n",
       "    .dataframe thead th {\n",
       "        text-align: right;\n",
       "    }\n",
       "</style>\n",
       "<table border=\"1\" class=\"dataframe\">\n",
       "  <thead>\n",
       "    <tr style=\"text-align: right;\">\n",
       "      <th></th>\n",
       "      <th>key</th>\n",
       "      <th>Время замера</th>\n",
       "      <th>Температура</th>\n",
       "    </tr>\n",
       "  </thead>\n",
       "  <tbody>\n",
       "    <tr>\n",
       "      <th>6784</th>\n",
       "      <td>1214</td>\n",
       "      <td>2019-06-18 08:01:03</td>\n",
       "      <td>1208.0</td>\n",
       "    </tr>\n",
       "    <tr>\n",
       "      <th>6785</th>\n",
       "      <td>1214</td>\n",
       "      <td>2019-06-18 08:17:56</td>\n",
       "      <td>1608.0</td>\n",
       "    </tr>\n",
       "    <tr>\n",
       "      <th>6786</th>\n",
       "      <td>1214</td>\n",
       "      <td>2019-06-18 08:31:10</td>\n",
       "      <td>1608.0</td>\n",
       "    </tr>\n",
       "    <tr>\n",
       "      <th>6787</th>\n",
       "      <td>1214</td>\n",
       "      <td>2019-06-18 08:43:56</td>\n",
       "      <td>1591.0</td>\n",
       "    </tr>\n",
       "  </tbody>\n",
       "</table>\n",
       "</div>"
      ],
      "text/plain": [
       "       key        Время замера  Температура\n",
       "6784  1214 2019-06-18 08:01:03       1208.0\n",
       "6785  1214 2019-06-18 08:17:56       1608.0\n",
       "6786  1214 2019-06-18 08:31:10       1608.0\n",
       "6787  1214 2019-06-18 08:43:56       1591.0"
      ]
     },
     "metadata": {},
     "output_type": "display_data"
    },
    {
     "data": {
      "text/html": [
       "<div>\n",
       "<style scoped>\n",
       "    .dataframe tbody tr th:only-of-type {\n",
       "        vertical-align: middle;\n",
       "    }\n",
       "\n",
       "    .dataframe tbody tr th {\n",
       "        vertical-align: top;\n",
       "    }\n",
       "\n",
       "    .dataframe thead th {\n",
       "        text-align: right;\n",
       "    }\n",
       "</style>\n",
       "<table border=\"1\" class=\"dataframe\">\n",
       "  <thead>\n",
       "    <tr style=\"text-align: right;\">\n",
       "      <th></th>\n",
       "      <th>key</th>\n",
       "      <th>Время замера</th>\n",
       "      <th>Температура</th>\n",
       "    </tr>\n",
       "  </thead>\n",
       "  <tbody>\n",
       "    <tr>\n",
       "      <th>9050</th>\n",
       "      <td>1619</td>\n",
       "      <td>2019-07-03 02:34:41</td>\n",
       "      <td>1218.0</td>\n",
       "    </tr>\n",
       "    <tr>\n",
       "      <th>9051</th>\n",
       "      <td>1619</td>\n",
       "      <td>2019-07-03 02:39:29</td>\n",
       "      <td>1623.0</td>\n",
       "    </tr>\n",
       "    <tr>\n",
       "      <th>9052</th>\n",
       "      <td>1619</td>\n",
       "      <td>2019-07-03 02:43:59</td>\n",
       "      <td>1590.0</td>\n",
       "    </tr>\n",
       "  </tbody>\n",
       "</table>\n",
       "</div>"
      ],
      "text/plain": [
       "       key        Время замера  Температура\n",
       "9050  1619 2019-07-03 02:34:41       1218.0\n",
       "9051  1619 2019-07-03 02:39:29       1623.0\n",
       "9052  1619 2019-07-03 02:43:59       1590.0"
      ]
     },
     "metadata": {},
     "output_type": "display_data"
    },
    {
     "data": {
      "text/html": [
       "<div>\n",
       "<style scoped>\n",
       "    .dataframe tbody tr th:only-of-type {\n",
       "        vertical-align: middle;\n",
       "    }\n",
       "\n",
       "    .dataframe tbody tr th {\n",
       "        vertical-align: top;\n",
       "    }\n",
       "\n",
       "    .dataframe thead th {\n",
       "        text-align: right;\n",
       "    }\n",
       "</style>\n",
       "<table border=\"1\" class=\"dataframe\">\n",
       "  <thead>\n",
       "    <tr style=\"text-align: right;\">\n",
       "      <th></th>\n",
       "      <th>key</th>\n",
       "      <th>Время замера</th>\n",
       "      <th>Температура</th>\n",
       "    </tr>\n",
       "  </thead>\n",
       "  <tbody>\n",
       "    <tr>\n",
       "      <th>11495</th>\n",
       "      <td>2052</td>\n",
       "      <td>2019-07-25 08:49:15</td>\n",
       "      <td>1227.0</td>\n",
       "    </tr>\n",
       "    <tr>\n",
       "      <th>11496</th>\n",
       "      <td>2052</td>\n",
       "      <td>2019-07-25 08:54:39</td>\n",
       "      <td>1592.0</td>\n",
       "    </tr>\n",
       "    <tr>\n",
       "      <th>11497</th>\n",
       "      <td>2052</td>\n",
       "      <td>2019-07-25 09:03:59</td>\n",
       "      <td>1590.0</td>\n",
       "    </tr>\n",
       "    <tr>\n",
       "      <th>11498</th>\n",
       "      <td>2052</td>\n",
       "      <td>2019-07-25 09:07:19</td>\n",
       "      <td>1591.0</td>\n",
       "    </tr>\n",
       "    <tr>\n",
       "      <th>11499</th>\n",
       "      <td>2052</td>\n",
       "      <td>2019-07-25 09:20:11</td>\n",
       "      <td>1515.0</td>\n",
       "    </tr>\n",
       "    <tr>\n",
       "      <th>11500</th>\n",
       "      <td>2052</td>\n",
       "      <td>2019-07-25 09:27:03</td>\n",
       "      <td>1592.0</td>\n",
       "    </tr>\n",
       "  </tbody>\n",
       "</table>\n",
       "</div>"
      ],
      "text/plain": [
       "        key        Время замера  Температура\n",
       "11495  2052 2019-07-25 08:49:15       1227.0\n",
       "11496  2052 2019-07-25 08:54:39       1592.0\n",
       "11497  2052 2019-07-25 09:03:59       1590.0\n",
       "11498  2052 2019-07-25 09:07:19       1591.0\n",
       "11499  2052 2019-07-25 09:20:11       1515.0\n",
       "11500  2052 2019-07-25 09:27:03       1592.0"
      ]
     },
     "metadata": {},
     "output_type": "display_data"
    },
    {
     "data": {
      "text/html": [
       "<div>\n",
       "<style scoped>\n",
       "    .dataframe tbody tr th:only-of-type {\n",
       "        vertical-align: middle;\n",
       "    }\n",
       "\n",
       "    .dataframe tbody tr th {\n",
       "        vertical-align: top;\n",
       "    }\n",
       "\n",
       "    .dataframe thead th {\n",
       "        text-align: right;\n",
       "    }\n",
       "</style>\n",
       "<table border=\"1\" class=\"dataframe\">\n",
       "  <thead>\n",
       "    <tr style=\"text-align: right;\">\n",
       "      <th></th>\n",
       "      <th>key</th>\n",
       "      <th>Время замера</th>\n",
       "      <th>Температура</th>\n",
       "    </tr>\n",
       "  </thead>\n",
       "  <tbody>\n",
       "    <tr>\n",
       "      <th>14283</th>\n",
       "      <td>2561</td>\n",
       "      <td>2019-08-12 18:49:29</td>\n",
       "      <td>1204.0</td>\n",
       "    </tr>\n",
       "    <tr>\n",
       "      <th>14284</th>\n",
       "      <td>2561</td>\n",
       "      <td>2019-08-12 18:59:23</td>\n",
       "      <td>NaN</td>\n",
       "    </tr>\n",
       "    <tr>\n",
       "      <th>14285</th>\n",
       "      <td>2561</td>\n",
       "      <td>2019-08-12 19:06:26</td>\n",
       "      <td>NaN</td>\n",
       "    </tr>\n",
       "    <tr>\n",
       "      <th>14286</th>\n",
       "      <td>2561</td>\n",
       "      <td>2019-08-12 19:11:13</td>\n",
       "      <td>NaN</td>\n",
       "    </tr>\n",
       "    <tr>\n",
       "      <th>14287</th>\n",
       "      <td>2561</td>\n",
       "      <td>2019-08-12 19:17:08</td>\n",
       "      <td>NaN</td>\n",
       "    </tr>\n",
       "    <tr>\n",
       "      <th>14288</th>\n",
       "      <td>2561</td>\n",
       "      <td>2019-08-12 19:21:45</td>\n",
       "      <td>NaN</td>\n",
       "    </tr>\n",
       "  </tbody>\n",
       "</table>\n",
       "</div>"
      ],
      "text/plain": [
       "        key        Время замера  Температура\n",
       "14283  2561 2019-08-12 18:49:29       1204.0\n",
       "14284  2561 2019-08-12 18:59:23          NaN\n",
       "14285  2561 2019-08-12 19:06:26          NaN\n",
       "14286  2561 2019-08-12 19:11:13          NaN\n",
       "14287  2561 2019-08-12 19:17:08          NaN\n",
       "14288  2561 2019-08-12 19:21:45          NaN"
      ]
     },
     "metadata": {},
     "output_type": "display_data"
    }
   ],
   "source": [
    "for i in data_t.loc[data_t['Температура'] <= 1400, 'key'].values:\n",
    "    display(data_t[data_t['key'] == i])"
   ]
  },
  {
   "cell_type": "markdown",
   "id": "b2e0527f",
   "metadata": {},
   "source": [
    "Следует убрать все партии, имеющие на любом из этапов температуру ниже температуры плавления, как партии с ошибкой."
   ]
  },
  {
   "cell_type": "code",
   "execution_count": 42,
   "id": "64436b9c",
   "metadata": {},
   "outputs": [],
   "source": [
    "for i in data_t.loc[data_t['Температура'] <= 1400, 'key'].values:\n",
    "    data_t = data_t.drop(data_t[data_t['key'] == i].index).reset_index(drop=True)"
   ]
  },
  {
   "cell_type": "markdown",
   "id": "6bb46fee",
   "metadata": {},
   "source": [
    "В дальнейшем анализе нам понадобятся значения температуры стали на входе (самая ранняя запись о температуре) и температуры стали на выходе (самая поздняя запись о температуре), поэтому стоит удалить строки с соотвестсвующими пропущенными значиниями, как не имеющие смысла для дальнейшего анализа."
   ]
  },
  {
   "cell_type": "markdown",
   "id": "49b4bc21",
   "metadata": {},
   "source": [
    "<div class=\"alert alert-info\">\n",
    "<b>Комментарий:</b>\n",
    "<br>Здесь между скоростью выполнения и структурой логики анализа я выбрал последнее.\n",
    "</div>"
   ]
  },
  {
   "cell_type": "code",
   "execution_count": 43,
   "id": "3b92bd19",
   "metadata": {},
   "outputs": [],
   "source": [
    "data_t = data_t[data_t['key'].isin(\n",
    "    data_t.groupby('key').count() [ \\\n",
    "        (data_t.groupby('key').apply(\n",
    "            lambda x: x[x['Время замера'] == x['Время замера'].max()]\n",
    "        ).set_index('key')['Температура'].notna()) & \\\n",
    "        (data_t.groupby('key').apply(\n",
    "            lambda x: x[x['Время замера'] == x['Время замера'].max()]\n",
    "        ).set_index('key')['Температура'].notna())\n",
    "    ].index\n",
    ")]"
   ]
  },
  {
   "cell_type": "markdown",
   "id": "744545c5",
   "metadata": {},
   "source": [
    "Количество записей о партиях сократилось примерно на четверть после данного шага."
   ]
  },
  {
   "cell_type": "code",
   "execution_count": 44,
   "id": "74b343a6",
   "metadata": {},
   "outputs": [
    {
     "data": {
      "text/plain": [
       "2473"
      ]
     },
     "execution_count": 44,
     "metadata": {},
     "output_type": "execute_result"
    }
   ],
   "source": [
    "len(data_t['key'].unique())"
   ]
  },
  {
   "cell_type": "markdown",
   "id": "7a6a2afc",
   "metadata": {},
   "source": [
    "Из рисунков ниже видно, что входная температура имеет более широкое распределение и меньшую медиану, по сравнению с выходной."
   ]
  },
  {
   "cell_type": "code",
   "execution_count": 45,
   "id": "6af13998",
   "metadata": {},
   "outputs": [
    {
     "data": {
      "text/plain": [
       "Text(0.5, 0, 'температура, °C')"
      ]
     },
     "execution_count": 45,
     "metadata": {},
     "output_type": "execute_result"
    },
    {
     "data": {
      "image/png": "[encoded data removed]",
      "text/plain": [
       "<Figure size 720x432 with 1 Axes>"
      ]
     },
     "metadata": {
      "needs_background": "light"
     },
     "output_type": "display_data"
    }
   ],
   "source": [
    "data_t.groupby('key').apply(\n",
    "    lambda x: x[x['Время замера'] == x['Время замера'].min()]\n",
    ").set_index('key')['Температура'].hist(\n",
    "    bins=40,\n",
    "    figsize=(10,6),\n",
    "    grid=False\n",
    ")\n",
    "plt.axvline(x=data_t.groupby('key').apply(\n",
    "        lambda x: x[x['Время замера'] == x['Время замера'].min()]\n",
    "    ).set_index('key')['Температура'].median(), color='#000000', ls='--', linewidth=1)\n",
    "plt.title('Распределение входной температуры стали по партиям')\n",
    "plt.ylabel('количество партий, шт', style='italic')\n",
    "plt.xlabel('температура, °C', style='italic')"
   ]
  },
  {
   "cell_type": "code",
   "execution_count": 46,
   "id": "d3f7860c",
   "metadata": {},
   "outputs": [
    {
     "data": {
      "text/plain": [
       "Text(0.5, 0, 'температура, °C')"
      ]
     },
     "execution_count": 46,
     "metadata": {},
     "output_type": "execute_result"
    },
    {
     "data": {
      "image/png": "[encoded data removed]",
      "text/plain": [
       "<Figure size 720x432 with 1 Axes>"
      ]
     },
     "metadata": {
      "needs_background": "light"
     },
     "output_type": "display_data"
    }
   ],
   "source": [
    "data_t.groupby('key').apply(\n",
    "    lambda x: x[x['Время замера'] == x['Время замера'].max()]\n",
    ").set_index('key')['Температура'].hist(\n",
    "    bins=40,\n",
    "    figsize=(10,6),\n",
    "    grid=False\n",
    ")\n",
    "plt.axvline(x=data_t.groupby('key').apply(\n",
    "        lambda x: x[x['Время замера'] == x['Время замера'].max()]\n",
    "    ).set_index('key')['Температура'].median(), color='#000000', ls='--', linewidth=1)\n",
    "plt.title('Распределение выходной температуры стали по партиям')\n",
    "plt.ylabel('количество партий, шт', style='italic')\n",
    "plt.xlabel('температура, °C', style='italic')"
   ]
  },
  {
   "cell_type": "markdown",
   "id": "6e4e7130",
   "metadata": {},
   "source": [
    "Кроме того можно построить распределение разницы температуры между выходом и входом."
   ]
  },
  {
   "cell_type": "code",
   "execution_count": 47,
   "id": "7383faa8",
   "metadata": {},
   "outputs": [
    {
     "data": {
      "text/plain": [
       "Text(0.5, 0, 'температура, °C')"
      ]
     },
     "execution_count": 47,
     "metadata": {},
     "output_type": "execute_result"
    },
    {
     "data": {
      "image/png": "[encoded data removed]",
      "text/plain": [
       "<Figure size 720x432 with 1 Axes>"
      ]
     },
     "metadata": {
      "needs_background": "light"
     },
     "output_type": "display_data"
    }
   ],
   "source": [
    "(data_t.groupby('key').apply(\n",
    "    lambda x: x[x['Время замера'] == x['Время замера'].max()]\n",
    ").set_index('key')['Температура'] - \\\n",
    "data_t.groupby('key').apply(\n",
    "    lambda x: x[x['Время замера'] == x['Время замера'].min()]\n",
    ").set_index('key')['Температура']).hist(\n",
    "    bins=40,\n",
    "    figsize=(10,6),\n",
    "    grid=False\n",
    ")\n",
    "plt.axvline(x=(data_t.groupby('key').apply(\n",
    "        lambda x: x[x['Время замера'] == x['Время замера'].max()]\n",
    "    ).set_index('key')['Температура'] - \\\n",
    "    data_t.groupby('key').apply(\n",
    "        lambda x: x[x['Время замера'] == x['Время замера'].min()]\n",
    "    ).set_index('key')['Температура']).median(), color='#000000', ls='--', linewidth=1)\n",
    "plt.title('Распределение разницы температуры стали на выходе и входе по партиям')\n",
    "plt.ylabel('количество партий, шт', style='italic')\n",
    "plt.xlabel('температура, °C', style='italic')"
   ]
  },
  {
   "cell_type": "code",
   "execution_count": 48,
   "id": "a08d97d4",
   "metadata": {},
   "outputs": [
    {
     "name": "stdout",
     "output_type": "stream",
     "text": [
      "<class 'pandas.core.frame.DataFrame'>\n",
      "Int64Index: 13905 entries, 0 to 13904\n",
      "Data columns (total 3 columns):\n",
      " #   Column        Non-Null Count  Dtype         \n",
      "---  ------        --------------  -----         \n",
      " 0   key           13905 non-null  int64         \n",
      " 1   Время замера  13905 non-null  datetime64[ns]\n",
      " 2   Температура   13905 non-null  float64       \n",
      "dtypes: datetime64[ns](1), float64(1), int64(1)\n",
      "memory usage: 434.5 KB\n"
     ]
    }
   ],
   "source": [
    "data_t.info()"
   ]
  },
  {
   "cell_type": "markdown",
   "id": "d4f6148c",
   "metadata": {},
   "source": [
    "### Проволочные материалы"
   ]
  },
  {
   "cell_type": "markdown",
   "id": "d426ea8a",
   "metadata": {},
   "source": [
    "#### Объём"
   ]
  },
  {
   "cell_type": "code",
   "execution_count": 49,
   "id": "730f0429",
   "metadata": {},
   "outputs": [
    {
     "data": {
      "text/html": [
       "<div>\n",
       "<style scoped>\n",
       "    .dataframe tbody tr th:only-of-type {\n",
       "        vertical-align: middle;\n",
       "    }\n",
       "\n",
       "    .dataframe tbody tr th {\n",
       "        vertical-align: top;\n",
       "    }\n",
       "\n",
       "    .dataframe thead th {\n",
       "        text-align: right;\n",
       "    }\n",
       "</style>\n",
       "<table border=\"1\" class=\"dataframe\">\n",
       "  <thead>\n",
       "    <tr style=\"text-align: right;\">\n",
       "      <th></th>\n",
       "      <th>key</th>\n",
       "      <th>Wire 1</th>\n",
       "      <th>Wire 2</th>\n",
       "      <th>Wire 3</th>\n",
       "      <th>Wire 4</th>\n",
       "      <th>Wire 5</th>\n",
       "      <th>Wire 6</th>\n",
       "      <th>Wire 7</th>\n",
       "      <th>Wire 8</th>\n",
       "      <th>Wire 9</th>\n",
       "    </tr>\n",
       "  </thead>\n",
       "  <tbody>\n",
       "    <tr>\n",
       "      <th>0</th>\n",
       "      <td>1</td>\n",
       "      <td>60.059998</td>\n",
       "      <td>NaN</td>\n",
       "      <td>NaN</td>\n",
       "      <td>NaN</td>\n",
       "      <td>NaN</td>\n",
       "      <td>NaN</td>\n",
       "      <td>NaN</td>\n",
       "      <td>NaN</td>\n",
       "      <td>NaN</td>\n",
       "    </tr>\n",
       "    <tr>\n",
       "      <th>1</th>\n",
       "      <td>2</td>\n",
       "      <td>96.052315</td>\n",
       "      <td>NaN</td>\n",
       "      <td>NaN</td>\n",
       "      <td>NaN</td>\n",
       "      <td>NaN</td>\n",
       "      <td>NaN</td>\n",
       "      <td>NaN</td>\n",
       "      <td>NaN</td>\n",
       "      <td>NaN</td>\n",
       "    </tr>\n",
       "    <tr>\n",
       "      <th>2</th>\n",
       "      <td>3</td>\n",
       "      <td>91.160157</td>\n",
       "      <td>NaN</td>\n",
       "      <td>NaN</td>\n",
       "      <td>NaN</td>\n",
       "      <td>NaN</td>\n",
       "      <td>NaN</td>\n",
       "      <td>NaN</td>\n",
       "      <td>NaN</td>\n",
       "      <td>NaN</td>\n",
       "    </tr>\n",
       "    <tr>\n",
       "      <th>3</th>\n",
       "      <td>4</td>\n",
       "      <td>89.063515</td>\n",
       "      <td>NaN</td>\n",
       "      <td>NaN</td>\n",
       "      <td>NaN</td>\n",
       "      <td>NaN</td>\n",
       "      <td>NaN</td>\n",
       "      <td>NaN</td>\n",
       "      <td>NaN</td>\n",
       "      <td>NaN</td>\n",
       "    </tr>\n",
       "    <tr>\n",
       "      <th>4</th>\n",
       "      <td>5</td>\n",
       "      <td>89.238236</td>\n",
       "      <td>9.114560</td>\n",
       "      <td>NaN</td>\n",
       "      <td>NaN</td>\n",
       "      <td>NaN</td>\n",
       "      <td>NaN</td>\n",
       "      <td>NaN</td>\n",
       "      <td>NaN</td>\n",
       "      <td>NaN</td>\n",
       "    </tr>\n",
       "    <tr>\n",
       "      <th>5</th>\n",
       "      <td>6</td>\n",
       "      <td>99.109917</td>\n",
       "      <td>9.114560</td>\n",
       "      <td>NaN</td>\n",
       "      <td>NaN</td>\n",
       "      <td>NaN</td>\n",
       "      <td>NaN</td>\n",
       "      <td>NaN</td>\n",
       "      <td>NaN</td>\n",
       "      <td>NaN</td>\n",
       "    </tr>\n",
       "    <tr>\n",
       "      <th>6</th>\n",
       "      <td>7</td>\n",
       "      <td>98.061600</td>\n",
       "      <td>NaN</td>\n",
       "      <td>NaN</td>\n",
       "      <td>NaN</td>\n",
       "      <td>NaN</td>\n",
       "      <td>NaN</td>\n",
       "      <td>NaN</td>\n",
       "      <td>NaN</td>\n",
       "      <td>NaN</td>\n",
       "    </tr>\n",
       "    <tr>\n",
       "      <th>7</th>\n",
       "      <td>8</td>\n",
       "      <td>155.282394</td>\n",
       "      <td>NaN</td>\n",
       "      <td>NaN</td>\n",
       "      <td>NaN</td>\n",
       "      <td>NaN</td>\n",
       "      <td>NaN</td>\n",
       "      <td>NaN</td>\n",
       "      <td>NaN</td>\n",
       "      <td>NaN</td>\n",
       "    </tr>\n",
       "    <tr>\n",
       "      <th>8</th>\n",
       "      <td>9</td>\n",
       "      <td>113.393279</td>\n",
       "      <td>9.143681</td>\n",
       "      <td>NaN</td>\n",
       "      <td>NaN</td>\n",
       "      <td>NaN</td>\n",
       "      <td>NaN</td>\n",
       "      <td>NaN</td>\n",
       "      <td>NaN</td>\n",
       "      <td>NaN</td>\n",
       "    </tr>\n",
       "    <tr>\n",
       "      <th>9</th>\n",
       "      <td>10</td>\n",
       "      <td>81.244796</td>\n",
       "      <td>12.376000</td>\n",
       "      <td>NaN</td>\n",
       "      <td>NaN</td>\n",
       "      <td>NaN</td>\n",
       "      <td>NaN</td>\n",
       "      <td>NaN</td>\n",
       "      <td>NaN</td>\n",
       "      <td>NaN</td>\n",
       "    </tr>\n",
       "  </tbody>\n",
       "</table>\n",
       "</div>"
      ],
      "text/plain": [
       "   key      Wire 1     Wire 2  Wire 3  Wire 4  Wire 5  Wire 6  Wire 7  Wire 8  \\\n",
       "0    1   60.059998        NaN     NaN     NaN     NaN     NaN     NaN     NaN   \n",
       "1    2   96.052315        NaN     NaN     NaN     NaN     NaN     NaN     NaN   \n",
       "2    3   91.160157        NaN     NaN     NaN     NaN     NaN     NaN     NaN   \n",
       "3    4   89.063515        NaN     NaN     NaN     NaN     NaN     NaN     NaN   \n",
       "4    5   89.238236   9.114560     NaN     NaN     NaN     NaN     NaN     NaN   \n",
       "5    6   99.109917   9.114560     NaN     NaN     NaN     NaN     NaN     NaN   \n",
       "6    7   98.061600        NaN     NaN     NaN     NaN     NaN     NaN     NaN   \n",
       "7    8  155.282394        NaN     NaN     NaN     NaN     NaN     NaN     NaN   \n",
       "8    9  113.393279   9.143681     NaN     NaN     NaN     NaN     NaN     NaN   \n",
       "9   10   81.244796  12.376000     NaN     NaN     NaN     NaN     NaN     NaN   \n",
       "\n",
       "   Wire 9  \n",
       "0     NaN  \n",
       "1     NaN  \n",
       "2     NaN  \n",
       "3     NaN  \n",
       "4     NaN  \n",
       "5     NaN  \n",
       "6     NaN  \n",
       "7     NaN  \n",
       "8     NaN  \n",
       "9     NaN  "
      ]
     },
     "execution_count": 49,
     "metadata": {},
     "output_type": "execute_result"
    }
   ],
   "source": [
    "data_wv = pd.read_csv('/datasets/data_wire_new.csv') # данные об объёме проволочных материалов\n",
    "\n",
    "data_wv.head(10)"
   ]
  },
  {
   "cell_type": "markdown",
   "id": "45acbf46",
   "metadata": {},
   "source": [
    "Существуют данные о засыпках для 3081 партии."
   ]
  },
  {
   "cell_type": "code",
   "execution_count": 50,
   "id": "cc909be0",
   "metadata": {},
   "outputs": [
    {
     "data": {
      "text/plain": [
       "3081"
      ]
     },
     "execution_count": 50,
     "metadata": {},
     "output_type": "execute_result"
    }
   ],
   "source": [
    "len(data_wv['key'].unique())"
   ]
  },
  {
   "cell_type": "markdown",
   "id": "10c7760d",
   "metadata": {},
   "source": [
    "Максимальный номер партии -- 3241. Пропущенно 160 партий."
   ]
  },
  {
   "cell_type": "code",
   "execution_count": 51,
   "id": "4fd7895c",
   "metadata": {},
   "outputs": [
    {
     "data": {
      "text/plain": [
       "array([   1,    2,    3, ..., 3239, 3240, 3241])"
      ]
     },
     "execution_count": 51,
     "metadata": {},
     "output_type": "execute_result"
    }
   ],
   "source": [
    "data_wv['key'].unique()"
   ]
  },
  {
   "cell_type": "markdown",
   "id": "b0bda1d7",
   "metadata": {},
   "source": [
    "Ни для одной из партий не требовалось засыпать материалы несколько раз. (или в данной таблице представлены суммарные объёмы всех засыпок для каждой партии)"
   ]
  },
  {
   "cell_type": "code",
   "execution_count": 52,
   "id": "fe24f06c",
   "metadata": {},
   "outputs": [
    {
     "data": {
      "text/plain": [
       "0"
      ]
     },
     "execution_count": 52,
     "metadata": {},
     "output_type": "execute_result"
    }
   ],
   "source": [
    "data_wv['key'].duplicated().sum()"
   ]
  },
  {
   "cell_type": "markdown",
   "id": "fe4f8c30",
   "metadata": {},
   "source": [
    "В данной таблице пропуски означают, что для указанной партии засыпка соответсвующих проволок не проводилась, т.о. объём добавленого материала равен нулю."
   ]
  },
  {
   "cell_type": "code",
   "execution_count": 53,
   "id": "d795e3c0",
   "metadata": {},
   "outputs": [],
   "source": [
    "data_wv = data_wv.fillna(0)"
   ]
  },
  {
   "cell_type": "markdown",
   "id": "0bf6ceda",
   "metadata": {},
   "source": [
    "В данных нет засыпок с отрицательным объёмом."
   ]
  },
  {
   "cell_type": "code",
   "execution_count": 54,
   "id": "77538ab6",
   "metadata": {},
   "outputs": [
    {
     "data": {
      "text/plain": [
       "Wire 1    0\n",
       "Wire 2    0\n",
       "Wire 3    0\n",
       "Wire 4    0\n",
       "Wire 5    0\n",
       "Wire 6    0\n",
       "Wire 7    0\n",
       "Wire 8    0\n",
       "Wire 9    0\n",
       "dtype: int64"
      ]
     },
     "execution_count": 54,
     "metadata": {},
     "output_type": "execute_result"
    }
   ],
   "source": [
    "(data_wv[data_wv.columns.drop('key')] < 0).sum()"
   ]
  },
  {
   "cell_type": "markdown",
   "id": "e3f426ef",
   "metadata": {},
   "source": [
    "Для каждой из партий требовалась засыпка хотябы одного из типов проволочных материалов."
   ]
  },
  {
   "cell_type": "code",
   "execution_count": 55,
   "id": "4a0f9de9",
   "metadata": {},
   "outputs": [
    {
     "data": {
      "text/plain": [
       "0"
      ]
     },
     "execution_count": 55,
     "metadata": {},
     "output_type": "execute_result"
    }
   ],
   "source": [
    "(data_wv[data_wv.columns.drop('key')].T.sum() <= 0).sum()"
   ]
  },
  {
   "cell_type": "markdown",
   "id": "ffbad176",
   "metadata": {},
   "source": [
    "Распределения объёмов засыпаемых проволочных материалов выглядит следующим образом:"
   ]
  },
  {
   "cell_type": "code",
   "execution_count": 56,
   "id": "95e5898e",
   "metadata": {},
   "outputs": [
    {
     "data": {
      "text/plain": [
       "array([[<AxesSubplot:title={'center':'Wire 1'}>,\n",
       "        <AxesSubplot:title={'center':'Wire 2'}>,\n",
       "        <AxesSubplot:title={'center':'Wire 3'}>],\n",
       "       [<AxesSubplot:title={'center':'Wire 4'}>,\n",
       "        <AxesSubplot:title={'center':'Wire 5'}>,\n",
       "        <AxesSubplot:title={'center':'Wire 6'}>],\n",
       "       [<AxesSubplot:title={'center':'Wire 7'}>,\n",
       "        <AxesSubplot:title={'center':'Wire 8'}>,\n",
       "        <AxesSubplot:title={'center':'Wire 9'}>]], dtype=object)"
      ]
     },
     "execution_count": 56,
     "metadata": {},
     "output_type": "execute_result"
    },
    {
     "data": {
      "image/png": "[encoded data removed]",
      "text/plain": [
       "<Figure size 1440x1440 with 9 Axes>"
      ]
     },
     "metadata": {
      "needs_background": "light"
     },
     "output_type": "display_data"
    }
   ],
   "source": [
    "data_wv[data_wv[data_wv.columns.drop('key')] > 0].drop('key', axis=1).hist(\n",
    "    bins=20,\n",
    "    figsize=(20, 20),\n",
    "    grid=False\n",
    ")"
   ]
  },
  {
   "cell_type": "code",
   "execution_count": 57,
   "id": "a1c6c491",
   "metadata": {},
   "outputs": [
    {
     "name": "stdout",
     "output_type": "stream",
     "text": [
      "<class 'pandas.core.frame.DataFrame'>\n",
      "RangeIndex: 3081 entries, 0 to 3080\n",
      "Data columns (total 10 columns):\n",
      " #   Column  Non-Null Count  Dtype  \n",
      "---  ------  --------------  -----  \n",
      " 0   key     3081 non-null   int64  \n",
      " 1   Wire 1  3081 non-null   float64\n",
      " 2   Wire 2  3081 non-null   float64\n",
      " 3   Wire 3  3081 non-null   float64\n",
      " 4   Wire 4  3081 non-null   float64\n",
      " 5   Wire 5  3081 non-null   float64\n",
      " 6   Wire 6  3081 non-null   float64\n",
      " 7   Wire 7  3081 non-null   float64\n",
      " 8   Wire 8  3081 non-null   float64\n",
      " 9   Wire 9  3081 non-null   float64\n",
      "dtypes: float64(9), int64(1)\n",
      "memory usage: 240.8 KB\n"
     ]
    }
   ],
   "source": [
    "data_wv.info(10)"
   ]
  },
  {
   "cell_type": "markdown",
   "id": "baeb4901",
   "metadata": {},
   "source": [
    "#### Время"
   ]
  },
  {
   "cell_type": "markdown",
   "id": "c9defcc6",
   "metadata": {},
   "source": [
    "Данная таблица не понадобится нам для анализа, однако мы можем проанализировать данные в ней."
   ]
  },
  {
   "cell_type": "code",
   "execution_count": 58,
   "id": "78541740",
   "metadata": {
    "scrolled": true
   },
   "outputs": [
    {
     "data": {
      "text/html": [
       "<div>\n",
       "<style scoped>\n",
       "    .dataframe tbody tr th:only-of-type {\n",
       "        vertical-align: middle;\n",
       "    }\n",
       "\n",
       "    .dataframe tbody tr th {\n",
       "        vertical-align: top;\n",
       "    }\n",
       "\n",
       "    .dataframe thead th {\n",
       "        text-align: right;\n",
       "    }\n",
       "</style>\n",
       "<table border=\"1\" class=\"dataframe\">\n",
       "  <thead>\n",
       "    <tr style=\"text-align: right;\">\n",
       "      <th></th>\n",
       "      <th>key</th>\n",
       "      <th>Wire 1</th>\n",
       "      <th>Wire 2</th>\n",
       "      <th>Wire 3</th>\n",
       "      <th>Wire 4</th>\n",
       "      <th>Wire 5</th>\n",
       "      <th>Wire 6</th>\n",
       "      <th>Wire 7</th>\n",
       "      <th>Wire 8</th>\n",
       "      <th>Wire 9</th>\n",
       "    </tr>\n",
       "  </thead>\n",
       "  <tbody>\n",
       "    <tr>\n",
       "      <th>0</th>\n",
       "      <td>1</td>\n",
       "      <td>2019-05-03 11:06:19</td>\n",
       "      <td>NaN</td>\n",
       "      <td>NaN</td>\n",
       "      <td>NaN</td>\n",
       "      <td>NaN</td>\n",
       "      <td>NaN</td>\n",
       "      <td>NaN</td>\n",
       "      <td>NaN</td>\n",
       "      <td>NaN</td>\n",
       "    </tr>\n",
       "    <tr>\n",
       "      <th>1</th>\n",
       "      <td>2</td>\n",
       "      <td>2019-05-03 11:36:50</td>\n",
       "      <td>NaN</td>\n",
       "      <td>NaN</td>\n",
       "      <td>NaN</td>\n",
       "      <td>NaN</td>\n",
       "      <td>NaN</td>\n",
       "      <td>NaN</td>\n",
       "      <td>NaN</td>\n",
       "      <td>NaN</td>\n",
       "    </tr>\n",
       "    <tr>\n",
       "      <th>2</th>\n",
       "      <td>3</td>\n",
       "      <td>2019-05-03 12:11:46</td>\n",
       "      <td>NaN</td>\n",
       "      <td>NaN</td>\n",
       "      <td>NaN</td>\n",
       "      <td>NaN</td>\n",
       "      <td>NaN</td>\n",
       "      <td>NaN</td>\n",
       "      <td>NaN</td>\n",
       "      <td>NaN</td>\n",
       "    </tr>\n",
       "    <tr>\n",
       "      <th>3</th>\n",
       "      <td>4</td>\n",
       "      <td>2019-05-03 12:43:22</td>\n",
       "      <td>NaN</td>\n",
       "      <td>NaN</td>\n",
       "      <td>NaN</td>\n",
       "      <td>NaN</td>\n",
       "      <td>NaN</td>\n",
       "      <td>NaN</td>\n",
       "      <td>NaN</td>\n",
       "      <td>NaN</td>\n",
       "    </tr>\n",
       "    <tr>\n",
       "      <th>4</th>\n",
       "      <td>5</td>\n",
       "      <td>2019-05-03 13:20:44</td>\n",
       "      <td>2019-05-03 13:15:34</td>\n",
       "      <td>NaN</td>\n",
       "      <td>NaN</td>\n",
       "      <td>NaN</td>\n",
       "      <td>NaN</td>\n",
       "      <td>NaN</td>\n",
       "      <td>NaN</td>\n",
       "      <td>NaN</td>\n",
       "    </tr>\n",
       "    <tr>\n",
       "      <th>5</th>\n",
       "      <td>6</td>\n",
       "      <td>2019-05-03 13:57:27</td>\n",
       "      <td>2019-05-03 13:48:52</td>\n",
       "      <td>NaN</td>\n",
       "      <td>NaN</td>\n",
       "      <td>NaN</td>\n",
       "      <td>NaN</td>\n",
       "      <td>NaN</td>\n",
       "      <td>NaN</td>\n",
       "      <td>NaN</td>\n",
       "    </tr>\n",
       "    <tr>\n",
       "      <th>6</th>\n",
       "      <td>7</td>\n",
       "      <td>2019-05-03 14:18:58</td>\n",
       "      <td>NaN</td>\n",
       "      <td>NaN</td>\n",
       "      <td>NaN</td>\n",
       "      <td>NaN</td>\n",
       "      <td>NaN</td>\n",
       "      <td>NaN</td>\n",
       "      <td>NaN</td>\n",
       "      <td>NaN</td>\n",
       "    </tr>\n",
       "    <tr>\n",
       "      <th>7</th>\n",
       "      <td>8</td>\n",
       "      <td>2019-05-03 15:01:30</td>\n",
       "      <td>NaN</td>\n",
       "      <td>NaN</td>\n",
       "      <td>NaN</td>\n",
       "      <td>NaN</td>\n",
       "      <td>NaN</td>\n",
       "      <td>NaN</td>\n",
       "      <td>NaN</td>\n",
       "      <td>NaN</td>\n",
       "    </tr>\n",
       "    <tr>\n",
       "      <th>8</th>\n",
       "      <td>9</td>\n",
       "      <td>2019-05-03 15:45:44</td>\n",
       "      <td>2019-05-03 15:39:37</td>\n",
       "      <td>NaN</td>\n",
       "      <td>NaN</td>\n",
       "      <td>NaN</td>\n",
       "      <td>NaN</td>\n",
       "      <td>NaN</td>\n",
       "      <td>NaN</td>\n",
       "      <td>NaN</td>\n",
       "    </tr>\n",
       "    <tr>\n",
       "      <th>9</th>\n",
       "      <td>10</td>\n",
       "      <td>2019-05-03 16:27:00</td>\n",
       "      <td>2019-05-03 16:22:36</td>\n",
       "      <td>NaN</td>\n",
       "      <td>NaN</td>\n",
       "      <td>NaN</td>\n",
       "      <td>NaN</td>\n",
       "      <td>NaN</td>\n",
       "      <td>NaN</td>\n",
       "      <td>NaN</td>\n",
       "    </tr>\n",
       "  </tbody>\n",
       "</table>\n",
       "</div>"
      ],
      "text/plain": [
       "   key               Wire 1               Wire 2 Wire 3 Wire 4 Wire 5 Wire 6  \\\n",
       "0    1  2019-05-03 11:06:19                  NaN    NaN    NaN    NaN    NaN   \n",
       "1    2  2019-05-03 11:36:50                  NaN    NaN    NaN    NaN    NaN   \n",
       "2    3  2019-05-03 12:11:46                  NaN    NaN    NaN    NaN    NaN   \n",
       "3    4  2019-05-03 12:43:22                  NaN    NaN    NaN    NaN    NaN   \n",
       "4    5  2019-05-03 13:20:44  2019-05-03 13:15:34    NaN    NaN    NaN    NaN   \n",
       "5    6  2019-05-03 13:57:27  2019-05-03 13:48:52    NaN    NaN    NaN    NaN   \n",
       "6    7  2019-05-03 14:18:58                  NaN    NaN    NaN    NaN    NaN   \n",
       "7    8  2019-05-03 15:01:30                  NaN    NaN    NaN    NaN    NaN   \n",
       "8    9  2019-05-03 15:45:44  2019-05-03 15:39:37    NaN    NaN    NaN    NaN   \n",
       "9   10  2019-05-03 16:27:00  2019-05-03 16:22:36    NaN    NaN    NaN    NaN   \n",
       "\n",
       "  Wire 7 Wire 8 Wire 9  \n",
       "0    NaN    NaN    NaN  \n",
       "1    NaN    NaN    NaN  \n",
       "2    NaN    NaN    NaN  \n",
       "3    NaN    NaN    NaN  \n",
       "4    NaN    NaN    NaN  \n",
       "5    NaN    NaN    NaN  \n",
       "6    NaN    NaN    NaN  \n",
       "7    NaN    NaN    NaN  \n",
       "8    NaN    NaN    NaN  \n",
       "9    NaN    NaN    NaN  "
      ]
     },
     "execution_count": 58,
     "metadata": {},
     "output_type": "execute_result"
    }
   ],
   "source": [
    "data_wt = pd.read_csv('/datasets/data_wire_time_new.csv') # данные о времени проволочных метериалов\n",
    "\n",
    "data_wt.head(10)"
   ]
  },
  {
   "cell_type": "markdown",
   "id": "26b49749",
   "metadata": {},
   "source": [
    "Существуют данные о 3081 партии."
   ]
  },
  {
   "cell_type": "code",
   "execution_count": 59,
   "id": "729eab5e",
   "metadata": {},
   "outputs": [
    {
     "data": {
      "text/plain": [
       "3081"
      ]
     },
     "execution_count": 59,
     "metadata": {},
     "output_type": "execute_result"
    }
   ],
   "source": [
    "len(data_wt['key'].unique())"
   ]
  },
  {
   "cell_type": "markdown",
   "id": "6a88ac36",
   "metadata": {},
   "source": [
    "При этом максимальный номер партии -- 3241. Пропущенно 160 партий."
   ]
  },
  {
   "cell_type": "code",
   "execution_count": 60,
   "id": "0e1b07f1",
   "metadata": {},
   "outputs": [
    {
     "data": {
      "text/plain": [
       "array([   1,    2,    3, ..., 3239, 3240, 3241])"
      ]
     },
     "execution_count": 60,
     "metadata": {},
     "output_type": "execute_result"
    }
   ],
   "source": [
    "data_wt['key'].unique()"
   ]
  },
  {
   "cell_type": "markdown",
   "id": "209e3a9f",
   "metadata": {},
   "source": [
    "Ни для одной из партий не требовалось засыпать проволочные материалы несколько раз. (или в данной таблице представлено начальное/конечное/среднее/примерное время для всех засыпок на каждой партии)"
   ]
  },
  {
   "cell_type": "code",
   "execution_count": 61,
   "id": "5be895ed",
   "metadata": {},
   "outputs": [
    {
     "data": {
      "text/plain": [
       "0"
      ]
     },
     "execution_count": 61,
     "metadata": {},
     "output_type": "execute_result"
    }
   ],
   "source": [
    "data_wt['key'].duplicated().sum()"
   ]
  },
  {
   "cell_type": "markdown",
   "id": "7d133a45",
   "metadata": {},
   "source": [
    "Можно заполнить пропуски нулями, также как было сделано с соответсвующей таблицей по объёму."
   ]
  },
  {
   "cell_type": "code",
   "execution_count": 62,
   "id": "f0bb5a86",
   "metadata": {},
   "outputs": [],
   "source": [
    "data_wt = data_wt.fillna(0)"
   ]
  },
  {
   "cell_type": "markdown",
   "id": "5980c084",
   "metadata": {},
   "source": [
    "Для каждой из партий требовалась засыпка хотябы одного из типов проволочных материалов."
   ]
  },
  {
   "cell_type": "code",
   "execution_count": 63,
   "id": "bd2c4c2d",
   "metadata": {},
   "outputs": [
    {
     "data": {
      "text/plain": [
       "0"
      ]
     },
     "execution_count": 63,
     "metadata": {},
     "output_type": "execute_result"
    }
   ],
   "source": [
    "(data_wt[data_wt.columns.drop('key')].T.sum() <= 0).sum()"
   ]
  },
  {
   "cell_type": "code",
   "execution_count": 64,
   "id": "d1466aee",
   "metadata": {},
   "outputs": [
    {
     "name": "stdout",
     "output_type": "stream",
     "text": [
      "<class 'pandas.core.frame.DataFrame'>\n",
      "RangeIndex: 3081 entries, 0 to 3080\n",
      "Data columns (total 10 columns):\n",
      " #   Column  Non-Null Count  Dtype \n",
      "---  ------  --------------  ----- \n",
      " 0   key     3081 non-null   int64 \n",
      " 1   Wire 1  3081 non-null   object\n",
      " 2   Wire 2  3081 non-null   object\n",
      " 3   Wire 3  3081 non-null   object\n",
      " 4   Wire 4  3081 non-null   object\n",
      " 5   Wire 5  3081 non-null   object\n",
      " 6   Wire 6  3081 non-null   object\n",
      " 7   Wire 7  3081 non-null   object\n",
      " 8   Wire 8  3081 non-null   object\n",
      " 9   Wire 9  3081 non-null   object\n",
      "dtypes: int64(1), object(9)\n",
      "memory usage: 240.8+ KB\n"
     ]
    }
   ],
   "source": [
    "data_wt.info()"
   ]
  },
  {
   "cell_type": "markdown",
   "id": "3fc6995a",
   "metadata": {},
   "source": [
    "---"
   ]
  },
  {
   "cell_type": "markdown",
   "id": "561d5b03",
   "metadata": {},
   "source": [
    "<div class=\"alert alert-info\">\n",
    "<b>Комментарий:</b>\n",
    "<br>Каждый раздел содержит мини-вывод, который начинается под чертой (кроме \"Анализа\", который сам по себе представляет из себя некий вывод).\n",
    "</div>"
   ]
  },
  {
   "cell_type": "markdown",
   "id": "95b3434d",
   "metadata": {},
   "source": [
    "В оригинальных данных существовало большое количество пропусков. В особенности хотелось бы обратить внимание на пропуски партий, которые присутсвуют во всех таблицах и не носят постоянный характер. Данный вид пропусков может быть связан как с технической ошибкой при выгрузке данных так и с отсутвием заполнения на этапе записи, поскольку некоторые сплавы могли быть сочтены удовлетворительными при первой проверке на этапе легирования и, как следствие, не требовали продувку и/или загрузку сыпучих и/или проволочных материалов, как следствие данные о таких партиях могли быть не записаны из-за отсутсвия действий.\n",
    "\n",
    "В противовес описанию в оригиналных данных отсутствуют записи о нескольких продувках и засыпках сыпучих и проволочных материалов. Возможно несколько причин, объясняющих данное несоответсвие:\n",
    "\n",
    "    1. Описание неверно. Засыпки и продувка осуществляются только один раз для каждой партии.\n",
    "    2. Данные неверны. В силу каких-либо причин в таблицу записывается только первая/последняя/средняя/случайная/суммарная запись о проделаных операциях.\n",
    "    3. Система неисправна. По какой-то причине датчик не проверяет соответсвующий параметр характеристики стали после произведённой операции.\n",
    "    4. Данные скорректированы или отобраны таким образом, чтобы в них присутсвовала только одна запись о продувке и засыпке.\n",
    "    5. Нам повезло и для всех 3241 партий не потребовалось проводить последующих продувок и засыпок.\n",
    "\n",
    "Также хотелось бы отметить схожесть структур таблиц о температуре и об электродах, поскольку это единственные таблицы имеющие неуникальные записи о партиях. При внимательном просмотре данных таблиц можно обнаружить, что данные таблицы похожи не только структурно но и связаны на уровне составляющих: за 10 с перед каждым нагревом происходит замер температуры. Это позволяет предположить, что термометр и электроды для нагрева связаны аппаратно теснее остальных устройств, возможно они даже находятся в одном и том же месте. Из описания нам известно, что электроды расположены на крышке, и если термометр расположен там же, то это поднимает вопрос о достаточности с точки зрения исследования температуры проводимых таким образом измерений.\n",
    "\n",
    "В отдельных случаях разница температуры между выходом и входом составляет сотню градусов, однако медиана такой разницы оказалась немногим больше нуля."
   ]
  },
  {
   "cell_type": "markdown",
   "id": "6aff7e1b",
   "metadata": {},
   "source": [
    "## Предобработка"
   ]
  },
  {
   "cell_type": "markdown",
   "id": "387b2a7b",
   "metadata": {},
   "source": [
    "Поскольку описание системы сбора данных и технического процесса не только не отличается подробностью, но и, как можно видеть из вывода предыдущего раздела, обладает в ряде случаев сомнительной надёжностью, нам придётся выдвинуть ряд предположений от которых мы будем вынуждены отталкиваться в ходе дальнейшего анализа.\n",
    " \n",
    "    1. Будем называть самую раннюю запись об измерении температуры для конкретной партии -- температурой на входе.\n",
    "    2. Будем называть самую позднюю запись об измерении температуры для конкретной партии -- температурой на выходе.\n",
    "    3. Будем считать, что температура на выходе зависит от температуры на входе.\n",
    "    4. Будем считать, что длительность по времени между записями температуры на входе и температуры на выходе оказывает влияние на разницу между температурами на входе и на выходе, поскольку при большей разницы во времени сталь в ковше может остывать.\n",
    "    5. Будем считать температуру постоянной во всём объёме.\n",
    "    6. Будем считать, что реактивная мощность не оказывает на температуру внутри ковша никакого влияния. При построении дальнейших моделей будем ориентироваться только на активную мощность. Это тем более справедливо из-за высокой степени корреляции этих двух величин.\n",
    "    7. Будем считать, что длительность нагрева дугой оказывает влияние на разницу между температурами на входе и на выходе, поскольку помимо этой длительности мы знаем мощность, передаваемую от дуги сплаву ковша, что является работой, а значит энергией, а значит оказывает прямое влияние на изменение температуры.\n",
    "    8. Будем счиать, что продувы и засыпки различных материалов происходят мнгновенно и оказывают влияние на разницу температур между выходом и входом, причём различные материалы могут оказывать различное влияние при одинаковом объёме, поскольку могут иметь различные теплоёмкости.\n",
    "    \n",
    "Таким образом модель предсказания температуры, которую нам необходимо построить, это модель, предсказывающая температуру на выходе. Для того, чтобы она успешно справилась с этой задачей ей нужно передать:\n",
    "\n",
    "    1. Температуру на входе.\n",
    "    2. Длительность всего процесса.\n",
    "    3. Энергию, передаваемую от дуги.\n",
    "    4. Количество прогревов дугой.\n",
    "    5. Объёмы всех сыпучих материалов.\n",
    "    6. Объёмы всех проволочных материалов.\n",
    "    7. Объём газа для продувки."
   ]
  },
  {
   "cell_type": "markdown",
   "id": "5f5f5d5c",
   "metadata": {},
   "source": [
    "### Температура на входе"
   ]
  },
  {
   "cell_type": "markdown",
   "id": "d1bb1dfb",
   "metadata": {},
   "source": [
    "Первой в сборный датасет добавим температуру на входе."
   ]
  },
  {
   "cell_type": "code",
   "execution_count": 65,
   "id": "5d0fae88",
   "metadata": {},
   "outputs": [],
   "source": [
    "data = pd.DataFrame(\n",
    "    data_t.groupby('key').apply(\n",
    "        lambda x: x[x['Время замера'] == x['Время замера'].min()]\n",
    "    ).set_index('key')['Температура']\n",
    ")\n",
    "data.columns = ['T_вх']"
   ]
  },
  {
   "cell_type": "markdown",
   "id": "40e9e611",
   "metadata": {},
   "source": [
    "### Длительность"
   ]
  },
  {
   "cell_type": "markdown",
   "id": "5642e53d",
   "metadata": {},
   "source": [
    "Добавим длительность нахождения стали в ковше, определяя её как разницу по времени между самой первой записью в таблице замера температуры и последней. Выразим длительность в секундах."
   ]
  },
  {
   "cell_type": "code",
   "execution_count": 66,
   "id": "179a6cd5",
   "metadata": {},
   "outputs": [],
   "source": [
    "data = data.join(\n",
    "    (data_t.groupby('key').apply(\n",
    "        lambda x: x[x['Время замера'] == x['Время замера'].max()]\n",
    "    ).set_index('key')['Время замера'] - \\\n",
    "    data_t.groupby('key').apply(\n",
    "        lambda x: x[x['Время замера'] == x['Время замера'].min()]\n",
    "    ).set_index('key')['Время замера']).dt.total_seconds(),\n",
    "    how='inner'\n",
    ")\n",
    "data.columns = ['T_вх', 'dt']"
   ]
  },
  {
   "cell_type": "markdown",
   "id": "f5c80b23",
   "metadata": {},
   "source": [
    "### Энергия от дуги"
   ]
  },
  {
   "cell_type": "markdown",
   "id": "01036ea5",
   "metadata": {},
   "source": [
    "Для нахождения данного показателя можно просуммировать значения реактивной мощности, умноженные на соответствующие промежутки времени."
   ]
  },
  {
   "cell_type": "code",
   "execution_count": 67,
   "id": "ab9e824b",
   "metadata": {},
   "outputs": [],
   "source": [
    "data = data.join(\n",
    "    pd.concat([\n",
    "        data_e['key'],\n",
    "        (data_e['Конец нагрева дугой'] - data_e['Начало нагрева дугой']).dt.total_seconds() * data_e['Активная мощность']\n",
    "    ], axis=1).groupby('key').sum(),\n",
    "    how='inner'\n",
    ")\n",
    "data.columns = ['T_вх', 'dt', 'E']"
   ]
  },
  {
   "cell_type": "markdown",
   "id": "e38980de",
   "metadata": {},
   "source": [
    "### Количество прогревов"
   ]
  },
  {
   "cell_type": "markdown",
   "id": "65315951",
   "metadata": {},
   "source": [
    "Количество прогревов дугой поможет дать представление о плотности с которой энергия передаётся от дуги в сплав."
   ]
  },
  {
   "cell_type": "code",
   "execution_count": 68,
   "id": "e8b135c9",
   "metadata": {},
   "outputs": [],
   "source": [
    "data = data.join(\n",
    "    data_e.groupby('key').count()['Активная мощность'],\n",
    "    how='inner'\n",
    ")\n",
    "data.columns = ['T_вх', 'dt', 'E', 'n']"
   ]
  },
  {
   "cell_type": "markdown",
   "id": "7822bc35",
   "metadata": {},
   "source": [
    "### Сыпучие материалы"
   ]
  },
  {
   "cell_type": "markdown",
   "id": "41e895f6",
   "metadata": {},
   "source": [
    "Далее добавим информацию об объёме сыпучих материалов."
   ]
  },
  {
   "cell_type": "code",
   "execution_count": 69,
   "id": "f8b80bb3",
   "metadata": {},
   "outputs": [],
   "source": [
    "data = data.join(\n",
    "    data_mv.set_index('key'),\n",
    "    how='inner'\n",
    ")"
   ]
  },
  {
   "cell_type": "markdown",
   "id": "da11e8a7",
   "metadata": {},
   "source": [
    "### Проволочные материалы"
   ]
  },
  {
   "cell_type": "markdown",
   "id": "67ec7a99",
   "metadata": {},
   "source": [
    "Кроме того, можно добавить значения объёмов проволочных материалах."
   ]
  },
  {
   "cell_type": "code",
   "execution_count": 70,
   "id": "6ab2b4b5",
   "metadata": {},
   "outputs": [],
   "source": [
    "data = data.join(\n",
    "    data_wv.set_index('key'),\n",
    "    how='inner'\n",
    ")"
   ]
  },
  {
   "cell_type": "markdown",
   "id": "e199dc85",
   "metadata": {},
   "source": [
    "### Газ"
   ]
  },
  {
   "cell_type": "markdown",
   "id": "97ed1be4",
   "metadata": {},
   "source": [
    "Добавим стобец с объёмами газа."
   ]
  },
  {
   "cell_type": "code",
   "execution_count": 71,
   "id": "a5fcd696",
   "metadata": {},
   "outputs": [],
   "source": [
    "data = data.join(\n",
    "    data_g.set_index('key'),\n",
    "    how='inner'\n",
    ")"
   ]
  },
  {
   "cell_type": "markdown",
   "id": "7dcfce39",
   "metadata": {},
   "source": [
    "### Температура на выходе"
   ]
  },
  {
   "cell_type": "markdown",
   "id": "f34cb3b5",
   "metadata": {},
   "source": [
    "Помимо всего прочего добавим целевой признак в итоговый датасет."
   ]
  },
  {
   "cell_type": "code",
   "execution_count": 72,
   "id": "bb5dc1bb",
   "metadata": {},
   "outputs": [],
   "source": [
    "data = data.join(\n",
    "    data_t.groupby('key').apply(\n",
    "        lambda x: x[x['Время замера'] == x['Время замера'].max()]\n",
    "    ).set_index('key')['Температура'],\n",
    "    how='inner'\n",
    ")\n",
    "data.columns = ['T_вх', 'dt', 'E', 'n', 'Bulk 1', 'Bulk 2', 'Bulk 3', 'Bulk 4', 'Bulk 5', 'Bulk 6',\n",
    "       'Bulk 7', 'Bulk 8', 'Bulk 9', 'Bulk 10', 'Bulk 11', 'Bulk 12',\n",
    "       'Bulk 13', 'Bulk 14', 'Bulk 15', 'Wire 1', 'Wire 2', 'Wire 3', 'Wire 4',\n",
    "       'Wire 5', 'Wire 6', 'Wire 7', 'Wire 8', 'Wire 9', 'Газ 1', 'T_вых']"
   ]
  },
  {
   "cell_type": "markdown",
   "id": "4d931fcc",
   "metadata": {},
   "source": [
    "---"
   ]
  },
  {
   "cell_type": "markdown",
   "id": "3f7eb523",
   "metadata": {},
   "source": [
    "В данном разделе был получен датасет, который можно использовать для дальнейшего анализа и построения моделей. В ходе получения этой таблицы было потеряно ~30% данных. При этом большинство потерь произошло после отказа рассмотрения партий с пропусками температуры. В следующем разделе будет произведено разделение текущего датасета на выборки. Информацию о полученных данных можно посмотреть ниже."
   ]
  },
  {
   "cell_type": "code",
   "execution_count": 73,
   "id": "cda4f83e",
   "metadata": {},
   "outputs": [
    {
     "data": {
      "text/html": [
       "<div>\n",
       "<style scoped>\n",
       "    .dataframe tbody tr th:only-of-type {\n",
       "        vertical-align: middle;\n",
       "    }\n",
       "\n",
       "    .dataframe tbody tr th {\n",
       "        vertical-align: top;\n",
       "    }\n",
       "\n",
       "    .dataframe thead th {\n",
       "        text-align: right;\n",
       "    }\n",
       "</style>\n",
       "<table border=\"1\" class=\"dataframe\">\n",
       "  <thead>\n",
       "    <tr style=\"text-align: right;\">\n",
       "      <th></th>\n",
       "      <th>T_вх</th>\n",
       "      <th>dt</th>\n",
       "      <th>E</th>\n",
       "      <th>n</th>\n",
       "      <th>Bulk 1</th>\n",
       "      <th>Bulk 2</th>\n",
       "      <th>Bulk 3</th>\n",
       "      <th>Bulk 4</th>\n",
       "      <th>Bulk 5</th>\n",
       "      <th>Bulk 6</th>\n",
       "      <th>...</th>\n",
       "      <th>Wire 2</th>\n",
       "      <th>Wire 3</th>\n",
       "      <th>Wire 4</th>\n",
       "      <th>Wire 5</th>\n",
       "      <th>Wire 6</th>\n",
       "      <th>Wire 7</th>\n",
       "      <th>Wire 8</th>\n",
       "      <th>Wire 9</th>\n",
       "      <th>Газ 1</th>\n",
       "      <th>T_вых</th>\n",
       "    </tr>\n",
       "    <tr>\n",
       "      <th>key</th>\n",
       "      <th></th>\n",
       "      <th></th>\n",
       "      <th></th>\n",
       "      <th></th>\n",
       "      <th></th>\n",
       "      <th></th>\n",
       "      <th></th>\n",
       "      <th></th>\n",
       "      <th></th>\n",
       "      <th></th>\n",
       "      <th></th>\n",
       "      <th></th>\n",
       "      <th></th>\n",
       "      <th></th>\n",
       "      <th></th>\n",
       "      <th></th>\n",
       "      <th></th>\n",
       "      <th></th>\n",
       "      <th></th>\n",
       "      <th></th>\n",
       "      <th></th>\n",
       "    </tr>\n",
       "  </thead>\n",
       "  <tbody>\n",
       "    <tr>\n",
       "      <th>1</th>\n",
       "      <td>1571.0</td>\n",
       "      <td>1714.0</td>\n",
       "      <td>628.616930</td>\n",
       "      <td>5</td>\n",
       "      <td>0.0</td>\n",
       "      <td>0.0</td>\n",
       "      <td>0.0</td>\n",
       "      <td>43.0</td>\n",
       "      <td>0.0</td>\n",
       "      <td>0.0</td>\n",
       "      <td>...</td>\n",
       "      <td>0.000000</td>\n",
       "      <td>0.0</td>\n",
       "      <td>0.0</td>\n",
       "      <td>0.0</td>\n",
       "      <td>0.0</td>\n",
       "      <td>0.0</td>\n",
       "      <td>0.0</td>\n",
       "      <td>0.0</td>\n",
       "      <td>29.749986</td>\n",
       "      <td>1613.0</td>\n",
       "    </tr>\n",
       "    <tr>\n",
       "      <th>2</th>\n",
       "      <td>1581.0</td>\n",
       "      <td>1265.0</td>\n",
       "      <td>395.281800</td>\n",
       "      <td>4</td>\n",
       "      <td>0.0</td>\n",
       "      <td>0.0</td>\n",
       "      <td>0.0</td>\n",
       "      <td>73.0</td>\n",
       "      <td>0.0</td>\n",
       "      <td>0.0</td>\n",
       "      <td>...</td>\n",
       "      <td>0.000000</td>\n",
       "      <td>0.0</td>\n",
       "      <td>0.0</td>\n",
       "      <td>0.0</td>\n",
       "      <td>0.0</td>\n",
       "      <td>0.0</td>\n",
       "      <td>0.0</td>\n",
       "      <td>0.0</td>\n",
       "      <td>12.555561</td>\n",
       "      <td>1602.0</td>\n",
       "    </tr>\n",
       "    <tr>\n",
       "      <th>3</th>\n",
       "      <td>1596.0</td>\n",
       "      <td>1753.0</td>\n",
       "      <td>581.774624</td>\n",
       "      <td>5</td>\n",
       "      <td>0.0</td>\n",
       "      <td>0.0</td>\n",
       "      <td>0.0</td>\n",
       "      <td>34.0</td>\n",
       "      <td>0.0</td>\n",
       "      <td>0.0</td>\n",
       "      <td>...</td>\n",
       "      <td>0.000000</td>\n",
       "      <td>0.0</td>\n",
       "      <td>0.0</td>\n",
       "      <td>0.0</td>\n",
       "      <td>0.0</td>\n",
       "      <td>0.0</td>\n",
       "      <td>0.0</td>\n",
       "      <td>0.0</td>\n",
       "      <td>28.554793</td>\n",
       "      <td>1599.0</td>\n",
       "    </tr>\n",
       "    <tr>\n",
       "      <th>4</th>\n",
       "      <td>1601.0</td>\n",
       "      <td>1220.0</td>\n",
       "      <td>543.710274</td>\n",
       "      <td>4</td>\n",
       "      <td>0.0</td>\n",
       "      <td>0.0</td>\n",
       "      <td>0.0</td>\n",
       "      <td>81.0</td>\n",
       "      <td>0.0</td>\n",
       "      <td>0.0</td>\n",
       "      <td>...</td>\n",
       "      <td>0.000000</td>\n",
       "      <td>0.0</td>\n",
       "      <td>0.0</td>\n",
       "      <td>0.0</td>\n",
       "      <td>0.0</td>\n",
       "      <td>0.0</td>\n",
       "      <td>0.0</td>\n",
       "      <td>0.0</td>\n",
       "      <td>18.841219</td>\n",
       "      <td>1625.0</td>\n",
       "    </tr>\n",
       "    <tr>\n",
       "      <th>5</th>\n",
       "      <td>1576.0</td>\n",
       "      <td>1536.0</td>\n",
       "      <td>412.180480</td>\n",
       "      <td>4</td>\n",
       "      <td>0.0</td>\n",
       "      <td>0.0</td>\n",
       "      <td>0.0</td>\n",
       "      <td>78.0</td>\n",
       "      <td>0.0</td>\n",
       "      <td>0.0</td>\n",
       "      <td>...</td>\n",
       "      <td>9.114560</td>\n",
       "      <td>0.0</td>\n",
       "      <td>0.0</td>\n",
       "      <td>0.0</td>\n",
       "      <td>0.0</td>\n",
       "      <td>0.0</td>\n",
       "      <td>0.0</td>\n",
       "      <td>0.0</td>\n",
       "      <td>5.413692</td>\n",
       "      <td>1602.0</td>\n",
       "    </tr>\n",
       "    <tr>\n",
       "      <th>6</th>\n",
       "      <td>1543.0</td>\n",
       "      <td>1497.0</td>\n",
       "      <td>691.669688</td>\n",
       "      <td>4</td>\n",
       "      <td>0.0</td>\n",
       "      <td>0.0</td>\n",
       "      <td>0.0</td>\n",
       "      <td>117.0</td>\n",
       "      <td>0.0</td>\n",
       "      <td>0.0</td>\n",
       "      <td>...</td>\n",
       "      <td>9.114560</td>\n",
       "      <td>0.0</td>\n",
       "      <td>0.0</td>\n",
       "      <td>0.0</td>\n",
       "      <td>0.0</td>\n",
       "      <td>0.0</td>\n",
       "      <td>0.0</td>\n",
       "      <td>0.0</td>\n",
       "      <td>11.273392</td>\n",
       "      <td>1596.0</td>\n",
       "    </tr>\n",
       "    <tr>\n",
       "      <th>7</th>\n",
       "      <td>1586.0</td>\n",
       "      <td>1744.0</td>\n",
       "      <td>491.550467</td>\n",
       "      <td>4</td>\n",
       "      <td>0.0</td>\n",
       "      <td>0.0</td>\n",
       "      <td>0.0</td>\n",
       "      <td>117.0</td>\n",
       "      <td>0.0</td>\n",
       "      <td>0.0</td>\n",
       "      <td>...</td>\n",
       "      <td>0.000000</td>\n",
       "      <td>0.0</td>\n",
       "      <td>0.0</td>\n",
       "      <td>0.0</td>\n",
       "      <td>0.0</td>\n",
       "      <td>0.0</td>\n",
       "      <td>0.0</td>\n",
       "      <td>0.0</td>\n",
       "      <td>9.836267</td>\n",
       "      <td>1599.0</td>\n",
       "    </tr>\n",
       "    <tr>\n",
       "      <th>8</th>\n",
       "      <td>1577.0</td>\n",
       "      <td>1615.0</td>\n",
       "      <td>496.597268</td>\n",
       "      <td>4</td>\n",
       "      <td>0.0</td>\n",
       "      <td>0.0</td>\n",
       "      <td>0.0</td>\n",
       "      <td>99.0</td>\n",
       "      <td>0.0</td>\n",
       "      <td>0.0</td>\n",
       "      <td>...</td>\n",
       "      <td>0.000000</td>\n",
       "      <td>0.0</td>\n",
       "      <td>0.0</td>\n",
       "      <td>0.0</td>\n",
       "      <td>0.0</td>\n",
       "      <td>0.0</td>\n",
       "      <td>0.0</td>\n",
       "      <td>0.0</td>\n",
       "      <td>15.171553</td>\n",
       "      <td>1598.0</td>\n",
       "    </tr>\n",
       "    <tr>\n",
       "      <th>9</th>\n",
       "      <td>1587.0</td>\n",
       "      <td>1811.0</td>\n",
       "      <td>464.455338</td>\n",
       "      <td>5</td>\n",
       "      <td>0.0</td>\n",
       "      <td>0.0</td>\n",
       "      <td>0.0</td>\n",
       "      <td>117.0</td>\n",
       "      <td>0.0</td>\n",
       "      <td>0.0</td>\n",
       "      <td>...</td>\n",
       "      <td>9.143681</td>\n",
       "      <td>0.0</td>\n",
       "      <td>0.0</td>\n",
       "      <td>0.0</td>\n",
       "      <td>0.0</td>\n",
       "      <td>0.0</td>\n",
       "      <td>0.0</td>\n",
       "      <td>0.0</td>\n",
       "      <td>8.216623</td>\n",
       "      <td>1592.0</td>\n",
       "    </tr>\n",
       "    <tr>\n",
       "      <th>10</th>\n",
       "      <td>1574.0</td>\n",
       "      <td>1551.0</td>\n",
       "      <td>439.040344</td>\n",
       "      <td>6</td>\n",
       "      <td>0.0</td>\n",
       "      <td>0.0</td>\n",
       "      <td>0.0</td>\n",
       "      <td>0.0</td>\n",
       "      <td>0.0</td>\n",
       "      <td>0.0</td>\n",
       "      <td>...</td>\n",
       "      <td>12.376000</td>\n",
       "      <td>0.0</td>\n",
       "      <td>0.0</td>\n",
       "      <td>0.0</td>\n",
       "      <td>0.0</td>\n",
       "      <td>0.0</td>\n",
       "      <td>0.0</td>\n",
       "      <td>0.0</td>\n",
       "      <td>6.529891</td>\n",
       "      <td>1593.0</td>\n",
       "    </tr>\n",
       "  </tbody>\n",
       "</table>\n",
       "<p>10 rows × 30 columns</p>\n",
       "</div>"
      ],
      "text/plain": [
       "       T_вх      dt           E  n  Bulk 1  Bulk 2  Bulk 3  Bulk 4  Bulk 5  \\\n",
       "key                                                                          \n",
       "1    1571.0  1714.0  628.616930  5     0.0     0.0     0.0    43.0     0.0   \n",
       "2    1581.0  1265.0  395.281800  4     0.0     0.0     0.0    73.0     0.0   \n",
       "3    1596.0  1753.0  581.774624  5     0.0     0.0     0.0    34.0     0.0   \n",
       "4    1601.0  1220.0  543.710274  4     0.0     0.0     0.0    81.0     0.0   \n",
       "5    1576.0  1536.0  412.180480  4     0.0     0.0     0.0    78.0     0.0   \n",
       "6    1543.0  1497.0  691.669688  4     0.0     0.0     0.0   117.0     0.0   \n",
       "7    1586.0  1744.0  491.550467  4     0.0     0.0     0.0   117.0     0.0   \n",
       "8    1577.0  1615.0  496.597268  4     0.0     0.0     0.0    99.0     0.0   \n",
       "9    1587.0  1811.0  464.455338  5     0.0     0.0     0.0   117.0     0.0   \n",
       "10   1574.0  1551.0  439.040344  6     0.0     0.0     0.0     0.0     0.0   \n",
       "\n",
       "     Bulk 6  ...     Wire 2  Wire 3  Wire 4  Wire 5  Wire 6  Wire 7  Wire 8  \\\n",
       "key          ...                                                              \n",
       "1       0.0  ...   0.000000     0.0     0.0     0.0     0.0     0.0     0.0   \n",
       "2       0.0  ...   0.000000     0.0     0.0     0.0     0.0     0.0     0.0   \n",
       "3       0.0  ...   0.000000     0.0     0.0     0.0     0.0     0.0     0.0   \n",
       "4       0.0  ...   0.000000     0.0     0.0     0.0     0.0     0.0     0.0   \n",
       "5       0.0  ...   9.114560     0.0     0.0     0.0     0.0     0.0     0.0   \n",
       "6       0.0  ...   9.114560     0.0     0.0     0.0     0.0     0.0     0.0   \n",
       "7       0.0  ...   0.000000     0.0     0.0     0.0     0.0     0.0     0.0   \n",
       "8       0.0  ...   0.000000     0.0     0.0     0.0     0.0     0.0     0.0   \n",
       "9       0.0  ...   9.143681     0.0     0.0     0.0     0.0     0.0     0.0   \n",
       "10      0.0  ...  12.376000     0.0     0.0     0.0     0.0     0.0     0.0   \n",
       "\n",
       "     Wire 9      Газ 1   T_вых  \n",
       "key                             \n",
       "1       0.0  29.749986  1613.0  \n",
       "2       0.0  12.555561  1602.0  \n",
       "3       0.0  28.554793  1599.0  \n",
       "4       0.0  18.841219  1625.0  \n",
       "5       0.0   5.413692  1602.0  \n",
       "6       0.0  11.273392  1596.0  \n",
       "7       0.0   9.836267  1599.0  \n",
       "8       0.0  15.171553  1598.0  \n",
       "9       0.0   8.216623  1592.0  \n",
       "10      0.0   6.529891  1593.0  \n",
       "\n",
       "[10 rows x 30 columns]"
      ]
     },
     "execution_count": 73,
     "metadata": {},
     "output_type": "execute_result"
    }
   ],
   "source": [
    "data.head(10)"
   ]
  },
  {
   "cell_type": "code",
   "execution_count": 74,
   "id": "fedb02e2",
   "metadata": {},
   "outputs": [
    {
     "name": "stdout",
     "output_type": "stream",
     "text": [
      "<class 'pandas.core.frame.DataFrame'>\n",
      "Int64Index: 2324 entries, 1 to 2499\n",
      "Data columns (total 30 columns):\n",
      " #   Column   Non-Null Count  Dtype  \n",
      "---  ------   --------------  -----  \n",
      " 0   T_вх     2324 non-null   float64\n",
      " 1   dt       2324 non-null   float64\n",
      " 2   E        2324 non-null   float64\n",
      " 3   n        2324 non-null   int64  \n",
      " 4   Bulk 1   2324 non-null   float64\n",
      " 5   Bulk 2   2324 non-null   float64\n",
      " 6   Bulk 3   2324 non-null   float64\n",
      " 7   Bulk 4   2324 non-null   float64\n",
      " 8   Bulk 5   2324 non-null   float64\n",
      " 9   Bulk 6   2324 non-null   float64\n",
      " 10  Bulk 7   2324 non-null   float64\n",
      " 11  Bulk 8   2324 non-null   float64\n",
      " 12  Bulk 9   2324 non-null   float64\n",
      " 13  Bulk 10  2324 non-null   float64\n",
      " 14  Bulk 11  2324 non-null   float64\n",
      " 15  Bulk 12  2324 non-null   float64\n",
      " 16  Bulk 13  2324 non-null   float64\n",
      " 17  Bulk 14  2324 non-null   float64\n",
      " 18  Bulk 15  2324 non-null   float64\n",
      " 19  Wire 1   2324 non-null   float64\n",
      " 20  Wire 2   2324 non-null   float64\n",
      " 21  Wire 3   2324 non-null   float64\n",
      " 22  Wire 4   2324 non-null   float64\n",
      " 23  Wire 5   2324 non-null   float64\n",
      " 24  Wire 6   2324 non-null   float64\n",
      " 25  Wire 7   2324 non-null   float64\n",
      " 26  Wire 8   2324 non-null   float64\n",
      " 27  Wire 9   2324 non-null   float64\n",
      " 28  Газ 1    2324 non-null   float64\n",
      " 29  T_вых    2324 non-null   float64\n",
      "dtypes: float64(29), int64(1)\n",
      "memory usage: 562.8 KB\n"
     ]
    }
   ],
   "source": [
    "data.info()"
   ]
  },
  {
   "cell_type": "markdown",
   "id": "2ecb187d",
   "metadata": {},
   "source": [
    "Кроме того, можно посмотреть на корреляцию различных параметров датасета между собой. Можно обратить внимание, что больших значений этот параметр не достигает ни при одном из сочетаний столбцов, кроме передаваемой энергии и количестве таких передач, что даёт нам надежду на получение хороших моделей при обучении."
   ]
  },
  {
   "cell_type": "code",
   "execution_count": 75,
   "id": "249cecd3",
   "metadata": {
    "scrolled": true
   },
   "outputs": [
    {
     "name": "stdout",
     "output_type": "stream",
     "text": [
      "dt x T_вх  :  0.21078551206598034\n",
      "E x T_вх  :  -0.34522202273469055\n",
      "E x dt  :  0.5094847182689521\n",
      "T_вых x T_вх  :  0.30188233196167763\n",
      "T_вых x dt  :  0.09612550000239524\n",
      "T_вых x E  :  0.2578623524608949\n",
      "n x T_вх  :  -0.1768607516492163\n",
      "n x dt  :  0.5953285174281151\n",
      "n x E  :  0.712168567674093\n",
      "n x T_вых  :  0.18027609674146752\n"
     ]
    }
   ],
   "source": [
    "c = ['T_вх', 'dt', 'E', 'T_вых', 'n']\n",
    "\n",
    "for (i,j) in [(i,j) for i in range(len(c)) for j in range(len(c))]:\n",
    "    if (i <= j):\n",
    "        continue\n",
    "    print(c[i], 'x', c[j], ' : ', data[c[i]].corr(data[c[j]]))"
   ]
  },
  {
   "cell_type": "markdown",
   "id": "1c8b1e89",
   "metadata": {},
   "source": [
    "При рассмотрении корреляции всех признаков друг с другом становиться понятно, что по какой-то странной причине существует высокая положительная корреляция между `Wire 8` и `Bulk 9`."
   ]
  },
  {
   "cell_type": "code",
   "execution_count": 81,
   "id": "a63fd4f5",
   "metadata": {},
   "outputs": [
    {
     "name": "stdout",
     "output_type": "stream",
     "text": [
      "dt x T_вх  :  0.21078551206598034\n",
      "E x T_вх  :  -0.34522202273469055\n",
      "E x dt  :  0.5094847182689521\n",
      "n x T_вх  :  -0.1768607516492163\n",
      "n x dt  :  0.5953285174281151\n",
      "n x E  :  0.712168567674093\n",
      "Bulk 1 x T_вх  :  0.07909811865644976\n",
      "Bulk 1 x dt  :  0.14442885785774112\n",
      "Bulk 1 x E  :  0.09564143925320172\n",
      "Bulk 1 x n  :  0.0976885544840618\n",
      "Bulk 2 x T_вх  :  0.14154729859775098\n",
      "Bulk 2 x dt  :  0.26747993070774656\n",
      "Bulk 2 x E  :  0.03833076801603109\n",
      "Bulk 2 x n  :  0.09314541039646998\n",
      "Bulk 2 x Bulk 1  :  0.224676730751739\n",
      "Bulk 3 x T_вх  :  -0.11337968245088022\n",
      "Bulk 3 x dt  :  0.023019294000222113\n",
      "Bulk 3 x E  :  0.08880541221186014\n",
      "Bulk 3 x n  :  0.10730792142396688\n",
      "Bulk 3 x Bulk 1  :  -0.011538269619879247\n",
      "Bulk 3 x Bulk 2  :  -0.04695287236976675\n",
      "Bulk 4 x T_вх  :  0.16548353362112317\n",
      "Bulk 4 x dt  :  0.002019205954924314\n",
      "Bulk 4 x E  :  -0.0208985326899991\n",
      "Bulk 4 x n  :  -0.004955173623246604\n",
      "Bulk 4 x Bulk 1  :  0.04166157683487794\n",
      "Bulk 4 x Bulk 2  :  0.04075599061336805\n",
      "Bulk 4 x Bulk 3  :  -0.29552597141405873\n",
      "Bulk 5 x T_вх  :  0.0787291998750057\n",
      "Bulk 5 x dt  :  0.10365722920207758\n",
      "Bulk 5 x E  :  0.019551259455947555\n",
      "Bulk 5 x n  :  0.0750309099207717\n",
      "Bulk 5 x Bulk 1  :  0.060365142230626216\n",
      "Bulk 5 x Bulk 2  :  0.3602910006831345\n",
      "Bulk 5 x Bulk 3  :  -0.006766031212608425\n",
      "Bulk 5 x Bulk 4  :  0.028273108671666405\n",
      "Bulk 6 x T_вх  :  -0.12704647177914322\n",
      "Bulk 6 x dt  :  0.15496662902524905\n",
      "Bulk 6 x E  :  0.14815916501700593\n",
      "Bulk 6 x n  :  0.15316849785067008\n",
      "Bulk 6 x Bulk 1  :  -0.0035808260055947773\n",
      "Bulk 6 x Bulk 2  :  -0.030000746014926943\n",
      "Bulk 6 x Bulk 3  :  0.06631645243025835\n",
      "Bulk 6 x Bulk 4  :  -0.2515770333898336\n",
      "Bulk 6 x Bulk 5  :  -0.021852951541320907\n",
      "Bulk 7 x T_вх  :  0.08777391667539496\n",
      "Bulk 7 x dt  :  0.23806759333392605\n",
      "Bulk 7 x E  :  0.07970174186554191\n",
      "Bulk 7 x n  :  0.1526529904815731\n",
      "Bulk 7 x Bulk 1  :  0.23719458939636082\n",
      "Bulk 7 x Bulk 2  :  0.6793524922749892\n",
      "Bulk 7 x Bulk 3  :  -0.033521243502382524\n",
      "Bulk 7 x Bulk 4  :  0.04586586238248967\n",
      "Bulk 7 x Bulk 5  :  0.28832661092807654\n",
      "Bulk 7 x Bulk 6  :  -0.025113001869526363\n",
      "Bulk 8 x T_вх  :  -0.011741959471759272\n",
      "Bulk 8 x dt  :  -0.0036491246757241374\n",
      "Bulk 8 x E  :  -0.02342512547082776\n",
      "Bulk 8 x n  :  -0.009000718814356972\n",
      "Bulk 8 x Bulk 1  :  -0.005737480641773021\n",
      "Bulk 8 x Bulk 2  :  -0.0015486856775377908\n",
      "Bulk 8 x Bulk 3  :  0.020875117889606686\n",
      "Bulk 8 x Bulk 4  :  -0.013208635420967346\n",
      "Bulk 8 x Bulk 5  :  -0.002448411156682052\n",
      "Bulk 8 x Bulk 6  :  -0.008339107310123675\n",
      "Bulk 8 x Bulk 7  :  -0.0013576557795061902\n",
      "Bulk 9 x T_вх  :  -0.033394194678550135\n",
      "Bulk 9 x dt  :  -0.006887194488523349\n",
      "Bulk 9 x E  :  0.00918720030843306\n",
      "Bulk 9 x n  :  0.03822937914469262\n",
      "Bulk 9 x Bulk 1  :  -0.019799913553959284\n",
      "Bulk 9 x Bulk 2  :  -0.005344478605164668\n",
      "Bulk 9 x Bulk 3  :  0.011389672380545706\n",
      "Bulk 9 x Bulk 4  :  -0.0029949194799815397\n",
      "Bulk 9 x Bulk 5  :  -0.008449410511975574\n",
      "Bulk 9 x Bulk 6  :  -0.028778067267973304\n",
      "Bulk 9 x Bulk 7  :  -0.004685238826696458\n",
      "Bulk 9 x Bulk 8  :  0.4883908721136943\n",
      "Bulk 10 x T_вх  :  0.03578899433818443\n",
      "Bulk 10 x dt  :  -0.009051732005630201\n",
      "Bulk 10 x E  :  -0.00707496255976043\n",
      "Bulk 10 x n  :  0.012516583281429258\n",
      "Bulk 10 x Bulk 1  :  -0.0233334679886014\n",
      "Bulk 10 x Bulk 2  :  -0.018054782952964483\n",
      "Bulk 10 x Bulk 3  :  -0.08526551010399486\n",
      "Bulk 10 x Bulk 4  :  -0.08497452979812949\n",
      "Bulk 10 x Bulk 5  :  -0.02854390187413161\n",
      "Bulk 10 x Bulk 6  :  -0.09721841861748141\n",
      "Bulk 10 x Bulk 7  :  -0.015827731075031912\n",
      "Bulk 10 x Bulk 8  :  -0.005018567619313745\n",
      "Bulk 10 x Bulk 9  :  -0.017318961270848313\n",
      "Bulk 11 x T_вх  :  -0.11042952844640144\n",
      "Bulk 11 x dt  :  0.0385177568165416\n",
      "Bulk 11 x E  :  0.06880847844296324\n",
      "Bulk 11 x n  :  0.06252602095669957\n",
      "Bulk 11 x Bulk 1  :  -0.03800840183536908\n",
      "Bulk 11 x Bulk 2  :  0.001449255086853884\n",
      "Bulk 11 x Bulk 3  :  -0.007382902495372844\n",
      "Bulk 11 x Bulk 4  :  -0.11973326578621817\n",
      "Bulk 11 x Bulk 5  :  -0.01588832270156172\n",
      "Bulk 11 x Bulk 6  :  0.19698278355045123\n",
      "Bulk 11 x Bulk 7  :  -0.004936592125867336\n",
      "Bulk 11 x Bulk 8  :  -0.003917108888257828\n",
      "Bulk 11 x Bulk 9  :  -0.01351785255784015\n",
      "Bulk 11 x Bulk 10  :  -0.045666174748296574\n",
      "Bulk 12 x T_вх  :  -0.07957378156024494\n",
      "Bulk 12 x dt  :  0.20955457096776972\n",
      "Bulk 12 x E  :  0.42103255882345636\n",
      "Bulk 12 x n  :  0.3063766101140937\n",
      "Bulk 12 x Bulk 1  :  0.3257240210373795\n",
      "Bulk 12 x Bulk 2  :  -0.09912452738988743\n",
      "Bulk 12 x Bulk 3  :  0.01805860177536202\n",
      "Bulk 12 x Bulk 4  :  0.10519013432217882\n",
      "Bulk 12 x Bulk 5  :  -0.07295059605846436\n",
      "Bulk 12 x Bulk 6  :  -0.11216919994315773\n",
      "Bulk 12 x Bulk 7  :  -0.01783097882433425\n",
      "Bulk 12 x Bulk 8  :  -0.02755298386774431\n",
      "Bulk 12 x Bulk 9  :  -0.05783263341664955\n",
      "Bulk 12 x Bulk 10  :  0.02765138859779898\n",
      "Bulk 12 x Bulk 11  :  -0.04041865379090724\n",
      "Bulk 13 x T_вх  :  0.02023676882467194\n",
      "Bulk 13 x dt  :  0.2445850616717504\n",
      "Bulk 13 x E  :  0.13479962796892428\n",
      "Bulk 13 x n  :  0.11783004832025741\n",
      "Bulk 13 x Bulk 1  :  -0.010324719562470537\n",
      "Bulk 13 x Bulk 2  :  -0.005604320384778203\n",
      "Bulk 13 x Bulk 3  :  -0.013385490388855153\n",
      "Bulk 13 x Bulk 4  :  0.0031541174271534707\n",
      "Bulk 13 x Bulk 5  :  -0.008860210147695991\n",
      "Bulk 13 x Bulk 6  :  0.042691053582203924\n",
      "Bulk 13 x Bulk 7  :  -0.004913029203379282\n",
      "Bulk 13 x Bulk 8  :  -0.0015577955650078617\n",
      "Bulk 13 x Bulk 9  :  -0.005375916617012677\n",
      "Bulk 13 x Bulk 10  :  -0.018160987228876675\n",
      "Bulk 13 x Bulk 11  :  -0.010278877263415403\n",
      "Bulk 13 x Bulk 12  :  0.05415922763948823\n",
      "Bulk 14 x T_вх  :  -0.17999139121719682\n",
      "Bulk 14 x dt  :  0.17388641227880824\n",
      "Bulk 14 x E  :  0.40690242212891514\n",
      "Bulk 14 x n  :  0.33380050843622544\n",
      "Bulk 14 x Bulk 1  :  0.20760624235971806\n",
      "Bulk 14 x Bulk 2  :  -0.14118478858493416\n",
      "Bulk 14 x Bulk 3  :  0.011208970954467476\n",
      "Bulk 14 x Bulk 4  :  -0.09110332793002827\n",
      "Bulk 14 x Bulk 5  :  -0.06610082947960574\n",
      "Bulk 14 x Bulk 6  :  0.17679130094181528\n",
      "Bulk 14 x Bulk 7  :  -0.07654433946457884\n",
      "Bulk 14 x Bulk 8  :  -0.039244194193741685\n",
      "Bulk 14 x Bulk 9  :  0.03879814967701066\n",
      "Bulk 14 x Bulk 10  :  -0.0458803177403748\n",
      "Bulk 14 x Bulk 11  :  0.07796579454775453\n",
      "Bulk 14 x Bulk 12  :  0.4816090597210739\n",
      "Bulk 14 x Bulk 13  :  -0.07574542651375601\n",
      "Bulk 15 x T_вх  :  -0.06238220932696794\n",
      "Bulk 15 x dt  :  0.09908106940675333\n",
      "Bulk 15 x E  :  0.2728948695365117\n",
      "Bulk 15 x n  :  0.17383452545117906\n",
      "Bulk 15 x Bulk 1  :  -0.0012107079964637922\n",
      "Bulk 15 x Bulk 2  :  -0.10589814417069934\n",
      "Bulk 15 x Bulk 3  :  -0.013181313857285194\n",
      "Bulk 15 x Bulk 4  :  0.1008333163099237\n",
      "Bulk 15 x Bulk 5  :  -0.06742610547101507\n",
      "Bulk 15 x Bulk 6  :  -0.10862604065366833\n",
      "Bulk 15 x Bulk 7  :  -0.09027732148777692\n",
      "Bulk 15 x Bulk 8  :  -0.02943580095451757\n",
      "Bulk 15 x Bulk 9  :  -0.09369665168550291\n",
      "Bulk 15 x Bulk 10  :  0.05195342601582039\n",
      "Bulk 15 x Bulk 11  :  -0.048570650952223335\n",
      "Bulk 15 x Bulk 12  :  0.6138702022244853\n",
      "Bulk 15 x Bulk 13  :  0.018464283293338442\n",
      "Bulk 15 x Bulk 14  :  0.2649034752900467\n",
      "Wire 1 x T_вх  :  0.262879699374979\n",
      "Wire 1 x dt  :  0.15427984616093995\n",
      "Wire 1 x E  :  0.06077775117989242\n",
      "Wire 1 x n  :  0.13789339606485262\n",
      "Wire 1 x Bulk 1  :  0.013822966958819847\n",
      "Wire 1 x Bulk 2  :  -0.16962309743892606\n",
      "Wire 1 x Bulk 3  :  0.03778758708514155\n",
      "Wire 1 x Bulk 4  :  0.29814522447820846\n",
      "Wire 1 x Bulk 5  :  -0.013454224471120758\n",
      "Wire 1 x Bulk 6  :  -0.23544501972817805\n",
      "Wire 1 x Bulk 7  :  -0.1433889129483284\n",
      "Wire 1 x Bulk 8  :  0.03469556811545594\n",
      "Wire 1 x Bulk 9  :  0.022651998192885766\n",
      "Wire 1 x Bulk 10  :  0.06289236295765574\n",
      "Wire 1 x Bulk 11  :  -0.11779788845957496\n",
      "Wire 1 x Bulk 12  :  0.17081207153810696\n",
      "Wire 1 x Bulk 13  :  0.03951501846377673\n",
      "Wire 1 x Bulk 14  :  -0.05265402651715167\n",
      "Wire 1 x Bulk 15  :  0.11904672956736177\n",
      "Wire 2 x T_вх  :  -0.10110067130013471\n",
      "Wire 2 x dt  :  0.06040652683680992\n",
      "Wire 2 x E  :  0.046604095308337284\n",
      "Wire 2 x n  :  0.07822556823238588\n",
      "Wire 2 x Bulk 1  :  -0.009261298209493814\n",
      "Wire 2 x Bulk 2  :  -0.039080344950777245\n",
      "Wire 2 x Bulk 3  :  0.09489684568126741\n",
      "Wire 2 x Bulk 4  :  -0.2681149305175218\n",
      "Wire 2 x Bulk 5  :  -0.013811495726289123\n",
      "Wire 2 x Bulk 6  :  0.20543183309993604\n",
      "Wire 2 x Bulk 7  :  -0.000637848419802341\n",
      "Wire 2 x Bulk 8  :  0.018917460222672287\n",
      "Wire 2 x Bulk 9  :  0.06675147498176841\n",
      "Wire 2 x Bulk 10  :  -0.10382800701270442\n",
      "Wire 2 x Bulk 11  :  0.06207383181128836\n",
      "Wire 2 x Bulk 12  :  -0.09820816234084549\n",
      "Wire 2 x Bulk 13  :  -0.0013984100089859664\n",
      "Wire 2 x Bulk 14  :  0.0370174923548972\n",
      "Wire 2 x Bulk 15  :  -0.09641067183670089\n",
      "Wire 2 x Wire 1  :  -0.06943905787569413\n",
      "Wire 3 x T_вх  :  -0.0034034007740368845\n",
      "Wire 3 x dt  :  0.06840076920889576\n",
      "Wire 3 x E  :  0.0358062312936901\n",
      "Wire 3 x n  :  0.05525469324165702\n",
      "Wire 3 x Bulk 1  :  0.020204016222552995\n",
      "Wire 3 x Bulk 2  :  0.22318803083537153\n",
      "Wire 3 x Bulk 3  :  0.005839504449523768\n",
      "Wire 3 x Bulk 4  :  -0.03932591604922792\n",
      "Wire 3 x Bulk 5  :  0.0708888735316739\n",
      "Wire 3 x Bulk 6  :  -0.046544646656938596\n",
      "Wire 3 x Bulk 7  :  0.1566125848103396\n",
      "Wire 3 x Bulk 8  :  -0.002405102356143164\n",
      "Wire 3 x Bulk 9  :  -0.008299952838767348\n",
      "Wire 3 x Bulk 10  :  -0.028039002135582494\n",
      "Wire 3 x Bulk 11  :  -0.021877614144744168\n",
      "Wire 3 x Bulk 12  :  -0.12069653244381787\n",
      "Wire 3 x Bulk 13  :  -0.008703486031743366\n",
      "Wire 3 x Bulk 14  :  -0.009009586394834106\n",
      "Wire 3 x Bulk 15  :  -0.11835464523881224\n",
      "Wire 3 x Wire 1  :  0.03816794428767563\n",
      "Wire 3 x Wire 2  :  0.09409817230335142\n",
      "Wire 4 x T_вх  :  0.07612644221321772\n",
      "Wire 4 x dt  :  0.2534019146950907\n",
      "Wire 4 x E  :  0.04813327572304994\n",
      "Wire 4 x n  :  0.11376276341062418\n",
      "Wire 4 x Bulk 1  :  0.14627551285993529\n",
      "Wire 4 x Bulk 2  :  0.6993394447192105\n",
      "Wire 4 x Bulk 3  :  -0.04058225457021686\n",
      "Wire 4 x Bulk 4  :  0.03438971454862593\n",
      "Wire 4 x Bulk 5  :  0.2627518056023271\n",
      "Wire 4 x Bulk 6  :  -0.02593021152116243\n",
      "Wire 4 x Bulk 7  :  0.7405696383540777\n",
      "Wire 4 x Bulk 8  :  -0.0013385582871295355\n",
      "Wire 4 x Bulk 9  :  -0.004619333820342101\n",
      "Wire 4 x Bulk 10  :  -0.015605089976966217\n",
      "Wire 4 x Bulk 11  :  -0.012180136104093738\n",
      "Wire 4 x Bulk 12  :  -0.08567520157252619\n",
      "Wire 4 x Bulk 13  :  -0.004843919979101714\n",
      "Wire 4 x Bulk 14  :  -0.12202867987870777\n",
      "Wire 4 x Bulk 15  :  -0.0915297665157569\n",
      "Wire 4 x Wire 1  :  -0.14212640581146965\n",
      "Wire 4 x Wire 2  :  -0.033777880403022174\n",
      "Wire 4 x Wire 3  :  0.1697970225129439\n",
      "Wire 5 x T_вх  :  nan\n",
      "Wire 5 x dt  :  nan\n",
      "Wire 5 x E  :  nan\n",
      "Wire 5 x n  :  nan\n",
      "Wire 5 x Bulk 1  :  nan\n",
      "Wire 5 x Bulk 2  :  nan\n",
      "Wire 5 x Bulk 3  :  nan\n",
      "Wire 5 x Bulk 4  :  nan\n",
      "Wire 5 x Bulk 5  :  nan\n",
      "Wire 5 x Bulk 6  :  nan\n",
      "Wire 5 x Bulk 7  :  nan\n",
      "Wire 5 x Bulk 8  :  nan\n",
      "Wire 5 x Bulk 9  :  nan\n",
      "Wire 5 x Bulk 10  :  nan\n",
      "Wire 5 x Bulk 11  :  nan\n",
      "Wire 5 x Bulk 12  :  nan\n",
      "Wire 5 x Bulk 13  :  nan\n",
      "Wire 5 x Bulk 14  :  nan\n",
      "Wire 5 x Bulk 15  :  nan\n",
      "Wire 5 x Wire 1  :  nan\n",
      "Wire 5 x Wire 2  :  nan\n",
      "Wire 5 x Wire 3  :  nan\n",
      "Wire 5 x Wire 4  :  nan\n",
      "Wire 6 x T_вх  :  0.02073250588249489\n",
      "Wire 6 x dt  :  0.1441250316946817\n",
      "Wire 6 x E  :  0.04774946327995223\n",
      "Wire 6 x n  :  0.05337982010294316\n",
      "Wire 6 x Bulk 1  :  0.14850861068040436\n",
      "Wire 6 x Bulk 2  :  0.5588819359558479\n",
      "Wire 6 x Bulk 3  :  0.007173713305024337\n",
      "Wire 6 x Bulk 4  :  -0.01150714313861913\n",
      "Wire 6 x Bulk 5  :  0.20479637740544931\n",
      "Wire 6 x Bulk 6  :  -0.020222574048558206\n",
      "Wire 6 x Bulk 7  :  0.45609307613552424\n",
      "Wire 6 x Bulk 8  :  -0.002339157587739768\n",
      "Wire 6 x Bulk 9  :  -0.008072378961791552\n",
      "Wire 6 x Bulk 10  :  -0.017859618981166964\n",
      "Wire 6 x Bulk 11  :  0.008655396430159298\n",
      "Wire 6 x Bulk 12  :  -0.04289464228003693\n",
      "Wire 6 x Bulk 13  :  -0.008464847801150392\n",
      "Wire 6 x Bulk 14  :  -0.052577529481844465\n",
      "Wire 6 x Bulk 15  :  -0.03261783490932789\n",
      "Wire 6 x Wire 1  :  -0.1281215868195813\n",
      "Wire 6 x Wire 2  :  -0.058734627634820936\n",
      "Wire 6 x Wire 3  :  0.18343314618551895\n",
      "Wire 6 x Wire 4  :  0.44595286863171596\n",
      "Wire 6 x Wire 5  :  nan\n",
      "Wire 7 x T_вх  :  0.05281248782123693\n",
      "Wire 7 x dt  :  0.15657855848149863\n",
      "Wire 7 x E  :  0.020017791924432246\n",
      "Wire 7 x n  :  0.07374657631963923\n",
      "Wire 7 x Bulk 1  :  0.08343202892786314\n",
      "Wire 7 x Bulk 2  :  0.4317350225313605\n",
      "Wire 7 x Bulk 3  :  -0.019475238950347338\n",
      "Wire 7 x Bulk 4  :  0.033821911475865066\n",
      "Wire 7 x Bulk 5  :  0.1721356896486184\n",
      "Wire 7 x Bulk 6  :  -0.012443790290998168\n",
      "Wire 7 x Bulk 7  :  0.37224782432340947\n",
      "Wire 7 x Bulk 8  :  -0.0006423680193940493\n",
      "Wire 7 x Bulk 9  :  -0.002216797240452158\n",
      "Wire 7 x Bulk 10  :  -0.007488811535033003\n",
      "Wire 7 x Bulk 11  :  -0.005845191786093254\n",
      "Wire 7 x Bulk 12  :  -0.04111513863423077\n",
      "Wire 7 x Bulk 13  :  -0.0023245751141337473\n",
      "Wire 7 x Bulk 14  :  -0.058561007134812895\n",
      "Wire 7 x Bulk 15  :  -0.04392471765903483\n",
      "Wire 7 x Wire 1  :  -0.06756638887354752\n",
      "Wire 7 x Wire 2  :  -0.016209850809222624\n",
      "Wire 7 x Wire 3  :  0.10038570201403575\n",
      "Wire 7 x Wire 4  :  0.602963305556995\n",
      "Wire 7 x Wire 5  :  nan\n",
      "Wire 7 x Wire 6  :  0.30273896395387706\n",
      "Wire 8 x T_вх  :  -0.02983051736851597\n",
      "Wire 8 x dt  :  -0.0024482060186202977\n",
      "Wire 8 x E  :  0.015811361761801184\n",
      "Wire 8 x n  :  0.0439101135659111\n",
      "Wire 8 x Bulk 1  :  -0.019578650995585534\n",
      "Wire 8 x Bulk 2  :  -0.005284754455050033\n",
      "Wire 8 x Bulk 3  :  0.004885297493935722\n",
      "Wire 8 x Bulk 4  :  0.0077810732442616945\n",
      "Wire 8 x Bulk 5  :  -0.008354988979197772\n",
      "Wire 8 x Bulk 6  :  -0.028456474510943595\n",
      "Wire 8 x Bulk 7  :  -0.004632881631976324\n",
      "Wire 8 x Bulk 8  :  0.3210383734876616\n",
      "Wire 8 x Bulk 9  :  0.9749683686482739\n",
      "---\n",
      "Wire 8 x Bulk 10  :  -0.017125423169344865\n",
      "Wire 8 x Bulk 11  :  -0.013366791562926448\n",
      "Wire 8 x Bulk 12  :  -0.05589827577684255\n",
      "Wire 8 x Bulk 13  :  -0.005315841149458551\n",
      "Wire 8 x Bulk 14  :  0.04361417874974748\n",
      "Wire 8 x Bulk 15  :  -0.09013225987344427\n",
      "Wire 8 x Wire 1  :  0.017284219514303673\n",
      "Wire 8 x Wire 2  :  0.06929171871685816\n",
      "Wire 8 x Wire 3  :  -0.008207201484349514\n",
      "Wire 8 x Wire 4  :  -0.004567713109156325\n",
      "Wire 8 x Wire 5  :  nan\n",
      "Wire 8 x Wire 6  :  -0.00798217072848885\n",
      "Wire 8 x Wire 7  :  -0.002192024696497249\n",
      "Wire 9 x T_вх  :  0.002639092250638162\n",
      "Wire 9 x dt  :  0.006248265120377798\n",
      "Wire 9 x E  :  -0.012580513987792285\n",
      "Wire 9 x n  :  -0.024671488320942618\n",
      "Wire 9 x Bulk 1  :  0.011012720665429434\n",
      "Wire 9 x Bulk 2  :  -0.00685679952294597\n",
      "Wire 9 x Bulk 3  :  0.004668066334561844\n",
      "Wire 9 x Bulk 4  :  -0.05823615231854703\n",
      "Wire 9 x Bulk 5  :  -0.0108403304134668\n",
      "Wire 9 x Bulk 6  :  -0.013331552693740315\n",
      "Wire 9 x Bulk 7  :  -0.006011015428284415\n",
      "Wire 9 x Bulk 8  :  -0.001905938838900949\n",
      "Wire 9 x Bulk 9  :  -0.006577351037076473\n",
      "Wire 9 x Bulk 10  :  -0.02221968767264143\n",
      "Wire 9 x Bulk 11  :  -0.0173429836317957\n",
      "Wire 9 x Bulk 12  :  -0.04235697482145709\n",
      "Wire 9 x Bulk 13  :  -0.0068971335125765565\n",
      "Wire 9 x Bulk 14  :  0.018483021307778753\n",
      "Wire 9 x Bulk 15  :  -0.03712920743589128\n",
      "Wire 9 x Wire 1  :  0.02113814826178803\n",
      "Wire 9 x Wire 2  :  0.21322344611307537\n",
      "Wire 9 x Wire 3  :  -0.010648580875660861\n",
      "Wire 9 x Wire 4  :  -0.005926461358651921\n",
      "Wire 9 x Wire 5  :  nan\n",
      "Wire 9 x Wire 6  :  -0.010356610682427086\n",
      "Wire 9 x Wire 7  :  -0.0028440817867830554\n",
      "Wire 9 x Wire 8  :  -0.00650384962941529\n",
      "Газ 1 x T_вх  :  0.0367360182037563\n",
      "Газ 1 x dt  :  0.43904133487781816\n",
      "Газ 1 x E  :  0.35447384262584813\n",
      "Газ 1 x n  :  0.4040525786089003\n",
      "Газ 1 x Bulk 1  :  0.23408894772769945\n",
      "Газ 1 x Bulk 2  :  0.2174433964725499\n",
      "Газ 1 x Bulk 3  :  0.059665001777282706\n",
      "Газ 1 x Bulk 4  :  0.017531739437491513\n",
      "Газ 1 x Bulk 5  :  0.08686904714011084\n",
      "Газ 1 x Bulk 6  :  0.13957379024103547\n",
      "Газ 1 x Bulk 7  :  0.1983381386887521\n",
      "Газ 1 x Bulk 8  :  0.004118511292106046\n",
      "Газ 1 x Bulk 9  :  0.11657590388791544\n",
      "Газ 1 x Bulk 10  :  -0.008633694173740714\n",
      "Газ 1 x Bulk 11  :  0.0419450328815432\n",
      "Газ 1 x Bulk 12  :  0.216969464384682\n",
      "Газ 1 x Bulk 13  :  0.049032768472267875\n",
      "Газ 1 x Bulk 14  :  0.26828442249564\n",
      "Газ 1 x Bulk 15  :  0.043032675045668455\n",
      "Газ 1 x Wire 1  :  0.11819185565524193\n",
      "Газ 1 x Wire 2  :  0.10465257115375125\n",
      "Газ 1 x Wire 3  :  0.10335558739312402\n",
      "Газ 1 x Wire 4  :  0.1454239226975059\n",
      "Газ 1 x Wire 5  :  nan\n",
      "Газ 1 x Wire 6  :  0.1080654378107621\n",
      "Газ 1 x Wire 7  :  0.07896084773262223\n",
      "Газ 1 x Wire 8  :  0.11806763686515843\n",
      "Газ 1 x Wire 9  :  0.01402734367479695\n",
      "T_вых x T_вх  :  0.30188233196167763\n",
      "T_вых x dt  :  0.09612550000239524\n",
      "T_вых x E  :  0.2578623524608949\n",
      "T_вых x n  :  0.18027609674146752\n",
      "T_вых x Bulk 1  :  -0.07542812808580744\n",
      "T_вых x Bulk 2  :  -0.0825433714991027\n",
      "T_вых x Bulk 3  :  -0.03715642380393881\n",
      "T_вых x Bulk 4  :  0.18781679923819525\n",
      "T_вых x Bulk 5  :  -0.028445697984436757\n",
      "T_вых x Bulk 6  :  -0.18090643598558717\n",
      "T_вых x Bulk 7  :  -0.10737070970006109\n",
      "T_вых x Bulk 8  :  -0.02661326148159918\n",
      "T_вых x Bulk 9  :  -0.016129605870101572\n",
      "T_вых x Bulk 10  :  0.06122748847706476\n",
      "T_вых x Bulk 11  :  -0.1149362041489033\n",
      "T_вых x Bulk 12  :  0.2668046854260706\n",
      "T_вых x Bulk 13  :  -0.01097388771449264\n",
      "T_вых x Bulk 14  :  0.11489313661806792\n",
      "T_вых x Bulk 15  :  0.265772272938126\n",
      "T_вых x Wire 1  :  0.31748827577136035\n",
      "T_вых x Wire 2  :  -0.2072418779604256\n",
      "T_вых x Wire 3  :  -0.04763551326878322\n",
      "T_вых x Wire 4  :  -0.1598394814902684\n",
      "T_вых x Wire 5  :  nan\n",
      "T_вых x Wire 6  :  -0.08414928646979038\n",
      "T_вых x Wire 7  :  -0.13734929081884195\n",
      "T_вых x Wire 8  :  -0.010817678047671269\n",
      "T_вых x Wire 9  :  -0.02756112545218569\n",
      "T_вых x Газ 1  :  0.059079149602458476\n"
     ]
    }
   ],
   "source": [
    "c = ['T_вх', 'dt', 'E', 'n', 'Bulk 1', 'Bulk 2', 'Bulk 3', 'Bulk 4', 'Bulk 5', 'Bulk 6',\n",
    "       'Bulk 7', 'Bulk 8', 'Bulk 9', 'Bulk 10', 'Bulk 11', 'Bulk 12',\n",
    "       'Bulk 13', 'Bulk 14', 'Bulk 15', 'Wire 1', 'Wire 2', 'Wire 3', 'Wire 4',\n",
    "       'Wire 5', 'Wire 6', 'Wire 7', 'Wire 8', 'Wire 9', 'Газ 1', 'T_вых']\n",
    "\n",
    "for (i,j) in [(i,j) for i in range(len(c)) for j in range(len(c))]:\n",
    "    if (i <= j):\n",
    "        continue\n",
    "    print(c[i], 'x', c[j], ' : ', data[c[i]].corr(data[c[j]]))\n",
    "    if (abs(data[c[i]].corr(data[c[j]])) > 0.8):\n",
    "        print('---')"
   ]
  },
  {
   "cell_type": "markdown",
   "id": "a729a4a1",
   "metadata": {},
   "source": [
    "Поскольку `Wire 8` и `Bulk 9` имеют высокую корреляцию, удалим один из них, допустим `Wire 8`. В дальнейшем все вывод, которые мы будем делать о `Bulk 9` также будем относить и к `Wire 8`. Кроме того можно удалить `Wire 5`, поскольку этот столбец является пустым."
   ]
  },
  {
   "cell_type": "code",
   "execution_count": 84,
   "id": "8864d78c",
   "metadata": {},
   "outputs": [],
   "source": [
    "data = data.drop(['Wire 8', 'Wire 5'], axis=1)"
   ]
  },
  {
   "cell_type": "markdown",
   "id": "6f4798bd",
   "metadata": {},
   "source": [
    "Также можно посмотреть на распределения величин в получившейся таблице."
   ]
  },
  {
   "cell_type": "code",
   "execution_count": 85,
   "id": "d095d36c",
   "metadata": {},
   "outputs": [
    {
     "data": {
      "text/plain": [
       "Text(0.5, 0, 'температура, °C')"
      ]
     },
     "execution_count": 85,
     "metadata": {},
     "output_type": "execute_result"
    },
    {
     "data": {
      "image/png": "[encoded data removed]",
      "text/plain": [
       "<Figure size 720x432 with 1 Axes>"
      ]
     },
     "metadata": {
      "needs_background": "light"
     },
     "output_type": "display_data"
    }
   ],
   "source": [
    "data['T_вх'].hist(\n",
    "    bins=40,\n",
    "    figsize=(10,6),\n",
    "    grid=False\n",
    ")\n",
    "plt.axvline(x=data['T_вх'].median(), color='#000000', ls='--', linewidth=1)\n",
    "plt.title('Распределение входящей темературы')\n",
    "plt.ylabel('количество партий, шт', style='italic')\n",
    "plt.xlabel('температура, °C', style='italic')"
   ]
  },
  {
   "cell_type": "code",
   "execution_count": 86,
   "id": "17fd62d3",
   "metadata": {},
   "outputs": [
    {
     "data": {
      "text/plain": [
       "Text(0.5, 0, 'время, с')"
      ]
     },
     "execution_count": 86,
     "metadata": {},
     "output_type": "execute_result"
    },
    {
     "data": {
      "image/png": "[encoded data removed]",
      "text/plain": [
       "<Figure size 720x432 with 1 Axes>"
      ]
     },
     "metadata": {
      "needs_background": "light"
     },
     "output_type": "display_data"
    }
   ],
   "source": [
    "data['dt'].hist(\n",
    "    bins=40,\n",
    "    figsize=(10,6),\n",
    "    grid=False\n",
    ")\n",
    "plt.axvline(x=data['dt'].median(), color='#000000', ls='--', linewidth=1)\n",
    "plt.title('Распределение времени простоя стали в ковше')\n",
    "plt.ylabel('количество партий, шт', style='italic')\n",
    "plt.xlabel('время, с', style='italic')"
   ]
  },
  {
   "cell_type": "code",
   "execution_count": 88,
   "id": "430a4c13",
   "metadata": {},
   "outputs": [
    {
     "data": {
      "text/plain": [
       "Text(0.5, 0, 'энергия, Дж')"
      ]
     },
     "execution_count": 88,
     "metadata": {},
     "output_type": "execute_result"
    },
    {
     "data": {
      "image/png": "[encoded data removed]",
      "text/plain": [
       "<Figure size 720x432 with 1 Axes>"
      ]
     },
     "metadata": {
      "needs_background": "light"
     },
     "output_type": "display_data"
    }
   ],
   "source": [
    "data['E'].hist(\n",
    "    bins=40,\n",
    "    figsize=(10,6),\n",
    "    grid=False\n",
    ")\n",
    "plt.axvline(x=data['E'].median(), color='#000000', ls='--', linewidth=1)\n",
    "plt.title('Распределение суммарной энергии, переданной от дуги в сталь')\n",
    "plt.ylabel('количество партий, шт', style='italic')\n",
    "plt.xlabel('энергия, Дж', style='italic')"
   ]
  },
  {
   "cell_type": "code",
   "execution_count": 89,
   "id": "a414a0c8",
   "metadata": {},
   "outputs": [
    {
     "data": {
      "text/plain": [
       "Text(0.5, 0, 'количество, шт')"
      ]
     },
     "execution_count": 89,
     "metadata": {},
     "output_type": "execute_result"
    },
    {
     "data": {
      "image/png": "[encoded data removed]",
      "text/plain": [
       "<Figure size 720x432 with 1 Axes>"
      ]
     },
     "metadata": {
      "needs_background": "light"
     },
     "output_type": "display_data"
    }
   ],
   "source": [
    "data['n'].hist(\n",
    "    bins=40,\n",
    "    figsize=(10,6),\n",
    "    grid=False\n",
    ")\n",
    "plt.axvline(x=data['n'].median(), color='#000000', ls='--', linewidth=1)\n",
    "plt.title('Распределение количества передачи энергии от дуги в сплав')\n",
    "plt.ylabel('количество партий, шт', style='italic')\n",
    "plt.xlabel('количество, шт', style='italic')"
   ]
  },
  {
   "cell_type": "code",
   "execution_count": 90,
   "id": "c99101c3",
   "metadata": {},
   "outputs": [
    {
     "data": {
      "text/plain": [
       "Text(0.5, 0, 'температура, °C')"
      ]
     },
     "execution_count": 90,
     "metadata": {},
     "output_type": "execute_result"
    },
    {
     "data": {
      "image/png": "[encoded data removed]",
      "text/plain": [
       "<Figure size 720x432 with 1 Axes>"
      ]
     },
     "metadata": {
      "needs_background": "light"
     },
     "output_type": "display_data"
    }
   ],
   "source": [
    "data['T_вых'].hist(\n",
    "    bins=40,\n",
    "    figsize=(10,6),\n",
    "    grid=False\n",
    ")\n",
    "plt.axvline(x=data['T_вых'].median(), color='#000000', ls='--', linewidth=1)\n",
    "plt.title('Распределение выходной темературы')\n",
    "plt.ylabel('количество партий, шт', style='italic')\n",
    "plt.xlabel('температура, °C', style='italic')"
   ]
  },
  {
   "cell_type": "markdown",
   "id": "784e09db",
   "metadata": {},
   "source": [
    "## Подготовка"
   ]
  },
  {
   "cell_type": "markdown",
   "id": "3d5ff300",
   "metadata": {},
   "source": [
    "Отделим целевые признаки от нецелевых и разделим исходные данные на обучающую, валидационную и тестовую выборки в соотношение (2:1:1) (50%:25%:25%)."
   ]
  },
  {
   "cell_type": "code",
   "execution_count": 91,
   "id": "8f55bb00",
   "metadata": {},
   "outputs": [],
   "source": [
    "x = data.drop('T_вых', axis=1)\n",
    "y = data['T_вых']\n",
    "\n",
    "random_state = 171123 # random_state\n",
    "\n",
    "# разбиение признаков\n",
    "x_train, x_valid, x_test = \\\n",
    "              np.split(x.sample(frac=1, random_state=random_state), \n",
    "                       [int(.5 * len(x)), int(.75 * len(x))])\n",
    "\n",
    "# разбиение целевого признака\n",
    "y_train, y_valid, y_test = \\\n",
    "              np.split(y.sample(frac=1, random_state=random_state), \n",
    "                       [int(.5 * len(y)), int(.75 * len(y))])"
   ]
  },
  {
   "cell_type": "markdown",
   "id": "0a70a57e",
   "metadata": {},
   "source": [
    "Поскольку обучение моделей обычно требует значительных ресурсов, удалим все данные, непредназначенные для этой задачи."
   ]
  },
  {
   "cell_type": "code",
   "execution_count": 92,
   "id": "4cf16625",
   "metadata": {},
   "outputs": [],
   "source": [
    "del data\n",
    "del data_e\n",
    "del data_mv\n",
    "del data_mt\n",
    "del data_g\n",
    "del data_t\n",
    "del data_wv\n",
    "del data_wt"
   ]
  },
  {
   "cell_type": "code",
   "execution_count": 93,
   "id": "dd35ca6f",
   "metadata": {},
   "outputs": [
    {
     "data": {
      "text/plain": [
       "((1162, 27), (581, 27), (581, 27))"
      ]
     },
     "execution_count": 93,
     "metadata": {},
     "output_type": "execute_result"
    }
   ],
   "source": [
    "x_train.shape, x_valid.shape, x_test.shape"
   ]
  },
  {
   "cell_type": "markdown",
   "id": "8ed27cfd",
   "metadata": {},
   "source": [
    "---"
   ]
  },
  {
   "cell_type": "markdown",
   "id": "654c2b0a",
   "metadata": {},
   "source": [
    "В данном разделе были подготовлены признаки и ресурсы компьютера для дальнейшего обучения.\n",
    "\n",
    "Поскольку в данном анализе нашей основной задачей является исследование влияния различных признаков на выходную температуру а не создание \"боевой\" модели, предсказывающей эту температуру в тестовой выборке мы будем использовать обработанные значения из раздела \"Данные\" в которых отсутсвуют пропуски и некорретнтые с точки зрения физики величины, несмотря на то, что в реальности эти вещи, по-видимому, могут присутсвовать в данных."
   ]
  },
  {
   "cell_type": "markdown",
   "id": "2ae8edee",
   "metadata": {},
   "source": [
    "## Обучение"
   ]
  },
  {
   "cell_type": "markdown",
   "id": "35bcf1ae",
   "metadata": {},
   "source": [
    "Обучим несколько моделей на тестовых данных и найдём среднюю абсолютную разницу между прогнозируемой выходной температурой и выходной температурой в валидационных данных. Соберём данные об обучении в таблицу для последующего анализа."
   ]
  },
  {
   "cell_type": "code",
   "execution_count": 150,
   "id": "7ad7e7ca",
   "metadata": {},
   "outputs": [],
   "source": [
    "m = pd.DataFrame(data={'model': [], 'mae': []})"
   ]
  },
  {
   "cell_type": "markdown",
   "id": "89ea972d",
   "metadata": {},
   "source": [
    "### Линейная регрессия"
   ]
  },
  {
   "cell_type": "markdown",
   "id": "d617cfdc",
   "metadata": {},
   "source": [
    "Обучим модель линейной регрессии."
   ]
  },
  {
   "cell_type": "code",
   "execution_count": 151,
   "id": "fef3f479",
   "metadata": {},
   "outputs": [
    {
     "name": "stdout",
     "output_type": "stream",
     "text": [
      "MAE модели LinearRegression: 6.594382266836903\n"
     ]
    }
   ],
   "source": [
    "model = LinearRegression()\n",
    "\n",
    "results = cross_val_score(model,\n",
    "                          pd.concat([x_train, x_valid]),\n",
    "                          pd.concat([y_train, y_valid]),\n",
    "                          cv=8,\n",
    "                          scoring='neg_mean_absolute_error'\n",
    "                         )\n",
    "\n",
    "m.loc[len(m)] = [str(model) + ' cross_val_score(cv=8)', -results.mean()]\n",
    "\n",
    "print('MAE модели LinearRegression:', -results.mean())"
   ]
  },
  {
   "cell_type": "markdown",
   "id": "969c6b80",
   "metadata": {},
   "source": [
    "### Случайный лес"
   ]
  },
  {
   "cell_type": "markdown",
   "id": "66c84038",
   "metadata": {},
   "source": [
    "Обучим модель случайного леса, попробуем подобрать некоторые параметры в данной модели с помощью цикла."
   ]
  },
  {
   "cell_type": "code",
   "execution_count": 152,
   "id": "97b07c1e",
   "metadata": {},
   "outputs": [
    {
     "name": "stdout",
     "output_type": "stream",
     "text": [
      "120 8 2  :  0.5743660926818848 c\n",
      "mae: 7.075098950720674 \n",
      "\n",
      "120 8 3  :  0.5823397636413574 c\n",
      "mae: 7.0901370025247585 \n",
      "\n",
      "120 8 4  :  0.568152666091919 c\n",
      "mae: 7.0737921777388895 \n",
      "\n",
      "120 8 5  :  0.5477466583251953 c\n",
      "mae: 7.082146916734206 \n",
      "\n",
      "120 9 2  :  0.6173741817474365 c\n",
      "mae: 7.084150182578299 \n",
      "\n",
      "120 9 3  :  0.6085331439971924 c\n",
      "mae: 7.108436574454476 \n",
      "\n",
      "120 9 4  :  0.5817775726318359 c\n",
      "mae: 7.070897030876912 \n",
      "\n",
      "120 9 5  :  0.5957622528076172 c\n",
      "mae: 7.097213386783502 \n",
      "\n",
      "120 10 2  :  0.6453287601470947 c\n",
      "mae: 7.0808783686465375 \n",
      "\n",
      "120 10 3  :  0.6233739852905273 c\n",
      "mae: 7.110635801775818 \n",
      "\n",
      "120 10 4  :  0.5959510803222656 c\n",
      "mae: 7.090898334938329 \n",
      "\n",
      "120 10 5  :  0.5873301029205322 c\n",
      "mae: 7.108447532395355 \n",
      "\n",
      "120 11 2  :  0.6853501796722412 c\n",
      "mae: 7.098816064395046 \n",
      "\n",
      "120 11 3  :  0.6495945453643799 c\n",
      "mae: 7.124107896238639 \n",
      "\n",
      "120 11 4  :  0.6129834651947021 c\n",
      "mae: 7.087276385983495 \n",
      "\n",
      "120 11 5  :  0.5904982089996338 c\n",
      "mae: 7.1065397806121275 \n",
      "\n",
      "130 8 2  :  0.6168227195739746 c\n",
      "mae: 7.068281881085005 \n",
      "\n",
      "130 8 3  :  0.5950446128845215 c\n",
      "mae: 7.081969304499743 \n",
      "\n",
      "130 8 4  :  0.5949273109436035 c\n",
      "mae: 7.061800656723342 \n",
      "\n",
      "130 8 5  :  0.5705525875091553 c\n",
      "mae: 7.064457228398401 \n",
      "\n",
      "130 9 2  :  0.6805586814880371 c\n",
      "mae: 7.076368293969161 \n",
      "\n",
      "130 9 3  :  0.6413998603820801 c\n",
      "mae: 7.094745392365585 \n",
      "\n",
      "130 9 4  :  0.6224710941314697 c\n",
      "mae: 7.056764582813983 \n",
      "\n",
      "130 9 5  :  0.6177330017089844 c\n",
      "mae: 7.077493991743718 \n",
      "\n",
      "130 10 2  :  0.6975350379943848 c\n",
      "mae: 7.076665055595532 \n",
      "\n",
      "130 10 3  :  0.6991751194000244 c\n",
      "mae: 7.0924314393462025 \n",
      "\n",
      "130 10 4  :  0.6410191059112549 c\n",
      "mae: 7.071399402364781 \n",
      "\n",
      "130 10 5  :  0.6120216846466064 c\n",
      "mae: 7.088709939356604 \n",
      "\n",
      "130 11 2  :  0.7398455142974854 c\n",
      "mae: 7.092730014874555 \n",
      "\n",
      "130 11 3  :  0.700998067855835 c\n",
      "mae: 7.103127448022316 \n",
      "\n",
      "130 11 4  :  0.6603751182556152 c\n",
      "mae: 7.070036349129258 \n",
      "\n",
      "130 11 5  :  0.65165114402771 c\n",
      "mae: 7.087822111030265 \n",
      "\n",
      "140 8 2  :  0.6608481407165527 c\n",
      "mae: 7.076929598786688 \n",
      "\n",
      "140 8 3  :  0.6410982608795166 c\n",
      "mae: 7.0812631885519215 \n",
      "\n",
      "140 8 4  :  0.629993200302124 c\n",
      "mae: 7.065468271558513 \n",
      "\n",
      "140 8 5  :  0.6346495151519775 c\n",
      "mae: 7.069059646806846 \n",
      "\n",
      "140 9 2  :  0.7022364139556885 c\n",
      "mae: 7.093364475369382 \n",
      "\n",
      "140 9 3  :  0.6902525424957275 c\n",
      "mae: 7.097250599189442 \n",
      "\n",
      "140 9 4  :  0.6722843647003174 c\n",
      "mae: 7.064065958660651 \n",
      "\n",
      "140 9 5  :  0.6424846649169922 c\n",
      "mae: 7.081412290336108 \n",
      "\n",
      "140 10 2  :  0.7498128414154053 c\n",
      "mae: 7.092128593385026 \n",
      "\n",
      "140 10 3  :  0.7250432968139648 c\n",
      "mae: 7.0988701375398096 \n",
      "\n",
      "140 10 4  :  0.6873836517333984 c\n",
      "mae: 7.075039318953673 \n",
      "\n",
      "140 10 5  :  0.6773772239685059 c\n",
      "mae: 7.092327377951908 \n",
      "\n",
      "140 11 2  :  0.78857421875 c\n",
      "mae: 7.105410540536433 \n",
      "\n",
      "140 11 3  :  0.7355203628540039 c\n",
      "mae: 7.108924207765769 \n",
      "\n",
      "140 11 4  :  0.7070980072021484 c\n",
      "mae: 7.076177050540471 \n",
      "\n",
      "140 11 5  :  0.6813993453979492 c\n",
      "mae: 7.090890786076169 \n",
      "\n",
      "MAE лучшей модели: 7.056764582813983\n"
     ]
    }
   ],
   "source": [
    "mae0 = 100\n",
    "for (i,j,k) in [(i,j,k) for i in range(120,141,10) for j in range(8,12) for k in range(2,6)]:\n",
    "    model = RandomForestRegressor(\n",
    "        random_state=random_state,\n",
    "        n_estimators=i,                      # количество деревьев\n",
    "        max_depth=j,                         # максимальная глубина\n",
    "        min_samples_leaf=k\n",
    "    )\n",
    "    \n",
    "    st = time.time()\n",
    "    model.fit(x_train,y_train)\n",
    "    predict = model.predict(x_valid)\n",
    "    te = time.time()\n",
    "\n",
    "    mae = mean_absolute_error(predict,y_valid)\n",
    "    print(i,j,k, ' : ', te - st, 'c')\n",
    "    print('mae:', mae, '\\n')\n",
    "    if (mae < mae0):\n",
    "        mae0 = mae\n",
    "        bm = model\n",
    "        t = te - st\n",
    "\n",
    "print('MAE модели RandomForestRegressor:', mae0)\n",
    "\n",
    "m.loc[len(m)] = [bm, mae0]"
   ]
  },
  {
   "cell_type": "markdown",
   "id": "64feaad9",
   "metadata": {},
   "source": [
    "### CatBoost"
   ]
  },
  {
   "cell_type": "markdown",
   "id": "c49393be",
   "metadata": {},
   "source": [
    "Используем модель `CatBoost` для обучения."
   ]
  },
  {
   "cell_type": "code",
   "execution_count": 154,
   "id": "305b67af",
   "metadata": {},
   "outputs": [
    {
     "name": "stdout",
     "output_type": "stream",
     "text": [
      "Fitting 5 folds for each of 60 candidates, totalling 300 fits\n"
     ]
    },
    {
     "name": "stderr",
     "output_type": "stream",
     "text": [
      "Custom logger is already specified. Specify more than one logger at same time is not thread safe."
     ]
    },
    {
     "name": "stdout",
     "output_type": "stream",
     "text": [
      "[CV] END .........depth=3, iterations=10, learning_rate=0.05; total time=   0.6s\n",
      "[CV] END .........depth=3, iterations=10, learning_rate=0.05; total time=   1.0s\n",
      "[CV] END .........depth=3, iterations=10, learning_rate=0.05; total time=   1.3s\n",
      "[CV] END .........depth=3, iterations=10, learning_rate=0.05; total time=   1.7s\n",
      "[CV] END .........depth=3, iterations=10, learning_rate=0.05; total time=   1.1s\n",
      "[CV] END ..........depth=3, iterations=10, learning_rate=0.1; total time=   1.9s\n",
      "[CV] END ..........depth=3, iterations=10, learning_rate=0.1; total time=   1.9s\n",
      "[CV] END ..........depth=3, iterations=10, learning_rate=0.1; total time=   1.2s\n",
      "[CV] END ..........depth=3, iterations=10, learning_rate=0.1; total time=   1.4s\n",
      "[CV] END ..........depth=3, iterations=10, learning_rate=0.1; total time=   1.1s\n",
      "[CV] END .........depth=3, iterations=10, learning_rate=0.15; total time=   1.9s\n",
      "[CV] END .........depth=3, iterations=10, learning_rate=0.15; total time=   2.0s\n",
      "[CV] END .........depth=3, iterations=10, learning_rate=0.15; total time=   1.3s\n",
      "[CV] END .........depth=3, iterations=10, learning_rate=0.15; total time=   1.4s\n",
      "[CV] END .........depth=3, iterations=10, learning_rate=0.15; total time=   1.1s\n",
      "[CV] END .........depth=3, iterations=50, learning_rate=0.05; total time=   1.2s\n",
      "[CV] END .........depth=3, iterations=50, learning_rate=0.05; total time=   0.9s\n",
      "[CV] END .........depth=3, iterations=50, learning_rate=0.05; total time=   0.7s\n",
      "[CV] END .........depth=3, iterations=50, learning_rate=0.05; total time=   0.7s\n",
      "[CV] END .........depth=3, iterations=50, learning_rate=0.05; total time=   0.6s\n",
      "[CV] END ..........depth=3, iterations=50, learning_rate=0.1; total time=   0.8s\n",
      "[CV] END ..........depth=3, iterations=50, learning_rate=0.1; total time=   1.1s\n",
      "[CV] END ..........depth=3, iterations=50, learning_rate=0.1; total time=   1.9s\n",
      "[CV] END ..........depth=3, iterations=50, learning_rate=0.1; total time=   1.8s\n",
      "[CV] END ..........depth=3, iterations=50, learning_rate=0.1; total time=   2.0s\n",
      "[CV] END .........depth=3, iterations=50, learning_rate=0.15; total time=   1.9s\n",
      "[CV] END .........depth=3, iterations=50, learning_rate=0.15; total time=   1.8s\n",
      "[CV] END .........depth=3, iterations=50, learning_rate=0.15; total time=   1.2s\n",
      "[CV] END .........depth=3, iterations=50, learning_rate=0.15; total time=   1.4s\n",
      "[CV] END .........depth=3, iterations=50, learning_rate=0.15; total time=   1.4s\n",
      "[CV] END ........depth=3, iterations=100, learning_rate=0.05; total time=   2.1s\n",
      "[CV] END ........depth=3, iterations=100, learning_rate=0.05; total time=   1.2s\n",
      "[CV] END ........depth=3, iterations=100, learning_rate=0.05; total time=   1.1s\n",
      "[CV] END ........depth=3, iterations=100, learning_rate=0.05; total time=   1.2s\n",
      "[CV] END ........depth=3, iterations=100, learning_rate=0.05; total time=   2.0s\n",
      "[CV] END .........depth=3, iterations=100, learning_rate=0.1; total time=   2.0s\n",
      "[CV] END .........depth=3, iterations=100, learning_rate=0.1; total time=   1.4s\n",
      "[CV] END .........depth=3, iterations=100, learning_rate=0.1; total time=   2.1s\n",
      "[CV] END .........depth=3, iterations=100, learning_rate=0.1; total time=   1.8s\n",
      "[CV] END .........depth=3, iterations=100, learning_rate=0.1; total time=   1.7s\n",
      "[CV] END ........depth=3, iterations=100, learning_rate=0.15; total time=   1.4s\n",
      "[CV] END ........depth=3, iterations=100, learning_rate=0.15; total time=   1.4s\n",
      "[CV] END ........depth=3, iterations=100, learning_rate=0.15; total time=   1.4s\n",
      "[CV] END ........depth=3, iterations=100, learning_rate=0.15; total time=   1.3s\n",
      "[CV] END ........depth=3, iterations=100, learning_rate=0.15; total time=   2.0s\n",
      "[CV] END ........depth=3, iterations=150, learning_rate=0.05; total time=   2.0s\n",
      "[CV] END ........depth=3, iterations=150, learning_rate=0.05; total time=   2.1s\n",
      "[CV] END ........depth=3, iterations=150, learning_rate=0.05; total time=   2.2s\n",
      "[CV] END ........depth=3, iterations=150, learning_rate=0.05; total time=   2.1s\n",
      "[CV] END ........depth=3, iterations=150, learning_rate=0.05; total time=   1.6s\n",
      "[CV] END .........depth=3, iterations=150, learning_rate=0.1; total time=   1.3s\n",
      "[CV] END .........depth=3, iterations=150, learning_rate=0.1; total time=   1.5s\n",
      "[CV] END .........depth=3, iterations=150, learning_rate=0.1; total time=   2.2s\n",
      "[CV] END .........depth=3, iterations=150, learning_rate=0.1; total time=   1.5s\n",
      "[CV] END .........depth=3, iterations=150, learning_rate=0.1; total time=   2.0s\n",
      "[CV] END ........depth=3, iterations=150, learning_rate=0.15; total time=   1.8s\n",
      "[CV] END ........depth=3, iterations=150, learning_rate=0.15; total time=   1.4s\n",
      "[CV] END ........depth=3, iterations=150, learning_rate=0.15; total time=   1.9s\n",
      "[CV] END ........depth=3, iterations=150, learning_rate=0.15; total time=   1.4s\n",
      "[CV] END ........depth=3, iterations=150, learning_rate=0.15; total time=   1.4s\n",
      "[CV] END .........depth=5, iterations=10, learning_rate=0.05; total time=   1.9s\n",
      "[CV] END .........depth=5, iterations=10, learning_rate=0.05; total time=   2.1s\n",
      "[CV] END .........depth=5, iterations=10, learning_rate=0.05; total time=   2.0s\n",
      "[CV] END .........depth=5, iterations=10, learning_rate=0.05; total time=   1.2s\n",
      "[CV] END .........depth=5, iterations=10, learning_rate=0.05; total time=   1.6s\n",
      "[CV] END ..........depth=5, iterations=10, learning_rate=0.1; total time=   2.9s\n",
      "[CV] END ..........depth=5, iterations=10, learning_rate=0.1; total time=   2.2s\n",
      "[CV] END ..........depth=5, iterations=10, learning_rate=0.1; total time=   2.0s\n",
      "[CV] END ..........depth=5, iterations=10, learning_rate=0.1; total time=   2.0s\n",
      "[CV] END ..........depth=5, iterations=10, learning_rate=0.1; total time=   1.4s\n",
      "[CV] END .........depth=5, iterations=10, learning_rate=0.15; total time=   1.9s\n",
      "[CV] END .........depth=5, iterations=10, learning_rate=0.15; total time=   1.5s\n",
      "[CV] END .........depth=5, iterations=10, learning_rate=0.15; total time=   2.6s\n",
      "[CV] END .........depth=5, iterations=10, learning_rate=0.15; total time=   1.3s\n",
      "[CV] END .........depth=5, iterations=10, learning_rate=0.15; total time=   1.4s\n",
      "[CV] END .........depth=5, iterations=50, learning_rate=0.05; total time=   1.1s\n",
      "[CV] END .........depth=5, iterations=50, learning_rate=0.05; total time=   2.1s\n",
      "[CV] END .........depth=5, iterations=50, learning_rate=0.05; total time=   1.2s\n",
      "[CV] END .........depth=5, iterations=50, learning_rate=0.05; total time=   2.2s\n",
      "[CV] END .........depth=5, iterations=50, learning_rate=0.05; total time=   1.8s\n",
      "[CV] END ..........depth=5, iterations=50, learning_rate=0.1; total time=   2.0s\n",
      "[CV] END ..........depth=5, iterations=50, learning_rate=0.1; total time=   2.2s\n",
      "[CV] END ..........depth=5, iterations=50, learning_rate=0.1; total time=   2.1s\n",
      "[CV] END ..........depth=5, iterations=50, learning_rate=0.1; total time=   2.0s\n",
      "[CV] END ..........depth=5, iterations=50, learning_rate=0.1; total time=   2.0s\n",
      "[CV] END .........depth=5, iterations=50, learning_rate=0.15; total time=   1.3s\n",
      "[CV] END .........depth=5, iterations=50, learning_rate=0.15; total time=   2.0s\n",
      "[CV] END .........depth=5, iterations=50, learning_rate=0.15; total time=   1.9s\n",
      "[CV] END .........depth=5, iterations=50, learning_rate=0.15; total time=   1.4s\n",
      "[CV] END .........depth=5, iterations=50, learning_rate=0.15; total time=   2.0s\n",
      "[CV] END ........depth=5, iterations=100, learning_rate=0.05; total time=   1.4s\n",
      "[CV] END ........depth=5, iterations=100, learning_rate=0.05; total time=   2.2s\n",
      "[CV] END ........depth=5, iterations=100, learning_rate=0.05; total time=   1.9s\n",
      "[CV] END ........depth=5, iterations=100, learning_rate=0.05; total time=   2.4s\n",
      "[CV] END ........depth=5, iterations=100, learning_rate=0.05; total time=   1.5s\n",
      "[CV] END .........depth=5, iterations=100, learning_rate=0.1; total time=   1.5s\n",
      "[CV] END .........depth=5, iterations=100, learning_rate=0.1; total time=   2.2s\n",
      "[CV] END .........depth=5, iterations=100, learning_rate=0.1; total time=   2.4s\n",
      "[CV] END .........depth=5, iterations=100, learning_rate=0.1; total time=   1.5s\n",
      "[CV] END .........depth=5, iterations=100, learning_rate=0.1; total time=   1.4s\n",
      "[CV] END ........depth=5, iterations=100, learning_rate=0.15; total time=   2.2s\n",
      "[CV] END ........depth=5, iterations=100, learning_rate=0.15; total time=   2.1s\n",
      "[CV] END ........depth=5, iterations=100, learning_rate=0.15; total time=   1.3s\n",
      "[CV] END ........depth=5, iterations=100, learning_rate=0.15; total time=   1.4s\n",
      "[CV] END ........depth=5, iterations=100, learning_rate=0.15; total time=   2.2s\n",
      "[CV] END ........depth=5, iterations=150, learning_rate=0.05; total time=   2.1s\n",
      "[CV] END ........depth=5, iterations=150, learning_rate=0.05; total time=   1.4s\n",
      "[CV] END ........depth=5, iterations=150, learning_rate=0.05; total time=   1.4s\n",
      "[CV] END ........depth=5, iterations=150, learning_rate=0.05; total time=   1.7s\n",
      "[CV] END ........depth=5, iterations=150, learning_rate=0.05; total time=   2.0s\n",
      "[CV] END .........depth=5, iterations=150, learning_rate=0.1; total time=   1.3s\n",
      "[CV] END .........depth=5, iterations=150, learning_rate=0.1; total time=   1.3s\n",
      "[CV] END .........depth=5, iterations=150, learning_rate=0.1; total time=   1.5s\n",
      "[CV] END .........depth=5, iterations=150, learning_rate=0.1; total time=   1.4s\n",
      "[CV] END .........depth=5, iterations=150, learning_rate=0.1; total time=   1.1s\n",
      "[CV] END ........depth=5, iterations=150, learning_rate=0.15; total time=   1.2s\n",
      "[CV] END ........depth=5, iterations=150, learning_rate=0.15; total time=   0.9s\n",
      "[CV] END ........depth=5, iterations=150, learning_rate=0.15; total time=   0.9s\n",
      "[CV] END ........depth=5, iterations=150, learning_rate=0.15; total time=   0.9s\n",
      "[CV] END ........depth=5, iterations=150, learning_rate=0.15; total time=   0.8s\n",
      "[CV] END .........depth=6, iterations=10, learning_rate=0.05; total time=   0.6s\n",
      "[CV] END .........depth=6, iterations=10, learning_rate=0.05; total time=   0.6s\n",
      "[CV] END .........depth=6, iterations=10, learning_rate=0.05; total time=   0.7s\n",
      "[CV] END .........depth=6, iterations=10, learning_rate=0.05; total time=   0.6s\n",
      "[CV] END .........depth=6, iterations=10, learning_rate=0.05; total time=   0.6s\n",
      "[CV] END ..........depth=6, iterations=10, learning_rate=0.1; total time=   0.6s\n",
      "[CV] END ..........depth=6, iterations=10, learning_rate=0.1; total time=   0.7s\n",
      "[CV] END ..........depth=6, iterations=10, learning_rate=0.1; total time=   0.6s\n",
      "[CV] END ..........depth=6, iterations=10, learning_rate=0.1; total time=   0.6s\n",
      "[CV] END ..........depth=6, iterations=10, learning_rate=0.1; total time=   0.5s\n",
      "[CV] END .........depth=6, iterations=10, learning_rate=0.15; total time=   0.7s\n",
      "[CV] END .........depth=6, iterations=10, learning_rate=0.15; total time=   0.7s\n",
      "[CV] END .........depth=6, iterations=10, learning_rate=0.15; total time=   0.6s\n",
      "[CV] END .........depth=6, iterations=10, learning_rate=0.15; total time=   0.6s\n",
      "[CV] END .........depth=6, iterations=10, learning_rate=0.15; total time=   0.6s\n",
      "[CV] END .........depth=6, iterations=50, learning_rate=0.05; total time=   0.6s\n",
      "[CV] END .........depth=6, iterations=50, learning_rate=0.05; total time=   0.7s\n",
      "[CV] END .........depth=6, iterations=50, learning_rate=0.05; total time=   0.9s\n",
      "[CV] END .........depth=6, iterations=50, learning_rate=0.05; total time=   0.7s\n",
      "[CV] END .........depth=6, iterations=50, learning_rate=0.05; total time=   0.6s\n",
      "[CV] END ..........depth=6, iterations=50, learning_rate=0.1; total time=   0.7s\n",
      "[CV] END ..........depth=6, iterations=50, learning_rate=0.1; total time=   0.7s\n",
      "[CV] END ..........depth=6, iterations=50, learning_rate=0.1; total time=   0.7s\n",
      "[CV] END ..........depth=6, iterations=50, learning_rate=0.1; total time=   0.7s\n",
      "[CV] END ..........depth=6, iterations=50, learning_rate=0.1; total time=   0.8s\n",
      "[CV] END .........depth=6, iterations=50, learning_rate=0.15; total time=   0.8s\n",
      "[CV] END .........depth=6, iterations=50, learning_rate=0.15; total time=   0.9s\n",
      "[CV] END .........depth=6, iterations=50, learning_rate=0.15; total time=   0.7s\n",
      "[CV] END .........depth=6, iterations=50, learning_rate=0.15; total time=   0.8s\n",
      "[CV] END .........depth=6, iterations=50, learning_rate=0.15; total time=   0.8s\n",
      "[CV] END ........depth=6, iterations=100, learning_rate=0.05; total time=   1.1s\n",
      "[CV] END ........depth=6, iterations=100, learning_rate=0.05; total time=   0.8s\n",
      "[CV] END ........depth=6, iterations=100, learning_rate=0.05; total time=   0.9s\n",
      "[CV] END ........depth=6, iterations=100, learning_rate=0.05; total time=   1.0s\n",
      "[CV] END ........depth=6, iterations=100, learning_rate=0.05; total time=   0.9s\n",
      "[CV] END .........depth=6, iterations=100, learning_rate=0.1; total time=   0.9s\n",
      "[CV] END .........depth=6, iterations=100, learning_rate=0.1; total time=   0.9s\n",
      "[CV] END .........depth=6, iterations=100, learning_rate=0.1; total time=   0.9s\n",
      "[CV] END .........depth=6, iterations=100, learning_rate=0.1; total time=   0.9s\n",
      "[CV] END .........depth=6, iterations=100, learning_rate=0.1; total time=   0.9s\n",
      "[CV] END ........depth=6, iterations=100, learning_rate=0.15; total time=   1.0s\n",
      "[CV] END ........depth=6, iterations=100, learning_rate=0.15; total time=   0.9s\n",
      "[CV] END ........depth=6, iterations=100, learning_rate=0.15; total time=   1.0s\n",
      "[CV] END ........depth=6, iterations=100, learning_rate=0.15; total time=   1.0s\n",
      "[CV] END ........depth=6, iterations=100, learning_rate=0.15; total time=   1.0s\n",
      "[CV] END ........depth=6, iterations=150, learning_rate=0.05; total time=   1.1s\n",
      "[CV] END ........depth=6, iterations=150, learning_rate=0.05; total time=   1.1s\n",
      "[CV] END ........depth=6, iterations=150, learning_rate=0.05; total time=   1.1s\n",
      "[CV] END ........depth=6, iterations=150, learning_rate=0.05; total time=   1.1s\n",
      "[CV] END ........depth=6, iterations=150, learning_rate=0.05; total time=   1.2s\n",
      "[CV] END .........depth=6, iterations=150, learning_rate=0.1; total time=   1.1s\n",
      "[CV] END .........depth=6, iterations=150, learning_rate=0.1; total time=   1.1s\n",
      "[CV] END .........depth=6, iterations=150, learning_rate=0.1; total time=   1.0s\n",
      "[CV] END .........depth=6, iterations=150, learning_rate=0.1; total time=   1.3s\n",
      "[CV] END .........depth=6, iterations=150, learning_rate=0.1; total time=   1.2s\n",
      "[CV] END ........depth=6, iterations=150, learning_rate=0.15; total time=   1.1s\n",
      "[CV] END ........depth=6, iterations=150, learning_rate=0.15; total time=   1.1s\n",
      "[CV] END ........depth=6, iterations=150, learning_rate=0.15; total time=   1.1s\n",
      "[CV] END ........depth=6, iterations=150, learning_rate=0.15; total time=   1.1s\n",
      "[CV] END ........depth=6, iterations=150, learning_rate=0.15; total time=   2.2s\n",
      "[CV] END .........depth=7, iterations=10, learning_rate=0.05; total time=   0.7s\n",
      "[CV] END .........depth=7, iterations=10, learning_rate=0.05; total time=   0.6s\n",
      "[CV] END .........depth=7, iterations=10, learning_rate=0.05; total time=   0.7s\n",
      "[CV] END .........depth=7, iterations=10, learning_rate=0.05; total time=   0.8s\n",
      "[CV] END .........depth=7, iterations=10, learning_rate=0.05; total time=   0.7s\n",
      "[CV] END ..........depth=7, iterations=10, learning_rate=0.1; total time=   0.6s\n",
      "[CV] END ..........depth=7, iterations=10, learning_rate=0.1; total time=   0.6s\n",
      "[CV] END ..........depth=7, iterations=10, learning_rate=0.1; total time=   0.5s\n",
      "[CV] END ..........depth=7, iterations=10, learning_rate=0.1; total time=   0.7s\n",
      "[CV] END ..........depth=7, iterations=10, learning_rate=0.1; total time=   0.6s\n",
      "[CV] END .........depth=7, iterations=10, learning_rate=0.15; total time=   0.7s\n",
      "[CV] END .........depth=7, iterations=10, learning_rate=0.15; total time=   0.6s\n",
      "[CV] END .........depth=7, iterations=10, learning_rate=0.15; total time=   0.7s\n",
      "[CV] END .........depth=7, iterations=10, learning_rate=0.15; total time=   0.5s\n",
      "[CV] END .........depth=7, iterations=10, learning_rate=0.15; total time=   0.7s\n",
      "[CV] END .........depth=7, iterations=50, learning_rate=0.05; total time=   0.8s\n",
      "[CV] END .........depth=7, iterations=50, learning_rate=0.05; total time=   0.9s\n",
      "[CV] END .........depth=7, iterations=50, learning_rate=0.05; total time=   0.8s\n",
      "[CV] END .........depth=7, iterations=50, learning_rate=0.05; total time=   0.8s\n",
      "[CV] END .........depth=7, iterations=50, learning_rate=0.05; total time=   0.8s\n",
      "[CV] END ..........depth=7, iterations=50, learning_rate=0.1; total time=   0.8s\n",
      "[CV] END ..........depth=7, iterations=50, learning_rate=0.1; total time=   2.3s\n",
      "[CV] END ..........depth=7, iterations=50, learning_rate=0.1; total time=   0.8s\n",
      "[CV] END ..........depth=7, iterations=50, learning_rate=0.1; total time=   0.9s\n",
      "[CV] END ..........depth=7, iterations=50, learning_rate=0.1; total time=   0.8s\n",
      "[CV] END .........depth=7, iterations=50, learning_rate=0.15; total time=   0.8s\n",
      "[CV] END .........depth=7, iterations=50, learning_rate=0.15; total time=   0.9s\n",
      "[CV] END .........depth=7, iterations=50, learning_rate=0.15; total time=   1.0s\n",
      "[CV] END .........depth=7, iterations=50, learning_rate=0.15; total time=   0.8s\n",
      "[CV] END .........depth=7, iterations=50, learning_rate=0.15; total time=   0.8s\n",
      "[CV] END ........depth=7, iterations=100, learning_rate=0.05; total time=   1.0s\n",
      "[CV] END ........depth=7, iterations=100, learning_rate=0.05; total time=   1.0s\n",
      "[CV] END ........depth=7, iterations=100, learning_rate=0.05; total time=   1.1s\n",
      "[CV] END ........depth=7, iterations=100, learning_rate=0.05; total time=   1.2s\n",
      "[CV] END ........depth=7, iterations=100, learning_rate=0.05; total time=   1.0s\n",
      "[CV] END .........depth=7, iterations=100, learning_rate=0.1; total time=   1.2s\n",
      "[CV] END .........depth=7, iterations=100, learning_rate=0.1; total time=   1.1s\n",
      "[CV] END .........depth=7, iterations=100, learning_rate=0.1; total time=   1.4s\n",
      "[CV] END .........depth=7, iterations=100, learning_rate=0.1; total time=   1.3s\n",
      "[CV] END .........depth=7, iterations=100, learning_rate=0.1; total time=   1.1s\n",
      "[CV] END ........depth=7, iterations=100, learning_rate=0.15; total time=   1.2s\n",
      "[CV] END ........depth=7, iterations=100, learning_rate=0.15; total time=   1.2s\n",
      "[CV] END ........depth=7, iterations=100, learning_rate=0.15; total time=   1.1s\n",
      "[CV] END ........depth=7, iterations=100, learning_rate=0.15; total time=   1.3s\n",
      "[CV] END ........depth=7, iterations=100, learning_rate=0.15; total time=   1.1s\n",
      "[CV] END ........depth=7, iterations=150, learning_rate=0.05; total time=   1.4s\n",
      "[CV] END ........depth=7, iterations=150, learning_rate=0.05; total time=   1.5s\n",
      "[CV] END ........depth=7, iterations=150, learning_rate=0.05; total time=   1.3s\n",
      "[CV] END ........depth=7, iterations=150, learning_rate=0.05; total time=   1.4s\n",
      "[CV] END ........depth=7, iterations=150, learning_rate=0.05; total time=   1.4s\n",
      "[CV] END .........depth=7, iterations=150, learning_rate=0.1; total time=   1.3s\n",
      "[CV] END .........depth=7, iterations=150, learning_rate=0.1; total time=   1.4s\n",
      "[CV] END .........depth=7, iterations=150, learning_rate=0.1; total time=   1.4s\n",
      "[CV] END .........depth=7, iterations=150, learning_rate=0.1; total time=   1.4s\n",
      "[CV] END .........depth=7, iterations=150, learning_rate=0.1; total time=   1.3s\n",
      "[CV] END ........depth=7, iterations=150, learning_rate=0.15; total time=   1.3s\n",
      "[CV] END ........depth=7, iterations=150, learning_rate=0.15; total time=   1.3s\n",
      "[CV] END ........depth=7, iterations=150, learning_rate=0.15; total time=   1.3s\n",
      "[CV] END ........depth=7, iterations=150, learning_rate=0.15; total time=   1.7s\n",
      "[CV] END ........depth=7, iterations=150, learning_rate=0.15; total time=   1.6s\n",
      "[CV] END .........depth=9, iterations=10, learning_rate=0.05; total time=   0.9s\n",
      "[CV] END .........depth=9, iterations=10, learning_rate=0.05; total time=   0.7s\n",
      "[CV] END .........depth=9, iterations=10, learning_rate=0.05; total time=   0.8s\n",
      "[CV] END .........depth=9, iterations=10, learning_rate=0.05; total time=   0.8s\n",
      "[CV] END .........depth=9, iterations=10, learning_rate=0.05; total time=   0.9s\n",
      "[CV] END ..........depth=9, iterations=10, learning_rate=0.1; total time=   0.8s\n",
      "[CV] END ..........depth=9, iterations=10, learning_rate=0.1; total time=   0.7s\n",
      "[CV] END ..........depth=9, iterations=10, learning_rate=0.1; total time=   0.8s\n",
      "[CV] END ..........depth=9, iterations=10, learning_rate=0.1; total time=   0.8s\n",
      "[CV] END ..........depth=9, iterations=10, learning_rate=0.1; total time=   0.9s\n",
      "[CV] END .........depth=9, iterations=10, learning_rate=0.15; total time=   1.1s\n",
      "[CV] END .........depth=9, iterations=10, learning_rate=0.15; total time=   0.9s\n",
      "[CV] END .........depth=9, iterations=10, learning_rate=0.15; total time=   0.8s\n",
      "[CV] END .........depth=9, iterations=10, learning_rate=0.15; total time=   0.8s\n",
      "[CV] END .........depth=9, iterations=10, learning_rate=0.15; total time=   0.9s\n",
      "[CV] END .........depth=9, iterations=50, learning_rate=0.05; total time=   1.5s\n",
      "[CV] END .........depth=9, iterations=50, learning_rate=0.05; total time=   1.5s\n",
      "[CV] END .........depth=9, iterations=50, learning_rate=0.05; total time=   1.5s\n",
      "[CV] END .........depth=9, iterations=50, learning_rate=0.05; total time=   1.4s\n",
      "[CV] END .........depth=9, iterations=50, learning_rate=0.05; total time=   1.6s\n",
      "[CV] END ..........depth=9, iterations=50, learning_rate=0.1; total time=   1.5s\n",
      "[CV] END ..........depth=9, iterations=50, learning_rate=0.1; total time=   1.4s\n",
      "[CV] END ..........depth=9, iterations=50, learning_rate=0.1; total time=   1.4s\n",
      "[CV] END ..........depth=9, iterations=50, learning_rate=0.1; total time=   1.7s\n",
      "[CV] END ..........depth=9, iterations=50, learning_rate=0.1; total time=   1.4s\n",
      "[CV] END .........depth=9, iterations=50, learning_rate=0.15; total time=   1.5s\n",
      "[CV] END .........depth=9, iterations=50, learning_rate=0.15; total time=   1.7s\n",
      "[CV] END .........depth=9, iterations=50, learning_rate=0.15; total time=   1.5s\n",
      "[CV] END .........depth=9, iterations=50, learning_rate=0.15; total time=   1.5s\n",
      "[CV] END .........depth=9, iterations=50, learning_rate=0.15; total time=   1.5s\n",
      "[CV] END ........depth=9, iterations=100, learning_rate=0.05; total time=   2.4s\n",
      "[CV] END ........depth=9, iterations=100, learning_rate=0.05; total time=   2.5s\n",
      "[CV] END ........depth=9, iterations=100, learning_rate=0.05; total time=   2.4s\n",
      "[CV] END ........depth=9, iterations=100, learning_rate=0.05; total time=   2.3s\n",
      "[CV] END ........depth=9, iterations=100, learning_rate=0.05; total time=   2.5s\n",
      "[CV] END .........depth=9, iterations=100, learning_rate=0.1; total time=   2.4s\n",
      "[CV] END .........depth=9, iterations=100, learning_rate=0.1; total time=   2.4s\n",
      "[CV] END .........depth=9, iterations=100, learning_rate=0.1; total time=   2.4s\n",
      "[CV] END .........depth=9, iterations=100, learning_rate=0.1; total time=   2.4s\n",
      "[CV] END .........depth=9, iterations=100, learning_rate=0.1; total time=   2.3s\n",
      "[CV] END ........depth=9, iterations=100, learning_rate=0.15; total time=   2.5s\n",
      "[CV] END ........depth=9, iterations=100, learning_rate=0.15; total time=   2.5s\n",
      "[CV] END ........depth=9, iterations=100, learning_rate=0.15; total time=   2.5s\n",
      "[CV] END ........depth=9, iterations=100, learning_rate=0.15; total time=   2.6s\n",
      "[CV] END ........depth=9, iterations=100, learning_rate=0.15; total time=   2.4s\n",
      "[CV] END ........depth=9, iterations=150, learning_rate=0.05; total time=   3.3s\n",
      "[CV] END ........depth=9, iterations=150, learning_rate=0.05; total time=   3.3s\n",
      "[CV] END ........depth=9, iterations=150, learning_rate=0.05; total time=   3.4s\n",
      "[CV] END ........depth=9, iterations=150, learning_rate=0.05; total time=   3.4s\n",
      "[CV] END ........depth=9, iterations=150, learning_rate=0.05; total time=   3.5s\n",
      "[CV] END .........depth=9, iterations=150, learning_rate=0.1; total time=   4.0s\n",
      "[CV] END .........depth=9, iterations=150, learning_rate=0.1; total time=   3.5s\n",
      "[CV] END .........depth=9, iterations=150, learning_rate=0.1; total time=   3.6s\n",
      "[CV] END .........depth=9, iterations=150, learning_rate=0.1; total time=   3.5s\n",
      "[CV] END .........depth=9, iterations=150, learning_rate=0.1; total time=   4.0s\n",
      "[CV] END ........depth=9, iterations=150, learning_rate=0.15; total time=   3.5s\n",
      "[CV] END ........depth=9, iterations=150, learning_rate=0.15; total time=   3.7s\n",
      "[CV] END ........depth=9, iterations=150, learning_rate=0.15; total time=   3.7s\n",
      "[CV] END ........depth=9, iterations=150, learning_rate=0.15; total time=   3.4s\n",
      "[CV] END ........depth=9, iterations=150, learning_rate=0.15; total time=   3.4s\n",
      "MAE модели CatBoostRegressor: 6.416\n",
      "\n",
      "Наилучшие параметры: {'depth': 6, 'iterations': 150, 'learning_rate': 0.1}\n"
     ]
    }
   ],
   "source": [
    "model = CatBoostRegressor(random_state=random_state, \n",
    "                          verbose=False\n",
    "                         )\n",
    "\n",
    "parameters = {'learning_rate': [0.05, 0.1, 0.15], \n",
    "              'depth': [3,5,6,7,9], \n",
    "              'iterations': [10, 50, 100, 150]}\n",
    "\n",
    "grid = GridSearchCV(estimator=model, \n",
    "                    param_grid=parameters, \n",
    "                    scoring='neg_mean_absolute_error', \n",
    "                    cv=5, \n",
    "                    verbose=2,\n",
    "                    n_jobs=-1)\n",
    "\n",
    "grid.fit(pd.concat([x_train, x_valid]), pd.concat([y_train, y_valid]))\n",
    "#predict = grid.predict(x_valid)\n",
    "\n",
    "# получаем лучшие результаты\n",
    "print(\"MAE модели CatBoostRegressor:\", round(np.mean(-grid.best_score_),4))\n",
    "print('\\nНаилучшие параметры:', grid.best_params_)\n",
    "\n",
    "m.loc[len(m)] = [str(grid.best_params_), round(np.mean(-grid.best_score_),4)]"
   ]
  },
  {
   "cell_type": "markdown",
   "id": "8d4a04ca",
   "metadata": {},
   "source": [
    "---"
   ]
  },
  {
   "cell_type": "markdown",
   "id": "b22d91ef",
   "metadata": {},
   "source": [
    "В данном разделе были рассмотрены три модели, но наименьшая средняя абсолютная разница между прогнозируемой выходной температурой и выходной температурой в валидационных данных оказалась у модели линейной регрессии. Возьмём её для последующего анализа."
   ]
  },
  {
   "cell_type": "code",
   "execution_count": 155,
   "id": "d7c5accf",
   "metadata": {},
   "outputs": [
    {
     "data": {
      "text/html": [
       "<div>\n",
       "<style scoped>\n",
       "    .dataframe tbody tr th:only-of-type {\n",
       "        vertical-align: middle;\n",
       "    }\n",
       "\n",
       "    .dataframe tbody tr th {\n",
       "        vertical-align: top;\n",
       "    }\n",
       "\n",
       "    .dataframe thead th {\n",
       "        text-align: right;\n",
       "    }\n",
       "</style>\n",
       "<table border=\"1\" class=\"dataframe\">\n",
       "  <thead>\n",
       "    <tr style=\"text-align: right;\">\n",
       "      <th></th>\n",
       "      <th>model</th>\n",
       "      <th>mae</th>\n",
       "    </tr>\n",
       "  </thead>\n",
       "  <tbody>\n",
       "    <tr>\n",
       "      <th>0</th>\n",
       "      <td>LinearRegression() cross_val_score(cv=8)</td>\n",
       "      <td>6.594382</td>\n",
       "    </tr>\n",
       "    <tr>\n",
       "      <th>1</th>\n",
       "      <td>(DecisionTreeRegressor(max_depth=9, max_featur...</td>\n",
       "      <td>7.056765</td>\n",
       "    </tr>\n",
       "    <tr>\n",
       "      <th>2</th>\n",
       "      <td>{'depth': 6, 'iterations': 150, 'learning_rate...</td>\n",
       "      <td>6.416000</td>\n",
       "    </tr>\n",
       "  </tbody>\n",
       "</table>\n",
       "</div>"
      ],
      "text/plain": [
       "                                               model       mae\n",
       "0           LinearRegression() cross_val_score(cv=8)  6.594382\n",
       "1  (DecisionTreeRegressor(max_depth=9, max_featur...  7.056765\n",
       "2  {'depth': 6, 'iterations': 150, 'learning_rate...  6.416000"
      ]
     },
     "execution_count": 155,
     "metadata": {},
     "output_type": "execute_result"
    }
   ],
   "source": [
    "m"
   ]
  },
  {
   "cell_type": "markdown",
   "id": "32041a5e",
   "metadata": {},
   "source": [
    "## Лучшие модель"
   ]
  },
  {
   "cell_type": "markdown",
   "id": "4fd3d7c3",
   "metadata": {},
   "source": [
    "Проверим модель `CatBoostRegressor` на тестовых данных."
   ]
  },
  {
   "cell_type": "code",
   "execution_count": 175,
   "id": "028b1af1",
   "metadata": {
    "scrolled": true
   },
   "outputs": [
    {
     "name": "stdout",
     "output_type": "stream",
     "text": [
      "MAE модели CatBoostRegressor: 6.249923888726989\n"
     ]
    }
   ],
   "source": [
    "model_c = CatBoostRegressor(random_state=random_state, \n",
    "                          verbose=False,\n",
    "                          learning_rate=0.1,\n",
    "                          depth=6,\n",
    "                          iterations=150\n",
    "                         )\n",
    "\n",
    "model_c.fit(pd.concat([x_train, x_valid]), pd.concat([y_train, y_valid]))\n",
    "predict = grid.predict(x_test)\n",
    "\n",
    "print('MAE модели CatBoostRegressor:', mean_absolute_error(predict,y_test))"
   ]
  },
  {
   "cell_type": "markdown",
   "id": "f8225324",
   "metadata": {},
   "source": [
    "Кроме того, оценим метрику MAE для второй по качеству модели, а именно для модели линейной регрессии."
   ]
  },
  {
   "cell_type": "code",
   "execution_count": 180,
   "id": "b4c2423e",
   "metadata": {},
   "outputs": [
    {
     "data": {
      "text/plain": [
       "6.808573767532844"
      ]
     },
     "execution_count": 180,
     "metadata": {},
     "output_type": "execute_result"
    }
   ],
   "source": [
    "model_lr = LinearRegression()\n",
    "\n",
    "model_lr.fit(x_train,y_train)\n",
    "predict = model_lr.predict(x_valid)\n",
    "\n",
    "mean_absolute_error(predict,y_valid)"
   ]
  },
  {
   "cell_type": "markdown",
   "id": "2822cfc0",
   "metadata": {},
   "source": [
    "---"
   ]
  },
  {
   "cell_type": "markdown",
   "id": "5d2e5b83",
   "metadata": {},
   "source": [
    "В данном разделе получена модель с метрикой MAE находящейся в допустимом пределе."
   ]
  },
  {
   "cell_type": "markdown",
   "id": "50350635",
   "metadata": {},
   "source": [
    "## Анализ"
   ]
  },
  {
   "cell_type": "markdown",
   "id": "b502e531",
   "metadata": {},
   "source": [
    "Оценим важность влияния на выходную температуру каждого из факторов, которые мы используем в данном анализе, используя наиболее точную из полученых моделей."
   ]
  },
  {
   "cell_type": "code",
   "execution_count": 178,
   "id": "5290aad9",
   "metadata": {},
   "outputs": [
    {
     "data": {
      "text/plain": [
       "<AxesSubplot:xlabel='feature'>"
      ]
     },
     "execution_count": 178,
     "metadata": {},
     "output_type": "execute_result"
    },
    {
     "data": {
      "image/png": "[encoded data removed]",
      "text/plain": [
       "<Figure size 720x432 with 1 Axes>"
      ]
     },
     "metadata": {
      "needs_background": "light"
     },
     "output_type": "display_data"
    }
   ],
   "source": [
    "с = ['T_вх', 'dt', 'E', 'n', 'Bulk 1', 'Bulk 2', 'Bulk 3', 'Bulk 4', 'Bulk 5', 'Bulk 6',\n",
    "       'Bulk 7', 'Bulk 8', 'Bulk 9', 'Bulk 10', 'Bulk 11', 'Bulk 12',\n",
    "       'Bulk 13', 'Bulk 14', 'Bulk 15', 'Wire 1', 'Wire 2', 'Wire 3', 'Wire 4',\n",
    "       'Wire 6', 'Wire 7', 'Wire 9', 'Газ 1']\n",
    "\n",
    "coefs_c = pd.DataFrame(\n",
    "    data={\n",
    "        'feature' : с,\n",
    "        'importances' : model_c.feature_importances_\n",
    "    },\n",
    "    columns=['feature', 'importances']\n",
    ")\n",
    "\n",
    "coefs_c.sort_values(by='importances').set_index('feature').plot(kind='bar', stacked=True, figsize=(10,6), align='center', legend=False)"
   ]
  },
  {
   "cell_type": "markdown",
   "id": "86ae7aa7",
   "metadata": {},
   "source": [
    "Из рисунка видно, что наибольшую важность в формировании итоговой температуры играют добавки `Bulk 6` и `Wire 1`, кроме того достаточно важным показателем является время простоя стали на этапе леггирования. Наиважнейшую роль играют температура входящей стали и суммарная энергия, передаваемая в сталь от электродов, что не может не удивлять."
   ]
  },
  {
   "cell_type": "markdown",
   "id": "f0733b5c",
   "metadata": {},
   "source": [
    "Для получения более подробной информации о характере влияния факторов, влияющих на выходную температуру нормируем коэфициенты модели линейной регрессии и отсортируем их. Сопаставим эти коэфициенты с признаком их породившим оценив, таким образом, влияние признаков на выходную температуру."
   ]
  },
  {
   "cell_type": "code",
   "execution_count": 179,
   "id": "6864ca38",
   "metadata": {},
   "outputs": [
    {
     "data": {
      "text/plain": [
       "<AxesSubplot:xlabel='feature'>"
      ]
     },
     "execution_count": 179,
     "metadata": {},
     "output_type": "execute_result"
    },
    {
     "data": {
      "image/png": "[encoded data removed]",
      "text/plain": [
       "<Figure size 720x432 with 1 Axes>"
      ]
     },
     "metadata": {
      "needs_background": "light"
     },
     "output_type": "display_data"
    }
   ],
   "source": [
    "#model.intercept_\n",
    "с = ['T_вх', 'dt', 'E', 'n', 'Bulk 1', 'Bulk 2', 'Bulk 3', 'Bulk 4', 'Bulk 5', 'Bulk 6',\n",
    "       'Bulk 7', 'Bulk 8', 'Bulk 9', 'Bulk 10', 'Bulk 11', 'Bulk 12',\n",
    "       'Bulk 13', 'Bulk 14', 'Bulk 15', 'Wire 1', 'Wire 2', 'Wire 3', 'Wire 4',\n",
    "       'Wire 6', 'Wire 7', 'Wire 9', 'Газ 1']\n",
    "\n",
    "# нормируем данные\n",
    "scalerx = StandardScaler().fit(x_train)\n",
    "scalery = StandardScaler().fit(y_train.values.reshape(-1,1))\n",
    "\n",
    "normed_x = scalerx.transform(x_train)\n",
    "normed_y = scalery.transform(y_train.values.reshape(-1,1))\n",
    "\n",
    "normed_y = normed_y.ravel() # переход к вектору\n",
    "\n",
    "# обучение нормированных данных\n",
    "lr = LinearRegression()\n",
    "lr.fit(normed_x, normed_y)\n",
    "\n",
    "coefs = pd.DataFrame(\n",
    "    data={\n",
    "        'feature' : с,\n",
    "#        'coef' : model.coef_,\n",
    "        'norm_coef' : lr.coef_,\n",
    "#        'scalex' : scalerX.scale_,\n",
    "#        'scaley' : scalery.scale_[0],\n",
    "    },\n",
    "#    columns=['feature', 'coef', 'norm_coef', 'scalex', 'scaley']\n",
    "    columns=['feature', 'norm_coef']\n",
    ")\n",
    "#coefs['rescaled_coef'] = coefs2.norm_coef / coefs2.scalex * coefs2.scaley\n",
    "coefs.sort_values(by='norm_coef').set_index('feature').plot(kind='bar', stacked=True, figsize=(10,6), align='center', legend=False)"
   ]
  },
  {
   "cell_type": "markdown",
   "id": "fadc87c5",
   "metadata": {},
   "source": [
    "Данный рисунок даёт некоторое представление о том, как признакивлияют на температуру стали. Стоит сказать сказать, что данный анализ не даёт понять причину снижения температуры а только указывает на наличие зависимости одного параметра от другого. Так, например, в таблице можно увидеть отрицательный коэфициент температуры для проволочного материала `Wire 4`, но таблица не даёт представления о том является ли такой коэфициент следсвием добавления `Wire 4`, изначальным отсутсвием в стали `Wire 4` или следствием иных причин связаных с `Wire 4`. Чтобы не выдумывать сложных формулировок мы будем говорить о прямой зависимости между коэфициентом и выходной температурой, например, мы будем говорить, что добавление некоторых засыпок (`Bulk 2`, `Bulk 9`) увеличивает выходную температуру стали, добавление других (`Wire 4`, `Wire 8`) её уменьшают, однако, строго говоря это может быть не так."
   ]
  },
  {
   "cell_type": "markdown",
   "id": "bfe830a7",
   "metadata": {},
   "source": [
    "При этом среднее влияние засыпочных материалов увеличивает тепературу, тогда как проволочные материалы её уменьшают."
   ]
  },
  {
   "cell_type": "code",
   "execution_count": 222,
   "id": "2f5026aa",
   "metadata": {},
   "outputs": [
    {
     "name": "stdout",
     "output_type": "stream",
     "text": [
      "Среднее влияние засыпочных материалов:\n",
      " norm_coef    0.030312\n",
      "dtype: float64\n",
      "Среднее влияние проволочных материалов:\n",
      " norm_coef   -0.078541\n",
      "dtype: float64\n"
     ]
    }
   ],
   "source": [
    "c = ['Bulk 1', 'Bulk 2', 'Bulk 3', 'Bulk 4', 'Bulk 5', 'Bulk 6',\n",
    "       'Bulk 7', 'Bulk 8', 'Bulk 9', 'Bulk 10', 'Bulk 11', 'Bulk 12',\n",
    "       'Bulk 13', 'Bulk 14', 'Bulk 15']\n",
    "\n",
    "print('Среднее влияние засыпочных материалов:\\n', coefs2.set_index('feature').loc[c].mean())\n",
    "\n",
    "c = ['Wire 1', 'Wire 2', 'Wire 3', 'Wire 4',\n",
    "       'Wire 5', 'Wire 6', 'Wire 7', 'Wire 8', 'Wire 9']\n",
    "\n",
    "print('Среднее влияние проволочных материалов:\\n', coefs2.set_index('feature').loc[c].mean())"
   ]
  },
  {
   "cell_type": "markdown",
   "id": "3379786b",
   "metadata": {},
   "source": [
    "Простой стали снижает температуру, однако больше всего вклад в уменьшение температуры даёт добавление проволочного материала `Wire 4`. Помио `Wire 4` большой вклад в уменьшение температуры дают `Wire 8`, `Bulk 1`, `Wire 2`. Продувка газом также снижает температуру, но её влияние на порядок меньше, чем влияние простоя стали."
   ]
  },
  {
   "cell_type": "markdown",
   "id": "9b87ce11",
   "metadata": {},
   "source": [
    "Повышает температуру энергия, передаваема от дуги в сталь и входная температура стали. Кроме того добавление некоторых засыпочных (`Bulk 2`, `Bulk 9`) и проволочных (`Wire 1`) материалов. Увеличение количества прогревов дугой также увеличивает выходную температуру, поскольку, видимо, изменяется плотность передачи энергии от дуги в сталь."
   ]
  },
  {
   "cell_type": "markdown",
   "id": "68ae239e",
   "metadata": {},
   "source": [
    "## Рекомендации"
   ]
  },
  {
   "cell_type": "markdown",
   "id": "dd0a8a94",
   "metadata": {},
   "source": [
    "В данной работе была построена модель, предсказывающая температуру стали в котле на основе ряда признаков. Далее данные признаки были соотнесены с коэффициентами обученой модели по которой был сделан вывод о влиянии признаков на выходную температуру. \n",
    "\n",
    "На основании этого вывода можно сделать вывод о том, что взаимодействие со сталью, которой необходима добавка `Bulk 2`, `Bulk 9` и `Wire 1` и отсутсвует нужда в добавлении `Wire 4`, `Wire 8`, `Bulk 1`, `Wire 2` может увеличить выходную температуру и, как следсвие позитивно сказаться на энергопотреблении.\n",
    "\n",
    "Увеличение температуры входящей стали также поможет увеличить температуру и экономию энергии на этапе леггирования.\n",
    "\n",
    "Кроме того с точки зрения увеличения температуры было бы неплохо увеличить количество нагревов при сохранении суммарной энергии, передаваемой от нагревателя в сталь. В идеале можно было бы добиться континуального нагрева, т.е. нагревать сталь с постоянной температурой в течении всего процесса легиирования, предварительно высчитав необходимое значение этой температуры, сделав все необходимые для этого замеры.\n",
    "\n",
    "Положительно на энергопотребление также могло бы сказаться снижение времени простоя стали на этапе легирования. Первым шагом в этом направлении могло бы стать уменьшение десятисекундного промежутка между нагревом и замером температуры. Возможно стоит оптимизировать и другие процессы с точки зрения скорости.\n",
    "\n",
    "\n",
    "\n",
    "Безотносительно коэфициентов модели также можно дать некоторые рекомендации по с, простейшая из которых это снижение реак\n",
    "\n",
    "Расположение термометра в месте с наименьшей температурой является хорошим решением с точки зрения контроля качества продукта, однако не лучшим с точки зрения экономии электроэнергии. Было бы интересно изучить, распределение температуры внутри самого ковша, для этого потребовалось бы несколько термометров, но это может навести на некоторые мысли по контролю температуры. Если данная сталь имеет высокую теплоёмкость при большом объёме ковша можно было бы попробовать передать часть температуры от более нагретых участков расплава к менее нагретым, используя для этого некоторую \"мешалку\". Вопрос целесообразности такого решения представляет из себя отдельное исследование, включающее упомянутое изучение распределения температуры."
   ]
  }
 ],
 "metadata": {
  "ExecuteTimeLog": [
   {
    "duration": 441,
    "start_time": "2023-11-17T15:51:03.984Z"
   },
   {
    "duration": 105,
    "start_time": "2023-11-17T15:51:06.044Z"
   },
   {
    "duration": 56,
    "start_time": "2023-11-17T15:53:08.783Z"
   },
   {
    "duration": 120,
    "start_time": "2023-11-17T15:54:14.517Z"
   },
   {
    "duration": 117,
    "start_time": "2023-11-17T15:56:46.021Z"
   },
   {
    "duration": 46,
    "start_time": "2023-11-17T15:58:45.174Z"
   },
   {
    "duration": 35,
    "start_time": "2023-11-17T15:58:57.744Z"
   },
   {
    "duration": 101,
    "start_time": "2023-11-17T16:00:53.757Z"
   },
   {
    "duration": 153,
    "start_time": "2023-11-17T16:01:59.329Z"
   },
   {
    "duration": 72,
    "start_time": "2023-11-17T16:02:41.798Z"
   },
   {
    "duration": 113,
    "start_time": "2023-11-17T16:04:12.249Z"
   },
   {
    "duration": 54,
    "start_time": "2023-11-17T16:35:11.565Z"
   },
   {
    "duration": 50,
    "start_time": "2023-11-19T09:22:17.260Z"
   },
   {
    "duration": 433,
    "start_time": "2023-11-19T09:22:19.502Z"
   },
   {
    "duration": 99,
    "start_time": "2023-11-19T09:22:20.962Z"
   },
   {
    "duration": 12,
    "start_time": "2023-11-19T09:22:23.162Z"
   },
   {
    "duration": 29,
    "start_time": "2023-11-19T09:22:52.581Z"
   },
   {
    "duration": 7,
    "start_time": "2023-11-19T09:23:16.488Z"
   },
   {
    "duration": 7,
    "start_time": "2023-11-19T09:23:32.542Z"
   },
   {
    "duration": 7,
    "start_time": "2023-11-19T09:33:28.861Z"
   },
   {
    "duration": 4,
    "start_time": "2023-11-19T09:34:17.746Z"
   },
   {
    "duration": 7,
    "start_time": "2023-11-19T09:34:55.812Z"
   },
   {
    "duration": 4,
    "start_time": "2023-11-19T09:35:09.261Z"
   },
   {
    "duration": 4,
    "start_time": "2023-11-19T09:42:07.558Z"
   },
   {
    "duration": 6,
    "start_time": "2023-11-19T09:44:26.272Z"
   },
   {
    "duration": 6,
    "start_time": "2023-11-19T09:45:28.812Z"
   },
   {
    "duration": 529,
    "start_time": "2023-11-19T09:47:42.612Z"
   },
   {
    "duration": 134,
    "start_time": "2023-11-19T09:47:57.903Z"
   },
   {
    "duration": 6,
    "start_time": "2023-11-19T09:49:23.372Z"
   },
   {
    "duration": 7,
    "start_time": "2023-11-19T09:49:31.567Z"
   },
   {
    "duration": 17,
    "start_time": "2023-11-19T09:49:48.758Z"
   },
   {
    "duration": 4,
    "start_time": "2023-11-19T09:49:57.288Z"
   },
   {
    "duration": 4,
    "start_time": "2023-11-19T09:50:30.550Z"
   },
   {
    "duration": 4,
    "start_time": "2023-11-19T09:50:39.691Z"
   },
   {
    "duration": 4,
    "start_time": "2023-11-19T09:50:53.968Z"
   },
   {
    "duration": 6,
    "start_time": "2023-11-19T09:51:12.440Z"
   },
   {
    "duration": 7,
    "start_time": "2023-11-19T09:51:27.221Z"
   },
   {
    "duration": 14,
    "start_time": "2023-11-19T09:51:33.211Z"
   },
   {
    "duration": 8,
    "start_time": "2023-11-19T09:51:38.951Z"
   },
   {
    "duration": 6,
    "start_time": "2023-11-19T09:52:13.803Z"
   },
   {
    "duration": 6,
    "start_time": "2023-11-19T09:52:58.166Z"
   },
   {
    "duration": 2,
    "start_time": "2023-11-19T09:53:06.831Z"
   },
   {
    "duration": 55,
    "start_time": "2023-11-19T09:53:12.684Z"
   },
   {
    "duration": 5,
    "start_time": "2023-11-19T09:53:14.524Z"
   },
   {
    "duration": 4,
    "start_time": "2023-11-19T09:53:16.732Z"
   },
   {
    "duration": 147,
    "start_time": "2023-11-19T09:53:18.235Z"
   },
   {
    "duration": 146,
    "start_time": "2023-11-19T09:53:20.337Z"
   },
   {
    "duration": 9,
    "start_time": "2023-11-19T09:53:22.348Z"
   },
   {
    "duration": 11,
    "start_time": "2023-11-19T09:53:23.638Z"
   },
   {
    "duration": 5,
    "start_time": "2023-11-19T09:53:51.108Z"
   },
   {
    "duration": 5,
    "start_time": "2023-11-19T09:54:25.008Z"
   },
   {
    "duration": 5,
    "start_time": "2023-11-19T09:54:32.581Z"
   },
   {
    "duration": 9,
    "start_time": "2023-11-19T09:54:48.413Z"
   },
   {
    "duration": 5,
    "start_time": "2023-11-19T09:55:08.692Z"
   },
   {
    "duration": 11,
    "start_time": "2023-11-19T09:55:23.693Z"
   },
   {
    "duration": 8,
    "start_time": "2023-11-19T09:55:35.700Z"
   },
   {
    "duration": 6,
    "start_time": "2023-11-19T09:55:46.413Z"
   },
   {
    "duration": 5,
    "start_time": "2023-11-19T09:56:34.754Z"
   },
   {
    "duration": 5,
    "start_time": "2023-11-19T09:57:41.520Z"
   },
   {
    "duration": 13,
    "start_time": "2023-11-19T09:57:55.409Z"
   },
   {
    "duration": 6,
    "start_time": "2023-11-19T09:58:59.894Z"
   },
   {
    "duration": 11,
    "start_time": "2023-11-19T09:59:09.104Z"
   },
   {
    "duration": 53,
    "start_time": "2023-11-19T10:05:21.895Z"
   },
   {
    "duration": 9,
    "start_time": "2023-11-19T10:07:56.393Z"
   },
   {
    "duration": 10,
    "start_time": "2023-11-19T10:09:14.229Z"
   },
   {
    "duration": 9,
    "start_time": "2023-11-19T10:10:02.418Z"
   },
   {
    "duration": 5,
    "start_time": "2023-11-19T10:12:59.400Z"
   },
   {
    "duration": 62,
    "start_time": "2023-11-19T10:13:14.898Z"
   },
   {
    "duration": 15,
    "start_time": "2023-11-19T10:13:57.001Z"
   },
   {
    "duration": 7,
    "start_time": "2023-11-19T10:14:14.063Z"
   },
   {
    "duration": 131,
    "start_time": "2023-11-19T10:14:25.000Z"
   },
   {
    "duration": 131,
    "start_time": "2023-11-19T10:14:27.643Z"
   },
   {
    "duration": 4,
    "start_time": "2023-11-19T10:14:40.214Z"
   },
   {
    "duration": 151,
    "start_time": "2023-11-19T10:17:01.408Z"
   },
   {
    "duration": 154,
    "start_time": "2023-11-19T10:17:50.847Z"
   },
   {
    "duration": 143,
    "start_time": "2023-11-19T10:17:59.694Z"
   },
   {
    "duration": 2,
    "start_time": "2023-11-19T10:18:31.726Z"
   },
   {
    "duration": 4,
    "start_time": "2023-11-19T10:20:40.740Z"
   },
   {
    "duration": 11,
    "start_time": "2023-11-19T10:20:48.043Z"
   },
   {
    "duration": 10,
    "start_time": "2023-11-19T10:21:32.608Z"
   },
   {
    "duration": 9,
    "start_time": "2023-11-19T10:21:57.738Z"
   },
   {
    "duration": 158,
    "start_time": "2023-11-19T10:22:42.493Z"
   },
   {
    "duration": 181,
    "start_time": "2023-11-19T10:28:12.093Z"
   },
   {
    "duration": 197,
    "start_time": "2023-11-19T10:28:47.881Z"
   },
   {
    "duration": 193,
    "start_time": "2023-11-19T10:28:55.308Z"
   },
   {
    "duration": 190,
    "start_time": "2023-11-19T10:29:23.569Z"
   },
   {
    "duration": 205,
    "start_time": "2023-11-19T10:29:53.648Z"
   },
   {
    "duration": 255,
    "start_time": "2023-11-19T10:31:27.661Z"
   },
   {
    "duration": 197,
    "start_time": "2023-11-19T10:32:02.402Z"
   },
   {
    "duration": 12,
    "start_time": "2023-11-19T10:33:39.864Z"
   },
   {
    "duration": 4,
    "start_time": "2023-11-19T10:35:26.655Z"
   },
   {
    "duration": 117,
    "start_time": "2023-11-19T10:35:29.785Z"
   },
   {
    "duration": 4,
    "start_time": "2023-11-19T10:35:48.050Z"
   },
   {
    "duration": 4,
    "start_time": "2023-11-19T10:36:20.964Z"
   },
   {
    "duration": 5,
    "start_time": "2023-11-19T10:36:48.229Z"
   },
   {
    "duration": 11,
    "start_time": "2023-11-19T10:36:57.236Z"
   },
   {
    "duration": 8,
    "start_time": "2023-11-19T10:37:29.377Z"
   },
   {
    "duration": 5,
    "start_time": "2023-11-19T10:37:50.717Z"
   },
   {
    "duration": 4,
    "start_time": "2023-11-19T10:37:57.484Z"
   },
   {
    "duration": 107,
    "start_time": "2023-11-19T10:38:43.973Z"
   },
   {
    "duration": 4,
    "start_time": "2023-11-19T10:39:04.203Z"
   },
   {
    "duration": 5,
    "start_time": "2023-11-19T10:42:23.612Z"
   },
   {
    "duration": 5,
    "start_time": "2023-11-19T10:42:36.547Z"
   },
   {
    "duration": 4,
    "start_time": "2023-11-19T10:43:01.838Z"
   },
   {
    "duration": 22,
    "start_time": "2023-11-19T10:43:17.678Z"
   },
   {
    "duration": 3,
    "start_time": "2023-11-19T10:48:21.633Z"
   },
   {
    "duration": 35,
    "start_time": "2023-11-19T10:48:22.432Z"
   },
   {
    "duration": 17,
    "start_time": "2023-11-19T10:51:16.954Z"
   },
   {
    "duration": 5,
    "start_time": "2023-11-19T10:51:38.263Z"
   },
   {
    "duration": 17,
    "start_time": "2023-11-19T10:51:47.903Z"
   },
   {
    "duration": 7,
    "start_time": "2023-11-19T10:52:03.568Z"
   },
   {
    "duration": 11,
    "start_time": "2023-11-19T10:52:57.672Z"
   },
   {
    "duration": 9393,
    "start_time": "2023-11-19T10:54:28.582Z"
   },
   {
    "duration": 1538,
    "start_time": "2023-11-19T10:58:10.345Z"
   },
   {
    "duration": 1295,
    "start_time": "2023-11-19T10:58:23.694Z"
   },
   {
    "duration": 1495,
    "start_time": "2023-11-19T10:58:33.955Z"
   },
   {
    "duration": 14,
    "start_time": "2023-11-19T11:01:25.051Z"
   },
   {
    "duration": 23,
    "start_time": "2023-11-19T11:01:47.328Z"
   },
   {
    "duration": 37,
    "start_time": "2023-11-19T11:01:59.468Z"
   },
   {
    "duration": 12,
    "start_time": "2023-11-19T11:02:06.419Z"
   },
   {
    "duration": 12,
    "start_time": "2023-11-19T11:02:29.307Z"
   },
   {
    "duration": 12,
    "start_time": "2023-11-19T11:02:46.827Z"
   },
   {
    "duration": 140,
    "start_time": "2023-11-19T11:04:10.823Z"
   },
   {
    "duration": 1941,
    "start_time": "2023-11-19T11:04:15.038Z"
   },
   {
    "duration": 11,
    "start_time": "2023-11-19T11:05:39.534Z"
   },
   {
    "duration": 24,
    "start_time": "2023-11-19T11:05:53.623Z"
   },
   {
    "duration": 74,
    "start_time": "2023-11-19T11:06:09.214Z"
   },
   {
    "duration": 2024,
    "start_time": "2023-11-19T11:06:13.063Z"
   },
   {
    "duration": 11,
    "start_time": "2023-11-19T11:07:23.078Z"
   },
   {
    "duration": 18,
    "start_time": "2023-11-19T11:07:42.569Z"
   },
   {
    "duration": 15,
    "start_time": "2023-11-19T11:08:01.096Z"
   },
   {
    "duration": 1845,
    "start_time": "2023-11-19T11:08:21.378Z"
   },
   {
    "duration": 4,
    "start_time": "2023-11-19T11:09:58.928Z"
   },
   {
    "duration": 12,
    "start_time": "2023-11-19T11:11:13.433Z"
   },
   {
    "duration": 4,
    "start_time": "2023-11-19T11:11:41.717Z"
   },
   {
    "duration": 4,
    "start_time": "2023-11-19T11:11:47.584Z"
   },
   {
    "duration": 8,
    "start_time": "2023-11-19T11:12:53.087Z"
   },
   {
    "duration": 90,
    "start_time": "2023-11-19T11:12:55.753Z"
   },
   {
    "duration": 10,
    "start_time": "2023-11-19T11:12:57.104Z"
   },
   {
    "duration": 8,
    "start_time": "2023-11-19T11:14:59.557Z"
   },
   {
    "duration": 11,
    "start_time": "2023-11-19T11:15:35.248Z"
   },
   {
    "duration": 16,
    "start_time": "2023-11-19T11:16:54.178Z"
   },
   {
    "duration": 521,
    "start_time": "2023-11-19T11:20:06.303Z"
   },
   {
    "duration": 149,
    "start_time": "2023-11-19T11:28:12.339Z"
   },
   {
    "duration": 11,
    "start_time": "2023-11-19T11:28:21.739Z"
   },
   {
    "duration": 9,
    "start_time": "2023-11-19T11:31:19.514Z"
   },
   {
    "duration": 9,
    "start_time": "2023-11-19T11:31:32.924Z"
   },
   {
    "duration": 10,
    "start_time": "2023-11-19T11:32:03.734Z"
   },
   {
    "duration": 10,
    "start_time": "2023-11-19T11:32:05.194Z"
   },
   {
    "duration": 4,
    "start_time": "2023-11-19T11:35:57.715Z"
   },
   {
    "duration": 7,
    "start_time": "2023-11-19T11:36:24.755Z"
   },
   {
    "duration": 70,
    "start_time": "2023-11-19T11:36:26.227Z"
   },
   {
    "duration": 4,
    "start_time": "2023-11-19T11:36:27.486Z"
   },
   {
    "duration": 10,
    "start_time": "2023-11-19T11:37:31.774Z"
   },
   {
    "duration": 4,
    "start_time": "2023-11-19T11:38:47.265Z"
   },
   {
    "duration": 4,
    "start_time": "2023-11-19T11:41:55.489Z"
   },
   {
    "duration": 3,
    "start_time": "2023-11-19T11:44:10.004Z"
   },
   {
    "duration": 7,
    "start_time": "2023-11-19T11:45:28.938Z"
   },
   {
    "duration": 10,
    "start_time": "2023-11-19T11:45:32.573Z"
   },
   {
    "duration": 6,
    "start_time": "2023-11-19T11:45:41.333Z"
   },
   {
    "duration": 11,
    "start_time": "2023-11-19T11:48:28.884Z"
   },
   {
    "duration": 10,
    "start_time": "2023-11-19T11:49:29.773Z"
   },
   {
    "duration": 1227,
    "start_time": "2023-11-19T11:50:06.325Z"
   },
   {
    "duration": 4,
    "start_time": "2023-11-19T11:52:24.296Z"
   },
   {
    "duration": 5,
    "start_time": "2023-11-19T11:52:56.289Z"
   },
   {
    "duration": 7,
    "start_time": "2023-11-19T11:54:04.505Z"
   },
   {
    "duration": 6,
    "start_time": "2023-11-19T11:54:14.058Z"
   },
   {
    "duration": 4,
    "start_time": "2023-11-19T11:54:41.406Z"
   },
   {
    "duration": 5,
    "start_time": "2023-11-19T11:54:51.646Z"
   },
   {
    "duration": 5,
    "start_time": "2023-11-19T11:54:58.886Z"
   },
   {
    "duration": 187,
    "start_time": "2023-11-19T11:57:47.813Z"
   },
   {
    "duration": 292,
    "start_time": "2023-11-19T11:59:30.004Z"
   },
   {
    "duration": 8,
    "start_time": "2023-11-19T12:13:41.804Z"
   },
   {
    "duration": 79,
    "start_time": "2023-11-19T12:25:15.445Z"
   },
   {
    "duration": 1297,
    "start_time": "2023-11-19T12:26:37.264Z"
   },
   {
    "duration": 8,
    "start_time": "2023-11-19T12:26:53.353Z"
   },
   {
    "duration": 43,
    "start_time": "2023-11-19T12:26:55.893Z"
   },
   {
    "duration": 7,
    "start_time": "2023-11-19T12:26:57.726Z"
   },
   {
    "duration": 11,
    "start_time": "2023-11-19T12:26:59.232Z"
   },
   {
    "duration": 8,
    "start_time": "2023-11-19T12:32:09.090Z"
   },
   {
    "duration": 8,
    "start_time": "2023-11-19T12:32:35.256Z"
   },
   {
    "duration": 13,
    "start_time": "2023-11-19T12:32:59.322Z"
   },
   {
    "duration": 8,
    "start_time": "2023-11-19T12:33:39.012Z"
   },
   {
    "duration": 119,
    "start_time": "2023-11-19T12:33:46.907Z"
   },
   {
    "duration": 147,
    "start_time": "2023-11-19T12:36:47.616Z"
   },
   {
    "duration": 197,
    "start_time": "2023-11-19T12:39:55.954Z"
   },
   {
    "duration": 6,
    "start_time": "2023-11-19T12:48:07.172Z"
   },
   {
    "duration": 10,
    "start_time": "2023-11-19T12:48:18.453Z"
   },
   {
    "duration": 5,
    "start_time": "2023-11-19T12:49:24.344Z"
   },
   {
    "duration": 9,
    "start_time": "2023-11-19T12:49:53.474Z"
   },
   {
    "duration": 5,
    "start_time": "2023-11-19T12:50:02.284Z"
   },
   {
    "duration": 1243,
    "start_time": "2023-11-19T12:50:30.951Z"
   },
   {
    "duration": 11,
    "start_time": "2023-11-19T12:50:52.462Z"
   },
   {
    "duration": 11,
    "start_time": "2023-11-19T12:51:01.814Z"
   },
   {
    "duration": 4,
    "start_time": "2023-11-19T12:51:34.162Z"
   },
   {
    "duration": 36,
    "start_time": "2023-11-19T12:52:05.556Z"
   },
   {
    "duration": 32,
    "start_time": "2023-11-19T12:52:15.814Z"
   },
   {
    "duration": 13,
    "start_time": "2023-11-19T13:00:17.938Z"
   },
   {
    "duration": 15,
    "start_time": "2023-11-19T13:00:34.884Z"
   },
   {
    "duration": 44,
    "start_time": "2023-11-19T13:01:00.535Z"
   },
   {
    "duration": 8,
    "start_time": "2023-11-19T13:01:02.475Z"
   },
   {
    "duration": 28,
    "start_time": "2023-11-19T13:01:03.486Z"
   },
   {
    "duration": 29,
    "start_time": "2023-11-19T13:01:20.672Z"
   },
   {
    "duration": 11,
    "start_time": "2023-11-19T13:01:47.205Z"
   },
   {
    "duration": 636,
    "start_time": "2023-11-19T13:03:22.681Z"
   },
   {
    "duration": 61,
    "start_time": "2023-11-19T13:03:24.766Z"
   },
   {
    "duration": 5,
    "start_time": "2023-11-19T13:03:28.133Z"
   },
   {
    "duration": 4,
    "start_time": "2023-11-19T13:03:30.205Z"
   },
   {
    "duration": 10,
    "start_time": "2023-11-19T13:03:36.499Z"
   },
   {
    "duration": 10,
    "start_time": "2023-11-19T13:03:40.795Z"
   },
   {
    "duration": 14,
    "start_time": "2023-11-19T13:03:54.921Z"
   },
   {
    "duration": 6,
    "start_time": "2023-11-19T13:04:06.379Z"
   },
   {
    "duration": 4,
    "start_time": "2023-11-19T13:04:10.794Z"
   },
   {
    "duration": 12,
    "start_time": "2023-11-19T13:04:17.089Z"
   },
   {
    "duration": 615,
    "start_time": "2023-11-19T13:04:24.330Z"
   },
   {
    "duration": 58,
    "start_time": "2023-11-19T13:04:26.367Z"
   },
   {
    "duration": 5,
    "start_time": "2023-11-19T13:04:28.289Z"
   },
   {
    "duration": 5,
    "start_time": "2023-11-19T13:04:30.905Z"
   },
   {
    "duration": 10,
    "start_time": "2023-11-19T13:04:31.642Z"
   },
   {
    "duration": 10,
    "start_time": "2023-11-19T13:04:32.633Z"
   },
   {
    "duration": 6,
    "start_time": "2023-11-19T13:04:34.652Z"
   },
   {
    "duration": 5,
    "start_time": "2023-11-19T13:04:35.673Z"
   },
   {
    "duration": 11,
    "start_time": "2023-11-19T13:04:38.929Z"
   },
   {
    "duration": 193,
    "start_time": "2023-11-19T13:04:39.849Z"
   },
   {
    "duration": 184,
    "start_time": "2023-11-19T13:04:43.004Z"
   },
   {
    "duration": 175,
    "start_time": "2023-11-19T13:04:45.495Z"
   },
   {
    "duration": 188,
    "start_time": "2023-11-19T13:04:50.064Z"
   },
   {
    "duration": 10,
    "start_time": "2023-11-19T13:04:53.119Z"
   },
   {
    "duration": 10,
    "start_time": "2023-11-19T13:04:54.744Z"
   },
   {
    "duration": 44,
    "start_time": "2023-11-19T13:04:57.103Z"
   },
   {
    "duration": 4,
    "start_time": "2023-11-19T13:04:58.404Z"
   },
   {
    "duration": 5,
    "start_time": "2023-11-19T13:04:59.923Z"
   },
   {
    "duration": 4,
    "start_time": "2023-11-19T13:05:01.064Z"
   },
   {
    "duration": 3,
    "start_time": "2023-11-19T13:05:02.919Z"
   },
   {
    "duration": 50,
    "start_time": "2023-11-19T13:05:03.703Z"
   },
   {
    "duration": 11,
    "start_time": "2023-11-19T13:05:05.130Z"
   },
   {
    "duration": 1900,
    "start_time": "2023-11-19T13:05:06.119Z"
   },
   {
    "duration": 11,
    "start_time": "2023-11-19T13:05:12.949Z"
   },
   {
    "duration": 46,
    "start_time": "2023-11-19T13:05:15.249Z"
   },
   {
    "duration": 4,
    "start_time": "2023-11-19T13:05:17.714Z"
   },
   {
    "duration": 5,
    "start_time": "2023-11-19T13:05:19.044Z"
   },
   {
    "duration": 4,
    "start_time": "2023-11-19T13:05:20.119Z"
   },
   {
    "duration": 8,
    "start_time": "2023-11-19T13:05:21.609Z"
   },
   {
    "duration": 297,
    "start_time": "2023-11-19T13:05:22.168Z"
   },
   {
    "duration": 12,
    "start_time": "2023-11-19T13:05:23.074Z"
   },
   {
    "duration": 50,
    "start_time": "2023-11-19T13:05:26.064Z"
   },
   {
    "duration": 5,
    "start_time": "2023-11-19T13:05:27.597Z"
   },
   {
    "duration": 5,
    "start_time": "2023-11-19T13:05:28.509Z"
   },
   {
    "duration": 5,
    "start_time": "2023-11-19T13:05:30.194Z"
   },
   {
    "duration": 293,
    "start_time": "2023-11-19T13:05:31.634Z"
   },
   {
    "duration": 10,
    "start_time": "2023-11-19T13:05:36.354Z"
   },
   {
    "duration": 43,
    "start_time": "2023-11-19T13:05:38.288Z"
   },
   {
    "duration": 7,
    "start_time": "2023-11-19T13:05:41.169Z"
   },
   {
    "duration": 29,
    "start_time": "2023-11-19T13:05:44.355Z"
   },
   {
    "duration": 10,
    "start_time": "2023-11-19T13:06:23.456Z"
   },
   {
    "duration": 13,
    "start_time": "2023-11-19T13:06:27.505Z"
   },
   {
    "duration": 10,
    "start_time": "2023-11-19T13:06:30.024Z"
   },
   {
    "duration": 12,
    "start_time": "2023-11-19T13:06:43.718Z"
   },
   {
    "duration": 10,
    "start_time": "2023-11-19T13:06:46.760Z"
   },
   {
    "duration": 7,
    "start_time": "2023-11-19T13:07:22.904Z"
   },
   {
    "duration": 9,
    "start_time": "2023-11-19T13:07:33.969Z"
   },
   {
    "duration": 11,
    "start_time": "2023-11-19T13:07:40.946Z"
   },
   {
    "duration": 178,
    "start_time": "2023-11-19T13:11:22.924Z"
   },
   {
    "duration": 7,
    "start_time": "2023-11-19T13:12:28.365Z"
   },
   {
    "duration": 50,
    "start_time": "2023-11-19T13:17:14.033Z"
   },
   {
    "duration": 21,
    "start_time": "2023-11-19T13:18:29.322Z"
   },
   {
    "duration": 8,
    "start_time": "2023-11-19T13:19:03.093Z"
   },
   {
    "duration": 68,
    "start_time": "2023-11-19T13:19:20.786Z"
   },
   {
    "duration": 22,
    "start_time": "2023-11-19T13:19:32.112Z"
   },
   {
    "duration": 23,
    "start_time": "2023-11-19T13:19:43.033Z"
   },
   {
    "duration": 66,
    "start_time": "2023-11-19T13:22:36.153Z"
   },
   {
    "duration": 1636,
    "start_time": "2023-11-19T13:23:50.204Z"
   },
   {
    "duration": 1619,
    "start_time": "2023-11-19T13:23:58.564Z"
   },
   {
    "duration": 20,
    "start_time": "2023-11-19T13:24:49.098Z"
   },
   {
    "duration": 24,
    "start_time": "2023-11-19T13:24:53.421Z"
   },
   {
    "duration": 245,
    "start_time": "2023-11-19T13:25:10.351Z"
   },
   {
    "duration": 245,
    "start_time": "2023-11-19T13:25:31.391Z"
   },
   {
    "duration": 18,
    "start_time": "2023-11-19T13:25:42.321Z"
   },
   {
    "duration": 21,
    "start_time": "2023-11-19T13:25:50.140Z"
   },
   {
    "duration": 166,
    "start_time": "2023-11-19T13:25:56.351Z"
   },
   {
    "duration": 268,
    "start_time": "2023-11-19T13:26:43.601Z"
   },
   {
    "duration": 2234,
    "start_time": "2023-11-19T13:28:06.471Z"
   },
   {
    "duration": 8,
    "start_time": "2023-11-19T13:28:29.240Z"
   },
   {
    "duration": 290,
    "start_time": "2023-11-19T13:28:39.071Z"
   },
   {
    "duration": 278,
    "start_time": "2023-11-19T14:43:25.889Z"
   },
   {
    "duration": 2175,
    "start_time": "2023-11-19T14:43:39.989Z"
   },
   {
    "duration": 6219,
    "start_time": "2023-11-19T14:43:52.948Z"
   },
   {
    "duration": 1908,
    "start_time": "2023-11-19T14:44:56.208Z"
   },
   {
    "duration": 4,
    "start_time": "2023-11-19T14:45:36.063Z"
   },
   {
    "duration": 7908,
    "start_time": "2023-11-19T14:45:41.168Z"
   },
   {
    "duration": 2687,
    "start_time": "2023-11-19T14:46:17.432Z"
   },
   {
    "duration": 2645,
    "start_time": "2023-11-19T14:47:08.519Z"
   },
   {
    "duration": 2568,
    "start_time": "2023-11-19T14:47:19.088Z"
   },
   {
    "duration": 2735,
    "start_time": "2023-11-19T14:49:04.493Z"
   },
   {
    "duration": 6344,
    "start_time": "2023-11-19T14:49:54.688Z"
   },
   {
    "duration": 6137,
    "start_time": "2023-11-19T14:50:33.264Z"
   },
   {
    "duration": 2882,
    "start_time": "2023-11-19T14:51:06.483Z"
   },
   {
    "duration": 2718,
    "start_time": "2023-11-19T14:51:33.142Z"
   },
   {
    "duration": 5514,
    "start_time": "2023-11-19T14:51:50.830Z"
   },
   {
    "duration": 79,
    "start_time": "2023-11-19T14:53:00.822Z"
   },
   {
    "duration": 5583,
    "start_time": "2023-11-19T14:53:06.012Z"
   },
   {
    "duration": 5496,
    "start_time": "2023-11-19T14:53:16.231Z"
   },
   {
    "duration": 5630,
    "start_time": "2023-11-19T14:53:54.528Z"
   },
   {
    "duration": 5548,
    "start_time": "2023-11-19T14:54:09.823Z"
   },
   {
    "duration": 4,
    "start_time": "2023-11-19T14:54:59.063Z"
   },
   {
    "duration": 2743,
    "start_time": "2023-11-19T14:55:04.083Z"
   },
   {
    "duration": 2916,
    "start_time": "2023-11-19T14:55:14.254Z"
   },
   {
    "duration": 2805,
    "start_time": "2023-11-19T14:55:38.003Z"
   },
   {
    "duration": 5580,
    "start_time": "2023-11-19T14:58:00.094Z"
   },
   {
    "duration": 5464,
    "start_time": "2023-11-19T14:58:26.710Z"
   },
   {
    "duration": 4,
    "start_time": "2023-11-19T14:59:13.694Z"
   },
   {
    "duration": 11,
    "start_time": "2023-11-19T14:59:22.128Z"
   },
   {
    "duration": 10,
    "start_time": "2023-11-19T14:59:44.902Z"
   },
   {
    "duration": 10,
    "start_time": "2023-11-19T14:59:59.664Z"
   },
   {
    "duration": 2783,
    "start_time": "2023-11-19T15:00:22.574Z"
   },
   {
    "duration": 11,
    "start_time": "2023-11-19T15:00:46.003Z"
   },
   {
    "duration": 5656,
    "start_time": "2023-11-19T15:01:04.129Z"
   },
   {
    "duration": 42,
    "start_time": "2023-11-19T15:01:10.129Z"
   },
   {
    "duration": 8,
    "start_time": "2023-11-19T15:01:11.843Z"
   },
   {
    "duration": 33,
    "start_time": "2023-11-19T15:01:13.568Z"
   },
   {
    "duration": 14,
    "start_time": "2023-11-19T15:01:27.809Z"
   },
   {
    "duration": 5663,
    "start_time": "2023-11-19T15:01:34.049Z"
   },
   {
    "duration": 17,
    "start_time": "2023-11-19T15:01:39.714Z"
   },
   {
    "duration": 10,
    "start_time": "2023-11-19T15:02:23.219Z"
   },
   {
    "duration": 5428,
    "start_time": "2023-11-19T15:03:11.917Z"
   },
   {
    "duration": 2893,
    "start_time": "2023-11-19T15:03:49.856Z"
   },
   {
    "duration": 2738,
    "start_time": "2023-11-19T15:04:34.167Z"
   },
   {
    "duration": 5441,
    "start_time": "2023-11-19T15:05:48.119Z"
   },
   {
    "duration": 10,
    "start_time": "2023-11-19T15:10:09.869Z"
   },
   {
    "duration": 6,
    "start_time": "2023-11-19T15:10:53.989Z"
   },
   {
    "duration": 5442,
    "start_time": "2023-11-19T15:11:04.222Z"
   },
   {
    "duration": 5374,
    "start_time": "2023-11-19T15:12:35.742Z"
   },
   {
    "duration": 5317,
    "start_time": "2023-11-19T15:12:55.593Z"
   },
   {
    "duration": 45,
    "start_time": "2023-11-19T15:13:30.021Z"
   },
   {
    "duration": 46,
    "start_time": "2023-11-19T15:13:41.869Z"
   },
   {
    "duration": 4897,
    "start_time": "2023-11-19T15:14:06.349Z"
   },
   {
    "duration": 5034,
    "start_time": "2023-11-19T15:14:37.548Z"
   },
   {
    "duration": 4897,
    "start_time": "2023-11-19T15:15:16.552Z"
   },
   {
    "duration": 107,
    "start_time": "2023-11-19T15:16:03.782Z"
   },
   {
    "duration": 101,
    "start_time": "2023-11-19T15:16:13.855Z"
   },
   {
    "duration": 4853,
    "start_time": "2023-11-19T15:16:37.432Z"
   },
   {
    "duration": 4953,
    "start_time": "2023-11-19T15:16:56.672Z"
   },
   {
    "duration": 10,
    "start_time": "2023-11-19T15:17:13.511Z"
   },
   {
    "duration": 4962,
    "start_time": "2023-11-19T15:22:31.200Z"
   },
   {
    "duration": 45,
    "start_time": "2023-11-19T15:23:45.076Z"
   },
   {
    "duration": 4,
    "start_time": "2023-11-19T15:23:46.421Z"
   },
   {
    "duration": 4,
    "start_time": "2023-11-19T15:24:22.616Z"
   },
   {
    "duration": 9,
    "start_time": "2023-11-19T15:24:33.636Z"
   },
   {
    "duration": 30,
    "start_time": "2023-11-19T15:24:35.116Z"
   },
   {
    "duration": 13,
    "start_time": "2023-11-19T15:24:37.656Z"
   },
   {
    "duration": 5331,
    "start_time": "2023-11-19T15:24:38.477Z"
   },
   {
    "duration": 7,
    "start_time": "2023-11-19T15:24:43.810Z"
   },
   {
    "duration": 5,
    "start_time": "2023-11-19T15:25:02.581Z"
   },
   {
    "duration": 42,
    "start_time": "2023-11-19T15:25:06.675Z"
   },
   {
    "duration": 5,
    "start_time": "2023-11-19T15:25:14.226Z"
   },
   {
    "duration": 7,
    "start_time": "2023-11-19T15:25:22.769Z"
   },
   {
    "duration": 34,
    "start_time": "2023-11-19T15:25:23.437Z"
   },
   {
    "duration": 13,
    "start_time": "2023-11-19T15:25:28.582Z"
   },
   {
    "duration": 5280,
    "start_time": "2023-11-19T15:25:29.695Z"
   },
   {
    "duration": 4,
    "start_time": "2023-11-19T15:25:34.977Z"
   },
   {
    "duration": 1985,
    "start_time": "2023-11-19T15:29:47.378Z"
   },
   {
    "duration": 2119,
    "start_time": "2023-11-19T15:29:54.943Z"
   },
   {
    "duration": 2256,
    "start_time": "2023-11-19T15:30:08.520Z"
   },
   {
    "duration": 2249,
    "start_time": "2023-11-19T15:30:35.800Z"
   },
   {
    "duration": 222,
    "start_time": "2023-11-19T15:30:47.609Z"
   },
   {
    "duration": 2356,
    "start_time": "2023-11-19T15:30:52.272Z"
   },
   {
    "duration": 2279,
    "start_time": "2023-11-19T15:31:14.863Z"
   },
   {
    "duration": 325,
    "start_time": "2023-11-19T15:34:07.599Z"
   },
   {
    "duration": 203,
    "start_time": "2023-11-19T15:34:38.019Z"
   },
   {
    "duration": 311,
    "start_time": "2023-11-19T15:35:03.039Z"
   },
   {
    "duration": 279,
    "start_time": "2023-11-19T15:35:32.236Z"
   },
   {
    "duration": 326,
    "start_time": "2023-11-19T15:35:57.209Z"
   },
   {
    "duration": 335,
    "start_time": "2023-11-19T15:36:22.717Z"
   },
   {
    "duration": 4460,
    "start_time": "2023-11-19T15:37:00.631Z"
   },
   {
    "duration": 4518,
    "start_time": "2023-11-19T15:37:41.315Z"
   },
   {
    "duration": 4044,
    "start_time": "2023-11-19T15:43:27.100Z"
   },
   {
    "duration": 107,
    "start_time": "2023-11-19T15:44:09.142Z"
   },
   {
    "duration": 4484,
    "start_time": "2023-11-19T15:44:18.483Z"
   },
   {
    "duration": 8712,
    "start_time": "2023-11-19T15:44:45.894Z"
   },
   {
    "duration": 8392,
    "start_time": "2023-11-19T15:45:30.414Z"
   },
   {
    "duration": 38,
    "start_time": "2023-11-19T15:47:51.280Z"
   },
   {
    "duration": 5,
    "start_time": "2023-11-19T15:47:53.690Z"
   },
   {
    "duration": 6,
    "start_time": "2023-11-19T15:47:55.047Z"
   },
   {
    "duration": 5,
    "start_time": "2023-11-19T15:47:55.809Z"
   },
   {
    "duration": 4,
    "start_time": "2023-11-19T15:47:57.470Z"
   },
   {
    "duration": 6,
    "start_time": "2023-11-19T15:47:59.127Z"
   },
   {
    "duration": 16,
    "start_time": "2023-11-19T15:48:00.672Z"
   },
   {
    "duration": 1374,
    "start_time": "2023-11-19T15:48:02.550Z"
   },
   {
    "duration": 10,
    "start_time": "2023-11-19T15:48:07.825Z"
   },
   {
    "duration": 112,
    "start_time": "2023-11-19T15:48:12.174Z"
   },
   {
    "duration": 12,
    "start_time": "2023-11-19T15:48:34.609Z"
   },
   {
    "duration": 11,
    "start_time": "2023-11-19T15:51:21.022Z"
   },
   {
    "duration": 4,
    "start_time": "2023-11-19T15:52:43.730Z"
   },
   {
    "duration": 4,
    "start_time": "2023-11-19T15:55:08.952Z"
   },
   {
    "duration": 4,
    "start_time": "2023-11-19T15:59:47.554Z"
   },
   {
    "duration": 4,
    "start_time": "2023-11-19T16:00:20.384Z"
   },
   {
    "duration": 7,
    "start_time": "2023-11-19T16:01:00.748Z"
   },
   {
    "duration": 229,
    "start_time": "2023-11-19T16:01:33.727Z"
   },
   {
    "duration": 12,
    "start_time": "2023-11-19T16:03:26.887Z"
   },
   {
    "duration": 12,
    "start_time": "2023-11-19T18:12:07.363Z"
   },
   {
    "duration": 2190,
    "start_time": "2023-11-19T18:12:27.555Z"
   },
   {
    "duration": 46,
    "start_time": "2023-11-19T18:13:07.215Z"
   },
   {
    "duration": 10,
    "start_time": "2023-11-19T18:13:23.745Z"
   },
   {
    "duration": 11,
    "start_time": "2023-11-19T18:13:33.335Z"
   },
   {
    "duration": 6,
    "start_time": "2023-11-19T18:13:48.690Z"
   },
   {
    "duration": 5,
    "start_time": "2023-11-19T18:14:05.835Z"
   },
   {
    "duration": 5,
    "start_time": "2023-11-19T18:14:20.540Z"
   },
   {
    "duration": 10,
    "start_time": "2023-11-19T18:14:40.099Z"
   },
   {
    "duration": 5,
    "start_time": "2023-11-19T18:14:47.871Z"
   },
   {
    "duration": 8,
    "start_time": "2023-11-19T18:14:58.610Z"
   },
   {
    "duration": 155,
    "start_time": "2023-11-19T18:15:18.078Z"
   },
   {
    "duration": 8,
    "start_time": "2023-11-19T18:15:24.417Z"
   },
   {
    "duration": 76,
    "start_time": "2023-11-19T18:16:14.193Z"
   },
   {
    "duration": 935,
    "start_time": "2023-11-19T18:16:19.158Z"
   },
   {
    "duration": 6248,
    "start_time": "2023-11-19T18:16:32.519Z"
   },
   {
    "duration": 42,
    "start_time": "2023-11-19T18:16:53.713Z"
   },
   {
    "duration": 10,
    "start_time": "2023-11-19T18:17:02.905Z"
   },
   {
    "duration": 7,
    "start_time": "2023-11-19T18:17:35.428Z"
   },
   {
    "duration": 9,
    "start_time": "2023-11-19T18:17:40.468Z"
   },
   {
    "duration": 14,
    "start_time": "2023-11-19T18:18:01.633Z"
   },
   {
    "duration": 13,
    "start_time": "2023-11-19T18:18:17.058Z"
   },
   {
    "duration": 12,
    "start_time": "2023-11-19T18:18:22.367Z"
   },
   {
    "duration": 13,
    "start_time": "2023-11-19T18:18:29.272Z"
   },
   {
    "duration": 6,
    "start_time": "2023-11-19T18:18:37.905Z"
   },
   {
    "duration": 4,
    "start_time": "2023-11-19T18:18:45.270Z"
   },
   {
    "duration": 7,
    "start_time": "2023-11-19T18:18:49.880Z"
   },
   {
    "duration": 7,
    "start_time": "2023-11-19T18:19:30.601Z"
   },
   {
    "duration": 4,
    "start_time": "2023-11-19T18:19:36.122Z"
   },
   {
    "duration": 33,
    "start_time": "2023-11-19T18:19:46.077Z"
   },
   {
    "duration": 33,
    "start_time": "2023-11-19T18:19:51.295Z"
   },
   {
    "duration": 11,
    "start_time": "2023-11-19T18:19:54.435Z"
   },
   {
    "duration": 6696,
    "start_time": "2023-11-19T18:20:04.433Z"
   },
   {
    "duration": 5,
    "start_time": "2023-11-19T18:20:45.074Z"
   },
   {
    "duration": 8,
    "start_time": "2023-11-19T18:20:55.524Z"
   },
   {
    "duration": 7,
    "start_time": "2023-11-19T18:21:32.625Z"
   },
   {
    "duration": 9,
    "start_time": "2023-11-19T18:22:25.153Z"
   },
   {
    "duration": 8,
    "start_time": "2023-11-19T18:22:31.705Z"
   },
   {
    "duration": 8,
    "start_time": "2023-11-19T18:22:36.036Z"
   },
   {
    "duration": 6,
    "start_time": "2023-11-19T18:23:01.600Z"
   },
   {
    "duration": 11,
    "start_time": "2023-11-19T18:23:08.602Z"
   },
   {
    "duration": 7,
    "start_time": "2023-11-19T18:23:11.136Z"
   },
   {
    "duration": 9,
    "start_time": "2023-11-19T18:23:15.122Z"
   },
   {
    "duration": 9,
    "start_time": "2023-11-19T18:23:20.251Z"
   },
   {
    "duration": 42,
    "start_time": "2023-11-19T18:23:45.030Z"
   },
   {
    "duration": 5,
    "start_time": "2023-11-19T18:23:50.728Z"
   },
   {
    "duration": 7,
    "start_time": "2023-11-19T18:23:53.491Z"
   },
   {
    "duration": 30,
    "start_time": "2023-11-19T18:24:03.286Z"
   },
   {
    "duration": 13,
    "start_time": "2023-11-19T18:24:37.818Z"
   },
   {
    "duration": 50,
    "start_time": "2023-11-19T18:24:48.923Z"
   },
   {
    "duration": 74,
    "start_time": "2023-11-19T18:25:09.439Z"
   },
   {
    "duration": 47,
    "start_time": "2023-11-19T18:25:17.746Z"
   },
   {
    "duration": 3,
    "start_time": "2023-11-19T18:25:45.643Z"
   },
   {
    "duration": 49,
    "start_time": "2023-11-19T18:25:55.179Z"
   },
   {
    "duration": 13,
    "start_time": "2023-11-19T18:27:44.151Z"
   },
   {
    "duration": 91,
    "start_time": "2023-11-19T18:28:23.815Z"
   },
   {
    "duration": 106,
    "start_time": "2023-11-19T18:28:32.391Z"
   },
   {
    "duration": 4,
    "start_time": "2023-11-19T18:28:42.020Z"
   },
   {
    "duration": 2696,
    "start_time": "2023-11-19T18:29:02.927Z"
   },
   {
    "duration": 2662,
    "start_time": "2023-11-19T18:30:00.527Z"
   },
   {
    "duration": 2926,
    "start_time": "2023-11-19T18:30:12.241Z"
   },
   {
    "duration": 2755,
    "start_time": "2023-11-19T18:30:21.670Z"
   },
   {
    "duration": 14,
    "start_time": "2023-11-19T18:30:29.655Z"
   },
   {
    "duration": 6,
    "start_time": "2023-11-19T18:30:48.271Z"
   },
   {
    "duration": 6,
    "start_time": "2023-11-19T18:31:00.055Z"
   },
   {
    "duration": 6,
    "start_time": "2023-11-19T18:31:03.391Z"
   },
   {
    "duration": 14,
    "start_time": "2023-11-19T18:31:11.510Z"
   },
   {
    "duration": 13,
    "start_time": "2023-11-19T18:31:17.424Z"
   },
   {
    "duration": 12,
    "start_time": "2023-11-19T18:31:28.730Z"
   },
   {
    "duration": 13,
    "start_time": "2023-11-19T18:33:24.804Z"
   },
   {
    "duration": 11,
    "start_time": "2023-11-19T18:34:11.024Z"
   },
   {
    "duration": 10,
    "start_time": "2023-11-19T18:35:20.974Z"
   },
   {
    "duration": 11,
    "start_time": "2023-11-19T18:35:39.007Z"
   },
   {
    "duration": 11,
    "start_time": "2023-11-19T18:35:47.843Z"
   },
   {
    "duration": 11,
    "start_time": "2023-11-19T18:35:54.563Z"
   },
   {
    "duration": 12,
    "start_time": "2023-11-19T18:36:05.104Z"
   },
   {
    "duration": 14,
    "start_time": "2023-11-19T18:36:47.239Z"
   },
   {
    "duration": 2692,
    "start_time": "2023-11-19T18:37:41.479Z"
   },
   {
    "duration": 11,
    "start_time": "2023-11-19T18:37:45.351Z"
   },
   {
    "duration": 5364,
    "start_time": "2023-11-19T18:38:11.545Z"
   },
   {
    "duration": 5496,
    "start_time": "2023-11-19T18:39:01.169Z"
   },
   {
    "duration": 5409,
    "start_time": "2023-11-19T18:39:28.245Z"
   },
   {
    "duration": 5722,
    "start_time": "2023-11-19T18:40:21.425Z"
   },
   {
    "duration": 83,
    "start_time": "2023-11-19T18:40:56.253Z"
   },
   {
    "duration": 5161,
    "start_time": "2023-11-19T18:41:31.087Z"
   },
   {
    "duration": 5425,
    "start_time": "2023-11-19T18:41:44.694Z"
   },
   {
    "duration": 5409,
    "start_time": "2023-11-19T18:41:58.383Z"
   },
   {
    "duration": 11,
    "start_time": "2023-11-19T18:42:46.733Z"
   },
   {
    "duration": 73,
    "start_time": "2023-11-19T18:43:11.968Z"
   },
   {
    "duration": 8,
    "start_time": "2023-11-19T18:43:16.961Z"
   },
   {
    "duration": 8,
    "start_time": "2023-11-19T18:43:23.559Z"
   },
   {
    "duration": 659,
    "start_time": "2023-11-19T18:43:57.820Z"
   },
   {
    "duration": 58,
    "start_time": "2023-11-19T18:43:58.481Z"
   },
   {
    "duration": 5,
    "start_time": "2023-11-19T18:43:58.540Z"
   },
   {
    "duration": 4,
    "start_time": "2023-11-19T18:43:58.547Z"
   },
   {
    "duration": 15,
    "start_time": "2023-11-19T18:43:58.552Z"
   },
   {
    "duration": 9,
    "start_time": "2023-11-19T18:43:58.569Z"
   },
   {
    "duration": 6,
    "start_time": "2023-11-19T18:43:58.579Z"
   },
   {
    "duration": 28,
    "start_time": "2023-11-19T18:43:58.587Z"
   },
   {
    "duration": 10,
    "start_time": "2023-11-19T18:43:58.617Z"
   },
   {
    "duration": 304,
    "start_time": "2023-11-19T18:43:58.629Z"
   },
   {
    "duration": 289,
    "start_time": "2023-11-19T18:43:58.935Z"
   },
   {
    "duration": 289,
    "start_time": "2023-11-19T18:43:59.226Z"
   },
   {
    "duration": 303,
    "start_time": "2023-11-19T18:43:59.516Z"
   },
   {
    "duration": 11,
    "start_time": "2023-11-19T18:43:59.820Z"
   },
   {
    "duration": 15,
    "start_time": "2023-11-19T18:43:59.833Z"
   },
   {
    "duration": 101,
    "start_time": "2023-11-19T18:43:59.850Z"
   },
   {
    "duration": 5,
    "start_time": "2023-11-19T18:43:59.952Z"
   },
   {
    "duration": 6,
    "start_time": "2023-11-19T18:43:59.958Z"
   },
   {
    "duration": 4,
    "start_time": "2023-11-19T18:43:59.966Z"
   },
   {
    "duration": 5,
    "start_time": "2023-11-19T18:43:59.971Z"
   },
   {
    "duration": 7,
    "start_time": "2023-11-19T18:43:59.977Z"
   },
   {
    "duration": 31,
    "start_time": "2023-11-19T18:43:59.986Z"
   },
   {
    "duration": 1974,
    "start_time": "2023-11-19T18:44:00.019Z"
   },
   {
    "duration": 10,
    "start_time": "2023-11-19T18:44:01.995Z"
   },
   {
    "duration": 48,
    "start_time": "2023-11-19T18:44:02.014Z"
   },
   {
    "duration": 4,
    "start_time": "2023-11-19T18:44:02.064Z"
   },
   {
    "duration": 33,
    "start_time": "2023-11-19T18:44:02.069Z"
   },
   {
    "duration": 19,
    "start_time": "2023-11-19T18:44:02.105Z"
   },
   {
    "duration": 42,
    "start_time": "2023-11-19T18:44:02.125Z"
   },
   {
    "duration": 312,
    "start_time": "2023-11-19T18:44:02.169Z"
   },
   {
    "duration": 12,
    "start_time": "2023-11-19T18:44:02.482Z"
   },
   {
    "duration": 47,
    "start_time": "2023-11-19T18:44:02.496Z"
   },
   {
    "duration": 4,
    "start_time": "2023-11-19T18:44:02.545Z"
   },
   {
    "duration": 9,
    "start_time": "2023-11-19T18:44:02.550Z"
   },
   {
    "duration": 5,
    "start_time": "2023-11-19T18:44:02.560Z"
   },
   {
    "duration": 443,
    "start_time": "2023-11-19T18:44:02.566Z"
   },
   {
    "duration": 11,
    "start_time": "2023-11-19T18:44:03.011Z"
   },
   {
    "duration": 48,
    "start_time": "2023-11-19T18:44:03.024Z"
   },
   {
    "duration": 4,
    "start_time": "2023-11-19T18:44:03.073Z"
   },
   {
    "duration": 12,
    "start_time": "2023-11-19T18:44:03.078Z"
   },
   {
    "duration": 30,
    "start_time": "2023-11-19T18:44:03.091Z"
   },
   {
    "duration": 13,
    "start_time": "2023-11-19T18:44:03.122Z"
   },
   {
    "duration": 5435,
    "start_time": "2023-11-19T18:44:03.136Z"
   },
   {
    "duration": 4,
    "start_time": "2023-11-19T18:44:08.572Z"
   },
   {
    "duration": 4469,
    "start_time": "2023-11-19T18:44:08.577Z"
   },
   {
    "duration": 4397,
    "start_time": "2023-11-19T18:44:13.048Z"
   },
   {
    "duration": 8470,
    "start_time": "2023-11-19T18:44:17.447Z"
   },
   {
    "duration": 10,
    "start_time": "2023-11-19T18:44:25.919Z"
   },
   {
    "duration": 36,
    "start_time": "2023-11-19T18:44:25.930Z"
   },
   {
    "duration": 4,
    "start_time": "2023-11-19T18:44:25.967Z"
   },
   {
    "duration": 6,
    "start_time": "2023-11-19T18:44:25.972Z"
   },
   {
    "duration": 9,
    "start_time": "2023-11-19T18:44:25.979Z"
   },
   {
    "duration": 3,
    "start_time": "2023-11-19T18:44:25.989Z"
   },
   {
    "duration": 9,
    "start_time": "2023-11-19T18:44:25.993Z"
   },
   {
    "duration": 21,
    "start_time": "2023-11-19T18:44:26.003Z"
   },
   {
    "duration": 1458,
    "start_time": "2023-11-19T18:44:26.026Z"
   },
   {
    "duration": 11,
    "start_time": "2023-11-19T18:44:27.485Z"
   },
   {
    "duration": 43,
    "start_time": "2023-11-19T18:44:27.498Z"
   },
   {
    "duration": 4,
    "start_time": "2023-11-19T18:44:27.543Z"
   },
   {
    "duration": 6,
    "start_time": "2023-11-19T18:44:27.548Z"
   },
   {
    "duration": 4,
    "start_time": "2023-11-19T18:44:27.555Z"
   },
   {
    "duration": 6,
    "start_time": "2023-11-19T18:44:27.561Z"
   },
   {
    "duration": 269,
    "start_time": "2023-11-19T18:44:27.569Z"
   },
   {
    "duration": 11,
    "start_time": "2023-11-19T18:44:27.839Z"
   },
   {
    "duration": 2049,
    "start_time": "2023-11-19T18:44:27.851Z"
   },
   {
    "duration": 2035,
    "start_time": "2023-11-19T18:44:29.902Z"
   },
   {
    "duration": 12,
    "start_time": "2023-11-19T18:45:08.855Z"
   },
   {
    "duration": 3,
    "start_time": "2023-11-19T18:45:36.983Z"
   },
   {
    "duration": 2136,
    "start_time": "2023-11-19T18:45:51.593Z"
   },
   {
    "duration": 2057,
    "start_time": "2023-11-19T18:46:10.951Z"
   },
   {
    "duration": 2154,
    "start_time": "2023-11-19T18:47:41.399Z"
   },
   {
    "duration": 2143,
    "start_time": "2023-11-19T18:48:40.599Z"
   },
   {
    "duration": 2143,
    "start_time": "2023-11-19T18:49:20.775Z"
   },
   {
    "duration": 2082,
    "start_time": "2023-11-19T18:51:19.095Z"
   },
   {
    "duration": 5,
    "start_time": "2023-11-19T18:51:35.202Z"
   },
   {
    "duration": 2097,
    "start_time": "2023-11-19T18:52:44.047Z"
   },
   {
    "duration": 6,
    "start_time": "2023-11-19T18:52:48.234Z"
   },
   {
    "duration": 2018,
    "start_time": "2023-11-19T18:53:31.374Z"
   },
   {
    "duration": 5,
    "start_time": "2023-11-19T18:53:33.394Z"
   },
   {
    "duration": 4066,
    "start_time": "2023-11-19T18:54:16.241Z"
   },
   {
    "duration": 8,
    "start_time": "2023-11-19T18:54:24.584Z"
   },
   {
    "duration": 5,
    "start_time": "2023-11-19T18:54:34.234Z"
   },
   {
    "duration": 2049,
    "start_time": "2023-11-19T18:55:12.462Z"
   },
   {
    "duration": 7,
    "start_time": "2023-11-19T18:55:14.514Z"
   },
   {
    "duration": 2007,
    "start_time": "2023-11-19T18:55:31.124Z"
   },
   {
    "duration": 8,
    "start_time": "2023-11-19T18:55:33.133Z"
   },
   {
    "duration": 4078,
    "start_time": "2023-11-19T18:55:57.194Z"
   },
   {
    "duration": 10,
    "start_time": "2023-11-19T18:56:01.274Z"
   },
   {
    "duration": 2093,
    "start_time": "2023-11-19T18:56:43.522Z"
   },
   {
    "duration": 0,
    "start_time": "2023-11-19T18:56:45.616Z"
   },
   {
    "duration": 2037,
    "start_time": "2023-11-19T18:56:57.484Z"
   },
   {
    "duration": 2105,
    "start_time": "2023-11-19T18:57:04.437Z"
   },
   {
    "duration": 12,
    "start_time": "2023-11-19T18:57:10.014Z"
   },
   {
    "duration": 11,
    "start_time": "2023-11-19T18:57:12.204Z"
   },
   {
    "duration": 2053,
    "start_time": "2023-11-19T18:57:17.164Z"
   },
   {
    "duration": 11,
    "start_time": "2023-11-19T18:57:20.384Z"
   },
   {
    "duration": 641,
    "start_time": "2023-11-19T18:57:54.336Z"
   },
   {
    "duration": 59,
    "start_time": "2023-11-19T18:57:54.979Z"
   },
   {
    "duration": 4,
    "start_time": "2023-11-19T18:57:55.040Z"
   },
   {
    "duration": 6,
    "start_time": "2023-11-19T18:57:55.045Z"
   },
   {
    "duration": 9,
    "start_time": "2023-11-19T18:57:55.052Z"
   },
   {
    "duration": 10,
    "start_time": "2023-11-19T18:57:55.062Z"
   },
   {
    "duration": 7,
    "start_time": "2023-11-19T18:57:55.073Z"
   },
   {
    "duration": 5,
    "start_time": "2023-11-19T18:57:55.081Z"
   },
   {
    "duration": 11,
    "start_time": "2023-11-19T18:57:55.115Z"
   },
   {
    "duration": 303,
    "start_time": "2023-11-19T18:57:55.129Z"
   },
   {
    "duration": 297,
    "start_time": "2023-11-19T18:57:55.434Z"
   },
   {
    "duration": 286,
    "start_time": "2023-11-19T18:57:55.733Z"
   },
   {
    "duration": 302,
    "start_time": "2023-11-19T18:57:56.020Z"
   },
   {
    "duration": 12,
    "start_time": "2023-11-19T18:57:56.323Z"
   },
   {
    "duration": 12,
    "start_time": "2023-11-19T18:57:56.336Z"
   },
   {
    "duration": 88,
    "start_time": "2023-11-19T18:57:56.349Z"
   },
   {
    "duration": 5,
    "start_time": "2023-11-19T18:57:56.438Z"
   },
   {
    "duration": 5,
    "start_time": "2023-11-19T18:57:56.444Z"
   },
   {
    "duration": 5,
    "start_time": "2023-11-19T18:57:56.450Z"
   },
   {
    "duration": 4,
    "start_time": "2023-11-19T18:57:56.456Z"
   },
   {
    "duration": 6,
    "start_time": "2023-11-19T18:57:56.461Z"
   },
   {
    "duration": 12,
    "start_time": "2023-11-19T18:57:56.469Z"
   },
   {
    "duration": 1972,
    "start_time": "2023-11-19T18:57:56.482Z"
   },
   {
    "duration": 11,
    "start_time": "2023-11-19T18:57:58.455Z"
   },
   {
    "duration": 52,
    "start_time": "2023-11-19T18:57:58.467Z"
   },
   {
    "duration": 5,
    "start_time": "2023-11-19T18:57:58.520Z"
   },
   {
    "duration": 15,
    "start_time": "2023-11-19T18:57:58.526Z"
   },
   {
    "duration": 9,
    "start_time": "2023-11-19T18:57:58.546Z"
   },
   {
    "duration": 26,
    "start_time": "2023-11-19T18:57:58.556Z"
   },
   {
    "duration": 307,
    "start_time": "2023-11-19T18:57:58.584Z"
   },
   {
    "duration": 12,
    "start_time": "2023-11-19T18:57:58.893Z"
   },
   {
    "duration": 40,
    "start_time": "2023-11-19T18:57:58.915Z"
   },
   {
    "duration": 4,
    "start_time": "2023-11-19T18:57:58.957Z"
   },
   {
    "duration": 9,
    "start_time": "2023-11-19T18:57:58.962Z"
   },
   {
    "duration": 5,
    "start_time": "2023-11-19T18:57:58.972Z"
   },
   {
    "duration": 417,
    "start_time": "2023-11-19T18:57:58.978Z"
   },
   {
    "duration": 19,
    "start_time": "2023-11-19T18:57:59.396Z"
   },
   {
    "duration": 31,
    "start_time": "2023-11-19T18:57:59.416Z"
   },
   {
    "duration": 4,
    "start_time": "2023-11-19T18:57:59.449Z"
   },
   {
    "duration": 7,
    "start_time": "2023-11-19T18:57:59.454Z"
   },
   {
    "duration": 30,
    "start_time": "2023-11-19T18:57:59.462Z"
   },
   {
    "duration": 31,
    "start_time": "2023-11-19T18:57:59.493Z"
   },
   {
    "duration": 5292,
    "start_time": "2023-11-19T18:57:59.526Z"
   },
   {
    "duration": 4,
    "start_time": "2023-11-19T18:58:04.820Z"
   },
   {
    "duration": 4509,
    "start_time": "2023-11-19T18:58:04.826Z"
   },
   {
    "duration": 4316,
    "start_time": "2023-11-19T18:58:09.336Z"
   },
   {
    "duration": 8455,
    "start_time": "2023-11-19T18:58:13.653Z"
   },
   {
    "duration": 10,
    "start_time": "2023-11-19T18:58:22.114Z"
   },
   {
    "duration": 35,
    "start_time": "2023-11-19T18:58:22.126Z"
   },
   {
    "duration": 4,
    "start_time": "2023-11-19T18:58:22.163Z"
   },
   {
    "duration": 5,
    "start_time": "2023-11-19T18:58:22.168Z"
   },
   {
    "duration": 4,
    "start_time": "2023-11-19T18:58:22.175Z"
   },
   {
    "duration": 4,
    "start_time": "2023-11-19T18:58:22.180Z"
   },
   {
    "duration": 7,
    "start_time": "2023-11-19T18:58:22.185Z"
   },
   {
    "duration": 11,
    "start_time": "2023-11-19T18:58:22.214Z"
   },
   {
    "duration": 1298,
    "start_time": "2023-11-19T18:58:22.226Z"
   },
   {
    "duration": 10,
    "start_time": "2023-11-19T18:58:23.526Z"
   },
   {
    "duration": 39,
    "start_time": "2023-11-19T18:58:23.538Z"
   },
   {
    "duration": 5,
    "start_time": "2023-11-19T18:58:23.579Z"
   },
   {
    "duration": 8,
    "start_time": "2023-11-19T18:58:23.585Z"
   },
   {
    "duration": 9,
    "start_time": "2023-11-19T18:58:23.594Z"
   },
   {
    "duration": 15,
    "start_time": "2023-11-19T18:58:23.605Z"
   },
   {
    "duration": 237,
    "start_time": "2023-11-19T18:58:23.622Z"
   },
   {
    "duration": 11,
    "start_time": "2023-11-19T18:58:23.860Z"
   },
   {
    "duration": 2052,
    "start_time": "2023-11-19T18:58:23.873Z"
   },
   {
    "duration": 2232,
    "start_time": "2023-11-19T18:58:25.926Z"
   },
   {
    "duration": 0,
    "start_time": "2023-11-19T18:58:28.160Z"
   },
   {
    "duration": 0,
    "start_time": "2023-11-19T18:58:28.162Z"
   },
   {
    "duration": 0,
    "start_time": "2023-11-19T18:58:28.163Z"
   },
   {
    "duration": 0,
    "start_time": "2023-11-19T18:58:28.165Z"
   },
   {
    "duration": 2158,
    "start_time": "2023-11-19T18:58:47.927Z"
   },
   {
    "duration": 5,
    "start_time": "2023-11-19T18:58:52.047Z"
   },
   {
    "duration": 2040,
    "start_time": "2023-11-19T18:59:26.175Z"
   },
   {
    "duration": 7,
    "start_time": "2023-11-19T18:59:35.935Z"
   },
   {
    "duration": 2065,
    "start_time": "2023-11-19T18:59:53.337Z"
   },
   {
    "duration": 7,
    "start_time": "2023-11-19T18:59:55.403Z"
   },
   {
    "duration": 4086,
    "start_time": "2023-11-19T19:00:03.356Z"
   },
   {
    "duration": 9,
    "start_time": "2023-11-19T19:00:07.444Z"
   },
   {
    "duration": 9,
    "start_time": "2023-11-19T19:00:35.616Z"
   },
   {
    "duration": 11,
    "start_time": "2023-11-19T19:00:45.076Z"
   },
   {
    "duration": 2030,
    "start_time": "2023-11-19T19:02:11.497Z"
   },
   {
    "duration": 7,
    "start_time": "2023-11-19T19:02:13.530Z"
   },
   {
    "duration": 9,
    "start_time": "2023-11-19T19:02:15.496Z"
   },
   {
    "duration": 9,
    "start_time": "2023-11-19T19:02:16.426Z"
   },
   {
    "duration": 10,
    "start_time": "2023-11-19T19:02:49.227Z"
   },
   {
    "duration": 12,
    "start_time": "2023-11-19T19:03:05.147Z"
   },
   {
    "duration": 14,
    "start_time": "2023-11-19T19:03:11.587Z"
   },
   {
    "duration": 6,
    "start_time": "2023-11-19T19:03:50.996Z"
   },
   {
    "duration": 15,
    "start_time": "2023-11-19T19:04:03.876Z"
   },
   {
    "duration": 7,
    "start_time": "2023-11-19T19:04:46.226Z"
   },
   {
    "duration": 10,
    "start_time": "2023-11-19T19:06:02.038Z"
   },
   {
    "duration": 8,
    "start_time": "2023-11-19T19:07:45.477Z"
   },
   {
    "duration": 598,
    "start_time": "2023-11-19T19:08:37.240Z"
   },
   {
    "duration": 6,
    "start_time": "2023-11-19T19:08:44.388Z"
   },
   {
    "duration": 6,
    "start_time": "2023-11-19T19:08:57.947Z"
   },
   {
    "duration": 12,
    "start_time": "2023-11-19T19:09:26.534Z"
   },
   {
    "duration": 8,
    "start_time": "2023-11-19T19:10:23.739Z"
   },
   {
    "duration": 321,
    "start_time": "2023-11-19T19:10:39.375Z"
   },
   {
    "duration": 5,
    "start_time": "2023-11-19T19:11:56.518Z"
   },
   {
    "duration": 8,
    "start_time": "2023-11-19T19:12:19.579Z"
   },
   {
    "duration": 6,
    "start_time": "2023-11-19T19:12:30.139Z"
   },
   {
    "duration": 7,
    "start_time": "2023-11-19T19:14:01.739Z"
   },
   {
    "duration": 12,
    "start_time": "2023-11-19T19:17:14.722Z"
   },
   {
    "duration": 12,
    "start_time": "2023-11-19T19:17:18.690Z"
   },
   {
    "duration": 8,
    "start_time": "2023-11-19T19:18:27.590Z"
   },
   {
    "duration": 11,
    "start_time": "2023-11-19T19:20:08.870Z"
   },
   {
    "duration": 4,
    "start_time": "2023-11-19T19:21:57.644Z"
   },
   {
    "duration": 8,
    "start_time": "2023-11-19T19:22:03.028Z"
   },
   {
    "duration": 13,
    "start_time": "2023-11-19T19:22:38.311Z"
   },
   {
    "duration": 17,
    "start_time": "2023-11-19T19:24:30.597Z"
   },
   {
    "duration": 8,
    "start_time": "2023-11-19T19:24:53.250Z"
   },
   {
    "duration": 16,
    "start_time": "2023-11-19T19:25:37.323Z"
   },
   {
    "duration": 2025,
    "start_time": "2023-11-19T19:26:30.779Z"
   },
   {
    "duration": 10,
    "start_time": "2023-11-19T19:26:32.805Z"
   },
   {
    "duration": 298,
    "start_time": "2023-11-19T19:26:52.286Z"
   },
   {
    "duration": 16,
    "start_time": "2023-11-19T19:26:58.459Z"
   },
   {
    "duration": 9,
    "start_time": "2023-11-19T19:27:11.887Z"
   },
   {
    "duration": 8,
    "start_time": "2023-11-19T19:27:19.247Z"
   },
   {
    "duration": 19,
    "start_time": "2023-11-19T19:27:26.807Z"
   },
   {
    "duration": 308,
    "start_time": "2023-11-19T19:27:55.886Z"
   },
   {
    "duration": 351,
    "start_time": "2023-11-19T19:28:10.686Z"
   },
   {
    "duration": 15,
    "start_time": "2023-11-19T19:28:20.647Z"
   },
   {
    "duration": 2016,
    "start_time": "2023-11-19T19:28:29.207Z"
   },
   {
    "duration": 9,
    "start_time": "2023-11-19T19:28:35.118Z"
   },
   {
    "duration": 16,
    "start_time": "2023-11-19T19:28:39.577Z"
   },
   {
    "duration": 9,
    "start_time": "2023-11-19T19:29:39.527Z"
   },
   {
    "duration": 10,
    "start_time": "2023-11-19T19:29:48.286Z"
   },
   {
    "duration": 10,
    "start_time": "2023-11-19T19:29:59.107Z"
   },
   {
    "duration": 24,
    "start_time": "2023-11-19T19:41:01.135Z"
   },
   {
    "duration": 10,
    "start_time": "2023-11-19T19:41:22.599Z"
   },
   {
    "duration": 26,
    "start_time": "2023-11-19T19:41:30.448Z"
   },
   {
    "duration": 5,
    "start_time": "2023-11-19T19:43:42.635Z"
   },
   {
    "duration": 28,
    "start_time": "2023-11-19T19:43:53.078Z"
   },
   {
    "duration": 6,
    "start_time": "2023-11-19T19:44:38.933Z"
   },
   {
    "duration": 31,
    "start_time": "2023-11-19T19:44:44.551Z"
   },
   {
    "duration": 5,
    "start_time": "2023-11-19T19:45:36.344Z"
   },
   {
    "duration": 31,
    "start_time": "2023-11-19T19:45:40.835Z"
   },
   {
    "duration": 3426,
    "start_time": "2023-11-19T20:08:59.238Z"
   },
   {
    "duration": 2040,
    "start_time": "2023-11-19T20:09:38.809Z"
   },
   {
    "duration": 2047,
    "start_time": "2023-11-19T20:10:23.203Z"
   },
   {
    "duration": 3,
    "start_time": "2023-11-19T20:12:07.894Z"
   },
   {
    "duration": 2061,
    "start_time": "2023-11-19T20:13:27.972Z"
   },
   {
    "duration": 32,
    "start_time": "2023-11-19T20:13:32.373Z"
   },
   {
    "duration": 12,
    "start_time": "2023-11-19T20:26:04.283Z"
   },
   {
    "duration": 34,
    "start_time": "2023-11-19T20:26:23.310Z"
   },
   {
    "duration": 763,
    "start_time": "2023-11-20T23:00:18.859Z"
   },
   {
    "duration": 97,
    "start_time": "2023-11-20T23:00:22.119Z"
   },
   {
    "duration": 5,
    "start_time": "2023-11-20T23:00:24.959Z"
   },
   {
    "duration": 4,
    "start_time": "2023-11-20T23:00:26.527Z"
   },
   {
    "duration": 12,
    "start_time": "2023-11-20T23:00:28.159Z"
   },
   {
    "duration": 10,
    "start_time": "2023-11-20T23:00:29.718Z"
   },
   {
    "duration": 7,
    "start_time": "2023-11-20T23:00:30.710Z"
   },
   {
    "duration": 5,
    "start_time": "2023-11-20T23:00:32.390Z"
   },
   {
    "duration": 11,
    "start_time": "2023-11-20T23:00:33.398Z"
   },
   {
    "duration": 338,
    "start_time": "2023-11-20T23:00:35.130Z"
   },
   {
    "duration": 315,
    "start_time": "2023-11-20T23:00:40.959Z"
   },
   {
    "duration": 322,
    "start_time": "2023-11-20T23:00:44.079Z"
   },
   {
    "duration": 268,
    "start_time": "2023-11-20T23:00:46.446Z"
   },
   {
    "duration": 10,
    "start_time": "2023-11-20T23:00:48.527Z"
   },
   {
    "duration": 12,
    "start_time": "2023-11-20T23:00:49.878Z"
   },
   {
    "duration": 116,
    "start_time": "2023-11-20T23:00:51.699Z"
   },
   {
    "duration": 5,
    "start_time": "2023-11-20T23:00:53.726Z"
   },
   {
    "duration": 4,
    "start_time": "2023-11-20T23:00:55.158Z"
   },
   {
    "duration": 4,
    "start_time": "2023-11-20T23:00:56.202Z"
   },
   {
    "duration": 4,
    "start_time": "2023-11-20T23:00:57.566Z"
   },
   {
    "duration": 64,
    "start_time": "2023-11-20T23:00:58.126Z"
   },
   {
    "duration": 11,
    "start_time": "2023-11-20T23:01:00.767Z"
   },
   {
    "duration": 1937,
    "start_time": "2023-11-20T23:01:02.140Z"
   },
   {
    "duration": 11,
    "start_time": "2023-11-20T23:01:07.839Z"
   },
   {
    "duration": 105,
    "start_time": "2023-11-20T23:01:09.966Z"
   },
   {
    "duration": 4,
    "start_time": "2023-11-20T23:01:12.127Z"
   },
   {
    "duration": 4,
    "start_time": "2023-11-20T23:01:13.430Z"
   },
   {
    "duration": 5,
    "start_time": "2023-11-20T23:01:15.039Z"
   },
   {
    "duration": 8,
    "start_time": "2023-11-20T23:01:16.998Z"
   },
   {
    "duration": 325,
    "start_time": "2023-11-20T23:01:17.966Z"
   },
   {
    "duration": 13,
    "start_time": "2023-11-20T23:01:19.597Z"
   },
   {
    "duration": 98,
    "start_time": "2023-11-20T23:01:21.779Z"
   },
   {
    "duration": 4,
    "start_time": "2023-11-20T23:01:24.559Z"
   },
   {
    "duration": 4,
    "start_time": "2023-11-20T23:01:25.726Z"
   },
   {
    "duration": 4,
    "start_time": "2023-11-20T23:01:29.086Z"
   },
   {
    "duration": 4,
    "start_time": "2023-11-20T23:01:30.959Z"
   },
   {
    "duration": 396,
    "start_time": "2023-11-20T23:01:31.859Z"
   },
   {
    "duration": 9,
    "start_time": "2023-11-20T23:01:34.609Z"
   },
   {
    "duration": 143,
    "start_time": "2023-11-20T23:01:36.206Z"
   },
   {
    "duration": 5,
    "start_time": "2023-11-20T23:01:38.089Z"
   },
   {
    "duration": 7,
    "start_time": "2023-11-20T23:01:39.129Z"
   },
   {
    "duration": 29,
    "start_time": "2023-11-20T23:01:40.490Z"
   },
   {
    "duration": 13,
    "start_time": "2023-11-20T23:01:43.279Z"
   },
   {
    "duration": 5354,
    "start_time": "2023-11-20T23:01:44.159Z"
   },
   {
    "duration": 4,
    "start_time": "2023-11-20T23:01:49.515Z"
   },
   {
    "duration": 4442,
    "start_time": "2023-11-20T23:01:49.521Z"
   },
   {
    "duration": 4351,
    "start_time": "2023-11-20T23:01:53.965Z"
   },
   {
    "duration": 8578,
    "start_time": "2023-11-20T23:01:58.318Z"
   },
   {
    "duration": 17,
    "start_time": "2023-11-20T23:02:06.898Z"
   },
   {
    "duration": 70,
    "start_time": "2023-11-20T23:02:14.907Z"
   },
   {
    "duration": 4,
    "start_time": "2023-11-20T23:02:16.447Z"
   },
   {
    "duration": 5,
    "start_time": "2023-11-20T23:02:17.246Z"
   },
   {
    "duration": 5,
    "start_time": "2023-11-20T23:02:18.606Z"
   },
   {
    "duration": 3,
    "start_time": "2023-11-20T23:02:20.400Z"
   },
   {
    "duration": 7,
    "start_time": "2023-11-20T23:02:22.490Z"
   },
   {
    "duration": 10,
    "start_time": "2023-11-20T23:02:24.287Z"
   },
   {
    "duration": 1218,
    "start_time": "2023-11-20T23:02:25.850Z"
   },
   {
    "duration": 11,
    "start_time": "2023-11-20T23:02:29.669Z"
   },
   {
    "duration": 110,
    "start_time": "2023-11-20T23:02:31.359Z"
   },
   {
    "duration": 4,
    "start_time": "2023-11-20T23:02:32.926Z"
   },
   {
    "duration": 4,
    "start_time": "2023-11-20T23:02:34.366Z"
   },
   {
    "duration": 5,
    "start_time": "2023-11-20T23:02:35.939Z"
   },
   {
    "duration": 7,
    "start_time": "2023-11-20T23:02:36.699Z"
   },
   {
    "duration": 218,
    "start_time": "2023-11-20T23:02:37.759Z"
   },
   {
    "duration": 12,
    "start_time": "2023-11-20T23:02:40.079Z"
   },
   {
    "duration": 2137,
    "start_time": "2023-11-20T23:06:04.526Z"
   },
   {
    "duration": 9,
    "start_time": "2023-11-20T23:06:18.579Z"
   },
   {
    "duration": 10,
    "start_time": "2023-11-20T23:06:26.150Z"
   },
   {
    "duration": 2067,
    "start_time": "2023-11-20T23:06:59.638Z"
   },
   {
    "duration": 2035,
    "start_time": "2023-11-20T23:09:09.126Z"
   },
   {
    "duration": 4109,
    "start_time": "2023-11-20T23:09:15.029Z"
   },
   {
    "duration": 2087,
    "start_time": "2023-11-20T23:09:32.762Z"
   },
   {
    "duration": 2042,
    "start_time": "2023-11-20T23:09:44.832Z"
   },
   {
    "duration": 4122,
    "start_time": "2023-11-20T23:09:56.082Z"
   },
   {
    "duration": 4162,
    "start_time": "2023-11-20T23:10:43.922Z"
   },
   {
    "duration": 4041,
    "start_time": "2023-11-20T23:12:50.344Z"
   },
   {
    "duration": 11,
    "start_time": "2023-11-20T23:13:00.976Z"
   },
   {
    "duration": 11,
    "start_time": "2023-11-20T23:16:42.737Z"
   },
   {
    "duration": 5,
    "start_time": "2023-11-20T23:16:51.328Z"
   },
   {
    "duration": 6,
    "start_time": "2023-11-20T23:16:53.537Z"
   },
   {
    "duration": 6,
    "start_time": "2023-11-20T23:16:55.838Z"
   },
   {
    "duration": 2025,
    "start_time": "2023-11-20T23:17:15.098Z"
   },
   {
    "duration": 30,
    "start_time": "2023-11-20T23:17:27.785Z"
   },
   {
    "duration": 12,
    "start_time": "2023-11-20T23:17:29.625Z"
   },
   {
    "duration": 31,
    "start_time": "2023-11-20T23:18:46.138Z"
   },
   {
    "duration": 1350,
    "start_time": "2023-11-20T23:19:00.808Z"
   },
   {
    "duration": 5,
    "start_time": "2023-11-20T23:19:07.403Z"
   },
   {
    "duration": 9,
    "start_time": "2023-11-20T23:23:35.670Z"
   },
   {
    "duration": 8,
    "start_time": "2023-11-20T23:23:46.651Z"
   },
   {
    "duration": 14,
    "start_time": "2023-11-20T23:23:56.730Z"
   },
   {
    "duration": 76,
    "start_time": "2023-11-20T23:24:33.440Z"
   },
   {
    "duration": 17,
    "start_time": "2023-11-20T23:24:37.150Z"
   },
   {
    "duration": 73,
    "start_time": "2023-11-20T23:24:52.411Z"
   },
   {
    "duration": 14,
    "start_time": "2023-11-20T23:24:55.980Z"
   },
   {
    "duration": 10,
    "start_time": "2023-11-20T23:27:43.990Z"
   },
   {
    "duration": 8,
    "start_time": "2023-11-20T23:39:22.757Z"
   },
   {
    "duration": 514,
    "start_time": "2023-11-20T23:49:52.518Z"
   },
   {
    "duration": 2157,
    "start_time": "2023-11-20T23:50:30.719Z"
   },
   {
    "duration": 2187,
    "start_time": "2023-11-20T23:50:47.719Z"
   },
   {
    "duration": 308,
    "start_time": "2023-11-20T23:53:18.050Z"
   },
   {
    "duration": 320,
    "start_time": "2023-11-20T23:55:36.285Z"
   },
   {
    "duration": 337,
    "start_time": "2023-11-20T23:55:49.370Z"
   },
   {
    "duration": 481,
    "start_time": "2023-11-20T23:58:23.566Z"
   },
   {
    "duration": 318,
    "start_time": "2023-11-20T23:58:26.378Z"
   },
   {
    "duration": 309,
    "start_time": "2023-11-20T23:58:48.618Z"
   },
   {
    "duration": 323,
    "start_time": "2023-11-20T23:59:06.206Z"
   },
   {
    "duration": 3,
    "start_time": "2023-11-21T00:06:10.823Z"
   },
   {
    "duration": 706,
    "start_time": "2023-11-21T00:12:25.482Z"
   },
   {
    "duration": 3,
    "start_time": "2023-11-21T00:17:37.601Z"
   },
   {
    "duration": 42,
    "start_time": "2023-11-21T00:17:38.851Z"
   },
   {
    "duration": 3,
    "start_time": "2023-11-21T00:18:04.083Z"
   },
   {
    "duration": 11,
    "start_time": "2023-11-21T00:18:10.074Z"
   },
   {
    "duration": 6,
    "start_time": "2023-11-21T00:18:16.683Z"
   },
   {
    "duration": 4,
    "start_time": "2023-11-21T00:18:41.343Z"
   },
   {
    "duration": 20,
    "start_time": "2023-11-21T00:18:42.803Z"
   },
   {
    "duration": 8,
    "start_time": "2023-11-21T00:18:43.483Z"
   },
   {
    "duration": 191,
    "start_time": "2023-11-21T00:19:19.823Z"
   },
   {
    "duration": 7,
    "start_time": "2023-11-21T00:19:20.581Z"
   },
   {
    "duration": 16,
    "start_time": "2023-11-21T00:19:50.133Z"
   },
   {
    "duration": 7,
    "start_time": "2023-11-21T00:19:51.353Z"
   },
   {
    "duration": 10,
    "start_time": "2023-11-21T00:22:02.981Z"
   },
   {
    "duration": 29,
    "start_time": "2023-11-21T00:23:28.283Z"
   },
   {
    "duration": 15,
    "start_time": "2023-11-21T00:23:37.150Z"
   },
   {
    "duration": 14,
    "start_time": "2023-11-21T00:23:48.603Z"
   },
   {
    "duration": 718,
    "start_time": "2023-11-21T00:24:02.430Z"
   },
   {
    "duration": 7,
    "start_time": "2023-11-21T00:24:09.113Z"
   },
   {
    "duration": 707,
    "start_time": "2023-11-21T00:24:54.083Z"
   },
   {
    "duration": 6,
    "start_time": "2023-11-21T00:24:56.110Z"
   },
   {
    "duration": 4,
    "start_time": "2023-11-21T00:25:01.672Z"
   },
   {
    "duration": 99,
    "start_time": "2023-11-21T00:25:02.922Z"
   },
   {
    "duration": 712,
    "start_time": "2023-11-21T00:25:04.942Z"
   },
   {
    "duration": 7,
    "start_time": "2023-11-21T00:25:07.781Z"
   },
   {
    "duration": 4,
    "start_time": "2023-11-21T00:25:20.349Z"
   },
   {
    "duration": 105,
    "start_time": "2023-11-21T00:25:21.710Z"
   },
   {
    "duration": 7,
    "start_time": "2023-11-21T00:25:23.412Z"
   },
   {
    "duration": 3,
    "start_time": "2023-11-21T00:25:32.509Z"
   },
   {
    "duration": 15,
    "start_time": "2023-11-21T00:25:33.262Z"
   },
   {
    "duration": 7,
    "start_time": "2023-11-21T00:25:34.261Z"
   },
   {
    "duration": 705,
    "start_time": "2023-11-21T00:25:44.422Z"
   },
   {
    "duration": 7,
    "start_time": "2023-11-21T00:25:45.642Z"
   },
   {
    "duration": 3,
    "start_time": "2023-11-21T00:26:08.482Z"
   },
   {
    "duration": 163,
    "start_time": "2023-11-21T00:26:09.252Z"
   },
   {
    "duration": 8,
    "start_time": "2023-11-21T00:26:11.082Z"
   },
   {
    "duration": 75,
    "start_time": "2023-11-21T00:26:16.662Z"
   },
   {
    "duration": 733,
    "start_time": "2023-11-21T00:26:26.062Z"
   },
   {
    "duration": 3,
    "start_time": "2023-11-21T00:27:07.923Z"
   },
   {
    "duration": 186,
    "start_time": "2023-11-21T00:27:09.629Z"
   },
   {
    "duration": 8,
    "start_time": "2023-11-21T00:27:10.803Z"
   },
   {
    "duration": 741,
    "start_time": "2023-11-21T00:27:26.829Z"
   },
   {
    "duration": 7,
    "start_time": "2023-11-21T00:27:40.189Z"
   },
   {
    "duration": 3,
    "start_time": "2023-11-21T00:28:37.534Z"
   },
   {
    "duration": 137,
    "start_time": "2023-11-21T00:29:21.988Z"
   },
   {
    "duration": 4,
    "start_time": "2023-11-21T00:29:24.488Z"
   },
   {
    "duration": 206,
    "start_time": "2023-11-21T00:29:25.118Z"
   },
   {
    "duration": 4,
    "start_time": "2023-11-21T00:29:37.448Z"
   },
   {
    "duration": 47,
    "start_time": "2023-11-21T00:29:38.278Z"
   },
   {
    "duration": 9,
    "start_time": "2023-11-21T00:29:47.913Z"
   },
   {
    "duration": 6,
    "start_time": "2023-11-21T00:29:48.928Z"
   },
   {
    "duration": 6,
    "start_time": "2023-11-21T00:29:49.579Z"
   },
   {
    "duration": 4,
    "start_time": "2023-11-21T00:30:39.328Z"
   },
   {
    "duration": 7,
    "start_time": "2023-11-21T00:30:40.058Z"
   },
   {
    "duration": 159,
    "start_time": "2023-11-21T00:30:40.956Z"
   },
   {
    "duration": 7,
    "start_time": "2023-11-21T00:30:42.778Z"
   },
   {
    "duration": 3,
    "start_time": "2023-11-21T00:30:52.658Z"
   },
   {
    "duration": 5,
    "start_time": "2023-11-21T00:30:53.409Z"
   },
   {
    "duration": 27,
    "start_time": "2023-11-21T00:30:54.488Z"
   },
   {
    "duration": 8,
    "start_time": "2023-11-21T00:30:56.277Z"
   },
   {
    "duration": 736,
    "start_time": "2023-11-21T00:31:10.935Z"
   },
   {
    "duration": 34,
    "start_time": "2023-11-21T00:31:12.215Z"
   },
   {
    "duration": 4,
    "start_time": "2023-11-21T00:34:22.757Z"
   },
   {
    "duration": 164,
    "start_time": "2023-11-21T00:34:23.751Z"
   },
   {
    "duration": 8,
    "start_time": "2023-11-21T00:34:25.290Z"
   },
   {
    "duration": 44350,
    "start_time": "2023-11-21T00:38:21.865Z"
   },
   {
    "duration": 8723,
    "start_time": "2023-11-21T00:39:13.728Z"
   },
   {
    "duration": 0,
    "start_time": "2023-11-21T00:40:02.667Z"
   },
   {
    "duration": 9944,
    "start_time": "2023-11-21T00:40:04.062Z"
   },
   {
    "duration": 37509,
    "start_time": "2023-11-21T00:41:13.321Z"
   },
   {
    "duration": 33563,
    "start_time": "2023-11-21T00:41:51.594Z"
   },
   {
    "duration": 59,
    "start_time": "2023-11-21T00:43:18.770Z"
   },
   {
    "duration": 25891,
    "start_time": "2023-11-21T00:44:01.869Z"
   },
   {
    "duration": 100,
    "start_time": "2023-11-21T00:44:28.428Z"
   },
   {
    "duration": 61251,
    "start_time": "2023-11-21T00:44:33.969Z"
   },
   {
    "duration": 33531,
    "start_time": "2023-11-21T00:45:52.706Z"
   },
   {
    "duration": 12680,
    "start_time": "2023-11-21T00:47:24.002Z"
   },
   {
    "duration": 33299,
    "start_time": "2023-11-21T00:47:37.388Z"
   },
   {
    "duration": 74,
    "start_time": "2023-11-21T00:48:10.688Z"
   },
   {
    "duration": 4,
    "start_time": "2023-11-21T00:48:30.661Z"
   },
   {
    "duration": 167,
    "start_time": "2023-11-21T00:48:31.352Z"
   },
   {
    "duration": 7,
    "start_time": "2023-11-21T00:48:32.152Z"
   },
   {
    "duration": 31605,
    "start_time": "2023-11-21T00:48:33.282Z"
   },
   {
    "duration": 79,
    "start_time": "2023-11-21T00:49:04.888Z"
   },
   {
    "duration": 3,
    "start_time": "2023-11-21T00:52:28.827Z"
   },
   {
    "duration": 64,
    "start_time": "2023-11-21T00:52:29.761Z"
   },
   {
    "duration": 15,
    "start_time": "2023-11-21T00:53:24.661Z"
   },
   {
    "duration": 3,
    "start_time": "2023-11-21T00:54:06.429Z"
   },
   {
    "duration": 9,
    "start_time": "2023-11-21T00:54:07.460Z"
   },
   {
    "duration": 133,
    "start_time": "2023-11-21T00:54:12.285Z"
   },
   {
    "duration": 7,
    "start_time": "2023-11-21T00:54:13.427Z"
   },
   {
    "duration": 8,
    "start_time": "2023-11-21T00:54:48.847Z"
   },
   {
    "duration": 31854,
    "start_time": "2023-11-21T00:54:53.376Z"
   },
   {
    "duration": 63,
    "start_time": "2023-11-21T00:55:25.232Z"
   },
   {
    "duration": 2,
    "start_time": "2023-11-21T00:55:43.799Z"
   },
   {
    "duration": 12,
    "start_time": "2023-11-21T00:55:44.928Z"
   },
   {
    "duration": 10,
    "start_time": "2023-11-21T00:58:04.248Z"
   },
   {
    "duration": 16,
    "start_time": "2023-11-21T00:58:08.418Z"
   },
   {
    "duration": 12,
    "start_time": "2023-11-21T00:58:13.479Z"
   },
   {
    "duration": 9,
    "start_time": "2023-11-21T00:58:23.935Z"
   },
   {
    "duration": 2,
    "start_time": "2023-11-21T00:58:26.039Z"
   },
   {
    "duration": 6104,
    "start_time": "2023-11-21T00:58:27.329Z"
   },
   {
    "duration": 9,
    "start_time": "2023-11-21T00:59:51.239Z"
   },
   {
    "duration": 2,
    "start_time": "2023-11-21T00:59:53.056Z"
   },
   {
    "duration": 893,
    "start_time": "2023-11-21T00:59:53.527Z"
   },
   {
    "duration": 510,
    "start_time": "2023-11-21T01:00:12.727Z"
   },
   {
    "duration": 197,
    "start_time": "2023-11-21T01:00:16.648Z"
   },
   {
    "duration": 281,
    "start_time": "2023-11-21T01:00:20.439Z"
   },
   {
    "duration": 509,
    "start_time": "2023-11-21T01:00:25.320Z"
   },
   {
    "duration": 11,
    "start_time": "2023-11-21T01:01:00.923Z"
   },
   {
    "duration": 14,
    "start_time": "2023-11-21T01:01:23.616Z"
   },
   {
    "duration": 562,
    "start_time": "2023-11-21T01:01:39.179Z"
   },
   {
    "duration": 100,
    "start_time": "2023-11-21T01:01:43.621Z"
   },
   {
    "duration": 1579,
    "start_time": "2023-11-21T01:01:49.548Z"
   },
   {
    "duration": 2939,
    "start_time": "2023-11-21T01:01:57.789Z"
   },
   {
    "duration": 8614,
    "start_time": "2023-11-21T01:02:06.623Z"
   },
   {
    "duration": 8,
    "start_time": "2023-11-21T01:03:18.948Z"
   },
   {
    "duration": 2,
    "start_time": "2023-11-21T01:03:21.774Z"
   },
   {
    "duration": 16,
    "start_time": "2023-11-21T01:03:22.426Z"
   },
   {
    "duration": 3,
    "start_time": "2023-11-21T01:04:22.759Z"
   },
   {
    "duration": 132,
    "start_time": "2023-11-21T01:04:23.488Z"
   },
   {
    "duration": 194,
    "start_time": "2023-11-21T01:04:34.527Z"
   },
   {
    "duration": 114,
    "start_time": "2023-11-21T01:04:39.000Z"
   },
   {
    "duration": 130,
    "start_time": "2023-11-21T01:04:43.400Z"
   },
   {
    "duration": 124,
    "start_time": "2023-11-21T01:04:48.103Z"
   },
   {
    "duration": 88,
    "start_time": "2023-11-21T01:04:51.693Z"
   },
   {
    "duration": 115,
    "start_time": "2023-11-21T01:04:55.812Z"
   },
   {
    "duration": 121,
    "start_time": "2023-11-21T01:05:00.608Z"
   },
   {
    "duration": 87,
    "start_time": "2023-11-21T01:05:06.483Z"
   },
   {
    "duration": 93,
    "start_time": "2023-11-21T01:05:12.643Z"
   },
   {
    "duration": 2,
    "start_time": "2023-11-21T01:06:13.400Z"
   },
   {
    "duration": 1600,
    "start_time": "2023-11-21T01:06:14.233Z"
   },
   {
    "duration": 3,
    "start_time": "2023-11-21T01:06:35.772Z"
   },
   {
    "duration": 1484,
    "start_time": "2023-11-21T01:06:36.342Z"
   },
   {
    "duration": 11,
    "start_time": "2023-11-21T01:06:42.183Z"
   },
   {
    "duration": 13,
    "start_time": "2023-11-21T01:07:01.093Z"
   },
   {
    "duration": 12,
    "start_time": "2023-11-21T01:07:08.433Z"
   },
   {
    "duration": 12,
    "start_time": "2023-11-21T01:07:13.827Z"
   },
   {
    "duration": 83,
    "start_time": "2023-11-21T01:07:18.132Z"
   },
   {
    "duration": 11,
    "start_time": "2023-11-21T01:07:22.427Z"
   },
   {
    "duration": 11,
    "start_time": "2023-11-21T01:07:27.654Z"
   },
   {
    "duration": 44,
    "start_time": "2023-11-21T01:08:26.672Z"
   },
   {
    "duration": 3,
    "start_time": "2023-11-21T01:09:10.454Z"
   },
   {
    "duration": 2011,
    "start_time": "2023-11-21T01:09:11.334Z"
   },
   {
    "duration": 9,
    "start_time": "2023-11-21T01:09:51.047Z"
   },
   {
    "duration": 85,
    "start_time": "2023-11-21T01:09:52.558Z"
   },
   {
    "duration": 3,
    "start_time": "2023-11-21T01:10:01.026Z"
   },
   {
    "duration": 10,
    "start_time": "2023-11-21T01:10:01.735Z"
   },
   {
    "duration": 2,
    "start_time": "2023-11-21T01:10:37.368Z"
   },
   {
    "duration": 91,
    "start_time": "2023-11-21T01:10:38.727Z"
   },
   {
    "duration": 3,
    "start_time": "2023-11-21T01:11:00.327Z"
   },
   {
    "duration": 1390,
    "start_time": "2023-11-21T01:11:33.587Z"
   },
   {
    "duration": 63,
    "start_time": "2023-11-21T01:11:34.979Z"
   },
   {
    "duration": 6,
    "start_time": "2023-11-21T01:11:35.043Z"
   },
   {
    "duration": 11,
    "start_time": "2023-11-21T01:11:35.051Z"
   },
   {
    "duration": 10,
    "start_time": "2023-11-21T01:11:35.063Z"
   },
   {
    "duration": 9,
    "start_time": "2023-11-21T01:11:35.074Z"
   },
   {
    "duration": 7,
    "start_time": "2023-11-21T01:11:35.084Z"
   },
   {
    "duration": 36,
    "start_time": "2023-11-21T01:11:35.092Z"
   },
   {
    "duration": 10,
    "start_time": "2023-11-21T01:11:35.129Z"
   },
   {
    "duration": 314,
    "start_time": "2023-11-21T01:11:35.141Z"
   },
   {
    "duration": 329,
    "start_time": "2023-11-21T01:11:35.457Z"
   },
   {
    "duration": 348,
    "start_time": "2023-11-21T01:11:35.788Z"
   },
   {
    "duration": 309,
    "start_time": "2023-11-21T01:11:36.138Z"
   },
   {
    "duration": 11,
    "start_time": "2023-11-21T01:11:36.449Z"
   },
   {
    "duration": 19,
    "start_time": "2023-11-21T01:11:36.461Z"
   },
   {
    "duration": 109,
    "start_time": "2023-11-21T01:11:36.482Z"
   },
   {
    "duration": 4,
    "start_time": "2023-11-21T01:11:36.593Z"
   },
   {
    "duration": 5,
    "start_time": "2023-11-21T01:11:36.598Z"
   },
   {
    "duration": 23,
    "start_time": "2023-11-21T01:11:36.604Z"
   },
   {
    "duration": 4,
    "start_time": "2023-11-21T01:11:36.628Z"
   },
   {
    "duration": 9,
    "start_time": "2023-11-21T01:11:36.634Z"
   },
   {
    "duration": 14,
    "start_time": "2023-11-21T01:11:36.644Z"
   },
   {
    "duration": 2008,
    "start_time": "2023-11-21T01:11:36.660Z"
   },
   {
    "duration": 11,
    "start_time": "2023-11-21T01:11:38.670Z"
   },
   {
    "duration": 67,
    "start_time": "2023-11-21T01:11:38.682Z"
   },
   {
    "duration": 5,
    "start_time": "2023-11-21T01:11:38.750Z"
   },
   {
    "duration": 10,
    "start_time": "2023-11-21T01:11:38.756Z"
   },
   {
    "duration": 4,
    "start_time": "2023-11-21T01:11:38.771Z"
   },
   {
    "duration": 13,
    "start_time": "2023-11-21T01:11:38.776Z"
   },
   {
    "duration": 341,
    "start_time": "2023-11-21T01:11:38.790Z"
   },
   {
    "duration": 13,
    "start_time": "2023-11-21T01:11:39.132Z"
   },
   {
    "duration": 44,
    "start_time": "2023-11-21T01:11:39.147Z"
   },
   {
    "duration": 5,
    "start_time": "2023-11-21T01:11:39.192Z"
   },
   {
    "duration": 7,
    "start_time": "2023-11-21T01:11:39.198Z"
   },
   {
    "duration": 23,
    "start_time": "2023-11-21T01:11:39.206Z"
   },
   {
    "duration": 411,
    "start_time": "2023-11-21T01:11:39.230Z"
   },
   {
    "duration": 9,
    "start_time": "2023-11-21T01:11:39.643Z"
   },
   {
    "duration": 32,
    "start_time": "2023-11-21T01:11:39.654Z"
   },
   {
    "duration": 4,
    "start_time": "2023-11-21T01:11:39.688Z"
   },
   {
    "duration": 7,
    "start_time": "2023-11-21T01:11:39.694Z"
   },
   {
    "duration": 32,
    "start_time": "2023-11-21T01:11:39.722Z"
   },
   {
    "duration": 13,
    "start_time": "2023-11-21T01:11:39.755Z"
   },
   {
    "duration": 5575,
    "start_time": "2023-11-21T01:11:39.770Z"
   },
   {
    "duration": 4,
    "start_time": "2023-11-21T01:11:45.347Z"
   },
   {
    "duration": 4604,
    "start_time": "2023-11-21T01:11:45.352Z"
   },
   {
    "duration": 4576,
    "start_time": "2023-11-21T01:11:49.958Z"
   },
   {
    "duration": 8833,
    "start_time": "2023-11-21T01:11:54.535Z"
   },
   {
    "duration": 10,
    "start_time": "2023-11-21T01:12:03.369Z"
   },
   {
    "duration": 46,
    "start_time": "2023-11-21T01:12:03.381Z"
   },
   {
    "duration": 5,
    "start_time": "2023-11-21T01:12:03.429Z"
   },
   {
    "duration": 12,
    "start_time": "2023-11-21T01:12:03.436Z"
   },
   {
    "duration": 15,
    "start_time": "2023-11-21T01:12:03.450Z"
   },
   {
    "duration": 3,
    "start_time": "2023-11-21T01:12:03.466Z"
   },
   {
    "duration": 7,
    "start_time": "2023-11-21T01:12:03.471Z"
   },
   {
    "duration": 13,
    "start_time": "2023-11-21T01:12:03.480Z"
   },
   {
    "duration": 1280,
    "start_time": "2023-11-21T01:12:03.495Z"
   },
   {
    "duration": 10,
    "start_time": "2023-11-21T01:12:04.777Z"
   },
   {
    "duration": 41,
    "start_time": "2023-11-21T01:12:04.789Z"
   },
   {
    "duration": 6,
    "start_time": "2023-11-21T01:12:04.832Z"
   },
   {
    "duration": 6,
    "start_time": "2023-11-21T01:12:04.839Z"
   },
   {
    "duration": 7,
    "start_time": "2023-11-21T01:12:04.847Z"
   },
   {
    "duration": 6,
    "start_time": "2023-11-21T01:12:04.855Z"
   },
   {
    "duration": 248,
    "start_time": "2023-11-21T01:12:04.862Z"
   },
   {
    "duration": 21,
    "start_time": "2023-11-21T01:12:05.115Z"
   },
   {
    "duration": 2176,
    "start_time": "2023-11-21T01:12:05.138Z"
   },
   {
    "duration": 4242,
    "start_time": "2023-11-21T01:12:07.322Z"
   },
   {
    "duration": 9,
    "start_time": "2023-11-21T01:12:11.565Z"
   },
   {
    "duration": 130,
    "start_time": "2023-11-21T01:12:11.576Z"
   },
   {
    "duration": 1,
    "start_time": "2023-11-21T01:12:11.707Z"
   },
   {
    "duration": 0,
    "start_time": "2023-11-21T01:12:11.709Z"
   },
   {
    "duration": 0,
    "start_time": "2023-11-21T01:12:11.714Z"
   },
   {
    "duration": 0,
    "start_time": "2023-11-21T01:12:11.715Z"
   },
   {
    "duration": 0,
    "start_time": "2023-11-21T01:12:11.715Z"
   },
   {
    "duration": 0,
    "start_time": "2023-11-21T01:12:11.716Z"
   },
   {
    "duration": 0,
    "start_time": "2023-11-21T01:12:11.717Z"
   },
   {
    "duration": 0,
    "start_time": "2023-11-21T01:12:11.717Z"
   },
   {
    "duration": 0,
    "start_time": "2023-11-21T01:12:11.718Z"
   },
   {
    "duration": 0,
    "start_time": "2023-11-21T01:12:11.719Z"
   },
   {
    "duration": 0,
    "start_time": "2023-11-21T01:12:11.719Z"
   },
   {
    "duration": 0,
    "start_time": "2023-11-21T01:12:11.720Z"
   },
   {
    "duration": 0,
    "start_time": "2023-11-21T01:12:11.726Z"
   },
   {
    "duration": 0,
    "start_time": "2023-11-21T01:12:11.727Z"
   },
   {
    "duration": 0,
    "start_time": "2023-11-21T01:12:11.728Z"
   },
   {
    "duration": 0,
    "start_time": "2023-11-21T01:12:11.729Z"
   },
   {
    "duration": 0,
    "start_time": "2023-11-21T01:12:11.730Z"
   },
   {
    "duration": 0,
    "start_time": "2023-11-21T01:12:11.731Z"
   },
   {
    "duration": 0,
    "start_time": "2023-11-21T01:12:11.732Z"
   },
   {
    "duration": 0,
    "start_time": "2023-11-21T01:12:11.733Z"
   },
   {
    "duration": 0,
    "start_time": "2023-11-21T01:12:11.734Z"
   },
   {
    "duration": 15,
    "start_time": "2023-11-21T01:12:31.447Z"
   },
   {
    "duration": 14,
    "start_time": "2023-11-21T01:13:02.905Z"
   },
   {
    "duration": 11,
    "start_time": "2023-11-21T01:13:13.734Z"
   },
   {
    "duration": 8,
    "start_time": "2023-11-21T01:13:32.495Z"
   },
   {
    "duration": 5,
    "start_time": "2023-11-21T01:14:55.171Z"
   },
   {
    "duration": 5,
    "start_time": "2023-11-21T01:14:56.062Z"
   },
   {
    "duration": 6,
    "start_time": "2023-11-21T01:14:57.992Z"
   },
   {
    "duration": 2098,
    "start_time": "2023-11-21T01:14:58.828Z"
   },
   {
    "duration": 29,
    "start_time": "2023-11-21T01:15:01.340Z"
   },
   {
    "duration": 10,
    "start_time": "2023-11-21T01:15:02.972Z"
   },
   {
    "duration": 10,
    "start_time": "2023-11-21T01:15:04.561Z"
   },
   {
    "duration": 338,
    "start_time": "2023-11-21T01:15:05.868Z"
   },
   {
    "duration": 290,
    "start_time": "2023-11-21T01:15:08.339Z"
   },
   {
    "duration": 414,
    "start_time": "2023-11-21T01:15:10.532Z"
   },
   {
    "duration": 323,
    "start_time": "2023-11-21T01:15:12.672Z"
   },
   {
    "duration": 9,
    "start_time": "2023-11-21T01:15:23.058Z"
   },
   {
    "duration": 10,
    "start_time": "2023-11-21T01:15:24.826Z"
   },
   {
    "duration": 3,
    "start_time": "2023-11-21T01:15:29.994Z"
   },
   {
    "duration": 121,
    "start_time": "2023-11-21T01:15:30.899Z"
   },
   {
    "duration": 9,
    "start_time": "2023-11-21T01:15:33.568Z"
   },
   {
    "duration": 32477,
    "start_time": "2023-11-21T01:15:38.358Z"
   },
   {
    "duration": 61,
    "start_time": "2023-11-21T01:16:10.837Z"
   },
   {
    "duration": 1464,
    "start_time": "2023-11-21T01:18:58.809Z"
   },
   {
    "duration": 63,
    "start_time": "2023-11-21T01:19:00.275Z"
   },
   {
    "duration": 12,
    "start_time": "2023-11-21T01:19:00.339Z"
   },
   {
    "duration": 76,
    "start_time": "2023-11-21T01:19:00.353Z"
   },
   {
    "duration": 50,
    "start_time": "2023-11-21T01:19:00.431Z"
   },
   {
    "duration": 48,
    "start_time": "2023-11-21T01:19:00.483Z"
   },
   {
    "duration": 17,
    "start_time": "2023-11-21T01:19:00.533Z"
   },
   {
    "duration": 47,
    "start_time": "2023-11-21T01:19:00.552Z"
   },
   {
    "duration": 68,
    "start_time": "2023-11-21T01:19:00.600Z"
   },
   {
    "duration": 381,
    "start_time": "2023-11-21T01:19:00.670Z"
   },
   {
    "duration": 332,
    "start_time": "2023-11-21T01:19:01.053Z"
   },
   {
    "duration": 340,
    "start_time": "2023-11-21T01:19:01.386Z"
   },
   {
    "duration": 311,
    "start_time": "2023-11-21T01:19:01.728Z"
   },
   {
    "duration": 11,
    "start_time": "2023-11-21T01:19:02.040Z"
   },
   {
    "duration": 26,
    "start_time": "2023-11-21T01:19:02.053Z"
   },
   {
    "duration": 158,
    "start_time": "2023-11-21T01:19:02.080Z"
   },
   {
    "duration": 4,
    "start_time": "2023-11-21T01:19:02.239Z"
   },
   {
    "duration": 39,
    "start_time": "2023-11-21T01:19:02.244Z"
   },
   {
    "duration": 28,
    "start_time": "2023-11-21T01:19:02.284Z"
   },
   {
    "duration": 47,
    "start_time": "2023-11-21T01:19:02.314Z"
   },
   {
    "duration": 92,
    "start_time": "2023-11-21T01:19:02.363Z"
   },
   {
    "duration": 52,
    "start_time": "2023-11-21T01:19:02.457Z"
   },
   {
    "duration": 2081,
    "start_time": "2023-11-21T01:19:02.510Z"
   },
   {
    "duration": 10,
    "start_time": "2023-11-21T01:19:04.592Z"
   },
   {
    "duration": 68,
    "start_time": "2023-11-21T01:19:04.604Z"
   },
   {
    "duration": 7,
    "start_time": "2023-11-21T01:19:04.673Z"
   },
   {
    "duration": 8,
    "start_time": "2023-11-21T01:19:04.681Z"
   },
   {
    "duration": 10,
    "start_time": "2023-11-21T01:19:04.694Z"
   },
   {
    "duration": 23,
    "start_time": "2023-11-21T01:19:04.705Z"
   },
   {
    "duration": 343,
    "start_time": "2023-11-21T01:19:04.735Z"
   },
   {
    "duration": 12,
    "start_time": "2023-11-21T01:19:05.080Z"
   },
   {
    "duration": 50,
    "start_time": "2023-11-21T01:19:05.094Z"
   },
   {
    "duration": 4,
    "start_time": "2023-11-21T01:19:05.145Z"
   },
   {
    "duration": 8,
    "start_time": "2023-11-21T01:19:05.151Z"
   },
   {
    "duration": 13,
    "start_time": "2023-11-21T01:19:05.160Z"
   },
   {
    "duration": 465,
    "start_time": "2023-11-21T01:19:05.175Z"
   },
   {
    "duration": 11,
    "start_time": "2023-11-21T01:19:05.642Z"
   },
   {
    "duration": 69,
    "start_time": "2023-11-21T01:19:05.655Z"
   },
   {
    "duration": 7,
    "start_time": "2023-11-21T01:19:05.726Z"
   },
   {
    "duration": 9,
    "start_time": "2023-11-21T01:19:05.735Z"
   },
   {
    "duration": 53,
    "start_time": "2023-11-21T01:19:05.745Z"
   },
   {
    "duration": 27,
    "start_time": "2023-11-21T01:19:05.800Z"
   },
   {
    "duration": 5878,
    "start_time": "2023-11-21T01:19:05.829Z"
   },
   {
    "duration": 9,
    "start_time": "2023-11-21T01:19:11.709Z"
   },
   {
    "duration": 4734,
    "start_time": "2023-11-21T01:19:11.726Z"
   },
   {
    "duration": 4792,
    "start_time": "2023-11-21T01:19:16.461Z"
   },
   {
    "duration": 9183,
    "start_time": "2023-11-21T01:19:21.254Z"
   },
   {
    "duration": 10,
    "start_time": "2023-11-21T01:19:30.439Z"
   },
   {
    "duration": 72,
    "start_time": "2023-11-21T01:19:30.451Z"
   },
   {
    "duration": 5,
    "start_time": "2023-11-21T01:19:30.525Z"
   },
   {
    "duration": 38,
    "start_time": "2023-11-21T01:19:30.532Z"
   },
   {
    "duration": 40,
    "start_time": "2023-11-21T01:19:30.572Z"
   },
   {
    "duration": 31,
    "start_time": "2023-11-21T01:19:30.614Z"
   },
   {
    "duration": 34,
    "start_time": "2023-11-21T01:19:30.646Z"
   },
   {
    "duration": 30,
    "start_time": "2023-11-21T01:19:30.682Z"
   },
   {
    "duration": 1328,
    "start_time": "2023-11-21T01:19:30.713Z"
   },
   {
    "duration": 11,
    "start_time": "2023-11-21T01:19:32.043Z"
   },
   {
    "duration": 41,
    "start_time": "2023-11-21T01:19:32.056Z"
   },
   {
    "duration": 5,
    "start_time": "2023-11-21T01:19:32.098Z"
   },
   {
    "duration": 6,
    "start_time": "2023-11-21T01:19:32.104Z"
   },
   {
    "duration": 13,
    "start_time": "2023-11-21T01:19:32.122Z"
   },
   {
    "duration": 10,
    "start_time": "2023-11-21T01:19:32.136Z"
   },
   {
    "duration": 288,
    "start_time": "2023-11-21T01:19:32.147Z"
   },
   {
    "duration": 11,
    "start_time": "2023-11-21T01:19:32.437Z"
   },
   {
    "duration": 2193,
    "start_time": "2023-11-21T01:19:32.450Z"
   },
   {
    "duration": 4411,
    "start_time": "2023-11-21T01:19:34.645Z"
   },
   {
    "duration": 9,
    "start_time": "2023-11-21T01:19:39.058Z"
   },
   {
    "duration": 8,
    "start_time": "2023-11-21T01:19:39.068Z"
   },
   {
    "duration": 5,
    "start_time": "2023-11-21T01:19:39.078Z"
   },
   {
    "duration": 21,
    "start_time": "2023-11-21T01:19:39.084Z"
   },
   {
    "duration": 23,
    "start_time": "2023-11-21T01:19:39.107Z"
   },
   {
    "duration": 2236,
    "start_time": "2023-11-21T01:19:39.132Z"
   },
   {
    "duration": 31,
    "start_time": "2023-11-21T01:19:41.369Z"
   },
   {
    "duration": 27,
    "start_time": "2023-11-21T01:19:41.401Z"
   },
   {
    "duration": 81,
    "start_time": "2023-11-21T01:19:41.429Z"
   },
   {
    "duration": 394,
    "start_time": "2023-11-21T01:19:41.511Z"
   },
   {
    "duration": 325,
    "start_time": "2023-11-21T01:19:41.907Z"
   },
   {
    "duration": 447,
    "start_time": "2023-11-21T01:19:42.234Z"
   },
   {
    "duration": 357,
    "start_time": "2023-11-21T01:19:42.683Z"
   },
   {
    "duration": 8,
    "start_time": "2023-11-21T01:19:43.042Z"
   },
   {
    "duration": 10,
    "start_time": "2023-11-21T01:19:43.051Z"
   },
   {
    "duration": 4,
    "start_time": "2023-11-21T01:19:43.066Z"
   },
   {
    "duration": 161,
    "start_time": "2023-11-21T01:19:43.071Z"
   },
   {
    "duration": 90,
    "start_time": "2023-11-21T01:19:43.235Z"
   },
   {
    "duration": 33394,
    "start_time": "2023-11-21T01:19:43.332Z"
   },
   {
    "duration": 64,
    "start_time": "2023-11-21T01:20:16.728Z"
   },
   {
    "duration": 3,
    "start_time": "2023-11-21T01:20:16.793Z"
   },
   {
    "duration": 140,
    "start_time": "2023-11-21T01:20:16.797Z"
   },
   {
    "duration": 120,
    "start_time": "2023-11-21T01:20:17.016Z"
   },
   {
    "duration": 112,
    "start_time": "2023-11-21T01:21:02.498Z"
   },
   {
    "duration": 1435,
    "start_time": "2023-11-21T01:21:45.626Z"
   },
   {
    "duration": 62,
    "start_time": "2023-11-21T01:21:47.063Z"
   },
   {
    "duration": 5,
    "start_time": "2023-11-21T01:21:47.127Z"
   },
   {
    "duration": 4,
    "start_time": "2023-11-21T01:21:47.134Z"
   },
   {
    "duration": 11,
    "start_time": "2023-11-21T01:21:47.140Z"
   },
   {
    "duration": 10,
    "start_time": "2023-11-21T01:21:47.152Z"
   },
   {
    "duration": 14,
    "start_time": "2023-11-21T01:21:47.163Z"
   },
   {
    "duration": 8,
    "start_time": "2023-11-21T01:21:47.179Z"
   },
   {
    "duration": 39,
    "start_time": "2023-11-21T01:21:47.188Z"
   },
   {
    "duration": 327,
    "start_time": "2023-11-21T01:21:47.230Z"
   },
   {
    "duration": 388,
    "start_time": "2023-11-21T01:21:47.559Z"
   },
   {
    "duration": 308,
    "start_time": "2023-11-21T01:21:47.948Z"
   },
   {
    "duration": 351,
    "start_time": "2023-11-21T01:21:48.257Z"
   },
   {
    "duration": 22,
    "start_time": "2023-11-21T01:21:48.609Z"
   },
   {
    "duration": 25,
    "start_time": "2023-11-21T01:21:48.632Z"
   },
   {
    "duration": 114,
    "start_time": "2023-11-21T01:21:48.659Z"
   },
   {
    "duration": 4,
    "start_time": "2023-11-21T01:21:48.775Z"
   },
   {
    "duration": 6,
    "start_time": "2023-11-21T01:21:48.780Z"
   },
   {
    "duration": 9,
    "start_time": "2023-11-21T01:21:48.787Z"
   },
   {
    "duration": 4,
    "start_time": "2023-11-21T01:21:48.797Z"
   },
   {
    "duration": 23,
    "start_time": "2023-11-21T01:21:48.802Z"
   },
   {
    "duration": 15,
    "start_time": "2023-11-21T01:21:48.828Z"
   },
   {
    "duration": 2103,
    "start_time": "2023-11-21T01:21:48.844Z"
   },
   {
    "duration": 11,
    "start_time": "2023-11-21T01:21:50.948Z"
   },
   {
    "duration": 52,
    "start_time": "2023-11-21T01:21:50.960Z"
   },
   {
    "duration": 15,
    "start_time": "2023-11-21T01:21:51.013Z"
   },
   {
    "duration": 4,
    "start_time": "2023-11-21T01:21:51.030Z"
   },
   {
    "duration": 6,
    "start_time": "2023-11-21T01:21:51.039Z"
   },
   {
    "duration": 19,
    "start_time": "2023-11-21T01:21:51.046Z"
   },
   {
    "duration": 332,
    "start_time": "2023-11-21T01:21:51.066Z"
   },
   {
    "duration": 27,
    "start_time": "2023-11-21T01:21:51.399Z"
   },
   {
    "duration": 42,
    "start_time": "2023-11-21T01:21:51.428Z"
   },
   {
    "duration": 5,
    "start_time": "2023-11-21T01:21:51.471Z"
   },
   {
    "duration": 8,
    "start_time": "2023-11-21T01:21:51.477Z"
   },
   {
    "duration": 19,
    "start_time": "2023-11-21T01:21:51.486Z"
   },
   {
    "duration": 440,
    "start_time": "2023-11-21T01:21:51.507Z"
   },
   {
    "duration": 11,
    "start_time": "2023-11-21T01:21:51.948Z"
   },
   {
    "duration": 36,
    "start_time": "2023-11-21T01:21:51.961Z"
   },
   {
    "duration": 5,
    "start_time": "2023-11-21T01:21:51.999Z"
   },
   {
    "duration": 8,
    "start_time": "2023-11-21T01:21:52.025Z"
   },
   {
    "duration": 42,
    "start_time": "2023-11-21T01:21:52.035Z"
   },
   {
    "duration": 15,
    "start_time": "2023-11-21T01:21:52.078Z"
   },
   {
    "duration": 5669,
    "start_time": "2023-11-21T01:21:52.094Z"
   },
   {
    "duration": 4,
    "start_time": "2023-11-21T01:21:57.765Z"
   },
   {
    "duration": 4655,
    "start_time": "2023-11-21T01:21:57.770Z"
   },
   {
    "duration": 4618,
    "start_time": "2023-11-21T01:22:02.428Z"
   },
   {
    "duration": 8809,
    "start_time": "2023-11-21T01:22:07.047Z"
   },
   {
    "duration": 10,
    "start_time": "2023-11-21T01:22:15.858Z"
   },
   {
    "duration": 57,
    "start_time": "2023-11-21T01:22:15.870Z"
   },
   {
    "duration": 7,
    "start_time": "2023-11-21T01:22:15.929Z"
   },
   {
    "duration": 12,
    "start_time": "2023-11-21T01:22:15.937Z"
   },
   {
    "duration": 22,
    "start_time": "2023-11-21T01:22:15.951Z"
   },
   {
    "duration": 22,
    "start_time": "2023-11-21T01:22:15.975Z"
   },
   {
    "duration": 33,
    "start_time": "2023-11-21T01:22:15.999Z"
   },
   {
    "duration": 16,
    "start_time": "2023-11-21T01:22:16.034Z"
   },
   {
    "duration": 1325,
    "start_time": "2023-11-21T01:22:16.052Z"
   },
   {
    "duration": 11,
    "start_time": "2023-11-21T01:22:17.379Z"
   },
   {
    "duration": 116,
    "start_time": "2023-11-21T01:22:17.391Z"
   },
   {
    "duration": 5,
    "start_time": "2023-11-21T01:22:17.508Z"
   },
   {
    "duration": 29,
    "start_time": "2023-11-21T01:22:17.514Z"
   },
   {
    "duration": 15,
    "start_time": "2023-11-21T01:22:17.544Z"
   },
   {
    "duration": 33,
    "start_time": "2023-11-21T01:22:17.561Z"
   },
   {
    "duration": 271,
    "start_time": "2023-11-21T01:22:17.595Z"
   },
   {
    "duration": 11,
    "start_time": "2023-11-21T01:22:17.868Z"
   },
   {
    "duration": 2183,
    "start_time": "2023-11-21T01:22:17.881Z"
   },
   {
    "duration": 4260,
    "start_time": "2023-11-21T01:22:20.066Z"
   },
   {
    "duration": 9,
    "start_time": "2023-11-21T01:22:24.328Z"
   },
   {
    "duration": 19,
    "start_time": "2023-11-21T01:22:24.338Z"
   },
   {
    "duration": 5,
    "start_time": "2023-11-21T01:22:24.359Z"
   },
   {
    "duration": 8,
    "start_time": "2023-11-21T01:22:24.365Z"
   },
   {
    "duration": 7,
    "start_time": "2023-11-21T01:22:24.375Z"
   },
   {
    "duration": 2127,
    "start_time": "2023-11-21T01:22:24.384Z"
   },
   {
    "duration": 39,
    "start_time": "2023-11-21T01:22:26.513Z"
   },
   {
    "duration": 12,
    "start_time": "2023-11-21T01:22:26.554Z"
   },
   {
    "duration": 17,
    "start_time": "2023-11-21T01:22:26.567Z"
   },
   {
    "duration": 367,
    "start_time": "2023-11-21T01:22:26.585Z"
   },
   {
    "duration": 304,
    "start_time": "2023-11-21T01:22:26.953Z"
   },
   {
    "duration": 498,
    "start_time": "2023-11-21T01:22:27.259Z"
   },
   {
    "duration": 313,
    "start_time": "2023-11-21T01:22:27.758Z"
   },
   {
    "duration": 356,
    "start_time": "2023-11-21T01:22:28.073Z"
   },
   {
    "duration": 9,
    "start_time": "2023-11-21T01:22:28.430Z"
   },
   {
    "duration": 3,
    "start_time": "2023-11-21T01:22:28.444Z"
   },
   {
    "duration": 4,
    "start_time": "2023-11-21T01:22:28.449Z"
   },
   {
    "duration": 171,
    "start_time": "2023-11-21T01:22:28.455Z"
   },
   {
    "duration": 8,
    "start_time": "2023-11-21T01:22:28.628Z"
   },
   {
    "duration": 32860,
    "start_time": "2023-11-21T01:22:28.637Z"
   },
   {
    "duration": 73,
    "start_time": "2023-11-21T01:23:01.498Z"
   },
   {
    "duration": 3,
    "start_time": "2023-11-21T01:23:01.572Z"
   },
   {
    "duration": 149,
    "start_time": "2023-11-21T01:23:01.576Z"
   },
   {
    "duration": 292,
    "start_time": "2023-11-21T01:23:01.727Z"
   },
   {
    "duration": 73,
    "start_time": "2023-11-21T01:23:29.436Z"
   },
   {
    "duration": 2,
    "start_time": "2023-11-21T01:26:00.843Z"
   },
   {
    "duration": 123,
    "start_time": "2023-11-21T01:26:01.458Z"
   },
   {
    "duration": 2195,
    "start_time": "2023-11-21T01:26:16.483Z"
   },
   {
    "duration": 34,
    "start_time": "2023-11-21T01:27:53.828Z"
   },
   {
    "duration": 56,
    "start_time": "2023-11-21T01:28:22.829Z"
   },
   {
    "duration": 31,
    "start_time": "2023-11-21T01:28:30.748Z"
   },
   {
    "duration": 44,
    "start_time": "2023-11-21T01:28:34.808Z"
   },
   {
    "duration": 1135,
    "start_time": "2023-11-21T01:28:43.329Z"
   },
   {
    "duration": 790,
    "start_time": "2023-11-21T01:28:52.453Z"
   },
   {
    "duration": 1354,
    "start_time": "2023-11-21T01:29:46.172Z"
   },
   {
    "duration": 58,
    "start_time": "2023-11-21T01:29:47.528Z"
   },
   {
    "duration": 4,
    "start_time": "2023-11-21T01:29:47.588Z"
   },
   {
    "duration": 6,
    "start_time": "2023-11-21T01:29:47.594Z"
   },
   {
    "duration": 10,
    "start_time": "2023-11-21T01:29:47.601Z"
   },
   {
    "duration": 14,
    "start_time": "2023-11-21T01:29:47.612Z"
   },
   {
    "duration": 7,
    "start_time": "2023-11-21T01:29:47.628Z"
   },
   {
    "duration": 7,
    "start_time": "2023-11-21T01:29:47.636Z"
   },
   {
    "duration": 14,
    "start_time": "2023-11-21T01:29:47.645Z"
   },
   {
    "duration": 367,
    "start_time": "2023-11-21T01:29:47.662Z"
   },
   {
    "duration": 306,
    "start_time": "2023-11-21T01:29:48.032Z"
   },
   {
    "duration": 294,
    "start_time": "2023-11-21T01:29:48.339Z"
   },
   {
    "duration": 309,
    "start_time": "2023-11-21T01:29:48.635Z"
   },
   {
    "duration": 11,
    "start_time": "2023-11-21T01:29:48.945Z"
   },
   {
    "duration": 13,
    "start_time": "2023-11-21T01:29:48.958Z"
   },
   {
    "duration": 116,
    "start_time": "2023-11-21T01:29:48.972Z"
   },
   {
    "duration": 4,
    "start_time": "2023-11-21T01:29:49.089Z"
   },
   {
    "duration": 9,
    "start_time": "2023-11-21T01:29:49.095Z"
   },
   {
    "duration": 24,
    "start_time": "2023-11-21T01:29:49.105Z"
   },
   {
    "duration": 14,
    "start_time": "2023-11-21T01:29:49.131Z"
   },
   {
    "duration": 12,
    "start_time": "2023-11-21T01:29:49.146Z"
   },
   {
    "duration": 13,
    "start_time": "2023-11-21T01:29:49.159Z"
   },
   {
    "duration": 2029,
    "start_time": "2023-11-21T01:29:49.173Z"
   },
   {
    "duration": 24,
    "start_time": "2023-11-21T01:29:51.204Z"
   },
   {
    "duration": 61,
    "start_time": "2023-11-21T01:29:51.235Z"
   },
   {
    "duration": 4,
    "start_time": "2023-11-21T01:29:51.298Z"
   },
   {
    "duration": 11,
    "start_time": "2023-11-21T01:29:51.303Z"
   },
   {
    "duration": 20,
    "start_time": "2023-11-21T01:29:51.320Z"
   },
   {
    "duration": 12,
    "start_time": "2023-11-21T01:29:51.341Z"
   },
   {
    "duration": 357,
    "start_time": "2023-11-21T01:29:51.354Z"
   },
   {
    "duration": 25,
    "start_time": "2023-11-21T01:29:51.713Z"
   },
   {
    "duration": 69,
    "start_time": "2023-11-21T01:29:51.739Z"
   },
   {
    "duration": 12,
    "start_time": "2023-11-21T01:29:51.809Z"
   },
   {
    "duration": 19,
    "start_time": "2023-11-21T01:29:51.827Z"
   },
   {
    "duration": 22,
    "start_time": "2023-11-21T01:29:51.848Z"
   },
   {
    "duration": 457,
    "start_time": "2023-11-21T01:29:51.872Z"
   },
   {
    "duration": 10,
    "start_time": "2023-11-21T01:29:52.331Z"
   },
   {
    "duration": 58,
    "start_time": "2023-11-21T01:29:52.343Z"
   },
   {
    "duration": 4,
    "start_time": "2023-11-21T01:29:52.402Z"
   },
   {
    "duration": 53,
    "start_time": "2023-11-21T01:29:52.407Z"
   },
   {
    "duration": 41,
    "start_time": "2023-11-21T01:29:52.462Z"
   },
   {
    "duration": 21,
    "start_time": "2023-11-21T01:29:52.504Z"
   },
   {
    "duration": 5515,
    "start_time": "2023-11-21T01:29:52.527Z"
   },
   {
    "duration": 4,
    "start_time": "2023-11-21T01:29:58.044Z"
   },
   {
    "duration": 4523,
    "start_time": "2023-11-21T01:29:58.049Z"
   },
   {
    "duration": 4569,
    "start_time": "2023-11-21T01:30:02.573Z"
   },
   {
    "duration": 8678,
    "start_time": "2023-11-21T01:30:07.143Z"
   },
   {
    "duration": 14,
    "start_time": "2023-11-21T01:30:15.823Z"
   },
   {
    "duration": 60,
    "start_time": "2023-11-21T01:30:15.838Z"
   },
   {
    "duration": 4,
    "start_time": "2023-11-21T01:30:15.900Z"
   },
   {
    "duration": 23,
    "start_time": "2023-11-21T01:30:15.906Z"
   },
   {
    "duration": 28,
    "start_time": "2023-11-21T01:30:15.931Z"
   },
   {
    "duration": 17,
    "start_time": "2023-11-21T01:30:15.960Z"
   },
   {
    "duration": 19,
    "start_time": "2023-11-21T01:30:15.979Z"
   },
   {
    "duration": 22,
    "start_time": "2023-11-21T01:30:15.999Z"
   },
   {
    "duration": 1313,
    "start_time": "2023-11-21T01:30:16.023Z"
   },
   {
    "duration": 11,
    "start_time": "2023-11-21T01:30:17.337Z"
   },
   {
    "duration": 48,
    "start_time": "2023-11-21T01:30:17.350Z"
   },
   {
    "duration": 4,
    "start_time": "2023-11-21T01:30:17.399Z"
   },
   {
    "duration": 24,
    "start_time": "2023-11-21T01:30:17.405Z"
   },
   {
    "duration": 6,
    "start_time": "2023-11-21T01:30:17.431Z"
   },
   {
    "duration": 9,
    "start_time": "2023-11-21T01:30:17.439Z"
   },
   {
    "duration": 242,
    "start_time": "2023-11-21T01:30:17.449Z"
   },
   {
    "duration": 12,
    "start_time": "2023-11-21T01:30:17.692Z"
   },
   {
    "duration": 2158,
    "start_time": "2023-11-21T01:30:17.706Z"
   },
   {
    "duration": 4241,
    "start_time": "2023-11-21T01:30:19.866Z"
   },
   {
    "duration": 22,
    "start_time": "2023-11-21T01:30:24.109Z"
   },
   {
    "duration": 15,
    "start_time": "2023-11-21T01:30:24.132Z"
   },
   {
    "duration": 17,
    "start_time": "2023-11-21T01:30:24.148Z"
   },
   {
    "duration": 9,
    "start_time": "2023-11-21T01:30:24.167Z"
   },
   {
    "duration": 7,
    "start_time": "2023-11-21T01:30:24.177Z"
   },
   {
    "duration": 2162,
    "start_time": "2023-11-21T01:30:24.185Z"
   },
   {
    "duration": 31,
    "start_time": "2023-11-21T01:30:26.348Z"
   },
   {
    "duration": 12,
    "start_time": "2023-11-21T01:30:26.380Z"
   },
   {
    "duration": 44,
    "start_time": "2023-11-21T01:30:26.393Z"
   },
   {
    "duration": 318,
    "start_time": "2023-11-21T01:30:26.439Z"
   },
   {
    "duration": 306,
    "start_time": "2023-11-21T01:30:26.758Z"
   },
   {
    "duration": 477,
    "start_time": "2023-11-21T01:30:27.066Z"
   },
   {
    "duration": 303,
    "start_time": "2023-11-21T01:30:27.544Z"
   },
   {
    "duration": 301,
    "start_time": "2023-11-21T01:30:27.849Z"
   },
   {
    "duration": 9,
    "start_time": "2023-11-21T01:30:28.151Z"
   },
   {
    "duration": 3,
    "start_time": "2023-11-21T01:30:28.165Z"
   },
   {
    "duration": 13,
    "start_time": "2023-11-21T01:30:28.170Z"
   },
   {
    "duration": 148,
    "start_time": "2023-11-21T01:30:28.184Z"
   },
   {
    "duration": 11,
    "start_time": "2023-11-21T01:30:28.415Z"
   },
   {
    "duration": 32637,
    "start_time": "2023-11-21T01:30:28.428Z"
   },
   {
    "duration": 73,
    "start_time": "2023-11-21T01:31:01.066Z"
   },
   {
    "duration": 52,
    "start_time": "2023-11-21T01:31:01.141Z"
   },
   {
    "duration": 53,
    "start_time": "2023-11-21T01:31:01.194Z"
   },
   {
    "duration": 1027,
    "start_time": "2023-11-21T01:31:01.248Z"
   },
   {
    "duration": 0,
    "start_time": "2023-11-21T01:31:02.277Z"
   },
   {
    "duration": 0,
    "start_time": "2023-11-21T01:31:02.278Z"
   },
   {
    "duration": 25,
    "start_time": "2023-11-21T01:32:09.246Z"
   },
   {
    "duration": 18,
    "start_time": "2023-11-21T01:33:06.322Z"
   },
   {
    "duration": 3,
    "start_time": "2023-11-21T01:38:12.947Z"
   },
   {
    "duration": 13,
    "start_time": "2023-11-21T01:38:13.579Z"
   },
   {
    "duration": 4461,
    "start_time": "2023-11-21T01:38:44.879Z"
   },
   {
    "duration": 7,
    "start_time": "2023-11-21T01:39:40.598Z"
   },
   {
    "duration": 31,
    "start_time": "2023-11-21T01:39:42.899Z"
   },
   {
    "duration": 852,
    "start_time": "2023-11-21T01:39:47.849Z"
   },
   {
    "duration": 3,
    "start_time": "2023-11-21T01:42:08.878Z"
   },
   {
    "duration": 34,
    "start_time": "2023-11-21T01:42:12.427Z"
   },
   {
    "duration": 909,
    "start_time": "2023-11-21T01:42:23.329Z"
   },
   {
    "duration": 67,
    "start_time": "2023-11-21T01:44:09.402Z"
   },
   {
    "duration": 3,
    "start_time": "2023-11-21T01:45:48.209Z"
   },
   {
    "duration": 31,
    "start_time": "2023-11-21T01:46:09.342Z"
   },
   {
    "duration": 16,
    "start_time": "2023-11-21T01:46:41.923Z"
   },
   {
    "duration": 16,
    "start_time": "2023-11-21T01:46:46.362Z"
   },
   {
    "duration": 18,
    "start_time": "2023-11-21T01:46:49.693Z"
   },
   {
    "duration": 20,
    "start_time": "2023-11-21T01:46:52.852Z"
   },
   {
    "duration": 20,
    "start_time": "2023-11-21T01:46:56.282Z"
   },
   {
    "duration": 24,
    "start_time": "2023-11-21T01:46:59.823Z"
   },
   {
    "duration": 3,
    "start_time": "2023-11-21T01:49:00.147Z"
   },
   {
    "duration": 14,
    "start_time": "2023-11-21T01:49:15.724Z"
   },
   {
    "duration": 3,
    "start_time": "2023-11-21T01:49:35.295Z"
   },
   {
    "duration": 1020,
    "start_time": "2023-11-21T01:49:36.245Z"
   },
   {
    "duration": 11,
    "start_time": "2023-11-21T01:53:18.120Z"
   },
   {
    "duration": 568,
    "start_time": "2023-11-21T01:53:49.769Z"
   },
   {
    "duration": 612,
    "start_time": "2023-11-21T01:53:57.489Z"
   },
   {
    "duration": 604,
    "start_time": "2023-11-21T01:54:05.396Z"
   },
   {
    "duration": 549,
    "start_time": "2023-11-21T01:54:12.849Z"
   },
   {
    "duration": 578,
    "start_time": "2023-11-21T01:54:44.757Z"
   },
   {
    "duration": 861,
    "start_time": "2023-11-21T01:55:02.650Z"
   },
   {
    "duration": 717,
    "start_time": "2023-11-21T01:55:09.810Z"
   },
   {
    "duration": 606,
    "start_time": "2023-11-21T01:55:15.089Z"
   },
   {
    "duration": 556,
    "start_time": "2023-11-21T01:55:19.531Z"
   },
   {
    "duration": 686,
    "start_time": "2023-11-21T01:55:23.822Z"
   },
   {
    "duration": 599,
    "start_time": "2023-11-21T01:55:31.321Z"
   },
   {
    "duration": 558,
    "start_time": "2023-11-21T01:55:37.690Z"
   },
   {
    "duration": 3,
    "start_time": "2023-11-21T01:56:24.222Z"
   },
   {
    "duration": 626,
    "start_time": "2023-11-21T01:57:11.150Z"
   },
   {
    "duration": 709,
    "start_time": "2023-11-21T01:57:16.258Z"
   },
   {
    "duration": 583,
    "start_time": "2023-11-21T01:57:23.650Z"
   },
   {
    "duration": 631,
    "start_time": "2023-11-21T01:57:39.798Z"
   },
   {
    "duration": 648,
    "start_time": "2023-11-21T01:57:43.383Z"
   },
   {
    "duration": 567,
    "start_time": "2023-11-21T01:57:55.644Z"
   },
   {
    "duration": 703,
    "start_time": "2023-11-21T01:58:07.468Z"
   },
   {
    "duration": 549,
    "start_time": "2023-11-21T01:58:24.388Z"
   },
   {
    "duration": 565,
    "start_time": "2023-11-21T01:58:28.320Z"
   },
   {
    "duration": 569,
    "start_time": "2023-11-21T01:58:33.098Z"
   },
   {
    "duration": 655,
    "start_time": "2023-11-21T01:58:47.253Z"
   },
   {
    "duration": 580,
    "start_time": "2023-11-21T01:58:52.838Z"
   },
   {
    "duration": 580,
    "start_time": "2023-11-21T01:58:58.351Z"
   },
   {
    "duration": 692,
    "start_time": "2023-11-21T01:59:01.908Z"
   },
   {
    "duration": 688,
    "start_time": "2023-11-21T01:59:06.458Z"
   },
   {
    "duration": 678,
    "start_time": "2023-11-21T01:59:12.649Z"
   },
   {
    "duration": 563,
    "start_time": "2023-11-21T01:59:16.998Z"
   },
   {
    "duration": 553,
    "start_time": "2023-11-21T01:59:21.022Z"
   },
   {
    "duration": 586,
    "start_time": "2023-11-21T01:59:25.349Z"
   },
   {
    "duration": 604,
    "start_time": "2023-11-21T01:59:39.424Z"
   },
   {
    "duration": 649,
    "start_time": "2023-11-21T01:59:43.279Z"
   },
   {
    "duration": 80,
    "start_time": "2023-11-21T02:00:33.950Z"
   },
   {
    "duration": 556,
    "start_time": "2023-11-21T02:00:39.339Z"
   },
   {
    "duration": 66,
    "start_time": "2023-11-21T02:02:39.922Z"
   },
   {
    "duration": 821,
    "start_time": "2023-11-21T02:03:20.606Z"
   },
   {
    "duration": 2417,
    "start_time": "2023-11-21T02:03:25.974Z"
   },
   {
    "duration": 540,
    "start_time": "2023-11-21T02:03:38.864Z"
   },
   {
    "duration": 14,
    "start_time": "2023-11-21T02:05:36.454Z"
   },
   {
    "duration": 673,
    "start_time": "2023-11-21T02:05:44.227Z"
   },
   {
    "duration": 589,
    "start_time": "2023-11-21T02:06:25.428Z"
   },
   {
    "duration": 597,
    "start_time": "2023-11-21T02:06:52.558Z"
   },
   {
    "duration": 680,
    "start_time": "2023-11-21T02:10:21.952Z"
   },
   {
    "duration": 62,
    "start_time": "2023-11-21T02:10:27.927Z"
   },
   {
    "duration": 3,
    "start_time": "2023-11-21T02:10:49.072Z"
   },
   {
    "duration": 165,
    "start_time": "2023-11-21T02:10:50.352Z"
   },
   {
    "duration": 7,
    "start_time": "2023-11-21T02:10:51.544Z"
   },
   {
    "duration": 32626,
    "start_time": "2023-11-21T02:10:53.405Z"
   },
   {
    "duration": 562,
    "start_time": "2023-11-21T02:11:26.033Z"
   },
   {
    "duration": 66,
    "start_time": "2023-11-21T02:11:26.597Z"
   },
   {
    "duration": 12,
    "start_time": "2023-11-21T02:14:25.119Z"
   },
   {
    "duration": 8,
    "start_time": "2023-11-21T02:14:34.688Z"
   },
   {
    "duration": 3,
    "start_time": "2023-11-21T02:14:57.499Z"
   },
   {
    "duration": 9,
    "start_time": "2023-11-21T02:14:58.401Z"
   },
   {
    "duration": 10,
    "start_time": "2023-11-21T02:15:59.140Z"
   },
   {
    "duration": 4,
    "start_time": "2023-11-21T02:17:41.520Z"
   },
   {
    "duration": 16,
    "start_time": "2023-11-21T02:17:42.370Z"
   },
   {
    "duration": 21,
    "start_time": "2023-11-21T02:19:23.755Z"
   },
   {
    "duration": 18,
    "start_time": "2023-11-21T02:19:41.515Z"
   },
   {
    "duration": 15,
    "start_time": "2023-11-21T02:19:52.604Z"
   },
   {
    "duration": 165,
    "start_time": "2023-11-21T02:24:51.957Z"
   },
   {
    "duration": 71,
    "start_time": "2023-11-21T02:30:52.993Z"
   },
   {
    "duration": 8,
    "start_time": "2023-11-21T02:44:35.425Z"
   },
   {
    "duration": 4,
    "start_time": "2023-11-21T02:45:48.531Z"
   },
   {
    "duration": 4,
    "start_time": "2023-11-21T02:46:16.525Z"
   },
   {
    "duration": 4,
    "start_time": "2023-11-21T02:47:08.822Z"
   },
   {
    "duration": 33,
    "start_time": "2023-11-21T02:47:21.542Z"
   },
   {
    "duration": 4,
    "start_time": "2023-11-21T02:47:33.871Z"
   },
   {
    "duration": 11,
    "start_time": "2023-11-21T02:51:29.833Z"
   },
   {
    "duration": 3,
    "start_time": "2023-11-21T02:55:06.149Z"
   },
   {
    "duration": 15,
    "start_time": "2023-11-21T02:55:07.972Z"
   },
   {
    "duration": 10,
    "start_time": "2023-11-21T02:56:13.002Z"
   },
   {
    "duration": 16,
    "start_time": "2023-11-21T02:56:34.632Z"
   },
   {
    "duration": 12,
    "start_time": "2023-11-21T02:57:28.716Z"
   },
   {
    "duration": 9,
    "start_time": "2023-11-21T02:58:24.145Z"
   },
   {
    "duration": 8,
    "start_time": "2023-11-21T02:58:26.186Z"
   },
   {
    "duration": 66,
    "start_time": "2023-11-21T02:59:17.353Z"
   },
   {
    "duration": 51,
    "start_time": "2023-11-21T02:59:35.469Z"
   },
   {
    "duration": 16,
    "start_time": "2023-11-21T03:00:07.125Z"
   },
   {
    "duration": 3,
    "start_time": "2023-11-21T03:02:42.472Z"
   },
   {
    "duration": 4,
    "start_time": "2023-11-21T03:05:03.852Z"
   },
   {
    "duration": 4,
    "start_time": "2023-11-21T03:05:12.772Z"
   },
   {
    "duration": 166,
    "start_time": "2023-11-21T03:07:09.850Z"
   },
   {
    "duration": 4,
    "start_time": "2023-11-21T03:08:40.825Z"
   },
   {
    "duration": 4,
    "start_time": "2023-11-21T03:08:51.870Z"
   },
   {
    "duration": 4,
    "start_time": "2023-11-21T03:08:57.020Z"
   },
   {
    "duration": 44,
    "start_time": "2023-11-21T03:15:31.879Z"
   },
   {
    "duration": 6,
    "start_time": "2023-11-21T03:25:04.451Z"
   },
   {
    "duration": 5,
    "start_time": "2023-11-21T03:25:29.860Z"
   },
   {
    "duration": 4,
    "start_time": "2023-11-21T03:25:37.659Z"
   },
   {
    "duration": 122,
    "start_time": "2023-11-21T03:27:06.394Z"
   },
   {
    "duration": 43,
    "start_time": "2023-11-21T03:27:53.176Z"
   },
   {
    "duration": 45,
    "start_time": "2023-11-21T03:28:21.771Z"
   },
   {
    "duration": 11,
    "start_time": "2023-11-21T03:29:38.606Z"
   },
   {
    "duration": 6,
    "start_time": "2023-11-21T03:29:43.078Z"
   },
   {
    "duration": 6,
    "start_time": "2023-11-21T03:30:15.718Z"
   },
   {
    "duration": 11,
    "start_time": "2023-11-21T03:30:39.558Z"
   },
   {
    "duration": 57,
    "start_time": "2023-11-21T03:31:05.959Z"
   },
   {
    "duration": 10,
    "start_time": "2023-11-21T03:48:46.506Z"
   },
   {
    "duration": 16,
    "start_time": "2023-11-21T03:49:02.820Z"
   },
   {
    "duration": 11,
    "start_time": "2023-11-21T03:49:13.886Z"
   },
   {
    "duration": 9,
    "start_time": "2023-11-21T03:49:19.513Z"
   },
   {
    "duration": 9,
    "start_time": "2023-11-21T03:49:31.006Z"
   },
   {
    "duration": 9,
    "start_time": "2023-11-21T03:52:47.308Z"
   },
   {
    "duration": 10,
    "start_time": "2023-11-21T03:53:09.129Z"
   },
   {
    "duration": 3095,
    "start_time": "2023-11-21T05:57:31.927Z"
   },
   {
    "duration": 3,
    "start_time": "2023-11-21T05:57:51.175Z"
   },
   {
    "duration": 183,
    "start_time": "2023-11-21T05:57:55.533Z"
   },
   {
    "duration": 4,
    "start_time": "2023-11-21T05:58:03.393Z"
   },
   {
    "duration": 11,
    "start_time": "2023-11-21T05:58:07.196Z"
   },
   {
    "duration": 10,
    "start_time": "2023-11-21T05:58:26.807Z"
   },
   {
    "duration": 8,
    "start_time": "2023-11-21T05:58:30.694Z"
   },
   {
    "duration": 6,
    "start_time": "2023-11-21T05:58:41.936Z"
   },
   {
    "duration": 11,
    "start_time": "2023-11-21T05:58:42.143Z"
   },
   {
    "duration": 411,
    "start_time": "2023-11-21T06:00:00.338Z"
   },
   {
    "duration": 331,
    "start_time": "2023-11-21T06:00:07.378Z"
   },
   {
    "duration": 283,
    "start_time": "2023-11-21T06:00:09.608Z"
   },
   {
    "duration": 404,
    "start_time": "2023-11-21T06:00:14.773Z"
   },
   {
    "duration": 13,
    "start_time": "2023-11-21T06:00:16.439Z"
   },
   {
    "duration": 12,
    "start_time": "2023-11-21T06:00:17.489Z"
   },
   {
    "duration": 82,
    "start_time": "2023-11-21T06:01:27.595Z"
   },
   {
    "duration": 5,
    "start_time": "2023-11-21T06:01:28.897Z"
   },
   {
    "duration": 5,
    "start_time": "2023-11-21T06:01:31.724Z"
   },
   {
    "duration": 6,
    "start_time": "2023-11-21T06:01:32.518Z"
   },
   {
    "duration": 5,
    "start_time": "2023-11-21T06:01:33.203Z"
   },
   {
    "duration": 8,
    "start_time": "2023-11-21T06:01:59.857Z"
   },
   {
    "duration": 13,
    "start_time": "2023-11-21T06:02:01.232Z"
   },
   {
    "duration": 2110,
    "start_time": "2023-11-21T06:02:06.179Z"
   },
   {
    "duration": 12,
    "start_time": "2023-11-21T06:02:09.221Z"
   },
   {
    "duration": 132,
    "start_time": "2023-11-21T06:02:29.401Z"
   },
   {
    "duration": 5,
    "start_time": "2023-11-21T06:02:30.492Z"
   },
   {
    "duration": 5,
    "start_time": "2023-11-21T06:02:31.249Z"
   },
   {
    "duration": 5,
    "start_time": "2023-11-21T06:02:33.757Z"
   },
   {
    "duration": 12,
    "start_time": "2023-11-21T06:02:35.340Z"
   },
   {
    "duration": 337,
    "start_time": "2023-11-21T06:02:56.942Z"
   },
   {
    "duration": 14,
    "start_time": "2023-11-21T06:02:57.841Z"
   },
   {
    "duration": 97,
    "start_time": "2023-11-21T06:03:00.155Z"
   },
   {
    "duration": 5,
    "start_time": "2023-11-21T06:03:00.667Z"
   },
   {
    "duration": 6,
    "start_time": "2023-11-21T06:03:01.527Z"
   },
   {
    "duration": 4,
    "start_time": "2023-11-21T06:03:03.618Z"
   },
   {
    "duration": 456,
    "start_time": "2023-11-21T06:03:04.271Z"
   },
   {
    "duration": 10,
    "start_time": "2023-11-21T06:03:06.680Z"
   },
   {
    "duration": 83,
    "start_time": "2023-11-21T06:03:30.856Z"
   },
   {
    "duration": 6,
    "start_time": "2023-11-21T06:03:31.967Z"
   },
   {
    "duration": 8,
    "start_time": "2023-11-21T06:03:32.637Z"
   },
   {
    "duration": 41,
    "start_time": "2023-11-21T06:03:39.202Z"
   },
   {
    "duration": 18,
    "start_time": "2023-11-21T06:03:45.526Z"
   },
   {
    "duration": 6072,
    "start_time": "2023-11-21T06:04:33.291Z"
   },
   {
    "duration": 5,
    "start_time": "2023-11-21T06:05:19.847Z"
   },
   {
    "duration": 4830,
    "start_time": "2023-11-21T06:05:21.188Z"
   },
   {
    "duration": 4847,
    "start_time": "2023-11-21T06:05:26.019Z"
   },
   {
    "duration": 9311,
    "start_time": "2023-11-21T06:05:30.868Z"
   },
   {
    "duration": 10,
    "start_time": "2023-11-21T06:05:40.181Z"
   },
   {
    "duration": 104,
    "start_time": "2023-11-21T06:09:40.685Z"
   },
   {
    "duration": 5,
    "start_time": "2023-11-21T06:09:42.125Z"
   },
   {
    "duration": 5,
    "start_time": "2023-11-21T06:09:43.435Z"
   },
   {
    "duration": 5,
    "start_time": "2023-11-21T06:09:44.976Z"
   },
   {
    "duration": 3,
    "start_time": "2023-11-21T06:09:46.475Z"
   },
   {
    "duration": 8,
    "start_time": "2023-11-21T06:09:47.161Z"
   },
   {
    "duration": 11,
    "start_time": "2023-11-21T06:09:47.595Z"
   },
   {
    "duration": 1338,
    "start_time": "2023-11-21T06:09:48.107Z"
   },
   {
    "duration": 11,
    "start_time": "2023-11-21T06:09:49.447Z"
   },
   {
    "duration": 75,
    "start_time": "2023-11-21T06:10:50.876Z"
   },
   {
    "duration": 5,
    "start_time": "2023-11-21T06:10:51.985Z"
   },
   {
    "duration": 6,
    "start_time": "2023-11-21T06:10:52.639Z"
   },
   {
    "duration": 5,
    "start_time": "2023-11-21T06:10:53.144Z"
   },
   {
    "duration": 8,
    "start_time": "2023-11-21T06:10:54.246Z"
   },
   {
    "duration": 234,
    "start_time": "2023-11-21T06:10:54.627Z"
   },
   {
    "duration": 18,
    "start_time": "2023-11-21T06:10:54.863Z"
   },
   {
    "duration": 2445,
    "start_time": "2023-11-21T06:13:11.210Z"
   },
   {
    "duration": 4445,
    "start_time": "2023-11-21T06:13:16.088Z"
   },
   {
    "duration": 9,
    "start_time": "2023-11-21T06:13:22.996Z"
   },
   {
    "duration": 10,
    "start_time": "2023-11-21T06:13:24.326Z"
   },
   {
    "duration": 6,
    "start_time": "2023-11-21T06:13:26.091Z"
   },
   {
    "duration": 7,
    "start_time": "2023-11-21T06:13:27.185Z"
   },
   {
    "duration": 7,
    "start_time": "2023-11-21T06:13:28.154Z"
   },
   {
    "duration": 2292,
    "start_time": "2023-11-21T06:13:29.683Z"
   },
   {
    "duration": 31,
    "start_time": "2023-11-21T06:15:37.150Z"
   },
   {
    "duration": 12,
    "start_time": "2023-11-21T06:15:39.474Z"
   },
   {
    "duration": 14,
    "start_time": "2023-11-21T06:15:48.453Z"
   },
   {
    "duration": 360,
    "start_time": "2023-11-21T06:19:11.339Z"
   },
   {
    "duration": 420,
    "start_time": "2023-11-21T06:19:12.566Z"
   },
   {
    "duration": 343,
    "start_time": "2023-11-21T06:19:13.053Z"
   },
   {
    "duration": 295,
    "start_time": "2023-11-21T06:19:13.398Z"
   },
   {
    "duration": 337,
    "start_time": "2023-11-21T06:19:13.694Z"
   },
   {
    "duration": 9,
    "start_time": "2023-11-21T06:19:16.515Z"
   },
   {
    "duration": 3,
    "start_time": "2023-11-21T06:19:18.358Z"
   },
   {
    "duration": 117,
    "start_time": "2023-11-21T06:37:04.509Z"
   },
   {
    "duration": 4,
    "start_time": "2023-11-21T06:37:13.492Z"
   },
   {
    "duration": 3,
    "start_time": "2023-11-21T07:15:32.000Z"
   },
   {
    "duration": 1319,
    "start_time": "2023-11-21T07:15:40.469Z"
   },
   {
    "duration": 60,
    "start_time": "2023-11-21T07:15:46.239Z"
   },
   {
    "duration": 5,
    "start_time": "2023-11-21T07:15:49.579Z"
   },
   {
    "duration": 4,
    "start_time": "2023-11-21T07:15:50.916Z"
   },
   {
    "duration": 10,
    "start_time": "2023-11-21T07:15:52.849Z"
   },
   {
    "duration": 11,
    "start_time": "2023-11-21T07:15:58.959Z"
   },
   {
    "duration": 7,
    "start_time": "2023-11-21T07:16:00.299Z"
   },
   {
    "duration": 5,
    "start_time": "2023-11-21T07:16:01.395Z"
   },
   {
    "duration": 11,
    "start_time": "2023-11-21T07:16:02.959Z"
   },
   {
    "duration": 293,
    "start_time": "2023-11-21T07:16:05.037Z"
   },
   {
    "duration": 302,
    "start_time": "2023-11-21T07:16:10.159Z"
   },
   {
    "duration": 305,
    "start_time": "2023-11-21T07:16:12.809Z"
   },
   {
    "duration": 359,
    "start_time": "2023-11-21T07:16:15.557Z"
   },
   {
    "duration": 11,
    "start_time": "2023-11-21T07:16:17.849Z"
   },
   {
    "duration": 11,
    "start_time": "2023-11-21T07:16:19.429Z"
   },
   {
    "duration": 45,
    "start_time": "2023-11-21T07:16:21.839Z"
   },
   {
    "duration": 4,
    "start_time": "2023-11-21T07:16:24.290Z"
   },
   {
    "duration": 4,
    "start_time": "2023-11-21T07:16:25.969Z"
   },
   {
    "duration": 4,
    "start_time": "2023-11-21T07:16:27.190Z"
   },
   {
    "duration": 4,
    "start_time": "2023-11-21T07:16:28.756Z"
   },
   {
    "duration": 9,
    "start_time": "2023-11-21T07:16:30.036Z"
   },
   {
    "duration": 12,
    "start_time": "2023-11-21T07:16:31.636Z"
   },
   {
    "duration": 1917,
    "start_time": "2023-11-21T07:16:32.889Z"
   },
   {
    "duration": 10,
    "start_time": "2023-11-21T07:16:37.919Z"
   },
   {
    "duration": 52,
    "start_time": "2023-11-21T07:16:40.379Z"
   },
   {
    "duration": 4,
    "start_time": "2023-11-21T07:16:44.116Z"
   },
   {
    "duration": 4,
    "start_time": "2023-11-21T07:16:47.890Z"
   },
   {
    "duration": 4,
    "start_time": "2023-11-21T07:16:49.359Z"
   },
   {
    "duration": 7,
    "start_time": "2023-11-21T07:16:52.159Z"
   },
   {
    "duration": 329,
    "start_time": "2023-11-21T07:16:54.779Z"
   },
   {
    "duration": 14,
    "start_time": "2023-11-21T07:16:55.969Z"
   },
   {
    "duration": 52,
    "start_time": "2023-11-21T07:16:58.159Z"
   },
   {
    "duration": 4,
    "start_time": "2023-11-21T07:16:59.757Z"
   },
   {
    "duration": 6,
    "start_time": "2023-11-21T07:17:00.929Z"
   },
   {
    "duration": 5,
    "start_time": "2023-11-21T07:17:02.668Z"
   },
   {
    "duration": 439,
    "start_time": "2023-11-21T07:17:04.569Z"
   },
   {
    "duration": 10,
    "start_time": "2023-11-21T07:17:07.989Z"
   },
   {
    "duration": 41,
    "start_time": "2023-11-21T07:17:15.808Z"
   },
   {
    "duration": 4,
    "start_time": "2023-11-21T07:17:18.196Z"
   },
   {
    "duration": 7,
    "start_time": "2023-11-21T07:17:20.709Z"
   },
   {
    "duration": 31,
    "start_time": "2023-11-21T07:17:23.156Z"
   },
   {
    "duration": 14,
    "start_time": "2023-11-21T07:17:28.457Z"
   },
   {
    "duration": 5499,
    "start_time": "2023-11-21T07:17:30.917Z"
   },
   {
    "duration": 5,
    "start_time": "2023-11-21T07:17:36.418Z"
   },
   {
    "duration": 4436,
    "start_time": "2023-11-21T07:17:36.425Z"
   },
   {
    "duration": 4471,
    "start_time": "2023-11-21T07:17:40.863Z"
   },
   {
    "duration": 8598,
    "start_time": "2023-11-21T07:17:45.335Z"
   },
   {
    "duration": 9,
    "start_time": "2023-11-21T07:17:53.935Z"
   },
   {
    "duration": 36,
    "start_time": "2023-11-21T07:17:53.946Z"
   },
   {
    "duration": 4,
    "start_time": "2023-11-21T07:17:53.983Z"
   },
   {
    "duration": 5,
    "start_time": "2023-11-21T07:17:57.239Z"
   },
   {
    "duration": 5,
    "start_time": "2023-11-21T07:17:58.809Z"
   },
   {
    "duration": 3,
    "start_time": "2023-11-21T07:17:59.839Z"
   },
   {
    "duration": 7,
    "start_time": "2023-11-21T07:18:01.609Z"
   },
   {
    "duration": 11,
    "start_time": "2023-11-21T07:18:03.419Z"
   },
   {
    "duration": 1269,
    "start_time": "2023-11-21T07:18:04.470Z"
   },
   {
    "duration": 11,
    "start_time": "2023-11-21T07:18:08.988Z"
   },
   {
    "duration": 37,
    "start_time": "2023-11-21T07:18:10.697Z"
   },
   {
    "duration": 4,
    "start_time": "2023-11-21T07:18:13.449Z"
   },
   {
    "duration": 4,
    "start_time": "2023-11-21T07:18:14.780Z"
   },
   {
    "duration": 5,
    "start_time": "2023-11-21T07:18:15.849Z"
   },
   {
    "duration": 8,
    "start_time": "2023-11-21T07:18:17.199Z"
   },
   {
    "duration": 216,
    "start_time": "2023-11-21T07:18:18.219Z"
   },
   {
    "duration": 12,
    "start_time": "2023-11-21T07:18:19.670Z"
   },
   {
    "duration": 2192,
    "start_time": "2023-11-21T07:18:32.331Z"
   },
   {
    "duration": 4043,
    "start_time": "2023-11-21T07:18:35.889Z"
   },
   {
    "duration": 9,
    "start_time": "2023-11-21T07:18:39.934Z"
   },
   {
    "duration": 24,
    "start_time": "2023-11-21T07:18:39.944Z"
   },
   {
    "duration": 6,
    "start_time": "2023-11-21T07:18:41.409Z"
   },
   {
    "duration": 6,
    "start_time": "2023-11-21T07:18:43.759Z"
   },
   {
    "duration": 6,
    "start_time": "2023-11-21T07:18:45.228Z"
   },
   {
    "duration": 2051,
    "start_time": "2023-11-21T07:18:46.809Z"
   },
   {
    "duration": 32,
    "start_time": "2023-11-21T07:18:50.436Z"
   },
   {
    "duration": 11,
    "start_time": "2023-11-21T07:18:51.979Z"
   },
   {
    "duration": 14,
    "start_time": "2023-11-21T07:18:56.747Z"
   },
   {
    "duration": 38,
    "start_time": "2023-11-21T07:19:29.369Z"
   },
   {
    "duration": 90,
    "start_time": "2023-11-21T07:24:55.160Z"
   },
   {
    "duration": 137,
    "start_time": "2023-11-21T07:25:51.700Z"
   },
   {
    "duration": 151,
    "start_time": "2023-11-21T07:26:08.184Z"
   },
   {
    "duration": 44,
    "start_time": "2023-11-21T07:26:36.614Z"
   },
   {
    "duration": 677,
    "start_time": "2023-11-21T07:27:18.108Z"
   },
   {
    "duration": 35,
    "start_time": "2023-11-21T07:37:35.495Z"
   },
   {
    "duration": 33,
    "start_time": "2023-11-21T07:38:07.959Z"
   },
   {
    "duration": 4,
    "start_time": "2023-11-21T07:43:37.543Z"
   },
   {
    "duration": 325,
    "start_time": "2023-11-21T07:43:40.528Z"
   },
   {
    "duration": 417,
    "start_time": "2023-11-21T07:43:42.983Z"
   },
   {
    "duration": 287,
    "start_time": "2023-11-21T07:43:45.144Z"
   },
   {
    "duration": 278,
    "start_time": "2023-11-21T07:43:48.346Z"
   },
   {
    "duration": 285,
    "start_time": "2023-11-21T07:43:50.931Z"
   },
   {
    "duration": 301,
    "start_time": "2023-11-21T07:43:53.967Z"
   },
   {
    "duration": 8,
    "start_time": "2023-11-21T07:43:57.416Z"
   },
   {
    "duration": 3,
    "start_time": "2023-11-21T07:43:58.936Z"
   },
   {
    "duration": 4,
    "start_time": "2023-11-21T07:44:00.136Z"
   },
   {
    "duration": 107,
    "start_time": "2023-11-21T07:44:14.385Z"
   },
   {
    "duration": 11,
    "start_time": "2023-11-21T07:44:28.755Z"
   },
   {
    "duration": 2,
    "start_time": "2023-11-21T07:45:14.838Z"
   },
   {
    "duration": 10,
    "start_time": "2023-11-21T07:45:15.649Z"
   },
   {
    "duration": 307187,
    "start_time": "2023-11-21T07:45:39.819Z"
   },
   {
    "duration": 1,
    "start_time": "2023-11-21T07:50:47.007Z"
   },
   {
    "duration": 4,
    "start_time": "2023-11-21T07:51:14.809Z"
   },
   {
    "duration": 119,
    "start_time": "2023-11-21T07:51:19.504Z"
   },
   {
    "duration": 9,
    "start_time": "2023-11-21T07:51:25.915Z"
   },
   {
    "duration": 30843,
    "start_time": "2023-11-21T07:51:33.565Z"
   },
   {
    "duration": 517,
    "start_time": "2023-11-21T07:52:04.409Z"
   },
   {
    "duration": 60,
    "start_time": "2023-11-21T07:52:04.928Z"
   },
   {
    "duration": 37,
    "start_time": "2023-11-21T07:52:14.683Z"
   },
   {
    "duration": 38713,
    "start_time": "2023-11-21T07:52:33.343Z"
   },
   {
    "duration": 302352,
    "start_time": "2023-11-21T07:54:38.570Z"
   },
   {
    "duration": 3,
    "start_time": "2023-11-21T08:14:53.774Z"
   },
   {
    "duration": 4,
    "start_time": "2023-11-21T08:19:15.484Z"
   },
   {
    "duration": 13,
    "start_time": "2023-11-21T08:19:18.974Z"
   },
   {
    "duration": 287,
    "start_time": "2023-11-21T08:19:27.929Z"
   },
   {
    "duration": 471,
    "start_time": "2023-11-21T08:19:43.648Z"
   },
   {
    "duration": 578,
    "start_time": "2023-11-21T08:20:24.640Z"
   },
   {
    "duration": 745,
    "start_time": "2023-11-21T08:22:54.973Z"
   },
   {
    "duration": 419,
    "start_time": "2023-11-21T08:23:04.204Z"
   },
   {
    "duration": 703,
    "start_time": "2023-11-21T08:23:10.716Z"
   },
   {
    "duration": 751,
    "start_time": "2023-11-21T08:23:12.765Z"
   },
   {
    "duration": 116,
    "start_time": "2023-11-21T08:24:03.107Z"
   },
   {
    "duration": 33,
    "start_time": "2023-11-21T08:24:08.488Z"
   },
   {
    "duration": 13,
    "start_time": "2023-11-21T08:24:37.929Z"
   },
   {
    "duration": 392,
    "start_time": "2023-11-21T08:25:37.524Z"
   },
   {
    "duration": 409,
    "start_time": "2023-11-21T08:25:43.113Z"
   },
   {
    "duration": 417,
    "start_time": "2023-11-21T08:28:37.799Z"
   },
   {
    "duration": 8,
    "start_time": "2023-11-21T08:28:44.458Z"
   },
   {
    "duration": 3,
    "start_time": "2023-11-21T08:30:31.154Z"
   },
   {
    "duration": 10,
    "start_time": "2023-11-21T08:31:55.874Z"
   },
   {
    "duration": 8,
    "start_time": "2023-11-21T08:32:39.644Z"
   },
   {
    "duration": 33,
    "start_time": "2023-11-21T08:33:10.193Z"
   },
   {
    "duration": 110,
    "start_time": "2023-11-21T08:33:21.514Z"
   },
   {
    "duration": 31,
    "start_time": "2023-11-21T08:33:24.923Z"
   },
   {
    "duration": 41,
    "start_time": "2023-11-21T08:33:48.789Z"
   },
   {
    "duration": 7,
    "start_time": "2023-11-21T08:33:54.764Z"
   },
   {
    "duration": 11,
    "start_time": "2023-11-21T08:34:38.879Z"
   },
   {
    "duration": 6,
    "start_time": "2023-11-21T08:34:47.280Z"
   },
   {
    "duration": 566,
    "start_time": "2023-11-21T08:34:58.349Z"
   },
   {
    "duration": 7,
    "start_time": "2023-11-21T08:35:02.140Z"
   },
   {
    "duration": 3,
    "start_time": "2023-11-21T08:35:10.905Z"
   },
   {
    "duration": 522,
    "start_time": "2023-11-21T08:35:12.396Z"
   },
   {
    "duration": 7,
    "start_time": "2023-11-21T08:35:13.355Z"
   },
   {
    "duration": 30968,
    "start_time": "2023-11-21T08:38:39.053Z"
   },
   {
    "duration": 3,
    "start_time": "2023-11-21T08:39:37.639Z"
   },
   {
    "duration": 366,
    "start_time": "2023-11-21T08:39:38.749Z"
   },
   {
    "duration": 3,
    "start_time": "2023-11-21T08:43:06.366Z"
   },
   {
    "duration": 576,
    "start_time": "2023-11-21T08:43:09.539Z"
   },
   {
    "duration": 31885,
    "start_time": "2023-11-21T08:43:57.384Z"
   },
   {
    "duration": 4,
    "start_time": "2023-11-21T08:46:35.803Z"
   },
   {
    "duration": 361,
    "start_time": "2023-11-21T08:46:36.666Z"
   },
   {
    "duration": 31104,
    "start_time": "2023-11-21T08:47:22.968Z"
   },
   {
    "duration": 85160,
    "start_time": "2023-11-21T08:49:37.106Z"
   },
   {
    "duration": 0,
    "start_time": "2023-11-21T08:51:02.268Z"
   },
   {
    "duration": 0,
    "start_time": "2023-11-21T08:51:02.269Z"
   },
   {
    "duration": 0,
    "start_time": "2023-11-21T08:51:02.270Z"
   },
   {
    "duration": 4,
    "start_time": "2023-11-21T08:51:08.708Z"
   },
   {
    "duration": 478,
    "start_time": "2023-11-21T08:51:10.544Z"
   },
   {
    "duration": 31099,
    "start_time": "2023-11-21T08:51:13.489Z"
   },
   {
    "duration": 60,
    "start_time": "2023-11-21T08:52:26.886Z"
   },
   {
    "duration": 435299,
    "start_time": "2023-11-21T08:53:21.561Z"
   },
   {
    "duration": 59,
    "start_time": "2023-11-21T09:00:55.214Z"
   },
   {
    "duration": 1437,
    "start_time": "2023-11-21T09:01:38.704Z"
   },
   {
    "duration": 12,
    "start_time": "2023-11-21T09:02:43.758Z"
   },
   {
    "duration": 2122,
    "start_time": "2023-11-21T09:04:37.829Z"
   },
   {
    "duration": 16,
    "start_time": "2023-11-21T09:06:25.527Z"
   },
   {
    "duration": 46,
    "start_time": "2023-11-21T09:06:42.675Z"
   },
   {
    "duration": 88,
    "start_time": "2023-11-21T09:07:36.427Z"
   },
   {
    "duration": 73,
    "start_time": "2023-11-21T09:07:45.444Z"
   },
   {
    "duration": 1552,
    "start_time": "2023-11-21T10:31:08.217Z"
   },
   {
    "duration": 8,
    "start_time": "2023-11-21T10:33:07.323Z"
   },
   {
    "duration": 5,
    "start_time": "2023-11-21T10:46:18.804Z"
   },
   {
    "duration": 6,
    "start_time": "2023-11-21T10:47:32.183Z"
   },
   {
    "duration": 14,
    "start_time": "2023-11-21T10:47:39.863Z"
   },
   {
    "duration": 12,
    "start_time": "2023-11-21T10:47:51.983Z"
   },
   {
    "duration": 12,
    "start_time": "2023-11-21T10:48:11.004Z"
   },
   {
    "duration": 12,
    "start_time": "2023-11-21T10:48:21.483Z"
   },
   {
    "duration": 11,
    "start_time": "2023-11-21T10:51:07.449Z"
   },
   {
    "duration": 12,
    "start_time": "2023-11-21T10:51:20.134Z"
   },
   {
    "duration": 1101,
    "start_time": "2023-11-21T10:52:25.083Z"
   },
   {
    "duration": 12,
    "start_time": "2023-11-21T10:52:29.494Z"
   },
   {
    "duration": 212,
    "start_time": "2023-11-21T10:58:40.919Z"
   },
   {
    "duration": 227,
    "start_time": "2023-11-21T10:59:47.519Z"
   },
   {
    "duration": 414,
    "start_time": "2023-11-21T11:02:37.112Z"
   },
   {
    "duration": 15,
    "start_time": "2023-11-21T11:05:25.291Z"
   }
  ],
  "kernelspec": {
   "display_name": "Python 3 (ipykernel)",
   "language": "python",
   "name": "python3"
  },
  "language_info": {
   "codemirror_mode": {
    "name": "ipython",
    "version": 3
   },
   "file_extension": ".py",
   "mimetype": "text/x-python",
   "name": "python",
   "nbconvert_exporter": "python",
   "pygments_lexer": "ipython3",
   "version": "3.9.5"
  },
  "toc": {
   "base_numbering": 1,
   "nav_menu": {},
   "number_sections": true,
   "sideBar": true,
   "skip_h1_title": true,
   "title_cell": "Table of Contents",
   "title_sidebar": "Contents",
   "toc_cell": false,
   "toc_position": {},
   "toc_section_display": true,
   "toc_window_display": false
  }
 },
 "nbformat": 4,
 "nbformat_minor": 5
}
