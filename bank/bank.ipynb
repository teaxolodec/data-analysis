{
 "cells": [
  {
   "cell_type": "markdown",
   "metadata": {},
   "source": [
    "   *«Я была готова уйти отсюда, прежде чем пришла.»*\n",
    "\n",
    "   -- Дарья"
   ]
  },
  {
   "cell_type": "markdown",
   "metadata": {
    "toc": true
   },
   "source": [
    "<h1>Содержание<span class=\"tocSkip\"></span></h1>\n",
    "<div class=\"toc\"><ul class=\"toc-item\"><li><span><a href=\"#Подготовка-данных\" data-toc-modified-id=\"Подготовка-данных-1\"><span class=\"toc-item-num\">1&nbsp;&nbsp;</span>Подготовка данных</a></span></li><li><span><a href=\"#Исследование-задачи\" data-toc-modified-id=\"Исследование-задачи-2\"><span class=\"toc-item-num\">2&nbsp;&nbsp;</span>Исследование задачи</a></span></li><li><span><a href=\"#Борьба-с-дисбалансом\" data-toc-modified-id=\"Борьба-с-дисбалансом-3\"><span class=\"toc-item-num\">3&nbsp;&nbsp;</span>Борьба с дисбалансом</a></span><ul class=\"toc-item\"><li><span><a href=\"#Вес\" data-toc-modified-id=\"Вес-3.1\"><span class=\"toc-item-num\">3.1&nbsp;&nbsp;</span>Вес</a></span></li><li><span><a href=\"#Увеличение-выборки\" data-toc-modified-id=\"Увеличение-выборки-3.2\"><span class=\"toc-item-num\">3.2&nbsp;&nbsp;</span>Увеличение выборки</a></span></li><li><span><a href=\"#Уменьшение-выборки\" data-toc-modified-id=\"Уменьшение-выборки-3.3\"><span class=\"toc-item-num\">3.3&nbsp;&nbsp;</span>Уменьшение выборки</a></span></li></ul></li><li><span><a href=\"#Тестирование-модели\" data-toc-modified-id=\"Тестирование-модели-4\"><span class=\"toc-item-num\">4&nbsp;&nbsp;</span>Тестирование модели</a></span></li><li><span><a href=\"#Вывод\" data-toc-modified-id=\"Вывод-5\"><span class=\"toc-item-num\">5&nbsp;&nbsp;</span>Вывод</a></span></li></ul></div>"
   ]
  },
  {
   "cell_type": "markdown",
   "metadata": {},
   "source": [
    "# Отток клиентов"
   ]
  },
  {
   "cell_type": "markdown",
   "metadata": {},
   "source": [
    "Из «Бета-Банка» стали уходить клиенты. Каждый месяц. Немного, но заметно. Банковские маркетологи посчитали: сохранять текущих клиентов дешевле, чем привлекать новых.\n",
    "\n",
    "Нужно спрогнозировать, уйдёт клиент из банка в ближайшее время или нет. Предоставлены исторические данные о поведении клиентов и расторжении договоров с банком. \n",
    "\n",
    "Построим модель с предельно большим значением *F1*-меры. "
   ]
  },
  {
   "cell_type": "markdown",
   "metadata": {},
   "source": [
    "## Подготовка данных"
   ]
  },
  {
   "cell_type": "code",
   "execution_count": 1,
   "metadata": {},
   "outputs": [],
   "source": [
    "import pandas as pd\n",
    "import numpy as np\n",
    "from sklearn.ensemble import RandomForestClassifier\n",
    "from sklearn.utils import shuffle\n",
    "from sklearn.metrics import f1_score\n",
    "from sklearn.metrics import roc_auc_score\n",
    "from sklearn.metrics import accuracy_score\n",
    "import matplotlib.pyplot as plt"
   ]
  },
  {
   "cell_type": "markdown",
   "metadata": {},
   "source": [
    "Извлечём данные и посмотрим на них."
   ]
  },
  {
   "cell_type": "code",
   "execution_count": 2,
   "metadata": {},
   "outputs": [
    {
     "data": {
      "text/html": [
       "<div>\n",
       "<style scoped>\n",
       "    .dataframe tbody tr th:only-of-type {\n",
       "        vertical-align: middle;\n",
       "    }\n",
       "\n",
       "    .dataframe tbody tr th {\n",
       "        vertical-align: top;\n",
       "    }\n",
       "\n",
       "    .dataframe thead th {\n",
       "        text-align: right;\n",
       "    }\n",
       "</style>\n",
       "<table border=\"1\" class=\"dataframe\">\n",
       "  <thead>\n",
       "    <tr style=\"text-align: right;\">\n",
       "      <th></th>\n",
       "      <th>RowNumber</th>\n",
       "      <th>CustomerId</th>\n",
       "      <th>Surname</th>\n",
       "      <th>CreditScore</th>\n",
       "      <th>Geography</th>\n",
       "      <th>Gender</th>\n",
       "      <th>Age</th>\n",
       "      <th>Tenure</th>\n",
       "      <th>Balance</th>\n",
       "      <th>NumOfProducts</th>\n",
       "      <th>HasCrCard</th>\n",
       "      <th>IsActiveMember</th>\n",
       "      <th>EstimatedSalary</th>\n",
       "      <th>Exited</th>\n",
       "    </tr>\n",
       "  </thead>\n",
       "  <tbody>\n",
       "    <tr>\n",
       "      <th>0</th>\n",
       "      <td>1</td>\n",
       "      <td>15634602</td>\n",
       "      <td>Hargrave</td>\n",
       "      <td>619</td>\n",
       "      <td>France</td>\n",
       "      <td>Female</td>\n",
       "      <td>42</td>\n",
       "      <td>2.0</td>\n",
       "      <td>0.00</td>\n",
       "      <td>1</td>\n",
       "      <td>1</td>\n",
       "      <td>1</td>\n",
       "      <td>101348.88</td>\n",
       "      <td>1</td>\n",
       "    </tr>\n",
       "    <tr>\n",
       "      <th>1</th>\n",
       "      <td>2</td>\n",
       "      <td>15647311</td>\n",
       "      <td>Hill</td>\n",
       "      <td>608</td>\n",
       "      <td>Spain</td>\n",
       "      <td>Female</td>\n",
       "      <td>41</td>\n",
       "      <td>1.0</td>\n",
       "      <td>83807.86</td>\n",
       "      <td>1</td>\n",
       "      <td>0</td>\n",
       "      <td>1</td>\n",
       "      <td>112542.58</td>\n",
       "      <td>0</td>\n",
       "    </tr>\n",
       "    <tr>\n",
       "      <th>2</th>\n",
       "      <td>3</td>\n",
       "      <td>15619304</td>\n",
       "      <td>Onio</td>\n",
       "      <td>502</td>\n",
       "      <td>France</td>\n",
       "      <td>Female</td>\n",
       "      <td>42</td>\n",
       "      <td>8.0</td>\n",
       "      <td>159660.80</td>\n",
       "      <td>3</td>\n",
       "      <td>1</td>\n",
       "      <td>0</td>\n",
       "      <td>113931.57</td>\n",
       "      <td>1</td>\n",
       "    </tr>\n",
       "    <tr>\n",
       "      <th>3</th>\n",
       "      <td>4</td>\n",
       "      <td>15701354</td>\n",
       "      <td>Boni</td>\n",
       "      <td>699</td>\n",
       "      <td>France</td>\n",
       "      <td>Female</td>\n",
       "      <td>39</td>\n",
       "      <td>1.0</td>\n",
       "      <td>0.00</td>\n",
       "      <td>2</td>\n",
       "      <td>0</td>\n",
       "      <td>0</td>\n",
       "      <td>93826.63</td>\n",
       "      <td>0</td>\n",
       "    </tr>\n",
       "    <tr>\n",
       "      <th>4</th>\n",
       "      <td>5</td>\n",
       "      <td>15737888</td>\n",
       "      <td>Mitchell</td>\n",
       "      <td>850</td>\n",
       "      <td>Spain</td>\n",
       "      <td>Female</td>\n",
       "      <td>43</td>\n",
       "      <td>2.0</td>\n",
       "      <td>125510.82</td>\n",
       "      <td>1</td>\n",
       "      <td>1</td>\n",
       "      <td>1</td>\n",
       "      <td>79084.10</td>\n",
       "      <td>0</td>\n",
       "    </tr>\n",
       "    <tr>\n",
       "      <th>5</th>\n",
       "      <td>6</td>\n",
       "      <td>15574012</td>\n",
       "      <td>Chu</td>\n",
       "      <td>645</td>\n",
       "      <td>Spain</td>\n",
       "      <td>Male</td>\n",
       "      <td>44</td>\n",
       "      <td>8.0</td>\n",
       "      <td>113755.78</td>\n",
       "      <td>2</td>\n",
       "      <td>1</td>\n",
       "      <td>0</td>\n",
       "      <td>149756.71</td>\n",
       "      <td>1</td>\n",
       "    </tr>\n",
       "    <tr>\n",
       "      <th>6</th>\n",
       "      <td>7</td>\n",
       "      <td>15592531</td>\n",
       "      <td>Bartlett</td>\n",
       "      <td>822</td>\n",
       "      <td>France</td>\n",
       "      <td>Male</td>\n",
       "      <td>50</td>\n",
       "      <td>7.0</td>\n",
       "      <td>0.00</td>\n",
       "      <td>2</td>\n",
       "      <td>1</td>\n",
       "      <td>1</td>\n",
       "      <td>10062.80</td>\n",
       "      <td>0</td>\n",
       "    </tr>\n",
       "    <tr>\n",
       "      <th>7</th>\n",
       "      <td>8</td>\n",
       "      <td>15656148</td>\n",
       "      <td>Obinna</td>\n",
       "      <td>376</td>\n",
       "      <td>Germany</td>\n",
       "      <td>Female</td>\n",
       "      <td>29</td>\n",
       "      <td>4.0</td>\n",
       "      <td>115046.74</td>\n",
       "      <td>4</td>\n",
       "      <td>1</td>\n",
       "      <td>0</td>\n",
       "      <td>119346.88</td>\n",
       "      <td>1</td>\n",
       "    </tr>\n",
       "    <tr>\n",
       "      <th>8</th>\n",
       "      <td>9</td>\n",
       "      <td>15792365</td>\n",
       "      <td>He</td>\n",
       "      <td>501</td>\n",
       "      <td>France</td>\n",
       "      <td>Male</td>\n",
       "      <td>44</td>\n",
       "      <td>4.0</td>\n",
       "      <td>142051.07</td>\n",
       "      <td>2</td>\n",
       "      <td>0</td>\n",
       "      <td>1</td>\n",
       "      <td>74940.50</td>\n",
       "      <td>0</td>\n",
       "    </tr>\n",
       "    <tr>\n",
       "      <th>9</th>\n",
       "      <td>10</td>\n",
       "      <td>15592389</td>\n",
       "      <td>H?</td>\n",
       "      <td>684</td>\n",
       "      <td>France</td>\n",
       "      <td>Male</td>\n",
       "      <td>27</td>\n",
       "      <td>2.0</td>\n",
       "      <td>134603.88</td>\n",
       "      <td>1</td>\n",
       "      <td>1</td>\n",
       "      <td>1</td>\n",
       "      <td>71725.73</td>\n",
       "      <td>0</td>\n",
       "    </tr>\n",
       "  </tbody>\n",
       "</table>\n",
       "</div>"
      ],
      "text/plain": [
       "   RowNumber  CustomerId   Surname  CreditScore Geography  Gender  Age  \\\n",
       "0          1    15634602  Hargrave          619    France  Female   42   \n",
       "1          2    15647311      Hill          608     Spain  Female   41   \n",
       "2          3    15619304      Onio          502    France  Female   42   \n",
       "3          4    15701354      Boni          699    France  Female   39   \n",
       "4          5    15737888  Mitchell          850     Spain  Female   43   \n",
       "5          6    15574012       Chu          645     Spain    Male   44   \n",
       "6          7    15592531  Bartlett          822    France    Male   50   \n",
       "7          8    15656148    Obinna          376   Germany  Female   29   \n",
       "8          9    15792365        He          501    France    Male   44   \n",
       "9         10    15592389        H?          684    France    Male   27   \n",
       "\n",
       "   Tenure    Balance  NumOfProducts  HasCrCard  IsActiveMember  \\\n",
       "0     2.0       0.00              1          1               1   \n",
       "1     1.0   83807.86              1          0               1   \n",
       "2     8.0  159660.80              3          1               0   \n",
       "3     1.0       0.00              2          0               0   \n",
       "4     2.0  125510.82              1          1               1   \n",
       "5     8.0  113755.78              2          1               0   \n",
       "6     7.0       0.00              2          1               1   \n",
       "7     4.0  115046.74              4          1               0   \n",
       "8     4.0  142051.07              2          0               1   \n",
       "9     2.0  134603.88              1          1               1   \n",
       "\n",
       "   EstimatedSalary  Exited  \n",
       "0        101348.88       1  \n",
       "1        112542.58       0  \n",
       "2        113931.57       1  \n",
       "3         93826.63       0  \n",
       "4         79084.10       0  \n",
       "5        149756.71       1  \n",
       "6         10062.80       0  \n",
       "7        119346.88       1  \n",
       "8         74940.50       0  \n",
       "9         71725.73       0  "
      ]
     },
     "execution_count": 2,
     "metadata": {},
     "output_type": "execute_result"
    }
   ],
   "source": [
    "data = pd.read_csv('/datasets/Churn.csv')\n",
    "\n",
    "data.head(10)"
   ]
  },
  {
   "cell_type": "markdown",
   "metadata": {},
   "source": [
    "К несчастью, для указаных данных нет чёткого описания, в частности, для столбца `Exited` не известно какая цифра соответсвует ушедшим клиентам, а какая оставшимся. Для определённости будем считать 0 - ушедшими клиентами, а 1 - оставшимися."
   ]
  },
  {
   "cell_type": "code",
   "execution_count": 3,
   "metadata": {},
   "outputs": [
    {
     "name": "stdout",
     "output_type": "stream",
     "text": [
      "<class 'pandas.core.frame.DataFrame'>\n",
      "RangeIndex: 10000 entries, 0 to 9999\n",
      "Data columns (total 14 columns):\n",
      " #   Column           Non-Null Count  Dtype  \n",
      "---  ------           --------------  -----  \n",
      " 0   RowNumber        10000 non-null  int64  \n",
      " 1   CustomerId       10000 non-null  int64  \n",
      " 2   Surname          10000 non-null  object \n",
      " 3   CreditScore      10000 non-null  int64  \n",
      " 4   Geography        10000 non-null  object \n",
      " 5   Gender           10000 non-null  object \n",
      " 6   Age              10000 non-null  int64  \n",
      " 7   Tenure           9091 non-null   float64\n",
      " 8   Balance          10000 non-null  float64\n",
      " 9   NumOfProducts    10000 non-null  int64  \n",
      " 10  HasCrCard        10000 non-null  int64  \n",
      " 11  IsActiveMember   10000 non-null  int64  \n",
      " 12  EstimatedSalary  10000 non-null  float64\n",
      " 13  Exited           10000 non-null  int64  \n",
      "dtypes: float64(3), int64(8), object(3)\n",
      "memory usage: 1.1+ MB\n"
     ]
    }
   ],
   "source": [
    "data.info()"
   ]
  },
  {
   "cell_type": "markdown",
   "metadata": {},
   "source": [
    "Приведём названия столбцов к более удобному виду."
   ]
  },
  {
   "cell_type": "code",
   "execution_count": 4,
   "metadata": {},
   "outputs": [],
   "source": [
    "data = data.rename(columns={'RowNumber' : 'row_number',\n",
    "                            'CustomerId' : 'customer_id',\n",
    "                            'Surname' : 'surname',\n",
    "                            'CreditScore' : 'credit_score',\n",
    "                            'Geography' : 'geography',\n",
    "                            'Gender' : 'gender',\n",
    "                            'Age' : 'age',\n",
    "                            'Tenure' : 'tenure',\n",
    "                            'Balance' : 'balance',\n",
    "                            'NumOfProducts' : 'num_of_products',\n",
    "                            'HasCrCard' : 'has_cr_card',\n",
    "                            'IsActiveMember' : 'is_active_member',\n",
    "                            'EstimatedSalary' : 'estimated_salary',\n",
    "                            'Exited' : 'exited'})"
   ]
  },
  {
   "cell_type": "markdown",
   "metadata": {},
   "source": [
    "---"
   ]
  },
  {
   "cell_type": "code",
   "execution_count": 5,
   "metadata": {},
   "outputs": [
    {
     "name": "stdout",
     "output_type": "stream",
     "text": [
      "<class 'pandas.core.frame.DataFrame'>\n",
      "RangeIndex: 10000 entries, 0 to 9999\n",
      "Data columns (total 14 columns):\n",
      " #   Column            Non-Null Count  Dtype  \n",
      "---  ------            --------------  -----  \n",
      " 0   row_number        10000 non-null  int64  \n",
      " 1   customer_id       10000 non-null  int64  \n",
      " 2   surname           10000 non-null  object \n",
      " 3   credit_score      10000 non-null  int64  \n",
      " 4   geography         10000 non-null  object \n",
      " 5   gender            10000 non-null  object \n",
      " 6   age               10000 non-null  int64  \n",
      " 7   tenure            9091 non-null   float64\n",
      " 8   balance           10000 non-null  float64\n",
      " 9   num_of_products   10000 non-null  int64  \n",
      " 10  has_cr_card       10000 non-null  int64  \n",
      " 11  is_active_member  10000 non-null  int64  \n",
      " 12  estimated_salary  10000 non-null  float64\n",
      " 13  exited            10000 non-null  int64  \n",
      "dtypes: float64(3), int64(8), object(3)\n",
      "memory usage: 1.1+ MB\n"
     ]
    }
   ],
   "source": [
    "data.info()"
   ]
  },
  {
   "cell_type": "markdown",
   "metadata": {},
   "source": [
    "В ходе выполнения задачи нам будет необходимо построить модель прогноза факта ухода клиента, очевидно, что на этот факт слабо влияет фамилия клиента. Удалим информацию о ней из нашего анализа."
   ]
  },
  {
   "cell_type": "code",
   "execution_count": 6,
   "metadata": {},
   "outputs": [],
   "source": [
    "data = data.drop('surname', axis=1)"
   ]
  },
  {
   "cell_type": "markdown",
   "metadata": {},
   "source": [
    "Тоже самое можно сказать про индекс строки в данных"
   ]
  },
  {
   "cell_type": "code",
   "execution_count": 7,
   "metadata": {},
   "outputs": [],
   "source": [
    "data = data.drop('row_number', axis=1)"
   ]
  },
  {
   "cell_type": "markdown",
   "metadata": {},
   "source": [
    "и про уникальные идентификаторы клиентов."
   ]
  },
  {
   "cell_type": "code",
   "execution_count": 8,
   "metadata": {},
   "outputs": [],
   "source": [
    "data = data.drop('customer_id', axis=1)"
   ]
  },
  {
   "cell_type": "markdown",
   "metadata": {},
   "source": [
    "Также можно отметить, что в данных представлена информация о клиентах из трёх стран."
   ]
  },
  {
   "cell_type": "code",
   "execution_count": 9,
   "metadata": {},
   "outputs": [
    {
     "data": {
      "text/plain": [
       "France     5014\n",
       "Germany    2509\n",
       "Spain      2477\n",
       "Name: geography, dtype: int64"
      ]
     },
     "execution_count": 9,
     "metadata": {},
     "output_type": "execute_result"
    }
   ],
   "source": [
    "data['geography'].value_counts()"
   ]
  },
  {
   "cell_type": "markdown",
   "metadata": {},
   "source": [
    "Преобразуем информацию о странах и поле клиентов в таблице из категориальной в численную техникой прямого кодирования."
   ]
  },
  {
   "cell_type": "code",
   "execution_count": 10,
   "metadata": {
    "scrolled": false
   },
   "outputs": [],
   "source": [
    "data = pd.get_dummies(data, columns=['geography', 'gender'], drop_first=True)"
   ]
  },
  {
   "cell_type": "markdown",
   "metadata": {},
   "source": [
    "В данных отсутсвует информация о времени явления некоторых людей клиентом банка. Поскольку нет информации о том, чем можно было бы эти пропуски заменить и строк с этими пропусками намного меньше, чем строк без пропусков, то удалим их, чтобы они не оказывали влияние на дальнейший анализ."
   ]
  },
  {
   "cell_type": "code",
   "execution_count": 11,
   "metadata": {},
   "outputs": [],
   "source": [
    "data = data[~data['tenure'].isna()].reset_index(drop=True)"
   ]
  },
  {
   "cell_type": "markdown",
   "metadata": {},
   "source": [
    "В ходе анализа данных других аномалий в представленных данных не выявлено."
   ]
  },
  {
   "cell_type": "code",
   "execution_count": 12,
   "metadata": {},
   "outputs": [
    {
     "data": {
      "image/png": "[encoded data removed]",
      "text/plain": [
       "<Figure size 1080x1440 with 12 Axes>"
      ]
     },
     "metadata": {
      "needs_background": "light"
     },
     "output_type": "display_data"
    }
   ],
   "source": [
    "data.hist(figsize=(15, 20), grid=False);"
   ]
  },
  {
   "cell_type": "markdown",
   "metadata": {},
   "source": [
    "В итоге данные преобразованы к виду:"
   ]
  },
  {
   "cell_type": "code",
   "execution_count": 13,
   "metadata": {},
   "outputs": [
    {
     "name": "stdout",
     "output_type": "stream",
     "text": [
      "<class 'pandas.core.frame.DataFrame'>\n",
      "RangeIndex: 9091 entries, 0 to 9090\n",
      "Data columns (total 12 columns):\n",
      " #   Column             Non-Null Count  Dtype  \n",
      "---  ------             --------------  -----  \n",
      " 0   credit_score       9091 non-null   int64  \n",
      " 1   age                9091 non-null   int64  \n",
      " 2   tenure             9091 non-null   float64\n",
      " 3   balance            9091 non-null   float64\n",
      " 4   num_of_products    9091 non-null   int64  \n",
      " 5   has_cr_card        9091 non-null   int64  \n",
      " 6   is_active_member   9091 non-null   int64  \n",
      " 7   estimated_salary   9091 non-null   float64\n",
      " 8   exited             9091 non-null   int64  \n",
      " 9   geography_Germany  9091 non-null   uint8  \n",
      " 10  geography_Spain    9091 non-null   uint8  \n",
      " 11  gender_Male        9091 non-null   uint8  \n",
      "dtypes: float64(3), int64(6), uint8(3)\n",
      "memory usage: 666.0 KB\n"
     ]
    }
   ],
   "source": [
    "data.info()"
   ]
  },
  {
   "cell_type": "markdown",
   "metadata": {},
   "source": [
    "Кореляция приведённых данных между друг другом достаточно слабая, что даёт основание обучить модель на всех оставшися данных."
   ]
  },
  {
   "cell_type": "code",
   "execution_count": 14,
   "metadata": {
    "scrolled": false
   },
   "outputs": [
    {
     "data": {
      "text/html": [
       "<div>\n",
       "<style scoped>\n",
       "    .dataframe tbody tr th:only-of-type {\n",
       "        vertical-align: middle;\n",
       "    }\n",
       "\n",
       "    .dataframe tbody tr th {\n",
       "        vertical-align: top;\n",
       "    }\n",
       "\n",
       "    .dataframe thead th {\n",
       "        text-align: right;\n",
       "    }\n",
       "</style>\n",
       "<table border=\"1\" class=\"dataframe\">\n",
       "  <thead>\n",
       "    <tr style=\"text-align: right;\">\n",
       "      <th></th>\n",
       "      <th>credit_score</th>\n",
       "      <th>age</th>\n",
       "      <th>tenure</th>\n",
       "      <th>balance</th>\n",
       "      <th>num_of_products</th>\n",
       "      <th>has_cr_card</th>\n",
       "      <th>is_active_member</th>\n",
       "      <th>estimated_salary</th>\n",
       "      <th>exited</th>\n",
       "      <th>geography_Germany</th>\n",
       "      <th>geography_Spain</th>\n",
       "      <th>gender_Male</th>\n",
       "    </tr>\n",
       "  </thead>\n",
       "  <tbody>\n",
       "    <tr>\n",
       "      <th>credit_score</th>\n",
       "      <td>1.000000</td>\n",
       "      <td>-0.004504</td>\n",
       "      <td>-0.000062</td>\n",
       "      <td>0.002804</td>\n",
       "      <td>0.011090</td>\n",
       "      <td>-0.003937</td>\n",
       "      <td>0.030947</td>\n",
       "      <td>0.005182</td>\n",
       "      <td>-0.023950</td>\n",
       "      <td>0.000428</td>\n",
       "      <td>0.001725</td>\n",
       "      <td>-0.008547</td>\n",
       "    </tr>\n",
       "    <tr>\n",
       "      <th>age</th>\n",
       "      <td>-0.004504</td>\n",
       "      <td>1.000000</td>\n",
       "      <td>-0.013134</td>\n",
       "      <td>0.031481</td>\n",
       "      <td>-0.031877</td>\n",
       "      <td>-0.014129</td>\n",
       "      <td>0.082269</td>\n",
       "      <td>-0.007037</td>\n",
       "      <td>0.283017</td>\n",
       "      <td>0.049038</td>\n",
       "      <td>-0.005622</td>\n",
       "      <td>-0.025631</td>\n",
       "    </tr>\n",
       "    <tr>\n",
       "      <th>tenure</th>\n",
       "      <td>-0.000062</td>\n",
       "      <td>-0.013134</td>\n",
       "      <td>1.000000</td>\n",
       "      <td>-0.007911</td>\n",
       "      <td>0.011979</td>\n",
       "      <td>0.027232</td>\n",
       "      <td>-0.032178</td>\n",
       "      <td>0.010520</td>\n",
       "      <td>-0.016761</td>\n",
       "      <td>-0.003299</td>\n",
       "      <td>0.000810</td>\n",
       "      <td>0.012634</td>\n",
       "    </tr>\n",
       "    <tr>\n",
       "      <th>balance</th>\n",
       "      <td>0.002804</td>\n",
       "      <td>0.031481</td>\n",
       "      <td>-0.007911</td>\n",
       "      <td>1.000000</td>\n",
       "      <td>-0.301858</td>\n",
       "      <td>-0.019055</td>\n",
       "      <td>-0.003285</td>\n",
       "      <td>0.014351</td>\n",
       "      <td>0.117218</td>\n",
       "      <td>0.401701</td>\n",
       "      <td>-0.136986</td>\n",
       "      <td>0.018030</td>\n",
       "    </tr>\n",
       "    <tr>\n",
       "      <th>num_of_products</th>\n",
       "      <td>0.011090</td>\n",
       "      <td>-0.031877</td>\n",
       "      <td>0.011979</td>\n",
       "      <td>-0.301858</td>\n",
       "      <td>1.000000</td>\n",
       "      <td>0.005805</td>\n",
       "      <td>0.009084</td>\n",
       "      <td>0.013990</td>\n",
       "      <td>-0.050271</td>\n",
       "      <td>-0.009476</td>\n",
       "      <td>0.011903</td>\n",
       "      <td>-0.025176</td>\n",
       "    </tr>\n",
       "    <tr>\n",
       "      <th>has_cr_card</th>\n",
       "      <td>-0.003937</td>\n",
       "      <td>-0.014129</td>\n",
       "      <td>0.027232</td>\n",
       "      <td>-0.019055</td>\n",
       "      <td>0.005805</td>\n",
       "      <td>1.000000</td>\n",
       "      <td>-0.008810</td>\n",
       "      <td>-0.006136</td>\n",
       "      <td>-0.005411</td>\n",
       "      <td>0.009149</td>\n",
       "      <td>-0.017779</td>\n",
       "      <td>0.006016</td>\n",
       "    </tr>\n",
       "    <tr>\n",
       "      <th>is_active_member</th>\n",
       "      <td>0.030947</td>\n",
       "      <td>0.082269</td>\n",
       "      <td>-0.032178</td>\n",
       "      <td>-0.003285</td>\n",
       "      <td>0.009084</td>\n",
       "      <td>-0.008810</td>\n",
       "      <td>1.000000</td>\n",
       "      <td>-0.020049</td>\n",
       "      <td>-0.155062</td>\n",
       "      <td>-0.016821</td>\n",
       "      <td>0.014800</td>\n",
       "      <td>0.025019</td>\n",
       "    </tr>\n",
       "    <tr>\n",
       "      <th>estimated_salary</th>\n",
       "      <td>0.005182</td>\n",
       "      <td>-0.007037</td>\n",
       "      <td>0.010520</td>\n",
       "      <td>0.014351</td>\n",
       "      <td>0.013990</td>\n",
       "      <td>-0.006136</td>\n",
       "      <td>-0.020049</td>\n",
       "      <td>1.000000</td>\n",
       "      <td>0.016029</td>\n",
       "      <td>0.011551</td>\n",
       "      <td>-0.010998</td>\n",
       "      <td>-0.002658</td>\n",
       "    </tr>\n",
       "    <tr>\n",
       "      <th>exited</th>\n",
       "      <td>-0.023950</td>\n",
       "      <td>0.283017</td>\n",
       "      <td>-0.016761</td>\n",
       "      <td>0.117218</td>\n",
       "      <td>-0.050271</td>\n",
       "      <td>-0.005411</td>\n",
       "      <td>-0.155062</td>\n",
       "      <td>0.016029</td>\n",
       "      <td>1.000000</td>\n",
       "      <td>0.178131</td>\n",
       "      <td>-0.055971</td>\n",
       "      <td>-0.110450</td>\n",
       "    </tr>\n",
       "    <tr>\n",
       "      <th>geography_Germany</th>\n",
       "      <td>0.000428</td>\n",
       "      <td>0.049038</td>\n",
       "      <td>-0.003299</td>\n",
       "      <td>0.401701</td>\n",
       "      <td>-0.009476</td>\n",
       "      <td>0.009149</td>\n",
       "      <td>-0.016821</td>\n",
       "      <td>0.011551</td>\n",
       "      <td>0.178131</td>\n",
       "      <td>1.000000</td>\n",
       "      <td>-0.332879</td>\n",
       "      <td>-0.023701</td>\n",
       "    </tr>\n",
       "    <tr>\n",
       "      <th>geography_Spain</th>\n",
       "      <td>0.001725</td>\n",
       "      <td>-0.005622</td>\n",
       "      <td>0.000810</td>\n",
       "      <td>-0.136986</td>\n",
       "      <td>0.011903</td>\n",
       "      <td>-0.017779</td>\n",
       "      <td>0.014800</td>\n",
       "      <td>-0.010998</td>\n",
       "      <td>-0.055971</td>\n",
       "      <td>-0.332879</td>\n",
       "      <td>1.000000</td>\n",
       "      <td>0.015388</td>\n",
       "    </tr>\n",
       "    <tr>\n",
       "      <th>gender_Male</th>\n",
       "      <td>-0.008547</td>\n",
       "      <td>-0.025631</td>\n",
       "      <td>0.012634</td>\n",
       "      <td>0.018030</td>\n",
       "      <td>-0.025176</td>\n",
       "      <td>0.006016</td>\n",
       "      <td>0.025019</td>\n",
       "      <td>-0.002658</td>\n",
       "      <td>-0.110450</td>\n",
       "      <td>-0.023701</td>\n",
       "      <td>0.015388</td>\n",
       "      <td>1.000000</td>\n",
       "    </tr>\n",
       "  </tbody>\n",
       "</table>\n",
       "</div>"
      ],
      "text/plain": [
       "                   credit_score       age    tenure   balance  \\\n",
       "credit_score           1.000000 -0.004504 -0.000062  0.002804   \n",
       "age                   -0.004504  1.000000 -0.013134  0.031481   \n",
       "tenure                -0.000062 -0.013134  1.000000 -0.007911   \n",
       "balance                0.002804  0.031481 -0.007911  1.000000   \n",
       "num_of_products        0.011090 -0.031877  0.011979 -0.301858   \n",
       "has_cr_card           -0.003937 -0.014129  0.027232 -0.019055   \n",
       "is_active_member       0.030947  0.082269 -0.032178 -0.003285   \n",
       "estimated_salary       0.005182 -0.007037  0.010520  0.014351   \n",
       "exited                -0.023950  0.283017 -0.016761  0.117218   \n",
       "geography_Germany      0.000428  0.049038 -0.003299  0.401701   \n",
       "geography_Spain        0.001725 -0.005622  0.000810 -0.136986   \n",
       "gender_Male           -0.008547 -0.025631  0.012634  0.018030   \n",
       "\n",
       "                   num_of_products  has_cr_card  is_active_member  \\\n",
       "credit_score              0.011090    -0.003937          0.030947   \n",
       "age                      -0.031877    -0.014129          0.082269   \n",
       "tenure                    0.011979     0.027232         -0.032178   \n",
       "balance                  -0.301858    -0.019055         -0.003285   \n",
       "num_of_products           1.000000     0.005805          0.009084   \n",
       "has_cr_card               0.005805     1.000000         -0.008810   \n",
       "is_active_member          0.009084    -0.008810          1.000000   \n",
       "estimated_salary          0.013990    -0.006136         -0.020049   \n",
       "exited                   -0.050271    -0.005411         -0.155062   \n",
       "geography_Germany        -0.009476     0.009149         -0.016821   \n",
       "geography_Spain           0.011903    -0.017779          0.014800   \n",
       "gender_Male              -0.025176     0.006016          0.025019   \n",
       "\n",
       "                   estimated_salary    exited  geography_Germany  \\\n",
       "credit_score               0.005182 -0.023950           0.000428   \n",
       "age                       -0.007037  0.283017           0.049038   \n",
       "tenure                     0.010520 -0.016761          -0.003299   \n",
       "balance                    0.014351  0.117218           0.401701   \n",
       "num_of_products            0.013990 -0.050271          -0.009476   \n",
       "has_cr_card               -0.006136 -0.005411           0.009149   \n",
       "is_active_member          -0.020049 -0.155062          -0.016821   \n",
       "estimated_salary           1.000000  0.016029           0.011551   \n",
       "exited                     0.016029  1.000000           0.178131   \n",
       "geography_Germany          0.011551  0.178131           1.000000   \n",
       "geography_Spain           -0.010998 -0.055971          -0.332879   \n",
       "gender_Male               -0.002658 -0.110450          -0.023701   \n",
       "\n",
       "                   geography_Spain  gender_Male  \n",
       "credit_score              0.001725    -0.008547  \n",
       "age                      -0.005622    -0.025631  \n",
       "tenure                    0.000810     0.012634  \n",
       "balance                  -0.136986     0.018030  \n",
       "num_of_products           0.011903    -0.025176  \n",
       "has_cr_card              -0.017779     0.006016  \n",
       "is_active_member          0.014800     0.025019  \n",
       "estimated_salary         -0.010998    -0.002658  \n",
       "exited                   -0.055971    -0.110450  \n",
       "geography_Germany        -0.332879    -0.023701  \n",
       "geography_Spain           1.000000     0.015388  \n",
       "gender_Male               0.015388     1.000000  "
      ]
     },
     "execution_count": 14,
     "metadata": {},
     "output_type": "execute_result"
    }
   ],
   "source": [
    "data.corr()"
   ]
  },
  {
   "cell_type": "markdown",
   "metadata": {},
   "source": [
    "---"
   ]
  },
  {
   "cell_type": "markdown",
   "metadata": {},
   "source": [
    "Кроме того, можно заметить, что данных об ушедших клиентах в разы больше данных о текущих клиентах. Это побуждает нас подумать о нейтрализации данного дисбаланса в соответсвующем разделе."
   ]
  },
  {
   "cell_type": "code",
   "execution_count": 15,
   "metadata": {
    "scrolled": true
   },
   "outputs": [
    {
     "data": {
      "text/plain": [
       "0    7237\n",
       "1    1854\n",
       "Name: exited, dtype: int64"
      ]
     },
     "execution_count": 15,
     "metadata": {},
     "output_type": "execute_result"
    }
   ],
   "source": [
    "data['exited'].value_counts()"
   ]
  },
  {
   "cell_type": "markdown",
   "metadata": {},
   "source": [
    "## Исследование задачи"
   ]
  },
  {
   "cell_type": "markdown",
   "metadata": {},
   "source": [
    "Для начала попробуем решить задачу без учёта дисбаланса. Целевым признаком в нашем исследовании является факт ухода клиента. Отделим целевые признаки от нецелевых."
   ]
  },
  {
   "cell_type": "code",
   "execution_count": 16,
   "metadata": {},
   "outputs": [],
   "source": [
    "f = data.drop(['exited'], axis=1)\n",
    "t = data['exited']"
   ]
  },
  {
   "cell_type": "markdown",
   "metadata": {},
   "source": [
    "Разделим исходные данные на обучающую, валидационную и тестовую выборки в соотношение 3:1:1 (60%:20%:20%)."
   ]
  },
  {
   "cell_type": "code",
   "execution_count": 17,
   "metadata": {},
   "outputs": [],
   "source": [
    "rrrr = 42 # random_state\n",
    "\n",
    "# разбиение признаков\n",
    "f_trn, f_vld, f_tst = \\\n",
    "              np.split(f.sample(frac=1, random_state=rrrr), \n",
    "                       [int(.6*len(f)), int(.8*len(f))])\n",
    "\n",
    "# разбиение целевого признака\n",
    "t_trn, t_vld, t_tst = \\\n",
    "              np.split(t.sample(frac=1, random_state=rrrr), \n",
    "                       [int(.6*len(t)), int(.8*len(t))])"
   ]
  },
  {
   "cell_type": "markdown",
   "metadata": {},
   "source": [
    "---"
   ]
  },
  {
   "cell_type": "markdown",
   "metadata": {},
   "source": [
    "Поскольку целевые признаки имеют категориальную природу, то мы будем решать задачу классификации, а не регрессии. Т.е. мы постараемся определить по нецелевым признакам факт ухода клиента. В данном анализе мы задействуем модель случайного леса. Её отличительными особенностями являются высокая получаемая точность, но более низкая скорость обучения. Найдём лучшую c точки зрения среднего гармонического полноты и точности модель с заданным количеством деревьев. Код ниже возвращает F1 и площадь под кривой ошибок для такой модели."
   ]
  },
  {
   "cell_type": "code",
   "execution_count": 18,
   "metadata": {},
   "outputs": [
    {
     "name": "stdout",
     "output_type": "stream",
     "text": [
      "0.5855263157894737 0.846836496517946\n"
     ]
    },
    {
     "data": {
      "image/png": "[encoded data removed]",
      "text/plain": [
       "<Figure size 720x432 with 1 Axes>"
      ]
     },
     "metadata": {
      "needs_background": "light"
     },
     "output_type": "display_data"
    },
    {
     "data": {
      "image/png": "[encoded data removed]",
      "text/plain": [
       "<Figure size 720x432 with 1 Axes>"
      ]
     },
     "metadata": {
      "needs_background": "light"
     },
     "output_type": "display_data"
    }
   ],
   "source": [
    "b_rfc_m = None             # лучшая модель\n",
    "m_f1 = []; b_rfc_f1 = 0    # F1 лучшей модели\n",
    "m_auc = []; b_auc = 0      # ACU лучшей по F1 модели\n",
    "ii = 0\n",
    "for i in range(1, 50):\n",
    "    m = RandomForestClassifier(\n",
    "        random_state=rrrr,\n",
    "        n_estimators=i)                      # обучаем модель с заданным количеством деревьев\n",
    "    m.fit(f_trn,t_trn)                       # тренируем модель по тренировочной выборке\n",
    "    p_vld = m.predict(f_vld)                 # предсказание результатов\n",
    "    pp_vld = m.predict_proba(f_vld)          # предсказание вероятностей результатов\n",
    "    f1 = f1_score(t_vld,p_vld)               # F1 по валидационной выборке\n",
    "    auc = roc_auc_score(t_vld, pp_vld[:, 1]) # AUC по валидационной выборке\n",
    "    m_f1.append(f1)\n",
    "    m_auc.append(auc)\n",
    "    if f1 > b_rfc_f1:\n",
    "        b_rfc_m = m\n",
    "        b_rfc_f1 = f1\n",
    "        b_auc = auc\n",
    "        ii = i\n",
    "\n",
    "fig, ax = plt.subplots(figsize=(10,6))\n",
    "plt.plot(range(1, 50),m_f1)\n",
    "ax.axvline(x=ii, color='#000000', ls='--', linewidth=1)\n",
    "plt.title('Средее гармоническое полноты и точности в зависимости от количества деревьев')\n",
    "plt.ylabel('F1, безразм.', style='italic')\n",
    "plt.xlabel('количество деревьев, шт', style='italic')\n",
    "\n",
    "fig, ax = plt.subplots(figsize=(10,6))\n",
    "plt.plot(range(1, 50),m_auc)\n",
    "ax.axvline(x=ii, color='#000000', ls='--', linewidth=1)\n",
    "plt.title('Площадь под кривой ошибок в зависимости от количества деревьев')\n",
    "plt.ylabel('площадь, безразм.', style='italic')\n",
    "plt.xlabel('количество деревьев, шт', style='italic')\n",
    "\n",
    "print(b_rfc_f1,b_auc)"
   ]
  },
  {
   "cell_type": "markdown",
   "metadata": {},
   "source": [
    "F1 модели, тренированной на текущих данных, слишком мал. Для того чтобы повысить данный показатель необходимо обучить модель на данных с учтённым дисбалансом."
   ]
  },
  {
   "cell_type": "markdown",
   "metadata": {},
   "source": [
    "## Борьба с дисбалансом"
   ]
  },
  {
   "cell_type": "markdown",
   "metadata": {},
   "source": [
    "Обучим несколько моделей на по-разному модифицированных данных, чтобы получить модель, которая бы обладала наиболее полной способностью к предсказаниям."
   ]
  },
  {
   "cell_type": "markdown",
   "metadata": {},
   "source": [
    "### Вес"
   ]
  },
  {
   "cell_type": "markdown",
   "metadata": {},
   "source": [
    "Придадим объектам редкого класса больший вес, чтобы сбалансировать таким образом нашу модель."
   ]
  },
  {
   "cell_type": "code",
   "execution_count": 19,
   "metadata": {},
   "outputs": [
    {
     "name": "stdout",
     "output_type": "stream",
     "text": [
      "0.5870646766169154 0.8284916201117318\n"
     ]
    },
    {
     "data": {
      "image/png": "[encoded data removed]",
      "text/plain": [
       "<Figure size 720x432 with 1 Axes>"
      ]
     },
     "metadata": {
      "needs_background": "light"
     },
     "output_type": "display_data"
    },
    {
     "data": {
      "image/png": "[encoded data removed]",
      "text/plain": [
       "<Figure size 720x432 with 1 Axes>"
      ]
     },
     "metadata": {
      "needs_background": "light"
     },
     "output_type": "display_data"
    }
   ],
   "source": [
    "b_rfc_m_b = None             # лучшая модель\n",
    "m_f1 = []; b_rfc_f1 = 0      # F1 лучшей модели\n",
    "m_auc = []; b_auc = 0        # ACU лучшей по F1 модели\n",
    "ii = 0\n",
    "for i in range(1, 50):\n",
    "    m = RandomForestClassifier(\n",
    "        random_state=rrrr,\n",
    "        n_estimators=i,                      # обучаем модель с заданным количеством деревьев\n",
    "        class_weight='balanced')             # обучаем модель с взвешаннами классами\n",
    "    m.fit(f_trn,t_trn)                       # тренируем модель по тренировочной выборке\n",
    "    p_vld = m.predict(f_vld)                 # предсказание результатов\n",
    "    pp_vld = m.predict_proba(f_vld)          # предсказание вероятностей результатов\n",
    "    f1 = f1_score(t_vld,p_vld)               # F1 по валидационной выборке\n",
    "    auc = roc_auc_score(t_vld, pp_vld[:, 1]) # AUC по валидационной выборке\n",
    "    m_f1.append(f1)\n",
    "    m_auc.append(auc)\n",
    "    if f1 > b_rfc_f1:\n",
    "        b_rfc_m_b = m\n",
    "        b_rfc_f1 = f1\n",
    "        b_auc = auc\n",
    "        ii = i\n",
    "\n",
    "fig, ax = plt.subplots(figsize=(10,6))\n",
    "plt.plot(range(1, 50),m_f1)\n",
    "ax.axvline(x=ii, color='#000000', ls='--', linewidth=1)\n",
    "plt.title('Средее гармоническое полноты и точности в зависимости от количества деревьев')\n",
    "plt.ylabel('F1, безразм.', style='italic')\n",
    "plt.xlabel('количество деревьев, шт', style='italic')\n",
    "\n",
    "fig, ax = plt.subplots(figsize=(10,6))\n",
    "plt.plot(range(1, 50),m_auc)\n",
    "ax.axvline(x=ii, color='#000000', ls='--', linewidth=1)\n",
    "plt.title('Площадь под кривой ошибок в зависимости от количества деревьев')\n",
    "plt.ylabel('площадь, безразм.', style='italic')\n",
    "plt.xlabel('количество деревьев, шт', style='italic')\n",
    "\n",
    "print(b_rfc_f1,b_auc)"
   ]
  },
  {
   "cell_type": "markdown",
   "metadata": {},
   "source": [
    "Балансировка только незначительно улучшила нашу модель. В дальнейшем анализе мы будем прибегать к другим способам модификации данных."
   ]
  },
  {
   "cell_type": "markdown",
   "metadata": {},
   "source": [
    "### Увеличение выборки"
   ]
  },
  {
   "cell_type": "markdown",
   "metadata": {},
   "source": [
    "Повторим несколько раз редко встречающиеся классы для того, чтобы модели было легче обучатся."
   ]
  },
  {
   "cell_type": "code",
   "execution_count": 20,
   "metadata": {},
   "outputs": [
    {
     "name": "stdout",
     "output_type": "stream",
     "text": [
      "3 45 : 0.6000000000000001 0.845691436442948\n",
      "4 23 : 0.6197991391678622 0.8458444937629142\n",
      "5 23 : 0.6197991391678622 0.8458444937629142\n",
      "> 4 23 : 0.6197991391678622 0.8458444937629142\n"
     ]
    },
    {
     "data": {
      "image/png": "[encoded data removed]",
      "text/plain": [
       "<Figure size 720x432 with 1 Axes>"
      ]
     },
     "metadata": {
      "needs_background": "light"
     },
     "output_type": "display_data"
    },
    {
     "data": {
      "image/png": "[encoded data removed]",
      "text/plain": [
       "<Figure size 720x432 with 1 Axes>"
      ]
     },
     "metadata": {
      "needs_background": "light"
     },
     "output_type": "display_data"
    }
   ],
   "source": [
    "# увеличивает выборку, повторяя строки наимение встречающегося признака указанное количество раз\n",
    "# признаки, целевые признаки, количество повторенй, random_state\n",
    "def upsample(f, t, n, r):\n",
    "    underdog = t_vld.value_counts().index[-1]\n",
    "    \n",
    "    f_unddg = f[t == underdog]\n",
    "    f_anthr = f[t != underdog]\n",
    "    t_unddg = t[t == underdog]\n",
    "    t_anthr = t[t != underdog]\n",
    "\n",
    "    ff = pd.concat([f_anthr] + [f_unddg] * n)\n",
    "    tt = pd.concat([t_anthr] + [t_unddg] * n)\n",
    "    \n",
    "    return shuffle(ff, tt, random_state=r)\n",
    "\n",
    "\n",
    "m_f1 = []; m_auc = []\n",
    "b_rfc_m_up = None # лучшая модель\n",
    "b_rfc_f1 = 0      # F1 лучшей модели\n",
    "b_auc = 0         # ACU лучшей по F1 модели\n",
    "jj = ii = 0\n",
    "for j in range(3, 6): # перебор по количеству увеличения наимениее встречающегося признака\n",
    "    f_trn_up, t_trn_up = upsample(f_trn, t_trn, j, rrrr) \n",
    "    m_f1.append([]);\n",
    "    m_auc.append([]);\n",
    "    for i in range(1, 50):\n",
    "        m = RandomForestClassifier(\n",
    "            random_state=rrrr,\n",
    "            n_estimators=i)                      # обучаем модель с заданным количеством деревьев\n",
    "        m.fit(f_trn_up,t_trn_up)                 # тренируем модель по модифицированной тренировочной выборке\n",
    "        p_vld = m.predict(f_vld)                 # предсказание результатов\n",
    "        pp_vld = m.predict_proba(f_vld)          # предсказание вероятностей результатов\n",
    "        f1 = f1_score(t_vld,p_vld)               # F1 по валидационной выборке\n",
    "        auc = roc_auc_score(t_vld, pp_vld[:, 1]) # AUC по валидационной выборке\n",
    "        m_f1[-1].append(f1)\n",
    "        m_auc[-1].append(auc)\n",
    "        if f1 > b_rfc_f1:\n",
    "            b_rfc_m_up = m\n",
    "            b_rfc_f1 = f1\n",
    "            b_auc = auc\n",
    "            ii = i\n",
    "            jj = j\n",
    "    print(j,ii,':',b_rfc_f1,b_auc)\n",
    "\n",
    "fig, ax = plt.subplots(figsize=(10,6))\n",
    "for j in range(0, 3):\n",
    "    plt.plot(range(1, 50),m_f1[j])\n",
    "ax.axvline(x=ii, color='#000000', ls='--', linewidth=1)\n",
    "plt.title('Средее гармоническое полноты и точности в зависимости от количества деревьев\\nи количества раз увеличения наиболее частовтречающегося признака')\n",
    "plt.ylabel('F1, безразм.', style='italic')\n",
    "plt.xlabel('количество деревьев, шт', style='italic')\n",
    "plt.legend(range(3, 6))\n",
    "\n",
    "fig, ax = plt.subplots(figsize=(10,6))\n",
    "for j in range(0, 3):\n",
    "    plt.plot(range(1, 50),m_auc[j])\n",
    "ax.axvline(x=ii, color='#000000', ls='--', linewidth=1)\n",
    "plt.title('Площадь под кривой ошибок в зависимости от количества деревьев\\nи количества раз увеличения наиболее частовтречающегося признака')\n",
    "plt.ylabel('площадь, безразм.', style='italic')\n",
    "plt.xlabel('количество деревьев, шт', style='italic')\n",
    "plt.legend(range(3, 6))\n",
    "\n",
    "print('>',jj,ii,':',b_rfc_f1,b_auc)"
   ]
  },
  {
   "cell_type": "markdown",
   "metadata": {},
   "source": [
    "Повторение редко встречающихся классов дало свои результаты. Показатель F1 модели вырос."
   ]
  },
  {
   "cell_type": "code",
   "execution_count": 21,
   "metadata": {},
   "outputs": [
    {
     "data": {
      "text/plain": [
       "1    4520\n",
       "0    4324\n",
       "Name: exited, dtype: int64"
      ]
     },
     "execution_count": 21,
     "metadata": {},
     "output_type": "execute_result"
    }
   ],
   "source": [
    "f_trn_up, t_trn_up = upsample(f_trn, t_trn, 4, rrrr)\n",
    "t_trn_up.value_counts()"
   ]
  },
  {
   "cell_type": "markdown",
   "metadata": {},
   "source": [
    "---"
   ]
  },
  {
   "cell_type": "code",
   "execution_count": 22,
   "metadata": {},
   "outputs": [
    {
     "data": {
      "text/plain": [
       "0    4324\n",
       "1    1130\n",
       "Name: exited, dtype: int64"
      ]
     },
     "execution_count": 22,
     "metadata": {},
     "output_type": "execute_result"
    }
   ],
   "source": [
    "t_trn.value_counts()"
   ]
  },
  {
   "cell_type": "markdown",
   "metadata": {},
   "source": [
    "Чтобы найти оптимальное число для устранения дисбаланса найдём отношение в котором находятся классы в текущем состоянии."
   ]
  },
  {
   "cell_type": "code",
   "execution_count": 23,
   "metadata": {},
   "outputs": [
    {
     "data": {
      "text/plain": [
       "4"
      ]
     },
     "execution_count": 23,
     "metadata": {},
     "output_type": "execute_result"
    }
   ],
   "source": [
    "round(t_trn.value_counts()[0] / t_trn.value_counts()[1])"
   ]
  },
  {
   "cell_type": "markdown",
   "metadata": {},
   "source": [
    "Используем это соотношение для построение оптимальной модели."
   ]
  },
  {
   "cell_type": "code",
   "execution_count": 24,
   "metadata": {},
   "outputs": [
    {
     "name": "stdout",
     "output_type": "stream",
     "text": [
      "0.6197991391678622 0.8458444937629142\n"
     ]
    },
    {
     "data": {
      "image/png": "[encoded data removed]",
      "text/plain": [
       "<Figure size 720x432 with 1 Axes>"
      ]
     },
     "metadata": {
      "needs_background": "light"
     },
     "output_type": "display_data"
    },
    {
     "data": {
      "image/png": "[encoded data removed]",
      "text/plain": [
       "<Figure size 720x432 with 1 Axes>"
      ]
     },
     "metadata": {
      "needs_background": "light"
     },
     "output_type": "display_data"
    }
   ],
   "source": [
    "f_trn_up, t_trn_up = upsample(f_trn, t_trn,\n",
    "                              round(t_trn.value_counts()[0] / t_trn.value_counts()[1]),\n",
    "                              rrrr) \n",
    "b_rfc_m_up_2 = None          # лучшая модель\n",
    "m_f1 = []; b_rfc_f1 = 0      # F1 лучшей модели\n",
    "m_auc = []; b_auc = 0        # ACU лучшей по F1 модели\n",
    "ii = 0\n",
    "for i in range(1, 50):\n",
    "    m = RandomForestClassifier(\n",
    "        random_state=rrrr,\n",
    "        n_estimators=i)                      # обучаем модель с заданным количеством деревьев\n",
    "    m.fit(f_trn_up,t_trn_up)                 # тренируем модель по тренировочной выборке\n",
    "    p_vld = m.predict(f_vld)                 # предсказание результатов\n",
    "    pp_vld = m.predict_proba(f_vld)          # предсказание вероятностей результатов\n",
    "    f1 = f1_score(t_vld,p_vld)               # F1 по валидационной выборке\n",
    "    auc = roc_auc_score(t_vld, pp_vld[:, 1]) # AUC по валидационной выборке\n",
    "    m_f1.append(f1)\n",
    "    m_auc.append(auc)\n",
    "    if f1 > b_rfc_f1:\n",
    "        b_rfc_m_up_2 = m\n",
    "        b_rfc_f1 = f1\n",
    "        b_auc = auc\n",
    "        ii = i\n",
    "\n",
    "fig, ax = plt.subplots(figsize=(10,6))\n",
    "plt.plot(range(1, 50),m_f1)\n",
    "ax.axvline(x=ii, color='#000000', ls='--', linewidth=1)\n",
    "plt.title('Средее гармоническое полноты и точности в зависимости от количества деревьев')\n",
    "plt.ylabel('F1, безразм.', style='italic')\n",
    "plt.xlabel('количество деревьев, шт', style='italic')\n",
    "\n",
    "fig, ax = plt.subplots(figsize=(10,6))\n",
    "plt.plot(range(1, 50),m_auc)\n",
    "ax.axvline(x=ii, color='#000000', ls='--', linewidth=1)\n",
    "plt.title('Площадь под кривой ошибок в зависимости от количества деревьев')\n",
    "plt.ylabel('площадь, безразм.', style='italic')\n",
    "plt.xlabel('количество деревьев, шт', style='italic')\n",
    "\n",
    "print(b_rfc_f1,b_auc)"
   ]
  },
  {
   "cell_type": "markdown",
   "metadata": {},
   "source": [
    "### Уменьшение выборки"
   ]
  },
  {
   "cell_type": "markdown",
   "metadata": {},
   "source": [
    "Уберём часть часто повторяющихся классов, чтобы придать больший вес оставшимся."
   ]
  },
  {
   "cell_type": "code",
   "execution_count": 25,
   "metadata": {},
   "outputs": [
    {
     "name": "stdout",
     "output_type": "stream",
     "text": [
      "0.3 28 : 0.5736434108527132 0.8422237315374607\n",
      "0.5 23 : 0.5913705583756346 0.8464758552077754\n",
      "0.7 32 : 0.6039453717754174 0.8492835004209075\n",
      "0.9 32 : 0.6039453717754174 0.8492835004209075\n",
      "> 0.7 32 : 0.6039453717754174 0.8492835004209075\n"
     ]
    },
    {
     "data": {
      "image/png": "[encoded data removed]",
      "text/plain": [
       "<Figure size 720x432 with 1 Axes>"
      ]
     },
     "metadata": {
      "needs_background": "light"
     },
     "output_type": "display_data"
    },
    {
     "data": {
      "image/png": "[encoded data removed]",
      "text/plain": [
       "<Figure size 720x432 with 1 Axes>"
      ]
     },
     "metadata": {
      "needs_background": "light"
     },
     "output_type": "display_data"
    }
   ],
   "source": [
    "# уменьшая выборку, убирая случайные строки наиболее встречающегося признака\n",
    "# признаки, целевые признаки, доля остающихся строк, random_state\n",
    "def downsample(f, t, n, r):\n",
    "    overdog = t_vld.value_counts().index[0]\n",
    "    \n",
    "    f_ovrdg = f[t == overdog]\n",
    "    f_anthr = f[t != overdog]\n",
    "    t_ovrdg = t[t == overdog]\n",
    "    t_anthr = t[t != overdog]\n",
    "    \n",
    "    ff = pd.concat([f_ovrdg.sample(frac=n, random_state=r)] + [f_anthr])\n",
    "    tt = pd.concat([t_ovrdg.sample(frac=n, random_state=r)] + [t_anthr])\n",
    "    \n",
    "    return shuffle(ff, tt, random_state=r)\n",
    "\n",
    "\n",
    "m_f1 = []; m_auc = []\n",
    "b_rfc_m_dwn = None # лучшая модель\n",
    "b_rfc_f1 = 0       # F1 лучшей модели\n",
    "b_auc = 0          # ACU лучшей по F1 модели\n",
    "jj = ii = 0\n",
    "for j in np.arange(0.3, 0.9, 0.2): # перебор по доле оставшихся строк наиболее встречающегося признака\n",
    "    j = round(j * 10) / 10\n",
    "    f_trn_dwn, t_trn_dwn = downsample(f_trn, t_trn, j, rrrr) \n",
    "    m_f1.append([]);\n",
    "    m_auc.append([]);\n",
    "    for i in range(1, 50):\n",
    "        m = RandomForestClassifier(\n",
    "            random_state=rrrr,\n",
    "            n_estimators=i)                      # обучаем модель с заданным количеством деревьев\n",
    "        m.fit(f_trn_dwn,t_trn_dwn)               # тренируем модель по модифицированной тренировочной выборке\n",
    "        p_vld = m.predict(f_vld)                 # предсказание результатов\n",
    "        pp_vld = m.predict_proba(f_vld)          # предсказание вероятностей результатов\n",
    "        f1 = f1_score(t_vld,p_vld)               # F1 по валидационной выборке\n",
    "        auc = roc_auc_score(t_vld, pp_vld[:, 1]) # AUC по валидационной выборке\n",
    "        m_f1[-1].append(f1)\n",
    "        m_auc[-1].append(auc)\n",
    "        if f1 > b_rfc_f1:\n",
    "            b_rfc_m_dwn = m\n",
    "            b_rfc_f1 = f1\n",
    "            b_auc = auc\n",
    "            ii = i\n",
    "            jj = j\n",
    "    print(j,ii,':',b_rfc_f1,b_auc)\n",
    "\n",
    "fig, ax = plt.subplots(figsize=(10,6))\n",
    "for j in range(0, 4):\n",
    "    plt.plot(range(1, 50),m_f1[j])\n",
    "ax.axvline(x=ii, color='#000000', ls='--', linewidth=1)\n",
    "plt.title('Средее гармоническое полноты и точности в зависимости от количества деревьев\\nи доле оставшихся строк наиболее встречающегося признака')\n",
    "plt.ylabel('F1, безразм.', style='italic')\n",
    "plt.xlabel('количество деревьев, шт', style='italic')\n",
    "plt.legend(['%.1f' % a for a in np.arange(0.3, 0.9, 0.2).tolist()])\n",
    "\n",
    "fig, ax = plt.subplots(figsize=(10,6))\n",
    "for j in range(0, 4):\n",
    "    plt.plot(range(1, 50),m_auc[j])\n",
    "ax.axvline(x=ii, color='#000000', ls='--', linewidth=1)\n",
    "plt.title('Площадь под кривой ошибок в зависимости от количества деревьев\\nи доле оставшихся строк наиболее встречающегося признака')\n",
    "plt.ylabel('площадь, безразм.', style='italic')\n",
    "plt.xlabel('количество деревьев, шт', style='italic')\n",
    "plt.legend(['%.1f' % a for a in np.arange(0.3, 0.9, 0.2).tolist()])\n",
    "\n",
    "print('>',jj,ii,':',b_rfc_f1,b_auc)"
   ]
  },
  {
   "cell_type": "markdown",
   "metadata": {},
   "source": [
    "Данных подход также можно назвать успешным, как и увеличение выборки, поскольку показатель F1 модели возрос."
   ]
  },
  {
   "cell_type": "code",
   "execution_count": 26,
   "metadata": {},
   "outputs": [
    {
     "data": {
      "text/plain": [
       "0    3027\n",
       "1    1130\n",
       "Name: exited, dtype: int64"
      ]
     },
     "execution_count": 26,
     "metadata": {},
     "output_type": "execute_result"
    }
   ],
   "source": [
    "f_trn_dwn, t_trn_dwn = downsample(f_trn, t_trn, 0.7, rrrr) \n",
    "t_trn_dwn.value_counts()"
   ]
  },
  {
   "cell_type": "markdown",
   "metadata": {},
   "source": [
    "---"
   ]
  },
  {
   "cell_type": "code",
   "execution_count": 27,
   "metadata": {},
   "outputs": [
    {
     "data": {
      "text/plain": [
       "0    4324\n",
       "1    1130\n",
       "Name: exited, dtype: int64"
      ]
     },
     "execution_count": 27,
     "metadata": {},
     "output_type": "execute_result"
    }
   ],
   "source": [
    "t_trn.value_counts()"
   ]
  },
  {
   "cell_type": "markdown",
   "metadata": {},
   "source": [
    "Чтобы найти оптимальное число для устранения дисбаланса найдём отношение в котором находятся классы в текущем состоянии."
   ]
  },
  {
   "cell_type": "code",
   "execution_count": 28,
   "metadata": {},
   "outputs": [
    {
     "data": {
      "text/plain": [
       "0.26133209990749307"
      ]
     },
     "execution_count": 28,
     "metadata": {},
     "output_type": "execute_result"
    }
   ],
   "source": [
    "t_trn.value_counts()[1] / t_trn.value_counts()[0]"
   ]
  },
  {
   "cell_type": "markdown",
   "metadata": {},
   "source": [
    "Используем это соотношение для построение оптимальной модели."
   ]
  },
  {
   "cell_type": "code",
   "execution_count": 29,
   "metadata": {},
   "outputs": [
    {
     "name": "stdout",
     "output_type": "stream",
     "text": [
      "0.5612565445026179 0.8395289660978037\n"
     ]
    },
    {
     "data": {
      "image/png": "[encoded data removed]",
      "text/plain": [
       "<Figure size 720x432 with 1 Axes>"
      ]
     },
     "metadata": {
      "needs_background": "light"
     },
     "output_type": "display_data"
    },
    {
     "data": {
      "image/png": "[encoded data removed]",
      "text/plain": [
       "<Figure size 720x432 with 1 Axes>"
      ]
     },
     "metadata": {
      "needs_background": "light"
     },
     "output_type": "display_data"
    }
   ],
   "source": [
    "f_trn_dwn, t_trn_dwn = downsample(f_trn, t_trn, t_trn.value_counts()[1] / t_trn.value_counts()[0], rrrr) \n",
    "b_rfc_m_dwn_2 = None         # лучшая модель\n",
    "m_f1 = []; b_rfc_f1 = 0      # F1 лучшей модели\n",
    "m_auc = []; b_auc = 0        # ACU лучшей по F1 модели\n",
    "ii = 0\n",
    "for i in range(1, 50):\n",
    "    m = RandomForestClassifier(\n",
    "        random_state=rrrr,\n",
    "        n_estimators=i)                      # обучаем модель с заданным количеством деревьев\n",
    "    m.fit(f_trn_dwn,t_trn_dwn)               # тренируем модель по тренировочной выборке\n",
    "    p_vld = m.predict(f_vld)                 # предсказание результатов\n",
    "    pp_vld = m.predict_proba(f_vld)          # предсказание вероятностей результатов\n",
    "    f1 = f1_score(t_vld,p_vld)               # F1 по валидационной выборке\n",
    "    auc = roc_auc_score(t_vld, pp_vld[:, 1]) # AUC по валидационной выборке\n",
    "    m_f1.append(f1)\n",
    "    m_auc.append(auc)\n",
    "    if f1 > b_rfc_f1:\n",
    "        b_rfc_m_dwn_2 = m\n",
    "        b_rfc_f1 = f1\n",
    "        b_auc = auc\n",
    "        ii = i\n",
    "\n",
    "fig, ax = plt.subplots(figsize=(10,6))\n",
    "plt.plot(range(1, 50),m_f1)\n",
    "ax.axvline(x=ii, color='#000000', ls='--', linewidth=1)\n",
    "plt.title('Средее гармоническое полноты и точности в зависимости от количества деревьев')\n",
    "plt.ylabel('F1, безразм.', style='italic')\n",
    "plt.xlabel('количество деревьев, шт', style='italic')\n",
    "\n",
    "fig, ax = plt.subplots(figsize=(10,6))\n",
    "plt.plot(range(1, 50),m_auc)\n",
    "ax.axvline(x=ii, color='#000000', ls='--', linewidth=1)\n",
    "plt.title('Площадь под кривой ошибок в зависимости от количества деревьев')\n",
    "plt.ylabel('площадь, безразм.', style='italic')\n",
    "plt.xlabel('количество деревьев, шт', style='italic')\n",
    "\n",
    "print(b_rfc_f1,b_auc)"
   ]
  },
  {
   "cell_type": "markdown",
   "metadata": {},
   "source": [
    "---"
   ]
  },
  {
   "cell_type": "markdown",
   "metadata": {},
   "source": [
    "Придавать обектам класса разный вес в данном анализе оказалось не лучшим решением в отличие от увеличиния или уменьшения выборки, модели обученные на данных которых показали наилучшие результаты с точки зрения среднего гармонического полноты и точности."
   ]
  },
  {
   "cell_type": "markdown",
   "metadata": {},
   "source": [
    "## Тестирование модели"
   ]
  },
  {
   "cell_type": "markdown",
   "metadata": {},
   "source": [
    "Наилучшие показатели проявила модель с увеличенной выборкой. Возьмём её, её данные и посмотрим как она покажет себя на тестовых данных."
   ]
  },
  {
   "cell_type": "code",
   "execution_count": 30,
   "metadata": {},
   "outputs": [
    {
     "name": "stdout",
     "output_type": "stream",
     "text": [
      "Валидационная выборка:\n",
      "F1: 0.6197991391678622 \n",
      "AUC: 0.8458444937629142 \n",
      "Точность: 0.8542354235423543\n",
      "Тестовая выборка:\n",
      "F1: 0.5902097902097901 \n",
      "AUC: 0.830809818765772 \n",
      "Точность: 0.8389224848818032\n"
     ]
    }
   ],
   "source": [
    "m = b_rfc_m_up            # берём наиболее удачную модель\n",
    "f_trn_up, t_trn_up = upsample(f_trn, t_trn, 4, rrrr)\n",
    "m.fit(f_trn_up, t_trn_up) # тренируем модель по тренировочной выборке\n",
    "\n",
    "p_vld = m.predict(f_vld)        # предсказание результатов по валитационной выборке\n",
    "pp_vld = m.predict_proba(f_vld) # предсказание вероятностей результатов по валидационной выборке\n",
    "\n",
    "p_tst = m.predict(f_tst)        # предсказание результатов по тестовой выборке\n",
    "pp_tst = m.predict_proba(f_tst) # предсказание вероятностей результатов по тестовой выборке\n",
    "\n",
    "\n",
    "print('Валидационная выборка:\\nF1:', f1_score(t_vld,p_vld),\n",
    "      '\\nAUC:', roc_auc_score(t_vld, pp_vld[:, 1]),\n",
    "      '\\nТочность:',  accuracy_score(t_vld,p_vld))\n",
    "print('Тестовая выборка:\\nF1:', f1_score(t_tst,p_tst),\n",
    "      '\\nAUC:', roc_auc_score(t_tst, pp_tst[:, 1]),\n",
    "      '\\nТочность:',  accuracy_score(t_tst,p_tst))"
   ]
  },
  {
   "cell_type": "markdown",
   "metadata": {},
   "source": [
    "Среднее гармоническое полноты и точности тестовой выборки упало по сравнению с валидационной, но всё ещё является довольно высоким."
   ]
  },
  {
   "cell_type": "markdown",
   "metadata": {},
   "source": [
    "## Вывод"
   ]
  },
  {
   "cell_type": "markdown",
   "metadata": {},
   "source": [
    "В ходе данного исследования была получена модель, способная предсказать факт ухода клиетна банка по указанным данным о нём. Данная модель была получена путём уменьшения информации об ушедших клиентах в обучаемой модели по сравнению с оригинальными данными в половину от всех данных об ушедших клиентах в оригинальных данных. Среднее гармоническое точности и полноны такой модели составило ~0.59 что является достаточном показателем для данной модели."
   ]
  }
 ],
 "metadata": {
  "ExecuteTimeLog": [
   {
    "duration": 417,
    "start_time": "2023-09-01T05:04:18.356Z"
   },
   {
    "duration": 131,
    "start_time": "2023-09-01T05:04:20.953Z"
   },
   {
    "duration": 14,
    "start_time": "2023-09-01T05:04:56.982Z"
   },
   {
    "duration": 7,
    "start_time": "2023-09-01T05:06:27.771Z"
   },
   {
    "duration": 5,
    "start_time": "2023-09-01T05:08:11.169Z"
   },
   {
    "duration": 86,
    "start_time": "2023-09-01T05:08:17.959Z"
   },
   {
    "duration": 5,
    "start_time": "2023-09-01T05:08:24.973Z"
   },
   {
    "duration": 5,
    "start_time": "2023-09-01T05:08:38.424Z"
   },
   {
    "duration": 4,
    "start_time": "2023-09-01T05:10:16.729Z"
   },
   {
    "duration": 25,
    "start_time": "2023-09-01T05:10:27.178Z"
   },
   {
    "duration": 5,
    "start_time": "2023-09-01T05:10:45.917Z"
   },
   {
    "duration": 54,
    "start_time": "2023-09-01T05:10:47.130Z"
   },
   {
    "duration": 14,
    "start_time": "2023-09-01T05:10:49.817Z"
   },
   {
    "duration": 4,
    "start_time": "2023-09-01T05:11:07.534Z"
   },
   {
    "duration": 5,
    "start_time": "2023-09-01T05:21:49.351Z"
   },
   {
    "duration": 8,
    "start_time": "2023-09-01T05:21:50.508Z"
   },
   {
    "duration": 12,
    "start_time": "2023-09-01T05:22:21.343Z"
   },
   {
    "duration": 7,
    "start_time": "2023-09-01T05:23:28.214Z"
   },
   {
    "duration": 22,
    "start_time": "2023-09-01T05:32:46.457Z"
   },
   {
    "duration": 6,
    "start_time": "2023-09-01T05:35:43.762Z"
   },
   {
    "duration": 640,
    "start_time": "2023-09-01T05:35:51.381Z"
   },
   {
    "duration": 778,
    "start_time": "2023-09-01T05:38:50.899Z"
   },
   {
    "duration": 68,
    "start_time": "2023-09-01T05:38:51.681Z"
   },
   {
    "duration": 16,
    "start_time": "2023-09-01T05:38:51.751Z"
   },
   {
    "duration": 14,
    "start_time": "2023-09-01T05:38:51.770Z"
   },
   {
    "duration": 30,
    "start_time": "2023-09-01T05:38:51.786Z"
   },
   {
    "duration": 59,
    "start_time": "2023-09-01T05:38:51.817Z"
   },
   {
    "duration": 710,
    "start_time": "2023-09-01T05:40:55.253Z"
   },
   {
    "duration": 67,
    "start_time": "2023-09-01T05:40:55.965Z"
   },
   {
    "duration": 14,
    "start_time": "2023-09-01T05:40:56.034Z"
   },
   {
    "duration": 21,
    "start_time": "2023-09-01T05:40:56.050Z"
   },
   {
    "duration": 38,
    "start_time": "2023-09-01T05:40:56.073Z"
   },
   {
    "duration": 67,
    "start_time": "2023-09-01T05:40:56.117Z"
   },
   {
    "duration": 45,
    "start_time": "2023-09-01T05:40:56.186Z"
   },
   {
    "duration": 314,
    "start_time": "2023-09-01T05:40:56.233Z"
   },
   {
    "duration": 2,
    "start_time": "2023-09-01T05:40:56.549Z"
   },
   {
    "duration": 161,
    "start_time": "2023-09-01T05:40:56.554Z"
   },
   {
    "duration": 21,
    "start_time": "2023-09-01T05:50:10.379Z"
   },
   {
    "duration": 23,
    "start_time": "2023-09-01T05:50:43.135Z"
   },
   {
    "duration": 7,
    "start_time": "2023-09-01T05:50:57.122Z"
   },
   {
    "duration": 7,
    "start_time": "2023-09-01T05:51:16.528Z"
   },
   {
    "duration": 5804,
    "start_time": "2023-09-01T05:51:25.759Z"
   },
   {
    "duration": 11,
    "start_time": "2023-09-01T05:52:02.906Z"
   },
   {
    "duration": 7,
    "start_time": "2023-09-01T05:53:39.736Z"
   },
   {
    "duration": 8,
    "start_time": "2023-09-01T05:53:51.323Z"
   },
   {
    "duration": 1077,
    "start_time": "2023-09-01T05:54:21.967Z"
   },
   {
    "duration": 8,
    "start_time": "2023-09-01T05:54:46.354Z"
   },
   {
    "duration": 7,
    "start_time": "2023-09-01T05:55:06.359Z"
   },
   {
    "duration": 5,
    "start_time": "2023-09-01T05:55:21.583Z"
   },
   {
    "duration": 7,
    "start_time": "2023-09-01T05:55:36.083Z"
   },
   {
    "duration": 6,
    "start_time": "2023-09-01T05:55:52.219Z"
   },
   {
    "duration": 5,
    "start_time": "2023-09-01T05:59:28.292Z"
   },
   {
    "duration": 6,
    "start_time": "2023-09-01T05:59:38.659Z"
   },
   {
    "duration": 8,
    "start_time": "2023-09-01T05:59:49.891Z"
   },
   {
    "duration": 7,
    "start_time": "2023-09-01T06:00:15.335Z"
   },
   {
    "duration": 7,
    "start_time": "2023-09-01T06:00:33.623Z"
   },
   {
    "duration": 19,
    "start_time": "2023-09-01T06:06:06.449Z"
   },
   {
    "duration": 14,
    "start_time": "2023-09-01T06:06:31.115Z"
   },
   {
    "duration": 5,
    "start_time": "2023-09-01T06:07:42.553Z"
   },
   {
    "duration": 16,
    "start_time": "2023-09-01T06:07:44.664Z"
   },
   {
    "duration": 1438,
    "start_time": "2023-09-01T06:08:43.078Z"
   },
   {
    "duration": 1545,
    "start_time": "2023-09-01T06:09:14.754Z"
   },
   {
    "duration": 1510,
    "start_time": "2023-09-01T06:11:53.525Z"
   },
   {
    "duration": 19,
    "start_time": "2023-09-01T06:12:35.758Z"
   },
   {
    "duration": 12,
    "start_time": "2023-09-01T06:12:40.831Z"
   },
   {
    "duration": 12,
    "start_time": "2023-09-01T06:28:50.048Z"
   },
   {
    "duration": 21,
    "start_time": "2023-09-01T06:29:01.261Z"
   },
   {
    "duration": 14,
    "start_time": "2023-09-01T06:29:19.426Z"
   },
   {
    "duration": 21,
    "start_time": "2023-09-01T06:29:21.933Z"
   },
   {
    "duration": 30,
    "start_time": "2023-09-01T06:35:12.977Z"
   },
   {
    "duration": 706,
    "start_time": "2023-09-02T05:35:28.707Z"
   },
   {
    "duration": 110,
    "start_time": "2023-09-02T05:35:30.527Z"
   },
   {
    "duration": 13,
    "start_time": "2023-09-02T05:35:33.659Z"
   },
   {
    "duration": 5,
    "start_time": "2023-09-02T05:35:35.325Z"
   },
   {
    "duration": 10,
    "start_time": "2023-09-02T05:35:57.992Z"
   },
   {
    "duration": 4,
    "start_time": "2023-09-02T05:36:01.314Z"
   },
   {
    "duration": 5,
    "start_time": "2023-09-02T05:36:02.527Z"
   },
   {
    "duration": 1191,
    "start_time": "2023-09-02T05:36:03.376Z"
   },
   {
    "duration": 6,
    "start_time": "2023-09-02T05:36:07.403Z"
   },
   {
    "duration": 11,
    "start_time": "2023-09-02T05:36:09.858Z"
   },
   {
    "duration": 16,
    "start_time": "2023-09-02T05:36:11.556Z"
   },
   {
    "duration": 6,
    "start_time": "2023-09-02T05:36:13.710Z"
   },
   {
    "duration": 4,
    "start_time": "2023-09-02T05:36:16.364Z"
   },
   {
    "duration": 66,
    "start_time": "2023-09-02T05:36:18.080Z"
   },
   {
    "duration": 9,
    "start_time": "2023-09-02T05:36:24.965Z"
   },
   {
    "duration": 8,
    "start_time": "2023-09-02T05:37:11.801Z"
   },
   {
    "duration": 740,
    "start_time": "2023-09-02T05:37:39.353Z"
   },
   {
    "duration": 76,
    "start_time": "2023-09-02T05:37:46.287Z"
   },
   {
    "duration": 6,
    "start_time": "2023-09-02T05:39:20.057Z"
   },
   {
    "duration": 23,
    "start_time": "2023-09-02T05:41:59.287Z"
   },
   {
    "duration": 22,
    "start_time": "2023-09-02T05:42:11.778Z"
   },
   {
    "duration": 22,
    "start_time": "2023-09-02T05:42:18.914Z"
   },
   {
    "duration": 7,
    "start_time": "2023-09-02T05:44:13.458Z"
   },
   {
    "duration": 7,
    "start_time": "2023-09-02T05:44:29.757Z"
   },
   {
    "duration": 4,
    "start_time": "2023-09-02T05:45:27.422Z"
   },
   {
    "duration": 10,
    "start_time": "2023-09-02T05:45:59.069Z"
   },
   {
    "duration": 9,
    "start_time": "2023-09-02T05:46:23.559Z"
   },
   {
    "duration": 26,
    "start_time": "2023-09-02T05:46:31.889Z"
   },
   {
    "duration": 24,
    "start_time": "2023-09-02T05:47:52.356Z"
   },
   {
    "duration": 20,
    "start_time": "2023-09-02T05:49:28.201Z"
   },
   {
    "duration": 151,
    "start_time": "2023-09-02T05:49:35.817Z"
   },
   {
    "duration": 23,
    "start_time": "2023-09-02T05:50:54.706Z"
   },
   {
    "duration": 94,
    "start_time": "2023-09-02T05:53:17.431Z"
   },
   {
    "duration": 6,
    "start_time": "2023-09-02T05:53:27.387Z"
   },
   {
    "duration": 1268,
    "start_time": "2023-09-02T05:55:26.267Z"
   },
   {
    "duration": 53,
    "start_time": "2023-09-02T05:55:27.536Z"
   },
   {
    "duration": 10,
    "start_time": "2023-09-02T05:55:27.591Z"
   },
   {
    "duration": 4,
    "start_time": "2023-09-02T05:55:27.602Z"
   },
   {
    "duration": 18,
    "start_time": "2023-09-02T05:55:27.608Z"
   },
   {
    "duration": 3,
    "start_time": "2023-09-02T05:55:27.627Z"
   },
   {
    "duration": 5,
    "start_time": "2023-09-02T05:55:27.632Z"
   },
   {
    "duration": 11,
    "start_time": "2023-09-02T05:55:27.639Z"
   },
   {
    "duration": 115,
    "start_time": "2023-09-02T05:55:27.652Z"
   },
   {
    "duration": 0,
    "start_time": "2023-09-02T05:55:27.768Z"
   },
   {
    "duration": 0,
    "start_time": "2023-09-02T05:55:27.769Z"
   },
   {
    "duration": 0,
    "start_time": "2023-09-02T05:55:27.770Z"
   },
   {
    "duration": 0,
    "start_time": "2023-09-02T05:55:27.771Z"
   },
   {
    "duration": 0,
    "start_time": "2023-09-02T05:55:27.772Z"
   },
   {
    "duration": 0,
    "start_time": "2023-09-02T05:55:27.773Z"
   },
   {
    "duration": 0,
    "start_time": "2023-09-02T05:55:27.774Z"
   },
   {
    "duration": 0,
    "start_time": "2023-09-02T05:55:27.775Z"
   },
   {
    "duration": 0,
    "start_time": "2023-09-02T05:55:27.776Z"
   },
   {
    "duration": 7,
    "start_time": "2023-09-02T05:55:48.145Z"
   },
   {
    "duration": 7,
    "start_time": "2023-09-02T05:55:56.541Z"
   },
   {
    "duration": 5,
    "start_time": "2023-09-02T05:56:01.028Z"
   },
   {
    "duration": 1102,
    "start_time": "2023-09-02T05:56:04.541Z"
   },
   {
    "duration": 10,
    "start_time": "2023-09-02T05:56:17.732Z"
   },
   {
    "duration": 15,
    "start_time": "2023-09-02T05:56:22.781Z"
   },
   {
    "duration": 14,
    "start_time": "2023-09-02T05:56:42.284Z"
   },
   {
    "duration": 1255,
    "start_time": "2023-09-02T05:56:57.574Z"
   },
   {
    "duration": 57,
    "start_time": "2023-09-02T05:56:58.831Z"
   },
   {
    "duration": 12,
    "start_time": "2023-09-02T05:56:58.890Z"
   },
   {
    "duration": 4,
    "start_time": "2023-09-02T05:56:58.904Z"
   },
   {
    "duration": 11,
    "start_time": "2023-09-02T05:56:58.910Z"
   },
   {
    "duration": 3,
    "start_time": "2023-09-02T05:56:58.923Z"
   },
   {
    "duration": 27,
    "start_time": "2023-09-02T05:56:58.928Z"
   },
   {
    "duration": 7,
    "start_time": "2023-09-02T05:56:58.957Z"
   },
   {
    "duration": 104,
    "start_time": "2023-09-02T05:56:58.965Z"
   },
   {
    "duration": 0,
    "start_time": "2023-09-02T05:56:59.070Z"
   },
   {
    "duration": 0,
    "start_time": "2023-09-02T05:56:59.072Z"
   },
   {
    "duration": 0,
    "start_time": "2023-09-02T05:56:59.073Z"
   },
   {
    "duration": 0,
    "start_time": "2023-09-02T05:56:59.074Z"
   },
   {
    "duration": 0,
    "start_time": "2023-09-02T05:56:59.075Z"
   },
   {
    "duration": 0,
    "start_time": "2023-09-02T05:56:59.076Z"
   },
   {
    "duration": 0,
    "start_time": "2023-09-02T05:56:59.077Z"
   },
   {
    "duration": 0,
    "start_time": "2023-09-02T05:56:59.077Z"
   },
   {
    "duration": 0,
    "start_time": "2023-09-02T05:56:59.078Z"
   },
   {
    "duration": 0,
    "start_time": "2023-09-02T05:56:59.080Z"
   },
   {
    "duration": 0,
    "start_time": "2023-09-02T05:56:59.080Z"
   },
   {
    "duration": 16,
    "start_time": "2023-09-02T05:57:10.331Z"
   },
   {
    "duration": 20,
    "start_time": "2023-09-02T05:57:16.790Z"
   },
   {
    "duration": 22,
    "start_time": "2023-09-02T05:57:30.489Z"
   },
   {
    "duration": 6,
    "start_time": "2023-09-02T05:57:38.129Z"
   },
   {
    "duration": 15,
    "start_time": "2023-09-02T05:57:42.302Z"
   },
   {
    "duration": 1276,
    "start_time": "2023-09-02T05:58:12.573Z"
   },
   {
    "duration": 52,
    "start_time": "2023-09-02T05:58:13.851Z"
   },
   {
    "duration": 12,
    "start_time": "2023-09-02T05:58:13.904Z"
   },
   {
    "duration": 5,
    "start_time": "2023-09-02T05:58:13.918Z"
   },
   {
    "duration": 29,
    "start_time": "2023-09-02T05:58:13.925Z"
   },
   {
    "duration": 25,
    "start_time": "2023-09-02T05:58:13.955Z"
   },
   {
    "duration": 18,
    "start_time": "2023-09-02T05:58:13.981Z"
   },
   {
    "duration": 10,
    "start_time": "2023-09-02T05:58:14.000Z"
   },
   {
    "duration": 95,
    "start_time": "2023-09-02T05:58:14.012Z"
   },
   {
    "duration": 0,
    "start_time": "2023-09-02T05:58:14.109Z"
   },
   {
    "duration": 0,
    "start_time": "2023-09-02T05:58:14.110Z"
   },
   {
    "duration": 0,
    "start_time": "2023-09-02T05:58:14.111Z"
   },
   {
    "duration": 0,
    "start_time": "2023-09-02T05:58:14.113Z"
   },
   {
    "duration": 0,
    "start_time": "2023-09-02T05:58:14.114Z"
   },
   {
    "duration": 0,
    "start_time": "2023-09-02T05:58:14.115Z"
   },
   {
    "duration": 0,
    "start_time": "2023-09-02T05:58:14.116Z"
   },
   {
    "duration": 0,
    "start_time": "2023-09-02T05:58:14.117Z"
   },
   {
    "duration": 0,
    "start_time": "2023-09-02T05:58:14.119Z"
   },
   {
    "duration": 0,
    "start_time": "2023-09-02T05:58:14.120Z"
   },
   {
    "duration": 0,
    "start_time": "2023-09-02T05:58:14.121Z"
   },
   {
    "duration": 1,
    "start_time": "2023-09-02T05:58:14.122Z"
   },
   {
    "duration": 22,
    "start_time": "2023-09-02T05:58:24.173Z"
   },
   {
    "duration": 9,
    "start_time": "2023-09-02T05:58:59.132Z"
   },
   {
    "duration": 16,
    "start_time": "2023-09-02T05:59:00.091Z"
   },
   {
    "duration": 27,
    "start_time": "2023-09-02T06:00:06.076Z"
   },
   {
    "duration": 9,
    "start_time": "2023-09-02T06:00:22.819Z"
   },
   {
    "duration": 17,
    "start_time": "2023-09-02T06:00:24.875Z"
   },
   {
    "duration": 1385,
    "start_time": "2023-09-02T06:00:48.141Z"
   },
   {
    "duration": 57,
    "start_time": "2023-09-02T06:00:49.527Z"
   },
   {
    "duration": 12,
    "start_time": "2023-09-02T06:00:49.586Z"
   },
   {
    "duration": 5,
    "start_time": "2023-09-02T06:00:49.601Z"
   },
   {
    "duration": 18,
    "start_time": "2023-09-02T06:00:49.607Z"
   },
   {
    "duration": 5,
    "start_time": "2023-09-02T06:00:49.627Z"
   },
   {
    "duration": 23,
    "start_time": "2023-09-02T06:00:49.633Z"
   },
   {
    "duration": 15,
    "start_time": "2023-09-02T06:00:49.658Z"
   },
   {
    "duration": 22,
    "start_time": "2023-09-02T06:00:49.674Z"
   },
   {
    "duration": 17,
    "start_time": "2023-09-02T06:00:49.699Z"
   },
   {
    "duration": 20,
    "start_time": "2023-09-02T06:00:49.718Z"
   },
   {
    "duration": 16,
    "start_time": "2023-09-02T06:00:49.740Z"
   },
   {
    "duration": 1425,
    "start_time": "2023-09-02T06:00:49.758Z"
   },
   {
    "duration": 14,
    "start_time": "2023-09-02T06:00:51.185Z"
   },
   {
    "duration": 24,
    "start_time": "2023-09-02T06:00:51.201Z"
   },
   {
    "duration": 27,
    "start_time": "2023-09-02T06:00:51.226Z"
   },
   {
    "duration": 8,
    "start_time": "2023-09-02T06:00:51.255Z"
   },
   {
    "duration": 8,
    "start_time": "2023-09-02T06:00:51.264Z"
   },
   {
    "duration": 455,
    "start_time": "2023-09-02T06:00:51.273Z"
   },
   {
    "duration": 2,
    "start_time": "2023-09-02T06:03:51.042Z"
   },
   {
    "duration": 104,
    "start_time": "2023-09-02T06:10:24.681Z"
   },
   {
    "duration": 1332,
    "start_time": "2023-09-02T06:10:30.403Z"
   },
   {
    "duration": 1358,
    "start_time": "2023-09-02T06:10:52.078Z"
   },
   {
    "duration": 1305,
    "start_time": "2023-09-02T06:11:24.294Z"
   },
   {
    "duration": 1310,
    "start_time": "2023-09-02T06:11:39.776Z"
   },
   {
    "duration": 5202,
    "start_time": "2023-09-02T06:11:51.549Z"
   },
   {
    "duration": 5163,
    "start_time": "2023-09-02T06:12:13.600Z"
   },
   {
    "duration": 3,
    "start_time": "2023-09-02T06:15:50.490Z"
   },
   {
    "duration": 87,
    "start_time": "2023-09-02T06:21:57.731Z"
   },
   {
    "duration": 30,
    "start_time": "2023-09-02T06:22:02.395Z"
   },
   {
    "duration": 5214,
    "start_time": "2023-09-02T06:22:13.267Z"
   },
   {
    "duration": 5480,
    "start_time": "2023-09-02T06:27:08.390Z"
   },
   {
    "duration": 5507,
    "start_time": "2023-09-02T06:27:26.243Z"
   },
   {
    "duration": 26,
    "start_time": "2023-09-02T06:31:16.941Z"
   },
   {
    "duration": 5637,
    "start_time": "2023-09-02T06:31:25.245Z"
   },
   {
    "duration": 11,
    "start_time": "2023-09-02T06:43:07.248Z"
   },
   {
    "duration": 6644,
    "start_time": "2023-09-02T06:46:35.995Z"
   },
   {
    "duration": 6477,
    "start_time": "2023-09-02T06:48:10.543Z"
   },
   {
    "duration": 6453,
    "start_time": "2023-09-02T06:55:44.685Z"
   },
   {
    "duration": 6548,
    "start_time": "2023-09-02T06:56:41.868Z"
   },
   {
    "duration": 0,
    "start_time": "2023-09-02T06:58:58.338Z"
   },
   {
    "duration": 6484,
    "start_time": "2023-09-02T06:59:06.055Z"
   },
   {
    "duration": 6380,
    "start_time": "2023-09-02T06:59:21.317Z"
   },
   {
    "duration": 6574,
    "start_time": "2023-09-02T06:59:43.850Z"
   },
   {
    "duration": 6377,
    "start_time": "2023-09-02T07:11:54.908Z"
   },
   {
    "duration": 6370,
    "start_time": "2023-09-02T07:13:13.945Z"
   },
   {
    "duration": 6290,
    "start_time": "2023-09-02T07:13:21.991Z"
   },
   {
    "duration": 9221,
    "start_time": "2023-09-02T07:13:45.645Z"
   },
   {
    "duration": 9624,
    "start_time": "2023-09-02T07:14:16.685Z"
   },
   {
    "duration": 9976,
    "start_time": "2023-09-02T07:14:46.419Z"
   },
   {
    "duration": 13500,
    "start_time": "2023-09-02T07:15:01.304Z"
   },
   {
    "duration": 9651,
    "start_time": "2023-09-02T07:15:31.081Z"
   },
   {
    "duration": 2,
    "start_time": "2023-09-02T07:25:22.191Z"
   },
   {
    "duration": 4,
    "start_time": "2023-09-02T07:30:22.898Z"
   },
   {
    "duration": 10,
    "start_time": "2023-09-02T07:30:40.778Z"
   },
   {
    "duration": 6,
    "start_time": "2023-09-02T07:30:46.840Z"
   },
   {
    "duration": 4,
    "start_time": "2023-09-02T07:30:55.686Z"
   },
   {
    "duration": 4,
    "start_time": "2023-09-02T07:31:06.582Z"
   },
   {
    "duration": 6,
    "start_time": "2023-09-02T07:31:20.433Z"
   },
   {
    "duration": 4,
    "start_time": "2023-09-02T07:54:28.089Z"
   },
   {
    "duration": 3,
    "start_time": "2023-09-02T07:54:41.712Z"
   },
   {
    "duration": 5,
    "start_time": "2023-09-02T07:54:53.489Z"
   },
   {
    "duration": 5,
    "start_time": "2023-09-02T08:09:22.919Z"
   },
   {
    "duration": 100,
    "start_time": "2023-09-02T08:15:25.318Z"
   },
   {
    "duration": 49372,
    "start_time": "2023-09-02T08:15:46.494Z"
   },
   {
    "duration": 1310,
    "start_time": "2023-09-02T08:19:19.360Z"
   },
   {
    "duration": 54,
    "start_time": "2023-09-02T08:19:20.672Z"
   },
   {
    "duration": 13,
    "start_time": "2023-09-02T08:19:20.727Z"
   },
   {
    "duration": 4,
    "start_time": "2023-09-02T08:19:20.741Z"
   },
   {
    "duration": 21,
    "start_time": "2023-09-02T08:19:20.748Z"
   },
   {
    "duration": 8,
    "start_time": "2023-09-02T08:19:20.770Z"
   },
   {
    "duration": 7,
    "start_time": "2023-09-02T08:19:20.780Z"
   },
   {
    "duration": 6,
    "start_time": "2023-09-02T08:19:20.788Z"
   },
   {
    "duration": 7,
    "start_time": "2023-09-02T08:19:20.796Z"
   },
   {
    "duration": 6,
    "start_time": "2023-09-02T08:19:20.805Z"
   },
   {
    "duration": 35,
    "start_time": "2023-09-02T08:19:20.812Z"
   },
   {
    "duration": 1372,
    "start_time": "2023-09-02T08:19:20.849Z"
   },
   {
    "duration": 10,
    "start_time": "2023-09-02T08:19:22.223Z"
   },
   {
    "duration": 44,
    "start_time": "2023-09-02T08:19:22.235Z"
   },
   {
    "duration": 5,
    "start_time": "2023-09-02T08:19:22.281Z"
   },
   {
    "duration": 7,
    "start_time": "2023-09-02T08:19:22.287Z"
   },
   {
    "duration": 8,
    "start_time": "2023-09-02T08:19:22.296Z"
   },
   {
    "duration": 9466,
    "start_time": "2023-09-02T08:19:22.305Z"
   },
   {
    "duration": 9159,
    "start_time": "2023-09-02T08:19:31.772Z"
   },
   {
    "duration": 51073,
    "start_time": "2023-09-02T08:19:40.933Z"
   },
   {
    "duration": 5,
    "start_time": "2023-09-02T08:23:18.925Z"
   },
   {
    "duration": 4,
    "start_time": "2023-09-02T08:23:24.825Z"
   },
   {
    "duration": 5,
    "start_time": "2023-09-02T08:23:33.508Z"
   },
   {
    "duration": 6,
    "start_time": "2023-09-02T08:23:38.020Z"
   },
   {
    "duration": 101,
    "start_time": "2023-09-02T08:28:03.625Z"
   },
   {
    "duration": 7,
    "start_time": "2023-09-02T08:28:15.180Z"
   },
   {
    "duration": 1375,
    "start_time": "2023-09-02T08:28:42.180Z"
   },
   {
    "duration": 56,
    "start_time": "2023-09-02T08:28:43.557Z"
   },
   {
    "duration": 11,
    "start_time": "2023-09-02T08:28:43.615Z"
   },
   {
    "duration": 4,
    "start_time": "2023-09-02T08:28:43.628Z"
   },
   {
    "duration": 25,
    "start_time": "2023-09-02T08:28:43.633Z"
   },
   {
    "duration": 5,
    "start_time": "2023-09-02T08:28:43.659Z"
   },
   {
    "duration": 11,
    "start_time": "2023-09-02T08:28:43.665Z"
   },
   {
    "duration": 14,
    "start_time": "2023-09-02T08:28:43.677Z"
   },
   {
    "duration": 9,
    "start_time": "2023-09-02T08:28:43.693Z"
   },
   {
    "duration": 7,
    "start_time": "2023-09-02T08:28:43.704Z"
   },
   {
    "duration": 9,
    "start_time": "2023-09-02T08:28:43.712Z"
   },
   {
    "duration": 1302,
    "start_time": "2023-09-02T08:28:43.723Z"
   },
   {
    "duration": 10,
    "start_time": "2023-09-02T08:28:45.027Z"
   },
   {
    "duration": 20,
    "start_time": "2023-09-02T08:28:45.050Z"
   },
   {
    "duration": 5,
    "start_time": "2023-09-02T08:28:45.071Z"
   },
   {
    "duration": 25,
    "start_time": "2023-09-02T08:28:45.077Z"
   },
   {
    "duration": 15,
    "start_time": "2023-09-02T08:28:45.103Z"
   },
   {
    "duration": 8937,
    "start_time": "2023-09-02T08:28:45.120Z"
   },
   {
    "duration": 8971,
    "start_time": "2023-09-02T08:28:54.059Z"
   },
   {
    "duration": 34408,
    "start_time": "2023-09-02T08:29:03.031Z"
   },
   {
    "duration": 11,
    "start_time": "2023-09-02T08:29:37.441Z"
   },
   {
    "duration": 47631,
    "start_time": "2023-09-02T08:29:49.607Z"
   },
   {
    "duration": 48032,
    "start_time": "2023-09-02T08:33:58.189Z"
   },
   {
    "duration": 47617,
    "start_time": "2023-09-02T08:36:12.372Z"
   },
   {
    "duration": 48906,
    "start_time": "2023-09-02T08:38:49.068Z"
   },
   {
    "duration": 48220,
    "start_time": "2023-09-02T08:40:54.102Z"
   },
   {
    "duration": 1252,
    "start_time": "2023-09-02T08:42:22.014Z"
   },
   {
    "duration": 64,
    "start_time": "2023-09-02T08:42:23.268Z"
   },
   {
    "duration": 14,
    "start_time": "2023-09-02T08:42:23.335Z"
   },
   {
    "duration": 6,
    "start_time": "2023-09-02T08:42:23.352Z"
   },
   {
    "duration": 54,
    "start_time": "2023-09-02T08:42:23.360Z"
   },
   {
    "duration": 10,
    "start_time": "2023-09-02T08:42:23.416Z"
   },
   {
    "duration": 17,
    "start_time": "2023-09-02T08:42:23.427Z"
   },
   {
    "duration": 14,
    "start_time": "2023-09-02T08:42:23.446Z"
   },
   {
    "duration": 32,
    "start_time": "2023-09-02T08:42:23.461Z"
   },
   {
    "duration": 33,
    "start_time": "2023-09-02T08:42:23.496Z"
   },
   {
    "duration": 20,
    "start_time": "2023-09-02T08:42:23.531Z"
   },
   {
    "duration": 1337,
    "start_time": "2023-09-02T08:42:23.552Z"
   },
   {
    "duration": 10,
    "start_time": "2023-09-02T08:42:24.890Z"
   },
   {
    "duration": 24,
    "start_time": "2023-09-02T08:42:24.902Z"
   },
   {
    "duration": 6,
    "start_time": "2023-09-02T08:42:24.928Z"
   },
   {
    "duration": 11,
    "start_time": "2023-09-02T08:42:24.950Z"
   },
   {
    "duration": 11,
    "start_time": "2023-09-02T08:42:24.963Z"
   },
   {
    "duration": 9170,
    "start_time": "2023-09-02T08:42:24.975Z"
   },
   {
    "duration": 8911,
    "start_time": "2023-09-02T08:42:34.147Z"
   },
   {
    "duration": 45614,
    "start_time": "2023-09-02T08:42:43.060Z"
   },
   {
    "duration": 6,
    "start_time": "2023-09-02T08:43:28.676Z"
   },
   {
    "duration": 5,
    "start_time": "2023-09-02T08:45:20.188Z"
   },
   {
    "duration": 5,
    "start_time": "2023-09-02T08:46:02.376Z"
   },
   {
    "duration": 32638,
    "start_time": "2023-09-02T08:55:44.557Z"
   },
   {
    "duration": 95,
    "start_time": "2023-09-02T08:57:20.531Z"
   },
   {
    "duration": 3,
    "start_time": "2023-09-02T08:57:29.130Z"
   },
   {
    "duration": 4,
    "start_time": "2023-09-02T08:57:40.812Z"
   },
   {
    "duration": 22,
    "start_time": "2023-09-02T08:58:41.333Z"
   },
   {
    "duration": 22882,
    "start_time": "2023-09-02T08:59:08.672Z"
   },
   {
    "duration": 4,
    "start_time": "2023-09-02T09:00:55.914Z"
   },
   {
    "duration": 4,
    "start_time": "2023-09-02T09:02:40.981Z"
   },
   {
    "duration": 5,
    "start_time": "2023-09-02T09:02:47.215Z"
   },
   {
    "duration": 4,
    "start_time": "2023-09-02T09:03:01.964Z"
   },
   {
    "duration": 4,
    "start_time": "2023-09-02T09:03:08.710Z"
   },
   {
    "duration": 4,
    "start_time": "2023-09-02T09:04:22.425Z"
   },
   {
    "duration": 28742,
    "start_time": "2023-09-02T09:04:50.317Z"
   },
   {
    "duration": 9,
    "start_time": "2023-09-02T09:05:53.216Z"
   },
   {
    "duration": 4,
    "start_time": "2023-09-02T09:06:00.862Z"
   },
   {
    "duration": 4,
    "start_time": "2023-09-02T09:06:27.169Z"
   },
   {
    "duration": 28046,
    "start_time": "2023-09-02T09:07:19.487Z"
   },
   {
    "duration": 1429,
    "start_time": "2023-09-02T09:08:41.413Z"
   },
   {
    "duration": 54,
    "start_time": "2023-09-02T09:08:42.844Z"
   },
   {
    "duration": 12,
    "start_time": "2023-09-02T09:08:42.900Z"
   },
   {
    "duration": 8,
    "start_time": "2023-09-02T09:08:42.914Z"
   },
   {
    "duration": 14,
    "start_time": "2023-09-02T09:08:42.924Z"
   },
   {
    "duration": 4,
    "start_time": "2023-09-02T09:08:42.940Z"
   },
   {
    "duration": 6,
    "start_time": "2023-09-02T09:08:42.945Z"
   },
   {
    "duration": 8,
    "start_time": "2023-09-02T09:08:42.952Z"
   },
   {
    "duration": 10,
    "start_time": "2023-09-02T09:08:42.961Z"
   },
   {
    "duration": 10,
    "start_time": "2023-09-02T09:08:42.974Z"
   },
   {
    "duration": 6,
    "start_time": "2023-09-02T09:08:42.985Z"
   },
   {
    "duration": 1298,
    "start_time": "2023-09-02T09:08:42.992Z"
   },
   {
    "duration": 11,
    "start_time": "2023-09-02T09:08:44.291Z"
   },
   {
    "duration": 26,
    "start_time": "2023-09-02T09:08:44.304Z"
   },
   {
    "duration": 18,
    "start_time": "2023-09-02T09:08:44.332Z"
   },
   {
    "duration": 30,
    "start_time": "2023-09-02T09:08:44.352Z"
   },
   {
    "duration": 19,
    "start_time": "2023-09-02T09:08:44.383Z"
   },
   {
    "duration": 9060,
    "start_time": "2023-09-02T09:08:44.403Z"
   },
   {
    "duration": 8984,
    "start_time": "2023-09-02T09:08:53.464Z"
   },
   {
    "duration": 33161,
    "start_time": "2023-09-02T09:09:02.450Z"
   },
   {
    "duration": 27373,
    "start_time": "2023-09-02T09:09:35.612Z"
   },
   {
    "duration": 107,
    "start_time": "2023-09-02T09:24:28.375Z"
   },
   {
    "duration": 452,
    "start_time": "2023-09-02T09:25:10.499Z"
   },
   {
    "duration": 451,
    "start_time": "2023-09-02T09:31:51.820Z"
   },
   {
    "duration": 3,
    "start_time": "2023-09-02T09:32:11.300Z"
   },
   {
    "duration": 452,
    "start_time": "2023-09-02T09:32:16.534Z"
   },
   {
    "duration": 396,
    "start_time": "2023-09-02T09:33:36.576Z"
   },
   {
    "duration": 371,
    "start_time": "2023-09-02T09:34:16.245Z"
   },
   {
    "duration": 452,
    "start_time": "2023-09-02T09:34:45.404Z"
   },
   {
    "duration": 237,
    "start_time": "2023-09-02T09:35:15.120Z"
   },
   {
    "duration": 1323,
    "start_time": "2023-09-02T09:36:43.234Z"
   },
   {
    "duration": 55,
    "start_time": "2023-09-02T09:36:44.558Z"
   },
   {
    "duration": 11,
    "start_time": "2023-09-02T09:36:44.614Z"
   },
   {
    "duration": 4,
    "start_time": "2023-09-02T09:36:44.627Z"
   },
   {
    "duration": 12,
    "start_time": "2023-09-02T09:36:44.633Z"
   },
   {
    "duration": 8,
    "start_time": "2023-09-02T09:36:44.648Z"
   },
   {
    "duration": 6,
    "start_time": "2023-09-02T09:36:44.658Z"
   },
   {
    "duration": 19,
    "start_time": "2023-09-02T09:36:44.665Z"
   },
   {
    "duration": 13,
    "start_time": "2023-09-02T09:36:44.686Z"
   },
   {
    "duration": 12,
    "start_time": "2023-09-02T09:36:44.701Z"
   },
   {
    "duration": 34,
    "start_time": "2023-09-02T09:36:44.714Z"
   },
   {
    "duration": 1362,
    "start_time": "2023-09-02T09:36:44.749Z"
   },
   {
    "duration": 13,
    "start_time": "2023-09-02T09:36:46.113Z"
   },
   {
    "duration": 43,
    "start_time": "2023-09-02T09:36:46.129Z"
   },
   {
    "duration": 6,
    "start_time": "2023-09-02T09:36:46.173Z"
   },
   {
    "duration": 7,
    "start_time": "2023-09-02T09:36:46.181Z"
   },
   {
    "duration": 16,
    "start_time": "2023-09-02T09:36:46.190Z"
   },
   {
    "duration": 9023,
    "start_time": "2023-09-02T09:36:46.208Z"
   },
   {
    "duration": 8896,
    "start_time": "2023-09-02T09:36:55.233Z"
   },
   {
    "duration": 32688,
    "start_time": "2023-09-02T09:37:04.131Z"
   },
   {
    "duration": 26930,
    "start_time": "2023-09-02T09:37:36.821Z"
   },
   {
    "duration": 459,
    "start_time": "2023-09-02T09:38:03.753Z"
   },
   {
    "duration": 252,
    "start_time": "2023-09-02T09:38:04.214Z"
   },
   {
    "duration": 4423,
    "start_time": "2023-09-02T10:26:57.438Z"
   },
   {
    "duration": 104,
    "start_time": "2023-09-02T10:27:01.863Z"
   },
   {
    "duration": 14,
    "start_time": "2023-09-02T10:27:01.969Z"
   },
   {
    "duration": 16,
    "start_time": "2023-09-02T10:27:01.985Z"
   },
   {
    "duration": 29,
    "start_time": "2023-09-02T10:27:02.003Z"
   },
   {
    "duration": 19,
    "start_time": "2023-09-02T10:27:02.035Z"
   },
   {
    "duration": 25,
    "start_time": "2023-09-02T10:27:02.056Z"
   },
   {
    "duration": 33,
    "start_time": "2023-09-02T10:27:02.083Z"
   },
   {
    "duration": 25,
    "start_time": "2023-09-02T10:27:23.119Z"
   },
   {
    "duration": 1604,
    "start_time": "2023-09-03T05:42:47.828Z"
   },
   {
    "duration": 99,
    "start_time": "2023-09-03T05:42:52.800Z"
   },
   {
    "duration": 14,
    "start_time": "2023-09-03T05:42:54.945Z"
   },
   {
    "duration": 5,
    "start_time": "2023-09-03T05:42:57.615Z"
   },
   {
    "duration": 13,
    "start_time": "2023-09-03T05:43:00.095Z"
   },
   {
    "duration": 5,
    "start_time": "2023-09-03T05:43:03.834Z"
   },
   {
    "duration": 5,
    "start_time": "2023-09-03T05:43:04.927Z"
   },
   {
    "duration": 4,
    "start_time": "2023-09-03T05:43:48.503Z"
   },
   {
    "duration": 6,
    "start_time": "2023-09-03T05:43:51.011Z"
   },
   {
    "duration": 10,
    "start_time": "2023-09-03T05:43:52.631Z"
   },
   {
    "duration": 9,
    "start_time": "2023-09-03T05:43:53.716Z"
   },
   {
    "duration": 5,
    "start_time": "2023-09-03T05:44:15.831Z"
   },
   {
    "duration": 1531,
    "start_time": "2023-09-03T05:44:18.554Z"
   },
   {
    "duration": 124,
    "start_time": "2023-09-03T05:46:43.996Z"
   },
   {
    "duration": 3,
    "start_time": "2023-09-03T05:47:24.883Z"
   },
   {
    "duration": 53,
    "start_time": "2023-09-03T05:47:26.223Z"
   },
   {
    "duration": 13,
    "start_time": "2023-09-03T05:47:28.067Z"
   },
   {
    "duration": 4,
    "start_time": "2023-09-03T05:47:29.646Z"
   },
   {
    "duration": 12,
    "start_time": "2023-09-03T05:47:31.169Z"
   },
   {
    "duration": 4,
    "start_time": "2023-09-03T05:47:32.559Z"
   },
   {
    "duration": 4,
    "start_time": "2023-09-03T05:47:34.317Z"
   },
   {
    "duration": 4,
    "start_time": "2023-09-03T05:47:35.415Z"
   },
   {
    "duration": 7,
    "start_time": "2023-09-03T05:47:37.821Z"
   },
   {
    "duration": 9,
    "start_time": "2023-09-03T05:47:39.267Z"
   },
   {
    "duration": 19,
    "start_time": "2023-09-03T05:47:53.886Z"
   },
   {
    "duration": 29,
    "start_time": "2023-09-03T05:48:18.330Z"
   },
   {
    "duration": 10,
    "start_time": "2023-09-03T05:48:34.170Z"
   },
   {
    "duration": 6,
    "start_time": "2023-09-03T05:49:12.496Z"
   },
   {
    "duration": 1498,
    "start_time": "2023-09-03T05:49:14.332Z"
   },
   {
    "duration": 12,
    "start_time": "2023-09-03T05:49:20.339Z"
   },
   {
    "duration": 21,
    "start_time": "2023-09-03T05:49:23.341Z"
   },
   {
    "duration": 6,
    "start_time": "2023-09-03T05:50:00.569Z"
   },
   {
    "duration": 10,
    "start_time": "2023-09-03T05:50:21.491Z"
   },
   {
    "duration": 9,
    "start_time": "2023-09-03T05:50:53.290Z"
   },
   {
    "duration": 10,
    "start_time": "2023-09-03T05:52:40.844Z"
   },
   {
    "duration": 10,
    "start_time": "2023-09-03T05:59:51.674Z"
   },
   {
    "duration": 4,
    "start_time": "2023-09-03T06:09:42.129Z"
   },
   {
    "duration": 8,
    "start_time": "2023-09-03T06:09:43.231Z"
   },
   {
    "duration": 10141,
    "start_time": "2023-09-03T06:09:46.329Z"
   },
   {
    "duration": 9756,
    "start_time": "2023-09-03T06:10:03.435Z"
   },
   {
    "duration": 10,
    "start_time": "2023-09-03T06:17:24.236Z"
   },
   {
    "duration": 36606,
    "start_time": "2023-09-03T06:17:31.263Z"
   },
   {
    "duration": 14,
    "start_time": "2023-09-03T06:18:12.282Z"
   },
   {
    "duration": 14,
    "start_time": "2023-09-03T06:18:26.703Z"
   },
   {
    "duration": 39270,
    "start_time": "2023-09-03T06:20:41.213Z"
   },
   {
    "duration": 6,
    "start_time": "2023-09-03T06:37:48.083Z"
   },
   {
    "duration": 1488,
    "start_time": "2023-09-03T06:41:30.889Z"
   },
   {
    "duration": 7,
    "start_time": "2023-09-03T06:41:46.718Z"
   },
   {
    "duration": 5,
    "start_time": "2023-09-03T06:41:55.694Z"
   },
   {
    "duration": 5,
    "start_time": "2023-09-03T06:42:04.474Z"
   },
   {
    "duration": 5,
    "start_time": "2023-09-03T06:42:09.899Z"
   },
   {
    "duration": 5,
    "start_time": "2023-09-03T06:42:26.341Z"
   },
   {
    "duration": 6,
    "start_time": "2023-09-03T06:42:39.835Z"
   },
   {
    "duration": 38262,
    "start_time": "2023-09-03T06:48:05.414Z"
   },
   {
    "duration": 13135,
    "start_time": "2023-09-03T06:52:10.579Z"
   },
   {
    "duration": 29927,
    "start_time": "2023-09-03T06:55:21.383Z"
   },
   {
    "duration": 19,
    "start_time": "2023-09-03T06:57:28.040Z"
   },
   {
    "duration": 14,
    "start_time": "2023-09-03T06:57:40.753Z"
   },
   {
    "duration": 6,
    "start_time": "2023-09-03T06:59:42.639Z"
   },
   {
    "duration": 14,
    "start_time": "2023-09-03T07:00:39.078Z"
   },
   {
    "duration": 30465,
    "start_time": "2023-09-03T07:01:03.342Z"
   },
   {
    "duration": 6034,
    "start_time": "2023-09-03T07:02:13.832Z"
   },
   {
    "duration": 7,
    "start_time": "2023-09-03T07:05:35.254Z"
   },
   {
    "duration": 6,
    "start_time": "2023-09-03T07:05:42.442Z"
   },
   {
    "duration": 14,
    "start_time": "2023-09-03T07:05:59.895Z"
   },
   {
    "duration": 14,
    "start_time": "2023-09-03T07:06:15.012Z"
   },
   {
    "duration": 6123,
    "start_time": "2023-09-03T07:06:31.183Z"
   },
   {
    "duration": 2527,
    "start_time": "2023-09-03T07:15:02.025Z"
   },
   {
    "duration": 80,
    "start_time": "2023-09-03T07:15:04.555Z"
   },
   {
    "duration": 21,
    "start_time": "2023-09-03T07:15:04.638Z"
   },
   {
    "duration": 7,
    "start_time": "2023-09-03T07:15:04.662Z"
   },
   {
    "duration": 27,
    "start_time": "2023-09-03T07:15:04.671Z"
   },
   {
    "duration": 9,
    "start_time": "2023-09-03T07:15:04.700Z"
   },
   {
    "duration": 27,
    "start_time": "2023-09-03T07:15:04.711Z"
   },
   {
    "duration": 11,
    "start_time": "2023-09-03T07:15:04.741Z"
   },
   {
    "duration": 32,
    "start_time": "2023-09-03T07:15:04.755Z"
   },
   {
    "duration": 27,
    "start_time": "2023-09-03T07:15:04.791Z"
   },
   {
    "duration": 8,
    "start_time": "2023-09-03T07:15:04.821Z"
   },
   {
    "duration": 2115,
    "start_time": "2023-09-03T07:15:04.832Z"
   },
   {
    "duration": 16,
    "start_time": "2023-09-03T07:15:06.949Z"
   },
   {
    "duration": 35,
    "start_time": "2023-09-03T07:15:06.968Z"
   },
   {
    "duration": 8,
    "start_time": "2023-09-03T07:15:07.005Z"
   },
   {
    "duration": 32,
    "start_time": "2023-09-03T07:15:07.015Z"
   },
   {
    "duration": 10,
    "start_time": "2023-09-03T07:15:07.050Z"
   },
   {
    "duration": 10347,
    "start_time": "2023-09-03T07:15:07.062Z"
   },
   {
    "duration": 10196,
    "start_time": "2023-09-03T07:15:17.411Z"
   },
   {
    "duration": 42619,
    "start_time": "2023-09-03T07:15:27.609Z"
   },
   {
    "duration": 22,
    "start_time": "2023-09-03T07:16:10.229Z"
   },
   {
    "duration": 7,
    "start_time": "2023-09-03T07:16:10.253Z"
   },
   {
    "duration": 9,
    "start_time": "2023-09-03T07:16:10.261Z"
   },
   {
    "duration": 13952,
    "start_time": "2023-09-03T07:16:10.272Z"
   },
   {
    "duration": 32246,
    "start_time": "2023-09-03T07:16:24.226Z"
   },
   {
    "duration": 15,
    "start_time": "2023-09-03T07:16:56.478Z"
   },
   {
    "duration": 6,
    "start_time": "2023-09-03T07:16:56.495Z"
   },
   {
    "duration": 6,
    "start_time": "2023-09-03T07:16:56.504Z"
   },
   {
    "duration": 6631,
    "start_time": "2023-09-03T07:16:56.512Z"
   },
   {
    "duration": 308,
    "start_time": "2023-09-03T07:17:03.147Z"
   },
   {
    "duration": 245,
    "start_time": "2023-09-03T07:17:03.457Z"
   },
   {
    "duration": 324,
    "start_time": "2023-09-03T07:17:32.510Z"
   },
   {
    "duration": 285,
    "start_time": "2023-09-03T07:18:02.782Z"
   },
   {
    "duration": 154,
    "start_time": "2023-09-03T07:29:36.636Z"
   },
   {
    "duration": 56,
    "start_time": "2023-10-12T13:49:59.578Z"
   },
   {
    "duration": 1571,
    "start_time": "2023-11-25T14:36:44.967Z"
   },
   {
    "duration": 100,
    "start_time": "2023-11-25T14:36:47.484Z"
   },
   {
    "duration": 16,
    "start_time": "2023-11-25T14:36:49.585Z"
   },
   {
    "duration": 5,
    "start_time": "2023-11-25T14:36:51.445Z"
   },
   {
    "duration": 13,
    "start_time": "2023-11-25T14:36:52.826Z"
   },
   {
    "duration": 5,
    "start_time": "2023-11-25T14:36:54.805Z"
   },
   {
    "duration": 3,
    "start_time": "2023-11-25T14:36:55.446Z"
   },
   {
    "duration": 4,
    "start_time": "2023-11-25T14:36:56.564Z"
   },
   {
    "duration": 7,
    "start_time": "2023-11-25T14:36:57.365Z"
   },
   {
    "duration": 9,
    "start_time": "2023-11-25T14:36:58.626Z"
   },
   {
    "duration": 5,
    "start_time": "2023-11-25T14:36:59.425Z"
   },
   {
    "duration": 1507,
    "start_time": "2023-11-25T14:37:00.705Z"
   },
   {
    "duration": 11,
    "start_time": "2023-11-25T14:37:04.555Z"
   },
   {
    "duration": 19,
    "start_time": "2023-11-25T14:37:06.564Z"
   },
   {
    "duration": 5,
    "start_time": "2023-11-25T14:37:08.764Z"
   },
   {
    "duration": 4,
    "start_time": "2023-11-25T14:37:09.654Z"
   },
   {
    "duration": 8,
    "start_time": "2023-11-25T14:37:10.819Z"
   },
   {
    "duration": 9043,
    "start_time": "2023-11-25T14:37:12.614Z"
   },
   {
    "duration": 9232,
    "start_time": "2023-11-25T14:37:21.658Z"
   },
   {
    "duration": 35670,
    "start_time": "2023-11-25T14:37:30.892Z"
   },
   {
    "duration": 15,
    "start_time": "2023-11-25T14:38:06.564Z"
   },
   {
    "duration": 6,
    "start_time": "2023-11-25T14:38:06.580Z"
   },
   {
    "duration": 28,
    "start_time": "2023-11-25T14:38:06.588Z"
   },
   {
    "duration": 12432,
    "start_time": "2023-11-25T14:38:06.618Z"
   },
   {
    "duration": 28355,
    "start_time": "2023-11-25T14:38:19.051Z"
   },
   {
    "duration": 13,
    "start_time": "2023-11-25T14:38:47.411Z"
   },
   {
    "duration": 5,
    "start_time": "2023-11-25T14:38:47.426Z"
   },
   {
    "duration": 5,
    "start_time": "2023-11-25T14:38:47.432Z"
   },
   {
    "duration": 5784,
    "start_time": "2023-11-25T14:38:47.439Z"
   },
   {
    "duration": 277,
    "start_time": "2023-11-25T14:38:53.226Z"
   }
  ],
  "kernelspec": {
   "display_name": "Python 3 (ipykernel)",
   "language": "python",
   "name": "python3"
  },
  "language_info": {
   "codemirror_mode": {
    "name": "ipython",
    "version": 3
   },
   "file_extension": ".py",
   "mimetype": "text/x-python",
   "name": "python",
   "nbconvert_exporter": "python",
   "pygments_lexer": "ipython3",
   "version": "3.9.5"
  },
  "toc": {
   "base_numbering": 1,
   "nav_menu": {},
   "number_sections": true,
   "sideBar": true,
   "skip_h1_title": true,
   "title_cell": "Содержание",
   "title_sidebar": "Contents",
   "toc_cell": true,
   "toc_position": {},
   "toc_section_display": true,
   "toc_window_display": true
  }
 },
 "nbformat": 4,
 "nbformat_minor": 2
}
