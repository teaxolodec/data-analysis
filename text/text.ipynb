{
 "cells": [
  {
   "cell_type": "markdown",
   "metadata": {
    "toc": true
   },
   "source": [
    "<h1>Содержание<span class=\"tocSkip\"></span></h1>\n",
    "<div class=\"toc\"><ul class=\"toc-item\"><li><span><a href=\"#Подготовка\" data-toc-modified-id=\"Подготовка-1\"><span class=\"toc-item-num\">1&nbsp;&nbsp;</span>Подготовка</a></span></li><li><span><a href=\"#Обучение\" data-toc-modified-id=\"Обучение-2\"><span class=\"toc-item-num\">2&nbsp;&nbsp;</span>Обучение</a></span><ul class=\"toc-item\"><li><span><a href=\"#Логистическая-регрессия\" data-toc-modified-id=\"Логистическая-регрессия-2.1\"><span class=\"toc-item-num\">2.1&nbsp;&nbsp;</span>Логистическая регрессия</a></span><ul class=\"toc-item\"><li><span><a href=\"#Обучение\" data-toc-modified-id=\"Обучение-2.1.1\"><span class=\"toc-item-num\">2.1.1&nbsp;&nbsp;</span>Обучение</a></span></li></ul></li><li><span><a href=\"#Дерево-решений\" data-toc-modified-id=\"Дерево-решений-2.2\"><span class=\"toc-item-num\">2.2&nbsp;&nbsp;</span>Дерево решений</a></span><ul class=\"toc-item\"><li><span><a href=\"#Обучение\" data-toc-modified-id=\"Обучение-2.2.1\"><span class=\"toc-item-num\">2.2.1&nbsp;&nbsp;</span>Обучение</a></span></li></ul></li><li><span><a href=\"#Тест\" data-toc-modified-id=\"Тест-2.3\"><span class=\"toc-item-num\">2.3&nbsp;&nbsp;</span>Тест</a></span></li></ul></li><li><span><a href=\"#Выводы\" data-toc-modified-id=\"Выводы-3\"><span class=\"toc-item-num\">3&nbsp;&nbsp;</span>Выводы</a></span></li></ul></div>"
   ]
  },
  {
   "cell_type": "markdown",
   "metadata": {},
   "source": [
    "# Проект для «Викишоп»"
   ]
  },
  {
   "cell_type": "markdown",
   "metadata": {},
   "source": [
    "Интернет-магазин «Викишоп» запускает новый сервис. Теперь пользователи могут редактировать и дополнять описания товаров, как в вики-сообществах. То есть клиенты предлагают свои правки и комментируют изменения других. Магазину нужен инструмент, который будет искать токсичные комментарии и отправлять их на модерацию. Обучим модель классифицировать комментарии на позитивные и негативные."
   ]
  },
  {
   "cell_type": "markdown",
   "metadata": {},
   "source": [
    "## Подготовка"
   ]
  },
  {
   "cell_type": "code",
   "execution_count": 1,
   "metadata": {},
   "outputs": [],
   "source": [
    "import numpy as np\n",
    "import pandas as pd\n",
    "\n",
    "import time\n",
    "from tqdm import tqdm\n",
    "\n",
    "import re\n",
    "import spacy\n",
    "\n",
    "import nltk\n",
    "from nltk.corpus import stopwords as nltk_stopwords\n",
    "from sklearn.feature_extraction.text import TfidfVectorizer \n",
    "\n",
    "from sklearn.linear_model import LogisticRegression\n",
    "from sklearn.ensemble import RandomForestClassifier\n",
    "from sklearn.svm import SVC\n",
    "from sklearn.tree import DecisionTreeClassifier\n",
    "from sklearn.neighbors import KNeighborsClassifier\n",
    "\n",
    "from sklearn.metrics import f1_score"
   ]
  },
  {
   "cell_type": "markdown",
   "metadata": {},
   "source": [
    "Загрузим необходимые данные."
   ]
  },
  {
   "cell_type": "code",
   "execution_count": 2,
   "metadata": {},
   "outputs": [],
   "source": [
    "data = pd.read_csv('/datasets/toxic_comments.csv')"
   ]
  },
  {
   "cell_type": "markdown",
   "metadata": {},
   "source": [
    "Посмотрим на загружаемые данные."
   ]
  },
  {
   "cell_type": "code",
   "execution_count": 3,
   "metadata": {},
   "outputs": [
    {
     "data": {
      "text/html": [
       "<div>\n",
       "<style scoped>\n",
       "    .dataframe tbody tr th:only-of-type {\n",
       "        vertical-align: middle;\n",
       "    }\n",
       "\n",
       "    .dataframe tbody tr th {\n",
       "        vertical-align: top;\n",
       "    }\n",
       "\n",
       "    .dataframe thead th {\n",
       "        text-align: right;\n",
       "    }\n",
       "</style>\n",
       "<table border=\"1\" class=\"dataframe\">\n",
       "  <thead>\n",
       "    <tr style=\"text-align: right;\">\n",
       "      <th></th>\n",
       "      <th>Unnamed: 0</th>\n",
       "      <th>text</th>\n",
       "      <th>toxic</th>\n",
       "    </tr>\n",
       "  </thead>\n",
       "  <tbody>\n",
       "    <tr>\n",
       "      <th>0</th>\n",
       "      <td>0</td>\n",
       "      <td>Explanation\\nWhy the edits made under my usern...</td>\n",
       "      <td>0</td>\n",
       "    </tr>\n",
       "    <tr>\n",
       "      <th>1</th>\n",
       "      <td>1</td>\n",
       "      <td>D'aww! He matches this background colour I'm s...</td>\n",
       "      <td>0</td>\n",
       "    </tr>\n",
       "    <tr>\n",
       "      <th>2</th>\n",
       "      <td>2</td>\n",
       "      <td>Hey man, I'm really not trying to edit war. It...</td>\n",
       "      <td>0</td>\n",
       "    </tr>\n",
       "    <tr>\n",
       "      <th>3</th>\n",
       "      <td>3</td>\n",
       "      <td>\"\\nMore\\nI can't make any real suggestions on ...</td>\n",
       "      <td>0</td>\n",
       "    </tr>\n",
       "    <tr>\n",
       "      <th>4</th>\n",
       "      <td>4</td>\n",
       "      <td>You, sir, are my hero. Any chance you remember...</td>\n",
       "      <td>0</td>\n",
       "    </tr>\n",
       "    <tr>\n",
       "      <th>5</th>\n",
       "      <td>5</td>\n",
       "      <td>\"\\n\\nCongratulations from me as well, use the ...</td>\n",
       "      <td>0</td>\n",
       "    </tr>\n",
       "    <tr>\n",
       "      <th>6</th>\n",
       "      <td>6</td>\n",
       "      <td>COCKSUCKER BEFORE YOU PISS AROUND ON MY WORK</td>\n",
       "      <td>1</td>\n",
       "    </tr>\n",
       "    <tr>\n",
       "      <th>7</th>\n",
       "      <td>7</td>\n",
       "      <td>Your vandalism to the Matt Shirvington article...</td>\n",
       "      <td>0</td>\n",
       "    </tr>\n",
       "    <tr>\n",
       "      <th>8</th>\n",
       "      <td>8</td>\n",
       "      <td>Sorry if the word 'nonsense' was offensive to ...</td>\n",
       "      <td>0</td>\n",
       "    </tr>\n",
       "    <tr>\n",
       "      <th>9</th>\n",
       "      <td>9</td>\n",
       "      <td>alignment on this subject and which are contra...</td>\n",
       "      <td>0</td>\n",
       "    </tr>\n",
       "  </tbody>\n",
       "</table>\n",
       "</div>"
      ],
      "text/plain": [
       "   Unnamed: 0                                               text  toxic\n",
       "0           0  Explanation\\nWhy the edits made under my usern...      0\n",
       "1           1  D'aww! He matches this background colour I'm s...      0\n",
       "2           2  Hey man, I'm really not trying to edit war. It...      0\n",
       "3           3  \"\\nMore\\nI can't make any real suggestions on ...      0\n",
       "4           4  You, sir, are my hero. Any chance you remember...      0\n",
       "5           5  \"\\n\\nCongratulations from me as well, use the ...      0\n",
       "6           6       COCKSUCKER BEFORE YOU PISS AROUND ON MY WORK      1\n",
       "7           7  Your vandalism to the Matt Shirvington article...      0\n",
       "8           8  Sorry if the word 'nonsense' was offensive to ...      0\n",
       "9           9  alignment on this subject and which are contra...      0"
      ]
     },
     "execution_count": 3,
     "metadata": {},
     "output_type": "execute_result"
    }
   ],
   "source": [
    "data.head(10)"
   ]
  },
  {
   "cell_type": "markdown",
   "metadata": {},
   "source": [
    "В данных имеется неописанный столбец 'Unnamed: 0', мы можем удалить его, поскольку для обучения моделей он нам не понадобится."
   ]
  },
  {
   "cell_type": "code",
   "execution_count": 4,
   "metadata": {},
   "outputs": [],
   "source": [
    "data = data.drop('Unnamed: 0', axis=1)"
   ]
  },
  {
   "cell_type": "markdown",
   "metadata": {},
   "source": [
    "Из полной информации по данным следует, что в них нет явных пропусков и повторов."
   ]
  },
  {
   "cell_type": "code",
   "execution_count": 5,
   "metadata": {},
   "outputs": [
    {
     "name": "stdout",
     "output_type": "stream",
     "text": [
      "<class 'pandas.core.frame.DataFrame'>\n",
      "RangeIndex: 159292 entries, 0 to 159291\n",
      "Data columns (total 2 columns):\n",
      " #   Column  Non-Null Count   Dtype \n",
      "---  ------  --------------   ----- \n",
      " 0   text    159292 non-null  object\n",
      " 1   toxic   159292 non-null  int64 \n",
      "dtypes: int64(1), object(1)\n",
      "memory usage: 2.4+ MB\n"
     ]
    }
   ],
   "source": [
    "data.info()"
   ]
  },
  {
   "cell_type": "markdown",
   "metadata": {},
   "source": [
    "Также можно заметить, что позитивных коментариев на порядок больше, чем негативных."
   ]
  },
  {
   "cell_type": "code",
   "execution_count": 6,
   "metadata": {},
   "outputs": [
    {
     "data": {
      "text/plain": [
       "0    143106\n",
       "1     16186\n",
       "Name: toxic, dtype: int64"
      ]
     },
     "execution_count": 6,
     "metadata": {},
     "output_type": "execute_result"
    }
   ],
   "source": [
    "data['toxic'].value_counts()"
   ]
  },
  {
   "cell_type": "markdown",
   "metadata": {},
   "source": [
    "---"
   ]
  },
  {
   "cell_type": "markdown",
   "metadata": {},
   "source": [
    "Лемматизируем и очистим от ненужных символов тексты для облегчения их последующей обработки."
   ]
  },
  {
   "cell_type": "code",
   "execution_count": 7,
   "metadata": {},
   "outputs": [
    {
     "name": "stderr",
     "output_type": "stream",
     "text": [
      "100%|██████████| 159292/159292 [25:17<00:00, 104.94it/s]"
     ]
    },
    {
     "name": "stdout",
     "output_type": "stream",
     "text": [
      "1518.7609388828278 с\n"
     ]
    },
    {
     "name": "stderr",
     "output_type": "stream",
     "text": [
      "\n"
     ]
    }
   ],
   "source": [
    "# возвращает очищенный от лишних символов текст\n",
    "def clear_text(text):\n",
    "    return ' '.join(re.sub(r'[^a-zA-Z\\s]', ' ', text).split())\n",
    "\n",
    "# возвращает массив с леммами из массива с текстами\n",
    "def lemmatize(txt):\n",
    "    nlp = spacy.load(\"en_core_web_sm\", disable=['parser', 'ner'])\n",
    "    l = []\n",
    "    for i in tqdm(txt):\n",
    "        doc = nlp(clear_text(i))\n",
    "        l.append(' '.join([token.lemma_ for token in doc]))\n",
    "    return l\n",
    "\n",
    "st = time.time()\n",
    "data['text'] = lemmatize(data['text']) # в дальнейшем тексты нам не понадобятся\n",
    "te = time.time()\n",
    "print(te - st, 'с')"
   ]
  },
  {
   "cell_type": "markdown",
   "metadata": {},
   "source": [
    "## Обучение"
   ]
  },
  {
   "cell_type": "markdown",
   "metadata": {},
   "source": [
    "<div class=\"alert alert-info\">\n",
    "<b>Комментарий:</b>\n",
    "Насколько я могу понять, с точки зрения точности лучше всего использовать BERT, но поскольку мой компьютер, как и сам Jupyter имеет некоторые существенные ограничения на оперативную память, я вынужден использовать другой подход.\n",
    "</div>"
   ]
  },
  {
   "cell_type": "markdown",
   "metadata": {},
   "source": [
    "Отделим целевые признаки от нецелевых и разделим исходные данные на обучающую, валидационную и тестовую выборки в соотношение 5:2:3 (50%:20%:30%)."
   ]
  },
  {
   "cell_type": "markdown",
   "metadata": {},
   "source": [
    "<div class=\"alert alert-info\">\n",
    "<b>Комментарий:</b>\n",
    "Было бы замечательно использовать для исследования стандартное разбиение данных (3:1:1), но я не могу это сделать без того, чтобы Jupyter в очередной раз не убил ядро. Методом научного тыка было установлено, что для обучения я могу использовать только 50% имеющихся данных.\n",
    "</div>"
   ]
  },
  {
   "cell_type": "code",
   "execution_count": 9,
   "metadata": {},
   "outputs": [],
   "source": [
    "x = data.drop('toxic', axis=1)\n",
    "y = data['toxic']\n",
    "del data # экономим ресурсы\n",
    "\n",
    "\n",
    "random_state = 42 # random_state\n",
    "\n",
    "# разбиение признаков\n",
    "x_train, x_valid, x_test = \\\n",
    "              np.split(x.sample(frac=1, random_state=random_state), \n",
    "                       [int(.5*len(x)), int(.7*len(x))])\n",
    "\n",
    "# разбиение целевого признака\n",
    "y_train, y_valid, y_test = \\\n",
    "              np.split(y.sample(frac=1, random_state=random_state), \n",
    "                       [int(.5*len(y)), int(.7*len(y))])"
   ]
  },
  {
   "cell_type": "markdown",
   "metadata": {},
   "source": [
    "Для определения характера текстов применим величины TF-IDF как признаки. Для этого удалим лишние слова из рассматриваемых выборок и расчитаем TF-IDF."
   ]
  },
  {
   "cell_type": "code",
   "execution_count": 10,
   "metadata": {},
   "outputs": [
    {
     "name": "stderr",
     "output_type": "stream",
     "text": [
      "[nltk_data] Downloading package stopwords to /home/jovyan/nltk_data...\n",
      "[nltk_data]   Package stopwords is already up-to-date!\n"
     ]
    }
   ],
   "source": [
    "nltk.download('stopwords')\n",
    "stopwords = set(nltk_stopwords.words('english'))\n",
    "v = TfidfVectorizer(stop_words=stopwords)\n",
    "\n",
    "x_train['text'] = x_train['text']\n",
    "x_valid['text'] = x_valid['text']\n",
    "x_test['text'] = x_test['text']\n",
    "\n",
    "x_train = v.fit_transform(x_train['text'])\n",
    "x_valid = v.transform(x_valid['text'])\n",
    "x_test = v.transform(x_test['text'])"
   ]
  },
  {
   "cell_type": "markdown",
   "metadata": {},
   "source": [
    "### Логистическая регрессия"
   ]
  },
  {
   "cell_type": "markdown",
   "metadata": {},
   "source": [
    "Обучим модель логистической регресси на указанных данных."
   ]
  },
  {
   "cell_type": "markdown",
   "metadata": {},
   "source": [
    "#### Обучение"
   ]
  },
  {
   "cell_type": "code",
   "execution_count": 11,
   "metadata": {
    "scrolled": false
   },
   "outputs": [
    {
     "name": "stdout",
     "output_type": "stream",
     "text": [
      "100 3.2  :  0.0002734661102294922 c\n"
     ]
    },
    {
     "name": "stderr",
     "output_type": "stream",
     "text": [
      "/opt/conda/lib/python3.9/site-packages/sklearn/linear_model/_logistic.py:763: ConvergenceWarning: lbfgs failed to converge (status=1):\n",
      "STOP: TOTAL NO. of ITERATIONS REACHED LIMIT.\n",
      "\n",
      "Increase the number of iterations (max_iter) or scale the data as shown in:\n",
      "    https://scikit-learn.org/stable/modules/preprocessing.html\n",
      "Please also refer to the documentation for alternative solver options:\n",
      "    https://scikit-learn.org/stable/modules/linear_model.html#logistic-regression\n",
      "  n_iter_i = _check_optimize_result(\n"
     ]
    },
    {
     "name": "stdout",
     "output_type": "stream",
     "text": [
      "f1: 0.7623462292743804 \n",
      "\n",
      "100 3.6  :  42.921725273132324 c\n"
     ]
    },
    {
     "name": "stderr",
     "output_type": "stream",
     "text": [
      "/opt/conda/lib/python3.9/site-packages/sklearn/linear_model/_logistic.py:763: ConvergenceWarning: lbfgs failed to converge (status=1):\n",
      "STOP: TOTAL NO. of ITERATIONS REACHED LIMIT.\n",
      "\n",
      "Increase the number of iterations (max_iter) or scale the data as shown in:\n",
      "    https://scikit-learn.org/stable/modules/preprocessing.html\n",
      "Please also refer to the documentation for alternative solver options:\n",
      "    https://scikit-learn.org/stable/modules/linear_model.html#logistic-regression\n",
      "  n_iter_i = _check_optimize_result(\n"
     ]
    },
    {
     "name": "stdout",
     "output_type": "stream",
     "text": [
      "f1: 0.7653532126375577 \n",
      "\n",
      "150 3.2  :  88.60000777244568 c\n",
      "f1: 0.7623462292743804 \n",
      "\n",
      "150 3.6  :  152.2264449596405 c\n",
      "f1: 0.7648624667258208 \n",
      "\n",
      "200 3.2  :  209.88601231575012 c\n",
      "f1: 0.7623462292743804 \n",
      "\n",
      "200 3.6  :  272.5654413700104 c\n",
      "f1: 0.7648624667258208 \n",
      "\n",
      "F1 лучшей модели: 0.7653532126375577\n"
     ]
    }
   ],
   "source": [
    "f0 = 0\n",
    "st = time.time()\n",
    "for (i,j) in [(i,j) for i in range(100,201,50) for j in np.arange(3.2,3.7,0.4)]:  # LogisticRegression     # F1: ~0.75, быстро\n",
    "#for (i,j) in [(i,j) for i in range(200,221,10) for j in range(40,43)]:           # RandomForestClassifier # F1: отвратительный\n",
    "#for (i,j) in [(i,j) for i in range(2,4) for j in np.arange(0.6,1.5,0.4)]:        # SVC                    # F1: очень долго (но ядро живёт)\n",
    "#for (i,j) in [(i,j) for i in range(3,5) for j in range(1,3)]:                    # DecisionTreeClassifier # F1: ~0.71, долго\n",
    "#for (i,j) in [(i,j) for i in range(3,6) for j in range(20,41,10)]:               # KNeighborsClassifier   # F1: отвратительный, ядро умирает\n",
    "    te = time.time()\n",
    "    print(i,j, ' : ', te - st, 'c')\n",
    "    model = LogisticRegression(random_state=random_state, max_iter=i, C=j)\n",
    "#    model = RandomForestClassifier(\n",
    "#        random_state=random_state,\n",
    "#        n_estimators=i,                      # количество деревьев\n",
    "#        max_depth=j,                         # максимальная глубина\n",
    "#        class_weight='balanced'              # обучаем модель с взвешаннами классами\n",
    "#    )\n",
    "#    model = SVC(random_state=random_state, degree=i, C=j)\n",
    "#    model = DecisionTreeClassifier(random_state=random_state, min_samples_split=i, min_samples_leaf=j)\n",
    "#    model = KNeighborsClassifier(n_neighbors=i, leaf_size=j)\n",
    "    model.fit(x_train,y_train)\n",
    "    predict = model.predict(x_valid)\n",
    "    ff = f1_score(predict,y_valid)\n",
    "    print('f1:', ff, '\\n')\n",
    "    if (ff > f0):\n",
    "        f0 = ff\n",
    "        ii = i\n",
    "        jj = j\n",
    "        best_model_LogisticRegression = model\n",
    "\n",
    "print('F1 лучшей модели:', f0)"
   ]
  },
  {
   "cell_type": "markdown",
   "metadata": {},
   "source": [
    "### Дерево решений"
   ]
  },
  {
   "cell_type": "markdown",
   "metadata": {},
   "source": [
    "Кроме того обучим модель дерева решений."
   ]
  },
  {
   "cell_type": "markdown",
   "metadata": {},
   "source": [
    "#### Обучение"
   ]
  },
  {
   "cell_type": "code",
   "execution_count": null,
   "metadata": {},
   "outputs": [
    {
     "name": "stdout",
     "output_type": "stream",
     "text": [
      "3 1  :  0.00014328956604003906 c\n",
      "f1: 0.7114880493446416 \n",
      "\n",
      "3 2  :  191.99816513061523 c\n",
      "f1: 0.6957642132388469 \n",
      "\n",
      "4 1  :  346.26735258102417 c\n"
     ]
    }
   ],
   "source": [
    "f0 = 0\n",
    "st = time.time()\n",
    "#for (i,j) in [(i,j) for i in range(100,201,50) for j in np.arange(3.2,3.7,0.4)]: # LogisticRegression     # F1: ~0.75, быстро\n",
    "#for (i,j) in [(i,j) for i in range(200,221,10) for j in range(40,43)]:           # RandomForestClassifier # F1: отвратительный\n",
    "#for (i,j) in [(i,j) for i in range(2,4) for j in np.arange(0.6,1.5,0.4)]:        # SVC                    # F1: очень долго (но ядро живёт)\n",
    "for (i,j) in [(i,j) for i in range(3,5) for j in range(1,3)]:                     # DecisionTreeClassifier # F1: ~0.71, долго\n",
    "#for (i,j) in [(i,j) for i in range(3,6) for j in range(20,41,10)]:               # KNeighborsClassifier   # F1: отвратительный, ядро умирает\n",
    "    te = time.time()\n",
    "    print(i,j, ' : ', te - st, 'c')\n",
    "#    model = LogisticRegression(random_state=random_state, max_iter=i, C=j)\n",
    "#    m = RandomForestClassifier(\n",
    "#        random_state=random_state,\n",
    "#        n_estimators=i,                      # количество деревьев\n",
    "#        max_depth=j,                         # максимальная глубина\n",
    "#        class_weight='balanced'              # обучаем модель с взвешаннами классами\n",
    "#    )\n",
    "#    model = SVC(random_state=random_state, degree=i, C=j)\n",
    "    model = DecisionTreeClassifier(random_state=random_state, min_samples_split=i, min_samples_leaf=j)\n",
    "#    model = KNeighborsClassifier(n_neighbors=i, leaf_size=j)\n",
    "    model.fit(x_train,y_train)\n",
    "    predict = model.predict(x_valid)\n",
    "    ff = f1_score(predict,y_valid)\n",
    "    print('f1:', ff, '\\n')\n",
    "    if (ff > f0):\n",
    "        f0 = ff\n",
    "        ii = i\n",
    "        jj = j\n",
    "        best_model_DecisionTreeClassifier = model\n",
    "\n",
    "print('F1 лучшей модели:', f0)"
   ]
  },
  {
   "cell_type": "markdown",
   "metadata": {},
   "source": [
    "### Тест"
   ]
  },
  {
   "cell_type": "markdown",
   "metadata": {},
   "source": [
    "Моделью с наилучшим показателем F1 оказалась логиситческая регрессия."
   ]
  },
  {
   "cell_type": "code",
   "execution_count": 15,
   "metadata": {},
   "outputs": [
    {
     "data": {
      "text/plain": [
       "0.7615557394491075"
      ]
     },
     "execution_count": 15,
     "metadata": {},
     "output_type": "execute_result"
    }
   ],
   "source": [
    "predict = best_model_LogisticRegression.predict(x_test)\n",
    "f1_score(predict,y_test)"
   ]
  },
  {
   "cell_type": "markdown",
   "metadata": {},
   "source": [
    "## Выводы"
   ]
  },
  {
   "cell_type": "markdown",
   "metadata": {},
   "source": [
    "В данной работе была получена модель, позволяющая классифицировать позитивные и негативные коментарии. Параметр F1, полученный на тестовых данных укладывается в допустимое значение. Данная модель поможет упростить поиск негативных коментариев для интернет магазина «Викишоп»."
   ]
  }
 ],
 "metadata": {
  "ExecuteTimeLog": [
   {
    "duration": 384,
    "start_time": "2023-10-24T13:55:07.938Z"
   },
   {
    "duration": 2228,
    "start_time": "2023-10-24T13:55:09.789Z"
   },
   {
    "duration": 14,
    "start_time": "2023-10-24T13:55:19.791Z"
   },
   {
    "duration": 7,
    "start_time": "2023-10-24T13:57:50.582Z"
   },
   {
    "duration": 24,
    "start_time": "2023-10-24T13:58:09.477Z"
   },
   {
    "duration": 7,
    "start_time": "2023-10-24T14:07:18.231Z"
   },
   {
    "duration": 23,
    "start_time": "2023-10-24T14:07:24.639Z"
   },
   {
    "duration": 606,
    "start_time": "2023-10-24T14:08:43.346Z"
   },
   {
    "duration": 5,
    "start_time": "2023-10-24T14:08:56.504Z"
   },
   {
    "duration": 627,
    "start_time": "2023-10-24T15:03:01.263Z"
   },
   {
    "duration": 2606,
    "start_time": "2023-10-24T15:06:16.105Z"
   },
   {
    "duration": 1193,
    "start_time": "2023-10-24T15:07:09.209Z"
   },
   {
    "duration": 2245,
    "start_time": "2023-10-24T15:07:11.928Z"
   },
   {
    "duration": 14,
    "start_time": "2023-10-24T15:07:15.119Z"
   },
   {
    "duration": 8,
    "start_time": "2023-10-24T15:07:18.058Z"
   },
   {
    "duration": 24,
    "start_time": "2023-10-24T15:07:18.751Z"
   },
   {
    "duration": 7,
    "start_time": "2023-10-24T15:07:22.380Z"
   },
   {
    "duration": 2493,
    "start_time": "2023-10-24T15:07:23.507Z"
   },
   {
    "duration": 1103,
    "start_time": "2023-10-24T15:08:08.437Z"
   },
   {
    "duration": 2222,
    "start_time": "2023-10-24T15:08:09.542Z"
   },
   {
    "duration": 16,
    "start_time": "2023-10-24T15:08:12.446Z"
   },
   {
    "duration": 7,
    "start_time": "2023-10-24T15:08:13.534Z"
   },
   {
    "duration": 25,
    "start_time": "2023-10-24T15:08:16.051Z"
   },
   {
    "duration": 7,
    "start_time": "2023-10-24T15:08:16.857Z"
   },
   {
    "duration": 2476,
    "start_time": "2023-10-24T15:08:19.158Z"
   },
   {
    "duration": 1590,
    "start_time": "2023-10-24T15:08:41.789Z"
   },
   {
    "duration": 2241,
    "start_time": "2023-10-24T15:08:45.482Z"
   },
   {
    "duration": 15,
    "start_time": "2023-10-24T15:08:48.357Z"
   },
   {
    "duration": 8,
    "start_time": "2023-10-24T15:08:49.130Z"
   },
   {
    "duration": 24,
    "start_time": "2023-10-24T15:08:53.087Z"
   },
   {
    "duration": 6,
    "start_time": "2023-10-24T15:08:53.984Z"
   },
   {
    "duration": 2441,
    "start_time": "2023-10-24T15:08:56.808Z"
   },
   {
    "duration": 274,
    "start_time": "2023-10-24T15:11:29.471Z"
   },
   {
    "duration": 2,
    "start_time": "2023-10-24T15:11:44.075Z"
   },
   {
    "duration": 664,
    "start_time": "2023-10-24T15:11:54.547Z"
   },
   {
    "duration": 703,
    "start_time": "2023-10-24T15:12:24.807Z"
   },
   {
    "duration": 1009,
    "start_time": "2023-10-24T15:13:46.356Z"
   },
   {
    "duration": 852,
    "start_time": "2023-10-24T15:13:48.018Z"
   },
   {
    "duration": 15,
    "start_time": "2023-10-24T15:13:49.403Z"
   },
   {
    "duration": 8,
    "start_time": "2023-10-24T15:13:51.725Z"
   },
   {
    "duration": 23,
    "start_time": "2023-10-24T15:13:52.892Z"
   },
   {
    "duration": 7,
    "start_time": "2023-10-24T15:13:55.493Z"
   },
   {
    "duration": 553196,
    "start_time": "2023-10-24T15:18:35.768Z"
   },
   {
    "duration": 3,
    "start_time": "2023-10-24T15:37:01.055Z"
   },
   {
    "duration": 967,
    "start_time": "2023-10-24T15:37:01.794Z"
   },
   {
    "duration": 11,
    "start_time": "2023-10-24T15:37:02.763Z"
   },
   {
    "duration": 9,
    "start_time": "2023-10-24T15:37:04.883Z"
   },
   {
    "duration": 24,
    "start_time": "2023-10-24T15:37:05.689Z"
   },
   {
    "duration": 13,
    "start_time": "2023-10-24T15:37:07.945Z"
   },
   {
    "duration": 8,
    "start_time": "2023-10-24T15:37:09.566Z"
   },
   {
    "duration": 9,
    "start_time": "2023-10-24T15:37:45.546Z"
   },
   {
    "duration": 14,
    "start_time": "2023-10-24T15:37:49.489Z"
   },
   {
    "duration": 19,
    "start_time": "2023-10-24T15:38:09.775Z"
   },
   {
    "duration": 94881,
    "start_time": "2023-10-24T15:38:39.232Z"
   },
   {
    "duration": 12,
    "start_time": "2023-10-24T15:40:32.861Z"
   },
   {
    "duration": 1030,
    "start_time": "2023-10-24T15:56:03.733Z"
   },
   {
    "duration": 903,
    "start_time": "2023-10-24T15:56:05.293Z"
   },
   {
    "duration": 13,
    "start_time": "2023-10-24T15:56:07.727Z"
   },
   {
    "duration": 8,
    "start_time": "2023-10-24T15:56:14.259Z"
   },
   {
    "duration": 25,
    "start_time": "2023-10-24T15:56:15.204Z"
   },
   {
    "duration": 6,
    "start_time": "2023-10-24T15:56:17.939Z"
   },
   {
    "duration": 65480,
    "start_time": "2023-10-24T15:56:19.004Z"
   },
   {
    "duration": 173,
    "start_time": "2023-10-24T16:05:13.803Z"
   },
   {
    "duration": 35,
    "start_time": "2023-10-24T16:15:50.921Z"
   },
   {
    "duration": 2112,
    "start_time": "2023-10-24T16:16:26.766Z"
   },
   {
    "duration": 2220,
    "start_time": "2023-10-24T16:16:30.250Z"
   },
   {
    "duration": 12,
    "start_time": "2023-10-24T16:16:32.969Z"
   },
   {
    "duration": 7,
    "start_time": "2023-10-24T16:16:35.684Z"
   },
   {
    "duration": 25,
    "start_time": "2023-10-24T16:16:36.489Z"
   },
   {
    "duration": 5,
    "start_time": "2023-10-24T16:16:38.970Z"
   },
   {
    "duration": 64663,
    "start_time": "2023-10-24T16:16:39.925Z"
   },
   {
    "duration": 38,
    "start_time": "2023-10-24T16:18:01.469Z"
   },
   {
    "duration": 2351,
    "start_time": "2023-10-24T16:18:28.618Z"
   },
   {
    "duration": 2204,
    "start_time": "2023-10-24T16:18:31.464Z"
   },
   {
    "duration": 13,
    "start_time": "2023-10-24T16:18:34.242Z"
   },
   {
    "duration": 7,
    "start_time": "2023-10-24T16:18:38.283Z"
   },
   {
    "duration": 23,
    "start_time": "2023-10-24T16:18:39.164Z"
   },
   {
    "duration": 5,
    "start_time": "2023-10-24T16:18:41.410Z"
   },
   {
    "duration": 63054,
    "start_time": "2023-10-24T16:18:43.669Z"
   },
   {
    "duration": 35,
    "start_time": "2023-10-24T16:19:57.269Z"
   },
   {
    "duration": 42,
    "start_time": "2023-10-24T16:22:57.830Z"
   },
   {
    "duration": 1764,
    "start_time": "2023-10-24T16:23:01.834Z"
   },
   {
    "duration": 3,
    "start_time": "2023-10-24T16:23:10.465Z"
   },
   {
    "duration": 2194,
    "start_time": "2023-10-24T16:23:11.405Z"
   },
   {
    "duration": 12,
    "start_time": "2023-10-24T16:23:14.101Z"
   },
   {
    "duration": 7,
    "start_time": "2023-10-24T16:23:16.866Z"
   },
   {
    "duration": 23,
    "start_time": "2023-10-24T16:23:17.467Z"
   },
   {
    "duration": 6,
    "start_time": "2023-10-24T16:23:18.311Z"
   },
   {
    "duration": 61443,
    "start_time": "2023-10-24T16:23:20.654Z"
   },
   {
    "duration": 37,
    "start_time": "2023-10-24T16:24:49.489Z"
   },
   {
    "duration": 4184,
    "start_time": "2023-10-24T16:24:51.468Z"
   },
   {
    "duration": 74,
    "start_time": "2023-10-24T16:36:25.701Z"
   },
   {
    "duration": 11,
    "start_time": "2023-10-24T16:36:30.217Z"
   },
   {
    "duration": 4,
    "start_time": "2023-10-24T16:36:35.475Z"
   },
   {
    "duration": 8440,
    "start_time": "2023-10-24T16:41:34.703Z"
   },
   {
    "duration": 16,
    "start_time": "2023-10-24T16:42:44.703Z"
   },
   {
    "duration": 1197,
    "start_time": "2023-10-24T16:43:24.836Z"
   },
   {
    "duration": 835,
    "start_time": "2023-10-24T16:43:28.341Z"
   },
   {
    "duration": 12,
    "start_time": "2023-10-24T16:43:33.055Z"
   },
   {
    "duration": 7,
    "start_time": "2023-10-24T16:43:36.230Z"
   },
   {
    "duration": 23,
    "start_time": "2023-10-24T16:43:37.120Z"
   },
   {
    "duration": 5,
    "start_time": "2023-10-24T16:43:38.173Z"
   },
   {
    "duration": 62146,
    "start_time": "2023-10-24T16:43:41.954Z"
   },
   {
    "duration": 37,
    "start_time": "2023-10-24T16:46:11.332Z"
   },
   {
    "duration": 5427,
    "start_time": "2023-10-24T16:46:14.346Z"
   },
   {
    "duration": 181498,
    "start_time": "2023-10-24T16:46:33.250Z"
   },
   {
    "duration": 213519,
    "start_time": "2023-10-24T16:50:15.621Z"
   },
   {
    "duration": 5068,
    "start_time": "2023-10-24T16:54:12.665Z"
   },
   {
    "duration": 1152,
    "start_time": "2023-10-24T16:55:45.192Z"
   },
   {
    "duration": 838,
    "start_time": "2023-10-24T16:55:48.368Z"
   },
   {
    "duration": 12,
    "start_time": "2023-10-24T16:55:53.547Z"
   },
   {
    "duration": 7,
    "start_time": "2023-10-24T16:55:56.662Z"
   },
   {
    "duration": 23,
    "start_time": "2023-10-24T16:55:57.455Z"
   },
   {
    "duration": 5,
    "start_time": "2023-10-24T16:55:58.167Z"
   },
   {
    "duration": 63132,
    "start_time": "2023-10-24T16:56:02.432Z"
   },
   {
    "duration": 37,
    "start_time": "2023-10-24T17:01:04.437Z"
   },
   {
    "duration": 2697,
    "start_time": "2023-10-24T17:01:59.398Z"
   },
   {
    "duration": 2206,
    "start_time": "2023-10-24T17:02:03.369Z"
   },
   {
    "duration": 13,
    "start_time": "2023-10-24T17:02:05.576Z"
   },
   {
    "duration": 7,
    "start_time": "2023-10-24T17:02:08.794Z"
   },
   {
    "duration": 23,
    "start_time": "2023-10-24T17:02:09.435Z"
   },
   {
    "duration": 5,
    "start_time": "2023-10-24T17:02:10.264Z"
   },
   {
    "duration": 62755,
    "start_time": "2023-10-24T17:02:13.410Z"
   },
   {
    "duration": 36,
    "start_time": "2023-10-24T17:06:02.019Z"
   },
   {
    "duration": 10677,
    "start_time": "2023-10-24T17:06:04.910Z"
   },
   {
    "duration": 153,
    "start_time": "2023-10-24T17:06:20.250Z"
   },
   {
    "duration": 10,
    "start_time": "2023-10-24T17:07:13.452Z"
   },
   {
    "duration": 19,
    "start_time": "2023-10-24T17:08:38.403Z"
   },
   {
    "duration": 212286,
    "start_time": "2023-10-24T17:10:17.058Z"
   },
   {
    "duration": 25,
    "start_time": "2023-10-24T17:13:55.559Z"
   },
   {
    "duration": 14,
    "start_time": "2023-10-24T17:18:02.432Z"
   },
   {
    "duration": 23,
    "start_time": "2023-10-24T17:18:30.117Z"
   },
   {
    "duration": 12553,
    "start_time": "2023-10-24T17:18:34.565Z"
   },
   {
    "duration": 48259,
    "start_time": "2023-10-24T17:19:18.493Z"
   },
   {
    "duration": 5,
    "start_time": "2023-10-24T17:20:38.626Z"
   },
   {
    "duration": 48596,
    "start_time": "2023-10-24T17:20:48.360Z"
   },
   {
    "duration": 24682,
    "start_time": "2023-10-24T17:21:38.474Z"
   },
   {
    "duration": 56983,
    "start_time": "2023-10-24T17:22:06.758Z"
   },
   {
    "duration": 172172,
    "start_time": "2023-10-24T17:23:05.063Z"
   },
   {
    "duration": 189461,
    "start_time": "2023-10-24T17:25:57.798Z"
   },
   {
    "duration": 249806,
    "start_time": "2023-10-24T17:29:11.758Z"
   },
   {
    "duration": 10,
    "start_time": "2023-10-24T17:33:23.955Z"
   },
   {
    "duration": 3,
    "start_time": "2023-10-24T17:33:30.766Z"
   },
   {
    "duration": 1201,
    "start_time": "2023-10-24T17:44:06.338Z"
   },
   {
    "duration": 821,
    "start_time": "2023-10-24T17:44:10.102Z"
   },
   {
    "duration": 12,
    "start_time": "2023-10-24T17:44:11.373Z"
   },
   {
    "duration": 8,
    "start_time": "2023-10-24T17:44:12.536Z"
   },
   {
    "duration": 24,
    "start_time": "2023-10-24T17:44:15.605Z"
   },
   {
    "duration": 5,
    "start_time": "2023-10-24T17:44:16.637Z"
   },
   {
    "duration": 62085,
    "start_time": "2023-10-24T17:44:19.755Z"
   },
   {
    "duration": 3,
    "start_time": "2023-10-24T17:46:38.015Z"
   },
   {
    "duration": 35,
    "start_time": "2023-10-24T17:46:49.259Z"
   },
   {
    "duration": 10659,
    "start_time": "2023-10-24T17:46:50.925Z"
   },
   {
    "duration": 677535,
    "start_time": "2023-10-24T17:48:32.510Z"
   },
   {
    "duration": 187,
    "start_time": "2023-10-24T18:00:39.582Z"
   },
   {
    "duration": 1178,
    "start_time": "2023-10-24T18:00:47.740Z"
   },
   {
    "duration": 839,
    "start_time": "2023-10-24T18:00:50.520Z"
   },
   {
    "duration": 14,
    "start_time": "2023-10-24T18:00:51.806Z"
   },
   {
    "duration": 7,
    "start_time": "2023-10-24T18:00:54.553Z"
   },
   {
    "duration": 23,
    "start_time": "2023-10-24T18:00:55.335Z"
   },
   {
    "duration": 5,
    "start_time": "2023-10-24T18:00:57.932Z"
   },
   {
    "duration": 61948,
    "start_time": "2023-10-24T18:00:59.147Z"
   },
   {
    "duration": 36,
    "start_time": "2023-10-24T18:02:03.493Z"
   },
   {
    "duration": 11283,
    "start_time": "2023-10-24T18:02:04.872Z"
   },
   {
    "duration": 120,
    "start_time": "2023-10-24T18:02:41.956Z"
   },
   {
    "duration": 67,
    "start_time": "2023-10-24T18:02:57.752Z"
   },
   {
    "duration": 107,
    "start_time": "2023-10-24T18:03:11.829Z"
   },
   {
    "duration": 76916,
    "start_time": "2023-10-24T18:03:29.210Z"
   },
   {
    "duration": 1794,
    "start_time": "2023-10-24T18:05:43.505Z"
   },
   {
    "duration": 2185,
    "start_time": "2023-10-24T18:05:47.674Z"
   },
   {
    "duration": 12,
    "start_time": "2023-10-24T18:05:51.484Z"
   },
   {
    "duration": 7,
    "start_time": "2023-10-24T18:05:53.162Z"
   },
   {
    "duration": 25,
    "start_time": "2023-10-24T18:05:56.076Z"
   },
   {
    "duration": 7,
    "start_time": "2023-10-24T18:05:57.587Z"
   },
   {
    "duration": 62208,
    "start_time": "2023-10-24T18:06:01.199Z"
   },
   {
    "duration": 48,
    "start_time": "2023-10-24T18:07:03.409Z"
   },
   {
    "duration": 10655,
    "start_time": "2023-10-24T18:07:03.458Z"
   },
   {
    "duration": 73,
    "start_time": "2023-10-24T18:07:19.531Z"
   },
   {
    "duration": 1268,
    "start_time": "2023-10-24T18:10:07.456Z"
   },
   {
    "duration": 821,
    "start_time": "2023-10-24T18:10:09.909Z"
   },
   {
    "duration": 12,
    "start_time": "2023-10-24T18:10:11.397Z"
   },
   {
    "duration": 1133,
    "start_time": "2023-10-24T18:10:16.994Z"
   },
   {
    "duration": 805,
    "start_time": "2023-10-24T18:10:18.129Z"
   },
   {
    "duration": 12,
    "start_time": "2023-10-24T18:10:18.935Z"
   },
   {
    "duration": 8,
    "start_time": "2023-10-24T18:10:18.948Z"
   },
   {
    "duration": 24,
    "start_time": "2023-10-24T18:10:18.957Z"
   },
   {
    "duration": 9,
    "start_time": "2023-10-24T18:10:18.983Z"
   },
   {
    "duration": 61519,
    "start_time": "2023-10-24T18:10:18.993Z"
   },
   {
    "duration": 47,
    "start_time": "2023-10-24T18:11:20.514Z"
   },
   {
    "duration": 11013,
    "start_time": "2023-10-24T18:11:20.562Z"
   },
   {
    "duration": 75686,
    "start_time": "2023-10-24T18:11:31.576Z"
   },
   {
    "duration": 0,
    "start_time": "2023-10-24T18:12:47.264Z"
   },
   {
    "duration": 155243,
    "start_time": "2023-10-24T18:12:52.511Z"
   },
   {
    "duration": 126825,
    "start_time": "2023-10-24T18:15:28.752Z"
   },
   {
    "duration": 1380,
    "start_time": "2023-10-24T18:20:02.010Z"
   },
   {
    "duration": 847,
    "start_time": "2023-10-24T18:20:11.419Z"
   },
   {
    "duration": 13,
    "start_time": "2023-10-24T18:20:13.938Z"
   },
   {
    "duration": 7,
    "start_time": "2023-10-24T18:20:17.455Z"
   },
   {
    "duration": 24,
    "start_time": "2023-10-24T18:20:20.665Z"
   },
   {
    "duration": 6,
    "start_time": "2023-10-24T18:20:21.492Z"
   },
   {
    "duration": 65198,
    "start_time": "2023-10-24T18:20:24.532Z"
   },
   {
    "duration": 39,
    "start_time": "2023-10-24T18:21:29.732Z"
   },
   {
    "duration": 10977,
    "start_time": "2023-10-24T18:21:29.772Z"
   },
   {
    "duration": 214389,
    "start_time": "2023-10-24T18:22:41.954Z"
   },
   {
    "duration": 19,
    "start_time": "2023-10-24T18:28:19.306Z"
   },
   {
    "duration": 211096,
    "start_time": "2023-10-24T18:28:43.649Z"
   },
   {
    "duration": 20,
    "start_time": "2023-10-24T18:32:16.942Z"
   },
   {
    "duration": 229490,
    "start_time": "2023-10-24T18:32:24.555Z"
   },
   {
    "duration": 20,
    "start_time": "2023-10-24T18:36:17.329Z"
   },
   {
    "duration": 15307,
    "start_time": "2023-10-24T18:36:33.519Z"
   },
   {
    "duration": 241234,
    "start_time": "2023-10-24T18:36:50.421Z"
   },
   {
    "duration": 98,
    "start_time": "2023-10-24T18:40:51.657Z"
   },
   {
    "duration": 1436,
    "start_time": "2023-10-25T12:08:25.250Z"
   },
   {
    "duration": 3332,
    "start_time": "2023-10-25T12:08:33.677Z"
   },
   {
    "duration": 15,
    "start_time": "2023-10-25T12:08:37.504Z"
   },
   {
    "duration": 10,
    "start_time": "2023-10-25T12:08:40.338Z"
   },
   {
    "duration": 31,
    "start_time": "2023-10-25T12:08:41.393Z"
   },
   {
    "duration": 6,
    "start_time": "2023-10-25T12:08:44.632Z"
   },
   {
    "duration": 133,
    "start_time": "2023-10-25T12:08:52.560Z"
   },
   {
    "duration": 39,
    "start_time": "2023-10-25T12:10:33.638Z"
   },
   {
    "duration": 4168,
    "start_time": "2023-10-25T12:12:50.883Z"
   },
   {
    "duration": 688,
    "start_time": "2023-10-25T12:13:56.075Z"
   },
   {
    "duration": 470463,
    "start_time": "2023-10-25T12:16:57.714Z"
   },
   {
    "duration": 19,
    "start_time": "2023-10-25T12:25:07.624Z"
   },
   {
    "duration": 4,
    "start_time": "2023-10-25T12:26:27.738Z"
   },
   {
    "duration": 4304,
    "start_time": "2023-10-25T12:27:01.585Z"
   },
   {
    "duration": 955,
    "start_time": "2023-10-25T12:27:05.893Z"
   },
   {
    "duration": 201,
    "start_time": "2023-10-25T12:27:06.850Z"
   },
   {
    "duration": 10,
    "start_time": "2023-10-25T12:27:09.376Z"
   },
   {
    "duration": 39,
    "start_time": "2023-10-25T12:27:10.135Z"
   },
   {
    "duration": 6,
    "start_time": "2023-10-25T12:27:10.888Z"
   },
   {
    "duration": 1144578,
    "start_time": "2023-10-25T12:27:14.576Z"
   },
   {
    "duration": 378,
    "start_time": "2023-10-25T12:46:19.161Z"
   },
   {
    "duration": 6,
    "start_time": "2023-10-25T12:46:21.219Z"
   },
   {
    "duration": 4263,
    "start_time": "2023-10-25T12:46:59.737Z"
   },
   {
    "duration": 943,
    "start_time": "2023-10-25T12:47:05.871Z"
   },
   {
    "duration": 183,
    "start_time": "2023-10-25T12:47:07.537Z"
   },
   {
    "duration": 10,
    "start_time": "2023-10-25T12:47:10.174Z"
   },
   {
    "duration": 34,
    "start_time": "2023-10-25T12:47:12.669Z"
   },
   {
    "duration": 6,
    "start_time": "2023-10-25T12:47:15.219Z"
   },
   {
    "duration": 1125946,
    "start_time": "2023-10-25T12:47:41.741Z"
   },
   {
    "duration": 7,
    "start_time": "2023-10-25T13:09:10.625Z"
   },
   {
    "duration": 61,
    "start_time": "2023-10-25T13:10:46.660Z"
   },
   {
    "duration": 7259,
    "start_time": "2023-10-25T13:10:49.420Z"
   },
   {
    "duration": 307242,
    "start_time": "2023-10-25T13:11:03.106Z"
   },
   {
    "duration": 22,
    "start_time": "2023-10-25T13:16:23.326Z"
   },
   {
    "duration": 463717,
    "start_time": "2023-10-25T13:16:27.092Z"
   },
   {
    "duration": 119,
    "start_time": "2023-10-25T13:24:10.811Z"
   },
   {
    "duration": 25,
    "start_time": "2023-10-25T13:24:10.931Z"
   },
   {
    "duration": 4324,
    "start_time": "2023-10-26T10:19:54.532Z"
   },
   {
    "duration": 3242,
    "start_time": "2023-10-26T10:20:02.480Z"
   },
   {
    "duration": 175,
    "start_time": "2023-10-26T10:20:07.798Z"
   },
   {
    "duration": 11,
    "start_time": "2023-10-26T10:20:12.811Z"
   },
   {
    "duration": 34,
    "start_time": "2023-10-26T10:20:13.537Z"
   },
   {
    "duration": 7,
    "start_time": "2023-10-26T10:20:14.402Z"
   },
   {
    "duration": 1071662,
    "start_time": "2023-10-26T10:20:18.687Z"
   },
   {
    "duration": 57,
    "start_time": "2023-10-26T10:38:10.351Z"
   },
   {
    "duration": 7421,
    "start_time": "2023-10-26T10:38:10.410Z"
   }
  ],
  "kernelspec": {
   "display_name": "Python 3 (ipykernel)",
   "language": "python",
   "name": "python3"
  },
  "language_info": {
   "codemirror_mode": {
    "name": "ipython",
    "version": 3
   },
   "file_extension": ".py",
   "mimetype": "text/x-python",
   "name": "python",
   "nbconvert_exporter": "python",
   "pygments_lexer": "ipython3",
   "version": "3.9.5"
  },
  "toc": {
   "base_numbering": 1,
   "nav_menu": {},
   "number_sections": true,
   "sideBar": true,
   "skip_h1_title": true,
   "title_cell": "Содержание",
   "title_sidebar": "Contents",
   "toc_cell": true,
   "toc_position": {
    "height": "calc(100% - 180px)",
    "left": "10px",
    "top": "150px",
    "width": "230.391px"
   },
   "toc_section_display": true,
   "toc_window_display": true
  }
 },
 "nbformat": 4,
 "nbformat_minor": 2
}
