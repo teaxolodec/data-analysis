{
 "cells": [
  {
   "cell_type": "markdown",
   "metadata": {},
   "source": [
    "   *«Самые выдающиеся успехи компаний зависят не столько от решений руководства, сколько от случайных движений всего рынка.»*\n",
    "\n",
    "   -- Рольф Добелли"
   ]
  },
  {
   "cell_type": "markdown",
   "metadata": {},
   "source": [
    "   *«Ядро, по-видимому, умерло. Оно будет перезапущено автоматически.»*\n",
    "\n",
    "   -- jupyterhub"
   ]
  },
  {
   "cell_type": "markdown",
   "metadata": {},
   "source": [
    "# Определение стоимости автомобилей"
   ]
  },
  {
   "cell_type": "markdown",
   "metadata": {},
   "source": [
    "Сервис по продаже автомобилей с пробегом «Не бит, не крашен» разрабатывает приложение для привлечения новых клиентов. В нём можно быстро узнать рыночную стоимость своего автомобиля. В нашем распоряжении исторические данные: технические характеристики, комплектации и цены автомобилей. Построим по этим данным модель для определения стоимости автомобилей с учётом качества предсказаний, и скорости их выдачи."
   ]
  },
  {
   "cell_type": "markdown",
   "metadata": {},
   "source": [
    "## Подготовка данных"
   ]
  },
  {
   "cell_type": "code",
   "execution_count": 2,
   "metadata": {},
   "outputs": [],
   "source": [
    "import numpy as np\n",
    "import pandas as pd\n",
    "from sklearn.preprocessing import OrdinalEncoder\n",
    "from sklearn.metrics import r2_score\n",
    "from math import sqrt\n",
    "\n",
    "import lightgbm as lgb\n",
    "from sklearn.metrics import mean_squared_error\n",
    "\n",
    "from sklearn.ensemble import RandomForestClassifier\n",
    "from sklearn.utils import shuffle\n",
    "from sklearn.metrics import (\n",
    "    f1_score,\n",
    "    roc_auc_score,\n",
    "    accuracy_score\n",
    ")\n",
    "import matplotlib.pyplot as plt\n",
    "\n",
    "import timeit\n",
    "import time"
   ]
  },
  {
   "cell_type": "code",
   "execution_count": 3,
   "metadata": {},
   "outputs": [],
   "source": [
    "data = pd.read_csv('/datasets/autos.csv')"
   ]
  },
  {
   "cell_type": "markdown",
   "metadata": {},
   "source": [
    "Посмотрим на загружаемые данные."
   ]
  },
  {
   "cell_type": "code",
   "execution_count": 4,
   "metadata": {},
   "outputs": [
    {
     "data": {
      "text/html": [
       "<div>\n",
       "<style scoped>\n",
       "    .dataframe tbody tr th:only-of-type {\n",
       "        vertical-align: middle;\n",
       "    }\n",
       "\n",
       "    .dataframe tbody tr th {\n",
       "        vertical-align: top;\n",
       "    }\n",
       "\n",
       "    .dataframe thead th {\n",
       "        text-align: right;\n",
       "    }\n",
       "</style>\n",
       "<table border=\"1\" class=\"dataframe\">\n",
       "  <thead>\n",
       "    <tr style=\"text-align: right;\">\n",
       "      <th></th>\n",
       "      <th>DateCrawled</th>\n",
       "      <th>Price</th>\n",
       "      <th>VehicleType</th>\n",
       "      <th>RegistrationYear</th>\n",
       "      <th>Gearbox</th>\n",
       "      <th>Power</th>\n",
       "      <th>Model</th>\n",
       "      <th>Kilometer</th>\n",
       "      <th>RegistrationMonth</th>\n",
       "      <th>FuelType</th>\n",
       "      <th>Brand</th>\n",
       "      <th>Repaired</th>\n",
       "      <th>DateCreated</th>\n",
       "      <th>NumberOfPictures</th>\n",
       "      <th>PostalCode</th>\n",
       "      <th>LastSeen</th>\n",
       "    </tr>\n",
       "  </thead>\n",
       "  <tbody>\n",
       "    <tr>\n",
       "      <th>0</th>\n",
       "      <td>2016-03-24 11:52:17</td>\n",
       "      <td>480</td>\n",
       "      <td>NaN</td>\n",
       "      <td>1993</td>\n",
       "      <td>manual</td>\n",
       "      <td>0</td>\n",
       "      <td>golf</td>\n",
       "      <td>150000</td>\n",
       "      <td>0</td>\n",
       "      <td>petrol</td>\n",
       "      <td>volkswagen</td>\n",
       "      <td>NaN</td>\n",
       "      <td>2016-03-24 00:00:00</td>\n",
       "      <td>0</td>\n",
       "      <td>70435</td>\n",
       "      <td>2016-04-07 03:16:57</td>\n",
       "    </tr>\n",
       "    <tr>\n",
       "      <th>1</th>\n",
       "      <td>2016-03-24 10:58:45</td>\n",
       "      <td>18300</td>\n",
       "      <td>coupe</td>\n",
       "      <td>2011</td>\n",
       "      <td>manual</td>\n",
       "      <td>190</td>\n",
       "      <td>NaN</td>\n",
       "      <td>125000</td>\n",
       "      <td>5</td>\n",
       "      <td>gasoline</td>\n",
       "      <td>audi</td>\n",
       "      <td>yes</td>\n",
       "      <td>2016-03-24 00:00:00</td>\n",
       "      <td>0</td>\n",
       "      <td>66954</td>\n",
       "      <td>2016-04-07 01:46:50</td>\n",
       "    </tr>\n",
       "    <tr>\n",
       "      <th>2</th>\n",
       "      <td>2016-03-14 12:52:21</td>\n",
       "      <td>9800</td>\n",
       "      <td>suv</td>\n",
       "      <td>2004</td>\n",
       "      <td>auto</td>\n",
       "      <td>163</td>\n",
       "      <td>grand</td>\n",
       "      <td>125000</td>\n",
       "      <td>8</td>\n",
       "      <td>gasoline</td>\n",
       "      <td>jeep</td>\n",
       "      <td>NaN</td>\n",
       "      <td>2016-03-14 00:00:00</td>\n",
       "      <td>0</td>\n",
       "      <td>90480</td>\n",
       "      <td>2016-04-05 12:47:46</td>\n",
       "    </tr>\n",
       "    <tr>\n",
       "      <th>3</th>\n",
       "      <td>2016-03-17 16:54:04</td>\n",
       "      <td>1500</td>\n",
       "      <td>small</td>\n",
       "      <td>2001</td>\n",
       "      <td>manual</td>\n",
       "      <td>75</td>\n",
       "      <td>golf</td>\n",
       "      <td>150000</td>\n",
       "      <td>6</td>\n",
       "      <td>petrol</td>\n",
       "      <td>volkswagen</td>\n",
       "      <td>no</td>\n",
       "      <td>2016-03-17 00:00:00</td>\n",
       "      <td>0</td>\n",
       "      <td>91074</td>\n",
       "      <td>2016-03-17 17:40:17</td>\n",
       "    </tr>\n",
       "    <tr>\n",
       "      <th>4</th>\n",
       "      <td>2016-03-31 17:25:20</td>\n",
       "      <td>3600</td>\n",
       "      <td>small</td>\n",
       "      <td>2008</td>\n",
       "      <td>manual</td>\n",
       "      <td>69</td>\n",
       "      <td>fabia</td>\n",
       "      <td>90000</td>\n",
       "      <td>7</td>\n",
       "      <td>gasoline</td>\n",
       "      <td>skoda</td>\n",
       "      <td>no</td>\n",
       "      <td>2016-03-31 00:00:00</td>\n",
       "      <td>0</td>\n",
       "      <td>60437</td>\n",
       "      <td>2016-04-06 10:17:21</td>\n",
       "    </tr>\n",
       "    <tr>\n",
       "      <th>5</th>\n",
       "      <td>2016-04-04 17:36:23</td>\n",
       "      <td>650</td>\n",
       "      <td>sedan</td>\n",
       "      <td>1995</td>\n",
       "      <td>manual</td>\n",
       "      <td>102</td>\n",
       "      <td>3er</td>\n",
       "      <td>150000</td>\n",
       "      <td>10</td>\n",
       "      <td>petrol</td>\n",
       "      <td>bmw</td>\n",
       "      <td>yes</td>\n",
       "      <td>2016-04-04 00:00:00</td>\n",
       "      <td>0</td>\n",
       "      <td>33775</td>\n",
       "      <td>2016-04-06 19:17:07</td>\n",
       "    </tr>\n",
       "    <tr>\n",
       "      <th>6</th>\n",
       "      <td>2016-04-01 20:48:51</td>\n",
       "      <td>2200</td>\n",
       "      <td>convertible</td>\n",
       "      <td>2004</td>\n",
       "      <td>manual</td>\n",
       "      <td>109</td>\n",
       "      <td>2_reihe</td>\n",
       "      <td>150000</td>\n",
       "      <td>8</td>\n",
       "      <td>petrol</td>\n",
       "      <td>peugeot</td>\n",
       "      <td>no</td>\n",
       "      <td>2016-04-01 00:00:00</td>\n",
       "      <td>0</td>\n",
       "      <td>67112</td>\n",
       "      <td>2016-04-05 18:18:39</td>\n",
       "    </tr>\n",
       "    <tr>\n",
       "      <th>7</th>\n",
       "      <td>2016-03-21 18:54:38</td>\n",
       "      <td>0</td>\n",
       "      <td>sedan</td>\n",
       "      <td>1980</td>\n",
       "      <td>manual</td>\n",
       "      <td>50</td>\n",
       "      <td>other</td>\n",
       "      <td>40000</td>\n",
       "      <td>7</td>\n",
       "      <td>petrol</td>\n",
       "      <td>volkswagen</td>\n",
       "      <td>no</td>\n",
       "      <td>2016-03-21 00:00:00</td>\n",
       "      <td>0</td>\n",
       "      <td>19348</td>\n",
       "      <td>2016-03-25 16:47:58</td>\n",
       "    </tr>\n",
       "    <tr>\n",
       "      <th>8</th>\n",
       "      <td>2016-04-04 23:42:13</td>\n",
       "      <td>14500</td>\n",
       "      <td>bus</td>\n",
       "      <td>2014</td>\n",
       "      <td>manual</td>\n",
       "      <td>125</td>\n",
       "      <td>c_max</td>\n",
       "      <td>30000</td>\n",
       "      <td>8</td>\n",
       "      <td>petrol</td>\n",
       "      <td>ford</td>\n",
       "      <td>NaN</td>\n",
       "      <td>2016-04-04 00:00:00</td>\n",
       "      <td>0</td>\n",
       "      <td>94505</td>\n",
       "      <td>2016-04-04 23:42:13</td>\n",
       "    </tr>\n",
       "    <tr>\n",
       "      <th>9</th>\n",
       "      <td>2016-03-17 10:53:50</td>\n",
       "      <td>999</td>\n",
       "      <td>small</td>\n",
       "      <td>1998</td>\n",
       "      <td>manual</td>\n",
       "      <td>101</td>\n",
       "      <td>golf</td>\n",
       "      <td>150000</td>\n",
       "      <td>0</td>\n",
       "      <td>NaN</td>\n",
       "      <td>volkswagen</td>\n",
       "      <td>NaN</td>\n",
       "      <td>2016-03-17 00:00:00</td>\n",
       "      <td>0</td>\n",
       "      <td>27472</td>\n",
       "      <td>2016-03-31 17:17:06</td>\n",
       "    </tr>\n",
       "  </tbody>\n",
       "</table>\n",
       "</div>"
      ],
      "text/plain": [
       "           DateCrawled  Price  VehicleType  RegistrationYear Gearbox  Power  \\\n",
       "0  2016-03-24 11:52:17    480          NaN              1993  manual      0   \n",
       "1  2016-03-24 10:58:45  18300        coupe              2011  manual    190   \n",
       "2  2016-03-14 12:52:21   9800          suv              2004    auto    163   \n",
       "3  2016-03-17 16:54:04   1500        small              2001  manual     75   \n",
       "4  2016-03-31 17:25:20   3600        small              2008  manual     69   \n",
       "5  2016-04-04 17:36:23    650        sedan              1995  manual    102   \n",
       "6  2016-04-01 20:48:51   2200  convertible              2004  manual    109   \n",
       "7  2016-03-21 18:54:38      0        sedan              1980  manual     50   \n",
       "8  2016-04-04 23:42:13  14500          bus              2014  manual    125   \n",
       "9  2016-03-17 10:53:50    999        small              1998  manual    101   \n",
       "\n",
       "     Model  Kilometer  RegistrationMonth  FuelType       Brand Repaired  \\\n",
       "0     golf     150000                  0    petrol  volkswagen      NaN   \n",
       "1      NaN     125000                  5  gasoline        audi      yes   \n",
       "2    grand     125000                  8  gasoline        jeep      NaN   \n",
       "3     golf     150000                  6    petrol  volkswagen       no   \n",
       "4    fabia      90000                  7  gasoline       skoda       no   \n",
       "5      3er     150000                 10    petrol         bmw      yes   \n",
       "6  2_reihe     150000                  8    petrol     peugeot       no   \n",
       "7    other      40000                  7    petrol  volkswagen       no   \n",
       "8    c_max      30000                  8    petrol        ford      NaN   \n",
       "9     golf     150000                  0       NaN  volkswagen      NaN   \n",
       "\n",
       "           DateCreated  NumberOfPictures  PostalCode             LastSeen  \n",
       "0  2016-03-24 00:00:00                 0       70435  2016-04-07 03:16:57  \n",
       "1  2016-03-24 00:00:00                 0       66954  2016-04-07 01:46:50  \n",
       "2  2016-03-14 00:00:00                 0       90480  2016-04-05 12:47:46  \n",
       "3  2016-03-17 00:00:00                 0       91074  2016-03-17 17:40:17  \n",
       "4  2016-03-31 00:00:00                 0       60437  2016-04-06 10:17:21  \n",
       "5  2016-04-04 00:00:00                 0       33775  2016-04-06 19:17:07  \n",
       "6  2016-04-01 00:00:00                 0       67112  2016-04-05 18:18:39  \n",
       "7  2016-03-21 00:00:00                 0       19348  2016-03-25 16:47:58  \n",
       "8  2016-04-04 00:00:00                 0       94505  2016-04-04 23:42:13  \n",
       "9  2016-03-17 00:00:00                 0       27472  2016-03-31 17:17:06  "
      ]
     },
     "execution_count": 4,
     "metadata": {},
     "output_type": "execute_result"
    }
   ],
   "source": [
    "data.head(10)"
   ]
  },
  {
   "cell_type": "markdown",
   "metadata": {},
   "source": [
    "Для удобства переименуем названия столбцов. Кроме того попытаемся проанализировать, какие из признаков пригодятся для последующего анализа, а какие можно назвать избыточными."
   ]
  },
  {
   "cell_type": "code",
   "execution_count": 5,
   "metadata": {},
   "outputs": [],
   "source": [
    "data = data.rename(columns={'DateCrawled': 'date_d',       # дата скачивания анкеты из базы   [не важен]\n",
    "                            'Price': 'price',              # цена (Евро)                      [целевой признак]\n",
    "                            'VehicleType' : 'cuzov',       # тип автомобильного кузова        [важен]\n",
    "                            'RegistrationYear' : 'year',   # год регистрации автомобиля       [важен?]\n",
    "                            'Gearbox' : 'box',             # тип коробки передач              [важен]\n",
    "                            'Power' : 'n',                 # мощность (л. с.)                 [важен]\n",
    "                            'Model' : 'model',             # модель автомобиля                [важен]\n",
    "                            'Kilometer' : 'km',            # пробег (км)                      [важен]\n",
    "                            'RegistrationMonth' : 'month', # месяц регистрации автомобиля     [не важен?]\n",
    "                            'FuelType' : 'fuel',           # тип топлива                      [важен?]\n",
    "                            'Brand' : 'marka',             # марка автомобиля                 [важен]\n",
    "                            'Repaired' : 'remont',         # была машина в ремонте или нет    [важен]\n",
    "                            'DateCreated' : 'date_m',      # дата создания анкеты             [не важен]\n",
    "                            'NumberOfPictures' : 'photo',  # количество фотографий автомобиля [не важен]\n",
    "                            'PostalCode' : 'index',        # почтовый индекс пользователя     [не важен]\n",
    "                            'LastSeen' : 'date_l'          # дата последней активности        [не важен]\n",
    "                           })"
   ]
  },
  {
   "cell_type": "markdown",
   "metadata": {},
   "source": [
    "Поскольку задачей данного анализа является разработать алгорим для не встраимового в сервис по продаже автомобилей, то у данного алгоритма на этапе предсказания не будет информации о датах скачивания анкеты из базы, количестве фотографий пользователя, почтовом индексе и дате последней активности. Важность информации о дате регистрации автомобиля (предположим, речь идёт о регистрациив ГИБДД) является спорной, но для определённости будем считать важным год, но не месяц регистрации.\n",
    "\n",
    "Исключим избыточную информацию из данных."
   ]
  },
  {
   "cell_type": "code",
   "execution_count": 6,
   "metadata": {},
   "outputs": [],
   "source": [
    "data = data.drop(columns=['date_d', 'month', 'photo', 'index', 'date_l', 'date_m'])"
   ]
  },
  {
   "cell_type": "markdown",
   "metadata": {},
   "source": [
    "Заменим отремонтированные автомобили на 1, неремонтированные автомобили на -1, те автомобили про которые нет информации о ремонте отметим 0 (полагаю, многие пользователи не будут точно знать о наличии ремонта, поэтому этот вариант будет доступен на этапе предсказания)"
   ]
  },
  {
   "cell_type": "code",
   "execution_count": 7,
   "metadata": {},
   "outputs": [],
   "source": [
    "data.loc[data['remont'] == 'yes', 'remont'] = 1\n",
    "data.loc[data['remont'] == 'no', 'remont'] = -1\n",
    "data['remont'] = data['remont'].fillna(0)"
   ]
  },
  {
   "cell_type": "markdown",
   "metadata": {},
   "source": [
    "Заметим, что данных об отремонтированных машинах всего 10%, что несколько странно для \"сервиса по продаже автомобилей с пробегом\"."
   ]
  },
  {
   "cell_type": "code",
   "execution_count": 8,
   "metadata": {},
   "outputs": [
    {
     "data": {
      "text/plain": [
       "0.10174140514548395"
      ]
     },
     "execution_count": 8,
     "metadata": {},
     "output_type": "execute_result"
    }
   ],
   "source": [
    "data.loc[data['remont'] == 1, 'price'].count() / data['price'].count()"
   ]
  },
  {
   "cell_type": "markdown",
   "metadata": {},
   "source": [
    "Среди исходных данных почти в 10% не указан тип топлива и кузова, а в 5% не указан тип модели."
   ]
  },
  {
   "cell_type": "code",
   "execution_count": 9,
   "metadata": {},
   "outputs": [
    {
     "data": {
      "text/plain": [
       "petrol      0.610527\n",
       "gasoline    0.278580\n",
       "NaN         0.092827\n",
       "lpg         0.014984\n",
       "cng         0.001594\n",
       "hybrid      0.000658\n",
       "other       0.000576\n",
       "electric    0.000254\n",
       "Name: fuel, dtype: float64"
      ]
     },
     "execution_count": 9,
     "metadata": {},
     "output_type": "execute_result"
    }
   ],
   "source": [
    "data['fuel'].value_counts(dropna=False) / data['price'].count()"
   ]
  },
  {
   "cell_type": "code",
   "execution_count": 10,
   "metadata": {},
   "outputs": [
    {
     "data": {
      "text/plain": [
       "golf                  0.082490\n",
       "other                 0.068914\n",
       "3er                   0.055764\n",
       "NaN                   0.055606\n",
       "polo                  0.036871\n",
       "                        ...   \n",
       "i3                    0.000023\n",
       "rangerover            0.000011\n",
       "serie_3               0.000011\n",
       "serie_1               0.000006\n",
       "range_rover_evoque    0.000006\n",
       "Name: model, Length: 251, dtype: float64"
      ]
     },
     "execution_count": 10,
     "metadata": {},
     "output_type": "execute_result"
    }
   ],
   "source": [
    "data['model'].value_counts(dropna=False) / data['price'].count()"
   ]
  },
  {
   "cell_type": "code",
   "execution_count": 11,
   "metadata": {},
   "outputs": [
    {
     "data": {
      "text/plain": [
       "sedan          0.258084\n",
       "small          0.225276\n",
       "wagon          0.183893\n",
       "NaN            0.105794\n",
       "bus            0.081201\n",
       "convertible    0.057011\n",
       "coupe          0.045611\n",
       "suv            0.033852\n",
       "other          0.009278\n",
       "Name: cuzov, dtype: float64"
      ]
     },
     "execution_count": 11,
     "metadata": {},
     "output_type": "execute_result"
    }
   ],
   "source": [
    "data['cuzov'].value_counts(dropna=False) / data['price'].count()"
   ]
  },
  {
   "cell_type": "markdown",
   "metadata": {},
   "source": [
    "Присвоим отсутсвующим данным значение `other`."
   ]
  },
  {
   "cell_type": "code",
   "execution_count": 12,
   "metadata": {},
   "outputs": [],
   "source": [
    "data.loc[data['fuel'].isna(), 'fuel'] = 'other'\n",
    "data.loc[data['model'].isna(), 'model'] = 'other'\n",
    "data.loc[data['cuzov'].isna(), 'cuzov'] = 'other'"
   ]
  },
  {
   "cell_type": "markdown",
   "metadata": {},
   "source": [
    "Кроме того, предположим, что машин без коробки передач не бывает."
   ]
  },
  {
   "cell_type": "code",
   "execution_count": 13,
   "metadata": {},
   "outputs": [
    {
     "data": {
      "text/plain": [
       "manual    0.756982\n",
       "auto      0.187051\n",
       "NaN       0.055967\n",
       "Name: box, dtype: float64"
      ]
     },
     "execution_count": 13,
     "metadata": {},
     "output_type": "execute_result"
    }
   ],
   "source": [
    "data['box'].value_counts(dropna=False) / data['price'].count()"
   ]
  },
  {
   "cell_type": "code",
   "execution_count": 14,
   "metadata": {},
   "outputs": [],
   "source": [
    "#data = data.loc[data['box'].isna() == False]\n",
    "data.loc[data['box'].isna(), 'box'] = 'other'"
   ]
  },
  {
   "cell_type": "markdown",
   "metadata": {},
   "source": [
    "Существуют данные о бесплатных и сверх дешёвых автомобилях, предположим, что эти строки стали результатом некой технической ошибки и удалим их из дальнейшего рассмотрения."
   ]
  },
  {
   "cell_type": "code",
   "execution_count": 15,
   "metadata": {},
   "outputs": [
    {
     "data": {
      "text/plain": [
       "0.03505667820830829"
      ]
     },
     "execution_count": 15,
     "metadata": {},
     "output_type": "execute_result"
    }
   ],
   "source": [
    "data.loc[data['price'] < 50, 'price'].count() / data['price'].count()"
   ]
  },
  {
   "cell_type": "code",
   "execution_count": 16,
   "metadata": {},
   "outputs": [],
   "source": [
    "data = data.loc[data['price'] >= 50]"
   ]
  },
  {
   "cell_type": "markdown",
   "metadata": {},
   "source": [
    "Существуют строки с автомобилями пониженой и наоборот, неоправданно завышенной (больше мощности самого мощного двигателя в мире) мощности. Также предположим, что автомобилей с такой мощностью быть не может и удалим такие данные из рассмотрения."
   ]
  },
  {
   "cell_type": "code",
   "execution_count": 17,
   "metadata": {},
   "outputs": [
    {
     "data": {
      "text/plain": [
       "0.10694378644581308"
      ]
     },
     "execution_count": 17,
     "metadata": {},
     "output_type": "execute_result"
    }
   ],
   "source": [
    "data.loc[(data['n'] < 20) | (data['n'] > 421), 'price'].count() / data['price'].count()"
   ]
  },
  {
   "cell_type": "code",
   "execution_count": 18,
   "metadata": {},
   "outputs": [],
   "source": [
    "data = data.loc[(data['n'] >= 20) & (data['n'] <= 421)]"
   ]
  },
  {
   "cell_type": "markdown",
   "metadata": {},
   "source": [
    "Существуют машины поставленные на регистрацию в будущем или далёком прошлом. Оставим только те строки в которых указан год между 1960 и позжнейшей датой выгрузки."
   ]
  },
  {
   "cell_type": "code",
   "execution_count": 19,
   "metadata": {},
   "outputs": [],
   "source": [
    "data = data[(data['year'] > 1960) & (data['year'] < 2016)]"
   ]
  },
  {
   "cell_type": "markdown",
   "metadata": {},
   "source": [
    "Обновим индексы и посмотрим на финальную форму наших данных."
   ]
  },
  {
   "cell_type": "code",
   "execution_count": 20,
   "metadata": {},
   "outputs": [],
   "source": [
    "data = data.reset_index(drop=True)"
   ]
  },
  {
   "cell_type": "code",
   "execution_count": 21,
   "metadata": {},
   "outputs": [
    {
     "data": {
      "text/html": [
       "<div>\n",
       "<style scoped>\n",
       "    .dataframe tbody tr th:only-of-type {\n",
       "        vertical-align: middle;\n",
       "    }\n",
       "\n",
       "    .dataframe tbody tr th {\n",
       "        vertical-align: top;\n",
       "    }\n",
       "\n",
       "    .dataframe thead th {\n",
       "        text-align: right;\n",
       "    }\n",
       "</style>\n",
       "<table border=\"1\" class=\"dataframe\">\n",
       "  <thead>\n",
       "    <tr style=\"text-align: right;\">\n",
       "      <th></th>\n",
       "      <th>price</th>\n",
       "      <th>cuzov</th>\n",
       "      <th>year</th>\n",
       "      <th>box</th>\n",
       "      <th>n</th>\n",
       "      <th>model</th>\n",
       "      <th>km</th>\n",
       "      <th>fuel</th>\n",
       "      <th>marka</th>\n",
       "      <th>remont</th>\n",
       "    </tr>\n",
       "  </thead>\n",
       "  <tbody>\n",
       "    <tr>\n",
       "      <th>0</th>\n",
       "      <td>18300</td>\n",
       "      <td>coupe</td>\n",
       "      <td>2011</td>\n",
       "      <td>manual</td>\n",
       "      <td>190</td>\n",
       "      <td>other</td>\n",
       "      <td>125000</td>\n",
       "      <td>gasoline</td>\n",
       "      <td>audi</td>\n",
       "      <td>1</td>\n",
       "    </tr>\n",
       "    <tr>\n",
       "      <th>1</th>\n",
       "      <td>9800</td>\n",
       "      <td>suv</td>\n",
       "      <td>2004</td>\n",
       "      <td>auto</td>\n",
       "      <td>163</td>\n",
       "      <td>grand</td>\n",
       "      <td>125000</td>\n",
       "      <td>gasoline</td>\n",
       "      <td>jeep</td>\n",
       "      <td>0</td>\n",
       "    </tr>\n",
       "    <tr>\n",
       "      <th>2</th>\n",
       "      <td>1500</td>\n",
       "      <td>small</td>\n",
       "      <td>2001</td>\n",
       "      <td>manual</td>\n",
       "      <td>75</td>\n",
       "      <td>golf</td>\n",
       "      <td>150000</td>\n",
       "      <td>petrol</td>\n",
       "      <td>volkswagen</td>\n",
       "      <td>-1</td>\n",
       "    </tr>\n",
       "    <tr>\n",
       "      <th>3</th>\n",
       "      <td>3600</td>\n",
       "      <td>small</td>\n",
       "      <td>2008</td>\n",
       "      <td>manual</td>\n",
       "      <td>69</td>\n",
       "      <td>fabia</td>\n",
       "      <td>90000</td>\n",
       "      <td>gasoline</td>\n",
       "      <td>skoda</td>\n",
       "      <td>-1</td>\n",
       "    </tr>\n",
       "    <tr>\n",
       "      <th>4</th>\n",
       "      <td>650</td>\n",
       "      <td>sedan</td>\n",
       "      <td>1995</td>\n",
       "      <td>manual</td>\n",
       "      <td>102</td>\n",
       "      <td>3er</td>\n",
       "      <td>150000</td>\n",
       "      <td>petrol</td>\n",
       "      <td>bmw</td>\n",
       "      <td>1</td>\n",
       "    </tr>\n",
       "    <tr>\n",
       "      <th>5</th>\n",
       "      <td>2200</td>\n",
       "      <td>convertible</td>\n",
       "      <td>2004</td>\n",
       "      <td>manual</td>\n",
       "      <td>109</td>\n",
       "      <td>2_reihe</td>\n",
       "      <td>150000</td>\n",
       "      <td>petrol</td>\n",
       "      <td>peugeot</td>\n",
       "      <td>-1</td>\n",
       "    </tr>\n",
       "    <tr>\n",
       "      <th>6</th>\n",
       "      <td>14500</td>\n",
       "      <td>bus</td>\n",
       "      <td>2014</td>\n",
       "      <td>manual</td>\n",
       "      <td>125</td>\n",
       "      <td>c_max</td>\n",
       "      <td>30000</td>\n",
       "      <td>petrol</td>\n",
       "      <td>ford</td>\n",
       "      <td>0</td>\n",
       "    </tr>\n",
       "    <tr>\n",
       "      <th>7</th>\n",
       "      <td>999</td>\n",
       "      <td>small</td>\n",
       "      <td>1998</td>\n",
       "      <td>manual</td>\n",
       "      <td>101</td>\n",
       "      <td>golf</td>\n",
       "      <td>150000</td>\n",
       "      <td>other</td>\n",
       "      <td>volkswagen</td>\n",
       "      <td>0</td>\n",
       "    </tr>\n",
       "    <tr>\n",
       "      <th>8</th>\n",
       "      <td>2000</td>\n",
       "      <td>sedan</td>\n",
       "      <td>2004</td>\n",
       "      <td>manual</td>\n",
       "      <td>105</td>\n",
       "      <td>3_reihe</td>\n",
       "      <td>150000</td>\n",
       "      <td>petrol</td>\n",
       "      <td>mazda</td>\n",
       "      <td>-1</td>\n",
       "    </tr>\n",
       "    <tr>\n",
       "      <th>9</th>\n",
       "      <td>2799</td>\n",
       "      <td>wagon</td>\n",
       "      <td>2005</td>\n",
       "      <td>manual</td>\n",
       "      <td>140</td>\n",
       "      <td>passat</td>\n",
       "      <td>150000</td>\n",
       "      <td>gasoline</td>\n",
       "      <td>volkswagen</td>\n",
       "      <td>1</td>\n",
       "    </tr>\n",
       "  </tbody>\n",
       "</table>\n",
       "</div>"
      ],
      "text/plain": [
       "   price        cuzov  year     box    n    model      km      fuel  \\\n",
       "0  18300        coupe  2011  manual  190    other  125000  gasoline   \n",
       "1   9800          suv  2004    auto  163    grand  125000  gasoline   \n",
       "2   1500        small  2001  manual   75     golf  150000    petrol   \n",
       "3   3600        small  2008  manual   69    fabia   90000  gasoline   \n",
       "4    650        sedan  1995  manual  102      3er  150000    petrol   \n",
       "5   2200  convertible  2004  manual  109  2_reihe  150000    petrol   \n",
       "6  14500          bus  2014  manual  125    c_max   30000    petrol   \n",
       "7    999        small  1998  manual  101     golf  150000     other   \n",
       "8   2000        sedan  2004  manual  105  3_reihe  150000    petrol   \n",
       "9   2799        wagon  2005  manual  140   passat  150000  gasoline   \n",
       "\n",
       "        marka  remont  \n",
       "0        audi       1  \n",
       "1        jeep       0  \n",
       "2  volkswagen      -1  \n",
       "3       skoda      -1  \n",
       "4         bmw       1  \n",
       "5     peugeot      -1  \n",
       "6        ford       0  \n",
       "7  volkswagen       0  \n",
       "8       mazda      -1  \n",
       "9  volkswagen       1  "
      ]
     },
     "execution_count": 21,
     "metadata": {},
     "output_type": "execute_result"
    }
   ],
   "source": [
    "data.head(10)"
   ]
  },
  {
   "cell_type": "code",
   "execution_count": 22,
   "metadata": {},
   "outputs": [
    {
     "name": "stdout",
     "output_type": "stream",
     "text": [
      "<class 'pandas.core.frame.DataFrame'>\n",
      "RangeIndex: 288649 entries, 0 to 288648\n",
      "Data columns (total 10 columns):\n",
      " #   Column  Non-Null Count   Dtype \n",
      "---  ------  --------------   ----- \n",
      " 0   price   288649 non-null  int64 \n",
      " 1   cuzov   288649 non-null  object\n",
      " 2   year    288649 non-null  int64 \n",
      " 3   box     288649 non-null  object\n",
      " 4   n       288649 non-null  int64 \n",
      " 5   model   288649 non-null  object\n",
      " 6   km      288649 non-null  int64 \n",
      " 7   fuel    288649 non-null  object\n",
      " 8   marka   288649 non-null  object\n",
      " 9   remont  288649 non-null  int64 \n",
      "dtypes: int64(5), object(5)\n",
      "memory usage: 22.0+ MB\n"
     ]
    }
   ],
   "source": [
    "data.info()"
   ]
  },
  {
   "cell_type": "markdown",
   "metadata": {},
   "source": [
    "Можно заметить, что в указанных данных есть небольшая положительная кореляция между годом и ценой, чуть меньшая положительная кореляция между годом и мощностью, а также слабые отрицательные кореляции между пробегом и ценой и пробегом и годом."
   ]
  },
  {
   "cell_type": "code",
   "execution_count": 23,
   "metadata": {},
   "outputs": [
    {
     "data": {
      "text/html": [
       "<div>\n",
       "<style scoped>\n",
       "    .dataframe tbody tr th:only-of-type {\n",
       "        vertical-align: middle;\n",
       "    }\n",
       "\n",
       "    .dataframe tbody tr th {\n",
       "        vertical-align: top;\n",
       "    }\n",
       "\n",
       "    .dataframe thead th {\n",
       "        text-align: right;\n",
       "    }\n",
       "</style>\n",
       "<table border=\"1\" class=\"dataframe\">\n",
       "  <thead>\n",
       "    <tr style=\"text-align: right;\">\n",
       "      <th></th>\n",
       "      <th>price</th>\n",
       "      <th>year</th>\n",
       "      <th>n</th>\n",
       "      <th>km</th>\n",
       "      <th>remont</th>\n",
       "    </tr>\n",
       "  </thead>\n",
       "  <tbody>\n",
       "    <tr>\n",
       "      <th>price</th>\n",
       "      <td>1.000000</td>\n",
       "      <td>0.553674</td>\n",
       "      <td>0.509967</td>\n",
       "      <td>-0.389580</td>\n",
       "      <td>-0.256381</td>\n",
       "    </tr>\n",
       "    <tr>\n",
       "      <th>year</th>\n",
       "      <td>0.553674</td>\n",
       "      <td>1.000000</td>\n",
       "      <td>0.160948</td>\n",
       "      <td>-0.332481</td>\n",
       "      <td>-0.171726</td>\n",
       "    </tr>\n",
       "    <tr>\n",
       "      <th>n</th>\n",
       "      <td>0.509967</td>\n",
       "      <td>0.160948</td>\n",
       "      <td>1.000000</td>\n",
       "      <td>0.106698</td>\n",
       "      <td>-0.076860</td>\n",
       "    </tr>\n",
       "    <tr>\n",
       "      <th>km</th>\n",
       "      <td>-0.389580</td>\n",
       "      <td>-0.332481</td>\n",
       "      <td>0.106698</td>\n",
       "      <td>1.000000</td>\n",
       "      <td>0.106807</td>\n",
       "    </tr>\n",
       "    <tr>\n",
       "      <th>remont</th>\n",
       "      <td>-0.256381</td>\n",
       "      <td>-0.171726</td>\n",
       "      <td>-0.076860</td>\n",
       "      <td>0.106807</td>\n",
       "      <td>1.000000</td>\n",
       "    </tr>\n",
       "  </tbody>\n",
       "</table>\n",
       "</div>"
      ],
      "text/plain": [
       "           price      year         n        km    remont\n",
       "price   1.000000  0.553674  0.509967 -0.389580 -0.256381\n",
       "year    0.553674  1.000000  0.160948 -0.332481 -0.171726\n",
       "n       0.509967  0.160948  1.000000  0.106698 -0.076860\n",
       "km     -0.389580 -0.332481  0.106698  1.000000  0.106807\n",
       "remont -0.256381 -0.171726 -0.076860  0.106807  1.000000"
      ]
     },
     "execution_count": 23,
     "metadata": {},
     "output_type": "execute_result"
    }
   ],
   "source": [
    "data.corr()"
   ]
  },
  {
   "cell_type": "code",
   "execution_count": 24,
   "metadata": {
    "scrolled": false
   },
   "outputs": [
    {
     "data": {
      "text/plain": [
       "array([[<AxesSubplot:title={'center':'price'}>,\n",
       "        <AxesSubplot:title={'center':'year'}>],\n",
       "       [<AxesSubplot:title={'center':'n'}>,\n",
       "        <AxesSubplot:title={'center':'km'}>],\n",
       "       [<AxesSubplot:title={'center':'remont'}>, <AxesSubplot:>]],\n",
       "      dtype=object)"
      ]
     },
     "execution_count": 24,
     "metadata": {},
     "output_type": "execute_result"
    },
    {
     "data": {
      "image/png": "[encoded data removed]",
      "text/plain": [
       "<Figure size 1080x1440 with 6 Axes>"
      ]
     },
     "metadata": {
      "needs_background": "light"
     },
     "output_type": "display_data"
    }
   ],
   "source": [
    "data.hist(bins=20, figsize=(15, 20), grid=False)"
   ]
  },
  {
   "cell_type": "markdown",
   "metadata": {},
   "source": [
    "## Обучение моделей"
   ]
  },
  {
   "cell_type": "markdown",
   "metadata": {},
   "source": [
    "Поскольку обучение работает только с типом данных `float`, приведём все данные к этому виду, используя метод порядкового кодирования при работе со строковыми данными."
   ]
  },
  {
   "cell_type": "code",
   "execution_count": 25,
   "metadata": {},
   "outputs": [],
   "source": [
    "df = data.drop(['cuzov', 'box', 'model', 'fuel', 'marka'], axis=1).astype(float)"
   ]
  },
  {
   "cell_type": "code",
   "execution_count": 26,
   "metadata": {},
   "outputs": [],
   "source": [
    "encoder = OrdinalEncoder()\n",
    "encoder.fit(data.loc[:, ['cuzov', 'box', 'model', 'fuel', 'marka']])\n",
    "df = df.join(\n",
    "    pd.DataFrame(encoder.fit_transform(data.loc[:, ['cuzov', 'box', 'model', 'fuel', 'marka']]), columns=['cuzov', 'box', 'model', 'fuel', 'marka'])\n",
    ")"
   ]
  },
  {
   "cell_type": "markdown",
   "metadata": {},
   "source": [
    "---"
   ]
  },
  {
   "cell_type": "markdown",
   "metadata": {},
   "source": [
    "Целевым признаком в нашем исследовании является цена автомобиля. Отделим целевые признаки от нецелевых."
   ]
  },
  {
   "cell_type": "code",
   "execution_count": 27,
   "metadata": {},
   "outputs": [],
   "source": [
    "f = df.drop('price', axis=1)\n",
    "t = df['price']"
   ]
  },
  {
   "cell_type": "markdown",
   "metadata": {},
   "source": [
    "Разделим исходные данные на обучающую, валидационную и тестовую выборки в соотношение 3:1:1 (60%:20%:20%)."
   ]
  },
  {
   "cell_type": "code",
   "execution_count": 28,
   "metadata": {},
   "outputs": [],
   "source": [
    "rrrr = 42 # random_state\n",
    "\n",
    "# разбиение признаков\n",
    "f_trn, f_vld, f_tst = \\\n",
    "              np.split(f.sample(frac=1, random_state=rrrr), \n",
    "                       [int(.6*len(f)), int(.8*len(f))])\n",
    "\n",
    "# разбиение целевого признака\n",
    "t_trn, t_vld, t_tst = \\\n",
    "              np.split(t.sample(frac=1, random_state=rrrr), \n",
    "                       [int(.6*len(t)), int(.8*len(t))])"
   ]
  },
  {
   "cell_type": "markdown",
   "metadata": {},
   "source": [
    "Индексы у выборок совпадают."
   ]
  },
  {
   "cell_type": "code",
   "execution_count": 29,
   "metadata": {},
   "outputs": [
    {
     "data": {
      "text/html": [
       "<div>\n",
       "<style scoped>\n",
       "    .dataframe tbody tr th:only-of-type {\n",
       "        vertical-align: middle;\n",
       "    }\n",
       "\n",
       "    .dataframe tbody tr th {\n",
       "        vertical-align: top;\n",
       "    }\n",
       "\n",
       "    .dataframe thead th {\n",
       "        text-align: right;\n",
       "    }\n",
       "</style>\n",
       "<table border=\"1\" class=\"dataframe\">\n",
       "  <thead>\n",
       "    <tr style=\"text-align: right;\">\n",
       "      <th></th>\n",
       "      <th>year</th>\n",
       "      <th>n</th>\n",
       "      <th>km</th>\n",
       "      <th>remont</th>\n",
       "      <th>cuzov</th>\n",
       "      <th>box</th>\n",
       "      <th>model</th>\n",
       "      <th>fuel</th>\n",
       "      <th>marka</th>\n",
       "    </tr>\n",
       "  </thead>\n",
       "  <tbody>\n",
       "    <tr>\n",
       "      <th>213789</th>\n",
       "      <td>2004.0</td>\n",
       "      <td>82.0</td>\n",
       "      <td>150000.0</td>\n",
       "      <td>-1.0</td>\n",
       "      <td>6.0</td>\n",
       "      <td>1.0</td>\n",
       "      <td>160.0</td>\n",
       "      <td>4.0</td>\n",
       "      <td>16.0</td>\n",
       "    </tr>\n",
       "    <tr>\n",
       "      <th>264499</th>\n",
       "      <td>1997.0</td>\n",
       "      <td>75.0</td>\n",
       "      <td>150000.0</td>\n",
       "      <td>0.0</td>\n",
       "      <td>7.0</td>\n",
       "      <td>0.0</td>\n",
       "      <td>42.0</td>\n",
       "      <td>6.0</td>\n",
       "      <td>24.0</td>\n",
       "    </tr>\n",
       "    <tr>\n",
       "      <th>265339</th>\n",
       "      <td>1997.0</td>\n",
       "      <td>60.0</td>\n",
       "      <td>150000.0</td>\n",
       "      <td>-1.0</td>\n",
       "      <td>5.0</td>\n",
       "      <td>0.0</td>\n",
       "      <td>83.0</td>\n",
       "      <td>6.0</td>\n",
       "      <td>24.0</td>\n",
       "    </tr>\n",
       "    <tr>\n",
       "      <th>220275</th>\n",
       "      <td>2006.0</td>\n",
       "      <td>230.0</td>\n",
       "      <td>90000.0</td>\n",
       "      <td>-1.0</td>\n",
       "      <td>4.0</td>\n",
       "      <td>1.0</td>\n",
       "      <td>15.0</td>\n",
       "      <td>6.0</td>\n",
       "      <td>2.0</td>\n",
       "    </tr>\n",
       "    <tr>\n",
       "      <th>112644</th>\n",
       "      <td>2006.0</td>\n",
       "      <td>80.0</td>\n",
       "      <td>80000.0</td>\n",
       "      <td>-1.0</td>\n",
       "      <td>5.0</td>\n",
       "      <td>1.0</td>\n",
       "      <td>102.0</td>\n",
       "      <td>6.0</td>\n",
       "      <td>10.0</td>\n",
       "    </tr>\n",
       "    <tr>\n",
       "      <th>146311</th>\n",
       "      <td>2004.0</td>\n",
       "      <td>60.0</td>\n",
       "      <td>150000.0</td>\n",
       "      <td>-1.0</td>\n",
       "      <td>5.0</td>\n",
       "      <td>1.0</td>\n",
       "      <td>102.0</td>\n",
       "      <td>6.0</td>\n",
       "      <td>10.0</td>\n",
       "    </tr>\n",
       "    <tr>\n",
       "      <th>44848</th>\n",
       "      <td>2001.0</td>\n",
       "      <td>60.0</td>\n",
       "      <td>150000.0</td>\n",
       "      <td>1.0</td>\n",
       "      <td>5.0</td>\n",
       "      <td>1.0</td>\n",
       "      <td>246.0</td>\n",
       "      <td>6.0</td>\n",
       "      <td>17.0</td>\n",
       "    </tr>\n",
       "    <tr>\n",
       "      <th>20858</th>\n",
       "      <td>2007.0</td>\n",
       "      <td>218.0</td>\n",
       "      <td>150000.0</td>\n",
       "      <td>-1.0</td>\n",
       "      <td>6.0</td>\n",
       "      <td>0.0</td>\n",
       "      <td>166.0</td>\n",
       "      <td>2.0</td>\n",
       "      <td>14.0</td>\n",
       "    </tr>\n",
       "    <tr>\n",
       "      <th>276607</th>\n",
       "      <td>1996.0</td>\n",
       "      <td>136.0</td>\n",
       "      <td>150000.0</td>\n",
       "      <td>-1.0</td>\n",
       "      <td>4.0</td>\n",
       "      <td>1.0</td>\n",
       "      <td>95.0</td>\n",
       "      <td>6.0</td>\n",
       "      <td>20.0</td>\n",
       "    </tr>\n",
       "    <tr>\n",
       "      <th>142250</th>\n",
       "      <td>2006.0</td>\n",
       "      <td>105.0</td>\n",
       "      <td>150000.0</td>\n",
       "      <td>-1.0</td>\n",
       "      <td>7.0</td>\n",
       "      <td>1.0</td>\n",
       "      <td>42.0</td>\n",
       "      <td>6.0</td>\n",
       "      <td>24.0</td>\n",
       "    </tr>\n",
       "  </tbody>\n",
       "</table>\n",
       "</div>"
      ],
      "text/plain": [
       "          year      n        km  remont  cuzov  box  model  fuel  marka\n",
       "213789  2004.0   82.0  150000.0    -1.0    6.0  1.0  160.0   4.0   16.0\n",
       "264499  1997.0   75.0  150000.0     0.0    7.0  0.0   42.0   6.0   24.0\n",
       "265339  1997.0   60.0  150000.0    -1.0    5.0  0.0   83.0   6.0   24.0\n",
       "220275  2006.0  230.0   90000.0    -1.0    4.0  1.0   15.0   6.0    2.0\n",
       "112644  2006.0   80.0   80000.0    -1.0    5.0  1.0  102.0   6.0   10.0\n",
       "146311  2004.0   60.0  150000.0    -1.0    5.0  1.0  102.0   6.0   10.0\n",
       "44848   2001.0   60.0  150000.0     1.0    5.0  1.0  246.0   6.0   17.0\n",
       "20858   2007.0  218.0  150000.0    -1.0    6.0  0.0  166.0   2.0   14.0\n",
       "276607  1996.0  136.0  150000.0    -1.0    4.0  1.0   95.0   6.0   20.0\n",
       "142250  2006.0  105.0  150000.0    -1.0    7.0  1.0   42.0   6.0   24.0"
      ]
     },
     "execution_count": 29,
     "metadata": {},
     "output_type": "execute_result"
    }
   ],
   "source": [
    "f_trn.head(10)"
   ]
  },
  {
   "cell_type": "code",
   "execution_count": 30,
   "metadata": {},
   "outputs": [
    {
     "data": {
      "text/plain": [
       "213789     2490.0\n",
       "264499      850.0\n",
       "265339      700.0\n",
       "220275    19900.0\n",
       "112644     3000.0\n",
       "146311      980.0\n",
       "44848       200.0\n",
       "20858     16500.0\n",
       "276607     1700.0\n",
       "142250     3450.0\n",
       "Name: price, dtype: float64"
      ]
     },
     "execution_count": 30,
     "metadata": {},
     "output_type": "execute_result"
    }
   ],
   "source": [
    "t_trn.head(10)"
   ]
  },
  {
   "cell_type": "markdown",
   "metadata": {},
   "source": [
    "---"
   ]
  },
  {
   "cell_type": "markdown",
   "metadata": {},
   "source": [
    "### LightGBM"
   ]
  },
  {
   "cell_type": "markdown",
   "metadata": {},
   "source": [
    "Также обучим модель методом `LightGBM`, для этого переберём модели с разным количеством деревьев и найдём лучшую из них."
   ]
  },
  {
   "cell_type": "code",
   "execution_count": 31,
   "metadata": {},
   "outputs": [
    {
     "name": "stdout",
     "output_type": "stream",
     "text": [
      "28 22\n",
      "[LightGBM] [Warning] Auto-choosing row-wise multi-threading, the overhead of testing was 0.299657 seconds.\n",
      "You can set `force_row_wise=true` to remove the overhead.\n",
      "And if memory is not enough, you can set `force_col_wise=true`.\n",
      "Training until validation scores don't improve for 5 rounds\n",
      "Did not meet early stopping. Best iteration is:\n",
      "[22]\tvalid_0's l2: 6.44858e+06\tvalid_0's l1: 1876.25\n",
      "28 23\n",
      "[LightGBM] [Warning] Auto-choosing row-wise multi-threading, the overhead of testing was 0.382362 seconds.\n",
      "You can set `force_row_wise=true` to remove the overhead.\n",
      "And if memory is not enough, you can set `force_col_wise=true`.\n",
      "Training until validation scores don't improve for 5 rounds\n",
      "Did not meet early stopping. Best iteration is:\n",
      "[23]\tvalid_0's l2: 6.23345e+06\tvalid_0's l1: 1838.32\n",
      "28 24\n",
      "[LightGBM] [Warning] Auto-choosing col-wise multi-threading, the overhead of testing was 0.289047 seconds.\n",
      "You can set `force_col_wise=true` to remove the overhead.\n",
      "Training until validation scores don't improve for 5 rounds\n",
      "Did not meet early stopping. Best iteration is:\n",
      "[24]\tvalid_0's l2: 6.04241e+06\tvalid_0's l1: 1802.74\n",
      "29 22\n",
      "[LightGBM] [Warning] Auto-choosing col-wise multi-threading, the overhead of testing was 0.088997 seconds.\n",
      "You can set `force_col_wise=true` to remove the overhead.\n",
      "Training until validation scores don't improve for 5 rounds\n",
      "Did not meet early stopping. Best iteration is:\n",
      "[22]\tvalid_0's l2: 6.4145e+06\tvalid_0's l1: 1870.57\n",
      "29 23\n",
      "[LightGBM] [Warning] Auto-choosing col-wise multi-threading, the overhead of testing was 0.301676 seconds.\n",
      "You can set `force_col_wise=true` to remove the overhead.\n",
      "Training until validation scores don't improve for 5 rounds\n",
      "Did not meet early stopping. Best iteration is:\n",
      "[23]\tvalid_0's l2: 6.19814e+06\tvalid_0's l1: 1832.13\n",
      "29 24\n",
      "[LightGBM] [Warning] Auto-choosing row-wise multi-threading, the overhead of testing was 0.110486 seconds.\n",
      "You can set `force_row_wise=true` to remove the overhead.\n",
      "And if memory is not enough, you can set `force_col_wise=true`.\n",
      "Training until validation scores don't improve for 5 rounds\n",
      "Did not meet early stopping. Best iteration is:\n",
      "[24]\tvalid_0's l2: 6.00728e+06\tvalid_0's l1: 1796.22\n",
      "30 22\n",
      "[LightGBM] [Warning] Auto-choosing row-wise multi-threading, the overhead of testing was 0.195427 seconds.\n",
      "You can set `force_row_wise=true` to remove the overhead.\n",
      "And if memory is not enough, you can set `force_col_wise=true`.\n",
      "Training until validation scores don't improve for 5 rounds\n",
      "Did not meet early stopping. Best iteration is:\n",
      "[22]\tvalid_0's l2: 6.39898e+06\tvalid_0's l1: 1867.65\n",
      "30 23\n",
      "[LightGBM] [Warning] Auto-choosing row-wise multi-threading, the overhead of testing was 0.396784 seconds.\n",
      "You can set `force_row_wise=true` to remove the overhead.\n",
      "And if memory is not enough, you can set `force_col_wise=true`.\n",
      "Training until validation scores don't improve for 5 rounds\n",
      "Did not meet early stopping. Best iteration is:\n",
      "[23]\tvalid_0's l2: 6.18362e+06\tvalid_0's l1: 1829.52\n",
      "30 24\n",
      "[LightGBM] [Warning] Auto-choosing row-wise multi-threading, the overhead of testing was 0.130293 seconds.\n",
      "You can set `force_row_wise=true` to remove the overhead.\n",
      "And if memory is not enough, you can set `force_col_wise=true`.\n",
      "Training until validation scores don't improve for 5 rounds\n",
      "Did not meet early stopping. Best iteration is:\n",
      "[24]\tvalid_0's l2: 5.9907e+06\tvalid_0's l1: 1793.17\n",
      "31 22\n",
      "[LightGBM] [Warning] Auto-choosing col-wise multi-threading, the overhead of testing was 0.281823 seconds.\n",
      "You can set `force_col_wise=true` to remove the overhead.\n",
      "Training until validation scores don't improve for 5 rounds\n",
      "Did not meet early stopping. Best iteration is:\n",
      "[22]\tvalid_0's l2: 6.37612e+06\tvalid_0's l1: 1864.35\n",
      "31 23\n",
      "[LightGBM] [Warning] Auto-choosing row-wise multi-threading, the overhead of testing was 0.304123 seconds.\n",
      "You can set `force_row_wise=true` to remove the overhead.\n",
      "And if memory is not enough, you can set `force_col_wise=true`.\n",
      "Training until validation scores don't improve for 5 rounds\n",
      "Did not meet early stopping. Best iteration is:\n",
      "[23]\tvalid_0's l2: 6.15709e+06\tvalid_0's l1: 1825.7\n",
      "31 24\n",
      "[LightGBM] [Warning] Auto-choosing row-wise multi-threading, the overhead of testing was 0.301614 seconds.\n",
      "You can set `force_row_wise=true` to remove the overhead.\n",
      "And if memory is not enough, you can set `force_col_wise=true`.\n",
      "Training until validation scores don't improve for 5 rounds\n",
      "Did not meet early stopping. Best iteration is:\n",
      "[24]\tvalid_0's l2: 5.96754e+06\tvalid_0's l1: 1789.94\n",
      "32 22\n",
      "[LightGBM] [Warning] Auto-choosing row-wise multi-threading, the overhead of testing was 0.317183 seconds.\n",
      "You can set `force_row_wise=true` to remove the overhead.\n",
      "And if memory is not enough, you can set `force_col_wise=true`.\n",
      "Training until validation scores don't improve for 5 rounds\n",
      "Did not meet early stopping. Best iteration is:\n",
      "[22]\tvalid_0's l2: 6.35491e+06\tvalid_0's l1: 1861.39\n",
      "32 23\n",
      "[LightGBM] [Warning] Auto-choosing row-wise multi-threading, the overhead of testing was 0.299319 seconds.\n",
      "You can set `force_row_wise=true` to remove the overhead.\n",
      "And if memory is not enough, you can set `force_col_wise=true`.\n",
      "Training until validation scores don't improve for 5 rounds\n",
      "Did not meet early stopping. Best iteration is:\n",
      "[23]\tvalid_0's l2: 6.13854e+06\tvalid_0's l1: 1822.66\n",
      "32 24\n",
      "[LightGBM] [Warning] Auto-choosing col-wise multi-threading, the overhead of testing was 0.301772 seconds.\n",
      "You can set `force_col_wise=true` to remove the overhead.\n",
      "Training until validation scores don't improve for 5 rounds\n",
      "Did not meet early stopping. Best iteration is:\n",
      "[24]\tvalid_0's l2: 5.94669e+06\tvalid_0's l1: 1786.62\n",
      "Лучший: 2539.405307946463\n",
      "Время (мс): 15.475394158158451\n"
     ]
    }
   ],
   "source": [
    "lgb_train = lgb.Dataset(f_trn, t_trn)\n",
    "lgb_eval = lgb.Dataset(f_vld, t_vld, reference=lgb_train)\n",
    "\n",
    "b_gbm = None             # лучшая модель\n",
    "r2 = 0                   # RMSE лучшей модели\n",
    "for (i,j) in [(i,j) for i in range(28,33) for j in range(22,25)]:\n",
    "    print(i,j)\n",
    "    params = {\n",
    "        'boosting_type': 'gbdt',\n",
    "        'objective': 'regression',\n",
    "        'metric': {'l2', 'l1'},\n",
    "        'num_leaves': i,\n",
    "        'learning_rate': 0.05,\n",
    "        'feature_fraction': 0.9,\n",
    "        'bagging_fraction': 0.8,\n",
    "        'bagging_freq': 5,\n",
    "        'verbose': 0\n",
    "    }\n",
    "\n",
    "    start = timeit.default_timer()\n",
    "    gbm = lgb.train(params,\n",
    "                lgb_train,\n",
    "                num_boost_round=j,\n",
    "                valid_sets=lgb_eval,\n",
    "                callbacks=[lgb.early_stopping(stopping_rounds=5)])\n",
    "    end = timeit.default_timer()\n",
    "\n",
    "\n",
    "    #p_trn = gbm.predict(f_trn, num_iteration=gbm.best_iteration)\n",
    "    p_vld = gbm.predict(f_vld, num_iteration=gbm.best_iteration)\n",
    "    #p_tst = gbm.predict(f_tst, num_iteration=gbm.best_iteration)\n",
    "    \n",
    "    if (r2 < sqrt(mean_squared_error(t_vld, p_vld))):\n",
    "        b_gbm = gbm\n",
    "        r2 = sqrt(mean_squared_error(t_vld, p_vld))\n",
    "        t = end - start\n",
    "\n",
    "print('Лучший:', r2)\n",
    "print('Время (мс):', t)\n",
    "#print(r2_score(t_trn, p_trn))\n",
    "#print(r2_score(t_vld, p_vld))\n",
    "#print(r2_score(t_tst, p_tst))"
   ]
  },
  {
   "cell_type": "markdown",
   "metadata": {},
   "source": [
    "### Случайный лес"
   ]
  },
  {
   "cell_type": "markdown",
   "metadata": {},
   "source": [
    "Для нахождения лучшей модели случайного леса обучим несколько из них, перебирая параметры максимальной глубины и количества деревьев."
   ]
  },
  {
   "cell_type": "code",
   "execution_count": 31,
   "metadata": {},
   "outputs": [
    {
     "name": "stdout",
     "output_type": "stream",
     "text": [
      "60 4\n",
      "60 5\n",
      "60 6\n",
      "60 7\n",
      "70 4\n",
      "70 5\n",
      "70 6\n",
      "70 7\n",
      "80 4\n",
      "80 5\n",
      "80 6\n",
      "80 7\n",
      "Лучший: 4646.264694118517\n",
      "Время (мс): 4.894050872884691\n"
     ]
    }
   ],
   "source": [
    "b_rfc = None             # лучшая модель\n",
    "r2 = 0                   # RMSE лучшей модели\n",
    "\n",
    "for (i,j) in [(i,j) for i in range(60,81,10) for j in range(4,8)]:\n",
    "    print(i,j)\n",
    "    m = RandomForestClassifier(\n",
    "        random_state=rrrr,\n",
    "        n_estimators=i,                      # обучаем модель с заданным количеством деревьев\n",
    "        max_depth=j,                         # максимальная глубина\n",
    "        class_weight='balanced'              # обучаем модель с взвешаннами классами\n",
    "    )\n",
    "    start = timeit.default_timer()\n",
    "    m.fit(f_trn,t_trn)                       # тренируем модель по тренировочной выборке\n",
    "    end = timeit.default_timer()\n",
    "    p_vld = m.predict(f_vld)                 # предсказание результатов\n",
    "    \n",
    "    if (r2 < sqrt(mean_squared_error(t_vld, p_vld))):\n",
    "        b_rfc = m\n",
    "        r2 = sqrt(mean_squared_error(t_vld, p_vld))\n",
    "        t = end - start\n",
    "\n",
    "print('Лучший:', r2)\n",
    "print('Время (мс):', t)"
   ]
  },
  {
   "cell_type": "markdown",
   "metadata": {},
   "source": [
    "## Анализ моделей"
   ]
  },
  {
   "cell_type": "markdown",
   "metadata": {},
   "source": [
    "### LightGBM"
   ]
  },
  {
   "cell_type": "markdown",
   "metadata": {},
   "source": [
    "Лучшая `LightGBM` модель даёт наилучшее среднеквадратичное отклонение для тестовых данных и сравнительно небольшое время предсказаний, скорость обучения этого метода оставляет желать лучшего, но она выше чем для модели случайного леса."
   ]
  },
  {
   "cell_type": "code",
   "execution_count": 33,
   "metadata": {},
   "outputs": [
    {
     "name": "stdout",
     "output_type": "stream",
     "text": [
      "2535.3226207596053\n",
      "2539.405307946463\n",
      "2535.022821709657\n",
      "Время (мс): 4.909074227092788\n"
     ]
    }
   ],
   "source": [
    "p_trn = b_gbm.predict(f_trn, num_iteration=gbm.best_iteration)\n",
    "p_vld = b_gbm.predict(f_vld, num_iteration=gbm.best_iteration)\n",
    "p_tst = b_gbm.predict(f_tst, num_iteration=gbm.best_iteration)\n",
    "print(sqrt(mean_squared_error(t_trn, p_trn)))\n",
    "print(sqrt(mean_squared_error(t_vld, p_vld)))\n",
    "start = timeit.default_timer()\n",
    "print(sqrt(mean_squared_error(t_tst, p_tst)))\n",
    "end = timeit.default_timer()\n",
    "print('Время (мс):', t)"
   ]
  },
  {
   "cell_type": "markdown",
   "metadata": {},
   "source": [
    "### Случайный лес"
   ]
  },
  {
   "cell_type": "markdown",
   "metadata": {},
   "source": [
    "Лучшая модель случайного леса обладает крайне низкой скоростью обучения и предсказания, кроме того данная модель обладает наименьшей точностью."
   ]
  },
  {
   "cell_type": "code",
   "execution_count": null,
   "metadata": {},
   "outputs": [],
   "source": [
    "p_trn = b_rfc.predict(f_trn)\n",
    "p_vld = b_rfc.predict(f_vld)\n",
    "p_tst = b_rfc.predict(f_tst)\n",
    "print(sqrt(mean_squared_error(t_trn, p_trn)))\n",
    "print(sqrt(mean_squared_error(t_vld, p_vld)))\n",
    "start = timeit.default_timer()\n",
    "print(sqrt(mean_squared_error(t_tst, p_tst)))\n",
    "end = timeit.default_timer()\n",
    "print('Время (мс):', t)"
   ]
  },
  {
   "cell_type": "markdown",
   "metadata": {},
   "source": [
    "## Вывод"
   ]
  },
  {
   "cell_type": "markdown",
   "metadata": {},
   "source": [
    "В ходе данного исследования были получены модели линейной `LightGBM` и случайного леса. В ходе анализа и обучения этих моделей было установлено, что наилучшей с точки зрения производительности и точности является модель `LightGBM`."
   ]
  }
 ],
 "metadata": {
  "ExecuteTimeLog": [
   {
    "duration": 462,
    "start_time": "2023-10-11T11:54:48.098Z"
   },
   {
    "duration": 1591,
    "start_time": "2023-10-11T11:55:04.635Z"
   },
   {
    "duration": 32,
    "start_time": "2023-10-11T11:55:33.725Z"
   },
   {
    "duration": 194,
    "start_time": "2023-10-11T11:56:23.063Z"
   },
   {
    "duration": 453,
    "start_time": "2023-10-11T14:26:35.555Z"
   },
   {
    "duration": 1016,
    "start_time": "2023-10-11T14:26:36.393Z"
   },
   {
    "duration": 19,
    "start_time": "2023-10-11T14:26:37.695Z"
   },
   {
    "duration": 44,
    "start_time": "2023-10-11T14:26:40.165Z"
   },
   {
    "duration": 148,
    "start_time": "2023-10-11T14:46:33.806Z"
   },
   {
    "duration": 109,
    "start_time": "2023-10-11T14:53:11.590Z"
   },
   {
    "duration": 110,
    "start_time": "2023-10-11T14:53:24.752Z"
   },
   {
    "duration": 3,
    "start_time": "2023-10-11T14:53:31.751Z"
   },
   {
    "duration": 713,
    "start_time": "2023-10-11T14:53:32.534Z"
   },
   {
    "duration": 13,
    "start_time": "2023-10-11T14:53:34.286Z"
   },
   {
    "duration": 38,
    "start_time": "2023-10-11T14:53:35.936Z"
   },
   {
    "duration": 25,
    "start_time": "2023-10-11T14:53:37.630Z"
   },
   {
    "duration": 82,
    "start_time": "2023-10-11T14:53:42.803Z"
   },
   {
    "duration": 11,
    "start_time": "2023-10-11T14:54:02.779Z"
   },
   {
    "duration": 2,
    "start_time": "2023-10-11T14:54:39.701Z"
   },
   {
    "duration": 712,
    "start_time": "2023-10-11T14:54:40.307Z"
   },
   {
    "duration": 12,
    "start_time": "2023-10-11T14:54:42.985Z"
   },
   {
    "duration": 42,
    "start_time": "2023-10-11T14:54:45.927Z"
   },
   {
    "duration": 24,
    "start_time": "2023-10-11T14:54:48.962Z"
   },
   {
    "duration": 10,
    "start_time": "2023-10-11T14:54:54.480Z"
   },
   {
    "duration": 99,
    "start_time": "2023-10-11T14:55:03.058Z"
   },
   {
    "duration": 80,
    "start_time": "2023-10-11T14:58:02.120Z"
   },
   {
    "duration": 79,
    "start_time": "2023-10-11T14:58:19.098Z"
   },
   {
    "duration": 22,
    "start_time": "2023-10-11T14:58:31.783Z"
   },
   {
    "duration": 28,
    "start_time": "2023-10-11T14:58:47.217Z"
   },
   {
    "duration": 23,
    "start_time": "2023-10-11T14:58:51.758Z"
   },
   {
    "duration": 21,
    "start_time": "2023-10-11T14:59:00.005Z"
   },
   {
    "duration": 19,
    "start_time": "2023-10-11T14:59:37.508Z"
   },
   {
    "duration": 33,
    "start_time": "2023-10-11T15:01:24.867Z"
   },
   {
    "duration": 26,
    "start_time": "2023-10-11T15:02:05.589Z"
   },
   {
    "duration": 10,
    "start_time": "2023-10-11T15:02:08.354Z"
   },
   {
    "duration": 47,
    "start_time": "2023-10-11T15:03:28.149Z"
   },
   {
    "duration": 48,
    "start_time": "2023-10-11T15:03:34.953Z"
   },
   {
    "duration": 48,
    "start_time": "2023-10-11T15:03:46.714Z"
   },
   {
    "duration": 104,
    "start_time": "2023-10-11T15:03:55.792Z"
   },
   {
    "duration": 10,
    "start_time": "2023-10-11T15:03:58.106Z"
   },
   {
    "duration": 7,
    "start_time": "2023-10-11T15:06:59.407Z"
   },
   {
    "duration": 10,
    "start_time": "2023-10-11T15:07:53.904Z"
   },
   {
    "duration": 63,
    "start_time": "2023-10-11T15:13:33.411Z"
   },
   {
    "duration": 6,
    "start_time": "2023-10-11T15:16:21.835Z"
   },
   {
    "duration": 31,
    "start_time": "2023-10-11T15:16:26.600Z"
   },
   {
    "duration": 31,
    "start_time": "2023-10-11T15:17:40.133Z"
   },
   {
    "duration": 15,
    "start_time": "2023-10-11T15:18:53.732Z"
   },
   {
    "duration": 14,
    "start_time": "2023-10-11T15:19:00.941Z"
   },
   {
    "duration": 16,
    "start_time": "2023-10-11T15:19:08.253Z"
   },
   {
    "duration": 41,
    "start_time": "2023-10-11T15:23:53.156Z"
   },
   {
    "duration": 16,
    "start_time": "2023-10-11T15:24:24.676Z"
   },
   {
    "duration": 29,
    "start_time": "2023-10-11T15:24:25.480Z"
   },
   {
    "duration": 9,
    "start_time": "2023-10-11T15:25:16.762Z"
   },
   {
    "duration": 16,
    "start_time": "2023-10-11T15:25:58.547Z"
   },
   {
    "duration": 704,
    "start_time": "2023-10-11T15:26:07.980Z"
   },
   {
    "duration": 17,
    "start_time": "2023-10-11T15:26:20.678Z"
   },
   {
    "duration": 760,
    "start_time": "2023-10-11T15:26:41.655Z"
   },
   {
    "duration": 10,
    "start_time": "2023-10-11T15:26:49.092Z"
   },
   {
    "duration": 661,
    "start_time": "2023-10-11T15:27:25.700Z"
   },
   {
    "duration": 5,
    "start_time": "2023-10-11T15:27:39.707Z"
   },
   {
    "duration": 5,
    "start_time": "2023-10-11T15:28:09.209Z"
   },
   {
    "duration": 5,
    "start_time": "2023-10-11T15:28:25.205Z"
   },
   {
    "duration": 69,
    "start_time": "2023-10-11T16:43:00.822Z"
   },
   {
    "duration": 31,
    "start_time": "2023-10-11T16:43:55.413Z"
   },
   {
    "duration": 31,
    "start_time": "2023-10-11T16:47:28.677Z"
   },
   {
    "duration": 48,
    "start_time": "2023-10-11T16:48:47.588Z"
   },
   {
    "duration": 49,
    "start_time": "2023-10-11T16:50:55.145Z"
   },
   {
    "duration": 33,
    "start_time": "2023-10-11T16:51:17.125Z"
   },
   {
    "duration": 30,
    "start_time": "2023-10-11T16:51:35.958Z"
   },
   {
    "duration": 31,
    "start_time": "2023-10-11T17:10:48.091Z"
   },
   {
    "duration": 34,
    "start_time": "2023-10-11T17:11:29.632Z"
   },
   {
    "duration": 16,
    "start_time": "2023-10-11T17:16:30.598Z"
   },
   {
    "duration": 32,
    "start_time": "2023-10-11T17:16:42.318Z"
   },
   {
    "duration": 853,
    "start_time": "2023-10-11T17:16:59.237Z"
   },
   {
    "duration": 16,
    "start_time": "2023-10-11T17:17:11.726Z"
   },
   {
    "duration": 49,
    "start_time": "2023-10-11T17:21:35.860Z"
   },
   {
    "duration": 29,
    "start_time": "2023-10-11T17:21:53.109Z"
   },
   {
    "duration": 15,
    "start_time": "2023-10-11T17:27:41.123Z"
   },
   {
    "duration": 67,
    "start_time": "2023-10-11T17:28:00.745Z"
   },
   {
    "duration": 64,
    "start_time": "2023-10-11T17:28:17.735Z"
   },
   {
    "duration": 90,
    "start_time": "2023-10-11T17:28:21.511Z"
   },
   {
    "duration": 28,
    "start_time": "2023-10-11T17:30:57.733Z"
   },
   {
    "duration": 89,
    "start_time": "2023-10-11T17:31:06.542Z"
   },
   {
    "duration": 83,
    "start_time": "2023-10-11T17:31:15.455Z"
   },
   {
    "duration": 30,
    "start_time": "2023-10-11T17:31:23.811Z"
   },
   {
    "duration": 45,
    "start_time": "2023-10-11T17:33:00.281Z"
   },
   {
    "duration": 33,
    "start_time": "2023-10-11T17:33:22.112Z"
   },
   {
    "duration": 10,
    "start_time": "2023-10-11T17:33:26.280Z"
   },
   {
    "duration": 67,
    "start_time": "2023-10-11T17:33:30.000Z"
   },
   {
    "duration": 15,
    "start_time": "2023-10-11T17:33:42.305Z"
   },
   {
    "duration": 10,
    "start_time": "2023-10-11T17:33:47.329Z"
   },
   {
    "duration": 59,
    "start_time": "2023-10-11T17:33:54.255Z"
   },
   {
    "duration": 6,
    "start_time": "2023-10-11T17:37:17.108Z"
   },
   {
    "duration": 9,
    "start_time": "2023-10-11T17:40:33.114Z"
   },
   {
    "duration": 59,
    "start_time": "2023-10-11T17:40:35.316Z"
   },
   {
    "duration": 24,
    "start_time": "2023-10-11T17:45:48.217Z"
   },
   {
    "duration": 10,
    "start_time": "2023-10-11T17:45:56.701Z"
   },
   {
    "duration": 10,
    "start_time": "2023-10-11T17:45:57.584Z"
   },
   {
    "duration": 37,
    "start_time": "2023-10-11T17:46:06.658Z"
   },
   {
    "duration": 15,
    "start_time": "2023-10-11T17:46:15.173Z"
   },
   {
    "duration": 33,
    "start_time": "2023-10-11T17:46:23.798Z"
   },
   {
    "duration": 23,
    "start_time": "2023-10-11T17:46:26.568Z"
   },
   {
    "duration": 9,
    "start_time": "2023-10-11T17:46:29.285Z"
   },
   {
    "duration": 67,
    "start_time": "2023-10-11T17:46:32.393Z"
   },
   {
    "duration": 6,
    "start_time": "2023-10-11T17:47:06.532Z"
   },
   {
    "duration": 21,
    "start_time": "2023-10-11T17:49:25.760Z"
   },
   {
    "duration": 10,
    "start_time": "2023-10-11T17:49:28.188Z"
   },
   {
    "duration": 54,
    "start_time": "2023-10-11T17:49:29.199Z"
   },
   {
    "duration": 5,
    "start_time": "2023-10-11T17:49:52.659Z"
   },
   {
    "duration": 5,
    "start_time": "2023-10-11T17:50:01.231Z"
   },
   {
    "duration": 85,
    "start_time": "2023-10-11T17:50:15.895Z"
   },
   {
    "duration": 4,
    "start_time": "2023-10-11T17:50:24.061Z"
   },
   {
    "duration": 7,
    "start_time": "2023-10-11T17:51:36.399Z"
   },
   {
    "duration": 10,
    "start_time": "2023-10-11T17:51:43.072Z"
   },
   {
    "duration": 77,
    "start_time": "2023-10-11T17:58:41.575Z"
   },
   {
    "duration": 67,
    "start_time": "2023-10-11T18:05:07.124Z"
   },
   {
    "duration": 27,
    "start_time": "2023-10-11T18:09:14.099Z"
   },
   {
    "duration": 21,
    "start_time": "2023-10-11T18:09:29.966Z"
   },
   {
    "duration": 10,
    "start_time": "2023-10-11T18:09:37.199Z"
   },
   {
    "duration": 56,
    "start_time": "2023-10-11T18:09:38.429Z"
   },
   {
    "duration": 31,
    "start_time": "2023-10-11T18:09:59.521Z"
   },
   {
    "duration": 21,
    "start_time": "2023-10-11T18:10:18.880Z"
   },
   {
    "duration": 10,
    "start_time": "2023-10-11T18:10:21.074Z"
   },
   {
    "duration": 56,
    "start_time": "2023-10-11T18:10:23.169Z"
   },
   {
    "duration": 1065,
    "start_time": "2023-10-11T18:18:27.087Z"
   },
   {
    "duration": 38,
    "start_time": "2023-10-11T18:19:36.563Z"
   },
   {
    "duration": 10,
    "start_time": "2023-10-11T18:22:52.171Z"
   },
   {
    "duration": 54,
    "start_time": "2023-10-11T18:23:02.024Z"
   },
   {
    "duration": 11,
    "start_time": "2023-10-11T18:46:21.111Z"
   },
   {
    "duration": 16,
    "start_time": "2023-10-11T18:46:58.367Z"
   },
   {
    "duration": 82,
    "start_time": "2023-10-11T18:47:04.443Z"
   },
   {
    "duration": 70,
    "start_time": "2023-10-11T19:10:07.904Z"
   },
   {
    "duration": 645,
    "start_time": "2023-10-11T19:12:31.720Z"
   },
   {
    "duration": 76,
    "start_time": "2023-10-11T19:24:08.905Z"
   },
   {
    "duration": 14,
    "start_time": "2023-10-11T19:25:47.794Z"
   },
   {
    "duration": 5,
    "start_time": "2023-10-11T19:26:39.714Z"
   },
   {
    "duration": 3,
    "start_time": "2023-10-11T19:26:48.862Z"
   },
   {
    "duration": 36,
    "start_time": "2023-10-11T19:26:52.393Z"
   },
   {
    "duration": 13,
    "start_time": "2023-10-11T19:27:11.917Z"
   },
   {
    "duration": 9,
    "start_time": "2023-10-11T19:31:47.443Z"
   },
   {
    "duration": 8,
    "start_time": "2023-10-11T19:31:56.813Z"
   },
   {
    "duration": 8,
    "start_time": "2023-10-11T19:32:05.740Z"
   },
   {
    "duration": 33,
    "start_time": "2023-10-11T19:32:45.666Z"
   },
   {
    "duration": 415,
    "start_time": "2023-10-11T19:33:47.994Z"
   },
   {
    "duration": 11,
    "start_time": "2023-10-11T19:35:21.716Z"
   },
   {
    "duration": 11,
    "start_time": "2023-10-11T19:35:23.023Z"
   },
   {
    "duration": 2,
    "start_time": "2023-10-11T19:35:27.662Z"
   },
   {
    "duration": 665,
    "start_time": "2023-10-11T19:35:28.568Z"
   },
   {
    "duration": 13,
    "start_time": "2023-10-11T19:35:34.224Z"
   },
   {
    "duration": 38,
    "start_time": "2023-10-11T19:35:42.971Z"
   },
   {
    "duration": 24,
    "start_time": "2023-10-11T19:35:46.015Z"
   },
   {
    "duration": 108,
    "start_time": "2023-10-11T19:35:48.686Z"
   },
   {
    "duration": 6,
    "start_time": "2023-10-11T19:35:49.425Z"
   },
   {
    "duration": 32,
    "start_time": "2023-10-11T19:35:50.097Z"
   },
   {
    "duration": 32,
    "start_time": "2023-10-11T19:35:52.919Z"
   },
   {
    "duration": 29,
    "start_time": "2023-10-11T19:35:54.407Z"
   },
   {
    "duration": 47,
    "start_time": "2023-10-11T19:35:57.520Z"
   },
   {
    "duration": 29,
    "start_time": "2023-10-11T19:35:58.186Z"
   },
   {
    "duration": 33,
    "start_time": "2023-10-11T19:35:59.023Z"
   },
   {
    "duration": 5,
    "start_time": "2023-10-11T19:35:59.863Z"
   },
   {
    "duration": 21,
    "start_time": "2023-10-11T19:36:00.777Z"
   },
   {
    "duration": 6,
    "start_time": "2023-10-11T19:36:04.803Z"
   },
   {
    "duration": 20,
    "start_time": "2023-10-11T19:36:05.624Z"
   },
   {
    "duration": 19,
    "start_time": "2023-10-11T19:36:06.274Z"
   },
   {
    "duration": 10,
    "start_time": "2023-10-11T19:36:06.872Z"
   },
   {
    "duration": 10,
    "start_time": "2023-10-11T19:36:07.365Z"
   },
   {
    "duration": 64,
    "start_time": "2023-10-11T19:36:11.181Z"
   },
   {
    "duration": 41,
    "start_time": "2023-10-11T19:36:12.351Z"
   },
   {
    "duration": 713,
    "start_time": "2023-10-11T19:36:15.626Z"
   },
   {
    "duration": 14,
    "start_time": "2023-10-11T19:36:19.749Z"
   },
   {
    "duration": 53,
    "start_time": "2023-10-11T19:36:20.659Z"
   },
   {
    "duration": 14,
    "start_time": "2023-10-11T19:36:25.112Z"
   },
   {
    "duration": 28,
    "start_time": "2023-10-11T19:36:27.919Z"
   },
   {
    "duration": 516,
    "start_time": "2023-10-11T19:39:56.449Z"
   },
   {
    "duration": 639,
    "start_time": "2023-10-11T19:40:31.125Z"
   },
   {
    "duration": 15,
    "start_time": "2023-10-11T19:41:22.784Z"
   },
   {
    "duration": 12,
    "start_time": "2023-10-11T19:42:12.649Z"
   },
   {
    "duration": 12,
    "start_time": "2023-10-11T19:42:36.719Z"
   },
   {
    "duration": 688,
    "start_time": "2023-10-11T19:43:01.877Z"
   },
   {
    "duration": 4,
    "start_time": "2023-10-11T19:43:36.120Z"
   },
   {
    "duration": 1534,
    "start_time": "2023-10-11T19:43:58.513Z"
   },
   {
    "duration": 117,
    "start_time": "2023-10-11T19:44:19.004Z"
   },
   {
    "duration": 6,
    "start_time": "2023-10-11T19:46:17.769Z"
   },
   {
    "duration": 11,
    "start_time": "2023-10-11T19:46:23.057Z"
   },
   {
    "duration": 162,
    "start_time": "2023-10-11T19:46:49.242Z"
   },
   {
    "duration": 18,
    "start_time": "2023-10-11T19:47:30.048Z"
   },
   {
    "duration": 416,
    "start_time": "2023-10-11T19:47:56.992Z"
   },
   {
    "duration": 2,
    "start_time": "2023-10-11T19:48:33.710Z"
   },
   {
    "duration": 419,
    "start_time": "2023-10-11T19:48:55.284Z"
   },
   {
    "duration": 11,
    "start_time": "2023-10-11T19:50:53.997Z"
   },
   {
    "duration": 20,
    "start_time": "2023-10-11T19:51:21.752Z"
   },
   {
    "duration": 79,
    "start_time": "2023-10-11T19:51:44.768Z"
   },
   {
    "duration": 9,
    "start_time": "2023-10-11T19:51:49.109Z"
   },
   {
    "duration": 513,
    "start_time": "2023-10-11T19:51:59.995Z"
   },
   {
    "duration": 14,
    "start_time": "2023-10-11T19:52:04.991Z"
   },
   {
    "duration": 9,
    "start_time": "2023-10-11T19:52:11.648Z"
   },
   {
    "duration": 11,
    "start_time": "2023-10-11T19:52:18.294Z"
   },
   {
    "duration": 481,
    "start_time": "2023-10-11T19:55:43.822Z"
   },
   {
    "duration": 11,
    "start_time": "2023-10-11T19:55:51.306Z"
   },
   {
    "duration": 444,
    "start_time": "2023-10-11T19:55:59.924Z"
   },
   {
    "duration": 18,
    "start_time": "2023-10-11T19:56:01.204Z"
   },
   {
    "duration": 25,
    "start_time": "2023-10-11T19:57:10.894Z"
   },
   {
    "duration": 52,
    "start_time": "2023-10-11T19:57:12.937Z"
   },
   {
    "duration": 3125,
    "start_time": "2023-10-11T19:57:15.433Z"
   },
   {
    "duration": 3054,
    "start_time": "2023-10-11T20:03:51.486Z"
   },
   {
    "duration": 2858,
    "start_time": "2023-10-11T20:04:12.683Z"
   },
   {
    "duration": 2886,
    "start_time": "2023-10-11T20:05:15.359Z"
   },
   {
    "duration": 2932,
    "start_time": "2023-10-11T20:07:33.825Z"
   },
   {
    "duration": 1064,
    "start_time": "2023-10-12T07:52:10.866Z"
   },
   {
    "duration": 2901,
    "start_time": "2023-10-12T07:52:11.932Z"
   },
   {
    "duration": 20,
    "start_time": "2023-10-12T07:52:14.835Z"
   },
   {
    "duration": 53,
    "start_time": "2023-10-12T07:52:14.857Z"
   },
   {
    "duration": 45,
    "start_time": "2023-10-12T07:52:14.912Z"
   },
   {
    "duration": 149,
    "start_time": "2023-10-12T07:52:14.959Z"
   },
   {
    "duration": 9,
    "start_time": "2023-10-12T07:52:15.110Z"
   },
   {
    "duration": 68,
    "start_time": "2023-10-12T07:52:15.120Z"
   },
   {
    "duration": 41,
    "start_time": "2023-10-12T07:52:15.190Z"
   },
   {
    "duration": 58,
    "start_time": "2023-10-12T07:52:15.234Z"
   },
   {
    "duration": 76,
    "start_time": "2023-10-12T07:52:15.294Z"
   },
   {
    "duration": 35,
    "start_time": "2023-10-12T07:52:15.372Z"
   },
   {
    "duration": 56,
    "start_time": "2023-10-12T07:52:15.409Z"
   },
   {
    "duration": 6,
    "start_time": "2023-10-12T07:52:15.467Z"
   },
   {
    "duration": 19,
    "start_time": "2023-10-12T07:52:15.475Z"
   },
   {
    "duration": 7,
    "start_time": "2023-10-12T07:52:15.495Z"
   },
   {
    "duration": 42,
    "start_time": "2023-10-12T07:52:15.504Z"
   },
   {
    "duration": 18,
    "start_time": "2023-10-12T07:52:15.548Z"
   },
   {
    "duration": 11,
    "start_time": "2023-10-12T07:52:15.568Z"
   },
   {
    "duration": 18,
    "start_time": "2023-10-12T07:52:15.581Z"
   },
   {
    "duration": 87,
    "start_time": "2023-10-12T07:52:15.600Z"
   },
   {
    "duration": 34,
    "start_time": "2023-10-12T07:52:15.688Z"
   },
   {
    "duration": 1137,
    "start_time": "2023-10-12T07:52:15.724Z"
   },
   {
    "duration": 12,
    "start_time": "2023-10-12T07:52:16.863Z"
   },
   {
    "duration": 480,
    "start_time": "2023-10-12T07:52:16.876Z"
   },
   {
    "duration": 24,
    "start_time": "2023-10-12T07:52:17.358Z"
   },
   {
    "duration": 70,
    "start_time": "2023-10-12T07:52:17.384Z"
   },
   {
    "duration": 4189,
    "start_time": "2023-10-12T07:52:17.457Z"
   },
   {
    "duration": 139,
    "start_time": "2023-10-12T07:52:21.648Z"
   },
   {
    "duration": 92227,
    "start_time": "2023-10-12T13:34:06.635Z"
   },
   {
    "duration": 75238,
    "start_time": "2023-10-12T13:36:16.711Z"
   },
   {
    "duration": 103553,
    "start_time": "2023-10-12T13:39:50.604Z"
   },
   {
    "duration": 13,
    "start_time": "2023-10-12T13:50:23.376Z"
   },
   {
    "duration": 119,
    "start_time": "2023-10-12T13:50:48.359Z"
   },
   {
    "duration": 1199,
    "start_time": "2023-10-12T13:51:05.379Z"
   },
   {
    "duration": 2945,
    "start_time": "2023-10-12T13:51:06.581Z"
   },
   {
    "duration": 20,
    "start_time": "2023-10-12T13:51:09.528Z"
   },
   {
    "duration": 64,
    "start_time": "2023-10-12T13:51:09.549Z"
   },
   {
    "duration": 35,
    "start_time": "2023-10-12T13:51:09.615Z"
   },
   {
    "duration": 166,
    "start_time": "2023-10-12T13:51:09.652Z"
   },
   {
    "duration": 10,
    "start_time": "2023-10-12T13:51:09.820Z"
   },
   {
    "duration": 76,
    "start_time": "2023-10-12T13:51:09.831Z"
   },
   {
    "duration": 92,
    "start_time": "2023-10-12T13:51:09.908Z"
   },
   {
    "duration": 106,
    "start_time": "2023-10-12T13:51:10.001Z"
   },
   {
    "duration": 89,
    "start_time": "2023-10-12T13:51:10.108Z"
   },
   {
    "duration": 47,
    "start_time": "2023-10-12T13:51:10.198Z"
   },
   {
    "duration": 52,
    "start_time": "2023-10-12T13:51:10.248Z"
   },
   {
    "duration": 6,
    "start_time": "2023-10-12T13:51:10.303Z"
   },
   {
    "duration": 39,
    "start_time": "2023-10-12T13:51:10.310Z"
   },
   {
    "duration": 8,
    "start_time": "2023-10-12T13:51:10.350Z"
   },
   {
    "duration": 26,
    "start_time": "2023-10-12T13:51:10.359Z"
   },
   {
    "duration": 20,
    "start_time": "2023-10-12T13:51:10.387Z"
   },
   {
    "duration": 37,
    "start_time": "2023-10-12T13:51:10.409Z"
   },
   {
    "duration": 25,
    "start_time": "2023-10-12T13:51:10.449Z"
   },
   {
    "duration": 99,
    "start_time": "2023-10-12T13:51:10.476Z"
   },
   {
    "duration": 39,
    "start_time": "2023-10-12T13:51:10.577Z"
   },
   {
    "duration": 1010,
    "start_time": "2023-10-12T13:51:10.618Z"
   },
   {
    "duration": 8,
    "start_time": "2023-10-12T13:51:11.630Z"
   },
   {
    "duration": 478,
    "start_time": "2023-10-12T13:51:11.645Z"
   },
   {
    "duration": 32,
    "start_time": "2023-10-12T13:51:12.125Z"
   },
   {
    "duration": 61,
    "start_time": "2023-10-12T13:51:12.160Z"
   },
   {
    "duration": 4727,
    "start_time": "2023-10-12T13:51:12.222Z"
   },
   {
    "duration": 68011,
    "start_time": "2023-10-12T13:51:16.951Z"
   },
   {
    "duration": 126,
    "start_time": "2023-10-12T13:52:24.963Z"
   },
   {
    "duration": 1422,
    "start_time": "2023-10-12T13:58:16.506Z"
   },
   {
    "duration": 2982,
    "start_time": "2023-10-12T13:58:17.929Z"
   },
   {
    "duration": 21,
    "start_time": "2023-10-12T13:58:20.913Z"
   },
   {
    "duration": 79,
    "start_time": "2023-10-12T13:58:20.936Z"
   },
   {
    "duration": 35,
    "start_time": "2023-10-12T13:58:21.017Z"
   },
   {
    "duration": 196,
    "start_time": "2023-10-12T13:58:21.055Z"
   },
   {
    "duration": 9,
    "start_time": "2023-10-12T13:58:21.253Z"
   },
   {
    "duration": 50,
    "start_time": "2023-10-12T13:58:21.263Z"
   },
   {
    "duration": 48,
    "start_time": "2023-10-12T13:58:21.315Z"
   },
   {
    "duration": 40,
    "start_time": "2023-10-12T13:58:21.366Z"
   },
   {
    "duration": 75,
    "start_time": "2023-10-12T13:58:21.408Z"
   },
   {
    "duration": 37,
    "start_time": "2023-10-12T13:58:21.485Z"
   },
   {
    "duration": 62,
    "start_time": "2023-10-12T13:58:21.523Z"
   },
   {
    "duration": 6,
    "start_time": "2023-10-12T13:58:21.587Z"
   },
   {
    "duration": 27,
    "start_time": "2023-10-12T13:58:21.594Z"
   },
   {
    "duration": 22,
    "start_time": "2023-10-12T13:58:21.623Z"
   },
   {
    "duration": 20,
    "start_time": "2023-10-12T13:58:21.647Z"
   },
   {
    "duration": 20,
    "start_time": "2023-10-12T13:58:21.668Z"
   },
   {
    "duration": 11,
    "start_time": "2023-10-12T13:58:21.690Z"
   },
   {
    "duration": 44,
    "start_time": "2023-10-12T13:58:21.703Z"
   },
   {
    "duration": 81,
    "start_time": "2023-10-12T13:58:21.748Z"
   },
   {
    "duration": 58,
    "start_time": "2023-10-12T13:58:21.831Z"
   },
   {
    "duration": 771,
    "start_time": "2023-10-12T13:58:21.891Z"
   },
   {
    "duration": 9,
    "start_time": "2023-10-12T13:58:22.665Z"
   },
   {
    "duration": 469,
    "start_time": "2023-10-12T13:58:22.676Z"
   },
   {
    "duration": 24,
    "start_time": "2023-10-12T13:58:23.147Z"
   },
   {
    "duration": 72,
    "start_time": "2023-10-12T13:58:23.173Z"
   },
   {
    "duration": 4595,
    "start_time": "2023-10-12T13:58:23.249Z"
   },
   {
    "duration": 88810,
    "start_time": "2023-10-12T13:58:27.846Z"
   },
   {
    "duration": 49,
    "start_time": "2023-10-12T14:02:07.321Z"
   },
   {
    "duration": 1485,
    "start_time": "2023-10-12T14:02:11.283Z"
   },
   {
    "duration": 2986,
    "start_time": "2023-10-12T14:02:13.156Z"
   },
   {
    "duration": 18,
    "start_time": "2023-10-12T14:02:17.262Z"
   },
   {
    "duration": 58,
    "start_time": "2023-10-12T14:02:19.742Z"
   },
   {
    "duration": 35,
    "start_time": "2023-10-12T14:02:21.815Z"
   },
   {
    "duration": 157,
    "start_time": "2023-10-12T14:02:24.653Z"
   },
   {
    "duration": 9,
    "start_time": "2023-10-12T14:02:25.606Z"
   },
   {
    "duration": 39,
    "start_time": "2023-10-12T14:02:27.230Z"
   },
   {
    "duration": 39,
    "start_time": "2023-10-12T14:02:29.969Z"
   },
   {
    "duration": 38,
    "start_time": "2023-10-12T14:02:30.766Z"
   },
   {
    "duration": 72,
    "start_time": "2023-10-12T14:02:33.979Z"
   },
   {
    "duration": 39,
    "start_time": "2023-10-12T14:02:34.763Z"
   },
   {
    "duration": 51,
    "start_time": "2023-10-12T14:02:35.510Z"
   },
   {
    "duration": 6,
    "start_time": "2023-10-12T14:02:36.008Z"
   },
   {
    "duration": 24,
    "start_time": "2023-10-12T14:02:36.592Z"
   },
   {
    "duration": 9,
    "start_time": "2023-10-12T14:02:39.562Z"
   },
   {
    "duration": 25,
    "start_time": "2023-10-12T14:02:40.123Z"
   },
   {
    "duration": 27,
    "start_time": "2023-10-12T14:02:41.092Z"
   },
   {
    "duration": 14,
    "start_time": "2023-10-12T14:02:41.612Z"
   },
   {
    "duration": 16,
    "start_time": "2023-10-12T14:02:42.293Z"
   },
   {
    "duration": 97,
    "start_time": "2023-10-12T14:02:45.535Z"
   },
   {
    "duration": 57,
    "start_time": "2023-10-12T14:02:46.817Z"
   },
   {
    "duration": 750,
    "start_time": "2023-10-12T14:02:50.220Z"
   },
   {
    "duration": 8,
    "start_time": "2023-10-12T14:02:53.879Z"
   },
   {
    "duration": 425,
    "start_time": "2023-10-12T14:02:54.475Z"
   },
   {
    "duration": 25,
    "start_time": "2023-10-12T14:02:55.476Z"
   },
   {
    "duration": 55,
    "start_time": "2023-10-12T14:02:57.107Z"
   },
   {
    "duration": 4616,
    "start_time": "2023-10-12T14:03:03.632Z"
   },
   {
    "duration": 2352,
    "start_time": "2023-10-12T14:35:36.513Z"
   },
   {
    "duration": 1158,
    "start_time": "2023-10-12T14:35:38.867Z"
   },
   {
    "duration": 20,
    "start_time": "2023-10-12T14:35:40.027Z"
   },
   {
    "duration": 59,
    "start_time": "2023-10-12T14:35:40.049Z"
   },
   {
    "duration": 34,
    "start_time": "2023-10-12T14:35:40.110Z"
   },
   {
    "duration": 163,
    "start_time": "2023-10-12T14:35:40.146Z"
   },
   {
    "duration": 8,
    "start_time": "2023-10-12T14:35:40.310Z"
   },
   {
    "duration": 52,
    "start_time": "2023-10-12T14:35:40.319Z"
   },
   {
    "duration": 42,
    "start_time": "2023-10-12T14:35:40.374Z"
   },
   {
    "duration": 39,
    "start_time": "2023-10-12T14:35:40.419Z"
   },
   {
    "duration": 80,
    "start_time": "2023-10-12T14:35:40.459Z"
   },
   {
    "duration": 37,
    "start_time": "2023-10-12T14:35:40.541Z"
   },
   {
    "duration": 65,
    "start_time": "2023-10-12T14:35:40.579Z"
   },
   {
    "duration": 6,
    "start_time": "2023-10-12T14:35:40.645Z"
   },
   {
    "duration": 25,
    "start_time": "2023-10-12T14:35:40.653Z"
   },
   {
    "duration": 6,
    "start_time": "2023-10-12T14:35:40.680Z"
   },
   {
    "duration": 35,
    "start_time": "2023-10-12T14:35:40.688Z"
   },
   {
    "duration": 31,
    "start_time": "2023-10-12T14:35:40.724Z"
   },
   {
    "duration": 11,
    "start_time": "2023-10-12T14:35:40.756Z"
   },
   {
    "duration": 14,
    "start_time": "2023-10-12T14:35:40.768Z"
   },
   {
    "duration": 88,
    "start_time": "2023-10-12T14:35:40.783Z"
   },
   {
    "duration": 40,
    "start_time": "2023-10-12T14:35:40.873Z"
   },
   {
    "duration": 680,
    "start_time": "2023-10-12T14:35:40.915Z"
   },
   {
    "duration": 11,
    "start_time": "2023-10-12T14:35:41.597Z"
   },
   {
    "duration": 457,
    "start_time": "2023-10-12T14:35:41.610Z"
   },
   {
    "duration": 21,
    "start_time": "2023-10-12T14:35:42.069Z"
   },
   {
    "duration": 105,
    "start_time": "2023-10-12T14:38:06.853Z"
   },
   {
    "duration": 21,
    "start_time": "2023-10-12T14:38:16.666Z"
   },
   {
    "duration": 12,
    "start_time": "2023-10-12T14:38:33.933Z"
   },
   {
    "duration": 1678,
    "start_time": "2023-10-13T09:45:17.856Z"
   },
   {
    "duration": 3671,
    "start_time": "2023-10-13T09:45:24.625Z"
   },
   {
    "duration": 20,
    "start_time": "2023-10-13T09:45:29.518Z"
   },
   {
    "duration": 56,
    "start_time": "2023-10-13T09:45:32.225Z"
   },
   {
    "duration": 36,
    "start_time": "2023-10-13T09:45:35.171Z"
   },
   {
    "duration": 164,
    "start_time": "2023-10-13T09:45:36.521Z"
   },
   {
    "duration": 10,
    "start_time": "2023-10-13T09:45:38.927Z"
   },
   {
    "duration": 43,
    "start_time": "2023-10-13T09:45:40.407Z"
   },
   {
    "duration": 42,
    "start_time": "2023-10-13T09:45:42.183Z"
   },
   {
    "duration": 46,
    "start_time": "2023-10-13T09:45:43.144Z"
   },
   {
    "duration": 64,
    "start_time": "2023-10-13T09:45:45.162Z"
   },
   {
    "duration": 42,
    "start_time": "2023-10-13T09:45:47.276Z"
   },
   {
    "duration": 52,
    "start_time": "2023-10-13T09:45:48.680Z"
   },
   {
    "duration": 7,
    "start_time": "2023-10-13T09:52:10.703Z"
   },
   {
    "duration": 9,
    "start_time": "2023-10-13T09:52:24.329Z"
   },
   {
    "duration": 6,
    "start_time": "2023-10-13T09:57:49.440Z"
   },
   {
    "duration": 7,
    "start_time": "2023-10-13T09:57:56.805Z"
   },
   {
    "duration": 7,
    "start_time": "2023-10-13T10:02:54.899Z"
   },
   {
    "duration": 5,
    "start_time": "2023-10-13T10:03:02.860Z"
   },
   {
    "duration": 5,
    "start_time": "2023-10-13T10:03:35.873Z"
   },
   {
    "duration": 908,
    "start_time": "2023-10-13T10:03:38.222Z"
   },
   {
    "duration": 15,
    "start_time": "2023-10-13T10:03:39.798Z"
   },
   {
    "duration": 24,
    "start_time": "2023-10-13T10:03:42.232Z"
   },
   {
    "duration": 32,
    "start_time": "2023-10-13T10:03:44.890Z"
   },
   {
    "duration": 135,
    "start_time": "2023-10-13T10:03:45.780Z"
   },
   {
    "duration": 7,
    "start_time": "2023-10-13T10:03:47.726Z"
   },
   {
    "duration": 42,
    "start_time": "2023-10-13T10:03:50.431Z"
   },
   {
    "duration": 43,
    "start_time": "2023-10-13T10:03:51.134Z"
   },
   {
    "duration": 40,
    "start_time": "2023-10-13T10:03:52.710Z"
   },
   {
    "duration": 60,
    "start_time": "2023-10-13T10:03:53.319Z"
   },
   {
    "duration": 40,
    "start_time": "2023-10-13T10:03:56.127Z"
   },
   {
    "duration": 43,
    "start_time": "2023-10-13T10:03:57.624Z"
   },
   {
    "duration": 7,
    "start_time": "2023-10-13T10:04:00.473Z"
   },
   {
    "duration": 9,
    "start_time": "2023-10-13T10:04:01.006Z"
   },
   {
    "duration": 8,
    "start_time": "2023-10-13T10:04:02.796Z"
   },
   {
    "duration": 19,
    "start_time": "2023-10-13T10:04:40.006Z"
   },
   {
    "duration": 17,
    "start_time": "2023-10-13T10:04:48.838Z"
   },
   {
    "duration": 18,
    "start_time": "2023-10-13T10:05:26.234Z"
   },
   {
    "duration": 3,
    "start_time": "2023-10-13T10:06:13.153Z"
   },
   {
    "duration": 849,
    "start_time": "2023-10-13T10:06:14.682Z"
   },
   {
    "duration": 16,
    "start_time": "2023-10-13T10:06:16.653Z"
   },
   {
    "duration": 23,
    "start_time": "2023-10-13T10:06:19.534Z"
   },
   {
    "duration": 37,
    "start_time": "2023-10-13T10:06:25.329Z"
   },
   {
    "duration": 134,
    "start_time": "2023-10-13T10:06:26.053Z"
   },
   {
    "duration": 7,
    "start_time": "2023-10-13T10:06:29.083Z"
   },
   {
    "duration": 43,
    "start_time": "2023-10-13T10:06:30.454Z"
   },
   {
    "duration": 43,
    "start_time": "2023-10-13T10:06:31.406Z"
   },
   {
    "duration": 43,
    "start_time": "2023-10-13T10:06:32.802Z"
   },
   {
    "duration": 61,
    "start_time": "2023-10-13T10:06:34.377Z"
   },
   {
    "duration": 40,
    "start_time": "2023-10-13T10:06:36.011Z"
   },
   {
    "duration": 43,
    "start_time": "2023-10-13T10:06:36.939Z"
   },
   {
    "duration": 7,
    "start_time": "2023-10-13T10:06:39.919Z"
   },
   {
    "duration": 19,
    "start_time": "2023-10-13T10:06:43.007Z"
   },
   {
    "duration": 18,
    "start_time": "2023-10-13T10:07:18.061Z"
   },
   {
    "duration": 8,
    "start_time": "2023-10-13T10:07:26.376Z"
   },
   {
    "duration": 22,
    "start_time": "2023-10-13T10:07:55.403Z"
   },
   {
    "duration": 20,
    "start_time": "2023-10-13T10:10:50.677Z"
   },
   {
    "duration": 12,
    "start_time": "2023-10-13T10:11:04.441Z"
   },
   {
    "duration": 11,
    "start_time": "2023-10-13T10:11:05.389Z"
   },
   {
    "duration": 85,
    "start_time": "2023-10-13T10:11:09.008Z"
   },
   {
    "duration": 38,
    "start_time": "2023-10-13T10:11:12.968Z"
   },
   {
    "duration": 793,
    "start_time": "2023-10-13T10:11:16.523Z"
   },
   {
    "duration": 9,
    "start_time": "2023-10-13T10:11:32.953Z"
   },
   {
    "duration": 8,
    "start_time": "2023-10-13T10:11:33.896Z"
   },
   {
    "duration": 24,
    "start_time": "2023-10-13T10:11:34.765Z"
   },
   {
    "duration": 10,
    "start_time": "2023-10-13T10:11:36.293Z"
   },
   {
    "duration": 11,
    "start_time": "2023-10-13T10:11:36.948Z"
   },
   {
    "duration": 28,
    "start_time": "2023-10-13T10:11:48.488Z"
   },
   {
    "duration": 7,
    "start_time": "2023-10-13T10:11:49.275Z"
   },
   {
    "duration": 926,
    "start_time": "2023-10-13T10:11:54.553Z"
   },
   {
    "duration": 917,
    "start_time": "2023-10-13T10:12:55.980Z"
   },
   {
    "duration": 10,
    "start_time": "2023-10-13T10:15:36.801Z"
   },
   {
    "duration": 500,
    "start_time": "2023-10-13T10:15:37.600Z"
   },
   {
    "duration": 21,
    "start_time": "2023-10-13T10:15:40.131Z"
   },
   {
    "duration": 128,
    "start_time": "2023-10-13T10:18:05.480Z"
   },
   {
    "duration": 57,
    "start_time": "2023-10-13T10:18:10.624Z"
   },
   {
    "duration": 20,
    "start_time": "2023-10-13T10:18:12.041Z"
   },
   {
    "duration": 31,
    "start_time": "2023-10-13T10:19:23.521Z"
   },
   {
    "duration": 824,
    "start_time": "2023-10-13T10:19:26.676Z"
   },
   {
    "duration": 14,
    "start_time": "2023-10-13T10:19:28.093Z"
   },
   {
    "duration": 22,
    "start_time": "2023-10-13T10:19:30.980Z"
   },
   {
    "duration": 23,
    "start_time": "2023-10-13T10:19:35.666Z"
   },
   {
    "duration": 153,
    "start_time": "2023-10-13T10:19:36.318Z"
   },
   {
    "duration": 9,
    "start_time": "2023-10-13T10:19:37.940Z"
   },
   {
    "duration": 43,
    "start_time": "2023-10-13T10:19:40.350Z"
   },
   {
    "duration": 55,
    "start_time": "2023-10-13T10:19:42.651Z"
   },
   {
    "duration": 41,
    "start_time": "2023-10-13T10:19:43.952Z"
   },
   {
    "duration": 62,
    "start_time": "2023-10-13T10:19:45.905Z"
   },
   {
    "duration": 42,
    "start_time": "2023-10-13T10:19:48.226Z"
   },
   {
    "duration": 41,
    "start_time": "2023-10-13T10:19:50.130Z"
   },
   {
    "duration": 6,
    "start_time": "2023-10-13T10:19:54.350Z"
   },
   {
    "duration": 20,
    "start_time": "2023-10-13T10:19:56.072Z"
   },
   {
    "duration": 9,
    "start_time": "2023-10-13T10:19:59.376Z"
   },
   {
    "duration": 20,
    "start_time": "2023-10-13T10:20:01.601Z"
   },
   {
    "duration": 21,
    "start_time": "2023-10-13T10:20:04.203Z"
   },
   {
    "duration": 10,
    "start_time": "2023-10-13T10:20:06.435Z"
   },
   {
    "duration": 12,
    "start_time": "2023-10-13T10:20:07.267Z"
   },
   {
    "duration": 72,
    "start_time": "2023-10-13T10:20:10.283Z"
   },
   {
    "duration": 37,
    "start_time": "2023-10-13T10:20:17.024Z"
   },
   {
    "duration": 924,
    "start_time": "2023-10-13T10:20:19.558Z"
   },
   {
    "duration": 8,
    "start_time": "2023-10-13T10:20:23.522Z"
   },
   {
    "duration": 452,
    "start_time": "2023-10-13T10:20:24.395Z"
   },
   {
    "duration": 26,
    "start_time": "2023-10-13T10:20:28.192Z"
   },
   {
    "duration": 48,
    "start_time": "2023-10-13T10:20:34.339Z"
   },
   {
    "duration": 18,
    "start_time": "2023-10-13T10:20:36.798Z"
   },
   {
    "duration": 8,
    "start_time": "2023-10-13T10:21:04.072Z"
   },
   {
    "duration": 263,
    "start_time": "2023-10-13T10:32:24.186Z"
   },
   {
    "duration": 62,
    "start_time": "2023-10-13T10:32:33.590Z"
   },
   {
    "duration": 64,
    "start_time": "2023-10-13T10:41:50.188Z"
   },
   {
    "duration": 285,
    "start_time": "2023-10-13T10:45:23.561Z"
   },
   {
    "duration": 192,
    "start_time": "2023-10-13T10:45:47.455Z"
   },
   {
    "duration": 3498,
    "start_time": "2023-10-13T10:52:22.347Z"
   },
   {
    "duration": 7,
    "start_time": "2023-10-13T10:52:55.703Z"
   },
   {
    "duration": 17,
    "start_time": "2023-10-13T10:53:08.123Z"
   },
   {
    "duration": 4574,
    "start_time": "2023-10-13T10:53:27.074Z"
   },
   {
    "duration": 4,
    "start_time": "2023-10-13T12:24:24.343Z"
   },
   {
    "duration": 8,
    "start_time": "2023-10-13T12:24:31.204Z"
   },
   {
    "duration": 3,
    "start_time": "2023-10-13T12:26:55.929Z"
   },
   {
    "duration": 4,
    "start_time": "2023-10-13T12:27:22.552Z"
   },
   {
    "duration": 3,
    "start_time": "2023-10-13T12:27:26.750Z"
   },
   {
    "duration": 4,
    "start_time": "2023-10-13T12:27:35.099Z"
   },
   {
    "duration": 88,
    "start_time": "2023-10-13T12:28:06.110Z"
   },
   {
    "duration": 4,
    "start_time": "2023-10-13T12:28:11.817Z"
   },
   {
    "duration": 5,
    "start_time": "2023-10-13T12:29:44.263Z"
   },
   {
    "duration": 4,
    "start_time": "2023-10-13T12:30:52.750Z"
   },
   {
    "duration": 109,
    "start_time": "2023-10-13T12:35:40.250Z"
   },
   {
    "duration": 5,
    "start_time": "2023-10-13T12:35:48.734Z"
   },
   {
    "duration": 4,
    "start_time": "2023-10-13T12:37:05.315Z"
   },
   {
    "duration": 113,
    "start_time": "2023-10-13T12:47:33.428Z"
   },
   {
    "duration": 1073,
    "start_time": "2023-10-13T12:47:43.380Z"
   },
   {
    "duration": 594455,
    "start_time": "2023-10-13T12:47:55.291Z"
   },
   {
    "duration": 99,
    "start_time": "2023-10-13T15:52:05.639Z"
   },
   {
    "duration": 0,
    "start_time": "2023-10-13T15:52:05.740Z"
   },
   {
    "duration": 0,
    "start_time": "2023-10-13T15:52:05.741Z"
   },
   {
    "duration": 0,
    "start_time": "2023-10-13T15:52:05.743Z"
   },
   {
    "duration": 0,
    "start_time": "2023-10-13T15:52:05.744Z"
   },
   {
    "duration": 0,
    "start_time": "2023-10-13T15:52:05.745Z"
   },
   {
    "duration": 0,
    "start_time": "2023-10-13T15:52:05.746Z"
   },
   {
    "duration": 0,
    "start_time": "2023-10-13T15:52:05.747Z"
   },
   {
    "duration": 0,
    "start_time": "2023-10-13T15:52:05.747Z"
   },
   {
    "duration": 0,
    "start_time": "2023-10-13T15:52:05.748Z"
   },
   {
    "duration": 0,
    "start_time": "2023-10-13T15:52:05.749Z"
   },
   {
    "duration": 0,
    "start_time": "2023-10-13T15:52:05.749Z"
   },
   {
    "duration": 0,
    "start_time": "2023-10-13T15:52:05.750Z"
   },
   {
    "duration": 54,
    "start_time": "2023-10-13T15:52:05.756Z"
   },
   {
    "duration": 0,
    "start_time": "2023-10-13T15:52:05.811Z"
   },
   {
    "duration": 0,
    "start_time": "2023-10-13T15:52:05.813Z"
   },
   {
    "duration": 0,
    "start_time": "2023-10-13T15:52:05.813Z"
   },
   {
    "duration": 0,
    "start_time": "2023-10-13T15:52:05.815Z"
   },
   {
    "duration": 0,
    "start_time": "2023-10-13T15:52:05.816Z"
   },
   {
    "duration": 0,
    "start_time": "2023-10-13T15:52:05.844Z"
   },
   {
    "duration": 0,
    "start_time": "2023-10-13T15:52:05.848Z"
   },
   {
    "duration": 11,
    "start_time": "2023-10-13T15:52:05.849Z"
   },
   {
    "duration": 0,
    "start_time": "2023-10-13T15:52:05.862Z"
   },
   {
    "duration": 0,
    "start_time": "2023-10-13T15:52:05.864Z"
   },
   {
    "duration": 31,
    "start_time": "2023-10-13T15:52:05.867Z"
   },
   {
    "duration": 0,
    "start_time": "2023-10-13T15:52:05.900Z"
   },
   {
    "duration": 0,
    "start_time": "2023-10-13T15:52:05.902Z"
   },
   {
    "duration": 0,
    "start_time": "2023-10-13T15:52:05.904Z"
   },
   {
    "duration": 0,
    "start_time": "2023-10-13T15:52:05.906Z"
   },
   {
    "duration": 38,
    "start_time": "2023-10-13T15:52:05.909Z"
   },
   {
    "duration": 0,
    "start_time": "2023-10-13T15:52:05.954Z"
   },
   {
    "duration": 0,
    "start_time": "2023-10-13T15:52:05.954Z"
   },
   {
    "duration": 0,
    "start_time": "2023-10-13T15:52:05.956Z"
   },
   {
    "duration": 24,
    "start_time": "2023-10-13T15:52:05.968Z"
   },
   {
    "duration": 9,
    "start_time": "2023-10-13T15:52:06.265Z"
   },
   {
    "duration": 0,
    "start_time": "2023-10-13T15:52:06.276Z"
   },
   {
    "duration": 29,
    "start_time": "2023-10-13T15:52:06.292Z"
   },
   {
    "duration": 1487,
    "start_time": "2023-10-13T15:52:34.026Z"
   },
   {
    "duration": 915,
    "start_time": "2023-10-13T15:52:35.515Z"
   },
   {
    "duration": 30,
    "start_time": "2023-10-13T15:52:36.431Z"
   },
   {
    "duration": 58,
    "start_time": "2023-10-13T15:52:36.463Z"
   },
   {
    "duration": 69,
    "start_time": "2023-10-13T15:52:36.523Z"
   },
   {
    "duration": 167,
    "start_time": "2023-10-13T15:52:36.594Z"
   },
   {
    "duration": 8,
    "start_time": "2023-10-13T15:52:36.763Z"
   },
   {
    "duration": 42,
    "start_time": "2023-10-13T15:52:36.773Z"
   },
   {
    "duration": 64,
    "start_time": "2023-10-13T15:52:36.817Z"
   },
   {
    "duration": 41,
    "start_time": "2023-10-13T15:52:36.883Z"
   },
   {
    "duration": 80,
    "start_time": "2023-10-13T15:52:36.925Z"
   },
   {
    "duration": 56,
    "start_time": "2023-10-13T15:52:37.007Z"
   },
   {
    "duration": 51,
    "start_time": "2023-10-13T15:52:37.064Z"
   },
   {
    "duration": 7,
    "start_time": "2023-10-13T15:52:37.117Z"
   },
   {
    "duration": 30,
    "start_time": "2023-10-13T15:52:37.144Z"
   },
   {
    "duration": 9,
    "start_time": "2023-10-13T15:52:37.175Z"
   },
   {
    "duration": 20,
    "start_time": "2023-10-13T15:52:37.186Z"
   },
   {
    "duration": 42,
    "start_time": "2023-10-13T15:52:37.208Z"
   },
   {
    "duration": 12,
    "start_time": "2023-10-13T15:52:37.251Z"
   },
   {
    "duration": 14,
    "start_time": "2023-10-13T15:52:37.265Z"
   },
   {
    "duration": 91,
    "start_time": "2023-10-13T15:52:37.280Z"
   },
   {
    "duration": 34,
    "start_time": "2023-10-13T15:52:37.373Z"
   },
   {
    "duration": 900,
    "start_time": "2023-10-13T15:52:37.409Z"
   },
   {
    "duration": 8,
    "start_time": "2023-10-13T15:52:38.311Z"
   },
   {
    "duration": 490,
    "start_time": "2023-10-13T15:52:38.320Z"
   },
   {
    "duration": 44,
    "start_time": "2023-10-13T15:52:38.812Z"
   },
   {
    "duration": 139,
    "start_time": "2023-10-13T15:52:38.858Z"
   },
   {
    "duration": 20,
    "start_time": "2023-10-13T15:52:39.001Z"
   },
   {
    "duration": 39,
    "start_time": "2023-10-13T15:52:39.023Z"
   },
   {
    "duration": 32,
    "start_time": "2023-10-13T15:52:39.065Z"
   },
   {
    "duration": 159,
    "start_time": "2023-10-13T15:52:39.099Z"
   },
   {
    "duration": 99,
    "start_time": "2023-10-13T15:52:39.259Z"
   },
   {
    "duration": 1560,
    "start_time": "2023-10-13T16:40:59.476Z"
   },
   {
    "duration": 933,
    "start_time": "2023-10-13T16:41:01.039Z"
   },
   {
    "duration": 19,
    "start_time": "2023-10-13T16:41:01.974Z"
   },
   {
    "duration": 149,
    "start_time": "2023-10-13T16:41:01.996Z"
   },
   {
    "duration": 103,
    "start_time": "2023-10-13T16:41:02.150Z"
   },
   {
    "duration": 193,
    "start_time": "2023-10-13T16:41:02.258Z"
   },
   {
    "duration": 17,
    "start_time": "2023-10-13T16:41:02.458Z"
   },
   {
    "duration": 74,
    "start_time": "2023-10-13T16:41:02.478Z"
   },
   {
    "duration": 108,
    "start_time": "2023-10-13T16:41:02.556Z"
   },
   {
    "duration": 86,
    "start_time": "2023-10-13T16:41:02.666Z"
   },
   {
    "duration": 92,
    "start_time": "2023-10-13T16:41:02.761Z"
   },
   {
    "duration": 46,
    "start_time": "2023-10-13T16:41:02.856Z"
   },
   {
    "duration": 82,
    "start_time": "2023-10-13T16:41:02.904Z"
   },
   {
    "duration": 7,
    "start_time": "2023-10-13T16:41:02.988Z"
   },
   {
    "duration": 60,
    "start_time": "2023-10-13T16:41:02.996Z"
   },
   {
    "duration": 20,
    "start_time": "2023-10-13T16:41:03.063Z"
   },
   {
    "duration": 24,
    "start_time": "2023-10-13T16:41:03.086Z"
   },
   {
    "duration": 20,
    "start_time": "2023-10-13T16:41:03.112Z"
   },
   {
    "duration": 13,
    "start_time": "2023-10-13T16:41:03.133Z"
   },
   {
    "duration": 41,
    "start_time": "2023-10-13T16:41:03.147Z"
   },
   {
    "duration": 97,
    "start_time": "2023-10-13T16:41:03.190Z"
   },
   {
    "duration": 35,
    "start_time": "2023-10-13T16:41:03.292Z"
   },
   {
    "duration": 953,
    "start_time": "2023-10-13T16:41:03.329Z"
   },
   {
    "duration": 9,
    "start_time": "2023-10-13T16:41:04.284Z"
   },
   {
    "duration": 584,
    "start_time": "2023-10-13T16:41:04.296Z"
   },
   {
    "duration": 25,
    "start_time": "2023-10-13T16:41:04.882Z"
   },
   {
    "duration": 188,
    "start_time": "2023-10-13T16:41:04.909Z"
   },
   {
    "duration": 19,
    "start_time": "2023-10-13T16:41:05.102Z"
   },
   {
    "duration": 69,
    "start_time": "2023-10-13T16:41:05.122Z"
   },
   {
    "duration": 95,
    "start_time": "2023-10-13T16:41:05.193Z"
   },
   {
    "duration": 269,
    "start_time": "2023-10-13T16:41:05.290Z"
   },
   {
    "duration": 12,
    "start_time": "2023-10-13T16:41:05.563Z"
   },
   {
    "duration": 1499,
    "start_time": "2023-10-13T16:42:03.598Z"
   },
   {
    "duration": 1005,
    "start_time": "2023-10-13T16:42:05.099Z"
   },
   {
    "duration": 18,
    "start_time": "2023-10-13T16:42:06.106Z"
   },
   {
    "duration": 100,
    "start_time": "2023-10-13T16:42:06.126Z"
   },
   {
    "duration": 47,
    "start_time": "2023-10-13T16:42:06.228Z"
   },
   {
    "duration": 196,
    "start_time": "2023-10-13T16:42:06.276Z"
   },
   {
    "duration": 10,
    "start_time": "2023-10-13T16:42:06.474Z"
   },
   {
    "duration": 39,
    "start_time": "2023-10-13T16:42:06.485Z"
   },
   {
    "duration": 72,
    "start_time": "2023-10-13T16:42:06.526Z"
   },
   {
    "duration": 86,
    "start_time": "2023-10-13T16:42:06.602Z"
   },
   {
    "duration": 69,
    "start_time": "2023-10-13T16:42:06.690Z"
   },
   {
    "duration": 38,
    "start_time": "2023-10-13T16:42:06.760Z"
   },
   {
    "duration": 70,
    "start_time": "2023-10-13T16:42:06.800Z"
   },
   {
    "duration": 7,
    "start_time": "2023-10-13T16:42:06.872Z"
   },
   {
    "duration": 53,
    "start_time": "2023-10-13T16:42:06.882Z"
   },
   {
    "duration": 19,
    "start_time": "2023-10-13T16:42:06.937Z"
   },
   {
    "duration": 37,
    "start_time": "2023-10-13T16:42:06.959Z"
   },
   {
    "duration": 21,
    "start_time": "2023-10-13T16:42:06.998Z"
   },
   {
    "duration": 41,
    "start_time": "2023-10-13T16:42:07.021Z"
   },
   {
    "duration": 29,
    "start_time": "2023-10-13T16:42:07.064Z"
   },
   {
    "duration": 91,
    "start_time": "2023-10-13T16:42:07.095Z"
   },
   {
    "duration": 49,
    "start_time": "2023-10-13T16:42:07.187Z"
   },
   {
    "duration": 1020,
    "start_time": "2023-10-13T16:42:07.238Z"
   },
   {
    "duration": 8,
    "start_time": "2023-10-13T16:42:08.260Z"
   },
   {
    "duration": 510,
    "start_time": "2023-10-13T16:42:08.270Z"
   },
   {
    "duration": 24,
    "start_time": "2023-10-13T16:42:08.782Z"
   },
   {
    "duration": 149,
    "start_time": "2023-10-13T16:42:08.808Z"
   },
   {
    "duration": 29,
    "start_time": "2023-10-13T16:42:08.966Z"
   },
   {
    "duration": 28,
    "start_time": "2023-10-13T16:42:08.997Z"
   },
   {
    "duration": 38,
    "start_time": "2023-10-13T16:42:09.027Z"
   },
   {
    "duration": 94,
    "start_time": "2023-10-13T16:42:09.067Z"
   },
   {
    "duration": 88,
    "start_time": "2023-10-13T16:42:09.163Z"
   },
   {
    "duration": 82,
    "start_time": "2023-10-13T17:54:06.848Z"
   },
   {
    "duration": 1540,
    "start_time": "2023-10-14T10:51:14.791Z"
   },
   {
    "duration": 1309,
    "start_time": "2023-10-14T10:51:19.259Z"
   },
   {
    "duration": 21,
    "start_time": "2023-10-14T10:51:21.021Z"
   },
   {
    "duration": 54,
    "start_time": "2023-10-14T10:51:24.739Z"
   },
   {
    "duration": 37,
    "start_time": "2023-10-14T10:51:28.389Z"
   },
   {
    "duration": 157,
    "start_time": "2023-10-14T10:51:29.199Z"
   },
   {
    "duration": 14,
    "start_time": "2023-10-14T10:51:32.139Z"
   },
   {
    "duration": 55,
    "start_time": "2023-10-14T10:51:33.030Z"
   },
   {
    "duration": 39,
    "start_time": "2023-10-14T10:51:34.262Z"
   },
   {
    "duration": 48,
    "start_time": "2023-10-14T10:51:36.227Z"
   },
   {
    "duration": 64,
    "start_time": "2023-10-14T10:51:37.171Z"
   },
   {
    "duration": 39,
    "start_time": "2023-10-14T10:51:39.359Z"
   },
   {
    "duration": 33,
    "start_time": "2023-10-14T10:51:40.128Z"
   },
   {
    "duration": 1567,
    "start_time": "2023-10-14T10:58:49.004Z"
   },
   {
    "duration": 912,
    "start_time": "2023-10-14T10:58:50.573Z"
   },
   {
    "duration": 17,
    "start_time": "2023-10-14T10:58:51.486Z"
   },
   {
    "duration": 66,
    "start_time": "2023-10-14T10:58:51.506Z"
   },
   {
    "duration": 30,
    "start_time": "2023-10-14T10:58:51.574Z"
   },
   {
    "duration": 173,
    "start_time": "2023-10-14T10:58:51.606Z"
   },
   {
    "duration": 8,
    "start_time": "2023-10-14T10:58:51.781Z"
   },
   {
    "duration": 48,
    "start_time": "2023-10-14T10:58:51.791Z"
   },
   {
    "duration": 75,
    "start_time": "2023-10-14T10:58:51.841Z"
   },
   {
    "duration": 64,
    "start_time": "2023-10-14T10:58:51.918Z"
   },
   {
    "duration": 75,
    "start_time": "2023-10-14T10:58:51.983Z"
   },
   {
    "duration": 40,
    "start_time": "2023-10-14T10:58:52.060Z"
   },
   {
    "duration": 22,
    "start_time": "2023-10-14T10:58:52.101Z"
   },
   {
    "duration": 38,
    "start_time": "2023-10-14T10:58:52.125Z"
   },
   {
    "duration": 40,
    "start_time": "2023-10-14T10:58:52.165Z"
   },
   {
    "duration": 10,
    "start_time": "2023-10-14T10:58:52.207Z"
   },
   {
    "duration": 30,
    "start_time": "2023-10-14T10:58:52.219Z"
   },
   {
    "duration": 22,
    "start_time": "2023-10-14T10:58:52.251Z"
   },
   {
    "duration": 11,
    "start_time": "2023-10-14T10:58:52.275Z"
   },
   {
    "duration": 12,
    "start_time": "2023-10-14T10:58:52.288Z"
   },
   {
    "duration": 96,
    "start_time": "2023-10-14T10:58:52.301Z"
   },
   {
    "duration": 58,
    "start_time": "2023-10-14T10:58:52.399Z"
   },
   {
    "duration": 914,
    "start_time": "2023-10-14T10:58:52.459Z"
   },
   {
    "duration": 9,
    "start_time": "2023-10-14T10:58:53.375Z"
   },
   {
    "duration": 545,
    "start_time": "2023-10-14T10:58:53.385Z"
   },
   {
    "duration": 30,
    "start_time": "2023-10-14T10:58:53.931Z"
   },
   {
    "duration": 135,
    "start_time": "2023-10-14T10:58:53.963Z"
   },
   {
    "duration": 16,
    "start_time": "2023-10-14T10:58:54.101Z"
   },
   {
    "duration": 27,
    "start_time": "2023-10-14T10:58:54.118Z"
   },
   {
    "duration": 27,
    "start_time": "2023-10-14T10:58:54.148Z"
   },
   {
    "duration": 144,
    "start_time": "2023-10-14T10:58:54.178Z"
   },
   {
    "duration": 0,
    "start_time": "2023-10-14T10:58:54.324Z"
   },
   {
    "duration": 0,
    "start_time": "2023-10-14T10:58:54.326Z"
   },
   {
    "duration": 0,
    "start_time": "2023-10-14T10:58:54.327Z"
   },
   {
    "duration": 0,
    "start_time": "2023-10-14T10:58:54.329Z"
   },
   {
    "duration": 0,
    "start_time": "2023-10-14T10:58:54.330Z"
   },
   {
    "duration": 0,
    "start_time": "2023-10-14T10:58:54.331Z"
   },
   {
    "duration": 0,
    "start_time": "2023-10-14T10:58:54.347Z"
   },
   {
    "duration": 188,
    "start_time": "2023-10-14T11:04:12.895Z"
   },
   {
    "duration": 704374,
    "start_time": "2023-10-14T11:05:24.175Z"
   },
   {
    "duration": 75,
    "start_time": "2023-10-14T11:17:17.975Z"
   },
   {
    "duration": 581,
    "start_time": "2023-10-14T11:17:19.396Z"
   },
   {
    "duration": 919300,
    "start_time": "2023-10-14T11:20:23.022Z"
   },
   {
    "duration": 1451,
    "start_time": "2023-10-14T17:53:15.108Z"
   },
   {
    "duration": 1176,
    "start_time": "2023-10-14T17:53:16.561Z"
   },
   {
    "duration": 17,
    "start_time": "2023-10-14T17:53:17.739Z"
   },
   {
    "duration": 63,
    "start_time": "2023-10-14T17:53:17.758Z"
   },
   {
    "duration": 37,
    "start_time": "2023-10-14T17:53:17.823Z"
   },
   {
    "duration": 150,
    "start_time": "2023-10-14T17:53:17.861Z"
   },
   {
    "duration": 8,
    "start_time": "2023-10-14T17:53:18.013Z"
   },
   {
    "duration": 63,
    "start_time": "2023-10-14T17:53:18.023Z"
   },
   {
    "duration": 46,
    "start_time": "2023-10-14T17:53:18.088Z"
   },
   {
    "duration": 51,
    "start_time": "2023-10-14T17:53:18.136Z"
   },
   {
    "duration": 66,
    "start_time": "2023-10-14T17:53:18.189Z"
   },
   {
    "duration": 41,
    "start_time": "2023-10-14T17:53:18.257Z"
   },
   {
    "duration": 32,
    "start_time": "2023-10-14T17:53:18.300Z"
   },
   {
    "duration": 14,
    "start_time": "2023-10-14T17:53:18.333Z"
   },
   {
    "duration": 35,
    "start_time": "2023-10-14T17:53:18.348Z"
   },
   {
    "duration": 7,
    "start_time": "2023-10-14T17:53:18.385Z"
   },
   {
    "duration": 33,
    "start_time": "2023-10-14T17:53:18.394Z"
   },
   {
    "duration": 30,
    "start_time": "2023-10-14T17:53:18.429Z"
   },
   {
    "duration": 11,
    "start_time": "2023-10-14T17:53:18.460Z"
   },
   {
    "duration": 17,
    "start_time": "2023-10-14T17:53:18.472Z"
   },
   {
    "duration": 82,
    "start_time": "2023-10-14T17:53:18.490Z"
   },
   {
    "duration": 37,
    "start_time": "2023-10-14T17:53:18.574Z"
   },
   {
    "duration": 930,
    "start_time": "2023-10-14T17:53:18.612Z"
   },
   {
    "duration": 8,
    "start_time": "2023-10-14T17:53:19.543Z"
   },
   {
    "duration": 446,
    "start_time": "2023-10-14T17:53:19.553Z"
   },
   {
    "duration": 24,
    "start_time": "2023-10-14T17:53:20.001Z"
   },
   {
    "duration": 145,
    "start_time": "2023-10-14T17:53:20.027Z"
   },
   {
    "duration": 16,
    "start_time": "2023-10-14T17:53:20.175Z"
   },
   {
    "duration": 13,
    "start_time": "2023-10-14T17:53:20.192Z"
   },
   {
    "duration": 34,
    "start_time": "2023-10-14T17:53:20.207Z"
   },
   {
    "duration": 303,
    "start_time": "2023-10-14T17:53:20.243Z"
   },
   {
    "duration": 0,
    "start_time": "2023-10-14T17:53:20.548Z"
   },
   {
    "duration": 0,
    "start_time": "2023-10-14T17:53:20.550Z"
   },
   {
    "duration": 0,
    "start_time": "2023-10-14T17:53:20.551Z"
   },
   {
    "duration": 0,
    "start_time": "2023-10-14T17:53:20.552Z"
   },
   {
    "duration": 0,
    "start_time": "2023-10-14T17:53:20.553Z"
   },
   {
    "duration": 1422,
    "start_time": "2023-10-14T17:54:07.216Z"
   },
   {
    "duration": 839,
    "start_time": "2023-10-14T17:54:08.640Z"
   },
   {
    "duration": 17,
    "start_time": "2023-10-14T17:54:09.481Z"
   },
   {
    "duration": 69,
    "start_time": "2023-10-14T17:54:09.500Z"
   },
   {
    "duration": 34,
    "start_time": "2023-10-14T17:54:09.571Z"
   },
   {
    "duration": 158,
    "start_time": "2023-10-14T17:54:09.607Z"
   },
   {
    "duration": 9,
    "start_time": "2023-10-14T17:54:09.766Z"
   },
   {
    "duration": 37,
    "start_time": "2023-10-14T17:54:09.776Z"
   },
   {
    "duration": 52,
    "start_time": "2023-10-14T17:54:09.815Z"
   },
   {
    "duration": 38,
    "start_time": "2023-10-14T17:54:09.870Z"
   },
   {
    "duration": 72,
    "start_time": "2023-10-14T17:54:09.909Z"
   },
   {
    "duration": 39,
    "start_time": "2023-10-14T17:54:09.983Z"
   },
   {
    "duration": 59,
    "start_time": "2023-10-14T17:54:10.024Z"
   },
   {
    "duration": 32,
    "start_time": "2023-10-14T17:54:10.085Z"
   },
   {
    "duration": 48,
    "start_time": "2023-10-14T17:54:10.119Z"
   },
   {
    "duration": 8,
    "start_time": "2023-10-14T17:54:10.168Z"
   },
   {
    "duration": 22,
    "start_time": "2023-10-14T17:54:10.177Z"
   },
   {
    "duration": 18,
    "start_time": "2023-10-14T17:54:10.202Z"
   },
   {
    "duration": 29,
    "start_time": "2023-10-14T17:54:10.222Z"
   },
   {
    "duration": 15,
    "start_time": "2023-10-14T17:54:10.253Z"
   },
   {
    "duration": 81,
    "start_time": "2023-10-14T17:54:10.270Z"
   },
   {
    "duration": 48,
    "start_time": "2023-10-14T17:54:10.353Z"
   },
   {
    "duration": 840,
    "start_time": "2023-10-14T17:54:10.403Z"
   },
   {
    "duration": 8,
    "start_time": "2023-10-14T17:54:11.245Z"
   },
   {
    "duration": 422,
    "start_time": "2023-10-14T17:54:11.254Z"
   },
   {
    "duration": 23,
    "start_time": "2023-10-14T17:54:11.678Z"
   },
   {
    "duration": 134,
    "start_time": "2023-10-14T17:54:11.702Z"
   },
   {
    "duration": 15,
    "start_time": "2023-10-14T17:54:11.844Z"
   },
   {
    "duration": 12,
    "start_time": "2023-10-14T17:54:11.861Z"
   },
   {
    "duration": 24,
    "start_time": "2023-10-14T17:54:11.874Z"
   },
   {
    "duration": 55,
    "start_time": "2023-10-14T17:54:11.900Z"
   },
   {
    "duration": 36809,
    "start_time": "2023-10-14T17:54:12.045Z"
   },
   {
    "duration": 873191,
    "start_time": "2023-10-14T17:54:48.856Z"
   },
   {
    "duration": 297,
    "start_time": "2023-10-14T18:09:22.049Z"
   },
   {
    "duration": 611,
    "start_time": "2023-10-14T18:09:22.349Z"
   },
   {
    "duration": 46,
    "start_time": "2023-10-15T11:56:50.665Z"
   },
   {
    "duration": 3,
    "start_time": "2023-10-15T12:07:33.928Z"
   },
   {
    "duration": 1335,
    "start_time": "2023-11-25T16:40:53.564Z"
   },
   {
    "duration": 1121,
    "start_time": "2023-11-25T16:40:55.781Z"
   },
   {
    "duration": 24,
    "start_time": "2023-11-25T16:40:56.904Z"
   },
   {
    "duration": 60,
    "start_time": "2023-11-25T16:40:58.916Z"
   },
   {
    "duration": 37,
    "start_time": "2023-11-25T16:41:00.385Z"
   },
   {
    "duration": 168,
    "start_time": "2023-11-25T16:41:01.675Z"
   },
   {
    "duration": 8,
    "start_time": "2023-11-25T16:41:02.595Z"
   },
   {
    "duration": 38,
    "start_time": "2023-11-25T16:41:03.746Z"
   },
   {
    "duration": 46,
    "start_time": "2023-11-25T16:41:04.509Z"
   },
   {
    "duration": 42,
    "start_time": "2023-11-25T16:41:05.716Z"
   },
   {
    "duration": 63,
    "start_time": "2023-11-25T16:41:06.966Z"
   },
   {
    "duration": 36,
    "start_time": "2023-11-25T16:41:07.846Z"
   },
   {
    "duration": 33,
    "start_time": "2023-11-25T16:41:09.595Z"
   },
   {
    "duration": 6,
    "start_time": "2023-11-25T16:41:21.805Z"
   },
   {
    "duration": 42,
    "start_time": "2023-11-25T16:41:22.582Z"
   },
   {
    "duration": 8,
    "start_time": "2023-11-25T16:41:27.125Z"
   },
   {
    "duration": 20,
    "start_time": "2023-11-25T16:41:27.795Z"
   },
   {
    "duration": 18,
    "start_time": "2023-11-25T16:41:31.733Z"
   },
   {
    "duration": 10,
    "start_time": "2023-11-25T16:41:34.725Z"
   },
   {
    "duration": 11,
    "start_time": "2023-11-25T16:41:35.645Z"
   },
   {
    "duration": 71,
    "start_time": "2023-11-25T16:41:37.316Z"
   },
   {
    "duration": 34,
    "start_time": "2023-11-25T16:41:39.075Z"
   },
   {
    "duration": 886,
    "start_time": "2023-11-25T16:41:40.286Z"
   },
   {
    "duration": 8,
    "start_time": "2023-11-25T16:41:46.660Z"
   },
   {
    "duration": 442,
    "start_time": "2023-11-25T16:41:47.165Z"
   },
   {
    "duration": 23,
    "start_time": "2023-11-25T16:41:50.856Z"
   },
   {
    "duration": 63,
    "start_time": "2023-11-25T16:41:51.766Z"
   },
   {
    "duration": 16,
    "start_time": "2023-11-25T16:41:55.353Z"
   },
   {
    "duration": 5,
    "start_time": "2023-11-25T16:42:02.036Z"
   },
   {
    "duration": 2,
    "start_time": "2023-11-25T16:42:24.503Z"
   },
   {
    "duration": 590761,
    "start_time": "2023-11-25T16:42:25.561Z"
   },
   {
    "duration": 856047,
    "start_time": "2023-11-25T16:52:16.328Z"
   },
   {
    "duration": 549,
    "start_time": "2023-11-25T17:06:32.377Z"
   },
   {
    "duration": 47,
    "start_time": "2023-11-25T17:12:00.104Z"
   },
   {
    "duration": 1385,
    "start_time": "2023-11-25T17:12:08.338Z"
   },
   {
    "duration": 1116,
    "start_time": "2023-11-25T17:12:11.528Z"
   },
   {
    "duration": 19,
    "start_time": "2023-11-25T17:12:12.646Z"
   },
   {
    "duration": 55,
    "start_time": "2023-11-25T17:12:18.153Z"
   },
   {
    "duration": 35,
    "start_time": "2023-11-25T17:12:19.339Z"
   },
   {
    "duration": 147,
    "start_time": "2023-11-25T17:12:20.339Z"
   },
   {
    "duration": 9,
    "start_time": "2023-11-25T17:12:21.528Z"
   },
   {
    "duration": 38,
    "start_time": "2023-11-25T17:12:22.133Z"
   },
   {
    "duration": 39,
    "start_time": "2023-11-25T17:12:23.258Z"
   },
   {
    "duration": 38,
    "start_time": "2023-11-25T17:12:24.279Z"
   },
   {
    "duration": 59,
    "start_time": "2023-11-25T17:12:25.688Z"
   },
   {
    "duration": 38,
    "start_time": "2023-11-25T17:12:26.658Z"
   },
   {
    "duration": 22,
    "start_time": "2023-11-25T17:12:27.288Z"
   },
   {
    "duration": 5,
    "start_time": "2023-11-25T17:12:28.584Z"
   },
   {
    "duration": 37,
    "start_time": "2023-11-25T17:12:29.528Z"
   },
   {
    "duration": 8,
    "start_time": "2023-11-25T17:12:30.258Z"
   },
   {
    "duration": 19,
    "start_time": "2023-11-25T17:12:31.428Z"
   },
   {
    "duration": 18,
    "start_time": "2023-11-25T17:12:32.128Z"
   },
   {
    "duration": 11,
    "start_time": "2023-11-25T17:12:33.248Z"
   },
   {
    "duration": 12,
    "start_time": "2023-11-25T17:12:33.768Z"
   },
   {
    "duration": 67,
    "start_time": "2023-11-25T17:12:35.939Z"
   },
   {
    "duration": 35,
    "start_time": "2023-11-25T17:12:37.618Z"
   },
   {
    "duration": 874,
    "start_time": "2023-11-25T17:12:38.909Z"
   },
   {
    "duration": 7,
    "start_time": "2023-11-25T17:12:42.539Z"
   },
   {
    "duration": 429,
    "start_time": "2023-11-25T17:12:43.088Z"
   },
   {
    "duration": 24,
    "start_time": "2023-11-25T17:12:44.029Z"
   },
   {
    "duration": 58,
    "start_time": "2023-11-25T17:12:45.288Z"
   },
   {
    "duration": 15,
    "start_time": "2023-11-25T17:12:46.339Z"
   },
   {
    "duration": 4,
    "start_time": "2023-11-25T17:12:47.943Z"
   },
   {
    "duration": 843687,
    "start_time": "2023-11-25T17:12:55.459Z"
   }
  ],
  "kernelspec": {
   "display_name": "Python 3 (ipykernel)",
   "language": "python",
   "name": "python3"
  },
  "language_info": {
   "codemirror_mode": {
    "name": "ipython",
    "version": 3
   },
   "file_extension": ".py",
   "mimetype": "text/x-python",
   "name": "python",
   "nbconvert_exporter": "python",
   "pygments_lexer": "ipython3",
   "version": "3.9.5"
  },
  "toc": {
   "base_numbering": 1,
   "nav_menu": {},
   "number_sections": true,
   "sideBar": true,
   "skip_h1_title": true,
   "title_cell": "Table of Contents",
   "title_sidebar": "Contents",
   "toc_cell": false,
   "toc_position": {},
   "toc_section_display": true,
   "toc_window_display": false
  }
 },
 "nbformat": 4,
 "nbformat_minor": 2
}
